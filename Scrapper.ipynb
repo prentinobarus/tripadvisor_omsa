{
 "cells": [
  {
   "cell_type": "code",
   "execution_count": 1,
   "metadata": {
    "ExecuteTime": {
     "end_time": "2023-05-24T01:25:37.429094Z",
     "start_time": "2023-05-24T01:25:29.292171Z"
    },
    "colab": {
     "base_uri": "https://localhost:8080/"
    },
    "executionInfo": {
     "elapsed": 21074,
     "status": "ok",
     "timestamp": 1683074904984,
     "user": {
      "displayName": "Prentino Barus",
      "userId": "03956176104375021641"
     },
     "user_tz": -420
    },
    "id": "HF5KEFLikY5J",
    "outputId": "96859593-c037-4c33-d42d-e3d94620004d",
    "scrolled": true,
    "tags": []
   },
   "outputs": [
    {
     "name": "stdout",
     "output_type": "stream",
     "text": [
      "Requirement already satisfied: beautifulsoup4 in c:\\users\\tinob\\anaconda3\\envs\\tf_env\\lib\\site-packages (4.12.2)\n",
      "Requirement already satisfied: soupsieve>1.2 in c:\\users\\tinob\\anaconda3\\envs\\tf_env\\lib\\site-packages (from beautifulsoup4) (2.4.1)\n",
      "Requirement already satisfied: lxml in c:\\users\\tinob\\anaconda3\\envs\\tf_env\\lib\\site-packages (4.9.2)\n",
      "Requirement already satisfied: requests in c:\\users\\tinob\\anaconda3\\envs\\tf_env\\lib\\site-packages (2.30.0)\n",
      "Requirement already satisfied: charset-normalizer<4,>=2 in c:\\users\\tinob\\anaconda3\\envs\\tf_env\\lib\\site-packages (from requests) (3.1.0)\n",
      "Requirement already satisfied: idna<4,>=2.5 in c:\\users\\tinob\\anaconda3\\envs\\tf_env\\lib\\site-packages (from requests) (3.4)\n",
      "Requirement already satisfied: urllib3<3,>=1.21.1 in c:\\users\\tinob\\anaconda3\\envs\\tf_env\\lib\\site-packages (from requests) (2.0.2)\n",
      "Requirement already satisfied: certifi>=2017.4.17 in c:\\users\\tinob\\anaconda3\\envs\\tf_env\\lib\\site-packages (from requests) (2022.12.7)\n"
     ]
    }
   ],
   "source": [
    "!pip install beautifulsoup4\n",
    "!pip install lxml\n",
    "!pip install requests"
   ]
  },
  {
   "cell_type": "code",
   "execution_count": 7,
   "metadata": {
    "ExecuteTime": {
     "end_time": "2023-05-24T17:06:57.707580Z",
     "start_time": "2023-05-24T17:06:57.692853Z"
    },
    "executionInfo": {
     "elapsed": 1114,
     "status": "ok",
     "timestamp": 1683074906091,
     "user": {
      "displayName": "Prentino Barus",
      "userId": "03956176104375021641"
     },
     "user_tz": -420
    },
    "id": "p_Uym38LlEtc",
    "tags": []
   },
   "outputs": [],
   "source": [
    "from bs4 import BeautifulSoup\n",
    "import requests\n",
    "import logging\n",
    "import http.client\n",
    "http.client.HTTPConnection.debuglevel = 1\n",
    "import pandas as pd\n",
    "import time\n",
    "import re\n",
    "import os"
   ]
  },
  {
   "cell_type": "code",
   "execution_count": null,
   "metadata": {
    "colab": {
     "background_save": true
    },
    "id": "FdENIizjb-TV"
   },
   "outputs": [
    {
     "name": "stdout",
     "output_type": "stream",
     "text": [
      "Mounted at /content/drive\n"
     ]
    }
   ],
   "source": [
    "# 2.1. Mount Google Drive and default dataset path\n",
    "from google.colab import drive\n",
    "drive.mount('/content/drive')\n",
    "\n",
    "path = '/content/drive/MyDrive/Python/Dataset/'"
   ]
  },
  {
   "cell_type": "code",
   "execution_count": 2,
   "metadata": {
    "ExecuteTime": {
     "end_time": "2023-05-24T16:46:45.647583Z",
     "start_time": "2023-05-24T16:46:41.081554Z"
    },
    "id": "pHfGE1c4GQc1",
    "tags": []
   },
   "outputs": [
    {
     "name": "stdout",
     "output_type": "stream",
     "text": [
      "<class 'pandas.core.frame.DataFrame'>\n",
      "RangeIndex: 49 entries, 0 to 48\n",
      "Data columns (total 4 columns):\n",
      " #   Column        Non-Null Count  Dtype \n",
      "---  ------        --------------  ----- \n",
      " 0   hotel         49 non-null     object\n",
      " 1   hotel_link    49 non-null     object\n",
      " 2   review_count  49 non-null     int64 \n",
      " 3   hotel_name    49 non-null     object\n",
      "dtypes: int64(1), object(3)\n",
      "memory usage: 1.7+ KB\n"
     ]
    }
   ],
   "source": [
    "# List of Hotel's URL\n",
    "list_hotel = pd.read_excel('fix_hotel.xlsx', sheet_name='Sheet1')\n",
    "list_hotel.info()"
   ]
  },
  {
   "cell_type": "code",
   "execution_count": 3,
   "metadata": {
    "ExecuteTime": {
     "end_time": "2023-05-24T16:46:45.679591Z",
     "start_time": "2023-05-24T16:46:45.656163Z"
    },
    "id": "Cobs6LkqsajP",
    "tags": []
   },
   "outputs": [],
   "source": [
    "logging.basicConfig()\n",
    "logging.getLogger().setLevel(logging.DEBUG)\n",
    "requests_log = logging.getLogger(\"requests.packages.urllib3\")\n",
    "requests_log.setLevel(logging.DEBUG)\n",
    "requests_log.propagate = True"
   ]
  },
  {
   "cell_type": "code",
   "execution_count": 18,
   "metadata": {
    "ExecuteTime": {
     "end_time": "2023-05-24T17:53:29.132613Z",
     "start_time": "2023-05-24T17:53:14.096027Z"
    },
    "colab": {
     "base_uri": "https://localhost:8080/"
    },
    "executionInfo": {
     "elapsed": 820969,
     "status": "ok",
     "timestamp": 1682988686775,
     "user": {
      "displayName": "Prentino Barus",
      "userId": "03956176104375021641"
     },
     "user_tz": -420
    },
    "id": "DZJwf3R5wQxs",
    "outputId": "18bd06bf-5d97-40d6-c933-250f589fab16",
    "scrolled": false,
    "tags": []
   },
   "outputs": [
    {
     "name": "stdout",
     "output_type": "stream",
     "text": [
      "\n",
      " \n",
      "\n"
     ]
    }
   ],
   "source": [
    "def hotelScraper():\n",
    "    for hotel in list_hotel.index:\n",
    "        hotel_name = list_hotel['hotel'][hotel]\n",
    "        hotel_url = list_hotel['hotel_link'][hotel]\n",
    "        filename = list_hotel['hotel_name'][hotel]\n",
    "        filepath = 'Dataset_1/' + filename + '.csv'\n",
    "\n",
    "        if os.path.exists(filepath):\n",
    "            continue\n",
    "\n",
    "\n",
    "        print(f\"Start Scrapping: {hotel_name}\")\n",
    "\n",
    "        gathered_review = []\n",
    "        headers = {\"User-Agent\": \"Mozilla/5.0 (X11; CrOS x86_64 12871.102.0) AppleWebKit/537.36 (KHTML, like Gecko) Chrome/81.0.4044.141 Safari/537.36\"}\n",
    "        pages = 60\n",
    "        pages = (pages * 5) + 5\n",
    "        for i in range(5, pages, 5):\n",
    "            new_url = re.sub('or5', 'or'+str(i), str(hotel_url))\n",
    "            url = requests.get(new_url, headers=headers)\n",
    "\n",
    "            soup = BeautifulSoup(url.text, 'lxml')\n",
    "            reviews = soup.find_all('div', class_= 'YibKl MC R2 Gi z Z BB pBbQr')\n",
    "\n",
    "            if reviews:\n",
    "                hotelScraper()\n",
    "\n",
    "            for review in reviews:\n",
    "                user_text = review.find('span', class_= 'QewHA H4 _a').text\n",
    "                user_rating = review.find('span', class_= 'ui_bubble_rating')['class'][1][7]\n",
    "                gathered_review.append([hotel_name, user_text, user_rating])\n",
    "\n",
    "            cpages = int(i/5)\n",
    "            print(f\"Done Scrapping {hotel_name} page {cpages}\")\n",
    "            print('\\n')\n",
    "            time.sleep(3)\n",
    "\n",
    "            # Make csv file\n",
    "            df = pd.DataFrame(gathered_review, columns=['hotel', 'review', 'stars'])\n",
    "            df.to_csv('Dataset_1/'+filename+'.csv')\n",
    "\n",
    "          # Copy scrapped file to Dataset Directory\n",
    "          #currentPath = f'/content/{hotel_name}.csv'\n",
    "          #!shutil.move(currentPath, '/content/drive/MyDrive/Python/Dataset')\n",
    "          #!yes | cp -i /content/*.csv /content/drive/MyDrive/Python/Dataset\n",
    "\n",
    "print('\\n \\n')\n",
    "time.sleep(15)\n"
   ]
  },
  {
   "cell_type": "code",
   "execution_count": 19,
   "metadata": {
    "ExecuteTime": {
     "end_time": "2023-05-24T17:56:33.886207Z",
     "start_time": "2023-05-24T17:53:33.103398Z"
    }
   },
   "outputs": [
    {
     "name": "stderr",
     "output_type": "stream",
     "text": [
      "DEBUG:urllib3.connectionpool:Starting new HTTPS connection (1): www.tripadvisor.co.id:443\n"
     ]
    },
    {
     "name": "stdout",
     "output_type": "stream",
     "text": [
      "Start Scrapping: Grand Sinar Indah Hotel\n",
      "send: b'GET /Hotel_Review-g608487-d614386-Reviews-or5-Grand_Sinar_Indah_Hotel-Legian_Kuta_District_Bali.html HTTP/1.1\\r\\nHost: www.tripadvisor.co.id\\r\\nUser-Agent: Mozilla/5.0 (X11; CrOS x86_64 12871.102.0) AppleWebKit/537.36 (KHTML, like Gecko) Chrome/81.0.4044.141 Safari/537.36\\r\\nAccept-Encoding: gzip, deflate\\r\\nAccept: */*\\r\\nConnection: keep-alive\\r\\n\\r\\n'\n"
     ]
    },
    {
     "name": "stderr",
     "output_type": "stream",
     "text": [
      "DEBUG:urllib3.connectionpool:https://www.tripadvisor.co.id:443 \"GET /Hotel_Review-g608487-d614386-Reviews-or5-Grand_Sinar_Indah_Hotel-Legian_Kuta_District_Bali.html HTTP/1.1\" 200 None\n"
     ]
    },
    {
     "name": "stdout",
     "output_type": "stream",
     "text": [
      "reply: 'HTTP/1.1 200 OK\\r\\n'\n",
      "header: Server: envoy\n",
      "header: Link: <https://media-cdn.tripadvisor.com/media/>;rel=\"preconnect\";crossorigin\n",
      "header: Link: <https://media-cdn.tripadvisor.com/media/>;rel=\"dns-prefetch\"\n",
      "header: p3p: CP=\"NOI CURa ADMa DEVa TAIa OUR BUS IND UNI COM NAV INT DSP COR CAO PSA IDC ADM DEVi TAIi PSD IVAi IVDi CONi HIS CNT\"\n",
      "header: Pragma: no-cache\n",
      "header: Cache-Control: no-cache, no-store, must-revalidate\n",
      "header: Expires: 0\n",
      "header: Content-Language: id\n",
      "header: Link: <https://static.tacdn.com>;rel=\"dns-prefetch\"\n",
      "header: Link: <https://static.tacdn.com>;rel=\"preconnect\";crossorigin\n",
      "header: timing-allow-origin: https://www.tripadvisor.com\n",
      "header: Vary: Accept-Encoding\n",
      "header: Content-Type: text/html;charset=UTF-8\n",
      "header: Accept-CH: Sec-CH-UA,Sec-CH-UA-Mobile,Sec-CH-UA-Platform,Sec-CH-UA-Arch,Sec-CH-UA-Full-Version-List,Sec-CH-UA-Model,Sec-CH-Device-Memory\n",
      "header: x-datadome: protected\n",
      "header: Content-Encoding: gzip\n",
      "header: x-request-id: c6d8256f-3673-42f8-840d-d08e976deabb\n",
      "header: Date: Wed, 24 May 2023 17:53:35 GMT\n",
      "header: Transfer-Encoding: chunked\n",
      "header: Connection: keep-alive\n",
      "header: Connection: Transfer-Encoding\n",
      "header: Set-Cookie: TADCID=Dr76yL8bx6PXbRV1ABQCXdElnkGETRW-Svh01l3nWnW7Hu4Mo0JisdJCKwip3s_cO2u3cjgvSv4B3QC3rCicj0RPoaPDDBZfkeo; Domain=www.tripadvisor.co.id; Expires=Sat, 21-May-2033 17:53:34 GMT; Path=/; Secure; HttpOnly\n",
      "header: Set-Cookie: TAUnique=%1%enc%3AUZ9NL1tzVB6CNtgs%2BCN3NnGfQMMEYPnqpk5kzRZ56zQB74PRtfN64Q%3D%3D; Domain=.tripadvisor.co.id; Expires=Fri, 23-May-2025 17:53:34 GMT; Path=/; HttpOnly\n",
      "header: Set-Cookie: TASSK=enc%3AALveZmCf0Ce6IIrd9BQarE%2F%2BfTpwtSeFPaGiPZFA%2BTYoN2Yi321cd7Y%2BJw%2FRM%2FGQsFD%2Bu3yAxyjH1yeFPR6M1qTzdRj3MrVuYGzQiIUPSy6OLDpTtfuZCAUB1qt19%2B1yog%3D%3D; Domain=www.tripadvisor.co.id; Expires=Mon, 20-Nov-2023 17:53:35 GMT; Path=/; HttpOnly\n",
      "header: Set-Cookie: TASession=V2ID.216CCACAB6D64F7FB224C803165719B8*SQ.1*HS.recommended*ES.popularity*DS.5*SAS.popularity*FPS.oldFirst*LF.in*FA.1*DF.0*TRA.true*LD.614386; Domain=.tripadvisor.co.id; Path=/\n",
      "header: Set-Cookie: ServerPool=A; Domain=.tripadvisor.co.id; Path=/\n",
      "header: Set-Cookie: PMC=V2*MS.3*MD.20230524*LD.20230524; Domain=www.tripadvisor.co.id; Expires=Fri, 23-May-2025 17:53:35 GMT; Path=/; Secure; HttpOnly\n",
      "header: Set-Cookie: TART=%1%enc%3AgjbYLPgjdzaxS15%2BRWc46lITe2LO%2BfYibdmIL%2B6gnD1Y2VB7sUk6YlFcu1Sfp8BIFnzIMIcqGVA%3D; Domain=www.tripadvisor.co.id; Expires=Mon, 29-May-2023 17:53:35 GMT; Path=/; HttpOnly\n",
      "header: Set-Cookie: CM=%1%PremiumMobSess%2C%2C-1%7Ct4b-pc%2C%2C-1%7CRestAds%2FRPers%2C%2C-1%7CRCPers%2C%2C-1%7CWShadeSeen%2C%2C-1%7CTheForkMCCPers%2C%2C-1%7CHomeASess%2C%2C-1%7CPremiumMCSess%2C%2C-1%7CCrisisSess%2C%2C-1%7CUVOwnersSess%2C%2C-1%7CRestPremRSess%2C%2C-1%7CRepTarMCSess%2C%2C-1%7CCCSess%2C%2C-1%7CCYLSess%2C%2C-1%7CPremRetPers%2C%2C-1%7CViatorMCPers%2C%2C-1%7Csesssticker%2C%2C-1%7C%24%2C%2C-1%7CPremiumORSess%2C%2C-1%7Ct4b-sc%2C%2C-1%7CRestAdsPers%2C%2C-1%7CMC_IB_UPSELL_IB_LOGOS2%2C%2C-1%7CTSMCPers%2C%2C-1%7Cb2bmcpers%2C%2C-1%7CPremMCBtmSess%2C%2C-1%7CMC_IB_UPSELL_IB_LOGOS%2C%2C-1%7CLaFourchette+Banners%2C%2C-1%7Csess_rev%2C%2C-1%7Csessamex%2C%2C-1%7CPremiumRRSess%2C%2C-1%7CTADORSess%2C%2C-1%7CAdsRetPers%2C%2C-1%7CListMCSess%2C%2C-1%7CTARSWBPers%2C%2C-1%7CSPMCSess%2C%2C-1%7CTheForkORSess%2C%2C-1%7CTheForkRRSess%2C%2C-1%7Cpers_rev%2C%2C-1%7CRBAPers%2C%2C-1%7CRestAds%2FRSess%2C%2C-1%7CHomeAPers%2C%2C-1%7CPremiumMobPers%2C%2C-1%7CRCSess%2C%2C-1%7CLaFourchette+MC+Banners%2C%2C-1%7CRestAdsCCSess%2C%2C-1%7CRestPremRPers%2C%2C-1%7CRevHubRMPers%2C%2C-1%7CUVOwnersPers%2C%2C-1%7Cpssamex%2C%2C-1%7CTheForkMCCSess%2C%2C-1%7CCrisisPers%2C%2C-1%7CCYLPers%2C%2C-1%7CCCPers%2C%2C-1%7CRepTarMCPers%2C%2C-1%7Cb2bmcsess%2C%2C-1%7CTSMCSess%2C%2C-1%7CSPMCPers%2C%2C-1%7CRevHubRMSess%2C%2C-1%7CPremRetSess%2C%2C-1%7CViatorMCSess%2C%2C-1%7CPremiumMCPers%2C%2C-1%7CAdsRetSess%2C%2C-1%7CPremiumRRPers%2C%2C-1%7CRestAdsCCPers%2C%2C-1%7CTADORPers%2C%2C-1%7CTheForkORPers%2C%2C-1%7CPremMCBtmPers%2C%2C-1%7CTheForkRRPers%2C%2C-1%7CTARSWBSess%2C%2C-1%7CPremiumORPers%2C%2C-1%7CRestAdsSess%2C%2C-1%7CRBASess%2C%2C-1%7CSPORPers%2C%2C-1%7Cperssticker%2C%2C-1%7CListMCPers%2C%2C-1%7C; Domain=.tripadvisor.co.id; Expires=Sat, 21-May-2033 17:53:35 GMT; Path=/\n",
      "header: Set-Cookie: BEPIN=%1%1884ee50fcd%3Bweb303a.a.tripadvisor.com%3A30023%3B; Domain=.tripadvisor.co.id; Path=/\n",
      "header: Set-Cookie: PAC=APKfFSJHCL1bJfGPGOzPSaezed2t6xzosumeZ22SFgMvi11st-rUests1vdWf90dEeZSUcDZXcj4Kp_x2WnvKLnd01eccYk7pbBdTC2OgQKBcWsS2xbTXatkDDD22fxgml87FrUM152DCtzs0IAt8XrWVxbi1mljgM_sartT7gfRmbdcuqXA7WivQXg91qwvwU5BCy0VF4174A1tqgbYY6je62TZiv21ExLETOIVklRo; Domain=www.tripadvisor.co.id; Expires=Fri, 23-May-2025 17:53:35 GMT; Path=/; Secure; HttpOnly\n",
      "header: Set-Cookie: SRT=TART_SYNC; Domain=www.tripadvisor.co.id; Expires=Wed, 24-May-2023 18:23:35 GMT; Path=/\n",
      "header: Set-Cookie: TATravelInfo=V2*AY.2023*AM.6*AD.4*DY.2023*DM.6*DD.5*A.2*MG.-1*HP.2*FL.3*DSM.1684950814785*RS.1; Domain=.tripadvisor.co.id; Expires=Wed, 07-Jun-2023 17:53:35 GMT; Path=/\n",
      "header: Set-Cookie: TAUD=LG-1684950814651-2.1.F.*RDD-2-2023_05_25*HDD-3-2023_06_04.2023_06_05.1; Domain=.tripadvisor.co.id; Expires=Wed, 07-Jun-2023 17:53:35 GMT; Path=/\n",
      "header: Set-Cookie: TASID=216CCACAB6D64F7FB224C803165719B8; Domain=www.tripadvisor.co.id; Expires=Wed, 24-May-2023 18:23:35 GMT; Path=/; Secure\n",
      "header: Set-Cookie: TAReturnTo=%1%%2FHotel_Review-g608487-d614386-Reviews-or5-Grand_Sinar_Indah_Hotel-Legian_Kuta_District_Bali.html; Domain=.tripadvisor.co.id; Path=/\n",
      "header: Set-Cookie: datadome=1xcwFS40~s7Wau94M0_-UMujbuEDP4h8P0YCkz2TDkujLaVp14H-S6ZxLJqgu2YVitblDajrY6qwcTEtHKeTDGYlPS8nrsdvn-X4C_b2CTwR~214RjsIjCj95IAcGtzR; Max-Age=31104000; Domain=.tripadvisor.co.id; Path=/; Secure; SameSite=Lax\n",
      "Done Scrapping Grand Sinar Indah Hotel page 1\n",
      "\n",
      "\n"
     ]
    },
    {
     "name": "stderr",
     "output_type": "stream",
     "text": [
      "DEBUG:urllib3.connectionpool:Starting new HTTPS connection (1): www.tripadvisor.co.id:443\n"
     ]
    },
    {
     "name": "stdout",
     "output_type": "stream",
     "text": [
      "send: b'GET /Hotel_Review-g608487-d614386-Reviews-or10-Grand_Sinar_Indah_Hotel-Legian_Kuta_District_Bali.html HTTP/1.1\\r\\nHost: www.tripadvisor.co.id\\r\\nUser-Agent: Mozilla/5.0 (X11; CrOS x86_64 12871.102.0) AppleWebKit/537.36 (KHTML, like Gecko) Chrome/81.0.4044.141 Safari/537.36\\r\\nAccept-Encoding: gzip, deflate\\r\\nAccept: */*\\r\\nConnection: keep-alive\\r\\n\\r\\n'\n"
     ]
    },
    {
     "name": "stderr",
     "output_type": "stream",
     "text": [
      "DEBUG:urllib3.connectionpool:https://www.tripadvisor.co.id:443 \"GET /Hotel_Review-g608487-d614386-Reviews-or10-Grand_Sinar_Indah_Hotel-Legian_Kuta_District_Bali.html HTTP/1.1\" 200 None\n"
     ]
    },
    {
     "name": "stdout",
     "output_type": "stream",
     "text": [
      "reply: 'HTTP/1.1 200 OK\\r\\n'\n",
      "header: Server: envoy\n",
      "header: Link: <https://media-cdn.tripadvisor.com/media/>;rel=\"preconnect\";crossorigin\n",
      "header: Link: <https://media-cdn.tripadvisor.com/media/>;rel=\"dns-prefetch\"\n",
      "header: p3p: CP=\"NOI CURa ADMa DEVa TAIa OUR BUS IND UNI COM NAV INT DSP COR CAO PSA IDC ADM DEVi TAIi PSD IVAi IVDi CONi HIS CNT\"\n",
      "header: Pragma: no-cache\n",
      "header: Cache-Control: no-cache, no-store, must-revalidate\n",
      "header: Expires: 0\n",
      "header: Content-Language: id\n",
      "header: Link: <https://static.tacdn.com>;rel=\"dns-prefetch\"\n",
      "header: Link: <https://static.tacdn.com>;rel=\"preconnect\";crossorigin\n",
      "header: timing-allow-origin: https://www.tripadvisor.com\n",
      "header: Vary: Accept-Encoding\n",
      "header: Content-Type: text/html;charset=UTF-8\n",
      "header: Accept-CH: Sec-CH-UA,Sec-CH-UA-Mobile,Sec-CH-UA-Platform,Sec-CH-UA-Arch,Sec-CH-UA-Full-Version-List,Sec-CH-UA-Model,Sec-CH-Device-Memory\n",
      "header: x-datadome: protected\n",
      "header: Content-Encoding: gzip\n",
      "header: x-request-id: a4d9b792-3c96-4fe0-9823-c950ac8b1227\n",
      "header: Date: Wed, 24 May 2023 17:53:40 GMT\n",
      "header: Transfer-Encoding: chunked\n",
      "header: Connection: keep-alive\n",
      "header: Connection: Transfer-Encoding\n",
      "header: Set-Cookie: TADCID=HdPpLuSshgioZLgWABQCXdElnkGETRW-Svh01l3nWnW7Ht_7_O1xHyzPgYhygj7TiMxhOKfUkgaLBqjLUStRrPxvdfZncs8TScg; Domain=www.tripadvisor.co.id; Expires=Sat, 21-May-2033 17:53:39 GMT; Path=/; Secure; HttpOnly\n",
      "header: Set-Cookie: TAUnique=%1%enc%3AMnayjp6dKiKCNtgs%2BCN3NnGfQMMEYPnqLBlIA2t68aB0In0SCViLqw%3D%3D; Domain=.tripadvisor.co.id; Expires=Fri, 23-May-2025 17:53:39 GMT; Path=/; HttpOnly\n",
      "header: Set-Cookie: TASSK=enc%3AABnnFcluStGtRtpd6jLeX5YO479As4MqbZOOEIpCkLSicBL%2FJy5jdT8EDdtx1PKm%2FDPoBw4CSVBysYU%2FlHldH%2B9VbRStz1PwpS76wJTImQtpFXvVHcIrKxQcjll7LsSAxg%3D%3D; Domain=www.tripadvisor.co.id; Expires=Mon, 20-Nov-2023 17:53:40 GMT; Path=/; HttpOnly\n",
      "header: Set-Cookie: TASession=V2ID.B285E30CF19D4A678CF702872E7250D4*SQ.1*HS.recommended*ES.popularity*DS.5*SAS.popularity*FPS.oldFirst*LF.in*FA.1*DF.0*TRA.true*LD.614386; Domain=.tripadvisor.co.id; Path=/\n",
      "header: Set-Cookie: ServerPool=C; Domain=.tripadvisor.co.id; Path=/\n",
      "header: Set-Cookie: PMC=V2*MS.29*MD.20230524*LD.20230524; Domain=www.tripadvisor.co.id; Expires=Fri, 23-May-2025 17:53:40 GMT; Path=/; Secure; HttpOnly\n",
      "header: Set-Cookie: TART=%1%enc%3AgjbYLPgjdzaxS15%2BRWc46u%2BhBGvjsBw1Aobi%2FYNH3XRiiZ835q4oRHetRdmoj3Bm8gkExENpAKk%3D; Domain=www.tripadvisor.co.id; Expires=Mon, 29-May-2023 17:53:40 GMT; Path=/; HttpOnly\n",
      "header: Set-Cookie: CM=%1%PremiumMobSess%2C%2C-1%7Ct4b-pc%2C%2C-1%7CRestAds%2FRPers%2C%2C-1%7CRCPers%2C%2C-1%7CWShadeSeen%2C%2C-1%7CTheForkMCCPers%2C%2C-1%7CHomeASess%2C%2C-1%7CPremiumMCSess%2C%2C-1%7CCrisisSess%2C%2C-1%7CUVOwnersSess%2C%2C-1%7CRestPremRSess%2C%2C-1%7CRepTarMCSess%2C%2C-1%7CCCSess%2C%2C-1%7CCYLSess%2C%2C-1%7CPremRetPers%2C%2C-1%7CViatorMCPers%2C%2C-1%7Csesssticker%2C%2C-1%7C%24%2C%2C-1%7CPremiumORSess%2C%2C-1%7Ct4b-sc%2C%2C-1%7CRestAdsPers%2C%2C-1%7CMC_IB_UPSELL_IB_LOGOS2%2C%2C-1%7CTSMCPers%2C%2C-1%7Cb2bmcpers%2C%2C-1%7CPremMCBtmSess%2C%2C-1%7CMC_IB_UPSELL_IB_LOGOS%2C%2C-1%7CLaFourchette+Banners%2C%2C-1%7Csess_rev%2C%2C-1%7Csessamex%2C%2C-1%7CPremiumRRSess%2C%2C-1%7CTADORSess%2C%2C-1%7CAdsRetPers%2C%2C-1%7CListMCSess%2C%2C-1%7CTARSWBPers%2C%2C-1%7CSPMCSess%2C%2C-1%7CTheForkORSess%2C%2C-1%7CTheForkRRSess%2C%2C-1%7Cpers_rev%2C%2C-1%7CRBAPers%2C%2C-1%7CRestAds%2FRSess%2C%2C-1%7CHomeAPers%2C%2C-1%7CPremiumMobPers%2C%2C-1%7CRCSess%2C%2C-1%7CLaFourchette+MC+Banners%2C%2C-1%7CRestAdsCCSess%2C%2C-1%7CRestPremRPers%2C%2C-1%7CRevHubRMPers%2C%2C-1%7CUVOwnersPers%2C%2C-1%7Cpssamex%2C%2C-1%7CTheForkMCCSess%2C%2C-1%7CCrisisPers%2C%2C-1%7CCYLPers%2C%2C-1%7CCCPers%2C%2C-1%7CRepTarMCPers%2C%2C-1%7Cb2bmcsess%2C%2C-1%7CTSMCSess%2C%2C-1%7CSPMCPers%2C%2C-1%7CRevHubRMSess%2C%2C-1%7CPremRetSess%2C%2C-1%7CViatorMCSess%2C%2C-1%7CPremiumMCPers%2C%2C-1%7CAdsRetSess%2C%2C-1%7CPremiumRRPers%2C%2C-1%7CRestAdsCCPers%2C%2C-1%7CTADORPers%2C%2C-1%7CTheForkORPers%2C%2C-1%7CPremMCBtmPers%2C%2C-1%7CTheForkRRPers%2C%2C-1%7CTARSWBSess%2C%2C-1%7CPremiumORPers%2C%2C-1%7CRestAdsSess%2C%2C-1%7CRBASess%2C%2C-1%7CSPORPers%2C%2C-1%7Cperssticker%2C%2C-1%7CListMCPers%2C%2C-1%7C; Domain=.tripadvisor.co.id; Expires=Sat, 21-May-2033 17:53:40 GMT; Path=/\n",
      "header: Set-Cookie: BEPIN=%1%1884ee52323%3Bweb771a.a.tripadvisor.com%3A30023%3B; Domain=.tripadvisor.co.id; Path=/\n",
      "header: Set-Cookie: PAC=ALP2hEQPr8FOuKES1MJHurQfwWrhYErp7sH3EggyScMqNeR0xnR0qLYER-2ISvo3OXNAoCY_jI-DlbVeTaaQbOli1Xvmm3J6vc27NXMUgeULfPuYbszzbAUZ3zUhZQMDNxKvHIVjpUZTRkbrTXRTxyA7qBS7bJiNYeqgWXV3AX-RNTc2-28dW5T3zP0elEJ6Uwa6QNonrafoqtvN7p64p1lWBD2Q5d93nfcXyoyEzfBN; Domain=www.tripadvisor.co.id; Expires=Fri, 23-May-2025 17:53:40 GMT; Path=/; Secure; HttpOnly\n",
      "header: Set-Cookie: SRT=TART_SYNC; Domain=www.tripadvisor.co.id; Expires=Wed, 24-May-2023 18:23:40 GMT; Path=/\n",
      "header: Set-Cookie: TATravelInfo=V2*AY.2023*AM.6*AD.4*DY.2023*DM.6*DD.5*A.2*MG.-1*HP.2*FL.3*DSM.1684950819752*RS.1; Domain=.tripadvisor.co.id; Expires=Wed, 07-Jun-2023 17:53:40 GMT; Path=/\n",
      "header: Set-Cookie: TAUD=LG-1684950819582-2.1.F.*RDD-2-2023_05_25*HDD-3-2023_06_04.2023_06_05.1; Domain=.tripadvisor.co.id; Expires=Wed, 07-Jun-2023 17:53:40 GMT; Path=/\n",
      "header: Set-Cookie: TASID=B285E30CF19D4A678CF702872E7250D4; Domain=www.tripadvisor.co.id; Expires=Wed, 24-May-2023 18:23:40 GMT; Path=/; Secure\n",
      "header: Set-Cookie: TAReturnTo=%1%%2FHotel_Review-g608487-d614386-Reviews-or10-Grand_Sinar_Indah_Hotel-Legian_Kuta_District_Bali.html; Domain=.tripadvisor.co.id; Path=/\n",
      "header: Set-Cookie: datadome=7URPge69UQ_TKcgjzp8_wZ3NLjpYFQfffNvOWIkc-1rH30G8ouzoQZ6wNFfr56Ll5Cq8eSHBspSQaO5FO87QpTLncffNph1kH21UMqNjn22C2gQFP8dTLY0V5pd-mJdp; Max-Age=31104000; Domain=.tripadvisor.co.id; Path=/; Secure; SameSite=Lax\n",
      "Done Scrapping Grand Sinar Indah Hotel page 2\n",
      "\n",
      "\n"
     ]
    },
    {
     "name": "stderr",
     "output_type": "stream",
     "text": [
      "DEBUG:urllib3.connectionpool:Starting new HTTPS connection (1): www.tripadvisor.co.id:443\n"
     ]
    },
    {
     "name": "stdout",
     "output_type": "stream",
     "text": [
      "send: b'GET /Hotel_Review-g608487-d614386-Reviews-or15-Grand_Sinar_Indah_Hotel-Legian_Kuta_District_Bali.html HTTP/1.1\\r\\nHost: www.tripadvisor.co.id\\r\\nUser-Agent: Mozilla/5.0 (X11; CrOS x86_64 12871.102.0) AppleWebKit/537.36 (KHTML, like Gecko) Chrome/81.0.4044.141 Safari/537.36\\r\\nAccept-Encoding: gzip, deflate\\r\\nAccept: */*\\r\\nConnection: keep-alive\\r\\n\\r\\n'\n"
     ]
    },
    {
     "name": "stderr",
     "output_type": "stream",
     "text": [
      "DEBUG:urllib3.connectionpool:https://www.tripadvisor.co.id:443 \"GET /Hotel_Review-g608487-d614386-Reviews-or15-Grand_Sinar_Indah_Hotel-Legian_Kuta_District_Bali.html HTTP/1.1\" 200 None\n"
     ]
    },
    {
     "name": "stdout",
     "output_type": "stream",
     "text": [
      "reply: 'HTTP/1.1 200 OK\\r\\n'\n",
      "header: Server: envoy\n",
      "header: Link: <https://media-cdn.tripadvisor.com/media/>;rel=\"preconnect\";crossorigin\n",
      "header: Link: <https://media-cdn.tripadvisor.com/media/>;rel=\"dns-prefetch\"\n",
      "header: p3p: CP=\"NOI CURa ADMa DEVa TAIa OUR BUS IND UNI COM NAV INT DSP COR CAO PSA IDC ADM DEVi TAIi PSD IVAi IVDi CONi HIS CNT\"\n",
      "header: Pragma: no-cache\n",
      "header: Cache-Control: no-cache, no-store, must-revalidate\n",
      "header: Expires: 0\n",
      "header: Content-Language: id\n",
      "header: Link: <https://static.tacdn.com>;rel=\"dns-prefetch\"\n",
      "header: Link: <https://static.tacdn.com>;rel=\"preconnect\";crossorigin\n",
      "header: timing-allow-origin: https://www.tripadvisor.com\n",
      "header: Vary: Accept-Encoding\n",
      "header: Content-Type: text/html;charset=UTF-8\n",
      "header: Accept-CH: Sec-CH-UA,Sec-CH-UA-Mobile,Sec-CH-UA-Platform,Sec-CH-UA-Arch,Sec-CH-UA-Full-Version-List,Sec-CH-UA-Model,Sec-CH-Device-Memory\n",
      "header: x-datadome: protected\n",
      "header: Content-Encoding: gzip\n",
      "header: x-request-id: f1d68e54-141e-4a71-8880-f378cbfde3d3\n",
      "header: Date: Wed, 24 May 2023 17:53:45 GMT\n",
      "header: Transfer-Encoding: chunked\n",
      "header: Connection: keep-alive\n",
      "header: Connection: Transfer-Encoding\n",
      "header: Set-Cookie: TADCID=LIz3FG_hOjaqYAPoABQCXdElnkGETRW-Svh01l3nWnW7HiuRw_ZM7HOTTDDIoVKgIF0G7O4VaEZhqDlctODxKhVp_-6VWUhR4H4; Domain=www.tripadvisor.co.id; Expires=Sat, 21-May-2033 17:53:44 GMT; Path=/; Secure; HttpOnly\n",
      "header: Set-Cookie: TAUnique=%1%enc%3ARoEvufq82iuCNtgs%2BCN3NnGfQMMEYPnqlnJ30vDKAcNBNHUZQ1Irew%3D%3D; Domain=.tripadvisor.co.id; Expires=Fri, 23-May-2025 17:53:44 GMT; Path=/; HttpOnly\n",
      "header: Set-Cookie: TASSK=enc%3AAFOpfZ14Ok1U2cI7DWZyUw6CdfUfcWGTPJkXR%2BiuG5WzaNoOcYIWTVTNpiHNo3VJzBhHyXPBqFO38JGMBwgxqfUAnMRW4fCWrq3Vy9S720lOJfC02%2Fwv50GP0jeoC%2B9J7w%3D%3D; Domain=www.tripadvisor.co.id; Expires=Mon, 20-Nov-2023 17:53:45 GMT; Path=/; HttpOnly\n",
      "header: Set-Cookie: TASession=V2ID.D0675A7CE3364376A05765117D433629*SQ.1*HS.recommended*ES.popularity*DS.5*SAS.popularity*FPS.oldFirst*LF.in*FA.1*DF.0*TRA.true*LD.614386; Domain=.tripadvisor.co.id; Path=/\n",
      "header: Set-Cookie: ServerPool=A; Domain=.tripadvisor.co.id; Path=/\n",
      "header: Set-Cookie: PMC=V2*MS.10*MD.20230524*LD.20230524; Domain=www.tripadvisor.co.id; Expires=Fri, 23-May-2025 17:53:45 GMT; Path=/; Secure; HttpOnly\n",
      "header: Set-Cookie: TART=%1%enc%3AgjbYLPgjdzaxS15%2BRWc46qUvLb1ReopfF5B9M9q8MWpWJJxUf%2BgQuSKV7rkGh%2FsdTuBdojLtwds%3D; Domain=www.tripadvisor.co.id; Expires=Mon, 29-May-2023 17:53:45 GMT; Path=/; HttpOnly\n",
      "header: Set-Cookie: CM=%1%PremiumMobSess%2C%2C-1%7Ct4b-pc%2C%2C-1%7CRestAds%2FRPers%2C%2C-1%7CRCPers%2C%2C-1%7CWShadeSeen%2C%2C-1%7CTheForkMCCPers%2C%2C-1%7CHomeASess%2C%2C-1%7CPremiumMCSess%2C%2C-1%7CCrisisSess%2C%2C-1%7CUVOwnersSess%2C%2C-1%7CRestPremRSess%2C%2C-1%7CRepTarMCSess%2C%2C-1%7CCCSess%2C%2C-1%7CCYLSess%2C%2C-1%7CPremRetPers%2C%2C-1%7CViatorMCPers%2C%2C-1%7Csesssticker%2C%2C-1%7C%24%2C%2C-1%7CPremiumORSess%2C%2C-1%7Ct4b-sc%2C%2C-1%7CRestAdsPers%2C%2C-1%7CMC_IB_UPSELL_IB_LOGOS2%2C%2C-1%7CTSMCPers%2C%2C-1%7Cb2bmcpers%2C%2C-1%7CPremMCBtmSess%2C%2C-1%7CMC_IB_UPSELL_IB_LOGOS%2C%2C-1%7CLaFourchette+Banners%2C%2C-1%7Csess_rev%2C%2C-1%7Csessamex%2C%2C-1%7CPremiumRRSess%2C%2C-1%7CTADORSess%2C%2C-1%7CAdsRetPers%2C%2C-1%7CListMCSess%2C%2C-1%7CTARSWBPers%2C%2C-1%7CSPMCSess%2C%2C-1%7CTheForkORSess%2C%2C-1%7CTheForkRRSess%2C%2C-1%7Cpers_rev%2C%2C-1%7CRBAPers%2C%2C-1%7CRestAds%2FRSess%2C%2C-1%7CHomeAPers%2C%2C-1%7CPremiumMobPers%2C%2C-1%7CRCSess%2C%2C-1%7CLaFourchette+MC+Banners%2C%2C-1%7CRestAdsCCSess%2C%2C-1%7CRestPremRPers%2C%2C-1%7CRevHubRMPers%2C%2C-1%7CUVOwnersPers%2C%2C-1%7Cpssamex%2C%2C-1%7CTheForkMCCSess%2C%2C-1%7CCrisisPers%2C%2C-1%7CCYLPers%2C%2C-1%7CCCPers%2C%2C-1%7CRepTarMCPers%2C%2C-1%7Cb2bmcsess%2C%2C-1%7CTSMCSess%2C%2C-1%7CSPMCPers%2C%2C-1%7CRevHubRMSess%2C%2C-1%7CPremRetSess%2C%2C-1%7CViatorMCSess%2C%2C-1%7CPremiumMCPers%2C%2C-1%7CAdsRetSess%2C%2C-1%7CPremiumRRPers%2C%2C-1%7CRestAdsCCPers%2C%2C-1%7CTADORPers%2C%2C-1%7CTheForkORPers%2C%2C-1%7CPremMCBtmPers%2C%2C-1%7CTheForkRRPers%2C%2C-1%7CTARSWBSess%2C%2C-1%7CPremiumORPers%2C%2C-1%7CRestAdsSess%2C%2C-1%7CRBASess%2C%2C-1%7CSPORPers%2C%2C-1%7Cperssticker%2C%2C-1%7CListMCPers%2C%2C-1%7C; Domain=.tripadvisor.co.id; Expires=Sat, 21-May-2033 17:53:45 GMT; Path=/\n",
      "header: Set-Cookie: BEPIN=%1%1884ee536e0%3Bweb197a.a.tripadvisor.com%3A30023%3B; Domain=.tripadvisor.co.id; Path=/\n",
      "header: Set-Cookie: PAC=ANfdSjGLW4hmrocHl_5sKBAPzVbxnWf3HfL4Goy3ziCDD9g_FmthsKJS28gGM6T_7xj0Amn1wSwPi4HsqfJUwe4d_PUIWxGFjAfAXVMBI3Tuqs3Zm0Vgbh4zVRKeqYmnPfdim2lFRspI1FDzVp8I22S78jK6uuooMeTmKxdNWXpYdeo9ftiJmWw17qCsUH4MUQ03DFRPmxh-ewdzRjWCLzzLuw7pkUDNbDuyh_tLM8Nr; Domain=www.tripadvisor.co.id; Expires=Fri, 23-May-2025 17:53:45 GMT; Path=/; Secure; HttpOnly\n",
      "header: Set-Cookie: SRT=TART_SYNC; Domain=www.tripadvisor.co.id; Expires=Wed, 24-May-2023 18:23:45 GMT; Path=/\n",
      "header: Set-Cookie: TATravelInfo=V2*AY.2023*AM.6*AD.4*DY.2023*DM.6*DD.5*A.2*MG.-1*HP.2*FL.3*DSM.1684950824803*RS.1; Domain=.tripadvisor.co.id; Expires=Wed, 07-Jun-2023 17:53:45 GMT; Path=/\n",
      "header: Set-Cookie: TAUD=LG-1684950824654-2.1.F.*RDD-2-2023_05_25*HDD-3-2023_06_04.2023_06_05.1; Domain=.tripadvisor.co.id; Expires=Wed, 07-Jun-2023 17:53:45 GMT; Path=/\n",
      "header: Set-Cookie: TASID=D0675A7CE3364376A05765117D433629; Domain=www.tripadvisor.co.id; Expires=Wed, 24-May-2023 18:23:45 GMT; Path=/; Secure\n",
      "header: Set-Cookie: TAReturnTo=%1%%2FHotel_Review-g608487-d614386-Reviews-or15-Grand_Sinar_Indah_Hotel-Legian_Kuta_District_Bali.html; Domain=.tripadvisor.co.id; Path=/\n",
      "header: Set-Cookie: datadome=0LeLSa6xwLoMinhg3ccIyI2ZD6~UTjU-9ta9pD-CPAFqRJhJKht8ArvIH_Dnck_NAcLJF~qRNX7Iu3eojdfk7tjkXJYciOehlrSIAoFjNyQZlH~GbHQv3~ROOHrP_nsP; Max-Age=31104000; Domain=.tripadvisor.co.id; Path=/; Secure; SameSite=Lax\n",
      "Done Scrapping Grand Sinar Indah Hotel page 3\n",
      "\n",
      "\n"
     ]
    },
    {
     "name": "stderr",
     "output_type": "stream",
     "text": [
      "DEBUG:urllib3.connectionpool:Starting new HTTPS connection (1): www.tripadvisor.co.id:443\n"
     ]
    },
    {
     "name": "stdout",
     "output_type": "stream",
     "text": [
      "send: b'GET /Hotel_Review-g608487-d614386-Reviews-or20-Grand_Sinar_Indah_Hotel-Legian_Kuta_District_Bali.html HTTP/1.1\\r\\nHost: www.tripadvisor.co.id\\r\\nUser-Agent: Mozilla/5.0 (X11; CrOS x86_64 12871.102.0) AppleWebKit/537.36 (KHTML, like Gecko) Chrome/81.0.4044.141 Safari/537.36\\r\\nAccept-Encoding: gzip, deflate\\r\\nAccept: */*\\r\\nConnection: keep-alive\\r\\n\\r\\n'\n"
     ]
    },
    {
     "name": "stderr",
     "output_type": "stream",
     "text": [
      "DEBUG:urllib3.connectionpool:https://www.tripadvisor.co.id:443 \"GET /Hotel_Review-g608487-d614386-Reviews-or20-Grand_Sinar_Indah_Hotel-Legian_Kuta_District_Bali.html HTTP/1.1\" 200 None\n"
     ]
    },
    {
     "name": "stdout",
     "output_type": "stream",
     "text": [
      "reply: 'HTTP/1.1 200 OK\\r\\n'\n",
      "header: Server: envoy\n",
      "header: Link: <https://media-cdn.tripadvisor.com/media/>;rel=\"preconnect\";crossorigin\n",
      "header: Link: <https://media-cdn.tripadvisor.com/media/>;rel=\"dns-prefetch\"\n",
      "header: p3p: CP=\"NOI CURa ADMa DEVa TAIa OUR BUS IND UNI COM NAV INT DSP COR CAO PSA IDC ADM DEVi TAIi PSD IVAi IVDi CONi HIS CNT\"\n",
      "header: Pragma: no-cache\n",
      "header: Cache-Control: no-cache, no-store, must-revalidate\n",
      "header: Expires: 0\n",
      "header: Content-Language: id\n",
      "header: Link: <https://static.tacdn.com>;rel=\"dns-prefetch\"\n",
      "header: Link: <https://static.tacdn.com>;rel=\"preconnect\";crossorigin\n",
      "header: timing-allow-origin: https://www.tripadvisor.com\n",
      "header: Vary: Accept-Encoding\n",
      "header: Content-Type: text/html;charset=UTF-8\n",
      "header: x-datadome: protected\n",
      "header: Accept-CH: Sec-CH-UA,Sec-CH-UA-Mobile,Sec-CH-UA-Platform,Sec-CH-UA-Arch,Sec-CH-UA-Full-Version-List,Sec-CH-UA-Model,Sec-CH-Device-Memory\n",
      "header: Content-Encoding: gzip\n",
      "header: x-request-id: f84edf23-af51-442c-930b-16795e99e2c3\n",
      "header: Date: Wed, 24 May 2023 17:53:50 GMT\n",
      "header: Transfer-Encoding: chunked\n",
      "header: Connection: keep-alive\n",
      "header: Connection: Transfer-Encoding\n",
      "header: Set-Cookie: TADCID=q09GXSV6rLNCZbuFABQCXdElnkGETRW-Svh01l3nWnW7Hg013pvTAHtIYhfyB5KxNicuIu_Nea7zqVHrE6F8YmMRKw7l1UdRqrM; Domain=www.tripadvisor.co.id; Expires=Sat, 21-May-2033 17:53:49 GMT; Path=/; Secure; HttpOnly\n",
      "header: Set-Cookie: TAUnique=%1%enc%3A5P%2B2nzkmiCOCNtgs%2BCN3NnGfQMMEYPnqpMGC2t2fodoiVAsM7O0eGQ%3D%3D; Domain=.tripadvisor.co.id; Expires=Fri, 23-May-2025 17:53:49 GMT; Path=/; HttpOnly\n",
      "header: Set-Cookie: TASSK=enc%3AAHwZ5QO2ctBTJcEReQHOW60ZZwgTjH4hLMMwKFzzgjCwCBHh%2FizO84dO%2F6YWHW4J7vzYYXhEzsVLa%2BSYoNMaO8r0iBRZ8CtdjViEHk2GAUGYAWV2gLVF3Xv9y7mHWh08xA%3D%3D; Domain=www.tripadvisor.co.id; Expires=Mon, 20-Nov-2023 17:53:50 GMT; Path=/; HttpOnly\n",
      "header: Set-Cookie: TASession=V2ID.18D0C3E1C7944C53A724FF40923699D2*SQ.1*HS.recommended*ES.popularity*DS.5*SAS.popularity*FPS.oldFirst*LF.in*FA.1*DF.0*TRA.true*LD.614386; Domain=.tripadvisor.co.id; Path=/\n",
      "header: Set-Cookie: ServerPool=A; Domain=.tripadvisor.co.id; Path=/\n",
      "header: Set-Cookie: PMC=V2*MS.41*MD.20230524*LD.20230524; Domain=www.tripadvisor.co.id; Expires=Fri, 23-May-2025 17:53:50 GMT; Path=/; Secure; HttpOnly\n",
      "header: Set-Cookie: TART=%1%enc%3AgjbYLPgjdzaxS15%2BRWc46o4kItdragOSeQilMHJ7FgwxUlikbCXfT6V4dWyo0fl9146FP27oHI4%3D; Domain=www.tripadvisor.co.id; Expires=Mon, 29-May-2023 17:53:50 GMT; Path=/; HttpOnly\n",
      "header: Set-Cookie: CM=%1%PremiumMobSess%2C%2C-1%7Ct4b-pc%2C%2C-1%7CRestAds%2FRPers%2C%2C-1%7CRCPers%2C%2C-1%7CWShadeSeen%2C%2C-1%7CTheForkMCCPers%2C%2C-1%7CHomeASess%2C%2C-1%7CPremiumMCSess%2C%2C-1%7CCrisisSess%2C%2C-1%7CUVOwnersSess%2C%2C-1%7CRestPremRSess%2C%2C-1%7CRepTarMCSess%2C%2C-1%7CCCSess%2C%2C-1%7CCYLSess%2C%2C-1%7CPremRetPers%2C%2C-1%7CViatorMCPers%2C%2C-1%7Csesssticker%2C%2C-1%7C%24%2C%2C-1%7CPremiumORSess%2C%2C-1%7Ct4b-sc%2C%2C-1%7CRestAdsPers%2C%2C-1%7CMC_IB_UPSELL_IB_LOGOS2%2C%2C-1%7CTSMCPers%2C%2C-1%7Cb2bmcpers%2C%2C-1%7CPremMCBtmSess%2C%2C-1%7CMC_IB_UPSELL_IB_LOGOS%2C%2C-1%7CLaFourchette+Banners%2C%2C-1%7Csess_rev%2C%2C-1%7Csessamex%2C%2C-1%7CPremiumRRSess%2C%2C-1%7CTADORSess%2C%2C-1%7CAdsRetPers%2C%2C-1%7CListMCSess%2C%2C-1%7CTARSWBPers%2C%2C-1%7CSPMCSess%2C%2C-1%7CTheForkORSess%2C%2C-1%7CTheForkRRSess%2C%2C-1%7Cpers_rev%2C%2C-1%7CRBAPers%2C%2C-1%7CRestAds%2FRSess%2C%2C-1%7CHomeAPers%2C%2C-1%7CPremiumMobPers%2C%2C-1%7CRCSess%2C%2C-1%7CLaFourchette+MC+Banners%2C%2C-1%7CRestAdsCCSess%2C%2C-1%7CRestPremRPers%2C%2C-1%7CRevHubRMPers%2C%2C-1%7CUVOwnersPers%2C%2C-1%7Cpssamex%2C%2C-1%7CTheForkMCCSess%2C%2C-1%7CCrisisPers%2C%2C-1%7CCYLPers%2C%2C-1%7CCCPers%2C%2C-1%7CRepTarMCPers%2C%2C-1%7Cb2bmcsess%2C%2C-1%7CTSMCSess%2C%2C-1%7CSPMCPers%2C%2C-1%7CRevHubRMSess%2C%2C-1%7CPremRetSess%2C%2C-1%7CViatorMCSess%2C%2C-1%7CPremiumMCPers%2C%2C-1%7CAdsRetSess%2C%2C-1%7CPremiumRRPers%2C%2C-1%7CRestAdsCCPers%2C%2C-1%7CTADORPers%2C%2C-1%7CTheForkORPers%2C%2C-1%7CPremMCBtmPers%2C%2C-1%7CTheForkRRPers%2C%2C-1%7CTARSWBSess%2C%2C-1%7CPremiumORPers%2C%2C-1%7CRestAdsSess%2C%2C-1%7CRBASess%2C%2C-1%7CSPORPers%2C%2C-1%7Cperssticker%2C%2C-1%7CListMCPers%2C%2C-1%7C; Domain=.tripadvisor.co.id; Expires=Sat, 21-May-2033 17:53:50 GMT; Path=/\n",
      "header: Set-Cookie: BEPIN=%1%1884ee54b0c%3Bweb197a.a.tripadvisor.com%3A30023%3B; Domain=.tripadvisor.co.id; Path=/\n",
      "header: Set-Cookie: PAC=AGk_TfD1T56Hvdlnx4_2n_L_-IZ0uTpw8hmH7fO7OraxXuu3ZYt6aymzcm0w3-agOJuNFNlO1Hy9uIJyuBmpPtip8-w2ollIAjLVidnvKckITRab_61hUzaG8LenyeFsdVO251Xzh2xTmkY8F_z6wBObxHyU_HfA1hBfZtNHpvN67IZy3ND17ofNsAo3EODoMu3NMultcLwvARZd8fKByKXSqswTpND22gsX5e4e2TQy; Domain=www.tripadvisor.co.id; Expires=Fri, 23-May-2025 17:53:50 GMT; Path=/; Secure; HttpOnly\n",
      "header: Set-Cookie: SRT=TART_SYNC; Domain=www.tripadvisor.co.id; Expires=Wed, 24-May-2023 18:23:50 GMT; Path=/\n",
      "header: Set-Cookie: TATravelInfo=V2*AY.2023*AM.6*AD.4*DY.2023*DM.6*DD.5*A.2*MG.-1*HP.2*FL.3*DSM.1684950829940*RS.1; Domain=.tripadvisor.co.id; Expires=Wed, 07-Jun-2023 17:53:50 GMT; Path=/\n",
      "header: Set-Cookie: TAUD=LG-1684950829814-2.1.F.*RDD-2-2023_05_25*HDD-3-2023_06_04.2023_06_05.1; Domain=.tripadvisor.co.id; Expires=Wed, 07-Jun-2023 17:53:50 GMT; Path=/\n",
      "header: Set-Cookie: TASID=18D0C3E1C7944C53A724FF40923699D2; Domain=www.tripadvisor.co.id; Expires=Wed, 24-May-2023 18:23:50 GMT; Path=/; Secure\n",
      "header: Set-Cookie: TAReturnTo=%1%%2FHotel_Review-g608487-d614386-Reviews-or20-Grand_Sinar_Indah_Hotel-Legian_Kuta_District_Bali.html; Domain=.tripadvisor.co.id; Path=/\n",
      "header: Set-Cookie: datadome=7vzWXjLQ9RhK~7PLwiah7ndBGXOwihqM8_Lw_7jGWdQO-zAmiCcOd0yAKeRjjzmowW3HQQbuTLBm03r8wM5qvL4~qFcQ2uEXadhNE2VzluHCGR5Af6H3cAfl_wD3t9hd; Max-Age=31104000; Domain=.tripadvisor.co.id; Path=/; Secure; SameSite=Lax\n",
      "Done Scrapping Grand Sinar Indah Hotel page 4\n",
      "\n",
      "\n"
     ]
    },
    {
     "name": "stderr",
     "output_type": "stream",
     "text": [
      "DEBUG:urllib3.connectionpool:Starting new HTTPS connection (1): www.tripadvisor.co.id:443\n"
     ]
    },
    {
     "name": "stdout",
     "output_type": "stream",
     "text": [
      "send: b'GET /Hotel_Review-g608487-d614386-Reviews-or25-Grand_Sinar_Indah_Hotel-Legian_Kuta_District_Bali.html HTTP/1.1\\r\\nHost: www.tripadvisor.co.id\\r\\nUser-Agent: Mozilla/5.0 (X11; CrOS x86_64 12871.102.0) AppleWebKit/537.36 (KHTML, like Gecko) Chrome/81.0.4044.141 Safari/537.36\\r\\nAccept-Encoding: gzip, deflate\\r\\nAccept: */*\\r\\nConnection: keep-alive\\r\\n\\r\\n'\n"
     ]
    },
    {
     "name": "stderr",
     "output_type": "stream",
     "text": [
      "DEBUG:urllib3.connectionpool:https://www.tripadvisor.co.id:443 \"GET /Hotel_Review-g608487-d614386-Reviews-or25-Grand_Sinar_Indah_Hotel-Legian_Kuta_District_Bali.html HTTP/1.1\" 200 None\n"
     ]
    },
    {
     "name": "stdout",
     "output_type": "stream",
     "text": [
      "reply: 'HTTP/1.1 200 OK\\r\\n'\n",
      "header: Server: envoy\n",
      "header: Link: <https://media-cdn.tripadvisor.com/media/>;rel=\"preconnect\";crossorigin\n",
      "header: Link: <https://media-cdn.tripadvisor.com/media/>;rel=\"dns-prefetch\"\n",
      "header: p3p: CP=\"NOI CURa ADMa DEVa TAIa OUR BUS IND UNI COM NAV INT DSP COR CAO PSA IDC ADM DEVi TAIi PSD IVAi IVDi CONi HIS CNT\"\n",
      "header: Pragma: no-cache\n",
      "header: Cache-Control: no-cache, no-store, must-revalidate\n",
      "header: Expires: 0\n",
      "header: Content-Language: id\n",
      "header: Link: <https://static.tacdn.com>;rel=\"dns-prefetch\"\n",
      "header: Link: <https://static.tacdn.com>;rel=\"preconnect\";crossorigin\n",
      "header: timing-allow-origin: https://www.tripadvisor.com\n",
      "header: Vary: Accept-Encoding\n",
      "header: Content-Type: text/html;charset=UTF-8\n",
      "header: x-datadome: protected\n",
      "header: Accept-CH: Sec-CH-UA,Sec-CH-UA-Mobile,Sec-CH-UA-Platform,Sec-CH-UA-Arch,Sec-CH-UA-Full-Version-List,Sec-CH-UA-Model,Sec-CH-Device-Memory\n",
      "header: Content-Encoding: gzip\n",
      "header: x-request-id: 3c58c1e6-b5d8-416a-9f73-94e4fd44a061\n",
      "header: Date: Wed, 24 May 2023 17:53:55 GMT\n",
      "header: Transfer-Encoding: chunked\n",
      "header: Connection: keep-alive\n",
      "header: Connection: Transfer-Encoding\n",
      "header: Set-Cookie: TADCID=H3lqGyeQC-wDSeJXABQCXdElnkGETRW-Svh01l3nWnW7HjWViDk0Z7p5ITgjcuiCpdY0Aup-uHvkZ5qGmrE3uXC8yNpJd6tCSMM; Domain=www.tripadvisor.co.id; Expires=Sat, 21-May-2033 17:53:54 GMT; Path=/; Secure; HttpOnly\n",
      "header: Set-Cookie: TAUnique=%1%enc%3AJ9RgscebvWuCNtgs%2BCN3NnGfQMMEYPnquEFlfIxhR%2BU8RM0dPPGpqA%3D%3D; Domain=.tripadvisor.co.id; Expires=Fri, 23-May-2025 17:53:54 GMT; Path=/; HttpOnly\n",
      "header: Set-Cookie: TASSK=enc%3AAF8JTKL6Aa%2FXC7uVCRhTA9KFczQCN%2FNvelwSVFA%2FOd3hO1FVIJfovvtegGIL9PVg%2B2oB5k8swEuK8TlujQGP9A2JPCEOxHSiMQ9WcV1F%2BtS96v%2BopcgB8DeR5ZB%2FQiov5g%3D%3D; Domain=www.tripadvisor.co.id; Expires=Mon, 20-Nov-2023 17:53:55 GMT; Path=/; HttpOnly\n",
      "header: Set-Cookie: TASession=V2ID.6254E5221E9346BBA6C89F17A5E959A3*SQ.1*HS.recommended*ES.popularity*DS.5*SAS.popularity*FPS.oldFirst*LF.in*FA.1*DF.0*TRA.true*LD.614386; Domain=.tripadvisor.co.id; Path=/\n",
      "header: Set-Cookie: ServerPool=X; Domain=.tripadvisor.co.id; Path=/\n",
      "header: Set-Cookie: PMC=V2*MS.74*MD.20230524*LD.20230524; Domain=www.tripadvisor.co.id; Expires=Fri, 23-May-2025 17:53:55 GMT; Path=/; Secure; HttpOnly\n",
      "header: Set-Cookie: TART=%1%enc%3AgjbYLPgjdzaxS15%2BRWc46rGJ%2BdRzLrBdQCec9N4rIcWakdJtyVWJm8qn6%2FTY8dHRJmL88KI4vDs%3D; Domain=www.tripadvisor.co.id; Expires=Mon, 29-May-2023 17:53:55 GMT; Path=/; HttpOnly\n",
      "header: Set-Cookie: CM=%1%PremiumMobSess%2C%2C-1%7Ct4b-pc%2C%2C-1%7CRestAds%2FRPers%2C%2C-1%7CRCPers%2C%2C-1%7CWShadeSeen%2C%2C-1%7CTheForkMCCPers%2C%2C-1%7CHomeASess%2C%2C-1%7CPremiumMCSess%2C%2C-1%7CCrisisSess%2C%2C-1%7CUVOwnersSess%2C%2C-1%7CRestPremRSess%2C%2C-1%7CRepTarMCSess%2C%2C-1%7CCCSess%2C%2C-1%7CCYLSess%2C%2C-1%7CPremRetPers%2C%2C-1%7CViatorMCPers%2C%2C-1%7Csesssticker%2C%2C-1%7C%24%2C%2C-1%7CPremiumORSess%2C%2C-1%7Ct4b-sc%2C%2C-1%7CRestAdsPers%2C%2C-1%7CMC_IB_UPSELL_IB_LOGOS2%2C%2C-1%7CTSMCPers%2C%2C-1%7Cb2bmcpers%2C%2C-1%7CPremMCBtmSess%2C%2C-1%7CMC_IB_UPSELL_IB_LOGOS%2C%2C-1%7CLaFourchette+Banners%2C%2C-1%7Csess_rev%2C%2C-1%7Csessamex%2C%2C-1%7CPremiumRRSess%2C%2C-1%7CTADORSess%2C%2C-1%7CAdsRetPers%2C%2C-1%7CListMCSess%2C%2C-1%7CTARSWBPers%2C%2C-1%7CSPMCSess%2C%2C-1%7CTheForkORSess%2C%2C-1%7CTheForkRRSess%2C%2C-1%7Cpers_rev%2C%2C-1%7CRBAPers%2C%2C-1%7CRestAds%2FRSess%2C%2C-1%7CHomeAPers%2C%2C-1%7CPremiumMobPers%2C%2C-1%7CRCSess%2C%2C-1%7CLaFourchette+MC+Banners%2C%2C-1%7CRestAdsCCSess%2C%2C-1%7CRestPremRPers%2C%2C-1%7CRevHubRMPers%2C%2C-1%7CUVOwnersPers%2C%2C-1%7Cpssamex%2C%2C-1%7CTheForkMCCSess%2C%2C-1%7CCrisisPers%2C%2C-1%7CCYLPers%2C%2C-1%7CCCPers%2C%2C-1%7CRepTarMCPers%2C%2C-1%7Cb2bmcsess%2C%2C-1%7CTSMCSess%2C%2C-1%7CSPMCPers%2C%2C-1%7CRevHubRMSess%2C%2C-1%7CPremRetSess%2C%2C-1%7CViatorMCSess%2C%2C-1%7CPremiumMCPers%2C%2C-1%7CAdsRetSess%2C%2C-1%7CPremiumRRPers%2C%2C-1%7CRestAdsCCPers%2C%2C-1%7CTADORPers%2C%2C-1%7CTheForkORPers%2C%2C-1%7CPremMCBtmPers%2C%2C-1%7CTheForkRRPers%2C%2C-1%7CTARSWBSess%2C%2C-1%7CPremiumORPers%2C%2C-1%7CRestAdsSess%2C%2C-1%7CRBASess%2C%2C-1%7CSPORPers%2C%2C-1%7Cperssticker%2C%2C-1%7CListMCPers%2C%2C-1%7C; Domain=.tripadvisor.co.id; Expires=Sat, 21-May-2033 17:53:55 GMT; Path=/\n",
      "header: Set-Cookie: BEPIN=%1%1884ee55e56%3Bweb225a.a.tripadvisor.com%3A30023%3B; Domain=.tripadvisor.co.id; Path=/\n",
      "header: Set-Cookie: PAC=AKKCgQxnjn66wfC7rlWsjYJ1t_eqLlxUM_cCua7R7Hs2TJ2MsHng7l1sVGcTq2Dp_0UWCANMTd0bXC4oPJE2wjfxPQURLacQl7zUJdd7dCQ-8KPZZ3XnSEp2lEyGxdXrK2k1GOtsAJZoqb0fKePh6pthchl-0FepWyV8qckLQU5ib89cl308B_Yi2VVi8IeUylI9oTq7ZkxKmRYncUX7OmTsRG2KJ7RpZXsK8FVQglo2; Domain=www.tripadvisor.co.id; Expires=Fri, 23-May-2025 17:53:55 GMT; Path=/; Secure; HttpOnly\n",
      "header: Set-Cookie: SRT=TART_SYNC; Domain=www.tripadvisor.co.id; Expires=Wed, 24-May-2023 18:23:55 GMT; Path=/\n",
      "header: Set-Cookie: TATravelInfo=V2*AY.2023*AM.6*AD.4*DY.2023*DM.6*DD.5*A.2*MG.-1*HP.2*FL.3*DSM.1684950834884*RS.1; Domain=.tripadvisor.co.id; Expires=Wed, 07-Jun-2023 17:53:55 GMT; Path=/\n",
      "header: Set-Cookie: TAUD=LG-1684950834739-2.1.F.*RDD-2-2023_05_25*HDD-3-2023_06_04.2023_06_05.1; Domain=.tripadvisor.co.id; Expires=Wed, 07-Jun-2023 17:53:55 GMT; Path=/\n",
      "header: Set-Cookie: TASID=6254E5221E9346BBA6C89F17A5E959A3; Domain=www.tripadvisor.co.id; Expires=Wed, 24-May-2023 18:23:55 GMT; Path=/; Secure\n",
      "header: Set-Cookie: TAReturnTo=%1%%2FHotel_Review-g608487-d614386-Reviews-or25-Grand_Sinar_Indah_Hotel-Legian_Kuta_District_Bali.html; Domain=.tripadvisor.co.id; Path=/\n",
      "header: Set-Cookie: datadome=6uYkO45dl9hfVZekbXHC09YC1byucO8FK1yAYX_o7oIUovoAgnzEKJTobaSV9zei8JLZKMJC5fjCZNNoqah5VZ9vkzFX~yvG~uMUOe-F583h-1apHOqAT9_U_oqJs5AK; Max-Age=31104000; Domain=.tripadvisor.co.id; Path=/; Secure; SameSite=Lax\n",
      "Done Scrapping Grand Sinar Indah Hotel page 5\n",
      "\n",
      "\n"
     ]
    },
    {
     "name": "stderr",
     "output_type": "stream",
     "text": [
      "DEBUG:urllib3.connectionpool:Starting new HTTPS connection (1): www.tripadvisor.co.id:443\n"
     ]
    },
    {
     "name": "stdout",
     "output_type": "stream",
     "text": [
      "send: b'GET /Hotel_Review-g608487-d614386-Reviews-or30-Grand_Sinar_Indah_Hotel-Legian_Kuta_District_Bali.html HTTP/1.1\\r\\nHost: www.tripadvisor.co.id\\r\\nUser-Agent: Mozilla/5.0 (X11; CrOS x86_64 12871.102.0) AppleWebKit/537.36 (KHTML, like Gecko) Chrome/81.0.4044.141 Safari/537.36\\r\\nAccept-Encoding: gzip, deflate\\r\\nAccept: */*\\r\\nConnection: keep-alive\\r\\n\\r\\n'\n"
     ]
    },
    {
     "name": "stderr",
     "output_type": "stream",
     "text": [
      "DEBUG:urllib3.connectionpool:https://www.tripadvisor.co.id:443 \"GET /Hotel_Review-g608487-d614386-Reviews-or30-Grand_Sinar_Indah_Hotel-Legian_Kuta_District_Bali.html HTTP/1.1\" 200 None\n"
     ]
    },
    {
     "name": "stdout",
     "output_type": "stream",
     "text": [
      "reply: 'HTTP/1.1 200 OK\\r\\n'\n",
      "header: Server: envoy\n",
      "header: Link: <https://media-cdn.tripadvisor.com/media/>;rel=\"preconnect\";crossorigin\n",
      "header: Link: <https://media-cdn.tripadvisor.com/media/>;rel=\"dns-prefetch\"\n",
      "header: p3p: CP=\"NOI CURa ADMa DEVa TAIa OUR BUS IND UNI COM NAV INT DSP COR CAO PSA IDC ADM DEVi TAIi PSD IVAi IVDi CONi HIS CNT\"\n",
      "header: Pragma: no-cache\n",
      "header: Cache-Control: no-cache, no-store, must-revalidate\n",
      "header: Expires: 0\n",
      "header: Content-Language: id\n",
      "header: Link: <https://static.tacdn.com>;rel=\"dns-prefetch\"\n",
      "header: Link: <https://static.tacdn.com>;rel=\"preconnect\";crossorigin\n",
      "header: timing-allow-origin: https://www.tripadvisor.com\n",
      "header: Vary: Accept-Encoding\n",
      "header: Content-Type: text/html;charset=UTF-8\n",
      "header: Accept-CH: Sec-CH-UA,Sec-CH-UA-Mobile,Sec-CH-UA-Platform,Sec-CH-UA-Arch,Sec-CH-UA-Full-Version-List,Sec-CH-UA-Model,Sec-CH-Device-Memory\n",
      "header: x-datadome: protected\n",
      "header: Content-Encoding: gzip\n",
      "header: x-request-id: 4d8809c4-0cc4-4b3d-be02-5fa114a48529\n",
      "header: Date: Wed, 24 May 2023 17:54:00 GMT\n",
      "header: Transfer-Encoding: chunked\n",
      "header: Connection: keep-alive\n",
      "header: Connection: Transfer-Encoding\n",
      "header: Set-Cookie: TADCID=XzmX2bU7FcnfJlFUABQCXdElnkGETRW-Svh01l3nWnW7HmRJitmqs-uLSf9Ha2Hwf6CV-5Ly78wGnQwwJuZiwQGsSNn6bniwIHc; Domain=www.tripadvisor.co.id; Expires=Sat, 21-May-2033 17:53:59 GMT; Path=/; Secure; HttpOnly\n",
      "header: Set-Cookie: TAUnique=%1%enc%3AExKJ9ZJ7qQKCNtgs%2BCN3NnGfQMMEYPnqAoRctEA3jjGH5xCI6Sij%2Bw%3D%3D; Domain=.tripadvisor.co.id; Expires=Fri, 23-May-2025 17:53:59 GMT; Path=/; HttpOnly\n",
      "header: Set-Cookie: TASSK=enc%3AAFpScgVkcJpzYt7cENeVcfYSpehP2%2FXDKYcLHYvCMRCElr0XpU0z0Lrpo%2BmA4SaGarYEhJ4H1TndseuDtmZqNe2rpYDgwP82VUqSq9leTzmnrRUc4i%2FJWr0ckXgyoZkS0g%3D%3D; Domain=www.tripadvisor.co.id; Expires=Mon, 20-Nov-2023 17:53:59 GMT; Path=/; HttpOnly\n",
      "header: Set-Cookie: TASession=V2ID.964169DB6D3746F4BD138B2FD92A9A35*SQ.1*HS.recommended*ES.popularity*DS.5*SAS.popularity*FPS.oldFirst*LF.in*FA.1*DF.0*TRA.true*LD.614386; Domain=.tripadvisor.co.id; Path=/\n",
      "header: Set-Cookie: ServerPool=A; Domain=.tripadvisor.co.id; Path=/\n",
      "header: Set-Cookie: PMC=V2*MS.23*MD.20230524*LD.20230524; Domain=www.tripadvisor.co.id; Expires=Fri, 23-May-2025 17:53:59 GMT; Path=/; Secure; HttpOnly\n",
      "header: Set-Cookie: TART=%1%enc%3AgjbYLPgjdzaxS15%2BRWc46nr%2BkRZoQDGBBcOUUWBoD7lonLKSa7IbISOm8fyhwtcD07mFjKCsOXM%3D; Domain=www.tripadvisor.co.id; Expires=Mon, 29-May-2023 17:53:59 GMT; Path=/; HttpOnly\n",
      "header: Set-Cookie: CM=%1%PremiumMobSess%2C%2C-1%7Ct4b-pc%2C%2C-1%7CRestAds%2FRPers%2C%2C-1%7CRCPers%2C%2C-1%7CWShadeSeen%2C%2C-1%7CTheForkMCCPers%2C%2C-1%7CHomeASess%2C%2C-1%7CPremiumMCSess%2C%2C-1%7CCrisisSess%2C%2C-1%7CUVOwnersSess%2C%2C-1%7CRestPremRSess%2C%2C-1%7CRepTarMCSess%2C%2C-1%7CCCSess%2C%2C-1%7CCYLSess%2C%2C-1%7CPremRetPers%2C%2C-1%7CViatorMCPers%2C%2C-1%7Csesssticker%2C%2C-1%7C%24%2C%2C-1%7CPremiumORSess%2C%2C-1%7Ct4b-sc%2C%2C-1%7CRestAdsPers%2C%2C-1%7CMC_IB_UPSELL_IB_LOGOS2%2C%2C-1%7CTSMCPers%2C%2C-1%7Cb2bmcpers%2C%2C-1%7CPremMCBtmSess%2C%2C-1%7CMC_IB_UPSELL_IB_LOGOS%2C%2C-1%7CLaFourchette+Banners%2C%2C-1%7Csess_rev%2C%2C-1%7Csessamex%2C%2C-1%7CPremiumRRSess%2C%2C-1%7CTADORSess%2C%2C-1%7CAdsRetPers%2C%2C-1%7CListMCSess%2C%2C-1%7CTARSWBPers%2C%2C-1%7CSPMCSess%2C%2C-1%7CTheForkORSess%2C%2C-1%7CTheForkRRSess%2C%2C-1%7Cpers_rev%2C%2C-1%7CRBAPers%2C%2C-1%7CRestAds%2FRSess%2C%2C-1%7CHomeAPers%2C%2C-1%7CPremiumMobPers%2C%2C-1%7CRCSess%2C%2C-1%7CLaFourchette+MC+Banners%2C%2C-1%7CRestAdsCCSess%2C%2C-1%7CRestPremRPers%2C%2C-1%7CRevHubRMPers%2C%2C-1%7CUVOwnersPers%2C%2C-1%7Cpssamex%2C%2C-1%7CTheForkMCCSess%2C%2C-1%7CCrisisPers%2C%2C-1%7CCYLPers%2C%2C-1%7CCCPers%2C%2C-1%7CRepTarMCPers%2C%2C-1%7Cb2bmcsess%2C%2C-1%7CTSMCSess%2C%2C-1%7CSPMCPers%2C%2C-1%7CRevHubRMSess%2C%2C-1%7CPremRetSess%2C%2C-1%7CViatorMCSess%2C%2C-1%7CPremiumMCPers%2C%2C-1%7CAdsRetSess%2C%2C-1%7CPremiumRRPers%2C%2C-1%7CRestAdsCCPers%2C%2C-1%7CTADORPers%2C%2C-1%7CTheForkORPers%2C%2C-1%7CPremMCBtmPers%2C%2C-1%7CTheForkRRPers%2C%2C-1%7CTARSWBSess%2C%2C-1%7CPremiumORPers%2C%2C-1%7CRestAdsSess%2C%2C-1%7CRBASess%2C%2C-1%7CSPORPers%2C%2C-1%7Cperssticker%2C%2C-1%7CListMCPers%2C%2C-1%7C; Domain=.tripadvisor.co.id; Expires=Sat, 21-May-2033 17:53:59 GMT; Path=/\n",
      "header: Set-Cookie: BEPIN=%1%1884ee570b7%3Bweb221a.a.tripadvisor.com%3A30023%3B; Domain=.tripadvisor.co.id; Path=/\n",
      "header: Set-Cookie: PAC=AM-1Q03EH1SBFOakDw8eEJ6LCRBrOXB6dPChtKfH2YdBUkPCeZZusXSwXou28niQ8sgieybwadjJFUPgDstBw2o2De1PY1UsCROK67y5glHDNtYzWazMrkgbHZhSoO5UbmcxezXmPdHnyUQlPfqVcOnArLKf_tjFizGW0OErazeQJKzdDPQfduK5LZhQYgJTA9ZTydROnsYhgtRhIDf9E7e4y_xbBX7zEB9ToSRoJEWC; Domain=www.tripadvisor.co.id; Expires=Fri, 23-May-2025 17:53:59 GMT; Path=/; Secure; HttpOnly\n",
      "header: Set-Cookie: SRT=TART_SYNC; Domain=www.tripadvisor.co.id; Expires=Wed, 24-May-2023 18:23:59 GMT; Path=/\n",
      "header: Set-Cookie: TATravelInfo=V2*AY.2023*AM.6*AD.4*DY.2023*DM.6*DD.5*A.2*MG.-1*HP.2*FL.3*DSM.1684950839577*RS.1; Domain=.tripadvisor.co.id; Expires=Wed, 07-Jun-2023 17:53:59 GMT; Path=/\n",
      "header: Set-Cookie: TAUD=LG-1684950839442-2.1.F.*RDD-2-2023_05_25*HDD-3-2023_06_04.2023_06_05.1; Domain=.tripadvisor.co.id; Expires=Wed, 07-Jun-2023 17:53:59 GMT; Path=/\n",
      "header: Set-Cookie: TASID=964169DB6D3746F4BD138B2FD92A9A35; Domain=www.tripadvisor.co.id; Expires=Wed, 24-May-2023 18:23:59 GMT; Path=/; Secure\n",
      "header: Set-Cookie: TAReturnTo=%1%%2FHotel_Review-g608487-d614386-Reviews-or30-Grand_Sinar_Indah_Hotel-Legian_Kuta_District_Bali.html; Domain=.tripadvisor.co.id; Path=/\n",
      "header: Set-Cookie: datadome=6D7~WAMd9ur5TaeWjeUx8LO8kKGAfXsrO4nbjY31o61WU590P-GOkizGiPLTSyCIB4RmWPxfR6ys4GOsvXOzSSn1sZMK7LBKHA2Bbs_5uEHH1UVhliCX508Q0Iu8GqJQ; Max-Age=31104000; Domain=.tripadvisor.co.id; Path=/; Secure; SameSite=Lax\n",
      "Done Scrapping Grand Sinar Indah Hotel page 6\n",
      "\n",
      "\n"
     ]
    },
    {
     "name": "stderr",
     "output_type": "stream",
     "text": [
      "DEBUG:urllib3.connectionpool:Starting new HTTPS connection (1): www.tripadvisor.co.id:443\n"
     ]
    },
    {
     "name": "stdout",
     "output_type": "stream",
     "text": [
      "send: b'GET /Hotel_Review-g608487-d614386-Reviews-or35-Grand_Sinar_Indah_Hotel-Legian_Kuta_District_Bali.html HTTP/1.1\\r\\nHost: www.tripadvisor.co.id\\r\\nUser-Agent: Mozilla/5.0 (X11; CrOS x86_64 12871.102.0) AppleWebKit/537.36 (KHTML, like Gecko) Chrome/81.0.4044.141 Safari/537.36\\r\\nAccept-Encoding: gzip, deflate\\r\\nAccept: */*\\r\\nConnection: keep-alive\\r\\n\\r\\n'\n"
     ]
    },
    {
     "name": "stderr",
     "output_type": "stream",
     "text": [
      "DEBUG:urllib3.connectionpool:https://www.tripadvisor.co.id:443 \"GET /Hotel_Review-g608487-d614386-Reviews-or35-Grand_Sinar_Indah_Hotel-Legian_Kuta_District_Bali.html HTTP/1.1\" 200 None\n"
     ]
    },
    {
     "name": "stdout",
     "output_type": "stream",
     "text": [
      "reply: 'HTTP/1.1 200 OK\\r\\n'\n",
      "header: Server: envoy\n",
      "header: Link: <https://media-cdn.tripadvisor.com/media/>;rel=\"preconnect\";crossorigin\n",
      "header: Link: <https://media-cdn.tripadvisor.com/media/>;rel=\"dns-prefetch\"\n",
      "header: p3p: CP=\"NOI CURa ADMa DEVa TAIa OUR BUS IND UNI COM NAV INT DSP COR CAO PSA IDC ADM DEVi TAIi PSD IVAi IVDi CONi HIS CNT\"\n",
      "header: Pragma: no-cache\n",
      "header: Cache-Control: no-cache, no-store, must-revalidate\n",
      "header: Expires: 0\n",
      "header: Content-Language: id\n",
      "header: Link: <https://static.tacdn.com>;rel=\"dns-prefetch\"\n",
      "header: Link: <https://static.tacdn.com>;rel=\"preconnect\";crossorigin\n",
      "header: timing-allow-origin: https://www.tripadvisor.com\n",
      "header: Vary: Accept-Encoding\n",
      "header: Content-Type: text/html;charset=UTF-8\n",
      "header: Accept-CH: Sec-CH-UA,Sec-CH-UA-Mobile,Sec-CH-UA-Platform,Sec-CH-UA-Arch,Sec-CH-UA-Full-Version-List,Sec-CH-UA-Model,Sec-CH-Device-Memory\n",
      "header: x-datadome: protected\n",
      "header: Content-Encoding: gzip\n",
      "header: x-request-id: 60d28b8e-a523-48aa-8042-c96e7e34c2c1\n",
      "header: Date: Wed, 24 May 2023 17:54:04 GMT\n",
      "header: Transfer-Encoding: chunked\n",
      "header: Connection: keep-alive\n",
      "header: Connection: Transfer-Encoding\n",
      "header: Set-Cookie: TADCID=ByZcUCCyj36hK56RABQCXdElnkGETRW-Svh01l3nWnW7H1rbPA-_dRDuUM4GcAWM5AUPfedzZjFeGgbE_1Jd76e5MJ-H_MKnXp8; Domain=www.tripadvisor.co.id; Expires=Sat, 21-May-2033 17:54:04 GMT; Path=/; Secure; HttpOnly\n",
      "header: Set-Cookie: TAUnique=%1%enc%3Ayg68kAIEKTKCNtgs%2BCN3NnGfQMMEYPnq4iKa%2BoW%2BghBH3eUFXwVrHw%3D%3D; Domain=.tripadvisor.co.id; Expires=Fri, 23-May-2025 17:54:04 GMT; Path=/; HttpOnly\n",
      "header: Set-Cookie: TASSK=enc%3AANj%2Fzm3s8vUTREjmpiNZ07dsbBYVnk%2FEd71mOfLOvgG9hw4W5cwuUiQMsuSDx1ZOl8waoeZoISjSnXEuDFYQe9Ki30yojhl7pxt6iysvwKDAc8IFMuyKybUmyAbGsDoogA%3D%3D; Domain=www.tripadvisor.co.id; Expires=Mon, 20-Nov-2023 17:54:04 GMT; Path=/; HttpOnly\n",
      "header: Set-Cookie: TASession=V2ID.A656DBC07E2347A6A8CD9A7CF0DDBA21*SQ.1*HS.recommended*ES.popularity*DS.5*SAS.popularity*FPS.oldFirst*LF.in*FA.1*DF.0*TRA.true*LD.614386; Domain=.tripadvisor.co.id; Path=/\n",
      "header: Set-Cookie: ServerPool=B; Domain=.tripadvisor.co.id; Path=/\n",
      "header: Set-Cookie: PMC=V2*MS.44*MD.20230524*LD.20230524; Domain=www.tripadvisor.co.id; Expires=Fri, 23-May-2025 17:54:04 GMT; Path=/; Secure; HttpOnly\n",
      "header: Set-Cookie: TART=%1%enc%3AgjbYLPgjdzaxS15%2BRWc46kOl2Ann6Bswu7t1DFaGG1bMW2IKbVXY3hkQrzSyYZcx3xNJkLMedwc%3D; Domain=www.tripadvisor.co.id; Expires=Mon, 29-May-2023 17:54:04 GMT; Path=/; HttpOnly\n",
      "header: Set-Cookie: CM=%1%PremiumMobSess%2C%2C-1%7Ct4b-pc%2C%2C-1%7CRestAds%2FRPers%2C%2C-1%7CRCPers%2C%2C-1%7CWShadeSeen%2C%2C-1%7CTheForkMCCPers%2C%2C-1%7CHomeASess%2C%2C-1%7CPremiumMCSess%2C%2C-1%7CCrisisSess%2C%2C-1%7CUVOwnersSess%2C%2C-1%7CRestPremRSess%2C%2C-1%7CRepTarMCSess%2C%2C-1%7CCCSess%2C%2C-1%7CCYLSess%2C%2C-1%7CPremRetPers%2C%2C-1%7CViatorMCPers%2C%2C-1%7Csesssticker%2C%2C-1%7C%24%2C%2C-1%7CPremiumORSess%2C%2C-1%7Ct4b-sc%2C%2C-1%7CRestAdsPers%2C%2C-1%7CMC_IB_UPSELL_IB_LOGOS2%2C%2C-1%7CTSMCPers%2C%2C-1%7Cb2bmcpers%2C%2C-1%7CPremMCBtmSess%2C%2C-1%7CMC_IB_UPSELL_IB_LOGOS%2C%2C-1%7CLaFourchette+Banners%2C%2C-1%7Csess_rev%2C%2C-1%7Csessamex%2C%2C-1%7CPremiumRRSess%2C%2C-1%7CTADORSess%2C%2C-1%7CAdsRetPers%2C%2C-1%7CListMCSess%2C%2C-1%7CTARSWBPers%2C%2C-1%7CSPMCSess%2C%2C-1%7CTheForkORSess%2C%2C-1%7CTheForkRRSess%2C%2C-1%7Cpers_rev%2C%2C-1%7CRBAPers%2C%2C-1%7CRestAds%2FRSess%2C%2C-1%7CHomeAPers%2C%2C-1%7CPremiumMobPers%2C%2C-1%7CRCSess%2C%2C-1%7CLaFourchette+MC+Banners%2C%2C-1%7CRestAdsCCSess%2C%2C-1%7CRestPremRPers%2C%2C-1%7CRevHubRMPers%2C%2C-1%7CUVOwnersPers%2C%2C-1%7Cpssamex%2C%2C-1%7CTheForkMCCSess%2C%2C-1%7CCrisisPers%2C%2C-1%7CCYLPers%2C%2C-1%7CCCPers%2C%2C-1%7CRepTarMCPers%2C%2C-1%7Cb2bmcsess%2C%2C-1%7CTSMCSess%2C%2C-1%7CSPMCPers%2C%2C-1%7CRevHubRMSess%2C%2C-1%7CPremRetSess%2C%2C-1%7CViatorMCSess%2C%2C-1%7CPremiumMCPers%2C%2C-1%7CAdsRetSess%2C%2C-1%7CPremiumRRPers%2C%2C-1%7CRestAdsCCPers%2C%2C-1%7CTADORPers%2C%2C-1%7CTheForkORPers%2C%2C-1%7CPremMCBtmPers%2C%2C-1%7CTheForkRRPers%2C%2C-1%7CTARSWBSess%2C%2C-1%7CPremiumORPers%2C%2C-1%7CRestAdsSess%2C%2C-1%7CRBASess%2C%2C-1%7CSPORPers%2C%2C-1%7Cperssticker%2C%2C-1%7CListMCPers%2C%2C-1%7C; Domain=.tripadvisor.co.id; Expires=Sat, 21-May-2033 17:54:04 GMT; Path=/\n",
      "header: Set-Cookie: BEPIN=%1%1884ee582a6%3Bweb191a.a.tripadvisor.com%3A30023%3B; Domain=.tripadvisor.co.id; Path=/\n",
      "header: Set-Cookie: PAC=AKJQmlHMD8sjVFIGEIjoP1JzGlG4TSTrut4WjTMP5-g_KMYKXk91a6SZrg7JCwFSXHyBqSBRMO-I9jQb_0QjdBJO7QwxlIUswmrhaT5ViMZal-MPjzX4gizmAGRibRcMuRxt4lTwqJMykQs_QPYYEGboBhnnZzFrSxLLLAjFnihS51-7iv1aCfL0Tou2aTxwY6_PzfdnjOG1wPtZXWsLIPfnsWJeURaEX0WyAeJqHVGs; Domain=www.tripadvisor.co.id; Expires=Fri, 23-May-2025 17:54:04 GMT; Path=/; Secure; HttpOnly\n",
      "header: Set-Cookie: SRT=TART_SYNC; Domain=www.tripadvisor.co.id; Expires=Wed, 24-May-2023 18:24:04 GMT; Path=/\n",
      "header: Set-Cookie: TATravelInfo=V2*AY.2023*AM.6*AD.4*DY.2023*DM.6*DD.5*A.2*MG.-1*HP.2*FL.3*DSM.1684950844194*RS.1; Domain=.tripadvisor.co.id; Expires=Wed, 07-Jun-2023 17:54:04 GMT; Path=/\n",
      "header: Set-Cookie: TAUD=LG-1684950844033-2.1.F.*RDD-2-2023_05_25*HDD-3-2023_06_04.2023_06_05.1; Domain=.tripadvisor.co.id; Expires=Wed, 07-Jun-2023 17:54:04 GMT; Path=/\n",
      "header: Set-Cookie: TASID=A656DBC07E2347A6A8CD9A7CF0DDBA21; Domain=www.tripadvisor.co.id; Expires=Wed, 24-May-2023 18:24:04 GMT; Path=/; Secure\n",
      "header: Set-Cookie: TAReturnTo=%1%%2FHotel_Review-g608487-d614386-Reviews-or35-Grand_Sinar_Indah_Hotel-Legian_Kuta_District_Bali.html; Domain=.tripadvisor.co.id; Path=/\n",
      "header: Set-Cookie: datadome=1CIGSPGKnDA7bdueb18QozIojeVW0V5C149XHlplFpQFR4BFhs8dyfjjGNIQFMfacbXUWsETkUBnaMoNr5PExmtb2svJriS5dyDa7prgmpPfb6~8NYm9R-Dyh~rGa2a3; Max-Age=31104000; Domain=.tripadvisor.co.id; Path=/; Secure; SameSite=Lax\n",
      "Done Scrapping Grand Sinar Indah Hotel page 7\n",
      "\n",
      "\n"
     ]
    },
    {
     "name": "stderr",
     "output_type": "stream",
     "text": [
      "DEBUG:urllib3.connectionpool:Starting new HTTPS connection (1): www.tripadvisor.co.id:443\n"
     ]
    },
    {
     "name": "stdout",
     "output_type": "stream",
     "text": [
      "send: b'GET /Hotel_Review-g608487-d614386-Reviews-or40-Grand_Sinar_Indah_Hotel-Legian_Kuta_District_Bali.html HTTP/1.1\\r\\nHost: www.tripadvisor.co.id\\r\\nUser-Agent: Mozilla/5.0 (X11; CrOS x86_64 12871.102.0) AppleWebKit/537.36 (KHTML, like Gecko) Chrome/81.0.4044.141 Safari/537.36\\r\\nAccept-Encoding: gzip, deflate\\r\\nAccept: */*\\r\\nConnection: keep-alive\\r\\n\\r\\n'\n"
     ]
    },
    {
     "name": "stderr",
     "output_type": "stream",
     "text": [
      "DEBUG:urllib3.connectionpool:https://www.tripadvisor.co.id:443 \"GET /Hotel_Review-g608487-d614386-Reviews-or40-Grand_Sinar_Indah_Hotel-Legian_Kuta_District_Bali.html HTTP/1.1\" 200 None\n"
     ]
    },
    {
     "name": "stdout",
     "output_type": "stream",
     "text": [
      "reply: 'HTTP/1.1 200 OK\\r\\n'\n",
      "header: Server: envoy\n",
      "header: Link: <https://media-cdn.tripadvisor.com/media/>;rel=\"preconnect\";crossorigin\n",
      "header: Link: <https://media-cdn.tripadvisor.com/media/>;rel=\"dns-prefetch\"\n",
      "header: p3p: CP=\"NOI CURa ADMa DEVa TAIa OUR BUS IND UNI COM NAV INT DSP COR CAO PSA IDC ADM DEVi TAIi PSD IVAi IVDi CONi HIS CNT\"\n",
      "header: Pragma: no-cache\n",
      "header: Cache-Control: no-cache, no-store, must-revalidate\n",
      "header: Expires: 0\n",
      "header: Content-Language: id\n",
      "header: Link: <https://static.tacdn.com>;rel=\"dns-prefetch\"\n",
      "header: Link: <https://static.tacdn.com>;rel=\"preconnect\";crossorigin\n",
      "header: timing-allow-origin: https://www.tripadvisor.com\n",
      "header: Vary: Accept-Encoding\n",
      "header: Content-Type: text/html;charset=UTF-8\n",
      "header: x-datadome: protected\n",
      "header: Accept-CH: Sec-CH-UA,Sec-CH-UA-Mobile,Sec-CH-UA-Platform,Sec-CH-UA-Arch,Sec-CH-UA-Full-Version-List,Sec-CH-UA-Model,Sec-CH-Device-Memory\n",
      "header: Content-Encoding: gzip\n",
      "header: x-request-id: 33f02464-c68a-4a09-bca2-53ec95fc3ff1\n",
      "header: Date: Wed, 24 May 2023 17:54:09 GMT\n",
      "header: Transfer-Encoding: chunked\n",
      "header: Connection: keep-alive\n",
      "header: Connection: Transfer-Encoding\n",
      "header: Set-Cookie: TADCID=bpwZrECKMQjVywXXABQCXdElnkGETRW-Svh01l3nWnW7H9kKzq55f5s6B2lpoqxOaNJQEF-PF58sUGSxCx3-dzWh9cZ0FULxDGY; Domain=www.tripadvisor.co.id; Expires=Sat, 21-May-2033 17:54:08 GMT; Path=/; Secure; HttpOnly\n",
      "header: Set-Cookie: TAUnique=%1%enc%3AdTLKbu2THV%2BCNtgs%2BCN3NnGfQMMEYPnqs7PdWZhwaq%2FtE%2FM7bXEydA%3D%3D; Domain=.tripadvisor.co.id; Expires=Fri, 23-May-2025 17:54:08 GMT; Path=/; HttpOnly\n",
      "header: Set-Cookie: TASSK=enc%3AAJza%2F1sF03G9%2FmkUQd1jL4Kejdh22PyvJVC3Tuhu4RSN6UA0OEMj1%2Fs2m5bYSI%2Fww5YXOcgHsu4lcWLzAGURMR3rlNQsGWLtn1x%2BbW2o4EhQHpTKe6UDFWg%2Bo65zJtHz5w%3D%3D; Domain=www.tripadvisor.co.id; Expires=Mon, 20-Nov-2023 17:54:09 GMT; Path=/; HttpOnly\n",
      "header: Set-Cookie: TASession=V2ID.30F6053CFAEB4811A9487B3AC7B65C2C*SQ.1*HS.recommended*ES.popularity*DS.5*SAS.popularity*FPS.oldFirst*LF.in*FA.1*DF.0*TRA.true*LD.614386; Domain=.tripadvisor.co.id; Path=/\n",
      "header: Set-Cookie: ServerPool=B; Domain=.tripadvisor.co.id; Path=/\n",
      "header: Set-Cookie: PMC=V2*MS.34*MD.20230524*LD.20230524; Domain=www.tripadvisor.co.id; Expires=Fri, 23-May-2025 17:54:09 GMT; Path=/; Secure; HttpOnly\n",
      "header: Set-Cookie: TART=%1%enc%3AgjbYLPgjdzaxS15%2BRWc46vNIHzPAFpnAsK4huqchq6mlKhIWXNRKPBqDpwbwS6hH0%2F%2BRWd5oZks%3D; Domain=www.tripadvisor.co.id; Expires=Mon, 29-May-2023 17:54:09 GMT; Path=/; HttpOnly\n",
      "header: Set-Cookie: CM=%1%PremiumMobSess%2C%2C-1%7Ct4b-pc%2C%2C-1%7CRestAds%2FRPers%2C%2C-1%7CRCPers%2C%2C-1%7CWShadeSeen%2C%2C-1%7CTheForkMCCPers%2C%2C-1%7CHomeASess%2C%2C-1%7CPremiumMCSess%2C%2C-1%7CCrisisSess%2C%2C-1%7CUVOwnersSess%2C%2C-1%7CRestPremRSess%2C%2C-1%7CRepTarMCSess%2C%2C-1%7CCCSess%2C%2C-1%7CCYLSess%2C%2C-1%7CPremRetPers%2C%2C-1%7CViatorMCPers%2C%2C-1%7Csesssticker%2C%2C-1%7C%24%2C%2C-1%7CPremiumORSess%2C%2C-1%7Ct4b-sc%2C%2C-1%7CRestAdsPers%2C%2C-1%7CMC_IB_UPSELL_IB_LOGOS2%2C%2C-1%7CTSMCPers%2C%2C-1%7Cb2bmcpers%2C%2C-1%7CPremMCBtmSess%2C%2C-1%7CMC_IB_UPSELL_IB_LOGOS%2C%2C-1%7CLaFourchette+Banners%2C%2C-1%7Csess_rev%2C%2C-1%7Csessamex%2C%2C-1%7CPremiumRRSess%2C%2C-1%7CTADORSess%2C%2C-1%7CAdsRetPers%2C%2C-1%7CListMCSess%2C%2C-1%7CTARSWBPers%2C%2C-1%7CSPMCSess%2C%2C-1%7CTheForkORSess%2C%2C-1%7CTheForkRRSess%2C%2C-1%7Cpers_rev%2C%2C-1%7CRBAPers%2C%2C-1%7CRestAds%2FRSess%2C%2C-1%7CHomeAPers%2C%2C-1%7CPremiumMobPers%2C%2C-1%7CRCSess%2C%2C-1%7CLaFourchette+MC+Banners%2C%2C-1%7CRestAdsCCSess%2C%2C-1%7CRestPremRPers%2C%2C-1%7CRevHubRMPers%2C%2C-1%7CUVOwnersPers%2C%2C-1%7Cpssamex%2C%2C-1%7CTheForkMCCSess%2C%2C-1%7CCrisisPers%2C%2C-1%7CCYLPers%2C%2C-1%7CCCPers%2C%2C-1%7CRepTarMCPers%2C%2C-1%7Cb2bmcsess%2C%2C-1%7CTSMCSess%2C%2C-1%7CSPMCPers%2C%2C-1%7CRevHubRMSess%2C%2C-1%7CPremRetSess%2C%2C-1%7CViatorMCSess%2C%2C-1%7CPremiumMCPers%2C%2C-1%7CAdsRetSess%2C%2C-1%7CPremiumRRPers%2C%2C-1%7CRestAdsCCPers%2C%2C-1%7CTADORPers%2C%2C-1%7CTheForkORPers%2C%2C-1%7CPremMCBtmPers%2C%2C-1%7CTheForkRRPers%2C%2C-1%7CTARSWBSess%2C%2C-1%7CPremiumORPers%2C%2C-1%7CRestAdsSess%2C%2C-1%7CRBASess%2C%2C-1%7CSPORPers%2C%2C-1%7Cperssticker%2C%2C-1%7CListMCPers%2C%2C-1%7C; Domain=.tripadvisor.co.id; Expires=Sat, 21-May-2033 17:54:09 GMT; Path=/\n",
      "header: Set-Cookie: BEPIN=%1%1884ee595d1%3Bweb165a.a.tripadvisor.com%3A30023%3B; Domain=.tripadvisor.co.id; Path=/\n",
      "header: Set-Cookie: PAC=AGsUunZT_WHJuNNaQkR36rMFSpfJ5C0JkXKqUgSFSjkZvJUusnwsbzuFsohqyPzAKZfOmMS-wgI3a_mH93wMps4RweLczi_aI7-aj428GOLQg7yGiYCOz62mlHKn8SrA4uT6ydSrTayyFrvmU_y-UOEhSxptxlNuK5LB0u6WcBy07cmMK5IXfC3gZX4kkCQolP8xVv48cs0_t8K_u3gDXPedhpryAkUmFG-R2EQ5_FhL; Domain=www.tripadvisor.co.id; Expires=Fri, 23-May-2025 17:54:09 GMT; Path=/; Secure; HttpOnly\n",
      "header: Set-Cookie: SRT=TART_SYNC; Domain=www.tripadvisor.co.id; Expires=Wed, 24-May-2023 18:24:09 GMT; Path=/\n",
      "header: Set-Cookie: TATravelInfo=V2*AY.2023*AM.6*AD.4*DY.2023*DM.6*DD.5*A.2*MG.-1*HP.2*FL.3*DSM.1684950849089*RS.1; Domain=.tripadvisor.co.id; Expires=Wed, 07-Jun-2023 17:54:09 GMT; Path=/\n",
      "header: Set-Cookie: TAUD=LG-1684950848960-2.1.F.*RDD-2-2023_05_25*HDD-3-2023_06_04.2023_06_05.1; Domain=.tripadvisor.co.id; Expires=Wed, 07-Jun-2023 17:54:09 GMT; Path=/\n",
      "header: Set-Cookie: TASID=30F6053CFAEB4811A9487B3AC7B65C2C; Domain=www.tripadvisor.co.id; Expires=Wed, 24-May-2023 18:24:09 GMT; Path=/; Secure\n",
      "header: Set-Cookie: TAReturnTo=%1%%2FHotel_Review-g608487-d614386-Reviews-or40-Grand_Sinar_Indah_Hotel-Legian_Kuta_District_Bali.html; Domain=.tripadvisor.co.id; Path=/\n",
      "header: Set-Cookie: datadome=2cExIth6YcjmHhB4asp9K3VXb9HjXt2_O1zSTdG1zR0lM~XmxntQshgK6vRibwlgjMwYbbYOY0OMP191GFqNyn4Dju1mef4BF6AbGW4zquye6bBslMdYLjes3JsChfGP; Max-Age=31104000; Domain=.tripadvisor.co.id; Path=/; Secure; SameSite=Lax\n",
      "Done Scrapping Grand Sinar Indah Hotel page 8\n",
      "\n",
      "\n"
     ]
    },
    {
     "name": "stderr",
     "output_type": "stream",
     "text": [
      "DEBUG:urllib3.connectionpool:Starting new HTTPS connection (1): www.tripadvisor.co.id:443\n"
     ]
    },
    {
     "name": "stdout",
     "output_type": "stream",
     "text": [
      "send: b'GET /Hotel_Review-g608487-d614386-Reviews-or45-Grand_Sinar_Indah_Hotel-Legian_Kuta_District_Bali.html HTTP/1.1\\r\\nHost: www.tripadvisor.co.id\\r\\nUser-Agent: Mozilla/5.0 (X11; CrOS x86_64 12871.102.0) AppleWebKit/537.36 (KHTML, like Gecko) Chrome/81.0.4044.141 Safari/537.36\\r\\nAccept-Encoding: gzip, deflate\\r\\nAccept: */*\\r\\nConnection: keep-alive\\r\\n\\r\\n'\n"
     ]
    },
    {
     "name": "stderr",
     "output_type": "stream",
     "text": [
      "DEBUG:urllib3.connectionpool:https://www.tripadvisor.co.id:443 \"GET /Hotel_Review-g608487-d614386-Reviews-or45-Grand_Sinar_Indah_Hotel-Legian_Kuta_District_Bali.html HTTP/1.1\" 200 None\n"
     ]
    },
    {
     "name": "stdout",
     "output_type": "stream",
     "text": [
      "reply: 'HTTP/1.1 200 OK\\r\\n'\n",
      "header: Server: envoy\n",
      "header: Link: <https://media-cdn.tripadvisor.com/media/>;rel=\"preconnect\";crossorigin\n",
      "header: Link: <https://media-cdn.tripadvisor.com/media/>;rel=\"dns-prefetch\"\n",
      "header: p3p: CP=\"NOI CURa ADMa DEVa TAIa OUR BUS IND UNI COM NAV INT DSP COR CAO PSA IDC ADM DEVi TAIi PSD IVAi IVDi CONi HIS CNT\"\n",
      "header: Pragma: no-cache\n",
      "header: Cache-Control: no-cache, no-store, must-revalidate\n",
      "header: Expires: 0\n",
      "header: Content-Language: id\n",
      "header: Link: <https://static.tacdn.com>;rel=\"dns-prefetch\"\n",
      "header: Link: <https://static.tacdn.com>;rel=\"preconnect\";crossorigin\n",
      "header: timing-allow-origin: https://www.tripadvisor.com\n",
      "header: Vary: Accept-Encoding\n",
      "header: Content-Type: text/html;charset=UTF-8\n",
      "header: x-datadome: protected\n",
      "header: Accept-CH: Sec-CH-UA,Sec-CH-UA-Mobile,Sec-CH-UA-Platform,Sec-CH-UA-Arch,Sec-CH-UA-Full-Version-List,Sec-CH-UA-Model,Sec-CH-Device-Memory\n",
      "header: Content-Encoding: gzip\n",
      "header: x-request-id: 330378ae-b8ad-4f05-ac3c-e5d99aad6c61\n",
      "header: Date: Wed, 24 May 2023 17:54:14 GMT\n",
      "header: Transfer-Encoding: chunked\n",
      "header: Connection: keep-alive\n",
      "header: Connection: Transfer-Encoding\n",
      "header: Set-Cookie: TADCID=xAFmrDmx6oaHmc48ABQCXdElnkGETRW-Svh01l3nWnW7H6CB0PySzfuq2CHt3hE8Vutlkmq2Yxb_-801aO0NmxXWHqV6MwGD5DQ; Domain=www.tripadvisor.co.id; Expires=Sat, 21-May-2033 17:54:13 GMT; Path=/; Secure; HttpOnly\n",
      "header: Set-Cookie: TAUnique=%1%enc%3AiyVYLMthAw6CNtgs%2BCN3NnGfQMMEYPnqNaTxXAC9FHtp%2FsZulCzPuw%3D%3D; Domain=.tripadvisor.co.id; Expires=Fri, 23-May-2025 17:54:13 GMT; Path=/; HttpOnly\n",
      "header: Set-Cookie: TASSK=enc%3AAOUV119GcFogAO%2BZbfN7WeaLeDzfV%2FLPa9IP%2BMzZZkHKHx2vxjC3DvVWoRHBfKOYRD8SKL4RFd0GUvCvKMmE16gVcHGzoVKJWZzMGjuyFwjqq7sA%2B2gmonlQQDZwwvuzXA%3D%3D; Domain=www.tripadvisor.co.id; Expires=Mon, 20-Nov-2023 17:54:14 GMT; Path=/; HttpOnly\n",
      "header: Set-Cookie: TASession=V2ID.A366D31C49A04DDD9961557014E1018C*SQ.1*HS.recommended*ES.popularity*DS.5*SAS.popularity*FPS.oldFirst*LF.in*FA.1*DF.0*TRA.true*LD.614386; Domain=.tripadvisor.co.id; Path=/\n",
      "header: Set-Cookie: ServerPool=A; Domain=.tripadvisor.co.id; Path=/\n",
      "header: Set-Cookie: PMC=V2*MS.68*MD.20230524*LD.20230524; Domain=www.tripadvisor.co.id; Expires=Fri, 23-May-2025 17:54:14 GMT; Path=/; Secure; HttpOnly\n",
      "header: Set-Cookie: TART=%1%enc%3AgjbYLPgjdzaxS15%2BRWc46kYr%2F1ZVNlnDC38VBH73ZLTmEhbdm7hbqj4eJNtzr2xMlenF4aI9p1A%3D; Domain=www.tripadvisor.co.id; Expires=Mon, 29-May-2023 17:54:14 GMT; Path=/; HttpOnly\n",
      "header: Set-Cookie: CM=%1%PremiumMobSess%2C%2C-1%7Ct4b-pc%2C%2C-1%7CRestAds%2FRPers%2C%2C-1%7CRCPers%2C%2C-1%7CWShadeSeen%2C%2C-1%7CTheForkMCCPers%2C%2C-1%7CHomeASess%2C%2C-1%7CPremiumMCSess%2C%2C-1%7CCrisisSess%2C%2C-1%7CUVOwnersSess%2C%2C-1%7CRestPremRSess%2C%2C-1%7CRepTarMCSess%2C%2C-1%7CCCSess%2C%2C-1%7CCYLSess%2C%2C-1%7CPremRetPers%2C%2C-1%7CViatorMCPers%2C%2C-1%7Csesssticker%2C%2C-1%7C%24%2C%2C-1%7CPremiumORSess%2C%2C-1%7Ct4b-sc%2C%2C-1%7CRestAdsPers%2C%2C-1%7CMC_IB_UPSELL_IB_LOGOS2%2C%2C-1%7CTSMCPers%2C%2C-1%7Cb2bmcpers%2C%2C-1%7CPremMCBtmSess%2C%2C-1%7CMC_IB_UPSELL_IB_LOGOS%2C%2C-1%7CLaFourchette+Banners%2C%2C-1%7Csess_rev%2C%2C-1%7Csessamex%2C%2C-1%7CPremiumRRSess%2C%2C-1%7CTADORSess%2C%2C-1%7CAdsRetPers%2C%2C-1%7CListMCSess%2C%2C-1%7CTARSWBPers%2C%2C-1%7CSPMCSess%2C%2C-1%7CTheForkORSess%2C%2C-1%7CTheForkRRSess%2C%2C-1%7Cpers_rev%2C%2C-1%7CRBAPers%2C%2C-1%7CRestAds%2FRSess%2C%2C-1%7CHomeAPers%2C%2C-1%7CPremiumMobPers%2C%2C-1%7CRCSess%2C%2C-1%7CLaFourchette+MC+Banners%2C%2C-1%7CRestAdsCCSess%2C%2C-1%7CRestPremRPers%2C%2C-1%7CRevHubRMPers%2C%2C-1%7CUVOwnersPers%2C%2C-1%7Cpssamex%2C%2C-1%7CTheForkMCCSess%2C%2C-1%7CCrisisPers%2C%2C-1%7CCYLPers%2C%2C-1%7CCCPers%2C%2C-1%7CRepTarMCPers%2C%2C-1%7Cb2bmcsess%2C%2C-1%7CTSMCSess%2C%2C-1%7CSPMCPers%2C%2C-1%7CRevHubRMSess%2C%2C-1%7CPremRetSess%2C%2C-1%7CViatorMCSess%2C%2C-1%7CPremiumMCPers%2C%2C-1%7CAdsRetSess%2C%2C-1%7CPremiumRRPers%2C%2C-1%7CRestAdsCCPers%2C%2C-1%7CTADORPers%2C%2C-1%7CTheForkORPers%2C%2C-1%7CPremMCBtmPers%2C%2C-1%7CTheForkRRPers%2C%2C-1%7CTARSWBSess%2C%2C-1%7CPremiumORPers%2C%2C-1%7CRestAdsSess%2C%2C-1%7CRBASess%2C%2C-1%7CSPORPers%2C%2C-1%7Cperssticker%2C%2C-1%7CListMCPers%2C%2C-1%7C; Domain=.tripadvisor.co.id; Expires=Sat, 21-May-2033 17:54:14 GMT; Path=/\n",
      "header: Set-Cookie: BEPIN=%1%1884ee5a7d8%3Bweb197a.a.tripadvisor.com%3A30023%3B; Domain=.tripadvisor.co.id; Path=/\n",
      "header: Set-Cookie: PAC=AI7tQ3sSfg3JpRhkcnL_lJ3-cFdDZNrfrnY-gVvUswRy6D_agM0A__FOhadzb3Flps4nsG1IDMtVv9DztMur0b93ifvWRIXxa4Wo0KN_QsLH70lOAwc_TZV6r2GwQksqFckqQUKsOSrDXVON9RLCTaYe_BfSYOVV18AFDxIyqmhTAVDTjbBc55C8RIbJyl1I0BTS0zsHpQSJzP0wMXKi5xMj9GPltF5c3wkP830CouXq; Domain=www.tripadvisor.co.id; Expires=Fri, 23-May-2025 17:54:14 GMT; Path=/; Secure; HttpOnly\n",
      "header: Set-Cookie: SRT=TART_SYNC; Domain=www.tripadvisor.co.id; Expires=Wed, 24-May-2023 18:24:14 GMT; Path=/\n",
      "header: Set-Cookie: TATravelInfo=V2*AY.2023*AM.6*AD.4*DY.2023*DM.6*DD.5*A.2*MG.-1*HP.2*FL.3*DSM.1684950853690*RS.1; Domain=.tripadvisor.co.id; Expires=Wed, 07-Jun-2023 17:54:14 GMT; Path=/\n",
      "header: Set-Cookie: TAUD=LG-1684950853574-2.1.F.*RDD-2-2023_05_25*HDD-3-2023_06_04.2023_06_05.1; Domain=.tripadvisor.co.id; Expires=Wed, 07-Jun-2023 17:54:14 GMT; Path=/\n",
      "header: Set-Cookie: TASID=A366D31C49A04DDD9961557014E1018C; Domain=www.tripadvisor.co.id; Expires=Wed, 24-May-2023 18:24:14 GMT; Path=/; Secure\n",
      "header: Set-Cookie: TAReturnTo=%1%%2FHotel_Review-g608487-d614386-Reviews-or45-Grand_Sinar_Indah_Hotel-Legian_Kuta_District_Bali.html; Domain=.tripadvisor.co.id; Path=/\n",
      "header: Set-Cookie: datadome=9yE-~xvEEPvmA0r~dznXFJ~Mf7a4UMAb0L0Z~xz7BuG_FqpU6WrC1cVW3Lf3Icn-827ny159QC2I7qNU28mywPytFaUBPJB5X5kU6FjPuny1pkYBLgJrKrEBVHiu31-; Max-Age=31104000; Domain=.tripadvisor.co.id; Path=/; Secure; SameSite=Lax\n",
      "Done Scrapping Grand Sinar Indah Hotel page 9\n",
      "\n",
      "\n"
     ]
    },
    {
     "name": "stderr",
     "output_type": "stream",
     "text": [
      "DEBUG:urllib3.connectionpool:Starting new HTTPS connection (1): www.tripadvisor.co.id:443\n"
     ]
    },
    {
     "name": "stdout",
     "output_type": "stream",
     "text": [
      "send: b'GET /Hotel_Review-g608487-d614386-Reviews-or50-Grand_Sinar_Indah_Hotel-Legian_Kuta_District_Bali.html HTTP/1.1\\r\\nHost: www.tripadvisor.co.id\\r\\nUser-Agent: Mozilla/5.0 (X11; CrOS x86_64 12871.102.0) AppleWebKit/537.36 (KHTML, like Gecko) Chrome/81.0.4044.141 Safari/537.36\\r\\nAccept-Encoding: gzip, deflate\\r\\nAccept: */*\\r\\nConnection: keep-alive\\r\\n\\r\\n'\n"
     ]
    },
    {
     "name": "stderr",
     "output_type": "stream",
     "text": [
      "DEBUG:urllib3.connectionpool:https://www.tripadvisor.co.id:443 \"GET /Hotel_Review-g608487-d614386-Reviews-or50-Grand_Sinar_Indah_Hotel-Legian_Kuta_District_Bali.html HTTP/1.1\" 200 None\n"
     ]
    },
    {
     "name": "stdout",
     "output_type": "stream",
     "text": [
      "reply: 'HTTP/1.1 200 OK\\r\\n'\n",
      "header: Server: envoy\n",
      "header: Link: <https://media-cdn.tripadvisor.com/media/>;rel=\"preconnect\";crossorigin\n",
      "header: Link: <https://media-cdn.tripadvisor.com/media/>;rel=\"dns-prefetch\"\n",
      "header: p3p: CP=\"NOI CURa ADMa DEVa TAIa OUR BUS IND UNI COM NAV INT DSP COR CAO PSA IDC ADM DEVi TAIi PSD IVAi IVDi CONi HIS CNT\"\n",
      "header: Pragma: no-cache\n",
      "header: Cache-Control: no-cache, no-store, must-revalidate\n",
      "header: Expires: 0\n",
      "header: Content-Language: id\n",
      "header: Link: <https://static.tacdn.com>;rel=\"dns-prefetch\"\n",
      "header: Link: <https://static.tacdn.com>;rel=\"preconnect\";crossorigin\n",
      "header: timing-allow-origin: https://www.tripadvisor.com\n",
      "header: Vary: Accept-Encoding\n",
      "header: Content-Type: text/html;charset=UTF-8\n",
      "header: x-datadome: protected\n",
      "header: Accept-CH: Sec-CH-UA,Sec-CH-UA-Mobile,Sec-CH-UA-Platform,Sec-CH-UA-Arch,Sec-CH-UA-Full-Version-List,Sec-CH-UA-Model,Sec-CH-Device-Memory\n",
      "header: Content-Encoding: gzip\n",
      "header: x-request-id: dbd5bce9-ef4c-4207-b9c4-07e1a3513d4c\n",
      "header: Date: Wed, 24 May 2023 17:54:19 GMT\n",
      "header: Transfer-Encoding: chunked\n",
      "header: Connection: keep-alive\n",
      "header: Connection: Transfer-Encoding\n",
      "header: Set-Cookie: TADCID=Dizd4Y-cp3TllS3nABQCXdElnkGETRW-Svh01l3nWnW7HxFO8oAu9cGqGGDJ7WrFTdmxRuHqLaN6NF7e0XBJbSXMNdBGB8mVhyM; Domain=www.tripadvisor.co.id; Expires=Sat, 21-May-2033 17:54:18 GMT; Path=/; Secure; HttpOnly\n",
      "header: Set-Cookie: TAUnique=%1%enc%3AWBQ%2FL%2FWn1ASCNtgs%2BCN3NnGfQMMEYPnq%2BSpARg5wk4e7Hez%2BN2mYlA%3D%3D; Domain=.tripadvisor.co.id; Expires=Fri, 23-May-2025 17:54:18 GMT; Path=/; HttpOnly\n",
      "header: Set-Cookie: TASSK=enc%3AAA2Jd9W2zhNm9Gl6svBn%2FL1C2w0Cx2svkoZflmZz7r%2Bxvn%2F5T%2BigTj0Zy%2F%2Fl9%2BLzgyxCUiwXRbCDW86zgFRaBd8rgo8MEQuZ0G8xqENC8SgS4vPlvb1rEYYqS%2FuivitFCg%3D%3D; Domain=www.tripadvisor.co.id; Expires=Mon, 20-Nov-2023 17:54:18 GMT; Path=/; HttpOnly\n",
      "header: Set-Cookie: TASession=V2ID.EE573B2502E34765993F9017A23A43E6*SQ.1*HS.recommended*ES.popularity*DS.5*SAS.popularity*FPS.oldFirst*LF.in*FA.1*DF.0*TRA.true*LD.614386; Domain=.tripadvisor.co.id; Path=/\n",
      "header: Set-Cookie: ServerPool=X; Domain=.tripadvisor.co.id; Path=/\n",
      "header: Set-Cookie: PMC=V2*MS.59*MD.20230524*LD.20230524; Domain=www.tripadvisor.co.id; Expires=Fri, 23-May-2025 17:54:18 GMT; Path=/; Secure; HttpOnly\n",
      "header: Set-Cookie: TART=%1%enc%3AgjbYLPgjdzaxS15%2BRWc46sbkRbka2sUJaTUa2pYZAnERpS3EtH4LGacTtJtqbNHGEwCbX3oibnw%3D; Domain=www.tripadvisor.co.id; Expires=Mon, 29-May-2023 17:54:18 GMT; Path=/; HttpOnly\n",
      "header: Set-Cookie: CM=%1%PremiumMobSess%2C%2C-1%7Ct4b-pc%2C%2C-1%7CRestAds%2FRPers%2C%2C-1%7CRCPers%2C%2C-1%7CWShadeSeen%2C%2C-1%7CTheForkMCCPers%2C%2C-1%7CHomeASess%2C%2C-1%7CPremiumMCSess%2C%2C-1%7CCrisisSess%2C%2C-1%7CUVOwnersSess%2C%2C-1%7CRestPremRSess%2C%2C-1%7CRepTarMCSess%2C%2C-1%7CCCSess%2C%2C-1%7CCYLSess%2C%2C-1%7CPremRetPers%2C%2C-1%7CViatorMCPers%2C%2C-1%7Csesssticker%2C%2C-1%7C%24%2C%2C-1%7CPremiumORSess%2C%2C-1%7Ct4b-sc%2C%2C-1%7CRestAdsPers%2C%2C-1%7CMC_IB_UPSELL_IB_LOGOS2%2C%2C-1%7CTSMCPers%2C%2C-1%7Cb2bmcpers%2C%2C-1%7CPremMCBtmSess%2C%2C-1%7CMC_IB_UPSELL_IB_LOGOS%2C%2C-1%7CLaFourchette+Banners%2C%2C-1%7Csess_rev%2C%2C-1%7Csessamex%2C%2C-1%7CPremiumRRSess%2C%2C-1%7CTADORSess%2C%2C-1%7CAdsRetPers%2C%2C-1%7CListMCSess%2C%2C-1%7CTARSWBPers%2C%2C-1%7CSPMCSess%2C%2C-1%7CTheForkORSess%2C%2C-1%7CTheForkRRSess%2C%2C-1%7Cpers_rev%2C%2C-1%7CRBAPers%2C%2C-1%7CRestAds%2FRSess%2C%2C-1%7CHomeAPers%2C%2C-1%7CPremiumMobPers%2C%2C-1%7CRCSess%2C%2C-1%7CLaFourchette+MC+Banners%2C%2C-1%7CRestAdsCCSess%2C%2C-1%7CRestPremRPers%2C%2C-1%7CRevHubRMPers%2C%2C-1%7CUVOwnersPers%2C%2C-1%7Cpssamex%2C%2C-1%7CTheForkMCCSess%2C%2C-1%7CCrisisPers%2C%2C-1%7CCYLPers%2C%2C-1%7CCCPers%2C%2C-1%7CRepTarMCPers%2C%2C-1%7Cb2bmcsess%2C%2C-1%7CTSMCSess%2C%2C-1%7CSPMCPers%2C%2C-1%7CRevHubRMSess%2C%2C-1%7CPremRetSess%2C%2C-1%7CViatorMCSess%2C%2C-1%7CPremiumMCPers%2C%2C-1%7CAdsRetSess%2C%2C-1%7CPremiumRRPers%2C%2C-1%7CRestAdsCCPers%2C%2C-1%7CTADORPers%2C%2C-1%7CTheForkORPers%2C%2C-1%7CPremMCBtmPers%2C%2C-1%7CTheForkRRPers%2C%2C-1%7CTARSWBSess%2C%2C-1%7CPremiumORPers%2C%2C-1%7CRestAdsSess%2C%2C-1%7CRBASess%2C%2C-1%7CSPORPers%2C%2C-1%7Cperssticker%2C%2C-1%7CListMCPers%2C%2C-1%7C; Domain=.tripadvisor.co.id; Expires=Sat, 21-May-2033 17:54:18 GMT; Path=/\n",
      "header: Set-Cookie: BEPIN=%1%1884ee5bb0f%3Bweb149a.a.tripadvisor.com%3A30023%3B; Domain=.tripadvisor.co.id; Path=/\n",
      "header: Set-Cookie: PAC=AJfrhJBN-hXdTzhE7sm6jieToBaKARcg2_Sd26y0H8Yk2RmlZemts_kGAZ4VTT29WPOdxCriHwYWBVWmaDy0Mqo5nMHOTgrQXzkowxXoZsP4vdpRoNZ6nUmKchOSpy_Z7Nk-h0qDjYUnDj99xk4MrJftEJAVnmI6tjd_5rVEMHt3LlVBf1qtW2XjjqzoyofQittx7EjpZOyGdIUZUbFHWTVrt7sQ7Awuk75ZqjjB0IOn; Domain=www.tripadvisor.co.id; Expires=Fri, 23-May-2025 17:54:18 GMT; Path=/; Secure; HttpOnly\n",
      "header: Set-Cookie: SRT=TART_SYNC; Domain=www.tripadvisor.co.id; Expires=Wed, 24-May-2023 18:24:18 GMT; Path=/\n",
      "header: Set-Cookie: TATravelInfo=V2*AY.2023*AM.6*AD.4*DY.2023*DM.6*DD.5*A.2*MG.-1*HP.2*FL.3*DSM.1684950858607*RS.1; Domain=.tripadvisor.co.id; Expires=Wed, 07-Jun-2023 17:54:18 GMT; Path=/\n",
      "header: Set-Cookie: TAUD=LG-1684950858492-2.1.F.*RDD-2-2023_05_25*HDD-3-2023_06_04.2023_06_05.1; Domain=.tripadvisor.co.id; Expires=Wed, 07-Jun-2023 17:54:18 GMT; Path=/\n",
      "header: Set-Cookie: TASID=EE573B2502E34765993F9017A23A43E6; Domain=www.tripadvisor.co.id; Expires=Wed, 24-May-2023 18:24:18 GMT; Path=/; Secure\n",
      "header: Set-Cookie: TAReturnTo=%1%%2FHotel_Review-g608487-d614386-Reviews-or50-Grand_Sinar_Indah_Hotel-Legian_Kuta_District_Bali.html; Domain=.tripadvisor.co.id; Path=/\n",
      "header: Set-Cookie: datadome=1sXe2NR9E3EDvFCx8rDMIGh9ifr~aIx-QY1gLgHEET_h1TzUvq9Gpr1ShEfjZI7SLo~LWdlZeewdniXwanVEJiiLhu82qd4O5hPVJbRJ_kzstpEtCyReo6WfKfmV94jd; Max-Age=31104000; Domain=.tripadvisor.co.id; Path=/; Secure; SameSite=Lax\n",
      "Done Scrapping Grand Sinar Indah Hotel page 10\n",
      "\n",
      "\n"
     ]
    },
    {
     "name": "stderr",
     "output_type": "stream",
     "text": [
      "DEBUG:urllib3.connectionpool:Starting new HTTPS connection (1): www.tripadvisor.co.id:443\n"
     ]
    },
    {
     "name": "stdout",
     "output_type": "stream",
     "text": [
      "send: b'GET /Hotel_Review-g608487-d614386-Reviews-or55-Grand_Sinar_Indah_Hotel-Legian_Kuta_District_Bali.html HTTP/1.1\\r\\nHost: www.tripadvisor.co.id\\r\\nUser-Agent: Mozilla/5.0 (X11; CrOS x86_64 12871.102.0) AppleWebKit/537.36 (KHTML, like Gecko) Chrome/81.0.4044.141 Safari/537.36\\r\\nAccept-Encoding: gzip, deflate\\r\\nAccept: */*\\r\\nConnection: keep-alive\\r\\n\\r\\n'\n"
     ]
    },
    {
     "name": "stderr",
     "output_type": "stream",
     "text": [
      "DEBUG:urllib3.connectionpool:https://www.tripadvisor.co.id:443 \"GET /Hotel_Review-g608487-d614386-Reviews-or55-Grand_Sinar_Indah_Hotel-Legian_Kuta_District_Bali.html HTTP/1.1\" 200 None\n"
     ]
    },
    {
     "name": "stdout",
     "output_type": "stream",
     "text": [
      "reply: 'HTTP/1.1 200 OK\\r\\n'\n",
      "header: Server: envoy\n",
      "header: Link: <https://media-cdn.tripadvisor.com/media/>;rel=\"preconnect\";crossorigin\n",
      "header: Link: <https://media-cdn.tripadvisor.com/media/>;rel=\"dns-prefetch\"\n",
      "header: p3p: CP=\"NOI CURa ADMa DEVa TAIa OUR BUS IND UNI COM NAV INT DSP COR CAO PSA IDC ADM DEVi TAIi PSD IVAi IVDi CONi HIS CNT\"\n",
      "header: Pragma: no-cache\n",
      "header: Cache-Control: no-cache, no-store, must-revalidate\n",
      "header: Expires: 0\n",
      "header: Content-Language: id\n",
      "header: Link: <https://static.tacdn.com>;rel=\"dns-prefetch\"\n",
      "header: Link: <https://static.tacdn.com>;rel=\"preconnect\";crossorigin\n",
      "header: timing-allow-origin: https://www.tripadvisor.com\n",
      "header: Vary: Accept-Encoding\n",
      "header: Content-Type: text/html;charset=UTF-8\n",
      "header: x-datadome: protected\n",
      "header: Accept-CH: Sec-CH-UA,Sec-CH-UA-Mobile,Sec-CH-UA-Platform,Sec-CH-UA-Arch,Sec-CH-UA-Full-Version-List,Sec-CH-UA-Model,Sec-CH-Device-Memory\n",
      "header: Content-Encoding: gzip\n",
      "header: x-request-id: 8501f2a1-b107-4e13-be75-034c5790430d\n",
      "header: Date: Wed, 24 May 2023 17:54:24 GMT\n",
      "header: Transfer-Encoding: chunked\n",
      "header: Connection: keep-alive\n",
      "header: Connection: Transfer-Encoding\n",
      "header: Set-Cookie: TADCID=iKt4Hd2UKltbgL3tABQCXdElnkGETRW-Svh01l3nWnW7H-e3manKqD-niTyPWZJF875FojbqN3fumx-Q5D1IQNwYDF3h-G5qpao; Domain=www.tripadvisor.co.id; Expires=Sat, 21-May-2033 17:54:23 GMT; Path=/; Secure; HttpOnly\n",
      "header: Set-Cookie: TAUnique=%1%enc%3A60i19%2B3yCMeCNtgs%2BCN3NnGfQMMEYPnqgTmU%2F9o5wMv63EFhFhwCpw%3D%3D; Domain=.tripadvisor.co.id; Expires=Fri, 23-May-2025 17:54:23 GMT; Path=/; HttpOnly\n",
      "header: Set-Cookie: TASSK=enc%3AAOUX7Yt%2Bw66f6Qct2%2FkVTXur2tgW511MOa%2BOSi6ACTO0ySBFMgZGSUDdmj3rgA5Hj26ZbRx1SxWnvBNEaiwNHA5nmSjJm2n7hmMf%2Fa5sGsQeDERNTxZYT%2BGLz80p2T6N%2Fw%3D%3D; Domain=www.tripadvisor.co.id; Expires=Mon, 20-Nov-2023 17:54:24 GMT; Path=/; HttpOnly\n",
      "header: Set-Cookie: TASession=V2ID.B8ADB7DFC89449C89AE0DFAA2AEFED41*SQ.1*HS.recommended*ES.popularity*DS.5*SAS.popularity*FPS.oldFirst*LF.in*FA.1*DF.0*TRA.true*LD.614386; Domain=.tripadvisor.co.id; Path=/\n",
      "header: Set-Cookie: ServerPool=C; Domain=.tripadvisor.co.id; Path=/\n",
      "header: Set-Cookie: PMC=V2*MS.17*MD.20230524*LD.20230524; Domain=www.tripadvisor.co.id; Expires=Fri, 23-May-2025 17:54:24 GMT; Path=/; Secure; HttpOnly\n",
      "header: Set-Cookie: TART=%1%enc%3AgjbYLPgjdzaxS15%2BRWc46u9VvsUCdw5So5WHiKyXRu9dP7ZKhH61xHwab60P%2By9%2BPpdPhtkodnY%3D; Domain=www.tripadvisor.co.id; Expires=Mon, 29-May-2023 17:54:24 GMT; Path=/; HttpOnly\n",
      "header: Set-Cookie: CM=%1%PremiumMobSess%2C%2C-1%7Ct4b-pc%2C%2C-1%7CRestAds%2FRPers%2C%2C-1%7CRCPers%2C%2C-1%7CWShadeSeen%2C%2C-1%7CTheForkMCCPers%2C%2C-1%7CHomeASess%2C%2C-1%7CPremiumMCSess%2C%2C-1%7CCrisisSess%2C%2C-1%7CUVOwnersSess%2C%2C-1%7CRestPremRSess%2C%2C-1%7CRepTarMCSess%2C%2C-1%7CCCSess%2C%2C-1%7CCYLSess%2C%2C-1%7CPremRetPers%2C%2C-1%7CViatorMCPers%2C%2C-1%7Csesssticker%2C%2C-1%7C%24%2C%2C-1%7CPremiumORSess%2C%2C-1%7Ct4b-sc%2C%2C-1%7CRestAdsPers%2C%2C-1%7CMC_IB_UPSELL_IB_LOGOS2%2C%2C-1%7CTSMCPers%2C%2C-1%7Cb2bmcpers%2C%2C-1%7CPremMCBtmSess%2C%2C-1%7CMC_IB_UPSELL_IB_LOGOS%2C%2C-1%7CLaFourchette+Banners%2C%2C-1%7Csess_rev%2C%2C-1%7Csessamex%2C%2C-1%7CPremiumRRSess%2C%2C-1%7CTADORSess%2C%2C-1%7CAdsRetPers%2C%2C-1%7CListMCSess%2C%2C-1%7CTARSWBPers%2C%2C-1%7CSPMCSess%2C%2C-1%7CTheForkORSess%2C%2C-1%7CTheForkRRSess%2C%2C-1%7Cpers_rev%2C%2C-1%7CRBAPers%2C%2C-1%7CRestAds%2FRSess%2C%2C-1%7CHomeAPers%2C%2C-1%7CPremiumMobPers%2C%2C-1%7CRCSess%2C%2C-1%7CLaFourchette+MC+Banners%2C%2C-1%7CRestAdsCCSess%2C%2C-1%7CRestPremRPers%2C%2C-1%7CRevHubRMPers%2C%2C-1%7CUVOwnersPers%2C%2C-1%7Cpssamex%2C%2C-1%7CTheForkMCCSess%2C%2C-1%7CCrisisPers%2C%2C-1%7CCYLPers%2C%2C-1%7CCCPers%2C%2C-1%7CRepTarMCPers%2C%2C-1%7Cb2bmcsess%2C%2C-1%7CTSMCSess%2C%2C-1%7CSPMCPers%2C%2C-1%7CRevHubRMSess%2C%2C-1%7CPremRetSess%2C%2C-1%7CViatorMCSess%2C%2C-1%7CPremiumMCPers%2C%2C-1%7CAdsRetSess%2C%2C-1%7CPremiumRRPers%2C%2C-1%7CRestAdsCCPers%2C%2C-1%7CTADORPers%2C%2C-1%7CTheForkORPers%2C%2C-1%7CPremMCBtmPers%2C%2C-1%7CTheForkRRPers%2C%2C-1%7CTARSWBSess%2C%2C-1%7CPremiumORPers%2C%2C-1%7CRestAdsSess%2C%2C-1%7CRBASess%2C%2C-1%7CSPORPers%2C%2C-1%7Cperssticker%2C%2C-1%7CListMCPers%2C%2C-1%7C; Domain=.tripadvisor.co.id; Expires=Sat, 21-May-2033 17:54:24 GMT; Path=/\n",
      "header: Set-Cookie: BEPIN=%1%1884ee5ce18%3Bweb123a.a.tripadvisor.com%3A30023%3B; Domain=.tripadvisor.co.id; Path=/\n",
      "header: Set-Cookie: PAC=AJI86wCz9c4A8CpcVS-hnsQHB8Un0KUWeHl7oJxA9_h-iKxKmxjhNHxM965Z_nr0estr9kX5Z4Ekwe7oAtqIWn7k71Fd9h0a93itC49O8jxDnPAEpf8ZAttqWG4mg_j_pMrllffG_AvJu1gMO2VfIFSDBQnTA_2tDmnTwQRYW0lD-dsiMfkqig6HHI-r2B9pTKghwVTcqXxYpGfgAdXr7Ntp0BYwAcuMc5hFXD0uv1se; Domain=www.tripadvisor.co.id; Expires=Fri, 23-May-2025 17:54:24 GMT; Path=/; Secure; HttpOnly\n",
      "header: Set-Cookie: SRT=TART_SYNC; Domain=www.tripadvisor.co.id; Expires=Wed, 24-May-2023 18:24:24 GMT; Path=/\n",
      "header: Set-Cookie: TATravelInfo=V2*AY.2023*AM.6*AD.4*DY.2023*DM.6*DD.5*A.2*MG.-1*HP.2*FL.3*DSM.1684950863491*RS.1; Domain=.tripadvisor.co.id; Expires=Wed, 07-Jun-2023 17:54:24 GMT; Path=/\n",
      "header: Set-Cookie: TAUD=LG-1684950863364-2.1.F.*RDD-2-2023_05_25*HDD-3-2023_06_04.2023_06_05.1; Domain=.tripadvisor.co.id; Expires=Wed, 07-Jun-2023 17:54:24 GMT; Path=/\n",
      "header: Set-Cookie: TASID=B8ADB7DFC89449C89AE0DFAA2AEFED41; Domain=www.tripadvisor.co.id; Expires=Wed, 24-May-2023 18:24:24 GMT; Path=/; Secure\n",
      "header: Set-Cookie: TAReturnTo=%1%%2FHotel_Review-g608487-d614386-Reviews-or55-Grand_Sinar_Indah_Hotel-Legian_Kuta_District_Bali.html; Domain=.tripadvisor.co.id; Path=/\n",
      "header: Set-Cookie: datadome=5xYIPrFPAHNZk9Kf8iiMYyHydAnpviBjpkcf-ixyjcccsAFQNAV79AnWEUEBU6JMS51Oh5P4Le55v~OIWlpChOGYOYoXU1hZ3OcJYfaABYjaR-u_yGOYSQglucq6AqrS; Max-Age=31104000; Domain=.tripadvisor.co.id; Path=/; Secure; SameSite=Lax\n",
      "Done Scrapping Grand Sinar Indah Hotel page 11\n",
      "\n",
      "\n"
     ]
    },
    {
     "name": "stderr",
     "output_type": "stream",
     "text": [
      "DEBUG:urllib3.connectionpool:Starting new HTTPS connection (1): www.tripadvisor.co.id:443\n"
     ]
    },
    {
     "name": "stdout",
     "output_type": "stream",
     "text": [
      "send: b'GET /Hotel_Review-g608487-d614386-Reviews-or60-Grand_Sinar_Indah_Hotel-Legian_Kuta_District_Bali.html HTTP/1.1\\r\\nHost: www.tripadvisor.co.id\\r\\nUser-Agent: Mozilla/5.0 (X11; CrOS x86_64 12871.102.0) AppleWebKit/537.36 (KHTML, like Gecko) Chrome/81.0.4044.141 Safari/537.36\\r\\nAccept-Encoding: gzip, deflate\\r\\nAccept: */*\\r\\nConnection: keep-alive\\r\\n\\r\\n'\n"
     ]
    },
    {
     "name": "stderr",
     "output_type": "stream",
     "text": [
      "DEBUG:urllib3.connectionpool:https://www.tripadvisor.co.id:443 \"GET /Hotel_Review-g608487-d614386-Reviews-or60-Grand_Sinar_Indah_Hotel-Legian_Kuta_District_Bali.html HTTP/1.1\" 200 None\n"
     ]
    },
    {
     "name": "stdout",
     "output_type": "stream",
     "text": [
      "reply: 'HTTP/1.1 200 OK\\r\\n'\n",
      "header: Server: envoy\n",
      "header: Link: <https://media-cdn.tripadvisor.com/media/>;rel=\"preconnect\";crossorigin\n",
      "header: Link: <https://media-cdn.tripadvisor.com/media/>;rel=\"dns-prefetch\"\n",
      "header: p3p: CP=\"NOI CURa ADMa DEVa TAIa OUR BUS IND UNI COM NAV INT DSP COR CAO PSA IDC ADM DEVi TAIi PSD IVAi IVDi CONi HIS CNT\"\n",
      "header: Pragma: no-cache\n",
      "header: Cache-Control: no-cache, no-store, must-revalidate\n",
      "header: Expires: 0\n",
      "header: Content-Language: id\n",
      "header: Link: <https://static.tacdn.com>;rel=\"dns-prefetch\"\n",
      "header: Link: <https://static.tacdn.com>;rel=\"preconnect\";crossorigin\n",
      "header: timing-allow-origin: https://www.tripadvisor.com\n",
      "header: Vary: Accept-Encoding\n",
      "header: Content-Type: text/html;charset=UTF-8\n",
      "header: x-datadome: protected\n",
      "header: Accept-CH: Sec-CH-UA,Sec-CH-UA-Mobile,Sec-CH-UA-Platform,Sec-CH-UA-Arch,Sec-CH-UA-Full-Version-List,Sec-CH-UA-Model,Sec-CH-Device-Memory\n",
      "header: Content-Encoding: gzip\n",
      "header: x-request-id: bc719523-d6ec-40a5-9e76-289c44777eba\n",
      "header: Date: Wed, 24 May 2023 17:54:29 GMT\n",
      "header: Transfer-Encoding: chunked\n",
      "header: Connection: keep-alive\n",
      "header: Connection: Transfer-Encoding\n",
      "header: Set-Cookie: TADCID=01wfRKxeck7_c_qzABQCXdElnkGETRW-Svh01l3nWnW7H8erVFuD2Ml3RX0pC47wM__gDQVMnHgoSH48dnhE0UxkzAjuQsyumFs; Domain=www.tripadvisor.co.id; Expires=Sat, 21-May-2033 17:54:28 GMT; Path=/; Secure; HttpOnly\n",
      "header: Set-Cookie: TAUnique=%1%enc%3AHxtaVtNFDQaCNtgs%2BCN3NnGfQMMEYPnqclvSDWoq6pwCIRo8O%2BzpkQ%3D%3D; Domain=.tripadvisor.co.id; Expires=Fri, 23-May-2025 17:54:28 GMT; Path=/; HttpOnly\n",
      "header: Set-Cookie: TASSK=enc%3AAHB9thnhFjw0ZcUKQi%2BReqiGnRDhlEOzcJ5JQOXYTjku0bRWsNWTDzWVFkQNkLxmeNRtYC%2F%2BLUDsc1JVLDK5YhdzBkPFsggHbFXlyvMBjP0bMFo67fO6Z%2B3OzK3A6NsZLQ%3D%3D; Domain=www.tripadvisor.co.id; Expires=Mon, 20-Nov-2023 17:54:29 GMT; Path=/; HttpOnly\n",
      "header: Set-Cookie: TASession=V2ID.32950E6734054136A3F3F5FFEA81F877*SQ.1*HS.recommended*ES.popularity*DS.5*SAS.popularity*FPS.oldFirst*LF.in*FA.1*DF.0*TRA.true*LD.614386; Domain=.tripadvisor.co.id; Path=/\n",
      "header: Set-Cookie: ServerPool=C; Domain=.tripadvisor.co.id; Path=/\n",
      "header: Set-Cookie: PMC=V2*MS.48*MD.20230524*LD.20230524; Domain=www.tripadvisor.co.id; Expires=Fri, 23-May-2025 17:54:29 GMT; Path=/; Secure; HttpOnly\n",
      "header: Set-Cookie: TART=%1%enc%3AgjbYLPgjdzaxS15%2BRWc46nrtpZUbj0Pg6GZn8EKukW4HDP7K%2FVz5o09CHtCwRrG7GkHdOJQa554%3D; Domain=www.tripadvisor.co.id; Expires=Mon, 29-May-2023 17:54:29 GMT; Path=/; HttpOnly\n",
      "header: Set-Cookie: CM=%1%PremiumMobSess%2C%2C-1%7Ct4b-pc%2C%2C-1%7CRestAds%2FRPers%2C%2C-1%7CRCPers%2C%2C-1%7CWShadeSeen%2C%2C-1%7CTheForkMCCPers%2C%2C-1%7CHomeASess%2C%2C-1%7CPremiumMCSess%2C%2C-1%7CCrisisSess%2C%2C-1%7CUVOwnersSess%2C%2C-1%7CRestPremRSess%2C%2C-1%7CRepTarMCSess%2C%2C-1%7CCCSess%2C%2C-1%7CCYLSess%2C%2C-1%7CPremRetPers%2C%2C-1%7CViatorMCPers%2C%2C-1%7Csesssticker%2C%2C-1%7C%24%2C%2C-1%7CPremiumORSess%2C%2C-1%7Ct4b-sc%2C%2C-1%7CRestAdsPers%2C%2C-1%7CMC_IB_UPSELL_IB_LOGOS2%2C%2C-1%7CTSMCPers%2C%2C-1%7Cb2bmcpers%2C%2C-1%7CPremMCBtmSess%2C%2C-1%7CMC_IB_UPSELL_IB_LOGOS%2C%2C-1%7CLaFourchette+Banners%2C%2C-1%7Csess_rev%2C%2C-1%7Csessamex%2C%2C-1%7CPremiumRRSess%2C%2C-1%7CTADORSess%2C%2C-1%7CAdsRetPers%2C%2C-1%7CListMCSess%2C%2C-1%7CTARSWBPers%2C%2C-1%7CSPMCSess%2C%2C-1%7CTheForkORSess%2C%2C-1%7CTheForkRRSess%2C%2C-1%7Cpers_rev%2C%2C-1%7CRBAPers%2C%2C-1%7CRestAds%2FRSess%2C%2C-1%7CHomeAPers%2C%2C-1%7CPremiumMobPers%2C%2C-1%7CRCSess%2C%2C-1%7CLaFourchette+MC+Banners%2C%2C-1%7CRestAdsCCSess%2C%2C-1%7CRestPremRPers%2C%2C-1%7CRevHubRMPers%2C%2C-1%7CUVOwnersPers%2C%2C-1%7Cpssamex%2C%2C-1%7CTheForkMCCSess%2C%2C-1%7CCrisisPers%2C%2C-1%7CCYLPers%2C%2C-1%7CCCPers%2C%2C-1%7CRepTarMCPers%2C%2C-1%7Cb2bmcsess%2C%2C-1%7CTSMCSess%2C%2C-1%7CSPMCPers%2C%2C-1%7CRevHubRMSess%2C%2C-1%7CPremRetSess%2C%2C-1%7CViatorMCSess%2C%2C-1%7CPremiumMCPers%2C%2C-1%7CAdsRetSess%2C%2C-1%7CPremiumRRPers%2C%2C-1%7CRestAdsCCPers%2C%2C-1%7CTADORPers%2C%2C-1%7CTheForkORPers%2C%2C-1%7CPremMCBtmPers%2C%2C-1%7CTheForkRRPers%2C%2C-1%7CTARSWBSess%2C%2C-1%7CPremiumORPers%2C%2C-1%7CRestAdsSess%2C%2C-1%7CRBASess%2C%2C-1%7CSPORPers%2C%2C-1%7Cperssticker%2C%2C-1%7CListMCPers%2C%2C-1%7C; Domain=.tripadvisor.co.id; Expires=Sat, 21-May-2033 17:54:29 GMT; Path=/\n",
      "header: Set-Cookie: BEPIN=%1%1884ee5e2ae%3Bweb149a.a.tripadvisor.com%3A30023%3B; Domain=.tripadvisor.co.id; Path=/\n",
      "header: Set-Cookie: PAC=AOdPQCJfGXGZ0_gR7T0VUOy-YFlMJQ76-z2bpEms9apa1Lii2eZQJFFQ5fNnmcCwR0Pgaf8qojxX3GKTrYBr0XrG9an16g54TLqpzFTJFPGyutvWjjP-9vnAKQU2n9JuGSiArCjO3frycBBC_NScm8-VkQZK2ITryWxz-e3xqzl_2w3hz4AIIGS1vfdrSwWtVbYPtMma33qjSmcfg38HmKvcW01zcXbrnI8PiYJ-5Pno; Domain=www.tripadvisor.co.id; Expires=Fri, 23-May-2025 17:54:29 GMT; Path=/; Secure; HttpOnly\n",
      "header: Set-Cookie: SRT=TART_SYNC; Domain=www.tripadvisor.co.id; Expires=Wed, 24-May-2023 18:24:29 GMT; Path=/\n",
      "header: Set-Cookie: TATravelInfo=V2*AY.2023*AM.6*AD.4*DY.2023*DM.6*DD.5*A.2*MG.-1*HP.2*FL.3*DSM.1684950868750*RS.1; Domain=.tripadvisor.co.id; Expires=Wed, 07-Jun-2023 17:54:29 GMT; Path=/\n",
      "header: Set-Cookie: TAUD=LG-1684950868622-2.1.F.*RDD-2-2023_05_25*HDD-3-2023_06_04.2023_06_05.1; Domain=.tripadvisor.co.id; Expires=Wed, 07-Jun-2023 17:54:29 GMT; Path=/\n",
      "header: Set-Cookie: TASID=32950E6734054136A3F3F5FFEA81F877; Domain=www.tripadvisor.co.id; Expires=Wed, 24-May-2023 18:24:29 GMT; Path=/; Secure\n",
      "header: Set-Cookie: TAReturnTo=%1%%2FHotel_Review-g608487-d614386-Reviews-or60-Grand_Sinar_Indah_Hotel-Legian_Kuta_District_Bali.html; Domain=.tripadvisor.co.id; Path=/\n",
      "header: Set-Cookie: datadome=1EeTsb-DQosjW1m4ke2c~9slITQ_GNTPEZMbsNHEqXPsI5~EA-w7srY8QLTGOLu-VQcQ4H3lJGSkig_GEtZMZmXcDl2QmYvkw3HUw2MOQ0ro~FAvl8PEEQfCCqUhArTv; Max-Age=31104000; Domain=.tripadvisor.co.id; Path=/; Secure; SameSite=Lax\n",
      "Done Scrapping Grand Sinar Indah Hotel page 12\n",
      "\n",
      "\n"
     ]
    },
    {
     "name": "stderr",
     "output_type": "stream",
     "text": [
      "DEBUG:urllib3.connectionpool:Starting new HTTPS connection (1): www.tripadvisor.co.id:443\n"
     ]
    },
    {
     "name": "stdout",
     "output_type": "stream",
     "text": [
      "send: b'GET /Hotel_Review-g608487-d614386-Reviews-or65-Grand_Sinar_Indah_Hotel-Legian_Kuta_District_Bali.html HTTP/1.1\\r\\nHost: www.tripadvisor.co.id\\r\\nUser-Agent: Mozilla/5.0 (X11; CrOS x86_64 12871.102.0) AppleWebKit/537.36 (KHTML, like Gecko) Chrome/81.0.4044.141 Safari/537.36\\r\\nAccept-Encoding: gzip, deflate\\r\\nAccept: */*\\r\\nConnection: keep-alive\\r\\n\\r\\n'\n"
     ]
    },
    {
     "name": "stderr",
     "output_type": "stream",
     "text": [
      "DEBUG:urllib3.connectionpool:https://www.tripadvisor.co.id:443 \"GET /Hotel_Review-g608487-d614386-Reviews-or65-Grand_Sinar_Indah_Hotel-Legian_Kuta_District_Bali.html HTTP/1.1\" 200 None\n"
     ]
    },
    {
     "name": "stdout",
     "output_type": "stream",
     "text": [
      "reply: 'HTTP/1.1 200 OK\\r\\n'\n",
      "header: Server: envoy\n",
      "header: Link: <https://media-cdn.tripadvisor.com/media/>;rel=\"preconnect\";crossorigin\n",
      "header: Link: <https://media-cdn.tripadvisor.com/media/>;rel=\"dns-prefetch\"\n",
      "header: p3p: CP=\"NOI CURa ADMa DEVa TAIa OUR BUS IND UNI COM NAV INT DSP COR CAO PSA IDC ADM DEVi TAIi PSD IVAi IVDi CONi HIS CNT\"\n",
      "header: Pragma: no-cache\n",
      "header: Cache-Control: no-cache, no-store, must-revalidate\n",
      "header: Expires: 0\n",
      "header: Content-Language: id\n",
      "header: Link: <https://static.tacdn.com>;rel=\"dns-prefetch\"\n",
      "header: Link: <https://static.tacdn.com>;rel=\"preconnect\";crossorigin\n",
      "header: timing-allow-origin: https://www.tripadvisor.com\n",
      "header: Vary: Accept-Encoding\n",
      "header: Content-Type: text/html;charset=UTF-8\n",
      "header: Accept-CH: Sec-CH-UA,Sec-CH-UA-Mobile,Sec-CH-UA-Platform,Sec-CH-UA-Arch,Sec-CH-UA-Full-Version-List,Sec-CH-UA-Model,Sec-CH-Device-Memory\n",
      "header: x-datadome: protected\n",
      "header: Content-Encoding: gzip\n",
      "header: x-request-id: 980282f6-8325-4e9e-92ee-07593621aec2\n",
      "header: Date: Wed, 24 May 2023 17:54:34 GMT\n",
      "header: Transfer-Encoding: chunked\n",
      "header: Connection: keep-alive\n",
      "header: Connection: Transfer-Encoding\n",
      "header: Set-Cookie: TADCID=tUgTbSYwEkTu3rQ_ABQCXdElnkGETRW-Svh01l3nWnW7HwITLAEK9naT__17JeIlQ5wIds_h3x3acXPvGXy5g7ulxKyJxISZUqE; Domain=www.tripadvisor.co.id; Expires=Sat, 21-May-2033 17:54:33 GMT; Path=/; Secure; HttpOnly\n",
      "header: Set-Cookie: TAUnique=%1%enc%3ATT0OJjZFfNaCNtgs%2BCN3NnGfQMMEYPnqZMAUcPrlvL3qPY2m%2FyMqug%3D%3D; Domain=.tripadvisor.co.id; Expires=Fri, 23-May-2025 17:54:33 GMT; Path=/; HttpOnly\n",
      "header: Set-Cookie: TASSK=enc%3AAIGOkJfgFitthQFfbjNKMyjMVT6%2FO9xD7YQhMeEbt%2FJf27bEUunqTLHtmvD5mXaFIjYce8QVrvNFsbcVulQLdCrIpLfgSH1FGJbjbGngDIQwU5e6aQ2P32Z9Sp6f0ZJOBQ%3D%3D; Domain=www.tripadvisor.co.id; Expires=Mon, 20-Nov-2023 17:54:33 GMT; Path=/; HttpOnly\n",
      "header: Set-Cookie: TASession=V2ID.FD5C8511FBB44AEC97965B12F2557627*SQ.1*HS.recommended*ES.popularity*DS.5*SAS.popularity*FPS.oldFirst*LF.in*FA.1*DF.0*TRA.true*LD.614386; Domain=.tripadvisor.co.id; Path=/\n",
      "header: Set-Cookie: ServerPool=X; Domain=.tripadvisor.co.id; Path=/\n",
      "header: Set-Cookie: PMC=V2*MS.8*MD.20230524*LD.20230524; Domain=www.tripadvisor.co.id; Expires=Fri, 23-May-2025 17:54:33 GMT; Path=/; Secure; HttpOnly\n",
      "header: Set-Cookie: TART=%1%enc%3AgjbYLPgjdzaxS15%2BRWc46jDkDWVpkmkS5QDtEEjxzFMiPD6unJ%2BzC8sfLlvZtARBojqprZAZ870%3D; Domain=www.tripadvisor.co.id; Expires=Mon, 29-May-2023 17:54:33 GMT; Path=/; HttpOnly\n",
      "header: Set-Cookie: CM=%1%PremiumMobSess%2C%2C-1%7Ct4b-pc%2C%2C-1%7CRestAds%2FRPers%2C%2C-1%7CRCPers%2C%2C-1%7CWShadeSeen%2C%2C-1%7CTheForkMCCPers%2C%2C-1%7CHomeASess%2C%2C-1%7CPremiumMCSess%2C%2C-1%7CCrisisSess%2C%2C-1%7CUVOwnersSess%2C%2C-1%7CRestPremRSess%2C%2C-1%7CRepTarMCSess%2C%2C-1%7CCCSess%2C%2C-1%7CCYLSess%2C%2C-1%7CPremRetPers%2C%2C-1%7CViatorMCPers%2C%2C-1%7Csesssticker%2C%2C-1%7C%24%2C%2C-1%7CPremiumORSess%2C%2C-1%7Ct4b-sc%2C%2C-1%7CRestAdsPers%2C%2C-1%7CMC_IB_UPSELL_IB_LOGOS2%2C%2C-1%7CTSMCPers%2C%2C-1%7Cb2bmcpers%2C%2C-1%7CPremMCBtmSess%2C%2C-1%7CMC_IB_UPSELL_IB_LOGOS%2C%2C-1%7CLaFourchette+Banners%2C%2C-1%7Csess_rev%2C%2C-1%7Csessamex%2C%2C-1%7CPremiumRRSess%2C%2C-1%7CTADORSess%2C%2C-1%7CAdsRetPers%2C%2C-1%7CListMCSess%2C%2C-1%7CTARSWBPers%2C%2C-1%7CSPMCSess%2C%2C-1%7CTheForkORSess%2C%2C-1%7CTheForkRRSess%2C%2C-1%7Cpers_rev%2C%2C-1%7CRBAPers%2C%2C-1%7CRestAds%2FRSess%2C%2C-1%7CHomeAPers%2C%2C-1%7CPremiumMobPers%2C%2C-1%7CRCSess%2C%2C-1%7CLaFourchette+MC+Banners%2C%2C-1%7CRestAdsCCSess%2C%2C-1%7CRestPremRPers%2C%2C-1%7CRevHubRMPers%2C%2C-1%7CUVOwnersPers%2C%2C-1%7Cpssamex%2C%2C-1%7CTheForkMCCSess%2C%2C-1%7CCrisisPers%2C%2C-1%7CCYLPers%2C%2C-1%7CCCPers%2C%2C-1%7CRepTarMCPers%2C%2C-1%7Cb2bmcsess%2C%2C-1%7CTSMCSess%2C%2C-1%7CSPMCPers%2C%2C-1%7CRevHubRMSess%2C%2C-1%7CPremRetSess%2C%2C-1%7CViatorMCSess%2C%2C-1%7CPremiumMCPers%2C%2C-1%7CAdsRetSess%2C%2C-1%7CPremiumRRPers%2C%2C-1%7CRestAdsCCPers%2C%2C-1%7CTADORPers%2C%2C-1%7CTheForkORPers%2C%2C-1%7CPremMCBtmPers%2C%2C-1%7CTheForkRRPers%2C%2C-1%7CTARSWBSess%2C%2C-1%7CPremiumORPers%2C%2C-1%7CRestAdsSess%2C%2C-1%7CRBASess%2C%2C-1%7CSPORPers%2C%2C-1%7Cperssticker%2C%2C-1%7CListMCPers%2C%2C-1%7C; Domain=.tripadvisor.co.id; Expires=Sat, 21-May-2033 17:54:33 GMT; Path=/\n",
      "header: Set-Cookie: BEPIN=%1%1884ee5f5ac%3Bweb303a.a.tripadvisor.com%3A30023%3B; Domain=.tripadvisor.co.id; Path=/\n",
      "header: Set-Cookie: PAC=AHXumPqcX0vgUVhHm6R853eHU-pG8dFnq92E4rxIlYn2K7AreoELptqfQgOUIw2X-o0PyKa1U1yrORNWGOUILhIQqk8SnkMLyIgsAtvnusJT_qdulcOlQi4MNLV4pGXqpRGGTrp1wOEERKvgD58wCb9udYLpVfSWqBC1DmQu6-ZvctaZN318hxvd7l8xvD1KtDsGnLmUMLdL6Ew8hjIwohHDcsxmgXGHnhmCWeGM3Srj; Domain=www.tripadvisor.co.id; Expires=Fri, 23-May-2025 17:54:33 GMT; Path=/; Secure; HttpOnly\n",
      "header: Set-Cookie: SRT=TART_SYNC; Domain=www.tripadvisor.co.id; Expires=Wed, 24-May-2023 18:24:33 GMT; Path=/\n",
      "header: Set-Cookie: TATravelInfo=V2*AY.2023*AM.6*AD.4*DY.2023*DM.6*DD.5*A.2*MG.-1*HP.2*FL.3*DSM.1684950873630*RS.1; Domain=.tripadvisor.co.id; Expires=Wed, 07-Jun-2023 17:54:33 GMT; Path=/\n",
      "header: Set-Cookie: TAUD=LG-1684950873469-2.1.F.*RDD-2-2023_05_25*HDD-3-2023_06_04.2023_06_05.1; Domain=.tripadvisor.co.id; Expires=Wed, 07-Jun-2023 17:54:33 GMT; Path=/\n",
      "header: Set-Cookie: TASID=FD5C8511FBB44AEC97965B12F2557627; Domain=www.tripadvisor.co.id; Expires=Wed, 24-May-2023 18:24:33 GMT; Path=/; Secure\n",
      "header: Set-Cookie: TAReturnTo=%1%%2FHotel_Review-g608487-d614386-Reviews-or65-Grand_Sinar_Indah_Hotel-Legian_Kuta_District_Bali.html; Domain=.tripadvisor.co.id; Path=/\n",
      "header: Set-Cookie: datadome=2a8QeqhQ1fH_lryAopj19wrFT8PMxGvLR3YqqgFLrBNA8I_p6RSEPp2i9jBo1D~BKQl3UM7HozCON3XLrTRPkUlflN5DhfOiComdvLaL8ovaAPg6OMTnV8UGhSRqvd43; Max-Age=31104000; Domain=.tripadvisor.co.id; Path=/; Secure; SameSite=Lax\n",
      "Done Scrapping Grand Sinar Indah Hotel page 13\n",
      "\n",
      "\n"
     ]
    },
    {
     "name": "stderr",
     "output_type": "stream",
     "text": [
      "DEBUG:urllib3.connectionpool:Starting new HTTPS connection (1): www.tripadvisor.co.id:443\n"
     ]
    },
    {
     "name": "stdout",
     "output_type": "stream",
     "text": [
      "send: b'GET /Hotel_Review-g608487-d614386-Reviews-or70-Grand_Sinar_Indah_Hotel-Legian_Kuta_District_Bali.html HTTP/1.1\\r\\nHost: www.tripadvisor.co.id\\r\\nUser-Agent: Mozilla/5.0 (X11; CrOS x86_64 12871.102.0) AppleWebKit/537.36 (KHTML, like Gecko) Chrome/81.0.4044.141 Safari/537.36\\r\\nAccept-Encoding: gzip, deflate\\r\\nAccept: */*\\r\\nConnection: keep-alive\\r\\n\\r\\n'\n"
     ]
    },
    {
     "name": "stderr",
     "output_type": "stream",
     "text": [
      "DEBUG:urllib3.connectionpool:https://www.tripadvisor.co.id:443 \"GET /Hotel_Review-g608487-d614386-Reviews-or70-Grand_Sinar_Indah_Hotel-Legian_Kuta_District_Bali.html HTTP/1.1\" 200 None\n"
     ]
    },
    {
     "name": "stdout",
     "output_type": "stream",
     "text": [
      "reply: 'HTTP/1.1 200 OK\\r\\n'\n",
      "header: Server: envoy\n",
      "header: Link: <https://media-cdn.tripadvisor.com/media/>;rel=\"preconnect\";crossorigin\n",
      "header: Link: <https://media-cdn.tripadvisor.com/media/>;rel=\"dns-prefetch\"\n",
      "header: p3p: CP=\"NOI CURa ADMa DEVa TAIa OUR BUS IND UNI COM NAV INT DSP COR CAO PSA IDC ADM DEVi TAIi PSD IVAi IVDi CONi HIS CNT\"\n",
      "header: Pragma: no-cache\n",
      "header: Cache-Control: no-cache, no-store, must-revalidate\n",
      "header: Expires: 0\n",
      "header: Content-Language: id\n",
      "header: Link: <https://static.tacdn.com>;rel=\"dns-prefetch\"\n",
      "header: Link: <https://static.tacdn.com>;rel=\"preconnect\";crossorigin\n",
      "header: timing-allow-origin: https://www.tripadvisor.com\n",
      "header: Vary: Accept-Encoding\n",
      "header: Content-Type: text/html;charset=UTF-8\n",
      "header: Accept-CH: Sec-CH-UA,Sec-CH-UA-Mobile,Sec-CH-UA-Platform,Sec-CH-UA-Arch,Sec-CH-UA-Full-Version-List,Sec-CH-UA-Model,Sec-CH-Device-Memory\n",
      "header: x-datadome: protected\n",
      "header: Content-Encoding: gzip\n",
      "header: x-request-id: 78d6f045-29ff-49c3-93fe-f000f4424b43\n",
      "header: Date: Wed, 24 May 2023 17:54:38 GMT\n",
      "header: Transfer-Encoding: chunked\n",
      "header: Connection: keep-alive\n",
      "header: Connection: Transfer-Encoding\n",
      "header: Set-Cookie: TADCID=TvsH3k11dcUHs71oABQCXdElnkGETRW-Svh01l3nWnW7H_y2iMti2NU6ROPWPdYFt6Km-8dfG5OPamby4Vum-Ja0PcOuUOGSn94; Domain=www.tripadvisor.co.id; Expires=Sat, 21-May-2033 17:54:38 GMT; Path=/; Secure; HttpOnly\n",
      "header: Set-Cookie: TAUnique=%1%enc%3A8kwUAflygK2CNtgs%2BCN3NnGfQMMEYPnq7F3WqqRARZ7W2mUx9SstnQ%3D%3D; Domain=.tripadvisor.co.id; Expires=Fri, 23-May-2025 17:54:38 GMT; Path=/; HttpOnly\n",
      "header: Set-Cookie: TASSK=enc%3AALA92NJqf0Ey4jhy277ogeiJywVVJJNk9VaMz%2FUuvPDvDg%2FaWO1FK3Cms6hLbGozXZhYIlJme8DYlNUIetRPNXMsaKIfTGXmGRVKCQZ9Gs2%2Fqh8TZNjN9wswteXwVlkYMA%3D%3D; Domain=www.tripadvisor.co.id; Expires=Mon, 20-Nov-2023 17:54:38 GMT; Path=/; HttpOnly\n",
      "header: Set-Cookie: TASession=V2ID.62DF3494D0F04077A5356B52BF514628*SQ.1*HS.recommended*ES.popularity*DS.5*SAS.popularity*FPS.oldFirst*LF.in*FA.1*DF.0*TRA.true*LD.614386; Domain=.tripadvisor.co.id; Path=/\n",
      "header: Set-Cookie: ServerPool=X; Domain=.tripadvisor.co.id; Path=/\n",
      "header: Set-Cookie: PMC=V2*MS.47*MD.20230524*LD.20230524; Domain=www.tripadvisor.co.id; Expires=Fri, 23-May-2025 17:54:38 GMT; Path=/; Secure; HttpOnly\n",
      "header: Set-Cookie: TART=%1%enc%3AgjbYLPgjdzaxS15%2BRWc46kn6RkZmRL84v%2FH6j%2BNjlchehy7OF%2BfUeI%2FDi%2FDfVxi%2FJXHIvVLHDKU%3D; Domain=www.tripadvisor.co.id; Expires=Mon, 29-May-2023 17:54:38 GMT; Path=/; HttpOnly\n",
      "header: Set-Cookie: CM=%1%PremiumMobSess%2C%2C-1%7Ct4b-pc%2C%2C-1%7CRestAds%2FRPers%2C%2C-1%7CRCPers%2C%2C-1%7CWShadeSeen%2C%2C-1%7CTheForkMCCPers%2C%2C-1%7CHomeASess%2C%2C-1%7CPremiumMCSess%2C%2C-1%7CCrisisSess%2C%2C-1%7CUVOwnersSess%2C%2C-1%7CRestPremRSess%2C%2C-1%7CRepTarMCSess%2C%2C-1%7CCCSess%2C%2C-1%7CCYLSess%2C%2C-1%7CPremRetPers%2C%2C-1%7CViatorMCPers%2C%2C-1%7Csesssticker%2C%2C-1%7C%24%2C%2C-1%7CPremiumORSess%2C%2C-1%7Ct4b-sc%2C%2C-1%7CRestAdsPers%2C%2C-1%7CMC_IB_UPSELL_IB_LOGOS2%2C%2C-1%7CTSMCPers%2C%2C-1%7Cb2bmcpers%2C%2C-1%7CPremMCBtmSess%2C%2C-1%7CMC_IB_UPSELL_IB_LOGOS%2C%2C-1%7CLaFourchette+Banners%2C%2C-1%7Csess_rev%2C%2C-1%7Csessamex%2C%2C-1%7CPremiumRRSess%2C%2C-1%7CTADORSess%2C%2C-1%7CAdsRetPers%2C%2C-1%7CListMCSess%2C%2C-1%7CTARSWBPers%2C%2C-1%7CSPMCSess%2C%2C-1%7CTheForkORSess%2C%2C-1%7CTheForkRRSess%2C%2C-1%7Cpers_rev%2C%2C-1%7CRBAPers%2C%2C-1%7CRestAds%2FRSess%2C%2C-1%7CHomeAPers%2C%2C-1%7CPremiumMobPers%2C%2C-1%7CRCSess%2C%2C-1%7CLaFourchette+MC+Banners%2C%2C-1%7CRestAdsCCSess%2C%2C-1%7CRestPremRPers%2C%2C-1%7CRevHubRMPers%2C%2C-1%7CUVOwnersPers%2C%2C-1%7Cpssamex%2C%2C-1%7CTheForkMCCSess%2C%2C-1%7CCrisisPers%2C%2C-1%7CCYLPers%2C%2C-1%7CCCPers%2C%2C-1%7CRepTarMCPers%2C%2C-1%7Cb2bmcsess%2C%2C-1%7CTSMCSess%2C%2C-1%7CSPMCPers%2C%2C-1%7CRevHubRMSess%2C%2C-1%7CPremRetSess%2C%2C-1%7CViatorMCSess%2C%2C-1%7CPremiumMCPers%2C%2C-1%7CAdsRetSess%2C%2C-1%7CPremiumRRPers%2C%2C-1%7CRestAdsCCPers%2C%2C-1%7CTADORPers%2C%2C-1%7CTheForkORPers%2C%2C-1%7CPremMCBtmPers%2C%2C-1%7CTheForkRRPers%2C%2C-1%7CTARSWBSess%2C%2C-1%7CPremiumORPers%2C%2C-1%7CRestAdsSess%2C%2C-1%7CRBASess%2C%2C-1%7CSPORPers%2C%2C-1%7Cperssticker%2C%2C-1%7CListMCPers%2C%2C-1%7C; Domain=.tripadvisor.co.id; Expires=Sat, 21-May-2033 17:54:38 GMT; Path=/\n",
      "header: Set-Cookie: BEPIN=%1%1884ee607a7%3Bweb191a.a.tripadvisor.com%3A30023%3B; Domain=.tripadvisor.co.id; Path=/\n",
      "header: Set-Cookie: PAC=APtPK_MjVxSJ-PTXyNKoAV6TjczM7JAnOe2hj0thI6DT2ziYDNpOeYyI4MsO1qj6jlaW3pxVyJpwS9RRd7qaKXEMqJtxAHispGicqpp0FxOpeH9ep_V7XA1ZMI8GvErYMktXenSxsh2gAYFsXqHfPVI31fbkgyMtJB1p84trhjcbQJHT-v8rrrvBy2H8qOwH3ycffhmw1AcFtYVXEg_mfpnZnm4y_uTxFGzh7mtGAa3E; Domain=www.tripadvisor.co.id; Expires=Fri, 23-May-2025 17:54:38 GMT; Path=/; Secure; HttpOnly\n",
      "header: Set-Cookie: SRT=TART_SYNC; Domain=www.tripadvisor.co.id; Expires=Wed, 24-May-2023 18:24:38 GMT; Path=/\n",
      "header: Set-Cookie: TATravelInfo=V2*AY.2023*AM.6*AD.4*DY.2023*DM.6*DD.5*A.2*MG.-1*HP.2*FL.3*DSM.1684950878227*RS.1; Domain=.tripadvisor.co.id; Expires=Wed, 07-Jun-2023 17:54:38 GMT; Path=/\n",
      "header: Set-Cookie: TAUD=LG-1684950878076-2.1.F.*RDD-2-2023_05_25*HDD-3-2023_06_04.2023_06_05.1; Domain=.tripadvisor.co.id; Expires=Wed, 07-Jun-2023 17:54:38 GMT; Path=/\n",
      "header: Set-Cookie: TASID=62DF3494D0F04077A5356B52BF514628; Domain=www.tripadvisor.co.id; Expires=Wed, 24-May-2023 18:24:38 GMT; Path=/; Secure\n",
      "header: Set-Cookie: TAReturnTo=%1%%2FHotel_Review-g608487-d614386-Reviews-or70-Grand_Sinar_Indah_Hotel-Legian_Kuta_District_Bali.html; Domain=.tripadvisor.co.id; Path=/\n",
      "header: Set-Cookie: datadome=5YYlW4Vf05tX5YGatN8ZjQ6HHuVGr4loF6d4KolopVCX7w6bHwr70EPO6usARf56EISlRqM13MecADl~26C6QJlwbaplulA5SsFmkJE8D-ddsTePlY_L5_SYWQxd~gL0; Max-Age=31104000; Domain=.tripadvisor.co.id; Path=/; Secure; SameSite=Lax\n",
      "Done Scrapping Grand Sinar Indah Hotel page 14\n",
      "\n",
      "\n"
     ]
    },
    {
     "name": "stderr",
     "output_type": "stream",
     "text": [
      "DEBUG:urllib3.connectionpool:Starting new HTTPS connection (1): www.tripadvisor.co.id:443\n"
     ]
    },
    {
     "name": "stdout",
     "output_type": "stream",
     "text": [
      "send: b'GET /Hotel_Review-g608487-d614386-Reviews-or75-Grand_Sinar_Indah_Hotel-Legian_Kuta_District_Bali.html HTTP/1.1\\r\\nHost: www.tripadvisor.co.id\\r\\nUser-Agent: Mozilla/5.0 (X11; CrOS x86_64 12871.102.0) AppleWebKit/537.36 (KHTML, like Gecko) Chrome/81.0.4044.141 Safari/537.36\\r\\nAccept-Encoding: gzip, deflate\\r\\nAccept: */*\\r\\nConnection: keep-alive\\r\\n\\r\\n'\n"
     ]
    },
    {
     "name": "stderr",
     "output_type": "stream",
     "text": [
      "DEBUG:urllib3.connectionpool:https://www.tripadvisor.co.id:443 \"GET /Hotel_Review-g608487-d614386-Reviews-or75-Grand_Sinar_Indah_Hotel-Legian_Kuta_District_Bali.html HTTP/1.1\" 200 None\n"
     ]
    },
    {
     "name": "stdout",
     "output_type": "stream",
     "text": [
      "reply: 'HTTP/1.1 200 OK\\r\\n'\n",
      "header: Server: envoy\n",
      "header: Link: <https://media-cdn.tripadvisor.com/media/>;rel=\"preconnect\";crossorigin\n",
      "header: Link: <https://media-cdn.tripadvisor.com/media/>;rel=\"dns-prefetch\"\n",
      "header: p3p: CP=\"NOI CURa ADMa DEVa TAIa OUR BUS IND UNI COM NAV INT DSP COR CAO PSA IDC ADM DEVi TAIi PSD IVAi IVDi CONi HIS CNT\"\n",
      "header: Pragma: no-cache\n",
      "header: Cache-Control: no-cache, no-store, must-revalidate\n",
      "header: Expires: 0\n",
      "header: Content-Language: id\n",
      "header: Link: <https://static.tacdn.com>;rel=\"dns-prefetch\"\n",
      "header: Link: <https://static.tacdn.com>;rel=\"preconnect\";crossorigin\n",
      "header: timing-allow-origin: https://www.tripadvisor.com\n",
      "header: Vary: Accept-Encoding\n",
      "header: Content-Type: text/html;charset=UTF-8\n",
      "header: x-datadome: protected\n",
      "header: Accept-CH: Sec-CH-UA,Sec-CH-UA-Mobile,Sec-CH-UA-Platform,Sec-CH-UA-Arch,Sec-CH-UA-Full-Version-List,Sec-CH-UA-Model,Sec-CH-Device-Memory\n",
      "header: Content-Encoding: gzip\n",
      "header: x-request-id: e7453288-8334-4d2e-b938-e8b006a163d1\n",
      "header: Date: Wed, 24 May 2023 17:54:44 GMT\n",
      "header: Transfer-Encoding: chunked\n",
      "header: Connection: keep-alive\n",
      "header: Connection: Transfer-Encoding\n",
      "header: Set-Cookie: TADCID=sJjEb5qA7fCMu2OeABQCXdElnkGETRW-Svh01l3nWnW7H-AqkCjOIQ2TyuVywJa1XUtQVNoEz3rrDwjJ4iKvg7T3yT9t2C_LxU0; Domain=www.tripadvisor.co.id; Expires=Sat, 21-May-2033 17:54:43 GMT; Path=/; Secure; HttpOnly\n",
      "header: Set-Cookie: TAUnique=%1%enc%3ANQ%2Fal2Wic5OCNtgs%2BCN3NnGfQMMEYPnqXkzqTbBuSzxE17eg4kRgXA%3D%3D; Domain=.tripadvisor.co.id; Expires=Fri, 23-May-2025 17:54:43 GMT; Path=/; HttpOnly\n",
      "header: Set-Cookie: TASSK=enc%3AANQ%2FyfILBNDGaTyokM8E32CpTSB0Fx5oehUDsgJATQyqGpi0wuDCY5fb4a6uBxSHwDrKHXwiDfIZDJBzU0mQCtZTAFFb0cykZL6Bxc9UwB7bG3Q8w4D9%2FvJwpw1sxAJ21w%3D%3D; Domain=www.tripadvisor.co.id; Expires=Mon, 20-Nov-2023 17:54:43 GMT; Path=/; HttpOnly\n",
      "header: Set-Cookie: TASession=V2ID.65B94B72FEB34748A1DD8E58F373AFBF*SQ.1*HS.recommended*ES.popularity*DS.5*SAS.popularity*FPS.oldFirst*LF.in*FA.1*DF.0*TRA.true*LD.614386; Domain=.tripadvisor.co.id; Path=/\n",
      "header: Set-Cookie: ServerPool=B; Domain=.tripadvisor.co.id; Path=/\n",
      "header: Set-Cookie: PMC=V2*MS.14*MD.20230524*LD.20230524; Domain=www.tripadvisor.co.id; Expires=Fri, 23-May-2025 17:54:43 GMT; Path=/; Secure; HttpOnly\n",
      "header: Set-Cookie: TART=%1%enc%3AgjbYLPgjdzaxS15%2BRWc46qw7910k6oy%2FcRNPGi5ohEIFurht%2FQIl%2BokoowIOambdtAxV4U64l8g%3D; Domain=www.tripadvisor.co.id; Expires=Mon, 29-May-2023 17:54:43 GMT; Path=/; HttpOnly\n",
      "header: Set-Cookie: CM=%1%PremiumMobSess%2C%2C-1%7Ct4b-pc%2C%2C-1%7CRestAds%2FRPers%2C%2C-1%7CRCPers%2C%2C-1%7CWShadeSeen%2C%2C-1%7CTheForkMCCPers%2C%2C-1%7CHomeASess%2C%2C-1%7CPremiumMCSess%2C%2C-1%7CCrisisSess%2C%2C-1%7CUVOwnersSess%2C%2C-1%7CRestPremRSess%2C%2C-1%7CRepTarMCSess%2C%2C-1%7CCCSess%2C%2C-1%7CCYLSess%2C%2C-1%7CPremRetPers%2C%2C-1%7CViatorMCPers%2C%2C-1%7Csesssticker%2C%2C-1%7C%24%2C%2C-1%7CPremiumORSess%2C%2C-1%7Ct4b-sc%2C%2C-1%7CRestAdsPers%2C%2C-1%7CMC_IB_UPSELL_IB_LOGOS2%2C%2C-1%7CTSMCPers%2C%2C-1%7Cb2bmcpers%2C%2C-1%7CPremMCBtmSess%2C%2C-1%7CMC_IB_UPSELL_IB_LOGOS%2C%2C-1%7CLaFourchette+Banners%2C%2C-1%7Csess_rev%2C%2C-1%7Csessamex%2C%2C-1%7CPremiumRRSess%2C%2C-1%7CTADORSess%2C%2C-1%7CAdsRetPers%2C%2C-1%7CListMCSess%2C%2C-1%7CTARSWBPers%2C%2C-1%7CSPMCSess%2C%2C-1%7CTheForkORSess%2C%2C-1%7CTheForkRRSess%2C%2C-1%7Cpers_rev%2C%2C-1%7CRBAPers%2C%2C-1%7CRestAds%2FRSess%2C%2C-1%7CHomeAPers%2C%2C-1%7CPremiumMobPers%2C%2C-1%7CRCSess%2C%2C-1%7CLaFourchette+MC+Banners%2C%2C-1%7CRestAdsCCSess%2C%2C-1%7CRestPremRPers%2C%2C-1%7CRevHubRMPers%2C%2C-1%7CUVOwnersPers%2C%2C-1%7Cpssamex%2C%2C-1%7CTheForkMCCSess%2C%2C-1%7CCrisisPers%2C%2C-1%7CCYLPers%2C%2C-1%7CCCPers%2C%2C-1%7CRepTarMCPers%2C%2C-1%7Cb2bmcsess%2C%2C-1%7CTSMCSess%2C%2C-1%7CSPMCPers%2C%2C-1%7CRevHubRMSess%2C%2C-1%7CPremRetSess%2C%2C-1%7CViatorMCSess%2C%2C-1%7CPremiumMCPers%2C%2C-1%7CAdsRetSess%2C%2C-1%7CPremiumRRPers%2C%2C-1%7CRestAdsCCPers%2C%2C-1%7CTADORPers%2C%2C-1%7CTheForkORPers%2C%2C-1%7CPremMCBtmPers%2C%2C-1%7CTheForkRRPers%2C%2C-1%7CTARSWBSess%2C%2C-1%7CPremiumORPers%2C%2C-1%7CRestAdsSess%2C%2C-1%7CRBASess%2C%2C-1%7CSPORPers%2C%2C-1%7Cperssticker%2C%2C-1%7CListMCPers%2C%2C-1%7C; Domain=.tripadvisor.co.id; Expires=Sat, 21-May-2033 17:54:43 GMT; Path=/\n",
      "header: Set-Cookie: BEPIN=%1%1884ee61c4c%3Bweb218a.a.tripadvisor.com%3A30023%3B; Domain=.tripadvisor.co.id; Path=/\n",
      "header: Set-Cookie: PAC=AMd6B3ViOO4xUtMaSv1vDgYFqHWiFcndQEBFjnq-UEfJxziexH-tRvbkTYXdrbVVCoJXpSSgS1-lBmDH1NfG_qFdB-Rnd0mMWsocGJFGKuhOZcMs2qqZytRkMcz_rVs3YTMKJxvQQsCIZ7UqZnDvfQSVenUpunHiKuf9NhLl8ARLjiOpxClOVl-zgxdkvD4uve0zhcKOtaTi51rR1qX81X7yzTsFUP9TAJQg67og6cAZ; Domain=www.tripadvisor.co.id; Expires=Fri, 23-May-2025 17:54:43 GMT; Path=/; Secure; HttpOnly\n",
      "header: Set-Cookie: SRT=TART_SYNC; Domain=www.tripadvisor.co.id; Expires=Wed, 24-May-2023 18:24:43 GMT; Path=/\n",
      "header: Set-Cookie: TATravelInfo=V2*AY.2023*AM.6*AD.4*DY.2023*DM.6*DD.5*A.2*MG.-1*HP.2*FL.3*DSM.1684950883514*RS.1; Domain=.tripadvisor.co.id; Expires=Wed, 07-Jun-2023 17:54:43 GMT; Path=/\n",
      "header: Set-Cookie: TAUD=LG-1684950883369-2.1.F.*RDD-2-2023_05_25*HDD-3-2023_06_04.2023_06_05.1; Domain=.tripadvisor.co.id; Expires=Wed, 07-Jun-2023 17:54:43 GMT; Path=/\n",
      "header: Set-Cookie: TASID=65B94B72FEB34748A1DD8E58F373AFBF; Domain=www.tripadvisor.co.id; Expires=Wed, 24-May-2023 18:24:43 GMT; Path=/; Secure\n",
      "header: Set-Cookie: TAReturnTo=%1%%2FHotel_Review-g608487-d614386-Reviews-or75-Grand_Sinar_Indah_Hotel-Legian_Kuta_District_Bali.html; Domain=.tripadvisor.co.id; Path=/\n",
      "header: Set-Cookie: datadome=0YzundsAfyx_dRD6rKsJFspIlAGlJs899NqjtijPvbF6L3cf5gif~vLR28YT0pVC~kAXD~Bb-Rm~jRd3EQoy1xdOFGvg1g-iHqt~tZ4Y~PD8WigQ4F1JPuen7Kh28xPi; Max-Age=31104000; Domain=.tripadvisor.co.id; Path=/; Secure; SameSite=Lax\n",
      "Done Scrapping Grand Sinar Indah Hotel page 15\n",
      "\n",
      "\n"
     ]
    },
    {
     "name": "stderr",
     "output_type": "stream",
     "text": [
      "DEBUG:urllib3.connectionpool:Starting new HTTPS connection (1): www.tripadvisor.co.id:443\n"
     ]
    },
    {
     "name": "stdout",
     "output_type": "stream",
     "text": [
      "send: b'GET /Hotel_Review-g608487-d614386-Reviews-or80-Grand_Sinar_Indah_Hotel-Legian_Kuta_District_Bali.html HTTP/1.1\\r\\nHost: www.tripadvisor.co.id\\r\\nUser-Agent: Mozilla/5.0 (X11; CrOS x86_64 12871.102.0) AppleWebKit/537.36 (KHTML, like Gecko) Chrome/81.0.4044.141 Safari/537.36\\r\\nAccept-Encoding: gzip, deflate\\r\\nAccept: */*\\r\\nConnection: keep-alive\\r\\n\\r\\n'\n"
     ]
    },
    {
     "name": "stderr",
     "output_type": "stream",
     "text": [
      "DEBUG:urllib3.connectionpool:https://www.tripadvisor.co.id:443 \"GET /Hotel_Review-g608487-d614386-Reviews-or80-Grand_Sinar_Indah_Hotel-Legian_Kuta_District_Bali.html HTTP/1.1\" 200 None\n"
     ]
    },
    {
     "name": "stdout",
     "output_type": "stream",
     "text": [
      "reply: 'HTTP/1.1 200 OK\\r\\n'\n",
      "header: Server: envoy\n",
      "header: Link: <https://media-cdn.tripadvisor.com/media/>;rel=\"preconnect\";crossorigin\n",
      "header: Link: <https://media-cdn.tripadvisor.com/media/>;rel=\"dns-prefetch\"\n",
      "header: p3p: CP=\"NOI CURa ADMa DEVa TAIa OUR BUS IND UNI COM NAV INT DSP COR CAO PSA IDC ADM DEVi TAIi PSD IVAi IVDi CONi HIS CNT\"\n",
      "header: Pragma: no-cache\n",
      "header: Cache-Control: no-cache, no-store, must-revalidate\n",
      "header: Expires: 0\n",
      "header: Content-Language: id\n",
      "header: Link: <https://static.tacdn.com>;rel=\"dns-prefetch\"\n",
      "header: Link: <https://static.tacdn.com>;rel=\"preconnect\";crossorigin\n",
      "header: timing-allow-origin: https://www.tripadvisor.com\n",
      "header: Vary: Accept-Encoding\n",
      "header: Content-Type: text/html;charset=UTF-8\n",
      "header: x-datadome: protected\n",
      "header: Accept-CH: Sec-CH-UA,Sec-CH-UA-Mobile,Sec-CH-UA-Platform,Sec-CH-UA-Arch,Sec-CH-UA-Full-Version-List,Sec-CH-UA-Model,Sec-CH-Device-Memory\n",
      "header: Content-Encoding: gzip\n",
      "header: x-request-id: 500da11c-700f-46bc-b5aa-52e95e6f3d0b\n",
      "header: Date: Wed, 24 May 2023 17:54:49 GMT\n",
      "header: Transfer-Encoding: chunked\n",
      "header: Connection: keep-alive\n",
      "header: Connection: Transfer-Encoding\n",
      "header: Set-Cookie: TADCID=OadScE9UxMr-pMDwABQCXdElnkGETRW-Svh01l3nWnW7H23VS2qbBkxOVAIjFNbzVP5lq_yL1kctrpKwlYUiWMudZi01ieMSpWM; Domain=www.tripadvisor.co.id; Expires=Sat, 21-May-2033 17:54:48 GMT; Path=/; Secure; HttpOnly\n",
      "header: Set-Cookie: TAUnique=%1%enc%3A9BffKJVF1O6CNtgs%2BCN3NnGfQMMEYPnq60QdMjAd9eyjvt%2BFmuC9AA%3D%3D; Domain=.tripadvisor.co.id; Expires=Fri, 23-May-2025 17:54:48 GMT; Path=/; HttpOnly\n",
      "header: Set-Cookie: TASSK=enc%3AAFw2JJY53pG9Av8NQdsb2Qfxao2pX05cVlfnCq3ELcdaVYEzx45j%2B2yEGu4wth7uFO3SDAj7PXQ5afQKEynZxPl5cpVCMsmjxm2FMAdor1qFvsQ1aJqRG19%2BWHlp3nx7Lw%3D%3D; Domain=www.tripadvisor.co.id; Expires=Mon, 20-Nov-2023 17:54:48 GMT; Path=/; HttpOnly\n",
      "header: Set-Cookie: TASession=V2ID.661FCD9FEFA64B659B3151178EB1A1A3*SQ.1*HS.recommended*ES.popularity*DS.5*SAS.popularity*FPS.oldFirst*LF.in*FA.1*DF.0*TRA.true*LD.614386; Domain=.tripadvisor.co.id; Path=/\n",
      "header: Set-Cookie: ServerPool=X; Domain=.tripadvisor.co.id; Path=/\n",
      "header: Set-Cookie: PMC=V2*MS.98*MD.20230524*LD.20230524; Domain=www.tripadvisor.co.id; Expires=Fri, 23-May-2025 17:54:48 GMT; Path=/; Secure; HttpOnly\n",
      "header: Set-Cookie: TART=%1%enc%3AgjbYLPgjdzaxS15%2BRWc46mpZeYvQydC1UHeYX%2B25m%2FQPEWdRlnY9S0JVYqgdv4J23bmFvPAn54g%3D; Domain=www.tripadvisor.co.id; Expires=Mon, 29-May-2023 17:54:48 GMT; Path=/; HttpOnly\n",
      "header: Set-Cookie: CM=%1%PremiumMobSess%2C%2C-1%7Ct4b-pc%2C%2C-1%7CRestAds%2FRPers%2C%2C-1%7CRCPers%2C%2C-1%7CWShadeSeen%2C%2C-1%7CTheForkMCCPers%2C%2C-1%7CHomeASess%2C%2C-1%7CPremiumMCSess%2C%2C-1%7CCrisisSess%2C%2C-1%7CUVOwnersSess%2C%2C-1%7CRestPremRSess%2C%2C-1%7CRepTarMCSess%2C%2C-1%7CCCSess%2C%2C-1%7CCYLSess%2C%2C-1%7CPremRetPers%2C%2C-1%7CViatorMCPers%2C%2C-1%7Csesssticker%2C%2C-1%7C%24%2C%2C-1%7CPremiumORSess%2C%2C-1%7Ct4b-sc%2C%2C-1%7CRestAdsPers%2C%2C-1%7CMC_IB_UPSELL_IB_LOGOS2%2C%2C-1%7CTSMCPers%2C%2C-1%7Cb2bmcpers%2C%2C-1%7CPremMCBtmSess%2C%2C-1%7CMC_IB_UPSELL_IB_LOGOS%2C%2C-1%7CLaFourchette+Banners%2C%2C-1%7Csess_rev%2C%2C-1%7Csessamex%2C%2C-1%7CPremiumRRSess%2C%2C-1%7CTADORSess%2C%2C-1%7CAdsRetPers%2C%2C-1%7CListMCSess%2C%2C-1%7CTARSWBPers%2C%2C-1%7CSPMCSess%2C%2C-1%7CTheForkORSess%2C%2C-1%7CTheForkRRSess%2C%2C-1%7Cpers_rev%2C%2C-1%7CRBAPers%2C%2C-1%7CRestAds%2FRSess%2C%2C-1%7CHomeAPers%2C%2C-1%7CPremiumMobPers%2C%2C-1%7CRCSess%2C%2C-1%7CLaFourchette+MC+Banners%2C%2C-1%7CRestAdsCCSess%2C%2C-1%7CRestPremRPers%2C%2C-1%7CRevHubRMPers%2C%2C-1%7CUVOwnersPers%2C%2C-1%7Cpssamex%2C%2C-1%7CTheForkMCCSess%2C%2C-1%7CCrisisPers%2C%2C-1%7CCYLPers%2C%2C-1%7CCCPers%2C%2C-1%7CRepTarMCPers%2C%2C-1%7Cb2bmcsess%2C%2C-1%7CTSMCSess%2C%2C-1%7CSPMCPers%2C%2C-1%7CRevHubRMSess%2C%2C-1%7CPremRetSess%2C%2C-1%7CViatorMCSess%2C%2C-1%7CPremiumMCPers%2C%2C-1%7CAdsRetSess%2C%2C-1%7CPremiumRRPers%2C%2C-1%7CRestAdsCCPers%2C%2C-1%7CTADORPers%2C%2C-1%7CTheForkORPers%2C%2C-1%7CPremMCBtmPers%2C%2C-1%7CTheForkRRPers%2C%2C-1%7CTARSWBSess%2C%2C-1%7CPremiumORPers%2C%2C-1%7CRestAdsSess%2C%2C-1%7CRBASess%2C%2C-1%7CSPORPers%2C%2C-1%7Cperssticker%2C%2C-1%7CListMCPers%2C%2C-1%7C; Domain=.tripadvisor.co.id; Expires=Sat, 21-May-2033 17:54:48 GMT; Path=/\n",
      "header: Set-Cookie: BEPIN=%1%1884ee6303d%3Bweb218a.a.tripadvisor.com%3A30023%3B; Domain=.tripadvisor.co.id; Path=/\n",
      "header: Set-Cookie: PAC=ADEa-Ge2kgGBJA4EMy7p5UCP8Df4xG4YeRDRzofqJ8_xJJU78MOyPvlv_L7Btzy3cCbUFCLCaNXQuWYp2XS9Ey93wf6IFVccct29zmU3KWioIRrCc6KcG9lJkLI-hQJ12_v5Zs2bZu4o7a1T8yhDdBdO0kzaDJeKB998ZuTvyMUHEd25HSI8be81jc5t9A4ipm3_pDbuiVGmKoGGzMtXsH-jD9HJxbJuiX6kNunk7lt9; Domain=www.tripadvisor.co.id; Expires=Fri, 23-May-2025 17:54:48 GMT; Path=/; Secure; HttpOnly\n",
      "header: Set-Cookie: SRT=TART_SYNC; Domain=www.tripadvisor.co.id; Expires=Wed, 24-May-2023 18:24:48 GMT; Path=/\n",
      "header: Set-Cookie: TATravelInfo=V2*AY.2023*AM.6*AD.4*DY.2023*DM.6*DD.5*A.2*MG.-1*HP.2*FL.3*DSM.1684950888607*RS.1; Domain=.tripadvisor.co.id; Expires=Wed, 07-Jun-2023 17:54:48 GMT; Path=/\n",
      "header: Set-Cookie: TAUD=LG-1684950888473-2.1.F.*RDD-2-2023_05_25*HDD-3-2023_06_04.2023_06_05.1; Domain=.tripadvisor.co.id; Expires=Wed, 07-Jun-2023 17:54:48 GMT; Path=/\n",
      "header: Set-Cookie: TASID=661FCD9FEFA64B659B3151178EB1A1A3; Domain=www.tripadvisor.co.id; Expires=Wed, 24-May-2023 18:24:48 GMT; Path=/; Secure\n",
      "header: Set-Cookie: TAReturnTo=%1%%2FHotel_Review-g608487-d614386-Reviews-or80-Grand_Sinar_Indah_Hotel-Legian_Kuta_District_Bali.html; Domain=.tripadvisor.co.id; Path=/\n",
      "header: Set-Cookie: datadome=6pBFIV9kDh9qPn5aMjekps_iMba-99FQOqrsZaD99DYQyPLHmg06v1p1xCxnFbbn2oStVQ7zYzPvkKTyN6SMy4wxPrFt~BhzJRWkBW19yiwqTGMEGiBiAlMH-_1L8JVr; Max-Age=31104000; Domain=.tripadvisor.co.id; Path=/; Secure; SameSite=Lax\n",
      "Done Scrapping Grand Sinar Indah Hotel page 16\n",
      "\n",
      "\n"
     ]
    },
    {
     "name": "stderr",
     "output_type": "stream",
     "text": [
      "DEBUG:urllib3.connectionpool:Starting new HTTPS connection (1): www.tripadvisor.co.id:443\n"
     ]
    },
    {
     "name": "stdout",
     "output_type": "stream",
     "text": [
      "send: b'GET /Hotel_Review-g608487-d614386-Reviews-or85-Grand_Sinar_Indah_Hotel-Legian_Kuta_District_Bali.html HTTP/1.1\\r\\nHost: www.tripadvisor.co.id\\r\\nUser-Agent: Mozilla/5.0 (X11; CrOS x86_64 12871.102.0) AppleWebKit/537.36 (KHTML, like Gecko) Chrome/81.0.4044.141 Safari/537.36\\r\\nAccept-Encoding: gzip, deflate\\r\\nAccept: */*\\r\\nConnection: keep-alive\\r\\n\\r\\n'\n"
     ]
    },
    {
     "name": "stderr",
     "output_type": "stream",
     "text": [
      "DEBUG:urllib3.connectionpool:https://www.tripadvisor.co.id:443 \"GET /Hotel_Review-g608487-d614386-Reviews-or85-Grand_Sinar_Indah_Hotel-Legian_Kuta_District_Bali.html HTTP/1.1\" 200 None\n"
     ]
    },
    {
     "name": "stdout",
     "output_type": "stream",
     "text": [
      "reply: 'HTTP/1.1 200 OK\\r\\n'\n",
      "header: Server: envoy\n",
      "header: Link: <https://media-cdn.tripadvisor.com/media/>;rel=\"preconnect\";crossorigin\n",
      "header: Link: <https://media-cdn.tripadvisor.com/media/>;rel=\"dns-prefetch\"\n",
      "header: p3p: CP=\"NOI CURa ADMa DEVa TAIa OUR BUS IND UNI COM NAV INT DSP COR CAO PSA IDC ADM DEVi TAIi PSD IVAi IVDi CONi HIS CNT\"\n",
      "header: Pragma: no-cache\n",
      "header: Cache-Control: no-cache, no-store, must-revalidate\n",
      "header: Expires: 0\n",
      "header: Content-Language: id\n",
      "header: Link: <https://static.tacdn.com>;rel=\"dns-prefetch\"\n",
      "header: Link: <https://static.tacdn.com>;rel=\"preconnect\";crossorigin\n",
      "header: timing-allow-origin: https://www.tripadvisor.com\n",
      "header: Vary: Accept-Encoding\n",
      "header: Content-Type: text/html;charset=UTF-8\n",
      "header: Accept-CH: Sec-CH-UA,Sec-CH-UA-Mobile,Sec-CH-UA-Platform,Sec-CH-UA-Arch,Sec-CH-UA-Full-Version-List,Sec-CH-UA-Model,Sec-CH-Device-Memory\n",
      "header: x-datadome: protected\n",
      "header: Content-Encoding: gzip\n",
      "header: x-request-id: 1a0186eb-4d6b-4835-804c-a9424864ce0b\n",
      "header: Date: Wed, 24 May 2023 17:54:54 GMT\n",
      "header: Transfer-Encoding: chunked\n",
      "header: Connection: keep-alive\n",
      "header: Connection: Transfer-Encoding\n",
      "header: Set-Cookie: TADCID=o5LfWrlT-KdaS-ktABQCXdElnkGETRW-Svh01l3nWnW7H3V7CSQ6K4TVa4H7Dklj72Oc7TOrqwW9Y35ZVO-24_zXNasTZ0eGck8; Domain=www.tripadvisor.co.id; Expires=Sat, 21-May-2033 17:54:53 GMT; Path=/; Secure; HttpOnly\n",
      "header: Set-Cookie: TAUnique=%1%enc%3AHxtaVtNFDQaCNtgs%2BCN3NnGfQMMEYPnqaC8qYJUt2RpalGH%2FnSB34A%3D%3D; Domain=.tripadvisor.co.id; Expires=Fri, 23-May-2025 17:54:53 GMT; Path=/; HttpOnly\n",
      "header: Set-Cookie: TASSK=enc%3AAJ9ezEQGSAZsKK%2FZvKYv7cUhZcHBx8Uvq4TyG6m%2FQhGs3pNfpnVXErqdjVP34ZkdjQlVQ4xDxdU2nOsxgiWP%2FazmeelPsTF3ugcQmoJNQBOgg9yqmhfNqFW3z6dtJWMZcA%3D%3D; Domain=www.tripadvisor.co.id; Expires=Mon, 20-Nov-2023 17:54:53 GMT; Path=/; HttpOnly\n",
      "header: Set-Cookie: TASession=V2ID.68EC4FBC428D4D63954541120D826C3F*SQ.1*HS.recommended*ES.popularity*DS.5*SAS.popularity*FPS.oldFirst*LF.in*FA.1*DF.0*TRA.true*LD.614386; Domain=.tripadvisor.co.id; Path=/\n",
      "header: Set-Cookie: ServerPool=C; Domain=.tripadvisor.co.id; Path=/\n",
      "header: Set-Cookie: PMC=V2*MS.67*MD.20230524*LD.20230524; Domain=www.tripadvisor.co.id; Expires=Fri, 23-May-2025 17:54:53 GMT; Path=/; Secure; HttpOnly\n",
      "header: Set-Cookie: TART=%1%enc%3AgjbYLPgjdzaxS15%2BRWc46iieCJcYJ9WHGKSE4evxgBZ1%2Fidfq%2BPOCzBvxvBw5N9wxg8syhppIzk%3D; Domain=www.tripadvisor.co.id; Expires=Mon, 29-May-2023 17:54:53 GMT; Path=/; HttpOnly\n",
      "header: Set-Cookie: CM=%1%PremiumMobSess%2C%2C-1%7Ct4b-pc%2C%2C-1%7CRestAds%2FRPers%2C%2C-1%7CRCPers%2C%2C-1%7CWShadeSeen%2C%2C-1%7CTheForkMCCPers%2C%2C-1%7CHomeASess%2C%2C-1%7CPremiumMCSess%2C%2C-1%7CCrisisSess%2C%2C-1%7CUVOwnersSess%2C%2C-1%7CRestPremRSess%2C%2C-1%7CRepTarMCSess%2C%2C-1%7CCCSess%2C%2C-1%7CCYLSess%2C%2C-1%7CPremRetPers%2C%2C-1%7CViatorMCPers%2C%2C-1%7Csesssticker%2C%2C-1%7C%24%2C%2C-1%7CPremiumORSess%2C%2C-1%7Ct4b-sc%2C%2C-1%7CRestAdsPers%2C%2C-1%7CMC_IB_UPSELL_IB_LOGOS2%2C%2C-1%7CTSMCPers%2C%2C-1%7Cb2bmcpers%2C%2C-1%7CPremMCBtmSess%2C%2C-1%7CMC_IB_UPSELL_IB_LOGOS%2C%2C-1%7CLaFourchette+Banners%2C%2C-1%7Csess_rev%2C%2C-1%7Csessamex%2C%2C-1%7CPremiumRRSess%2C%2C-1%7CTADORSess%2C%2C-1%7CAdsRetPers%2C%2C-1%7CListMCSess%2C%2C-1%7CTARSWBPers%2C%2C-1%7CSPMCSess%2C%2C-1%7CTheForkORSess%2C%2C-1%7CTheForkRRSess%2C%2C-1%7Cpers_rev%2C%2C-1%7CRBAPers%2C%2C-1%7CRestAds%2FRSess%2C%2C-1%7CHomeAPers%2C%2C-1%7CPremiumMobPers%2C%2C-1%7CRCSess%2C%2C-1%7CLaFourchette+MC+Banners%2C%2C-1%7CRestAdsCCSess%2C%2C-1%7CRestPremRPers%2C%2C-1%7CRevHubRMPers%2C%2C-1%7CUVOwnersPers%2C%2C-1%7Cpssamex%2C%2C-1%7CTheForkMCCSess%2C%2C-1%7CCrisisPers%2C%2C-1%7CCYLPers%2C%2C-1%7CCCPers%2C%2C-1%7CRepTarMCPers%2C%2C-1%7Cb2bmcsess%2C%2C-1%7CTSMCSess%2C%2C-1%7CSPMCPers%2C%2C-1%7CRevHubRMSess%2C%2C-1%7CPremRetSess%2C%2C-1%7CViatorMCSess%2C%2C-1%7CPremiumMCPers%2C%2C-1%7CAdsRetSess%2C%2C-1%7CPremiumRRPers%2C%2C-1%7CRestAdsCCPers%2C%2C-1%7CTADORPers%2C%2C-1%7CTheForkORPers%2C%2C-1%7CPremMCBtmPers%2C%2C-1%7CTheForkRRPers%2C%2C-1%7CTARSWBSess%2C%2C-1%7CPremiumORPers%2C%2C-1%7CRestAdsSess%2C%2C-1%7CRBASess%2C%2C-1%7CSPORPers%2C%2C-1%7Cperssticker%2C%2C-1%7CListMCPers%2C%2C-1%7C; Domain=.tripadvisor.co.id; Expires=Sat, 21-May-2033 17:54:53 GMT; Path=/\n",
      "header: Set-Cookie: BEPIN=%1%1884ee6430c%3Bweb149a.a.tripadvisor.com%3A30023%3B; Domain=.tripadvisor.co.id; Path=/\n",
      "header: Set-Cookie: PAC=AJkwhTGlxaOP7PEU-4DcYoCkAV11R1q9jGRMaubxebb1pbW_M5cikChgnBIHx_E5pVoU3MoTsqJM5kQAzYLJWijuzuHDVKKrE114gN2zkBMCnOBkfUkxDAKgwDA1RJ3kpEgph47h5slAQBB7-sRw2pWjhG2lX6HMDzZLjvozD19975XUwDD5_YlJsorQ_GEmljQDIqnP97aEloqhNLPpZ7XTvA0LUgsJg6KaTiNmXlhq; Domain=www.tripadvisor.co.id; Expires=Fri, 23-May-2025 17:54:53 GMT; Path=/; Secure; HttpOnly\n",
      "header: Set-Cookie: SRT=TART_SYNC; Domain=www.tripadvisor.co.id; Expires=Wed, 24-May-2023 18:24:53 GMT; Path=/\n",
      "header: Set-Cookie: TATravelInfo=V2*AY.2023*AM.6*AD.4*DY.2023*DM.6*DD.5*A.2*MG.-1*HP.2*FL.3*DSM.1684950893463*RS.1; Domain=.tripadvisor.co.id; Expires=Wed, 07-Jun-2023 17:54:53 GMT; Path=/\n",
      "header: Set-Cookie: TAUD=LG-1684950893301-2.1.F.*RDD-2-2023_05_25*HDD-3-2023_06_04.2023_06_05.1; Domain=.tripadvisor.co.id; Expires=Wed, 07-Jun-2023 17:54:53 GMT; Path=/\n",
      "header: Set-Cookie: TASID=68EC4FBC428D4D63954541120D826C3F; Domain=www.tripadvisor.co.id; Expires=Wed, 24-May-2023 18:24:53 GMT; Path=/; Secure\n",
      "header: Set-Cookie: TAReturnTo=%1%%2FHotel_Review-g608487-d614386-Reviews-or85-Grand_Sinar_Indah_Hotel-Legian_Kuta_District_Bali.html; Domain=.tripadvisor.co.id; Path=/\n",
      "header: Set-Cookie: datadome=3aYfpObuAS8l~fx994zrSjL2PpcMb1ccvH-IECLZhQUCFTFCoCnQQcAs0yHGaCoRbJwzRJYCCCzxMFoSIt36swaXesjib0k4TVaac~n2xV5cr4FoUll8kAd-JAo8kYkK; Max-Age=31104000; Domain=.tripadvisor.co.id; Path=/; Secure; SameSite=Lax\n",
      "Done Scrapping Grand Sinar Indah Hotel page 17\n",
      "\n",
      "\n"
     ]
    },
    {
     "name": "stderr",
     "output_type": "stream",
     "text": [
      "DEBUG:urllib3.connectionpool:Starting new HTTPS connection (1): www.tripadvisor.co.id:443\n"
     ]
    },
    {
     "name": "stdout",
     "output_type": "stream",
     "text": [
      "send: b'GET /Hotel_Review-g608487-d614386-Reviews-or90-Grand_Sinar_Indah_Hotel-Legian_Kuta_District_Bali.html HTTP/1.1\\r\\nHost: www.tripadvisor.co.id\\r\\nUser-Agent: Mozilla/5.0 (X11; CrOS x86_64 12871.102.0) AppleWebKit/537.36 (KHTML, like Gecko) Chrome/81.0.4044.141 Safari/537.36\\r\\nAccept-Encoding: gzip, deflate\\r\\nAccept: */*\\r\\nConnection: keep-alive\\r\\n\\r\\n'\n"
     ]
    },
    {
     "name": "stderr",
     "output_type": "stream",
     "text": [
      "DEBUG:urllib3.connectionpool:https://www.tripadvisor.co.id:443 \"GET /Hotel_Review-g608487-d614386-Reviews-or90-Grand_Sinar_Indah_Hotel-Legian_Kuta_District_Bali.html HTTP/1.1\" 200 None\n"
     ]
    },
    {
     "name": "stdout",
     "output_type": "stream",
     "text": [
      "reply: 'HTTP/1.1 200 OK\\r\\n'\n",
      "header: Server: envoy\n",
      "header: Link: <https://media-cdn.tripadvisor.com/media/>;rel=\"preconnect\";crossorigin\n",
      "header: Link: <https://media-cdn.tripadvisor.com/media/>;rel=\"dns-prefetch\"\n",
      "header: p3p: CP=\"NOI CURa ADMa DEVa TAIa OUR BUS IND UNI COM NAV INT DSP COR CAO PSA IDC ADM DEVi TAIi PSD IVAi IVDi CONi HIS CNT\"\n",
      "header: Pragma: no-cache\n",
      "header: Cache-Control: no-cache, no-store, must-revalidate\n",
      "header: Expires: 0\n",
      "header: Content-Language: id\n",
      "header: Link: <https://static.tacdn.com>;rel=\"dns-prefetch\"\n",
      "header: Link: <https://static.tacdn.com>;rel=\"preconnect\";crossorigin\n",
      "header: timing-allow-origin: https://www.tripadvisor.com\n",
      "header: Vary: Accept-Encoding\n",
      "header: Content-Type: text/html;charset=UTF-8\n",
      "header: Accept-CH: Sec-CH-UA,Sec-CH-UA-Mobile,Sec-CH-UA-Platform,Sec-CH-UA-Arch,Sec-CH-UA-Full-Version-List,Sec-CH-UA-Model,Sec-CH-Device-Memory\n",
      "header: x-datadome: protected\n",
      "header: Content-Encoding: gzip\n",
      "header: x-request-id: 6d753200-1cb6-42a0-b11a-679c40b87dd6\n",
      "header: Date: Wed, 24 May 2023 17:54:58 GMT\n",
      "header: Transfer-Encoding: chunked\n",
      "header: Connection: keep-alive\n",
      "header: Connection: Transfer-Encoding\n",
      "header: Set-Cookie: TADCID=ODQ5BkmMt0MClMPVABQCXdElnkGETRW-Svh01l3nWnW7H7hIlrPbKHDXAYsGH1cgNUEVPaX3cPyjUmjnCQVaFRPTSstVdxGMFUM; Domain=www.tripadvisor.co.id; Expires=Sat, 21-May-2033 17:54:58 GMT; Path=/; Secure; HttpOnly\n",
      "header: Set-Cookie: TAUnique=%1%enc%3AZ%2FiZUpPLzTmCNtgs%2BCN3NnGfQMMEYPnqHsLJmtGMUJ%2BOZEvEN7S6ZA%3D%3D; Domain=.tripadvisor.co.id; Expires=Fri, 23-May-2025 17:54:58 GMT; Path=/; HttpOnly\n",
      "header: Set-Cookie: TASSK=enc%3AAHWf8igd%2Flb67FYQD6OUd39kVPhULjlK%2BcIjnhwfhlh9bFIfriafMHHFuW0zS92fRiYQjwEdxGwBuLv%2B171Ru1Z1VCfapsEwKpl0GTNXlXQ8OlkPpUPkc3XHAqxntJadBA%3D%3D; Domain=www.tripadvisor.co.id; Expires=Mon, 20-Nov-2023 17:54:58 GMT; Path=/; HttpOnly\n",
      "header: Set-Cookie: TASession=V2ID.927C4B3DFAEB47388480BA0880622AA8*SQ.1*HS.recommended*ES.popularity*DS.5*SAS.popularity*FPS.oldFirst*LF.in*FA.1*DF.0*TRA.true*LD.614386; Domain=.tripadvisor.co.id; Path=/\n",
      "header: Set-Cookie: ServerPool=X; Domain=.tripadvisor.co.id; Path=/\n",
      "header: Set-Cookie: PMC=V2*MS.51*MD.20230524*LD.20230524; Domain=www.tripadvisor.co.id; Expires=Fri, 23-May-2025 17:54:58 GMT; Path=/; Secure; HttpOnly\n",
      "header: Set-Cookie: TART=%1%enc%3AgjbYLPgjdzaxS15%2BRWc46qf1REm3QV4piFXlcfdcdWsus2bwzpu0%2BR0HD9rzoBWadstbMHkvBmk%3D; Domain=www.tripadvisor.co.id; Expires=Mon, 29-May-2023 17:54:58 GMT; Path=/; HttpOnly\n",
      "header: Set-Cookie: CM=%1%PremiumMobSess%2C%2C-1%7Ct4b-pc%2C%2C-1%7CRestAds%2FRPers%2C%2C-1%7CRCPers%2C%2C-1%7CWShadeSeen%2C%2C-1%7CTheForkMCCPers%2C%2C-1%7CHomeASess%2C%2C-1%7CPremiumMCSess%2C%2C-1%7CCrisisSess%2C%2C-1%7CUVOwnersSess%2C%2C-1%7CRestPremRSess%2C%2C-1%7CRepTarMCSess%2C%2C-1%7CCCSess%2C%2C-1%7CCYLSess%2C%2C-1%7CPremRetPers%2C%2C-1%7CViatorMCPers%2C%2C-1%7Csesssticker%2C%2C-1%7C%24%2C%2C-1%7CPremiumORSess%2C%2C-1%7Ct4b-sc%2C%2C-1%7CRestAdsPers%2C%2C-1%7CMC_IB_UPSELL_IB_LOGOS2%2C%2C-1%7CTSMCPers%2C%2C-1%7Cb2bmcpers%2C%2C-1%7CPremMCBtmSess%2C%2C-1%7CMC_IB_UPSELL_IB_LOGOS%2C%2C-1%7CLaFourchette+Banners%2C%2C-1%7Csess_rev%2C%2C-1%7Csessamex%2C%2C-1%7CPremiumRRSess%2C%2C-1%7CTADORSess%2C%2C-1%7CAdsRetPers%2C%2C-1%7CListMCSess%2C%2C-1%7CTARSWBPers%2C%2C-1%7CSPMCSess%2C%2C-1%7CTheForkORSess%2C%2C-1%7CTheForkRRSess%2C%2C-1%7Cpers_rev%2C%2C-1%7CRBAPers%2C%2C-1%7CRestAds%2FRSess%2C%2C-1%7CHomeAPers%2C%2C-1%7CPremiumMobPers%2C%2C-1%7CRCSess%2C%2C-1%7CLaFourchette+MC+Banners%2C%2C-1%7CRestAdsCCSess%2C%2C-1%7CRestPremRPers%2C%2C-1%7CRevHubRMPers%2C%2C-1%7CUVOwnersPers%2C%2C-1%7Cpssamex%2C%2C-1%7CTheForkMCCSess%2C%2C-1%7CCrisisPers%2C%2C-1%7CCYLPers%2C%2C-1%7CCCPers%2C%2C-1%7CRepTarMCPers%2C%2C-1%7Cb2bmcsess%2C%2C-1%7CTSMCSess%2C%2C-1%7CSPMCPers%2C%2C-1%7CRevHubRMSess%2C%2C-1%7CPremRetSess%2C%2C-1%7CViatorMCSess%2C%2C-1%7CPremiumMCPers%2C%2C-1%7CAdsRetSess%2C%2C-1%7CPremiumRRPers%2C%2C-1%7CRestAdsCCPers%2C%2C-1%7CTADORPers%2C%2C-1%7CTheForkORPers%2C%2C-1%7CPremMCBtmPers%2C%2C-1%7CTheForkRRPers%2C%2C-1%7CTARSWBSess%2C%2C-1%7CPremiumORPers%2C%2C-1%7CRestAdsSess%2C%2C-1%7CRBASess%2C%2C-1%7CSPORPers%2C%2C-1%7Cperssticker%2C%2C-1%7CListMCPers%2C%2C-1%7C; Domain=.tripadvisor.co.id; Expires=Sat, 21-May-2033 17:54:58 GMT; Path=/\n",
      "header: Set-Cookie: BEPIN=%1%1884ee65696%3Bweb165a.a.tripadvisor.com%3A30023%3B; Domain=.tripadvisor.co.id; Path=/\n",
      "header: Set-Cookie: PAC=ADOp7SHHnljMDLbEaRM5UPL443SKxrhXo4LDAz-GJP8mzvQTIqPVLw01DOXcwYyJ5TaVHAeUlscGvcmOv1bC-JSkvLUWrC7CGjWVBa3Ze3Jeh9njLL78pRHdifl-QOWepwTwPSOtpnanE1l3u1TwfYCODEtn4Jt2XomW9ED8FTYd30btB-QHa-tWKvykFRWOutTb8J3Ub6riWcbd4Fste2uET4RAmUhr6Uf0zUQua8E7; Domain=www.tripadvisor.co.id; Expires=Fri, 23-May-2025 17:54:58 GMT; Path=/; Secure; HttpOnly\n",
      "header: Set-Cookie: SRT=TART_SYNC; Domain=www.tripadvisor.co.id; Expires=Wed, 24-May-2023 18:24:58 GMT; Path=/\n",
      "header: Set-Cookie: TATravelInfo=V2*AY.2023*AM.6*AD.4*DY.2023*DM.6*DD.5*A.2*MG.-1*HP.2*FL.3*DSM.1684950898418*RS.1; Domain=.tripadvisor.co.id; Expires=Wed, 07-Jun-2023 17:54:58 GMT; Path=/\n",
      "header: Set-Cookie: TAUD=LG-1684950898248-2.1.F.*RDD-2-2023_05_25*HDD-3-2023_06_04.2023_06_05.1; Domain=.tripadvisor.co.id; Expires=Wed, 07-Jun-2023 17:54:58 GMT; Path=/\n",
      "header: Set-Cookie: TASID=927C4B3DFAEB47388480BA0880622AA8; Domain=www.tripadvisor.co.id; Expires=Wed, 24-May-2023 18:24:58 GMT; Path=/; Secure\n",
      "header: Set-Cookie: TAReturnTo=%1%%2FHotel_Review-g608487-d614386-Reviews-or90-Grand_Sinar_Indah_Hotel-Legian_Kuta_District_Bali.html; Domain=.tripadvisor.co.id; Path=/\n",
      "header: Set-Cookie: datadome=0tvUoGrqkoqNV2V_eWyc~u7Z4oBXRsKc4ass9jvprWKdRhXkvz506I7R9ze0jJU~cP_dFZVRMo3_aFAb6M56P9YrQ-V9gPmmZl_xgTeuIcSFgZbAvLvWr8btkcBsRWI_; Max-Age=31104000; Domain=.tripadvisor.co.id; Path=/; Secure; SameSite=Lax\n",
      "Done Scrapping Grand Sinar Indah Hotel page 18\n",
      "\n",
      "\n"
     ]
    },
    {
     "name": "stderr",
     "output_type": "stream",
     "text": [
      "DEBUG:urllib3.connectionpool:Starting new HTTPS connection (1): www.tripadvisor.co.id:443\n"
     ]
    },
    {
     "name": "stdout",
     "output_type": "stream",
     "text": [
      "send: b'GET /Hotel_Review-g608487-d614386-Reviews-or95-Grand_Sinar_Indah_Hotel-Legian_Kuta_District_Bali.html HTTP/1.1\\r\\nHost: www.tripadvisor.co.id\\r\\nUser-Agent: Mozilla/5.0 (X11; CrOS x86_64 12871.102.0) AppleWebKit/537.36 (KHTML, like Gecko) Chrome/81.0.4044.141 Safari/537.36\\r\\nAccept-Encoding: gzip, deflate\\r\\nAccept: */*\\r\\nConnection: keep-alive\\r\\n\\r\\n'\n"
     ]
    },
    {
     "name": "stderr",
     "output_type": "stream",
     "text": [
      "DEBUG:urllib3.connectionpool:https://www.tripadvisor.co.id:443 \"GET /Hotel_Review-g608487-d614386-Reviews-or95-Grand_Sinar_Indah_Hotel-Legian_Kuta_District_Bali.html HTTP/1.1\" 200 None\n"
     ]
    },
    {
     "name": "stdout",
     "output_type": "stream",
     "text": [
      "reply: 'HTTP/1.1 200 OK\\r\\n'\n",
      "header: Server: envoy\n",
      "header: Link: <https://media-cdn.tripadvisor.com/media/>;rel=\"preconnect\";crossorigin\n",
      "header: Link: <https://media-cdn.tripadvisor.com/media/>;rel=\"dns-prefetch\"\n",
      "header: p3p: CP=\"NOI CURa ADMa DEVa TAIa OUR BUS IND UNI COM NAV INT DSP COR CAO PSA IDC ADM DEVi TAIi PSD IVAi IVDi CONi HIS CNT\"\n",
      "header: Pragma: no-cache\n",
      "header: Cache-Control: no-cache, no-store, must-revalidate\n",
      "header: Expires: 0\n",
      "header: Content-Language: id\n",
      "header: Link: <https://static.tacdn.com>;rel=\"dns-prefetch\"\n",
      "header: Link: <https://static.tacdn.com>;rel=\"preconnect\";crossorigin\n",
      "header: timing-allow-origin: https://www.tripadvisor.com\n",
      "header: Vary: Accept-Encoding\n",
      "header: Content-Type: text/html;charset=UTF-8\n",
      "header: x-datadome: protected\n",
      "header: Accept-CH: Sec-CH-UA,Sec-CH-UA-Mobile,Sec-CH-UA-Platform,Sec-CH-UA-Arch,Sec-CH-UA-Full-Version-List,Sec-CH-UA-Model,Sec-CH-Device-Memory\n",
      "header: Content-Encoding: gzip\n",
      "header: x-request-id: a4f3e3e9-8f34-416e-99b2-63973184f279\n",
      "header: Date: Wed, 24 May 2023 17:55:03 GMT\n",
      "header: Transfer-Encoding: chunked\n",
      "header: Connection: keep-alive\n",
      "header: Connection: Transfer-Encoding\n",
      "header: Set-Cookie: TADCID=Vt2dlNGvVmUqPdHeABQCXdElnkGETRW-Svh01l3nWnW7II8v1ip7WJ600jFGr705TexwxGlUVc7kCvroyxysd3ahDU9pvDOqb7M; Domain=www.tripadvisor.co.id; Expires=Sat, 21-May-2033 17:55:02 GMT; Path=/; Secure; HttpOnly\n",
      "header: Set-Cookie: TAUnique=%1%enc%3A4GpBN2qRxoqCNtgs%2BCN3NnGfQMMEYPnq58Qs7zz0rx0tcfuntH7v3A%3D%3D; Domain=.tripadvisor.co.id; Expires=Fri, 23-May-2025 17:55:02 GMT; Path=/; HttpOnly\n",
      "header: Set-Cookie: TASSK=enc%3AAII7RKruIpN93qU4vOhKXi9bL86jCaxn1PArtz3MgsITBIzpIAz5DhP10jVrfoSngyLmWGnpm8mb1UYzK%2Bi5o1i%2FtjuQZaRPgDj%2BWOWQha2VvhXDj9DwegZiPm9Kgimnwg%3D%3D; Domain=www.tripadvisor.co.id; Expires=Mon, 20-Nov-2023 17:55:03 GMT; Path=/; HttpOnly\n",
      "header: Set-Cookie: TASession=V2ID.86BBFD7F1E0744938E57C3550C72F19B*SQ.1*HS.recommended*ES.popularity*DS.5*SAS.popularity*FPS.oldFirst*LF.in*FA.1*DF.0*TRA.true*LD.614386; Domain=.tripadvisor.co.id; Path=/\n",
      "header: Set-Cookie: ServerPool=X; Domain=.tripadvisor.co.id; Path=/\n",
      "header: Set-Cookie: PMC=V2*MS.53*MD.20230524*LD.20230524; Domain=www.tripadvisor.co.id; Expires=Fri, 23-May-2025 17:55:03 GMT; Path=/; Secure; HttpOnly\n",
      "header: Set-Cookie: TART=%1%enc%3AgjbYLPgjdzaxS15%2BRWc46pvfBV%2B8XdXAzrVpIIOH4sHZEVu7JpBc3huQoWq%2FIgy%2F2iegba5qN9k%3D; Domain=www.tripadvisor.co.id; Expires=Mon, 29-May-2023 17:55:03 GMT; Path=/; HttpOnly\n",
      "header: Set-Cookie: CM=%1%PremiumMobSess%2C%2C-1%7Ct4b-pc%2C%2C-1%7CRestAds%2FRPers%2C%2C-1%7CRCPers%2C%2C-1%7CWShadeSeen%2C%2C-1%7CTheForkMCCPers%2C%2C-1%7CHomeASess%2C%2C-1%7CPremiumMCSess%2C%2C-1%7CCrisisSess%2C%2C-1%7CUVOwnersSess%2C%2C-1%7CRestPremRSess%2C%2C-1%7CRepTarMCSess%2C%2C-1%7CCCSess%2C%2C-1%7CCYLSess%2C%2C-1%7CPremRetPers%2C%2C-1%7CViatorMCPers%2C%2C-1%7Csesssticker%2C%2C-1%7C%24%2C%2C-1%7CPremiumORSess%2C%2C-1%7Ct4b-sc%2C%2C-1%7CRestAdsPers%2C%2C-1%7CMC_IB_UPSELL_IB_LOGOS2%2C%2C-1%7CTSMCPers%2C%2C-1%7Cb2bmcpers%2C%2C-1%7CPremMCBtmSess%2C%2C-1%7CMC_IB_UPSELL_IB_LOGOS%2C%2C-1%7CLaFourchette+Banners%2C%2C-1%7Csess_rev%2C%2C-1%7Csessamex%2C%2C-1%7CPremiumRRSess%2C%2C-1%7CTADORSess%2C%2C-1%7CAdsRetPers%2C%2C-1%7CListMCSess%2C%2C-1%7CTARSWBPers%2C%2C-1%7CSPMCSess%2C%2C-1%7CTheForkORSess%2C%2C-1%7CTheForkRRSess%2C%2C-1%7Cpers_rev%2C%2C-1%7CRBAPers%2C%2C-1%7CRestAds%2FRSess%2C%2C-1%7CHomeAPers%2C%2C-1%7CPremiumMobPers%2C%2C-1%7CRCSess%2C%2C-1%7CLaFourchette+MC+Banners%2C%2C-1%7CRestAdsCCSess%2C%2C-1%7CRestPremRPers%2C%2C-1%7CRevHubRMPers%2C%2C-1%7CUVOwnersPers%2C%2C-1%7Cpssamex%2C%2C-1%7CTheForkMCCSess%2C%2C-1%7CCrisisPers%2C%2C-1%7CCYLPers%2C%2C-1%7CCCPers%2C%2C-1%7CRepTarMCPers%2C%2C-1%7Cb2bmcsess%2C%2C-1%7CTSMCSess%2C%2C-1%7CSPMCPers%2C%2C-1%7CRevHubRMSess%2C%2C-1%7CPremRetSess%2C%2C-1%7CViatorMCSess%2C%2C-1%7CPremiumMCPers%2C%2C-1%7CAdsRetSess%2C%2C-1%7CPremiumRRPers%2C%2C-1%7CRestAdsCCPers%2C%2C-1%7CTADORPers%2C%2C-1%7CTheForkORPers%2C%2C-1%7CPremMCBtmPers%2C%2C-1%7CTheForkRRPers%2C%2C-1%7CTARSWBSess%2C%2C-1%7CPremiumORPers%2C%2C-1%7CRestAdsSess%2C%2C-1%7CRBASess%2C%2C-1%7CSPORPers%2C%2C-1%7Cperssticker%2C%2C-1%7CListMCPers%2C%2C-1%7C; Domain=.tripadvisor.co.id; Expires=Sat, 21-May-2033 17:55:03 GMT; Path=/\n",
      "header: Set-Cookie: BEPIN=%1%1884ee667fa%3Bweb165a.a.tripadvisor.com%3A30023%3B; Domain=.tripadvisor.co.id; Path=/\n",
      "header: Set-Cookie: PAC=AChy7fuT6CfcdyXEgx0YUCnXQ31Z5aWu9ljS7ipQKnEPPdvhYzCnQ0bD2HYMt_yY1Lurd0x3Vt_8onl2yU2ENsxtE6NlhDIUn5b2l6IRp85Rj2mzEwUUIxtJ7L5QXfTJKdcgerkIjacR6ib2mI_DyqCI5eKtBjt7S3DuFdz82K4ZJaccy60kc3dV-IQj2-SrMvXRnShoS4lOS3VZXwhRwVVgY13u7BHo6qJCWXSQYJ1o; Domain=www.tripadvisor.co.id; Expires=Fri, 23-May-2025 17:55:03 GMT; Path=/; Secure; HttpOnly\n",
      "header: Set-Cookie: SRT=TART_SYNC; Domain=www.tripadvisor.co.id; Expires=Wed, 24-May-2023 18:25:03 GMT; Path=/\n",
      "header: Set-Cookie: TATravelInfo=V2*AY.2023*AM.6*AD.4*DY.2023*DM.6*DD.5*A.2*MG.-1*HP.2*FL.3*DSM.1684950902885*RS.1; Domain=.tripadvisor.co.id; Expires=Wed, 07-Jun-2023 17:55:03 GMT; Path=/\n",
      "header: Set-Cookie: TAUD=LG-1684950902759-2.1.F.*RDD-2-2023_05_25*HDD-3-2023_06_04.2023_06_05.1; Domain=.tripadvisor.co.id; Expires=Wed, 07-Jun-2023 17:55:03 GMT; Path=/\n",
      "header: Set-Cookie: TASID=86BBFD7F1E0744938E57C3550C72F19B; Domain=www.tripadvisor.co.id; Expires=Wed, 24-May-2023 18:25:03 GMT; Path=/; Secure\n",
      "header: Set-Cookie: TAReturnTo=%1%%2FHotel_Review-g608487-d614386-Reviews-or95-Grand_Sinar_Indah_Hotel-Legian_Kuta_District_Bali.html; Domain=.tripadvisor.co.id; Path=/\n",
      "header: Set-Cookie: datadome=0c-zT8D1V_kWY_3IXREBby9L8AE3rKz-HDtmYfC0DqGTmuw40W00j6m6NmFqgHbsWlWBXkjl9DyYrkXHERpn~kzYw5tvbWZPOhyWsP6yzI~JJZWpTCX4CkTBYB0Y-LI5; Max-Age=31104000; Domain=.tripadvisor.co.id; Path=/; Secure; SameSite=Lax\n",
      "Done Scrapping Grand Sinar Indah Hotel page 19\n",
      "\n",
      "\n"
     ]
    },
    {
     "name": "stderr",
     "output_type": "stream",
     "text": [
      "DEBUG:urllib3.connectionpool:Starting new HTTPS connection (1): www.tripadvisor.co.id:443\n"
     ]
    },
    {
     "name": "stdout",
     "output_type": "stream",
     "text": [
      "send: b'GET /Hotel_Review-g608487-d614386-Reviews-or100-Grand_Sinar_Indah_Hotel-Legian_Kuta_District_Bali.html HTTP/1.1\\r\\nHost: www.tripadvisor.co.id\\r\\nUser-Agent: Mozilla/5.0 (X11; CrOS x86_64 12871.102.0) AppleWebKit/537.36 (KHTML, like Gecko) Chrome/81.0.4044.141 Safari/537.36\\r\\nAccept-Encoding: gzip, deflate\\r\\nAccept: */*\\r\\nConnection: keep-alive\\r\\n\\r\\n'\n"
     ]
    },
    {
     "name": "stderr",
     "output_type": "stream",
     "text": [
      "DEBUG:urllib3.connectionpool:https://www.tripadvisor.co.id:443 \"GET /Hotel_Review-g608487-d614386-Reviews-or100-Grand_Sinar_Indah_Hotel-Legian_Kuta_District_Bali.html HTTP/1.1\" 200 None\n"
     ]
    },
    {
     "name": "stdout",
     "output_type": "stream",
     "text": [
      "reply: 'HTTP/1.1 200 OK\\r\\n'\n",
      "header: Server: envoy\n",
      "header: Link: <https://media-cdn.tripadvisor.com/media/>;rel=\"preconnect\";crossorigin\n",
      "header: Link: <https://media-cdn.tripadvisor.com/media/>;rel=\"dns-prefetch\"\n",
      "header: p3p: CP=\"NOI CURa ADMa DEVa TAIa OUR BUS IND UNI COM NAV INT DSP COR CAO PSA IDC ADM DEVi TAIi PSD IVAi IVDi CONi HIS CNT\"\n",
      "header: Pragma: no-cache\n",
      "header: Cache-Control: no-cache, no-store, must-revalidate\n",
      "header: Expires: 0\n",
      "header: Content-Language: id\n",
      "header: Link: <https://static.tacdn.com>;rel=\"dns-prefetch\"\n",
      "header: Link: <https://static.tacdn.com>;rel=\"preconnect\";crossorigin\n",
      "header: timing-allow-origin: https://www.tripadvisor.com\n",
      "header: Vary: Accept-Encoding\n",
      "header: Content-Type: text/html;charset=UTF-8\n",
      "header: x-datadome: protected\n",
      "header: Accept-CH: Sec-CH-UA,Sec-CH-UA-Mobile,Sec-CH-UA-Platform,Sec-CH-UA-Arch,Sec-CH-UA-Full-Version-List,Sec-CH-UA-Model,Sec-CH-Device-Memory\n",
      "header: Content-Encoding: gzip\n",
      "header: x-request-id: 1fb12f47-dc73-46b3-8479-5471e84b968b\n",
      "header: Date: Wed, 24 May 2023 17:55:08 GMT\n",
      "header: Transfer-Encoding: chunked\n",
      "header: Connection: keep-alive\n",
      "header: Connection: Transfer-Encoding\n",
      "header: Set-Cookie: TADCID=Jcd5Yn4CCZDatWMvABQCXdElnkGETRW-Svh01l3nWnW7IJ6emE18uVGn1EBKc6bzOqLL16Ldq5nNHou9M_U5PawDS_zGAxwtzyI; Domain=www.tripadvisor.co.id; Expires=Sat, 21-May-2033 17:55:07 GMT; Path=/; Secure; HttpOnly\n",
      "header: Set-Cookie: TAUnique=%1%enc%3AuDVedQjmD2%2BCNtgs%2BCN3NnGfQMMEYPnq%2BJKYqOE98M%2BbIxMMY4Cf3A%3D%3D; Domain=.tripadvisor.co.id; Expires=Fri, 23-May-2025 17:55:07 GMT; Path=/; HttpOnly\n",
      "header: Set-Cookie: TASSK=enc%3AAIHVxA7NMpcUEnHQ%2BlmbqYqqDvRbwPjJLW6tljZ9ErpyRWx29CogsH9EoVealVIrPuo8w296ATmRg2rRwPbklrHqAI4iSkwfIoP8pVIy5%2FM5pkjM5AzT3EBsOsxETYDAhA%3D%3D; Domain=www.tripadvisor.co.id; Expires=Mon, 20-Nov-2023 17:55:07 GMT; Path=/; HttpOnly\n",
      "header: Set-Cookie: TASession=V2ID.EF03AFAE23B24062BA073E106E2E8F82*SQ.1*HS.recommended*ES.popularity*DS.5*SAS.popularity*FPS.oldFirst*LF.in*FA.1*DF.0*TRA.true*LD.614386; Domain=.tripadvisor.co.id; Path=/\n",
      "header: Set-Cookie: ServerPool=X; Domain=.tripadvisor.co.id; Path=/\n",
      "header: Set-Cookie: PMC=V2*MS.66*MD.20230524*LD.20230524; Domain=www.tripadvisor.co.id; Expires=Fri, 23-May-2025 17:55:07 GMT; Path=/; Secure; HttpOnly\n",
      "header: Set-Cookie: TART=%1%enc%3AgjbYLPgjdzaxS15%2BRWc46pVvqwmWsupRa5C%2BOs9RIZyr8i%2BJaHLsjMwT3J9WTaEEaKGPACBDz%2BI%3D; Domain=www.tripadvisor.co.id; Expires=Mon, 29-May-2023 17:55:07 GMT; Path=/; HttpOnly\n",
      "header: Set-Cookie: CM=%1%PremiumMobSess%2C%2C-1%7Ct4b-pc%2C%2C-1%7CRestAds%2FRPers%2C%2C-1%7CRCPers%2C%2C-1%7CWShadeSeen%2C%2C-1%7CTheForkMCCPers%2C%2C-1%7CHomeASess%2C%2C-1%7CPremiumMCSess%2C%2C-1%7CCrisisSess%2C%2C-1%7CUVOwnersSess%2C%2C-1%7CRestPremRSess%2C%2C-1%7CRepTarMCSess%2C%2C-1%7CCCSess%2C%2C-1%7CCYLSess%2C%2C-1%7CPremRetPers%2C%2C-1%7CViatorMCPers%2C%2C-1%7Csesssticker%2C%2C-1%7C%24%2C%2C-1%7CPremiumORSess%2C%2C-1%7Ct4b-sc%2C%2C-1%7CRestAdsPers%2C%2C-1%7CMC_IB_UPSELL_IB_LOGOS2%2C%2C-1%7CTSMCPers%2C%2C-1%7Cb2bmcpers%2C%2C-1%7CPremMCBtmSess%2C%2C-1%7CMC_IB_UPSELL_IB_LOGOS%2C%2C-1%7CLaFourchette+Banners%2C%2C-1%7Csess_rev%2C%2C-1%7Csessamex%2C%2C-1%7CPremiumRRSess%2C%2C-1%7CTADORSess%2C%2C-1%7CAdsRetPers%2C%2C-1%7CListMCSess%2C%2C-1%7CTARSWBPers%2C%2C-1%7CSPMCSess%2C%2C-1%7CTheForkORSess%2C%2C-1%7CTheForkRRSess%2C%2C-1%7Cpers_rev%2C%2C-1%7CRBAPers%2C%2C-1%7CRestAds%2FRSess%2C%2C-1%7CHomeAPers%2C%2C-1%7CPremiumMobPers%2C%2C-1%7CRCSess%2C%2C-1%7CLaFourchette+MC+Banners%2C%2C-1%7CRestAdsCCSess%2C%2C-1%7CRestPremRPers%2C%2C-1%7CRevHubRMPers%2C%2C-1%7CUVOwnersPers%2C%2C-1%7Cpssamex%2C%2C-1%7CTheForkMCCSess%2C%2C-1%7CCrisisPers%2C%2C-1%7CCYLPers%2C%2C-1%7CCCPers%2C%2C-1%7CRepTarMCPers%2C%2C-1%7Cb2bmcsess%2C%2C-1%7CTSMCSess%2C%2C-1%7CSPMCPers%2C%2C-1%7CRevHubRMSess%2C%2C-1%7CPremRetSess%2C%2C-1%7CViatorMCSess%2C%2C-1%7CPremiumMCPers%2C%2C-1%7CAdsRetSess%2C%2C-1%7CPremiumRRPers%2C%2C-1%7CRestAdsCCPers%2C%2C-1%7CTADORPers%2C%2C-1%7CTheForkORPers%2C%2C-1%7CPremMCBtmPers%2C%2C-1%7CTheForkRRPers%2C%2C-1%7CTARSWBSess%2C%2C-1%7CPremiumORPers%2C%2C-1%7CRestAdsSess%2C%2C-1%7CRBASess%2C%2C-1%7CSPORPers%2C%2C-1%7Cperssticker%2C%2C-1%7CListMCPers%2C%2C-1%7C; Domain=.tripadvisor.co.id; Expires=Sat, 21-May-2033 17:55:07 GMT; Path=/\n",
      "header: Set-Cookie: BEPIN=%1%1884ee67a43%3Bweb225a.a.tripadvisor.com%3A30023%3B; Domain=.tripadvisor.co.id; Path=/\n",
      "header: Set-Cookie: PAC=AM3y0BBtr4i01bsFakizrTmUGl0M_geSPcLWHHtqFMm1USMSwKq9-ZLwkXt-uoR7v3Oi6taCafRS6ih8vMpH0EmnzF3JZZDUxVJo9wYaSxTCzgHTW4ekX3LhRkwDI3dO0GWQ1xG8fTARlUPxCCU2m1Bz9PbzvocdQaExYFFBpu8Tt7yI5n8TMvRedW0GVQs-7b26ov9A5NV_3L6mf2Eh5344YXuk04MzvpUdPFwac1YM; Domain=www.tripadvisor.co.id; Expires=Fri, 23-May-2025 17:55:07 GMT; Path=/; Secure; HttpOnly\n",
      "header: Set-Cookie: SRT=TART_SYNC; Domain=www.tripadvisor.co.id; Expires=Wed, 24-May-2023 18:25:07 GMT; Path=/\n",
      "header: Set-Cookie: TATravelInfo=V2*AY.2023*AM.6*AD.4*DY.2023*DM.6*DD.5*A.2*MG.-1*HP.2*FL.3*DSM.1684950907560*RS.1; Domain=.tripadvisor.co.id; Expires=Wed, 07-Jun-2023 17:55:07 GMT; Path=/\n",
      "header: Set-Cookie: TAUD=LG-1684950907441-2.1.F.*RDD-2-2023_05_25*HDD-3-2023_06_04.2023_06_05.1; Domain=.tripadvisor.co.id; Expires=Wed, 07-Jun-2023 17:55:07 GMT; Path=/\n",
      "header: Set-Cookie: TASID=EF03AFAE23B24062BA073E106E2E8F82; Domain=www.tripadvisor.co.id; Expires=Wed, 24-May-2023 18:25:07 GMT; Path=/; Secure\n",
      "header: Set-Cookie: TAReturnTo=%1%%2FHotel_Review-g608487-d614386-Reviews-or100-Grand_Sinar_Indah_Hotel-Legian_Kuta_District_Bali.html; Domain=.tripadvisor.co.id; Path=/\n",
      "header: Set-Cookie: datadome=kN0fL7wtuNOkT7JL04ThwmL-tfOBcjeM7FWBRY20uxAGc_zOQA3VXEx_bx2jGRllpYeDiUN3iK0_ytfU-MuUKsj1Z2zr6Z~O7smYQ5b9JEVE3jq2Bqw6psRvYOT9kqS; Max-Age=31104000; Domain=.tripadvisor.co.id; Path=/; Secure; SameSite=Lax\n",
      "Done Scrapping Grand Sinar Indah Hotel page 20\n",
      "\n",
      "\n"
     ]
    },
    {
     "name": "stderr",
     "output_type": "stream",
     "text": [
      "DEBUG:urllib3.connectionpool:Starting new HTTPS connection (1): www.tripadvisor.co.id:443\n"
     ]
    },
    {
     "name": "stdout",
     "output_type": "stream",
     "text": [
      "send: b'GET /Hotel_Review-g608487-d614386-Reviews-or105-Grand_Sinar_Indah_Hotel-Legian_Kuta_District_Bali.html HTTP/1.1\\r\\nHost: www.tripadvisor.co.id\\r\\nUser-Agent: Mozilla/5.0 (X11; CrOS x86_64 12871.102.0) AppleWebKit/537.36 (KHTML, like Gecko) Chrome/81.0.4044.141 Safari/537.36\\r\\nAccept-Encoding: gzip, deflate\\r\\nAccept: */*\\r\\nConnection: keep-alive\\r\\n\\r\\n'\n"
     ]
    },
    {
     "name": "stderr",
     "output_type": "stream",
     "text": [
      "DEBUG:urllib3.connectionpool:https://www.tripadvisor.co.id:443 \"GET /Hotel_Review-g608487-d614386-Reviews-or105-Grand_Sinar_Indah_Hotel-Legian_Kuta_District_Bali.html HTTP/1.1\" 200 None\n"
     ]
    },
    {
     "name": "stdout",
     "output_type": "stream",
     "text": [
      "reply: 'HTTP/1.1 200 OK\\r\\n'\n",
      "header: Server: envoy\n",
      "header: Link: <https://media-cdn.tripadvisor.com/media/>;rel=\"preconnect\";crossorigin\n",
      "header: Link: <https://media-cdn.tripadvisor.com/media/>;rel=\"dns-prefetch\"\n",
      "header: p3p: CP=\"NOI CURa ADMa DEVa TAIa OUR BUS IND UNI COM NAV INT DSP COR CAO PSA IDC ADM DEVi TAIi PSD IVAi IVDi CONi HIS CNT\"\n",
      "header: Pragma: no-cache\n",
      "header: Cache-Control: no-cache, no-store, must-revalidate\n",
      "header: Expires: 0\n",
      "header: Content-Language: id\n",
      "header: Link: <https://static.tacdn.com>;rel=\"dns-prefetch\"\n",
      "header: Link: <https://static.tacdn.com>;rel=\"preconnect\";crossorigin\n",
      "header: timing-allow-origin: https://www.tripadvisor.com\n",
      "header: Vary: Accept-Encoding\n",
      "header: Content-Type: text/html;charset=UTF-8\n",
      "header: x-datadome: protected\n",
      "header: Accept-CH: Sec-CH-UA,Sec-CH-UA-Mobile,Sec-CH-UA-Platform,Sec-CH-UA-Arch,Sec-CH-UA-Full-Version-List,Sec-CH-UA-Model,Sec-CH-Device-Memory\n",
      "header: Content-Encoding: gzip\n",
      "header: x-request-id: 20294771-cd98-4d5b-b9c7-ffcdeaa902bb\n",
      "header: Date: Wed, 24 May 2023 17:55:12 GMT\n",
      "header: Transfer-Encoding: chunked\n",
      "header: Connection: keep-alive\n",
      "header: Connection: Transfer-Encoding\n",
      "header: Set-Cookie: TADCID=f7u2Wtt43Tx3omtaABQCXdElnkGETRW-Svh01l3nWnW7ICJQiMzD24H92JgA_5zdP6W53duHHzVTPnow6aQBMe2uF9T7QFORpmw; Domain=www.tripadvisor.co.id; Expires=Sat, 21-May-2033 17:55:12 GMT; Path=/; Secure; HttpOnly\n",
      "header: Set-Cookie: TAUnique=%1%enc%3AeHVMXz6hVreCNtgs%2BCN3NnGfQMMEYPnqZga4iVo3fwkc5muAMVHw7A%3D%3D; Domain=.tripadvisor.co.id; Expires=Fri, 23-May-2025 17:55:12 GMT; Path=/; HttpOnly\n",
      "header: Set-Cookie: TASSK=enc%3AAIBI6O%2Fe1%2BTkT4DqjM7oYP0r4KWwf8CE6ufQPHzywkyriRaOYT8Go3K50jpxtOzMsdUecSr2YfBfKBTVPpVud8ChKNabQDHLleBlBxmnhzSlEF0G7bdBsBGik6092GZaqg%3D%3D; Domain=www.tripadvisor.co.id; Expires=Mon, 20-Nov-2023 17:55:12 GMT; Path=/; HttpOnly\n",
      "header: Set-Cookie: TASession=V2ID.99161DF80FA64BAFB03E76696EBE522C*SQ.1*HS.recommended*ES.popularity*DS.5*SAS.popularity*FPS.oldFirst*LF.in*FA.1*DF.0*TRA.true*LD.614386; Domain=.tripadvisor.co.id; Path=/\n",
      "header: Set-Cookie: ServerPool=A; Domain=.tripadvisor.co.id; Path=/\n",
      "header: Set-Cookie: PMC=V2*MS.53*MD.20230524*LD.20230524; Domain=www.tripadvisor.co.id; Expires=Fri, 23-May-2025 17:55:12 GMT; Path=/; Secure; HttpOnly\n",
      "header: Set-Cookie: TART=%1%enc%3AgjbYLPgjdzaxS15%2BRWc46szP2IgwcgclPKkb32j9zeQA1AkVwX7cPq%2Fed8%2FvqZIsWpRDVE3tKnk%3D; Domain=www.tripadvisor.co.id; Expires=Mon, 29-May-2023 17:55:12 GMT; Path=/; HttpOnly\n",
      "header: Set-Cookie: CM=%1%PremiumMobSess%2C%2C-1%7Ct4b-pc%2C%2C-1%7CRestAds%2FRPers%2C%2C-1%7CRCPers%2C%2C-1%7CWShadeSeen%2C%2C-1%7CTheForkMCCPers%2C%2C-1%7CHomeASess%2C%2C-1%7CPremiumMCSess%2C%2C-1%7CCrisisSess%2C%2C-1%7CUVOwnersSess%2C%2C-1%7CRestPremRSess%2C%2C-1%7CRepTarMCSess%2C%2C-1%7CCCSess%2C%2C-1%7CCYLSess%2C%2C-1%7CPremRetPers%2C%2C-1%7CViatorMCPers%2C%2C-1%7Csesssticker%2C%2C-1%7C%24%2C%2C-1%7CPremiumORSess%2C%2C-1%7Ct4b-sc%2C%2C-1%7CRestAdsPers%2C%2C-1%7CMC_IB_UPSELL_IB_LOGOS2%2C%2C-1%7CTSMCPers%2C%2C-1%7Cb2bmcpers%2C%2C-1%7CPremMCBtmSess%2C%2C-1%7CMC_IB_UPSELL_IB_LOGOS%2C%2C-1%7CLaFourchette+Banners%2C%2C-1%7Csess_rev%2C%2C-1%7Csessamex%2C%2C-1%7CPremiumRRSess%2C%2C-1%7CTADORSess%2C%2C-1%7CAdsRetPers%2C%2C-1%7CListMCSess%2C%2C-1%7CTARSWBPers%2C%2C-1%7CSPMCSess%2C%2C-1%7CTheForkORSess%2C%2C-1%7CTheForkRRSess%2C%2C-1%7Cpers_rev%2C%2C-1%7CRBAPers%2C%2C-1%7CRestAds%2FRSess%2C%2C-1%7CHomeAPers%2C%2C-1%7CPremiumMobPers%2C%2C-1%7CRCSess%2C%2C-1%7CLaFourchette+MC+Banners%2C%2C-1%7CRestAdsCCSess%2C%2C-1%7CRestPremRPers%2C%2C-1%7CRevHubRMPers%2C%2C-1%7CUVOwnersPers%2C%2C-1%7Cpssamex%2C%2C-1%7CTheForkMCCSess%2C%2C-1%7CCrisisPers%2C%2C-1%7CCYLPers%2C%2C-1%7CCCPers%2C%2C-1%7CRepTarMCPers%2C%2C-1%7Cb2bmcsess%2C%2C-1%7CTSMCSess%2C%2C-1%7CSPMCPers%2C%2C-1%7CRevHubRMSess%2C%2C-1%7CPremRetSess%2C%2C-1%7CViatorMCSess%2C%2C-1%7CPremiumMCPers%2C%2C-1%7CAdsRetSess%2C%2C-1%7CPremiumRRPers%2C%2C-1%7CRestAdsCCPers%2C%2C-1%7CTADORPers%2C%2C-1%7CTheForkORPers%2C%2C-1%7CPremMCBtmPers%2C%2C-1%7CTheForkRRPers%2C%2C-1%7CTARSWBSess%2C%2C-1%7CPremiumORPers%2C%2C-1%7CRestAdsSess%2C%2C-1%7CRBASess%2C%2C-1%7CSPORPers%2C%2C-1%7Cperssticker%2C%2C-1%7CListMCPers%2C%2C-1%7C; Domain=.tripadvisor.co.id; Expires=Sat, 21-May-2033 17:55:12 GMT; Path=/\n",
      "header: Set-Cookie: BEPIN=%1%1884ee68d0d%3Bweb472a.a.tripadvisor.com%3A30023%3B; Domain=.tripadvisor.co.id; Path=/\n",
      "header: Set-Cookie: PAC=AFsRFE42faYbAp1BEWBjnFYdfS0AKxfSkEYndocYuSLKPJsTs9DLgofr9QKJsGVb9qXba8y-noXfJbOew6l1PuYZJpAk7bbgevwYR3ZXrzBjtkkagZ4OhLwXTTGI_6RtWm2CbcK1_2beyDYTHJFZchUQS6GXJL-5ZAyby3lJ-4v3gBZBoJZuTNqkXLJpEO52KsMVUmZp4WK-X4brSJXMr2f3Yof0Rmha4UPhIO4mRGPm; Domain=www.tripadvisor.co.id; Expires=Fri, 23-May-2025 17:55:12 GMT; Path=/; Secure; HttpOnly\n",
      "header: Set-Cookie: SRT=TART_SYNC; Domain=www.tripadvisor.co.id; Expires=Wed, 24-May-2023 18:25:12 GMT; Path=/\n",
      "header: Set-Cookie: TATravelInfo=V2*AY.2023*AM.6*AD.4*DY.2023*DM.6*DD.5*A.2*MG.-1*HP.2*FL.3*DSM.1684950912407*RS.1; Domain=.tripadvisor.co.id; Expires=Wed, 07-Jun-2023 17:55:12 GMT; Path=/\n",
      "header: Set-Cookie: TAUD=LG-1684950912251-2.1.F.*RDD-2-2023_05_25*HDD-3-2023_06_04.2023_06_05.1; Domain=.tripadvisor.co.id; Expires=Wed, 07-Jun-2023 17:55:12 GMT; Path=/\n",
      "header: Set-Cookie: TASID=99161DF80FA64BAFB03E76696EBE522C; Domain=www.tripadvisor.co.id; Expires=Wed, 24-May-2023 18:25:12 GMT; Path=/; Secure\n",
      "header: Set-Cookie: TAReturnTo=%1%%2FHotel_Review-g608487-d614386-Reviews-or105-Grand_Sinar_Indah_Hotel-Legian_Kuta_District_Bali.html; Domain=.tripadvisor.co.id; Path=/\n",
      "header: Set-Cookie: datadome=3RdMWnfJrS_YkUsxBYkQKY0rHEKLX01~iDS4vxczHnb1XGECkJJ7jgSQqYXZi4zwwB3-CTVs84zLxLUOlygsvMQ241hUZjQlaNELNFE9J693meMBVWmMzPGRXB_pFi7h; Max-Age=31104000; Domain=.tripadvisor.co.id; Path=/; Secure; SameSite=Lax\n",
      "Done Scrapping Grand Sinar Indah Hotel page 21\n",
      "\n",
      "\n"
     ]
    },
    {
     "name": "stderr",
     "output_type": "stream",
     "text": [
      "DEBUG:urllib3.connectionpool:Starting new HTTPS connection (1): www.tripadvisor.co.id:443\n"
     ]
    },
    {
     "name": "stdout",
     "output_type": "stream",
     "text": [
      "send: b'GET /Hotel_Review-g608487-d614386-Reviews-or110-Grand_Sinar_Indah_Hotel-Legian_Kuta_District_Bali.html HTTP/1.1\\r\\nHost: www.tripadvisor.co.id\\r\\nUser-Agent: Mozilla/5.0 (X11; CrOS x86_64 12871.102.0) AppleWebKit/537.36 (KHTML, like Gecko) Chrome/81.0.4044.141 Safari/537.36\\r\\nAccept-Encoding: gzip, deflate\\r\\nAccept: */*\\r\\nConnection: keep-alive\\r\\n\\r\\n'\n"
     ]
    },
    {
     "name": "stderr",
     "output_type": "stream",
     "text": [
      "DEBUG:urllib3.connectionpool:https://www.tripadvisor.co.id:443 \"GET /Hotel_Review-g608487-d614386-Reviews-or110-Grand_Sinar_Indah_Hotel-Legian_Kuta_District_Bali.html HTTP/1.1\" 200 None\n"
     ]
    },
    {
     "name": "stdout",
     "output_type": "stream",
     "text": [
      "reply: 'HTTP/1.1 200 OK\\r\\n'\n",
      "header: Server: envoy\n",
      "header: Link: <https://media-cdn.tripadvisor.com/media/>;rel=\"preconnect\";crossorigin\n",
      "header: Link: <https://media-cdn.tripadvisor.com/media/>;rel=\"dns-prefetch\"\n",
      "header: p3p: CP=\"NOI CURa ADMa DEVa TAIa OUR BUS IND UNI COM NAV INT DSP COR CAO PSA IDC ADM DEVi TAIi PSD IVAi IVDi CONi HIS CNT\"\n",
      "header: Pragma: no-cache\n",
      "header: Cache-Control: no-cache, no-store, must-revalidate\n",
      "header: Expires: 0\n",
      "header: Content-Language: id\n",
      "header: Link: <https://static.tacdn.com>;rel=\"dns-prefetch\"\n",
      "header: Link: <https://static.tacdn.com>;rel=\"preconnect\";crossorigin\n",
      "header: timing-allow-origin: https://www.tripadvisor.com\n",
      "header: Vary: Accept-Encoding\n",
      "header: Content-Type: text/html;charset=UTF-8\n",
      "header: Accept-CH: Sec-CH-UA,Sec-CH-UA-Mobile,Sec-CH-UA-Platform,Sec-CH-UA-Arch,Sec-CH-UA-Full-Version-List,Sec-CH-UA-Model,Sec-CH-Device-Memory\n",
      "header: x-datadome: protected\n",
      "header: Content-Encoding: gzip\n",
      "header: x-request-id: 6e6128ec-5a0c-432f-be64-595ab73b8c23\n",
      "header: Date: Wed, 24 May 2023 17:55:17 GMT\n",
      "header: Transfer-Encoding: chunked\n",
      "header: Connection: keep-alive\n",
      "header: Connection: Transfer-Encoding\n",
      "header: Set-Cookie: TADCID=ooY2eafbLbRUNjTWABQCXdElnkGETRW-Svh01l3nWnW7IKW1KU1QlXSGDDkqwhPUbgOAhyrsI5GPOJKECgyvrI7EOi3u0CaUJu8; Domain=www.tripadvisor.co.id; Expires=Sat, 21-May-2033 17:55:17 GMT; Path=/; Secure; HttpOnly\n",
      "header: Set-Cookie: TAUnique=%1%enc%3A3eqmVl9g5WeCNtgs%2BCN3NnGfQMMEYPnq%2BvwF8GYTSeLq1YQp0JKV4g%3D%3D; Domain=.tripadvisor.co.id; Expires=Fri, 23-May-2025 17:55:17 GMT; Path=/; HttpOnly\n",
      "header: Set-Cookie: TASSK=enc%3AAKAIDLwc7CdtMnVRRj8GviPFALn86ZmfJjcpaYB%2B9Yajk5PhPYg89XW7JHGgNj1kKUw0CfjDNhtfTMGlon09GUmNbjrHFS5u9tvRqRBDqYIxunqMBZrsQvYogpM0FnKIfA%3D%3D; Domain=www.tripadvisor.co.id; Expires=Mon, 20-Nov-2023 17:55:17 GMT; Path=/; HttpOnly\n",
      "header: Set-Cookie: TASession=V2ID.FC04AF8A97B9471B879C37CA8055F5FE*SQ.1*HS.recommended*ES.popularity*DS.5*SAS.popularity*FPS.oldFirst*LF.in*FA.1*DF.0*TRA.true*LD.614386; Domain=.tripadvisor.co.id; Path=/\n",
      "header: Set-Cookie: ServerPool=B; Domain=.tripadvisor.co.id; Path=/\n",
      "header: Set-Cookie: PMC=V2*MS.56*MD.20230524*LD.20230524; Domain=www.tripadvisor.co.id; Expires=Fri, 23-May-2025 17:55:17 GMT; Path=/; Secure; HttpOnly\n",
      "header: Set-Cookie: TART=%1%enc%3AgjbYLPgjdzaxS15%2BRWc46uQQnW1ikoilyzZfB%2FfvsqBE2RsfNwEuH7ib599OfyrpAJR3gLSI96s%3D; Domain=www.tripadvisor.co.id; Expires=Mon, 29-May-2023 17:55:17 GMT; Path=/; HttpOnly\n",
      "header: Set-Cookie: CM=%1%PremiumMobSess%2C%2C-1%7Ct4b-pc%2C%2C-1%7CRestAds%2FRPers%2C%2C-1%7CRCPers%2C%2C-1%7CWShadeSeen%2C%2C-1%7CTheForkMCCPers%2C%2C-1%7CHomeASess%2C%2C-1%7CPremiumMCSess%2C%2C-1%7CCrisisSess%2C%2C-1%7CUVOwnersSess%2C%2C-1%7CRestPremRSess%2C%2C-1%7CRepTarMCSess%2C%2C-1%7CCCSess%2C%2C-1%7CCYLSess%2C%2C-1%7CPremRetPers%2C%2C-1%7CViatorMCPers%2C%2C-1%7Csesssticker%2C%2C-1%7C%24%2C%2C-1%7CPremiumORSess%2C%2C-1%7Ct4b-sc%2C%2C-1%7CRestAdsPers%2C%2C-1%7CMC_IB_UPSELL_IB_LOGOS2%2C%2C-1%7CTSMCPers%2C%2C-1%7Cb2bmcpers%2C%2C-1%7CPremMCBtmSess%2C%2C-1%7CMC_IB_UPSELL_IB_LOGOS%2C%2C-1%7CLaFourchette+Banners%2C%2C-1%7Csess_rev%2C%2C-1%7Csessamex%2C%2C-1%7CPremiumRRSess%2C%2C-1%7CTADORSess%2C%2C-1%7CAdsRetPers%2C%2C-1%7CListMCSess%2C%2C-1%7CTARSWBPers%2C%2C-1%7CSPMCSess%2C%2C-1%7CTheForkORSess%2C%2C-1%7CTheForkRRSess%2C%2C-1%7Cpers_rev%2C%2C-1%7CRBAPers%2C%2C-1%7CRestAds%2FRSess%2C%2C-1%7CHomeAPers%2C%2C-1%7CPremiumMobPers%2C%2C-1%7CRCSess%2C%2C-1%7CLaFourchette+MC+Banners%2C%2C-1%7CRestAdsCCSess%2C%2C-1%7CRestPremRPers%2C%2C-1%7CRevHubRMPers%2C%2C-1%7CUVOwnersPers%2C%2C-1%7Cpssamex%2C%2C-1%7CTheForkMCCSess%2C%2C-1%7CCrisisPers%2C%2C-1%7CCYLPers%2C%2C-1%7CCCPers%2C%2C-1%7CRepTarMCPers%2C%2C-1%7Cb2bmcsess%2C%2C-1%7CTSMCSess%2C%2C-1%7CSPMCPers%2C%2C-1%7CRevHubRMSess%2C%2C-1%7CPremRetSess%2C%2C-1%7CViatorMCSess%2C%2C-1%7CPremiumMCPers%2C%2C-1%7CAdsRetSess%2C%2C-1%7CPremiumRRPers%2C%2C-1%7CRestAdsCCPers%2C%2C-1%7CTADORPers%2C%2C-1%7CTheForkORPers%2C%2C-1%7CPremMCBtmPers%2C%2C-1%7CTheForkRRPers%2C%2C-1%7CTARSWBSess%2C%2C-1%7CPremiumORPers%2C%2C-1%7CRestAdsSess%2C%2C-1%7CRBASess%2C%2C-1%7CSPORPers%2C%2C-1%7Cperssticker%2C%2C-1%7CListMCPers%2C%2C-1%7C; Domain=.tripadvisor.co.id; Expires=Sat, 21-May-2033 17:55:17 GMT; Path=/\n",
      "header: Set-Cookie: BEPIN=%1%1884ee6a09c%3Bweb472a.a.tripadvisor.com%3A30023%3B; Domain=.tripadvisor.co.id; Path=/\n",
      "header: Set-Cookie: PAC=AEG4HW1Mcj5hztDfeoGMucYwywfdhvxbFoxY0Iq0FEq8gxkFTUnBtCY6aUglbKUC8KFFzOexqmGI319JFhHSoIvJ5eIlPFrYExTjouqZIltVlIgGakhzBgiDbF2H_OuwOKPMeaW5NEYBjQTbob7TbIDnzO5YinCLHuoxZuaIDhVoe6jSzVH2902-ufkLBNCVKLxboYrUb-pjja2xAzHwInKYVvbj6y9JfXOyBi5PUdlG; Domain=www.tripadvisor.co.id; Expires=Fri, 23-May-2025 17:55:17 GMT; Path=/; Secure; HttpOnly\n",
      "header: Set-Cookie: SRT=TART_SYNC; Domain=www.tripadvisor.co.id; Expires=Wed, 24-May-2023 18:25:17 GMT; Path=/\n",
      "header: Set-Cookie: TATravelInfo=V2*AY.2023*AM.6*AD.4*DY.2023*DM.6*DD.5*A.2*MG.-1*HP.2*FL.3*DSM.1684950917387*RS.1; Domain=.tripadvisor.co.id; Expires=Wed, 07-Jun-2023 17:55:17 GMT; Path=/\n",
      "header: Set-Cookie: TAUD=LG-1684950917240-2.1.F.*RDD-2-2023_05_25*HDD-3-2023_06_04.2023_06_05.1; Domain=.tripadvisor.co.id; Expires=Wed, 07-Jun-2023 17:55:17 GMT; Path=/\n",
      "header: Set-Cookie: TASID=FC04AF8A97B9471B879C37CA8055F5FE; Domain=www.tripadvisor.co.id; Expires=Wed, 24-May-2023 18:25:17 GMT; Path=/; Secure\n",
      "header: Set-Cookie: TAReturnTo=%1%%2FHotel_Review-g608487-d614386-Reviews-or110-Grand_Sinar_Indah_Hotel-Legian_Kuta_District_Bali.html; Domain=.tripadvisor.co.id; Path=/\n",
      "header: Set-Cookie: datadome=5arqAo9_~A0Y0AlQVXweN6eHNscGcRQ4mX_2CmAjXiVJvO8mW986-sfNBH8IWvrVwucheC3DWrM6gV2ChmwO8joNmforB_2fu99Xix8UE3f~nYRtKtkllS_N5IdOil9p; Max-Age=31104000; Domain=.tripadvisor.co.id; Path=/; Secure; SameSite=Lax\n",
      "Done Scrapping Grand Sinar Indah Hotel page 22\n",
      "\n",
      "\n"
     ]
    },
    {
     "name": "stderr",
     "output_type": "stream",
     "text": [
      "DEBUG:urllib3.connectionpool:Starting new HTTPS connection (1): www.tripadvisor.co.id:443\n"
     ]
    },
    {
     "name": "stdout",
     "output_type": "stream",
     "text": [
      "send: b'GET /Hotel_Review-g608487-d614386-Reviews-or115-Grand_Sinar_Indah_Hotel-Legian_Kuta_District_Bali.html HTTP/1.1\\r\\nHost: www.tripadvisor.co.id\\r\\nUser-Agent: Mozilla/5.0 (X11; CrOS x86_64 12871.102.0) AppleWebKit/537.36 (KHTML, like Gecko) Chrome/81.0.4044.141 Safari/537.36\\r\\nAccept-Encoding: gzip, deflate\\r\\nAccept: */*\\r\\nConnection: keep-alive\\r\\n\\r\\n'\n"
     ]
    },
    {
     "name": "stderr",
     "output_type": "stream",
     "text": [
      "DEBUG:urllib3.connectionpool:https://www.tripadvisor.co.id:443 \"GET /Hotel_Review-g608487-d614386-Reviews-or115-Grand_Sinar_Indah_Hotel-Legian_Kuta_District_Bali.html HTTP/1.1\" 200 None\n"
     ]
    },
    {
     "name": "stdout",
     "output_type": "stream",
     "text": [
      "reply: 'HTTP/1.1 200 OK\\r\\n'\n",
      "header: Server: envoy\n",
      "header: Link: <https://media-cdn.tripadvisor.com/media/>;rel=\"preconnect\";crossorigin\n",
      "header: Link: <https://media-cdn.tripadvisor.com/media/>;rel=\"dns-prefetch\"\n",
      "header: p3p: CP=\"NOI CURa ADMa DEVa TAIa OUR BUS IND UNI COM NAV INT DSP COR CAO PSA IDC ADM DEVi TAIi PSD IVAi IVDi CONi HIS CNT\"\n",
      "header: Pragma: no-cache\n",
      "header: Cache-Control: no-cache, no-store, must-revalidate\n",
      "header: Expires: 0\n",
      "header: Content-Language: id\n",
      "header: Link: <https://static.tacdn.com>;rel=\"dns-prefetch\"\n",
      "header: Link: <https://static.tacdn.com>;rel=\"preconnect\";crossorigin\n",
      "header: timing-allow-origin: https://www.tripadvisor.com\n",
      "header: Vary: Accept-Encoding\n",
      "header: Content-Type: text/html;charset=UTF-8\n",
      "header: x-datadome: protected\n",
      "header: Accept-CH: Sec-CH-UA,Sec-CH-UA-Mobile,Sec-CH-UA-Platform,Sec-CH-UA-Arch,Sec-CH-UA-Full-Version-List,Sec-CH-UA-Model,Sec-CH-Device-Memory\n",
      "header: Content-Encoding: gzip\n",
      "header: x-request-id: ffea4e91-c653-4e81-bc5f-2ea313e4fb60\n",
      "header: Date: Wed, 24 May 2023 17:55:23 GMT\n",
      "header: Transfer-Encoding: chunked\n",
      "header: Connection: keep-alive\n",
      "header: Connection: Transfer-Encoding\n",
      "header: Set-Cookie: TADCID=lLBSNgkNd_B1gX0qABQCXdElnkGETRW-Svh01l3nWnW7IKqlLAw-1AgFY__cB-vvp-JbsaA3mFQrJKVD-ex5FDfYc9UOV3uF23o; Domain=www.tripadvisor.co.id; Expires=Sat, 21-May-2033 17:55:22 GMT; Path=/; Secure; HttpOnly\n",
      "header: Set-Cookie: TAUnique=%1%enc%3AJ9RgscebvWuCNtgs%2BCN3NnGfQMMEYPnqxQyMB79scu%2F1eDbTUA24yw%3D%3D; Domain=.tripadvisor.co.id; Expires=Fri, 23-May-2025 17:55:22 GMT; Path=/; HttpOnly\n",
      "header: Set-Cookie: TASSK=enc%3AAO%2FeCYRbT9fFGoX%2FaCQxGfRwPrbBewW0Fe6C3aSdpPfHPwXKQqlCNyI9%2FMAfGGZ2Wi1vx44XkfAAwNx1UD7QKNatTxFfVA3BBfa%2ByLFeh2ZJD%2B%2BtwsNJliTrrInWIARfkQ%3D%3D; Domain=www.tripadvisor.co.id; Expires=Mon, 20-Nov-2023 17:55:22 GMT; Path=/; HttpOnly\n",
      "header: Set-Cookie: TASession=V2ID.B9C624A58370403F9E61E51C658BF9E8*SQ.1*HS.recommended*ES.popularity*DS.5*SAS.popularity*FPS.oldFirst*LF.in*FA.1*DF.0*TRA.true*LD.614386; Domain=.tripadvisor.co.id; Path=/\n",
      "header: Set-Cookie: ServerPool=X; Domain=.tripadvisor.co.id; Path=/\n",
      "header: Set-Cookie: PMC=V2*MS.95*MD.20230524*LD.20230524; Domain=www.tripadvisor.co.id; Expires=Fri, 23-May-2025 17:55:22 GMT; Path=/; Secure; HttpOnly\n",
      "header: Set-Cookie: TART=%1%enc%3AgjbYLPgjdzaxS15%2BRWc46u2J7DU70cfykFJlXRLQjbYqiZHPv2pXy4FQ0KgNDrKykjTFj21eqKc%3D; Domain=www.tripadvisor.co.id; Expires=Mon, 29-May-2023 17:55:22 GMT; Path=/; HttpOnly\n",
      "header: Set-Cookie: CM=%1%PremiumMobSess%2C%2C-1%7Ct4b-pc%2C%2C-1%7CRestAds%2FRPers%2C%2C-1%7CRCPers%2C%2C-1%7CWShadeSeen%2C%2C-1%7CTheForkMCCPers%2C%2C-1%7CHomeASess%2C%2C-1%7CPremiumMCSess%2C%2C-1%7CCrisisSess%2C%2C-1%7CUVOwnersSess%2C%2C-1%7CRestPremRSess%2C%2C-1%7CRepTarMCSess%2C%2C-1%7CCCSess%2C%2C-1%7CCYLSess%2C%2C-1%7CPremRetPers%2C%2C-1%7CViatorMCPers%2C%2C-1%7Csesssticker%2C%2C-1%7C%24%2C%2C-1%7CPremiumORSess%2C%2C-1%7Ct4b-sc%2C%2C-1%7CRestAdsPers%2C%2C-1%7CMC_IB_UPSELL_IB_LOGOS2%2C%2C-1%7CTSMCPers%2C%2C-1%7Cb2bmcpers%2C%2C-1%7CPremMCBtmSess%2C%2C-1%7CMC_IB_UPSELL_IB_LOGOS%2C%2C-1%7CLaFourchette+Banners%2C%2C-1%7Csess_rev%2C%2C-1%7Csessamex%2C%2C-1%7CPremiumRRSess%2C%2C-1%7CTADORSess%2C%2C-1%7CAdsRetPers%2C%2C-1%7CListMCSess%2C%2C-1%7CTARSWBPers%2C%2C-1%7CSPMCSess%2C%2C-1%7CTheForkORSess%2C%2C-1%7CTheForkRRSess%2C%2C-1%7Cpers_rev%2C%2C-1%7CRBAPers%2C%2C-1%7CRestAds%2FRSess%2C%2C-1%7CHomeAPers%2C%2C-1%7CPremiumMobPers%2C%2C-1%7CRCSess%2C%2C-1%7CLaFourchette+MC+Banners%2C%2C-1%7CRestAdsCCSess%2C%2C-1%7CRestPremRPers%2C%2C-1%7CRevHubRMPers%2C%2C-1%7CUVOwnersPers%2C%2C-1%7Cpssamex%2C%2C-1%7CTheForkMCCSess%2C%2C-1%7CCrisisPers%2C%2C-1%7CCYLPers%2C%2C-1%7CCCPers%2C%2C-1%7CRepTarMCPers%2C%2C-1%7Cb2bmcsess%2C%2C-1%7CTSMCSess%2C%2C-1%7CSPMCPers%2C%2C-1%7CRevHubRMSess%2C%2C-1%7CPremRetSess%2C%2C-1%7CViatorMCSess%2C%2C-1%7CPremiumMCPers%2C%2C-1%7CAdsRetSess%2C%2C-1%7CPremiumRRPers%2C%2C-1%7CRestAdsCCPers%2C%2C-1%7CTADORPers%2C%2C-1%7CTheForkORPers%2C%2C-1%7CPremMCBtmPers%2C%2C-1%7CTheForkRRPers%2C%2C-1%7CTARSWBSess%2C%2C-1%7CPremiumORPers%2C%2C-1%7CRestAdsSess%2C%2C-1%7CRBASess%2C%2C-1%7CSPORPers%2C%2C-1%7Cperssticker%2C%2C-1%7CListMCPers%2C%2C-1%7C; Domain=.tripadvisor.co.id; Expires=Sat, 21-May-2033 17:55:22 GMT; Path=/\n",
      "header: Set-Cookie: BEPIN=%1%1884ee6b425%3Bweb225a.a.tripadvisor.com%3A30023%3B; Domain=.tripadvisor.co.id; Path=/\n",
      "header: Set-Cookie: PAC=AAay-3Zz-nxUAGshQKdiyUpFSEcoV8Rr08VAVLsk1s2qeVk0w0FM_mRKxHkSuXgb914BLi8mXmceWu2qhhB33KeenNXlzMJncdpb8oUiIkLq16elQ6zaGojvTJl9sJI2JqNEFfgxiJVkfx2-Z-B9mny6irx7zg5FVwWSezAIh0AFgQ6WdSrY2GVeNfdMBkW_UuOlY4uig-N_ZIWb7eoWkGoYpjL1qN_VXsVwX2kztaIv; Domain=www.tripadvisor.co.id; Expires=Fri, 23-May-2025 17:55:22 GMT; Path=/; Secure; HttpOnly\n",
      "header: Set-Cookie: SRT=TART_SYNC; Domain=www.tripadvisor.co.id; Expires=Wed, 24-May-2023 18:25:22 GMT; Path=/\n",
      "header: Set-Cookie: TATravelInfo=V2*AY.2023*AM.6*AD.4*DY.2023*DM.6*DD.5*A.2*MG.-1*HP.2*FL.3*DSM.1684950922378*RS.1; Domain=.tripadvisor.co.id; Expires=Wed, 07-Jun-2023 17:55:22 GMT; Path=/\n",
      "header: Set-Cookie: TAUD=LG-1684950922260-2.1.F.*RDD-2-2023_05_25*HDD-3-2023_06_04.2023_06_05.1; Domain=.tripadvisor.co.id; Expires=Wed, 07-Jun-2023 17:55:22 GMT; Path=/\n",
      "header: Set-Cookie: TASID=B9C624A58370403F9E61E51C658BF9E8; Domain=www.tripadvisor.co.id; Expires=Wed, 24-May-2023 18:25:22 GMT; Path=/; Secure\n",
      "header: Set-Cookie: TAReturnTo=%1%%2FHotel_Review-g608487-d614386-Reviews-or115-Grand_Sinar_Indah_Hotel-Legian_Kuta_District_Bali.html; Domain=.tripadvisor.co.id; Path=/\n",
      "header: Set-Cookie: datadome=210WKjwxtXOtNfCpCv4S36zqLbF9KxiBvkvwhR0Tts8pN9i7u~f2YeCKqE-95ZDcIKSWIt2fuik4RzuvbvwnnGsLl_J0VIZRsq87y0AAKHCw6u3w1oYRjGo8mBxV1WtC; Max-Age=31104000; Domain=.tripadvisor.co.id; Path=/; Secure; SameSite=Lax\n",
      "Done Scrapping Grand Sinar Indah Hotel page 23\n",
      "\n",
      "\n"
     ]
    },
    {
     "name": "stderr",
     "output_type": "stream",
     "text": [
      "DEBUG:urllib3.connectionpool:Starting new HTTPS connection (1): www.tripadvisor.co.id:443\n"
     ]
    },
    {
     "name": "stdout",
     "output_type": "stream",
     "text": [
      "send: b'GET /Hotel_Review-g608487-d614386-Reviews-or120-Grand_Sinar_Indah_Hotel-Legian_Kuta_District_Bali.html HTTP/1.1\\r\\nHost: www.tripadvisor.co.id\\r\\nUser-Agent: Mozilla/5.0 (X11; CrOS x86_64 12871.102.0) AppleWebKit/537.36 (KHTML, like Gecko) Chrome/81.0.4044.141 Safari/537.36\\r\\nAccept-Encoding: gzip, deflate\\r\\nAccept: */*\\r\\nConnection: keep-alive\\r\\n\\r\\n'\n"
     ]
    },
    {
     "name": "stderr",
     "output_type": "stream",
     "text": [
      "DEBUG:urllib3.connectionpool:https://www.tripadvisor.co.id:443 \"GET /Hotel_Review-g608487-d614386-Reviews-or120-Grand_Sinar_Indah_Hotel-Legian_Kuta_District_Bali.html HTTP/1.1\" 200 None\n"
     ]
    },
    {
     "name": "stdout",
     "output_type": "stream",
     "text": [
      "reply: 'HTTP/1.1 200 OK\\r\\n'\n",
      "header: Server: envoy\n",
      "header: Link: <https://media-cdn.tripadvisor.com/media/>;rel=\"preconnect\";crossorigin\n",
      "header: Link: <https://media-cdn.tripadvisor.com/media/>;rel=\"dns-prefetch\"\n",
      "header: p3p: CP=\"NOI CURa ADMa DEVa TAIa OUR BUS IND UNI COM NAV INT DSP COR CAO PSA IDC ADM DEVi TAIi PSD IVAi IVDi CONi HIS CNT\"\n",
      "header: Pragma: no-cache\n",
      "header: Cache-Control: no-cache, no-store, must-revalidate\n",
      "header: Expires: 0\n",
      "header: Content-Language: id\n",
      "header: Link: <https://static.tacdn.com>;rel=\"dns-prefetch\"\n",
      "header: Link: <https://static.tacdn.com>;rel=\"preconnect\";crossorigin\n",
      "header: timing-allow-origin: https://www.tripadvisor.com\n",
      "header: Vary: Accept-Encoding\n",
      "header: Content-Type: text/html;charset=UTF-8\n",
      "header: Accept-CH: Sec-CH-UA,Sec-CH-UA-Mobile,Sec-CH-UA-Platform,Sec-CH-UA-Arch,Sec-CH-UA-Full-Version-List,Sec-CH-UA-Model,Sec-CH-Device-Memory\n",
      "header: x-datadome: protected\n",
      "header: Content-Encoding: gzip\n",
      "header: x-request-id: 7a260d6b-a530-473b-a212-e13ee6bcc9ff\n",
      "header: Date: Wed, 24 May 2023 17:55:27 GMT\n",
      "header: Transfer-Encoding: chunked\n",
      "header: Connection: keep-alive\n",
      "header: Connection: Transfer-Encoding\n",
      "header: Set-Cookie: TADCID=oUFAm1TlUmsew3akABQCXdElnkGETRW-Svh01l3nWnW7INmm-GRARsMW8rgZDKcySGbjfMrwzYOaMi1807vm3Nt5_uTs6xOa4uc; Domain=www.tripadvisor.co.id; Expires=Sat, 21-May-2033 17:55:26 GMT; Path=/; Secure; HttpOnly\n",
      "header: Set-Cookie: TAUnique=%1%enc%3AayfAkwbJJeeCNtgs%2BCN3NnGfQMMEYPnqJ%2Fmh0cBWt3YS4cePaFlXew%3D%3D; Domain=.tripadvisor.co.id; Expires=Fri, 23-May-2025 17:55:26 GMT; Path=/; HttpOnly\n",
      "header: Set-Cookie: TASSK=enc%3AACnOn8ZphDK6T%2Fh%2F6u9k5%2BX4QOgvbXvXznZV5KqT1j8Ukj7pSni8COAWvabtlATYuO01V35f42EXWww2qpVl9GBCOUePkqtUMEZXTJ%2FJiBK%2FtWRA2J2lpQmUUgIPnEFoYw%3D%3D; Domain=www.tripadvisor.co.id; Expires=Mon, 20-Nov-2023 17:55:27 GMT; Path=/; HttpOnly\n",
      "header: Set-Cookie: TASession=V2ID.29426A67F2F94A08B4207BA634985D8D*SQ.1*HS.recommended*ES.popularity*DS.5*SAS.popularity*FPS.oldFirst*LF.in*FA.1*DF.0*TRA.true*LD.614386; Domain=.tripadvisor.co.id; Path=/\n",
      "header: Set-Cookie: ServerPool=C; Domain=.tripadvisor.co.id; Path=/\n",
      "header: Set-Cookie: PMC=V2*MS.49*MD.20230524*LD.20230524; Domain=www.tripadvisor.co.id; Expires=Fri, 23-May-2025 17:55:27 GMT; Path=/; Secure; HttpOnly\n",
      "header: Set-Cookie: TART=%1%enc%3AgjbYLPgjdzaxS15%2BRWc46tDIYCr6%2FchXDGsVGlIBYNA6S5nzLRlQ71oZSNuUylJ4grsd5Zk0UKI%3D; Domain=www.tripadvisor.co.id; Expires=Mon, 29-May-2023 17:55:27 GMT; Path=/; HttpOnly\n",
      "header: Set-Cookie: CM=%1%PremiumMobSess%2C%2C-1%7Ct4b-pc%2C%2C-1%7CRestAds%2FRPers%2C%2C-1%7CRCPers%2C%2C-1%7CWShadeSeen%2C%2C-1%7CTheForkMCCPers%2C%2C-1%7CHomeASess%2C%2C-1%7CPremiumMCSess%2C%2C-1%7CCrisisSess%2C%2C-1%7CUVOwnersSess%2C%2C-1%7CRestPremRSess%2C%2C-1%7CRepTarMCSess%2C%2C-1%7CCCSess%2C%2C-1%7CCYLSess%2C%2C-1%7CPremRetPers%2C%2C-1%7CViatorMCPers%2C%2C-1%7Csesssticker%2C%2C-1%7C%24%2C%2C-1%7CPremiumORSess%2C%2C-1%7Ct4b-sc%2C%2C-1%7CRestAdsPers%2C%2C-1%7CMC_IB_UPSELL_IB_LOGOS2%2C%2C-1%7CTSMCPers%2C%2C-1%7Cb2bmcpers%2C%2C-1%7CPremMCBtmSess%2C%2C-1%7CMC_IB_UPSELL_IB_LOGOS%2C%2C-1%7CLaFourchette+Banners%2C%2C-1%7Csess_rev%2C%2C-1%7Csessamex%2C%2C-1%7CPremiumRRSess%2C%2C-1%7CTADORSess%2C%2C-1%7CAdsRetPers%2C%2C-1%7CListMCSess%2C%2C-1%7CTARSWBPers%2C%2C-1%7CSPMCSess%2C%2C-1%7CTheForkORSess%2C%2C-1%7CTheForkRRSess%2C%2C-1%7Cpers_rev%2C%2C-1%7CRBAPers%2C%2C-1%7CRestAds%2FRSess%2C%2C-1%7CHomeAPers%2C%2C-1%7CPremiumMobPers%2C%2C-1%7CRCSess%2C%2C-1%7CLaFourchette+MC+Banners%2C%2C-1%7CRestAdsCCSess%2C%2C-1%7CRestPremRPers%2C%2C-1%7CRevHubRMPers%2C%2C-1%7CUVOwnersPers%2C%2C-1%7Cpssamex%2C%2C-1%7CTheForkMCCSess%2C%2C-1%7CCrisisPers%2C%2C-1%7CCYLPers%2C%2C-1%7CCCPers%2C%2C-1%7CRepTarMCPers%2C%2C-1%7Cb2bmcsess%2C%2C-1%7CTSMCSess%2C%2C-1%7CSPMCPers%2C%2C-1%7CRevHubRMSess%2C%2C-1%7CPremRetSess%2C%2C-1%7CViatorMCSess%2C%2C-1%7CPremiumMCPers%2C%2C-1%7CAdsRetSess%2C%2C-1%7CPremiumRRPers%2C%2C-1%7CRestAdsCCPers%2C%2C-1%7CTADORPers%2C%2C-1%7CTheForkORPers%2C%2C-1%7CPremMCBtmPers%2C%2C-1%7CTheForkRRPers%2C%2C-1%7CTARSWBSess%2C%2C-1%7CPremiumORPers%2C%2C-1%7CRestAdsSess%2C%2C-1%7CRBASess%2C%2C-1%7CSPORPers%2C%2C-1%7Cperssticker%2C%2C-1%7CListMCPers%2C%2C-1%7C; Domain=.tripadvisor.co.id; Expires=Sat, 21-May-2033 17:55:27 GMT; Path=/\n",
      "header: Set-Cookie: BEPIN=%1%1884ee6c687%3Bweb788a.a.tripadvisor.com%3A30023%3B; Domain=.tripadvisor.co.id; Path=/\n",
      "header: Set-Cookie: PAC=AFaglUZdaIwGwTDhms4D3T5Hc7fLwvWIAtoyk5CGG7CyZxnl45YUIrKHtto1mKgaVKkvTHKZU1mIbZKgQetd0J22mB4-d6gG-saSjX_jYV3rIO0iAxUO-3JKQvsWfSx31u2utwHSGbdWPLVgClorI4h8Dna0j3g6FnmS-Hs5KOqLURAt0OLbbS6WTQJXN9LgWxRZEAsZ009aBj5vdC6ymMuoqqw-CYTaq-wz55LvwAzx; Domain=www.tripadvisor.co.id; Expires=Fri, 23-May-2025 17:55:27 GMT; Path=/; Secure; HttpOnly\n",
      "header: Set-Cookie: SRT=TART_SYNC; Domain=www.tripadvisor.co.id; Expires=Wed, 24-May-2023 18:25:27 GMT; Path=/\n",
      "header: Set-Cookie: TATravelInfo=V2*AY.2023*AM.6*AD.4*DY.2023*DM.6*DD.5*A.2*MG.-1*HP.2*FL.3*DSM.1684950927074*RS.1; Domain=.tripadvisor.co.id; Expires=Wed, 07-Jun-2023 17:55:27 GMT; Path=/\n",
      "header: Set-Cookie: TAUD=LG-1684950926964-2.1.F.*RDD-2-2023_05_25*HDD-3-2023_06_04.2023_06_05.1; Domain=.tripadvisor.co.id; Expires=Wed, 07-Jun-2023 17:55:27 GMT; Path=/\n",
      "header: Set-Cookie: TASID=29426A67F2F94A08B4207BA634985D8D; Domain=www.tripadvisor.co.id; Expires=Wed, 24-May-2023 18:25:27 GMT; Path=/; Secure\n",
      "header: Set-Cookie: TAReturnTo=%1%%2FHotel_Review-g608487-d614386-Reviews-or120-Grand_Sinar_Indah_Hotel-Legian_Kuta_District_Bali.html; Domain=.tripadvisor.co.id; Path=/\n",
      "header: Set-Cookie: datadome=s1fdzj8t_qB3alw9_jpfasd~S~dk46uNF8ryDu5euYKSXNCunzc3tGMwibFcRXX1owsJrEb7vZD5OD6pl~pDzcbd1QdEbsIHAH5gJkwQAgwcl7aDuKeVgE5C5xezq3s; Max-Age=31104000; Domain=.tripadvisor.co.id; Path=/; Secure; SameSite=Lax\n",
      "Done Scrapping Grand Sinar Indah Hotel page 24\n",
      "\n",
      "\n"
     ]
    },
    {
     "name": "stderr",
     "output_type": "stream",
     "text": [
      "DEBUG:urllib3.connectionpool:Starting new HTTPS connection (1): www.tripadvisor.co.id:443\n"
     ]
    },
    {
     "name": "stdout",
     "output_type": "stream",
     "text": [
      "send: b'GET /Hotel_Review-g608487-d614386-Reviews-or125-Grand_Sinar_Indah_Hotel-Legian_Kuta_District_Bali.html HTTP/1.1\\r\\nHost: www.tripadvisor.co.id\\r\\nUser-Agent: Mozilla/5.0 (X11; CrOS x86_64 12871.102.0) AppleWebKit/537.36 (KHTML, like Gecko) Chrome/81.0.4044.141 Safari/537.36\\r\\nAccept-Encoding: gzip, deflate\\r\\nAccept: */*\\r\\nConnection: keep-alive\\r\\n\\r\\n'\n"
     ]
    },
    {
     "name": "stderr",
     "output_type": "stream",
     "text": [
      "DEBUG:urllib3.connectionpool:https://www.tripadvisor.co.id:443 \"GET /Hotel_Review-g608487-d614386-Reviews-or125-Grand_Sinar_Indah_Hotel-Legian_Kuta_District_Bali.html HTTP/1.1\" 200 None\n"
     ]
    },
    {
     "name": "stdout",
     "output_type": "stream",
     "text": [
      "reply: 'HTTP/1.1 200 OK\\r\\n'\n",
      "header: Server: envoy\n",
      "header: Link: <https://media-cdn.tripadvisor.com/media/>;rel=\"preconnect\";crossorigin\n",
      "header: Link: <https://media-cdn.tripadvisor.com/media/>;rel=\"dns-prefetch\"\n",
      "header: p3p: CP=\"NOI CURa ADMa DEVa TAIa OUR BUS IND UNI COM NAV INT DSP COR CAO PSA IDC ADM DEVi TAIi PSD IVAi IVDi CONi HIS CNT\"\n",
      "header: Pragma: no-cache\n",
      "header: Cache-Control: no-cache, no-store, must-revalidate\n",
      "header: Expires: 0\n",
      "header: Content-Language: id\n",
      "header: Link: <https://static.tacdn.com>;rel=\"dns-prefetch\"\n",
      "header: Link: <https://static.tacdn.com>;rel=\"preconnect\";crossorigin\n",
      "header: timing-allow-origin: https://www.tripadvisor.com\n",
      "header: Vary: Accept-Encoding\n",
      "header: Content-Type: text/html;charset=UTF-8\n",
      "header: Accept-CH: Sec-CH-UA,Sec-CH-UA-Mobile,Sec-CH-UA-Platform,Sec-CH-UA-Arch,Sec-CH-UA-Full-Version-List,Sec-CH-UA-Model,Sec-CH-Device-Memory\n",
      "header: x-datadome: protected\n",
      "header: Content-Encoding: gzip\n",
      "header: x-request-id: f11dcd50-c72e-4578-8eb3-fc15d756e912\n",
      "header: Date: Wed, 24 May 2023 17:55:37 GMT\n",
      "header: Transfer-Encoding: chunked\n",
      "header: Connection: keep-alive\n",
      "header: Connection: Transfer-Encoding\n",
      "header: Set-Cookie: TADCID=JD2ewCBcol_djSLAABQCXdElnkGETRW-Svh01l3nWnW7IFwnvbGsg4ei0EdjD4pmYzPhlX5Re9TzF8_VYu3nX27xfIbOgQTrWzI; Domain=www.tripadvisor.co.id; Expires=Sat, 21-May-2033 17:55:36 GMT; Path=/; Secure; HttpOnly\n",
      "header: Set-Cookie: TAUnique=%1%enc%3A34nCenJbfc%2BCNtgs%2BCN3NnGfQMMEYPnqpN%2BYJwsy1GoWKBocmANAtQ%3D%3D; Domain=.tripadvisor.co.id; Expires=Fri, 23-May-2025 17:55:36 GMT; Path=/; HttpOnly\n",
      "header: Set-Cookie: TASSK=enc%3AALgSwnZPSuSHwXBWwVpArQvEIPBh1Pu5K9%2FC0rPEl9ithc1U844pnynUHKhtwN%2FXKFk0SHAQ5BZtsbm39nzX6eS%2FIL82ruGKCqu97FGXGHl8T2uVusPe3eYs2P9VccCuTA%3D%3D; Domain=www.tripadvisor.co.id; Expires=Mon, 20-Nov-2023 17:55:37 GMT; Path=/; HttpOnly\n",
      "header: Set-Cookie: TASession=V2ID.509FFAD7BE9F48D6AE0CF0BCC2AA4BD5*SQ.1*HS.recommended*ES.popularity*DS.5*SAS.popularity*FPS.oldFirst*LF.in*FA.1*DF.0*TRA.true*LD.614386; Domain=.tripadvisor.co.id; Path=/\n",
      "header: Set-Cookie: ServerPool=R; Domain=.tripadvisor.co.id; Path=/\n",
      "header: Set-Cookie: PMC=V2*MS.69*MD.20230524*LD.20230524; Domain=www.tripadvisor.co.id; Expires=Fri, 23-May-2025 17:55:37 GMT; Path=/; Secure; HttpOnly\n",
      "header: Set-Cookie: TART=%1%enc%3AgjbYLPgjdzaxS15%2BRWc46lOF8DtMBL1HLKqsOg8pCqp1OMRSph8zraYYebjMhhUQMGU0RVJdtGk%3D; Domain=www.tripadvisor.co.id; Expires=Mon, 29-May-2023 17:55:37 GMT; Path=/; HttpOnly\n",
      "header: Set-Cookie: CM=%1%PremiumMobSess%2C%2C-1%7Ct4b-pc%2C%2C-1%7CRestAds%2FRPers%2C%2C-1%7CRCPers%2C%2C-1%7CWShadeSeen%2C%2C-1%7CTheForkMCCPers%2C%2C-1%7CHomeASess%2C%2C-1%7CPremiumMCSess%2C%2C-1%7CCrisisSess%2C%2C-1%7CUVOwnersSess%2C%2C-1%7CRestPremRSess%2C%2C-1%7CRepTarMCSess%2C%2C-1%7CCCSess%2C%2C-1%7CCYLSess%2C%2C-1%7CPremRetPers%2C%2C-1%7CViatorMCPers%2C%2C-1%7Csesssticker%2C%2C-1%7C%24%2C%2C-1%7CPremiumORSess%2C%2C-1%7Ct4b-sc%2C%2C-1%7CRestAdsPers%2C%2C-1%7CMC_IB_UPSELL_IB_LOGOS2%2C%2C-1%7CTSMCPers%2C%2C-1%7Cb2bmcpers%2C%2C-1%7CPremMCBtmSess%2C%2C-1%7CMC_IB_UPSELL_IB_LOGOS%2C%2C-1%7CLaFourchette+Banners%2C%2C-1%7Csess_rev%2C%2C-1%7Csessamex%2C%2C-1%7CPremiumRRSess%2C%2C-1%7CTADORSess%2C%2C-1%7CAdsRetPers%2C%2C-1%7CListMCSess%2C%2C-1%7CTARSWBPers%2C%2C-1%7CSPMCSess%2C%2C-1%7CTheForkORSess%2C%2C-1%7CTheForkRRSess%2C%2C-1%7Cpers_rev%2C%2C-1%7CRBAPers%2C%2C-1%7CRestAds%2FRSess%2C%2C-1%7CHomeAPers%2C%2C-1%7CPremiumMobPers%2C%2C-1%7CRCSess%2C%2C-1%7CLaFourchette+MC+Banners%2C%2C-1%7CRestAdsCCSess%2C%2C-1%7CRestPremRPers%2C%2C-1%7CRevHubRMPers%2C%2C-1%7CUVOwnersPers%2C%2C-1%7Cpssamex%2C%2C-1%7CTheForkMCCSess%2C%2C-1%7CCrisisPers%2C%2C-1%7CCYLPers%2C%2C-1%7CCCPers%2C%2C-1%7CRepTarMCPers%2C%2C-1%7Cb2bmcsess%2C%2C-1%7CTSMCSess%2C%2C-1%7CSPMCPers%2C%2C-1%7CRevHubRMSess%2C%2C-1%7CPremRetSess%2C%2C-1%7CViatorMCSess%2C%2C-1%7CPremiumMCPers%2C%2C-1%7CAdsRetSess%2C%2C-1%7CPremiumRRPers%2C%2C-1%7CRestAdsCCPers%2C%2C-1%7CTADORPers%2C%2C-1%7CTheForkORPers%2C%2C-1%7CPremMCBtmPers%2C%2C-1%7CTheForkRRPers%2C%2C-1%7CTARSWBSess%2C%2C-1%7CPremiumORPers%2C%2C-1%7CRestAdsSess%2C%2C-1%7CRBASess%2C%2C-1%7CSPORPers%2C%2C-1%7Cperssticker%2C%2C-1%7CListMCPers%2C%2C-1%7C; Domain=.tripadvisor.co.id; Expires=Sat, 21-May-2033 17:55:37 GMT; Path=/\n",
      "header: Set-Cookie: BEPIN=%1%1884ee6ed09%3Bweb215a.a.tripadvisor.com%3A30023%3B; Domain=.tripadvisor.co.id; Path=/\n",
      "header: Set-Cookie: PAC=AN5cDOHOm9ALNyExJ78PkrIynL1sxYVHsBh8ddc9JW6EnLHlWdzAakFJvWsbj9ku7Yvbwrp09O9G7Rw7kAEJqjjaIeuE5b8A4FO88rJV94rgwlXPvVfue4I1ZOTb1-Mf6Ui0toWl1exXU3Ou317qTJ6DnFa2QTB4my5S3a0zUb6398zOyqQAKPDtiChoYTh6X-eAtn7YoSjXbH7m-5rCPvvqfrf_sEP8ixPpksdURXSV; Domain=www.tripadvisor.co.id; Expires=Fri, 23-May-2025 17:55:37 GMT; Path=/; Secure; HttpOnly\n",
      "header: Set-Cookie: SRT=TART_SYNC; Domain=www.tripadvisor.co.id; Expires=Wed, 24-May-2023 18:25:37 GMT; Path=/\n",
      "header: Set-Cookie: TATravelInfo=V2*AY.2023*AM.6*AD.4*DY.2023*DM.6*DD.5*A.2*MG.-1*HP.2*FL.3*DSM.1684950936942*RS.1; Domain=.tripadvisor.co.id; Expires=Wed, 07-Jun-2023 17:55:37 GMT; Path=/\n",
      "header: Set-Cookie: TAUD=LG-1684950936824-2.1.F.*RDD-2-2023_05_25*HDD-3-2023_06_04.2023_06_05.1; Domain=.tripadvisor.co.id; Expires=Wed, 07-Jun-2023 17:55:37 GMT; Path=/\n",
      "header: Set-Cookie: TASID=509FFAD7BE9F48D6AE0CF0BCC2AA4BD5; Domain=www.tripadvisor.co.id; Expires=Wed, 24-May-2023 18:25:37 GMT; Path=/; Secure\n",
      "header: Set-Cookie: TAReturnTo=%1%%2FHotel_Review-g608487-d614386-Reviews-or125-Grand_Sinar_Indah_Hotel-Legian_Kuta_District_Bali.html; Domain=.tripadvisor.co.id; Path=/\n",
      "header: Set-Cookie: datadome=1PyxGIgyz5asjABepEK0RZS7wEg8m86RM1KHvNp4iZvte0vOEhKyKmt6xHSVhL8Q4FZsQaQYKHKdnWghT0s5EKnl7rrHtYaymWkee5RJePKQfZIAxy1iLLA3C0UJiQnp; Max-Age=31104000; Domain=.tripadvisor.co.id; Path=/; Secure; SameSite=Lax\n",
      "Done Scrapping Grand Sinar Indah Hotel page 25\n",
      "\n",
      "\n"
     ]
    },
    {
     "name": "stderr",
     "output_type": "stream",
     "text": [
      "DEBUG:urllib3.connectionpool:Starting new HTTPS connection (1): www.tripadvisor.co.id:443\n"
     ]
    },
    {
     "name": "stdout",
     "output_type": "stream",
     "text": [
      "send: b'GET /Hotel_Review-g608487-d614386-Reviews-or130-Grand_Sinar_Indah_Hotel-Legian_Kuta_District_Bali.html HTTP/1.1\\r\\nHost: www.tripadvisor.co.id\\r\\nUser-Agent: Mozilla/5.0 (X11; CrOS x86_64 12871.102.0) AppleWebKit/537.36 (KHTML, like Gecko) Chrome/81.0.4044.141 Safari/537.36\\r\\nAccept-Encoding: gzip, deflate\\r\\nAccept: */*\\r\\nConnection: keep-alive\\r\\n\\r\\n'\n"
     ]
    },
    {
     "name": "stderr",
     "output_type": "stream",
     "text": [
      "DEBUG:urllib3.connectionpool:https://www.tripadvisor.co.id:443 \"GET /Hotel_Review-g608487-d614386-Reviews-or130-Grand_Sinar_Indah_Hotel-Legian_Kuta_District_Bali.html HTTP/1.1\" 200 None\n"
     ]
    },
    {
     "name": "stdout",
     "output_type": "stream",
     "text": [
      "reply: 'HTTP/1.1 200 OK\\r\\n'\n",
      "header: Server: envoy\n",
      "header: Link: <https://media-cdn.tripadvisor.com/media/>;rel=\"preconnect\";crossorigin\n",
      "header: Link: <https://media-cdn.tripadvisor.com/media/>;rel=\"dns-prefetch\"\n",
      "header: p3p: CP=\"NOI CURa ADMa DEVa TAIa OUR BUS IND UNI COM NAV INT DSP COR CAO PSA IDC ADM DEVi TAIi PSD IVAi IVDi CONi HIS CNT\"\n",
      "header: Pragma: no-cache\n",
      "header: Cache-Control: no-cache, no-store, must-revalidate\n",
      "header: Expires: 0\n",
      "header: Content-Language: id\n",
      "header: Link: <https://static.tacdn.com>;rel=\"dns-prefetch\"\n",
      "header: Link: <https://static.tacdn.com>;rel=\"preconnect\";crossorigin\n",
      "header: timing-allow-origin: https://www.tripadvisor.com\n",
      "header: Vary: Accept-Encoding\n",
      "header: Content-Type: text/html;charset=UTF-8\n",
      "header: x-datadome: protected\n",
      "header: Accept-CH: Sec-CH-UA,Sec-CH-UA-Mobile,Sec-CH-UA-Platform,Sec-CH-UA-Arch,Sec-CH-UA-Full-Version-List,Sec-CH-UA-Model,Sec-CH-Device-Memory\n",
      "header: Content-Encoding: gzip\n",
      "header: x-request-id: f19e3db8-b38a-4318-bf64-16f4d8ed7936\n",
      "header: Date: Wed, 24 May 2023 17:55:43 GMT\n",
      "header: Transfer-Encoding: chunked\n",
      "header: Connection: keep-alive\n",
      "header: Connection: Transfer-Encoding\n",
      "header: Set-Cookie: TADCID=iuM7GvPktCzA26kKABQCXdElnkGETRW-Svh01l3nWnW7IC9Y7olDsNlzP23inocyeNHpsDqa0E8-KyFQZr81U6SlAJcp1aLuiEA; Domain=www.tripadvisor.co.id; Expires=Sat, 21-May-2033 17:55:42 GMT; Path=/; Secure; HttpOnly\n",
      "header: Set-Cookie: TAUnique=%1%enc%3AnLaZ8ThTJayCNtgs%2BCN3NnGfQMMEYPnqqzUCXU8mEpGRJlDd6BFUTg%3D%3D; Domain=.tripadvisor.co.id; Expires=Fri, 23-May-2025 17:55:42 GMT; Path=/; HttpOnly\n",
      "header: Set-Cookie: TASSK=enc%3AAIbhaSKBu%2FPyDXRYfzRMEi7fUIRniV4PuKDQbdsu%2FIgwux2DrIpSioBh%2FvwiNXeZH%2F1uOZtdqqorzZ9EhUHzBiF5sXDRh9NVeam6TaI3%2BRYPP6b7o6M%2FtqeryMwBfgUjhg%3D%3D; Domain=www.tripadvisor.co.id; Expires=Mon, 20-Nov-2023 17:55:42 GMT; Path=/; HttpOnly\n",
      "header: Set-Cookie: TASession=V2ID.2460EA0D5DAC47B392DFBE40D5299CFB*SQ.1*HS.recommended*ES.popularity*DS.5*SAS.popularity*FPS.oldFirst*LF.in*FA.1*DF.0*TRA.true*LD.614386; Domain=.tripadvisor.co.id; Path=/\n",
      "header: Set-Cookie: ServerPool=A; Domain=.tripadvisor.co.id; Path=/\n",
      "header: Set-Cookie: PMC=V2*MS.3*MD.20230524*LD.20230524; Domain=www.tripadvisor.co.id; Expires=Fri, 23-May-2025 17:55:42 GMT; Path=/; Secure; HttpOnly\n",
      "header: Set-Cookie: TART=%1%enc%3AgjbYLPgjdzaxS15%2BRWc46kx1G4OUfVq6s4AISFjNR58ymc3d1ey5QZu8%2BMuiTUcIXyxKALPytxw%3D; Domain=www.tripadvisor.co.id; Expires=Mon, 29-May-2023 17:55:42 GMT; Path=/; HttpOnly\n",
      "header: Set-Cookie: CM=%1%PremiumMobSess%2C%2C-1%7Ct4b-pc%2C%2C-1%7CRestAds%2FRPers%2C%2C-1%7CRCPers%2C%2C-1%7CWShadeSeen%2C%2C-1%7CTheForkMCCPers%2C%2C-1%7CHomeASess%2C%2C-1%7CPremiumMCSess%2C%2C-1%7CCrisisSess%2C%2C-1%7CUVOwnersSess%2C%2C-1%7CRestPremRSess%2C%2C-1%7CRepTarMCSess%2C%2C-1%7CCCSess%2C%2C-1%7CCYLSess%2C%2C-1%7CPremRetPers%2C%2C-1%7CViatorMCPers%2C%2C-1%7Csesssticker%2C%2C-1%7C%24%2C%2C-1%7CPremiumORSess%2C%2C-1%7Ct4b-sc%2C%2C-1%7CRestAdsPers%2C%2C-1%7CMC_IB_UPSELL_IB_LOGOS2%2C%2C-1%7CTSMCPers%2C%2C-1%7Cb2bmcpers%2C%2C-1%7CPremMCBtmSess%2C%2C-1%7CMC_IB_UPSELL_IB_LOGOS%2C%2C-1%7CLaFourchette+Banners%2C%2C-1%7Csess_rev%2C%2C-1%7Csessamex%2C%2C-1%7CPremiumRRSess%2C%2C-1%7CTADORSess%2C%2C-1%7CAdsRetPers%2C%2C-1%7CListMCSess%2C%2C-1%7CTARSWBPers%2C%2C-1%7CSPMCSess%2C%2C-1%7CTheForkORSess%2C%2C-1%7CTheForkRRSess%2C%2C-1%7Cpers_rev%2C%2C-1%7CRBAPers%2C%2C-1%7CRestAds%2FRSess%2C%2C-1%7CHomeAPers%2C%2C-1%7CPremiumMobPers%2C%2C-1%7CRCSess%2C%2C-1%7CLaFourchette+MC+Banners%2C%2C-1%7CRestAdsCCSess%2C%2C-1%7CRestPremRPers%2C%2C-1%7CRevHubRMPers%2C%2C-1%7CUVOwnersPers%2C%2C-1%7Cpssamex%2C%2C-1%7CTheForkMCCSess%2C%2C-1%7CCrisisPers%2C%2C-1%7CCYLPers%2C%2C-1%7CCCPers%2C%2C-1%7CRepTarMCPers%2C%2C-1%7Cb2bmcsess%2C%2C-1%7CTSMCSess%2C%2C-1%7CSPMCPers%2C%2C-1%7CRevHubRMSess%2C%2C-1%7CPremRetSess%2C%2C-1%7CViatorMCSess%2C%2C-1%7CPremiumMCPers%2C%2C-1%7CAdsRetSess%2C%2C-1%7CPremiumRRPers%2C%2C-1%7CRestAdsCCPers%2C%2C-1%7CTADORPers%2C%2C-1%7CTheForkORPers%2C%2C-1%7CPremMCBtmPers%2C%2C-1%7CTheForkRRPers%2C%2C-1%7CTARSWBSess%2C%2C-1%7CPremiumORPers%2C%2C-1%7CRestAdsSess%2C%2C-1%7CRBASess%2C%2C-1%7CSPORPers%2C%2C-1%7Cperssticker%2C%2C-1%7CListMCPers%2C%2C-1%7C; Domain=.tripadvisor.co.id; Expires=Sat, 21-May-2033 17:55:42 GMT; Path=/\n",
      "header: Set-Cookie: BEPIN=%1%1884ee70219%3Bweb788a.a.tripadvisor.com%3A30023%3B; Domain=.tripadvisor.co.id; Path=/\n",
      "header: Set-Cookie: PAC=AP5mv0Ov34p9LnbhD6I-wxyiZsJMxfVb86cHpz0FgB4Quyn8Rp7CGIF4k7Od7jvYqcVNcxv5sWTqPzUpT1_BXFM6gS3V6JjYjItzUVlJ-wNKK2ZSZcYeW32D49cuS9cNb064x-EJOOR1VxXvGGdxx4wOAKmuMYhR76t1TALug79buYSBDoykuW89AG6MiCNDIoAdkJClf2o8xSivkFs9KO_DtckAHady4PTXsBykpcqm; Domain=www.tripadvisor.co.id; Expires=Fri, 23-May-2025 17:55:42 GMT; Path=/; Secure; HttpOnly\n",
      "header: Set-Cookie: SRT=TART_SYNC; Domain=www.tripadvisor.co.id; Expires=Wed, 24-May-2023 18:25:42 GMT; Path=/\n",
      "header: Set-Cookie: TATravelInfo=V2*AY.2023*AM.6*AD.4*DY.2023*DM.6*DD.5*A.2*MG.-1*HP.2*FL.3*DSM.1684950942341*RS.1; Domain=.tripadvisor.co.id; Expires=Wed, 07-Jun-2023 17:55:42 GMT; Path=/\n",
      "header: Set-Cookie: TAUD=LG-1684950942215-2.1.F.*RDD-2-2023_05_25*HDD-3-2023_06_04.2023_06_05.1; Domain=.tripadvisor.co.id; Expires=Wed, 07-Jun-2023 17:55:42 GMT; Path=/\n",
      "header: Set-Cookie: TASID=2460EA0D5DAC47B392DFBE40D5299CFB; Domain=www.tripadvisor.co.id; Expires=Wed, 24-May-2023 18:25:42 GMT; Path=/; Secure\n",
      "header: Set-Cookie: TAReturnTo=%1%%2FHotel_Review-g608487-d614386-Reviews-or130-Grand_Sinar_Indah_Hotel-Legian_Kuta_District_Bali.html; Domain=.tripadvisor.co.id; Path=/\n",
      "header: Set-Cookie: datadome=ieEDN9JQ-0bU~vwJSuTzgXsO3L9hMEpq9EQwf1R2z-EOt~cGOYtLlw3NKI_8g3WaxoJ0vZ_yBHTUn-smpLVoaF8Omqc4gSObviY_dCRgf7TsqPCMvo~uPxXvn43y7B5; Max-Age=31104000; Domain=.tripadvisor.co.id; Path=/; Secure; SameSite=Lax\n",
      "Done Scrapping Grand Sinar Indah Hotel page 26\n",
      "\n",
      "\n"
     ]
    },
    {
     "name": "stderr",
     "output_type": "stream",
     "text": [
      "DEBUG:urllib3.connectionpool:Starting new HTTPS connection (1): www.tripadvisor.co.id:443\n"
     ]
    },
    {
     "name": "stdout",
     "output_type": "stream",
     "text": [
      "send: b'GET /Hotel_Review-g608487-d614386-Reviews-or135-Grand_Sinar_Indah_Hotel-Legian_Kuta_District_Bali.html HTTP/1.1\\r\\nHost: www.tripadvisor.co.id\\r\\nUser-Agent: Mozilla/5.0 (X11; CrOS x86_64 12871.102.0) AppleWebKit/537.36 (KHTML, like Gecko) Chrome/81.0.4044.141 Safari/537.36\\r\\nAccept-Encoding: gzip, deflate\\r\\nAccept: */*\\r\\nConnection: keep-alive\\r\\n\\r\\n'\n"
     ]
    },
    {
     "name": "stderr",
     "output_type": "stream",
     "text": [
      "DEBUG:urllib3.connectionpool:https://www.tripadvisor.co.id:443 \"GET /Hotel_Review-g608487-d614386-Reviews-or135-Grand_Sinar_Indah_Hotel-Legian_Kuta_District_Bali.html HTTP/1.1\" 200 None\n"
     ]
    },
    {
     "name": "stdout",
     "output_type": "stream",
     "text": [
      "reply: 'HTTP/1.1 200 OK\\r\\n'\n",
      "header: Server: envoy\n",
      "header: Link: <https://media-cdn.tripadvisor.com/media/>;rel=\"preconnect\";crossorigin\n",
      "header: Link: <https://media-cdn.tripadvisor.com/media/>;rel=\"dns-prefetch\"\n",
      "header: p3p: CP=\"NOI CURa ADMa DEVa TAIa OUR BUS IND UNI COM NAV INT DSP COR CAO PSA IDC ADM DEVi TAIi PSD IVAi IVDi CONi HIS CNT\"\n",
      "header: Pragma: no-cache\n",
      "header: Cache-Control: no-cache, no-store, must-revalidate\n",
      "header: Expires: 0\n",
      "header: Content-Language: id\n",
      "header: Link: <https://static.tacdn.com>;rel=\"dns-prefetch\"\n",
      "header: Link: <https://static.tacdn.com>;rel=\"preconnect\";crossorigin\n",
      "header: timing-allow-origin: https://www.tripadvisor.com\n",
      "header: Vary: Accept-Encoding\n",
      "header: Content-Type: text/html;charset=UTF-8\n",
      "header: Accept-CH: Sec-CH-UA,Sec-CH-UA-Mobile,Sec-CH-UA-Platform,Sec-CH-UA-Arch,Sec-CH-UA-Full-Version-List,Sec-CH-UA-Model,Sec-CH-Device-Memory\n",
      "header: x-datadome: protected\n",
      "header: Content-Encoding: gzip\n",
      "header: x-request-id: e9d4dbb0-9b31-4d2d-8c09-82b5dd1c81fe\n",
      "header: Date: Wed, 24 May 2023 17:55:47 GMT\n",
      "header: Transfer-Encoding: chunked\n",
      "header: Connection: keep-alive\n",
      "header: Connection: Transfer-Encoding\n",
      "header: Set-Cookie: TADCID=j1u-1WXduV_kkrwaABQCXdElnkGETRW-Svh01l3nWnW7ILguPM-QahPTdBXu1WmD6mENYNvdoKTXt5Y4-mPuzh1ZDbad0S-BDJs; Domain=www.tripadvisor.co.id; Expires=Sat, 21-May-2033 17:55:47 GMT; Path=/; Secure; HttpOnly\n",
      "header: Set-Cookie: TAUnique=%1%enc%3A5Wf1UBvRdL%2BCNtgs%2BCN3NnGfQMMEYPnqHHBodjpKP4eMOus0gEhXVA%3D%3D; Domain=.tripadvisor.co.id; Expires=Fri, 23-May-2025 17:55:47 GMT; Path=/; HttpOnly\n",
      "header: Set-Cookie: TASSK=enc%3AAL1sEUuzSBS8t2AZXjn77qh9PpapPAk9cZbkZr1J1SYSYgZF7ThfL0HXm4KdM6i%2BDbFNuOQtm7ouUHIUcp7pxV7EAjBEV1gJ9GWqhigg8l5Vevn9s7I9AKsl7wk8yZBBqA%3D%3D; Domain=www.tripadvisor.co.id; Expires=Mon, 20-Nov-2023 17:55:47 GMT; Path=/; HttpOnly\n",
      "header: Set-Cookie: TASession=V2ID.CEF4E86C01294378A4FDEB4E8C7F126C*SQ.1*HS.recommended*ES.popularity*DS.5*SAS.popularity*FPS.oldFirst*LF.in*FA.1*DF.0*TRA.true*LD.614386; Domain=.tripadvisor.co.id; Path=/\n",
      "header: Set-Cookie: ServerPool=C; Domain=.tripadvisor.co.id; Path=/\n",
      "header: Set-Cookie: PMC=V2*MS.49*MD.20230524*LD.20230524; Domain=www.tripadvisor.co.id; Expires=Fri, 23-May-2025 17:55:47 GMT; Path=/; Secure; HttpOnly\n",
      "header: Set-Cookie: TART=%1%enc%3AgjbYLPgjdzaxS15%2BRWc46qxMdtE9mQnOeiZlAheAEa88klgtf4XtR2iz52MzP0lJcMZQ9Y9bA9o%3D; Domain=www.tripadvisor.co.id; Expires=Mon, 29-May-2023 17:55:47 GMT; Path=/; HttpOnly\n",
      "header: Set-Cookie: CM=%1%PremiumMobSess%2C%2C-1%7Ct4b-pc%2C%2C-1%7CRestAds%2FRPers%2C%2C-1%7CRCPers%2C%2C-1%7CWShadeSeen%2C%2C-1%7CTheForkMCCPers%2C%2C-1%7CHomeASess%2C%2C-1%7CPremiumMCSess%2C%2C-1%7CCrisisSess%2C%2C-1%7CUVOwnersSess%2C%2C-1%7CRestPremRSess%2C%2C-1%7CRepTarMCSess%2C%2C-1%7CCCSess%2C%2C-1%7CCYLSess%2C%2C-1%7CPremRetPers%2C%2C-1%7CViatorMCPers%2C%2C-1%7Csesssticker%2C%2C-1%7C%24%2C%2C-1%7CPremiumORSess%2C%2C-1%7Ct4b-sc%2C%2C-1%7CRestAdsPers%2C%2C-1%7CMC_IB_UPSELL_IB_LOGOS2%2C%2C-1%7CTSMCPers%2C%2C-1%7Cb2bmcpers%2C%2C-1%7CPremMCBtmSess%2C%2C-1%7CMC_IB_UPSELL_IB_LOGOS%2C%2C-1%7CLaFourchette+Banners%2C%2C-1%7Csess_rev%2C%2C-1%7Csessamex%2C%2C-1%7CPremiumRRSess%2C%2C-1%7CTADORSess%2C%2C-1%7CAdsRetPers%2C%2C-1%7CListMCSess%2C%2C-1%7CTARSWBPers%2C%2C-1%7CSPMCSess%2C%2C-1%7CTheForkORSess%2C%2C-1%7CTheForkRRSess%2C%2C-1%7Cpers_rev%2C%2C-1%7CRBAPers%2C%2C-1%7CRestAds%2FRSess%2C%2C-1%7CHomeAPers%2C%2C-1%7CPremiumMobPers%2C%2C-1%7CRCSess%2C%2C-1%7CLaFourchette+MC+Banners%2C%2C-1%7CRestAdsCCSess%2C%2C-1%7CRestPremRPers%2C%2C-1%7CRevHubRMPers%2C%2C-1%7CUVOwnersPers%2C%2C-1%7Cpssamex%2C%2C-1%7CTheForkMCCSess%2C%2C-1%7CCrisisPers%2C%2C-1%7CCYLPers%2C%2C-1%7CCCPers%2C%2C-1%7CRepTarMCPers%2C%2C-1%7Cb2bmcsess%2C%2C-1%7CTSMCSess%2C%2C-1%7CSPMCPers%2C%2C-1%7CRevHubRMSess%2C%2C-1%7CPremRetSess%2C%2C-1%7CViatorMCSess%2C%2C-1%7CPremiumMCPers%2C%2C-1%7CAdsRetSess%2C%2C-1%7CPremiumRRPers%2C%2C-1%7CRestAdsCCPers%2C%2C-1%7CTADORPers%2C%2C-1%7CTheForkORPers%2C%2C-1%7CPremMCBtmPers%2C%2C-1%7CTheForkRRPers%2C%2C-1%7CTARSWBSess%2C%2C-1%7CPremiumORPers%2C%2C-1%7CRestAdsSess%2C%2C-1%7CRBASess%2C%2C-1%7CSPORPers%2C%2C-1%7Cperssticker%2C%2C-1%7CListMCPers%2C%2C-1%7C; Domain=.tripadvisor.co.id; Expires=Sat, 21-May-2033 17:55:47 GMT; Path=/\n",
      "header: Set-Cookie: BEPIN=%1%1884ee71506%3Bweb169a.a.tripadvisor.com%3A30023%3B; Domain=.tripadvisor.co.id; Path=/\n",
      "header: Set-Cookie: PAC=AMgZJ-kF4WoyMcFww6GXxq1fzKEuSz86hTNfSHISRzA0FEVAZ6yhDB3RCMxJ4d-XtDGotId53uPwZcGf8uZcyX3KQp-mr6HONAItbo7eCs3SyUOYH2zbMhHECZHMvK1tWwQ9v8Xa9LIYZyYyN7Uq99WyjffMhIcCAYIgONHjpPDqLobpDIVrfxw79d9ChFrGV70ZgAIw5lJKF_f0hCldHA6xnywXo7ersRy0pBpKf0HT; Domain=www.tripadvisor.co.id; Expires=Fri, 23-May-2025 17:55:47 GMT; Path=/; Secure; HttpOnly\n",
      "header: Set-Cookie: SRT=TART_SYNC; Domain=www.tripadvisor.co.id; Expires=Wed, 24-May-2023 18:25:47 GMT; Path=/\n",
      "header: Set-Cookie: TATravelInfo=V2*AY.2023*AM.6*AD.4*DY.2023*DM.6*DD.5*A.2*MG.-1*HP.2*FL.3*DSM.1684950947181*RS.1; Domain=.tripadvisor.co.id; Expires=Wed, 07-Jun-2023 17:55:47 GMT; Path=/\n",
      "header: Set-Cookie: TAUD=LG-1684950947043-2.1.F.*RDD-2-2023_05_25*HDD-3-2023_06_04.2023_06_05.1; Domain=.tripadvisor.co.id; Expires=Wed, 07-Jun-2023 17:55:47 GMT; Path=/\n",
      "header: Set-Cookie: TASID=CEF4E86C01294378A4FDEB4E8C7F126C; Domain=www.tripadvisor.co.id; Expires=Wed, 24-May-2023 18:25:47 GMT; Path=/; Secure\n",
      "header: Set-Cookie: TAReturnTo=%1%%2FHotel_Review-g608487-d614386-Reviews-or135-Grand_Sinar_Indah_Hotel-Legian_Kuta_District_Bali.html; Domain=.tripadvisor.co.id; Path=/\n",
      "header: Set-Cookie: datadome=0zwBpGxI5j5O2fTfJV_7MbZkHe_ZwR-GyCoQrdcNzEXg_YnBKZG3wCm9CUSDaXeFIj_GmekdwHdWOiR5mhwZxGp66WxggnTvtMrKsaij2g67hTMU~kDS6ack6t4Tt~EL; Max-Age=31104000; Domain=.tripadvisor.co.id; Path=/; Secure; SameSite=Lax\n",
      "Done Scrapping Grand Sinar Indah Hotel page 27\n",
      "\n",
      "\n"
     ]
    },
    {
     "name": "stderr",
     "output_type": "stream",
     "text": [
      "DEBUG:urllib3.connectionpool:Starting new HTTPS connection (1): www.tripadvisor.co.id:443\n"
     ]
    },
    {
     "name": "stdout",
     "output_type": "stream",
     "text": [
      "send: b'GET /Hotel_Review-g608487-d614386-Reviews-or140-Grand_Sinar_Indah_Hotel-Legian_Kuta_District_Bali.html HTTP/1.1\\r\\nHost: www.tripadvisor.co.id\\r\\nUser-Agent: Mozilla/5.0 (X11; CrOS x86_64 12871.102.0) AppleWebKit/537.36 (KHTML, like Gecko) Chrome/81.0.4044.141 Safari/537.36\\r\\nAccept-Encoding: gzip, deflate\\r\\nAccept: */*\\r\\nConnection: keep-alive\\r\\n\\r\\n'\n"
     ]
    },
    {
     "name": "stderr",
     "output_type": "stream",
     "text": [
      "DEBUG:urllib3.connectionpool:https://www.tripadvisor.co.id:443 \"GET /Hotel_Review-g608487-d614386-Reviews-or140-Grand_Sinar_Indah_Hotel-Legian_Kuta_District_Bali.html HTTP/1.1\" 200 None\n"
     ]
    },
    {
     "name": "stdout",
     "output_type": "stream",
     "text": [
      "reply: 'HTTP/1.1 200 OK\\r\\n'\n",
      "header: Server: envoy\n",
      "header: Link: <https://media-cdn.tripadvisor.com/media/>;rel=\"preconnect\";crossorigin\n",
      "header: Link: <https://media-cdn.tripadvisor.com/media/>;rel=\"dns-prefetch\"\n",
      "header: p3p: CP=\"NOI CURa ADMa DEVa TAIa OUR BUS IND UNI COM NAV INT DSP COR CAO PSA IDC ADM DEVi TAIi PSD IVAi IVDi CONi HIS CNT\"\n",
      "header: Pragma: no-cache\n",
      "header: Cache-Control: no-cache, no-store, must-revalidate\n",
      "header: Expires: 0\n",
      "header: Content-Language: id\n",
      "header: Link: <https://static.tacdn.com>;rel=\"dns-prefetch\"\n",
      "header: Link: <https://static.tacdn.com>;rel=\"preconnect\";crossorigin\n",
      "header: timing-allow-origin: https://www.tripadvisor.com\n",
      "header: Vary: Accept-Encoding\n",
      "header: Content-Type: text/html;charset=UTF-8\n",
      "header: Accept-CH: Sec-CH-UA,Sec-CH-UA-Mobile,Sec-CH-UA-Platform,Sec-CH-UA-Arch,Sec-CH-UA-Full-Version-List,Sec-CH-UA-Model,Sec-CH-Device-Memory\n",
      "header: x-datadome: protected\n",
      "header: Content-Encoding: gzip\n",
      "header: x-request-id: b36d2e41-bcc9-4bb1-9eaa-96eb3e40fc60\n",
      "header: Date: Wed, 24 May 2023 17:55:52 GMT\n",
      "header: Transfer-Encoding: chunked\n",
      "header: Connection: keep-alive\n",
      "header: Connection: Transfer-Encoding\n",
      "header: Set-Cookie: TADCID=3T50s6vggeVde3k1ABQCXdElnkGETRW-Svh01l3nWnW7IPPg6h7zjGlag6BMNziYDE3QarJqfRdk6VbuihBgMO35nAYDGZCLy4s; Domain=www.tripadvisor.co.id; Expires=Sat, 21-May-2033 17:55:51 GMT; Path=/; Secure; HttpOnly\n",
      "header: Set-Cookie: TAUnique=%1%enc%3AqpVtaVr2OLyCNtgs%2BCN3NnGfQMMEYPnqQ5dwwgKUtS3TcFEiNMSeXg%3D%3D; Domain=.tripadvisor.co.id; Expires=Fri, 23-May-2025 17:55:51 GMT; Path=/; HttpOnly\n",
      "header: Set-Cookie: TASSK=enc%3AANwT8ZxgjpZc8ExHx2XGk33qaBsl9cWIE5%2F8OLhyHoWnegl11t0ctUUIVptrSyiu1cGSsdhwHJgP9Jyet9aBSur1Sf255iwiwAeUE1BQZTUMTj1ec0Ka5h0npeEpqSyF4g%3D%3D; Domain=www.tripadvisor.co.id; Expires=Mon, 20-Nov-2023 17:55:52 GMT; Path=/; HttpOnly\n",
      "header: Set-Cookie: TASession=V2ID.17FF122828614AD186E49A6F9DDC6DA5*SQ.1*HS.recommended*ES.popularity*DS.5*SAS.popularity*FPS.oldFirst*LF.in*FA.1*DF.0*TRA.true*LD.614386; Domain=.tripadvisor.co.id; Path=/\n",
      "header: Set-Cookie: ServerPool=B; Domain=.tripadvisor.co.id; Path=/\n",
      "header: Set-Cookie: PMC=V2*MS.69*MD.20230524*LD.20230524; Domain=www.tripadvisor.co.id; Expires=Fri, 23-May-2025 17:55:52 GMT; Path=/; Secure; HttpOnly\n",
      "header: Set-Cookie: TART=%1%enc%3AgjbYLPgjdzaxS15%2BRWc46pOLRKj%2BMVXCN6UPoXMWSANEU8atzvrCNrJi18T3FHuROhRmFTcuVEA%3D; Domain=www.tripadvisor.co.id; Expires=Mon, 29-May-2023 17:55:52 GMT; Path=/; HttpOnly\n",
      "header: Set-Cookie: CM=%1%PremiumMobSess%2C%2C-1%7Ct4b-pc%2C%2C-1%7CRestAds%2FRPers%2C%2C-1%7CRCPers%2C%2C-1%7CWShadeSeen%2C%2C-1%7CTheForkMCCPers%2C%2C-1%7CHomeASess%2C%2C-1%7CPremiumMCSess%2C%2C-1%7CCrisisSess%2C%2C-1%7CUVOwnersSess%2C%2C-1%7CRestPremRSess%2C%2C-1%7CRepTarMCSess%2C%2C-1%7CCCSess%2C%2C-1%7CCYLSess%2C%2C-1%7CPremRetPers%2C%2C-1%7CViatorMCPers%2C%2C-1%7Csesssticker%2C%2C-1%7C%24%2C%2C-1%7CPremiumORSess%2C%2C-1%7Ct4b-sc%2C%2C-1%7CRestAdsPers%2C%2C-1%7CMC_IB_UPSELL_IB_LOGOS2%2C%2C-1%7CTSMCPers%2C%2C-1%7Cb2bmcpers%2C%2C-1%7CPremMCBtmSess%2C%2C-1%7CMC_IB_UPSELL_IB_LOGOS%2C%2C-1%7CLaFourchette+Banners%2C%2C-1%7Csess_rev%2C%2C-1%7Csessamex%2C%2C-1%7CPremiumRRSess%2C%2C-1%7CTADORSess%2C%2C-1%7CAdsRetPers%2C%2C-1%7CListMCSess%2C%2C-1%7CTARSWBPers%2C%2C-1%7CSPMCSess%2C%2C-1%7CTheForkORSess%2C%2C-1%7CTheForkRRSess%2C%2C-1%7Cpers_rev%2C%2C-1%7CRBAPers%2C%2C-1%7CRestAds%2FRSess%2C%2C-1%7CHomeAPers%2C%2C-1%7CPremiumMobPers%2C%2C-1%7CRCSess%2C%2C-1%7CLaFourchette+MC+Banners%2C%2C-1%7CRestAdsCCSess%2C%2C-1%7CRestPremRPers%2C%2C-1%7CRevHubRMPers%2C%2C-1%7CUVOwnersPers%2C%2C-1%7Cpssamex%2C%2C-1%7CTheForkMCCSess%2C%2C-1%7CCrisisPers%2C%2C-1%7CCYLPers%2C%2C-1%7CCCPers%2C%2C-1%7CRepTarMCPers%2C%2C-1%7Cb2bmcsess%2C%2C-1%7CTSMCSess%2C%2C-1%7CSPMCPers%2C%2C-1%7CRevHubRMSess%2C%2C-1%7CPremRetSess%2C%2C-1%7CViatorMCSess%2C%2C-1%7CPremiumMCPers%2C%2C-1%7CAdsRetSess%2C%2C-1%7CPremiumRRPers%2C%2C-1%7CRestAdsCCPers%2C%2C-1%7CTADORPers%2C%2C-1%7CTheForkORPers%2C%2C-1%7CPremMCBtmPers%2C%2C-1%7CTheForkRRPers%2C%2C-1%7CTARSWBSess%2C%2C-1%7CPremiumORPers%2C%2C-1%7CRestAdsSess%2C%2C-1%7CRBASess%2C%2C-1%7CSPORPers%2C%2C-1%7Cperssticker%2C%2C-1%7CListMCPers%2C%2C-1%7C; Domain=.tripadvisor.co.id; Expires=Sat, 21-May-2033 17:55:52 GMT; Path=/\n",
      "header: Set-Cookie: BEPIN=%1%1884ee7270a%3Bweb221a.a.tripadvisor.com%3A30023%3B; Domain=.tripadvisor.co.id; Path=/\n",
      "header: Set-Cookie: PAC=ADp2J4IradHI74IelZP7Z-Tug4Qr3eSuG0E596jhZpsZei6k0VTMkBmIwALHwL3av846trhrL3uzPf8gHNvuhy6CbwRokROhGY2ugPm7He51yYkFx1iXf0g8l44yz6nEuVnMQEzQvyUQn5tayLULJX9_DCwlbUASM6KrzUXE60ZpLIilRe6K505Oxf2Lt4mGsjp85JSA6V88iIjFEQ3RBFTDzhZsk4zI3NFyCcm2Hd0m; Domain=www.tripadvisor.co.id; Expires=Fri, 23-May-2025 17:55:52 GMT; Path=/; Secure; HttpOnly\n",
      "header: Set-Cookie: SRT=TART_SYNC; Domain=www.tripadvisor.co.id; Expires=Wed, 24-May-2023 18:25:52 GMT; Path=/\n",
      "header: Set-Cookie: TATravelInfo=V2*AY.2023*AM.6*AD.4*DY.2023*DM.6*DD.5*A.2*MG.-1*HP.2*FL.3*DSM.1684950951847*RS.1; Domain=.tripadvisor.co.id; Expires=Wed, 07-Jun-2023 17:55:52 GMT; Path=/\n",
      "header: Set-Cookie: TAUD=LG-1684950951668-2.1.F.*RDD-2-2023_05_25*HDD-3-2023_06_04.2023_06_05.1; Domain=.tripadvisor.co.id; Expires=Wed, 07-Jun-2023 17:55:52 GMT; Path=/\n",
      "header: Set-Cookie: TASID=17FF122828614AD186E49A6F9DDC6DA5; Domain=www.tripadvisor.co.id; Expires=Wed, 24-May-2023 18:25:52 GMT; Path=/; Secure\n",
      "header: Set-Cookie: TAReturnTo=%1%%2FHotel_Review-g608487-d614386-Reviews-or140-Grand_Sinar_Indah_Hotel-Legian_Kuta_District_Bali.html; Domain=.tripadvisor.co.id; Path=/\n",
      "header: Set-Cookie: datadome=54k_D9DjjoSH8L0DG0F_k5aDxecV-ximVMzyLKSe3TRzhVXmbqO~3xG1qSnz6EhcupHS6yeFe~Xh7Ir8TzYdrGG~oRi_nIWG6km3BkdgeJ9a3dvg0nk8zDNw_fp4Q_Fo; Max-Age=31104000; Domain=.tripadvisor.co.id; Path=/; Secure; SameSite=Lax\n",
      "Done Scrapping Grand Sinar Indah Hotel page 28\n",
      "\n",
      "\n"
     ]
    },
    {
     "name": "stderr",
     "output_type": "stream",
     "text": [
      "DEBUG:urllib3.connectionpool:Starting new HTTPS connection (1): www.tripadvisor.co.id:443\n"
     ]
    },
    {
     "name": "stdout",
     "output_type": "stream",
     "text": [
      "send: b'GET /Hotel_Review-g608487-d614386-Reviews-or145-Grand_Sinar_Indah_Hotel-Legian_Kuta_District_Bali.html HTTP/1.1\\r\\nHost: www.tripadvisor.co.id\\r\\nUser-Agent: Mozilla/5.0 (X11; CrOS x86_64 12871.102.0) AppleWebKit/537.36 (KHTML, like Gecko) Chrome/81.0.4044.141 Safari/537.36\\r\\nAccept-Encoding: gzip, deflate\\r\\nAccept: */*\\r\\nConnection: keep-alive\\r\\n\\r\\n'\n"
     ]
    },
    {
     "name": "stderr",
     "output_type": "stream",
     "text": [
      "DEBUG:urllib3.connectionpool:https://www.tripadvisor.co.id:443 \"GET /Hotel_Review-g608487-d614386-Reviews-or145-Grand_Sinar_Indah_Hotel-Legian_Kuta_District_Bali.html HTTP/1.1\" 200 None\n"
     ]
    },
    {
     "name": "stdout",
     "output_type": "stream",
     "text": [
      "reply: 'HTTP/1.1 200 OK\\r\\n'\n",
      "header: Server: envoy\n",
      "header: Link: <https://media-cdn.tripadvisor.com/media/>;rel=\"preconnect\";crossorigin\n",
      "header: Link: <https://media-cdn.tripadvisor.com/media/>;rel=\"dns-prefetch\"\n",
      "header: p3p: CP=\"NOI CURa ADMa DEVa TAIa OUR BUS IND UNI COM NAV INT DSP COR CAO PSA IDC ADM DEVi TAIi PSD IVAi IVDi CONi HIS CNT\"\n",
      "header: Pragma: no-cache\n",
      "header: Cache-Control: no-cache, no-store, must-revalidate\n",
      "header: Expires: 0\n",
      "header: Content-Language: id\n",
      "header: Link: <https://static.tacdn.com>;rel=\"dns-prefetch\"\n",
      "header: Link: <https://static.tacdn.com>;rel=\"preconnect\";crossorigin\n",
      "header: timing-allow-origin: https://www.tripadvisor.com\n",
      "header: Vary: Accept-Encoding\n",
      "header: Content-Type: text/html;charset=UTF-8\n",
      "header: x-datadome: protected\n",
      "header: Accept-CH: Sec-CH-UA,Sec-CH-UA-Mobile,Sec-CH-UA-Platform,Sec-CH-UA-Arch,Sec-CH-UA-Full-Version-List,Sec-CH-UA-Model,Sec-CH-Device-Memory\n",
      "header: Content-Encoding: gzip\n",
      "header: x-request-id: 2c0ad41b-263c-427c-9305-ed4fd5afaa42\n",
      "header: Date: Wed, 24 May 2023 17:55:57 GMT\n",
      "header: Transfer-Encoding: chunked\n",
      "header: Connection: keep-alive\n",
      "header: Connection: Transfer-Encoding\n",
      "header: Set-Cookie: TADCID=CK9eUL_5Gt1vUSdNABQCXdElnkGETRW-Svh01l3nWnW7ICvpN6232ulvNv5e-LDBCXeJyJskm9yQW1WKpzMlwX5ExUkj7zBDado; Domain=www.tripadvisor.co.id; Expires=Sat, 21-May-2033 17:55:56 GMT; Path=/; Secure; HttpOnly\n",
      "header: Set-Cookie: TAUnique=%1%enc%3AuDVedQjmD2%2BCNtgs%2BCN3NnGfQMMEYPnqIAOI%2Fbh%2FKON%2B2lQoqjWyaA%3D%3D; Domain=.tripadvisor.co.id; Expires=Fri, 23-May-2025 17:55:56 GMT; Path=/; HttpOnly\n",
      "header: Set-Cookie: TASSK=enc%3AADtMFqZy6XRFP8O9Izq1t7GthCZ%2FqefkzDo9UcHqrtVqds46wufVj3wrCSwLdoYEtq9mMIJEAVcmtGxEHZANV%2BYsJoIGgC64M7CLDdkSaf2rpc6HOtD6BDBpHP1I5Emv%2Bg%3D%3D; Domain=www.tripadvisor.co.id; Expires=Mon, 20-Nov-2023 17:55:57 GMT; Path=/; HttpOnly\n",
      "header: Set-Cookie: TASession=V2ID.74500A671CF04758A62FC4103D5B9664*SQ.1*HS.recommended*ES.popularity*DS.5*SAS.popularity*FPS.oldFirst*LF.in*FA.1*DF.0*TRA.true*LD.614386; Domain=.tripadvisor.co.id; Path=/\n",
      "header: Set-Cookie: ServerPool=X; Domain=.tripadvisor.co.id; Path=/\n",
      "header: Set-Cookie: PMC=V2*MS.86*MD.20230524*LD.20230524; Domain=www.tripadvisor.co.id; Expires=Fri, 23-May-2025 17:55:57 GMT; Path=/; Secure; HttpOnly\n",
      "header: Set-Cookie: TART=%1%enc%3AgjbYLPgjdzaxS15%2BRWc46rd5Hn43s0uL1rjuEgDimPOxA%2FEzpEnFBRjbKl%2Fo97ErOY7g8BELdDA%3D; Domain=www.tripadvisor.co.id; Expires=Mon, 29-May-2023 17:55:57 GMT; Path=/; HttpOnly\n",
      "header: Set-Cookie: CM=%1%PremiumMobSess%2C%2C-1%7Ct4b-pc%2C%2C-1%7CRestAds%2FRPers%2C%2C-1%7CRCPers%2C%2C-1%7CWShadeSeen%2C%2C-1%7CTheForkMCCPers%2C%2C-1%7CHomeASess%2C%2C-1%7CPremiumMCSess%2C%2C-1%7CCrisisSess%2C%2C-1%7CUVOwnersSess%2C%2C-1%7CRestPremRSess%2C%2C-1%7CRepTarMCSess%2C%2C-1%7CCCSess%2C%2C-1%7CCYLSess%2C%2C-1%7CPremRetPers%2C%2C-1%7CViatorMCPers%2C%2C-1%7Csesssticker%2C%2C-1%7C%24%2C%2C-1%7CPremiumORSess%2C%2C-1%7Ct4b-sc%2C%2C-1%7CRestAdsPers%2C%2C-1%7CMC_IB_UPSELL_IB_LOGOS2%2C%2C-1%7CTSMCPers%2C%2C-1%7Cb2bmcpers%2C%2C-1%7CPremMCBtmSess%2C%2C-1%7CMC_IB_UPSELL_IB_LOGOS%2C%2C-1%7CLaFourchette+Banners%2C%2C-1%7Csess_rev%2C%2C-1%7Csessamex%2C%2C-1%7CPremiumRRSess%2C%2C-1%7CTADORSess%2C%2C-1%7CAdsRetPers%2C%2C-1%7CListMCSess%2C%2C-1%7CTARSWBPers%2C%2C-1%7CSPMCSess%2C%2C-1%7CTheForkORSess%2C%2C-1%7CTheForkRRSess%2C%2C-1%7Cpers_rev%2C%2C-1%7CRBAPers%2C%2C-1%7CRestAds%2FRSess%2C%2C-1%7CHomeAPers%2C%2C-1%7CPremiumMobPers%2C%2C-1%7CRCSess%2C%2C-1%7CLaFourchette+MC+Banners%2C%2C-1%7CRestAdsCCSess%2C%2C-1%7CRestPremRPers%2C%2C-1%7CRevHubRMPers%2C%2C-1%7CUVOwnersPers%2C%2C-1%7Cpssamex%2C%2C-1%7CTheForkMCCSess%2C%2C-1%7CCrisisPers%2C%2C-1%7CCYLPers%2C%2C-1%7CCCPers%2C%2C-1%7CRepTarMCPers%2C%2C-1%7Cb2bmcsess%2C%2C-1%7CTSMCSess%2C%2C-1%7CSPMCPers%2C%2C-1%7CRevHubRMSess%2C%2C-1%7CPremRetSess%2C%2C-1%7CViatorMCSess%2C%2C-1%7CPremiumMCPers%2C%2C-1%7CAdsRetSess%2C%2C-1%7CPremiumRRPers%2C%2C-1%7CRestAdsCCPers%2C%2C-1%7CTADORPers%2C%2C-1%7CTheForkORPers%2C%2C-1%7CPremMCBtmPers%2C%2C-1%7CTheForkRRPers%2C%2C-1%7CTARSWBSess%2C%2C-1%7CPremiumORPers%2C%2C-1%7CRestAdsSess%2C%2C-1%7CRBASess%2C%2C-1%7CSPORPers%2C%2C-1%7Cperssticker%2C%2C-1%7CListMCPers%2C%2C-1%7C; Domain=.tripadvisor.co.id; Expires=Sat, 21-May-2033 17:55:57 GMT; Path=/\n",
      "header: Set-Cookie: BEPIN=%1%1884ee73a72%3Bweb225a.a.tripadvisor.com%3A30023%3B; Domain=.tripadvisor.co.id; Path=/\n",
      "header: Set-Cookie: PAC=AIQEA2HhoJZSBfU6JtvZYNqSjZtOeVUH2Wi0lCdVFcT5ImREwl4529Nz9hBkRASmUEBR0vZuIl-UE4Gfkg6oyuk1ZYu1GsiAgXrRC0QYRh0A5LEADcnqoAtuRXI52cPmPCisak-OxOAiK5NJMbmvzyM4p7DKy6n1SZ8i7rpFlT7Ptb_zWzgc3vNlsc1o5dzTe3AARhGV7hagwMjO7-CZjqDytT0ffsITFo_0CuJOwPnG; Domain=www.tripadvisor.co.id; Expires=Fri, 23-May-2025 17:55:57 GMT; Path=/; Secure; HttpOnly\n",
      "header: Set-Cookie: SRT=TART_SYNC; Domain=www.tripadvisor.co.id; Expires=Wed, 24-May-2023 18:25:57 GMT; Path=/\n",
      "header: Set-Cookie: TATravelInfo=V2*AY.2023*AM.6*AD.4*DY.2023*DM.6*DD.5*A.2*MG.-1*HP.2*FL.3*DSM.1684950956775*RS.1; Domain=.tripadvisor.co.id; Expires=Wed, 07-Jun-2023 17:55:57 GMT; Path=/\n",
      "header: Set-Cookie: TAUD=LG-1684950956623-2.1.F.*RDD-2-2023_05_25*HDD-3-2023_06_04.2023_06_05.1; Domain=.tripadvisor.co.id; Expires=Wed, 07-Jun-2023 17:55:57 GMT; Path=/\n",
      "header: Set-Cookie: TASID=74500A671CF04758A62FC4103D5B9664; Domain=www.tripadvisor.co.id; Expires=Wed, 24-May-2023 18:25:57 GMT; Path=/; Secure\n",
      "header: Set-Cookie: TAReturnTo=%1%%2FHotel_Review-g608487-d614386-Reviews-or145-Grand_Sinar_Indah_Hotel-Legian_Kuta_District_Bali.html; Domain=.tripadvisor.co.id; Path=/\n",
      "header: Set-Cookie: datadome=2_3LyJNF8CJmo8KrRelnf~DXVhzUCDBJpNlO1Z1O8QysJFdSmIUVmbsIpv16gBtrjrcPQQkkVgJk_fTkkia5wz8x2lc8J9i43QzX4ursQjQlvany8ZlhE~44bnadszvr; Max-Age=31104000; Domain=.tripadvisor.co.id; Path=/; Secure; SameSite=Lax\n",
      "Done Scrapping Grand Sinar Indah Hotel page 29\n",
      "\n",
      "\n"
     ]
    },
    {
     "name": "stderr",
     "output_type": "stream",
     "text": [
      "DEBUG:urllib3.connectionpool:Starting new HTTPS connection (1): www.tripadvisor.co.id:443\n"
     ]
    },
    {
     "name": "stdout",
     "output_type": "stream",
     "text": [
      "send: b'GET /Hotel_Review-g608487-d614386-Reviews-or150-Grand_Sinar_Indah_Hotel-Legian_Kuta_District_Bali.html HTTP/1.1\\r\\nHost: www.tripadvisor.co.id\\r\\nUser-Agent: Mozilla/5.0 (X11; CrOS x86_64 12871.102.0) AppleWebKit/537.36 (KHTML, like Gecko) Chrome/81.0.4044.141 Safari/537.36\\r\\nAccept-Encoding: gzip, deflate\\r\\nAccept: */*\\r\\nConnection: keep-alive\\r\\n\\r\\n'\n"
     ]
    },
    {
     "name": "stderr",
     "output_type": "stream",
     "text": [
      "DEBUG:urllib3.connectionpool:https://www.tripadvisor.co.id:443 \"GET /Hotel_Review-g608487-d614386-Reviews-or150-Grand_Sinar_Indah_Hotel-Legian_Kuta_District_Bali.html HTTP/1.1\" 200 None\n"
     ]
    },
    {
     "name": "stdout",
     "output_type": "stream",
     "text": [
      "reply: 'HTTP/1.1 200 OK\\r\\n'\n",
      "header: Server: envoy\n",
      "header: Link: <https://media-cdn.tripadvisor.com/media/>;rel=\"preconnect\";crossorigin\n",
      "header: Link: <https://media-cdn.tripadvisor.com/media/>;rel=\"dns-prefetch\"\n",
      "header: p3p: CP=\"NOI CURa ADMa DEVa TAIa OUR BUS IND UNI COM NAV INT DSP COR CAO PSA IDC ADM DEVi TAIi PSD IVAi IVDi CONi HIS CNT\"\n",
      "header: Pragma: no-cache\n",
      "header: Cache-Control: no-cache, no-store, must-revalidate\n",
      "header: Expires: 0\n",
      "header: Content-Language: id\n",
      "header: Link: <https://static.tacdn.com>;rel=\"dns-prefetch\"\n",
      "header: Link: <https://static.tacdn.com>;rel=\"preconnect\";crossorigin\n",
      "header: timing-allow-origin: https://www.tripadvisor.com\n",
      "header: Vary: Accept-Encoding\n",
      "header: Content-Type: text/html;charset=UTF-8\n",
      "header: x-datadome: protected\n",
      "header: Accept-CH: Sec-CH-UA,Sec-CH-UA-Mobile,Sec-CH-UA-Platform,Sec-CH-UA-Arch,Sec-CH-UA-Full-Version-List,Sec-CH-UA-Model,Sec-CH-Device-Memory\n",
      "header: Content-Encoding: gzip\n",
      "header: x-request-id: 0c8d9643-7a95-4b0c-be81-a7353e4259dd\n",
      "header: Date: Wed, 24 May 2023 17:56:02 GMT\n",
      "header: Transfer-Encoding: chunked\n",
      "header: Connection: keep-alive\n",
      "header: Connection: Transfer-Encoding\n",
      "header: Set-Cookie: TADCID=RBXL7aiikNgacoVBABQCXdElnkGETRW-Svh01l3nWnW7ISDnitQNhLuTn_k3H_ODOtqfhwyrV8wrheOZfmj2Sy8f-ZEfjpCpTac; Domain=www.tripadvisor.co.id; Expires=Sat, 21-May-2033 17:56:01 GMT; Path=/; Secure; HttpOnly\n",
      "header: Set-Cookie: TAUnique=%1%enc%3AfAQ8HsAjv3GCNtgs%2BCN3NnGfQMMEYPnqjZoYdBaOCS%2BGxumTWUunxQ%3D%3D; Domain=.tripadvisor.co.id; Expires=Fri, 23-May-2025 17:56:01 GMT; Path=/; HttpOnly\n",
      "header: Set-Cookie: TASSK=enc%3AAHm1T%2FAI0mE%2Buab%2FRXMgJMlUGRvnhaQ%2FbGgyeHpZZ3qxNszhMKUu5TC29qijdg9dXS%2B2pchFIogsAe05anwELu5e3KF%2BkVPac8VssL84hqEUVrmPkGyO%2FUXH5g4CPUP%2FSw%3D%3D; Domain=www.tripadvisor.co.id; Expires=Mon, 20-Nov-2023 17:56:01 GMT; Path=/; HttpOnly\n",
      "header: Set-Cookie: TASession=V2ID.7A74E94F64544F059441A7D9EE31974F*SQ.1*HS.recommended*ES.popularity*DS.5*SAS.popularity*FPS.oldFirst*LF.in*FA.1*DF.0*TRA.true*LD.614386; Domain=.tripadvisor.co.id; Path=/\n",
      "header: Set-Cookie: ServerPool=X; Domain=.tripadvisor.co.id; Path=/\n",
      "header: Set-Cookie: PMC=V2*MS.14*MD.20230524*LD.20230524; Domain=www.tripadvisor.co.id; Expires=Fri, 23-May-2025 17:56:01 GMT; Path=/; Secure; HttpOnly\n",
      "header: Set-Cookie: TART=%1%enc%3AgjbYLPgjdzaxS15%2BRWc46nNURx1b%2BCRcjXkwjkbNLZ2kZJiqkS6N5JtWcoWKYecW4lcOJQ3xoIY%3D; Domain=www.tripadvisor.co.id; Expires=Mon, 29-May-2023 17:56:01 GMT; Path=/; HttpOnly\n",
      "header: Set-Cookie: CM=%1%PremiumMobSess%2C%2C-1%7Ct4b-pc%2C%2C-1%7CRestAds%2FRPers%2C%2C-1%7CRCPers%2C%2C-1%7CWShadeSeen%2C%2C-1%7CTheForkMCCPers%2C%2C-1%7CHomeASess%2C%2C-1%7CPremiumMCSess%2C%2C-1%7CCrisisSess%2C%2C-1%7CUVOwnersSess%2C%2C-1%7CRestPremRSess%2C%2C-1%7CRepTarMCSess%2C%2C-1%7CCCSess%2C%2C-1%7CCYLSess%2C%2C-1%7CPremRetPers%2C%2C-1%7CViatorMCPers%2C%2C-1%7Csesssticker%2C%2C-1%7C%24%2C%2C-1%7CPremiumORSess%2C%2C-1%7Ct4b-sc%2C%2C-1%7CRestAdsPers%2C%2C-1%7CMC_IB_UPSELL_IB_LOGOS2%2C%2C-1%7CTSMCPers%2C%2C-1%7Cb2bmcpers%2C%2C-1%7CPremMCBtmSess%2C%2C-1%7CMC_IB_UPSELL_IB_LOGOS%2C%2C-1%7CLaFourchette+Banners%2C%2C-1%7Csess_rev%2C%2C-1%7Csessamex%2C%2C-1%7CPremiumRRSess%2C%2C-1%7CTADORSess%2C%2C-1%7CAdsRetPers%2C%2C-1%7CListMCSess%2C%2C-1%7CTARSWBPers%2C%2C-1%7CSPMCSess%2C%2C-1%7CTheForkORSess%2C%2C-1%7CTheForkRRSess%2C%2C-1%7Cpers_rev%2C%2C-1%7CRBAPers%2C%2C-1%7CRestAds%2FRSess%2C%2C-1%7CHomeAPers%2C%2C-1%7CPremiumMobPers%2C%2C-1%7CRCSess%2C%2C-1%7CLaFourchette+MC+Banners%2C%2C-1%7CRestAdsCCSess%2C%2C-1%7CRestPremRPers%2C%2C-1%7CRevHubRMPers%2C%2C-1%7CUVOwnersPers%2C%2C-1%7Cpssamex%2C%2C-1%7CTheForkMCCSess%2C%2C-1%7CCrisisPers%2C%2C-1%7CCYLPers%2C%2C-1%7CCCPers%2C%2C-1%7CRepTarMCPers%2C%2C-1%7Cb2bmcsess%2C%2C-1%7CTSMCSess%2C%2C-1%7CSPMCPers%2C%2C-1%7CRevHubRMSess%2C%2C-1%7CPremRetSess%2C%2C-1%7CViatorMCSess%2C%2C-1%7CPremiumMCPers%2C%2C-1%7CAdsRetSess%2C%2C-1%7CPremiumRRPers%2C%2C-1%7CRestAdsCCPers%2C%2C-1%7CTADORPers%2C%2C-1%7CTheForkORPers%2C%2C-1%7CPremMCBtmPers%2C%2C-1%7CTheForkRRPers%2C%2C-1%7CTARSWBSess%2C%2C-1%7CPremiumORPers%2C%2C-1%7CRestAdsSess%2C%2C-1%7CRBASess%2C%2C-1%7CSPORPers%2C%2C-1%7Cperssticker%2C%2C-1%7CListMCPers%2C%2C-1%7C; Domain=.tripadvisor.co.id; Expires=Sat, 21-May-2033 17:56:01 GMT; Path=/\n",
      "header: Set-Cookie: BEPIN=%1%1884ee74d73%3Bweb788a.a.tripadvisor.com%3A30023%3B; Domain=.tripadvisor.co.id; Path=/\n",
      "header: Set-Cookie: PAC=AJpclDH7knwOvygipD18tgUO4huzxOcgJwrXPbiyGnCxsuxTay0clVb1-sGN4CEv9xsfend8M15aZoSwMXNjfda8iWIgv69jnPtjbNROO2HxS60DeFz6_sCLmt9LdE6Eikxt4iKaRBw1memGUo9mb_17SLd6HKwS9RdP6jtuPraF3ILlSEq9lgBp6Gj0O6ZspTzWYy4hn0SqB_TD9lPwCvJT1UpmtGNRcDoubiRpqma8; Domain=www.tripadvisor.co.id; Expires=Fri, 23-May-2025 17:56:01 GMT; Path=/; Secure; HttpOnly\n",
      "header: Set-Cookie: SRT=TART_SYNC; Domain=www.tripadvisor.co.id; Expires=Wed, 24-May-2023 18:26:01 GMT; Path=/\n",
      "header: Set-Cookie: TATravelInfo=V2*AY.2023*AM.6*AD.4*DY.2023*DM.6*DD.5*A.2*MG.-1*HP.2*FL.3*DSM.1684950961641*RS.1; Domain=.tripadvisor.co.id; Expires=Wed, 07-Jun-2023 17:56:01 GMT; Path=/\n",
      "header: Set-Cookie: TAUD=LG-1684950961488-2.1.F.*RDD-2-2023_05_25*HDD-3-2023_06_04.2023_06_05.1; Domain=.tripadvisor.co.id; Expires=Wed, 07-Jun-2023 17:56:01 GMT; Path=/\n",
      "header: Set-Cookie: TASID=7A74E94F64544F059441A7D9EE31974F; Domain=www.tripadvisor.co.id; Expires=Wed, 24-May-2023 18:26:01 GMT; Path=/; Secure\n",
      "header: Set-Cookie: TAReturnTo=%1%%2FHotel_Review-g608487-d614386-Reviews-or150-Grand_Sinar_Indah_Hotel-Legian_Kuta_District_Bali.html; Domain=.tripadvisor.co.id; Path=/\n",
      "header: Set-Cookie: datadome=6a8cuZktLDSzPcifKDag94R8crsYQRH_FbQHyO7qx~ZFSs_EFckAmEVAH9qvaBo~UsSf3FDiXQk51b3oby_OyaF6UIXWcJ4ai3absiG1d0w3N~wXQvK_wnvY5zXe-wF0; Max-Age=31104000; Domain=.tripadvisor.co.id; Path=/; Secure; SameSite=Lax\n",
      "Done Scrapping Grand Sinar Indah Hotel page 30\n",
      "\n",
      "\n"
     ]
    },
    {
     "name": "stderr",
     "output_type": "stream",
     "text": [
      "DEBUG:urllib3.connectionpool:Starting new HTTPS connection (1): www.tripadvisor.co.id:443\n"
     ]
    },
    {
     "name": "stdout",
     "output_type": "stream",
     "text": [
      "send: b'GET /Hotel_Review-g608487-d614386-Reviews-or155-Grand_Sinar_Indah_Hotel-Legian_Kuta_District_Bali.html HTTP/1.1\\r\\nHost: www.tripadvisor.co.id\\r\\nUser-Agent: Mozilla/5.0 (X11; CrOS x86_64 12871.102.0) AppleWebKit/537.36 (KHTML, like Gecko) Chrome/81.0.4044.141 Safari/537.36\\r\\nAccept-Encoding: gzip, deflate\\r\\nAccept: */*\\r\\nConnection: keep-alive\\r\\n\\r\\n'\n"
     ]
    },
    {
     "name": "stderr",
     "output_type": "stream",
     "text": [
      "DEBUG:urllib3.connectionpool:https://www.tripadvisor.co.id:443 \"GET /Hotel_Review-g608487-d614386-Reviews-or155-Grand_Sinar_Indah_Hotel-Legian_Kuta_District_Bali.html HTTP/1.1\" 200 None\n"
     ]
    },
    {
     "name": "stdout",
     "output_type": "stream",
     "text": [
      "reply: 'HTTP/1.1 200 OK\\r\\n'\n",
      "header: Connection: keep-alive\n",
      "header: server: envoy\n",
      "header: link: <https://media-cdn.tripadvisor.com/media/>;rel=\"preconnect\";crossorigin\n",
      "header: link: <https://media-cdn.tripadvisor.com/media/>;rel=\"dns-prefetch\"\n",
      "header: link: <https://static.tacdn.com>;rel=\"preconnect\";crossorigin\n",
      "header: p3p: CP=\"NOI CURa ADMa DEVa TAIa OUR BUS IND UNI COM NAV INT DSP COR CAO PSA IDC ADM DEVi TAIi PSD IVAi IVDi CONi HIS CNT\"\n",
      "header: pragma: no-cache\n",
      "header: cache-control: no-cache, no-store, must-revalidate\n",
      "header: expires: 0\n",
      "header: content-language: id\n",
      "header: link: <https://static.tacdn.com>;rel=\"dns-prefetch\"\n",
      "header: set-cookie: TADCID=L0gReLGCSkYWQvnJABQCXdElnkGETRW-Svh01l3nWnW7IRBQmdnp3RX3WON6zLqmf6yltsEZ3UHlrDGDo7JyzXKpUqQOcAz_gJA; Domain=www.tripadvisor.co.id; Expires=Sat, 21-May-2033 17:56:06 GMT; Path=/; Secure; HttpOnly\n",
      "header: set-cookie: TAUnique=%1%enc%3AWtOGVbhzXZqCNtgs%2BCN3NtMU7Qvm6Juh3RZ%2BcOmdpbLPEMB1%2FbUjBQ%3D%3D; Domain=.tripadvisor.co.id; Expires=Fri, 23-May-2025 17:56:06 GMT; Path=/; HttpOnly\n",
      "header: set-cookie: __vt=A5djU96mxT_dq62qABQCwDrKuA05TCmUEEd0_4-PPCWYwUJN94ASBdu1cyr_8mVN56K2XMPUNs1JdVLaIsmCAUMNCjcbJQ-9_107UAc2y5Ig5o1fiEALIdNMyV4fXthNHXez4uLFd6yZkp_uPhIvs31JJg; Domain=www.tripadvisor.co.id; Expires=Wed, 24-May-2023 18:56:06 GMT; Path=/; Secure; HttpOnly\n",
      "header: set-cookie: TASSK=enc%3AALg1PbG9wtUJs8VNSUH2%2BvnStTKfuwNUwTonJwSuzjU8lqxuiE2oj%2B1uHv67u6hNaMg2EBfuZoPgnnoP4zC7%2Blr4PvVF%2BYf4s8fEMjRoSTP5Y%2BJ6g2JYiECVc3WoLWcBgA%3D%3D; Domain=www.tripadvisor.co.id; Expires=Mon, 20-Nov-2023 17:56:06 GMT; Path=/; HttpOnly\n",
      "header: set-cookie: TASession=V2ID.DB71F08C192F4A92922C00CCF1DB3721*SQ.1*HS.recommended*ES.popularity*DS.5*SAS.popularity*FPS.oldFirst*LF.in*FA.1*DF.0*TRA.true*LD.614386*EAU._; Domain=.tripadvisor.co.id; Path=/\n",
      "header: set-cookie: ServerPool=C; Domain=.tripadvisor.co.id; Path=/\n",
      "header: set-cookie: PMC=V2*MS.44*MD.20230524*LD.20230524; Domain=www.tripadvisor.co.id; Expires=Fri, 23-May-2025 17:56:06 GMT; Path=/; Secure; HttpOnly\n",
      "header: set-cookie: TART=%1%enc%3AgjbYLPgjdzbSKxQTbP2BhyxVocvxamJ2UBFbBEpGRJnUSqu05JNIZ%2F7473zYbA4c3O5AA8xju1Y%3D; Domain=www.tripadvisor.co.id; Expires=Mon, 29-May-2023 17:56:06 GMT; Path=/; HttpOnly\n",
      "header: set-cookie: CM=%1%PremiumMobSess%2C%2C-1%7Ct4b-pc%2C%2C-1%7CRestAds%2FRPers%2C%2C-1%7CRCPers%2C%2C-1%7CWShadeSeen%2C%2C-1%7CTheForkMCCPers%2C%2C-1%7CHomeASess%2C%2C-1%7CPremiumMCSess%2C%2C-1%7CCrisisSess%2C%2C-1%7CUVOwnersSess%2C%2C-1%7CRestPremRSess%2C%2C-1%7CRepTarMCSess%2C%2C-1%7CCCSess%2C%2C-1%7CCYLSess%2C%2C-1%7CPremRetPers%2C%2C-1%7CViatorMCPers%2C%2C-1%7Csesssticker%2C%2C-1%7C%24%2C%2C-1%7CPremiumORSess%2C%2C-1%7Ct4b-sc%2C%2C-1%7CRestAdsPers%2C%2C-1%7CMC_IB_UPSELL_IB_LOGOS2%2C%2C-1%7CTSMCPers%2C%2C-1%7Cb2bmcpers%2C%2C-1%7CPremMCBtmSess%2C%2C-1%7CMC_IB_UPSELL_IB_LOGOS%2C%2C-1%7CLaFourchette+Banners%2C%2C-1%7Csess_rev%2C%2C-1%7Csessamex%2C%2C-1%7CPremiumRRSess%2C%2C-1%7CTADORSess%2C%2C-1%7CAdsRetPers%2C%2C-1%7CListMCSess%2C%2C-1%7CTARSWBPers%2C%2C-1%7CSPMCSess%2C%2C-1%7CTheForkORSess%2C%2C-1%7CTheForkRRSess%2C%2C-1%7Cpers_rev%2C%2C-1%7CRBAPers%2C%2C-1%7CRestAds%2FRSess%2C%2C-1%7CHomeAPers%2C%2C-1%7CPremiumMobPers%2C%2C-1%7CRCSess%2C%2C-1%7CLaFourchette+MC+Banners%2C%2C-1%7CRestAdsCCSess%2C%2C-1%7CRestPremRPers%2C%2C-1%7CRevHubRMPers%2C%2C-1%7CUVOwnersPers%2C%2C-1%7Cpssamex%2C%2C-1%7CTheForkMCCSess%2C%2C-1%7CCrisisPers%2C%2C-1%7CCYLPers%2C%2C-1%7CCCPers%2C%2C-1%7CRepTarMCPers%2C%2C-1%7Cb2bmcsess%2C%2C-1%7CTSMCSess%2C%2C-1%7CSPMCPers%2C%2C-1%7CRevHubRMSess%2C%2C-1%7CPremRetSess%2C%2C-1%7CViatorMCSess%2C%2C-1%7CPremiumMCPers%2C%2C-1%7CAdsRetSess%2C%2C-1%7CPremiumRRPers%2C%2C-1%7CRestAdsCCPers%2C%2C-1%7CTADORPers%2C%2C-1%7CTheForkORPers%2C%2C-1%7CPremMCBtmPers%2C%2C-1%7CTheForkRRPers%2C%2C-1%7CTARSWBSess%2C%2C-1%7CPremiumORPers%2C%2C-1%7CRestAdsSess%2C%2C-1%7CRBASess%2C%2C-1%7CSPORPers%2C%2C-1%7Cperssticker%2C%2C-1%7CListMCPers%2C%2C-1%7C; Domain=.tripadvisor.co.id; Expires=Sat, 21-May-2033 17:56:06 GMT; Path=/\n",
      "header: set-cookie: BEPIN=%1%1884ee7601b%3Bweb771a.a.tripadvisor.com%3A30023%3B; Domain=.tripadvisor.co.id; Path=/\n",
      "header: set-cookie: PAC=APomnDJEjIEdyjEEPGTjKOQ07SVnSe_LphLYcDR6fpezS0-6n8nUS8kBKh0YnJyi_T2YPSan8KKJ61r-XKWmtTcEFCeyKorUD8Eea9OSnZpepjb64pcfVmg3iZ0IBYasVxHoKatnqBcJZtUa59EnS8Y4Ng9BiTvO5E60Hlk4GOlVHqkP7FyectCoud6HMAc0U8RavDgZ7IwPYMgohQHmFMCA78NkbDWZwFuC4Y4D1SH9; Domain=www.tripadvisor.co.id; Expires=Fri, 23-May-2025 17:56:06 GMT; Path=/; Secure; HttpOnly\n",
      "header: set-cookie: SRT=TART_SYNC; Domain=www.tripadvisor.co.id; Expires=Wed, 24-May-2023 18:26:06 GMT; Path=/\n",
      "header: set-cookie: TATravelInfo=V2*AY.2023*AM.6*AD.4*DY.2023*DM.6*DD.5*A.2*MG.-1*HP.2*FL.3*DSM.1684950966414*RS.1; Domain=.tripadvisor.co.id; Expires=Wed, 07-Jun-2023 17:56:06 GMT; Path=/\n",
      "header: set-cookie: TAUD=LG-1684950966280-2.1.F.*RDD-2-2023_05_25*HDD-3-2023_06_04.2023_06_05.1; Domain=.tripadvisor.co.id; Expires=Wed, 07-Jun-2023 17:56:06 GMT; Path=/\n",
      "header: set-cookie: TASID=DB71F08C192F4A92922C00CCF1DB3721; Domain=www.tripadvisor.co.id; Expires=Wed, 24-May-2023 18:26:06 GMT; Path=/; Secure\n",
      "header: set-cookie: TAReturnTo=%1%%2FHotel_Review-g608487-d614386-Reviews-or155-Grand_Sinar_Indah_Hotel-Legian_Kuta_District_Bali.html; Domain=.tripadvisor.co.id; Path=/\n",
      "header: timing-allow-origin: https://www.tripadvisor.com\n",
      "header: content-type: text/html;charset=UTF-8\n",
      "header: set-cookie: datadome=wgDoFnP7QjkPJSUwcNJ5_MewgRHttBNmmoyqEzJo6~7Or109K1HOTIuL_lC4OZr7jsaxbU80WWTRJudAGJB-3BJAQae9Qm7sUBpDQUYvFnDRb8EhFFRZaEXwb_DjJ7a; Max-Age=31104000; Domain=.tripadvisor.co.id; Path=/; Secure; SameSite=Lax\n",
      "header: accept-ch: Sec-CH-UA,Sec-CH-UA-Mobile,Sec-CH-UA-Platform,Sec-CH-UA-Arch,Sec-CH-UA-Full-Version-List,Sec-CH-UA-Model,Sec-CH-Device-Memory\n",
      "header: x-datadome: protected\n",
      "header: content-encoding: gzip\n",
      "header: x-request-id: 791f2ec0-48d0-4ef0-825d-d3f60ce40264\n",
      "header: Accept-Ranges: bytes\n",
      "header: Date: Wed, 24 May 2023 17:56:06 GMT\n",
      "header: Via: 1.1 varnish\n",
      "header: X-Served-By: cache-qpg1251-QPG\n",
      "header: X-Cache: MISS\n",
      "header: X-Cache-Hits: 0\n",
      "header: X-Timer: S1684950966.135417,VS0,VE763\n",
      "header: Vary: Accept-Encoding\n",
      "header: transfer-encoding: chunked\n",
      "Done Scrapping Grand Sinar Indah Hotel page 31\n",
      "\n",
      "\n"
     ]
    },
    {
     "name": "stderr",
     "output_type": "stream",
     "text": [
      "DEBUG:urllib3.connectionpool:Starting new HTTPS connection (1): www.tripadvisor.co.id:443\n"
     ]
    },
    {
     "name": "stdout",
     "output_type": "stream",
     "text": [
      "send: b'GET /Hotel_Review-g608487-d614386-Reviews-or160-Grand_Sinar_Indah_Hotel-Legian_Kuta_District_Bali.html HTTP/1.1\\r\\nHost: www.tripadvisor.co.id\\r\\nUser-Agent: Mozilla/5.0 (X11; CrOS x86_64 12871.102.0) AppleWebKit/537.36 (KHTML, like Gecko) Chrome/81.0.4044.141 Safari/537.36\\r\\nAccept-Encoding: gzip, deflate\\r\\nAccept: */*\\r\\nConnection: keep-alive\\r\\n\\r\\n'\n"
     ]
    },
    {
     "name": "stderr",
     "output_type": "stream",
     "text": [
      "DEBUG:urllib3.connectionpool:https://www.tripadvisor.co.id:443 \"GET /Hotel_Review-g608487-d614386-Reviews-or160-Grand_Sinar_Indah_Hotel-Legian_Kuta_District_Bali.html HTTP/1.1\" 200 None\n"
     ]
    },
    {
     "name": "stdout",
     "output_type": "stream",
     "text": [
      "reply: 'HTTP/1.1 200 OK\\r\\n'\n",
      "header: Connection: keep-alive\n",
      "header: server: envoy\n",
      "header: link: <https://media-cdn.tripadvisor.com/media/>;rel=\"preconnect\";crossorigin\n",
      "header: link: <https://media-cdn.tripadvisor.com/media/>;rel=\"dns-prefetch\"\n",
      "header: link: <https://static.tacdn.com>;rel=\"preconnect\";crossorigin\n",
      "header: p3p: CP=\"NOI CURa ADMa DEVa TAIa OUR BUS IND UNI COM NAV INT DSP COR CAO PSA IDC ADM DEVi TAIi PSD IVAi IVDi CONi HIS CNT\"\n",
      "header: pragma: no-cache\n",
      "header: cache-control: no-cache, no-store, must-revalidate\n",
      "header: expires: 0\n",
      "header: content-language: id\n",
      "header: link: <https://static.tacdn.com>;rel=\"dns-prefetch\"\n",
      "header: set-cookie: TADCID=wq-LFKMFvCp7g3kcABQCXdElnkGETRW-Svh01l3nWnW7IQXH2vRoMyVEfR5CsKiHUREfAId66lvbekP_bxyQz0jNH4AO-06bM7o; Domain=www.tripadvisor.co.id; Expires=Sat, 21-May-2033 17:56:11 GMT; Path=/; Secure; HttpOnly\n",
      "header: set-cookie: TAUnique=%1%enc%3Adzoe5sVge0%2BCNtgs%2BCN3NtMU7Qvm6JuhoJMlSpjEa9vT3jIsrssxfw%3D%3D; Domain=.tripadvisor.co.id; Expires=Fri, 23-May-2025 17:56:11 GMT; Path=/; HttpOnly\n",
      "header: set-cookie: __vt=a7-Z4AnvKKz-fGbhABQCwDrKuA05TCmUEEd0_4-PPCWYwYDhEw13PYT4TdDjzu8eN2YZtBLWB6uaQSc1SxSiCTO52f6ppXRkmJMiyIDOfYacKMJmtcjeUK1y8YPYYFjZrqtypb_jPG7ItuZIAxSRxUmDLA; Domain=www.tripadvisor.co.id; Expires=Wed, 24-May-2023 18:56:11 GMT; Path=/; Secure; HttpOnly\n",
      "header: set-cookie: TASSK=enc%3AAJowFvzSKXDIGtCdh36WZoP1XU3nlSIRbcL%2FPqeloQ9DA3wVNQmyC1zZLxZwGONgITarLO748NNqmv7rOZZH6u3fX8wzoiYu0a7ZKBK9xAvR91WE24qxtmwURPNLQAp5nA%3D%3D; Domain=www.tripadvisor.co.id; Expires=Mon, 20-Nov-2023 17:56:11 GMT; Path=/; HttpOnly\n",
      "header: set-cookie: TASession=V2ID.345A36052E654128932BFA72C1E60966*SQ.1*HS.recommended*ES.popularity*DS.5*SAS.popularity*FPS.oldFirst*LF.in*FA.1*DF.0*TRA.true*LD.614386*EAU._; Domain=.tripadvisor.co.id; Path=/\n",
      "header: set-cookie: ServerPool=A; Domain=.tripadvisor.co.id; Path=/\n",
      "header: set-cookie: PMC=V2*MS.82*MD.20230524*LD.20230524; Domain=www.tripadvisor.co.id; Expires=Fri, 23-May-2025 17:56:11 GMT; Path=/; Secure; HttpOnly\n",
      "header: set-cookie: TART=%1%enc%3AgjbYLPgjdzbSKxQTbP2Bh9EUN%2BwvZ1AIZLTSNgtpi3racyQ9zP51kNwEniSysJs48NwUSzB7rPc%3D; Domain=www.tripadvisor.co.id; Expires=Mon, 29-May-2023 17:56:11 GMT; Path=/; HttpOnly\n",
      "header: set-cookie: CM=%1%PremiumMobSess%2C%2C-1%7Ct4b-pc%2C%2C-1%7CRestAds%2FRPers%2C%2C-1%7CRCPers%2C%2C-1%7CWShadeSeen%2C%2C-1%7CTheForkMCCPers%2C%2C-1%7CHomeASess%2C%2C-1%7CPremiumMCSess%2C%2C-1%7CCrisisSess%2C%2C-1%7CUVOwnersSess%2C%2C-1%7CRestPremRSess%2C%2C-1%7CRepTarMCSess%2C%2C-1%7CCCSess%2C%2C-1%7CCYLSess%2C%2C-1%7CPremRetPers%2C%2C-1%7CViatorMCPers%2C%2C-1%7Csesssticker%2C%2C-1%7C%24%2C%2C-1%7CPremiumORSess%2C%2C-1%7Ct4b-sc%2C%2C-1%7CRestAdsPers%2C%2C-1%7CMC_IB_UPSELL_IB_LOGOS2%2C%2C-1%7CTSMCPers%2C%2C-1%7Cb2bmcpers%2C%2C-1%7CPremMCBtmSess%2C%2C-1%7CMC_IB_UPSELL_IB_LOGOS%2C%2C-1%7CLaFourchette+Banners%2C%2C-1%7Csess_rev%2C%2C-1%7Csessamex%2C%2C-1%7CPremiumRRSess%2C%2C-1%7CTADORSess%2C%2C-1%7CAdsRetPers%2C%2C-1%7CListMCSess%2C%2C-1%7CTARSWBPers%2C%2C-1%7CSPMCSess%2C%2C-1%7CTheForkORSess%2C%2C-1%7CTheForkRRSess%2C%2C-1%7Cpers_rev%2C%2C-1%7CRBAPers%2C%2C-1%7CRestAds%2FRSess%2C%2C-1%7CHomeAPers%2C%2C-1%7CPremiumMobPers%2C%2C-1%7CRCSess%2C%2C-1%7CLaFourchette+MC+Banners%2C%2C-1%7CRestAdsCCSess%2C%2C-1%7CRestPremRPers%2C%2C-1%7CRevHubRMPers%2C%2C-1%7CUVOwnersPers%2C%2C-1%7Cpssamex%2C%2C-1%7CTheForkMCCSess%2C%2C-1%7CCrisisPers%2C%2C-1%7CCYLPers%2C%2C-1%7CCCPers%2C%2C-1%7CRepTarMCPers%2C%2C-1%7Cb2bmcsess%2C%2C-1%7CTSMCSess%2C%2C-1%7CSPMCPers%2C%2C-1%7CRevHubRMSess%2C%2C-1%7CPremRetSess%2C%2C-1%7CViatorMCSess%2C%2C-1%7CPremiumMCPers%2C%2C-1%7CAdsRetSess%2C%2C-1%7CPremiumRRPers%2C%2C-1%7CRestAdsCCPers%2C%2C-1%7CTADORPers%2C%2C-1%7CTheForkORPers%2C%2C-1%7CPremMCBtmPers%2C%2C-1%7CTheForkRRPers%2C%2C-1%7CTARSWBSess%2C%2C-1%7CPremiumORPers%2C%2C-1%7CRestAdsSess%2C%2C-1%7CRBASess%2C%2C-1%7CSPORPers%2C%2C-1%7Cperssticker%2C%2C-1%7CListMCPers%2C%2C-1%7C; Domain=.tripadvisor.co.id; Expires=Sat, 21-May-2033 17:56:11 GMT; Path=/\n",
      "header: set-cookie: BEPIN=%1%1884ee772f3%3Bweb221a.a.tripadvisor.com%3A30023%3B; Domain=.tripadvisor.co.id; Path=/\n",
      "header: set-cookie: PAC=AHfqgk5hnKGbkuDNtOL3Sw_3LiIjgUarbP3u_VhISmeItrTTwk0rW_Dpe3p6GetHwnLbGEMYpqsYb2j0m2HTtPkhQQq27d4AzfOTLO77kpd_1va-E2E9BhOojmKEnTHMeN53_QVqNySnzhdXVXzBStO2XyKi7ch4lUv7Hq2RDE2oZIXALqGzPqX3LR6F5P2txY0UPWAm191MhjHC6BMhR9z-oJH7TlaGDNfldo7NejR6; Domain=www.tripadvisor.co.id; Expires=Fri, 23-May-2025 17:56:11 GMT; Path=/; Secure; HttpOnly\n",
      "header: set-cookie: SRT=TART_SYNC; Domain=www.tripadvisor.co.id; Expires=Wed, 24-May-2023 18:26:11 GMT; Path=/\n",
      "header: set-cookie: TATravelInfo=V2*AY.2023*AM.6*AD.4*DY.2023*DM.6*DD.5*A.2*MG.-1*HP.2*FL.3*DSM.1684950971234*RS.1; Domain=.tripadvisor.co.id; Expires=Wed, 07-Jun-2023 17:56:11 GMT; Path=/\n",
      "header: set-cookie: TAUD=LG-1684950971105-2.1.F.*RDD-2-2023_05_25*HDD-3-2023_06_04.2023_06_05.1; Domain=.tripadvisor.co.id; Expires=Wed, 07-Jun-2023 17:56:11 GMT; Path=/\n",
      "header: set-cookie: TASID=345A36052E654128932BFA72C1E60966; Domain=www.tripadvisor.co.id; Expires=Wed, 24-May-2023 18:26:11 GMT; Path=/; Secure\n",
      "header: set-cookie: TAReturnTo=%1%%2FHotel_Review-g608487-d614386-Reviews-or160-Grand_Sinar_Indah_Hotel-Legian_Kuta_District_Bali.html; Domain=.tripadvisor.co.id; Path=/\n",
      "header: timing-allow-origin: https://www.tripadvisor.com\n",
      "header: content-type: text/html;charset=UTF-8\n",
      "header: x-datadome: protected\n",
      "header: accept-ch: Sec-CH-UA,Sec-CH-UA-Mobile,Sec-CH-UA-Platform,Sec-CH-UA-Arch,Sec-CH-UA-Full-Version-List,Sec-CH-UA-Model,Sec-CH-Device-Memory\n",
      "header: set-cookie: datadome=2c1dfbQzCE3wOSmjrH7qbFxJ5NEW_X81VIDuva50mIF1pepJ1g_UNPF9FtI3dXgPbbnol7ac4TfZ8jbdLEaNLOl9PJpmnn6RmTZMPyX7wDFEDWTcSe1qde3EHFwm3rOG; Max-Age=31104000; Domain=.tripadvisor.co.id; Path=/; Secure; SameSite=Lax\n",
      "header: content-encoding: gzip\n",
      "header: x-request-id: 0787c06e-0a6e-4837-9268-09e43eac0d65\n",
      "header: Accept-Ranges: bytes\n",
      "header: Date: Wed, 24 May 2023 17:56:11 GMT\n",
      "header: Via: 1.1 varnish\n",
      "header: X-Served-By: cache-qpg1246-QPG\n",
      "header: X-Cache: MISS\n",
      "header: X-Cache-Hits: 0\n",
      "header: X-Timer: S1684950971.960780,VS0,VE732\n",
      "header: Vary: Accept-Encoding\n",
      "header: transfer-encoding: chunked\n",
      "Done Scrapping Grand Sinar Indah Hotel page 32\n",
      "\n",
      "\n"
     ]
    },
    {
     "name": "stderr",
     "output_type": "stream",
     "text": [
      "DEBUG:urllib3.connectionpool:Starting new HTTPS connection (1): www.tripadvisor.co.id:443\n"
     ]
    },
    {
     "name": "stdout",
     "output_type": "stream",
     "text": [
      "send: b'GET /Hotel_Review-g608487-d614386-Reviews-or165-Grand_Sinar_Indah_Hotel-Legian_Kuta_District_Bali.html HTTP/1.1\\r\\nHost: www.tripadvisor.co.id\\r\\nUser-Agent: Mozilla/5.0 (X11; CrOS x86_64 12871.102.0) AppleWebKit/537.36 (KHTML, like Gecko) Chrome/81.0.4044.141 Safari/537.36\\r\\nAccept-Encoding: gzip, deflate\\r\\nAccept: */*\\r\\nConnection: keep-alive\\r\\n\\r\\n'\n"
     ]
    },
    {
     "name": "stderr",
     "output_type": "stream",
     "text": [
      "DEBUG:urllib3.connectionpool:https://www.tripadvisor.co.id:443 \"GET /Hotel_Review-g608487-d614386-Reviews-or165-Grand_Sinar_Indah_Hotel-Legian_Kuta_District_Bali.html HTTP/1.1\" 200 None\n"
     ]
    },
    {
     "name": "stdout",
     "output_type": "stream",
     "text": [
      "reply: 'HTTP/1.1 200 OK\\r\\n'\n",
      "header: Connection: keep-alive\n",
      "header: server: envoy\n",
      "header: link: <https://media-cdn.tripadvisor.com/media/>;rel=\"preconnect\";crossorigin\n",
      "header: link: <https://media-cdn.tripadvisor.com/media/>;rel=\"dns-prefetch\"\n",
      "header: link: <https://static.tacdn.com>;rel=\"preconnect\";crossorigin\n",
      "header: p3p: CP=\"NOI CURa ADMa DEVa TAIa OUR BUS IND UNI COM NAV INT DSP COR CAO PSA IDC ADM DEVi TAIi PSD IVAi IVDi CONi HIS CNT\"\n",
      "header: pragma: no-cache\n",
      "header: cache-control: no-cache, no-store, must-revalidate\n",
      "header: expires: 0\n",
      "header: content-language: id\n",
      "header: link: <https://static.tacdn.com>;rel=\"dns-prefetch\"\n",
      "header: set-cookie: TADCID=-PAraNwucvdHOfe7ABQCXdElnkGETRW-Svh01l3nWnW7IZ0HYZPY1NwtDkjpy2Ry3vRDvkC3xQY7YABsXy-vuH4t1jm7rFNuj-4; Domain=www.tripadvisor.co.id; Expires=Sat, 21-May-2033 17:56:16 GMT; Path=/; Secure; HttpOnly\n",
      "header: set-cookie: TAUnique=%1%enc%3ATT0OJjZFfNaCNtgs%2BCN3NtMU7Qvm6JuhBPA%2Bt4r9ekK2aVl7v%2Fy9pw%3D%3D; Domain=.tripadvisor.co.id; Expires=Fri, 23-May-2025 17:56:16 GMT; Path=/; HttpOnly\n",
      "header: set-cookie: __vt=9-a8VqqcfHefDX5-ABQCwDrKuA05TCmUEEd0_4-PPCWYwQt2OOzNJlotK5pcVN_7xmJC_OfUlrtDceKa9DgURei3sn3g7evhqg-vmtMU-HXJoXsVIQKsrhSGVnzU-OFl1M3fhNSPcBxgAbcz-TVhL_CTVg; Domain=www.tripadvisor.co.id; Expires=Wed, 24-May-2023 18:56:16 GMT; Path=/; Secure; HttpOnly\n",
      "header: set-cookie: TASSK=enc%3AAI2S8YEqU%2FmkIP6K2cBDCFvkM3tqQbmEGqJy3AcH70hNFwT5DuOgZNcJ1TxgCa%2BBCDv0LA2mk8FXSNmBC4vKrHNFQPG0%2F02FBPdbBNds6IEQom4PK1SYwKCmHtyRFt6uLQ%3D%3D; Domain=www.tripadvisor.co.id; Expires=Mon, 20-Nov-2023 17:56:16 GMT; Path=/; HttpOnly\n",
      "header: set-cookie: TASession=V2ID.0BA80F7CC59F4C99A246DD8D7E65A845*SQ.1*HS.recommended*ES.popularity*DS.5*SAS.popularity*FPS.oldFirst*LF.in*FA.1*DF.0*TRA.true*LD.614386*EAU._; Domain=.tripadvisor.co.id; Path=/\n",
      "header: set-cookie: ServerPool=X; Domain=.tripadvisor.co.id; Path=/\n",
      "header: set-cookie: PMC=V2*MS.2*MD.20230524*LD.20230524; Domain=www.tripadvisor.co.id; Expires=Fri, 23-May-2025 17:56:16 GMT; Path=/; Secure; HttpOnly\n",
      "header: set-cookie: TART=%1%enc%3AgjbYLPgjdzbSKxQTbP2BhxghvsC53buf%2BfblRjUFGCTGDuR3eV2M%2BWrNIFjBD3m4F3wAGRC0vyA%3D; Domain=www.tripadvisor.co.id; Expires=Mon, 29-May-2023 17:56:16 GMT; Path=/; HttpOnly\n",
      "header: set-cookie: CM=%1%PremiumMobSess%2C%2C-1%7Ct4b-pc%2C%2C-1%7CRestAds%2FRPers%2C%2C-1%7CRCPers%2C%2C-1%7CWShadeSeen%2C%2C-1%7CTheForkMCCPers%2C%2C-1%7CHomeASess%2C%2C-1%7CPremiumMCSess%2C%2C-1%7CCrisisSess%2C%2C-1%7CUVOwnersSess%2C%2C-1%7CRestPremRSess%2C%2C-1%7CRepTarMCSess%2C%2C-1%7CCCSess%2C%2C-1%7CCYLSess%2C%2C-1%7CPremRetPers%2C%2C-1%7CViatorMCPers%2C%2C-1%7Csesssticker%2C%2C-1%7C%24%2C%2C-1%7CPremiumORSess%2C%2C-1%7Ct4b-sc%2C%2C-1%7CRestAdsPers%2C%2C-1%7CMC_IB_UPSELL_IB_LOGOS2%2C%2C-1%7CTSMCPers%2C%2C-1%7Cb2bmcpers%2C%2C-1%7CPremMCBtmSess%2C%2C-1%7CMC_IB_UPSELL_IB_LOGOS%2C%2C-1%7CLaFourchette+Banners%2C%2C-1%7Csess_rev%2C%2C-1%7Csessamex%2C%2C-1%7CPremiumRRSess%2C%2C-1%7CTADORSess%2C%2C-1%7CAdsRetPers%2C%2C-1%7CListMCSess%2C%2C-1%7CTARSWBPers%2C%2C-1%7CSPMCSess%2C%2C-1%7CTheForkORSess%2C%2C-1%7CTheForkRRSess%2C%2C-1%7Cpers_rev%2C%2C-1%7CRBAPers%2C%2C-1%7CRestAds%2FRSess%2C%2C-1%7CHomeAPers%2C%2C-1%7CPremiumMobPers%2C%2C-1%7CRCSess%2C%2C-1%7CLaFourchette+MC+Banners%2C%2C-1%7CRestAdsCCSess%2C%2C-1%7CRestPremRPers%2C%2C-1%7CRevHubRMPers%2C%2C-1%7CUVOwnersPers%2C%2C-1%7Cpssamex%2C%2C-1%7CTheForkMCCSess%2C%2C-1%7CCrisisPers%2C%2C-1%7CCYLPers%2C%2C-1%7CCCPers%2C%2C-1%7CRepTarMCPers%2C%2C-1%7Cb2bmcsess%2C%2C-1%7CTSMCSess%2C%2C-1%7CSPMCPers%2C%2C-1%7CRevHubRMSess%2C%2C-1%7CPremRetSess%2C%2C-1%7CViatorMCSess%2C%2C-1%7CPremiumMCPers%2C%2C-1%7CAdsRetSess%2C%2C-1%7CPremiumRRPers%2C%2C-1%7CRestAdsCCPers%2C%2C-1%7CTADORPers%2C%2C-1%7CTheForkORPers%2C%2C-1%7CPremMCBtmPers%2C%2C-1%7CTheForkRRPers%2C%2C-1%7CTARSWBSess%2C%2C-1%7CPremiumORPers%2C%2C-1%7CRestAdsSess%2C%2C-1%7CRBASess%2C%2C-1%7CSPORPers%2C%2C-1%7Cperssticker%2C%2C-1%7CListMCPers%2C%2C-1%7C; Domain=.tripadvisor.co.id; Expires=Sat, 21-May-2033 17:56:16 GMT; Path=/\n",
      "header: set-cookie: BEPIN=%1%1884ee7871f%3Bweb303a.a.tripadvisor.com%3A30023%3B; Domain=.tripadvisor.co.id; Path=/\n",
      "header: set-cookie: PAC=AHKvF364LiiyhyP8Vlav3huXQscMJmCbne8L--IAdAVgJAkCv5hou8Ik8by4Fen5siNnRUZsL-_Y7OaUWjLMN_hf-0S5XyraFWJRDt2ZXMJE56-CAfG-3qUEZWq4ymUjuQuKBJ1w31IBAuRlwDkL1YY__LCztJPjoIZaNdqxKXlwWIS7m7t8ClGDAGxxsMX7vRyhYUZwweOV179RIH03zspfXxZPsGY7F8Yt0Fj-MPpH; Domain=www.tripadvisor.co.id; Expires=Fri, 23-May-2025 17:56:16 GMT; Path=/; Secure; HttpOnly\n",
      "header: set-cookie: SRT=TART_SYNC; Domain=www.tripadvisor.co.id; Expires=Wed, 24-May-2023 18:26:16 GMT; Path=/\n",
      "header: set-cookie: TATravelInfo=V2*AY.2023*AM.6*AD.4*DY.2023*DM.6*DD.5*A.2*MG.-1*HP.2*FL.3*DSM.1684950976416*RS.1; Domain=.tripadvisor.co.id; Expires=Wed, 07-Jun-2023 17:56:16 GMT; Path=/\n",
      "header: set-cookie: TAUD=LG-1684950976263-2.1.F.*RDD-2-2023_05_25*HDD-3-2023_06_04.2023_06_05.1; Domain=.tripadvisor.co.id; Expires=Wed, 07-Jun-2023 17:56:16 GMT; Path=/\n",
      "header: set-cookie: TASID=0BA80F7CC59F4C99A246DD8D7E65A845; Domain=www.tripadvisor.co.id; Expires=Wed, 24-May-2023 18:26:16 GMT; Path=/; Secure\n",
      "header: set-cookie: TAReturnTo=%1%%2FHotel_Review-g608487-d614386-Reviews-or165-Grand_Sinar_Indah_Hotel-Legian_Kuta_District_Bali.html; Domain=.tripadvisor.co.id; Path=/\n",
      "header: timing-allow-origin: https://www.tripadvisor.com\n",
      "header: content-type: text/html;charset=UTF-8\n",
      "header: accept-ch: Sec-CH-UA,Sec-CH-UA-Mobile,Sec-CH-UA-Platform,Sec-CH-UA-Arch,Sec-CH-UA-Full-Version-List,Sec-CH-UA-Model,Sec-CH-Device-Memory\n",
      "header: set-cookie: datadome=401V4TeeTjT-IBqZsY8TJAvMwSaxv-Q3FYFU7VgLzuA8LULy2Lq~6GchaEVhlRExHE4_-fZSi-FGgCdj-U3Kctom-V7v_cIzPeziz9vpvm-7WsFFcGliAT1-R7hoqu1i; Max-Age=31104000; Domain=.tripadvisor.co.id; Path=/; Secure; SameSite=Lax\n",
      "header: x-datadome: protected\n",
      "header: content-encoding: gzip\n",
      "header: x-request-id: 0f6bcf4d-3116-4951-a766-e23ce3bd9236\n",
      "header: Accept-Ranges: bytes\n",
      "header: Date: Wed, 24 May 2023 17:56:16 GMT\n",
      "header: Via: 1.1 varnish\n",
      "header: X-Served-By: cache-qpg1224-QPG\n",
      "header: X-Cache: MISS\n",
      "header: X-Cache-Hits: 0\n",
      "header: X-Timer: S1684950976.134448,VS0,VE826\n",
      "header: Vary: Accept-Encoding\n",
      "header: transfer-encoding: chunked\n",
      "Done Scrapping Grand Sinar Indah Hotel page 33\n",
      "\n",
      "\n"
     ]
    },
    {
     "name": "stderr",
     "output_type": "stream",
     "text": [
      "DEBUG:urllib3.connectionpool:Starting new HTTPS connection (1): www.tripadvisor.co.id:443\n"
     ]
    },
    {
     "name": "stdout",
     "output_type": "stream",
     "text": [
      "send: b'GET /Hotel_Review-g608487-d614386-Reviews-or170-Grand_Sinar_Indah_Hotel-Legian_Kuta_District_Bali.html HTTP/1.1\\r\\nHost: www.tripadvisor.co.id\\r\\nUser-Agent: Mozilla/5.0 (X11; CrOS x86_64 12871.102.0) AppleWebKit/537.36 (KHTML, like Gecko) Chrome/81.0.4044.141 Safari/537.36\\r\\nAccept-Encoding: gzip, deflate\\r\\nAccept: */*\\r\\nConnection: keep-alive\\r\\n\\r\\n'\n"
     ]
    },
    {
     "name": "stderr",
     "output_type": "stream",
     "text": [
      "DEBUG:urllib3.connectionpool:https://www.tripadvisor.co.id:443 \"GET /Hotel_Review-g608487-d614386-Reviews-or170-Grand_Sinar_Indah_Hotel-Legian_Kuta_District_Bali.html HTTP/1.1\" 200 None\n"
     ]
    },
    {
     "name": "stdout",
     "output_type": "stream",
     "text": [
      "reply: 'HTTP/1.1 200 OK\\r\\n'\n",
      "header: Connection: keep-alive\n",
      "header: server: envoy\n",
      "header: link: <https://media-cdn.tripadvisor.com/media/>;rel=\"preconnect\";crossorigin\n",
      "header: link: <https://media-cdn.tripadvisor.com/media/>;rel=\"dns-prefetch\"\n",
      "header: link: <https://static.tacdn.com>;rel=\"preconnect\";crossorigin\n",
      "header: p3p: CP=\"NOI CURa ADMa DEVa TAIa OUR BUS IND UNI COM NAV INT DSP COR CAO PSA IDC ADM DEVi TAIi PSD IVAi IVDi CONi HIS CNT\"\n",
      "header: pragma: no-cache\n",
      "header: cache-control: no-cache, no-store, must-revalidate\n",
      "header: expires: 0\n",
      "header: content-language: id\n",
      "header: link: <https://static.tacdn.com>;rel=\"dns-prefetch\"\n",
      "header: set-cookie: TADCID=wLc85vfcbWro0bCqABQCXdElnkGETRW-Svh01l3nWnW7ISrfAuHhGPNbOFzlo4bEUiQZ_ge2KyoSmRUGJwDZrucspgxgd67u70I; Domain=www.tripadvisor.co.id; Expires=Sat, 21-May-2033 17:56:21 GMT; Path=/; Secure; HttpOnly\n",
      "header: set-cookie: TAUnique=%1%enc%3AwKqxFrOQIPCCNtgs%2BCN3NtMU7Qvm6JuhkGYVzdB2YYtETN7cevmVog%3D%3D; Domain=.tripadvisor.co.id; Expires=Fri, 23-May-2025 17:56:21 GMT; Path=/; HttpOnly\n",
      "header: set-cookie: __vt=Tuuzj5UQFD9sH2PJABQCwDrKuA05TCmUEEd0_4-PPCWYwS9OGf9qtlbpH_n1V1Fuk3zifaw6868I8Nqq0MVglQ4y_t0NneR6nrkjoCqcbz2T6nW2KPP-i8uJNUezevVlsnzY6DWECa8ep2ONsRj4cCw; Domain=www.tripadvisor.co.id; Expires=Wed, 24-May-2023 18:56:21 GMT; Path=/; Secure; HttpOnly\n",
      "header: set-cookie: TASSK=enc%3AAAMW8bW1dODsKF%2BCb6JqRNvqwuMMmcgpySSuzsRXdbx5u6Ch1caiHf4XqAy76v6BLQ32kTheY2yAWM%2BPHQtVhPoWW8eC3LW39bt4cuFSFVhmWm9Q9TQT43CHknyBI%2B8oeQ%3D%3D; Domain=www.tripadvisor.co.id; Expires=Mon, 20-Nov-2023 17:56:21 GMT; Path=/; HttpOnly\n",
      "header: set-cookie: TASession=V2ID.D1BCA3B2B40D47FFB4D2F31B3C58089D*SQ.1*HS.recommended*ES.popularity*DS.5*SAS.popularity*FPS.oldFirst*LF.in*FA.1*DF.0*TRA.true*LD.614386*EAU._; Domain=.tripadvisor.co.id; Path=/\n",
      "header: set-cookie: ServerPool=X; Domain=.tripadvisor.co.id; Path=/\n",
      "header: set-cookie: PMC=V2*MS.39*MD.20230524*LD.20230524; Domain=www.tripadvisor.co.id; Expires=Fri, 23-May-2025 17:56:21 GMT; Path=/; Secure; HttpOnly\n",
      "header: set-cookie: TART=%1%enc%3AgjbYLPgjdzbSKxQTbP2Bh6FpDkqGjdliuzfdJpTuPLVvUl819oxZOSU1XCc9JClf%2F4BPpS2NOCg%3D; Domain=www.tripadvisor.co.id; Expires=Mon, 29-May-2023 17:56:21 GMT; Path=/; HttpOnly\n",
      "header: set-cookie: CM=%1%PremiumMobSess%2C%2C-1%7Ct4b-pc%2C%2C-1%7CRestAds%2FRPers%2C%2C-1%7CRCPers%2C%2C-1%7CWShadeSeen%2C%2C-1%7CTheForkMCCPers%2C%2C-1%7CHomeASess%2C%2C-1%7CPremiumMCSess%2C%2C-1%7CCrisisSess%2C%2C-1%7CUVOwnersSess%2C%2C-1%7CRestPremRSess%2C%2C-1%7CRepTarMCSess%2C%2C-1%7CCCSess%2C%2C-1%7CCYLSess%2C%2C-1%7CPremRetPers%2C%2C-1%7CViatorMCPers%2C%2C-1%7Csesssticker%2C%2C-1%7C%24%2C%2C-1%7CPremiumORSess%2C%2C-1%7Ct4b-sc%2C%2C-1%7CRestAdsPers%2C%2C-1%7CMC_IB_UPSELL_IB_LOGOS2%2C%2C-1%7CTSMCPers%2C%2C-1%7Cb2bmcpers%2C%2C-1%7CPremMCBtmSess%2C%2C-1%7CMC_IB_UPSELL_IB_LOGOS%2C%2C-1%7CLaFourchette+Banners%2C%2C-1%7Csess_rev%2C%2C-1%7Csessamex%2C%2C-1%7CPremiumRRSess%2C%2C-1%7CTADORSess%2C%2C-1%7CAdsRetPers%2C%2C-1%7CListMCSess%2C%2C-1%7CTARSWBPers%2C%2C-1%7CSPMCSess%2C%2C-1%7CTheForkORSess%2C%2C-1%7CTheForkRRSess%2C%2C-1%7Cpers_rev%2C%2C-1%7CRBAPers%2C%2C-1%7CRestAds%2FRSess%2C%2C-1%7CHomeAPers%2C%2C-1%7CPremiumMobPers%2C%2C-1%7CRCSess%2C%2C-1%7CLaFourchette+MC+Banners%2C%2C-1%7CRestAdsCCSess%2C%2C-1%7CRestPremRPers%2C%2C-1%7CRevHubRMPers%2C%2C-1%7CUVOwnersPers%2C%2C-1%7Cpssamex%2C%2C-1%7CTheForkMCCSess%2C%2C-1%7CCrisisPers%2C%2C-1%7CCYLPers%2C%2C-1%7CCCPers%2C%2C-1%7CRepTarMCPers%2C%2C-1%7Cb2bmcsess%2C%2C-1%7CTSMCSess%2C%2C-1%7CSPMCPers%2C%2C-1%7CRevHubRMSess%2C%2C-1%7CPremRetSess%2C%2C-1%7CViatorMCSess%2C%2C-1%7CPremiumMCPers%2C%2C-1%7CAdsRetSess%2C%2C-1%7CPremiumRRPers%2C%2C-1%7CRestAdsCCPers%2C%2C-1%7CTADORPers%2C%2C-1%7CTheForkORPers%2C%2C-1%7CPremMCBtmPers%2C%2C-1%7CTheForkRRPers%2C%2C-1%7CTARSWBSess%2C%2C-1%7CPremiumORPers%2C%2C-1%7CRestAdsSess%2C%2C-1%7CRBASess%2C%2C-1%7CSPORPers%2C%2C-1%7Cperssticker%2C%2C-1%7CListMCPers%2C%2C-1%7C; Domain=.tripadvisor.co.id; Expires=Sat, 21-May-2033 17:56:21 GMT; Path=/\n",
      "header: set-cookie: BEPIN=%1%1884ee79a4f%3Bweb788a.a.tripadvisor.com%3A30023%3B; Domain=.tripadvisor.co.id; Path=/\n",
      "header: set-cookie: PAC=AOtf6vfkyQtfXy6k9f5-5gWZTM7oCSVrfFB3TOICHZo2yH4pFiZ2fc29hjF3VNXR9FW7ImHpXlzBZXl-SjAbRxmTspSeQvH3uLeZkN3olM4l9KA8PL3F1ScAUGYKI7Sgn6jOPtUmUnbWkewxh3rhryjXceN0foSgAVlf732mTmPpVB0ZPmheSxMFm4g6bNn-_6Om-MbErf9cc5oiGDrxeousLQ4rXPBS_BHyrclKX2Ea; Domain=www.tripadvisor.co.id; Expires=Fri, 23-May-2025 17:56:21 GMT; Path=/; Secure; HttpOnly\n",
      "header: set-cookie: SRT=TART_SYNC; Domain=www.tripadvisor.co.id; Expires=Wed, 24-May-2023 18:26:21 GMT; Path=/\n",
      "header: set-cookie: TATravelInfo=V2*AY.2023*AM.6*AD.4*DY.2023*DM.6*DD.5*A.2*MG.-1*HP.2*FL.3*DSM.1684950981302*RS.1; Domain=.tripadvisor.co.id; Expires=Wed, 07-Jun-2023 17:56:21 GMT; Path=/\n",
      "header: set-cookie: TAUD=LG-1684950981176-2.1.F.*RDD-2-2023_05_25*HDD-3-2023_06_04.2023_06_05.1; Domain=.tripadvisor.co.id; Expires=Wed, 07-Jun-2023 17:56:21 GMT; Path=/\n",
      "header: set-cookie: TASID=D1BCA3B2B40D47FFB4D2F31B3C58089D; Domain=www.tripadvisor.co.id; Expires=Wed, 24-May-2023 18:26:21 GMT; Path=/; Secure\n",
      "header: set-cookie: TAReturnTo=%1%%2FHotel_Review-g608487-d614386-Reviews-or170-Grand_Sinar_Indah_Hotel-Legian_Kuta_District_Bali.html; Domain=.tripadvisor.co.id; Path=/\n",
      "header: timing-allow-origin: https://www.tripadvisor.com\n",
      "header: content-type: text/html;charset=UTF-8\n",
      "header: accept-ch: Sec-CH-UA,Sec-CH-UA-Mobile,Sec-CH-UA-Platform,Sec-CH-UA-Arch,Sec-CH-UA-Full-Version-List,Sec-CH-UA-Model,Sec-CH-Device-Memory\n",
      "header: set-cookie: datadome=J0tp62K1vu-yKdWYfV_Ljb-zAAH4P8SgwOWUT~Sf-MdI6sAKqA6Vnn3DPp5265-4fisGyPwBWU4JZdT~A3r_beRuWoUBDQ2sH9Kv~IyZyoLAT_u4B_AbVCnnlsmje9i; Max-Age=31104000; Domain=.tripadvisor.co.id; Path=/; Secure; SameSite=Lax\n",
      "header: x-datadome: protected\n",
      "header: content-encoding: gzip\n",
      "header: x-request-id: 09f28421-756e-4ca6-9b44-c35c06180778\n",
      "header: Accept-Ranges: bytes\n",
      "header: Date: Wed, 24 May 2023 17:56:21 GMT\n",
      "header: Via: 1.1 varnish\n",
      "header: X-Served-By: cache-qpg1241-QPG\n",
      "header: X-Cache: MISS\n",
      "header: X-Cache-Hits: 0\n",
      "header: X-Timer: S1684950981.049744,VS0,VE688\n",
      "header: Vary: Accept-Encoding\n",
      "header: transfer-encoding: chunked\n",
      "Done Scrapping Grand Sinar Indah Hotel page 34\n",
      "\n",
      "\n"
     ]
    },
    {
     "name": "stderr",
     "output_type": "stream",
     "text": [
      "DEBUG:urllib3.connectionpool:Starting new HTTPS connection (1): www.tripadvisor.co.id:443\n"
     ]
    },
    {
     "name": "stdout",
     "output_type": "stream",
     "text": [
      "send: b'GET /Hotel_Review-g608487-d614386-Reviews-or175-Grand_Sinar_Indah_Hotel-Legian_Kuta_District_Bali.html HTTP/1.1\\r\\nHost: www.tripadvisor.co.id\\r\\nUser-Agent: Mozilla/5.0 (X11; CrOS x86_64 12871.102.0) AppleWebKit/537.36 (KHTML, like Gecko) Chrome/81.0.4044.141 Safari/537.36\\r\\nAccept-Encoding: gzip, deflate\\r\\nAccept: */*\\r\\nConnection: keep-alive\\r\\n\\r\\n'\n"
     ]
    },
    {
     "name": "stderr",
     "output_type": "stream",
     "text": [
      "DEBUG:urllib3.connectionpool:https://www.tripadvisor.co.id:443 \"GET /Hotel_Review-g608487-d614386-Reviews-or175-Grand_Sinar_Indah_Hotel-Legian_Kuta_District_Bali.html HTTP/1.1\" 200 None\n"
     ]
    },
    {
     "name": "stdout",
     "output_type": "stream",
     "text": [
      "reply: 'HTTP/1.1 200 OK\\r\\n'\n",
      "header: Connection: keep-alive\n",
      "header: server: envoy\n",
      "header: link: <https://media-cdn.tripadvisor.com/media/>;rel=\"preconnect\";crossorigin\n",
      "header: link: <https://media-cdn.tripadvisor.com/media/>;rel=\"dns-prefetch\"\n",
      "header: link: <https://static.tacdn.com>;rel=\"preconnect\";crossorigin\n",
      "header: p3p: CP=\"NOI CURa ADMa DEVa TAIa OUR BUS IND UNI COM NAV INT DSP COR CAO PSA IDC ADM DEVi TAIi PSD IVAi IVDi CONi HIS CNT\"\n",
      "header: pragma: no-cache\n",
      "header: cache-control: no-cache, no-store, must-revalidate\n",
      "header: expires: 0\n",
      "header: content-language: id\n",
      "header: link: <https://static.tacdn.com>;rel=\"dns-prefetch\"\n",
      "header: set-cookie: TADCID=qn4XmDUzsLlLVMMCABQCXdElnkGETRW-Svh01l3nWnW7IRzOcEtsOLwuXtPuAPGV3ZmgawNsfzADUFWASVpbdwRA9kyPjll5Ghk; Domain=www.tripadvisor.co.id; Expires=Sat, 21-May-2033 17:56:26 GMT; Path=/; Secure; HttpOnly\n",
      "header: set-cookie: TAUnique=%1%enc%3AayfAkwbJJeeCNtgs%2BCN3NtMU7Qvm6Juh7T8wozOXvA9Tw7VedIhc%2Fw%3D%3D; Domain=.tripadvisor.co.id; Expires=Fri, 23-May-2025 17:56:26 GMT; Path=/; HttpOnly\n",
      "header: set-cookie: __vt=mi88V-UnugYwWRvIABQCwDrKuA05TCmUEEd0_4-PPCWYwTaWv6wHHuWzLxnqMqnehmwwY1dgj73GhfIBmAlNyE9ZhFCSBYA9raIdoFRUqWG4-QyPZGTUJjBJ7_Cy6D8c7LePI5uh8NW5lWK_Dis7ix9t1g; Domain=www.tripadvisor.co.id; Expires=Wed, 24-May-2023 18:56:26 GMT; Path=/; Secure; HttpOnly\n",
      "header: set-cookie: TASSK=enc%3AAOKgNaXeHhj7WTZR%2Fsv%2BV%2ByWAYjUMHf8cuT2KmV3DQmWGjGG65iSA%2F4FChGxfNvAtBMOXOFj5xNq4sJEe16%2Fn4g2vGrkyJXiwJlU4GVPCr8oluQVDX3H1SwWoKe1ecufSA%3D%3D; Domain=www.tripadvisor.co.id; Expires=Mon, 20-Nov-2023 17:56:26 GMT; Path=/; HttpOnly\n",
      "header: set-cookie: TASession=V2ID.0DDD832305C943CB98AC13880D567A7C*SQ.1*HS.recommended*ES.popularity*DS.5*SAS.popularity*FPS.oldFirst*LF.in*FA.1*DF.0*TRA.true*LD.614386*EAU._; Domain=.tripadvisor.co.id; Path=/\n",
      "header: set-cookie: ServerPool=C; Domain=.tripadvisor.co.id; Path=/\n",
      "header: set-cookie: PMC=V2*MS.2*MD.20230524*LD.20230524; Domain=www.tripadvisor.co.id; Expires=Fri, 23-May-2025 17:56:26 GMT; Path=/; Secure; HttpOnly\n",
      "header: set-cookie: TART=%1%enc%3AgjbYLPgjdzbSKxQTbP2Bh6K8FN3hSxjCWs%2FfwuXi7vJq2sx3IfBvhKP5SbCpkUKJ1e4An2DcAwI%3D; Domain=www.tripadvisor.co.id; Expires=Mon, 29-May-2023 17:56:26 GMT; Path=/; HttpOnly\n",
      "header: set-cookie: CM=%1%PremiumMobSess%2C%2C-1%7Ct4b-pc%2C%2C-1%7CRestAds%2FRPers%2C%2C-1%7CRCPers%2C%2C-1%7CWShadeSeen%2C%2C-1%7CTheForkMCCPers%2C%2C-1%7CHomeASess%2C%2C-1%7CPremiumMCSess%2C%2C-1%7CCrisisSess%2C%2C-1%7CUVOwnersSess%2C%2C-1%7CRestPremRSess%2C%2C-1%7CRepTarMCSess%2C%2C-1%7CCCSess%2C%2C-1%7CCYLSess%2C%2C-1%7CPremRetPers%2C%2C-1%7CViatorMCPers%2C%2C-1%7Csesssticker%2C%2C-1%7C%24%2C%2C-1%7CPremiumORSess%2C%2C-1%7Ct4b-sc%2C%2C-1%7CRestAdsPers%2C%2C-1%7CMC_IB_UPSELL_IB_LOGOS2%2C%2C-1%7CTSMCPers%2C%2C-1%7Cb2bmcpers%2C%2C-1%7CPremMCBtmSess%2C%2C-1%7CMC_IB_UPSELL_IB_LOGOS%2C%2C-1%7CLaFourchette+Banners%2C%2C-1%7Csess_rev%2C%2C-1%7Csessamex%2C%2C-1%7CPremiumRRSess%2C%2C-1%7CTADORSess%2C%2C-1%7CAdsRetPers%2C%2C-1%7CListMCSess%2C%2C-1%7CTARSWBPers%2C%2C-1%7CSPMCSess%2C%2C-1%7CTheForkORSess%2C%2C-1%7CTheForkRRSess%2C%2C-1%7Cpers_rev%2C%2C-1%7CRBAPers%2C%2C-1%7CRestAds%2FRSess%2C%2C-1%7CHomeAPers%2C%2C-1%7CPremiumMobPers%2C%2C-1%7CRCSess%2C%2C-1%7CLaFourchette+MC+Banners%2C%2C-1%7CRestAdsCCSess%2C%2C-1%7CRestPremRPers%2C%2C-1%7CRevHubRMPers%2C%2C-1%7CUVOwnersPers%2C%2C-1%7Cpssamex%2C%2C-1%7CTheForkMCCSess%2C%2C-1%7CCrisisPers%2C%2C-1%7CCYLPers%2C%2C-1%7CCCPers%2C%2C-1%7CRepTarMCPers%2C%2C-1%7Cb2bmcsess%2C%2C-1%7CTSMCSess%2C%2C-1%7CSPMCPers%2C%2C-1%7CRevHubRMSess%2C%2C-1%7CPremRetSess%2C%2C-1%7CViatorMCSess%2C%2C-1%7CPremiumMCPers%2C%2C-1%7CAdsRetSess%2C%2C-1%7CPremiumRRPers%2C%2C-1%7CRestAdsCCPers%2C%2C-1%7CTADORPers%2C%2C-1%7CTheForkORPers%2C%2C-1%7CPremMCBtmPers%2C%2C-1%7CTheForkRRPers%2C%2C-1%7CTARSWBSess%2C%2C-1%7CPremiumORPers%2C%2C-1%7CRestAdsSess%2C%2C-1%7CRBASess%2C%2C-1%7CSPORPers%2C%2C-1%7Cperssticker%2C%2C-1%7CListMCPers%2C%2C-1%7C; Domain=.tripadvisor.co.id; Expires=Sat, 21-May-2033 17:56:26 GMT; Path=/\n",
      "header: set-cookie: BEPIN=%1%1884ee7ad73%3Bweb788a.a.tripadvisor.com%3A30023%3B; Domain=.tripadvisor.co.id; Path=/\n",
      "header: set-cookie: PAC=AAyRIxGQwYGmesNTocy5jiuCAyhA0HoEB5WZvMV_Sqqg3bto384_ks9EjpUBAl9izCkGXAqKiFdWyIFVcwnLMkwACNGO6-2S_QK5RCxt-bFk2_zFhhFo9NWa1Mdxy5_N3zbmwCPLKuDkI6iH6oSNE3eOnfPjpTDHpaQy3VGWcyFijpUpoosMbo5mB30XpqsYTCI93SOdW0S2AbBQbPJ21eLQmvXeoEqrnrDCLsxtFVI-; Domain=www.tripadvisor.co.id; Expires=Fri, 23-May-2025 17:56:26 GMT; Path=/; Secure; HttpOnly\n",
      "header: set-cookie: SRT=TART_SYNC; Domain=www.tripadvisor.co.id; Expires=Wed, 24-May-2023 18:26:26 GMT; Path=/\n",
      "header: set-cookie: TATravelInfo=V2*AY.2023*AM.6*AD.4*DY.2023*DM.6*DD.5*A.2*MG.-1*HP.2*FL.3*DSM.1684950986196*RS.1; Domain=.tripadvisor.co.id; Expires=Wed, 07-Jun-2023 17:56:26 GMT; Path=/\n",
      "header: set-cookie: TAUD=LG-1684950986058-2.1.F.*RDD-2-2023_05_25*HDD-3-2023_06_04.2023_06_05.1; Domain=.tripadvisor.co.id; Expires=Wed, 07-Jun-2023 17:56:26 GMT; Path=/\n",
      "header: set-cookie: TASID=0DDD832305C943CB98AC13880D567A7C; Domain=www.tripadvisor.co.id; Expires=Wed, 24-May-2023 18:26:26 GMT; Path=/; Secure\n",
      "header: set-cookie: TAReturnTo=%1%%2FHotel_Review-g608487-d614386-Reviews-or175-Grand_Sinar_Indah_Hotel-Legian_Kuta_District_Bali.html; Domain=.tripadvisor.co.id; Path=/\n",
      "header: timing-allow-origin: https://www.tripadvisor.com\n",
      "header: content-type: text/html;charset=UTF-8\n",
      "header: accept-ch: Sec-CH-UA,Sec-CH-UA-Mobile,Sec-CH-UA-Platform,Sec-CH-UA-Arch,Sec-CH-UA-Full-Version-List,Sec-CH-UA-Model,Sec-CH-Device-Memory\n",
      "header: x-datadome: protected\n",
      "header: set-cookie: datadome=2a9q74D2sU7KpJ_-5kiKCwwdFpNGMYlqHSD5cM8I1lfQ1NSn7q6CF78TAhcPGDJpKCGuqXy~kLJfj9AHAMZJjK0B-3Q0Vi-KJES4A3ziqalrsKeFd9MgonCabj7twa3v; Max-Age=31104000; Domain=.tripadvisor.co.id; Path=/; Secure; SameSite=Lax\n",
      "header: content-encoding: gzip\n",
      "header: x-request-id: 7052d69d-b999-4a76-b6c7-7f535db9b52a\n",
      "header: Accept-Ranges: bytes\n",
      "header: Date: Wed, 24 May 2023 17:56:26 GMT\n",
      "header: Via: 1.1 varnish\n",
      "header: X-Served-By: cache-qpg1238-QPG\n",
      "header: X-Cache: MISS\n",
      "header: X-Cache-Hits: 0\n",
      "header: X-Timer: S1684950986.913097,VS0,VE744\n",
      "header: Vary: Accept-Encoding\n",
      "header: transfer-encoding: chunked\n",
      "Done Scrapping Grand Sinar Indah Hotel page 35\n",
      "\n",
      "\n"
     ]
    },
    {
     "name": "stderr",
     "output_type": "stream",
     "text": [
      "DEBUG:urllib3.connectionpool:Starting new HTTPS connection (1): www.tripadvisor.co.id:443\n"
     ]
    },
    {
     "name": "stdout",
     "output_type": "stream",
     "text": [
      "send: b'GET /Hotel_Review-g608487-d614386-Reviews-or180-Grand_Sinar_Indah_Hotel-Legian_Kuta_District_Bali.html HTTP/1.1\\r\\nHost: www.tripadvisor.co.id\\r\\nUser-Agent: Mozilla/5.0 (X11; CrOS x86_64 12871.102.0) AppleWebKit/537.36 (KHTML, like Gecko) Chrome/81.0.4044.141 Safari/537.36\\r\\nAccept-Encoding: gzip, deflate\\r\\nAccept: */*\\r\\nConnection: keep-alive\\r\\n\\r\\n'\n"
     ]
    },
    {
     "name": "stderr",
     "output_type": "stream",
     "text": [
      "DEBUG:urllib3.connectionpool:https://www.tripadvisor.co.id:443 \"GET /Hotel_Review-g608487-d614386-Reviews-or180-Grand_Sinar_Indah_Hotel-Legian_Kuta_District_Bali.html HTTP/1.1\" 200 None\n"
     ]
    },
    {
     "name": "stdout",
     "output_type": "stream",
     "text": [
      "reply: 'HTTP/1.1 200 OK\\r\\n'\n",
      "header: Connection: keep-alive\n",
      "header: server: envoy\n",
      "header: link: <https://media-cdn.tripadvisor.com/media/>;rel=\"preconnect\";crossorigin\n",
      "header: link: <https://media-cdn.tripadvisor.com/media/>;rel=\"dns-prefetch\"\n",
      "header: link: <https://static.tacdn.com>;rel=\"preconnect\";crossorigin\n",
      "header: p3p: CP=\"NOI CURa ADMa DEVa TAIa OUR BUS IND UNI COM NAV INT DSP COR CAO PSA IDC ADM DEVi TAIi PSD IVAi IVDi CONi HIS CNT\"\n",
      "header: pragma: no-cache\n",
      "header: cache-control: no-cache, no-store, must-revalidate\n",
      "header: expires: 0\n",
      "header: content-language: id\n",
      "header: link: <https://static.tacdn.com>;rel=\"dns-prefetch\"\n",
      "header: set-cookie: TADCID=qv81Fy0D20BUtIhbABQCXdElnkGETRW-Svh01l3nWnW7IampWF5M0GUrkNl2nDtro3vwF8aeMdQHGLoaNfttJIYFkRlFa4OyDao; Domain=www.tripadvisor.co.id; Expires=Sat, 21-May-2033 17:56:30 GMT; Path=/; Secure; HttpOnly\n",
      "header: set-cookie: TAUnique=%1%enc%3AnTJ1BUTsWrKCNtgs%2BCN3NtMU7Qvm6JuhMVn43XNy%2BfNGuP%2BchnPs%2BQ%3D%3D; Domain=.tripadvisor.co.id; Expires=Fri, 23-May-2025 17:56:30 GMT; Path=/; HttpOnly\n",
      "header: set-cookie: __vt=nUfnH21oge5io1ZaABQCwDrKuA05TCmUEEd0_4-PPCWYwaQwjE7ZESQXUhLQtuUEmKomEWtUc2aySAKhEoxg64HEh2YFE2twod46iL0AS3kZr0CclWj4sqGnx89olxJBBCivndM-eUalBzhRQpTSkfSOhEk; Domain=www.tripadvisor.co.id; Expires=Wed, 24-May-2023 18:56:30 GMT; Path=/; Secure; HttpOnly\n",
      "header: set-cookie: TASSK=enc%3AANVN7UuoIJj72LsZljkmo7rPkuPeH3XGF719YEzjCMsnu7YoqcVaa0dXs6AsKyo%2FXWC%2FmYC7548lqGOzri7W2gUCwqLBACqQwfVf3nutESGNWOUigvFjnG33B9Qy9t5I0Q%3D%3D; Domain=www.tripadvisor.co.id; Expires=Mon, 20-Nov-2023 17:56:31 GMT; Path=/; HttpOnly\n",
      "header: set-cookie: TASession=V2ID.525025500DBC4A64BB4108A190934AA2*SQ.1*HS.recommended*ES.popularity*DS.5*SAS.popularity*FPS.oldFirst*LF.in*FA.1*DF.0*TRA.true*LD.614386*EAU._; Domain=.tripadvisor.co.id; Path=/\n",
      "header: set-cookie: ServerPool=B; Domain=.tripadvisor.co.id; Path=/\n",
      "header: set-cookie: PMC=V2*MS.86*MD.20230524*LD.20230524; Domain=www.tripadvisor.co.id; Expires=Fri, 23-May-2025 17:56:31 GMT; Path=/; Secure; HttpOnly\n",
      "header: set-cookie: TART=%1%enc%3AgjbYLPgjdzbSKxQTbP2Bh8GPBqCyUFtvcK8vA%2FOID9cWisSTNiofvkHURgG6mv5Fo1hILqh61C8%3D; Domain=www.tripadvisor.co.id; Expires=Mon, 29-May-2023 17:56:31 GMT; Path=/; HttpOnly\n",
      "header: set-cookie: CM=%1%PremiumMobSess%2C%2C-1%7Ct4b-pc%2C%2C-1%7CRestAds%2FRPers%2C%2C-1%7CRCPers%2C%2C-1%7CWShadeSeen%2C%2C-1%7CTheForkMCCPers%2C%2C-1%7CHomeASess%2C%2C-1%7CPremiumMCSess%2C%2C-1%7CCrisisSess%2C%2C-1%7CUVOwnersSess%2C%2C-1%7CRestPremRSess%2C%2C-1%7CRepTarMCSess%2C%2C-1%7CCCSess%2C%2C-1%7CCYLSess%2C%2C-1%7CPremRetPers%2C%2C-1%7CViatorMCPers%2C%2C-1%7Csesssticker%2C%2C-1%7C%24%2C%2C-1%7CPremiumORSess%2C%2C-1%7Ct4b-sc%2C%2C-1%7CRestAdsPers%2C%2C-1%7CMC_IB_UPSELL_IB_LOGOS2%2C%2C-1%7CTSMCPers%2C%2C-1%7Cb2bmcpers%2C%2C-1%7CPremMCBtmSess%2C%2C-1%7CMC_IB_UPSELL_IB_LOGOS%2C%2C-1%7CLaFourchette+Banners%2C%2C-1%7Csess_rev%2C%2C-1%7Csessamex%2C%2C-1%7CPremiumRRSess%2C%2C-1%7CTADORSess%2C%2C-1%7CAdsRetPers%2C%2C-1%7CListMCSess%2C%2C-1%7CTARSWBPers%2C%2C-1%7CSPMCSess%2C%2C-1%7CTheForkORSess%2C%2C-1%7CTheForkRRSess%2C%2C-1%7Cpers_rev%2C%2C-1%7CRBAPers%2C%2C-1%7CRestAds%2FRSess%2C%2C-1%7CHomeAPers%2C%2C-1%7CPremiumMobPers%2C%2C-1%7CRCSess%2C%2C-1%7CLaFourchette+MC+Banners%2C%2C-1%7CRestAdsCCSess%2C%2C-1%7CRestPremRPers%2C%2C-1%7CRevHubRMPers%2C%2C-1%7CUVOwnersPers%2C%2C-1%7Cpssamex%2C%2C-1%7CTheForkMCCSess%2C%2C-1%7CCrisisPers%2C%2C-1%7CCYLPers%2C%2C-1%7CCCPers%2C%2C-1%7CRepTarMCPers%2C%2C-1%7Cb2bmcsess%2C%2C-1%7CTSMCSess%2C%2C-1%7CSPMCPers%2C%2C-1%7CRevHubRMSess%2C%2C-1%7CPremRetSess%2C%2C-1%7CViatorMCSess%2C%2C-1%7CPremiumMCPers%2C%2C-1%7CAdsRetSess%2C%2C-1%7CPremiumRRPers%2C%2C-1%7CRestAdsCCPers%2C%2C-1%7CTADORPers%2C%2C-1%7CTheForkORPers%2C%2C-1%7CPremMCBtmPers%2C%2C-1%7CTheForkRRPers%2C%2C-1%7CTARSWBSess%2C%2C-1%7CPremiumORPers%2C%2C-1%7CRestAdsSess%2C%2C-1%7CRBASess%2C%2C-1%7CSPORPers%2C%2C-1%7Cperssticker%2C%2C-1%7CListMCPers%2C%2C-1%7C; Domain=.tripadvisor.co.id; Expires=Sat, 21-May-2033 17:56:31 GMT; Path=/\n",
      "header: set-cookie: BEPIN=%1%1884ee7bf14%3Bweb303a.a.tripadvisor.com%3A30023%3B; Domain=.tripadvisor.co.id; Path=/\n",
      "header: set-cookie: PAC=AH_m8S4GDj-LSTHayx7M-m3uu_rpoJ9d8FgIicwfw5ubqDs2UH2he0Y2P7lOAtaw0u3hg5b68Y6YKZLl9luwAdPYm8cnbE62p5QEH1Ap1XVdMdwCbfsxgdWcEkgdGWS9N7YH3aeD61pqMfsE4kiKQ7d9AF3s2V0KqygD1ODHPgm3uRSCFW6rJwiymRWoK092UkcuHne_T-KROHp2opllr3gdGan3oMtnemU4CT1ehEvC; Domain=www.tripadvisor.co.id; Expires=Fri, 23-May-2025 17:56:31 GMT; Path=/; Secure; HttpOnly\n",
      "header: set-cookie: SRT=TART_SYNC; Domain=www.tripadvisor.co.id; Expires=Wed, 24-May-2023 18:26:31 GMT; Path=/\n",
      "header: set-cookie: TATravelInfo=V2*AY.2023*AM.6*AD.4*DY.2023*DM.6*DD.5*A.2*MG.-1*HP.2*FL.3*DSM.1684950990718*RS.1; Domain=.tripadvisor.co.id; Expires=Wed, 07-Jun-2023 17:56:31 GMT; Path=/\n",
      "header: set-cookie: TAUD=LG-1684950990592-2.1.F.*RDD-2-2023_05_25*HDD-3-2023_06_04.2023_06_05.1; Domain=.tripadvisor.co.id; Expires=Wed, 07-Jun-2023 17:56:31 GMT; Path=/\n",
      "header: set-cookie: TASID=525025500DBC4A64BB4108A190934AA2; Domain=www.tripadvisor.co.id; Expires=Wed, 24-May-2023 18:26:31 GMT; Path=/; Secure\n",
      "header: set-cookie: TAReturnTo=%1%%2FHotel_Review-g608487-d614386-Reviews-or180-Grand_Sinar_Indah_Hotel-Legian_Kuta_District_Bali.html; Domain=.tripadvisor.co.id; Path=/\n",
      "header: timing-allow-origin: https://www.tripadvisor.com\n",
      "header: content-type: text/html;charset=UTF-8\n",
      "header: x-datadome: protected\n",
      "header: set-cookie: datadome=41O~MGlN0o7fkMhSX3dKixaGKWBcWT4ZQI23YayhcYHhjFIXSHmbpuF9XpoGDWYntusMMbIXF9nvN60Kw255PHk9_46N6mqh-2Ec_iMva1RR401L1WToRvVlf7htrdMQ; Max-Age=31104000; Domain=.tripadvisor.co.id; Path=/; Secure; SameSite=Lax\n",
      "header: accept-ch: Sec-CH-UA,Sec-CH-UA-Mobile,Sec-CH-UA-Platform,Sec-CH-UA-Arch,Sec-CH-UA-Full-Version-List,Sec-CH-UA-Model,Sec-CH-Device-Memory\n",
      "header: content-encoding: gzip\n",
      "header: x-request-id: a3bbd50e-3c35-48ee-8901-9cf950a8610d\n",
      "header: Accept-Ranges: bytes\n",
      "header: Date: Wed, 24 May 2023 17:56:31 GMT\n",
      "header: Via: 1.1 varnish\n",
      "header: X-Served-By: cache-qpg1251-QPG\n",
      "header: X-Cache: MISS\n",
      "header: X-Cache-Hits: 0\n",
      "header: X-Timer: S1684950990.463635,VS0,VE852\n",
      "header: Vary: Accept-Encoding\n",
      "header: transfer-encoding: chunked\n",
      "Done Scrapping Grand Sinar Indah Hotel page 36\n",
      "\n",
      "\n"
     ]
    },
    {
     "ename": "KeyboardInterrupt",
     "evalue": "",
     "output_type": "error",
     "traceback": [
      "\u001b[1;31m---------------------------------------------------------------------------\u001b[0m",
      "\u001b[1;31mKeyboardInterrupt\u001b[0m                         Traceback (most recent call last)",
      "\u001b[1;32m~\\AppData\\Local\\Temp\\ipykernel_9156\\501579487.py\u001b[0m in \u001b[0;36m<module>\u001b[1;34m\u001b[0m\n\u001b[1;32m----> 1\u001b[1;33m \u001b[0mhotelScraper\u001b[0m\u001b[1;33m(\u001b[0m\u001b[1;33m)\u001b[0m\u001b[1;33m\u001b[0m\u001b[1;33m\u001b[0m\u001b[0m\n\u001b[0m",
      "\u001b[1;32m~\\AppData\\Local\\Temp\\ipykernel_9156\\2608974566.py\u001b[0m in \u001b[0;36mhotelScraper\u001b[1;34m()\u001b[0m\n\u001b[0;32m     34\u001b[0m             \u001b[0mprint\u001b[0m\u001b[1;33m(\u001b[0m\u001b[1;34mf\"Done Scrapping {hotel_name} page {cpages}\"\u001b[0m\u001b[1;33m)\u001b[0m\u001b[1;33m\u001b[0m\u001b[1;33m\u001b[0m\u001b[0m\n\u001b[0;32m     35\u001b[0m             \u001b[0mprint\u001b[0m\u001b[1;33m(\u001b[0m\u001b[1;34m'\\n'\u001b[0m\u001b[1;33m)\u001b[0m\u001b[1;33m\u001b[0m\u001b[1;33m\u001b[0m\u001b[0m\n\u001b[1;32m---> 36\u001b[1;33m             \u001b[0mtime\u001b[0m\u001b[1;33m.\u001b[0m\u001b[0msleep\u001b[0m\u001b[1;33m(\u001b[0m\u001b[1;36m3\u001b[0m\u001b[1;33m)\u001b[0m\u001b[1;33m\u001b[0m\u001b[1;33m\u001b[0m\u001b[0m\n\u001b[0m\u001b[0;32m     37\u001b[0m \u001b[1;33m\u001b[0m\u001b[0m\n\u001b[0;32m     38\u001b[0m             \u001b[1;31m# Make csv file\u001b[0m\u001b[1;33m\u001b[0m\u001b[1;33m\u001b[0m\u001b[1;33m\u001b[0m\u001b[0m\n",
      "\u001b[1;31mKeyboardInterrupt\u001b[0m: "
     ]
    }
   ],
   "source": [
    "hotelScraper()"
   ]
  },
  {
   "cell_type": "code",
   "execution_count": null,
   "metadata": {
    "colab": {
     "base_uri": "https://localhost:8080/"
    },
    "collapsed": true,
    "executionInfo": {
     "elapsed": 9,
     "status": "ok",
     "timestamp": 1682988686776,
     "user": {
      "displayName": "Prentino Barus",
      "userId": "03956176104375021641"
     },
     "user_tz": -420
    },
    "id": "qt5L-N2O2tz4",
    "outputId": "7bff15ee-8b14-4c2d-e5b7-78ce5bd877d9"
   },
   "outputs": [
    {
     "name": "stdout",
     "output_type": "stream",
     "text": [
      "All done.\n"
     ]
    }
   ],
   "source": [
    "print(\"All done.\")"
   ]
  }
 ],
 "metadata": {
  "colab": {
   "authorship_tag": "ABX9TyOv9x4QZrku5vhfQSMhcBl6",
   "name": "",
   "version": ""
  },
  "kernelspec": {
   "display_name": "Python 3 (ipykernel)",
   "language": "python",
   "name": "python3"
  },
  "language_info": {
   "codemirror_mode": {
    "name": "ipython",
    "version": 3
   },
   "file_extension": ".py",
   "mimetype": "text/x-python",
   "name": "python",
   "nbconvert_exporter": "python",
   "pygments_lexer": "ipython3",
   "version": "3.7.16"
  }
 },
 "nbformat": 4,
 "nbformat_minor": 4
}
