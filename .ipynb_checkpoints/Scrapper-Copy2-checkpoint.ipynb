{
 "cells": [
  {
   "cell_type": "code",
   "execution_count": 1,
   "metadata": {
    "ExecuteTime": {
     "end_time": "2023-05-24T01:25:37.429094Z",
     "start_time": "2023-05-24T01:25:29.292171Z"
    },
    "colab": {
     "base_uri": "https://localhost:8080/"
    },
    "executionInfo": {
     "elapsed": 21074,
     "status": "ok",
     "timestamp": 1683074904984,
     "user": {
      "displayName": "Prentino Barus",
      "userId": "03956176104375021641"
     },
     "user_tz": -420
    },
    "id": "HF5KEFLikY5J",
    "outputId": "96859593-c037-4c33-d42d-e3d94620004d",
    "scrolled": true,
    "tags": []
   },
   "outputs": [
    {
     "name": "stdout",
     "output_type": "stream",
     "text": [
      "Requirement already satisfied: beautifulsoup4 in c:\\users\\tinob\\anaconda3\\envs\\tf_env\\lib\\site-packages (4.12.2)\n",
      "Requirement already satisfied: soupsieve>1.2 in c:\\users\\tinob\\anaconda3\\envs\\tf_env\\lib\\site-packages (from beautifulsoup4) (2.4.1)\n",
      "Requirement already satisfied: lxml in c:\\users\\tinob\\anaconda3\\envs\\tf_env\\lib\\site-packages (4.9.2)\n",
      "Requirement already satisfied: requests in c:\\users\\tinob\\anaconda3\\envs\\tf_env\\lib\\site-packages (2.30.0)\n",
      "Requirement already satisfied: charset-normalizer<4,>=2 in c:\\users\\tinob\\anaconda3\\envs\\tf_env\\lib\\site-packages (from requests) (3.1.0)\n",
      "Requirement already satisfied: idna<4,>=2.5 in c:\\users\\tinob\\anaconda3\\envs\\tf_env\\lib\\site-packages (from requests) (3.4)\n",
      "Requirement already satisfied: urllib3<3,>=1.21.1 in c:\\users\\tinob\\anaconda3\\envs\\tf_env\\lib\\site-packages (from requests) (2.0.2)\n",
      "Requirement already satisfied: certifi>=2017.4.17 in c:\\users\\tinob\\anaconda3\\envs\\tf_env\\lib\\site-packages (from requests) (2022.12.7)\n"
     ]
    }
   ],
   "source": [
    "!pip install beautifulsoup4\n",
    "!pip install lxml\n",
    "!pip install requests"
   ]
  },
  {
   "cell_type": "code",
   "execution_count": 1,
   "metadata": {
    "ExecuteTime": {
     "end_time": "2023-05-24T22:31:22.896435Z",
     "start_time": "2023-05-24T22:31:22.048454Z"
    },
    "executionInfo": {
     "elapsed": 1114,
     "status": "ok",
     "timestamp": 1683074906091,
     "user": {
      "displayName": "Prentino Barus",
      "userId": "03956176104375021641"
     },
     "user_tz": -420
    },
    "id": "p_Uym38LlEtc",
    "tags": []
   },
   "outputs": [],
   "source": [
    "from bs4 import BeautifulSoup\n",
    "import requests\n",
    "import logging\n",
    "import http.client\n",
    "http.client.HTTPConnection.debuglevel = 1\n",
    "import pandas as pd\n",
    "import time\n",
    "import re\n",
    "import os"
   ]
  },
  {
   "cell_type": "code",
   "execution_count": 12,
   "metadata": {
    "ExecuteTime": {
     "end_time": "2023-05-24T22:46:05.086616Z",
     "start_time": "2023-05-24T22:46:04.948461Z"
    },
    "id": "pHfGE1c4GQc1",
    "tags": []
   },
   "outputs": [
    {
     "name": "stdout",
     "output_type": "stream",
     "text": [
      "<class 'pandas.core.frame.DataFrame'>\n",
      "RangeIndex: 49 entries, 0 to 48\n",
      "Data columns (total 4 columns):\n",
      " #   Column        Non-Null Count  Dtype \n",
      "---  ------        --------------  ----- \n",
      " 0   hotel         49 non-null     object\n",
      " 1   hotel_link    49 non-null     object\n",
      " 2   review_count  49 non-null     int64 \n",
      " 3   hotel_name    49 non-null     object\n",
      "dtypes: int64(1), object(3)\n",
      "memory usage: 1.7+ KB\n"
     ]
    }
   ],
   "source": [
    "# List of Hotel's URL\n",
    "list_hotel = pd.read_excel('fix_hotel.xlsx', sheet_name='Sheet1')\n",
    "list_hotel.info()"
   ]
  },
  {
   "cell_type": "code",
   "execution_count": 3,
   "metadata": {
    "ExecuteTime": {
     "end_time": "2023-05-24T22:31:23.354539Z",
     "start_time": "2023-05-24T22:31:23.343295Z"
    },
    "id": "Cobs6LkqsajP",
    "tags": []
   },
   "outputs": [],
   "source": [
    "logging.basicConfig()\n",
    "logging.getLogger().setLevel(logging.DEBUG)\n",
    "requests_log = logging.getLogger(\"requests.packages.urllib3\")\n",
    "requests_log.setLevel(logging.DEBUG)\n",
    "requests_log.propagate = True"
   ]
  },
  {
   "cell_type": "code",
   "execution_count": 13,
   "metadata": {
    "ExecuteTime": {
     "end_time": "2023-05-24T22:46:46.667449Z",
     "start_time": "2023-05-24T22:46:46.643268Z"
    },
    "colab": {
     "base_uri": "https://localhost:8080/"
    },
    "executionInfo": {
     "elapsed": 820969,
     "status": "ok",
     "timestamp": 1682988686775,
     "user": {
      "displayName": "Prentino Barus",
      "userId": "03956176104375021641"
     },
     "user_tz": -420
    },
    "id": "DZJwf3R5wQxs",
    "outputId": "18bd06bf-5d97-40d6-c933-250f589fab16",
    "scrolled": true,
    "tags": []
   },
   "outputs": [
    {
     "ename": "SyntaxError",
     "evalue": "can't assign to operator (636760530.py, line 27)",
     "output_type": "error",
     "traceback": [
      "\u001b[1;36m  File \u001b[1;32m\"C:\\Users\\tinob\\AppData\\Local\\Temp\\ipykernel_2988\\636760530.py\"\u001b[1;36m, line \u001b[1;32m27\u001b[0m\n\u001b[1;33m    us|er_text = review.find('span', class_= 'QewHA H4 _a').text\u001b[0m\n\u001b[1;37m    ^\u001b[0m\n\u001b[1;31mSyntaxError\u001b[0m\u001b[1;31m:\u001b[0m can't assign to operator\n"
     ]
    }
   ],
   "source": [
    "def hotelScraper():\n",
    "    for hotel in list_hotel.index:\n",
    "        hotel_name = list_hotel['hotel'][hotel]\n",
    "        hotel_url = list_hotel['hotel_link'][hotel]\n",
    "        filename = list_hotel['hotel_name'][hotel]\n",
    "        filepath = 'Dataset_1/' + filename + '.csv'\n",
    "\n",
    "        if os.path.exists(filepath):\n",
    "            continue\n",
    "        \n",
    "        \n",
    "        print(f\"Start Scrapping: {hotel_name}\")\n",
    "        \n",
    "        gathered_review = []\n",
    "        headers = {\"User-Agent\": \"Mozilla/5.0 (X11; CrOS x86_64 12871.102.0) AppleWebKit/537.36 (KHTML, like Gecko) Chrome/81.0.4044.141 Safari/537.36\"}\n",
    "        pages = 200\n",
    "        pages = (pages * 5) + 5\n",
    "        for i in range(5, pages, 5):\n",
    "            new_url = re.sub('or5', 'or'+str(i), str(hotel_url))\n",
    "            url = requests.get(new_url, headers=headers)\n",
    "\n",
    "            soup = BeautifulSoup(url.text, 'lxml')\n",
    "            reviews = soup.find_all('div', class_= 'YibKl MC R2 Gi z Z BB pBbQr')\n",
    "            \n",
    "            if reviews:\n",
    "                for review in reviews:\n",
    "                    us|er_text = review.find('span', class_= 'QewHA H4 _a').text\n",
    "                    user_rating = review.find('span', class_= 'ui_bubble_rating')['class'][1][7]\n",
    "                    gathered_review.append([hotel_name, user_text, user_rating])\n",
    "\n",
    "                #Pages Processed\n",
    "                cpages = int(i/5)\n",
    "                print(f\"Done Scrapping {hotel_name} page {cpages}\")\n",
    "                print('\\n')\n",
    "                time.sleep(3)\n",
    "\n",
    "                # Make csv file\n",
    "                df = pd.DataFrame(gathered_review, columns=['hotel', 'review', 'stars'])\n",
    "                df.to_csv('Dataset_1/'+filename+'.csv')\n",
    "            else:\n",
    "                if os.path.exists(filepath):\n",
    "                    break\n",
    "                else:\n",
    "                    hotelScraper()\n",
    "    \n",
    "        "
   ]
  },
  {
   "cell_type": "code",
   "execution_count": null,
   "metadata": {
    "ExecuteTime": {
     "start_time": "2023-05-24T22:46:48.437Z"
    },
    "scrolled": true
   },
   "outputs": [
    {
     "name": "stderr",
     "output_type": "stream",
     "text": [
      "DEBUG:urllib3.connectionpool:Starting new HTTPS connection (1): www.tripadvisor.co.id:443\n"
     ]
    },
    {
     "name": "stdout",
     "output_type": "stream",
     "text": [
      "Start Scrapping: The Kampung Ubud Villa\n",
      "send: b'GET /Hotel_Review-g297701-d2298887-Reviews-or5-The_Kampung_Ubud_Villa-Ubud_Gianyar_Regency_Bali.html HTTP/1.1\\r\\nHost: www.tripadvisor.co.id\\r\\nUser-Agent: Mozilla/5.0 (X11; CrOS x86_64 12871.102.0) AppleWebKit/537.36 (KHTML, like Gecko) Chrome/81.0.4044.141 Safari/537.36\\r\\nAccept-Encoding: gzip, deflate\\r\\nAccept: */*\\r\\nConnection: keep-alive\\r\\n\\r\\n'\n"
     ]
    },
    {
     "name": "stderr",
     "output_type": "stream",
     "text": [
      "DEBUG:urllib3.connectionpool:https://www.tripadvisor.co.id:443 \"GET /Hotel_Review-g297701-d2298887-Reviews-or5-The_Kampung_Ubud_Villa-Ubud_Gianyar_Regency_Bali.html HTTP/1.1\" 200 None\n"
     ]
    },
    {
     "name": "stdout",
     "output_type": "stream",
     "text": [
      "reply: 'HTTP/1.1 200 OK\\r\\n'\n",
      "header: Server: envoy\n",
      "header: Link: <https://media-cdn.tripadvisor.com/media/>;rel=\"preconnect\";crossorigin\n",
      "header: Link: <https://media-cdn.tripadvisor.com/media/>;rel=\"dns-prefetch\"\n",
      "header: p3p: CP=\"NOI CURa ADMa DEVa TAIa OUR BUS IND UNI COM NAV INT DSP COR CAO PSA IDC ADM DEVi TAIi PSD IVAi IVDi CONi HIS CNT\"\n",
      "header: Pragma: no-cache\n",
      "header: Cache-Control: no-cache, no-store, must-revalidate\n",
      "header: Expires: 0\n",
      "header: Content-Language: id\n",
      "header: Link: <https://static.tacdn.com>;rel=\"dns-prefetch\"\n",
      "header: Link: <https://static.tacdn.com>;rel=\"preconnect\";crossorigin\n",
      "header: timing-allow-origin: https://www.tripadvisor.com\n",
      "header: Vary: Accept-Encoding\n",
      "header: Content-Type: text/html;charset=UTF-8\n",
      "header: Accept-CH: Sec-CH-UA,Sec-CH-UA-Mobile,Sec-CH-UA-Platform,Sec-CH-UA-Arch,Sec-CH-UA-Full-Version-List,Sec-CH-UA-Model,Sec-CH-Device-Memory\n",
      "header: x-datadome: protected\n",
      "header: Content-Encoding: gzip\n",
      "header: x-request-id: 27b379b8-9165-4cb1-832f-49987f3a5fc5\n",
      "header: Date: Wed, 24 May 2023 22:46:50 GMT\n",
      "header: Transfer-Encoding: chunked\n",
      "header: Connection: keep-alive\n",
      "header: Connection: Transfer-Encoding\n",
      "header: Set-Cookie: TADCID=SF2f-cfUclatKw_oABQCXdElnkGETRW-Svh01l3nWnW8Q9KLE8wauTvZPq__zKnIlFJhbdO9rwacPMk7_bJlsl1n0A51BeAB190; Domain=www.tripadvisor.co.id; Expires=Sat, 21-May-2033 22:46:50 GMT; Path=/; Secure; HttpOnly\n",
      "header: Set-Cookie: TAUnique=%1%enc%3AM9L9MRFu9TGCNtgs%2BCN3NnGfQMMEYPnqPfy0hUElqa7pX58Vhy5S%2Fw%3D%3D; Domain=.tripadvisor.co.id; Expires=Fri, 23-May-2025 22:46:50 GMT; Path=/; HttpOnly\n",
      "header: Set-Cookie: TASSK=enc%3AANpj3MnmnR13o2AhXZgkh%2F7XxTJzT2bEDxbfH5UiBRxG78Ai5WcxDmScjJiL4T%2FC9%2Bt5fzoUgTdItLLeZUjWAEqFSBAEOtfRPKxG6k%2BYLl8gbxIyZBJ2qVZtjigq4k5M5A%3D%3D; Domain=www.tripadvisor.co.id; Expires=Mon, 20-Nov-2023 22:46:50 GMT; Path=/; HttpOnly\n",
      "header: Set-Cookie: TASession=V2ID.3AC1BE9251454D6FABBA7DB1401AC6DB*SQ.1*HS.recommended*ES.popularity*DS.5*SAS.popularity*FPS.oldFirst*LF.in*FA.1*DF.0*TRA.true*LD.2298887; Domain=.tripadvisor.co.id; Path=/\n",
      "header: Set-Cookie: ServerPool=B; Domain=.tripadvisor.co.id; Path=/\n",
      "header: Set-Cookie: PMC=V2*MS.11*MD.20230524*LD.20230524; Domain=www.tripadvisor.co.id; Expires=Fri, 23-May-2025 22:46:50 GMT; Path=/; Secure; HttpOnly\n",
      "header: Set-Cookie: TART=%1%enc%3AgjbYLPgjdzaxS15%2BRWc46jU4in38xk%2F%2BKvtxtva56yTZCnRf65aqsRiAuY3Pb3k2CI7LWqDe1aU%3D; Domain=www.tripadvisor.co.id; Expires=Mon, 29-May-2023 22:46:50 GMT; Path=/; HttpOnly\n",
      "header: Set-Cookie: CM=%1%PremiumMobSess%2C%2C-1%7Ct4b-pc%2C%2C-1%7CRestAds%2FRPers%2C%2C-1%7CRCPers%2C%2C-1%7CWShadeSeen%2C%2C-1%7CTheForkMCCPers%2C%2C-1%7CHomeASess%2C%2C-1%7CPremiumMCSess%2C%2C-1%7CCrisisSess%2C%2C-1%7CUVOwnersSess%2C%2C-1%7CRestPremRSess%2C%2C-1%7CRepTarMCSess%2C%2C-1%7CCCSess%2C%2C-1%7CCYLSess%2C%2C-1%7CPremRetPers%2C%2C-1%7CViatorMCPers%2C%2C-1%7Csesssticker%2C%2C-1%7C%24%2C%2C-1%7CPremiumORSess%2C%2C-1%7Ct4b-sc%2C%2C-1%7CRestAdsPers%2C%2C-1%7CMC_IB_UPSELL_IB_LOGOS2%2C%2C-1%7CTSMCPers%2C%2C-1%7Cb2bmcpers%2C%2C-1%7CPremMCBtmSess%2C%2C-1%7CMC_IB_UPSELL_IB_LOGOS%2C%2C-1%7CLaFourchette+Banners%2C%2C-1%7Csess_rev%2C%2C-1%7Csessamex%2C%2C-1%7CPremiumRRSess%2C%2C-1%7CTADORSess%2C%2C-1%7CAdsRetPers%2C%2C-1%7CListMCSess%2C%2C-1%7CTARSWBPers%2C%2C-1%7CSPMCSess%2C%2C-1%7CTheForkORSess%2C%2C-1%7CTheForkRRSess%2C%2C-1%7Cpers_rev%2C%2C-1%7CRBAPers%2C%2C-1%7CRestAds%2FRSess%2C%2C-1%7CHomeAPers%2C%2C-1%7CPremiumMobPers%2C%2C-1%7CRCSess%2C%2C-1%7CLaFourchette+MC+Banners%2C%2C-1%7CRestAdsCCSess%2C%2C-1%7CRestPremRPers%2C%2C-1%7CRevHubRMPers%2C%2C-1%7CUVOwnersPers%2C%2C-1%7Cpssamex%2C%2C-1%7CTheForkMCCSess%2C%2C-1%7CCrisisPers%2C%2C-1%7CCYLPers%2C%2C-1%7CCCPers%2C%2C-1%7CRepTarMCPers%2C%2C-1%7Cb2bmcsess%2C%2C-1%7CTSMCSess%2C%2C-1%7CSPMCPers%2C%2C-1%7CRevHubRMSess%2C%2C-1%7CPremRetSess%2C%2C-1%7CViatorMCSess%2C%2C-1%7CPremiumMCPers%2C%2C-1%7CAdsRetSess%2C%2C-1%7CPremiumRRPers%2C%2C-1%7CRestAdsCCPers%2C%2C-1%7CTADORPers%2C%2C-1%7CTheForkORPers%2C%2C-1%7CPremMCBtmPers%2C%2C-1%7CTheForkRRPers%2C%2C-1%7CTARSWBSess%2C%2C-1%7CPremiumORPers%2C%2C-1%7CRestAdsSess%2C%2C-1%7CRBASess%2C%2C-1%7CSPORPers%2C%2C-1%7Cperssticker%2C%2C-1%7CListMCPers%2C%2C-1%7C; Domain=.tripadvisor.co.id; Expires=Sat, 21-May-2033 22:46:50 GMT; Path=/\n",
      "header: Set-Cookie: BEPIN=%1%1884ff18c23%3Bweb225a.a.tripadvisor.com%3A30023%3B; Domain=.tripadvisor.co.id; Path=/\n",
      "header: Set-Cookie: PAC=AHGINe8LOXAd13IBJOF4ZgObwWbpKu_tpyOPXiEVc8M3LXn9MtfwkcybwlEslU5UaLYY0rwOZwhGurdAy7z64X2ZViNGm7XpQ36g-JsPc2w3upKtNBB-u6r5z3vwhOt4gKnFWdw3RRwvkxx3zzWgHl2tOmQ1Z9kZ4Qfbgs6rD4qoecbgYzYCQJ7DfYl3vq8wKguaVkpmX7nZyjENXzMKzgkyPz-POtHzhtpdJ1fCZFxy; Domain=www.tripadvisor.co.id; Expires=Fri, 23-May-2025 22:46:50 GMT; Path=/; Secure; HttpOnly\n",
      "header: Set-Cookie: SRT=TART_SYNC; Domain=www.tripadvisor.co.id; Expires=Wed, 24-May-2023 23:16:50 GMT; Path=/\n",
      "header: Set-Cookie: TATravelInfo=V2*AY.2023*AM.6*AD.4*DY.2023*DM.6*DD.5*A.2*MG.-1*HP.2*FL.3*DSM.1684968410239*RS.1; Domain=.tripadvisor.co.id; Expires=Wed, 07-Jun-2023 22:46:50 GMT; Path=/\n",
      "header: Set-Cookie: TAUD=LG-1684968410131-2.1.F.*RDD-2-2023_05_25*HDD-3-2023_06_04.2023_06_05.1; Domain=.tripadvisor.co.id; Expires=Wed, 07-Jun-2023 22:46:50 GMT; Path=/\n",
      "header: Set-Cookie: TASID=3AC1BE9251454D6FABBA7DB1401AC6DB; Domain=www.tripadvisor.co.id; Expires=Wed, 24-May-2023 23:16:50 GMT; Path=/; Secure\n",
      "header: Set-Cookie: TAReturnTo=%1%%2FHotel_Review-g297701-d2298887-Reviews-or5-The_Kampung_Ubud_Villa-Ubud_Gianyar_Regency_Bali.html; Domain=.tripadvisor.co.id; Path=/\n",
      "header: Set-Cookie: datadome=7ZlIUgBf-ADRE8CRbXyfNAmcn_pgJqc5BXHfTCQMxvDEMofeyWm-ymF_9_jupkVzDZkuGKIwJ1M5Obsu3S2Zjg0YVGru2GWNpBHgs265JNhWf_exFDe4vmxF2PP5~5LN; Max-Age=31104000; Domain=.tripadvisor.co.id; Path=/; Secure; SameSite=Lax\n",
      "Done Scrapping The Kampung Ubud Villa page 1\n",
      "\n",
      "\n"
     ]
    },
    {
     "name": "stderr",
     "output_type": "stream",
     "text": [
      "DEBUG:urllib3.connectionpool:Starting new HTTPS connection (1): www.tripadvisor.co.id:443\n"
     ]
    },
    {
     "name": "stdout",
     "output_type": "stream",
     "text": [
      "send: b'GET /Hotel_Review-g297701-d2298887-Reviews-or10-The_Kampung_Ubud_Villa-Ubud_Gianyar_Regency_Bali.html HTTP/1.1\\r\\nHost: www.tripadvisor.co.id\\r\\nUser-Agent: Mozilla/5.0 (X11; CrOS x86_64 12871.102.0) AppleWebKit/537.36 (KHTML, like Gecko) Chrome/81.0.4044.141 Safari/537.36\\r\\nAccept-Encoding: gzip, deflate\\r\\nAccept: */*\\r\\nConnection: keep-alive\\r\\n\\r\\n'\n"
     ]
    },
    {
     "name": "stderr",
     "output_type": "stream",
     "text": [
      "DEBUG:urllib3.connectionpool:https://www.tripadvisor.co.id:443 \"GET /Hotel_Review-g297701-d2298887-Reviews-or10-The_Kampung_Ubud_Villa-Ubud_Gianyar_Regency_Bali.html HTTP/1.1\" 200 None\n"
     ]
    },
    {
     "name": "stdout",
     "output_type": "stream",
     "text": [
      "reply: 'HTTP/1.1 200 OK\\r\\n'\n",
      "header: Server: envoy\n",
      "header: Link: <https://media-cdn.tripadvisor.com/media/>;rel=\"preconnect\";crossorigin\n",
      "header: Link: <https://media-cdn.tripadvisor.com/media/>;rel=\"dns-prefetch\"\n",
      "header: p3p: CP=\"NOI CURa ADMa DEVa TAIa OUR BUS IND UNI COM NAV INT DSP COR CAO PSA IDC ADM DEVi TAIi PSD IVAi IVDi CONi HIS CNT\"\n",
      "header: Pragma: no-cache\n",
      "header: Cache-Control: no-cache, no-store, must-revalidate\n",
      "header: Expires: 0\n",
      "header: Content-Language: id\n",
      "header: Link: <https://static.tacdn.com>;rel=\"dns-prefetch\"\n",
      "header: Link: <https://static.tacdn.com>;rel=\"preconnect\";crossorigin\n",
      "header: timing-allow-origin: https://www.tripadvisor.com\n",
      "header: Vary: Accept-Encoding\n",
      "header: Content-Type: text/html;charset=UTF-8\n",
      "header: Accept-CH: Sec-CH-UA,Sec-CH-UA-Mobile,Sec-CH-UA-Platform,Sec-CH-UA-Arch,Sec-CH-UA-Full-Version-List,Sec-CH-UA-Model,Sec-CH-Device-Memory\n",
      "header: x-datadome: protected\n",
      "header: Content-Encoding: gzip\n",
      "header: x-request-id: bb95a28f-1b29-4a20-945f-c0a6e7c54498\n",
      "header: Date: Wed, 24 May 2023 22:46:55 GMT\n",
      "header: Transfer-Encoding: chunked\n",
      "header: Connection: keep-alive\n",
      "header: Connection: Transfer-Encoding\n",
      "header: Set-Cookie: TADCID=6bi0KDfuM2HP1tarABQCXdElnkGETRW-Svh01l3nWnW8Q9x_4UkPVjwgdUOkEDgMC1dwSgM6PdCHf93V5itsDe94jRZzs5mQLws; Domain=www.tripadvisor.co.id; Expires=Sat, 21-May-2033 22:46:54 GMT; Path=/; Secure; HttpOnly\n",
      "header: Set-Cookie: TAUnique=%1%enc%3AM9L9MRFu9TGCNtgs%2BCN3NnGfQMMEYPnqJz9QhiFpSCfUj6VcWQ7YVw%3D%3D; Domain=.tripadvisor.co.id; Expires=Fri, 23-May-2025 22:46:54 GMT; Path=/; HttpOnly\n",
      "header: Set-Cookie: TASSK=enc%3AAEiPa5wfxOOyqDQONZYrEmMb0pmvPN%2BfmDfDRR68WoIVXjGp7wx7Dghrjo5BcQdjIEfJIzkc%2ByOFrNFRsvqOg3rAcCFBJeaqX%2FQnf7gLV1byoI7JM%2BYnLIzAhdKaHK9Ybw%3D%3D; Domain=www.tripadvisor.co.id; Expires=Mon, 20-Nov-2023 22:46:55 GMT; Path=/; HttpOnly\n",
      "header: Set-Cookie: TASession=V2ID.35943F575A5644FFA1E70AB872EC51A6*SQ.1*HS.recommended*ES.popularity*DS.5*SAS.popularity*FPS.oldFirst*LF.in*FA.1*DF.0*TRA.true*LD.2298887; Domain=.tripadvisor.co.id; Path=/\n",
      "header: Set-Cookie: ServerPool=B; Domain=.tripadvisor.co.id; Path=/\n",
      "header: Set-Cookie: PMC=V2*MS.12*MD.20230524*LD.20230524; Domain=www.tripadvisor.co.id; Expires=Fri, 23-May-2025 22:46:55 GMT; Path=/; Secure; HttpOnly\n",
      "header: Set-Cookie: TART=%1%enc%3AgjbYLPgjdzaxS15%2BRWc46hL6NSSqsaCWT8zgXJynOvw8Es0XpOr4IZktbm%2FCyoru6mX11p4Kt4Q%3D; Domain=www.tripadvisor.co.id; Expires=Mon, 29-May-2023 22:46:55 GMT; Path=/; HttpOnly\n",
      "header: Set-Cookie: CM=%1%PremiumMobSess%2C%2C-1%7Ct4b-pc%2C%2C-1%7CRestAds%2FRPers%2C%2C-1%7CRCPers%2C%2C-1%7CWShadeSeen%2C%2C-1%7CTheForkMCCPers%2C%2C-1%7CHomeASess%2C%2C-1%7CPremiumMCSess%2C%2C-1%7CCrisisSess%2C%2C-1%7CUVOwnersSess%2C%2C-1%7CRestPremRSess%2C%2C-1%7CRepTarMCSess%2C%2C-1%7CCCSess%2C%2C-1%7CCYLSess%2C%2C-1%7CPremRetPers%2C%2C-1%7CViatorMCPers%2C%2C-1%7Csesssticker%2C%2C-1%7C%24%2C%2C-1%7CPremiumORSess%2C%2C-1%7Ct4b-sc%2C%2C-1%7CRestAdsPers%2C%2C-1%7CMC_IB_UPSELL_IB_LOGOS2%2C%2C-1%7CTSMCPers%2C%2C-1%7Cb2bmcpers%2C%2C-1%7CPremMCBtmSess%2C%2C-1%7CMC_IB_UPSELL_IB_LOGOS%2C%2C-1%7CLaFourchette+Banners%2C%2C-1%7Csess_rev%2C%2C-1%7Csessamex%2C%2C-1%7CPremiumRRSess%2C%2C-1%7CTADORSess%2C%2C-1%7CAdsRetPers%2C%2C-1%7CListMCSess%2C%2C-1%7CTARSWBPers%2C%2C-1%7CSPMCSess%2C%2C-1%7CTheForkORSess%2C%2C-1%7CTheForkRRSess%2C%2C-1%7Cpers_rev%2C%2C-1%7CRBAPers%2C%2C-1%7CRestAds%2FRSess%2C%2C-1%7CHomeAPers%2C%2C-1%7CPremiumMobPers%2C%2C-1%7CRCSess%2C%2C-1%7CLaFourchette+MC+Banners%2C%2C-1%7CRestAdsCCSess%2C%2C-1%7CRestPremRPers%2C%2C-1%7CRevHubRMPers%2C%2C-1%7CUVOwnersPers%2C%2C-1%7Cpssamex%2C%2C-1%7CTheForkMCCSess%2C%2C-1%7CCrisisPers%2C%2C-1%7CCYLPers%2C%2C-1%7CCCPers%2C%2C-1%7CRepTarMCPers%2C%2C-1%7Cb2bmcsess%2C%2C-1%7CTSMCSess%2C%2C-1%7CSPMCPers%2C%2C-1%7CRevHubRMSess%2C%2C-1%7CPremRetSess%2C%2C-1%7CViatorMCSess%2C%2C-1%7CPremiumMCPers%2C%2C-1%7CAdsRetSess%2C%2C-1%7CPremiumRRPers%2C%2C-1%7CRestAdsCCPers%2C%2C-1%7CTADORPers%2C%2C-1%7CTheForkORPers%2C%2C-1%7CPremMCBtmPers%2C%2C-1%7CTheForkRRPers%2C%2C-1%7CTARSWBSess%2C%2C-1%7CPremiumORPers%2C%2C-1%7CRestAdsSess%2C%2C-1%7CRBASess%2C%2C-1%7CSPORPers%2C%2C-1%7Cperssticker%2C%2C-1%7CListMCPers%2C%2C-1%7C; Domain=.tripadvisor.co.id; Expires=Sat, 21-May-2033 22:46:55 GMT; Path=/\n",
      "header: Set-Cookie: BEPIN=%1%1884ff19f04%3Bweb225a.a.tripadvisor.com%3A30023%3B; Domain=.tripadvisor.co.id; Path=/\n",
      "header: Set-Cookie: PAC=AMGwS7FX2rvDmnhN8EDq10KowFahCFrJOvH41lNECa7D2VEU5lZalfODrYElNyqDxHqvNLFb9ocW7tiUvKc0OGktSL1Oc4vZQxARV-WXdJJ7BSMHjgqf2w_BYeHXCtTUgbIV2WCdaQDf5Bg_acWE6ryfpZxZuhZMQncpxatWbFVVa5JHgOKiBkzQBDrKQ3d51A_8ykqH52xQ-sStNXLK882PMaqTVGruy8I8XZfCQdDF; Domain=www.tripadvisor.co.id; Expires=Fri, 23-May-2025 22:46:55 GMT; Path=/; Secure; HttpOnly\n",
      "header: Set-Cookie: SRT=TART_SYNC; Domain=www.tripadvisor.co.id; Expires=Wed, 24-May-2023 23:16:55 GMT; Path=/\n",
      "header: Set-Cookie: TATravelInfo=V2*AY.2023*AM.6*AD.4*DY.2023*DM.6*DD.5*A.2*MG.-1*HP.2*FL.3*DSM.1684968415060*RS.1; Domain=.tripadvisor.co.id; Expires=Wed, 07-Jun-2023 22:46:55 GMT; Path=/\n",
      "header: Set-Cookie: TAUD=LG-1684968414963-2.1.F.*RDD-2-2023_05_25*HDD-3-2023_06_04.2023_06_05.1; Domain=.tripadvisor.co.id; Expires=Wed, 07-Jun-2023 22:46:55 GMT; Path=/\n",
      "header: Set-Cookie: TASID=35943F575A5644FFA1E70AB872EC51A6; Domain=www.tripadvisor.co.id; Expires=Wed, 24-May-2023 23:16:55 GMT; Path=/; Secure\n",
      "header: Set-Cookie: TAReturnTo=%1%%2FHotel_Review-g297701-d2298887-Reviews-or10-The_Kampung_Ubud_Villa-Ubud_Gianyar_Regency_Bali.html; Domain=.tripadvisor.co.id; Path=/\n",
      "header: Set-Cookie: datadome=2xLtgGt-C~WzwYyOEu~cYClhCsIML6_596s_MciQS3M-g11puTXMsjwLfIHYpi6LaPNDN25oPQa0ID0s9Z5iIiXBcxAke7JJJN6XIiRHa5NoHpd38bu3tGgJfYBEwKfI; Max-Age=31104000; Domain=.tripadvisor.co.id; Path=/; Secure; SameSite=Lax\n",
      "Done Scrapping The Kampung Ubud Villa page 2\n",
      "\n",
      "\n"
     ]
    },
    {
     "name": "stderr",
     "output_type": "stream",
     "text": [
      "DEBUG:urllib3.connectionpool:Starting new HTTPS connection (1): www.tripadvisor.co.id:443\n"
     ]
    },
    {
     "name": "stdout",
     "output_type": "stream",
     "text": [
      "send: b'GET /Hotel_Review-g297701-d2298887-Reviews-or15-The_Kampung_Ubud_Villa-Ubud_Gianyar_Regency_Bali.html HTTP/1.1\\r\\nHost: www.tripadvisor.co.id\\r\\nUser-Agent: Mozilla/5.0 (X11; CrOS x86_64 12871.102.0) AppleWebKit/537.36 (KHTML, like Gecko) Chrome/81.0.4044.141 Safari/537.36\\r\\nAccept-Encoding: gzip, deflate\\r\\nAccept: */*\\r\\nConnection: keep-alive\\r\\n\\r\\n'\n"
     ]
    },
    {
     "name": "stderr",
     "output_type": "stream",
     "text": [
      "DEBUG:urllib3.connectionpool:https://www.tripadvisor.co.id:443 \"GET /Hotel_Review-g297701-d2298887-Reviews-or15-The_Kampung_Ubud_Villa-Ubud_Gianyar_Regency_Bali.html HTTP/1.1\" 200 None\n"
     ]
    },
    {
     "name": "stdout",
     "output_type": "stream",
     "text": [
      "reply: 'HTTP/1.1 200 OK\\r\\n'\n",
      "header: Server: envoy\n",
      "header: Link: <https://media-cdn.tripadvisor.com/media/>;rel=\"preconnect\";crossorigin\n",
      "header: Link: <https://media-cdn.tripadvisor.com/media/>;rel=\"dns-prefetch\"\n",
      "header: p3p: CP=\"NOI CURa ADMa DEVa TAIa OUR BUS IND UNI COM NAV INT DSP COR CAO PSA IDC ADM DEVi TAIi PSD IVAi IVDi CONi HIS CNT\"\n",
      "header: Pragma: no-cache\n",
      "header: Cache-Control: no-cache, no-store, must-revalidate\n",
      "header: Expires: 0\n",
      "header: Content-Language: id\n",
      "header: Link: <https://static.tacdn.com>;rel=\"dns-prefetch\"\n",
      "header: Link: <https://static.tacdn.com>;rel=\"preconnect\";crossorigin\n",
      "header: timing-allow-origin: https://www.tripadvisor.com\n",
      "header: Vary: Accept-Encoding\n",
      "header: Content-Type: text/html;charset=UTF-8\n",
      "header: x-datadome: protected\n",
      "header: Accept-CH: Sec-CH-UA,Sec-CH-UA-Mobile,Sec-CH-UA-Platform,Sec-CH-UA-Arch,Sec-CH-UA-Full-Version-List,Sec-CH-UA-Model,Sec-CH-Device-Memory\n",
      "header: Content-Encoding: gzip\n",
      "header: x-request-id: 22497546-bfd2-4cfe-aebd-3612b440148f\n",
      "header: Date: Wed, 24 May 2023 22:47:00 GMT\n",
      "header: Transfer-Encoding: chunked\n",
      "header: Connection: keep-alive\n",
      "header: Connection: Transfer-Encoding\n",
      "header: Set-Cookie: TADCID=jPNvR8jrKaJVae6lABQCXdElnkGETRW-Svh01l3nWnW8Q63MxC1h2SDBx5z4ao3WkiyJNHGdKClz9fj_bS_LIzEn3GemGMFZH5M; Domain=www.tripadvisor.co.id; Expires=Sat, 21-May-2033 22:46:59 GMT; Path=/; Secure; HttpOnly\n",
      "header: Set-Cookie: TAUnique=%1%enc%3AwKqxFrOQIPCCNtgs%2BCN3NnGfQMMEYPnqmlYd0f3de7jwtj4UJydIug%3D%3D; Domain=.tripadvisor.co.id; Expires=Fri, 23-May-2025 22:46:59 GMT; Path=/; HttpOnly\n",
      "header: Set-Cookie: TASSK=enc%3AAKhae7SAE5Lyq%2BOnVJlRtFCtChYBIWxo%2FTB%2FFr%2FPdV226ZpCXjOAkG8Pc6YBFrqj0ipBHC9x9trjTDN149u7Z7T3RLqnoYwonN2cTZT1QRNM1ezLrg9jZ2a76%2B%2F4W%2FQldQ%3D%3D; Domain=www.tripadvisor.co.id; Expires=Mon, 20-Nov-2023 22:47:00 GMT; Path=/; HttpOnly\n",
      "header: Set-Cookie: TASession=V2ID.C0A09438ACB2492789ACC9D8ED5472F3*SQ.1*HS.recommended*ES.popularity*DS.5*SAS.popularity*FPS.oldFirst*LF.in*FA.1*DF.0*TRA.true*LD.2298887; Domain=.tripadvisor.co.id; Path=/\n",
      "header: Set-Cookie: ServerPool=X; Domain=.tripadvisor.co.id; Path=/\n",
      "header: Set-Cookie: PMC=V2*MS.94*MD.20230524*LD.20230524; Domain=www.tripadvisor.co.id; Expires=Fri, 23-May-2025 22:47:00 GMT; Path=/; Secure; HttpOnly\n",
      "header: Set-Cookie: TART=%1%enc%3AgjbYLPgjdzaxS15%2BRWc46mB9%2F0L0dTN9WPH2qDi0FAp6Jk%2F%2BM52gZ7ODDiTuGPetxDxgkcjpmIA%3D; Domain=www.tripadvisor.co.id; Expires=Mon, 29-May-2023 22:47:00 GMT; Path=/; HttpOnly\n",
      "header: Set-Cookie: CM=%1%PremiumMobSess%2C%2C-1%7Ct4b-pc%2C%2C-1%7CRestAds%2FRPers%2C%2C-1%7CRCPers%2C%2C-1%7CWShadeSeen%2C%2C-1%7CTheForkMCCPers%2C%2C-1%7CHomeASess%2C%2C-1%7CPremiumMCSess%2C%2C-1%7CCrisisSess%2C%2C-1%7CUVOwnersSess%2C%2C-1%7CRestPremRSess%2C%2C-1%7CRepTarMCSess%2C%2C-1%7CCCSess%2C%2C-1%7CCYLSess%2C%2C-1%7CPremRetPers%2C%2C-1%7CViatorMCPers%2C%2C-1%7Csesssticker%2C%2C-1%7C%24%2C%2C-1%7CPremiumORSess%2C%2C-1%7Ct4b-sc%2C%2C-1%7CRestAdsPers%2C%2C-1%7CMC_IB_UPSELL_IB_LOGOS2%2C%2C-1%7CTSMCPers%2C%2C-1%7Cb2bmcpers%2C%2C-1%7CPremMCBtmSess%2C%2C-1%7CMC_IB_UPSELL_IB_LOGOS%2C%2C-1%7CLaFourchette+Banners%2C%2C-1%7Csess_rev%2C%2C-1%7Csessamex%2C%2C-1%7CPremiumRRSess%2C%2C-1%7CTADORSess%2C%2C-1%7CAdsRetPers%2C%2C-1%7CListMCSess%2C%2C-1%7CTARSWBPers%2C%2C-1%7CSPMCSess%2C%2C-1%7CTheForkORSess%2C%2C-1%7CTheForkRRSess%2C%2C-1%7Cpers_rev%2C%2C-1%7CRBAPers%2C%2C-1%7CRestAds%2FRSess%2C%2C-1%7CHomeAPers%2C%2C-1%7CPremiumMobPers%2C%2C-1%7CRCSess%2C%2C-1%7CLaFourchette+MC+Banners%2C%2C-1%7CRestAdsCCSess%2C%2C-1%7CRestPremRPers%2C%2C-1%7CRevHubRMPers%2C%2C-1%7CUVOwnersPers%2C%2C-1%7Cpssamex%2C%2C-1%7CTheForkMCCSess%2C%2C-1%7CCrisisPers%2C%2C-1%7CCYLPers%2C%2C-1%7CCCPers%2C%2C-1%7CRepTarMCPers%2C%2C-1%7Cb2bmcsess%2C%2C-1%7CTSMCSess%2C%2C-1%7CSPMCPers%2C%2C-1%7CRevHubRMSess%2C%2C-1%7CPremRetSess%2C%2C-1%7CViatorMCSess%2C%2C-1%7CPremiumMCPers%2C%2C-1%7CAdsRetSess%2C%2C-1%7CPremiumRRPers%2C%2C-1%7CRestAdsCCPers%2C%2C-1%7CTADORPers%2C%2C-1%7CTheForkORPers%2C%2C-1%7CPremMCBtmPers%2C%2C-1%7CTheForkRRPers%2C%2C-1%7CTARSWBSess%2C%2C-1%7CPremiumORPers%2C%2C-1%7CRestAdsSess%2C%2C-1%7CRBASess%2C%2C-1%7CSPORPers%2C%2C-1%7Cperssticker%2C%2C-1%7CListMCPers%2C%2C-1%7C; Domain=.tripadvisor.co.id; Expires=Sat, 21-May-2033 22:47:00 GMT; Path=/\n",
      "header: Set-Cookie: BEPIN=%1%1884ff1b0c5%3Bweb788a.a.tripadvisor.com%3A30023%3B; Domain=.tripadvisor.co.id; Path=/\n",
      "header: Set-Cookie: PAC=ALrdhdUvzwYXISZclXVML7eorzsMPiKbj01Z6F8Fe2A_YTiK-Xd_83d1XI-IgFXDgyZhdK9OJCyN1oHNuxLWkMnxmzk5CKJ3-JHKFQNBtjhzlcYNaraqMRczicKcOqL_02Q0a1jGGRGPitMKSngnkVCw2E6dHORe-LuCxbUdrPzGH6NT5YGSdOfeSjJ1wq6hv2wdaYbw0Jenwvqw3aalvmNatN9HSDLDAPCPjsccpTfp; Domain=www.tripadvisor.co.id; Expires=Fri, 23-May-2025 22:47:00 GMT; Path=/; Secure; HttpOnly\n",
      "header: Set-Cookie: SRT=TART_SYNC; Domain=www.tripadvisor.co.id; Expires=Wed, 24-May-2023 23:17:00 GMT; Path=/\n",
      "header: Set-Cookie: TATravelInfo=V2*AY.2023*AM.6*AD.4*DY.2023*DM.6*DD.5*A.2*MG.-1*HP.2*FL.3*DSM.1684968419604*RS.1; Domain=.tripadvisor.co.id; Expires=Wed, 07-Jun-2023 22:47:00 GMT; Path=/\n",
      "header: Set-Cookie: TAUD=LG-1684968419491-2.1.F.*RDD-2-2023_05_25*HDD-3-2023_06_04.2023_06_05.1; Domain=.tripadvisor.co.id; Expires=Wed, 07-Jun-2023 22:47:00 GMT; Path=/\n",
      "header: Set-Cookie: TASID=C0A09438ACB2492789ACC9D8ED5472F3; Domain=www.tripadvisor.co.id; Expires=Wed, 24-May-2023 23:17:00 GMT; Path=/; Secure\n",
      "header: Set-Cookie: TAReturnTo=%1%%2FHotel_Review-g297701-d2298887-Reviews-or15-The_Kampung_Ubud_Villa-Ubud_Gianyar_Regency_Bali.html; Domain=.tripadvisor.co.id; Path=/\n",
      "header: Set-Cookie: datadome=0KNr12nv_T2vLmO5wmtDr4ryx94xcllGe0y7SqxSapa6zPwADk302C2WCz4s1NKLK69anB3Yi157PlrbzC14lVZw4m0bq9ExZv33o0y7SNIBgawZZAtOlCFIi1Msh1Xv; Max-Age=31104000; Domain=.tripadvisor.co.id; Path=/; Secure; SameSite=Lax\n",
      "Done Scrapping The Kampung Ubud Villa page 3\n",
      "\n",
      "\n"
     ]
    },
    {
     "name": "stderr",
     "output_type": "stream",
     "text": [
      "DEBUG:urllib3.connectionpool:Starting new HTTPS connection (1): www.tripadvisor.co.id:443\n"
     ]
    },
    {
     "name": "stdout",
     "output_type": "stream",
     "text": [
      "send: b'GET /Hotel_Review-g297701-d2298887-Reviews-or20-The_Kampung_Ubud_Villa-Ubud_Gianyar_Regency_Bali.html HTTP/1.1\\r\\nHost: www.tripadvisor.co.id\\r\\nUser-Agent: Mozilla/5.0 (X11; CrOS x86_64 12871.102.0) AppleWebKit/537.36 (KHTML, like Gecko) Chrome/81.0.4044.141 Safari/537.36\\r\\nAccept-Encoding: gzip, deflate\\r\\nAccept: */*\\r\\nConnection: keep-alive\\r\\n\\r\\n'\n"
     ]
    },
    {
     "name": "stderr",
     "output_type": "stream",
     "text": [
      "DEBUG:urllib3.connectionpool:https://www.tripadvisor.co.id:443 \"GET /Hotel_Review-g297701-d2298887-Reviews-or20-The_Kampung_Ubud_Villa-Ubud_Gianyar_Regency_Bali.html HTTP/1.1\" 200 None\n"
     ]
    },
    {
     "name": "stdout",
     "output_type": "stream",
     "text": [
      "reply: 'HTTP/1.1 200 OK\\r\\n'\n",
      "header: Server: envoy\n",
      "header: Link: <https://media-cdn.tripadvisor.com/media/>;rel=\"preconnect\";crossorigin\n",
      "header: Link: <https://media-cdn.tripadvisor.com/media/>;rel=\"dns-prefetch\"\n",
      "header: p3p: CP=\"NOI CURa ADMa DEVa TAIa OUR BUS IND UNI COM NAV INT DSP COR CAO PSA IDC ADM DEVi TAIi PSD IVAi IVDi CONi HIS CNT\"\n",
      "header: Pragma: no-cache\n",
      "header: Cache-Control: no-cache, no-store, must-revalidate\n",
      "header: Expires: 0\n",
      "header: Content-Language: id\n",
      "header: Link: <https://static.tacdn.com>;rel=\"dns-prefetch\"\n",
      "header: Link: <https://static.tacdn.com>;rel=\"preconnect\";crossorigin\n",
      "header: timing-allow-origin: https://www.tripadvisor.com\n",
      "header: Vary: Accept-Encoding\n",
      "header: Content-Type: text/html;charset=UTF-8\n",
      "header: Accept-CH: Sec-CH-UA,Sec-CH-UA-Mobile,Sec-CH-UA-Platform,Sec-CH-UA-Arch,Sec-CH-UA-Full-Version-List,Sec-CH-UA-Model,Sec-CH-Device-Memory\n",
      "header: x-datadome: protected\n",
      "header: Content-Encoding: gzip\n",
      "header: x-request-id: 5541bffd-6f2a-4a07-b23b-ec780bdd6011\n",
      "header: Date: Wed, 24 May 2023 22:47:04 GMT\n",
      "header: Transfer-Encoding: chunked\n",
      "header: Connection: keep-alive\n",
      "header: Connection: Transfer-Encoding\n",
      "header: Set-Cookie: TADCID=3_Bwl-v868nZc1hqABQCXdElnkGETRW-Svh01l3nWnW8ROee2REKWuHmo1AZ5MWR0W15xIgxGNp_sYVu6AA7W734W-bGPEYMeeM; Domain=www.tripadvisor.co.id; Expires=Sat, 21-May-2033 22:47:03 GMT; Path=/; Secure; HttpOnly\n",
      "header: Set-Cookie: TAUnique=%1%enc%3AE1V%2FkyQN09iCNtgs%2BCN3NnGfQMMEYPnq6AC1qMUnVx9%2FndXTI7CWug%3D%3D; Domain=.tripadvisor.co.id; Expires=Fri, 23-May-2025 22:47:03 GMT; Path=/; HttpOnly\n",
      "header: Set-Cookie: TASSK=enc%3AAEo4JZWHagHO%2FDIWQiSVp%2BZVBBnz0gpTnKQLSrreqoUZH2340fx3Sv5codd0wPG8vE2UJCcBnucsKSzQnUDyNLAbgsErIFb4y1VNz29ySJ9MyBOoTvlXorOduXqztjfn0w%3D%3D; Domain=www.tripadvisor.co.id; Expires=Mon, 20-Nov-2023 22:47:04 GMT; Path=/; HttpOnly\n",
      "header: Set-Cookie: TASession=V2ID.BB410B74EFF64A788405430D0D4185A0*SQ.1*HS.recommended*ES.popularity*DS.5*SAS.popularity*FPS.oldFirst*LF.in*FA.1*DF.0*TRA.true*LD.2298887; Domain=.tripadvisor.co.id; Path=/\n",
      "header: Set-Cookie: ServerPool=B; Domain=.tripadvisor.co.id; Path=/\n",
      "header: Set-Cookie: PMC=V2*MS.48*MD.20230524*LD.20230524; Domain=www.tripadvisor.co.id; Expires=Fri, 23-May-2025 22:47:04 GMT; Path=/; Secure; HttpOnly\n",
      "header: Set-Cookie: TART=%1%enc%3AgjbYLPgjdzaxS15%2BRWc46kGWTaVFv%2BQOAKqcNsZIlX2Z5ColHSRxGQ8dpZniIjSzU3dvyg%2BtO7E%3D; Domain=www.tripadvisor.co.id; Expires=Mon, 29-May-2023 22:47:04 GMT; Path=/; HttpOnly\n",
      "header: Set-Cookie: CM=%1%PremiumMobSess%2C%2C-1%7Ct4b-pc%2C%2C-1%7CRestAds%2FRPers%2C%2C-1%7CRCPers%2C%2C-1%7CWShadeSeen%2C%2C-1%7CTheForkMCCPers%2C%2C-1%7CHomeASess%2C%2C-1%7CPremiumMCSess%2C%2C-1%7CCrisisSess%2C%2C-1%7CUVOwnersSess%2C%2C-1%7CRestPremRSess%2C%2C-1%7CRepTarMCSess%2C%2C-1%7CCCSess%2C%2C-1%7CCYLSess%2C%2C-1%7CPremRetPers%2C%2C-1%7CViatorMCPers%2C%2C-1%7Csesssticker%2C%2C-1%7C%24%2C%2C-1%7CPremiumORSess%2C%2C-1%7Ct4b-sc%2C%2C-1%7CRestAdsPers%2C%2C-1%7CMC_IB_UPSELL_IB_LOGOS2%2C%2C-1%7CTSMCPers%2C%2C-1%7Cb2bmcpers%2C%2C-1%7CPremMCBtmSess%2C%2C-1%7CMC_IB_UPSELL_IB_LOGOS%2C%2C-1%7CLaFourchette+Banners%2C%2C-1%7Csess_rev%2C%2C-1%7Csessamex%2C%2C-1%7CPremiumRRSess%2C%2C-1%7CTADORSess%2C%2C-1%7CAdsRetPers%2C%2C-1%7CListMCSess%2C%2C-1%7CTARSWBPers%2C%2C-1%7CSPMCSess%2C%2C-1%7CTheForkORSess%2C%2C-1%7CTheForkRRSess%2C%2C-1%7Cpers_rev%2C%2C-1%7CRBAPers%2C%2C-1%7CRestAds%2FRSess%2C%2C-1%7CHomeAPers%2C%2C-1%7CPremiumMobPers%2C%2C-1%7CRCSess%2C%2C-1%7CLaFourchette+MC+Banners%2C%2C-1%7CRestAdsCCSess%2C%2C-1%7CRestPremRPers%2C%2C-1%7CRevHubRMPers%2C%2C-1%7CUVOwnersPers%2C%2C-1%7Cpssamex%2C%2C-1%7CTheForkMCCSess%2C%2C-1%7CCrisisPers%2C%2C-1%7CCYLPers%2C%2C-1%7CCCPers%2C%2C-1%7CRepTarMCPers%2C%2C-1%7Cb2bmcsess%2C%2C-1%7CTSMCSess%2C%2C-1%7CSPMCPers%2C%2C-1%7CRevHubRMSess%2C%2C-1%7CPremRetSess%2C%2C-1%7CViatorMCSess%2C%2C-1%7CPremiumMCPers%2C%2C-1%7CAdsRetSess%2C%2C-1%7CPremiumRRPers%2C%2C-1%7CRestAdsCCPers%2C%2C-1%7CTADORPers%2C%2C-1%7CTheForkORPers%2C%2C-1%7CPremMCBtmPers%2C%2C-1%7CTheForkRRPers%2C%2C-1%7CTARSWBSess%2C%2C-1%7CPremiumORPers%2C%2C-1%7CRestAdsSess%2C%2C-1%7CRBASess%2C%2C-1%7CSPORPers%2C%2C-1%7Cperssticker%2C%2C-1%7CListMCPers%2C%2C-1%7C; Domain=.tripadvisor.co.id; Expires=Sat, 21-May-2033 22:47:04 GMT; Path=/\n",
      "header: Set-Cookie: BEPIN=%1%1884ff1c234%3Bweb123a.a.tripadvisor.com%3A30023%3B; Domain=.tripadvisor.co.id; Path=/\n",
      "header: Set-Cookie: PAC=AKKi1VE2iliVhIz6ky7W2yhvmJk4Wq6zyCknyMfZQ6m4aplyiINzFVyFVINgb2iuHR1tLDgUp1iTiG58Xzd2Y6KsuzEmpluGWN9uv6-m7NUEcbKyKI-UDEZmMsCb1CuMxCyf0YEzzWmH1n-Sj3rwr7lXUbp3hdFBDrdpWsI8ZKQA7-c-6gayK1a7uNG0HVI5fxC3kbYxrW566E-aWHgzR2DlWn0zUi4mwZwWqlAaWpGI; Domain=www.tripadvisor.co.id; Expires=Fri, 23-May-2025 22:47:04 GMT; Path=/; Secure; HttpOnly\n",
      "header: Set-Cookie: SRT=TART_SYNC; Domain=www.tripadvisor.co.id; Expires=Wed, 24-May-2023 23:17:04 GMT; Path=/\n",
      "header: Set-Cookie: TATravelInfo=V2*AY.2023*AM.6*AD.4*DY.2023*DM.6*DD.5*A.2*MG.-1*HP.2*FL.3*DSM.1684968424085*RS.1; Domain=.tripadvisor.co.id; Expires=Wed, 07-Jun-2023 22:47:04 GMT; Path=/\n",
      "header: Set-Cookie: TAUD=LG-1684968423972-2.1.F.*RDD-2-2023_05_25*HDD-3-2023_06_04.2023_06_05.1; Domain=.tripadvisor.co.id; Expires=Wed, 07-Jun-2023 22:47:04 GMT; Path=/\n",
      "header: Set-Cookie: TASID=BB410B74EFF64A788405430D0D4185A0; Domain=www.tripadvisor.co.id; Expires=Wed, 24-May-2023 23:17:04 GMT; Path=/; Secure\n",
      "header: Set-Cookie: TAReturnTo=%1%%2FHotel_Review-g297701-d2298887-Reviews-or20-The_Kampung_Ubud_Villa-Ubud_Gianyar_Regency_Bali.html; Domain=.tripadvisor.co.id; Path=/\n",
      "header: Set-Cookie: datadome=54~~hqjpWi9oQm~zFIIJ4_s0PBL6rUAlIM7yq39l-nhBOl4d0LucLTnA2bYPh4EFGWf2sWS-p048_h7LKw~or3xiZlYiLbZvCRH_Oic7pGXvs27DmNb7JP-sU0bVRwWi; Max-Age=31104000; Domain=.tripadvisor.co.id; Path=/; Secure; SameSite=Lax\n",
      "Done Scrapping The Kampung Ubud Villa page 4\n",
      "\n",
      "\n"
     ]
    },
    {
     "name": "stderr",
     "output_type": "stream",
     "text": [
      "DEBUG:urllib3.connectionpool:Starting new HTTPS connection (1): www.tripadvisor.co.id:443\n"
     ]
    },
    {
     "name": "stdout",
     "output_type": "stream",
     "text": [
      "send: b'GET /Hotel_Review-g297701-d2298887-Reviews-or25-The_Kampung_Ubud_Villa-Ubud_Gianyar_Regency_Bali.html HTTP/1.1\\r\\nHost: www.tripadvisor.co.id\\r\\nUser-Agent: Mozilla/5.0 (X11; CrOS x86_64 12871.102.0) AppleWebKit/537.36 (KHTML, like Gecko) Chrome/81.0.4044.141 Safari/537.36\\r\\nAccept-Encoding: gzip, deflate\\r\\nAccept: */*\\r\\nConnection: keep-alive\\r\\n\\r\\n'\n"
     ]
    },
    {
     "name": "stderr",
     "output_type": "stream",
     "text": [
      "DEBUG:urllib3.connectionpool:https://www.tripadvisor.co.id:443 \"GET /Hotel_Review-g297701-d2298887-Reviews-or25-The_Kampung_Ubud_Villa-Ubud_Gianyar_Regency_Bali.html HTTP/1.1\" 200 None\n"
     ]
    },
    {
     "name": "stdout",
     "output_type": "stream",
     "text": [
      "reply: 'HTTP/1.1 200 OK\\r\\n'\n",
      "header: Server: envoy\n",
      "header: Link: <https://media-cdn.tripadvisor.com/media/>;rel=\"preconnect\";crossorigin\n",
      "header: Link: <https://media-cdn.tripadvisor.com/media/>;rel=\"dns-prefetch\"\n",
      "header: p3p: CP=\"NOI CURa ADMa DEVa TAIa OUR BUS IND UNI COM NAV INT DSP COR CAO PSA IDC ADM DEVi TAIi PSD IVAi IVDi CONi HIS CNT\"\n",
      "header: Pragma: no-cache\n",
      "header: Cache-Control: no-cache, no-store, must-revalidate\n",
      "header: Expires: 0\n",
      "header: Content-Language: id\n",
      "header: Link: <https://static.tacdn.com>;rel=\"dns-prefetch\"\n",
      "header: Link: <https://static.tacdn.com>;rel=\"preconnect\";crossorigin\n",
      "header: timing-allow-origin: https://www.tripadvisor.com\n",
      "header: Vary: Accept-Encoding\n",
      "header: Content-Type: text/html;charset=UTF-8\n",
      "header: x-datadome: protected\n",
      "header: Accept-CH: Sec-CH-UA,Sec-CH-UA-Mobile,Sec-CH-UA-Platform,Sec-CH-UA-Arch,Sec-CH-UA-Full-Version-List,Sec-CH-UA-Model,Sec-CH-Device-Memory\n",
      "header: Content-Encoding: gzip\n",
      "header: x-request-id: 570d3029-d2b3-4ac4-af24-ce0eda1ec0ea\n",
      "header: Date: Wed, 24 May 2023 22:47:09 GMT\n",
      "header: Transfer-Encoding: chunked\n",
      "header: Connection: keep-alive\n",
      "header: Connection: Transfer-Encoding\n",
      "header: Set-Cookie: TADCID=HT0lDJ-MUn1pZns2ABQCXdElnkGETRW-Svh01l3nWnW8RD2D3LNxCaDv3vVgJbppuUNGDfi2MNQeDyUAvQTpSh81IdjU69ZASe4; Domain=www.tripadvisor.co.id; Expires=Sat, 21-May-2033 22:47:08 GMT; Path=/; Secure; HttpOnly\n",
      "header: Set-Cookie: TAUnique=%1%enc%3A%2BiP6Xlgi%2Bz%2BCNtgs%2BCN3NnGfQMMEYPnqM5U2%2Bj0nTgndejQFbukZQQ%3D%3D; Domain=.tripadvisor.co.id; Expires=Fri, 23-May-2025 22:47:08 GMT; Path=/; HttpOnly\n",
      "header: Set-Cookie: TASSK=enc%3AAF5me54TtNZmBPXk3QkWZTSTvqF0va7UOCVPpxssE7FvYVl3S%2BZYn%2BrwOfnCjrbnNOkbgl8aK2vykl0POd%2F0mQ8rTQXGGazN7GUif8ieIqTUKWXPGvDL79B9KxtnsC7qGg%3D%3D; Domain=www.tripadvisor.co.id; Expires=Mon, 20-Nov-2023 22:47:08 GMT; Path=/; HttpOnly\n",
      "header: Set-Cookie: TASession=V2ID.4748E32C7D674F3EA98CCC85FB757437*SQ.1*HS.recommended*ES.popularity*DS.5*SAS.popularity*FPS.oldFirst*LF.in*FA.1*DF.0*TRA.true*LD.2298887; Domain=.tripadvisor.co.id; Path=/\n",
      "header: Set-Cookie: ServerPool=B; Domain=.tripadvisor.co.id; Path=/\n",
      "header: Set-Cookie: PMC=V2*MS.72*MD.20230524*LD.20230524; Domain=www.tripadvisor.co.id; Expires=Fri, 23-May-2025 22:47:08 GMT; Path=/; Secure; HttpOnly\n",
      "header: Set-Cookie: TART=%1%enc%3AgjbYLPgjdzaxS15%2BRWc46ri48ZBO%2Fl3WNZ%2BvbMw9iIVpL%2Bq58DFzB3dXhNziflyaIKwFiURT2JU%3D; Domain=www.tripadvisor.co.id; Expires=Mon, 29-May-2023 22:47:08 GMT; Path=/; HttpOnly\n",
      "header: Set-Cookie: CM=%1%PremiumMobSess%2C%2C-1%7Ct4b-pc%2C%2C-1%7CRestAds%2FRPers%2C%2C-1%7CRCPers%2C%2C-1%7CWShadeSeen%2C%2C-1%7CTheForkMCCPers%2C%2C-1%7CHomeASess%2C%2C-1%7CPremiumMCSess%2C%2C-1%7CCrisisSess%2C%2C-1%7CUVOwnersSess%2C%2C-1%7CRestPremRSess%2C%2C-1%7CRepTarMCSess%2C%2C-1%7CCCSess%2C%2C-1%7CCYLSess%2C%2C-1%7CPremRetPers%2C%2C-1%7CViatorMCPers%2C%2C-1%7Csesssticker%2C%2C-1%7C%24%2C%2C-1%7CPremiumORSess%2C%2C-1%7Ct4b-sc%2C%2C-1%7CRestAdsPers%2C%2C-1%7CMC_IB_UPSELL_IB_LOGOS2%2C%2C-1%7CTSMCPers%2C%2C-1%7Cb2bmcpers%2C%2C-1%7CPremMCBtmSess%2C%2C-1%7CMC_IB_UPSELL_IB_LOGOS%2C%2C-1%7CLaFourchette+Banners%2C%2C-1%7Csess_rev%2C%2C-1%7Csessamex%2C%2C-1%7CPremiumRRSess%2C%2C-1%7CTADORSess%2C%2C-1%7CAdsRetPers%2C%2C-1%7CListMCSess%2C%2C-1%7CTARSWBPers%2C%2C-1%7CSPMCSess%2C%2C-1%7CTheForkORSess%2C%2C-1%7CTheForkRRSess%2C%2C-1%7Cpers_rev%2C%2C-1%7CRBAPers%2C%2C-1%7CRestAds%2FRSess%2C%2C-1%7CHomeAPers%2C%2C-1%7CPremiumMobPers%2C%2C-1%7CRCSess%2C%2C-1%7CLaFourchette+MC+Banners%2C%2C-1%7CRestAdsCCSess%2C%2C-1%7CRestPremRPers%2C%2C-1%7CRevHubRMPers%2C%2C-1%7CUVOwnersPers%2C%2C-1%7Cpssamex%2C%2C-1%7CTheForkMCCSess%2C%2C-1%7CCrisisPers%2C%2C-1%7CCYLPers%2C%2C-1%7CCCPers%2C%2C-1%7CRepTarMCPers%2C%2C-1%7Cb2bmcsess%2C%2C-1%7CTSMCSess%2C%2C-1%7CSPMCPers%2C%2C-1%7CRevHubRMSess%2C%2C-1%7CPremRetSess%2C%2C-1%7CViatorMCSess%2C%2C-1%7CPremiumMCPers%2C%2C-1%7CAdsRetSess%2C%2C-1%7CPremiumRRPers%2C%2C-1%7CRestAdsCCPers%2C%2C-1%7CTADORPers%2C%2C-1%7CTheForkORPers%2C%2C-1%7CPremMCBtmPers%2C%2C-1%7CTheForkRRPers%2C%2C-1%7CTARSWBSess%2C%2C-1%7CPremiumORPers%2C%2C-1%7CRestAdsSess%2C%2C-1%7CRBASess%2C%2C-1%7CSPORPers%2C%2C-1%7Cperssticker%2C%2C-1%7CListMCPers%2C%2C-1%7C; Domain=.tripadvisor.co.id; Expires=Sat, 21-May-2033 22:47:08 GMT; Path=/\n",
      "header: Set-Cookie: BEPIN=%1%1884ff1d30f%3Bweb607a.a.tripadvisor.com%3A30023%3B; Domain=.tripadvisor.co.id; Path=/\n",
      "header: Set-Cookie: PAC=ANvfKdoS5jLvk4mvC_s_3bhtzGbUmSgUFpT1h5fJwUHC4s20CrHAWBLZFjafXUqb8vaYy9We6eGBZy75j2Nck6rp7Z6rnmlCPfgDqR8q2t-4HejQAJFLLIJqSKr-h7K4ZDqwnBZeOSkS1UTaVOcD8MXgEtH8D7rqP6p1E5MM10RBZHfg7B9HrWBYkmjt5nZLJoDHur1dSdm9g-dPsWslBgNZywKyswTJ8U4pEOlc_77i; Domain=www.tripadvisor.co.id; Expires=Fri, 23-May-2025 22:47:08 GMT; Path=/; Secure; HttpOnly\n",
      "header: Set-Cookie: SRT=TART_SYNC; Domain=www.tripadvisor.co.id; Expires=Wed, 24-May-2023 23:17:08 GMT; Path=/\n",
      "header: Set-Cookie: TATravelInfo=V2*AY.2023*AM.6*AD.4*DY.2023*DM.6*DD.5*A.2*MG.-1*HP.2*FL.3*DSM.1684968428396*RS.1; Domain=.tripadvisor.co.id; Expires=Wed, 07-Jun-2023 22:47:08 GMT; Path=/\n",
      "header: Set-Cookie: TAUD=LG-1684968428269-2.1.F.*RDD-2-2023_05_25*HDD-3-2023_06_04.2023_06_05.1; Domain=.tripadvisor.co.id; Expires=Wed, 07-Jun-2023 22:47:08 GMT; Path=/\n",
      "header: Set-Cookie: TASID=4748E32C7D674F3EA98CCC85FB757437; Domain=www.tripadvisor.co.id; Expires=Wed, 24-May-2023 23:17:08 GMT; Path=/; Secure\n",
      "header: Set-Cookie: TAReturnTo=%1%%2FHotel_Review-g297701-d2298887-Reviews-or25-The_Kampung_Ubud_Villa-Ubud_Gianyar_Regency_Bali.html; Domain=.tripadvisor.co.id; Path=/\n",
      "header: Set-Cookie: datadome=0KyiE-ks3DAUH0mZyRWlhxgfLLnizBhEGmEvJEHdPJZkg3t-RM4tPpCs~zNMALRGwi5Vg7M2x2EVroBBTDDZcROHlN-F~kLqJabRbJETnUlSTdzyAPNrp-0BiGa8Zz5v; Max-Age=31104000; Domain=.tripadvisor.co.id; Path=/; Secure; SameSite=Lax\n",
      "Done Scrapping The Kampung Ubud Villa page 5\n",
      "\n",
      "\n"
     ]
    },
    {
     "name": "stderr",
     "output_type": "stream",
     "text": [
      "DEBUG:urllib3.connectionpool:Starting new HTTPS connection (1): www.tripadvisor.co.id:443\n"
     ]
    },
    {
     "name": "stdout",
     "output_type": "stream",
     "text": [
      "send: b'GET /Hotel_Review-g297701-d2298887-Reviews-or30-The_Kampung_Ubud_Villa-Ubud_Gianyar_Regency_Bali.html HTTP/1.1\\r\\nHost: www.tripadvisor.co.id\\r\\nUser-Agent: Mozilla/5.0 (X11; CrOS x86_64 12871.102.0) AppleWebKit/537.36 (KHTML, like Gecko) Chrome/81.0.4044.141 Safari/537.36\\r\\nAccept-Encoding: gzip, deflate\\r\\nAccept: */*\\r\\nConnection: keep-alive\\r\\n\\r\\n'\n"
     ]
    },
    {
     "name": "stderr",
     "output_type": "stream",
     "text": [
      "DEBUG:urllib3.connectionpool:https://www.tripadvisor.co.id:443 \"GET /Hotel_Review-g297701-d2298887-Reviews-or30-The_Kampung_Ubud_Villa-Ubud_Gianyar_Regency_Bali.html HTTP/1.1\" 200 None\n"
     ]
    },
    {
     "name": "stdout",
     "output_type": "stream",
     "text": [
      "reply: 'HTTP/1.1 200 OK\\r\\n'\n",
      "header: Server: envoy\n",
      "header: Link: <https://media-cdn.tripadvisor.com/media/>;rel=\"preconnect\";crossorigin\n",
      "header: Link: <https://media-cdn.tripadvisor.com/media/>;rel=\"dns-prefetch\"\n",
      "header: p3p: CP=\"NOI CURa ADMa DEVa TAIa OUR BUS IND UNI COM NAV INT DSP COR CAO PSA IDC ADM DEVi TAIi PSD IVAi IVDi CONi HIS CNT\"\n",
      "header: Pragma: no-cache\n",
      "header: Cache-Control: no-cache, no-store, must-revalidate\n",
      "header: Expires: 0\n",
      "header: Content-Language: id\n",
      "header: Link: <https://static.tacdn.com>;rel=\"dns-prefetch\"\n",
      "header: Link: <https://static.tacdn.com>;rel=\"preconnect\";crossorigin\n",
      "header: timing-allow-origin: https://www.tripadvisor.com\n",
      "header: Vary: Accept-Encoding\n",
      "header: Content-Type: text/html;charset=UTF-8\n",
      "header: x-datadome: protected\n",
      "header: Accept-CH: Sec-CH-UA,Sec-CH-UA-Mobile,Sec-CH-UA-Platform,Sec-CH-UA-Arch,Sec-CH-UA-Full-Version-List,Sec-CH-UA-Model,Sec-CH-Device-Memory\n",
      "header: Content-Encoding: gzip\n",
      "header: x-request-id: da90028e-e803-42ee-a516-1bac0318913c\n",
      "header: Date: Wed, 24 May 2023 22:47:13 GMT\n",
      "header: Transfer-Encoding: chunked\n",
      "header: Connection: keep-alive\n",
      "header: Connection: Transfer-Encoding\n",
      "header: Set-Cookie: TADCID=lg1OGPxjklrMSIYNABQCXdElnkGETRW-Svh01l3nWnW8RFA7GuMUj3g44yplup_nmRiYTcNBnFU7kBJwL5nmkqKA5r4yM7e_MFs; Domain=www.tripadvisor.co.id; Expires=Sat, 21-May-2033 22:47:12 GMT; Path=/; Secure; HttpOnly\n",
      "header: Set-Cookie: TAUnique=%1%enc%3AVk7jcyNIkdSCNtgs%2BCN3NnGfQMMEYPnqGavqzMqhiJ3W1ew6VZrr0w%3D%3D; Domain=.tripadvisor.co.id; Expires=Fri, 23-May-2025 22:47:12 GMT; Path=/; HttpOnly\n",
      "header: Set-Cookie: TASSK=enc%3AAI%2BOetksoQY5D7LN0bleCpU4LRB3BdZClUtX5Q4wt1sVbvAiMPtaqvQnceHUrs7Hhi1MozyaupAQo9U3txPqYmnqHD9B%2BngKln5L8H1S7lhAc2TaZ8eBb%2F1wVOrVWOuX6Q%3D%3D; Domain=www.tripadvisor.co.id; Expires=Mon, 20-Nov-2023 22:47:13 GMT; Path=/; HttpOnly\n",
      "header: Set-Cookie: TASession=V2ID.02EC6BABA60B47E4A707F33B2CF57CEC*SQ.1*HS.recommended*ES.popularity*DS.5*SAS.popularity*FPS.oldFirst*LF.in*FA.1*DF.0*TRA.true*LD.2298887; Domain=.tripadvisor.co.id; Path=/\n",
      "header: Set-Cookie: ServerPool=C; Domain=.tripadvisor.co.id; Path=/\n",
      "header: Set-Cookie: PMC=V2*MS.16*MD.20230524*LD.20230524; Domain=www.tripadvisor.co.id; Expires=Fri, 23-May-2025 22:47:13 GMT; Path=/; Secure; HttpOnly\n",
      "header: Set-Cookie: TART=%1%enc%3AgjbYLPgjdzaxS15%2BRWc46qGFDVh07MCJvbId3FPLb5qE7HYxqgR8KMIe4rldKs9KRhgmCXYimLs%3D; Domain=www.tripadvisor.co.id; Expires=Mon, 29-May-2023 22:47:13 GMT; Path=/; HttpOnly\n",
      "header: Set-Cookie: CM=%1%PremiumMobSess%2C%2C-1%7Ct4b-pc%2C%2C-1%7CRestAds%2FRPers%2C%2C-1%7CRCPers%2C%2C-1%7CWShadeSeen%2C%2C-1%7CTheForkMCCPers%2C%2C-1%7CHomeASess%2C%2C-1%7CPremiumMCSess%2C%2C-1%7CCrisisSess%2C%2C-1%7CUVOwnersSess%2C%2C-1%7CRestPremRSess%2C%2C-1%7CRepTarMCSess%2C%2C-1%7CCCSess%2C%2C-1%7CCYLSess%2C%2C-1%7CPremRetPers%2C%2C-1%7CViatorMCPers%2C%2C-1%7Csesssticker%2C%2C-1%7C%24%2C%2C-1%7CPremiumORSess%2C%2C-1%7Ct4b-sc%2C%2C-1%7CRestAdsPers%2C%2C-1%7CMC_IB_UPSELL_IB_LOGOS2%2C%2C-1%7CTSMCPers%2C%2C-1%7Cb2bmcpers%2C%2C-1%7CPremMCBtmSess%2C%2C-1%7CMC_IB_UPSELL_IB_LOGOS%2C%2C-1%7CLaFourchette+Banners%2C%2C-1%7Csess_rev%2C%2C-1%7Csessamex%2C%2C-1%7CPremiumRRSess%2C%2C-1%7CTADORSess%2C%2C-1%7CAdsRetPers%2C%2C-1%7CListMCSess%2C%2C-1%7CTARSWBPers%2C%2C-1%7CSPMCSess%2C%2C-1%7CTheForkORSess%2C%2C-1%7CTheForkRRSess%2C%2C-1%7Cpers_rev%2C%2C-1%7CRBAPers%2C%2C-1%7CRestAds%2FRSess%2C%2C-1%7CHomeAPers%2C%2C-1%7CPremiumMobPers%2C%2C-1%7CRCSess%2C%2C-1%7CLaFourchette+MC+Banners%2C%2C-1%7CRestAdsCCSess%2C%2C-1%7CRestPremRPers%2C%2C-1%7CRevHubRMPers%2C%2C-1%7CUVOwnersPers%2C%2C-1%7Cpssamex%2C%2C-1%7CTheForkMCCSess%2C%2C-1%7CCrisisPers%2C%2C-1%7CCYLPers%2C%2C-1%7CCCPers%2C%2C-1%7CRepTarMCPers%2C%2C-1%7Cb2bmcsess%2C%2C-1%7CTSMCSess%2C%2C-1%7CSPMCPers%2C%2C-1%7CRevHubRMSess%2C%2C-1%7CPremRetSess%2C%2C-1%7CViatorMCSess%2C%2C-1%7CPremiumMCPers%2C%2C-1%7CAdsRetSess%2C%2C-1%7CPremiumRRPers%2C%2C-1%7CRestAdsCCPers%2C%2C-1%7CTADORPers%2C%2C-1%7CTheForkORPers%2C%2C-1%7CPremMCBtmPers%2C%2C-1%7CTheForkRRPers%2C%2C-1%7CTARSWBSess%2C%2C-1%7CPremiumORPers%2C%2C-1%7CRestAdsSess%2C%2C-1%7CRBASess%2C%2C-1%7CSPORPers%2C%2C-1%7Cperssticker%2C%2C-1%7CListMCPers%2C%2C-1%7C; Domain=.tripadvisor.co.id; Expires=Sat, 21-May-2033 22:47:13 GMT; Path=/\n",
      "header: Set-Cookie: BEPIN=%1%1884ff1e4f5%3Bweb123a.a.tripadvisor.com%3A30023%3B; Domain=.tripadvisor.co.id; Path=/\n",
      "header: Set-Cookie: PAC=AGo-hhImFNipJIGOPQ5ycBMoz9b0G3r4PIT5iXaovKJi-HhPagi74GhhEfB6hv4-X7BLvq-JUHiTAEa3ckDP476n2n9Y8ANS7XJsCfAyXb8XBg0GqrqXhXatpJ4kh04loiB0QXhGPjHYej11878U9UeVCljtj13Tn2V7Twkb2Pu5JlawYjAlmFX-zMWx2g3pk0ayz084wEE9tZMKNthtGVm_ni55p-zQHwx8II_YaR9o; Domain=www.tripadvisor.co.id; Expires=Fri, 23-May-2025 22:47:13 GMT; Path=/; Secure; HttpOnly\n",
      "header: Set-Cookie: SRT=TART_SYNC; Domain=www.tripadvisor.co.id; Expires=Wed, 24-May-2023 23:17:13 GMT; Path=/\n",
      "header: Set-Cookie: TATravelInfo=V2*AY.2023*AM.6*AD.4*DY.2023*DM.6*DD.5*A.2*MG.-1*HP.2*FL.3*DSM.1684968432969*RS.1; Domain=.tripadvisor.co.id; Expires=Wed, 07-Jun-2023 22:47:13 GMT; Path=/\n",
      "header: Set-Cookie: TAUD=LG-1684968432871-2.1.F.*RDD-2-2023_05_25*HDD-3-2023_06_04.2023_06_05.1; Domain=.tripadvisor.co.id; Expires=Wed, 07-Jun-2023 22:47:13 GMT; Path=/\n",
      "header: Set-Cookie: TASID=02EC6BABA60B47E4A707F33B2CF57CEC; Domain=www.tripadvisor.co.id; Expires=Wed, 24-May-2023 23:17:13 GMT; Path=/; Secure\n",
      "header: Set-Cookie: TAReturnTo=%1%%2FHotel_Review-g297701-d2298887-Reviews-or30-The_Kampung_Ubud_Villa-Ubud_Gianyar_Regency_Bali.html; Domain=.tripadvisor.co.id; Path=/\n",
      "header: Set-Cookie: datadome=cdiYun19Uz9Tmt3XN1Jci1Rvcjcl7Y5Nk_U5HGK8IXzMFrhF901fILc2c0o7EllHzHlYn3VIgGj~bg1NrryMdo7phQstMuSi6A9LBTC6u3hOTDnpgNpsk1kPNMXhDPE; Max-Age=31104000; Domain=.tripadvisor.co.id; Path=/; Secure; SameSite=Lax\n",
      "Done Scrapping The Kampung Ubud Villa page 6\n",
      "\n",
      "\n"
     ]
    },
    {
     "name": "stderr",
     "output_type": "stream",
     "text": [
      "DEBUG:urllib3.connectionpool:Starting new HTTPS connection (1): www.tripadvisor.co.id:443\n"
     ]
    },
    {
     "name": "stdout",
     "output_type": "stream",
     "text": [
      "send: b'GET /Hotel_Review-g297701-d2298887-Reviews-or35-The_Kampung_Ubud_Villa-Ubud_Gianyar_Regency_Bali.html HTTP/1.1\\r\\nHost: www.tripadvisor.co.id\\r\\nUser-Agent: Mozilla/5.0 (X11; CrOS x86_64 12871.102.0) AppleWebKit/537.36 (KHTML, like Gecko) Chrome/81.0.4044.141 Safari/537.36\\r\\nAccept-Encoding: gzip, deflate\\r\\nAccept: */*\\r\\nConnection: keep-alive\\r\\n\\r\\n'\n"
     ]
    },
    {
     "name": "stderr",
     "output_type": "stream",
     "text": [
      "DEBUG:urllib3.connectionpool:https://www.tripadvisor.co.id:443 \"GET /Hotel_Review-g297701-d2298887-Reviews-or35-The_Kampung_Ubud_Villa-Ubud_Gianyar_Regency_Bali.html HTTP/1.1\" 200 None\n"
     ]
    },
    {
     "name": "stdout",
     "output_type": "stream",
     "text": [
      "reply: 'HTTP/1.1 200 OK\\r\\n'\n",
      "header: Server: envoy\n",
      "header: Link: <https://media-cdn.tripadvisor.com/media/>;rel=\"preconnect\";crossorigin\n",
      "header: Link: <https://media-cdn.tripadvisor.com/media/>;rel=\"dns-prefetch\"\n",
      "header: p3p: CP=\"NOI CURa ADMa DEVa TAIa OUR BUS IND UNI COM NAV INT DSP COR CAO PSA IDC ADM DEVi TAIi PSD IVAi IVDi CONi HIS CNT\"\n",
      "header: Pragma: no-cache\n",
      "header: Cache-Control: no-cache, no-store, must-revalidate\n",
      "header: Expires: 0\n",
      "header: Content-Language: id\n",
      "header: Link: <https://static.tacdn.com>;rel=\"dns-prefetch\"\n",
      "header: Link: <https://static.tacdn.com>;rel=\"preconnect\";crossorigin\n",
      "header: timing-allow-origin: https://www.tripadvisor.com\n",
      "header: Vary: Accept-Encoding\n",
      "header: Content-Type: text/html;charset=UTF-8\n",
      "header: x-datadome: protected\n",
      "header: Accept-CH: Sec-CH-UA,Sec-CH-UA-Mobile,Sec-CH-UA-Platform,Sec-CH-UA-Arch,Sec-CH-UA-Full-Version-List,Sec-CH-UA-Model,Sec-CH-Device-Memory\n",
      "header: Content-Encoding: gzip\n",
      "header: x-request-id: 139c146d-81da-4b43-9235-3da78a375b61\n",
      "header: Date: Wed, 24 May 2023 22:47:18 GMT\n",
      "header: Transfer-Encoding: chunked\n",
      "header: Connection: keep-alive\n",
      "header: Connection: Transfer-Encoding\n",
      "header: Set-Cookie: TADCID=puVsLFUdun14qLfSABQCXdElnkGETRW-Svh01l3nWnW8RI7MRXrpx4i61iDww53QMZi0FDaSIaDNbrOYYrJjNa3cnrPIXUm6j-k; Domain=www.tripadvisor.co.id; Expires=Sat, 21-May-2033 22:47:17 GMT; Path=/; Secure; HttpOnly\n",
      "header: Set-Cookie: TAUnique=%1%enc%3A7TlWNpsqMp%2BCNtgs%2BCN3NnGfQMMEYPnqMlUsTTq0RdBKJ8NlAmhAyQ%3D%3D; Domain=.tripadvisor.co.id; Expires=Fri, 23-May-2025 22:47:17 GMT; Path=/; HttpOnly\n",
      "header: Set-Cookie: TASSK=enc%3AAJya76oi%2FKXOOFlJVX%2FwqBvd58Zua46PPT1RmVUgVf04B7qSiK%2BhlGkGztMRzrifsBfDwqqzfKX%2FqSdTR5Pu8rFudtLyhqwlq63azRba1Fb7QmEmH0X%2FUtaTSEqKzV5VbQ%3D%3D; Domain=www.tripadvisor.co.id; Expires=Mon, 20-Nov-2023 22:47:17 GMT; Path=/; HttpOnly\n",
      "header: Set-Cookie: TASession=V2ID.23570D54EEFC4993880BD77461D9F590*SQ.1*HS.recommended*ES.popularity*DS.5*SAS.popularity*FPS.oldFirst*LF.in*FA.1*DF.0*TRA.true*LD.2298887; Domain=.tripadvisor.co.id; Path=/\n",
      "header: Set-Cookie: ServerPool=A; Domain=.tripadvisor.co.id; Path=/\n",
      "header: Set-Cookie: PMC=V2*MS.99*MD.20230524*LD.20230524; Domain=www.tripadvisor.co.id; Expires=Fri, 23-May-2025 22:47:17 GMT; Path=/; Secure; HttpOnly\n",
      "header: Set-Cookie: TART=%1%enc%3AgjbYLPgjdzaxS15%2BRWc46kcej3l7vlpMWI%2BLdIuxtrEnUZ6oTFrOdeo9LjKhvP13EgesRaiyMF4%3D; Domain=www.tripadvisor.co.id; Expires=Mon, 29-May-2023 22:47:17 GMT; Path=/; HttpOnly\n",
      "header: Set-Cookie: CM=%1%PremiumMobSess%2C%2C-1%7Ct4b-pc%2C%2C-1%7CRestAds%2FRPers%2C%2C-1%7CRCPers%2C%2C-1%7CWShadeSeen%2C%2C-1%7CTheForkMCCPers%2C%2C-1%7CHomeASess%2C%2C-1%7CPremiumMCSess%2C%2C-1%7CCrisisSess%2C%2C-1%7CUVOwnersSess%2C%2C-1%7CRestPremRSess%2C%2C-1%7CRepTarMCSess%2C%2C-1%7CCCSess%2C%2C-1%7CCYLSess%2C%2C-1%7CPremRetPers%2C%2C-1%7CViatorMCPers%2C%2C-1%7Csesssticker%2C%2C-1%7C%24%2C%2C-1%7CPremiumORSess%2C%2C-1%7Ct4b-sc%2C%2C-1%7CRestAdsPers%2C%2C-1%7CMC_IB_UPSELL_IB_LOGOS2%2C%2C-1%7CTSMCPers%2C%2C-1%7Cb2bmcpers%2C%2C-1%7CPremMCBtmSess%2C%2C-1%7CMC_IB_UPSELL_IB_LOGOS%2C%2C-1%7CLaFourchette+Banners%2C%2C-1%7Csess_rev%2C%2C-1%7Csessamex%2C%2C-1%7CPremiumRRSess%2C%2C-1%7CTADORSess%2C%2C-1%7CAdsRetPers%2C%2C-1%7CListMCSess%2C%2C-1%7CTARSWBPers%2C%2C-1%7CSPMCSess%2C%2C-1%7CTheForkORSess%2C%2C-1%7CTheForkRRSess%2C%2C-1%7Cpers_rev%2C%2C-1%7CRBAPers%2C%2C-1%7CRestAds%2FRSess%2C%2C-1%7CHomeAPers%2C%2C-1%7CPremiumMobPers%2C%2C-1%7CRCSess%2C%2C-1%7CLaFourchette+MC+Banners%2C%2C-1%7CRestAdsCCSess%2C%2C-1%7CRestPremRPers%2C%2C-1%7CRevHubRMPers%2C%2C-1%7CUVOwnersPers%2C%2C-1%7Cpssamex%2C%2C-1%7CTheForkMCCSess%2C%2C-1%7CCrisisPers%2C%2C-1%7CCYLPers%2C%2C-1%7CCCPers%2C%2C-1%7CRepTarMCPers%2C%2C-1%7Cb2bmcsess%2C%2C-1%7CTSMCSess%2C%2C-1%7CSPMCPers%2C%2C-1%7CRevHubRMSess%2C%2C-1%7CPremRetSess%2C%2C-1%7CViatorMCSess%2C%2C-1%7CPremiumMCPers%2C%2C-1%7CAdsRetSess%2C%2C-1%7CPremiumRRPers%2C%2C-1%7CRestAdsCCPers%2C%2C-1%7CTADORPers%2C%2C-1%7CTheForkORPers%2C%2C-1%7CPremMCBtmPers%2C%2C-1%7CTheForkRRPers%2C%2C-1%7CTARSWBSess%2C%2C-1%7CPremiumORPers%2C%2C-1%7CRestAdsSess%2C%2C-1%7CRBASess%2C%2C-1%7CSPORPers%2C%2C-1%7Cperssticker%2C%2C-1%7CListMCPers%2C%2C-1%7C; Domain=.tripadvisor.co.id; Expires=Sat, 21-May-2033 22:47:17 GMT; Path=/\n",
      "header: Set-Cookie: BEPIN=%1%1884ff1f6e6%3Bweb788a.a.tripadvisor.com%3A30023%3B; Domain=.tripadvisor.co.id; Path=/\n",
      "header: Set-Cookie: PAC=AF16op3HE4H30Mb1oja8E9sz7O3QChDtgrRAwhJMtr_zvxr_dLS-fZD_wBGkhRBHghXjT5gxDml9SZsNvKR1jRT_bIgGf5ZMbimnxrSLp-tbuJO7bF-aaS1L8rXyAYnSPjoXPbWVki2OALnnS7u8jBad1XFY9n7Gzdv-k7JIxyB9smP7iIipP6arpeeWkJII5hInVbjK8swGnkn7qk752iDHJ2afaJoTCzk4NQ8mQttv; Domain=www.tripadvisor.co.id; Expires=Fri, 23-May-2025 22:47:17 GMT; Path=/; Secure; HttpOnly\n",
      "header: Set-Cookie: SRT=TART_SYNC; Domain=www.tripadvisor.co.id; Expires=Wed, 24-May-2023 23:17:17 GMT; Path=/\n",
      "header: Set-Cookie: TATravelInfo=V2*AY.2023*AM.6*AD.4*DY.2023*DM.6*DD.5*A.2*MG.-1*HP.2*FL.3*DSM.1684968437577*RS.1; Domain=.tripadvisor.co.id; Expires=Wed, 07-Jun-2023 22:47:17 GMT; Path=/\n",
      "header: Set-Cookie: TAUD=LG-1684968437460-2.1.F.*RDD-2-2023_05_25*HDD-3-2023_06_04.2023_06_05.1; Domain=.tripadvisor.co.id; Expires=Wed, 07-Jun-2023 22:47:17 GMT; Path=/\n",
      "header: Set-Cookie: TASID=23570D54EEFC4993880BD77461D9F590; Domain=www.tripadvisor.co.id; Expires=Wed, 24-May-2023 23:17:17 GMT; Path=/; Secure\n",
      "header: Set-Cookie: TAReturnTo=%1%%2FHotel_Review-g297701-d2298887-Reviews-or35-The_Kampung_Ubud_Villa-Ubud_Gianyar_Regency_Bali.html; Domain=.tripadvisor.co.id; Path=/\n",
      "header: Set-Cookie: datadome=KsqgD1I6PvpaBsaL_EdAG-vY8W-GeACGp3Gj-kw11tvJDuIfoJIdqkb1ELSeDNoWr5ak1RHUDlPAVF8ayZR-d-zK0A3Ly57e5e9QhDN3Yl56-jY1C1sVBjN8jRimxzk; Max-Age=31104000; Domain=.tripadvisor.co.id; Path=/; Secure; SameSite=Lax\n",
      "Done Scrapping The Kampung Ubud Villa page 7\n",
      "\n",
      "\n"
     ]
    },
    {
     "name": "stderr",
     "output_type": "stream",
     "text": [
      "DEBUG:urllib3.connectionpool:Starting new HTTPS connection (1): www.tripadvisor.co.id:443\n"
     ]
    },
    {
     "name": "stdout",
     "output_type": "stream",
     "text": [
      "send: b'GET /Hotel_Review-g297701-d2298887-Reviews-or40-The_Kampung_Ubud_Villa-Ubud_Gianyar_Regency_Bali.html HTTP/1.1\\r\\nHost: www.tripadvisor.co.id\\r\\nUser-Agent: Mozilla/5.0 (X11; CrOS x86_64 12871.102.0) AppleWebKit/537.36 (KHTML, like Gecko) Chrome/81.0.4044.141 Safari/537.36\\r\\nAccept-Encoding: gzip, deflate\\r\\nAccept: */*\\r\\nConnection: keep-alive\\r\\n\\r\\n'\n"
     ]
    },
    {
     "name": "stderr",
     "output_type": "stream",
     "text": [
      "DEBUG:urllib3.connectionpool:https://www.tripadvisor.co.id:443 \"GET /Hotel_Review-g297701-d2298887-Reviews-or40-The_Kampung_Ubud_Villa-Ubud_Gianyar_Regency_Bali.html HTTP/1.1\" 200 None\n"
     ]
    },
    {
     "name": "stdout",
     "output_type": "stream",
     "text": [
      "reply: 'HTTP/1.1 200 OK\\r\\n'\n",
      "header: Server: envoy\n",
      "header: Link: <https://media-cdn.tripadvisor.com/media/>;rel=\"preconnect\";crossorigin\n",
      "header: Link: <https://media-cdn.tripadvisor.com/media/>;rel=\"dns-prefetch\"\n",
      "header: p3p: CP=\"NOI CURa ADMa DEVa TAIa OUR BUS IND UNI COM NAV INT DSP COR CAO PSA IDC ADM DEVi TAIi PSD IVAi IVDi CONi HIS CNT\"\n",
      "header: Pragma: no-cache\n",
      "header: Cache-Control: no-cache, no-store, must-revalidate\n",
      "header: Expires: 0\n",
      "header: Content-Language: id\n",
      "header: Link: <https://static.tacdn.com>;rel=\"dns-prefetch\"\n",
      "header: Link: <https://static.tacdn.com>;rel=\"preconnect\";crossorigin\n",
      "header: timing-allow-origin: https://www.tripadvisor.com\n",
      "header: Vary: Accept-Encoding\n",
      "header: Content-Type: text/html;charset=UTF-8\n",
      "header: x-datadome: protected\n",
      "header: Accept-CH: Sec-CH-UA,Sec-CH-UA-Mobile,Sec-CH-UA-Platform,Sec-CH-UA-Arch,Sec-CH-UA-Full-Version-List,Sec-CH-UA-Model,Sec-CH-Device-Memory\n",
      "header: Content-Encoding: gzip\n",
      "header: x-request-id: 2df047b5-84b4-4ac9-a206-a02b4aa1be27\n",
      "header: Date: Wed, 24 May 2023 22:47:22 GMT\n",
      "header: Transfer-Encoding: chunked\n",
      "header: Connection: keep-alive\n",
      "header: Connection: Transfer-Encoding\n",
      "header: Set-Cookie: TADCID=JUDOSWRE_PyZ-15VABQCXdElnkGETRW-Svh01l3nWnW8RP9FcEcFMd6LXVW72d23GN9TYlOVEqaa9nNRXAWxrqKM7WA-O9XS4tU; Domain=www.tripadvisor.co.id; Expires=Sat, 21-May-2033 22:47:22 GMT; Path=/; Secure; HttpOnly\n",
      "header: Set-Cookie: TAUnique=%1%enc%3A9BffKJVF1O6CNtgs%2BCN3NnGfQMMEYPnqwLgEIktGzYP%2FoDkyEYSGsQ%3D%3D; Domain=.tripadvisor.co.id; Expires=Fri, 23-May-2025 22:47:22 GMT; Path=/; HttpOnly\n",
      "header: Set-Cookie: TASSK=enc%3AAHTuPgDBWLc%2Bz63H5MIJ6M2Rp2yjoYuUlzYQNERWh1QWSIdl90kno%2BK%2F9HwJNPUlEtlM%2F72g%2BpswDhVguaR1r4KJ5BAcReOrqyHdMlxK0h4h8H1HU1ZWQZmC8Xbg%2FtK9Nw%3D%3D; Domain=www.tripadvisor.co.id; Expires=Mon, 20-Nov-2023 22:47:22 GMT; Path=/; HttpOnly\n",
      "header: Set-Cookie: TASession=V2ID.4556FD948A8D44BF98DF8DAADDB147C8*SQ.1*HS.recommended*ES.popularity*DS.5*SAS.popularity*FPS.oldFirst*LF.in*FA.1*DF.0*TRA.true*LD.2298887; Domain=.tripadvisor.co.id; Path=/\n",
      "header: Set-Cookie: ServerPool=X; Domain=.tripadvisor.co.id; Path=/\n",
      "header: Set-Cookie: PMC=V2*MS.13*MD.20230524*LD.20230524; Domain=www.tripadvisor.co.id; Expires=Fri, 23-May-2025 22:47:22 GMT; Path=/; Secure; HttpOnly\n",
      "header: Set-Cookie: TART=%1%enc%3AgjbYLPgjdzaxS15%2BRWc46o3liYhSHa%2BMKyVkoKxppZTfjmBcou9t64RxroxG7yXge2%2FXJL1tT9Q%3D; Domain=www.tripadvisor.co.id; Expires=Mon, 29-May-2023 22:47:22 GMT; Path=/; HttpOnly\n",
      "header: Set-Cookie: CM=%1%PremiumMobSess%2C%2C-1%7Ct4b-pc%2C%2C-1%7CRestAds%2FRPers%2C%2C-1%7CRCPers%2C%2C-1%7CWShadeSeen%2C%2C-1%7CTheForkMCCPers%2C%2C-1%7CHomeASess%2C%2C-1%7CPremiumMCSess%2C%2C-1%7CCrisisSess%2C%2C-1%7CUVOwnersSess%2C%2C-1%7CRestPremRSess%2C%2C-1%7CRepTarMCSess%2C%2C-1%7CCCSess%2C%2C-1%7CCYLSess%2C%2C-1%7CPremRetPers%2C%2C-1%7CViatorMCPers%2C%2C-1%7Csesssticker%2C%2C-1%7C%24%2C%2C-1%7CPremiumORSess%2C%2C-1%7Ct4b-sc%2C%2C-1%7CRestAdsPers%2C%2C-1%7CMC_IB_UPSELL_IB_LOGOS2%2C%2C-1%7CTSMCPers%2C%2C-1%7Cb2bmcpers%2C%2C-1%7CPremMCBtmSess%2C%2C-1%7CMC_IB_UPSELL_IB_LOGOS%2C%2C-1%7CLaFourchette+Banners%2C%2C-1%7Csess_rev%2C%2C-1%7Csessamex%2C%2C-1%7CPremiumRRSess%2C%2C-1%7CTADORSess%2C%2C-1%7CAdsRetPers%2C%2C-1%7CListMCSess%2C%2C-1%7CTARSWBPers%2C%2C-1%7CSPMCSess%2C%2C-1%7CTheForkORSess%2C%2C-1%7CTheForkRRSess%2C%2C-1%7Cpers_rev%2C%2C-1%7CRBAPers%2C%2C-1%7CRestAds%2FRSess%2C%2C-1%7CHomeAPers%2C%2C-1%7CPremiumMobPers%2C%2C-1%7CRCSess%2C%2C-1%7CLaFourchette+MC+Banners%2C%2C-1%7CRestAdsCCSess%2C%2C-1%7CRestPremRPers%2C%2C-1%7CRevHubRMPers%2C%2C-1%7CUVOwnersPers%2C%2C-1%7Cpssamex%2C%2C-1%7CTheForkMCCSess%2C%2C-1%7CCrisisPers%2C%2C-1%7CCYLPers%2C%2C-1%7CCCPers%2C%2C-1%7CRepTarMCPers%2C%2C-1%7Cb2bmcsess%2C%2C-1%7CTSMCSess%2C%2C-1%7CSPMCPers%2C%2C-1%7CRevHubRMSess%2C%2C-1%7CPremRetSess%2C%2C-1%7CViatorMCSess%2C%2C-1%7CPremiumMCPers%2C%2C-1%7CAdsRetSess%2C%2C-1%7CPremiumRRPers%2C%2C-1%7CRestAdsCCPers%2C%2C-1%7CTADORPers%2C%2C-1%7CTheForkORPers%2C%2C-1%7CPremMCBtmPers%2C%2C-1%7CTheForkRRPers%2C%2C-1%7CTARSWBSess%2C%2C-1%7CPremiumORPers%2C%2C-1%7CRestAdsSess%2C%2C-1%7CRBASess%2C%2C-1%7CSPORPers%2C%2C-1%7Cperssticker%2C%2C-1%7CListMCPers%2C%2C-1%7C; Domain=.tripadvisor.co.id; Expires=Sat, 21-May-2033 22:47:22 GMT; Path=/\n",
      "header: Set-Cookie: BEPIN=%1%1884ff20930%3Bweb218a.a.tripadvisor.com%3A30023%3B; Domain=.tripadvisor.co.id; Path=/\n",
      "header: Set-Cookie: PAC=AIS0yhjAuHoStG_b_BjY1raAy_FP0CKVdKYfcEBezX8W2wDweTp0l9Rdo2ykPpxJqBdHIsbp6CiqIzrr7hSSbKNAub5IFLztPa3zifY5wnDI3PHjNFOvrAt0upcsE53rRpM2tDjqCx7v78C8h-NurIReeGOp2NDH2UiJXIa4t-BTicGNNUUqRWab-rM1wIQhZyzxgvr5N3V44z6-n-8LA01tMDi5rCF82g-h68GRknor; Domain=www.tripadvisor.co.id; Expires=Fri, 23-May-2025 22:47:22 GMT; Path=/; Secure; HttpOnly\n",
      "header: Set-Cookie: SRT=TART_SYNC; Domain=www.tripadvisor.co.id; Expires=Wed, 24-May-2023 23:17:22 GMT; Path=/\n",
      "header: Set-Cookie: TATravelInfo=V2*AY.2023*AM.6*AD.4*DY.2023*DM.6*DD.5*A.2*MG.-1*HP.2*FL.3*DSM.1684968442256*RS.1; Domain=.tripadvisor.co.id; Expires=Wed, 07-Jun-2023 22:47:22 GMT; Path=/\n",
      "header: Set-Cookie: TAUD=LG-1684968442114-2.1.F.*RDD-2-2023_05_25*HDD-3-2023_06_04.2023_06_05.1; Domain=.tripadvisor.co.id; Expires=Wed, 07-Jun-2023 22:47:22 GMT; Path=/\n",
      "header: Set-Cookie: TASID=4556FD948A8D44BF98DF8DAADDB147C8; Domain=www.tripadvisor.co.id; Expires=Wed, 24-May-2023 23:17:22 GMT; Path=/; Secure\n",
      "header: Set-Cookie: TAReturnTo=%1%%2FHotel_Review-g297701-d2298887-Reviews-or40-The_Kampung_Ubud_Villa-Ubud_Gianyar_Regency_Bali.html; Domain=.tripadvisor.co.id; Path=/\n",
      "header: Set-Cookie: datadome=1tV5H3I3HWwsvNiP4h6lwVJ2Tg1s_7pC7XvqbJTpsKsx7E6LDzJb18GaVTG7258PvKa4EDQ86bu-z8fZVvBKGy5m1K0IZ8hPt87X35vVVOpOGKlcwgZWyk8yjXKXXhtY; Max-Age=31104000; Domain=.tripadvisor.co.id; Path=/; Secure; SameSite=Lax\n",
      "Done Scrapping The Kampung Ubud Villa page 8\n",
      "\n",
      "\n"
     ]
    },
    {
     "name": "stderr",
     "output_type": "stream",
     "text": [
      "DEBUG:urllib3.connectionpool:Starting new HTTPS connection (1): www.tripadvisor.co.id:443\n"
     ]
    },
    {
     "name": "stdout",
     "output_type": "stream",
     "text": [
      "send: b'GET /Hotel_Review-g297701-d2298887-Reviews-or45-The_Kampung_Ubud_Villa-Ubud_Gianyar_Regency_Bali.html HTTP/1.1\\r\\nHost: www.tripadvisor.co.id\\r\\nUser-Agent: Mozilla/5.0 (X11; CrOS x86_64 12871.102.0) AppleWebKit/537.36 (KHTML, like Gecko) Chrome/81.0.4044.141 Safari/537.36\\r\\nAccept-Encoding: gzip, deflate\\r\\nAccept: */*\\r\\nConnection: keep-alive\\r\\n\\r\\n'\n"
     ]
    },
    {
     "name": "stderr",
     "output_type": "stream",
     "text": [
      "DEBUG:urllib3.connectionpool:https://www.tripadvisor.co.id:443 \"GET /Hotel_Review-g297701-d2298887-Reviews-or45-The_Kampung_Ubud_Villa-Ubud_Gianyar_Regency_Bali.html HTTP/1.1\" 200 None\n"
     ]
    },
    {
     "name": "stdout",
     "output_type": "stream",
     "text": [
      "reply: 'HTTP/1.1 200 OK\\r\\n'\n",
      "header: Server: envoy\n",
      "header: Link: <https://media-cdn.tripadvisor.com/media/>;rel=\"preconnect\";crossorigin\n",
      "header: Link: <https://media-cdn.tripadvisor.com/media/>;rel=\"dns-prefetch\"\n",
      "header: p3p: CP=\"NOI CURa ADMa DEVa TAIa OUR BUS IND UNI COM NAV INT DSP COR CAO PSA IDC ADM DEVi TAIi PSD IVAi IVDi CONi HIS CNT\"\n",
      "header: Pragma: no-cache\n",
      "header: Cache-Control: no-cache, no-store, must-revalidate\n",
      "header: Expires: 0\n",
      "header: Content-Language: id\n",
      "header: Link: <https://static.tacdn.com>;rel=\"dns-prefetch\"\n",
      "header: Link: <https://static.tacdn.com>;rel=\"preconnect\";crossorigin\n",
      "header: timing-allow-origin: https://www.tripadvisor.com\n",
      "header: Vary: Accept-Encoding\n",
      "header: Content-Type: text/html;charset=UTF-8\n",
      "header: x-datadome: protected\n",
      "header: Accept-CH: Sec-CH-UA,Sec-CH-UA-Mobile,Sec-CH-UA-Platform,Sec-CH-UA-Arch,Sec-CH-UA-Full-Version-List,Sec-CH-UA-Model,Sec-CH-Device-Memory\n",
      "header: Content-Encoding: gzip\n",
      "header: x-request-id: 7dba50ad-3de2-47fe-bb04-73d9edddcdc8\n",
      "header: Date: Wed, 24 May 2023 22:47:33 GMT\n",
      "header: Transfer-Encoding: chunked\n",
      "header: Connection: keep-alive\n",
      "header: Connection: Transfer-Encoding\n",
      "header: Set-Cookie: TADCID=O2UfvZw4GGecNZSKABQCXdElnkGETRW-Svh01l3nWnW8RC-NLmFcdF2vPRCg_xyb4557ElM0TVgTDQs0FJew0ehuA-RNh0rpePs; Domain=www.tripadvisor.co.id; Expires=Sat, 21-May-2033 22:47:33 GMT; Path=/; Secure; HttpOnly\n",
      "header: Set-Cookie: TAUnique=%1%enc%3AUI4cdMFEA16CNtgs%2BCN3NnGfQMMEYPnqsFPnV4X5AVOdnAIEUtfimg%3D%3D; Domain=.tripadvisor.co.id; Expires=Fri, 23-May-2025 22:47:33 GMT; Path=/; HttpOnly\n",
      "header: Set-Cookie: TASSK=enc%3AAMnGabIGLH%2FxyLaRGhYyMLIlbAMWirQR%2FaRA1Ufs5e%2B%2BgD23DMkqCy8jf2zORc%2BmBK3g5IHmp6vv0OP6TjOJBH%2Fc7vKUtZN%2BymqCM%2BVUYto70JGBeEITOnTJi%2BK8Z8Mmmw%3D%3D; Domain=www.tripadvisor.co.id; Expires=Mon, 20-Nov-2023 22:47:33 GMT; Path=/; HttpOnly\n",
      "header: Set-Cookie: TASession=V2ID.B70E9CA257334C3D8D5C23A2284FD51D*SQ.1*HS.recommended*ES.popularity*DS.5*SAS.popularity*FPS.oldFirst*LF.in*FA.1*DF.0*TRA.true*LD.2298887; Domain=.tripadvisor.co.id; Path=/\n",
      "header: Set-Cookie: ServerPool=C; Domain=.tripadvisor.co.id; Path=/\n",
      "header: Set-Cookie: PMC=V2*MS.11*MD.20230524*LD.20230524; Domain=www.tripadvisor.co.id; Expires=Fri, 23-May-2025 22:47:33 GMT; Path=/; Secure; HttpOnly\n",
      "header: Set-Cookie: TART=%1%enc%3AgjbYLPgjdzaxS15%2BRWc46tFhRp549rpyY58XJM4LOGWEDdBnpnXch4eTcz8uWGjMlUsG1XdgKpk%3D; Domain=www.tripadvisor.co.id; Expires=Mon, 29-May-2023 22:47:33 GMT; Path=/; HttpOnly\n",
      "header: Set-Cookie: CM=%1%PremiumMobSess%2C%2C-1%7Ct4b-pc%2C%2C-1%7CRestAds%2FRPers%2C%2C-1%7CRCPers%2C%2C-1%7CWShadeSeen%2C%2C-1%7CTheForkMCCPers%2C%2C-1%7CHomeASess%2C%2C-1%7CPremiumMCSess%2C%2C-1%7CCrisisSess%2C%2C-1%7CUVOwnersSess%2C%2C-1%7CRestPremRSess%2C%2C-1%7CRepTarMCSess%2C%2C-1%7CCCSess%2C%2C-1%7CCYLSess%2C%2C-1%7CPremRetPers%2C%2C-1%7CViatorMCPers%2C%2C-1%7Csesssticker%2C%2C-1%7C%24%2C%2C-1%7CPremiumORSess%2C%2C-1%7Ct4b-sc%2C%2C-1%7CRestAdsPers%2C%2C-1%7CMC_IB_UPSELL_IB_LOGOS2%2C%2C-1%7CTSMCPers%2C%2C-1%7Cb2bmcpers%2C%2C-1%7CPremMCBtmSess%2C%2C-1%7CMC_IB_UPSELL_IB_LOGOS%2C%2C-1%7CLaFourchette+Banners%2C%2C-1%7Csess_rev%2C%2C-1%7Csessamex%2C%2C-1%7CPremiumRRSess%2C%2C-1%7CTADORSess%2C%2C-1%7CAdsRetPers%2C%2C-1%7CListMCSess%2C%2C-1%7CTARSWBPers%2C%2C-1%7CSPMCSess%2C%2C-1%7CTheForkORSess%2C%2C-1%7CTheForkRRSess%2C%2C-1%7Cpers_rev%2C%2C-1%7CRBAPers%2C%2C-1%7CRestAds%2FRSess%2C%2C-1%7CHomeAPers%2C%2C-1%7CPremiumMobPers%2C%2C-1%7CRCSess%2C%2C-1%7CLaFourchette+MC+Banners%2C%2C-1%7CRestAdsCCSess%2C%2C-1%7CRestPremRPers%2C%2C-1%7CRevHubRMPers%2C%2C-1%7CUVOwnersPers%2C%2C-1%7Cpssamex%2C%2C-1%7CTheForkMCCSess%2C%2C-1%7CCrisisPers%2C%2C-1%7CCYLPers%2C%2C-1%7CCCPers%2C%2C-1%7CRepTarMCPers%2C%2C-1%7Cb2bmcsess%2C%2C-1%7CTSMCSess%2C%2C-1%7CSPMCPers%2C%2C-1%7CRevHubRMSess%2C%2C-1%7CPremRetSess%2C%2C-1%7CViatorMCSess%2C%2C-1%7CPremiumMCPers%2C%2C-1%7CAdsRetSess%2C%2C-1%7CPremiumRRPers%2C%2C-1%7CRestAdsCCPers%2C%2C-1%7CTADORPers%2C%2C-1%7CTheForkORPers%2C%2C-1%7CPremMCBtmPers%2C%2C-1%7CTheForkRRPers%2C%2C-1%7CTARSWBSess%2C%2C-1%7CPremiumORPers%2C%2C-1%7CRestAdsSess%2C%2C-1%7CRBASess%2C%2C-1%7CSPORPers%2C%2C-1%7Cperssticker%2C%2C-1%7CListMCPers%2C%2C-1%7C; Domain=.tripadvisor.co.id; Expires=Sat, 21-May-2033 22:47:33 GMT; Path=/\n",
      "header: Set-Cookie: BEPIN=%1%1884ff233c5%3Bweb221a.a.tripadvisor.com%3A30023%3B; Domain=.tripadvisor.co.id; Path=/\n",
      "header: Set-Cookie: PAC=ADyBoIE9C8J6I--t4JntQFdDMWM6kKHuvFwKu8tjKa3BF2ii5_H5Is7kJsdE5JtVgzkQ9oMwZ7ot5j5FREeB7UEtt4u2VCmt4LsdQWKoWw6A0WRYdqKDBVnqkSWLWtXuE8Sh9YLZI0esaPHOssAn9NBlf4DezULWINJqWmqVKbqVqzpufzNiWDX8biEJ1-m9eVs7elGfHPIHLCtNhodaC8hG69LtYr1QvpFcHOqhrXvQ; Domain=www.tripadvisor.co.id; Expires=Fri, 23-May-2025 22:47:33 GMT; Path=/; Secure; HttpOnly\n",
      "header: Set-Cookie: SRT=TART_SYNC; Domain=www.tripadvisor.co.id; Expires=Wed, 24-May-2023 23:17:33 GMT; Path=/\n",
      "header: Set-Cookie: TATravelInfo=V2*AY.2023*AM.6*AD.4*DY.2023*DM.6*DD.5*A.2*MG.-1*HP.2*FL.3*DSM.1684968453138*RS.1; Domain=.tripadvisor.co.id; Expires=Wed, 07-Jun-2023 22:47:33 GMT; Path=/\n",
      "header: Set-Cookie: TAUD=LG-1684968453046-2.1.F.*RDD-2-2023_05_25*HDD-3-2023_06_04.2023_06_05.1; Domain=.tripadvisor.co.id; Expires=Wed, 07-Jun-2023 22:47:33 GMT; Path=/\n",
      "header: Set-Cookie: TASID=B70E9CA257334C3D8D5C23A2284FD51D; Domain=www.tripadvisor.co.id; Expires=Wed, 24-May-2023 23:17:33 GMT; Path=/; Secure\n",
      "header: Set-Cookie: TAReturnTo=%1%%2FHotel_Review-g297701-d2298887-Reviews-or45-The_Kampung_Ubud_Villa-Ubud_Gianyar_Regency_Bali.html; Domain=.tripadvisor.co.id; Path=/\n",
      "header: Set-Cookie: datadome=3pL4GxBpTYoVKoX~h0ALMNWgZT-HUlVpIg8-FP-OU2lGJ9wm9UQDDeAq2s9B6Z1f7D8ElLguTGLQsd-ZJ46KZuOmEVKO1z0AS4tsrH94RU4rk2LSo6EPPSDsXqCgUYc7; Max-Age=31104000; Domain=.tripadvisor.co.id; Path=/; Secure; SameSite=Lax\n",
      "Done Scrapping The Kampung Ubud Villa page 9\n",
      "\n",
      "\n"
     ]
    },
    {
     "name": "stderr",
     "output_type": "stream",
     "text": [
      "DEBUG:urllib3.connectionpool:Starting new HTTPS connection (1): www.tripadvisor.co.id:443\n"
     ]
    },
    {
     "name": "stdout",
     "output_type": "stream",
     "text": [
      "send: b'GET /Hotel_Review-g297701-d2298887-Reviews-or50-The_Kampung_Ubud_Villa-Ubud_Gianyar_Regency_Bali.html HTTP/1.1\\r\\nHost: www.tripadvisor.co.id\\r\\nUser-Agent: Mozilla/5.0 (X11; CrOS x86_64 12871.102.0) AppleWebKit/537.36 (KHTML, like Gecko) Chrome/81.0.4044.141 Safari/537.36\\r\\nAccept-Encoding: gzip, deflate\\r\\nAccept: */*\\r\\nConnection: keep-alive\\r\\n\\r\\n'\n"
     ]
    },
    {
     "name": "stderr",
     "output_type": "stream",
     "text": [
      "DEBUG:urllib3.connectionpool:https://www.tripadvisor.co.id:443 \"GET /Hotel_Review-g297701-d2298887-Reviews-or50-The_Kampung_Ubud_Villa-Ubud_Gianyar_Regency_Bali.html HTTP/1.1\" 200 None\n"
     ]
    },
    {
     "name": "stdout",
     "output_type": "stream",
     "text": [
      "reply: 'HTTP/1.1 200 OK\\r\\n'\n",
      "header: Server: envoy\n",
      "header: Link: <https://media-cdn.tripadvisor.com/media/>;rel=\"preconnect\";crossorigin\n",
      "header: Link: <https://media-cdn.tripadvisor.com/media/>;rel=\"dns-prefetch\"\n",
      "header: p3p: CP=\"NOI CURa ADMa DEVa TAIa OUR BUS IND UNI COM NAV INT DSP COR CAO PSA IDC ADM DEVi TAIi PSD IVAi IVDi CONi HIS CNT\"\n",
      "header: Pragma: no-cache\n",
      "header: Cache-Control: no-cache, no-store, must-revalidate\n",
      "header: Expires: 0\n",
      "header: Content-Language: id\n",
      "header: Link: <https://static.tacdn.com>;rel=\"dns-prefetch\"\n",
      "header: Link: <https://static.tacdn.com>;rel=\"preconnect\";crossorigin\n",
      "header: timing-allow-origin: https://www.tripadvisor.com\n",
      "header: Vary: Accept-Encoding\n",
      "header: Content-Type: text/html;charset=UTF-8\n",
      "header: Accept-CH: Sec-CH-UA,Sec-CH-UA-Mobile,Sec-CH-UA-Platform,Sec-CH-UA-Arch,Sec-CH-UA-Full-Version-List,Sec-CH-UA-Model,Sec-CH-Device-Memory\n",
      "header: x-datadome: protected\n",
      "header: Content-Encoding: gzip\n",
      "header: x-request-id: a92c3ca1-615c-4de0-8621-592d06a8ab26\n",
      "header: Date: Wed, 24 May 2023 22:47:37 GMT\n",
      "header: Transfer-Encoding: chunked\n",
      "header: Connection: keep-alive\n",
      "header: Connection: Transfer-Encoding\n",
      "header: Set-Cookie: TADCID=HpUyBM9E4PFE6iJuABQCXdElnkGETRW-Svh01l3nWnW8RD54nwURwLP15WnyMqaPo_duKdAR1fSnvki2eHn0vhgw7vuJNwZtfcc; Domain=www.tripadvisor.co.id; Expires=Sat, 21-May-2033 22:47:37 GMT; Path=/; Secure; HttpOnly\n",
      "header: Set-Cookie: TAUnique=%1%enc%3AVk7jcyNIkdSCNtgs%2BCN3NnGfQMMEYPnqYhRCJEgCwji%2BjaWNeOcS7w%3D%3D; Domain=.tripadvisor.co.id; Expires=Fri, 23-May-2025 22:47:37 GMT; Path=/; HttpOnly\n",
      "header: Set-Cookie: TASSK=enc%3AAObyBCp2jeU%2FIXa%2Fe%2F%2Bnoffm%2B2AndtXAwEtvrCbx6EcbUJF0FJjcYxiPWhfjUeMZzXocmzd1kRMsQ0zenqrqOINLgn2eLw7xp9d5y53I3uQeGEdtZLEkPPSzUrlxuIz9YA%3D%3D; Domain=www.tripadvisor.co.id; Expires=Mon, 20-Nov-2023 22:47:37 GMT; Path=/; HttpOnly\n",
      "header: Set-Cookie: TASession=V2ID.6676DBB123BF417BB468AEE3C5F124EC*SQ.1*HS.recommended*ES.popularity*DS.5*SAS.popularity*FPS.oldFirst*LF.in*FA.1*DF.0*TRA.true*LD.2298887; Domain=.tripadvisor.co.id; Path=/\n",
      "header: Set-Cookie: ServerPool=C; Domain=.tripadvisor.co.id; Path=/\n",
      "header: Set-Cookie: PMC=V2*MS.92*MD.20230524*LD.20230524; Domain=www.tripadvisor.co.id; Expires=Fri, 23-May-2025 22:47:37 GMT; Path=/; Secure; HttpOnly\n",
      "header: Set-Cookie: TART=%1%enc%3AgjbYLPgjdzaxS15%2BRWc46vq4Ofeiek3u%2BZ90pAdUwiIevoxtgxPMMkARpKs419lGqEzW882egzA%3D; Domain=www.tripadvisor.co.id; Expires=Mon, 29-May-2023 22:47:37 GMT; Path=/; HttpOnly\n",
      "header: Set-Cookie: CM=%1%PremiumMobSess%2C%2C-1%7Ct4b-pc%2C%2C-1%7CRestAds%2FRPers%2C%2C-1%7CRCPers%2C%2C-1%7CWShadeSeen%2C%2C-1%7CTheForkMCCPers%2C%2C-1%7CHomeASess%2C%2C-1%7CPremiumMCSess%2C%2C-1%7CCrisisSess%2C%2C-1%7CUVOwnersSess%2C%2C-1%7CRestPremRSess%2C%2C-1%7CRepTarMCSess%2C%2C-1%7CCCSess%2C%2C-1%7CCYLSess%2C%2C-1%7CPremRetPers%2C%2C-1%7CViatorMCPers%2C%2C-1%7Csesssticker%2C%2C-1%7C%24%2C%2C-1%7CPremiumORSess%2C%2C-1%7Ct4b-sc%2C%2C-1%7CRestAdsPers%2C%2C-1%7CMC_IB_UPSELL_IB_LOGOS2%2C%2C-1%7CTSMCPers%2C%2C-1%7Cb2bmcpers%2C%2C-1%7CPremMCBtmSess%2C%2C-1%7CMC_IB_UPSELL_IB_LOGOS%2C%2C-1%7CLaFourchette+Banners%2C%2C-1%7Csess_rev%2C%2C-1%7Csessamex%2C%2C-1%7CPremiumRRSess%2C%2C-1%7CTADORSess%2C%2C-1%7CAdsRetPers%2C%2C-1%7CListMCSess%2C%2C-1%7CTARSWBPers%2C%2C-1%7CSPMCSess%2C%2C-1%7CTheForkORSess%2C%2C-1%7CTheForkRRSess%2C%2C-1%7Cpers_rev%2C%2C-1%7CRBAPers%2C%2C-1%7CRestAds%2FRSess%2C%2C-1%7CHomeAPers%2C%2C-1%7CPremiumMobPers%2C%2C-1%7CRCSess%2C%2C-1%7CLaFourchette+MC+Banners%2C%2C-1%7CRestAdsCCSess%2C%2C-1%7CRestPremRPers%2C%2C-1%7CRevHubRMPers%2C%2C-1%7CUVOwnersPers%2C%2C-1%7Cpssamex%2C%2C-1%7CTheForkMCCSess%2C%2C-1%7CCrisisPers%2C%2C-1%7CCYLPers%2C%2C-1%7CCCPers%2C%2C-1%7CRepTarMCPers%2C%2C-1%7Cb2bmcsess%2C%2C-1%7CTSMCSess%2C%2C-1%7CSPMCPers%2C%2C-1%7CRevHubRMSess%2C%2C-1%7CPremRetSess%2C%2C-1%7CViatorMCSess%2C%2C-1%7CPremiumMCPers%2C%2C-1%7CAdsRetSess%2C%2C-1%7CPremiumRRPers%2C%2C-1%7CRestAdsCCPers%2C%2C-1%7CTADORPers%2C%2C-1%7CTheForkORPers%2C%2C-1%7CPremMCBtmPers%2C%2C-1%7CTheForkRRPers%2C%2C-1%7CTARSWBSess%2C%2C-1%7CPremiumORPers%2C%2C-1%7CRestAdsSess%2C%2C-1%7CRBASess%2C%2C-1%7CSPORPers%2C%2C-1%7Cperssticker%2C%2C-1%7CListMCPers%2C%2C-1%7C; Domain=.tripadvisor.co.id; Expires=Sat, 21-May-2033 22:47:37 GMT; Path=/\n",
      "header: Set-Cookie: BEPIN=%1%1884ff24476%3Bweb123a.a.tripadvisor.com%3A30023%3B; Domain=.tripadvisor.co.id; Path=/\n",
      "header: Set-Cookie: PAC=ANSZyforCb2TSHXh78DaP1HJlrXbxV7akwvxQM-ie2pFAuxQlb9_DkaqjMA8qwu5tKmxLXvqM_2WMIYvFKfkPZHvuYyaUcVwu6u2cM8RZetlqCKaOV5hpHUU0P-ipJ85GUw8bS2IzZsdJg-9LtsVlSqX3Mia7UR_wdOKabCS4LjUEWXW4lWnbq9F1XSV6m_wdUDKVHb4NmmwXFPU0HQm9g2-Hwy-xwN9vruk6XMy64cz; Domain=www.tripadvisor.co.id; Expires=Fri, 23-May-2025 22:47:37 GMT; Path=/; Secure; HttpOnly\n",
      "header: Set-Cookie: SRT=TART_SYNC; Domain=www.tripadvisor.co.id; Expires=Wed, 24-May-2023 23:17:37 GMT; Path=/\n",
      "header: Set-Cookie: TATravelInfo=V2*AY.2023*AM.6*AD.4*DY.2023*DM.6*DD.5*A.2*MG.-1*HP.2*FL.3*DSM.1684968457421*RS.1; Domain=.tripadvisor.co.id; Expires=Wed, 07-Jun-2023 22:47:37 GMT; Path=/\n",
      "header: Set-Cookie: TAUD=LG-1684968457319-2.1.F.*RDD-2-2023_05_25*HDD-3-2023_06_04.2023_06_05.1; Domain=.tripadvisor.co.id; Expires=Wed, 07-Jun-2023 22:47:37 GMT; Path=/\n",
      "header: Set-Cookie: TASID=6676DBB123BF417BB468AEE3C5F124EC; Domain=www.tripadvisor.co.id; Expires=Wed, 24-May-2023 23:17:37 GMT; Path=/; Secure\n",
      "header: Set-Cookie: TAReturnTo=%1%%2FHotel_Review-g297701-d2298887-Reviews-or50-The_Kampung_Ubud_Villa-Ubud_Gianyar_Regency_Bali.html; Domain=.tripadvisor.co.id; Path=/\n",
      "header: Set-Cookie: datadome=3xvoSpGb2xtqVRpM1gAD8JBXTv~XZl5zDwZE83Z5ZGp0oMf_3s3UbVaU3e9lVr6tylVVckPa3FQPASsQRfna03FPVLfCvp71Mm8Qh-9kkOoBfD538yShPph2M2KiQ2Dc; Max-Age=31104000; Domain=.tripadvisor.co.id; Path=/; Secure; SameSite=Lax\n",
      "Done Scrapping The Kampung Ubud Villa page 10\n",
      "\n",
      "\n"
     ]
    },
    {
     "name": "stderr",
     "output_type": "stream",
     "text": [
      "DEBUG:urllib3.connectionpool:Starting new HTTPS connection (1): www.tripadvisor.co.id:443\n"
     ]
    },
    {
     "name": "stdout",
     "output_type": "stream",
     "text": [
      "send: b'GET /Hotel_Review-g297701-d2298887-Reviews-or55-The_Kampung_Ubud_Villa-Ubud_Gianyar_Regency_Bali.html HTTP/1.1\\r\\nHost: www.tripadvisor.co.id\\r\\nUser-Agent: Mozilla/5.0 (X11; CrOS x86_64 12871.102.0) AppleWebKit/537.36 (KHTML, like Gecko) Chrome/81.0.4044.141 Safari/537.36\\r\\nAccept-Encoding: gzip, deflate\\r\\nAccept: */*\\r\\nConnection: keep-alive\\r\\n\\r\\n'\n"
     ]
    }
   ],
   "source": [
    "hotelScraper()"
   ]
  },
  {
   "cell_type": "code",
   "execution_count": 46,
   "metadata": {
    "ExecuteTime": {
     "end_time": "2023-05-24T21:30:10.268873Z",
     "start_time": "2023-05-24T21:30:10.259901Z"
    },
    "colab": {
     "base_uri": "https://localhost:8080/"
    },
    "executionInfo": {
     "elapsed": 9,
     "status": "ok",
     "timestamp": 1682988686776,
     "user": {
      "displayName": "Prentino Barus",
      "userId": "03956176104375021641"
     },
     "user_tz": -420
    },
    "id": "qt5L-N2O2tz4",
    "outputId": "7bff15ee-8b14-4c2d-e5b7-78ce5bd877d9",
    "scrolled": true
   },
   "outputs": [
    {
     "name": "stdout",
     "output_type": "stream",
     "text": [
      "All done.\n"
     ]
    }
   ],
   "source": [
    "print(\"All done.\")"
   ]
  },
  {
   "cell_type": "code",
   "execution_count": null,
   "metadata": {},
   "outputs": [],
   "source": []
  }
 ],
 "metadata": {
  "colab": {
   "authorship_tag": "ABX9TyOv9x4QZrku5vhfQSMhcBl6",
   "name": "",
   "version": ""
  },
  "kernelspec": {
   "display_name": "Python 3 (ipykernel)",
   "language": "python",
   "name": "python3"
  },
  "language_info": {
   "codemirror_mode": {
    "name": "ipython",
    "version": 3
   },
   "file_extension": ".py",
   "mimetype": "text/x-python",
   "name": "python",
   "nbconvert_exporter": "python",
   "pygments_lexer": "ipython3",
   "version": "3.7.16"
  }
 },
 "nbformat": 4,
 "nbformat_minor": 4
}
