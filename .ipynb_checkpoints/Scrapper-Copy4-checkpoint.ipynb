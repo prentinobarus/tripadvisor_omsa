{
 "cells": [
  {
   "cell_type": "code",
   "execution_count": 1,
   "metadata": {
    "ExecuteTime": {
     "end_time": "2023-05-24T01:25:37.429094Z",
     "start_time": "2023-05-24T01:25:29.292171Z"
    },
    "colab": {
     "base_uri": "https://localhost:8080/"
    },
    "executionInfo": {
     "elapsed": 21074,
     "status": "ok",
     "timestamp": 1683074904984,
     "user": {
      "displayName": "Prentino Barus",
      "userId": "03956176104375021641"
     },
     "user_tz": -420
    },
    "id": "HF5KEFLikY5J",
    "outputId": "96859593-c037-4c33-d42d-e3d94620004d",
    "scrolled": true,
    "tags": []
   },
   "outputs": [
    {
     "name": "stdout",
     "output_type": "stream",
     "text": [
      "Requirement already satisfied: beautifulsoup4 in c:\\users\\tinob\\anaconda3\\envs\\tf_env\\lib\\site-packages (4.12.2)\n",
      "Requirement already satisfied: soupsieve>1.2 in c:\\users\\tinob\\anaconda3\\envs\\tf_env\\lib\\site-packages (from beautifulsoup4) (2.4.1)\n",
      "Requirement already satisfied: lxml in c:\\users\\tinob\\anaconda3\\envs\\tf_env\\lib\\site-packages (4.9.2)\n",
      "Requirement already satisfied: requests in c:\\users\\tinob\\anaconda3\\envs\\tf_env\\lib\\site-packages (2.30.0)\n",
      "Requirement already satisfied: charset-normalizer<4,>=2 in c:\\users\\tinob\\anaconda3\\envs\\tf_env\\lib\\site-packages (from requests) (3.1.0)\n",
      "Requirement already satisfied: idna<4,>=2.5 in c:\\users\\tinob\\anaconda3\\envs\\tf_env\\lib\\site-packages (from requests) (3.4)\n",
      "Requirement already satisfied: urllib3<3,>=1.21.1 in c:\\users\\tinob\\anaconda3\\envs\\tf_env\\lib\\site-packages (from requests) (2.0.2)\n",
      "Requirement already satisfied: certifi>=2017.4.17 in c:\\users\\tinob\\anaconda3\\envs\\tf_env\\lib\\site-packages (from requests) (2022.12.7)\n"
     ]
    }
   ],
   "source": [
    "!pip install beautifulsoup4\n",
    "!pip install lxml\n",
    "!pip install requests"
   ]
  },
  {
   "cell_type": "code",
   "execution_count": 1,
   "metadata": {
    "ExecuteTime": {
     "end_time": "2023-05-24T22:57:46.340870Z",
     "start_time": "2023-05-24T22:57:45.489836Z"
    },
    "executionInfo": {
     "elapsed": 1114,
     "status": "ok",
     "timestamp": 1683074906091,
     "user": {
      "displayName": "Prentino Barus",
      "userId": "03956176104375021641"
     },
     "user_tz": -420
    },
    "id": "p_Uym38LlEtc",
    "tags": []
   },
   "outputs": [],
   "source": [
    "from bs4 import BeautifulSoup\n",
    "import requests\n",
    "import logging\n",
    "import http.client\n",
    "http.client.HTTPConnection.debuglevel = 1\n",
    "import pandas as pd\n",
    "import time\n",
    "import re\n",
    "import os"
   ]
  },
  {
   "cell_type": "code",
   "execution_count": 2,
   "metadata": {
    "ExecuteTime": {
     "end_time": "2023-05-24T22:57:46.796320Z",
     "start_time": "2023-05-24T22:57:46.340870Z"
    },
    "id": "pHfGE1c4GQc1",
    "tags": []
   },
   "outputs": [
    {
     "name": "stdout",
     "output_type": "stream",
     "text": [
      "<class 'pandas.core.frame.DataFrame'>\n",
      "RangeIndex: 50 entries, 0 to 49\n",
      "Data columns (total 4 columns):\n",
      " #   Column        Non-Null Count  Dtype \n",
      "---  ------        --------------  ----- \n",
      " 0   hotel         50 non-null     object\n",
      " 1   hotel_link    50 non-null     object\n",
      " 2   review_count  50 non-null     int64 \n",
      " 3   hotel_name    50 non-null     object\n",
      "dtypes: int64(1), object(3)\n",
      "memory usage: 1.7+ KB\n"
     ]
    }
   ],
   "source": [
    "# List of Hotel's URL\n",
    "list_hotel = pd.read_excel('fix_hotel.xlsx', sheet_name='Sheet3')\n",
    "list_hotel.info()"
   ]
  },
  {
   "cell_type": "code",
   "execution_count": 3,
   "metadata": {
    "ExecuteTime": {
     "end_time": "2023-05-24T22:57:46.982301Z",
     "start_time": "2023-05-24T22:57:46.973324Z"
    },
    "id": "Cobs6LkqsajP",
    "tags": []
   },
   "outputs": [],
   "source": [
    "logging.basicConfig()\n",
    "logging.getLogger().setLevel(logging.DEBUG)\n",
    "requests_log = logging.getLogger(\"requests.packages.urllib3\")\n",
    "requests_log.setLevel(logging.DEBUG)\n",
    "requests_log.propagate = True"
   ]
  },
  {
   "cell_type": "code",
   "execution_count": 4,
   "metadata": {
    "ExecuteTime": {
     "end_time": "2023-05-24T22:57:56.702784Z",
     "start_time": "2023-05-24T22:57:56.681838Z"
    },
    "colab": {
     "base_uri": "https://localhost:8080/"
    },
    "executionInfo": {
     "elapsed": 820969,
     "status": "ok",
     "timestamp": 1682988686775,
     "user": {
      "displayName": "Prentino Barus",
      "userId": "03956176104375021641"
     },
     "user_tz": -420
    },
    "id": "DZJwf3R5wQxs",
    "outputId": "18bd06bf-5d97-40d6-c933-250f589fab16",
    "scrolled": true,
    "tags": []
   },
   "outputs": [],
   "source": [
    "def hotelScraper():\n",
    "    for hotel in list_hotel.index:\n",
    "        hotel_name = list_hotel['hotel'][hotel]\n",
    "        hotel_url = list_hotel['hotel_link'][hotel]\n",
    "        filename = list_hotel['hotel_name'][hotel]\n",
    "        filepath = 'Dataset_1/' + filename + '.csv'\n",
    "\n",
    "        if os.path.exists(filepath):\n",
    "            continue\n",
    "        \n",
    "        \n",
    "        print(f\"Start Scrapping: {hotel_name}\")\n",
    "        \n",
    "        gathered_review = []\n",
    "        headers = {\"User-Agent\": \"Mozilla/5.0 (X11; CrOS x86_64 12871.102.0) AppleWebKit/537.36 (KHTML, like Gecko) Chrome/81.0.4044.141 Safari/537.36\"}\n",
    "        pages = 200\n",
    "        pages = (pages * 5) + 5\n",
    "        for i in range(5, pages, 5):\n",
    "            new_url = re.sub('or5', 'or'+str(i), str(hotel_url))\n",
    "            url = requests.get(new_url, headers=headers)\n",
    "\n",
    "            soup = BeautifulSoup(url.text, 'lxml')\n",
    "            reviews = soup.find_all('div', class_= 'YibKl MC R2 Gi z Z BB pBbQr')\n",
    "            \n",
    "            if reviews:\n",
    "                for review in reviews:\n",
    "                    user_text = review.find('span', class_= 'QewHA H4 _a').text\n",
    "                    user_rating = review.find('span', class_= 'ui_bubble_rating')['class'][1][7]\n",
    "                    gathered_review.append([hotel_name, user_text, user_rating])\n",
    "\n",
    "                #Pages Processed\n",
    "                cpages = int(i/5)\n",
    "                print(f\"Done Scrapping {hotel_name} page {cpages}\")\n",
    "                print('\\n')\n",
    "                time.sleep(3)\n",
    "\n",
    "                # Make csv file\n",
    "                df = pd.DataFrame(gathered_review, columns=['hotel', 'review', 'stars'])\n",
    "                df.to_csv('Dataset_1/'+filename+'.csv')\n",
    "            else:\n",
    "                if os.path.exists(filepath):\n",
    "                    break\n",
    "                else:\n",
    "                    hotelScraper()\n",
    "    \n",
    "        "
   ]
  },
  {
   "cell_type": "code",
   "execution_count": null,
   "metadata": {
    "ExecuteTime": {
     "start_time": "2023-05-24T22:57:57.862Z"
    },
    "scrolled": true
   },
   "outputs": [
    {
     "name": "stderr",
     "output_type": "stream",
     "text": [
      "DEBUG:urllib3.connectionpool:Starting new HTTPS connection (1): www.tripadvisor.co.id:443\n"
     ]
    },
    {
     "name": "stdout",
     "output_type": "stream",
     "text": [
      "Start Scrapping: Villa Layang Bulan\n",
      "send: b'GET /Hotel_Review-g608486-d1863756-Reviews-or5-Villa_Layang_Bulan-Kerobokan_North_Kuta_Bali.html HTTP/1.1\\r\\nHost: www.tripadvisor.co.id\\r\\nUser-Agent: Mozilla/5.0 (X11; CrOS x86_64 12871.102.0) AppleWebKit/537.36 (KHTML, like Gecko) Chrome/81.0.4044.141 Safari/537.36\\r\\nAccept-Encoding: gzip, deflate\\r\\nAccept: */*\\r\\nConnection: keep-alive\\r\\n\\r\\n'\n"
     ]
    },
    {
     "name": "stderr",
     "output_type": "stream",
     "text": [
      "DEBUG:urllib3.connectionpool:https://www.tripadvisor.co.id:443 \"GET /Hotel_Review-g608486-d1863756-Reviews-or5-Villa_Layang_Bulan-Kerobokan_North_Kuta_Bali.html HTTP/1.1\" 200 None\n"
     ]
    },
    {
     "name": "stdout",
     "output_type": "stream",
     "text": [
      "reply: 'HTTP/1.1 200 OK\\r\\n'\n",
      "header: Server: envoy\n",
      "header: Link: <https://media-cdn.tripadvisor.com/media/>;rel=\"preconnect\";crossorigin\n",
      "header: Link: <https://media-cdn.tripadvisor.com/media/>;rel=\"dns-prefetch\"\n",
      "header: p3p: CP=\"NOI CURa ADMa DEVa TAIa OUR BUS IND UNI COM NAV INT DSP COR CAO PSA IDC ADM DEVi TAIi PSD IVAi IVDi CONi HIS CNT\"\n",
      "header: Pragma: no-cache\n",
      "header: Cache-Control: no-cache, no-store, must-revalidate\n",
      "header: Expires: 0\n",
      "header: Content-Language: id\n",
      "header: Link: <https://static.tacdn.com>;rel=\"dns-prefetch\"\n",
      "header: Link: <https://static.tacdn.com>;rel=\"preconnect\";crossorigin\n",
      "header: timing-allow-origin: https://www.tripadvisor.com\n",
      "header: Vary: Accept-Encoding\n",
      "header: Content-Type: text/html;charset=UTF-8\n",
      "header: Accept-CH: Sec-CH-UA,Sec-CH-UA-Mobile,Sec-CH-UA-Platform,Sec-CH-UA-Arch,Sec-CH-UA-Full-Version-List,Sec-CH-UA-Model,Sec-CH-Device-Memory\n",
      "header: x-datadome: protected\n",
      "header: Content-Encoding: gzip\n",
      "header: x-request-id: 6fa75480-704a-4b1b-9712-4fe8d2562f40\n",
      "header: Date: Wed, 24 May 2023 22:58:00 GMT\n",
      "header: Transfer-Encoding: chunked\n",
      "header: Connection: keep-alive\n",
      "header: Connection: Transfer-Encoding\n",
      "header: Set-Cookie: TADCID=WIyohgc3jOmMdR-8ABQCXdElnkGETRW-Svh01l3nWnW8Tjftvi-pmnUc2CNl37dPj7zY5rLWRNukhIkXBDlGBG1NpCYIFiTjopI; Domain=www.tripadvisor.co.id; Expires=Sat, 21-May-2033 22:57:59 GMT; Path=/; Secure; HttpOnly\n",
      "header: Set-Cookie: TAUnique=%1%enc%3Aq3QQa29GnjiCNtgs%2BCN3NnGfQMMEYPnq9YHZTP%2FzdwPtzmd8KNl%2Fcg%3D%3D; Domain=.tripadvisor.co.id; Expires=Fri, 23-May-2025 22:57:59 GMT; Path=/; HttpOnly\n",
      "header: Set-Cookie: TASSK=enc%3AAADJYf8DAIOh3AneB4ksPGOJBEudC3orI965TWfrDFXf4KZttOux7B1h9JgU4z8dGMi6GIpQW2vqf9QGC4HafVVRtFQaidF2UDOpCiE7Bp3dMqPm4VyAukpqCzLLHo%2B5Yg%3D%3D; Domain=www.tripadvisor.co.id; Expires=Mon, 20-Nov-2023 22:57:59 GMT; Path=/; HttpOnly\n",
      "header: Set-Cookie: TASession=V2ID.DB1525F4BC5A49B28DE345EF798D30AF*SQ.1*HS.recommended*ES.popularity*DS.5*SAS.popularity*FPS.oldFirst*LF.in*FA.1*DF.0*TRA.true*LD.1863756; Domain=.tripadvisor.co.id; Path=/\n",
      "header: Set-Cookie: ServerPool=A; Domain=.tripadvisor.co.id; Path=/\n",
      "header: Set-Cookie: PMC=V2*MS.2*MD.20230524*LD.20230524; Domain=www.tripadvisor.co.id; Expires=Fri, 23-May-2025 22:57:59 GMT; Path=/; Secure; HttpOnly\n",
      "header: Set-Cookie: TART=%1%enc%3AgjbYLPgjdzaxS15%2BRWc46oH1ft0urt00vxhk%2BHkfvewQIzX0QmhlcGWzGj9qK%2F9dF4DxWFCIF2A%3D; Domain=www.tripadvisor.co.id; Expires=Mon, 29-May-2023 22:57:59 GMT; Path=/; HttpOnly\n",
      "header: Set-Cookie: CM=%1%PremiumMobSess%2C%2C-1%7Ct4b-pc%2C%2C-1%7CRestAds%2FRPers%2C%2C-1%7CRCPers%2C%2C-1%7CWShadeSeen%2C%2C-1%7CTheForkMCCPers%2C%2C-1%7CHomeASess%2C%2C-1%7CPremiumMCSess%2C%2C-1%7CCrisisSess%2C%2C-1%7CUVOwnersSess%2C%2C-1%7CRestPremRSess%2C%2C-1%7CRepTarMCSess%2C%2C-1%7CCCSess%2C%2C-1%7CCYLSess%2C%2C-1%7CPremRetPers%2C%2C-1%7CViatorMCPers%2C%2C-1%7Csesssticker%2C%2C-1%7C%24%2C%2C-1%7CPremiumORSess%2C%2C-1%7Ct4b-sc%2C%2C-1%7CRestAdsPers%2C%2C-1%7CMC_IB_UPSELL_IB_LOGOS2%2C%2C-1%7CTSMCPers%2C%2C-1%7Cb2bmcpers%2C%2C-1%7CPremMCBtmSess%2C%2C-1%7CMC_IB_UPSELL_IB_LOGOS%2C%2C-1%7CLaFourchette+Banners%2C%2C-1%7Csess_rev%2C%2C-1%7Csessamex%2C%2C-1%7CPremiumRRSess%2C%2C-1%7CTADORSess%2C%2C-1%7CAdsRetPers%2C%2C-1%7CListMCSess%2C%2C-1%7CTARSWBPers%2C%2C-1%7CSPMCSess%2C%2C-1%7CTheForkORSess%2C%2C-1%7CTheForkRRSess%2C%2C-1%7Cpers_rev%2C%2C-1%7CRBAPers%2C%2C-1%7CRestAds%2FRSess%2C%2C-1%7CHomeAPers%2C%2C-1%7CPremiumMobPers%2C%2C-1%7CRCSess%2C%2C-1%7CLaFourchette+MC+Banners%2C%2C-1%7CRestAdsCCSess%2C%2C-1%7CRestPremRPers%2C%2C-1%7CRevHubRMPers%2C%2C-1%7CUVOwnersPers%2C%2C-1%7Cpssamex%2C%2C-1%7CTheForkMCCSess%2C%2C-1%7CCrisisPers%2C%2C-1%7CCYLPers%2C%2C-1%7CCCPers%2C%2C-1%7CRepTarMCPers%2C%2C-1%7Cb2bmcsess%2C%2C-1%7CTSMCSess%2C%2C-1%7CSPMCPers%2C%2C-1%7CRevHubRMSess%2C%2C-1%7CPremRetSess%2C%2C-1%7CViatorMCSess%2C%2C-1%7CPremiumMCPers%2C%2C-1%7CAdsRetSess%2C%2C-1%7CPremiumRRPers%2C%2C-1%7CRestAdsCCPers%2C%2C-1%7CTADORPers%2C%2C-1%7CTheForkORPers%2C%2C-1%7CPremMCBtmPers%2C%2C-1%7CTheForkRRPers%2C%2C-1%7CTARSWBSess%2C%2C-1%7CPremiumORPers%2C%2C-1%7CRestAdsSess%2C%2C-1%7CRBASess%2C%2C-1%7CSPORPers%2C%2C-1%7Cperssticker%2C%2C-1%7CListMCPers%2C%2C-1%7C; Domain=.tripadvisor.co.id; Expires=Sat, 21-May-2033 22:57:59 GMT; Path=/\n",
      "header: Set-Cookie: BEPIN=%1%1884ffbc332%3Bweb123a.a.tripadvisor.com%3A30023%3B; Domain=.tripadvisor.co.id; Path=/\n",
      "header: Set-Cookie: PAC=AA4Zg9nJGuaOFb2EHqME9DRv5lbXSZhvwVrf7qHRV_bg9K1293M85iFbofpwnIPFEiwaQkwpICKMGuf_i0oAiRrzJxPGjBON6qBDwRlK9NsTPQsicdGzXh8uVDghIKVK0fHZJvS1i2ul6D-FERZQLNP4KkPQo-98ZIvJHP4Lm0FPyXTZTs5ZgSxBtdNK7diMISQpt62JtKfhcvvLHF0lWETGf4ziQaOKYDV0EkGmG1na; Domain=www.tripadvisor.co.id; Expires=Fri, 23-May-2025 22:57:59 GMT; Path=/; Secure; HttpOnly\n",
      "header: Set-Cookie: SRT=TART_SYNC; Domain=www.tripadvisor.co.id; Expires=Wed, 24-May-2023 23:27:59 GMT; Path=/\n",
      "header: Set-Cookie: TATravelInfo=V2*AY.2023*AM.6*AD.4*DY.2023*DM.6*DD.5*A.2*MG.-1*HP.2*FL.3*DSM.1684969079685*RS.1; Domain=.tripadvisor.co.id; Expires=Wed, 07-Jun-2023 22:57:59 GMT; Path=/\n",
      "header: Set-Cookie: TAUD=LG-1684969079566-2.1.F.*RDD-2-2023_05_25*HDD-3-2023_06_04.2023_06_05.1; Domain=.tripadvisor.co.id; Expires=Wed, 07-Jun-2023 22:57:59 GMT; Path=/\n",
      "header: Set-Cookie: TASID=DB1525F4BC5A49B28DE345EF798D30AF; Domain=www.tripadvisor.co.id; Expires=Wed, 24-May-2023 23:27:59 GMT; Path=/; Secure\n",
      "header: Set-Cookie: TAReturnTo=%1%%2FHotel_Review-g608486-d1863756-Reviews-or5-Villa_Layang_Bulan-Kerobokan_North_Kuta_Bali.html; Domain=.tripadvisor.co.id; Path=/\n",
      "header: Set-Cookie: datadome=73r0213XTTjlMkD0owu96K4dAgpog34M5SJsV2Q82SkT2OToyTf~BIlvaZqMKnvG~XPgLEe8~KHrWriMCnz9Uv8lFZSigi7I0bT7fWmROV5MH15SdVjW_shTXmkFyB49; Max-Age=31104000; Domain=.tripadvisor.co.id; Path=/; Secure; SameSite=Lax\n",
      "Done Scrapping Villa Layang Bulan page 1\n",
      "\n",
      "\n"
     ]
    },
    {
     "name": "stderr",
     "output_type": "stream",
     "text": [
      "DEBUG:urllib3.connectionpool:Starting new HTTPS connection (1): www.tripadvisor.co.id:443\n"
     ]
    },
    {
     "name": "stdout",
     "output_type": "stream",
     "text": [
      "send: b'GET /Hotel_Review-g608486-d1863756-Reviews-or10-Villa_Layang_Bulan-Kerobokan_North_Kuta_Bali.html HTTP/1.1\\r\\nHost: www.tripadvisor.co.id\\r\\nUser-Agent: Mozilla/5.0 (X11; CrOS x86_64 12871.102.0) AppleWebKit/537.36 (KHTML, like Gecko) Chrome/81.0.4044.141 Safari/537.36\\r\\nAccept-Encoding: gzip, deflate\\r\\nAccept: */*\\r\\nConnection: keep-alive\\r\\n\\r\\n'\n"
     ]
    },
    {
     "name": "stderr",
     "output_type": "stream",
     "text": [
      "DEBUG:urllib3.connectionpool:https://www.tripadvisor.co.id:443 \"GET /Hotel_Review-g608486-d1863756-Reviews-or10-Villa_Layang_Bulan-Kerobokan_North_Kuta_Bali.html HTTP/1.1\" 200 None\n"
     ]
    },
    {
     "name": "stdout",
     "output_type": "stream",
     "text": [
      "reply: 'HTTP/1.1 200 OK\\r\\n'\n",
      "header: Server: envoy\n",
      "header: Link: <https://media-cdn.tripadvisor.com/media/>;rel=\"preconnect\";crossorigin\n",
      "header: Link: <https://media-cdn.tripadvisor.com/media/>;rel=\"dns-prefetch\"\n",
      "header: p3p: CP=\"NOI CURa ADMa DEVa TAIa OUR BUS IND UNI COM NAV INT DSP COR CAO PSA IDC ADM DEVi TAIi PSD IVAi IVDi CONi HIS CNT\"\n",
      "header: Pragma: no-cache\n",
      "header: Cache-Control: no-cache, no-store, must-revalidate\n",
      "header: Expires: 0\n",
      "header: Content-Language: id\n",
      "header: Link: <https://static.tacdn.com>;rel=\"dns-prefetch\"\n",
      "header: Link: <https://static.tacdn.com>;rel=\"preconnect\";crossorigin\n",
      "header: timing-allow-origin: https://www.tripadvisor.com\n",
      "header: Vary: Accept-Encoding\n",
      "header: Content-Type: text/html;charset=UTF-8\n",
      "header: x-datadome: protected\n",
      "header: Accept-CH: Sec-CH-UA,Sec-CH-UA-Mobile,Sec-CH-UA-Platform,Sec-CH-UA-Arch,Sec-CH-UA-Full-Version-List,Sec-CH-UA-Model,Sec-CH-Device-Memory\n",
      "header: Content-Encoding: gzip\n",
      "header: x-request-id: 8dfc1f7f-0af1-4209-b7b9-8c1c80395042\n",
      "header: Date: Wed, 24 May 2023 22:58:04 GMT\n",
      "header: Transfer-Encoding: chunked\n",
      "header: Connection: keep-alive\n",
      "header: Connection: Transfer-Encoding\n",
      "header: Set-Cookie: TADCID=P6mUtNJgo3PNasYrABQCXdElnkGETRW-Svh01l3nWnW8T978z5cc17Cq_8Iw3oqz445UWbgZNyAeffTeXqd_DQ3tibze11PyZOQ; Domain=www.tripadvisor.co.id; Expires=Sat, 21-May-2033 22:58:03 GMT; Path=/; Secure; HttpOnly\n",
      "header: Set-Cookie: TAUnique=%1%enc%3AMmnSYK198ZiCNtgs%2BCN3NnGfQMMEYPnqBQzo7wZJh8NcP8nqFo%2BX7g%3D%3D; Domain=.tripadvisor.co.id; Expires=Fri, 23-May-2025 22:58:03 GMT; Path=/; HttpOnly\n",
      "header: Set-Cookie: TASSK=enc%3AAK4I1UFQDVwQRoq69jV053LQl%2FMyfp0pLd%2F%2BrgFwXyOU%2BgcbagmeGsw2RcGNfSd%2FzNaGbjIU4j%2FfjMdEPBlW48d1G0n2CcUpeEVm3Of453rE2r6vd1OmgMX4A2qMcjXdHA%3D%3D; Domain=www.tripadvisor.co.id; Expires=Mon, 20-Nov-2023 22:58:04 GMT; Path=/; HttpOnly\n",
      "header: Set-Cookie: TASession=V2ID.D979CED91A0943FA8514AB60C262D3DE*SQ.1*HS.recommended*ES.popularity*DS.5*SAS.popularity*FPS.oldFirst*LF.in*FA.1*DF.0*TRA.true*LD.1863756; Domain=.tripadvisor.co.id; Path=/\n",
      "header: Set-Cookie: ServerPool=B; Domain=.tripadvisor.co.id; Path=/\n",
      "header: Set-Cookie: PMC=V2*MS.69*MD.20230524*LD.20230524; Domain=www.tripadvisor.co.id; Expires=Fri, 23-May-2025 22:58:04 GMT; Path=/; Secure; HttpOnly\n",
      "header: Set-Cookie: TART=%1%enc%3AgjbYLPgjdzaxS15%2BRWc46uIQTo%2Ba%2BLfMFFi0XNtOjNmWTkBXsrJ1XZejhi85A7X9264e%2BKmRDpM%3D; Domain=www.tripadvisor.co.id; Expires=Mon, 29-May-2023 22:58:04 GMT; Path=/; HttpOnly\n",
      "header: Set-Cookie: CM=%1%PremiumMobSess%2C%2C-1%7Ct4b-pc%2C%2C-1%7CRestAds%2FRPers%2C%2C-1%7CRCPers%2C%2C-1%7CWShadeSeen%2C%2C-1%7CTheForkMCCPers%2C%2C-1%7CHomeASess%2C%2C-1%7CPremiumMCSess%2C%2C-1%7CCrisisSess%2C%2C-1%7CUVOwnersSess%2C%2C-1%7CRestPremRSess%2C%2C-1%7CRepTarMCSess%2C%2C-1%7CCCSess%2C%2C-1%7CCYLSess%2C%2C-1%7CPremRetPers%2C%2C-1%7CViatorMCPers%2C%2C-1%7Csesssticker%2C%2C-1%7C%24%2C%2C-1%7CPremiumORSess%2C%2C-1%7Ct4b-sc%2C%2C-1%7CRestAdsPers%2C%2C-1%7CMC_IB_UPSELL_IB_LOGOS2%2C%2C-1%7CTSMCPers%2C%2C-1%7Cb2bmcpers%2C%2C-1%7CPremMCBtmSess%2C%2C-1%7CMC_IB_UPSELL_IB_LOGOS%2C%2C-1%7CLaFourchette+Banners%2C%2C-1%7Csess_rev%2C%2C-1%7Csessamex%2C%2C-1%7CPremiumRRSess%2C%2C-1%7CTADORSess%2C%2C-1%7CAdsRetPers%2C%2C-1%7CListMCSess%2C%2C-1%7CTARSWBPers%2C%2C-1%7CSPMCSess%2C%2C-1%7CTheForkORSess%2C%2C-1%7CTheForkRRSess%2C%2C-1%7Cpers_rev%2C%2C-1%7CRBAPers%2C%2C-1%7CRestAds%2FRSess%2C%2C-1%7CHomeAPers%2C%2C-1%7CPremiumMobPers%2C%2C-1%7CRCSess%2C%2C-1%7CLaFourchette+MC+Banners%2C%2C-1%7CRestAdsCCSess%2C%2C-1%7CRestPremRPers%2C%2C-1%7CRevHubRMPers%2C%2C-1%7CUVOwnersPers%2C%2C-1%7Cpssamex%2C%2C-1%7CTheForkMCCSess%2C%2C-1%7CCrisisPers%2C%2C-1%7CCYLPers%2C%2C-1%7CCCPers%2C%2C-1%7CRepTarMCPers%2C%2C-1%7Cb2bmcsess%2C%2C-1%7CTSMCSess%2C%2C-1%7CSPMCPers%2C%2C-1%7CRevHubRMSess%2C%2C-1%7CPremRetSess%2C%2C-1%7CViatorMCSess%2C%2C-1%7CPremiumMCPers%2C%2C-1%7CAdsRetSess%2C%2C-1%7CPremiumRRPers%2C%2C-1%7CRestAdsCCPers%2C%2C-1%7CTADORPers%2C%2C-1%7CTheForkORPers%2C%2C-1%7CPremMCBtmPers%2C%2C-1%7CTheForkRRPers%2C%2C-1%7CTARSWBSess%2C%2C-1%7CPremiumORPers%2C%2C-1%7CRestAdsSess%2C%2C-1%7CRBASess%2C%2C-1%7CSPORPers%2C%2C-1%7Cperssticker%2C%2C-1%7CListMCPers%2C%2C-1%7C; Domain=.tripadvisor.co.id; Expires=Sat, 21-May-2033 22:58:04 GMT; Path=/\n",
      "header: Set-Cookie: BEPIN=%1%1884ffbd3e8%3Bweb211a.a.tripadvisor.com%3A30023%3B; Domain=.tripadvisor.co.id; Path=/\n",
      "header: Set-Cookie: PAC=APLO1B4WT2F4CsA-Sp0GLZ2jxTwtt85jFvUgqLTm0mTIHv0QgU8wkc49ItRyuS00Gba0F0l_fPRUw6mseTeQWpxpSIzvbcSET9oZPP4vAon0PlT8LSiP5ZIasIxhiDMf9xYIdD2kDafzu_ZGST5e_7h6Ocw5EI3ZWmT_43E5sdP9-cLhUB5OGzTxiAb_Dp9KaTkT2AHaZq_YBeFzzXT4dAldr4WgIf0AHRfQx-EQX984; Domain=www.tripadvisor.co.id; Expires=Fri, 23-May-2025 22:58:04 GMT; Path=/; Secure; HttpOnly\n",
      "header: Set-Cookie: SRT=TART_SYNC; Domain=www.tripadvisor.co.id; Expires=Wed, 24-May-2023 23:28:04 GMT; Path=/\n",
      "header: Set-Cookie: TATravelInfo=V2*AY.2023*AM.6*AD.4*DY.2023*DM.6*DD.5*A.2*MG.-1*HP.2*FL.3*DSM.1684969083986*RS.1; Domain=.tripadvisor.co.id; Expires=Wed, 07-Jun-2023 22:58:04 GMT; Path=/\n",
      "header: Set-Cookie: TAUD=LG-1684969083844-2.1.F.*RDD-2-2023_05_25*HDD-3-2023_06_04.2023_06_05.1; Domain=.tripadvisor.co.id; Expires=Wed, 07-Jun-2023 22:58:04 GMT; Path=/\n",
      "header: Set-Cookie: TASID=D979CED91A0943FA8514AB60C262D3DE; Domain=www.tripadvisor.co.id; Expires=Wed, 24-May-2023 23:28:04 GMT; Path=/; Secure\n",
      "header: Set-Cookie: TAReturnTo=%1%%2FHotel_Review-g608486-d1863756-Reviews-or10-Villa_Layang_Bulan-Kerobokan_North_Kuta_Bali.html; Domain=.tripadvisor.co.id; Path=/\n",
      "header: Set-Cookie: datadome=7FLAD4CYu7mItSU5uL1PHQxZotixf2X~94~t4FX9StFNnrIvv5~q6VEsZk5cycTz0c0XTbV07CUnnARloxgdc6AoLmLHmkUexhpR7nX~LwGpESnFITN9mNy2jXD7ElA0; Max-Age=31104000; Domain=.tripadvisor.co.id; Path=/; Secure; SameSite=Lax\n",
      "Done Scrapping Villa Layang Bulan page 2\n",
      "\n",
      "\n"
     ]
    },
    {
     "name": "stderr",
     "output_type": "stream",
     "text": [
      "DEBUG:urllib3.connectionpool:Starting new HTTPS connection (1): www.tripadvisor.co.id:443\n"
     ]
    },
    {
     "name": "stdout",
     "output_type": "stream",
     "text": [
      "send: b'GET /Hotel_Review-g608486-d1863756-Reviews-or15-Villa_Layang_Bulan-Kerobokan_North_Kuta_Bali.html HTTP/1.1\\r\\nHost: www.tripadvisor.co.id\\r\\nUser-Agent: Mozilla/5.0 (X11; CrOS x86_64 12871.102.0) AppleWebKit/537.36 (KHTML, like Gecko) Chrome/81.0.4044.141 Safari/537.36\\r\\nAccept-Encoding: gzip, deflate\\r\\nAccept: */*\\r\\nConnection: keep-alive\\r\\n\\r\\n'\n"
     ]
    },
    {
     "name": "stderr",
     "output_type": "stream",
     "text": [
      "DEBUG:urllib3.connectionpool:https://www.tripadvisor.co.id:443 \"GET /Hotel_Review-g608486-d1863756-Reviews-or15-Villa_Layang_Bulan-Kerobokan_North_Kuta_Bali.html HTTP/1.1\" 200 None\n"
     ]
    },
    {
     "name": "stdout",
     "output_type": "stream",
     "text": [
      "reply: 'HTTP/1.1 200 OK\\r\\n'\n",
      "header: Server: envoy\n",
      "header: Link: <https://media-cdn.tripadvisor.com/media/>;rel=\"preconnect\";crossorigin\n",
      "header: Link: <https://media-cdn.tripadvisor.com/media/>;rel=\"dns-prefetch\"\n",
      "header: p3p: CP=\"NOI CURa ADMa DEVa TAIa OUR BUS IND UNI COM NAV INT DSP COR CAO PSA IDC ADM DEVi TAIi PSD IVAi IVDi CONi HIS CNT\"\n",
      "header: Pragma: no-cache\n",
      "header: Cache-Control: no-cache, no-store, must-revalidate\n",
      "header: Expires: 0\n",
      "header: Content-Language: id\n",
      "header: Link: <https://static.tacdn.com>;rel=\"dns-prefetch\"\n",
      "header: Link: <https://static.tacdn.com>;rel=\"preconnect\";crossorigin\n",
      "header: timing-allow-origin: https://www.tripadvisor.com\n",
      "header: Vary: Accept-Encoding\n",
      "header: Content-Type: text/html;charset=UTF-8\n",
      "header: x-datadome: protected\n",
      "header: Accept-CH: Sec-CH-UA,Sec-CH-UA-Mobile,Sec-CH-UA-Platform,Sec-CH-UA-Arch,Sec-CH-UA-Full-Version-List,Sec-CH-UA-Model,Sec-CH-Device-Memory\n",
      "header: Content-Encoding: gzip\n",
      "header: x-request-id: 5f30b6bb-2487-4171-a7fa-f6aa93869b0d\n",
      "header: Date: Wed, 24 May 2023 22:58:08 GMT\n",
      "header: Transfer-Encoding: chunked\n",
      "header: Connection: keep-alive\n",
      "header: Connection: Transfer-Encoding\n",
      "header: Set-Cookie: TADCID=wrYn5c7mU9HtZ8zbABQCXdElnkGETRW-Svh01l3nWnW8TztlQ8Ud7nfW1320Lo0EaDTzliGed03dxVyN1A_L5U3ge4ZKLRp7cMU; Domain=www.tripadvisor.co.id; Expires=Sat, 21-May-2033 22:58:08 GMT; Path=/; Secure; HttpOnly\n",
      "header: Set-Cookie: TAUnique=%1%enc%3AZn6fJ2TOIMSCNtgs%2BCN3NnGfQMMEYPnq4phB%2F9z859S1gJv8c%2B4ysA%3D%3D; Domain=.tripadvisor.co.id; Expires=Fri, 23-May-2025 22:58:08 GMT; Path=/; HttpOnly\n",
      "header: Set-Cookie: TASSK=enc%3AAJuJQEfBoDoMDWbZ4OuJSX5TfgcVBFCJ3jvOs8xwtkRYxeMMIAFAH9Iplzak6KKdAQnOHLqEXxUCApuBn8gQMzh2pNdGLhQrfYKMZ8KjRYv9Szg3N7sCRmmIbycaF%2B875Q%3D%3D; Domain=www.tripadvisor.co.id; Expires=Mon, 20-Nov-2023 22:58:08 GMT; Path=/; HttpOnly\n",
      "header: Set-Cookie: TASession=V2ID.A4C8184584E74BCA8CEED2219E27AF08*SQ.1*HS.recommended*ES.popularity*DS.5*SAS.popularity*FPS.oldFirst*LF.in*FA.1*DF.0*TRA.true*LD.1863756; Domain=.tripadvisor.co.id; Path=/\n",
      "header: Set-Cookie: ServerPool=B; Domain=.tripadvisor.co.id; Path=/\n",
      "header: Set-Cookie: PMC=V2*MS.60*MD.20230524*LD.20230524; Domain=www.tripadvisor.co.id; Expires=Fri, 23-May-2025 22:58:08 GMT; Path=/; Secure; HttpOnly\n",
      "header: Set-Cookie: TART=%1%enc%3AgjbYLPgjdzaxS15%2BRWc46j5eBM7s3FWCoOuNx%2BgAZXEqaXxM9%2FFq78mUkzFSFR1xcECzSU438ds%3D; Domain=www.tripadvisor.co.id; Expires=Mon, 29-May-2023 22:58:08 GMT; Path=/; HttpOnly\n",
      "header: Set-Cookie: CM=%1%PremiumMobSess%2C%2C-1%7Ct4b-pc%2C%2C-1%7CRestAds%2FRPers%2C%2C-1%7CRCPers%2C%2C-1%7CWShadeSeen%2C%2C-1%7CTheForkMCCPers%2C%2C-1%7CHomeASess%2C%2C-1%7CPremiumMCSess%2C%2C-1%7CCrisisSess%2C%2C-1%7CUVOwnersSess%2C%2C-1%7CRestPremRSess%2C%2C-1%7CRepTarMCSess%2C%2C-1%7CCCSess%2C%2C-1%7CCYLSess%2C%2C-1%7CPremRetPers%2C%2C-1%7CViatorMCPers%2C%2C-1%7Csesssticker%2C%2C-1%7C%24%2C%2C-1%7CPremiumORSess%2C%2C-1%7Ct4b-sc%2C%2C-1%7CRestAdsPers%2C%2C-1%7CMC_IB_UPSELL_IB_LOGOS2%2C%2C-1%7CTSMCPers%2C%2C-1%7Cb2bmcpers%2C%2C-1%7CPremMCBtmSess%2C%2C-1%7CMC_IB_UPSELL_IB_LOGOS%2C%2C-1%7CLaFourchette+Banners%2C%2C-1%7Csess_rev%2C%2C-1%7Csessamex%2C%2C-1%7CPremiumRRSess%2C%2C-1%7CTADORSess%2C%2C-1%7CAdsRetPers%2C%2C-1%7CListMCSess%2C%2C-1%7CTARSWBPers%2C%2C-1%7CSPMCSess%2C%2C-1%7CTheForkORSess%2C%2C-1%7CTheForkRRSess%2C%2C-1%7Cpers_rev%2C%2C-1%7CRBAPers%2C%2C-1%7CRestAds%2FRSess%2C%2C-1%7CHomeAPers%2C%2C-1%7CPremiumMobPers%2C%2C-1%7CRCSess%2C%2C-1%7CLaFourchette+MC+Banners%2C%2C-1%7CRestAdsCCSess%2C%2C-1%7CRestPremRPers%2C%2C-1%7CRevHubRMPers%2C%2C-1%7CUVOwnersPers%2C%2C-1%7Cpssamex%2C%2C-1%7CTheForkMCCSess%2C%2C-1%7CCrisisPers%2C%2C-1%7CCYLPers%2C%2C-1%7CCCPers%2C%2C-1%7CRepTarMCPers%2C%2C-1%7Cb2bmcsess%2C%2C-1%7CTSMCSess%2C%2C-1%7CSPMCPers%2C%2C-1%7CRevHubRMSess%2C%2C-1%7CPremRetSess%2C%2C-1%7CViatorMCSess%2C%2C-1%7CPremiumMCPers%2C%2C-1%7CAdsRetSess%2C%2C-1%7CPremiumRRPers%2C%2C-1%7CRestAdsCCPers%2C%2C-1%7CTADORPers%2C%2C-1%7CTheForkORPers%2C%2C-1%7CPremMCBtmPers%2C%2C-1%7CTheForkRRPers%2C%2C-1%7CTARSWBSess%2C%2C-1%7CPremiumORPers%2C%2C-1%7CRestAdsSess%2C%2C-1%7CRBASess%2C%2C-1%7CSPORPers%2C%2C-1%7Cperssticker%2C%2C-1%7CListMCPers%2C%2C-1%7C; Domain=.tripadvisor.co.id; Expires=Sat, 21-May-2033 22:58:08 GMT; Path=/\n",
      "header: Set-Cookie: BEPIN=%1%1884ffbe541%3Bweb305a.a.tripadvisor.com%3A30023%3B; Domain=.tripadvisor.co.id; Path=/\n",
      "header: Set-Cookie: PAC=ALOdLJ7RhnzwcvwK24LtmxyV3_tpQQ7rbFZwxSboXIsedv-jYN4J6o4COeOq5nvPQbK3fdQeOwhfZ_0zVUYa0U4Vahwg0CRY0eU277vBrLIslPvAibHhf5j1SWlm2BNRi6hXA4Ep2_FskR3ejg1btkqdLwUYPwhaEXEKiAg8havxbMJtRfld3epCUPZ0x9y-H8DI8GXEng4cXO3Ru5Spl0EIlMBRslpPxsq-E5GrI-Kz; Domain=www.tripadvisor.co.id; Expires=Fri, 23-May-2025 22:58:08 GMT; Path=/; Secure; HttpOnly\n",
      "header: Set-Cookie: SRT=TART_SYNC; Domain=www.tripadvisor.co.id; Expires=Wed, 24-May-2023 23:28:08 GMT; Path=/\n",
      "header: Set-Cookie: TATravelInfo=V2*AY.2023*AM.6*AD.4*DY.2023*DM.6*DD.5*A.2*MG.-1*HP.2*FL.3*DSM.1684969088420*RS.1; Domain=.tripadvisor.co.id; Expires=Wed, 07-Jun-2023 22:58:08 GMT; Path=/\n",
      "header: Set-Cookie: TAUD=LG-1684969088302-2.1.F.*RDD-2-2023_05_25*HDD-3-2023_06_04.2023_06_05.1; Domain=.tripadvisor.co.id; Expires=Wed, 07-Jun-2023 22:58:08 GMT; Path=/\n",
      "header: Set-Cookie: TASID=A4C8184584E74BCA8CEED2219E27AF08; Domain=www.tripadvisor.co.id; Expires=Wed, 24-May-2023 23:28:08 GMT; Path=/; Secure\n",
      "header: Set-Cookie: TAReturnTo=%1%%2FHotel_Review-g608486-d1863756-Reviews-or15-Villa_Layang_Bulan-Kerobokan_North_Kuta_Bali.html; Domain=.tripadvisor.co.id; Path=/\n",
      "header: Set-Cookie: datadome=2JdyXDKcvkzQAyVeKu9GGiXHqJ6Ro4_52uG64nE6XLWYN8MeCKqQz3584XzX2TGz2b-NA5RPdkPxXNq-7xFlBpIVV9DWw~aSkXLnBhxxYkqb9mwG27JXBd_PKErdV_w7; Max-Age=31104000; Domain=.tripadvisor.co.id; Path=/; Secure; SameSite=Lax\n",
      "Done Scrapping Villa Layang Bulan page 3\n",
      "\n",
      "\n"
     ]
    },
    {
     "name": "stderr",
     "output_type": "stream",
     "text": [
      "DEBUG:urllib3.connectionpool:Starting new HTTPS connection (1): www.tripadvisor.co.id:443\n"
     ]
    },
    {
     "name": "stdout",
     "output_type": "stream",
     "text": [
      "send: b'GET /Hotel_Review-g608486-d1863756-Reviews-or20-Villa_Layang_Bulan-Kerobokan_North_Kuta_Bali.html HTTP/1.1\\r\\nHost: www.tripadvisor.co.id\\r\\nUser-Agent: Mozilla/5.0 (X11; CrOS x86_64 12871.102.0) AppleWebKit/537.36 (KHTML, like Gecko) Chrome/81.0.4044.141 Safari/537.36\\r\\nAccept-Encoding: gzip, deflate\\r\\nAccept: */*\\r\\nConnection: keep-alive\\r\\n\\r\\n'\n"
     ]
    },
    {
     "name": "stderr",
     "output_type": "stream",
     "text": [
      "DEBUG:urllib3.connectionpool:https://www.tripadvisor.co.id:443 \"GET /Hotel_Review-g608486-d1863756-Reviews-or20-Villa_Layang_Bulan-Kerobokan_North_Kuta_Bali.html HTTP/1.1\" 200 None\n"
     ]
    },
    {
     "name": "stdout",
     "output_type": "stream",
     "text": [
      "reply: 'HTTP/1.1 200 OK\\r\\n'\n",
      "header: Server: envoy\n",
      "header: Link: <https://media-cdn.tripadvisor.com/media/>;rel=\"preconnect\";crossorigin\n",
      "header: Link: <https://media-cdn.tripadvisor.com/media/>;rel=\"dns-prefetch\"\n",
      "header: p3p: CP=\"NOI CURa ADMa DEVa TAIa OUR BUS IND UNI COM NAV INT DSP COR CAO PSA IDC ADM DEVi TAIi PSD IVAi IVDi CONi HIS CNT\"\n",
      "header: Pragma: no-cache\n",
      "header: Cache-Control: no-cache, no-store, must-revalidate\n",
      "header: Expires: 0\n",
      "header: Content-Language: id\n",
      "header: Link: <https://static.tacdn.com>;rel=\"dns-prefetch\"\n",
      "header: Link: <https://static.tacdn.com>;rel=\"preconnect\";crossorigin\n",
      "header: timing-allow-origin: https://www.tripadvisor.com\n",
      "header: Vary: Accept-Encoding\n",
      "header: Content-Type: text/html;charset=UTF-8\n",
      "header: Accept-CH: Sec-CH-UA,Sec-CH-UA-Mobile,Sec-CH-UA-Platform,Sec-CH-UA-Arch,Sec-CH-UA-Full-Version-List,Sec-CH-UA-Model,Sec-CH-Device-Memory\n",
      "header: x-datadome: protected\n",
      "header: Content-Encoding: gzip\n",
      "header: x-request-id: d4e85888-d4e4-4a6f-b76a-1071f1d75cc3\n",
      "header: Date: Wed, 24 May 2023 22:58:13 GMT\n",
      "header: Transfer-Encoding: chunked\n",
      "header: Connection: keep-alive\n",
      "header: Connection: Transfer-Encoding\n",
      "header: Set-Cookie: TADCID=VqujPVnej74vHOdgABQCXdElnkGETRW-Svh01l3nWnW8T8aONUCURV0hLObkh_RO5pRrueBY-OKW3k6JnYKV0AF0mHF0s_C6DLw; Domain=www.tripadvisor.co.id; Expires=Sat, 21-May-2033 22:58:12 GMT; Path=/; Secure; HttpOnly\n",
      "header: Set-Cookie: TAUnique=%1%enc%3AbmvRnY7Q4tKCNtgs%2BCN3NnGfQMMEYPnq23tplp%2BJYWGh4pnu4RDw4Q%3D%3D; Domain=.tripadvisor.co.id; Expires=Fri, 23-May-2025 22:58:12 GMT; Path=/; HttpOnly\n",
      "header: Set-Cookie: TASSK=enc%3AAN83klLK%2FO071fcFZ8FSYRA3fIgwYKsHeoZileSE0a6DU9HAP7FbKC6yBOT8PrnxDsudhgg4anWZTvOcpnqo0%2FSWIZbQspbHJyIsl1WhbxukgEgYsZp01yTW9M92m1G0Nw%3D%3D; Domain=www.tripadvisor.co.id; Expires=Mon, 20-Nov-2023 22:58:13 GMT; Path=/; HttpOnly\n",
      "header: Set-Cookie: TASession=V2ID.CA3FBF446D624B6D88B95EEF27B7A43F*SQ.1*HS.recommended*ES.popularity*DS.5*SAS.popularity*FPS.oldFirst*LF.in*FA.1*DF.0*TRA.true*LD.1863756; Domain=.tripadvisor.co.id; Path=/\n",
      "header: Set-Cookie: ServerPool=X; Domain=.tripadvisor.co.id; Path=/\n",
      "header: Set-Cookie: PMC=V2*MS.89*MD.20230524*LD.20230524; Domain=www.tripadvisor.co.id; Expires=Fri, 23-May-2025 22:58:13 GMT; Path=/; Secure; HttpOnly\n",
      "header: Set-Cookie: TART=%1%enc%3AgjbYLPgjdzaxS15%2BRWc46udiP9vo7R%2FNRHXS84cYebNfv%2FHNs3sxj3dkQolZzYBpDnmw93CPcBY%3D; Domain=www.tripadvisor.co.id; Expires=Mon, 29-May-2023 22:58:13 GMT; Path=/; HttpOnly\n",
      "header: Set-Cookie: CM=%1%PremiumMobSess%2C%2C-1%7Ct4b-pc%2C%2C-1%7CRestAds%2FRPers%2C%2C-1%7CRCPers%2C%2C-1%7CWShadeSeen%2C%2C-1%7CTheForkMCCPers%2C%2C-1%7CHomeASess%2C%2C-1%7CPremiumMCSess%2C%2C-1%7CCrisisSess%2C%2C-1%7CUVOwnersSess%2C%2C-1%7CRestPremRSess%2C%2C-1%7CRepTarMCSess%2C%2C-1%7CCCSess%2C%2C-1%7CCYLSess%2C%2C-1%7CPremRetPers%2C%2C-1%7CViatorMCPers%2C%2C-1%7Csesssticker%2C%2C-1%7C%24%2C%2C-1%7CPremiumORSess%2C%2C-1%7Ct4b-sc%2C%2C-1%7CRestAdsPers%2C%2C-1%7CMC_IB_UPSELL_IB_LOGOS2%2C%2C-1%7CTSMCPers%2C%2C-1%7Cb2bmcpers%2C%2C-1%7CPremMCBtmSess%2C%2C-1%7CMC_IB_UPSELL_IB_LOGOS%2C%2C-1%7CLaFourchette+Banners%2C%2C-1%7Csess_rev%2C%2C-1%7Csessamex%2C%2C-1%7CPremiumRRSess%2C%2C-1%7CTADORSess%2C%2C-1%7CAdsRetPers%2C%2C-1%7CListMCSess%2C%2C-1%7CTARSWBPers%2C%2C-1%7CSPMCSess%2C%2C-1%7CTheForkORSess%2C%2C-1%7CTheForkRRSess%2C%2C-1%7Cpers_rev%2C%2C-1%7CRBAPers%2C%2C-1%7CRestAds%2FRSess%2C%2C-1%7CHomeAPers%2C%2C-1%7CPremiumMobPers%2C%2C-1%7CRCSess%2C%2C-1%7CLaFourchette+MC+Banners%2C%2C-1%7CRestAdsCCSess%2C%2C-1%7CRestPremRPers%2C%2C-1%7CRevHubRMPers%2C%2C-1%7CUVOwnersPers%2C%2C-1%7Cpssamex%2C%2C-1%7CTheForkMCCSess%2C%2C-1%7CCrisisPers%2C%2C-1%7CCYLPers%2C%2C-1%7CCCPers%2C%2C-1%7CRepTarMCPers%2C%2C-1%7Cb2bmcsess%2C%2C-1%7CTSMCSess%2C%2C-1%7CSPMCPers%2C%2C-1%7CRevHubRMSess%2C%2C-1%7CPremRetSess%2C%2C-1%7CViatorMCSess%2C%2C-1%7CPremiumMCPers%2C%2C-1%7CAdsRetSess%2C%2C-1%7CPremiumRRPers%2C%2C-1%7CRestAdsCCPers%2C%2C-1%7CTADORPers%2C%2C-1%7CTheForkORPers%2C%2C-1%7CPremMCBtmPers%2C%2C-1%7CTheForkRRPers%2C%2C-1%7CTARSWBSess%2C%2C-1%7CPremiumORPers%2C%2C-1%7CRestAdsSess%2C%2C-1%7CRBASess%2C%2C-1%7CSPORPers%2C%2C-1%7Cperssticker%2C%2C-1%7CListMCPers%2C%2C-1%7C; Domain=.tripadvisor.co.id; Expires=Sat, 21-May-2033 22:58:13 GMT; Path=/\n",
      "header: Set-Cookie: BEPIN=%1%1884ffbf619%3Bweb165a.a.tripadvisor.com%3A30023%3B; Domain=.tripadvisor.co.id; Path=/\n",
      "header: Set-Cookie: PAC=AMgZl5VYO5q2QqGfMupllBBywSLcgjyQNO3MdoN5thItTYrK95fHSP-mDIhuXFUuhK7quEMldMxj4rH2Vm3sVo7PlpMWv4DyEd-Ap3y5RDETdC7xbykmyc9JecCSTZnA8MMR-BZQ1dbh0XEhonFstxZR_G_ecv4wuzm7uPMnWwvvOWMxx-GxI61-BPOsV5JMwrcN40zsmTLYgHsus1EPZssOQ6EeVse6HTjKIJFYXepi; Domain=www.tripadvisor.co.id; Expires=Fri, 23-May-2025 22:58:13 GMT; Path=/; Secure; HttpOnly\n",
      "header: Set-Cookie: SRT=TART_SYNC; Domain=www.tripadvisor.co.id; Expires=Wed, 24-May-2023 23:28:13 GMT; Path=/\n",
      "header: Set-Cookie: TATravelInfo=V2*AY.2023*AM.6*AD.4*DY.2023*DM.6*DD.5*A.2*MG.-1*HP.2*FL.3*DSM.1684969092731*RS.1; Domain=.tripadvisor.co.id; Expires=Wed, 07-Jun-2023 22:58:13 GMT; Path=/\n",
      "header: Set-Cookie: TAUD=LG-1684969092618-2.1.F.*RDD-2-2023_05_25*HDD-3-2023_06_04.2023_06_05.1; Domain=.tripadvisor.co.id; Expires=Wed, 07-Jun-2023 22:58:13 GMT; Path=/\n",
      "header: Set-Cookie: TASID=CA3FBF446D624B6D88B95EEF27B7A43F; Domain=www.tripadvisor.co.id; Expires=Wed, 24-May-2023 23:28:13 GMT; Path=/; Secure\n",
      "header: Set-Cookie: TAReturnTo=%1%%2FHotel_Review-g608486-d1863756-Reviews-or20-Villa_Layang_Bulan-Kerobokan_North_Kuta_Bali.html; Domain=.tripadvisor.co.id; Path=/\n",
      "header: Set-Cookie: datadome=6Su5qxL~QKfLIw3HFi0JbTlOnSp6LjeuWA5XXG_Qgc~zlJrzdVbDvA~bMigJbJCByYYcgtBBLO0EI513SnYBr~9~9jfx90uAGtmi_SqdvzpQ8N15FvaEnxLsd_v0p4Nu; Max-Age=31104000; Domain=.tripadvisor.co.id; Path=/; Secure; SameSite=Lax\n",
      "Done Scrapping Villa Layang Bulan page 4\n",
      "\n",
      "\n"
     ]
    },
    {
     "name": "stderr",
     "output_type": "stream",
     "text": [
      "DEBUG:urllib3.connectionpool:Starting new HTTPS connection (1): www.tripadvisor.co.id:443\n"
     ]
    },
    {
     "name": "stdout",
     "output_type": "stream",
     "text": [
      "send: b'GET /Hotel_Review-g608486-d1863756-Reviews-or25-Villa_Layang_Bulan-Kerobokan_North_Kuta_Bali.html HTTP/1.1\\r\\nHost: www.tripadvisor.co.id\\r\\nUser-Agent: Mozilla/5.0 (X11; CrOS x86_64 12871.102.0) AppleWebKit/537.36 (KHTML, like Gecko) Chrome/81.0.4044.141 Safari/537.36\\r\\nAccept-Encoding: gzip, deflate\\r\\nAccept: */*\\r\\nConnection: keep-alive\\r\\n\\r\\n'\n"
     ]
    },
    {
     "name": "stderr",
     "output_type": "stream",
     "text": [
      "DEBUG:urllib3.connectionpool:https://www.tripadvisor.co.id:443 \"GET /Hotel_Review-g608486-d1863756-Reviews-or25-Villa_Layang_Bulan-Kerobokan_North_Kuta_Bali.html HTTP/1.1\" 200 None\n"
     ]
    },
    {
     "name": "stdout",
     "output_type": "stream",
     "text": [
      "reply: 'HTTP/1.1 200 OK\\r\\n'\n",
      "header: Server: envoy\n",
      "header: Link: <https://media-cdn.tripadvisor.com/media/>;rel=\"preconnect\";crossorigin\n",
      "header: Link: <https://media-cdn.tripadvisor.com/media/>;rel=\"dns-prefetch\"\n",
      "header: p3p: CP=\"NOI CURa ADMa DEVa TAIa OUR BUS IND UNI COM NAV INT DSP COR CAO PSA IDC ADM DEVi TAIi PSD IVAi IVDi CONi HIS CNT\"\n",
      "header: Pragma: no-cache\n",
      "header: Cache-Control: no-cache, no-store, must-revalidate\n",
      "header: Expires: 0\n",
      "header: Content-Language: id\n",
      "header: Link: <https://static.tacdn.com>;rel=\"dns-prefetch\"\n",
      "header: Link: <https://static.tacdn.com>;rel=\"preconnect\";crossorigin\n",
      "header: timing-allow-origin: https://www.tripadvisor.com\n",
      "header: Vary: Accept-Encoding\n",
      "header: Content-Type: text/html;charset=UTF-8\n",
      "header: x-datadome: protected\n",
      "header: Accept-CH: Sec-CH-UA,Sec-CH-UA-Mobile,Sec-CH-UA-Platform,Sec-CH-UA-Arch,Sec-CH-UA-Full-Version-List,Sec-CH-UA-Model,Sec-CH-Device-Memory\n",
      "header: Content-Encoding: gzip\n",
      "header: x-request-id: 671847d4-61ce-46ef-b3b6-18a63d3dba02\n",
      "header: Date: Wed, 24 May 2023 22:58:17 GMT\n",
      "header: Transfer-Encoding: chunked\n",
      "header: Connection: keep-alive\n",
      "header: Connection: Transfer-Encoding\n",
      "header: Set-Cookie: TADCID=L-h5nfhvk8zN1adaABQCXdElnkGETRW-Svh01l3nWnW8T96kns2z2em5V5_qy9qnx5cQhCwu8Q8Xu3U27-HmWKu_aEDQmQTIS8w; Domain=www.tripadvisor.co.id; Expires=Sat, 21-May-2033 22:58:16 GMT; Path=/; Secure; HttpOnly\n",
      "header: Set-Cookie: TAUnique=%1%enc%3A8kwUAflygK2CNtgs%2BCN3NnGfQMMEYPnqkv%2FgFTqz2WH3forfhd%2Fwsw%3D%3D; Domain=.tripadvisor.co.id; Expires=Fri, 23-May-2025 22:58:16 GMT; Path=/; HttpOnly\n",
      "header: Set-Cookie: TASSK=enc%3AAA54kp6pRfsVCp%2B4ltswOIT3GXSquGpaCMn1%2BoBb7uv5vfDNnoyiRtfUY6iOydv95EfDrDtJe88Erw1bRFOGxmgY5dELPZELMuM8p82aT4jesydFZakOB5gz2pGt7zEVMA%3D%3D; Domain=www.tripadvisor.co.id; Expires=Mon, 20-Nov-2023 22:58:17 GMT; Path=/; HttpOnly\n",
      "header: Set-Cookie: TASession=V2ID.A82504A3B9C7495CBF1ECE324447111E*SQ.1*HS.recommended*ES.popularity*DS.5*SAS.popularity*FPS.oldFirst*LF.in*FA.1*DF.0*TRA.true*LD.1863756; Domain=.tripadvisor.co.id; Path=/\n",
      "header: Set-Cookie: ServerPool=X; Domain=.tripadvisor.co.id; Path=/\n",
      "header: Set-Cookie: PMC=V2*MS.6*MD.20230524*LD.20230524; Domain=www.tripadvisor.co.id; Expires=Fri, 23-May-2025 22:58:17 GMT; Path=/; Secure; HttpOnly\n",
      "header: Set-Cookie: TART=%1%enc%3AgjbYLPgjdzaxS15%2BRWc46jCiIdVg9b0505qJT4o5jq4v1weWpcMyUZaB4G5Bi1SczNKKTudLhXs%3D; Domain=www.tripadvisor.co.id; Expires=Mon, 29-May-2023 22:58:17 GMT; Path=/; HttpOnly\n",
      "header: Set-Cookie: CM=%1%PremiumMobSess%2C%2C-1%7Ct4b-pc%2C%2C-1%7CRestAds%2FRPers%2C%2C-1%7CRCPers%2C%2C-1%7CWShadeSeen%2C%2C-1%7CTheForkMCCPers%2C%2C-1%7CHomeASess%2C%2C-1%7CPremiumMCSess%2C%2C-1%7CCrisisSess%2C%2C-1%7CUVOwnersSess%2C%2C-1%7CRestPremRSess%2C%2C-1%7CRepTarMCSess%2C%2C-1%7CCCSess%2C%2C-1%7CCYLSess%2C%2C-1%7CPremRetPers%2C%2C-1%7CViatorMCPers%2C%2C-1%7Csesssticker%2C%2C-1%7C%24%2C%2C-1%7CPremiumORSess%2C%2C-1%7Ct4b-sc%2C%2C-1%7CRestAdsPers%2C%2C-1%7CMC_IB_UPSELL_IB_LOGOS2%2C%2C-1%7CTSMCPers%2C%2C-1%7Cb2bmcpers%2C%2C-1%7CPremMCBtmSess%2C%2C-1%7CMC_IB_UPSELL_IB_LOGOS%2C%2C-1%7CLaFourchette+Banners%2C%2C-1%7Csess_rev%2C%2C-1%7Csessamex%2C%2C-1%7CPremiumRRSess%2C%2C-1%7CTADORSess%2C%2C-1%7CAdsRetPers%2C%2C-1%7CListMCSess%2C%2C-1%7CTARSWBPers%2C%2C-1%7CSPMCSess%2C%2C-1%7CTheForkORSess%2C%2C-1%7CTheForkRRSess%2C%2C-1%7Cpers_rev%2C%2C-1%7CRBAPers%2C%2C-1%7CRestAds%2FRSess%2C%2C-1%7CHomeAPers%2C%2C-1%7CPremiumMobPers%2C%2C-1%7CRCSess%2C%2C-1%7CLaFourchette+MC+Banners%2C%2C-1%7CRestAdsCCSess%2C%2C-1%7CRestPremRPers%2C%2C-1%7CRevHubRMPers%2C%2C-1%7CUVOwnersPers%2C%2C-1%7Cpssamex%2C%2C-1%7CTheForkMCCSess%2C%2C-1%7CCrisisPers%2C%2C-1%7CCYLPers%2C%2C-1%7CCCPers%2C%2C-1%7CRepTarMCPers%2C%2C-1%7Cb2bmcsess%2C%2C-1%7CTSMCSess%2C%2C-1%7CSPMCPers%2C%2C-1%7CRevHubRMSess%2C%2C-1%7CPremRetSess%2C%2C-1%7CViatorMCSess%2C%2C-1%7CPremiumMCPers%2C%2C-1%7CAdsRetSess%2C%2C-1%7CPremiumRRPers%2C%2C-1%7CRestAdsCCPers%2C%2C-1%7CTADORPers%2C%2C-1%7CTheForkORPers%2C%2C-1%7CPremMCBtmPers%2C%2C-1%7CTheForkRRPers%2C%2C-1%7CTARSWBSess%2C%2C-1%7CPremiumORPers%2C%2C-1%7CRestAdsSess%2C%2C-1%7CRBASess%2C%2C-1%7CSPORPers%2C%2C-1%7Cperssticker%2C%2C-1%7CListMCPers%2C%2C-1%7C; Domain=.tripadvisor.co.id; Expires=Sat, 21-May-2033 22:58:17 GMT; Path=/\n",
      "header: Set-Cookie: BEPIN=%1%1884ffc0737%3Bweb191a.a.tripadvisor.com%3A30023%3B; Domain=.tripadvisor.co.id; Path=/\n",
      "header: Set-Cookie: PAC=AEpmybxZj516uBvozDIkt17_cb1Cg7x_CmKlBInAM-5m9fUyY3jcQylmzkRNs9gZuGzHpLrYJpKPMid4w4Am8WA7pytbQdl-i5UtPW0_HfzA0mUNL-bQNHPOOF4T5uYsTawymVD45pLHYn1VIdsymQlZAneIP2LSXt42q5LaRfiLhSQM9TK0b1DXJo_5htqOG7LJ4_pPDphk5pmsGcXIxMv5nxbvvLVmlTnysJfPyVSL; Domain=www.tripadvisor.co.id; Expires=Fri, 23-May-2025 22:58:17 GMT; Path=/; Secure; HttpOnly\n",
      "header: Set-Cookie: SRT=TART_SYNC; Domain=www.tripadvisor.co.id; Expires=Wed, 24-May-2023 23:28:17 GMT; Path=/\n",
      "header: Set-Cookie: TATravelInfo=V2*AY.2023*AM.6*AD.4*DY.2023*DM.6*DD.5*A.2*MG.-1*HP.2*FL.3*DSM.1684969097104*RS.1; Domain=.tripadvisor.co.id; Expires=Wed, 07-Jun-2023 22:58:17 GMT; Path=/\n",
      "header: Set-Cookie: TAUD=LG-1684969097000-2.1.F.*RDD-2-2023_05_25*HDD-3-2023_06_04.2023_06_05.1; Domain=.tripadvisor.co.id; Expires=Wed, 07-Jun-2023 22:58:17 GMT; Path=/\n",
      "header: Set-Cookie: TASID=A82504A3B9C7495CBF1ECE324447111E; Domain=www.tripadvisor.co.id; Expires=Wed, 24-May-2023 23:28:17 GMT; Path=/; Secure\n",
      "header: Set-Cookie: TAReturnTo=%1%%2FHotel_Review-g608486-d1863756-Reviews-or25-Villa_Layang_Bulan-Kerobokan_North_Kuta_Bali.html; Domain=.tripadvisor.co.id; Path=/\n",
      "header: Set-Cookie: datadome=7ndwxFL_bzrdECeBbHcuCjQx7Ns6NpFY2lGzQCSDWhhe-ubLmmVoQK9mU_yKajI1RkAMY5eQjFIkrj~SMV2F_AFjjhUOA7zVhbFP329BCpNz94WqPnWn0xbw-dALZy4i; Max-Age=31104000; Domain=.tripadvisor.co.id; Path=/; Secure; SameSite=Lax\n",
      "Done Scrapping Villa Layang Bulan page 5\n",
      "\n",
      "\n"
     ]
    },
    {
     "name": "stderr",
     "output_type": "stream",
     "text": [
      "DEBUG:urllib3.connectionpool:Starting new HTTPS connection (1): www.tripadvisor.co.id:443\n"
     ]
    },
    {
     "name": "stdout",
     "output_type": "stream",
     "text": [
      "send: b'GET /Hotel_Review-g608486-d1863756-Reviews-or30-Villa_Layang_Bulan-Kerobokan_North_Kuta_Bali.html HTTP/1.1\\r\\nHost: www.tripadvisor.co.id\\r\\nUser-Agent: Mozilla/5.0 (X11; CrOS x86_64 12871.102.0) AppleWebKit/537.36 (KHTML, like Gecko) Chrome/81.0.4044.141 Safari/537.36\\r\\nAccept-Encoding: gzip, deflate\\r\\nAccept: */*\\r\\nConnection: keep-alive\\r\\n\\r\\n'\n"
     ]
    },
    {
     "name": "stderr",
     "output_type": "stream",
     "text": [
      "DEBUG:urllib3.connectionpool:https://www.tripadvisor.co.id:443 \"GET /Hotel_Review-g608486-d1863756-Reviews-or30-Villa_Layang_Bulan-Kerobokan_North_Kuta_Bali.html HTTP/1.1\" 200 None\n"
     ]
    },
    {
     "name": "stdout",
     "output_type": "stream",
     "text": [
      "reply: 'HTTP/1.1 200 OK\\r\\n'\n",
      "header: Server: envoy\n",
      "header: Link: <https://media-cdn.tripadvisor.com/media/>;rel=\"preconnect\";crossorigin\n",
      "header: Link: <https://media-cdn.tripadvisor.com/media/>;rel=\"dns-prefetch\"\n",
      "header: p3p: CP=\"NOI CURa ADMa DEVa TAIa OUR BUS IND UNI COM NAV INT DSP COR CAO PSA IDC ADM DEVi TAIi PSD IVAi IVDi CONi HIS CNT\"\n",
      "header: Pragma: no-cache\n",
      "header: Cache-Control: no-cache, no-store, must-revalidate\n",
      "header: Expires: 0\n",
      "header: Content-Language: id\n",
      "header: Link: <https://static.tacdn.com>;rel=\"dns-prefetch\"\n",
      "header: Link: <https://static.tacdn.com>;rel=\"preconnect\";crossorigin\n",
      "header: timing-allow-origin: https://www.tripadvisor.com\n",
      "header: Vary: Accept-Encoding\n",
      "header: Content-Type: text/html;charset=UTF-8\n",
      "header: x-datadome: protected\n",
      "header: Accept-CH: Sec-CH-UA,Sec-CH-UA-Mobile,Sec-CH-UA-Platform,Sec-CH-UA-Arch,Sec-CH-UA-Full-Version-List,Sec-CH-UA-Model,Sec-CH-Device-Memory\n",
      "header: Content-Encoding: gzip\n",
      "header: x-request-id: da651121-4927-4ce5-85af-8ca94df31a24\n",
      "header: Date: Wed, 24 May 2023 22:58:22 GMT\n",
      "header: Transfer-Encoding: chunked\n",
      "header: Connection: keep-alive\n",
      "header: Connection: Transfer-Encoding\n",
      "header: Set-Cookie: TADCID=zkkwP_1t9rjhn4PNABQCXdElnkGETRW-Svh01l3nWnW8T_QFtVfX5LJIQMJ7-3SyJwg5VS3XrJyHx4-kZfH8x9KSqFQcXjctz4s; Domain=www.tripadvisor.co.id; Expires=Sat, 21-May-2033 22:58:21 GMT; Path=/; Secure; HttpOnly\n",
      "header: Set-Cookie: TAUnique=%1%enc%3Ac3kmFs5XyNaCNtgs%2BCN3NnGfQMMEYPnqwZrMxxjoPkAAO9w0iZY43g%3D%3D; Domain=.tripadvisor.co.id; Expires=Fri, 23-May-2025 22:58:21 GMT; Path=/; HttpOnly\n",
      "header: Set-Cookie: TASSK=enc%3AACx5Bnn0LW86DE5EA7Q848PdUocE7YONvvETnbE9zH%2BIlAcKzA5Kks5FYSTWGPWFg8oRtjdkLkOcy0DR%2BPwjnCjXexxWl%2FnRGvvy1FHd00z7X2dXHTDcEwaEH6rGAAwqaQ%3D%3D; Domain=www.tripadvisor.co.id; Expires=Mon, 20-Nov-2023 22:58:21 GMT; Path=/; HttpOnly\n",
      "header: Set-Cookie: TASession=V2ID.7698D4CBC7B8483E9A7CDB08BF264A57*SQ.1*HS.recommended*ES.popularity*DS.5*SAS.popularity*FPS.oldFirst*LF.in*FA.1*DF.0*TRA.true*LD.1863756; Domain=.tripadvisor.co.id; Path=/\n",
      "header: Set-Cookie: ServerPool=X; Domain=.tripadvisor.co.id; Path=/\n",
      "header: Set-Cookie: PMC=V2*MS.53*MD.20230524*LD.20230524; Domain=www.tripadvisor.co.id; Expires=Fri, 23-May-2025 22:58:21 GMT; Path=/; Secure; HttpOnly\n",
      "header: Set-Cookie: TART=%1%enc%3AgjbYLPgjdzaxS15%2BRWc46s4vyvOJrsN9SA6phMrmpoT0THnLk4CbFxLIqyhuqFR8F01umZ0v3i8%3D; Domain=www.tripadvisor.co.id; Expires=Mon, 29-May-2023 22:58:21 GMT; Path=/; HttpOnly\n",
      "header: Set-Cookie: CM=%1%PremiumMobSess%2C%2C-1%7Ct4b-pc%2C%2C-1%7CRestAds%2FRPers%2C%2C-1%7CRCPers%2C%2C-1%7CWShadeSeen%2C%2C-1%7CTheForkMCCPers%2C%2C-1%7CHomeASess%2C%2C-1%7CPremiumMCSess%2C%2C-1%7CCrisisSess%2C%2C-1%7CUVOwnersSess%2C%2C-1%7CRestPremRSess%2C%2C-1%7CRepTarMCSess%2C%2C-1%7CCCSess%2C%2C-1%7CCYLSess%2C%2C-1%7CPremRetPers%2C%2C-1%7CViatorMCPers%2C%2C-1%7Csesssticker%2C%2C-1%7C%24%2C%2C-1%7CPremiumORSess%2C%2C-1%7Ct4b-sc%2C%2C-1%7CRestAdsPers%2C%2C-1%7CMC_IB_UPSELL_IB_LOGOS2%2C%2C-1%7CTSMCPers%2C%2C-1%7Cb2bmcpers%2C%2C-1%7CPremMCBtmSess%2C%2C-1%7CMC_IB_UPSELL_IB_LOGOS%2C%2C-1%7CLaFourchette+Banners%2C%2C-1%7Csess_rev%2C%2C-1%7Csessamex%2C%2C-1%7CPremiumRRSess%2C%2C-1%7CTADORSess%2C%2C-1%7CAdsRetPers%2C%2C-1%7CListMCSess%2C%2C-1%7CTARSWBPers%2C%2C-1%7CSPMCSess%2C%2C-1%7CTheForkORSess%2C%2C-1%7CTheForkRRSess%2C%2C-1%7Cpers_rev%2C%2C-1%7CRBAPers%2C%2C-1%7CRestAds%2FRSess%2C%2C-1%7CHomeAPers%2C%2C-1%7CPremiumMobPers%2C%2C-1%7CRCSess%2C%2C-1%7CLaFourchette+MC+Banners%2C%2C-1%7CRestAdsCCSess%2C%2C-1%7CRestPremRPers%2C%2C-1%7CRevHubRMPers%2C%2C-1%7CUVOwnersPers%2C%2C-1%7Cpssamex%2C%2C-1%7CTheForkMCCSess%2C%2C-1%7CCrisisPers%2C%2C-1%7CCYLPers%2C%2C-1%7CCCPers%2C%2C-1%7CRepTarMCPers%2C%2C-1%7Cb2bmcsess%2C%2C-1%7CTSMCSess%2C%2C-1%7CSPMCPers%2C%2C-1%7CRevHubRMSess%2C%2C-1%7CPremRetSess%2C%2C-1%7CViatorMCSess%2C%2C-1%7CPremiumMCPers%2C%2C-1%7CAdsRetSess%2C%2C-1%7CPremiumRRPers%2C%2C-1%7CRestAdsCCPers%2C%2C-1%7CTADORPers%2C%2C-1%7CTheForkORPers%2C%2C-1%7CPremMCBtmPers%2C%2C-1%7CTheForkRRPers%2C%2C-1%7CTARSWBSess%2C%2C-1%7CPremiumORPers%2C%2C-1%7CRestAdsSess%2C%2C-1%7CRBASess%2C%2C-1%7CSPORPers%2C%2C-1%7Cperssticker%2C%2C-1%7CListMCPers%2C%2C-1%7C; Domain=.tripadvisor.co.id; Expires=Sat, 21-May-2033 22:58:21 GMT; Path=/\n",
      "header: Set-Cookie: BEPIN=%1%1884ffc1885%3Bweb191a.a.tripadvisor.com%3A30023%3B; Domain=.tripadvisor.co.id; Path=/\n",
      "header: Set-Cookie: PAC=AJnTSfFxI41mo8YSzrTzJHdcb1iicGbTIxA4Iv2P4uLKmVJnhLUVBJnp2NXnoj4iMpt0xAZkxxM108TFdD3vW0t-R0mT0V_WH8O0ci6aGedets0Dqcw9XRmv1-6V9yiTYTJpe-9TvkkCV2GUtt_cqNoPHzTnci2dPIgcHAV9JtRou5dPWg0GqZmCkrhnrIox5XY9GsbcMOCFtolttcM47NSQApIZgNsxqGsK_kExci2R; Domain=www.tripadvisor.co.id; Expires=Fri, 23-May-2025 22:58:21 GMT; Path=/; Secure; HttpOnly\n",
      "header: Set-Cookie: SRT=TART_SYNC; Domain=www.tripadvisor.co.id; Expires=Wed, 24-May-2023 23:28:21 GMT; Path=/\n",
      "header: Set-Cookie: TATravelInfo=V2*AY.2023*AM.6*AD.4*DY.2023*DM.6*DD.5*A.2*MG.-1*HP.2*FL.3*DSM.1684969101542*RS.1; Domain=.tripadvisor.co.id; Expires=Wed, 07-Jun-2023 22:58:21 GMT; Path=/\n",
      "header: Set-Cookie: TAUD=LG-1684969101414-2.1.F.*RDD-2-2023_05_25*HDD-3-2023_06_04.2023_06_05.1; Domain=.tripadvisor.co.id; Expires=Wed, 07-Jun-2023 22:58:21 GMT; Path=/\n",
      "header: Set-Cookie: TASID=7698D4CBC7B8483E9A7CDB08BF264A57; Domain=www.tripadvisor.co.id; Expires=Wed, 24-May-2023 23:28:21 GMT; Path=/; Secure\n",
      "header: Set-Cookie: TAReturnTo=%1%%2FHotel_Review-g608486-d1863756-Reviews-or30-Villa_Layang_Bulan-Kerobokan_North_Kuta_Bali.html; Domain=.tripadvisor.co.id; Path=/\n",
      "header: Set-Cookie: datadome=0vgEBdpdSacRavyq1N54AlJG2sWQUWoD8RUpN60smM_L4MogIwpwag3mIQEN3Y7Zg2rJSnYY9C5k3DiEjB~uTNAw5HPUF33tf6mameZbirsW0DvVmvdJcM2noILBPFy_; Max-Age=31104000; Domain=.tripadvisor.co.id; Path=/; Secure; SameSite=Lax\n",
      "Done Scrapping Villa Layang Bulan page 6\n",
      "\n",
      "\n"
     ]
    },
    {
     "name": "stderr",
     "output_type": "stream",
     "text": [
      "DEBUG:urllib3.connectionpool:Starting new HTTPS connection (1): www.tripadvisor.co.id:443\n"
     ]
    },
    {
     "name": "stdout",
     "output_type": "stream",
     "text": [
      "send: b'GET /Hotel_Review-g608486-d1863756-Reviews-or35-Villa_Layang_Bulan-Kerobokan_North_Kuta_Bali.html HTTP/1.1\\r\\nHost: www.tripadvisor.co.id\\r\\nUser-Agent: Mozilla/5.0 (X11; CrOS x86_64 12871.102.0) AppleWebKit/537.36 (KHTML, like Gecko) Chrome/81.0.4044.141 Safari/537.36\\r\\nAccept-Encoding: gzip, deflate\\r\\nAccept: */*\\r\\nConnection: keep-alive\\r\\n\\r\\n'\n"
     ]
    },
    {
     "name": "stderr",
     "output_type": "stream",
     "text": [
      "DEBUG:urllib3.connectionpool:https://www.tripadvisor.co.id:443 \"GET /Hotel_Review-g608486-d1863756-Reviews-or35-Villa_Layang_Bulan-Kerobokan_North_Kuta_Bali.html HTTP/1.1\" 200 None\n"
     ]
    },
    {
     "name": "stdout",
     "output_type": "stream",
     "text": [
      "reply: 'HTTP/1.1 200 OK\\r\\n'\n",
      "header: Server: envoy\n",
      "header: Link: <https://media-cdn.tripadvisor.com/media/>;rel=\"preconnect\";crossorigin\n",
      "header: Link: <https://media-cdn.tripadvisor.com/media/>;rel=\"dns-prefetch\"\n",
      "header: p3p: CP=\"NOI CURa ADMa DEVa TAIa OUR BUS IND UNI COM NAV INT DSP COR CAO PSA IDC ADM DEVi TAIi PSD IVAi IVDi CONi HIS CNT\"\n",
      "header: Pragma: no-cache\n",
      "header: Cache-Control: no-cache, no-store, must-revalidate\n",
      "header: Expires: 0\n",
      "header: Content-Language: id\n",
      "header: Link: <https://static.tacdn.com>;rel=\"dns-prefetch\"\n",
      "header: Link: <https://static.tacdn.com>;rel=\"preconnect\";crossorigin\n",
      "header: timing-allow-origin: https://www.tripadvisor.com\n",
      "header: Vary: Accept-Encoding\n",
      "header: Content-Type: text/html;charset=UTF-8\n",
      "header: Accept-CH: Sec-CH-UA,Sec-CH-UA-Mobile,Sec-CH-UA-Platform,Sec-CH-UA-Arch,Sec-CH-UA-Full-Version-List,Sec-CH-UA-Model,Sec-CH-Device-Memory\n",
      "header: x-datadome: protected\n",
      "header: Content-Encoding: gzip\n",
      "header: x-request-id: d4f022e9-614f-4633-8556-5108cbbda08a\n",
      "header: Date: Wed, 24 May 2023 22:58:26 GMT\n",
      "header: Transfer-Encoding: chunked\n",
      "header: Connection: keep-alive\n",
      "header: Connection: Transfer-Encoding\n",
      "header: Set-Cookie: TADCID=vZ1dLyAvUA6V1xrCABQCXdElnkGETRW-Svh01l3nWnW8TxV07wAGbXTZqRGb8WbIAkn1jhjtiVxj1TU_LNo4ZcSywwZWadp_IO4; Domain=www.tripadvisor.co.id; Expires=Sat, 21-May-2033 22:58:25 GMT; Path=/; Secure; HttpOnly\n",
      "header: Set-Cookie: TAUnique=%1%enc%3A4k9RwGwOWkWCNtgs%2BCN3NnGfQMMEYPnqLIHNWfm7rRT5M%2B4UhLm1yg%3D%3D; Domain=.tripadvisor.co.id; Expires=Fri, 23-May-2025 22:58:25 GMT; Path=/; HttpOnly\n",
      "header: Set-Cookie: TASSK=enc%3AAAtHfWoNtBotx3wL2i3WqiQy6QFT2Niy5nlLD3gfsZ0JMi6ThTPyRUj4FNFE%2FXB9BYn8q8XzVfEfkRKCpeQcGWUkTo2sxxKgV9O7aM3w3Yd2XPIhzDmWStXNtkOYA8Unng%3D%3D; Domain=www.tripadvisor.co.id; Expires=Mon, 20-Nov-2023 22:58:26 GMT; Path=/; HttpOnly\n",
      "header: Set-Cookie: TASession=V2ID.B8EEC78888B84EA6AC5D5C06A5CA424E*SQ.1*HS.recommended*ES.popularity*DS.5*SAS.popularity*FPS.oldFirst*LF.in*FA.1*DF.0*TRA.true*LD.1863756; Domain=.tripadvisor.co.id; Path=/\n",
      "header: Set-Cookie: ServerPool=C; Domain=.tripadvisor.co.id; Path=/\n",
      "header: Set-Cookie: PMC=V2*MS.70*MD.20230524*LD.20230524; Domain=www.tripadvisor.co.id; Expires=Fri, 23-May-2025 22:58:26 GMT; Path=/; Secure; HttpOnly\n",
      "header: Set-Cookie: TART=%1%enc%3AgjbYLPgjdzaxS15%2BRWc46iBBRPGIxac3qkqofiiTubD0VAWQ4md%2FXo7XOAtg7GIL1RYv%2BHhY28E%3D; Domain=www.tripadvisor.co.id; Expires=Mon, 29-May-2023 22:58:26 GMT; Path=/; HttpOnly\n",
      "header: Set-Cookie: CM=%1%PremiumMobSess%2C%2C-1%7Ct4b-pc%2C%2C-1%7CRestAds%2FRPers%2C%2C-1%7CRCPers%2C%2C-1%7CWShadeSeen%2C%2C-1%7CTheForkMCCPers%2C%2C-1%7CHomeASess%2C%2C-1%7CPremiumMCSess%2C%2C-1%7CCrisisSess%2C%2C-1%7CUVOwnersSess%2C%2C-1%7CRestPremRSess%2C%2C-1%7CRepTarMCSess%2C%2C-1%7CCCSess%2C%2C-1%7CCYLSess%2C%2C-1%7CPremRetPers%2C%2C-1%7CViatorMCPers%2C%2C-1%7Csesssticker%2C%2C-1%7C%24%2C%2C-1%7CPremiumORSess%2C%2C-1%7Ct4b-sc%2C%2C-1%7CRestAdsPers%2C%2C-1%7CMC_IB_UPSELL_IB_LOGOS2%2C%2C-1%7CTSMCPers%2C%2C-1%7Cb2bmcpers%2C%2C-1%7CPremMCBtmSess%2C%2C-1%7CMC_IB_UPSELL_IB_LOGOS%2C%2C-1%7CLaFourchette+Banners%2C%2C-1%7Csess_rev%2C%2C-1%7Csessamex%2C%2C-1%7CPremiumRRSess%2C%2C-1%7CTADORSess%2C%2C-1%7CAdsRetPers%2C%2C-1%7CListMCSess%2C%2C-1%7CTARSWBPers%2C%2C-1%7CSPMCSess%2C%2C-1%7CTheForkORSess%2C%2C-1%7CTheForkRRSess%2C%2C-1%7Cpers_rev%2C%2C-1%7CRBAPers%2C%2C-1%7CRestAds%2FRSess%2C%2C-1%7CHomeAPers%2C%2C-1%7CPremiumMobPers%2C%2C-1%7CRCSess%2C%2C-1%7CLaFourchette+MC+Banners%2C%2C-1%7CRestAdsCCSess%2C%2C-1%7CRestPremRPers%2C%2C-1%7CRevHubRMPers%2C%2C-1%7CUVOwnersPers%2C%2C-1%7Cpssamex%2C%2C-1%7CTheForkMCCSess%2C%2C-1%7CCrisisPers%2C%2C-1%7CCYLPers%2C%2C-1%7CCCPers%2C%2C-1%7CRepTarMCPers%2C%2C-1%7Cb2bmcsess%2C%2C-1%7CTSMCSess%2C%2C-1%7CSPMCPers%2C%2C-1%7CRevHubRMSess%2C%2C-1%7CPremRetSess%2C%2C-1%7CViatorMCSess%2C%2C-1%7CPremiumMCPers%2C%2C-1%7CAdsRetSess%2C%2C-1%7CPremiumRRPers%2C%2C-1%7CRestAdsCCPers%2C%2C-1%7CTADORPers%2C%2C-1%7CTheForkORPers%2C%2C-1%7CPremMCBtmPers%2C%2C-1%7CTheForkRRPers%2C%2C-1%7CTARSWBSess%2C%2C-1%7CPremiumORPers%2C%2C-1%7CRestAdsSess%2C%2C-1%7CRBASess%2C%2C-1%7CSPORPers%2C%2C-1%7Cperssticker%2C%2C-1%7CListMCPers%2C%2C-1%7C; Domain=.tripadvisor.co.id; Expires=Sat, 21-May-2033 22:58:26 GMT; Path=/\n",
      "header: Set-Cookie: BEPIN=%1%1884ffc2972%3Bweb165a.a.tripadvisor.com%3A30023%3B; Domain=.tripadvisor.co.id; Path=/\n",
      "header: Set-Cookie: PAC=APCr17PuCNN9RsAo58P-9xzcxBEdgZwExTrQSrPbp81xXwaH9ep103UsYbmscC6i1mmsjmDZqHN47jEk5-cTyY25-iXjpEwblCaq7jT8gi8Ibgbqh3-z1JTy3Wo6Wk5_5SwQ--DeQqjhMOKSjKPGuEEE75jc92mWOFltNKg9rx2aRm0va1-a42aqFMI-nn0cH7yldlWmBRDMpZv_hv1m1bq_M01De1mLbOw5ERBSj9us; Domain=www.tripadvisor.co.id; Expires=Fri, 23-May-2025 22:58:26 GMT; Path=/; Secure; HttpOnly\n",
      "header: Set-Cookie: SRT=TART_SYNC; Domain=www.tripadvisor.co.id; Expires=Wed, 24-May-2023 23:28:26 GMT; Path=/\n",
      "header: Set-Cookie: TATravelInfo=V2*AY.2023*AM.6*AD.4*DY.2023*DM.6*DD.5*A.2*MG.-1*HP.2*FL.3*DSM.1684969105884*RS.1; Domain=.tripadvisor.co.id; Expires=Wed, 07-Jun-2023 22:58:26 GMT; Path=/\n",
      "header: Set-Cookie: TAUD=LG-1684969105762-2.1.F.*RDD-2-2023_05_25*HDD-3-2023_06_04.2023_06_05.1; Domain=.tripadvisor.co.id; Expires=Wed, 07-Jun-2023 22:58:26 GMT; Path=/\n",
      "header: Set-Cookie: TASID=B8EEC78888B84EA6AC5D5C06A5CA424E; Domain=www.tripadvisor.co.id; Expires=Wed, 24-May-2023 23:28:26 GMT; Path=/; Secure\n",
      "header: Set-Cookie: TAReturnTo=%1%%2FHotel_Review-g608486-d1863756-Reviews-or35-Villa_Layang_Bulan-Kerobokan_North_Kuta_Bali.html; Domain=.tripadvisor.co.id; Path=/\n",
      "header: Set-Cookie: datadome=4sbOxlEqPzjyQgm6vQWeEpcAMg2fsRdnAXfilpjRBhnYwACFwvPJzrRCUhz9LQG15SjIKtfviaYy-xXhTHabTd-0GeYAFZHkisZ1tzlTELTUpP_4qu7bzmargt6CrKsG; Max-Age=31104000; Domain=.tripadvisor.co.id; Path=/; Secure; SameSite=Lax\n",
      "Done Scrapping Villa Layang Bulan page 7\n",
      "\n",
      "\n"
     ]
    },
    {
     "name": "stderr",
     "output_type": "stream",
     "text": [
      "DEBUG:urllib3.connectionpool:Starting new HTTPS connection (1): www.tripadvisor.co.id:443\n"
     ]
    },
    {
     "name": "stdout",
     "output_type": "stream",
     "text": [
      "send: b'GET /Hotel_Review-g608486-d1863756-Reviews-or40-Villa_Layang_Bulan-Kerobokan_North_Kuta_Bali.html HTTP/1.1\\r\\nHost: www.tripadvisor.co.id\\r\\nUser-Agent: Mozilla/5.0 (X11; CrOS x86_64 12871.102.0) AppleWebKit/537.36 (KHTML, like Gecko) Chrome/81.0.4044.141 Safari/537.36\\r\\nAccept-Encoding: gzip, deflate\\r\\nAccept: */*\\r\\nConnection: keep-alive\\r\\n\\r\\n'\n"
     ]
    },
    {
     "name": "stderr",
     "output_type": "stream",
     "text": [
      "DEBUG:urllib3.connectionpool:https://www.tripadvisor.co.id:443 \"GET /Hotel_Review-g608486-d1863756-Reviews-or40-Villa_Layang_Bulan-Kerobokan_North_Kuta_Bali.html HTTP/1.1\" 200 None\n"
     ]
    },
    {
     "name": "stdout",
     "output_type": "stream",
     "text": [
      "reply: 'HTTP/1.1 200 OK\\r\\n'\n",
      "header: Server: envoy\n",
      "header: Link: <https://media-cdn.tripadvisor.com/media/>;rel=\"preconnect\";crossorigin\n",
      "header: Link: <https://media-cdn.tripadvisor.com/media/>;rel=\"dns-prefetch\"\n",
      "header: p3p: CP=\"NOI CURa ADMa DEVa TAIa OUR BUS IND UNI COM NAV INT DSP COR CAO PSA IDC ADM DEVi TAIi PSD IVAi IVDi CONi HIS CNT\"\n",
      "header: Pragma: no-cache\n",
      "header: Cache-Control: no-cache, no-store, must-revalidate\n",
      "header: Expires: 0\n",
      "header: Content-Language: id\n",
      "header: Link: <https://static.tacdn.com>;rel=\"dns-prefetch\"\n",
      "header: Link: <https://static.tacdn.com>;rel=\"preconnect\";crossorigin\n",
      "header: timing-allow-origin: https://www.tripadvisor.com\n",
      "header: Vary: Accept-Encoding\n",
      "header: Content-Type: text/html;charset=UTF-8\n",
      "header: Content-Encoding: gzip\n",
      "header: x-request-id: ddedaeb0-1dd4-4f07-b6f0-dbac74ea652f\n",
      "header: Date: Wed, 24 May 2023 22:58:30 GMT\n",
      "header: Transfer-Encoding: chunked\n",
      "header: Connection: keep-alive\n",
      "header: Connection: Transfer-Encoding\n",
      "header: Set-Cookie: TADCID=axpVqr73GOk981j7ABQCXdElnkGETRW-Svh01l3nWnW8T9JPBKsuENOoZ7WwIKnoqWkeHMYyZNnBrAUl1r0C4TMi6Jn7In4725s; Domain=www.tripadvisor.co.id; Expires=Sat, 21-May-2033 22:58:30 GMT; Path=/; Secure; HttpOnly\n",
      "header: Set-Cookie: TAUnique=%1%enc%3AjZbvR9B%2B2WGCNtgs%2BCN3NnGfQMMEYPnqvHbZed%2F4oaFvCkDVEztNlw%3D%3D; Domain=.tripadvisor.co.id; Expires=Fri, 23-May-2025 22:58:30 GMT; Path=/; HttpOnly\n",
      "header: Set-Cookie: TASSK=enc%3AABHgMLjz0sU%2FsA0DLik%2B%2FaIWazsqB4wjZgO35s7gLqywcoIsQBCH2n18k8XLB2WFcUQmM5c6eoaOFYNTcCvS9GNfMP6r57agxihboPF1rVWhJcp6u8Cj3nD%2BmqjJeTJ%2BXw%3D%3D; Domain=www.tripadvisor.co.id; Expires=Mon, 20-Nov-2023 22:58:30 GMT; Path=/; HttpOnly\n",
      "header: Set-Cookie: TASession=V2ID.0644327E8525417087BA1857D17A8B57*SQ.1*HS.recommended*ES.popularity*DS.5*SAS.popularity*FPS.oldFirst*LF.in*FA.1*DF.0*TRA.true*LD.1863756; Domain=.tripadvisor.co.id; Path=/\n",
      "header: Set-Cookie: ServerPool=B; Domain=.tripadvisor.co.id; Path=/\n",
      "header: Set-Cookie: PMC=V2*MS.49*MD.20230524*LD.20230524; Domain=www.tripadvisor.co.id; Expires=Fri, 23-May-2025 22:58:30 GMT; Path=/; Secure; HttpOnly\n",
      "header: Set-Cookie: TART=%1%enc%3AgjbYLPgjdzaxS15%2BRWc46smBHScwWFp%2F8BWAjbK%2FgxXXTu2RuA4fgzARvBTU6LIs5h4jWzt11Gw%3D; Domain=www.tripadvisor.co.id; Expires=Mon, 29-May-2023 22:58:30 GMT; Path=/; HttpOnly\n",
      "header: Set-Cookie: CM=%1%PremiumMobSess%2C%2C-1%7Ct4b-pc%2C%2C-1%7CRestAds%2FRPers%2C%2C-1%7CRCPers%2C%2C-1%7CWShadeSeen%2C%2C-1%7CTheForkMCCPers%2C%2C-1%7CHomeASess%2C%2C-1%7CPremiumMCSess%2C%2C-1%7CCrisisSess%2C%2C-1%7CUVOwnersSess%2C%2C-1%7CRestPremRSess%2C%2C-1%7CRepTarMCSess%2C%2C-1%7CCCSess%2C%2C-1%7CCYLSess%2C%2C-1%7CPremRetPers%2C%2C-1%7CViatorMCPers%2C%2C-1%7Csesssticker%2C%2C-1%7C%24%2C%2C-1%7CPremiumORSess%2C%2C-1%7Ct4b-sc%2C%2C-1%7CRestAdsPers%2C%2C-1%7CMC_IB_UPSELL_IB_LOGOS2%2C%2C-1%7CTSMCPers%2C%2C-1%7Cb2bmcpers%2C%2C-1%7CPremMCBtmSess%2C%2C-1%7CMC_IB_UPSELL_IB_LOGOS%2C%2C-1%7CLaFourchette+Banners%2C%2C-1%7Csess_rev%2C%2C-1%7Csessamex%2C%2C-1%7CPremiumRRSess%2C%2C-1%7CTADORSess%2C%2C-1%7CAdsRetPers%2C%2C-1%7CListMCSess%2C%2C-1%7CTARSWBPers%2C%2C-1%7CSPMCSess%2C%2C-1%7CTheForkORSess%2C%2C-1%7CTheForkRRSess%2C%2C-1%7Cpers_rev%2C%2C-1%7CRBAPers%2C%2C-1%7CRestAds%2FRSess%2C%2C-1%7CHomeAPers%2C%2C-1%7CPremiumMobPers%2C%2C-1%7CRCSess%2C%2C-1%7CLaFourchette+MC+Banners%2C%2C-1%7CRestAdsCCSess%2C%2C-1%7CRestPremRPers%2C%2C-1%7CRevHubRMPers%2C%2C-1%7CUVOwnersPers%2C%2C-1%7Cpssamex%2C%2C-1%7CTheForkMCCSess%2C%2C-1%7CCrisisPers%2C%2C-1%7CCYLPers%2C%2C-1%7CCCPers%2C%2C-1%7CRepTarMCPers%2C%2C-1%7Cb2bmcsess%2C%2C-1%7CTSMCSess%2C%2C-1%7CSPMCPers%2C%2C-1%7CRevHubRMSess%2C%2C-1%7CPremRetSess%2C%2C-1%7CViatorMCSess%2C%2C-1%7CPremiumMCPers%2C%2C-1%7CAdsRetSess%2C%2C-1%7CPremiumRRPers%2C%2C-1%7CRestAdsCCPers%2C%2C-1%7CTADORPers%2C%2C-1%7CTheForkORPers%2C%2C-1%7CPremMCBtmPers%2C%2C-1%7CTheForkRRPers%2C%2C-1%7CTARSWBSess%2C%2C-1%7CPremiumORPers%2C%2C-1%7CRestAdsSess%2C%2C-1%7CRBASess%2C%2C-1%7CSPORPers%2C%2C-1%7Cperssticker%2C%2C-1%7CListMCPers%2C%2C-1%7C; Domain=.tripadvisor.co.id; Expires=Sat, 21-May-2033 22:58:30 GMT; Path=/\n",
      "header: Set-Cookie: BEPIN=%1%1884ffc3af0%3Bweb305a.a.tripadvisor.com%3A30023%3B; Domain=.tripadvisor.co.id; Path=/\n",
      "header: Set-Cookie: PAC=AG2PxyZE9PtUcM7a4W9ppgd_kJ3RnhtKPqD3rWABhF8plF_sFYDtGs-ISpyNZaVw2FBOs-_cjCNLDcreyipxIQU_oYYsq93dmN86Sfe849QhVwtptfAFCrYTlDG_uoGffbU9aQ-uGYCJ0AwsC7TR4ZrV90z59laOaX-aRb4itMfFtArTnCW8iEHmyw9IzCfHN6r2-fsR9TAZBgj6r-OrYeRxngYxKNf3Q9CEVc2YWhOS; Domain=www.tripadvisor.co.id; Expires=Fri, 23-May-2025 22:58:30 GMT; Path=/; Secure; HttpOnly\n",
      "header: Set-Cookie: SRT=TART_SYNC; Domain=www.tripadvisor.co.id; Expires=Wed, 24-May-2023 23:28:30 GMT; Path=/\n",
      "header: Set-Cookie: TATravelInfo=V2*AY.2023*AM.6*AD.4*DY.2023*DM.6*DD.5*A.2*MG.-1*HP.2*FL.3*DSM.1684969110346*RS.1; Domain=.tripadvisor.co.id; Expires=Wed, 07-Jun-2023 22:58:30 GMT; Path=/\n",
      "header: Set-Cookie: TAUD=LG-1684969110239-2.1.F.*RDD-2-2023_05_25*HDD-3-2023_06_04.2023_06_05.1; Domain=.tripadvisor.co.id; Expires=Wed, 07-Jun-2023 22:58:30 GMT; Path=/\n",
      "header: Set-Cookie: TASID=0644327E8525417087BA1857D17A8B57; Domain=www.tripadvisor.co.id; Expires=Wed, 24-May-2023 23:28:30 GMT; Path=/; Secure\n",
      "header: Set-Cookie: TAReturnTo=%1%%2FHotel_Review-g608486-d1863756-Reviews-or40-Villa_Layang_Bulan-Kerobokan_North_Kuta_Bali.html; Domain=.tripadvisor.co.id; Path=/\n",
      "Done Scrapping Villa Layang Bulan page 8\n",
      "\n",
      "\n"
     ]
    },
    {
     "name": "stderr",
     "output_type": "stream",
     "text": [
      "DEBUG:urllib3.connectionpool:Starting new HTTPS connection (1): www.tripadvisor.co.id:443\n"
     ]
    },
    {
     "name": "stdout",
     "output_type": "stream",
     "text": [
      "send: b'GET /Hotel_Review-g608486-d1863756-Reviews-or45-Villa_Layang_Bulan-Kerobokan_North_Kuta_Bali.html HTTP/1.1\\r\\nHost: www.tripadvisor.co.id\\r\\nUser-Agent: Mozilla/5.0 (X11; CrOS x86_64 12871.102.0) AppleWebKit/537.36 (KHTML, like Gecko) Chrome/81.0.4044.141 Safari/537.36\\r\\nAccept-Encoding: gzip, deflate\\r\\nAccept: */*\\r\\nConnection: keep-alive\\r\\n\\r\\n'\n"
     ]
    },
    {
     "name": "stderr",
     "output_type": "stream",
     "text": [
      "DEBUG:urllib3.connectionpool:https://www.tripadvisor.co.id:443 \"GET /Hotel_Review-g608486-d1863756-Reviews-or45-Villa_Layang_Bulan-Kerobokan_North_Kuta_Bali.html HTTP/1.1\" 200 None\n"
     ]
    },
    {
     "name": "stdout",
     "output_type": "stream",
     "text": [
      "reply: 'HTTP/1.1 200 OK\\r\\n'\n",
      "header: Server: envoy\n",
      "header: Link: <https://media-cdn.tripadvisor.com/media/>;rel=\"preconnect\";crossorigin\n",
      "header: Link: <https://media-cdn.tripadvisor.com/media/>;rel=\"dns-prefetch\"\n",
      "header: p3p: CP=\"NOI CURa ADMa DEVa TAIa OUR BUS IND UNI COM NAV INT DSP COR CAO PSA IDC ADM DEVi TAIi PSD IVAi IVDi CONi HIS CNT\"\n",
      "header: Pragma: no-cache\n",
      "header: Cache-Control: no-cache, no-store, must-revalidate\n",
      "header: Expires: 0\n",
      "header: Content-Language: id\n",
      "header: Link: <https://static.tacdn.com>;rel=\"dns-prefetch\"\n",
      "header: Link: <https://static.tacdn.com>;rel=\"preconnect\";crossorigin\n",
      "header: timing-allow-origin: https://www.tripadvisor.com\n",
      "header: Vary: Accept-Encoding\n",
      "header: Content-Type: text/html;charset=UTF-8\n",
      "header: x-datadome: protected\n",
      "header: Accept-CH: Sec-CH-UA,Sec-CH-UA-Mobile,Sec-CH-UA-Platform,Sec-CH-UA-Arch,Sec-CH-UA-Full-Version-List,Sec-CH-UA-Model,Sec-CH-Device-Memory\n",
      "header: Content-Encoding: gzip\n",
      "header: x-request-id: 0b2185c9-84cd-411d-878c-66d4ad758dfe\n",
      "header: Date: Wed, 24 May 2023 22:58:35 GMT\n",
      "header: Transfer-Encoding: chunked\n",
      "header: Connection: keep-alive\n",
      "header: Connection: Transfer-Encoding\n",
      "header: Set-Cookie: TADCID=YdMmtaCvrUPq9dKcABQCXdElnkGETRW-Svh01l3nWnW8T1BJYAkEn07mLAbLWLjKPwdTeZ6FMK-ZybCXeOlIG7qWjdf2PG8GJKw; Domain=www.tripadvisor.co.id; Expires=Sat, 21-May-2033 22:58:34 GMT; Path=/; Secure; HttpOnly\n",
      "header: Set-Cookie: TAUnique=%1%enc%3A7EZKNwcZtQeCNtgs%2BCN3NnGfQMMEYPnqWKH%2FfnoZt3v0Vg74YoSHHw%3D%3D; Domain=.tripadvisor.co.id; Expires=Fri, 23-May-2025 22:58:34 GMT; Path=/; HttpOnly\n",
      "header: Set-Cookie: TASSK=enc%3AAAmv4jL6fRcrXvap6PD0KjX8ajFx9fLHX8hnHJIgHa1tM%2Bld2eEvSFWEG%2B1vc8sqcWiFPgd0cI7XU5wpO0NI%2BbNW%2F4K%2FKTq75Aa1pPCgfvwAkpgV2yRY2kUidZlkOXfNRg%3D%3D; Domain=www.tripadvisor.co.id; Expires=Mon, 20-Nov-2023 22:58:35 GMT; Path=/; HttpOnly\n",
      "header: Set-Cookie: TASession=V2ID.EF2DD6FE7609476B98AA31DD2AD77628*SQ.1*HS.recommended*ES.popularity*DS.5*SAS.popularity*FPS.oldFirst*LF.in*FA.1*DF.0*TRA.true*LD.1863756; Domain=.tripadvisor.co.id; Path=/\n",
      "header: Set-Cookie: ServerPool=B; Domain=.tripadvisor.co.id; Path=/\n",
      "header: Set-Cookie: PMC=V2*MS.87*MD.20230524*LD.20230524; Domain=www.tripadvisor.co.id; Expires=Fri, 23-May-2025 22:58:35 GMT; Path=/; Secure; HttpOnly\n",
      "header: Set-Cookie: TART=%1%enc%3AgjbYLPgjdzaxS15%2BRWc46n7XU2sylS9K4cgehV4Q9Bnq1f%2BIv%2FoHTJQPdh%2FIFFKHUDHbZiZ6kj8%3D; Domain=www.tripadvisor.co.id; Expires=Mon, 29-May-2023 22:58:35 GMT; Path=/; HttpOnly\n",
      "header: Set-Cookie: CM=%1%PremiumMobSess%2C%2C-1%7Ct4b-pc%2C%2C-1%7CRestAds%2FRPers%2C%2C-1%7CRCPers%2C%2C-1%7CWShadeSeen%2C%2C-1%7CTheForkMCCPers%2C%2C-1%7CHomeASess%2C%2C-1%7CPremiumMCSess%2C%2C-1%7CCrisisSess%2C%2C-1%7CUVOwnersSess%2C%2C-1%7CRestPremRSess%2C%2C-1%7CRepTarMCSess%2C%2C-1%7CCCSess%2C%2C-1%7CCYLSess%2C%2C-1%7CPremRetPers%2C%2C-1%7CViatorMCPers%2C%2C-1%7Csesssticker%2C%2C-1%7C%24%2C%2C-1%7CPremiumORSess%2C%2C-1%7Ct4b-sc%2C%2C-1%7CRestAdsPers%2C%2C-1%7CMC_IB_UPSELL_IB_LOGOS2%2C%2C-1%7CTSMCPers%2C%2C-1%7Cb2bmcpers%2C%2C-1%7CPremMCBtmSess%2C%2C-1%7CMC_IB_UPSELL_IB_LOGOS%2C%2C-1%7CLaFourchette+Banners%2C%2C-1%7Csess_rev%2C%2C-1%7Csessamex%2C%2C-1%7CPremiumRRSess%2C%2C-1%7CTADORSess%2C%2C-1%7CAdsRetPers%2C%2C-1%7CListMCSess%2C%2C-1%7CTARSWBPers%2C%2C-1%7CSPMCSess%2C%2C-1%7CTheForkORSess%2C%2C-1%7CTheForkRRSess%2C%2C-1%7Cpers_rev%2C%2C-1%7CRBAPers%2C%2C-1%7CRestAds%2FRSess%2C%2C-1%7CHomeAPers%2C%2C-1%7CPremiumMobPers%2C%2C-1%7CRCSess%2C%2C-1%7CLaFourchette+MC+Banners%2C%2C-1%7CRestAdsCCSess%2C%2C-1%7CRestPremRPers%2C%2C-1%7CRevHubRMPers%2C%2C-1%7CUVOwnersPers%2C%2C-1%7Cpssamex%2C%2C-1%7CTheForkMCCSess%2C%2C-1%7CCrisisPers%2C%2C-1%7CCYLPers%2C%2C-1%7CCCPers%2C%2C-1%7CRepTarMCPers%2C%2C-1%7Cb2bmcsess%2C%2C-1%7CTSMCSess%2C%2C-1%7CSPMCPers%2C%2C-1%7CRevHubRMSess%2C%2C-1%7CPremRetSess%2C%2C-1%7CViatorMCSess%2C%2C-1%7CPremiumMCPers%2C%2C-1%7CAdsRetSess%2C%2C-1%7CPremiumRRPers%2C%2C-1%7CRestAdsCCPers%2C%2C-1%7CTADORPers%2C%2C-1%7CTheForkORPers%2C%2C-1%7CPremMCBtmPers%2C%2C-1%7CTheForkRRPers%2C%2C-1%7CTARSWBSess%2C%2C-1%7CPremiumORPers%2C%2C-1%7CRestAdsSess%2C%2C-1%7CRBASess%2C%2C-1%7CSPORPers%2C%2C-1%7Cperssticker%2C%2C-1%7CListMCPers%2C%2C-1%7C; Domain=.tripadvisor.co.id; Expires=Sat, 21-May-2033 22:58:35 GMT; Path=/\n",
      "header: Set-Cookie: BEPIN=%1%1884ffc4bd5%3Bweb303a.a.tripadvisor.com%3A30023%3B; Domain=.tripadvisor.co.id; Path=/\n",
      "header: Set-Cookie: PAC=APvszqt-5zgJM7agmn9kie97iZ8OeyhW_6u00yTv0hBeqp6TLddv14MJ_pfHOK2Ah7YKLJPhHnHkIai0xeFNV6xszy8mdfbRc2SvbPk8-jt3G13Rzg0c2Yi_X1du4kDDC5hUtwGYQnSPN4ur_kVw9rxx5VQjwGWYaBZuvzLtY_VaNf7Srry3XMXa1b71OW9MHquVhPFsMAa6UjFCAsh0n2AillXQiZFgLRDYfAUEbAnm; Domain=www.tripadvisor.co.id; Expires=Fri, 23-May-2025 22:58:35 GMT; Path=/; Secure; HttpOnly\n",
      "header: Set-Cookie: SRT=TART_SYNC; Domain=www.tripadvisor.co.id; Expires=Wed, 24-May-2023 23:28:35 GMT; Path=/\n",
      "header: Set-Cookie: TATravelInfo=V2*AY.2023*AM.6*AD.4*DY.2023*DM.6*DD.5*A.2*MG.-1*HP.2*FL.3*DSM.1684969114694*RS.1; Domain=.tripadvisor.co.id; Expires=Wed, 07-Jun-2023 22:58:35 GMT; Path=/\n",
      "header: Set-Cookie: TAUD=LG-1684969114565-2.1.F.*RDD-2-2023_05_25*HDD-3-2023_06_04.2023_06_05.1; Domain=.tripadvisor.co.id; Expires=Wed, 07-Jun-2023 22:58:35 GMT; Path=/\n",
      "header: Set-Cookie: TASID=EF2DD6FE7609476B98AA31DD2AD77628; Domain=www.tripadvisor.co.id; Expires=Wed, 24-May-2023 23:28:35 GMT; Path=/; Secure\n",
      "header: Set-Cookie: TAReturnTo=%1%%2FHotel_Review-g608486-d1863756-Reviews-or45-Villa_Layang_Bulan-Kerobokan_North_Kuta_Bali.html; Domain=.tripadvisor.co.id; Path=/\n",
      "header: Set-Cookie: datadome=PX5IaAdZ82gV1K3bqmA_fi-hzVHSTUTqtGHdwcB6TA9n9933EBT6l_ccw-CCrzASacn3BM0fpzBqqvD19aUPTrPY6E2aB~KF0Xo018HsUnAe2J8fXo8fUcATGWM2SB_; Max-Age=31104000; Domain=.tripadvisor.co.id; Path=/; Secure; SameSite=Lax\n",
      "Done Scrapping Villa Layang Bulan page 9\n",
      "\n",
      "\n"
     ]
    },
    {
     "name": "stderr",
     "output_type": "stream",
     "text": [
      "DEBUG:urllib3.connectionpool:Starting new HTTPS connection (1): www.tripadvisor.co.id:443\n"
     ]
    },
    {
     "name": "stdout",
     "output_type": "stream",
     "text": [
      "send: b'GET /Hotel_Review-g608486-d1863756-Reviews-or50-Villa_Layang_Bulan-Kerobokan_North_Kuta_Bali.html HTTP/1.1\\r\\nHost: www.tripadvisor.co.id\\r\\nUser-Agent: Mozilla/5.0 (X11; CrOS x86_64 12871.102.0) AppleWebKit/537.36 (KHTML, like Gecko) Chrome/81.0.4044.141 Safari/537.36\\r\\nAccept-Encoding: gzip, deflate\\r\\nAccept: */*\\r\\nConnection: keep-alive\\r\\n\\r\\n'\n"
     ]
    },
    {
     "name": "stderr",
     "output_type": "stream",
     "text": [
      "DEBUG:urllib3.connectionpool:https://www.tripadvisor.co.id:443 \"GET /Hotel_Review-g608486-d1863756-Reviews-or50-Villa_Layang_Bulan-Kerobokan_North_Kuta_Bali.html HTTP/1.1\" 200 None\n"
     ]
    },
    {
     "name": "stdout",
     "output_type": "stream",
     "text": [
      "reply: 'HTTP/1.1 200 OK\\r\\n'\n",
      "header: Server: envoy\n",
      "header: Link: <https://media-cdn.tripadvisor.com/media/>;rel=\"preconnect\";crossorigin\n",
      "header: Link: <https://media-cdn.tripadvisor.com/media/>;rel=\"dns-prefetch\"\n",
      "header: p3p: CP=\"NOI CURa ADMa DEVa TAIa OUR BUS IND UNI COM NAV INT DSP COR CAO PSA IDC ADM DEVi TAIi PSD IVAi IVDi CONi HIS CNT\"\n",
      "header: Pragma: no-cache\n",
      "header: Cache-Control: no-cache, no-store, must-revalidate\n",
      "header: Expires: 0\n",
      "header: Content-Language: id\n",
      "header: Link: <https://static.tacdn.com>;rel=\"dns-prefetch\"\n",
      "header: Link: <https://static.tacdn.com>;rel=\"preconnect\";crossorigin\n",
      "header: timing-allow-origin: https://www.tripadvisor.com\n",
      "header: Vary: Accept-Encoding\n",
      "header: Content-Type: text/html;charset=UTF-8\n",
      "header: Accept-CH: Sec-CH-UA,Sec-CH-UA-Mobile,Sec-CH-UA-Platform,Sec-CH-UA-Arch,Sec-CH-UA-Full-Version-List,Sec-CH-UA-Model,Sec-CH-Device-Memory\n",
      "header: x-datadome: protected\n",
      "header: Content-Encoding: gzip\n",
      "header: x-request-id: 6640c3f8-435b-4268-b23f-a285547aa29d\n",
      "header: Date: Wed, 24 May 2023 22:58:39 GMT\n",
      "header: Transfer-Encoding: chunked\n",
      "header: Connection: keep-alive\n",
      "header: Connection: Transfer-Encoding\n",
      "header: Set-Cookie: TADCID=H-sEWbSmW3dSa4yFABQCXdElnkGETRW-Svh01l3nWnW8TxtXqjB3IZd9lZr-HNENHWv3tneaP8xaiqSDHD-cbiN17N8Qs1ZmAI4; Domain=www.tripadvisor.co.id; Expires=Sat, 21-May-2033 22:58:38 GMT; Path=/; Secure; HttpOnly\n",
      "header: Set-Cookie: TAUnique=%1%enc%3Ac3kmFs5XyNaCNtgs%2BCN3NnGfQMMEYPnqhXdN8r38alIkEuQ10dVmpg%3D%3D; Domain=.tripadvisor.co.id; Expires=Fri, 23-May-2025 22:58:38 GMT; Path=/; HttpOnly\n",
      "header: Set-Cookie: TASSK=enc%3AAG1MtjFzpmtWvU64c9UM8MKrUj2jG1g5otSzp1erNoT%2FGodW8AEG9RuxnjCJ6hGIglN7pesjavVMGktw16IbZfo8up%2BiAR%2B33xkFo8h3JJVXi2bJBx9QqEPAp80mwQq%2B2Q%3D%3D; Domain=www.tripadvisor.co.id; Expires=Mon, 20-Nov-2023 22:58:39 GMT; Path=/; HttpOnly\n",
      "header: Set-Cookie: TASession=V2ID.60FD7F702B1E4CF089C5741490FF4C3F*SQ.1*HS.recommended*ES.popularity*DS.5*SAS.popularity*FPS.oldFirst*LF.in*FA.1*DF.0*TRA.true*LD.1863756; Domain=.tripadvisor.co.id; Path=/\n",
      "header: Set-Cookie: ServerPool=X; Domain=.tripadvisor.co.id; Path=/\n",
      "header: Set-Cookie: PMC=V2*MS.36*MD.20230524*LD.20230524; Domain=www.tripadvisor.co.id; Expires=Fri, 23-May-2025 22:58:39 GMT; Path=/; Secure; HttpOnly\n",
      "header: Set-Cookie: TART=%1%enc%3AgjbYLPgjdzaxS15%2BRWc46u5p8jS8i%2BN0V5XKiaR7SaFGlm4EmggCk7i9OLbXtBjBgWASUPwLL2M%3D; Domain=www.tripadvisor.co.id; Expires=Mon, 29-May-2023 22:58:39 GMT; Path=/; HttpOnly\n",
      "header: Set-Cookie: CM=%1%PremiumMobSess%2C%2C-1%7Ct4b-pc%2C%2C-1%7CRestAds%2FRPers%2C%2C-1%7CRCPers%2C%2C-1%7CWShadeSeen%2C%2C-1%7CTheForkMCCPers%2C%2C-1%7CHomeASess%2C%2C-1%7CPremiumMCSess%2C%2C-1%7CCrisisSess%2C%2C-1%7CUVOwnersSess%2C%2C-1%7CRestPremRSess%2C%2C-1%7CRepTarMCSess%2C%2C-1%7CCCSess%2C%2C-1%7CCYLSess%2C%2C-1%7CPremRetPers%2C%2C-1%7CViatorMCPers%2C%2C-1%7Csesssticker%2C%2C-1%7C%24%2C%2C-1%7CPremiumORSess%2C%2C-1%7Ct4b-sc%2C%2C-1%7CRestAdsPers%2C%2C-1%7CMC_IB_UPSELL_IB_LOGOS2%2C%2C-1%7CTSMCPers%2C%2C-1%7Cb2bmcpers%2C%2C-1%7CPremMCBtmSess%2C%2C-1%7CMC_IB_UPSELL_IB_LOGOS%2C%2C-1%7CLaFourchette+Banners%2C%2C-1%7Csess_rev%2C%2C-1%7Csessamex%2C%2C-1%7CPremiumRRSess%2C%2C-1%7CTADORSess%2C%2C-1%7CAdsRetPers%2C%2C-1%7CListMCSess%2C%2C-1%7CTARSWBPers%2C%2C-1%7CSPMCSess%2C%2C-1%7CTheForkORSess%2C%2C-1%7CTheForkRRSess%2C%2C-1%7Cpers_rev%2C%2C-1%7CRBAPers%2C%2C-1%7CRestAds%2FRSess%2C%2C-1%7CHomeAPers%2C%2C-1%7CPremiumMobPers%2C%2C-1%7CRCSess%2C%2C-1%7CLaFourchette+MC+Banners%2C%2C-1%7CRestAdsCCSess%2C%2C-1%7CRestPremRPers%2C%2C-1%7CRevHubRMPers%2C%2C-1%7CUVOwnersPers%2C%2C-1%7Cpssamex%2C%2C-1%7CTheForkMCCSess%2C%2C-1%7CCrisisPers%2C%2C-1%7CCYLPers%2C%2C-1%7CCCPers%2C%2C-1%7CRepTarMCPers%2C%2C-1%7Cb2bmcsess%2C%2C-1%7CTSMCSess%2C%2C-1%7CSPMCPers%2C%2C-1%7CRevHubRMSess%2C%2C-1%7CPremRetSess%2C%2C-1%7CViatorMCSess%2C%2C-1%7CPremiumMCPers%2C%2C-1%7CAdsRetSess%2C%2C-1%7CPremiumRRPers%2C%2C-1%7CRestAdsCCPers%2C%2C-1%7CTADORPers%2C%2C-1%7CTheForkORPers%2C%2C-1%7CPremMCBtmPers%2C%2C-1%7CTheForkRRPers%2C%2C-1%7CTARSWBSess%2C%2C-1%7CPremiumORPers%2C%2C-1%7CRestAdsSess%2C%2C-1%7CRBASess%2C%2C-1%7CSPORPers%2C%2C-1%7Cperssticker%2C%2C-1%7CListMCPers%2C%2C-1%7C; Domain=.tripadvisor.co.id; Expires=Sat, 21-May-2033 22:58:39 GMT; Path=/\n",
      "header: Set-Cookie: BEPIN=%1%1884ffc5ca0%3Bweb191a.a.tripadvisor.com%3A30023%3B; Domain=.tripadvisor.co.id; Path=/\n",
      "header: Set-Cookie: PAC=AMV9Vp9PUm25mEghgZtQmMN9o41pukkqo66l8BUzF7BrWQItH9yxmoBNj255kdjyld7S--w-pD22gs_NUsDAPklR_4he5aRhdf1Y-xRXPtFTtYNnws83kk0ocXRaJwzoKJVfMIVsd4H4U4SjGjWzrnY22D-pCG9mqlDQG45yF9yQ6WZN6ut1LEda2wTrqYqJBJESgVrYqgrbg0eUGcCE3tMbu98un1yVBqFAHhpdwfu4; Domain=www.tripadvisor.co.id; Expires=Fri, 23-May-2025 22:58:39 GMT; Path=/; Secure; HttpOnly\n",
      "header: Set-Cookie: SRT=TART_SYNC; Domain=www.tripadvisor.co.id; Expires=Wed, 24-May-2023 23:28:39 GMT; Path=/\n",
      "header: Set-Cookie: TATravelInfo=V2*AY.2023*AM.6*AD.4*DY.2023*DM.6*DD.5*A.2*MG.-1*HP.2*FL.3*DSM.1684969118968*RS.1; Domain=.tripadvisor.co.id; Expires=Wed, 07-Jun-2023 22:58:39 GMT; Path=/\n",
      "header: Set-Cookie: TAUD=LG-1684969118865-2.1.F.*RDD-2-2023_05_25*HDD-3-2023_06_04.2023_06_05.1; Domain=.tripadvisor.co.id; Expires=Wed, 07-Jun-2023 22:58:39 GMT; Path=/\n",
      "header: Set-Cookie: TASID=60FD7F702B1E4CF089C5741490FF4C3F; Domain=www.tripadvisor.co.id; Expires=Wed, 24-May-2023 23:28:39 GMT; Path=/; Secure\n",
      "header: Set-Cookie: TAReturnTo=%1%%2FHotel_Review-g608486-d1863756-Reviews-or50-Villa_Layang_Bulan-Kerobokan_North_Kuta_Bali.html; Domain=.tripadvisor.co.id; Path=/\n",
      "header: Set-Cookie: datadome=2KPuehlkFttFvlPPc2ee9o9ZuPP5I6ZnI2AeN78DAnNkYXqmJ43j_0e82RixZiHOksXZM4vmAtD-XsBILlx7L5Zooq_ql2v~kULVUZ6MJZ5NtUjzOfp49LM0KJiKndRb; Max-Age=31104000; Domain=.tripadvisor.co.id; Path=/; Secure; SameSite=Lax\n",
      "Done Scrapping Villa Layang Bulan page 10\n",
      "\n",
      "\n"
     ]
    },
    {
     "name": "stderr",
     "output_type": "stream",
     "text": [
      "DEBUG:urllib3.connectionpool:Starting new HTTPS connection (1): www.tripadvisor.co.id:443\n"
     ]
    },
    {
     "name": "stdout",
     "output_type": "stream",
     "text": [
      "send: b'GET /Hotel_Review-g608486-d1863756-Reviews-or55-Villa_Layang_Bulan-Kerobokan_North_Kuta_Bali.html HTTP/1.1\\r\\nHost: www.tripadvisor.co.id\\r\\nUser-Agent: Mozilla/5.0 (X11; CrOS x86_64 12871.102.0) AppleWebKit/537.36 (KHTML, like Gecko) Chrome/81.0.4044.141 Safari/537.36\\r\\nAccept-Encoding: gzip, deflate\\r\\nAccept: */*\\r\\nConnection: keep-alive\\r\\n\\r\\n'\n"
     ]
    },
    {
     "name": "stderr",
     "output_type": "stream",
     "text": [
      "DEBUG:urllib3.connectionpool:https://www.tripadvisor.co.id:443 \"GET /Hotel_Review-g608486-d1863756-Reviews-or55-Villa_Layang_Bulan-Kerobokan_North_Kuta_Bali.html HTTP/1.1\" 200 None\n"
     ]
    },
    {
     "name": "stdout",
     "output_type": "stream",
     "text": [
      "reply: 'HTTP/1.1 200 OK\\r\\n'\n",
      "header: Server: envoy\n",
      "header: Link: <https://media-cdn.tripadvisor.com/media/>;rel=\"preconnect\";crossorigin\n",
      "header: Link: <https://media-cdn.tripadvisor.com/media/>;rel=\"dns-prefetch\"\n",
      "header: p3p: CP=\"NOI CURa ADMa DEVa TAIa OUR BUS IND UNI COM NAV INT DSP COR CAO PSA IDC ADM DEVi TAIi PSD IVAi IVDi CONi HIS CNT\"\n",
      "header: Pragma: no-cache\n",
      "header: Cache-Control: no-cache, no-store, must-revalidate\n",
      "header: Expires: 0\n",
      "header: Content-Language: id\n",
      "header: Link: <https://static.tacdn.com>;rel=\"dns-prefetch\"\n",
      "header: Link: <https://static.tacdn.com>;rel=\"preconnect\";crossorigin\n",
      "header: timing-allow-origin: https://www.tripadvisor.com\n",
      "header: Vary: Accept-Encoding\n",
      "header: Content-Type: text/html;charset=UTF-8\n",
      "header: Accept-CH: Sec-CH-UA,Sec-CH-UA-Mobile,Sec-CH-UA-Platform,Sec-CH-UA-Arch,Sec-CH-UA-Full-Version-List,Sec-CH-UA-Model,Sec-CH-Device-Memory\n",
      "header: x-datadome: protected\n",
      "header: Content-Encoding: gzip\n",
      "header: x-request-id: da32ac5e-a238-4c61-b1be-78bd9e8407e4\n",
      "header: Date: Wed, 24 May 2023 22:58:43 GMT\n",
      "header: Transfer-Encoding: chunked\n",
      "header: Connection: keep-alive\n",
      "header: Connection: Transfer-Encoding\n",
      "header: Set-Cookie: TADCID=msA9GPC-gcLE7Q_mABQCXdElnkGETRW-Svh01l3nWnW8T1el4fSbSruhQZSb88wJIgfDjPR0SjSX6-GpZo6f7l_jgZRqCx3OK9U; Domain=www.tripadvisor.co.id; Expires=Sat, 21-May-2033 22:58:43 GMT; Path=/; Secure; HttpOnly\n",
      "header: Set-Cookie: TAUnique=%1%enc%3Au%2FKH8yQEGOSCNtgs%2BCN3NnGfQMMEYPnqwRQ77MOezSekV00JBtvyAQ%3D%3D; Domain=.tripadvisor.co.id; Expires=Fri, 23-May-2025 22:58:43 GMT; Path=/; HttpOnly\n",
      "header: Set-Cookie: TASSK=enc%3AAIU37Z9EJiI%2BLGd8YvxXrMQYc%2B8oKpKbGnhjZMwjVne1%2BKNvxLYQYK5J%2BGxqjYubBY1nHQGtN7dbJR5amGD6%2F5w%2FZrxaxDMIpuO8e8I79GwqbL%2FANkD3PHPPQkrHzwceHQ%3D%3D; Domain=www.tripadvisor.co.id; Expires=Mon, 20-Nov-2023 22:58:43 GMT; Path=/; HttpOnly\n",
      "header: Set-Cookie: TASession=V2ID.C2C47CC9F7CE44F9B0F236A3B5E6E160*SQ.1*HS.recommended*ES.popularity*DS.5*SAS.popularity*FPS.oldFirst*LF.in*FA.1*DF.0*TRA.true*LD.1863756; Domain=.tripadvisor.co.id; Path=/\n",
      "header: Set-Cookie: ServerPool=B; Domain=.tripadvisor.co.id; Path=/\n",
      "header: Set-Cookie: PMC=V2*MS.98*MD.20230524*LD.20230524; Domain=www.tripadvisor.co.id; Expires=Fri, 23-May-2025 22:58:43 GMT; Path=/; Secure; HttpOnly\n",
      "header: Set-Cookie: TART=%1%enc%3AgjbYLPgjdzaxS15%2BRWc46jqUpl6Yg%2FSXbHfyarGMXT7psdwMOljbhjcVAp0%2Ftm8gTd50sryM3Mg%3D; Domain=www.tripadvisor.co.id; Expires=Mon, 29-May-2023 22:58:43 GMT; Path=/; HttpOnly\n",
      "header: Set-Cookie: CM=%1%PremiumMobSess%2C%2C-1%7Ct4b-pc%2C%2C-1%7CRestAds%2FRPers%2C%2C-1%7CRCPers%2C%2C-1%7CWShadeSeen%2C%2C-1%7CTheForkMCCPers%2C%2C-1%7CHomeASess%2C%2C-1%7CPremiumMCSess%2C%2C-1%7CCrisisSess%2C%2C-1%7CUVOwnersSess%2C%2C-1%7CRestPremRSess%2C%2C-1%7CRepTarMCSess%2C%2C-1%7CCCSess%2C%2C-1%7CCYLSess%2C%2C-1%7CPremRetPers%2C%2C-1%7CViatorMCPers%2C%2C-1%7Csesssticker%2C%2C-1%7C%24%2C%2C-1%7CPremiumORSess%2C%2C-1%7Ct4b-sc%2C%2C-1%7CRestAdsPers%2C%2C-1%7CMC_IB_UPSELL_IB_LOGOS2%2C%2C-1%7CTSMCPers%2C%2C-1%7Cb2bmcpers%2C%2C-1%7CPremMCBtmSess%2C%2C-1%7CMC_IB_UPSELL_IB_LOGOS%2C%2C-1%7CLaFourchette+Banners%2C%2C-1%7Csess_rev%2C%2C-1%7Csessamex%2C%2C-1%7CPremiumRRSess%2C%2C-1%7CTADORSess%2C%2C-1%7CAdsRetPers%2C%2C-1%7CListMCSess%2C%2C-1%7CTARSWBPers%2C%2C-1%7CSPMCSess%2C%2C-1%7CTheForkORSess%2C%2C-1%7CTheForkRRSess%2C%2C-1%7Cpers_rev%2C%2C-1%7CRBAPers%2C%2C-1%7CRestAds%2FRSess%2C%2C-1%7CHomeAPers%2C%2C-1%7CPremiumMobPers%2C%2C-1%7CRCSess%2C%2C-1%7CLaFourchette+MC+Banners%2C%2C-1%7CRestAdsCCSess%2C%2C-1%7CRestPremRPers%2C%2C-1%7CRevHubRMPers%2C%2C-1%7CUVOwnersPers%2C%2C-1%7Cpssamex%2C%2C-1%7CTheForkMCCSess%2C%2C-1%7CCrisisPers%2C%2C-1%7CCYLPers%2C%2C-1%7CCCPers%2C%2C-1%7CRepTarMCPers%2C%2C-1%7Cb2bmcsess%2C%2C-1%7CTSMCSess%2C%2C-1%7CSPMCPers%2C%2C-1%7CRevHubRMSess%2C%2C-1%7CPremRetSess%2C%2C-1%7CViatorMCSess%2C%2C-1%7CPremiumMCPers%2C%2C-1%7CAdsRetSess%2C%2C-1%7CPremiumRRPers%2C%2C-1%7CRestAdsCCPers%2C%2C-1%7CTADORPers%2C%2C-1%7CTheForkORPers%2C%2C-1%7CPremMCBtmPers%2C%2C-1%7CTheForkRRPers%2C%2C-1%7CTARSWBSess%2C%2C-1%7CPremiumORPers%2C%2C-1%7CRestAdsSess%2C%2C-1%7CRBASess%2C%2C-1%7CSPORPers%2C%2C-1%7Cperssticker%2C%2C-1%7CListMCPers%2C%2C-1%7C; Domain=.tripadvisor.co.id; Expires=Sat, 21-May-2033 22:58:43 GMT; Path=/\n",
      "header: Set-Cookie: BEPIN=%1%1884ffc6ddb%3Bweb218a.a.tripadvisor.com%3A30023%3B; Domain=.tripadvisor.co.id; Path=/\n",
      "header: Set-Cookie: PAC=AL7t8sPo9Ot6DSvUH91uyeqFjJFK1VpYtCKMYp7vmm6c0fbjnytU_9nfvlAKhfXm_PVGgRi_4SIp6xokHkD20cb5y-ZwqXwwavCKN-Y3tfPJGhpykZvVjk-IE3FQNUG7m4qYtpSCq7xtwQ-UPrg9Q8DcYNyufjDajq2seQYt2ZHAPxVQ3fcWxK2fXLb-6OFCxzFWz9MIGXXTMiLMv7vaTIdIH-R95DqLa37R6yzRcz4N; Domain=www.tripadvisor.co.id; Expires=Fri, 23-May-2025 22:58:43 GMT; Path=/; Secure; HttpOnly\n",
      "header: Set-Cookie: SRT=TART_SYNC; Domain=www.tripadvisor.co.id; Expires=Wed, 24-May-2023 23:28:43 GMT; Path=/\n",
      "header: Set-Cookie: TATravelInfo=V2*AY.2023*AM.6*AD.4*DY.2023*DM.6*DD.5*A.2*MG.-1*HP.2*FL.3*DSM.1684969123371*RS.1; Domain=.tripadvisor.co.id; Expires=Wed, 07-Jun-2023 22:58:43 GMT; Path=/\n",
      "header: Set-Cookie: TAUD=LG-1684969123272-2.1.F.*RDD-2-2023_05_25*HDD-3-2023_06_04.2023_06_05.1; Domain=.tripadvisor.co.id; Expires=Wed, 07-Jun-2023 22:58:43 GMT; Path=/\n",
      "header: Set-Cookie: TASID=C2C47CC9F7CE44F9B0F236A3B5E6E160; Domain=www.tripadvisor.co.id; Expires=Wed, 24-May-2023 23:28:43 GMT; Path=/; Secure\n",
      "header: Set-Cookie: TAReturnTo=%1%%2FHotel_Review-g608486-d1863756-Reviews-or55-Villa_Layang_Bulan-Kerobokan_North_Kuta_Bali.html; Domain=.tripadvisor.co.id; Path=/\n",
      "header: Set-Cookie: datadome=5nwY8f9QVEgGy41iJm0OW~yi~BdklzAbkUA8scykyL6cYWZ0gJQ8DR5ql1C2SMIE3Mw0gOg49M2i5LzqJfy1qsoI1AR0RBbCBTFYTxWm1UjydaWbayF~maIAvxv46dPL; Max-Age=31104000; Domain=.tripadvisor.co.id; Path=/; Secure; SameSite=Lax\n"
     ]
    },
    {
     "name": "stderr",
     "output_type": "stream",
     "text": [
      "DEBUG:urllib3.connectionpool:Starting new HTTPS connection (1): www.tripadvisor.co.id:443\n"
     ]
    },
    {
     "name": "stdout",
     "output_type": "stream",
     "text": [
      "Start Scrapping: Munari Resort Ubud\n",
      "send: b'GET /Hotel_Review-g1933359-d2587987-Reviews-or5-Munari_Resort_Ubud-Kedewatan_Ubud_Gianyar_Regency_Bali.html HTTP/1.1\\r\\nHost: www.tripadvisor.co.id\\r\\nUser-Agent: Mozilla/5.0 (X11; CrOS x86_64 12871.102.0) AppleWebKit/537.36 (KHTML, like Gecko) Chrome/81.0.4044.141 Safari/537.36\\r\\nAccept-Encoding: gzip, deflate\\r\\nAccept: */*\\r\\nConnection: keep-alive\\r\\n\\r\\n'\n"
     ]
    },
    {
     "name": "stderr",
     "output_type": "stream",
     "text": [
      "DEBUG:urllib3.connectionpool:https://www.tripadvisor.co.id:443 \"GET /Hotel_Review-g1933359-d2587987-Reviews-or5-Munari_Resort_Ubud-Kedewatan_Ubud_Gianyar_Regency_Bali.html HTTP/1.1\" 200 None\n"
     ]
    },
    {
     "name": "stdout",
     "output_type": "stream",
     "text": [
      "reply: 'HTTP/1.1 200 OK\\r\\n'\n",
      "header: Server: envoy\n",
      "header: Link: <https://media-cdn.tripadvisor.com/media/>;rel=\"preconnect\";crossorigin\n",
      "header: Link: <https://media-cdn.tripadvisor.com/media/>;rel=\"dns-prefetch\"\n",
      "header: p3p: CP=\"NOI CURa ADMa DEVa TAIa OUR BUS IND UNI COM NAV INT DSP COR CAO PSA IDC ADM DEVi TAIi PSD IVAi IVDi CONi HIS CNT\"\n",
      "header: Pragma: no-cache\n",
      "header: Cache-Control: no-cache, no-store, must-revalidate\n",
      "header: Expires: 0\n",
      "header: Content-Language: id\n",
      "header: Link: <https://static.tacdn.com>;rel=\"dns-prefetch\"\n",
      "header: Link: <https://static.tacdn.com>;rel=\"preconnect\";crossorigin\n",
      "header: timing-allow-origin: https://www.tripadvisor.com\n",
      "header: Vary: Accept-Encoding\n",
      "header: Content-Type: text/html;charset=UTF-8\n",
      "header: Accept-CH: Sec-CH-UA,Sec-CH-UA-Mobile,Sec-CH-UA-Platform,Sec-CH-UA-Arch,Sec-CH-UA-Full-Version-List,Sec-CH-UA-Model,Sec-CH-Device-Memory\n",
      "header: x-datadome: protected\n",
      "header: Content-Encoding: gzip\n",
      "header: x-request-id: 87a3caae-be5e-4986-808e-30a3b0edd9e5\n",
      "header: Date: Wed, 24 May 2023 22:58:45 GMT\n",
      "header: Transfer-Encoding: chunked\n",
      "header: Connection: keep-alive\n",
      "header: Connection: Transfer-Encoding\n",
      "header: Set-Cookie: TADCID=Beu4V1AWexZdNooHABQCXdElnkGETRW-Svh01l3nWnW8T6ib5Qj486K4mGw_UduGOdR0PCHLNQ1X17TVlZsaJHpFSPXyFaWX9E4; Domain=www.tripadvisor.co.id; Expires=Sat, 21-May-2033 22:58:44 GMT; Path=/; Secure; HttpOnly\n",
      "header: Set-Cookie: TAUnique=%1%enc%3Ak%2FYNam9JuW2CNtgs%2BCN3NnGfQMMEYPnq0K87D8pY8i6MyiyXHgCAcA%3D%3D; Domain=.tripadvisor.co.id; Expires=Fri, 23-May-2025 22:58:44 GMT; Path=/; HttpOnly\n",
      "header: Set-Cookie: TASSK=enc%3AACrUvTv9icHT2y%2FZOrc2QVLR35jCiQQ%2FZLLy95zpRJ7JfJni6u294FMMdmyRWwFSH8ALk7YujgiChNM1JGfhZYxc4ia6NV9g02oJf%2BpYsAS%2FSj0yqQUQXLHtY%2B2RD4NZig%3D%3D; Domain=www.tripadvisor.co.id; Expires=Mon, 20-Nov-2023 22:58:45 GMT; Path=/; HttpOnly\n",
      "header: Set-Cookie: TASession=V2ID.8270A988F0AA4E528CBE7AF369BAC5E8*SQ.1*HS.recommended*ES.popularity*DS.5*SAS.popularity*FPS.oldFirst*LF.in*FA.1*DF.0*TRA.true*LD.2587987; Domain=.tripadvisor.co.id; Path=/\n",
      "header: Set-Cookie: ServerPool=T; Domain=.tripadvisor.co.id; Path=/\n",
      "header: Set-Cookie: PMC=V2*MS.77*MD.20230524*LD.20230524; Domain=www.tripadvisor.co.id; Expires=Fri, 23-May-2025 22:58:45 GMT; Path=/; Secure; HttpOnly\n",
      "header: Set-Cookie: TART=%1%enc%3AgjbYLPgjdzaxS15%2BRWc46tde34uDNK5JpAq24IUSQlW2742NcYzqmV%2F6QcdFJ3GY9ic7wmid%2BFg%3D; Domain=www.tripadvisor.co.id; Expires=Mon, 29-May-2023 22:58:45 GMT; Path=/; HttpOnly\n",
      "header: Set-Cookie: CM=%1%PremiumMobSess%2C%2C-1%7Ct4b-pc%2C%2C-1%7CRestAds%2FRPers%2C%2C-1%7CRCPers%2C%2C-1%7CWShadeSeen%2C%2C-1%7CTheForkMCCPers%2C%2C-1%7CHomeASess%2C%2C-1%7CPremiumMCSess%2C%2C-1%7CCrisisSess%2C%2C-1%7CUVOwnersSess%2C%2C-1%7CRestPremRSess%2C%2C-1%7CRepTarMCSess%2C%2C-1%7CCCSess%2C%2C-1%7CCYLSess%2C%2C-1%7CPremRetPers%2C%2C-1%7CViatorMCPers%2C%2C-1%7Csesssticker%2C%2C-1%7C%24%2C%2C-1%7CPremiumORSess%2C%2C-1%7Ct4b-sc%2C%2C-1%7CRestAdsPers%2C%2C-1%7CMC_IB_UPSELL_IB_LOGOS2%2C%2C-1%7CTSMCPers%2C%2C-1%7Cb2bmcpers%2C%2C-1%7CPremMCBtmSess%2C%2C-1%7CMC_IB_UPSELL_IB_LOGOS%2C%2C-1%7CLaFourchette+Banners%2C%2C-1%7Csess_rev%2C%2C-1%7Csessamex%2C%2C-1%7CPremiumRRSess%2C%2C-1%7CTADORSess%2C%2C-1%7CAdsRetPers%2C%2C-1%7CListMCSess%2C%2C-1%7CTARSWBPers%2C%2C-1%7CSPMCSess%2C%2C-1%7CTheForkORSess%2C%2C-1%7CTheForkRRSess%2C%2C-1%7Cpers_rev%2C%2C-1%7CRBAPers%2C%2C-1%7CRestAds%2FRSess%2C%2C-1%7CHomeAPers%2C%2C-1%7CPremiumMobPers%2C%2C-1%7CRCSess%2C%2C-1%7CLaFourchette+MC+Banners%2C%2C-1%7CRestAdsCCSess%2C%2C-1%7CRestPremRPers%2C%2C-1%7CRevHubRMPers%2C%2C-1%7CUVOwnersPers%2C%2C-1%7Cpssamex%2C%2C-1%7CTheForkMCCSess%2C%2C-1%7CCrisisPers%2C%2C-1%7CCYLPers%2C%2C-1%7CCCPers%2C%2C-1%7CRepTarMCPers%2C%2C-1%7Cb2bmcsess%2C%2C-1%7CTSMCSess%2C%2C-1%7CSPMCPers%2C%2C-1%7CRevHubRMSess%2C%2C-1%7CPremRetSess%2C%2C-1%7CViatorMCSess%2C%2C-1%7CPremiumMCPers%2C%2C-1%7CAdsRetSess%2C%2C-1%7CPremiumRRPers%2C%2C-1%7CRestAdsCCPers%2C%2C-1%7CTADORPers%2C%2C-1%7CTheForkORPers%2C%2C-1%7CPremMCBtmPers%2C%2C-1%7CTheForkRRPers%2C%2C-1%7CTARSWBSess%2C%2C-1%7CPremiumORPers%2C%2C-1%7CRestAdsSess%2C%2C-1%7CRBASess%2C%2C-1%7CSPORPers%2C%2C-1%7Cperssticker%2C%2C-1%7CListMCPers%2C%2C-1%7C; Domain=.tripadvisor.co.id; Expires=Sat, 21-May-2033 22:58:45 GMT; Path=/\n",
      "header: Set-Cookie: BEPIN=%1%1884ffc7368%3Bweb215a.a.tripadvisor.com%3A30023%3B; Domain=.tripadvisor.co.id; Path=/\n",
      "header: Set-Cookie: PAC=AOdU7FrFCgCIrU0rFL2FklRYYWN0dUOHB759Vt684lvlB-jqXECGzDHzOHUoZAFWoGn2X77Y6JfoTxipRNxgRclMGQPNxmfLFSA59TRsjZdiWrh_tnPV-b0XbZRBmINRcINZaIhcpLCWpmbxu6WTUaS8z_9orH2bCDi0uERYQ4TYVrjWqaymINSgCAKeLYic9zR6qQuy0zAxElXGvtfnVSnVzaeiEPM8WfbjuYYiLVij; Domain=www.tripadvisor.co.id; Expires=Fri, 23-May-2025 22:58:45 GMT; Path=/; Secure; HttpOnly\n",
      "header: Set-Cookie: SRT=TART_SYNC; Domain=www.tripadvisor.co.id; Expires=Wed, 24-May-2023 23:28:45 GMT; Path=/\n",
      "header: Set-Cookie: TATravelInfo=V2*AY.2023*AM.6*AD.4*DY.2023*DM.6*DD.5*A.2*MG.-1*HP.2*FL.3*DSM.1684969124790*RS.1; Domain=.tripadvisor.co.id; Expires=Wed, 07-Jun-2023 22:58:45 GMT; Path=/\n",
      "header: Set-Cookie: TAUD=LG-1684969124695-2.1.F.*RDD-2-2023_05_25*HDD-3-2023_06_04.2023_06_05.1; Domain=.tripadvisor.co.id; Expires=Wed, 07-Jun-2023 22:58:45 GMT; Path=/\n",
      "header: Set-Cookie: TASID=8270A988F0AA4E528CBE7AF369BAC5E8; Domain=www.tripadvisor.co.id; Expires=Wed, 24-May-2023 23:28:45 GMT; Path=/; Secure\n",
      "header: Set-Cookie: TAReturnTo=%1%%2FHotel_Review-g1933359-d2587987-Reviews-or5-Munari_Resort_Ubud-Kedewatan_Ubud_Gianyar_Regency_Bali.html; Domain=.tripadvisor.co.id; Path=/\n",
      "header: Set-Cookie: datadome=7aYaLjXZoQ4Ndb3ZMltWsRXdYipfyqmtvKqpKadGGdqe6ccGqA9fpW2a1rVZGnPf1MLPaFswaDQpFwFsenrLQYIekak57jOwk5fcsTDXsCm-gb1QupLcg-c-1go1G7ep; Max-Age=31104000; Domain=.tripadvisor.co.id; Path=/; Secure; SameSite=Lax\n",
      "Done Scrapping Munari Resort Ubud page 1\n",
      "\n",
      "\n"
     ]
    },
    {
     "name": "stderr",
     "output_type": "stream",
     "text": [
      "DEBUG:urllib3.connectionpool:Starting new HTTPS connection (1): www.tripadvisor.co.id:443\n"
     ]
    },
    {
     "name": "stdout",
     "output_type": "stream",
     "text": [
      "send: b'GET /Hotel_Review-g1933359-d2587987-Reviews-or10-Munari_Resort_Ubud-Kedewatan_Ubud_Gianyar_Regency_Bali.html HTTP/1.1\\r\\nHost: www.tripadvisor.co.id\\r\\nUser-Agent: Mozilla/5.0 (X11; CrOS x86_64 12871.102.0) AppleWebKit/537.36 (KHTML, like Gecko) Chrome/81.0.4044.141 Safari/537.36\\r\\nAccept-Encoding: gzip, deflate\\r\\nAccept: */*\\r\\nConnection: keep-alive\\r\\n\\r\\n'\n"
     ]
    },
    {
     "name": "stderr",
     "output_type": "stream",
     "text": [
      "DEBUG:urllib3.connectionpool:https://www.tripadvisor.co.id:443 \"GET /Hotel_Review-g1933359-d2587987-Reviews-or10-Munari_Resort_Ubud-Kedewatan_Ubud_Gianyar_Regency_Bali.html HTTP/1.1\" 200 None\n"
     ]
    },
    {
     "name": "stdout",
     "output_type": "stream",
     "text": [
      "reply: 'HTTP/1.1 200 OK\\r\\n'\n",
      "header: Server: envoy\n",
      "header: Link: <https://media-cdn.tripadvisor.com/media/>;rel=\"preconnect\";crossorigin\n",
      "header: Link: <https://media-cdn.tripadvisor.com/media/>;rel=\"dns-prefetch\"\n",
      "header: p3p: CP=\"NOI CURa ADMa DEVa TAIa OUR BUS IND UNI COM NAV INT DSP COR CAO PSA IDC ADM DEVi TAIi PSD IVAi IVDi CONi HIS CNT\"\n",
      "header: Pragma: no-cache\n",
      "header: Cache-Control: no-cache, no-store, must-revalidate\n",
      "header: Expires: 0\n",
      "header: Content-Language: id\n",
      "header: Link: <https://static.tacdn.com>;rel=\"dns-prefetch\"\n",
      "header: Link: <https://static.tacdn.com>;rel=\"preconnect\";crossorigin\n",
      "header: timing-allow-origin: https://www.tripadvisor.com\n",
      "header: Vary: Accept-Encoding\n",
      "header: Content-Type: text/html;charset=UTF-8\n",
      "header: Accept-CH: Sec-CH-UA,Sec-CH-UA-Mobile,Sec-CH-UA-Platform,Sec-CH-UA-Arch,Sec-CH-UA-Full-Version-List,Sec-CH-UA-Model,Sec-CH-Device-Memory\n",
      "header: x-datadome: protected\n",
      "header: Content-Encoding: gzip\n",
      "header: x-request-id: c21085b9-ae6a-46d5-9dcc-000071f95f82\n",
      "header: Date: Wed, 24 May 2023 22:58:49 GMT\n",
      "header: Transfer-Encoding: chunked\n",
      "header: Connection: keep-alive\n",
      "header: Connection: Transfer-Encoding\n",
      "header: Set-Cookie: TADCID=n6sztCUEByaDOeRGABQCXdElnkGETRW-Svh01l3nWnW8T9HtqLU1yK9jYIt252RFKWpBbsaR_c3O-4y1hrTDtmz0vEkeEjlaclU; Domain=www.tripadvisor.co.id; Expires=Sat, 21-May-2033 22:58:49 GMT; Path=/; Secure; HttpOnly\n",
      "header: Set-Cookie: TAUnique=%1%enc%3AllW4HTdbmd6CNtgs%2BCN3NnGfQMMEYPnq%2FnOqf9TXNDtRYgEFFU0jJg%3D%3D; Domain=.tripadvisor.co.id; Expires=Fri, 23-May-2025 22:58:49 GMT; Path=/; HttpOnly\n",
      "header: Set-Cookie: TASSK=enc%3AAAfA%2FLOeE1Ms1c0t9ajUjkqSpfzcoFAy8w%2BLkPo5BCVqhnOEo9oM0pzzIPSCtSVVMJhTE6Hw1p7ZNpfudv5rG3TF8OhxDAXxdwVsELvkXk5jJYPlw1oXSe6bp%2FI3iEbUCw%3D%3D; Domain=www.tripadvisor.co.id; Expires=Mon, 20-Nov-2023 22:58:49 GMT; Path=/; HttpOnly\n",
      "header: Set-Cookie: TASession=V2ID.0020468893BF40EFB85C72C01CBEA682*SQ.1*HS.recommended*ES.popularity*DS.5*SAS.popularity*FPS.oldFirst*LF.in*FA.1*DF.0*TRA.true*LD.2587987; Domain=.tripadvisor.co.id; Path=/\n",
      "header: Set-Cookie: ServerPool=B; Domain=.tripadvisor.co.id; Path=/\n",
      "header: Set-Cookie: PMC=V2*MS.47*MD.20230524*LD.20230524; Domain=www.tripadvisor.co.id; Expires=Fri, 23-May-2025 22:58:49 GMT; Path=/; Secure; HttpOnly\n",
      "header: Set-Cookie: TART=%1%enc%3AgjbYLPgjdzaxS15%2BRWc46ls%2Fsx5uoHYyAn0H456HRT7BtrgVM7p%2FtTJqDczRzluFuZ7ZgVXkTQA%3D; Domain=www.tripadvisor.co.id; Expires=Mon, 29-May-2023 22:58:49 GMT; Path=/; HttpOnly\n",
      "header: Set-Cookie: CM=%1%PremiumMobSess%2C%2C-1%7Ct4b-pc%2C%2C-1%7CRestAds%2FRPers%2C%2C-1%7CRCPers%2C%2C-1%7CWShadeSeen%2C%2C-1%7CTheForkMCCPers%2C%2C-1%7CHomeASess%2C%2C-1%7CPremiumMCSess%2C%2C-1%7CCrisisSess%2C%2C-1%7CUVOwnersSess%2C%2C-1%7CRestPremRSess%2C%2C-1%7CRepTarMCSess%2C%2C-1%7CCCSess%2C%2C-1%7CCYLSess%2C%2C-1%7CPremRetPers%2C%2C-1%7CViatorMCPers%2C%2C-1%7Csesssticker%2C%2C-1%7C%24%2C%2C-1%7CPremiumORSess%2C%2C-1%7Ct4b-sc%2C%2C-1%7CRestAdsPers%2C%2C-1%7CMC_IB_UPSELL_IB_LOGOS2%2C%2C-1%7CTSMCPers%2C%2C-1%7Cb2bmcpers%2C%2C-1%7CPremMCBtmSess%2C%2C-1%7CMC_IB_UPSELL_IB_LOGOS%2C%2C-1%7CLaFourchette+Banners%2C%2C-1%7Csess_rev%2C%2C-1%7Csessamex%2C%2C-1%7CPremiumRRSess%2C%2C-1%7CTADORSess%2C%2C-1%7CAdsRetPers%2C%2C-1%7CListMCSess%2C%2C-1%7CTARSWBPers%2C%2C-1%7CSPMCSess%2C%2C-1%7CTheForkORSess%2C%2C-1%7CTheForkRRSess%2C%2C-1%7Cpers_rev%2C%2C-1%7CRBAPers%2C%2C-1%7CRestAds%2FRSess%2C%2C-1%7CHomeAPers%2C%2C-1%7CPremiumMobPers%2C%2C-1%7CRCSess%2C%2C-1%7CLaFourchette+MC+Banners%2C%2C-1%7CRestAdsCCSess%2C%2C-1%7CRestPremRPers%2C%2C-1%7CRevHubRMPers%2C%2C-1%7CUVOwnersPers%2C%2C-1%7Cpssamex%2C%2C-1%7CTheForkMCCSess%2C%2C-1%7CCrisisPers%2C%2C-1%7CCYLPers%2C%2C-1%7CCCPers%2C%2C-1%7CRepTarMCPers%2C%2C-1%7Cb2bmcsess%2C%2C-1%7CTSMCSess%2C%2C-1%7CSPMCPers%2C%2C-1%7CRevHubRMSess%2C%2C-1%7CPremRetSess%2C%2C-1%7CViatorMCSess%2C%2C-1%7CPremiumMCPers%2C%2C-1%7CAdsRetSess%2C%2C-1%7CPremiumRRPers%2C%2C-1%7CRestAdsCCPers%2C%2C-1%7CTADORPers%2C%2C-1%7CTheForkORPers%2C%2C-1%7CPremMCBtmPers%2C%2C-1%7CTheForkRRPers%2C%2C-1%7CTARSWBSess%2C%2C-1%7CPremiumORPers%2C%2C-1%7CRestAdsSess%2C%2C-1%7CRBASess%2C%2C-1%7CSPORPers%2C%2C-1%7Cperssticker%2C%2C-1%7CListMCPers%2C%2C-1%7C; Domain=.tripadvisor.co.id; Expires=Sat, 21-May-2033 22:58:49 GMT; Path=/\n",
      "header: Set-Cookie: BEPIN=%1%1884ffc8462%3Bweb771a.a.tripadvisor.com%3A30023%3B; Domain=.tripadvisor.co.id; Path=/\n",
      "header: Set-Cookie: PAC=AJW6SXd-fXd-Rk6A6UZx_AIRvqQ4Iigmz4CR5MSFnk6tRKggHXmTGKWq5atuu7SvY91L_hxohk_9izLBUrTFNbKDB7sm3xCxEOaoRRp-aSnGXsT5hBlIa9I5rEL9nrSZ35rvcuq16QOIS6DaWusduI4zCAvGump3BxzEabFpHbUv6pnVbhvmsAdRBvGs7pVnvUfCPmJdSp-p0018jrqfRA7iUb3oBscjq2dImdch4is3; Domain=www.tripadvisor.co.id; Expires=Fri, 23-May-2025 22:58:49 GMT; Path=/; Secure; HttpOnly\n",
      "header: Set-Cookie: SRT=TART_SYNC; Domain=www.tripadvisor.co.id; Expires=Wed, 24-May-2023 23:28:49 GMT; Path=/\n",
      "header: Set-Cookie: TATravelInfo=V2*AY.2023*AM.6*AD.4*DY.2023*DM.6*DD.5*A.2*MG.-1*HP.2*FL.3*DSM.1684969129136*RS.1; Domain=.tripadvisor.co.id; Expires=Wed, 07-Jun-2023 22:58:49 GMT; Path=/\n",
      "header: Set-Cookie: TAUD=LG-1684969129041-2.1.F.*RDD-2-2023_05_25*HDD-3-2023_06_04.2023_06_05.1; Domain=.tripadvisor.co.id; Expires=Wed, 07-Jun-2023 22:58:49 GMT; Path=/\n",
      "header: Set-Cookie: TASID=0020468893BF40EFB85C72C01CBEA682; Domain=www.tripadvisor.co.id; Expires=Wed, 24-May-2023 23:28:49 GMT; Path=/; Secure\n",
      "header: Set-Cookie: TAReturnTo=%1%%2FHotel_Review-g1933359-d2587987-Reviews-or10-Munari_Resort_Ubud-Kedewatan_Ubud_Gianyar_Regency_Bali.html; Domain=.tripadvisor.co.id; Path=/\n",
      "header: Set-Cookie: datadome=6voiiJbimKQgRwXh3cMy0SgzGx48O0vIvJiZ3J5bQBBjxBxqH90y_scXuoSJYV4KY_hKdITKYOcKEQjx3NctSeaQbLgYQDbrByQ81ieDOBuazYe3QhHKLl6ZxhSzXi67; Max-Age=31104000; Domain=.tripadvisor.co.id; Path=/; Secure; SameSite=Lax\n",
      "Done Scrapping Munari Resort Ubud page 2\n",
      "\n",
      "\n"
     ]
    },
    {
     "name": "stderr",
     "output_type": "stream",
     "text": [
      "DEBUG:urllib3.connectionpool:Starting new HTTPS connection (1): www.tripadvisor.co.id:443\n"
     ]
    },
    {
     "name": "stdout",
     "output_type": "stream",
     "text": [
      "send: b'GET /Hotel_Review-g1933359-d2587987-Reviews-or15-Munari_Resort_Ubud-Kedewatan_Ubud_Gianyar_Regency_Bali.html HTTP/1.1\\r\\nHost: www.tripadvisor.co.id\\r\\nUser-Agent: Mozilla/5.0 (X11; CrOS x86_64 12871.102.0) AppleWebKit/537.36 (KHTML, like Gecko) Chrome/81.0.4044.141 Safari/537.36\\r\\nAccept-Encoding: gzip, deflate\\r\\nAccept: */*\\r\\nConnection: keep-alive\\r\\n\\r\\n'\n"
     ]
    },
    {
     "name": "stderr",
     "output_type": "stream",
     "text": [
      "DEBUG:urllib3.connectionpool:https://www.tripadvisor.co.id:443 \"GET /Hotel_Review-g1933359-d2587987-Reviews-or15-Munari_Resort_Ubud-Kedewatan_Ubud_Gianyar_Regency_Bali.html HTTP/1.1\" 200 None\n"
     ]
    },
    {
     "name": "stdout",
     "output_type": "stream",
     "text": [
      "reply: 'HTTP/1.1 200 OK\\r\\n'\n",
      "header: Server: envoy\n",
      "header: Link: <https://media-cdn.tripadvisor.com/media/>;rel=\"preconnect\";crossorigin\n",
      "header: Link: <https://media-cdn.tripadvisor.com/media/>;rel=\"dns-prefetch\"\n",
      "header: p3p: CP=\"NOI CURa ADMa DEVa TAIa OUR BUS IND UNI COM NAV INT DSP COR CAO PSA IDC ADM DEVi TAIi PSD IVAi IVDi CONi HIS CNT\"\n",
      "header: Pragma: no-cache\n",
      "header: Cache-Control: no-cache, no-store, must-revalidate\n",
      "header: Expires: 0\n",
      "header: Content-Language: id\n",
      "header: Link: <https://static.tacdn.com>;rel=\"dns-prefetch\"\n",
      "header: Link: <https://static.tacdn.com>;rel=\"preconnect\";crossorigin\n",
      "header: timing-allow-origin: https://www.tripadvisor.com\n",
      "header: Vary: Accept-Encoding\n",
      "header: Content-Type: text/html;charset=UTF-8\n",
      "header: x-datadome: protected\n",
      "header: Accept-CH: Sec-CH-UA,Sec-CH-UA-Mobile,Sec-CH-UA-Platform,Sec-CH-UA-Arch,Sec-CH-UA-Full-Version-List,Sec-CH-UA-Model,Sec-CH-Device-Memory\n",
      "header: Content-Encoding: gzip\n",
      "header: x-request-id: b0b75728-6103-45fc-b074-1bbc22e72019\n",
      "header: Date: Wed, 24 May 2023 22:58:54 GMT\n",
      "header: Transfer-Encoding: chunked\n",
      "header: Connection: keep-alive\n",
      "header: Connection: Transfer-Encoding\n",
      "header: Set-Cookie: TADCID=sTukhUxbvlGG6mXRABQCXdElnkGETRW-Svh01l3nWnW8T6ixFmf9GMUyNlBEcWLh192EqxvzUrKQcnOYHDKgFK5rReThrFmb850; Domain=www.tripadvisor.co.id; Expires=Sat, 21-May-2033 22:58:53 GMT; Path=/; Secure; HttpOnly\n",
      "header: Set-Cookie: TAUnique=%1%enc%3AJnkgrEO5FvSCNtgs%2BCN3NnGfQMMEYPnq57UbaJapA3F3aD0eyXJ3lw%3D%3D; Domain=.tripadvisor.co.id; Expires=Fri, 23-May-2025 22:58:53 GMT; Path=/; HttpOnly\n",
      "header: Set-Cookie: TASSK=enc%3AAD5TPtucUG8hopEa1D5WTdoKLmH0TJ0u3FU00HFDZGQ1l659mBR2o1c8%2FoC2iWYARh3QKICgmK8hdqsKkaj2OFlpQ5FAV0s9nDQaG3FJn06E9PluZqcuEiQ4Lo68lC0jTQ%3D%3D; Domain=www.tripadvisor.co.id; Expires=Mon, 20-Nov-2023 22:58:54 GMT; Path=/; HttpOnly\n",
      "header: Set-Cookie: TASession=V2ID.2D2C66282C114E69A0393B93B249D3D6*SQ.1*HS.recommended*ES.popularity*DS.5*SAS.popularity*FPS.oldFirst*LF.in*FA.1*DF.0*TRA.true*LD.2587987; Domain=.tripadvisor.co.id; Path=/\n",
      "header: Set-Cookie: ServerPool=A; Domain=.tripadvisor.co.id; Path=/\n",
      "header: Set-Cookie: PMC=V2*MS.76*MD.20230524*LD.20230524; Domain=www.tripadvisor.co.id; Expires=Fri, 23-May-2025 22:58:54 GMT; Path=/; Secure; HttpOnly\n",
      "header: Set-Cookie: TART=%1%enc%3AgjbYLPgjdzaxS15%2BRWc46lpRGo2FZRWtue3KwlA8o%2BRxE1Dyv8eYWD76zjzl8pXGqK1gTvwUc9M%3D; Domain=www.tripadvisor.co.id; Expires=Mon, 29-May-2023 22:58:54 GMT; Path=/; HttpOnly\n",
      "header: Set-Cookie: CM=%1%PremiumMobSess%2C%2C-1%7Ct4b-pc%2C%2C-1%7CRestAds%2FRPers%2C%2C-1%7CRCPers%2C%2C-1%7CWShadeSeen%2C%2C-1%7CTheForkMCCPers%2C%2C-1%7CHomeASess%2C%2C-1%7CPremiumMCSess%2C%2C-1%7CCrisisSess%2C%2C-1%7CUVOwnersSess%2C%2C-1%7CRestPremRSess%2C%2C-1%7CRepTarMCSess%2C%2C-1%7CCCSess%2C%2C-1%7CCYLSess%2C%2C-1%7CPremRetPers%2C%2C-1%7CViatorMCPers%2C%2C-1%7Csesssticker%2C%2C-1%7C%24%2C%2C-1%7CPremiumORSess%2C%2C-1%7Ct4b-sc%2C%2C-1%7CRestAdsPers%2C%2C-1%7CMC_IB_UPSELL_IB_LOGOS2%2C%2C-1%7CTSMCPers%2C%2C-1%7Cb2bmcpers%2C%2C-1%7CPremMCBtmSess%2C%2C-1%7CMC_IB_UPSELL_IB_LOGOS%2C%2C-1%7CLaFourchette+Banners%2C%2C-1%7Csess_rev%2C%2C-1%7Csessamex%2C%2C-1%7CPremiumRRSess%2C%2C-1%7CTADORSess%2C%2C-1%7CAdsRetPers%2C%2C-1%7CListMCSess%2C%2C-1%7CTARSWBPers%2C%2C-1%7CSPMCSess%2C%2C-1%7CTheForkORSess%2C%2C-1%7CTheForkRRSess%2C%2C-1%7Cpers_rev%2C%2C-1%7CRBAPers%2C%2C-1%7CRestAds%2FRSess%2C%2C-1%7CHomeAPers%2C%2C-1%7CPremiumMobPers%2C%2C-1%7CRCSess%2C%2C-1%7CLaFourchette+MC+Banners%2C%2C-1%7CRestAdsCCSess%2C%2C-1%7CRestPremRPers%2C%2C-1%7CRevHubRMPers%2C%2C-1%7CUVOwnersPers%2C%2C-1%7Cpssamex%2C%2C-1%7CTheForkMCCSess%2C%2C-1%7CCrisisPers%2C%2C-1%7CCYLPers%2C%2C-1%7CCCPers%2C%2C-1%7CRepTarMCPers%2C%2C-1%7Cb2bmcsess%2C%2C-1%7CTSMCSess%2C%2C-1%7CSPMCPers%2C%2C-1%7CRevHubRMSess%2C%2C-1%7CPremRetSess%2C%2C-1%7CViatorMCSess%2C%2C-1%7CPremiumMCPers%2C%2C-1%7CAdsRetSess%2C%2C-1%7CPremiumRRPers%2C%2C-1%7CRestAdsCCPers%2C%2C-1%7CTADORPers%2C%2C-1%7CTheForkORPers%2C%2C-1%7CPremMCBtmPers%2C%2C-1%7CTheForkRRPers%2C%2C-1%7CTARSWBSess%2C%2C-1%7CPremiumORPers%2C%2C-1%7CRestAdsSess%2C%2C-1%7CRBASess%2C%2C-1%7CSPORPers%2C%2C-1%7Cperssticker%2C%2C-1%7CListMCPers%2C%2C-1%7C; Domain=.tripadvisor.co.id; Expires=Sat, 21-May-2033 22:58:54 GMT; Path=/\n",
      "header: Set-Cookie: BEPIN=%1%1884ffc964e%3Bweb211a.a.tripadvisor.com%3A30023%3B; Domain=.tripadvisor.co.id; Path=/\n",
      "header: Set-Cookie: PAC=AFdA8ZORW-Ukq5jUaLgyMA9OED127Dw9nWCyUY3mtN6O9WIjGDJd6CSU6uGBLuWecF-k4MPuIX28vT5SeeDz2FgEwELGQMB4qAa_8H8yhjBtXj2guCXlVIRj5F0lqulqNq9kq_Fcid_js8Gjkba_FQGH257dqc-c_SSJBXPJ2o2sRADN4j843Fbfut9WY32B2dri1Cvw7Mk7lJHB56Z1rYIWT-7YjKqXniULDrniVy0o; Domain=www.tripadvisor.co.id; Expires=Fri, 23-May-2025 22:58:54 GMT; Path=/; Secure; HttpOnly\n",
      "header: Set-Cookie: SRT=TART_SYNC; Domain=www.tripadvisor.co.id; Expires=Wed, 24-May-2023 23:28:54 GMT; Path=/\n",
      "header: Set-Cookie: TATravelInfo=V2*AY.2023*AM.6*AD.4*DY.2023*DM.6*DD.5*A.2*MG.-1*HP.2*FL.3*DSM.1684969133759*RS.1; Domain=.tripadvisor.co.id; Expires=Wed, 07-Jun-2023 22:58:54 GMT; Path=/\n",
      "header: Set-Cookie: TAUD=LG-1684969133630-2.1.F.*RDD-2-2023_05_25*HDD-3-2023_06_04.2023_06_05.1; Domain=.tripadvisor.co.id; Expires=Wed, 07-Jun-2023 22:58:54 GMT; Path=/\n",
      "header: Set-Cookie: TASID=2D2C66282C114E69A0393B93B249D3D6; Domain=www.tripadvisor.co.id; Expires=Wed, 24-May-2023 23:28:54 GMT; Path=/; Secure\n",
      "header: Set-Cookie: TAReturnTo=%1%%2FHotel_Review-g1933359-d2587987-Reviews-or15-Munari_Resort_Ubud-Kedewatan_Ubud_Gianyar_Regency_Bali.html; Domain=.tripadvisor.co.id; Path=/\n",
      "header: Set-Cookie: datadome=6C7xBkDppPKf6pSf7UuMNjxgAo5Rb1NYRl7PqLECtL2psSNleYLEOYwDFDcmpaoYHLlSYSv1d7_eHdXyrpFSEZsOmt4nsvMU76b7jbBN73WABvy4-ORufVP34a_v4k8~; Max-Age=31104000; Domain=.tripadvisor.co.id; Path=/; Secure; SameSite=Lax\n",
      "Done Scrapping Munari Resort Ubud page 3\n",
      "\n",
      "\n"
     ]
    },
    {
     "name": "stderr",
     "output_type": "stream",
     "text": [
      "DEBUG:urllib3.connectionpool:Starting new HTTPS connection (1): www.tripadvisor.co.id:443\n"
     ]
    },
    {
     "name": "stdout",
     "output_type": "stream",
     "text": [
      "send: b'GET /Hotel_Review-g1933359-d2587987-Reviews-or20-Munari_Resort_Ubud-Kedewatan_Ubud_Gianyar_Regency_Bali.html HTTP/1.1\\r\\nHost: www.tripadvisor.co.id\\r\\nUser-Agent: Mozilla/5.0 (X11; CrOS x86_64 12871.102.0) AppleWebKit/537.36 (KHTML, like Gecko) Chrome/81.0.4044.141 Safari/537.36\\r\\nAccept-Encoding: gzip, deflate\\r\\nAccept: */*\\r\\nConnection: keep-alive\\r\\n\\r\\n'\n"
     ]
    },
    {
     "name": "stderr",
     "output_type": "stream",
     "text": [
      "DEBUG:urllib3.connectionpool:https://www.tripadvisor.co.id:443 \"GET /Hotel_Review-g1933359-d2587987-Reviews-or20-Munari_Resort_Ubud-Kedewatan_Ubud_Gianyar_Regency_Bali.html HTTP/1.1\" 200 None\n"
     ]
    },
    {
     "name": "stdout",
     "output_type": "stream",
     "text": [
      "reply: 'HTTP/1.1 200 OK\\r\\n'\n",
      "header: Server: envoy\n",
      "header: Link: <https://media-cdn.tripadvisor.com/media/>;rel=\"preconnect\";crossorigin\n",
      "header: Link: <https://media-cdn.tripadvisor.com/media/>;rel=\"dns-prefetch\"\n",
      "header: p3p: CP=\"NOI CURa ADMa DEVa TAIa OUR BUS IND UNI COM NAV INT DSP COR CAO PSA IDC ADM DEVi TAIi PSD IVAi IVDi CONi HIS CNT\"\n",
      "header: Pragma: no-cache\n",
      "header: Cache-Control: no-cache, no-store, must-revalidate\n",
      "header: Expires: 0\n",
      "header: Content-Language: id\n",
      "header: Link: <https://static.tacdn.com>;rel=\"dns-prefetch\"\n",
      "header: Link: <https://static.tacdn.com>;rel=\"preconnect\";crossorigin\n",
      "header: timing-allow-origin: https://www.tripadvisor.com\n",
      "header: Vary: Accept-Encoding\n",
      "header: Content-Type: text/html;charset=UTF-8\n",
      "header: Accept-CH: Sec-CH-UA,Sec-CH-UA-Mobile,Sec-CH-UA-Platform,Sec-CH-UA-Arch,Sec-CH-UA-Full-Version-List,Sec-CH-UA-Model,Sec-CH-Device-Memory\n",
      "header: x-datadome: protected\n",
      "header: Content-Encoding: gzip\n",
      "header: x-request-id: dc6d8ba3-d91a-40fb-907d-ac173c174176\n",
      "header: Date: Wed, 24 May 2023 22:58:59 GMT\n",
      "header: Transfer-Encoding: chunked\n",
      "header: Connection: keep-alive\n",
      "header: Connection: Transfer-Encoding\n",
      "header: Set-Cookie: TADCID=8uR1Q-KaxHX5wkNuABQCXdElnkGETRW-Svh01l3nWnW8T_txCOShu1Q80mY_3YTPuazY8_kQtNFl0bw2sOnWprsUHr9ythVwFes; Domain=www.tripadvisor.co.id; Expires=Sat, 21-May-2033 22:58:58 GMT; Path=/; Secure; HttpOnly\n",
      "header: Set-Cookie: TAUnique=%1%enc%3AMi3L76bNm8KCNtgs%2BCN3NnGfQMMEYPnqgqTQdIUcANdXl9egXeXsOQ%3D%3D; Domain=.tripadvisor.co.id; Expires=Fri, 23-May-2025 22:58:58 GMT; Path=/; HttpOnly\n",
      "header: Set-Cookie: TASSK=enc%3AAJy3dE3smKCqbBDK1JAbENTz14ia9e0ldUiME83A9wqRK0baaHNAuzY5xmRyzlGbVi0YRp02EJ0h7T47vCsTWNgoJ3C%2Fc2ZJWob4N3KJUrThuMIKsXLZCaxRUlX3DkI5Sg%3D%3D; Domain=www.tripadvisor.co.id; Expires=Mon, 20-Nov-2023 22:58:58 GMT; Path=/; HttpOnly\n",
      "header: Set-Cookie: TASession=V2ID.66B8954CEB8D4164981F20DD9161DE1D*SQ.1*HS.recommended*ES.popularity*DS.5*SAS.popularity*FPS.oldFirst*LF.in*FA.1*DF.0*TRA.true*LD.2587987; Domain=.tripadvisor.co.id; Path=/\n",
      "header: Set-Cookie: ServerPool=C; Domain=.tripadvisor.co.id; Path=/\n",
      "header: Set-Cookie: PMC=V2*MS.9*MD.20230524*LD.20230524; Domain=www.tripadvisor.co.id; Expires=Fri, 23-May-2025 22:58:58 GMT; Path=/; Secure; HttpOnly\n",
      "header: Set-Cookie: TART=%1%enc%3AgjbYLPgjdzaxS15%2BRWc46pgonkRdOhHwOjVCu%2BG7sdtA5NxtQZC6Wg8%2BWabiB%2BqzCWK7p73C7X0%3D; Domain=www.tripadvisor.co.id; Expires=Mon, 29-May-2023 22:58:58 GMT; Path=/; HttpOnly\n",
      "header: Set-Cookie: CM=%1%PremiumMobSess%2C%2C-1%7Ct4b-pc%2C%2C-1%7CRestAds%2FRPers%2C%2C-1%7CRCPers%2C%2C-1%7CWShadeSeen%2C%2C-1%7CTheForkMCCPers%2C%2C-1%7CHomeASess%2C%2C-1%7CPremiumMCSess%2C%2C-1%7CCrisisSess%2C%2C-1%7CUVOwnersSess%2C%2C-1%7CRestPremRSess%2C%2C-1%7CRepTarMCSess%2C%2C-1%7CCCSess%2C%2C-1%7CCYLSess%2C%2C-1%7CPremRetPers%2C%2C-1%7CViatorMCPers%2C%2C-1%7Csesssticker%2C%2C-1%7C%24%2C%2C-1%7CPremiumORSess%2C%2C-1%7Ct4b-sc%2C%2C-1%7CRestAdsPers%2C%2C-1%7CMC_IB_UPSELL_IB_LOGOS2%2C%2C-1%7CTSMCPers%2C%2C-1%7Cb2bmcpers%2C%2C-1%7CPremMCBtmSess%2C%2C-1%7CMC_IB_UPSELL_IB_LOGOS%2C%2C-1%7CLaFourchette+Banners%2C%2C-1%7Csess_rev%2C%2C-1%7Csessamex%2C%2C-1%7CPremiumRRSess%2C%2C-1%7CTADORSess%2C%2C-1%7CAdsRetPers%2C%2C-1%7CListMCSess%2C%2C-1%7CTARSWBPers%2C%2C-1%7CSPMCSess%2C%2C-1%7CTheForkORSess%2C%2C-1%7CTheForkRRSess%2C%2C-1%7Cpers_rev%2C%2C-1%7CRBAPers%2C%2C-1%7CRestAds%2FRSess%2C%2C-1%7CHomeAPers%2C%2C-1%7CPremiumMobPers%2C%2C-1%7CRCSess%2C%2C-1%7CLaFourchette+MC+Banners%2C%2C-1%7CRestAdsCCSess%2C%2C-1%7CRestPremRPers%2C%2C-1%7CRevHubRMPers%2C%2C-1%7CUVOwnersPers%2C%2C-1%7Cpssamex%2C%2C-1%7CTheForkMCCSess%2C%2C-1%7CCrisisPers%2C%2C-1%7CCYLPers%2C%2C-1%7CCCPers%2C%2C-1%7CRepTarMCPers%2C%2C-1%7Cb2bmcsess%2C%2C-1%7CTSMCSess%2C%2C-1%7CSPMCPers%2C%2C-1%7CRevHubRMSess%2C%2C-1%7CPremRetSess%2C%2C-1%7CViatorMCSess%2C%2C-1%7CPremiumMCPers%2C%2C-1%7CAdsRetSess%2C%2C-1%7CPremiumRRPers%2C%2C-1%7CRestAdsCCPers%2C%2C-1%7CTADORPers%2C%2C-1%7CTheForkORPers%2C%2C-1%7CPremMCBtmPers%2C%2C-1%7CTheForkRRPers%2C%2C-1%7CTARSWBSess%2C%2C-1%7CPremiumORPers%2C%2C-1%7CRestAdsSess%2C%2C-1%7CRBASess%2C%2C-1%7CSPORPers%2C%2C-1%7Cperssticker%2C%2C-1%7CListMCPers%2C%2C-1%7C; Domain=.tripadvisor.co.id; Expires=Sat, 21-May-2033 22:58:58 GMT; Path=/\n",
      "header: Set-Cookie: BEPIN=%1%1884ffca935%3Bweb191a.a.tripadvisor.com%3A30023%3B; Domain=.tripadvisor.co.id; Path=/\n",
      "header: Set-Cookie: PAC=AIojtAnLgKSa52-ERPkWpZqudw40S3iTYd2S57De_S_BbIDqKmu1bAn7YB0z0B_FPysrq6jkDXkNpjet1sNtNsvakcgUWyea6rajBNOh17NI2mxFMKghie0JWKHcGHxmxPMBUn-DaQxbTR2bsJ6kFdcWIWk25JCTc_yAjheXeWclUvmI9C9Ny_A12ldt01KLnho5Ce1UfDO607SSNf_ttr3boct_xMTZCQMMvAFOyUE-; Domain=www.tripadvisor.co.id; Expires=Fri, 23-May-2025 22:58:58 GMT; Path=/; Secure; HttpOnly\n",
      "header: Set-Cookie: SRT=TART_SYNC; Domain=www.tripadvisor.co.id; Expires=Wed, 24-May-2023 23:28:58 GMT; Path=/\n",
      "header: Set-Cookie: TATravelInfo=V2*AY.2023*AM.6*AD.4*DY.2023*DM.6*DD.5*A.2*MG.-1*HP.2*FL.3*DSM.1684969138605*RS.1; Domain=.tripadvisor.co.id; Expires=Wed, 07-Jun-2023 22:58:58 GMT; Path=/\n",
      "header: Set-Cookie: TAUD=LG-1684969138449-2.1.F.*RDD-2-2023_05_25*HDD-3-2023_06_04.2023_06_05.1; Domain=.tripadvisor.co.id; Expires=Wed, 07-Jun-2023 22:58:58 GMT; Path=/\n",
      "header: Set-Cookie: TASID=66B8954CEB8D4164981F20DD9161DE1D; Domain=www.tripadvisor.co.id; Expires=Wed, 24-May-2023 23:28:58 GMT; Path=/; Secure\n",
      "header: Set-Cookie: TAReturnTo=%1%%2FHotel_Review-g1933359-d2587987-Reviews-or20-Munari_Resort_Ubud-Kedewatan_Ubud_Gianyar_Regency_Bali.html; Domain=.tripadvisor.co.id; Path=/\n",
      "header: Set-Cookie: datadome=23NheaNzNjmy_rWjdcL2sUN4BPbe6m9~0WMb0b6qGNiP4murPdR11LGvGUxRQrhfa47iqn6xYTdepbjdqaWj3O9wY_IoTFgCvKZurnBXH3nO_KUKk-hxxBainMCWOeiG; Max-Age=31104000; Domain=.tripadvisor.co.id; Path=/; Secure; SameSite=Lax\n",
      "Done Scrapping Munari Resort Ubud page 4\n",
      "\n",
      "\n"
     ]
    },
    {
     "name": "stderr",
     "output_type": "stream",
     "text": [
      "DEBUG:urllib3.connectionpool:Starting new HTTPS connection (1): www.tripadvisor.co.id:443\n"
     ]
    },
    {
     "name": "stdout",
     "output_type": "stream",
     "text": [
      "send: b'GET /Hotel_Review-g1933359-d2587987-Reviews-or25-Munari_Resort_Ubud-Kedewatan_Ubud_Gianyar_Regency_Bali.html HTTP/1.1\\r\\nHost: www.tripadvisor.co.id\\r\\nUser-Agent: Mozilla/5.0 (X11; CrOS x86_64 12871.102.0) AppleWebKit/537.36 (KHTML, like Gecko) Chrome/81.0.4044.141 Safari/537.36\\r\\nAccept-Encoding: gzip, deflate\\r\\nAccept: */*\\r\\nConnection: keep-alive\\r\\n\\r\\n'\n"
     ]
    },
    {
     "name": "stderr",
     "output_type": "stream",
     "text": [
      "DEBUG:urllib3.connectionpool:https://www.tripadvisor.co.id:443 \"GET /Hotel_Review-g1933359-d2587987-Reviews-or25-Munari_Resort_Ubud-Kedewatan_Ubud_Gianyar_Regency_Bali.html HTTP/1.1\" 200 None\n"
     ]
    },
    {
     "name": "stdout",
     "output_type": "stream",
     "text": [
      "reply: 'HTTP/1.1 200 OK\\r\\n'\n",
      "header: Server: envoy\n",
      "header: Link: <https://media-cdn.tripadvisor.com/media/>;rel=\"preconnect\";crossorigin\n",
      "header: Link: <https://media-cdn.tripadvisor.com/media/>;rel=\"dns-prefetch\"\n",
      "header: p3p: CP=\"NOI CURa ADMa DEVa TAIa OUR BUS IND UNI COM NAV INT DSP COR CAO PSA IDC ADM DEVi TAIi PSD IVAi IVDi CONi HIS CNT\"\n",
      "header: Pragma: no-cache\n",
      "header: Cache-Control: no-cache, no-store, must-revalidate\n",
      "header: Expires: 0\n",
      "header: Content-Language: id\n",
      "header: Link: <https://static.tacdn.com>;rel=\"dns-prefetch\"\n",
      "header: Link: <https://static.tacdn.com>;rel=\"preconnect\";crossorigin\n",
      "header: timing-allow-origin: https://www.tripadvisor.com\n",
      "header: Vary: Accept-Encoding\n",
      "header: Content-Type: text/html;charset=UTF-8\n",
      "header: Accept-CH: Sec-CH-UA,Sec-CH-UA-Mobile,Sec-CH-UA-Platform,Sec-CH-UA-Arch,Sec-CH-UA-Full-Version-List,Sec-CH-UA-Model,Sec-CH-Device-Memory\n",
      "header: x-datadome: protected\n",
      "header: Content-Encoding: gzip\n",
      "header: x-request-id: 3b75b23e-2203-42ca-8c82-85838596ec04\n",
      "header: Date: Wed, 24 May 2023 22:59:03 GMT\n",
      "header: Transfer-Encoding: chunked\n",
      "header: Connection: keep-alive\n",
      "header: Connection: Transfer-Encoding\n",
      "header: Set-Cookie: TADCID=OSznX7MVynntV0x0ABQCXdElnkGETRW-Svh01l3nWnW8UPaya9gewCLgp7pKOiDX-gFWtfDm9UKbQLAFc9SY2lnVutS1YCgwgdg; Domain=www.tripadvisor.co.id; Expires=Sat, 21-May-2033 22:59:02 GMT; Path=/; Secure; HttpOnly\n",
      "header: Set-Cookie: TAUnique=%1%enc%3AS3b3lxs8IHSCNtgs%2BCN3NnGfQMMEYPnq3WYJuGFGNrZY%2B3rLEo%2FQ3g%3D%3D; Domain=.tripadvisor.co.id; Expires=Fri, 23-May-2025 22:59:02 GMT; Path=/; HttpOnly\n",
      "header: Set-Cookie: TASSK=enc%3AAHFAiLVhpt75T9ApGCpKRtFRNwPbvgqwXgJrO%2BArCdUa9mTE5Ma3uSgkjo8Hn31UCq3FRKZgbNlAP37GyuXVzjLlnF5QBiCF0layANB1ZDq44BA6nQFtgjh4%2FOG5O5QnwA%3D%3D; Domain=www.tripadvisor.co.id; Expires=Mon, 20-Nov-2023 22:59:03 GMT; Path=/; HttpOnly\n",
      "header: Set-Cookie: TASession=V2ID.7FC954F0F7B2409FA4174F18392EFED9*SQ.1*HS.recommended*ES.popularity*DS.5*SAS.popularity*FPS.oldFirst*LF.in*FA.1*DF.0*TRA.true*LD.2587987; Domain=.tripadvisor.co.id; Path=/\n",
      "header: Set-Cookie: ServerPool=B; Domain=.tripadvisor.co.id; Path=/\n",
      "header: Set-Cookie: PMC=V2*MS.81*MD.20230524*LD.20230524; Domain=www.tripadvisor.co.id; Expires=Fri, 23-May-2025 22:59:03 GMT; Path=/; Secure; HttpOnly\n",
      "header: Set-Cookie: TART=%1%enc%3AgjbYLPgjdzaxS15%2BRWc46vI4iXS4uuIbKkJM5kcwqlKZXY6bfbJdTSW1AqDGY3seapQxgJ1MPX4%3D; Domain=www.tripadvisor.co.id; Expires=Mon, 29-May-2023 22:59:03 GMT; Path=/; HttpOnly\n",
      "header: Set-Cookie: CM=%1%PremiumMobSess%2C%2C-1%7Ct4b-pc%2C%2C-1%7CRestAds%2FRPers%2C%2C-1%7CRCPers%2C%2C-1%7CWShadeSeen%2C%2C-1%7CTheForkMCCPers%2C%2C-1%7CHomeASess%2C%2C-1%7CPremiumMCSess%2C%2C-1%7CCrisisSess%2C%2C-1%7CUVOwnersSess%2C%2C-1%7CRestPremRSess%2C%2C-1%7CRepTarMCSess%2C%2C-1%7CCCSess%2C%2C-1%7CCYLSess%2C%2C-1%7CPremRetPers%2C%2C-1%7CViatorMCPers%2C%2C-1%7Csesssticker%2C%2C-1%7C%24%2C%2C-1%7CPremiumORSess%2C%2C-1%7Ct4b-sc%2C%2C-1%7CRestAdsPers%2C%2C-1%7CMC_IB_UPSELL_IB_LOGOS2%2C%2C-1%7CTSMCPers%2C%2C-1%7Cb2bmcpers%2C%2C-1%7CPremMCBtmSess%2C%2C-1%7CMC_IB_UPSELL_IB_LOGOS%2C%2C-1%7CLaFourchette+Banners%2C%2C-1%7Csess_rev%2C%2C-1%7Csessamex%2C%2C-1%7CPremiumRRSess%2C%2C-1%7CTADORSess%2C%2C-1%7CAdsRetPers%2C%2C-1%7CListMCSess%2C%2C-1%7CTARSWBPers%2C%2C-1%7CSPMCSess%2C%2C-1%7CTheForkORSess%2C%2C-1%7CTheForkRRSess%2C%2C-1%7Cpers_rev%2C%2C-1%7CRBAPers%2C%2C-1%7CRestAds%2FRSess%2C%2C-1%7CHomeAPers%2C%2C-1%7CPremiumMobPers%2C%2C-1%7CRCSess%2C%2C-1%7CLaFourchette+MC+Banners%2C%2C-1%7CRestAdsCCSess%2C%2C-1%7CRestPremRPers%2C%2C-1%7CRevHubRMPers%2C%2C-1%7CUVOwnersPers%2C%2C-1%7Cpssamex%2C%2C-1%7CTheForkMCCSess%2C%2C-1%7CCrisisPers%2C%2C-1%7CCYLPers%2C%2C-1%7CCCPers%2C%2C-1%7CRepTarMCPers%2C%2C-1%7Cb2bmcsess%2C%2C-1%7CTSMCSess%2C%2C-1%7CSPMCPers%2C%2C-1%7CRevHubRMSess%2C%2C-1%7CPremRetSess%2C%2C-1%7CViatorMCSess%2C%2C-1%7CPremiumMCPers%2C%2C-1%7CAdsRetSess%2C%2C-1%7CPremiumRRPers%2C%2C-1%7CRestAdsCCPers%2C%2C-1%7CTADORPers%2C%2C-1%7CTheForkORPers%2C%2C-1%7CPremMCBtmPers%2C%2C-1%7CTheForkRRPers%2C%2C-1%7CTARSWBSess%2C%2C-1%7CPremiumORPers%2C%2C-1%7CRestAdsSess%2C%2C-1%7CRBASess%2C%2C-1%7CSPORPers%2C%2C-1%7Cperssticker%2C%2C-1%7CListMCPers%2C%2C-1%7C; Domain=.tripadvisor.co.id; Expires=Sat, 21-May-2033 22:59:03 GMT; Path=/\n",
      "header: Set-Cookie: BEPIN=%1%1884ffcba4c%3Bweb607a.a.tripadvisor.com%3A30023%3B; Domain=.tripadvisor.co.id; Path=/\n",
      "header: Set-Cookie: PAC=ANbRXEq5IhIptlfd9_BLHM_ffWcbd-QEq1T-7nX5Xyx2Fv3HFXyuquFu8GuOlnChCX_zPt-xHN0ELWI-e38qqTBK-8XzutoA_7dY6bTlab_GWFsH1ou42S33IuWnilv-F8Qy1oB_x4pTAbgibEoBqU0iy40sjgA6ACB6U-j4SQ7lDBdzLVOGnfsl9bAa_M6Su5BWf9bZv9YW0fO5k5JxfGqKFHQV3Un7NoeHZlTjLzwB; Domain=www.tripadvisor.co.id; Expires=Fri, 23-May-2025 22:59:03 GMT; Path=/; Secure; HttpOnly\n",
      "header: Set-Cookie: SRT=TART_SYNC; Domain=www.tripadvisor.co.id; Expires=Wed, 24-May-2023 23:29:03 GMT; Path=/\n",
      "header: Set-Cookie: TATravelInfo=V2*AY.2023*AM.6*AD.4*DY.2023*DM.6*DD.5*A.2*MG.-1*HP.2*FL.3*DSM.1684969142943*RS.1; Domain=.tripadvisor.co.id; Expires=Wed, 07-Jun-2023 22:59:03 GMT; Path=/\n",
      "header: Set-Cookie: TAUD=LG-1684969142819-2.1.F.*RDD-2-2023_05_25*HDD-3-2023_06_04.2023_06_05.1; Domain=.tripadvisor.co.id; Expires=Wed, 07-Jun-2023 22:59:03 GMT; Path=/\n",
      "header: Set-Cookie: TASID=7FC954F0F7B2409FA4174F18392EFED9; Domain=www.tripadvisor.co.id; Expires=Wed, 24-May-2023 23:29:03 GMT; Path=/; Secure\n",
      "header: Set-Cookie: TAReturnTo=%1%%2FHotel_Review-g1933359-d2587987-Reviews-or25-Munari_Resort_Ubud-Kedewatan_Ubud_Gianyar_Regency_Bali.html; Domain=.tripadvisor.co.id; Path=/\n",
      "header: Set-Cookie: datadome=G9v94FYPFeTfSJbhIPS7uU7DOMR37glWLxRcgJe3mHaM-0GcWS6~93EadFEKp6mxR39Umr6UwQrgA4kMwh2I_rAKDGZt8f8hrEhNjaeR56kJ8fr42lE~dwG7VTu~5RV; Max-Age=31104000; Domain=.tripadvisor.co.id; Path=/; Secure; SameSite=Lax\n",
      "Done Scrapping Munari Resort Ubud page 5\n",
      "\n",
      "\n"
     ]
    },
    {
     "name": "stderr",
     "output_type": "stream",
     "text": [
      "DEBUG:urllib3.connectionpool:Starting new HTTPS connection (1): www.tripadvisor.co.id:443\n"
     ]
    },
    {
     "name": "stdout",
     "output_type": "stream",
     "text": [
      "send: b'GET /Hotel_Review-g1933359-d2587987-Reviews-or30-Munari_Resort_Ubud-Kedewatan_Ubud_Gianyar_Regency_Bali.html HTTP/1.1\\r\\nHost: www.tripadvisor.co.id\\r\\nUser-Agent: Mozilla/5.0 (X11; CrOS x86_64 12871.102.0) AppleWebKit/537.36 (KHTML, like Gecko) Chrome/81.0.4044.141 Safari/537.36\\r\\nAccept-Encoding: gzip, deflate\\r\\nAccept: */*\\r\\nConnection: keep-alive\\r\\n\\r\\n'\n"
     ]
    },
    {
     "name": "stderr",
     "output_type": "stream",
     "text": [
      "DEBUG:urllib3.connectionpool:https://www.tripadvisor.co.id:443 \"GET /Hotel_Review-g1933359-d2587987-Reviews-or30-Munari_Resort_Ubud-Kedewatan_Ubud_Gianyar_Regency_Bali.html HTTP/1.1\" 200 None\n"
     ]
    },
    {
     "name": "stdout",
     "output_type": "stream",
     "text": [
      "reply: 'HTTP/1.1 200 OK\\r\\n'\n",
      "header: Server: envoy\n",
      "header: Link: <https://media-cdn.tripadvisor.com/media/>;rel=\"preconnect\";crossorigin\n",
      "header: Link: <https://media-cdn.tripadvisor.com/media/>;rel=\"dns-prefetch\"\n",
      "header: p3p: CP=\"NOI CURa ADMa DEVa TAIa OUR BUS IND UNI COM NAV INT DSP COR CAO PSA IDC ADM DEVi TAIi PSD IVAi IVDi CONi HIS CNT\"\n",
      "header: Pragma: no-cache\n",
      "header: Cache-Control: no-cache, no-store, must-revalidate\n",
      "header: Expires: 0\n",
      "header: Content-Language: id\n",
      "header: Link: <https://static.tacdn.com>;rel=\"dns-prefetch\"\n",
      "header: Link: <https://static.tacdn.com>;rel=\"preconnect\";crossorigin\n",
      "header: timing-allow-origin: https://www.tripadvisor.com\n",
      "header: Vary: Accept-Encoding\n",
      "header: Content-Type: text/html;charset=UTF-8\n",
      "header: x-datadome: protected\n",
      "header: Accept-CH: Sec-CH-UA,Sec-CH-UA-Mobile,Sec-CH-UA-Platform,Sec-CH-UA-Arch,Sec-CH-UA-Full-Version-List,Sec-CH-UA-Model,Sec-CH-Device-Memory\n",
      "header: Content-Encoding: gzip\n",
      "header: x-request-id: 0700a16d-3baf-4d4b-9ad1-2439dd71de84\n",
      "header: Date: Wed, 24 May 2023 22:59:08 GMT\n",
      "header: Transfer-Encoding: chunked\n",
      "header: Connection: keep-alive\n",
      "header: Connection: Transfer-Encoding\n",
      "header: Set-Cookie: TADCID=hM8X5j3_l9uasnvJABQCXdElnkGETRW-Svh01l3nWnW8UM777V4z0GC2sn9yPzhmwFnExWW4Fgz3KoCGNEWJq-x8rfBc-QI3x88; Domain=www.tripadvisor.co.id; Expires=Sat, 21-May-2033 22:59:07 GMT; Path=/; Secure; HttpOnly\n",
      "header: Set-Cookie: TAUnique=%1%enc%3ALBUidT4OAAiCNtgs%2BCN3NnGfQMMEYPnq4rrcwfbkie8iqc%2FCxMcLzQ%3D%3D; Domain=.tripadvisor.co.id; Expires=Fri, 23-May-2025 22:59:07 GMT; Path=/; HttpOnly\n",
      "header: Set-Cookie: TASSK=enc%3AAPhE0u52teEhjIvSXnghDiKKm5brF2W2WbQHaQg235rTMjpCCQt1nCXlcHHZG8tfAkm1RGfOwqQL39YvQo5n%2FSmf83QpyVGyCuMKMysAWQ5G95yFq0RaEKoawl5d66nGzQ%3D%3D; Domain=www.tripadvisor.co.id; Expires=Mon, 20-Nov-2023 22:59:07 GMT; Path=/; HttpOnly\n",
      "header: Set-Cookie: TASession=V2ID.5F5795FD7B48437B99580DEEA45DDED6*SQ.1*HS.recommended*ES.popularity*DS.5*SAS.popularity*FPS.oldFirst*LF.in*FA.1*DF.0*TRA.true*LD.2587987; Domain=.tripadvisor.co.id; Path=/\n",
      "header: Set-Cookie: ServerPool=X; Domain=.tripadvisor.co.id; Path=/\n",
      "header: Set-Cookie: PMC=V2*MS.88*MD.20230524*LD.20230524; Domain=www.tripadvisor.co.id; Expires=Fri, 23-May-2025 22:59:07 GMT; Path=/; Secure; HttpOnly\n",
      "header: Set-Cookie: TART=%1%enc%3AgjbYLPgjdzaxS15%2BRWc46v7HWzNXqK7fYzayBbQpZrM%2Ff%2FqKMnHC0YYcn0Vskc8dN7GpVj%2F%2FAUw%3D; Domain=www.tripadvisor.co.id; Expires=Mon, 29-May-2023 22:59:07 GMT; Path=/; HttpOnly\n",
      "header: Set-Cookie: CM=%1%PremiumMobSess%2C%2C-1%7Ct4b-pc%2C%2C-1%7CRestAds%2FRPers%2C%2C-1%7CRCPers%2C%2C-1%7CWShadeSeen%2C%2C-1%7CTheForkMCCPers%2C%2C-1%7CHomeASess%2C%2C-1%7CPremiumMCSess%2C%2C-1%7CCrisisSess%2C%2C-1%7CUVOwnersSess%2C%2C-1%7CRestPremRSess%2C%2C-1%7CRepTarMCSess%2C%2C-1%7CCCSess%2C%2C-1%7CCYLSess%2C%2C-1%7CPremRetPers%2C%2C-1%7CViatorMCPers%2C%2C-1%7Csesssticker%2C%2C-1%7C%24%2C%2C-1%7CPremiumORSess%2C%2C-1%7Ct4b-sc%2C%2C-1%7CRestAdsPers%2C%2C-1%7CMC_IB_UPSELL_IB_LOGOS2%2C%2C-1%7CTSMCPers%2C%2C-1%7Cb2bmcpers%2C%2C-1%7CPremMCBtmSess%2C%2C-1%7CMC_IB_UPSELL_IB_LOGOS%2C%2C-1%7CLaFourchette+Banners%2C%2C-1%7Csess_rev%2C%2C-1%7Csessamex%2C%2C-1%7CPremiumRRSess%2C%2C-1%7CTADORSess%2C%2C-1%7CAdsRetPers%2C%2C-1%7CListMCSess%2C%2C-1%7CTARSWBPers%2C%2C-1%7CSPMCSess%2C%2C-1%7CTheForkORSess%2C%2C-1%7CTheForkRRSess%2C%2C-1%7Cpers_rev%2C%2C-1%7CRBAPers%2C%2C-1%7CRestAds%2FRSess%2C%2C-1%7CHomeAPers%2C%2C-1%7CPremiumMobPers%2C%2C-1%7CRCSess%2C%2C-1%7CLaFourchette+MC+Banners%2C%2C-1%7CRestAdsCCSess%2C%2C-1%7CRestPremRPers%2C%2C-1%7CRevHubRMPers%2C%2C-1%7CUVOwnersPers%2C%2C-1%7Cpssamex%2C%2C-1%7CTheForkMCCSess%2C%2C-1%7CCrisisPers%2C%2C-1%7CCYLPers%2C%2C-1%7CCCPers%2C%2C-1%7CRepTarMCPers%2C%2C-1%7Cb2bmcsess%2C%2C-1%7CTSMCSess%2C%2C-1%7CSPMCPers%2C%2C-1%7CRevHubRMSess%2C%2C-1%7CPremRetSess%2C%2C-1%7CViatorMCSess%2C%2C-1%7CPremiumMCPers%2C%2C-1%7CAdsRetSess%2C%2C-1%7CPremiumRRPers%2C%2C-1%7CRestAdsCCPers%2C%2C-1%7CTADORPers%2C%2C-1%7CTheForkORPers%2C%2C-1%7CPremMCBtmPers%2C%2C-1%7CTheForkRRPers%2C%2C-1%7CTARSWBSess%2C%2C-1%7CPremiumORPers%2C%2C-1%7CRestAdsSess%2C%2C-1%7CRBASess%2C%2C-1%7CSPORPers%2C%2C-1%7Cperssticker%2C%2C-1%7CListMCPers%2C%2C-1%7C; Domain=.tripadvisor.co.id; Expires=Sat, 21-May-2033 22:59:07 GMT; Path=/\n",
      "header: Set-Cookie: BEPIN=%1%1884ffccb9e%3Bweb270a.a.tripadvisor.com%3A30023%3B; Domain=.tripadvisor.co.id; Path=/\n",
      "header: Set-Cookie: PAC=AH8Pdo5mMNXFTn-6cO9LE7ScIbSHVKPPd95B_X0y3ObfR6ahhK-cSmi1gsrdkC8KXs22ySS-jcY6Helceg0sxEb9DihGqhbWVewBwCunBPhC1CKBanlDbDlitjUpUJ8IULY_VQmocLCpLLtB9NkDgj4khRCPMBiIy-_twSTKOYl78L-VVxKDpnv-TinBVXaWWfKuDOMtYLKoOZiPL_gAqIGnL4ieELlrYGnoz4VMyxWe; Domain=www.tripadvisor.co.id; Expires=Fri, 23-May-2025 22:59:07 GMT; Path=/; Secure; HttpOnly\n",
      "header: Set-Cookie: SRT=TART_SYNC; Domain=www.tripadvisor.co.id; Expires=Wed, 24-May-2023 23:29:07 GMT; Path=/\n",
      "header: Set-Cookie: TATravelInfo=V2*AY.2023*AM.6*AD.4*DY.2023*DM.6*DD.5*A.2*MG.-1*HP.2*FL.3*DSM.1684969147391*RS.1; Domain=.tripadvisor.co.id; Expires=Wed, 07-Jun-2023 22:59:07 GMT; Path=/\n",
      "header: Set-Cookie: TAUD=LG-1684969147257-2.1.F.*RDD-2-2023_05_25*HDD-3-2023_06_04.2023_06_05.1; Domain=.tripadvisor.co.id; Expires=Wed, 07-Jun-2023 22:59:07 GMT; Path=/\n",
      "header: Set-Cookie: TASID=5F5795FD7B48437B99580DEEA45DDED6; Domain=www.tripadvisor.co.id; Expires=Wed, 24-May-2023 23:29:07 GMT; Path=/; Secure\n",
      "header: Set-Cookie: TAReturnTo=%1%%2FHotel_Review-g1933359-d2587987-Reviews-or30-Munari_Resort_Ubud-Kedewatan_Ubud_Gianyar_Regency_Bali.html; Domain=.tripadvisor.co.id; Path=/\n",
      "header: Set-Cookie: datadome=7pl43YpjZBR7zpoxiRnBJDO3n7-RYRnZNw7v95iF3lBd1KiHk27jQeGvRDATfSYzeHRapMXao50w1mBv9ZRU82EqbEOTsCDz8B2j7GRnxRYaVc3wEXehtJvKYnCdTbDL; Max-Age=31104000; Domain=.tripadvisor.co.id; Path=/; Secure; SameSite=Lax\n",
      "Done Scrapping Munari Resort Ubud page 6\n",
      "\n",
      "\n"
     ]
    },
    {
     "name": "stderr",
     "output_type": "stream",
     "text": [
      "DEBUG:urllib3.connectionpool:Starting new HTTPS connection (1): www.tripadvisor.co.id:443\n"
     ]
    },
    {
     "name": "stdout",
     "output_type": "stream",
     "text": [
      "send: b'GET /Hotel_Review-g1933359-d2587987-Reviews-or35-Munari_Resort_Ubud-Kedewatan_Ubud_Gianyar_Regency_Bali.html HTTP/1.1\\r\\nHost: www.tripadvisor.co.id\\r\\nUser-Agent: Mozilla/5.0 (X11; CrOS x86_64 12871.102.0) AppleWebKit/537.36 (KHTML, like Gecko) Chrome/81.0.4044.141 Safari/537.36\\r\\nAccept-Encoding: gzip, deflate\\r\\nAccept: */*\\r\\nConnection: keep-alive\\r\\n\\r\\n'\n"
     ]
    },
    {
     "name": "stderr",
     "output_type": "stream",
     "text": [
      "DEBUG:urllib3.connectionpool:https://www.tripadvisor.co.id:443 \"GET /Hotel_Review-g1933359-d2587987-Reviews-or35-Munari_Resort_Ubud-Kedewatan_Ubud_Gianyar_Regency_Bali.html HTTP/1.1\" 200 None\n"
     ]
    },
    {
     "name": "stdout",
     "output_type": "stream",
     "text": [
      "reply: 'HTTP/1.1 200 OK\\r\\n'\n",
      "header: Server: envoy\n",
      "header: Link: <https://media-cdn.tripadvisor.com/media/>;rel=\"preconnect\";crossorigin\n",
      "header: Link: <https://media-cdn.tripadvisor.com/media/>;rel=\"dns-prefetch\"\n",
      "header: p3p: CP=\"NOI CURa ADMa DEVa TAIa OUR BUS IND UNI COM NAV INT DSP COR CAO PSA IDC ADM DEVi TAIi PSD IVAi IVDi CONi HIS CNT\"\n",
      "header: Pragma: no-cache\n",
      "header: Cache-Control: no-cache, no-store, must-revalidate\n",
      "header: Expires: 0\n",
      "header: Content-Language: id\n",
      "header: Link: <https://static.tacdn.com>;rel=\"dns-prefetch\"\n",
      "header: Link: <https://static.tacdn.com>;rel=\"preconnect\";crossorigin\n",
      "header: timing-allow-origin: https://www.tripadvisor.com\n",
      "header: Vary: Accept-Encoding\n",
      "header: Content-Type: text/html;charset=UTF-8\n",
      "header: x-datadome: protected\n",
      "header: Accept-CH: Sec-CH-UA,Sec-CH-UA-Mobile,Sec-CH-UA-Platform,Sec-CH-UA-Arch,Sec-CH-UA-Full-Version-List,Sec-CH-UA-Model,Sec-CH-Device-Memory\n",
      "header: Content-Encoding: gzip\n",
      "header: x-request-id: 3bd279b9-6a81-4432-b1e2-526951790a98\n",
      "header: Date: Wed, 24 May 2023 22:59:12 GMT\n",
      "header: Transfer-Encoding: chunked\n",
      "header: Connection: keep-alive\n",
      "header: Connection: Transfer-Encoding\n",
      "header: Set-Cookie: TADCID=tW9HaOL0jRYemzZDABQCXdElnkGETRW-Svh01l3nWnW8UOcYEWkbHbHg_je0j_JkP82bgOdSI7RieXuqyHMhEbKyxf1xXCAQPJU; Domain=www.tripadvisor.co.id; Expires=Sat, 21-May-2033 22:59:11 GMT; Path=/; Secure; HttpOnly\n",
      "header: Set-Cookie: TAUnique=%1%enc%3A8kwUAflygK2CNtgs%2BCN3NnGfQMMEYPnqWpeJG74hJpvHUKXK1OHQiA%3D%3D; Domain=.tripadvisor.co.id; Expires=Fri, 23-May-2025 22:59:11 GMT; Path=/; HttpOnly\n",
      "header: Set-Cookie: TASSK=enc%3AALqkygdQnSnenwqxoAeW8ik6lrQ6wMVdU%2BmIoSyTAi1M%2FWyGYuLGO%2Bdf4znkjKEpHebb2hUgAV8ys%2F%2B5PTVt1%2F5KHPsSJa%2F5wjdErlkrs3G6z9iafPxSaG%2FjwYQkCzr%2B3A%3D%3D; Domain=www.tripadvisor.co.id; Expires=Mon, 20-Nov-2023 22:59:12 GMT; Path=/; HttpOnly\n",
      "header: Set-Cookie: TASession=V2ID.55AA6927BAA44DCCA0DDE8B1B1D2DD31*SQ.1*HS.recommended*ES.popularity*DS.5*SAS.popularity*FPS.oldFirst*LF.in*FA.1*DF.0*TRA.true*LD.2587987; Domain=.tripadvisor.co.id; Path=/\n",
      "header: Set-Cookie: ServerPool=X; Domain=.tripadvisor.co.id; Path=/\n",
      "header: Set-Cookie: PMC=V2*MS.97*MD.20230524*LD.20230524; Domain=www.tripadvisor.co.id; Expires=Fri, 23-May-2025 22:59:12 GMT; Path=/; Secure; HttpOnly\n",
      "header: Set-Cookie: TART=%1%enc%3AgjbYLPgjdzaxS15%2BRWc46uyiJONOfUKzP2oOyxXF5rqlAU45KBGjly1jVm%2FwR5ogqdIHrpzoXjE%3D; Domain=www.tripadvisor.co.id; Expires=Mon, 29-May-2023 22:59:12 GMT; Path=/; HttpOnly\n",
      "header: Set-Cookie: CM=%1%PremiumMobSess%2C%2C-1%7Ct4b-pc%2C%2C-1%7CRestAds%2FRPers%2C%2C-1%7CRCPers%2C%2C-1%7CWShadeSeen%2C%2C-1%7CTheForkMCCPers%2C%2C-1%7CHomeASess%2C%2C-1%7CPremiumMCSess%2C%2C-1%7CCrisisSess%2C%2C-1%7CUVOwnersSess%2C%2C-1%7CRestPremRSess%2C%2C-1%7CRepTarMCSess%2C%2C-1%7CCCSess%2C%2C-1%7CCYLSess%2C%2C-1%7CPremRetPers%2C%2C-1%7CViatorMCPers%2C%2C-1%7Csesssticker%2C%2C-1%7C%24%2C%2C-1%7CPremiumORSess%2C%2C-1%7Ct4b-sc%2C%2C-1%7CRestAdsPers%2C%2C-1%7CMC_IB_UPSELL_IB_LOGOS2%2C%2C-1%7CTSMCPers%2C%2C-1%7Cb2bmcpers%2C%2C-1%7CPremMCBtmSess%2C%2C-1%7CMC_IB_UPSELL_IB_LOGOS%2C%2C-1%7CLaFourchette+Banners%2C%2C-1%7Csess_rev%2C%2C-1%7Csessamex%2C%2C-1%7CPremiumRRSess%2C%2C-1%7CTADORSess%2C%2C-1%7CAdsRetPers%2C%2C-1%7CListMCSess%2C%2C-1%7CTARSWBPers%2C%2C-1%7CSPMCSess%2C%2C-1%7CTheForkORSess%2C%2C-1%7CTheForkRRSess%2C%2C-1%7Cpers_rev%2C%2C-1%7CRBAPers%2C%2C-1%7CRestAds%2FRSess%2C%2C-1%7CHomeAPers%2C%2C-1%7CPremiumMobPers%2C%2C-1%7CRCSess%2C%2C-1%7CLaFourchette+MC+Banners%2C%2C-1%7CRestAdsCCSess%2C%2C-1%7CRestPremRPers%2C%2C-1%7CRevHubRMPers%2C%2C-1%7CUVOwnersPers%2C%2C-1%7Cpssamex%2C%2C-1%7CTheForkMCCSess%2C%2C-1%7CCrisisPers%2C%2C-1%7CCYLPers%2C%2C-1%7CCCPers%2C%2C-1%7CRepTarMCPers%2C%2C-1%7Cb2bmcsess%2C%2C-1%7CTSMCSess%2C%2C-1%7CSPMCPers%2C%2C-1%7CRevHubRMSess%2C%2C-1%7CPremRetSess%2C%2C-1%7CViatorMCSess%2C%2C-1%7CPremiumMCPers%2C%2C-1%7CAdsRetSess%2C%2C-1%7CPremiumRRPers%2C%2C-1%7CRestAdsCCPers%2C%2C-1%7CTADORPers%2C%2C-1%7CTheForkORPers%2C%2C-1%7CPremMCBtmPers%2C%2C-1%7CTheForkRRPers%2C%2C-1%7CTARSWBSess%2C%2C-1%7CPremiumORPers%2C%2C-1%7CRestAdsSess%2C%2C-1%7CRBASess%2C%2C-1%7CSPORPers%2C%2C-1%7Cperssticker%2C%2C-1%7CListMCPers%2C%2C-1%7C; Domain=.tripadvisor.co.id; Expires=Sat, 21-May-2033 22:59:12 GMT; Path=/\n",
      "header: Set-Cookie: BEPIN=%1%1884ffcddc8%3Bweb191a.a.tripadvisor.com%3A30023%3B; Domain=.tripadvisor.co.id; Path=/\n",
      "header: Set-Cookie: PAC=ALxU7pII7HSl5BURD6S6HvalvPgauHR1jZ-jbH0lndPFtzIuqTyHGHDXuNNb8qZ1svZ2CedEGi7yHpxcAqEwkht2sZMYLeq7LsVRZ8OIhBq81fmqTbJMoMvtcq8WnSseozo2zL251pdeuFpXUf8bOqEaqK_hsuldsDfuolQFMqOe_q0RQS8S18mu7fFIFgsTbBUHGW2cK4nXHWEng3ywr1AxcTfFsYcCut5blqFi6JGM; Domain=www.tripadvisor.co.id; Expires=Fri, 23-May-2025 22:59:12 GMT; Path=/; Secure; HttpOnly\n",
      "header: Set-Cookie: SRT=TART_SYNC; Domain=www.tripadvisor.co.id; Expires=Wed, 24-May-2023 23:29:12 GMT; Path=/\n",
      "header: Set-Cookie: TATravelInfo=V2*AY.2023*AM.6*AD.4*DY.2023*DM.6*DD.5*A.2*MG.-1*HP.2*FL.3*DSM.1684969152036*RS.1; Domain=.tripadvisor.co.id; Expires=Wed, 07-Jun-2023 22:59:12 GMT; Path=/\n",
      "header: Set-Cookie: TAUD=LG-1684969151925-2.1.F.*RDD-2-2023_05_25*HDD-3-2023_06_04.2023_06_05.1; Domain=.tripadvisor.co.id; Expires=Wed, 07-Jun-2023 22:59:12 GMT; Path=/\n",
      "header: Set-Cookie: TASID=55AA6927BAA44DCCA0DDE8B1B1D2DD31; Domain=www.tripadvisor.co.id; Expires=Wed, 24-May-2023 23:29:12 GMT; Path=/; Secure\n",
      "header: Set-Cookie: TAReturnTo=%1%%2FHotel_Review-g1933359-d2587987-Reviews-or35-Munari_Resort_Ubud-Kedewatan_Ubud_Gianyar_Regency_Bali.html; Domain=.tripadvisor.co.id; Path=/\n",
      "header: Set-Cookie: datadome=2l-xBnKMw3-wGW30r6yj9sXgjglmscHLcECmjy_Y6WSGp7i~cz9mYJqbqKl8tX87sFvKyHhNXFc31WCXPM3-~X3Co-h~rS2O_ZmKpqzIGQvjSFe7VPiEZ9cEk~93zGU1; Max-Age=31104000; Domain=.tripadvisor.co.id; Path=/; Secure; SameSite=Lax\n",
      "Done Scrapping Munari Resort Ubud page 7\n",
      "\n",
      "\n"
     ]
    },
    {
     "name": "stderr",
     "output_type": "stream",
     "text": [
      "DEBUG:urllib3.connectionpool:Starting new HTTPS connection (1): www.tripadvisor.co.id:443\n"
     ]
    },
    {
     "name": "stdout",
     "output_type": "stream",
     "text": [
      "send: b'GET /Hotel_Review-g1933359-d2587987-Reviews-or40-Munari_Resort_Ubud-Kedewatan_Ubud_Gianyar_Regency_Bali.html HTTP/1.1\\r\\nHost: www.tripadvisor.co.id\\r\\nUser-Agent: Mozilla/5.0 (X11; CrOS x86_64 12871.102.0) AppleWebKit/537.36 (KHTML, like Gecko) Chrome/81.0.4044.141 Safari/537.36\\r\\nAccept-Encoding: gzip, deflate\\r\\nAccept: */*\\r\\nConnection: keep-alive\\r\\n\\r\\n'\n"
     ]
    },
    {
     "name": "stderr",
     "output_type": "stream",
     "text": [
      "DEBUG:urllib3.connectionpool:https://www.tripadvisor.co.id:443 \"GET /Hotel_Review-g1933359-d2587987-Reviews-or40-Munari_Resort_Ubud-Kedewatan_Ubud_Gianyar_Regency_Bali.html HTTP/1.1\" 200 None\n"
     ]
    },
    {
     "name": "stdout",
     "output_type": "stream",
     "text": [
      "reply: 'HTTP/1.1 200 OK\\r\\n'\n",
      "header: Server: envoy\n",
      "header: Link: <https://media-cdn.tripadvisor.com/media/>;rel=\"preconnect\";crossorigin\n",
      "header: Link: <https://media-cdn.tripadvisor.com/media/>;rel=\"dns-prefetch\"\n",
      "header: p3p: CP=\"NOI CURa ADMa DEVa TAIa OUR BUS IND UNI COM NAV INT DSP COR CAO PSA IDC ADM DEVi TAIi PSD IVAi IVDi CONi HIS CNT\"\n",
      "header: Pragma: no-cache\n",
      "header: Cache-Control: no-cache, no-store, must-revalidate\n",
      "header: Expires: 0\n",
      "header: Content-Language: id\n",
      "header: Link: <https://static.tacdn.com>;rel=\"dns-prefetch\"\n",
      "header: Link: <https://static.tacdn.com>;rel=\"preconnect\";crossorigin\n",
      "header: timing-allow-origin: https://www.tripadvisor.com\n",
      "header: Vary: Accept-Encoding\n",
      "header: Content-Type: text/html;charset=UTF-8\n",
      "header: Accept-CH: Sec-CH-UA,Sec-CH-UA-Mobile,Sec-CH-UA-Platform,Sec-CH-UA-Arch,Sec-CH-UA-Full-Version-List,Sec-CH-UA-Model,Sec-CH-Device-Memory\n",
      "header: x-datadome: protected\n",
      "header: Content-Encoding: gzip\n",
      "header: x-request-id: de787237-d4cc-4a7c-93f5-38d36b3b8c43\n",
      "header: Date: Wed, 24 May 2023 22:59:17 GMT\n",
      "header: Transfer-Encoding: chunked\n",
      "header: Connection: keep-alive\n",
      "header: Connection: Transfer-Encoding\n",
      "header: Set-Cookie: TADCID=iJtL2rshl_wY_XaUABQCXdElnkGETRW-Svh01l3nWnW8UJaRHeP_0-5Sc2L__ww92oVswtygdnrx42szV3MV3WuV79UTQbJm9Hc; Domain=www.tripadvisor.co.id; Expires=Sat, 21-May-2033 22:59:16 GMT; Path=/; Secure; HttpOnly\n",
      "header: Set-Cookie: TAUnique=%1%enc%3Adzoe5sVge0%2BCNtgs%2BCN3NnGfQMMEYPnqJ%2FSiCugs5iFZrdJoEqNAOg%3D%3D; Domain=.tripadvisor.co.id; Expires=Fri, 23-May-2025 22:59:16 GMT; Path=/; HttpOnly\n",
      "header: Set-Cookie: TASSK=enc%3AABe9wV81q2ZB65%2Fg7wum923F4B70U6HQx51hclxqhJGtfJ4mr7V4t2kmA10kBFnBBDzfX6cyNs1ZuiIhUYYbvX%2B17Pgo915ipwcam4ENutjSdjttQEAwc4SOt40y82%2FhtA%3D%3D; Domain=www.tripadvisor.co.id; Expires=Mon, 20-Nov-2023 22:59:16 GMT; Path=/; HttpOnly\n",
      "header: Set-Cookie: TASession=V2ID.69688CEE97D941648C3F4AB4ADF52D27*SQ.1*HS.recommended*ES.popularity*DS.5*SAS.popularity*FPS.oldFirst*LF.in*FA.1*DF.0*TRA.true*LD.2587987; Domain=.tripadvisor.co.id; Path=/\n",
      "header: Set-Cookie: ServerPool=A; Domain=.tripadvisor.co.id; Path=/\n",
      "header: Set-Cookie: PMC=V2*MS.87*MD.20230524*LD.20230524; Domain=www.tripadvisor.co.id; Expires=Fri, 23-May-2025 22:59:16 GMT; Path=/; Secure; HttpOnly\n",
      "header: Set-Cookie: TART=%1%enc%3AgjbYLPgjdzaxS15%2BRWc46mgEGy0GihtiC5DJOKxK6ckkMqmm4atgljBq1YrfB%2FAiUeZzOThrAvM%3D; Domain=www.tripadvisor.co.id; Expires=Mon, 29-May-2023 22:59:16 GMT; Path=/; HttpOnly\n",
      "header: Set-Cookie: CM=%1%PremiumMobSess%2C%2C-1%7Ct4b-pc%2C%2C-1%7CRestAds%2FRPers%2C%2C-1%7CRCPers%2C%2C-1%7CWShadeSeen%2C%2C-1%7CTheForkMCCPers%2C%2C-1%7CHomeASess%2C%2C-1%7CPremiumMCSess%2C%2C-1%7CCrisisSess%2C%2C-1%7CUVOwnersSess%2C%2C-1%7CRestPremRSess%2C%2C-1%7CRepTarMCSess%2C%2C-1%7CCCSess%2C%2C-1%7CCYLSess%2C%2C-1%7CPremRetPers%2C%2C-1%7CViatorMCPers%2C%2C-1%7Csesssticker%2C%2C-1%7C%24%2C%2C-1%7CPremiumORSess%2C%2C-1%7Ct4b-sc%2C%2C-1%7CRestAdsPers%2C%2C-1%7CMC_IB_UPSELL_IB_LOGOS2%2C%2C-1%7CTSMCPers%2C%2C-1%7Cb2bmcpers%2C%2C-1%7CPremMCBtmSess%2C%2C-1%7CMC_IB_UPSELL_IB_LOGOS%2C%2C-1%7CLaFourchette+Banners%2C%2C-1%7Csess_rev%2C%2C-1%7Csessamex%2C%2C-1%7CPremiumRRSess%2C%2C-1%7CTADORSess%2C%2C-1%7CAdsRetPers%2C%2C-1%7CListMCSess%2C%2C-1%7CTARSWBPers%2C%2C-1%7CSPMCSess%2C%2C-1%7CTheForkORSess%2C%2C-1%7CTheForkRRSess%2C%2C-1%7Cpers_rev%2C%2C-1%7CRBAPers%2C%2C-1%7CRestAds%2FRSess%2C%2C-1%7CHomeAPers%2C%2C-1%7CPremiumMobPers%2C%2C-1%7CRCSess%2C%2C-1%7CLaFourchette+MC+Banners%2C%2C-1%7CRestAdsCCSess%2C%2C-1%7CRestPremRPers%2C%2C-1%7CRevHubRMPers%2C%2C-1%7CUVOwnersPers%2C%2C-1%7Cpssamex%2C%2C-1%7CTheForkMCCSess%2C%2C-1%7CCrisisPers%2C%2C-1%7CCYLPers%2C%2C-1%7CCCPers%2C%2C-1%7CRepTarMCPers%2C%2C-1%7Cb2bmcsess%2C%2C-1%7CTSMCSess%2C%2C-1%7CSPMCPers%2C%2C-1%7CRevHubRMSess%2C%2C-1%7CPremRetSess%2C%2C-1%7CViatorMCSess%2C%2C-1%7CPremiumMCPers%2C%2C-1%7CAdsRetSess%2C%2C-1%7CPremiumRRPers%2C%2C-1%7CRestAdsCCPers%2C%2C-1%7CTADORPers%2C%2C-1%7CTheForkORPers%2C%2C-1%7CPremMCBtmPers%2C%2C-1%7CTheForkRRPers%2C%2C-1%7CTARSWBSess%2C%2C-1%7CPremiumORPers%2C%2C-1%7CRestAdsSess%2C%2C-1%7CRBASess%2C%2C-1%7CSPORPers%2C%2C-1%7Cperssticker%2C%2C-1%7CListMCPers%2C%2C-1%7C; Domain=.tripadvisor.co.id; Expires=Sat, 21-May-2033 22:59:16 GMT; Path=/\n",
      "header: Set-Cookie: BEPIN=%1%1884ffcef4c%3Bweb221a.a.tripadvisor.com%3A30023%3B; Domain=.tripadvisor.co.id; Path=/\n",
      "header: Set-Cookie: PAC=ADKjLkuhSG-Q0Diojg8H1jaqudBF1_q0Bs1T_M7V6SjK65gtU-al-yBDNlTbq-b9mF1OeHz2qZlK5iX94jDsiz8N_iS4pj-pOOZnel0pDY8FjxmIDp5beSVtukT4cP0wo9tiIEGkMaxSWv_yxsfi9Cm_jssyngHLWNit-9t7mYNVHZ6KGrlr_YXhTgSQ326x_2MVNLqMMYCfCQpdJipVL9-MJIvv8-JTTK5L61ktdZ0l; Domain=www.tripadvisor.co.id; Expires=Fri, 23-May-2025 22:59:16 GMT; Path=/; Secure; HttpOnly\n",
      "header: Set-Cookie: SRT=TART_SYNC; Domain=www.tripadvisor.co.id; Expires=Wed, 24-May-2023 23:29:16 GMT; Path=/\n",
      "header: Set-Cookie: TATravelInfo=V2*AY.2023*AM.6*AD.4*DY.2023*DM.6*DD.5*A.2*MG.-1*HP.2*FL.3*DSM.1684969156504*RS.1; Domain=.tripadvisor.co.id; Expires=Wed, 07-Jun-2023 22:59:16 GMT; Path=/\n",
      "header: Set-Cookie: TAUD=LG-1684969156394-2.1.F.*RDD-2-2023_05_25*HDD-3-2023_06_04.2023_06_05.1; Domain=.tripadvisor.co.id; Expires=Wed, 07-Jun-2023 22:59:16 GMT; Path=/\n",
      "header: Set-Cookie: TASID=69688CEE97D941648C3F4AB4ADF52D27; Domain=www.tripadvisor.co.id; Expires=Wed, 24-May-2023 23:29:16 GMT; Path=/; Secure\n",
      "header: Set-Cookie: TAReturnTo=%1%%2FHotel_Review-g1933359-d2587987-Reviews-or40-Munari_Resort_Ubud-Kedewatan_Ubud_Gianyar_Regency_Bali.html; Domain=.tripadvisor.co.id; Path=/\n",
      "header: Set-Cookie: datadome=7lHdcDKQfk0Ex5jbQ~xQQ-vGx2ulQ46uk9~dAdpDhMRvVxWOnrLIDJ0mQ~BmoFXV_G4Hnbq8VUc0PAxNSlFn6Yec8mzVQBxADBipm-Q9Hh~av~8kqBRfP82T0Jb_~Olu; Max-Age=31104000; Domain=.tripadvisor.co.id; Path=/; Secure; SameSite=Lax\n"
     ]
    },
    {
     "name": "stderr",
     "output_type": "stream",
     "text": [
      "DEBUG:urllib3.connectionpool:Starting new HTTPS connection (1): www.tripadvisor.co.id:443\n"
     ]
    },
    {
     "name": "stdout",
     "output_type": "stream",
     "text": [
      "Start Scrapping: Yoga Searcher Bali\n",
      "send: b'GET /Hotel_Review-g1380108-d9750705-Reviews-or5-Yoga_Searcher_Bali-Pecatu_Bukit_Peninsula_Bali.html HTTP/1.1\\r\\nHost: www.tripadvisor.co.id\\r\\nUser-Agent: Mozilla/5.0 (X11; CrOS x86_64 12871.102.0) AppleWebKit/537.36 (KHTML, like Gecko) Chrome/81.0.4044.141 Safari/537.36\\r\\nAccept-Encoding: gzip, deflate\\r\\nAccept: */*\\r\\nConnection: keep-alive\\r\\n\\r\\n'\n"
     ]
    },
    {
     "name": "stderr",
     "output_type": "stream",
     "text": [
      "DEBUG:urllib3.connectionpool:https://www.tripadvisor.co.id:443 \"GET /Hotel_Review-g1380108-d9750705-Reviews-or5-Yoga_Searcher_Bali-Pecatu_Bukit_Peninsula_Bali.html HTTP/1.1\" 200 None\n"
     ]
    },
    {
     "name": "stdout",
     "output_type": "stream",
     "text": [
      "reply: 'HTTP/1.1 200 OK\\r\\n'\n",
      "header: Server: envoy\n",
      "header: Link: <https://media-cdn.tripadvisor.com/media/>;rel=\"preconnect\";crossorigin\n",
      "header: Link: <https://media-cdn.tripadvisor.com/media/>;rel=\"dns-prefetch\"\n",
      "header: p3p: CP=\"NOI CURa ADMa DEVa TAIa OUR BUS IND UNI COM NAV INT DSP COR CAO PSA IDC ADM DEVi TAIi PSD IVAi IVDi CONi HIS CNT\"\n",
      "header: Pragma: no-cache\n",
      "header: Cache-Control: no-cache, no-store, must-revalidate\n",
      "header: Expires: 0\n",
      "header: Content-Language: id\n",
      "header: Link: <https://static.tacdn.com>;rel=\"dns-prefetch\"\n",
      "header: Link: <https://static.tacdn.com>;rel=\"preconnect\";crossorigin\n",
      "header: timing-allow-origin: https://www.tripadvisor.com\n",
      "header: Vary: Accept-Encoding\n",
      "header: Content-Type: text/html;charset=UTF-8\n",
      "header: Accept-CH: Sec-CH-UA,Sec-CH-UA-Mobile,Sec-CH-UA-Platform,Sec-CH-UA-Arch,Sec-CH-UA-Full-Version-List,Sec-CH-UA-Model,Sec-CH-Device-Memory\n",
      "header: x-datadome: protected\n",
      "header: Content-Encoding: gzip\n",
      "header: x-request-id: c9ebf529-c9ca-4a7e-88b9-c3c03bfec1a3\n",
      "header: Date: Wed, 24 May 2023 22:59:18 GMT\n",
      "header: Transfer-Encoding: chunked\n",
      "header: Connection: keep-alive\n",
      "header: Connection: Transfer-Encoding\n",
      "header: Set-Cookie: TADCID=YcO21vQRXjq3cXNLABQCXdElnkGETRW-Svh01l3nWnW8UISQpL4Ca9gE1lQTaO-FZi-TUHeB1ZtP2NYD707LVBeSRlhiY0NvYWk; Domain=www.tripadvisor.co.id; Expires=Sat, 21-May-2033 22:59:17 GMT; Path=/; Secure; HttpOnly\n",
      "header: Set-Cookie: TAUnique=%1%enc%3ASLqk%2B6khUnyCNtgs%2BCN3NnGfQMMEYPnqPPawN6h8ioPmTjzLURaNfA%3D%3D; Domain=.tripadvisor.co.id; Expires=Fri, 23-May-2025 22:59:17 GMT; Path=/; HttpOnly\n",
      "header: Set-Cookie: TASSK=enc%3AAJQXwoEsejrwys1awuwPA96KaEp61Aydi0aKdoqO95OFo%2FKn2qx64lOcURQb%2Bt8ebVieZG0Zp7m7upE4uyPToLRnESxwNu%2BSVPpUl15Jl09rg%2BmUmsCxjGUCrp3Aes59UA%3D%3D; Domain=www.tripadvisor.co.id; Expires=Mon, 20-Nov-2023 22:59:18 GMT; Path=/; HttpOnly\n",
      "header: Set-Cookie: TASession=V2ID.78EBA983ECDC44A18D5BDAA0A86607DB*SQ.1*HS.recommended*ES.popularity*DS.5*SAS.popularity*FPS.oldFirst*LF.in*FA.1*DF.0*TRA.true*LD.9750705; Domain=.tripadvisor.co.id; Path=/\n",
      "header: Set-Cookie: ServerPool=X; Domain=.tripadvisor.co.id; Path=/\n",
      "header: Set-Cookie: PMC=V2*MS.3*MD.20230524*LD.20230524; Domain=www.tripadvisor.co.id; Expires=Fri, 23-May-2025 22:59:18 GMT; Path=/; Secure; HttpOnly\n",
      "header: Set-Cookie: TART=%1%enc%3AgjbYLPgjdzaxS15%2BRWc46nivj2c%2F5nHanXGpsUZoRYr1JgK9N7SD%2B2YAP2VpY8L7S9eBSUvctR4%3D; Domain=www.tripadvisor.co.id; Expires=Mon, 29-May-2023 22:59:18 GMT; Path=/; HttpOnly\n",
      "header: Set-Cookie: CM=%1%PremiumMobSess%2C%2C-1%7Ct4b-pc%2C%2C-1%7CRestAds%2FRPers%2C%2C-1%7CRCPers%2C%2C-1%7CWShadeSeen%2C%2C-1%7CTheForkMCCPers%2C%2C-1%7CHomeASess%2C%2C-1%7CPremiumMCSess%2C%2C-1%7CCrisisSess%2C%2C-1%7CUVOwnersSess%2C%2C-1%7CRestPremRSess%2C%2C-1%7CRepTarMCSess%2C%2C-1%7CCCSess%2C%2C-1%7CCYLSess%2C%2C-1%7CPremRetPers%2C%2C-1%7CViatorMCPers%2C%2C-1%7Csesssticker%2C%2C-1%7C%24%2C%2C-1%7CPremiumORSess%2C%2C-1%7Ct4b-sc%2C%2C-1%7CRestAdsPers%2C%2C-1%7CMC_IB_UPSELL_IB_LOGOS2%2C%2C-1%7CTSMCPers%2C%2C-1%7Cb2bmcpers%2C%2C-1%7CPremMCBtmSess%2C%2C-1%7CMC_IB_UPSELL_IB_LOGOS%2C%2C-1%7CLaFourchette+Banners%2C%2C-1%7Csess_rev%2C%2C-1%7Csessamex%2C%2C-1%7CPremiumRRSess%2C%2C-1%7CTADORSess%2C%2C-1%7CAdsRetPers%2C%2C-1%7CListMCSess%2C%2C-1%7CTARSWBPers%2C%2C-1%7CSPMCSess%2C%2C-1%7CTheForkORSess%2C%2C-1%7CTheForkRRSess%2C%2C-1%7Cpers_rev%2C%2C-1%7CRBAPers%2C%2C-1%7CRestAds%2FRSess%2C%2C-1%7CHomeAPers%2C%2C-1%7CPremiumMobPers%2C%2C-1%7CRCSess%2C%2C-1%7CLaFourchette+MC+Banners%2C%2C-1%7CRestAdsCCSess%2C%2C-1%7CRestPremRPers%2C%2C-1%7CRevHubRMPers%2C%2C-1%7CUVOwnersPers%2C%2C-1%7Cpssamex%2C%2C-1%7CTheForkMCCSess%2C%2C-1%7CCrisisPers%2C%2C-1%7CCYLPers%2C%2C-1%7CCCPers%2C%2C-1%7CRepTarMCPers%2C%2C-1%7Cb2bmcsess%2C%2C-1%7CTSMCSess%2C%2C-1%7CSPMCPers%2C%2C-1%7CRevHubRMSess%2C%2C-1%7CPremRetSess%2C%2C-1%7CViatorMCSess%2C%2C-1%7CPremiumMCPers%2C%2C-1%7CAdsRetSess%2C%2C-1%7CPremiumRRPers%2C%2C-1%7CRestAdsCCPers%2C%2C-1%7CTADORPers%2C%2C-1%7CTheForkORPers%2C%2C-1%7CPremMCBtmPers%2C%2C-1%7CTheForkRRPers%2C%2C-1%7CTARSWBSess%2C%2C-1%7CPremiumORPers%2C%2C-1%7CRestAdsSess%2C%2C-1%7CRBASess%2C%2C-1%7CSPORPers%2C%2C-1%7Cperssticker%2C%2C-1%7CListMCPers%2C%2C-1%7C; Domain=.tripadvisor.co.id; Expires=Sat, 21-May-2033 22:59:18 GMT; Path=/\n",
      "header: Set-Cookie: BEPIN=%1%1884ffcf460%3Bweb607a.a.tripadvisor.com%3A30023%3B; Domain=.tripadvisor.co.id; Path=/\n",
      "header: Set-Cookie: PAC=ANnI8nm28RLn6_LXrtNsP27sqEFyhFPoAVTURlShAvprldx3hrk5VEKnv1PstrMt4yZB5pCFg6MpIdXuvmCgjxYOetQnLrZBsVxIggr7YuJaPLIfKdkh4sachD4AjAQZZQX871cvnKC_5t0rknR-B59LYFlFO7tRQ7wj85vXCU_fgKzmbbEz7IykSeeZMygZemwRHbBgtY_t9gZ6Pf5NJ5erWGZxYk4k1NmFMjpQtSz4; Domain=www.tripadvisor.co.id; Expires=Fri, 23-May-2025 22:59:18 GMT; Path=/; Secure; HttpOnly\n",
      "header: Set-Cookie: SRT=TART_SYNC; Domain=www.tripadvisor.co.id; Expires=Wed, 24-May-2023 23:29:18 GMT; Path=/\n",
      "header: Set-Cookie: TATravelInfo=V2*AY.2023*AM.6*AD.4*DY.2023*DM.6*DD.5*A.2*MG.-1*HP.2*FL.3*DSM.1684969157824*RS.1; Domain=.tripadvisor.co.id; Expires=Wed, 07-Jun-2023 22:59:18 GMT; Path=/\n",
      "header: Set-Cookie: TAUD=LG-1684969157691-2.1.F.*RDD-2-2023_05_25*HDD-3-2023_06_04.2023_06_05.1; Domain=.tripadvisor.co.id; Expires=Wed, 07-Jun-2023 22:59:18 GMT; Path=/\n",
      "header: Set-Cookie: TASID=78EBA983ECDC44A18D5BDAA0A86607DB; Domain=www.tripadvisor.co.id; Expires=Wed, 24-May-2023 23:29:18 GMT; Path=/; Secure\n",
      "header: Set-Cookie: TAReturnTo=%1%%2FHotel_Review-g1380108-d9750705-Reviews-or5-Yoga_Searcher_Bali-Pecatu_Bukit_Peninsula_Bali.html; Domain=.tripadvisor.co.id; Path=/\n",
      "header: Set-Cookie: datadome=t94Lgo8ZdMLBdovWE8xAWavCDEQUqUx7SULMevUUacMfnjl4EDgYGNOyTmkcb7o-ZPCFBkscgMiA~3WVCY8yXQ5oGXWsXcbLbQwEB8rMW62ys0OY-vxdMj6VtdT7x42; Max-Age=31104000; Domain=.tripadvisor.co.id; Path=/; Secure; SameSite=Lax\n",
      "Done Scrapping Yoga Searcher Bali page 1\n",
      "\n",
      "\n"
     ]
    },
    {
     "name": "stderr",
     "output_type": "stream",
     "text": [
      "DEBUG:urllib3.connectionpool:Starting new HTTPS connection (1): www.tripadvisor.co.id:443\n"
     ]
    },
    {
     "name": "stdout",
     "output_type": "stream",
     "text": [
      "send: b'GET /Hotel_Review-g1380108-d9750705-Reviews-or10-Yoga_Searcher_Bali-Pecatu_Bukit_Peninsula_Bali.html HTTP/1.1\\r\\nHost: www.tripadvisor.co.id\\r\\nUser-Agent: Mozilla/5.0 (X11; CrOS x86_64 12871.102.0) AppleWebKit/537.36 (KHTML, like Gecko) Chrome/81.0.4044.141 Safari/537.36\\r\\nAccept-Encoding: gzip, deflate\\r\\nAccept: */*\\r\\nConnection: keep-alive\\r\\n\\r\\n'\n"
     ]
    },
    {
     "name": "stderr",
     "output_type": "stream",
     "text": [
      "DEBUG:urllib3.connectionpool:https://www.tripadvisor.co.id:443 \"GET /Hotel_Review-g1380108-d9750705-Reviews-or10-Yoga_Searcher_Bali-Pecatu_Bukit_Peninsula_Bali.html HTTP/1.1\" 200 None\n"
     ]
    },
    {
     "name": "stdout",
     "output_type": "stream",
     "text": [
      "reply: 'HTTP/1.1 200 OK\\r\\n'\n",
      "header: Server: envoy\n",
      "header: Link: <https://media-cdn.tripadvisor.com/media/>;rel=\"preconnect\";crossorigin\n",
      "header: Link: <https://media-cdn.tripadvisor.com/media/>;rel=\"dns-prefetch\"\n",
      "header: p3p: CP=\"NOI CURa ADMa DEVa TAIa OUR BUS IND UNI COM NAV INT DSP COR CAO PSA IDC ADM DEVi TAIi PSD IVAi IVDi CONi HIS CNT\"\n",
      "header: Pragma: no-cache\n",
      "header: Cache-Control: no-cache, no-store, must-revalidate\n",
      "header: Expires: 0\n",
      "header: Content-Language: id\n",
      "header: Link: <https://static.tacdn.com>;rel=\"dns-prefetch\"\n",
      "header: Link: <https://static.tacdn.com>;rel=\"preconnect\";crossorigin\n",
      "header: timing-allow-origin: https://www.tripadvisor.com\n",
      "header: Vary: Accept-Encoding\n",
      "header: Content-Type: text/html;charset=UTF-8\n",
      "header: Accept-CH: Sec-CH-UA,Sec-CH-UA-Mobile,Sec-CH-UA-Platform,Sec-CH-UA-Arch,Sec-CH-UA-Full-Version-List,Sec-CH-UA-Model,Sec-CH-Device-Memory\n",
      "header: x-datadome: protected\n",
      "header: Content-Encoding: gzip\n",
      "header: x-request-id: dd06e4a3-048f-4d69-96b5-91a2d93f97bf\n",
      "header: Date: Wed, 24 May 2023 22:59:22 GMT\n",
      "header: Transfer-Encoding: chunked\n",
      "header: Connection: keep-alive\n",
      "header: Connection: Transfer-Encoding\n",
      "header: Set-Cookie: TADCID=wIIHeg0ZmL9BRjpdABQCXdElnkGETRW-Svh01l3nWnW8UKsekIPdNO8WV-QFmcL34IpD0u-mduviDXHGuWbfRSq0A6LA4-qNZn0; Domain=www.tripadvisor.co.id; Expires=Sat, 21-May-2033 22:59:21 GMT; Path=/; Secure; HttpOnly\n",
      "header: Set-Cookie: TAUnique=%1%enc%3AjZbvR9B%2B2WGCNtgs%2BCN3NnGfQMMEYPnqE%2FfCnLl6EFFZwk2olVnrJA%3D%3D; Domain=.tripadvisor.co.id; Expires=Fri, 23-May-2025 22:59:21 GMT; Path=/; HttpOnly\n",
      "header: Set-Cookie: TASSK=enc%3AALp2CPZVrIGqLmlznUybYI5GeZa86zVOZ%2Bp8x%2BaDCoi6c686aBAfVU765I5rAm5tEQ6V9WkJS7GFtmQ99FvH0tHcssbSRsPZuMqLbXAnps47%2B768REfg7hyA8nEWI9jAsA%3D%3D; Domain=www.tripadvisor.co.id; Expires=Mon, 20-Nov-2023 22:59:22 GMT; Path=/; HttpOnly\n",
      "header: Set-Cookie: TASession=V2ID.41946B6F3E9D46A2AF4BE0E2BED4E1A7*SQ.1*HS.recommended*ES.popularity*DS.5*SAS.popularity*FPS.oldFirst*LF.in*FA.1*DF.0*TRA.true*LD.9750705; Domain=.tripadvisor.co.id; Path=/\n",
      "header: Set-Cookie: ServerPool=B; Domain=.tripadvisor.co.id; Path=/\n",
      "header: Set-Cookie: PMC=V2*MS.100*MD.20230524*LD.20230524; Domain=www.tripadvisor.co.id; Expires=Fri, 23-May-2025 22:59:22 GMT; Path=/; Secure; HttpOnly\n",
      "header: Set-Cookie: TART=%1%enc%3AgjbYLPgjdzaxS15%2BRWc46hOkGtUKoAAWMeJuz0wqG2CCA%2F1gw%2BslP3He5EABDg1sHV7ZfoyBeCw%3D; Domain=www.tripadvisor.co.id; Expires=Mon, 29-May-2023 22:59:22 GMT; Path=/; HttpOnly\n",
      "header: Set-Cookie: CM=%1%PremiumMobSess%2C%2C-1%7Ct4b-pc%2C%2C-1%7CRestAds%2FRPers%2C%2C-1%7CRCPers%2C%2C-1%7CWShadeSeen%2C%2C-1%7CTheForkMCCPers%2C%2C-1%7CHomeASess%2C%2C-1%7CPremiumMCSess%2C%2C-1%7CCrisisSess%2C%2C-1%7CUVOwnersSess%2C%2C-1%7CRestPremRSess%2C%2C-1%7CRepTarMCSess%2C%2C-1%7CCCSess%2C%2C-1%7CCYLSess%2C%2C-1%7CPremRetPers%2C%2C-1%7CViatorMCPers%2C%2C-1%7Csesssticker%2C%2C-1%7C%24%2C%2C-1%7CPremiumORSess%2C%2C-1%7Ct4b-sc%2C%2C-1%7CRestAdsPers%2C%2C-1%7CMC_IB_UPSELL_IB_LOGOS2%2C%2C-1%7CTSMCPers%2C%2C-1%7Cb2bmcpers%2C%2C-1%7CPremMCBtmSess%2C%2C-1%7CMC_IB_UPSELL_IB_LOGOS%2C%2C-1%7CLaFourchette+Banners%2C%2C-1%7Csess_rev%2C%2C-1%7Csessamex%2C%2C-1%7CPremiumRRSess%2C%2C-1%7CTADORSess%2C%2C-1%7CAdsRetPers%2C%2C-1%7CListMCSess%2C%2C-1%7CTARSWBPers%2C%2C-1%7CSPMCSess%2C%2C-1%7CTheForkORSess%2C%2C-1%7CTheForkRRSess%2C%2C-1%7Cpers_rev%2C%2C-1%7CRBAPers%2C%2C-1%7CRestAds%2FRSess%2C%2C-1%7CHomeAPers%2C%2C-1%7CPremiumMobPers%2C%2C-1%7CRCSess%2C%2C-1%7CLaFourchette+MC+Banners%2C%2C-1%7CRestAdsCCSess%2C%2C-1%7CRestPremRPers%2C%2C-1%7CRevHubRMPers%2C%2C-1%7CUVOwnersPers%2C%2C-1%7Cpssamex%2C%2C-1%7CTheForkMCCSess%2C%2C-1%7CCrisisPers%2C%2C-1%7CCYLPers%2C%2C-1%7CCCPers%2C%2C-1%7CRepTarMCPers%2C%2C-1%7Cb2bmcsess%2C%2C-1%7CTSMCSess%2C%2C-1%7CSPMCPers%2C%2C-1%7CRevHubRMSess%2C%2C-1%7CPremRetSess%2C%2C-1%7CViatorMCSess%2C%2C-1%7CPremiumMCPers%2C%2C-1%7CAdsRetSess%2C%2C-1%7CPremiumRRPers%2C%2C-1%7CRestAdsCCPers%2C%2C-1%7CTADORPers%2C%2C-1%7CTheForkORPers%2C%2C-1%7CPremMCBtmPers%2C%2C-1%7CTheForkRRPers%2C%2C-1%7CTARSWBSess%2C%2C-1%7CPremiumORPers%2C%2C-1%7CRestAdsSess%2C%2C-1%7CRBASess%2C%2C-1%7CSPORPers%2C%2C-1%7Cperssticker%2C%2C-1%7CListMCPers%2C%2C-1%7C; Domain=.tripadvisor.co.id; Expires=Sat, 21-May-2033 22:59:22 GMT; Path=/\n",
      "header: Set-Cookie: BEPIN=%1%1884ffd0527%3Bweb305a.a.tripadvisor.com%3A30023%3B; Domain=.tripadvisor.co.id; Path=/\n",
      "header: Set-Cookie: PAC=ADwnMHk3ffo0XA4XYhFY_Xh-YkKIIOflqDJTWLe_19taluEe9Ur0pnOrxHtegB2YoDOEy6V81bfuLgeU6kReyDMFHlrxPPgZ3FcPUDj8M3q5dRDpbuqJh38Npi2AJZkWV2r9wv5Tlblgqx8RxeXsTkQG_Ub1d1enKCJe1sRAkgyxnhqEnA7hKdnkQYzR7mvArvxIeE0_Kbg-Q_LA3uG3swftVIMCTbfVRTBKUdlETDQo; Domain=www.tripadvisor.co.id; Expires=Fri, 23-May-2025 22:59:22 GMT; Path=/; Secure; HttpOnly\n",
      "header: Set-Cookie: SRT=TART_SYNC; Domain=www.tripadvisor.co.id; Expires=Wed, 24-May-2023 23:29:22 GMT; Path=/\n",
      "header: Set-Cookie: TATravelInfo=V2*AY.2023*AM.6*AD.4*DY.2023*DM.6*DD.5*A.2*MG.-1*HP.2*FL.3*DSM.1684969162103*RS.1; Domain=.tripadvisor.co.id; Expires=Wed, 07-Jun-2023 22:59:22 GMT; Path=/\n",
      "header: Set-Cookie: TAUD=LG-1684969161985-2.1.F.*RDD-2-2023_05_25*HDD-3-2023_06_04.2023_06_05.1; Domain=.tripadvisor.co.id; Expires=Wed, 07-Jun-2023 22:59:22 GMT; Path=/\n",
      "header: Set-Cookie: TASID=41946B6F3E9D46A2AF4BE0E2BED4E1A7; Domain=www.tripadvisor.co.id; Expires=Wed, 24-May-2023 23:29:22 GMT; Path=/; Secure\n",
      "header: Set-Cookie: TAReturnTo=%1%%2FHotel_Review-g1380108-d9750705-Reviews-or10-Yoga_Searcher_Bali-Pecatu_Bukit_Peninsula_Bali.html; Domain=.tripadvisor.co.id; Path=/\n",
      "header: Set-Cookie: datadome=16b2hIVgcBNP7JcM3zEU_yDg9qk4~qqxP7YVHZ6vuVqlOm8LjJ3Jh8OzFMHPsV45wMDd5X6hskaAlgBaqm-LFABzQ0Pzc~DfGQW~Dva_llusBF56Q9J2f_ocfXiLZ6dK; Max-Age=31104000; Domain=.tripadvisor.co.id; Path=/; Secure; SameSite=Lax\n",
      "Done Scrapping Yoga Searcher Bali page 2\n",
      "\n",
      "\n"
     ]
    }
   ],
   "source": [
    "hotelScraper()"
   ]
  },
  {
   "cell_type": "code",
   "execution_count": 46,
   "metadata": {
    "ExecuteTime": {
     "end_time": "2023-05-24T21:30:10.268873Z",
     "start_time": "2023-05-24T21:30:10.259901Z"
    },
    "colab": {
     "base_uri": "https://localhost:8080/"
    },
    "executionInfo": {
     "elapsed": 9,
     "status": "ok",
     "timestamp": 1682988686776,
     "user": {
      "displayName": "Prentino Barus",
      "userId": "03956176104375021641"
     },
     "user_tz": -420
    },
    "id": "qt5L-N2O2tz4",
    "outputId": "7bff15ee-8b14-4c2d-e5b7-78ce5bd877d9",
    "scrolled": true
   },
   "outputs": [
    {
     "name": "stdout",
     "output_type": "stream",
     "text": [
      "All done.\n"
     ]
    }
   ],
   "source": [
    "print(\"All done.\")"
   ]
  },
  {
   "cell_type": "code",
   "execution_count": null,
   "metadata": {},
   "outputs": [],
   "source": []
  }
 ],
 "metadata": {
  "colab": {
   "authorship_tag": "ABX9TyOv9x4QZrku5vhfQSMhcBl6",
   "name": "",
   "version": ""
  },
  "kernelspec": {
   "display_name": "Python 3 (ipykernel)",
   "language": "python",
   "name": "python3"
  },
  "language_info": {
   "codemirror_mode": {
    "name": "ipython",
    "version": 3
   },
   "file_extension": ".py",
   "mimetype": "text/x-python",
   "name": "python",
   "nbconvert_exporter": "python",
   "pygments_lexer": "ipython3",
   "version": "3.7.16"
  }
 },
 "nbformat": 4,
 "nbformat_minor": 4
}
