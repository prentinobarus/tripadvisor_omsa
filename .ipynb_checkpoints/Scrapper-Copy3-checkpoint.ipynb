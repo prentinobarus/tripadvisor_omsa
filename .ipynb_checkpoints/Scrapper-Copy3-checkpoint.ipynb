{
 "cells": [
  {
   "cell_type": "code",
   "execution_count": 1,
   "metadata": {
    "ExecuteTime": {
     "end_time": "2023-05-24T01:25:37.429094Z",
     "start_time": "2023-05-24T01:25:29.292171Z"
    },
    "colab": {
     "base_uri": "https://localhost:8080/"
    },
    "executionInfo": {
     "elapsed": 21074,
     "status": "ok",
     "timestamp": 1683074904984,
     "user": {
      "displayName": "Prentino Barus",
      "userId": "03956176104375021641"
     },
     "user_tz": -420
    },
    "id": "HF5KEFLikY5J",
    "outputId": "96859593-c037-4c33-d42d-e3d94620004d",
    "scrolled": true,
    "tags": []
   },
   "outputs": [
    {
     "name": "stdout",
     "output_type": "stream",
     "text": [
      "Requirement already satisfied: beautifulsoup4 in c:\\users\\tinob\\anaconda3\\envs\\tf_env\\lib\\site-packages (4.12.2)\n",
      "Requirement already satisfied: soupsieve>1.2 in c:\\users\\tinob\\anaconda3\\envs\\tf_env\\lib\\site-packages (from beautifulsoup4) (2.4.1)\n",
      "Requirement already satisfied: lxml in c:\\users\\tinob\\anaconda3\\envs\\tf_env\\lib\\site-packages (4.9.2)\n",
      "Requirement already satisfied: requests in c:\\users\\tinob\\anaconda3\\envs\\tf_env\\lib\\site-packages (2.30.0)\n",
      "Requirement already satisfied: charset-normalizer<4,>=2 in c:\\users\\tinob\\anaconda3\\envs\\tf_env\\lib\\site-packages (from requests) (3.1.0)\n",
      "Requirement already satisfied: idna<4,>=2.5 in c:\\users\\tinob\\anaconda3\\envs\\tf_env\\lib\\site-packages (from requests) (3.4)\n",
      "Requirement already satisfied: urllib3<3,>=1.21.1 in c:\\users\\tinob\\anaconda3\\envs\\tf_env\\lib\\site-packages (from requests) (2.0.2)\n",
      "Requirement already satisfied: certifi>=2017.4.17 in c:\\users\\tinob\\anaconda3\\envs\\tf_env\\lib\\site-packages (from requests) (2022.12.7)\n"
     ]
    }
   ],
   "source": [
    "!pip install beautifulsoup4\n",
    "!pip install lxml\n",
    "!pip install requests"
   ]
  },
  {
   "cell_type": "code",
   "execution_count": 2,
   "metadata": {
    "ExecuteTime": {
     "end_time": "2023-05-24T22:31:22.896435Z",
     "start_time": "2023-05-24T22:31:22.048454Z"
    },
    "execution": {
     "iopub.execute_input": "2023-05-26T01:11:48.228742Z",
     "iopub.status.busy": "2023-05-26T01:11:48.228742Z",
     "iopub.status.idle": "2023-05-26T01:11:51.645579Z",
     "shell.execute_reply": "2023-05-26T01:11:51.644549Z",
     "shell.execute_reply.started": "2023-05-26T01:11:48.228742Z"
    },
    "executionInfo": {
     "elapsed": 1114,
     "status": "ok",
     "timestamp": 1683074906091,
     "user": {
      "displayName": "Prentino Barus",
      "userId": "03956176104375021641"
     },
     "user_tz": -420
    },
    "id": "p_Uym38LlEtc",
    "tags": []
   },
   "outputs": [],
   "source": [
    "from bs4 import BeautifulSoup\n",
    "import requests\n",
    "import logging\n",
    "import http.client\n",
    "http.client.HTTPConnection.debuglevel = 1\n",
    "import pandas as pd\n",
    "import time\n",
    "import re\n",
    "import os"
   ]
  },
  {
   "cell_type": "code",
   "execution_count": 6,
   "metadata": {
    "ExecuteTime": {
     "end_time": "2023-05-24T22:46:05.086616Z",
     "start_time": "2023-05-24T22:46:04.948461Z"
    },
    "execution": {
     "iopub.execute_input": "2023-05-26T01:13:35.958737Z",
     "iopub.status.busy": "2023-05-26T01:13:35.957738Z",
     "iopub.status.idle": "2023-05-26T01:13:36.208181Z",
     "shell.execute_reply": "2023-05-26T01:13:36.207251Z",
     "shell.execute_reply.started": "2023-05-26T01:13:35.958737Z"
    },
    "id": "pHfGE1c4GQc1",
    "tags": []
   },
   "outputs": [
    {
     "name": "stdout",
     "output_type": "stream",
     "text": [
      "<class 'pandas.core.frame.DataFrame'>\n",
      "RangeIndex: 501 entries, 0 to 500\n",
      "Data columns (total 4 columns):\n",
      " #   Column        Non-Null Count  Dtype \n",
      "---  ------        --------------  ----- \n",
      " 0   hotel         501 non-null    object\n",
      " 1   hotel_link    501 non-null    object\n",
      " 2   review_count  501 non-null    int64 \n",
      " 3   hotel_name    501 non-null    object\n",
      "dtypes: int64(1), object(3)\n",
      "memory usage: 15.8+ KB\n"
     ]
    }
   ],
   "source": [
    "# List of Hotel's URL\n",
    "list_hotel = pd.read_excel('fix_hotel.xlsx', sheet_name='fix_hotel')\n",
    "list_hotel.loc[:500, :].info()"
   ]
  },
  {
   "cell_type": "code",
   "execution_count": 8,
   "metadata": {
    "execution": {
     "iopub.execute_input": "2023-05-26T01:14:06.611696Z",
     "iopub.status.busy": "2023-05-26T01:14:06.610700Z",
     "iopub.status.idle": "2023-05-26T01:14:06.714106Z",
     "shell.execute_reply": "2023-05-26T01:14:06.713140Z",
     "shell.execute_reply.started": "2023-05-26T01:14:06.610700Z"
    },
    "tags": []
   },
   "outputs": [
    {
     "data": {
      "text/html": [
       "<div>\n",
       "<style scoped>\n",
       "    .dataframe tbody tr th:only-of-type {\n",
       "        vertical-align: middle;\n",
       "    }\n",
       "\n",
       "    .dataframe tbody tr th {\n",
       "        vertical-align: top;\n",
       "    }\n",
       "\n",
       "    .dataframe thead th {\n",
       "        text-align: right;\n",
       "    }\n",
       "</style>\n",
       "<table border=\"1\" class=\"dataframe\">\n",
       "  <thead>\n",
       "    <tr style=\"text-align: right;\">\n",
       "      <th></th>\n",
       "      <th>hotel</th>\n",
       "      <th>hotel_link</th>\n",
       "      <th>review_count</th>\n",
       "      <th>hotel_name</th>\n",
       "    </tr>\n",
       "  </thead>\n",
       "  <tbody>\n",
       "    <tr>\n",
       "      <th>0</th>\n",
       "      <td>The Kampung Ubud Villa</td>\n",
       "      <td>https://www.tripadvisor.co.id/Hotel_Review-g29...</td>\n",
       "      <td>100</td>\n",
       "      <td>the_kampung_ubu</td>\n",
       "    </tr>\n",
       "    <tr>\n",
       "      <th>1</th>\n",
       "      <td>Puri Padi Hotel</td>\n",
       "      <td>https://www.tripadvisor.co.id/Hotel_Review-g29...</td>\n",
       "      <td>100</td>\n",
       "      <td>puri_padi_hotel</td>\n",
       "    </tr>\n",
       "    <tr>\n",
       "      <th>2</th>\n",
       "      <td>Melati Cottages</td>\n",
       "      <td>https://www.tripadvisor.co.id/Hotel_Review-g29...</td>\n",
       "      <td>100</td>\n",
       "      <td>melati_cottages</td>\n",
       "    </tr>\n",
       "    <tr>\n",
       "      <th>3</th>\n",
       "      <td>Gunung Merta Bungalows</td>\n",
       "      <td>https://www.tripadvisor.co.id/Hotel_Review-g29...</td>\n",
       "      <td>100</td>\n",
       "      <td>gunung_merta_bu</td>\n",
       "    </tr>\n",
       "    <tr>\n",
       "      <th>4</th>\n",
       "      <td>The Peacock Inn</td>\n",
       "      <td>https://www.tripadvisor.co.id/Hotel_Review-g29...</td>\n",
       "      <td>100</td>\n",
       "      <td>the_peacock_inn</td>\n",
       "    </tr>\n",
       "    <tr>\n",
       "      <th>...</th>\n",
       "      <td>...</td>\n",
       "      <td>...</td>\n",
       "      <td>...</td>\n",
       "      <td>...</td>\n",
       "    </tr>\n",
       "    <tr>\n",
       "      <th>1292</th>\n",
       "      <td>Bali Mandira Beach Resort &amp; Spa</td>\n",
       "      <td>https://www.tripadvisor.co.id/Hotel_Review-g60...</td>\n",
       "      <td>3919</td>\n",
       "      <td>bali_mandira_be</td>\n",
       "    </tr>\n",
       "    <tr>\n",
       "      <th>1293</th>\n",
       "      <td>Courtyard Bali Seminyak Resort</td>\n",
       "      <td>https://www.tripadvisor.co.id/Hotel_Review-g46...</td>\n",
       "      <td>4110</td>\n",
       "      <td>courtyard_bali_</td>\n",
       "    </tr>\n",
       "    <tr>\n",
       "      <th>1294</th>\n",
       "      <td>W Bali - Seminyak</td>\n",
       "      <td>https://www.tripadvisor.co.id/Hotel_Review-g13...</td>\n",
       "      <td>4803</td>\n",
       "      <td>_w_bali_-_semin</td>\n",
       "    </tr>\n",
       "    <tr>\n",
       "      <th>1295</th>\n",
       "      <td>InterContinental Bali Resort, an IHG Hotel</td>\n",
       "      <td>https://www.tripadvisor.co.id/Hotel_Review-g29...</td>\n",
       "      <td>5105</td>\n",
       "      <td>intercontinenta</td>\n",
       "    </tr>\n",
       "    <tr>\n",
       "      <th>1296</th>\n",
       "      <td>Pullman Bali Legian Beach</td>\n",
       "      <td>https://www.tripadvisor.co.id/Hotel_Review-g60...</td>\n",
       "      <td>5345</td>\n",
       "      <td>_pullman_bali_l</td>\n",
       "    </tr>\n",
       "  </tbody>\n",
       "</table>\n",
       "<p>1297 rows × 4 columns</p>\n",
       "</div>"
      ],
      "text/plain": [
       "                                           hotel  \\\n",
       "0                         The Kampung Ubud Villa   \n",
       "1                                Puri Padi Hotel   \n",
       "2                                Melati Cottages   \n",
       "3                         Gunung Merta Bungalows   \n",
       "4                                The Peacock Inn   \n",
       "...                                          ...   \n",
       "1292             Bali Mandira Beach Resort & Spa   \n",
       "1293              Courtyard Bali Seminyak Resort   \n",
       "1294                           W Bali - Seminyak   \n",
       "1295  InterContinental Bali Resort, an IHG Hotel   \n",
       "1296                   Pullman Bali Legian Beach   \n",
       "\n",
       "                                             hotel_link  review_count  \\\n",
       "0     https://www.tripadvisor.co.id/Hotel_Review-g29...           100   \n",
       "1     https://www.tripadvisor.co.id/Hotel_Review-g29...           100   \n",
       "2     https://www.tripadvisor.co.id/Hotel_Review-g29...           100   \n",
       "3     https://www.tripadvisor.co.id/Hotel_Review-g29...           100   \n",
       "4     https://www.tripadvisor.co.id/Hotel_Review-g29...           100   \n",
       "...                                                 ...           ...   \n",
       "1292  https://www.tripadvisor.co.id/Hotel_Review-g60...          3919   \n",
       "1293  https://www.tripadvisor.co.id/Hotel_Review-g46...          4110   \n",
       "1294  https://www.tripadvisor.co.id/Hotel_Review-g13...          4803   \n",
       "1295  https://www.tripadvisor.co.id/Hotel_Review-g29...          5105   \n",
       "1296  https://www.tripadvisor.co.id/Hotel_Review-g60...          5345   \n",
       "\n",
       "           hotel_name  \n",
       "0     the_kampung_ubu  \n",
       "1     puri_padi_hotel  \n",
       "2     melati_cottages  \n",
       "3     gunung_merta_bu  \n",
       "4     the_peacock_inn  \n",
       "...               ...  \n",
       "1292  bali_mandira_be  \n",
       "1293  courtyard_bali_  \n",
       "1294  _w_bali_-_semin  \n",
       "1295  intercontinenta  \n",
       "1296  _pullman_bali_l  \n",
       "\n",
       "[1297 rows x 4 columns]"
      ]
     },
     "execution_count": 8,
     "metadata": {},
     "output_type": "execute_result"
    }
   ],
   "source": [
    "list_hotel"
   ]
  },
  {
   "cell_type": "code",
   "execution_count": 3,
   "metadata": {
    "ExecuteTime": {
     "end_time": "2023-05-24T22:31:23.354539Z",
     "start_time": "2023-05-24T22:31:23.343295Z"
    },
    "execution": {
     "iopub.execute_input": "2023-05-25T23:56:36.496300Z",
     "iopub.status.busy": "2023-05-25T23:56:36.496300Z",
     "iopub.status.idle": "2023-05-25T23:56:36.512173Z",
     "shell.execute_reply": "2023-05-25T23:56:36.512173Z",
     "shell.execute_reply.started": "2023-05-25T23:56:36.496300Z"
    },
    "id": "Cobs6LkqsajP",
    "tags": []
   },
   "outputs": [],
   "source": [
    "logging.basicConfig()\n",
    "logging.getLogger().setLevel(logging.DEBUG)\n",
    "requests_log = logging.getLogger(\"requests.packages.urllib3\")\n",
    "requests_log.setLevel(logging.DEBUG)\n",
    "requests_log.propagate = True"
   ]
  },
  {
   "cell_type": "code",
   "execution_count": 11,
   "metadata": {
    "ExecuteTime": {
     "end_time": "2023-05-24T22:46:46.667449Z",
     "start_time": "2023-05-24T22:46:46.643268Z"
    },
    "colab": {
     "base_uri": "https://localhost:8080/"
    },
    "execution": {
     "iopub.execute_input": "2023-05-26T00:11:41.304775Z",
     "iopub.status.busy": "2023-05-26T00:11:41.296800Z",
     "iopub.status.idle": "2023-05-26T00:11:41.328812Z",
     "shell.execute_reply": "2023-05-26T00:11:41.328812Z",
     "shell.execute_reply.started": "2023-05-26T00:11:41.304775Z"
    },
    "executionInfo": {
     "elapsed": 820969,
     "status": "ok",
     "timestamp": 1682988686775,
     "user": {
      "displayName": "Prentino Barus",
      "userId": "03956176104375021641"
     },
     "user_tz": -420
    },
    "id": "DZJwf3R5wQxs",
    "outputId": "18bd06bf-5d97-40d6-c933-250f589fab16",
    "scrolled": true,
    "tags": []
   },
   "outputs": [],
   "source": [
    "def hotelScraper():\n",
    "    for hotel in list_hotel.index:\n",
    "        hotel_name = list_hotel['hotel'][hotel]\n",
    "        hotel_url = list_hotel['hotel_link'][hotel]\n",
    "        filename = list_hotel['hotel_name'][hotel]\n",
    "        filepath = 'Dataset_1/' + filename + '.csv'\n",
    "\n",
    "        if os.path.exists(filepath):\n",
    "            continue\n",
    "        \n",
    "        \n",
    "        print(f\"Start Scrapping: {hotel_name}\")\n",
    "        \n",
    "        gathered_review = []\n",
    "        headers = {\"User-Agent\": \"Mozilla/5.0 (X11; CrOS x86_64 12871.102.0) AppleWebKit/537.36 (KHTML, like Gecko) Chrome/81.0.4044.141 Safari/537.36\"}\n",
    "        pages = 200\n",
    "        pages = (pages * 5) + 5\n",
    "        for i in range(5, pages, 5):\n",
    "            new_url = re.sub('or5', 'or'+str(i), str(hotel_url))\n",
    "            url = requests.get(new_url, headers=headers)\n",
    "\n",
    "            soup = BeautifulSoup(url.text, 'lxml')\n",
    "            reviews = soup.find_all('div', class_= 'YibKl MC R2 Gi z Z BB pBbQr')\n",
    "            \n",
    "            if reviews:\n",
    "                for review in reviews:\n",
    "                    user_text = review.find('span', class_= 'QewHA H4 _a').text\n",
    "                    user_rating = review.find('span', class_= 'ui_bubble_rating')['class'][1][7]\n",
    "                    gathered_review.append([hotel_name, user_text, user_rating])\n",
    "\n",
    "                #Pages Processed\n",
    "                cpages = int(i/5)\n",
    "                print(f\"Done Scrapping {hotel_name} page {cpages}\")\n",
    "                print('\\n')\n",
    "                time.sleep(3)\n",
    "\n",
    "                # Make csv file\n",
    "                df = pd.DataFrame(gathered_review, columns=['hotel', 'review', 'stars'])\n",
    "                df.to_csv('Dataset_1/'+filename+'.csv')\n",
    "            else:\n",
    "                if os.path.exists(filepath):\n",
    "                    break\n",
    "                else:\n",
    "                    hotelScraper()\n",
    "    \n",
    "        "
   ]
  },
  {
   "cell_type": "code",
   "execution_count": 16,
   "metadata": {
    "ExecuteTime": {
     "end_time": "2023-05-24T23:23:45.251023Z",
     "start_time": "2023-05-24T22:46:48.440385Z"
    },
    "execution": {
     "iopub.execute_input": "2023-05-26T00:57:14.485871Z",
     "iopub.status.busy": "2023-05-26T00:57:14.483910Z",
     "iopub.status.idle": "2023-05-26T01:04:56.280248Z",
     "shell.execute_reply": "2023-05-26T01:04:56.280248Z",
     "shell.execute_reply.started": "2023-05-26T00:57:14.485871Z"
    },
    "scrolled": true,
    "tags": []
   },
   "outputs": [
    {
     "name": "stderr",
     "output_type": "stream",
     "text": [
      "DEBUG:urllib3.connectionpool:Starting new HTTPS connection (1): www.tripadvisor.co.id:443\n"
     ]
    },
    {
     "name": "stdout",
     "output_type": "stream",
     "text": [
      "Start Scrapping:  Blue Lagoon Avia Villas\n",
      "send: b'GET /Hotel_Review-g2538504-d15190127-Reviews-or5-Blue_Lagoon_Avia_Villas-Nusa_Ceningan_Bali.html HTTP/1.1\\r\\nHost: www.tripadvisor.co.id\\r\\nUser-Agent: Mozilla/5.0 (X11; CrOS x86_64 12871.102.0) AppleWebKit/537.36 (KHTML, like Gecko) Chrome/81.0.4044.141 Safari/537.36\\r\\nAccept-Encoding: gzip, deflate\\r\\nAccept: */*\\r\\nConnection: keep-alive\\r\\n\\r\\n'\n"
     ]
    },
    {
     "name": "stderr",
     "output_type": "stream",
     "text": [
      "DEBUG:urllib3.connectionpool:https://www.tripadvisor.co.id:443 \"GET /Hotel_Review-g2538504-d15190127-Reviews-or5-Blue_Lagoon_Avia_Villas-Nusa_Ceningan_Bali.html HTTP/1.1\" 200 None\n"
     ]
    },
    {
     "name": "stdout",
     "output_type": "stream",
     "text": [
      "reply: 'HTTP/1.1 200 OK\\r\\n'\n",
      "header: Server: envoy\n",
      "header: Link: <https://media-cdn.tripadvisor.com/media/>;rel=\"preconnect\";crossorigin\n",
      "header: Link: <https://media-cdn.tripadvisor.com/media/>;rel=\"dns-prefetch\"\n",
      "header: p3p: CP=\"NOI CURa ADMa DEVa TAIa OUR BUS IND UNI COM NAV INT DSP COR CAO PSA IDC ADM DEVi TAIi PSD IVAi IVDi CONi HIS CNT\"\n",
      "header: Pragma: no-cache\n",
      "header: Cache-Control: no-cache, no-store, must-revalidate\n",
      "header: Expires: 0\n",
      "header: Content-Language: id\n",
      "header: Link: <https://static.tacdn.com>;rel=\"dns-prefetch\"\n",
      "header: Link: <https://static.tacdn.com>;rel=\"preconnect\";crossorigin\n",
      "header: timing-allow-origin: https://www.tripadvisor.com\n",
      "header: Vary: Accept-Encoding\n",
      "header: Content-Type: text/html;charset=UTF-8\n",
      "header: x-datadome: protected\n",
      "header: Accept-CH: Sec-CH-UA,Sec-CH-UA-Mobile,Sec-CH-UA-Platform,Sec-CH-UA-Arch,Sec-CH-UA-Full-Version-List,Sec-CH-UA-Model,Sec-CH-Device-Memory\n",
      "header: Content-Encoding: gzip\n",
      "header: x-request-id: 147f7948-f22b-45cc-9106-6cf6a618bef4\n",
      "header: Date: Fri, 26 May 2023 00:57:16 GMT\n",
      "header: Transfer-Encoding: chunked\n",
      "header: Connection: keep-alive\n",
      "header: Connection: Transfer-Encoding\n",
      "header: Set-Cookie: TADCID=6rMWa8Y4ZaaOFoZ3ABQCXdElnkGETRW-Svh01l3nWnXCZpmnuBjAF7RcodeNSxtXz9it7FapnjLXQA7pBwyi6IZ5B3rD7G1PTS0; Domain=www.tripadvisor.co.id; Expires=Mon, 23-May-2033 00:57:16 GMT; Path=/; Secure; HttpOnly\n",
      "header: Set-Cookie: TAUnique=%1%enc%3ASLqk%2B6khUnz%2B7H78yfwekiHKVVkteNxI8RVP%2B7Htjpg2jHwltRJPGQ%3D%3D; Domain=.tripadvisor.co.id; Expires=Sun, 25-May-2025 00:57:16 GMT; Path=/; HttpOnly\n",
      "header: Set-Cookie: TASSK=enc%3AAE%2B5%2BpizI4wNANLPJPAQnscRA7m853nJrVU1q0Z6%2FW7f2m2KRYbfrJlV%2Bbzk9ErZM67%2FOsM87EatRpUv5uaEWvnK%2FtlwvyXXLtIlPlSlK%2BO3ll0Dq%2Fs3zKyejFuGvCv4ZQ%3D%3D; Domain=www.tripadvisor.co.id; Expires=Wed, 22-Nov-2023 00:57:16 GMT; Path=/; HttpOnly\n",
      "header: Set-Cookie: TASession=V2ID.5D12E0A25AB843EAB23060A95490EEE9*SQ.1*HS.recommended*ES.popularity*DS.5*SAS.popularity*FPS.oldFirst*LF.in*FA.1*DF.0*TRA.true*LD.15190127; Domain=.tripadvisor.co.id; Path=/\n",
      "header: Set-Cookie: ServerPool=X; Domain=.tripadvisor.co.id; Path=/\n",
      "header: Set-Cookie: PMC=V2*MS.22*MD.20230525*LD.20230525; Domain=www.tripadvisor.co.id; Expires=Sun, 25-May-2025 00:57:16 GMT; Path=/; Secure; HttpOnly\n",
      "header: Set-Cookie: TART=%1%enc%3A%2Fux%2B%2FMn8HpJIAR2SZuoiho4U%2BmM2hMxbudHFC%2FrZXBjud3CpQuddbDglD%2B9m8lnIRsNr41gHGgI%3D; Domain=www.tripadvisor.co.id; Expires=Wed, 31-May-2023 00:57:16 GMT; Path=/; HttpOnly\n",
      "header: Set-Cookie: CM=%1%PremiumMobSess%2C%2C-1%7Ct4b-pc%2C%2C-1%7CRestAds%2FRPers%2C%2C-1%7CRCPers%2C%2C-1%7CWShadeSeen%2C%2C-1%7CTheForkMCCPers%2C%2C-1%7CHomeASess%2C%2C-1%7CPremiumMCSess%2C%2C-1%7CCrisisSess%2C%2C-1%7CUVOwnersSess%2C%2C-1%7CRestPremRSess%2C%2C-1%7CRepTarMCSess%2C%2C-1%7CCCSess%2C%2C-1%7CCYLSess%2C%2C-1%7CPremRetPers%2C%2C-1%7CViatorMCPers%2C%2C-1%7Csesssticker%2C%2C-1%7C%24%2C%2C-1%7CPremiumORSess%2C%2C-1%7Ct4b-sc%2C%2C-1%7CRestAdsPers%2C%2C-1%7CMC_IB_UPSELL_IB_LOGOS2%2C%2C-1%7CTSMCPers%2C%2C-1%7Cb2bmcpers%2C%2C-1%7CPremMCBtmSess%2C%2C-1%7CMC_IB_UPSELL_IB_LOGOS%2C%2C-1%7CLaFourchette+Banners%2C%2C-1%7Csess_rev%2C%2C-1%7Csessamex%2C%2C-1%7CPremiumRRSess%2C%2C-1%7CTADORSess%2C%2C-1%7CAdsRetPers%2C%2C-1%7CListMCSess%2C%2C-1%7CTARSWBPers%2C%2C-1%7CSPMCSess%2C%2C-1%7CTheForkORSess%2C%2C-1%7CTheForkRRSess%2C%2C-1%7Cpers_rev%2C%2C-1%7CRBAPers%2C%2C-1%7CRestAds%2FRSess%2C%2C-1%7CHomeAPers%2C%2C-1%7CPremiumMobPers%2C%2C-1%7CRCSess%2C%2C-1%7CLaFourchette+MC+Banners%2C%2C-1%7CRestAdsCCSess%2C%2C-1%7CRestPremRPers%2C%2C-1%7CRevHubRMPers%2C%2C-1%7CUVOwnersPers%2C%2C-1%7Cpssamex%2C%2C-1%7CTheForkMCCSess%2C%2C-1%7CCrisisPers%2C%2C-1%7CCYLPers%2C%2C-1%7CCCPers%2C%2C-1%7CRepTarMCPers%2C%2C-1%7Cb2bmcsess%2C%2C-1%7CTSMCSess%2C%2C-1%7CSPMCPers%2C%2C-1%7CRevHubRMSess%2C%2C-1%7CPremRetSess%2C%2C-1%7CViatorMCSess%2C%2C-1%7CPremiumMCPers%2C%2C-1%7CAdsRetSess%2C%2C-1%7CPremiumRRPers%2C%2C-1%7CRestAdsCCPers%2C%2C-1%7CTADORPers%2C%2C-1%7CTheForkORPers%2C%2C-1%7CPremMCBtmPers%2C%2C-1%7CTheForkRRPers%2C%2C-1%7CTARSWBSess%2C%2C-1%7CPremiumORPers%2C%2C-1%7CRestAdsSess%2C%2C-1%7CRBASess%2C%2C-1%7CSPORPers%2C%2C-1%7Cperssticker%2C%2C-1%7CListMCPers%2C%2C-1%7C; Domain=.tripadvisor.co.id; Expires=Mon, 23-May-2033 00:57:16 GMT; Path=/\n",
      "header: Set-Cookie: BEPIN=%1%188558f522c%3Bweb607a.a.tripadvisor.com%3A30023%3B; Domain=.tripadvisor.co.id; Path=/\n",
      "header: Set-Cookie: PAC=ALq-mJZrvv36CpHLK9OI80nOQoUJYsclgY2e002FHtKTxmfmtT0wU0kNyYliloM7RgWteIR6gSMbCzrCElNnk30PYudkVHGDs3zJPE_3XE1ksdz2n6p4w-Vzy5Iejn0elBmn12WSwudCNAVv_22qJRJHs3wCXTnv7vu0OW8o1vRkaZX9Ox7IhphE6Ui7HgyTCi3op_B5jNTM0-UGAbTBiWiN_di-nEsODf7coZuavyps; Domain=www.tripadvisor.co.id; Expires=Sun, 25-May-2025 00:57:16 GMT; Path=/; Secure; HttpOnly\n",
      "header: Set-Cookie: SRT=TART_SYNC; Domain=www.tripadvisor.co.id; Expires=Fri, 26-May-2023 01:27:16 GMT; Path=/\n",
      "header: Set-Cookie: TATravelInfo=V2*AY.2023*AM.6*AD.4*DY.2023*DM.6*DD.5*A.2*MG.-1*HP.2*FL.3*DSM.1685062636139*RS.1; Domain=.tripadvisor.co.id; Expires=Fri, 09-Jun-2023 00:57:16 GMT; Path=/\n",
      "header: Set-Cookie: TAUD=LG-1685062636034-2.1.F.*RDD-2-2023_05_26*HDD-3-2023_06_04.2023_06_05.1; Domain=.tripadvisor.co.id; Expires=Fri, 09-Jun-2023 00:57:16 GMT; Path=/\n",
      "header: Set-Cookie: TASID=5D12E0A25AB843EAB23060A95490EEE9; Domain=www.tripadvisor.co.id; Expires=Fri, 26-May-2023 01:27:16 GMT; Path=/; Secure\n",
      "header: Set-Cookie: TAReturnTo=%1%%2FHotel_Review-g2538504-d15190127-Reviews-or5-Blue_Lagoon_Avia_Villas-Nusa_Ceningan_Bali.html; Domain=.tripadvisor.co.id; Path=/\n",
      "header: Set-Cookie: datadome=6N-bjK12T9IOYGChxVTxUd29W7Nhwc-EIMoZBROC41a6nl6G2VZVp9d5ZMwBKH4~~rIrQ6L-e3nWQjdPQ3AVpu8ju7ge_lrcwjsL6YM9vkwiFzfuU0JA~95g_fuX~IS5; Max-Age=31104000; Domain=.tripadvisor.co.id; Path=/; Secure; SameSite=Lax\n",
      "Done Scrapping  Blue Lagoon Avia Villas page 1\n",
      "\n",
      "\n"
     ]
    },
    {
     "name": "stderr",
     "output_type": "stream",
     "text": [
      "DEBUG:urllib3.connectionpool:Starting new HTTPS connection (1): www.tripadvisor.co.id:443\n"
     ]
    },
    {
     "name": "stdout",
     "output_type": "stream",
     "text": [
      "send: b'GET /Hotel_Review-g2538504-d15190127-Reviews-or10-Blue_Lagoon_Avia_Villas-Nusa_Ceningan_Bali.html HTTP/1.1\\r\\nHost: www.tripadvisor.co.id\\r\\nUser-Agent: Mozilla/5.0 (X11; CrOS x86_64 12871.102.0) AppleWebKit/537.36 (KHTML, like Gecko) Chrome/81.0.4044.141 Safari/537.36\\r\\nAccept-Encoding: gzip, deflate\\r\\nAccept: */*\\r\\nConnection: keep-alive\\r\\n\\r\\n'\n"
     ]
    },
    {
     "name": "stderr",
     "output_type": "stream",
     "text": [
      "DEBUG:urllib3.connectionpool:https://www.tripadvisor.co.id:443 \"GET /Hotel_Review-g2538504-d15190127-Reviews-or10-Blue_Lagoon_Avia_Villas-Nusa_Ceningan_Bali.html HTTP/1.1\" 200 None\n"
     ]
    },
    {
     "name": "stdout",
     "output_type": "stream",
     "text": [
      "reply: 'HTTP/1.1 200 OK\\r\\n'\n",
      "header: Server: envoy\n",
      "header: Link: <https://media-cdn.tripadvisor.com/media/>;rel=\"preconnect\";crossorigin\n",
      "header: Link: <https://media-cdn.tripadvisor.com/media/>;rel=\"dns-prefetch\"\n",
      "header: p3p: CP=\"NOI CURa ADMa DEVa TAIa OUR BUS IND UNI COM NAV INT DSP COR CAO PSA IDC ADM DEVi TAIi PSD IVAi IVDi CONi HIS CNT\"\n",
      "header: Pragma: no-cache\n",
      "header: Cache-Control: no-cache, no-store, must-revalidate\n",
      "header: Expires: 0\n",
      "header: Content-Language: id\n",
      "header: Link: <https://static.tacdn.com>;rel=\"dns-prefetch\"\n",
      "header: Link: <https://static.tacdn.com>;rel=\"preconnect\";crossorigin\n",
      "header: timing-allow-origin: https://www.tripadvisor.com\n",
      "header: Vary: Accept-Encoding\n",
      "header: Content-Type: text/html;charset=UTF-8\n",
      "header: x-datadome: protected\n",
      "header: Accept-CH: Sec-CH-UA,Sec-CH-UA-Mobile,Sec-CH-UA-Platform,Sec-CH-UA-Arch,Sec-CH-UA-Full-Version-List,Sec-CH-UA-Model,Sec-CH-Device-Memory\n",
      "header: Content-Encoding: gzip\n",
      "header: x-request-id: e641bdfc-f9d5-4c4c-ba10-b44ff7f21bed\n",
      "header: Date: Fri, 26 May 2023 00:57:21 GMT\n",
      "header: Transfer-Encoding: chunked\n",
      "header: Connection: keep-alive\n",
      "header: Connection: Transfer-Encoding\n",
      "header: Set-Cookie: TADCID=JJSovvaySCbugLGRABQCXdElnkGETRW-Svh01l3nWnXCZg5FzqjeleEIdBqb87vbTcdU5kKEqs3Qm0EatiTk35oPs5DqcogciW0; Domain=www.tripadvisor.co.id; Expires=Mon, 23-May-2033 00:57:20 GMT; Path=/; Secure; HttpOnly\n",
      "header: Set-Cookie: TAUnique=%1%enc%3AayfAkwbJJef%2B7H78yfwekiHKVVkteNxICiq7%2FsO%2FSUs2jHwltRJPGQ%3D%3D; Domain=.tripadvisor.co.id; Expires=Sun, 25-May-2025 00:57:20 GMT; Path=/; HttpOnly\n",
      "header: Set-Cookie: TASSK=enc%3AANr07VY3SnTpMTP%2FygvF8rIK5wn0McduYsbQq324ozPN%2BdCHloPeU53SAXncN0bON8rElegYy8JSEgDhoauo5opSi0y1zawlCb5lRF4AE9um22MG%2B7IkBor%2FAQB2mhuVug%3D%3D; Domain=www.tripadvisor.co.id; Expires=Wed, 22-Nov-2023 00:57:21 GMT; Path=/; HttpOnly\n",
      "header: Set-Cookie: TASession=V2ID.B32C23B4A6EC47C7A52204E675241510*SQ.1*HS.recommended*ES.popularity*DS.5*SAS.popularity*FPS.oldFirst*LF.in*FA.1*DF.0*TRA.true*LD.15190127; Domain=.tripadvisor.co.id; Path=/\n",
      "header: Set-Cookie: ServerPool=C; Domain=.tripadvisor.co.id; Path=/\n",
      "header: Set-Cookie: PMC=V2*MS.92*MD.20230525*LD.20230525; Domain=www.tripadvisor.co.id; Expires=Sun, 25-May-2025 00:57:21 GMT; Path=/; Secure; HttpOnly\n",
      "header: Set-Cookie: TART=%1%enc%3A%2Fux%2B%2FMn8HpIV3nH%2FIlsXNTx8BeMsruoxBM6lZ1KNEgjb562pkHc7mKD1UxB21TKiyx9HjuV9fk0%3D; Domain=www.tripadvisor.co.id; Expires=Wed, 31-May-2023 00:57:21 GMT; Path=/; HttpOnly\n",
      "header: Set-Cookie: CM=%1%PremiumMobSess%2C%2C-1%7Ct4b-pc%2C%2C-1%7CRestAds%2FRPers%2C%2C-1%7CRCPers%2C%2C-1%7CWShadeSeen%2C%2C-1%7CTheForkMCCPers%2C%2C-1%7CHomeASess%2C%2C-1%7CPremiumMCSess%2C%2C-1%7CCrisisSess%2C%2C-1%7CUVOwnersSess%2C%2C-1%7CRestPremRSess%2C%2C-1%7CRepTarMCSess%2C%2C-1%7CCCSess%2C%2C-1%7CCYLSess%2C%2C-1%7CPremRetPers%2C%2C-1%7CViatorMCPers%2C%2C-1%7Csesssticker%2C%2C-1%7C%24%2C%2C-1%7CPremiumORSess%2C%2C-1%7Ct4b-sc%2C%2C-1%7CRestAdsPers%2C%2C-1%7CMC_IB_UPSELL_IB_LOGOS2%2C%2C-1%7CTSMCPers%2C%2C-1%7Cb2bmcpers%2C%2C-1%7CPremMCBtmSess%2C%2C-1%7CMC_IB_UPSELL_IB_LOGOS%2C%2C-1%7CLaFourchette+Banners%2C%2C-1%7Csess_rev%2C%2C-1%7Csessamex%2C%2C-1%7CPremiumRRSess%2C%2C-1%7CTADORSess%2C%2C-1%7CAdsRetPers%2C%2C-1%7CListMCSess%2C%2C-1%7CTARSWBPers%2C%2C-1%7CSPMCSess%2C%2C-1%7CTheForkORSess%2C%2C-1%7CTheForkRRSess%2C%2C-1%7Cpers_rev%2C%2C-1%7CRBAPers%2C%2C-1%7CRestAds%2FRSess%2C%2C-1%7CHomeAPers%2C%2C-1%7CPremiumMobPers%2C%2C-1%7CRCSess%2C%2C-1%7CLaFourchette+MC+Banners%2C%2C-1%7CRestAdsCCSess%2C%2C-1%7CRestPremRPers%2C%2C-1%7CRevHubRMPers%2C%2C-1%7CUVOwnersPers%2C%2C-1%7Cpssamex%2C%2C-1%7CTheForkMCCSess%2C%2C-1%7CCrisisPers%2C%2C-1%7CCYLPers%2C%2C-1%7CCCPers%2C%2C-1%7CRepTarMCPers%2C%2C-1%7Cb2bmcsess%2C%2C-1%7CTSMCSess%2C%2C-1%7CSPMCPers%2C%2C-1%7CRevHubRMSess%2C%2C-1%7CPremRetSess%2C%2C-1%7CViatorMCSess%2C%2C-1%7CPremiumMCPers%2C%2C-1%7CAdsRetSess%2C%2C-1%7CPremiumRRPers%2C%2C-1%7CRestAdsCCPers%2C%2C-1%7CTADORPers%2C%2C-1%7CTheForkORPers%2C%2C-1%7CPremMCBtmPers%2C%2C-1%7CTheForkRRPers%2C%2C-1%7CTARSWBSess%2C%2C-1%7CPremiumORPers%2C%2C-1%7CRestAdsSess%2C%2C-1%7CRBASess%2C%2C-1%7CSPORPers%2C%2C-1%7Cperssticker%2C%2C-1%7CListMCPers%2C%2C-1%7C; Domain=.tripadvisor.co.id; Expires=Mon, 23-May-2033 00:57:21 GMT; Path=/\n",
      "header: Set-Cookie: BEPIN=%1%188558f652d%3Bweb271a.a.tripadvisor.com%3A30023%3B; Domain=.tripadvisor.co.id; Path=/\n",
      "header: Set-Cookie: PAC=AAtsl1-kYpvoCYGyw8d5HfBeRO_GOZToXYePQeGceNQhjRFZSl7-Ks_SXcySQwe2An9ftSINFaNMNZxMnchucO8GQeTsah_qa3My0_2jGKy9j4CKa73rACVlXWZ6Uc7GoP3qHHCtYBwbvfmO_zohEQyBbK7a72HhoiECytO54TMCsoFEbGKrsuUb3CFQld4gHtH7NqMEG3AT6D5EHO93ODeO1P4sfW8Q3BRDRuEXJyoa; Domain=www.tripadvisor.co.id; Expires=Sun, 25-May-2025 00:57:21 GMT; Path=/; Secure; HttpOnly\n",
      "header: Set-Cookie: SRT=TART_SYNC; Domain=www.tripadvisor.co.id; Expires=Fri, 26-May-2023 01:27:21 GMT; Path=/\n",
      "header: Set-Cookie: TATravelInfo=V2*AY.2023*AM.6*AD.4*DY.2023*DM.6*DD.5*A.2*MG.-1*HP.2*FL.3*DSM.1685062641004*RS.1; Domain=.tripadvisor.co.id; Expires=Fri, 09-Jun-2023 00:57:21 GMT; Path=/\n",
      "header: Set-Cookie: TAUD=LG-1685062640910-2.1.F.*RDD-2-2023_05_26*HDD-3-2023_06_04.2023_06_05.1; Domain=.tripadvisor.co.id; Expires=Fri, 09-Jun-2023 00:57:21 GMT; Path=/\n",
      "header: Set-Cookie: TASID=B32C23B4A6EC47C7A52204E675241510; Domain=www.tripadvisor.co.id; Expires=Fri, 26-May-2023 01:27:21 GMT; Path=/; Secure\n",
      "header: Set-Cookie: TAReturnTo=%1%%2FHotel_Review-g2538504-d15190127-Reviews-or10-Blue_Lagoon_Avia_Villas-Nusa_Ceningan_Bali.html; Domain=.tripadvisor.co.id; Path=/\n",
      "header: Set-Cookie: datadome=7sbu6hGPScwUWJrM_rbAxF3xbjll-0mB6pRgw-yfgpOZgkzxe9VbngGsPPVuSgDC8Y_rj645o06DrSde~TZZk29h9xzIpsG~Dd8HjS2XQWa7KR-DGN1UwmFokZW1ugJx; Max-Age=31104000; Domain=.tripadvisor.co.id; Path=/; Secure; SameSite=Lax\n",
      "Done Scrapping  Blue Lagoon Avia Villas page 2\n",
      "\n",
      "\n"
     ]
    },
    {
     "name": "stderr",
     "output_type": "stream",
     "text": [
      "DEBUG:urllib3.connectionpool:Starting new HTTPS connection (1): www.tripadvisor.co.id:443\n"
     ]
    },
    {
     "name": "stdout",
     "output_type": "stream",
     "text": [
      "send: b'GET /Hotel_Review-g2538504-d15190127-Reviews-or15-Blue_Lagoon_Avia_Villas-Nusa_Ceningan_Bali.html HTTP/1.1\\r\\nHost: www.tripadvisor.co.id\\r\\nUser-Agent: Mozilla/5.0 (X11; CrOS x86_64 12871.102.0) AppleWebKit/537.36 (KHTML, like Gecko) Chrome/81.0.4044.141 Safari/537.36\\r\\nAccept-Encoding: gzip, deflate\\r\\nAccept: */*\\r\\nConnection: keep-alive\\r\\n\\r\\n'\n"
     ]
    },
    {
     "name": "stderr",
     "output_type": "stream",
     "text": [
      "DEBUG:urllib3.connectionpool:https://www.tripadvisor.co.id:443 \"GET /Hotel_Review-g2538504-d15190127-Reviews-or15-Blue_Lagoon_Avia_Villas-Nusa_Ceningan_Bali.html HTTP/1.1\" 200 None\n"
     ]
    },
    {
     "name": "stdout",
     "output_type": "stream",
     "text": [
      "reply: 'HTTP/1.1 200 OK\\r\\n'\n",
      "header: Server: envoy\n",
      "header: Link: <https://media-cdn.tripadvisor.com/media/>;rel=\"preconnect\";crossorigin\n",
      "header: Link: <https://media-cdn.tripadvisor.com/media/>;rel=\"dns-prefetch\"\n",
      "header: p3p: CP=\"NOI CURa ADMa DEVa TAIa OUR BUS IND UNI COM NAV INT DSP COR CAO PSA IDC ADM DEVi TAIi PSD IVAi IVDi CONi HIS CNT\"\n",
      "header: Pragma: no-cache\n",
      "header: Cache-Control: no-cache, no-store, must-revalidate\n",
      "header: Expires: 0\n",
      "header: Content-Language: id\n",
      "header: Link: <https://static.tacdn.com>;rel=\"dns-prefetch\"\n",
      "header: Link: <https://static.tacdn.com>;rel=\"preconnect\";crossorigin\n",
      "header: timing-allow-origin: https://www.tripadvisor.com\n",
      "header: Vary: Accept-Encoding\n",
      "header: Content-Type: text/html;charset=UTF-8\n",
      "header: x-datadome: protected\n",
      "header: Accept-CH: Sec-CH-UA,Sec-CH-UA-Mobile,Sec-CH-UA-Platform,Sec-CH-UA-Arch,Sec-CH-UA-Full-Version-List,Sec-CH-UA-Model,Sec-CH-Device-Memory\n",
      "header: Content-Encoding: gzip\n",
      "header: x-request-id: b196218e-4ac7-45cf-b7d4-c696965b3d23\n",
      "header: Date: Fri, 26 May 2023 00:57:26 GMT\n",
      "header: Transfer-Encoding: chunked\n",
      "header: Connection: keep-alive\n",
      "header: Connection: Transfer-Encoding\n",
      "header: Set-Cookie: TADCID=TB3mMUQz_3GN01wrABQCXdElnkGETRW-Svh01l3nWnXCZsqpP4cqXbHXu93ncmY7PMpeR2fV9T84KOGprzPGlsFnJDyynAibrqY; Domain=www.tripadvisor.co.id; Expires=Mon, 23-May-2033 00:57:26 GMT; Path=/; Secure; HttpOnly\n",
      "header: Set-Cookie: TAUnique=%1%enc%3A3z0L%2FHaaMiL%2B7H78yfwekiHKVVkteNxIsBrAQc9L%2BV02jHwltRJPGQ%3D%3D; Domain=.tripadvisor.co.id; Expires=Sun, 25-May-2025 00:57:26 GMT; Path=/; HttpOnly\n",
      "header: Set-Cookie: TASSK=enc%3AAJBYQEASDn2II%2B7HyXDE0xFQLwkFOrLsO9leYh6rb6htO3Y%2FAvxLrbmjVGo6CZo%2BH7tkzkFZc1brkUeOtdQKZ4tLjCoW06bkedwe89END0QIV8rMgS1I%2FN%2Bvl4q8wuOigQ%3D%3D; Domain=www.tripadvisor.co.id; Expires=Wed, 22-Nov-2023 00:57:26 GMT; Path=/; HttpOnly\n",
      "header: Set-Cookie: TASession=V2ID.96C0CFDAC5FC458B9FD2E93C510C253A*SQ.1*HS.recommended*ES.popularity*DS.5*SAS.popularity*FPS.oldFirst*LF.in*FA.1*DF.0*TRA.true*LD.15190127; Domain=.tripadvisor.co.id; Path=/\n",
      "header: Set-Cookie: ServerPool=C; Domain=.tripadvisor.co.id; Path=/\n",
      "header: Set-Cookie: PMC=V2*MS.39*MD.20230525*LD.20230525; Domain=www.tripadvisor.co.id; Expires=Sun, 25-May-2025 00:57:26 GMT; Path=/; Secure; HttpOnly\n",
      "header: Set-Cookie: TART=%1%enc%3A%2Fux%2B%2FMn8HpIoGFwCrmdLG65mMeku%2BTIuRey0NNOVsEAD5IXV1KNzoaMgsUDLEt5uW1JxtpsONWQ%3D; Domain=www.tripadvisor.co.id; Expires=Wed, 31-May-2023 00:57:26 GMT; Path=/; HttpOnly\n",
      "header: Set-Cookie: CM=%1%PremiumMobSess%2C%2C-1%7Ct4b-pc%2C%2C-1%7CRestAds%2FRPers%2C%2C-1%7CRCPers%2C%2C-1%7CWShadeSeen%2C%2C-1%7CTheForkMCCPers%2C%2C-1%7CHomeASess%2C%2C-1%7CPremiumMCSess%2C%2C-1%7CCrisisSess%2C%2C-1%7CUVOwnersSess%2C%2C-1%7CRestPremRSess%2C%2C-1%7CRepTarMCSess%2C%2C-1%7CCCSess%2C%2C-1%7CCYLSess%2C%2C-1%7CPremRetPers%2C%2C-1%7CViatorMCPers%2C%2C-1%7Csesssticker%2C%2C-1%7C%24%2C%2C-1%7CPremiumORSess%2C%2C-1%7Ct4b-sc%2C%2C-1%7CRestAdsPers%2C%2C-1%7CMC_IB_UPSELL_IB_LOGOS2%2C%2C-1%7CTSMCPers%2C%2C-1%7Cb2bmcpers%2C%2C-1%7CPremMCBtmSess%2C%2C-1%7CMC_IB_UPSELL_IB_LOGOS%2C%2C-1%7CLaFourchette+Banners%2C%2C-1%7Csess_rev%2C%2C-1%7Csessamex%2C%2C-1%7CPremiumRRSess%2C%2C-1%7CTADORSess%2C%2C-1%7CAdsRetPers%2C%2C-1%7CListMCSess%2C%2C-1%7CTARSWBPers%2C%2C-1%7CSPMCSess%2C%2C-1%7CTheForkORSess%2C%2C-1%7CTheForkRRSess%2C%2C-1%7Cpers_rev%2C%2C-1%7CRBAPers%2C%2C-1%7CRestAds%2FRSess%2C%2C-1%7CHomeAPers%2C%2C-1%7CPremiumMobPers%2C%2C-1%7CRCSess%2C%2C-1%7CLaFourchette+MC+Banners%2C%2C-1%7CRestAdsCCSess%2C%2C-1%7CRestPremRPers%2C%2C-1%7CRevHubRMPers%2C%2C-1%7CUVOwnersPers%2C%2C-1%7Cpssamex%2C%2C-1%7CTheForkMCCSess%2C%2C-1%7CCrisisPers%2C%2C-1%7CCYLPers%2C%2C-1%7CCCPers%2C%2C-1%7CRepTarMCPers%2C%2C-1%7Cb2bmcsess%2C%2C-1%7CTSMCSess%2C%2C-1%7CSPMCPers%2C%2C-1%7CRevHubRMSess%2C%2C-1%7CPremRetSess%2C%2C-1%7CViatorMCSess%2C%2C-1%7CPremiumMCPers%2C%2C-1%7CAdsRetSess%2C%2C-1%7CPremiumRRPers%2C%2C-1%7CRestAdsCCPers%2C%2C-1%7CTADORPers%2C%2C-1%7CTheForkORPers%2C%2C-1%7CPremMCBtmPers%2C%2C-1%7CTheForkRRPers%2C%2C-1%7CTARSWBSess%2C%2C-1%7CPremiumORPers%2C%2C-1%7CRestAdsSess%2C%2C-1%7CRBASess%2C%2C-1%7CSPORPers%2C%2C-1%7Cperssticker%2C%2C-1%7CListMCPers%2C%2C-1%7C; Domain=.tripadvisor.co.id; Expires=Mon, 23-May-2033 00:57:26 GMT; Path=/\n",
      "header: Set-Cookie: BEPIN=%1%188558f7931%3Bweb271a.a.tripadvisor.com%3A30023%3B; Domain=.tripadvisor.co.id; Path=/\n",
      "header: Set-Cookie: PAC=ABrTuLNYls_uYzG3OvtY1ZLFGRgE9aAtfOmpRUHyUYk542ay7cnLBEFB8BL8imKFauLDHcKySCfpRsxwzk4FNk-7oQszekfQfIn4d1AyvauIvrQ67zQNVdl9TijYRjuE6GEW29zYmdxEK7n5-yraTnDE420w3bykEgzT43IkcUdVZkc3Q04fb5muQ_QcRRSoI1luIqxVFKAw2u-9dcXR4Eds7m2ZSS1C75FRoKjItZ06; Domain=www.tripadvisor.co.id; Expires=Sun, 25-May-2025 00:57:26 GMT; Path=/; Secure; HttpOnly\n",
      "header: Set-Cookie: SRT=TART_SYNC; Domain=www.tripadvisor.co.id; Expires=Fri, 26-May-2023 01:27:26 GMT; Path=/\n",
      "header: Set-Cookie: TATravelInfo=V2*AY.2023*AM.6*AD.4*DY.2023*DM.6*DD.5*A.2*MG.-1*HP.2*FL.3*DSM.1685062646122*RS.1; Domain=.tripadvisor.co.id; Expires=Fri, 09-Jun-2023 00:57:26 GMT; Path=/\n",
      "header: Set-Cookie: TAUD=LG-1685062646032-2.1.F.*RDD-2-2023_05_26*HDD-3-2023_06_04.2023_06_05.1; Domain=.tripadvisor.co.id; Expires=Fri, 09-Jun-2023 00:57:26 GMT; Path=/\n",
      "header: Set-Cookie: TASID=96C0CFDAC5FC458B9FD2E93C510C253A; Domain=www.tripadvisor.co.id; Expires=Fri, 26-May-2023 01:27:26 GMT; Path=/; Secure\n",
      "header: Set-Cookie: TAReturnTo=%1%%2FHotel_Review-g2538504-d15190127-Reviews-or15-Blue_Lagoon_Avia_Villas-Nusa_Ceningan_Bali.html; Domain=.tripadvisor.co.id; Path=/\n",
      "header: Set-Cookie: datadome=3VaWOVYfo5vVW_qqRPPHz_QdxN0RRm-ANZ-3If3dwUor8L7kYgPlitipQOzFVbFt6nMxn3DVyMIRNYq4e7d6fyiPr3CNVaFHuMtHG_Hy4VAyleJufLogPqN_eQYXOGEL; Max-Age=31104000; Domain=.tripadvisor.co.id; Path=/; Secure; SameSite=Lax\n"
     ]
    },
    {
     "name": "stderr",
     "output_type": "stream",
     "text": [
      "DEBUG:urllib3.connectionpool:Starting new HTTPS connection (1): www.tripadvisor.co.id:443\n"
     ]
    },
    {
     "name": "stdout",
     "output_type": "stream",
     "text": [
      "Start Scrapping: Puri Damai\n",
      "send: b'GET /Hotel_Review-g608487-d735701-Reviews-or5-Puri_Damai-Legian_Kuta_District_Bali.html HTTP/1.1\\r\\nHost: www.tripadvisor.co.id\\r\\nUser-Agent: Mozilla/5.0 (X11; CrOS x86_64 12871.102.0) AppleWebKit/537.36 (KHTML, like Gecko) Chrome/81.0.4044.141 Safari/537.36\\r\\nAccept-Encoding: gzip, deflate\\r\\nAccept: */*\\r\\nConnection: keep-alive\\r\\n\\r\\n'\n"
     ]
    },
    {
     "name": "stderr",
     "output_type": "stream",
     "text": [
      "DEBUG:urllib3.connectionpool:https://www.tripadvisor.co.id:443 \"GET /Hotel_Review-g608487-d735701-Reviews-or5-Puri_Damai-Legian_Kuta_District_Bali.html HTTP/1.1\" 200 None\n"
     ]
    },
    {
     "name": "stdout",
     "output_type": "stream",
     "text": [
      "reply: 'HTTP/1.1 200 OK\\r\\n'\n",
      "header: Server: envoy\n",
      "header: Link: <https://media-cdn.tripadvisor.com/media/>;rel=\"preconnect\";crossorigin\n",
      "header: Link: <https://media-cdn.tripadvisor.com/media/>;rel=\"dns-prefetch\"\n",
      "header: p3p: CP=\"NOI CURa ADMa DEVa TAIa OUR BUS IND UNI COM NAV INT DSP COR CAO PSA IDC ADM DEVi TAIi PSD IVAi IVDi CONi HIS CNT\"\n",
      "header: Pragma: no-cache\n",
      "header: Cache-Control: no-cache, no-store, must-revalidate\n",
      "header: Expires: 0\n",
      "header: Content-Language: id\n",
      "header: Link: <https://static.tacdn.com>;rel=\"dns-prefetch\"\n",
      "header: Link: <https://static.tacdn.com>;rel=\"preconnect\";crossorigin\n",
      "header: timing-allow-origin: https://www.tripadvisor.com\n",
      "header: Vary: Accept-Encoding\n",
      "header: Content-Type: text/html;charset=UTF-8\n",
      "header: Accept-CH: Sec-CH-UA,Sec-CH-UA-Mobile,Sec-CH-UA-Platform,Sec-CH-UA-Arch,Sec-CH-UA-Full-Version-List,Sec-CH-UA-Model,Sec-CH-Device-Memory\n",
      "header: x-datadome: protected\n",
      "header: Content-Encoding: gzip\n",
      "header: x-request-id: b4680b73-feac-4415-a083-d8ec5cbdff9b\n",
      "header: Date: Fri, 26 May 2023 00:57:28 GMT\n",
      "header: Transfer-Encoding: chunked\n",
      "header: Connection: keep-alive\n",
      "header: Connection: Transfer-Encoding\n",
      "header: Set-Cookie: TADCID=M74A4kaZv1vkaAp9ABQCXdElnkGETRW-Svh01l3nWnXCZtt2lVQiXevNVijjfezXY7ZDtX9Hnx7x88w5visFtnQMipG9Ck0Ixmk; Domain=www.tripadvisor.co.id; Expires=Mon, 23-May-2033 00:57:27 GMT; Path=/; Secure; HttpOnly\n",
      "header: Set-Cookie: TAUnique=%1%enc%3A2So9wtYnBk%2F%2B7H78yfwekiHKVVkteNxIqFkbo3L1PEo2jHwltRJPGQ%3D%3D; Domain=.tripadvisor.co.id; Expires=Sun, 25-May-2025 00:57:27 GMT; Path=/; HttpOnly\n",
      "header: Set-Cookie: TASSK=enc%3AAOJxnhNfK1cv6BbSTXAhr87H5Sh86WzZrtO%2FyZTkh4oXUaE0qMvfIAXT7MWJFvH1CIwXbg59YTgV5ZY1zDNZ1BUyzVdBd5hs%2BBE0U37AqRS2PC9sL%2FNnF4cbB5sKltdlrw%3D%3D; Domain=www.tripadvisor.co.id; Expires=Wed, 22-Nov-2023 00:57:28 GMT; Path=/; HttpOnly\n",
      "header: Set-Cookie: TASession=V2ID.0804581E86944F918CF041108D5F05B2*SQ.1*HS.recommended*ES.popularity*DS.5*SAS.popularity*FPS.oldFirst*LF.in*FA.1*DF.0*TRA.true*LD.735701; Domain=.tripadvisor.co.id; Path=/\n",
      "header: Set-Cookie: ServerPool=X; Domain=.tripadvisor.co.id; Path=/\n",
      "header: Set-Cookie: PMC=V2*MS.99*MD.20230525*LD.20230525; Domain=www.tripadvisor.co.id; Expires=Sun, 25-May-2025 00:57:28 GMT; Path=/; Secure; HttpOnly\n",
      "header: Set-Cookie: TART=%1%enc%3A%2Fux%2B%2FMn8HpKmuKmcgfagLQB7MRR%2FT8YAXtCj1RiTpwg2NMQY%2BzJ6rGq9fjVLaibxfTM2Cx7kRNA%3D; Domain=www.tripadvisor.co.id; Expires=Wed, 31-May-2023 00:57:28 GMT; Path=/; HttpOnly\n",
      "header: Set-Cookie: CM=%1%PremiumMobSess%2C%2C-1%7Ct4b-pc%2C%2C-1%7CRestAds%2FRPers%2C%2C-1%7CRCPers%2C%2C-1%7CWShadeSeen%2C%2C-1%7CTheForkMCCPers%2C%2C-1%7CHomeASess%2C%2C-1%7CPremiumMCSess%2C%2C-1%7CCrisisSess%2C%2C-1%7CUVOwnersSess%2C%2C-1%7CRestPremRSess%2C%2C-1%7CRepTarMCSess%2C%2C-1%7CCCSess%2C%2C-1%7CCYLSess%2C%2C-1%7CPremRetPers%2C%2C-1%7CViatorMCPers%2C%2C-1%7Csesssticker%2C%2C-1%7C%24%2C%2C-1%7CPremiumORSess%2C%2C-1%7Ct4b-sc%2C%2C-1%7CRestAdsPers%2C%2C-1%7CMC_IB_UPSELL_IB_LOGOS2%2C%2C-1%7CTSMCPers%2C%2C-1%7Cb2bmcpers%2C%2C-1%7CPremMCBtmSess%2C%2C-1%7CMC_IB_UPSELL_IB_LOGOS%2C%2C-1%7CLaFourchette+Banners%2C%2C-1%7Csess_rev%2C%2C-1%7Csessamex%2C%2C-1%7CPremiumRRSess%2C%2C-1%7CTADORSess%2C%2C-1%7CAdsRetPers%2C%2C-1%7CListMCSess%2C%2C-1%7CTARSWBPers%2C%2C-1%7CSPMCSess%2C%2C-1%7CTheForkORSess%2C%2C-1%7CTheForkRRSess%2C%2C-1%7Cpers_rev%2C%2C-1%7CRBAPers%2C%2C-1%7CRestAds%2FRSess%2C%2C-1%7CHomeAPers%2C%2C-1%7CPremiumMobPers%2C%2C-1%7CRCSess%2C%2C-1%7CLaFourchette+MC+Banners%2C%2C-1%7CRestAdsCCSess%2C%2C-1%7CRestPremRPers%2C%2C-1%7CRevHubRMPers%2C%2C-1%7CUVOwnersPers%2C%2C-1%7Cpssamex%2C%2C-1%7CTheForkMCCSess%2C%2C-1%7CCrisisPers%2C%2C-1%7CCYLPers%2C%2C-1%7CCCPers%2C%2C-1%7CRepTarMCPers%2C%2C-1%7Cb2bmcsess%2C%2C-1%7CTSMCSess%2C%2C-1%7CSPMCPers%2C%2C-1%7CRevHubRMSess%2C%2C-1%7CPremRetSess%2C%2C-1%7CViatorMCSess%2C%2C-1%7CPremiumMCPers%2C%2C-1%7CAdsRetSess%2C%2C-1%7CPremiumRRPers%2C%2C-1%7CRestAdsCCPers%2C%2C-1%7CTADORPers%2C%2C-1%7CTheForkORPers%2C%2C-1%7CPremMCBtmPers%2C%2C-1%7CTheForkRRPers%2C%2C-1%7CTARSWBSess%2C%2C-1%7CPremiumORPers%2C%2C-1%7CRestAdsSess%2C%2C-1%7CRBASess%2C%2C-1%7CSPORPers%2C%2C-1%7Cperssticker%2C%2C-1%7CListMCPers%2C%2C-1%7C; Domain=.tripadvisor.co.id; Expires=Mon, 23-May-2033 00:57:28 GMT; Path=/\n",
      "header: Set-Cookie: BEPIN=%1%188558f7eef%3Bweb789a.a.tripadvisor.com%3A30023%3B; Domain=.tripadvisor.co.id; Path=/\n",
      "header: Set-Cookie: PAC=AGNYtXezOI2JnnY6Z-WJ_WQDPkWEFoYBnwG0UX00jDv6Of3uabUOVdEd0kfCU3mjHZ99candO5Hloc6sCnWzmn3ruAF-FrNLOdKi1K4Jq54aIK45EEwdDal7WRxuM5AQGcElmARym00SzbSYnbje4mz2orvVLqcOhEkdxpO6xK7ehEQFlNKuhd7ixtMSvTD-fqMcUZBqr_CImHrM1Um1pes%3D; Domain=www.tripadvisor.co.id; Expires=Sun, 25-May-2025 00:57:28 GMT; Path=/; Secure; HttpOnly\n",
      "header: Set-Cookie: SRT=TART_SYNC; Domain=www.tripadvisor.co.id; Expires=Fri, 26-May-2023 01:27:28 GMT; Path=/\n",
      "header: Set-Cookie: TATravelInfo=V2*AY.2023*AM.6*AD.4*DY.2023*DM.6*DD.5*A.2*MG.-1*HP.2*FL.3*DSM.1685062647620*RS.1; Domain=.tripadvisor.co.id; Expires=Fri, 09-Jun-2023 00:57:28 GMT; Path=/\n",
      "header: Set-Cookie: TAUD=LG-1685062647519-2.1.F.*RDD-2-2023_05_26*HDD-3-2023_06_04.2023_06_05.1; Domain=.tripadvisor.co.id; Expires=Fri, 09-Jun-2023 00:57:28 GMT; Path=/\n",
      "header: Set-Cookie: TASID=0804581E86944F918CF041108D5F05B2; Domain=www.tripadvisor.co.id; Expires=Fri, 26-May-2023 01:27:28 GMT; Path=/; Secure\n",
      "header: Set-Cookie: TAReturnTo=%1%%2FHotel_Review-g608487-d735701-Reviews-or5-Puri_Damai-Legian_Kuta_District_Bali.html; Domain=.tripadvisor.co.id; Path=/\n",
      "header: Set-Cookie: datadome=3wakkr5iXgzB4HCZPPZi5IuM~zEhI9ve1hBEx15YoXriI1t4qDwEy7lxi8bo47IGkX_NxX_NsRPx~1J5Xy3WsOA0CnDXZSfLauw~7OL0Y0jLr2xoQw6AB_C0uO95r6_G; Max-Age=31104000; Domain=.tripadvisor.co.id; Path=/; Secure; SameSite=Lax\n",
      "Done Scrapping Puri Damai page 1\n",
      "\n",
      "\n"
     ]
    },
    {
     "name": "stderr",
     "output_type": "stream",
     "text": [
      "DEBUG:urllib3.connectionpool:Starting new HTTPS connection (1): www.tripadvisor.co.id:443\n"
     ]
    },
    {
     "name": "stdout",
     "output_type": "stream",
     "text": [
      "send: b'GET /Hotel_Review-g608487-d735701-Reviews-or10-Puri_Damai-Legian_Kuta_District_Bali.html HTTP/1.1\\r\\nHost: www.tripadvisor.co.id\\r\\nUser-Agent: Mozilla/5.0 (X11; CrOS x86_64 12871.102.0) AppleWebKit/537.36 (KHTML, like Gecko) Chrome/81.0.4044.141 Safari/537.36\\r\\nAccept-Encoding: gzip, deflate\\r\\nAccept: */*\\r\\nConnection: keep-alive\\r\\n\\r\\n'\n"
     ]
    },
    {
     "name": "stderr",
     "output_type": "stream",
     "text": [
      "DEBUG:urllib3.connectionpool:https://www.tripadvisor.co.id:443 \"GET /Hotel_Review-g608487-d735701-Reviews-or10-Puri_Damai-Legian_Kuta_District_Bali.html HTTP/1.1\" 200 None\n"
     ]
    },
    {
     "name": "stdout",
     "output_type": "stream",
     "text": [
      "reply: 'HTTP/1.1 200 OK\\r\\n'\n",
      "header: Server: envoy\n",
      "header: Link: <https://media-cdn.tripadvisor.com/media/>;rel=\"preconnect\";crossorigin\n",
      "header: Link: <https://media-cdn.tripadvisor.com/media/>;rel=\"dns-prefetch\"\n",
      "header: p3p: CP=\"NOI CURa ADMa DEVa TAIa OUR BUS IND UNI COM NAV INT DSP COR CAO PSA IDC ADM DEVi TAIi PSD IVAi IVDi CONi HIS CNT\"\n",
      "header: Pragma: no-cache\n",
      "header: Cache-Control: no-cache, no-store, must-revalidate\n",
      "header: Expires: 0\n",
      "header: Content-Language: id\n",
      "header: Link: <https://static.tacdn.com>;rel=\"dns-prefetch\"\n",
      "header: Link: <https://static.tacdn.com>;rel=\"preconnect\";crossorigin\n",
      "header: timing-allow-origin: https://www.tripadvisor.com\n",
      "header: Vary: Accept-Encoding\n",
      "header: Content-Type: text/html;charset=UTF-8\n",
      "header: x-datadome: protected\n",
      "header: Accept-CH: Sec-CH-UA,Sec-CH-UA-Mobile,Sec-CH-UA-Platform,Sec-CH-UA-Arch,Sec-CH-UA-Full-Version-List,Sec-CH-UA-Model,Sec-CH-Device-Memory\n",
      "header: Content-Encoding: gzip\n",
      "header: x-request-id: eed6afb7-38c6-4a5e-970c-e698247af146\n",
      "header: Date: Fri, 26 May 2023 00:57:32 GMT\n",
      "header: Transfer-Encoding: chunked\n",
      "header: Connection: keep-alive\n",
      "header: Connection: Transfer-Encoding\n",
      "header: Set-Cookie: TADCID=ppfKQdqB1tPrAyQLABQCXdElnkGETRW-Svh01l3nWnXCZrmg6H1VRV6boIQ9usYC34SL-_PPj3Hga0v66I6wCjYOJO8i8ZFCeLw; Domain=www.tripadvisor.co.id; Expires=Mon, 23-May-2033 00:57:32 GMT; Path=/; Secure; HttpOnly\n",
      "header: Set-Cookie: TAUnique=%1%enc%3AuiwQP9Jn%2BeH%2B7H78yfwekiHKVVkteNxI0cfSCN92%2Fnc2jHwltRJPGQ%3D%3D; Domain=.tripadvisor.co.id; Expires=Sun, 25-May-2025 00:57:32 GMT; Path=/; HttpOnly\n",
      "header: Set-Cookie: TASSK=enc%3AAKcZZ4sQnttgdgQ1btrAHTBURGlijHfQZho%2BsUFrKh5HG3yjTxktUjlgZuQhSmI61war6dDGaont0Ddxv12OCPByIIWzPFz0xdlAu6U4uhMzCDEfAKJfoIH0leP5Z8c1fg%3D%3D; Domain=www.tripadvisor.co.id; Expires=Wed, 22-Nov-2023 00:57:32 GMT; Path=/; HttpOnly\n",
      "header: Set-Cookie: TASession=V2ID.1CC025F6E326429586F23BBAA8128D13*SQ.1*HS.recommended*ES.popularity*DS.5*SAS.popularity*FPS.oldFirst*LF.in*FA.1*DF.0*TRA.true*LD.735701; Domain=.tripadvisor.co.id; Path=/\n",
      "header: Set-Cookie: ServerPool=X; Domain=.tripadvisor.co.id; Path=/\n",
      "header: Set-Cookie: PMC=V2*MS.17*MD.20230525*LD.20230525; Domain=www.tripadvisor.co.id; Expires=Sun, 25-May-2025 00:57:32 GMT; Path=/; Secure; HttpOnly\n",
      "header: Set-Cookie: TART=%1%enc%3A%2Fux%2B%2FMn8HpLbgB%2FlnykTcshHDVJu1FBhSx6r%2BfoAvkrdxSjVSN3EERfl8B5yr7gbGLyefJQymeo%3D; Domain=www.tripadvisor.co.id; Expires=Wed, 31-May-2023 00:57:32 GMT; Path=/; HttpOnly\n",
      "header: Set-Cookie: CM=%1%PremiumMobSess%2C%2C-1%7Ct4b-pc%2C%2C-1%7CRestAds%2FRPers%2C%2C-1%7CRCPers%2C%2C-1%7CWShadeSeen%2C%2C-1%7CTheForkMCCPers%2C%2C-1%7CHomeASess%2C%2C-1%7CPremiumMCSess%2C%2C-1%7CCrisisSess%2C%2C-1%7CUVOwnersSess%2C%2C-1%7CRestPremRSess%2C%2C-1%7CRepTarMCSess%2C%2C-1%7CCCSess%2C%2C-1%7CCYLSess%2C%2C-1%7CPremRetPers%2C%2C-1%7CViatorMCPers%2C%2C-1%7Csesssticker%2C%2C-1%7C%24%2C%2C-1%7CPremiumORSess%2C%2C-1%7Ct4b-sc%2C%2C-1%7CRestAdsPers%2C%2C-1%7CMC_IB_UPSELL_IB_LOGOS2%2C%2C-1%7CTSMCPers%2C%2C-1%7Cb2bmcpers%2C%2C-1%7CPremMCBtmSess%2C%2C-1%7CMC_IB_UPSELL_IB_LOGOS%2C%2C-1%7CLaFourchette+Banners%2C%2C-1%7Csess_rev%2C%2C-1%7Csessamex%2C%2C-1%7CPremiumRRSess%2C%2C-1%7CTADORSess%2C%2C-1%7CAdsRetPers%2C%2C-1%7CListMCSess%2C%2C-1%7CTARSWBPers%2C%2C-1%7CSPMCSess%2C%2C-1%7CTheForkORSess%2C%2C-1%7CTheForkRRSess%2C%2C-1%7Cpers_rev%2C%2C-1%7CRBAPers%2C%2C-1%7CRestAds%2FRSess%2C%2C-1%7CHomeAPers%2C%2C-1%7CPremiumMobPers%2C%2C-1%7CRCSess%2C%2C-1%7CLaFourchette+MC+Banners%2C%2C-1%7CRestAdsCCSess%2C%2C-1%7CRestPremRPers%2C%2C-1%7CRevHubRMPers%2C%2C-1%7CUVOwnersPers%2C%2C-1%7Cpssamex%2C%2C-1%7CTheForkMCCSess%2C%2C-1%7CCrisisPers%2C%2C-1%7CCYLPers%2C%2C-1%7CCCPers%2C%2C-1%7CRepTarMCPers%2C%2C-1%7Cb2bmcsess%2C%2C-1%7CTSMCSess%2C%2C-1%7CSPMCPers%2C%2C-1%7CRevHubRMSess%2C%2C-1%7CPremRetSess%2C%2C-1%7CViatorMCSess%2C%2C-1%7CPremiumMCPers%2C%2C-1%7CAdsRetSess%2C%2C-1%7CPremiumRRPers%2C%2C-1%7CRestAdsCCPers%2C%2C-1%7CTADORPers%2C%2C-1%7CTheForkORPers%2C%2C-1%7CPremMCBtmPers%2C%2C-1%7CTheForkRRPers%2C%2C-1%7CTARSWBSess%2C%2C-1%7CPremiumORPers%2C%2C-1%7CRestAdsSess%2C%2C-1%7CRBASess%2C%2C-1%7CSPORPers%2C%2C-1%7Cperssticker%2C%2C-1%7CListMCPers%2C%2C-1%7C; Domain=.tripadvisor.co.id; Expires=Mon, 23-May-2033 00:57:32 GMT; Path=/\n",
      "header: Set-Cookie: BEPIN=%1%188558f90d0%3Bweb472a.a.tripadvisor.com%3A30023%3B; Domain=.tripadvisor.co.id; Path=/\n",
      "header: Set-Cookie: PAC=AAZctVRJLe5yjcgmN4FZZArUQKa1wHIbkG651rPnPuZLQ04oZVqki-K_6dude_Baui0R0Ct0W1HJOhwRTmvuEr7DGJDckzFfLI9UIRPjM9FlPMvbbBiWbW3GLkdEoGdWmmGSv-CWpvTJQWyqkgrtrfIG_P-wt9naEamXtNK5MN0ZN11C9N93ukSzjkk-VgcLaIY7l1DvYlp6BIPkKOWgL7c%3D; Domain=www.tripadvisor.co.id; Expires=Sun, 25-May-2025 00:57:32 GMT; Path=/; Secure; HttpOnly\n",
      "header: Set-Cookie: SRT=TART_SYNC; Domain=www.tripadvisor.co.id; Expires=Fri, 26-May-2023 01:27:32 GMT; Path=/\n",
      "header: Set-Cookie: TATravelInfo=V2*AY.2023*AM.6*AD.4*DY.2023*DM.6*DD.5*A.2*MG.-1*HP.2*FL.3*DSM.1685062652194*RS.1; Domain=.tripadvisor.co.id; Expires=Fri, 09-Jun-2023 00:57:32 GMT; Path=/\n",
      "header: Set-Cookie: TAUD=LG-1685062652095-2.1.F.*RDD-2-2023_05_26*HDD-3-2023_06_04.2023_06_05.1; Domain=.tripadvisor.co.id; Expires=Fri, 09-Jun-2023 00:57:32 GMT; Path=/\n",
      "header: Set-Cookie: TASID=1CC025F6E326429586F23BBAA8128D13; Domain=www.tripadvisor.co.id; Expires=Fri, 26-May-2023 01:27:32 GMT; Path=/; Secure\n",
      "header: Set-Cookie: TAReturnTo=%1%%2FHotel_Review-g608487-d735701-Reviews-or10-Puri_Damai-Legian_Kuta_District_Bali.html; Domain=.tripadvisor.co.id; Path=/\n",
      "header: Set-Cookie: datadome=2pAsBZkkD66tCVbrPH2XkjbD-TzrfUowf1Mg-tt0fGhIImI4rgCGIo4C7juI~dyPB37xDeu9KLvM7t8Wrbf1vT_uU~vYXQ_O-MQNqOeENojdk9TEuMbhvlF47VhBh7mP; Max-Age=31104000; Domain=.tripadvisor.co.id; Path=/; Secure; SameSite=Lax\n",
      "Done Scrapping Puri Damai page 2\n",
      "\n",
      "\n"
     ]
    },
    {
     "name": "stderr",
     "output_type": "stream",
     "text": [
      "DEBUG:urllib3.connectionpool:Starting new HTTPS connection (1): www.tripadvisor.co.id:443\n"
     ]
    },
    {
     "name": "stdout",
     "output_type": "stream",
     "text": [
      "send: b'GET /Hotel_Review-g608487-d735701-Reviews-or15-Puri_Damai-Legian_Kuta_District_Bali.html HTTP/1.1\\r\\nHost: www.tripadvisor.co.id\\r\\nUser-Agent: Mozilla/5.0 (X11; CrOS x86_64 12871.102.0) AppleWebKit/537.36 (KHTML, like Gecko) Chrome/81.0.4044.141 Safari/537.36\\r\\nAccept-Encoding: gzip, deflate\\r\\nAccept: */*\\r\\nConnection: keep-alive\\r\\n\\r\\n'\n"
     ]
    },
    {
     "name": "stderr",
     "output_type": "stream",
     "text": [
      "DEBUG:urllib3.connectionpool:https://www.tripadvisor.co.id:443 \"GET /Hotel_Review-g608487-d735701-Reviews-or15-Puri_Damai-Legian_Kuta_District_Bali.html HTTP/1.1\" 200 None\n"
     ]
    },
    {
     "name": "stdout",
     "output_type": "stream",
     "text": [
      "reply: 'HTTP/1.1 200 OK\\r\\n'\n",
      "header: Server: envoy\n",
      "header: Link: <https://media-cdn.tripadvisor.com/media/>;rel=\"preconnect\";crossorigin\n",
      "header: Link: <https://media-cdn.tripadvisor.com/media/>;rel=\"dns-prefetch\"\n",
      "header: p3p: CP=\"NOI CURa ADMa DEVa TAIa OUR BUS IND UNI COM NAV INT DSP COR CAO PSA IDC ADM DEVi TAIi PSD IVAi IVDi CONi HIS CNT\"\n",
      "header: Pragma: no-cache\n",
      "header: Cache-Control: no-cache, no-store, must-revalidate\n",
      "header: Expires: 0\n",
      "header: Content-Language: id\n",
      "header: Link: <https://static.tacdn.com>;rel=\"dns-prefetch\"\n",
      "header: Link: <https://static.tacdn.com>;rel=\"preconnect\";crossorigin\n",
      "header: timing-allow-origin: https://www.tripadvisor.com\n",
      "header: Vary: Accept-Encoding\n",
      "header: Content-Type: text/html;charset=UTF-8\n",
      "header: Accept-CH: Sec-CH-UA,Sec-CH-UA-Mobile,Sec-CH-UA-Platform,Sec-CH-UA-Arch,Sec-CH-UA-Full-Version-List,Sec-CH-UA-Model,Sec-CH-Device-Memory\n",
      "header: x-datadome: protected\n",
      "header: Content-Encoding: gzip\n",
      "header: x-request-id: c1301050-92b8-4873-bda3-21b37df353f0\n",
      "header: Date: Fri, 26 May 2023 00:57:37 GMT\n",
      "header: Transfer-Encoding: chunked\n",
      "header: Connection: keep-alive\n",
      "header: Connection: Transfer-Encoding\n",
      "header: Set-Cookie: TADCID=KqglzivKHU15wmqqABQCXdElnkGETRW-Svh01l3nWnXCZv3a6qA8gDDSn41WA40wmkiQBj7Z_3WhXFldE_j57wbrDg-5-Y9NLnU; Domain=www.tripadvisor.co.id; Expires=Mon, 23-May-2033 00:57:36 GMT; Path=/; Secure; HttpOnly\n",
      "header: Set-Cookie: TAUnique=%1%enc%3A8kwUAflygK3%2B7H78yfwekiHKVVkteNxI5HKJvik7f6c2jHwltRJPGQ%3D%3D; Domain=.tripadvisor.co.id; Expires=Sun, 25-May-2025 00:57:36 GMT; Path=/; HttpOnly\n",
      "header: Set-Cookie: TASSK=enc%3AANN4gU5Ml4g5MZ0is1aLqkTbF68vmZ3v%2FcZJ%2BupSEEX9eh4D7Y3oNG8Ys00y8ktZMuP37XaKgo13dbdJHLKL4cW%2FrCpI%2BnmYRg72S2Sb3ob0IbD678g%2BvOWBbBj3fXYH6A%3D%3D; Domain=www.tripadvisor.co.id; Expires=Wed, 22-Nov-2023 00:57:36 GMT; Path=/; HttpOnly\n",
      "header: Set-Cookie: TASession=V2ID.EAE1178F3DBB42879804B59AB9EF63B5*SQ.1*HS.recommended*ES.popularity*DS.5*SAS.popularity*FPS.oldFirst*LF.in*FA.1*DF.0*TRA.true*LD.735701; Domain=.tripadvisor.co.id; Path=/\n",
      "header: Set-Cookie: ServerPool=X; Domain=.tripadvisor.co.id; Path=/\n",
      "header: Set-Cookie: PMC=V2*MS.29*MD.20230525*LD.20230525; Domain=www.tripadvisor.co.id; Expires=Sun, 25-May-2025 00:57:36 GMT; Path=/; Secure; HttpOnly\n",
      "header: Set-Cookie: TART=%1%enc%3A%2Fux%2B%2FMn8HpIagp4LjugJkMfgmhIuXXR5Mbt7%2F2ADPqAhCfbnZJlxu4Mq0BUngQo0GLyefJQymeo%3D; Domain=www.tripadvisor.co.id; Expires=Wed, 31-May-2023 00:57:36 GMT; Path=/; HttpOnly\n",
      "header: Set-Cookie: CM=%1%PremiumMobSess%2C%2C-1%7Ct4b-pc%2C%2C-1%7CRestAds%2FRPers%2C%2C-1%7CRCPers%2C%2C-1%7CWShadeSeen%2C%2C-1%7CTheForkMCCPers%2C%2C-1%7CHomeASess%2C%2C-1%7CPremiumMCSess%2C%2C-1%7CCrisisSess%2C%2C-1%7CUVOwnersSess%2C%2C-1%7CRestPremRSess%2C%2C-1%7CRepTarMCSess%2C%2C-1%7CCCSess%2C%2C-1%7CCYLSess%2C%2C-1%7CPremRetPers%2C%2C-1%7CViatorMCPers%2C%2C-1%7Csesssticker%2C%2C-1%7C%24%2C%2C-1%7CPremiumORSess%2C%2C-1%7Ct4b-sc%2C%2C-1%7CRestAdsPers%2C%2C-1%7CMC_IB_UPSELL_IB_LOGOS2%2C%2C-1%7CTSMCPers%2C%2C-1%7Cb2bmcpers%2C%2C-1%7CPremMCBtmSess%2C%2C-1%7CMC_IB_UPSELL_IB_LOGOS%2C%2C-1%7CLaFourchette+Banners%2C%2C-1%7Csess_rev%2C%2C-1%7Csessamex%2C%2C-1%7CPremiumRRSess%2C%2C-1%7CTADORSess%2C%2C-1%7CAdsRetPers%2C%2C-1%7CListMCSess%2C%2C-1%7CTARSWBPers%2C%2C-1%7CSPMCSess%2C%2C-1%7CTheForkORSess%2C%2C-1%7CTheForkRRSess%2C%2C-1%7Cpers_rev%2C%2C-1%7CRBAPers%2C%2C-1%7CRestAds%2FRSess%2C%2C-1%7CHomeAPers%2C%2C-1%7CPremiumMobPers%2C%2C-1%7CRCSess%2C%2C-1%7CLaFourchette+MC+Banners%2C%2C-1%7CRestAdsCCSess%2C%2C-1%7CRestPremRPers%2C%2C-1%7CRevHubRMPers%2C%2C-1%7CUVOwnersPers%2C%2C-1%7Cpssamex%2C%2C-1%7CTheForkMCCSess%2C%2C-1%7CCrisisPers%2C%2C-1%7CCYLPers%2C%2C-1%7CCCPers%2C%2C-1%7CRepTarMCPers%2C%2C-1%7Cb2bmcsess%2C%2C-1%7CTSMCSess%2C%2C-1%7CSPMCPers%2C%2C-1%7CRevHubRMSess%2C%2C-1%7CPremRetSess%2C%2C-1%7CViatorMCSess%2C%2C-1%7CPremiumMCPers%2C%2C-1%7CAdsRetSess%2C%2C-1%7CPremiumRRPers%2C%2C-1%7CRestAdsCCPers%2C%2C-1%7CTADORPers%2C%2C-1%7CTheForkORPers%2C%2C-1%7CPremMCBtmPers%2C%2C-1%7CTheForkRRPers%2C%2C-1%7CTARSWBSess%2C%2C-1%7CPremiumORPers%2C%2C-1%7CRestAdsSess%2C%2C-1%7CRBASess%2C%2C-1%7CSPORPers%2C%2C-1%7Cperssticker%2C%2C-1%7CListMCPers%2C%2C-1%7C; Domain=.tripadvisor.co.id; Expires=Mon, 23-May-2033 00:57:36 GMT; Path=/\n",
      "header: Set-Cookie: BEPIN=%1%188558fa1dd%3Bweb191a.a.tripadvisor.com%3A30023%3B; Domain=.tripadvisor.co.id; Path=/\n",
      "header: Set-Cookie: PAC=APIoR3zimcc6G4gr17q9Ah2E_GBoFoBf5gCIVbB1J7WhAOvmqKjD6bnoRyS87j7ZqIBumCEd_MQQmqjS4chUq_YQ0FOrhpnZeYHBlxfGGCJT_lfor6WRqeV1-BXVeUWt1O45rCOOlECV6FKaH_bkxMf57O56_mDC5tADQKWLjQzB5TJBj9HG9uNNf9R8-28Bc-9OdwKJWoyw5xXl5nF1ax0%3D; Domain=www.tripadvisor.co.id; Expires=Sun, 25-May-2025 00:57:36 GMT; Path=/; Secure; HttpOnly\n",
      "header: Set-Cookie: SRT=TART_SYNC; Domain=www.tripadvisor.co.id; Expires=Fri, 26-May-2023 01:27:36 GMT; Path=/\n",
      "header: Set-Cookie: TATravelInfo=V2*AY.2023*AM.6*AD.4*DY.2023*DM.6*DD.5*A.2*MG.-1*HP.2*FL.3*DSM.1685062656570*RS.1; Domain=.tripadvisor.co.id; Expires=Fri, 09-Jun-2023 00:57:36 GMT; Path=/\n",
      "header: Set-Cookie: TAUD=LG-1685062656461-2.1.F.*RDD-2-2023_05_26*HDD-3-2023_06_04.2023_06_05.1; Domain=.tripadvisor.co.id; Expires=Fri, 09-Jun-2023 00:57:36 GMT; Path=/\n",
      "header: Set-Cookie: TASID=EAE1178F3DBB42879804B59AB9EF63B5; Domain=www.tripadvisor.co.id; Expires=Fri, 26-May-2023 01:27:36 GMT; Path=/; Secure\n",
      "header: Set-Cookie: TAReturnTo=%1%%2FHotel_Review-g608487-d735701-Reviews-or15-Puri_Damai-Legian_Kuta_District_Bali.html; Domain=.tripadvisor.co.id; Path=/\n",
      "header: Set-Cookie: datadome=4ox7gKRRZLUMWe1fow-EasydRr5vCZOyTwq12_ZKLPi1fLMeSR1sdYk85bDsvVPwhesAXyDhRev-bvxZM2ZxpLFp3_4SjNqqacYVXvxtwuDDGsx_4yyjRrbnRVXQi4M_; Max-Age=31104000; Domain=.tripadvisor.co.id; Path=/; Secure; SameSite=Lax\n",
      "Done Scrapping Puri Damai page 3\n",
      "\n",
      "\n"
     ]
    },
    {
     "name": "stderr",
     "output_type": "stream",
     "text": [
      "DEBUG:urllib3.connectionpool:Starting new HTTPS connection (1): www.tripadvisor.co.id:443\n"
     ]
    },
    {
     "name": "stdout",
     "output_type": "stream",
     "text": [
      "send: b'GET /Hotel_Review-g608487-d735701-Reviews-or20-Puri_Damai-Legian_Kuta_District_Bali.html HTTP/1.1\\r\\nHost: www.tripadvisor.co.id\\r\\nUser-Agent: Mozilla/5.0 (X11; CrOS x86_64 12871.102.0) AppleWebKit/537.36 (KHTML, like Gecko) Chrome/81.0.4044.141 Safari/537.36\\r\\nAccept-Encoding: gzip, deflate\\r\\nAccept: */*\\r\\nConnection: keep-alive\\r\\n\\r\\n'\n"
     ]
    },
    {
     "name": "stderr",
     "output_type": "stream",
     "text": [
      "DEBUG:urllib3.connectionpool:https://www.tripadvisor.co.id:443 \"GET /Hotel_Review-g608487-d735701-Reviews-or20-Puri_Damai-Legian_Kuta_District_Bali.html HTTP/1.1\" 200 None\n"
     ]
    },
    {
     "name": "stdout",
     "output_type": "stream",
     "text": [
      "reply: 'HTTP/1.1 200 OK\\r\\n'\n",
      "header: Server: envoy\n",
      "header: Link: <https://media-cdn.tripadvisor.com/media/>;rel=\"preconnect\";crossorigin\n",
      "header: Link: <https://media-cdn.tripadvisor.com/media/>;rel=\"dns-prefetch\"\n",
      "header: p3p: CP=\"NOI CURa ADMa DEVa TAIa OUR BUS IND UNI COM NAV INT DSP COR CAO PSA IDC ADM DEVi TAIi PSD IVAi IVDi CONi HIS CNT\"\n",
      "header: Pragma: no-cache\n",
      "header: Cache-Control: no-cache, no-store, must-revalidate\n",
      "header: Expires: 0\n",
      "header: Content-Language: id\n",
      "header: Link: <https://static.tacdn.com>;rel=\"dns-prefetch\"\n",
      "header: Link: <https://static.tacdn.com>;rel=\"preconnect\";crossorigin\n",
      "header: timing-allow-origin: https://www.tripadvisor.com\n",
      "header: Vary: Accept-Encoding\n",
      "header: Content-Type: text/html;charset=UTF-8\n",
      "header: Accept-CH: Sec-CH-UA,Sec-CH-UA-Mobile,Sec-CH-UA-Platform,Sec-CH-UA-Arch,Sec-CH-UA-Full-Version-List,Sec-CH-UA-Model,Sec-CH-Device-Memory\n",
      "header: x-datadome: protected\n",
      "header: Content-Encoding: gzip\n",
      "header: x-request-id: 25dad3a6-8eb4-4344-894c-15c4fb54237f\n",
      "header: Date: Fri, 26 May 2023 00:57:42 GMT\n",
      "header: Transfer-Encoding: chunked\n",
      "header: Connection: keep-alive\n",
      "header: Connection: Transfer-Encoding\n",
      "header: Set-Cookie: TADCID=_Iy6opHwYzfT1PwyABQCXdElnkGETRW-Svh01l3nWnXCZuGRW-1XrayI-VZLVmbCX-c8kM1JpeMltnVv1Qt8jfnvDeETAk31D7s; Domain=www.tripadvisor.co.id; Expires=Mon, 23-May-2033 00:57:41 GMT; Path=/; Secure; HttpOnly\n",
      "header: Set-Cookie: TAUnique=%1%enc%3A57KubAv3KYD%2B7H78yfwekiHKVVkteNxI1yuS4OpHN6s2jHwltRJPGQ%3D%3D; Domain=.tripadvisor.co.id; Expires=Sun, 25-May-2025 00:57:41 GMT; Path=/; HttpOnly\n",
      "header: Set-Cookie: TASSK=enc%3AAGLBEciioKfL%2BDKlrLkMeM3DTAa8AJgAPUzbE7BBFNggVqwWtV8sqt6gf4xsqTte5ZnR4%2Bn8WkKr5S3Cw98Y5fr86y7hsblqplUR3SkCqCKK%2FUwYf7wOmItWsndKI9xa9w%3D%3D; Domain=www.tripadvisor.co.id; Expires=Wed, 22-Nov-2023 00:57:42 GMT; Path=/; HttpOnly\n",
      "header: Set-Cookie: TASession=V2ID.3B733FD03DB9456FA04713DDCF8DB224*SQ.1*HS.recommended*ES.popularity*DS.5*SAS.popularity*FPS.oldFirst*LF.in*FA.1*DF.0*TRA.true*LD.735701; Domain=.tripadvisor.co.id; Path=/\n",
      "header: Set-Cookie: ServerPool=A; Domain=.tripadvisor.co.id; Path=/\n",
      "header: Set-Cookie: PMC=V2*MS.54*MD.20230525*LD.20230525; Domain=www.tripadvisor.co.id; Expires=Sun, 25-May-2025 00:57:42 GMT; Path=/; Secure; HttpOnly\n",
      "header: Set-Cookie: TART=%1%enc%3A%2Fux%2B%2FMn8HpLOKO%2BBh6cC35iW0DGF07zMwokJ%2Fo6c%2B3nIR3%2BKJd2JECmhzOhTHQ0BW1JxtpsONWQ%3D; Domain=www.tripadvisor.co.id; Expires=Wed, 31-May-2023 00:57:42 GMT; Path=/; HttpOnly\n",
      "header: Set-Cookie: CM=%1%PremiumMobSess%2C%2C-1%7Ct4b-pc%2C%2C-1%7CRestAds%2FRPers%2C%2C-1%7CRCPers%2C%2C-1%7CWShadeSeen%2C%2C-1%7CTheForkMCCPers%2C%2C-1%7CHomeASess%2C%2C-1%7CPremiumMCSess%2C%2C-1%7CCrisisSess%2C%2C-1%7CUVOwnersSess%2C%2C-1%7CRestPremRSess%2C%2C-1%7CRepTarMCSess%2C%2C-1%7CCCSess%2C%2C-1%7CCYLSess%2C%2C-1%7CPremRetPers%2C%2C-1%7CViatorMCPers%2C%2C-1%7Csesssticker%2C%2C-1%7C%24%2C%2C-1%7CPremiumORSess%2C%2C-1%7Ct4b-sc%2C%2C-1%7CRestAdsPers%2C%2C-1%7CMC_IB_UPSELL_IB_LOGOS2%2C%2C-1%7CTSMCPers%2C%2C-1%7Cb2bmcpers%2C%2C-1%7CPremMCBtmSess%2C%2C-1%7CMC_IB_UPSELL_IB_LOGOS%2C%2C-1%7CLaFourchette+Banners%2C%2C-1%7Csess_rev%2C%2C-1%7Csessamex%2C%2C-1%7CPremiumRRSess%2C%2C-1%7CTADORSess%2C%2C-1%7CAdsRetPers%2C%2C-1%7CListMCSess%2C%2C-1%7CTARSWBPers%2C%2C-1%7CSPMCSess%2C%2C-1%7CTheForkORSess%2C%2C-1%7CTheForkRRSess%2C%2C-1%7Cpers_rev%2C%2C-1%7CRBAPers%2C%2C-1%7CRestAds%2FRSess%2C%2C-1%7CHomeAPers%2C%2C-1%7CPremiumMobPers%2C%2C-1%7CRCSess%2C%2C-1%7CLaFourchette+MC+Banners%2C%2C-1%7CRestAdsCCSess%2C%2C-1%7CRestPremRPers%2C%2C-1%7CRevHubRMPers%2C%2C-1%7CUVOwnersPers%2C%2C-1%7Cpssamex%2C%2C-1%7CTheForkMCCSess%2C%2C-1%7CCrisisPers%2C%2C-1%7CCYLPers%2C%2C-1%7CCCPers%2C%2C-1%7CRepTarMCPers%2C%2C-1%7Cb2bmcsess%2C%2C-1%7CTSMCSess%2C%2C-1%7CSPMCPers%2C%2C-1%7CRevHubRMSess%2C%2C-1%7CPremRetSess%2C%2C-1%7CViatorMCSess%2C%2C-1%7CPremiumMCPers%2C%2C-1%7CAdsRetSess%2C%2C-1%7CPremiumRRPers%2C%2C-1%7CRestAdsCCPers%2C%2C-1%7CTADORPers%2C%2C-1%7CTheForkORPers%2C%2C-1%7CPremMCBtmPers%2C%2C-1%7CTheForkRRPers%2C%2C-1%7CTARSWBSess%2C%2C-1%7CPremiumORPers%2C%2C-1%7CRestAdsSess%2C%2C-1%7CRBASess%2C%2C-1%7CSPORPers%2C%2C-1%7Cperssticker%2C%2C-1%7CListMCPers%2C%2C-1%7C; Domain=.tripadvisor.co.id; Expires=Mon, 23-May-2033 00:57:42 GMT; Path=/\n",
      "header: Set-Cookie: BEPIN=%1%188558fb5c5%3Bweb243a.a.tripadvisor.com%3A30023%3B; Domain=.tripadvisor.co.id; Path=/\n",
      "header: Set-Cookie: PAC=AAgGJtXsGqmKJWK2wUC3BXKrbp0qg_upe2ALNn0TLnTHxAsXThy6IaYPXbvLF9dXac9YFE9CAmvd-35c9v9Iib9sD-gyjqyBdk30HBqX-2ayt2_5acNUg9LwzwiRmBZxbp3CcAy33CZOL29-s06kdNutiV-fn2OVuRym_D6nmayu0EENE-rTt4r3xbXul9ZhqKOSTuwFpjQAKue72jwoqv0%3D; Domain=www.tripadvisor.co.id; Expires=Sun, 25-May-2025 00:57:42 GMT; Path=/; Secure; HttpOnly\n",
      "header: Set-Cookie: SRT=TART_SYNC; Domain=www.tripadvisor.co.id; Expires=Fri, 26-May-2023 01:27:42 GMT; Path=/\n",
      "header: Set-Cookie: TATravelInfo=V2*AY.2023*AM.6*AD.4*DY.2023*DM.6*DD.5*A.2*MG.-1*HP.2*FL.3*DSM.1685062661667*RS.1; Domain=.tripadvisor.co.id; Expires=Fri, 09-Jun-2023 00:57:42 GMT; Path=/\n",
      "header: Set-Cookie: TAUD=LG-1685062661543-2.1.F.*RDD-2-2023_05_26*HDD-3-2023_06_04.2023_06_05.1; Domain=.tripadvisor.co.id; Expires=Fri, 09-Jun-2023 00:57:42 GMT; Path=/\n",
      "header: Set-Cookie: TASID=3B733FD03DB9456FA04713DDCF8DB224; Domain=www.tripadvisor.co.id; Expires=Fri, 26-May-2023 01:27:42 GMT; Path=/; Secure\n",
      "header: Set-Cookie: TAReturnTo=%1%%2FHotel_Review-g608487-d735701-Reviews-or20-Puri_Damai-Legian_Kuta_District_Bali.html; Domain=.tripadvisor.co.id; Path=/\n",
      "header: Set-Cookie: datadome=1q6o7mqlAhdp~jrB4CF~_vyWaEndAusPKOBlwsKnnoCI2SlChcC9LtNU0LVtdZ9igyWuTPKowFl_o2sKXnqfwKHwJqI_wqf~0kdq_gSnb2yN-lBfqMItruGQXgB4btYh; Max-Age=31104000; Domain=.tripadvisor.co.id; Path=/; Secure; SameSite=Lax\n",
      "Done Scrapping Puri Damai page 4\n",
      "\n",
      "\n"
     ]
    },
    {
     "name": "stderr",
     "output_type": "stream",
     "text": [
      "DEBUG:urllib3.connectionpool:Starting new HTTPS connection (1): www.tripadvisor.co.id:443\n"
     ]
    },
    {
     "name": "stdout",
     "output_type": "stream",
     "text": [
      "send: b'GET /Hotel_Review-g608487-d735701-Reviews-or25-Puri_Damai-Legian_Kuta_District_Bali.html HTTP/1.1\\r\\nHost: www.tripadvisor.co.id\\r\\nUser-Agent: Mozilla/5.0 (X11; CrOS x86_64 12871.102.0) AppleWebKit/537.36 (KHTML, like Gecko) Chrome/81.0.4044.141 Safari/537.36\\r\\nAccept-Encoding: gzip, deflate\\r\\nAccept: */*\\r\\nConnection: keep-alive\\r\\n\\r\\n'\n"
     ]
    },
    {
     "name": "stderr",
     "output_type": "stream",
     "text": [
      "DEBUG:urllib3.connectionpool:https://www.tripadvisor.co.id:443 \"GET /Hotel_Review-g608487-d735701-Reviews-or25-Puri_Damai-Legian_Kuta_District_Bali.html HTTP/1.1\" 200 None\n"
     ]
    },
    {
     "name": "stdout",
     "output_type": "stream",
     "text": [
      "reply: 'HTTP/1.1 200 OK\\r\\n'\n",
      "header: Server: envoy\n",
      "header: Link: <https://media-cdn.tripadvisor.com/media/>;rel=\"preconnect\";crossorigin\n",
      "header: Link: <https://media-cdn.tripadvisor.com/media/>;rel=\"dns-prefetch\"\n",
      "header: p3p: CP=\"NOI CURa ADMa DEVa TAIa OUR BUS IND UNI COM NAV INT DSP COR CAO PSA IDC ADM DEVi TAIi PSD IVAi IVDi CONi HIS CNT\"\n",
      "header: Pragma: no-cache\n",
      "header: Cache-Control: no-cache, no-store, must-revalidate\n",
      "header: Expires: 0\n",
      "header: Content-Language: id\n",
      "header: Link: <https://static.tacdn.com>;rel=\"dns-prefetch\"\n",
      "header: Link: <https://static.tacdn.com>;rel=\"preconnect\";crossorigin\n",
      "header: timing-allow-origin: https://www.tripadvisor.com\n",
      "header: Vary: Accept-Encoding\n",
      "header: Content-Type: text/html;charset=UTF-8\n",
      "header: Accept-CH: Sec-CH-UA,Sec-CH-UA-Mobile,Sec-CH-UA-Platform,Sec-CH-UA-Arch,Sec-CH-UA-Full-Version-List,Sec-CH-UA-Model,Sec-CH-Device-Memory\n",
      "header: x-datadome: protected\n",
      "header: Content-Encoding: gzip\n",
      "header: x-request-id: ed18d6b7-5379-4705-a25d-be039a81544c\n",
      "header: Date: Fri, 26 May 2023 00:57:46 GMT\n",
      "header: Transfer-Encoding: chunked\n",
      "header: Connection: keep-alive\n",
      "header: Connection: Transfer-Encoding\n",
      "header: Set-Cookie: TADCID=P-WRhsYlw0Bowe2ZABQCXdElnkGETRW-Svh01l3nWnXCZkUdoDoBItQ60Hj2q1k6ibaZYFxETEWQN34CqHvksQkgt33a_brzTjg; Domain=www.tripadvisor.co.id; Expires=Mon, 23-May-2033 00:57:46 GMT; Path=/; Secure; HttpOnly\n",
      "header: Set-Cookie: TAUnique=%1%enc%3AiyVYLMthAw7%2B7H78yfwekiHKVVkteNxIEkufZlHlQUk2jHwltRJPGQ%3D%3D; Domain=.tripadvisor.co.id; Expires=Sun, 25-May-2025 00:57:46 GMT; Path=/; HttpOnly\n",
      "header: Set-Cookie: TASSK=enc%3AABO8jH3Rdslq0X%2FLfHo20bfNqa5o%2BtIEvIvYs30cGpCIM5MA9v3pu4828nOZVJ%2FtvkrWtBHT%2BjZchQjBO3KMJPSPv6K8G0n%2FC5rBOiD%2BbADa3XXSAk6MV%2FVvH%2B%2BrN9on1Q%3D%3D; Domain=www.tripadvisor.co.id; Expires=Wed, 22-Nov-2023 00:57:46 GMT; Path=/; HttpOnly\n",
      "header: Set-Cookie: TASession=V2ID.4989524FB97246C985C2D5115751E377*SQ.1*HS.recommended*ES.popularity*DS.5*SAS.popularity*FPS.oldFirst*LF.in*FA.1*DF.0*TRA.true*LD.735701; Domain=.tripadvisor.co.id; Path=/\n",
      "header: Set-Cookie: ServerPool=A; Domain=.tripadvisor.co.id; Path=/\n",
      "header: Set-Cookie: PMC=V2*MS.18*MD.20230525*LD.20230525; Domain=www.tripadvisor.co.id; Expires=Sun, 25-May-2025 00:57:46 GMT; Path=/; Secure; HttpOnly\n",
      "header: Set-Cookie: TART=%1%enc%3A%2Fux%2B%2FMn8HpJSWria%2BJfDSpgoPqS8enW3LCS5vIFUhSR5aJcqjwJcm4VZV9UATEpZJ7r1iEgl44g%3D; Domain=www.tripadvisor.co.id; Expires=Wed, 31-May-2023 00:57:46 GMT; Path=/; HttpOnly\n",
      "header: Set-Cookie: CM=%1%PremiumMobSess%2C%2C-1%7Ct4b-pc%2C%2C-1%7CRestAds%2FRPers%2C%2C-1%7CRCPers%2C%2C-1%7CWShadeSeen%2C%2C-1%7CTheForkMCCPers%2C%2C-1%7CHomeASess%2C%2C-1%7CPremiumMCSess%2C%2C-1%7CCrisisSess%2C%2C-1%7CUVOwnersSess%2C%2C-1%7CRestPremRSess%2C%2C-1%7CRepTarMCSess%2C%2C-1%7CCCSess%2C%2C-1%7CCYLSess%2C%2C-1%7CPremRetPers%2C%2C-1%7CViatorMCPers%2C%2C-1%7Csesssticker%2C%2C-1%7C%24%2C%2C-1%7CPremiumORSess%2C%2C-1%7Ct4b-sc%2C%2C-1%7CRestAdsPers%2C%2C-1%7CMC_IB_UPSELL_IB_LOGOS2%2C%2C-1%7CTSMCPers%2C%2C-1%7Cb2bmcpers%2C%2C-1%7CPremMCBtmSess%2C%2C-1%7CMC_IB_UPSELL_IB_LOGOS%2C%2C-1%7CLaFourchette+Banners%2C%2C-1%7Csess_rev%2C%2C-1%7Csessamex%2C%2C-1%7CPremiumRRSess%2C%2C-1%7CTADORSess%2C%2C-1%7CAdsRetPers%2C%2C-1%7CListMCSess%2C%2C-1%7CTARSWBPers%2C%2C-1%7CSPMCSess%2C%2C-1%7CTheForkORSess%2C%2C-1%7CTheForkRRSess%2C%2C-1%7Cpers_rev%2C%2C-1%7CRBAPers%2C%2C-1%7CRestAds%2FRSess%2C%2C-1%7CHomeAPers%2C%2C-1%7CPremiumMobPers%2C%2C-1%7CRCSess%2C%2C-1%7CLaFourchette+MC+Banners%2C%2C-1%7CRestAdsCCSess%2C%2C-1%7CRestPremRPers%2C%2C-1%7CRevHubRMPers%2C%2C-1%7CUVOwnersPers%2C%2C-1%7Cpssamex%2C%2C-1%7CTheForkMCCSess%2C%2C-1%7CCrisisPers%2C%2C-1%7CCYLPers%2C%2C-1%7CCCPers%2C%2C-1%7CRepTarMCPers%2C%2C-1%7Cb2bmcsess%2C%2C-1%7CTSMCSess%2C%2C-1%7CSPMCPers%2C%2C-1%7CRevHubRMSess%2C%2C-1%7CPremRetSess%2C%2C-1%7CViatorMCSess%2C%2C-1%7CPremiumMCPers%2C%2C-1%7CAdsRetSess%2C%2C-1%7CPremiumRRPers%2C%2C-1%7CRestAdsCCPers%2C%2C-1%7CTADORPers%2C%2C-1%7CTheForkORPers%2C%2C-1%7CPremMCBtmPers%2C%2C-1%7CTheForkRRPers%2C%2C-1%7CTARSWBSess%2C%2C-1%7CPremiumORPers%2C%2C-1%7CRestAdsSess%2C%2C-1%7CRBASess%2C%2C-1%7CSPORPers%2C%2C-1%7Cperssticker%2C%2C-1%7CListMCPers%2C%2C-1%7C; Domain=.tripadvisor.co.id; Expires=Mon, 23-May-2033 00:57:46 GMT; Path=/\n",
      "header: Set-Cookie: BEPIN=%1%188558fc81f%3Bweb197a.a.tripadvisor.com%3A30023%3B; Domain=.tripadvisor.co.id; Path=/\n",
      "header: Set-Cookie: PAC=APYDKM976mqefSVWsP_Idp4ewDF7lLl2Bv1_99pKpacYl5ytublQVq09gUJ2qTTZggNJJQJhFgqe_nokEAtuu66iqVp96SnFIT0JN2Vokd0w1tffV7ESZb-U9gfJxRfcNIyK4ch0sgAN4_I36gRunCK1LmUHTUoLpxisZ-zNrSOP5d7JfcvCBi0D-WDezJCPT9s_6EzZbtA52oCRA0TIWoo%3D; Domain=www.tripadvisor.co.id; Expires=Sun, 25-May-2025 00:57:46 GMT; Path=/; Secure; HttpOnly\n",
      "header: Set-Cookie: SRT=TART_SYNC; Domain=www.tripadvisor.co.id; Expires=Fri, 26-May-2023 01:27:46 GMT; Path=/\n",
      "header: Set-Cookie: TATravelInfo=V2*AY.2023*AM.6*AD.4*DY.2023*DM.6*DD.5*A.2*MG.-1*HP.2*FL.3*DSM.1685062666356*RS.1; Domain=.tripadvisor.co.id; Expires=Fri, 09-Jun-2023 00:57:46 GMT; Path=/\n",
      "header: Set-Cookie: TAUD=LG-1685062666240-2.1.F.*RDD-2-2023_05_26*HDD-3-2023_06_04.2023_06_05.1; Domain=.tripadvisor.co.id; Expires=Fri, 09-Jun-2023 00:57:46 GMT; Path=/\n",
      "header: Set-Cookie: TASID=4989524FB97246C985C2D5115751E377; Domain=www.tripadvisor.co.id; Expires=Fri, 26-May-2023 01:27:46 GMT; Path=/; Secure\n",
      "header: Set-Cookie: TAReturnTo=%1%%2FHotel_Review-g608487-d735701-Reviews-or25-Puri_Damai-Legian_Kuta_District_Bali.html; Domain=.tripadvisor.co.id; Path=/\n",
      "header: Set-Cookie: datadome=0SDk~G6L55B7b8fII42~hyC~hCKDA1gU2-AaXNjjRpmpdS7odtPfe-pS_9T-RfnEcRejS6uhIPRRF0Xi65EuMLP3UHCEoU4tR2oB5CCH0WHI6xrfBaAGMAOOzQ6TlhMP; Max-Age=31104000; Domain=.tripadvisor.co.id; Path=/; Secure; SameSite=Lax\n",
      "Done Scrapping Puri Damai page 5\n",
      "\n",
      "\n"
     ]
    },
    {
     "name": "stderr",
     "output_type": "stream",
     "text": [
      "DEBUG:urllib3.connectionpool:Starting new HTTPS connection (1): www.tripadvisor.co.id:443\n"
     ]
    },
    {
     "name": "stdout",
     "output_type": "stream",
     "text": [
      "send: b'GET /Hotel_Review-g608487-d735701-Reviews-or30-Puri_Damai-Legian_Kuta_District_Bali.html HTTP/1.1\\r\\nHost: www.tripadvisor.co.id\\r\\nUser-Agent: Mozilla/5.0 (X11; CrOS x86_64 12871.102.0) AppleWebKit/537.36 (KHTML, like Gecko) Chrome/81.0.4044.141 Safari/537.36\\r\\nAccept-Encoding: gzip, deflate\\r\\nAccept: */*\\r\\nConnection: keep-alive\\r\\n\\r\\n'\n"
     ]
    },
    {
     "name": "stderr",
     "output_type": "stream",
     "text": [
      "DEBUG:urllib3.connectionpool:https://www.tripadvisor.co.id:443 \"GET /Hotel_Review-g608487-d735701-Reviews-or30-Puri_Damai-Legian_Kuta_District_Bali.html HTTP/1.1\" 200 None\n"
     ]
    },
    {
     "name": "stdout",
     "output_type": "stream",
     "text": [
      "reply: 'HTTP/1.1 200 OK\\r\\n'\n",
      "header: Server: envoy\n",
      "header: Link: <https://media-cdn.tripadvisor.com/media/>;rel=\"preconnect\";crossorigin\n",
      "header: Link: <https://media-cdn.tripadvisor.com/media/>;rel=\"dns-prefetch\"\n",
      "header: p3p: CP=\"NOI CURa ADMa DEVa TAIa OUR BUS IND UNI COM NAV INT DSP COR CAO PSA IDC ADM DEVi TAIi PSD IVAi IVDi CONi HIS CNT\"\n",
      "header: Pragma: no-cache\n",
      "header: Cache-Control: no-cache, no-store, must-revalidate\n",
      "header: Expires: 0\n",
      "header: Content-Language: id\n",
      "header: Link: <https://static.tacdn.com>;rel=\"dns-prefetch\"\n",
      "header: Link: <https://static.tacdn.com>;rel=\"preconnect\";crossorigin\n",
      "header: timing-allow-origin: https://www.tripadvisor.com\n",
      "header: Vary: Accept-Encoding\n",
      "header: Content-Type: text/html;charset=UTF-8\n",
      "header: x-datadome: protected\n",
      "header: Accept-CH: Sec-CH-UA,Sec-CH-UA-Mobile,Sec-CH-UA-Platform,Sec-CH-UA-Arch,Sec-CH-UA-Full-Version-List,Sec-CH-UA-Model,Sec-CH-Device-Memory\n",
      "header: Content-Encoding: gzip\n",
      "header: x-request-id: 7603c5e7-efe9-4a18-9499-ffb029cf7386\n",
      "header: Date: Fri, 26 May 2023 00:57:51 GMT\n",
      "header: Transfer-Encoding: chunked\n",
      "header: Connection: keep-alive\n",
      "header: Connection: Transfer-Encoding\n",
      "header: Set-Cookie: TADCID=4lkI1qTg8JymgkA-ABQCXdElnkGETRW-Svh01l3nWnXCZhLUV1JLVAsl1mSb4eS8s2kTzs-5eJywAQq_IHuN5_CqaEZoTwSoEzU; Domain=www.tripadvisor.co.id; Expires=Mon, 23-May-2033 00:57:50 GMT; Path=/; Secure; HttpOnly\n",
      "header: Set-Cookie: TAUnique=%1%enc%3AJp8qFcn4cmb%2B7H78yfwekiHKVVkteNxI8G3S3gisD9I2jHwltRJPGQ%3D%3D; Domain=.tripadvisor.co.id; Expires=Sun, 25-May-2025 00:57:50 GMT; Path=/; HttpOnly\n",
      "header: Set-Cookie: TASSK=enc%3AAJDchcGDEkf4gW33Bq%2BSgMVLQ0i2ATU2ewe2OtTP9hPqCaWD2mJiUkLUVrG0IAaGyhrWkCjLM%2BVpnu69dQcBko3HQ%2FAOZnGEbopK1%2BqAIbp9rc%2BUViAGW3vMRGjEjkO78A%3D%3D; Domain=www.tripadvisor.co.id; Expires=Wed, 22-Nov-2023 00:57:51 GMT; Path=/; HttpOnly\n",
      "header: Set-Cookie: TASession=V2ID.B7C4197F09D34A39AFE89B07D211128F*SQ.1*HS.recommended*ES.popularity*DS.5*SAS.popularity*FPS.oldFirst*LF.in*FA.1*DF.0*TRA.true*LD.735701; Domain=.tripadvisor.co.id; Path=/\n",
      "header: Set-Cookie: ServerPool=B; Domain=.tripadvisor.co.id; Path=/\n",
      "header: Set-Cookie: PMC=V2*MS.88*MD.20230525*LD.20230525; Domain=www.tripadvisor.co.id; Expires=Sun, 25-May-2025 00:57:51 GMT; Path=/; Secure; HttpOnly\n",
      "header: Set-Cookie: TART=%1%enc%3A%2Fux%2B%2FMn8HpL76McJpHvs2yCZgSqEuBvQpfDDUBUKVvnJ%2FHRaYlUM86gNdnOZPS3%2BUHBdG3udNiw%3D; Domain=www.tripadvisor.co.id; Expires=Wed, 31-May-2023 00:57:51 GMT; Path=/; HttpOnly\n",
      "header: Set-Cookie: CM=%1%PremiumMobSess%2C%2C-1%7Ct4b-pc%2C%2C-1%7CRestAds%2FRPers%2C%2C-1%7CRCPers%2C%2C-1%7CWShadeSeen%2C%2C-1%7CTheForkMCCPers%2C%2C-1%7CHomeASess%2C%2C-1%7CPremiumMCSess%2C%2C-1%7CCrisisSess%2C%2C-1%7CUVOwnersSess%2C%2C-1%7CRestPremRSess%2C%2C-1%7CRepTarMCSess%2C%2C-1%7CCCSess%2C%2C-1%7CCYLSess%2C%2C-1%7CPremRetPers%2C%2C-1%7CViatorMCPers%2C%2C-1%7Csesssticker%2C%2C-1%7C%24%2C%2C-1%7CPremiumORSess%2C%2C-1%7Ct4b-sc%2C%2C-1%7CRestAdsPers%2C%2C-1%7CMC_IB_UPSELL_IB_LOGOS2%2C%2C-1%7CTSMCPers%2C%2C-1%7Cb2bmcpers%2C%2C-1%7CPremMCBtmSess%2C%2C-1%7CMC_IB_UPSELL_IB_LOGOS%2C%2C-1%7CLaFourchette+Banners%2C%2C-1%7Csess_rev%2C%2C-1%7Csessamex%2C%2C-1%7CPremiumRRSess%2C%2C-1%7CTADORSess%2C%2C-1%7CAdsRetPers%2C%2C-1%7CListMCSess%2C%2C-1%7CTARSWBPers%2C%2C-1%7CSPMCSess%2C%2C-1%7CTheForkORSess%2C%2C-1%7CTheForkRRSess%2C%2C-1%7Cpers_rev%2C%2C-1%7CRBAPers%2C%2C-1%7CRestAds%2FRSess%2C%2C-1%7CHomeAPers%2C%2C-1%7CPremiumMobPers%2C%2C-1%7CRCSess%2C%2C-1%7CLaFourchette+MC+Banners%2C%2C-1%7CRestAdsCCSess%2C%2C-1%7CRestPremRPers%2C%2C-1%7CRevHubRMPers%2C%2C-1%7CUVOwnersPers%2C%2C-1%7Cpssamex%2C%2C-1%7CTheForkMCCSess%2C%2C-1%7CCrisisPers%2C%2C-1%7CCYLPers%2C%2C-1%7CCCPers%2C%2C-1%7CRepTarMCPers%2C%2C-1%7Cb2bmcsess%2C%2C-1%7CTSMCSess%2C%2C-1%7CSPMCPers%2C%2C-1%7CRevHubRMSess%2C%2C-1%7CPremRetSess%2C%2C-1%7CViatorMCSess%2C%2C-1%7CPremiumMCPers%2C%2C-1%7CAdsRetSess%2C%2C-1%7CPremiumRRPers%2C%2C-1%7CRestAdsCCPers%2C%2C-1%7CTADORPers%2C%2C-1%7CTheForkORPers%2C%2C-1%7CPremMCBtmPers%2C%2C-1%7CTheForkRRPers%2C%2C-1%7CTARSWBSess%2C%2C-1%7CPremiumORPers%2C%2C-1%7CRestAdsSess%2C%2C-1%7CRBASess%2C%2C-1%7CSPORPers%2C%2C-1%7Cperssticker%2C%2C-1%7CListMCPers%2C%2C-1%7C; Domain=.tripadvisor.co.id; Expires=Mon, 23-May-2033 00:57:51 GMT; Path=/\n",
      "header: Set-Cookie: BEPIN=%1%188558fd923%3Bweb149a.a.tripadvisor.com%3A30023%3B; Domain=.tripadvisor.co.id; Path=/\n",
      "header: Set-Cookie: PAC=AJNnI3WxsmdPYoRQS3IQkeUgB3AD97mctgGWIDy5GJ-b9KLla2fp6C3D7Z7KSYniZISBpq4VeKRUqyvpwZy-jOH5qApeNEHpPwicf1TTEOUAXnmZlDGEk3evVmhj7cZyzasIKyam1erTnh4dfl1OPXb4ZYMKn_so8yIAgsjqVpfye7Py7tbn5WKxgFhmXI4nl2qP73T_mHqeYK4piM_mm1M%3D; Domain=www.tripadvisor.co.id; Expires=Sun, 25-May-2025 00:57:51 GMT; Path=/; Secure; HttpOnly\n",
      "header: Set-Cookie: SRT=TART_SYNC; Domain=www.tripadvisor.co.id; Expires=Fri, 26-May-2023 01:27:51 GMT; Path=/\n",
      "header: Set-Cookie: TATravelInfo=V2*AY.2023*AM.6*AD.4*DY.2023*DM.6*DD.5*A.2*MG.-1*HP.2*FL.3*DSM.1685062670718*RS.1; Domain=.tripadvisor.co.id; Expires=Fri, 09-Jun-2023 00:57:51 GMT; Path=/\n",
      "header: Set-Cookie: TAUD=LG-1685062670598-2.1.F.*RDD-2-2023_05_26*HDD-3-2023_06_04.2023_06_05.1; Domain=.tripadvisor.co.id; Expires=Fri, 09-Jun-2023 00:57:51 GMT; Path=/\n",
      "header: Set-Cookie: TASID=B7C4197F09D34A39AFE89B07D211128F; Domain=www.tripadvisor.co.id; Expires=Fri, 26-May-2023 01:27:51 GMT; Path=/; Secure\n",
      "header: Set-Cookie: TAReturnTo=%1%%2FHotel_Review-g608487-d735701-Reviews-or30-Puri_Damai-Legian_Kuta_District_Bali.html; Domain=.tripadvisor.co.id; Path=/\n",
      "header: Set-Cookie: datadome=0LgIqo5Nyqfw_8xTQjK-4~RiT0XPboLgWK46qpuRC2BGJRfsv4AF75-H-xP-hoW0v_Ow2DWHZmDn6lpGrTyjgTq-CQQ_dO1icJMkW8d4dqkqB_1UCL~LVgZ4rx5dcE6b; Max-Age=31104000; Domain=.tripadvisor.co.id; Path=/; Secure; SameSite=Lax\n",
      "Done Scrapping Puri Damai page 6\n",
      "\n",
      "\n"
     ]
    },
    {
     "name": "stderr",
     "output_type": "stream",
     "text": [
      "DEBUG:urllib3.connectionpool:Starting new HTTPS connection (1): www.tripadvisor.co.id:443\n"
     ]
    },
    {
     "name": "stdout",
     "output_type": "stream",
     "text": [
      "send: b'GET /Hotel_Review-g608487-d735701-Reviews-or35-Puri_Damai-Legian_Kuta_District_Bali.html HTTP/1.1\\r\\nHost: www.tripadvisor.co.id\\r\\nUser-Agent: Mozilla/5.0 (X11; CrOS x86_64 12871.102.0) AppleWebKit/537.36 (KHTML, like Gecko) Chrome/81.0.4044.141 Safari/537.36\\r\\nAccept-Encoding: gzip, deflate\\r\\nAccept: */*\\r\\nConnection: keep-alive\\r\\n\\r\\n'\n"
     ]
    },
    {
     "name": "stderr",
     "output_type": "stream",
     "text": [
      "DEBUG:urllib3.connectionpool:https://www.tripadvisor.co.id:443 \"GET /Hotel_Review-g608487-d735701-Reviews-or35-Puri_Damai-Legian_Kuta_District_Bali.html HTTP/1.1\" 200 None\n"
     ]
    },
    {
     "name": "stdout",
     "output_type": "stream",
     "text": [
      "reply: 'HTTP/1.1 200 OK\\r\\n'\n",
      "header: Server: envoy\n",
      "header: Link: <https://media-cdn.tripadvisor.com/media/>;rel=\"preconnect\";crossorigin\n",
      "header: Link: <https://media-cdn.tripadvisor.com/media/>;rel=\"dns-prefetch\"\n",
      "header: p3p: CP=\"NOI CURa ADMa DEVa TAIa OUR BUS IND UNI COM NAV INT DSP COR CAO PSA IDC ADM DEVi TAIi PSD IVAi IVDi CONi HIS CNT\"\n",
      "header: Pragma: no-cache\n",
      "header: Cache-Control: no-cache, no-store, must-revalidate\n",
      "header: Expires: 0\n",
      "header: Content-Language: id\n",
      "header: Link: <https://static.tacdn.com>;rel=\"dns-prefetch\"\n",
      "header: Link: <https://static.tacdn.com>;rel=\"preconnect\";crossorigin\n",
      "header: timing-allow-origin: https://www.tripadvisor.com\n",
      "header: Vary: Accept-Encoding\n",
      "header: Content-Type: text/html;charset=UTF-8\n",
      "header: x-datadome: protected\n",
      "header: Accept-CH: Sec-CH-UA,Sec-CH-UA-Mobile,Sec-CH-UA-Platform,Sec-CH-UA-Arch,Sec-CH-UA-Full-Version-List,Sec-CH-UA-Model,Sec-CH-Device-Memory\n",
      "header: Content-Encoding: gzip\n",
      "header: x-request-id: 2fb6c1b5-6957-4b2d-b6b5-3fcc78867d5b\n",
      "header: Date: Fri, 26 May 2023 00:57:55 GMT\n",
      "header: Transfer-Encoding: chunked\n",
      "header: Connection: keep-alive\n",
      "header: Connection: Transfer-Encoding\n",
      "header: Set-Cookie: TADCID=J4yzuZFNzaCNIX4lABQCXdElnkGETRW-Svh01l3nWnXCZtAVzHtM8GOkDUjbKmCkN15rDfy0NMGmPafsN8VRfm5JvJhdzM1p6Vs; Domain=www.tripadvisor.co.id; Expires=Mon, 23-May-2033 00:57:55 GMT; Path=/; Secure; HttpOnly\n",
      "header: Set-Cookie: TAUnique=%1%enc%3AHARC1EMLan7%2B7H78yfwekiHKVVkteNxIRz8MzS01F3E2jHwltRJPGQ%3D%3D; Domain=.tripadvisor.co.id; Expires=Sun, 25-May-2025 00:57:55 GMT; Path=/; HttpOnly\n",
      "header: Set-Cookie: TASSK=enc%3AAFVuPzlbOBSp5Bl1Ac8XBnVnGapdk2KP%2FcIqdHYNoriBhWK329pADJq7Bji24cU%2Bm9eQpmEPOBdwjvGTeEiYxkkR9Iwt9PWRiXyAtWtd5gXfkg7iTQZKDhy%2F5xXnbO7nzw%3D%3D; Domain=www.tripadvisor.co.id; Expires=Wed, 22-Nov-2023 00:57:55 GMT; Path=/; HttpOnly\n",
      "header: Set-Cookie: TASession=V2ID.9F637BDB887C4D81BABE0061329022A1*SQ.1*HS.recommended*ES.popularity*DS.5*SAS.popularity*FPS.oldFirst*LF.in*FA.1*DF.0*TRA.true*LD.735701; Domain=.tripadvisor.co.id; Path=/\n",
      "header: Set-Cookie: ServerPool=A; Domain=.tripadvisor.co.id; Path=/\n",
      "header: Set-Cookie: PMC=V2*MS.95*MD.20230525*LD.20230525; Domain=www.tripadvisor.co.id; Expires=Sun, 25-May-2025 00:57:55 GMT; Path=/; Secure; HttpOnly\n",
      "header: Set-Cookie: TART=%1%enc%3A%2Fux%2B%2FMn8HpKiaJVIdY0%2F8V9%2BENAhTnK69JwjfvPmg0NbmQIno7jEYJREWua5zCjW5jVki%2Fentws%3D; Domain=www.tripadvisor.co.id; Expires=Wed, 31-May-2023 00:57:55 GMT; Path=/; HttpOnly\n",
      "header: Set-Cookie: CM=%1%PremiumMobSess%2C%2C-1%7Ct4b-pc%2C%2C-1%7CRestAds%2FRPers%2C%2C-1%7CRCPers%2C%2C-1%7CWShadeSeen%2C%2C-1%7CTheForkMCCPers%2C%2C-1%7CHomeASess%2C%2C-1%7CPremiumMCSess%2C%2C-1%7CCrisisSess%2C%2C-1%7CUVOwnersSess%2C%2C-1%7CRestPremRSess%2C%2C-1%7CRepTarMCSess%2C%2C-1%7CCCSess%2C%2C-1%7CCYLSess%2C%2C-1%7CPremRetPers%2C%2C-1%7CViatorMCPers%2C%2C-1%7Csesssticker%2C%2C-1%7C%24%2C%2C-1%7CPremiumORSess%2C%2C-1%7Ct4b-sc%2C%2C-1%7CRestAdsPers%2C%2C-1%7CMC_IB_UPSELL_IB_LOGOS2%2C%2C-1%7CTSMCPers%2C%2C-1%7Cb2bmcpers%2C%2C-1%7CPremMCBtmSess%2C%2C-1%7CMC_IB_UPSELL_IB_LOGOS%2C%2C-1%7CLaFourchette+Banners%2C%2C-1%7Csess_rev%2C%2C-1%7Csessamex%2C%2C-1%7CPremiumRRSess%2C%2C-1%7CTADORSess%2C%2C-1%7CAdsRetPers%2C%2C-1%7CListMCSess%2C%2C-1%7CTARSWBPers%2C%2C-1%7CSPMCSess%2C%2C-1%7CTheForkORSess%2C%2C-1%7CTheForkRRSess%2C%2C-1%7Cpers_rev%2C%2C-1%7CRBAPers%2C%2C-1%7CRestAds%2FRSess%2C%2C-1%7CHomeAPers%2C%2C-1%7CPremiumMobPers%2C%2C-1%7CRCSess%2C%2C-1%7CLaFourchette+MC+Banners%2C%2C-1%7CRestAdsCCSess%2C%2C-1%7CRestPremRPers%2C%2C-1%7CRevHubRMPers%2C%2C-1%7CUVOwnersPers%2C%2C-1%7Cpssamex%2C%2C-1%7CTheForkMCCSess%2C%2C-1%7CCrisisPers%2C%2C-1%7CCYLPers%2C%2C-1%7CCCPers%2C%2C-1%7CRepTarMCPers%2C%2C-1%7Cb2bmcsess%2C%2C-1%7CTSMCSess%2C%2C-1%7CSPMCPers%2C%2C-1%7CRevHubRMSess%2C%2C-1%7CPremRetSess%2C%2C-1%7CViatorMCSess%2C%2C-1%7CPremiumMCPers%2C%2C-1%7CAdsRetSess%2C%2C-1%7CPremiumRRPers%2C%2C-1%7CRestAdsCCPers%2C%2C-1%7CTADORPers%2C%2C-1%7CTheForkORPers%2C%2C-1%7CPremMCBtmPers%2C%2C-1%7CTheForkRRPers%2C%2C-1%7CTARSWBSess%2C%2C-1%7CPremiumORPers%2C%2C-1%7CRestAdsSess%2C%2C-1%7CRBASess%2C%2C-1%7CSPORPers%2C%2C-1%7Cperssticker%2C%2C-1%7CListMCPers%2C%2C-1%7C; Domain=.tripadvisor.co.id; Expires=Mon, 23-May-2033 00:57:55 GMT; Path=/\n",
      "header: Set-Cookie: BEPIN=%1%188558feb1e%3Bweb271a.a.tripadvisor.com%3A30023%3B; Domain=.tripadvisor.co.id; Path=/\n",
      "header: Set-Cookie: PAC=AIleDLfP3s1pna5mwAQVCzRo0IjaXocVFiVdL698ARastVzRTMN2WW9frWlU0o_WP7skSDdSX84Yt6Ch9bmFEoWva0WaWY9l9ZIEQoS4gsO4pAIBGh_kWS9YBcnlu9fMxBKj1bm1hFWBSKrxIFzxDhyvW6WYyw-UZoLb72pCfpthP5HxCUKBPi8zsCNSur39pL3DOCP8X5Ly01DvuRtVYpM%3D; Domain=www.tripadvisor.co.id; Expires=Sun, 25-May-2025 00:57:55 GMT; Path=/; Secure; HttpOnly\n",
      "header: Set-Cookie: SRT=TART_SYNC; Domain=www.tripadvisor.co.id; Expires=Fri, 26-May-2023 01:27:55 GMT; Path=/\n",
      "header: Set-Cookie: TATravelInfo=V2*AY.2023*AM.6*AD.4*DY.2023*DM.6*DD.5*A.2*MG.-1*HP.2*FL.3*DSM.1685062675323*RS.1; Domain=.tripadvisor.co.id; Expires=Fri, 09-Jun-2023 00:57:55 GMT; Path=/\n",
      "header: Set-Cookie: TAUD=LG-1685062675213-2.1.F.*RDD-2-2023_05_26*HDD-3-2023_06_04.2023_06_05.1; Domain=.tripadvisor.co.id; Expires=Fri, 09-Jun-2023 00:57:55 GMT; Path=/\n",
      "header: Set-Cookie: TASID=9F637BDB887C4D81BABE0061329022A1; Domain=www.tripadvisor.co.id; Expires=Fri, 26-May-2023 01:27:55 GMT; Path=/; Secure\n",
      "header: Set-Cookie: TAReturnTo=%1%%2FHotel_Review-g608487-d735701-Reviews-or35-Puri_Damai-Legian_Kuta_District_Bali.html; Domain=.tripadvisor.co.id; Path=/\n",
      "header: Set-Cookie: datadome=5_b3jWdV2V7EA7GF5TyhrDFPsKBNHZIydj91PF9YHngrdJzc52GJaJYY8fHC2YGUnXaFrvQs0FVPF57i-zC1r4UTC~T5TKsp4vEWsdD3YgDNF3tTCggH55vZV9bmHUaE; Max-Age=31104000; Domain=.tripadvisor.co.id; Path=/; Secure; SameSite=Lax\n",
      "Done Scrapping Puri Damai page 7\n",
      "\n",
      "\n"
     ]
    },
    {
     "name": "stderr",
     "output_type": "stream",
     "text": [
      "DEBUG:urllib3.connectionpool:Starting new HTTPS connection (1): www.tripadvisor.co.id:443\n"
     ]
    },
    {
     "name": "stdout",
     "output_type": "stream",
     "text": [
      "send: b'GET /Hotel_Review-g608487-d735701-Reviews-or40-Puri_Damai-Legian_Kuta_District_Bali.html HTTP/1.1\\r\\nHost: www.tripadvisor.co.id\\r\\nUser-Agent: Mozilla/5.0 (X11; CrOS x86_64 12871.102.0) AppleWebKit/537.36 (KHTML, like Gecko) Chrome/81.0.4044.141 Safari/537.36\\r\\nAccept-Encoding: gzip, deflate\\r\\nAccept: */*\\r\\nConnection: keep-alive\\r\\n\\r\\n'\n"
     ]
    },
    {
     "name": "stderr",
     "output_type": "stream",
     "text": [
      "DEBUG:urllib3.connectionpool:https://www.tripadvisor.co.id:443 \"GET /Hotel_Review-g608487-d735701-Reviews-or40-Puri_Damai-Legian_Kuta_District_Bali.html HTTP/1.1\" 200 None\n"
     ]
    },
    {
     "name": "stdout",
     "output_type": "stream",
     "text": [
      "reply: 'HTTP/1.1 200 OK\\r\\n'\n",
      "header: Connection: keep-alive\n",
      "header: server: envoy\n",
      "header: link: <https://media-cdn.tripadvisor.com/media/>;rel=\"preconnect\";crossorigin\n",
      "header: link: <https://media-cdn.tripadvisor.com/media/>;rel=\"dns-prefetch\"\n",
      "header: link: <https://static.tacdn.com>;rel=\"preconnect\";crossorigin\n",
      "header: p3p: CP=\"NOI CURa ADMa DEVa TAIa OUR BUS IND UNI COM NAV INT DSP COR CAO PSA IDC ADM DEVi TAIi PSD IVAi IVDi CONi HIS CNT\"\n",
      "header: pragma: no-cache\n",
      "header: cache-control: no-cache, no-store, must-revalidate\n",
      "header: expires: 0\n",
      "header: content-language: id\n",
      "header: link: <https://static.tacdn.com>;rel=\"dns-prefetch\"\n",
      "header: set-cookie: TADCID=Kuykzn3OTMaChSsiABQCXdElnkGETRW-Svh01l3nWnXCZ8BL3rX0yD1GQaStVg4xC8RqwmDx1cN6agO1xK1cissti8r85VJURlU; Domain=www.tripadvisor.co.id; Expires=Mon, 23-May-2033 00:58:00 GMT; Path=/; Secure; HttpOnly\n",
      "header: set-cookie: TAUnique=%1%enc%3AE1V%2FkyQN09j%2B7H78yfwekiHKVVkteNxIA%2FvQdZQZTwc2jHwltRJPGQ%3D%3D; Domain=.tripadvisor.co.id; Expires=Sun, 25-May-2025 00:58:00 GMT; Path=/; HttpOnly\n",
      "header: set-cookie: __vt=e-aE9LZFiviAHY8wABQCwDrKuA05TCmUEEd0_4-PPCWgB7g5soyOWgX4jnROO-vCt43SpMqmc6C0L2SVr8tZKWuGy_zF0dq_vkJVzTZe5-H6kGb1O6gp89WVCeu9H-V-BCZlbM7Xltd-rx0unq2kXW7MzQ; Domain=www.tripadvisor.co.id; Expires=Fri, 26-May-2023 01:58:00 GMT; Path=/; Secure; HttpOnly\n",
      "header: set-cookie: TASSK=enc%3AAHLs96oal5ygE0L8VUd4Tkkw8t3Xh11Fw4MYN07kfPyLuxrEsCU2C92fAvuSDBN11iJx5hrswAqYkinvka35lvrUWZWszgNqTF%2FkxIcgDbR%2B%2BDM8JdM0sStqykw5nMyidw%3D%3D; Domain=www.tripadvisor.co.id; Expires=Wed, 22-Nov-2023 00:58:00 GMT; Path=/; HttpOnly\n",
      "header: set-cookie: TASession=V2ID.3F373807233E4408A734B6B40BB046B6*SQ.1*HS.recommended*ES.popularity*DS.5*SAS.popularity*FPS.oldFirst*LF.in*FA.1*DF.0*TRA.true*LD.735701*EAU._; Domain=.tripadvisor.co.id; Path=/\n",
      "header: set-cookie: ServerPool=B; Domain=.tripadvisor.co.id; Path=/\n",
      "header: set-cookie: PMC=V2*MS.67*MD.20230525*LD.20230525; Domain=www.tripadvisor.co.id; Expires=Sun, 25-May-2025 00:58:00 GMT; Path=/; Secure; HttpOnly\n",
      "header: set-cookie: TART=%1%enc%3A%2Fux%2B%2FMn8HpKX%2FquOOFWVM8XvS3cIOBTD4Y9k06mngQE7lm6aC5zmJT1qZkDQduJK5jVki%2Fentws%3D; Domain=www.tripadvisor.co.id; Expires=Wed, 31-May-2023 00:58:00 GMT; Path=/; HttpOnly\n",
      "header: set-cookie: CM=%1%PremiumMobSess%2C%2C-1%7Ct4b-pc%2C%2C-1%7CRestAds%2FRPers%2C%2C-1%7CRCPers%2C%2C-1%7CWShadeSeen%2C%2C-1%7CTheForkMCCPers%2C%2C-1%7CHomeASess%2C%2C-1%7CPremiumMCSess%2C%2C-1%7CCrisisSess%2C%2C-1%7CUVOwnersSess%2C%2C-1%7CRestPremRSess%2C%2C-1%7CRepTarMCSess%2C%2C-1%7CCCSess%2C%2C-1%7CCYLSess%2C%2C-1%7CPremRetPers%2C%2C-1%7CViatorMCPers%2C%2C-1%7Csesssticker%2C%2C-1%7C%24%2C%2C-1%7CPremiumORSess%2C%2C-1%7Ct4b-sc%2C%2C-1%7CRestAdsPers%2C%2C-1%7CMC_IB_UPSELL_IB_LOGOS2%2C%2C-1%7CTSMCPers%2C%2C-1%7Cb2bmcpers%2C%2C-1%7CPremMCBtmSess%2C%2C-1%7CMC_IB_UPSELL_IB_LOGOS%2C%2C-1%7CLaFourchette+Banners%2C%2C-1%7Csess_rev%2C%2C-1%7Csessamex%2C%2C-1%7CPremiumRRSess%2C%2C-1%7CTADORSess%2C%2C-1%7CAdsRetPers%2C%2C-1%7CListMCSess%2C%2C-1%7CTARSWBPers%2C%2C-1%7CSPMCSess%2C%2C-1%7CTheForkORSess%2C%2C-1%7CTheForkRRSess%2C%2C-1%7Cpers_rev%2C%2C-1%7CRBAPers%2C%2C-1%7CRestAds%2FRSess%2C%2C-1%7CHomeAPers%2C%2C-1%7CPremiumMobPers%2C%2C-1%7CRCSess%2C%2C-1%7CLaFourchette+MC+Banners%2C%2C-1%7CRestAdsCCSess%2C%2C-1%7CRestPremRPers%2C%2C-1%7CRevHubRMPers%2C%2C-1%7CUVOwnersPers%2C%2C-1%7Cpssamex%2C%2C-1%7CTheForkMCCSess%2C%2C-1%7CCrisisPers%2C%2C-1%7CCYLPers%2C%2C-1%7CCCPers%2C%2C-1%7CRepTarMCPers%2C%2C-1%7Cb2bmcsess%2C%2C-1%7CTSMCSess%2C%2C-1%7CSPMCPers%2C%2C-1%7CRevHubRMSess%2C%2C-1%7CPremRetSess%2C%2C-1%7CViatorMCSess%2C%2C-1%7CPremiumMCPers%2C%2C-1%7CAdsRetSess%2C%2C-1%7CPremiumRRPers%2C%2C-1%7CRestAdsCCPers%2C%2C-1%7CTADORPers%2C%2C-1%7CTheForkORPers%2C%2C-1%7CPremMCBtmPers%2C%2C-1%7CTheForkRRPers%2C%2C-1%7CTARSWBSess%2C%2C-1%7CPremiumORPers%2C%2C-1%7CRestAdsSess%2C%2C-1%7CRBASess%2C%2C-1%7CSPORPers%2C%2C-1%7Cperssticker%2C%2C-1%7CListMCPers%2C%2C-1%7C; Domain=.tripadvisor.co.id; Expires=Mon, 23-May-2033 00:58:00 GMT; Path=/\n",
      "header: set-cookie: BEPIN=%1%188558fffad%3Bweb123a.a.tripadvisor.com%3A30023%3B; Domain=.tripadvisor.co.id; Path=/\n",
      "header: set-cookie: PAC=AGEn7FMJXyRMxzJCQOHM4g42cYtfurjyyGHllxga-9itpoODNx3TT7dFCBiOKjcyo6olWW-v9bH92wMMTQeydZzsIqX1AST8CQsODXLlPErTrZE-EjQxkvDGu23hRMgPMRUjCgFPRWz5BrtzqJtBE5bTyC1Di5Uu06WB8joDqQW3PAd2FxTFhhtCdpzKwbDzzy14Hg8WmFlZxnlDYFrjM6Y%3D; Domain=www.tripadvisor.co.id; Expires=Sun, 25-May-2025 00:58:00 GMT; Path=/; Secure; HttpOnly\n",
      "header: set-cookie: SRT=TART_SYNC; Domain=www.tripadvisor.co.id; Expires=Fri, 26-May-2023 01:28:00 GMT; Path=/\n",
      "header: set-cookie: TATravelInfo=V2*AY.2023*AM.6*AD.4*DY.2023*DM.6*DD.5*A.2*MG.-1*HP.2*FL.3*DSM.1685062680597*RS.1; Domain=.tripadvisor.co.id; Expires=Fri, 09-Jun-2023 00:58:00 GMT; Path=/\n",
      "header: set-cookie: TAUD=LG-1685062680462-2.1.F.*RDD-2-2023_05_26*HDD-3-2023_06_04.2023_06_05.1; Domain=.tripadvisor.co.id; Expires=Fri, 09-Jun-2023 00:58:00 GMT; Path=/\n",
      "header: set-cookie: TASID=3F373807233E4408A734B6B40BB046B6; Domain=www.tripadvisor.co.id; Expires=Fri, 26-May-2023 01:28:00 GMT; Path=/; Secure\n",
      "header: set-cookie: TAReturnTo=%1%%2FHotel_Review-g608487-d735701-Reviews-or40-Puri_Damai-Legian_Kuta_District_Bali.html; Domain=.tripadvisor.co.id; Path=/\n",
      "header: timing-allow-origin: https://www.tripadvisor.com\n",
      "header: content-type: text/html;charset=UTF-8\n",
      "header: set-cookie: datadome=9dMcof9Bn-9AquBuT6jRFk6LBLFNe2t6rnETtYDe4Jatal5-b62W0F8JTk_-whnjvVC_EDasjSvMLnq~bw5qSfkCo8kTIVcUe3qT~uvHmXbhvX_L9jPdFTYL_YUGX7T; Max-Age=31104000; Domain=.tripadvisor.co.id; Path=/; Secure; SameSite=Lax\n",
      "header: x-datadome: protected\n",
      "header: accept-ch: Sec-CH-UA,Sec-CH-UA-Mobile,Sec-CH-UA-Platform,Sec-CH-UA-Arch,Sec-CH-UA-Full-Version-List,Sec-CH-UA-Model,Sec-CH-Device-Memory\n",
      "header: content-encoding: gzip\n",
      "header: x-request-id: c3ae168f-8fb0-4343-9085-aeedd59220d9\n",
      "header: Accept-Ranges: bytes\n",
      "header: Date: Fri, 26 May 2023 00:58:01 GMT\n",
      "header: Via: 1.1 varnish\n",
      "header: X-Served-By: cache-qpg1278-QPG\n",
      "header: X-Cache: MISS\n",
      "header: X-Cache-Hits: 0\n",
      "header: X-Timer: S1685062680.313337,VS0,VE823\n",
      "header: Vary: Accept-Encoding\n",
      "header: transfer-encoding: chunked\n",
      "Done Scrapping Puri Damai page 8\n",
      "\n",
      "\n"
     ]
    },
    {
     "name": "stderr",
     "output_type": "stream",
     "text": [
      "DEBUG:urllib3.connectionpool:Starting new HTTPS connection (1): www.tripadvisor.co.id:443\n"
     ]
    },
    {
     "name": "stdout",
     "output_type": "stream",
     "text": [
      "send: b'GET /Hotel_Review-g608487-d735701-Reviews-or45-Puri_Damai-Legian_Kuta_District_Bali.html HTTP/1.1\\r\\nHost: www.tripadvisor.co.id\\r\\nUser-Agent: Mozilla/5.0 (X11; CrOS x86_64 12871.102.0) AppleWebKit/537.36 (KHTML, like Gecko) Chrome/81.0.4044.141 Safari/537.36\\r\\nAccept-Encoding: gzip, deflate\\r\\nAccept: */*\\r\\nConnection: keep-alive\\r\\n\\r\\n'\n"
     ]
    },
    {
     "name": "stderr",
     "output_type": "stream",
     "text": [
      "DEBUG:urllib3.connectionpool:https://www.tripadvisor.co.id:443 \"GET /Hotel_Review-g608487-d735701-Reviews-or45-Puri_Damai-Legian_Kuta_District_Bali.html HTTP/1.1\" 200 None\n"
     ]
    },
    {
     "name": "stdout",
     "output_type": "stream",
     "text": [
      "reply: 'HTTP/1.1 200 OK\\r\\n'\n",
      "header: Connection: keep-alive\n",
      "header: server: envoy\n",
      "header: link: <https://media-cdn.tripadvisor.com/media/>;rel=\"preconnect\";crossorigin\n",
      "header: link: <https://media-cdn.tripadvisor.com/media/>;rel=\"dns-prefetch\"\n",
      "header: link: <https://static.tacdn.com>;rel=\"preconnect\";crossorigin\n",
      "header: p3p: CP=\"NOI CURa ADMa DEVa TAIa OUR BUS IND UNI COM NAV INT DSP COR CAO PSA IDC ADM DEVi TAIi PSD IVAi IVDi CONi HIS CNT\"\n",
      "header: pragma: no-cache\n",
      "header: cache-control: no-cache, no-store, must-revalidate\n",
      "header: expires: 0\n",
      "header: content-language: id\n",
      "header: link: <https://static.tacdn.com>;rel=\"dns-prefetch\"\n",
      "header: set-cookie: TADCID=-EJ9jpDPag5CowYsABQCXdElnkGETRW-Svh01l3nWnXCZw7b3FlMriuLToTj85iLu_bBJ7hMSzlRcfW2uEfPyNUgm9rPCsh55AE; Domain=www.tripadvisor.co.id; Expires=Mon, 23-May-2033 00:58:04 GMT; Path=/; Secure; HttpOnly\n",
      "header: set-cookie: TAUnique=%1%enc%3AuDVedQjmD2%2F%2B7H78yfwekiHKVVkteNxI8niYOE5tcjw2jHwltRJPGQ%3D%3D; Domain=.tripadvisor.co.id; Expires=Sun, 25-May-2025 00:58:04 GMT; Path=/; HttpOnly\n",
      "header: set-cookie: __vt=WX7tTT5vw6uyqA3-ABQCwDrKuA05TCmUEEd0_4-PPCWgB0JIqR5JL0xrvg2J91e3v60cp172Z71yt70q-vlevo6zf9xYXcHwM7GhgaDPJ2BXMWb0lnX6CXbq5hX-BpN_VbUlP-pLeWqndvrXyDdVtGrFy68; Domain=www.tripadvisor.co.id; Expires=Fri, 26-May-2023 01:58:04 GMT; Path=/; Secure; HttpOnly\n",
      "header: set-cookie: TASSK=enc%3AAPgd0tdo%2B%2BueI3TZYud%2FZGd9emrkcd%2FfX5vFTyiPxYPnX45l2ZRo8bp%2BRiEvqMXteQro%2F4J06gPqxOc4Ur%2Fc71PRL0kREdWLN2HZ0hVu9jInfpRJyqK7c%2FR7L0w78iy56w%3D%3D; Domain=www.tripadvisor.co.id; Expires=Wed, 22-Nov-2023 00:58:05 GMT; Path=/; HttpOnly\n",
      "header: set-cookie: TASession=V2ID.CEB6543AE0E44DDEB1F764CC706B8E18*SQ.1*HS.recommended*ES.popularity*DS.5*SAS.popularity*FPS.oldFirst*LF.in*FA.1*DF.0*TRA.true*LD.735701*EAU._; Domain=.tripadvisor.co.id; Path=/\n",
      "header: set-cookie: ServerPool=X; Domain=.tripadvisor.co.id; Path=/\n",
      "header: set-cookie: PMC=V2*MS.83*MD.20230525*LD.20230525; Domain=www.tripadvisor.co.id; Expires=Sun, 25-May-2025 00:58:05 GMT; Path=/; Secure; HttpOnly\n",
      "header: set-cookie: TART=%1%enc%3A%2Fux%2B%2FMn8HpL1cXaeg8gQnMSvLjYTcJG5MdWhble875FDnnDZLHrlN5fFLnPx1coUkagyFvowwb0%3D; Domain=www.tripadvisor.co.id; Expires=Wed, 31-May-2023 00:58:05 GMT; Path=/; HttpOnly\n",
      "header: set-cookie: CM=%1%PremiumMobSess%2C%2C-1%7Ct4b-pc%2C%2C-1%7CRestAds%2FRPers%2C%2C-1%7CRCPers%2C%2C-1%7CWShadeSeen%2C%2C-1%7CTheForkMCCPers%2C%2C-1%7CHomeASess%2C%2C-1%7CPremiumMCSess%2C%2C-1%7CCrisisSess%2C%2C-1%7CUVOwnersSess%2C%2C-1%7CRestPremRSess%2C%2C-1%7CRepTarMCSess%2C%2C-1%7CCCSess%2C%2C-1%7CCYLSess%2C%2C-1%7CPremRetPers%2C%2C-1%7CViatorMCPers%2C%2C-1%7Csesssticker%2C%2C-1%7C%24%2C%2C-1%7CPremiumORSess%2C%2C-1%7Ct4b-sc%2C%2C-1%7CRestAdsPers%2C%2C-1%7CMC_IB_UPSELL_IB_LOGOS2%2C%2C-1%7CTSMCPers%2C%2C-1%7Cb2bmcpers%2C%2C-1%7CPremMCBtmSess%2C%2C-1%7CMC_IB_UPSELL_IB_LOGOS%2C%2C-1%7CLaFourchette+Banners%2C%2C-1%7Csess_rev%2C%2C-1%7Csessamex%2C%2C-1%7CPremiumRRSess%2C%2C-1%7CTADORSess%2C%2C-1%7CAdsRetPers%2C%2C-1%7CListMCSess%2C%2C-1%7CTARSWBPers%2C%2C-1%7CSPMCSess%2C%2C-1%7CTheForkORSess%2C%2C-1%7CTheForkRRSess%2C%2C-1%7Cpers_rev%2C%2C-1%7CRBAPers%2C%2C-1%7CRestAds%2FRSess%2C%2C-1%7CHomeAPers%2C%2C-1%7CPremiumMobPers%2C%2C-1%7CRCSess%2C%2C-1%7CLaFourchette+MC+Banners%2C%2C-1%7CRestAdsCCSess%2C%2C-1%7CRestPremRPers%2C%2C-1%7CRevHubRMPers%2C%2C-1%7CUVOwnersPers%2C%2C-1%7Cpssamex%2C%2C-1%7CTheForkMCCSess%2C%2C-1%7CCrisisPers%2C%2C-1%7CCYLPers%2C%2C-1%7CCCPers%2C%2C-1%7CRepTarMCPers%2C%2C-1%7Cb2bmcsess%2C%2C-1%7CTSMCSess%2C%2C-1%7CSPMCPers%2C%2C-1%7CRevHubRMSess%2C%2C-1%7CPremRetSess%2C%2C-1%7CViatorMCSess%2C%2C-1%7CPremiumMCPers%2C%2C-1%7CAdsRetSess%2C%2C-1%7CPremiumRRPers%2C%2C-1%7CRestAdsCCPers%2C%2C-1%7CTADORPers%2C%2C-1%7CTheForkORPers%2C%2C-1%7CPremMCBtmPers%2C%2C-1%7CTheForkRRPers%2C%2C-1%7CTARSWBSess%2C%2C-1%7CPremiumORPers%2C%2C-1%7CRestAdsSess%2C%2C-1%7CRBASess%2C%2C-1%7CSPORPers%2C%2C-1%7Cperssticker%2C%2C-1%7CListMCPers%2C%2C-1%7C; Domain=.tripadvisor.co.id; Expires=Mon, 23-May-2033 00:58:05 GMT; Path=/\n",
      "header: set-cookie: BEPIN=%1%1885590109d%3Bweb225a.a.tripadvisor.com%3A30023%3B; Domain=.tripadvisor.co.id; Path=/\n",
      "header: set-cookie: PAC=ACj-3navxSeUoRgIC-XngSehc24BKjv0n2QMrchTJM3fXvhT59wqCuEvdwIrfGFGMLWSPQZKbvxAhpu4vZ6thMKw_G4eMIqUFLpRwxTdXzSm7Pg1wGQVQnGL07EfaGsR54bdk-AaClPekgkwyGkFjQTxORGS-YVMWI4IGZNtp3AIZs3sDjSbzWT1IqIZPn3kEiKOXLy10IzeGjck9qtYvcc%3D; Domain=www.tripadvisor.co.id; Expires=Sun, 25-May-2025 00:58:05 GMT; Path=/; Secure; HttpOnly\n",
      "header: set-cookie: SRT=TART_SYNC; Domain=www.tripadvisor.co.id; Expires=Fri, 26-May-2023 01:28:05 GMT; Path=/\n",
      "header: set-cookie: TATravelInfo=V2*AY.2023*AM.6*AD.4*DY.2023*DM.6*DD.5*A.2*MG.-1*HP.2*FL.3*DSM.1685062684914*RS.1; Domain=.tripadvisor.co.id; Expires=Fri, 09-Jun-2023 00:58:05 GMT; Path=/\n",
      "header: set-cookie: TAUD=LG-1685062684812-2.1.F.*RDD-2-2023_05_26*HDD-3-2023_06_04.2023_06_05.1; Domain=.tripadvisor.co.id; Expires=Fri, 09-Jun-2023 00:58:05 GMT; Path=/\n",
      "header: set-cookie: TASID=CEB6543AE0E44DDEB1F764CC706B8E18; Domain=www.tripadvisor.co.id; Expires=Fri, 26-May-2023 01:28:05 GMT; Path=/; Secure\n",
      "header: set-cookie: TAReturnTo=%1%%2FHotel_Review-g608487-d735701-Reviews-or45-Puri_Damai-Legian_Kuta_District_Bali.html; Domain=.tripadvisor.co.id; Path=/\n",
      "header: timing-allow-origin: https://www.tripadvisor.com\n",
      "header: content-type: text/html;charset=UTF-8\n",
      "header: x-datadome: protected\n",
      "header: accept-ch: Sec-CH-UA,Sec-CH-UA-Mobile,Sec-CH-UA-Platform,Sec-CH-UA-Arch,Sec-CH-UA-Full-Version-List,Sec-CH-UA-Model,Sec-CH-Device-Memory\n",
      "header: set-cookie: datadome=78IqdJdK1F7lYiN6rifotKWJ_MCfdhDmTATjG4lwih4E-jrvtPaHJmVt98b2Eyaw9qcR_Z2deRWu6YuwERnuGzxdh5w5ko1s9cYbNZ~SI5g9WC9PZxnNM8HGf3YFDPWf; Max-Age=31104000; Domain=.tripadvisor.co.id; Path=/; Secure; SameSite=Lax\n",
      "header: content-encoding: gzip\n",
      "header: x-request-id: 0bee7d18-950c-45c0-9430-f98a38a5e3a8\n",
      "header: Accept-Ranges: bytes\n",
      "header: Date: Fri, 26 May 2023 00:58:05 GMT\n",
      "header: Via: 1.1 varnish\n",
      "header: X-Served-By: cache-qpg1230-QPG\n",
      "header: X-Cache: MISS\n",
      "header: X-Cache-Hits: 0\n",
      "header: X-Timer: S1685062685.649703,VS0,VE724\n",
      "header: Vary: Accept-Encoding\n",
      "header: transfer-encoding: chunked\n",
      "Done Scrapping Puri Damai page 9\n",
      "\n",
      "\n"
     ]
    },
    {
     "name": "stderr",
     "output_type": "stream",
     "text": [
      "DEBUG:urllib3.connectionpool:Starting new HTTPS connection (1): www.tripadvisor.co.id:443\n"
     ]
    },
    {
     "name": "stdout",
     "output_type": "stream",
     "text": [
      "send: b'GET /Hotel_Review-g608487-d735701-Reviews-or50-Puri_Damai-Legian_Kuta_District_Bali.html HTTP/1.1\\r\\nHost: www.tripadvisor.co.id\\r\\nUser-Agent: Mozilla/5.0 (X11; CrOS x86_64 12871.102.0) AppleWebKit/537.36 (KHTML, like Gecko) Chrome/81.0.4044.141 Safari/537.36\\r\\nAccept-Encoding: gzip, deflate\\r\\nAccept: */*\\r\\nConnection: keep-alive\\r\\n\\r\\n'\n"
     ]
    },
    {
     "name": "stderr",
     "output_type": "stream",
     "text": [
      "DEBUG:urllib3.connectionpool:https://www.tripadvisor.co.id:443 \"GET /Hotel_Review-g608487-d735701-Reviews-or50-Puri_Damai-Legian_Kuta_District_Bali.html HTTP/1.1\" 200 None\n"
     ]
    },
    {
     "name": "stdout",
     "output_type": "stream",
     "text": [
      "reply: 'HTTP/1.1 200 OK\\r\\n'\n",
      "header: Connection: keep-alive\n",
      "header: server: envoy\n",
      "header: link: <https://media-cdn.tripadvisor.com/media/>;rel=\"preconnect\";crossorigin\n",
      "header: link: <https://media-cdn.tripadvisor.com/media/>;rel=\"dns-prefetch\"\n",
      "header: link: <https://static.tacdn.com>;rel=\"preconnect\";crossorigin\n",
      "header: p3p: CP=\"NOI CURa ADMa DEVa TAIa OUR BUS IND UNI COM NAV INT DSP COR CAO PSA IDC ADM DEVi TAIi PSD IVAi IVDi CONi HIS CNT\"\n",
      "header: pragma: no-cache\n",
      "header: cache-control: no-cache, no-store, must-revalidate\n",
      "header: expires: 0\n",
      "header: content-language: id\n",
      "header: link: <https://static.tacdn.com>;rel=\"dns-prefetch\"\n",
      "header: set-cookie: TADCID=1azwQaATzKxni1ONABQCXdElnkGETRW-Svh01l3nWnXCZ2DbdZCy4NjPUdcoIDn8R80-5fcRlApP21WW0wbye2ZjYgG-Nv2duBs; Domain=www.tripadvisor.co.id; Expires=Mon, 23-May-2033 00:58:09 GMT; Path=/; Secure; HttpOnly\n",
      "header: set-cookie: TAUnique=%1%enc%3AbmR9itff7Tb%2B7H78yfwekiHKVVkteNxITO3rFaOVyfM2jHwltRJPGQ%3D%3D; Domain=.tripadvisor.co.id; Expires=Sun, 25-May-2025 00:58:09 GMT; Path=/; HttpOnly\n",
      "header: set-cookie: __vt=yVOGZ6rAwV-tKbzYABQCwDrKuA05TCmUEEd0_4-PPCWgB-hiAWaFQGsTN6USh3izix_WC2p3AOXJZN5mkXrg2rQ_D9GGy3Ub3XYTLsgv5bm9LZKtVQfkLcQmcVLhUVqwNKFBK04bfKJp2LNf6ujFhex9T6A; Domain=www.tripadvisor.co.id; Expires=Fri, 26-May-2023 01:58:09 GMT; Path=/; Secure; HttpOnly\n",
      "header: set-cookie: TASSK=enc%3AALnoNgWvBtUwSJRw6lTqpDzPnJaeDKJn%2B%2BZQx%2F9Wrshp%2FmLiPKVrSdwQyDWq5xwHTJ%2FGSoS8dBmxkioCeGHSzoZ%2FBQRuyydlWeiuuPNuw2Hxm592B2BcuI253X2eoCdnbg%3D%3D; Domain=www.tripadvisor.co.id; Expires=Wed, 22-Nov-2023 00:58:09 GMT; Path=/; HttpOnly\n",
      "header: set-cookie: TASession=V2ID.A28D6E775E2847BDAD235D514218EB3B*SQ.1*HS.recommended*ES.popularity*DS.5*SAS.popularity*FPS.oldFirst*LF.in*FA.1*DF.0*TRA.true*LD.735701*EAU._; Domain=.tripadvisor.co.id; Path=/\n",
      "header: set-cookie: ServerPool=X; Domain=.tripadvisor.co.id; Path=/\n",
      "header: set-cookie: PMC=V2*MS.97*MD.20230525*LD.20230525; Domain=www.tripadvisor.co.id; Expires=Sun, 25-May-2025 00:58:09 GMT; Path=/; Secure; HttpOnly\n",
      "header: set-cookie: TART=%1%enc%3A%2Fux%2B%2FMn8HpK0XLu0M0hpG5E%2F8LkQIr0uuk0vM7yZS%2FZs7HDbc6ZSxq4EE0Wq4dFHyx9HjuV9fk0%3D; Domain=www.tripadvisor.co.id; Expires=Wed, 31-May-2023 00:58:09 GMT; Path=/; HttpOnly\n",
      "header: set-cookie: CM=%1%PremiumMobSess%2C%2C-1%7Ct4b-pc%2C%2C-1%7CRestAds%2FRPers%2C%2C-1%7CRCPers%2C%2C-1%7CWShadeSeen%2C%2C-1%7CTheForkMCCPers%2C%2C-1%7CHomeASess%2C%2C-1%7CPremiumMCSess%2C%2C-1%7CCrisisSess%2C%2C-1%7CUVOwnersSess%2C%2C-1%7CRestPremRSess%2C%2C-1%7CRepTarMCSess%2C%2C-1%7CCCSess%2C%2C-1%7CCYLSess%2C%2C-1%7CPremRetPers%2C%2C-1%7CViatorMCPers%2C%2C-1%7Csesssticker%2C%2C-1%7C%24%2C%2C-1%7CPremiumORSess%2C%2C-1%7Ct4b-sc%2C%2C-1%7CRestAdsPers%2C%2C-1%7CMC_IB_UPSELL_IB_LOGOS2%2C%2C-1%7CTSMCPers%2C%2C-1%7Cb2bmcpers%2C%2C-1%7CPremMCBtmSess%2C%2C-1%7CMC_IB_UPSELL_IB_LOGOS%2C%2C-1%7CLaFourchette+Banners%2C%2C-1%7Csess_rev%2C%2C-1%7Csessamex%2C%2C-1%7CPremiumRRSess%2C%2C-1%7CTADORSess%2C%2C-1%7CAdsRetPers%2C%2C-1%7CListMCSess%2C%2C-1%7CTARSWBPers%2C%2C-1%7CSPMCSess%2C%2C-1%7CTheForkORSess%2C%2C-1%7CTheForkRRSess%2C%2C-1%7Cpers_rev%2C%2C-1%7CRBAPers%2C%2C-1%7CRestAds%2FRSess%2C%2C-1%7CHomeAPers%2C%2C-1%7CPremiumMobPers%2C%2C-1%7CRCSess%2C%2C-1%7CLaFourchette+MC+Banners%2C%2C-1%7CRestAdsCCSess%2C%2C-1%7CRestPremRPers%2C%2C-1%7CRevHubRMPers%2C%2C-1%7CUVOwnersPers%2C%2C-1%7Cpssamex%2C%2C-1%7CTheForkMCCSess%2C%2C-1%7CCrisisPers%2C%2C-1%7CCYLPers%2C%2C-1%7CCCPers%2C%2C-1%7CRepTarMCPers%2C%2C-1%7Cb2bmcsess%2C%2C-1%7CTSMCSess%2C%2C-1%7CSPMCPers%2C%2C-1%7CRevHubRMSess%2C%2C-1%7CPremRetSess%2C%2C-1%7CViatorMCSess%2C%2C-1%7CPremiumMCPers%2C%2C-1%7CAdsRetSess%2C%2C-1%7CPremiumRRPers%2C%2C-1%7CRestAdsCCPers%2C%2C-1%7CTADORPers%2C%2C-1%7CTheForkORPers%2C%2C-1%7CPremMCBtmPers%2C%2C-1%7CTheForkRRPers%2C%2C-1%7CTARSWBSess%2C%2C-1%7CPremiumORPers%2C%2C-1%7CRestAdsSess%2C%2C-1%7CRBASess%2C%2C-1%7CSPORPers%2C%2C-1%7Cperssticker%2C%2C-1%7CListMCPers%2C%2C-1%7C; Domain=.tripadvisor.co.id; Expires=Mon, 23-May-2033 00:58:09 GMT; Path=/\n",
      "header: set-cookie: BEPIN=%1%18855902281%3Bweb225a.a.tripadvisor.com%3A30023%3B; Domain=.tripadvisor.co.id; Path=/\n",
      "header: set-cookie: PAC=ADj0VmR3XHlPJdYiGjw2lphYCLipr3qXFBiStYq5q7hJdGJQgO6hgysfJEfs1XnOUtpt3vT_pstoyYiR0kMQ-5myKJ93KPeGx8ojoWAgXkGNm1ElEEfZztHJXo2aQUt6vhs4F9TQbhfvwHtFjY-hBfVpRZUp_hIDtoi_3O-9BZQDvOin1WqusuA28Ovl79FBUvGpmMabUR9RjvS_TnO_CAw%3D; Domain=www.tripadvisor.co.id; Expires=Sun, 25-May-2025 00:58:09 GMT; Path=/; Secure; HttpOnly\n",
      "header: set-cookie: SRT=TART_SYNC; Domain=www.tripadvisor.co.id; Expires=Fri, 26-May-2023 01:28:09 GMT; Path=/\n",
      "header: set-cookie: TATravelInfo=V2*AY.2023*AM.6*AD.4*DY.2023*DM.6*DD.5*A.2*MG.-1*HP.2*FL.3*DSM.1685062689535*RS.1; Domain=.tripadvisor.co.id; Expires=Fri, 09-Jun-2023 00:58:09 GMT; Path=/\n",
      "header: set-cookie: TAUD=LG-1685062689373-2.1.F.*RDD-2-2023_05_26*HDD-3-2023_06_04.2023_06_05.1; Domain=.tripadvisor.co.id; Expires=Fri, 09-Jun-2023 00:58:09 GMT; Path=/\n",
      "header: set-cookie: TASID=A28D6E775E2847BDAD235D514218EB3B; Domain=www.tripadvisor.co.id; Expires=Fri, 26-May-2023 01:28:09 GMT; Path=/; Secure\n",
      "header: set-cookie: TAReturnTo=%1%%2FHotel_Review-g608487-d735701-Reviews-or50-Puri_Damai-Legian_Kuta_District_Bali.html; Domain=.tripadvisor.co.id; Path=/\n",
      "header: timing-allow-origin: https://www.tripadvisor.com\n",
      "header: content-type: text/html;charset=UTF-8\n",
      "header: accept-ch: Sec-CH-UA,Sec-CH-UA-Mobile,Sec-CH-UA-Platform,Sec-CH-UA-Arch,Sec-CH-UA-Full-Version-List,Sec-CH-UA-Model,Sec-CH-Device-Memory\n",
      "header: set-cookie: datadome=4xE-ODgPEEkST8N-mKxDLaVSZopuNz9XhXB1zW7-CuIbcvX8zAH8c9QK4hR6twLehIBEFmVl-OCQKaFEpivfUxdKNlKl4hfE6XnyHmtx-SqvikLfbZwln94ia~6_4Cjm; Max-Age=31104000; Domain=.tripadvisor.co.id; Path=/; Secure; SameSite=Lax\n",
      "header: x-datadome: protected\n",
      "header: content-encoding: gzip\n",
      "header: x-request-id: f5694427-5656-4623-bceb-aa33d378578c\n",
      "header: Accept-Ranges: bytes\n",
      "header: Date: Fri, 26 May 2023 00:58:10 GMT\n",
      "header: Via: 1.1 varnish\n",
      "header: X-Served-By: cache-qpg1249-QPG\n",
      "header: X-Cache: MISS\n",
      "header: X-Cache-Hits: 0\n",
      "header: X-Timer: S1685062689.199445,VS0,VE1025\n",
      "header: Vary: Accept-Encoding\n",
      "header: transfer-encoding: chunked\n",
      "Done Scrapping Puri Damai page 10\n",
      "\n",
      "\n"
     ]
    },
    {
     "name": "stderr",
     "output_type": "stream",
     "text": [
      "DEBUG:urllib3.connectionpool:Starting new HTTPS connection (1): www.tripadvisor.co.id:443\n"
     ]
    },
    {
     "name": "stdout",
     "output_type": "stream",
     "text": [
      "send: b'GET /Hotel_Review-g608487-d735701-Reviews-or55-Puri_Damai-Legian_Kuta_District_Bali.html HTTP/1.1\\r\\nHost: www.tripadvisor.co.id\\r\\nUser-Agent: Mozilla/5.0 (X11; CrOS x86_64 12871.102.0) AppleWebKit/537.36 (KHTML, like Gecko) Chrome/81.0.4044.141 Safari/537.36\\r\\nAccept-Encoding: gzip, deflate\\r\\nAccept: */*\\r\\nConnection: keep-alive\\r\\n\\r\\n'\n"
     ]
    },
    {
     "name": "stderr",
     "output_type": "stream",
     "text": [
      "DEBUG:urllib3.connectionpool:https://www.tripadvisor.co.id:443 \"GET /Hotel_Review-g608487-d735701-Reviews-or55-Puri_Damai-Legian_Kuta_District_Bali.html HTTP/1.1\" 200 None\n"
     ]
    },
    {
     "name": "stdout",
     "output_type": "stream",
     "text": [
      "reply: 'HTTP/1.1 200 OK\\r\\n'\n",
      "header: Connection: keep-alive\n",
      "header: server: envoy\n",
      "header: link: <https://media-cdn.tripadvisor.com/media/>;rel=\"preconnect\";crossorigin\n",
      "header: link: <https://media-cdn.tripadvisor.com/media/>;rel=\"dns-prefetch\"\n",
      "header: link: <https://static.tacdn.com>;rel=\"preconnect\";crossorigin\n",
      "header: p3p: CP=\"NOI CURa ADMa DEVa TAIa OUR BUS IND UNI COM NAV INT DSP COR CAO PSA IDC ADM DEVi TAIi PSD IVAi IVDi CONi HIS CNT\"\n",
      "header: pragma: no-cache\n",
      "header: cache-control: no-cache, no-store, must-revalidate\n",
      "header: expires: 0\n",
      "header: content-language: id\n",
      "header: link: <https://static.tacdn.com>;rel=\"dns-prefetch\"\n",
      "header: set-cookie: TADCID=nIcmGSfAe9BZ0HWVABQCXdElnkGETRW-Svh01l3nWnXCZ-1h-Ab6VGQWiPuoI2Ma79V8N8suo8vSDeOBs73fwIstxv6_Tli3bgc; Domain=www.tripadvisor.co.id; Expires=Mon, 23-May-2033 00:58:13 GMT; Path=/; Secure; HttpOnly\n",
      "header: set-cookie: TAUnique=%1%enc%3Adzoe5sVge0%2F%2B7H78yfwekiHKVVkteNxIb%2FNAEhQLQ582jHwltRJPGQ%3D%3D; Domain=.tripadvisor.co.id; Expires=Sun, 25-May-2025 00:58:13 GMT; Path=/; HttpOnly\n",
      "header: set-cookie: __vt=PdnP_KJl6hmqrNClABQCwDrKuA05TCmUEEd0_4-PPCWgBw6HvnTvXbsVvGJ9Rf3OE165rDflGETDAkQ9cQGlgeKErvUmqkW3Tv4plvl2pcaS34QsFkhDGNgN0kHY4VBnjzO9zoedaACNWlXdg_u913dp3g; Domain=www.tripadvisor.co.id; Expires=Fri, 26-May-2023 01:58:13 GMT; Path=/; Secure; HttpOnly\n",
      "header: set-cookie: TASSK=enc%3AAAh9q9%2BKKu%2BPSLKe2DkPxow%2B4OpeEZMhOpHaGMxFEt3du480tcA4wlVQH6Cn23FHXwWFLgccIZConHQ7vDvUijDlfjCeQCL696uYOeLjFnrWhUyLyKg6KDoCrl5TwdMMdQ%3D%3D; Domain=www.tripadvisor.co.id; Expires=Wed, 22-Nov-2023 00:58:14 GMT; Path=/; HttpOnly\n",
      "header: set-cookie: TASession=V2ID.432DA352A1D84684AA2A4D120CFF7756*SQ.1*HS.recommended*ES.popularity*DS.5*SAS.popularity*FPS.oldFirst*LF.in*FA.1*DF.0*TRA.true*LD.735701*EAU._; Domain=.tripadvisor.co.id; Path=/\n",
      "header: set-cookie: ServerPool=A; Domain=.tripadvisor.co.id; Path=/\n",
      "header: set-cookie: PMC=V2*MS.40*MD.20230525*LD.20230525; Domain=www.tripadvisor.co.id; Expires=Sun, 25-May-2025 00:58:14 GMT; Path=/; Secure; HttpOnly\n",
      "header: set-cookie: TART=%1%enc%3A%2Fux%2B%2FMn8HpJnofdABu5on%2B50%2FZ0fzB%2BtMYbUGLoW6wYgwbf1ApljBmXPofalsSUKCeyaC1LeImE%3D; Domain=www.tripadvisor.co.id; Expires=Wed, 31-May-2023 00:58:14 GMT; Path=/; HttpOnly\n",
      "header: set-cookie: CM=%1%PremiumMobSess%2C%2C-1%7Ct4b-pc%2C%2C-1%7CRestAds%2FRPers%2C%2C-1%7CRCPers%2C%2C-1%7CWShadeSeen%2C%2C-1%7CTheForkMCCPers%2C%2C-1%7CHomeASess%2C%2C-1%7CPremiumMCSess%2C%2C-1%7CCrisisSess%2C%2C-1%7CUVOwnersSess%2C%2C-1%7CRestPremRSess%2C%2C-1%7CRepTarMCSess%2C%2C-1%7CCCSess%2C%2C-1%7CCYLSess%2C%2C-1%7CPremRetPers%2C%2C-1%7CViatorMCPers%2C%2C-1%7Csesssticker%2C%2C-1%7C%24%2C%2C-1%7CPremiumORSess%2C%2C-1%7Ct4b-sc%2C%2C-1%7CRestAdsPers%2C%2C-1%7CMC_IB_UPSELL_IB_LOGOS2%2C%2C-1%7CTSMCPers%2C%2C-1%7Cb2bmcpers%2C%2C-1%7CPremMCBtmSess%2C%2C-1%7CMC_IB_UPSELL_IB_LOGOS%2C%2C-1%7CLaFourchette+Banners%2C%2C-1%7Csess_rev%2C%2C-1%7Csessamex%2C%2C-1%7CPremiumRRSess%2C%2C-1%7CTADORSess%2C%2C-1%7CAdsRetPers%2C%2C-1%7CListMCSess%2C%2C-1%7CTARSWBPers%2C%2C-1%7CSPMCSess%2C%2C-1%7CTheForkORSess%2C%2C-1%7CTheForkRRSess%2C%2C-1%7Cpers_rev%2C%2C-1%7CRBAPers%2C%2C-1%7CRestAds%2FRSess%2C%2C-1%7CHomeAPers%2C%2C-1%7CPremiumMobPers%2C%2C-1%7CRCSess%2C%2C-1%7CLaFourchette+MC+Banners%2C%2C-1%7CRestAdsCCSess%2C%2C-1%7CRestPremRPers%2C%2C-1%7CRevHubRMPers%2C%2C-1%7CUVOwnersPers%2C%2C-1%7Cpssamex%2C%2C-1%7CTheForkMCCSess%2C%2C-1%7CCrisisPers%2C%2C-1%7CCYLPers%2C%2C-1%7CCCPers%2C%2C-1%7CRepTarMCPers%2C%2C-1%7Cb2bmcsess%2C%2C-1%7CTSMCSess%2C%2C-1%7CSPMCPers%2C%2C-1%7CRevHubRMSess%2C%2C-1%7CPremRetSess%2C%2C-1%7CViatorMCSess%2C%2C-1%7CPremiumMCPers%2C%2C-1%7CAdsRetSess%2C%2C-1%7CPremiumRRPers%2C%2C-1%7CRestAdsCCPers%2C%2C-1%7CTADORPers%2C%2C-1%7CTheForkORPers%2C%2C-1%7CPremMCBtmPers%2C%2C-1%7CTheForkRRPers%2C%2C-1%7CTARSWBSess%2C%2C-1%7CPremiumORPers%2C%2C-1%7CRestAdsSess%2C%2C-1%7CRBASess%2C%2C-1%7CSPORPers%2C%2C-1%7Cperssticker%2C%2C-1%7CListMCPers%2C%2C-1%7C; Domain=.tripadvisor.co.id; Expires=Mon, 23-May-2033 00:58:14 GMT; Path=/\n",
      "header: set-cookie: BEPIN=%1%18855903419%3Bweb276a.a.tripadvisor.com%3A30023%3B; Domain=.tripadvisor.co.id; Path=/\n",
      "header: set-cookie: PAC=AHRxSEHyiTTpniK0uUohPqq7piadwO_L6TwODi0vSgT7HG6Ck1Vx3XCpHMVKrZAfy_poH54V5Gi2bQJzs7ffgMQ7YVn1AbvXwM8qG24gnVi_ZX3P4rPhPQirYi7HTTe8pq8CfOdTKLgthdOCTTF_2xVn9y5WykFNlLe-yuWJALvw2cNQZrQaHrgPAKPce9Gm9Kku451jEVFbxcDPsQ3dhxE%3D; Domain=www.tripadvisor.co.id; Expires=Sun, 25-May-2025 00:58:14 GMT; Path=/; Secure; HttpOnly\n",
      "header: set-cookie: SRT=TART_SYNC; Domain=www.tripadvisor.co.id; Expires=Fri, 26-May-2023 01:28:14 GMT; Path=/\n",
      "header: set-cookie: TATravelInfo=V2*AY.2023*AM.6*AD.4*DY.2023*DM.6*DD.5*A.2*MG.-1*HP.2*FL.3*DSM.1685062693997*RS.1; Domain=.tripadvisor.co.id; Expires=Fri, 09-Jun-2023 00:58:14 GMT; Path=/\n",
      "header: set-cookie: TAUD=LG-1685062693898-2.1.F.*RDD-2-2023_05_26*HDD-3-2023_06_04.2023_06_05.1; Domain=.tripadvisor.co.id; Expires=Fri, 09-Jun-2023 00:58:14 GMT; Path=/\n",
      "header: set-cookie: TASID=432DA352A1D84684AA2A4D120CFF7756; Domain=www.tripadvisor.co.id; Expires=Fri, 26-May-2023 01:28:14 GMT; Path=/; Secure\n",
      "header: set-cookie: TAReturnTo=%1%%2FHotel_Review-g608487-d735701-Reviews-or55-Puri_Damai-Legian_Kuta_District_Bali.html; Domain=.tripadvisor.co.id; Path=/\n",
      "header: timing-allow-origin: https://www.tripadvisor.com\n",
      "header: content-type: text/html;charset=UTF-8\n",
      "header: x-datadome: protected\n",
      "header: accept-ch: Sec-CH-UA,Sec-CH-UA-Mobile,Sec-CH-UA-Platform,Sec-CH-UA-Arch,Sec-CH-UA-Full-Version-List,Sec-CH-UA-Model,Sec-CH-Device-Memory\n",
      "header: set-cookie: datadome=1C_7cajxtqWeb89LgBLQRFScW4hdHjB~7Zk-zhzMXyYS26vwEjujn_vwof-ADHjpJucY7UnDxjg9kWcOU_jevjuy410KRKKekVNQ4xAuEdkBiYZq-Uy9AeHhCQYYA21H; Max-Age=31104000; Domain=.tripadvisor.co.id; Path=/; Secure; SameSite=Lax\n",
      "header: content-encoding: gzip\n",
      "header: x-request-id: 9e21fc49-3803-4c24-8e62-080e67e78875\n",
      "header: Accept-Ranges: bytes\n",
      "header: Date: Fri, 26 May 2023 00:58:14 GMT\n",
      "header: Via: 1.1 varnish\n",
      "header: X-Served-By: cache-qpg1236-QPG\n",
      "header: X-Cache: MISS\n",
      "header: X-Cache-Hits: 0\n",
      "header: X-Timer: S1685062694.731406,VS0,VE761\n",
      "header: Vary: Accept-Encoding\n",
      "header: transfer-encoding: chunked\n",
      "Done Scrapping Puri Damai page 11\n",
      "\n",
      "\n"
     ]
    },
    {
     "name": "stderr",
     "output_type": "stream",
     "text": [
      "DEBUG:urllib3.connectionpool:Starting new HTTPS connection (1): www.tripadvisor.co.id:443\n"
     ]
    },
    {
     "name": "stdout",
     "output_type": "stream",
     "text": [
      "send: b'GET /Hotel_Review-g608487-d735701-Reviews-or60-Puri_Damai-Legian_Kuta_District_Bali.html HTTP/1.1\\r\\nHost: www.tripadvisor.co.id\\r\\nUser-Agent: Mozilla/5.0 (X11; CrOS x86_64 12871.102.0) AppleWebKit/537.36 (KHTML, like Gecko) Chrome/81.0.4044.141 Safari/537.36\\r\\nAccept-Encoding: gzip, deflate\\r\\nAccept: */*\\r\\nConnection: keep-alive\\r\\n\\r\\n'\n"
     ]
    },
    {
     "name": "stderr",
     "output_type": "stream",
     "text": [
      "DEBUG:urllib3.connectionpool:https://www.tripadvisor.co.id:443 \"GET /Hotel_Review-g608487-d735701-Reviews-or60-Puri_Damai-Legian_Kuta_District_Bali.html HTTP/1.1\" 200 None\n"
     ]
    },
    {
     "name": "stdout",
     "output_type": "stream",
     "text": [
      "reply: 'HTTP/1.1 200 OK\\r\\n'\n",
      "header: Connection: keep-alive\n",
      "header: server: envoy\n",
      "header: link: <https://media-cdn.tripadvisor.com/media/>;rel=\"preconnect\";crossorigin\n",
      "header: link: <https://media-cdn.tripadvisor.com/media/>;rel=\"dns-prefetch\"\n",
      "header: link: <https://static.tacdn.com>;rel=\"preconnect\";crossorigin\n",
      "header: p3p: CP=\"NOI CURa ADMa DEVa TAIa OUR BUS IND UNI COM NAV INT DSP COR CAO PSA IDC ADM DEVi TAIi PSD IVAi IVDi CONi HIS CNT\"\n",
      "header: pragma: no-cache\n",
      "header: cache-control: no-cache, no-store, must-revalidate\n",
      "header: expires: 0\n",
      "header: content-language: id\n",
      "header: link: <https://static.tacdn.com>;rel=\"dns-prefetch\"\n",
      "header: set-cookie: TADCID=jKhndBDqFShH_hQxABQCXdElnkGETRW-Svh01l3nWnXCZ9mKaH-H_QQe92BN9E0ILrVw19-_ROSyYXTvq9m_axy6Ht8wim1Mr8U; Domain=www.tripadvisor.co.id; Expires=Mon, 23-May-2033 00:58:19 GMT; Path=/; Secure; HttpOnly\n",
      "header: set-cookie: TAUnique=%1%enc%3A7ugV2uNn8oj%2B7H78yfwekiHKVVkteNxIIqLFAtD8qv82jHwltRJPGQ%3D%3D; Domain=.tripadvisor.co.id; Expires=Sun, 25-May-2025 00:58:19 GMT; Path=/; HttpOnly\n",
      "header: set-cookie: __vt=R7Pv5b51jEyDJpieABQCwDrKuA05TCmUEEd0_4-PPCWgB3ppQ5Gj7e6ZmyrPJSDUm_X9V5WD-f16RtulYNIw3FPkfsLC4JcLGpKDiBquJzwZ_oYCcZqk9r_nk9S43fIt499QnlGw-3g0DyDNpO0pcIY; Domain=www.tripadvisor.co.id; Expires=Fri, 26-May-2023 01:58:19 GMT; Path=/; Secure; HttpOnly\n",
      "header: set-cookie: TASSK=enc%3AAH%2Ft9htODSHk5zxekshuZAksKdPE5C2rF2rHvXRmKx6rxu%2BdiFvU9VF7BpB5jE%2BYgpiFPRVsi9Nk%2BPtFOPmYkGIO%2BqttsWmcpKAy12hDL1MRfoXcN9zUa0CwXmQIEq3Jiw%3D%3D; Domain=www.tripadvisor.co.id; Expires=Wed, 22-Nov-2023 00:58:19 GMT; Path=/; HttpOnly\n",
      "header: set-cookie: TASession=V2ID.4FA3208BF47D4DD8857522B0EA992E56*SQ.1*HS.recommended*ES.popularity*DS.5*SAS.popularity*FPS.oldFirst*LF.in*FA.1*DF.0*TRA.true*LD.735701*EAU._; Domain=.tripadvisor.co.id; Path=/\n",
      "header: set-cookie: ServerPool=R; Domain=.tripadvisor.co.id; Path=/\n",
      "header: set-cookie: PMC=V2*MS.36*MD.20230525*LD.20230525; Domain=www.tripadvisor.co.id; Expires=Sun, 25-May-2025 00:58:19 GMT; Path=/; Secure; HttpOnly\n",
      "header: set-cookie: TART=%1%enc%3A%2Fux%2B%2FMn8HpIYWjOpKp7jhZMd0ypPcdi65PVYLVvRG990eVLLSaRSU41d4EzZ%2FjIPUHBdG3udNiw%3D; Domain=www.tripadvisor.co.id; Expires=Wed, 31-May-2023 00:58:19 GMT; Path=/; HttpOnly\n",
      "header: set-cookie: CM=%1%PremiumMobSess%2C%2C-1%7Ct4b-pc%2C%2C-1%7CRestAds%2FRPers%2C%2C-1%7CRCPers%2C%2C-1%7CWShadeSeen%2C%2C-1%7CTheForkMCCPers%2C%2C-1%7CHomeASess%2C%2C-1%7CPremiumMCSess%2C%2C-1%7CCrisisSess%2C%2C-1%7CUVOwnersSess%2C%2C-1%7CRestPremRSess%2C%2C-1%7CRepTarMCSess%2C%2C-1%7CCCSess%2C%2C-1%7CCYLSess%2C%2C-1%7CPremRetPers%2C%2C-1%7CViatorMCPers%2C%2C-1%7Csesssticker%2C%2C-1%7C%24%2C%2C-1%7CPremiumORSess%2C%2C-1%7Ct4b-sc%2C%2C-1%7CRestAdsPers%2C%2C-1%7CMC_IB_UPSELL_IB_LOGOS2%2C%2C-1%7CTSMCPers%2C%2C-1%7Cb2bmcpers%2C%2C-1%7CPremMCBtmSess%2C%2C-1%7CMC_IB_UPSELL_IB_LOGOS%2C%2C-1%7CLaFourchette+Banners%2C%2C-1%7Csess_rev%2C%2C-1%7Csessamex%2C%2C-1%7CPremiumRRSess%2C%2C-1%7CTADORSess%2C%2C-1%7CAdsRetPers%2C%2C-1%7CListMCSess%2C%2C-1%7CTARSWBPers%2C%2C-1%7CSPMCSess%2C%2C-1%7CTheForkORSess%2C%2C-1%7CTheForkRRSess%2C%2C-1%7Cpers_rev%2C%2C-1%7CRBAPers%2C%2C-1%7CRestAds%2FRSess%2C%2C-1%7CHomeAPers%2C%2C-1%7CPremiumMobPers%2C%2C-1%7CRCSess%2C%2C-1%7CLaFourchette+MC+Banners%2C%2C-1%7CRestAdsCCSess%2C%2C-1%7CRestPremRPers%2C%2C-1%7CRevHubRMPers%2C%2C-1%7CUVOwnersPers%2C%2C-1%7Cpssamex%2C%2C-1%7CTheForkMCCSess%2C%2C-1%7CCrisisPers%2C%2C-1%7CCYLPers%2C%2C-1%7CCCPers%2C%2C-1%7CRepTarMCPers%2C%2C-1%7Cb2bmcsess%2C%2C-1%7CTSMCSess%2C%2C-1%7CSPMCPers%2C%2C-1%7CRevHubRMSess%2C%2C-1%7CPremRetSess%2C%2C-1%7CViatorMCSess%2C%2C-1%7CPremiumMCPers%2C%2C-1%7CAdsRetSess%2C%2C-1%7CPremiumRRPers%2C%2C-1%7CRestAdsCCPers%2C%2C-1%7CTADORPers%2C%2C-1%7CTheForkORPers%2C%2C-1%7CPremMCBtmPers%2C%2C-1%7CTheForkRRPers%2C%2C-1%7CTARSWBSess%2C%2C-1%7CPremiumORPers%2C%2C-1%7CRestAdsSess%2C%2C-1%7CRBASess%2C%2C-1%7CSPORPers%2C%2C-1%7Cperssticker%2C%2C-1%7CListMCPers%2C%2C-1%7C; Domain=.tripadvisor.co.id; Expires=Mon, 23-May-2033 00:58:19 GMT; Path=/\n",
      "header: set-cookie: BEPIN=%1%18855904828%3Bweb215a.a.tripadvisor.com%3A30023%3B; Domain=.tripadvisor.co.id; Path=/\n",
      "header: set-cookie: PAC=ADt0x6GuU62_UbGVEV__r8pRl1oBuzExr0UaQ0DgQvFJf60pZbsrO9wrIuqHXzUeWMJ50BCnKzBq_Mmew6FTSSyITiR1vNbEblxt3CU5jcnexWjtKGQVz8SwZask86rg4UAKMzQvnZMI3Xx-jhqz0BokrGWodnBICUlsZTxZ-4yX71o0sumC_kcmwQKpTYo_1gBnvisv81lxancgGwWVqZ4%3D; Domain=www.tripadvisor.co.id; Expires=Sun, 25-May-2025 00:58:19 GMT; Path=/; Secure; HttpOnly\n",
      "header: set-cookie: SRT=TART_SYNC; Domain=www.tripadvisor.co.id; Expires=Fri, 26-May-2023 01:28:19 GMT; Path=/\n",
      "header: set-cookie: TATravelInfo=V2*AY.2023*AM.6*AD.4*DY.2023*DM.6*DD.5*A.2*MG.-1*HP.2*FL.3*DSM.1685062699136*RS.1; Domain=.tripadvisor.co.id; Expires=Fri, 09-Jun-2023 00:58:19 GMT; Path=/\n",
      "header: set-cookie: TAUD=LG-1685062699031-2.1.F.*RDD-2-2023_05_26*HDD-3-2023_06_04.2023_06_05.1; Domain=.tripadvisor.co.id; Expires=Fri, 09-Jun-2023 00:58:19 GMT; Path=/\n",
      "header: set-cookie: TASID=4FA3208BF47D4DD8857522B0EA992E56; Domain=www.tripadvisor.co.id; Expires=Fri, 26-May-2023 01:28:19 GMT; Path=/; Secure\n",
      "header: set-cookie: TAReturnTo=%1%%2FHotel_Review-g608487-d735701-Reviews-or60-Puri_Damai-Legian_Kuta_District_Bali.html; Domain=.tripadvisor.co.id; Path=/\n",
      "header: timing-allow-origin: https://www.tripadvisor.com\n",
      "header: content-type: text/html;charset=UTF-8\n",
      "header: set-cookie: datadome=7leoyUhhirgzNJKkMsttCSWNt9XZ188qXqgU0ZrpCUVQszCKnBOz4ESaXX6KKSlsZjYma1wO_tCEVfPw7pxRrJd5ItqlZueTY6JfEGVmtroaDlrkYo2Xs_ZfUOIOAJD4; Max-Age=31104000; Domain=.tripadvisor.co.id; Path=/; Secure; SameSite=Lax\n",
      "header: x-datadome: protected\n",
      "header: accept-ch: Sec-CH-UA,Sec-CH-UA-Mobile,Sec-CH-UA-Platform,Sec-CH-UA-Arch,Sec-CH-UA-Full-Version-List,Sec-CH-UA-Model,Sec-CH-Device-Memory\n",
      "header: content-encoding: gzip\n",
      "header: x-request-id: a6eff50a-9ded-4c00-9d5b-892c476065f4\n",
      "header: Accept-Ranges: bytes\n",
      "header: Date: Fri, 26 May 2023 00:58:19 GMT\n",
      "header: Via: 1.1 varnish\n",
      "header: X-Served-By: cache-qpg1257-QPG\n",
      "header: X-Cache: MISS\n",
      "header: X-Cache-Hits: 0\n",
      "header: X-Timer: S1685062699.902128,VS0,VE783\n",
      "header: Vary: Accept-Encoding\n",
      "header: transfer-encoding: chunked\n",
      "Done Scrapping Puri Damai page 12\n",
      "\n",
      "\n"
     ]
    },
    {
     "name": "stderr",
     "output_type": "stream",
     "text": [
      "DEBUG:urllib3.connectionpool:Starting new HTTPS connection (1): www.tripadvisor.co.id:443\n"
     ]
    },
    {
     "name": "stdout",
     "output_type": "stream",
     "text": [
      "send: b'GET /Hotel_Review-g608487-d735701-Reviews-or65-Puri_Damai-Legian_Kuta_District_Bali.html HTTP/1.1\\r\\nHost: www.tripadvisor.co.id\\r\\nUser-Agent: Mozilla/5.0 (X11; CrOS x86_64 12871.102.0) AppleWebKit/537.36 (KHTML, like Gecko) Chrome/81.0.4044.141 Safari/537.36\\r\\nAccept-Encoding: gzip, deflate\\r\\nAccept: */*\\r\\nConnection: keep-alive\\r\\n\\r\\n'\n"
     ]
    },
    {
     "name": "stderr",
     "output_type": "stream",
     "text": [
      "DEBUG:urllib3.connectionpool:https://www.tripadvisor.co.id:443 \"GET /Hotel_Review-g608487-d735701-Reviews-or65-Puri_Damai-Legian_Kuta_District_Bali.html HTTP/1.1\" 200 None\n"
     ]
    },
    {
     "name": "stdout",
     "output_type": "stream",
     "text": [
      "reply: 'HTTP/1.1 200 OK\\r\\n'\n",
      "header: Connection: keep-alive\n",
      "header: server: envoy\n",
      "header: link: <https://media-cdn.tripadvisor.com/media/>;rel=\"preconnect\";crossorigin\n",
      "header: link: <https://media-cdn.tripadvisor.com/media/>;rel=\"dns-prefetch\"\n",
      "header: link: <https://static.tacdn.com>;rel=\"preconnect\";crossorigin\n",
      "header: p3p: CP=\"NOI CURa ADMa DEVa TAIa OUR BUS IND UNI COM NAV INT DSP COR CAO PSA IDC ADM DEVi TAIi PSD IVAi IVDi CONi HIS CNT\"\n",
      "header: pragma: no-cache\n",
      "header: cache-control: no-cache, no-store, must-revalidate\n",
      "header: expires: 0\n",
      "header: content-language: id\n",
      "header: link: <https://static.tacdn.com>;rel=\"dns-prefetch\"\n",
      "header: set-cookie: TADCID=6UxnbjEGHClboxYEABQCXdElnkGETRW-Svh01l3nWnXCZ9O2COSyNzFnFlS2kxQDYtETvXkORAj0ytphavYiUzHZR8CWeLTNtSE; Domain=www.tripadvisor.co.id; Expires=Mon, 23-May-2033 00:58:23 GMT; Path=/; Secure; HttpOnly\n",
      "header: set-cookie: TAUnique=%1%enc%3AwKqxFrOQIPD%2B7H78yfwekiHKVVkteNxI%2F%2F3vDbDkexg2jHwltRJPGQ%3D%3D; Domain=.tripadvisor.co.id; Expires=Sun, 25-May-2025 00:58:23 GMT; Path=/; HttpOnly\n",
      "header: set-cookie: __vt=rTYTBchqucWjc3wGABQCwDrKuA05TCmUEEd0_4-PPCWgB2UXHswsmXkpCd7M7FIACURB0cU85syQ-8UumbQi4MSL4sH1juhmwRIATMofQpWsiEFtFIBLNX8bBcDowlBvBGSsGxYs-99IP6JPP6VVbvphoA; Domain=www.tripadvisor.co.id; Expires=Fri, 26-May-2023 01:58:23 GMT; Path=/; Secure; HttpOnly\n",
      "header: set-cookie: TASSK=enc%3AAEENPOjCPrqXLIJTljwWXLVMy0%2Fg%2F5AlaVnEQ8RJpFyxH4pbRgo6PR3iyPnVRPKZb5wb0xqri%2FoYmSvFCuNt7ydZzLm2CGPSbVOTn81CNr8sECgBTLgv2lsLloW1RPaRxA%3D%3D; Domain=www.tripadvisor.co.id; Expires=Wed, 22-Nov-2023 00:58:23 GMT; Path=/; HttpOnly\n",
      "header: set-cookie: TASession=V2ID.8B715FF054344FED9B6042FA56B6E0F4*SQ.1*HS.recommended*ES.popularity*DS.5*SAS.popularity*FPS.oldFirst*LF.in*FA.1*DF.0*TRA.true*LD.735701*EAU._; Domain=.tripadvisor.co.id; Path=/\n",
      "header: set-cookie: ServerPool=X; Domain=.tripadvisor.co.id; Path=/\n",
      "header: set-cookie: PMC=V2*MS.62*MD.20230525*LD.20230525; Domain=www.tripadvisor.co.id; Expires=Sun, 25-May-2025 00:58:23 GMT; Path=/; Secure; HttpOnly\n",
      "header: set-cookie: TART=%1%enc%3A%2Fux%2B%2FMn8HpLRBl1tEt64kbQxqu4bp96nbHZPU0SJRPrsVSeY9AtBhfiuzW6Vwbbb5jVki%2Fentws%3D; Domain=www.tripadvisor.co.id; Expires=Wed, 31-May-2023 00:58:23 GMT; Path=/; HttpOnly\n",
      "header: set-cookie: CM=%1%PremiumMobSess%2C%2C-1%7Ct4b-pc%2C%2C-1%7CRestAds%2FRPers%2C%2C-1%7CRCPers%2C%2C-1%7CWShadeSeen%2C%2C-1%7CTheForkMCCPers%2C%2C-1%7CHomeASess%2C%2C-1%7CPremiumMCSess%2C%2C-1%7CCrisisSess%2C%2C-1%7CUVOwnersSess%2C%2C-1%7CRestPremRSess%2C%2C-1%7CRepTarMCSess%2C%2C-1%7CCCSess%2C%2C-1%7CCYLSess%2C%2C-1%7CPremRetPers%2C%2C-1%7CViatorMCPers%2C%2C-1%7Csesssticker%2C%2C-1%7C%24%2C%2C-1%7CPremiumORSess%2C%2C-1%7Ct4b-sc%2C%2C-1%7CRestAdsPers%2C%2C-1%7CMC_IB_UPSELL_IB_LOGOS2%2C%2C-1%7CTSMCPers%2C%2C-1%7Cb2bmcpers%2C%2C-1%7CPremMCBtmSess%2C%2C-1%7CMC_IB_UPSELL_IB_LOGOS%2C%2C-1%7CLaFourchette+Banners%2C%2C-1%7Csess_rev%2C%2C-1%7Csessamex%2C%2C-1%7CPremiumRRSess%2C%2C-1%7CTADORSess%2C%2C-1%7CAdsRetPers%2C%2C-1%7CListMCSess%2C%2C-1%7CTARSWBPers%2C%2C-1%7CSPMCSess%2C%2C-1%7CTheForkORSess%2C%2C-1%7CTheForkRRSess%2C%2C-1%7Cpers_rev%2C%2C-1%7CRBAPers%2C%2C-1%7CRestAds%2FRSess%2C%2C-1%7CHomeAPers%2C%2C-1%7CPremiumMobPers%2C%2C-1%7CRCSess%2C%2C-1%7CLaFourchette+MC+Banners%2C%2C-1%7CRestAdsCCSess%2C%2C-1%7CRestPremRPers%2C%2C-1%7CRevHubRMPers%2C%2C-1%7CUVOwnersPers%2C%2C-1%7Cpssamex%2C%2C-1%7CTheForkMCCSess%2C%2C-1%7CCrisisPers%2C%2C-1%7CCYLPers%2C%2C-1%7CCCPers%2C%2C-1%7CRepTarMCPers%2C%2C-1%7Cb2bmcsess%2C%2C-1%7CTSMCSess%2C%2C-1%7CSPMCPers%2C%2C-1%7CRevHubRMSess%2C%2C-1%7CPremRetSess%2C%2C-1%7CViatorMCSess%2C%2C-1%7CPremiumMCPers%2C%2C-1%7CAdsRetSess%2C%2C-1%7CPremiumRRPers%2C%2C-1%7CRestAdsCCPers%2C%2C-1%7CTADORPers%2C%2C-1%7CTheForkORPers%2C%2C-1%7CPremMCBtmPers%2C%2C-1%7CTheForkRRPers%2C%2C-1%7CTARSWBSess%2C%2C-1%7CPremiumORPers%2C%2C-1%7CRestAdsSess%2C%2C-1%7CRBASess%2C%2C-1%7CSPORPers%2C%2C-1%7Cperssticker%2C%2C-1%7CListMCPers%2C%2C-1%7C; Domain=.tripadvisor.co.id; Expires=Mon, 23-May-2033 00:58:23 GMT; Path=/\n",
      "header: set-cookie: BEPIN=%1%188559059d7%3Bweb788a.a.tripadvisor.com%3A30023%3B; Domain=.tripadvisor.co.id; Path=/\n",
      "header: set-cookie: PAC=AEQgRx7eRjWE6O1QB9w4fDHsy7fjXxVBAAYPztfkCCZyt_7Czh5J6P8YNhrbDqvKv-D6VX3I-6ynYVRrV0PGnImgLgNMXL4nXimROUCg3b5hOR_utm52OE9wbWH10e1OodPiEJNshCgrrowRorsDP5cD4OtA5RxmFfL5uNBrf4kGmARESC7CgPfuf8hD8cdA_TOxk8q7oOZYnAlM-edTb4s%3D; Domain=www.tripadvisor.co.id; Expires=Sun, 25-May-2025 00:58:23 GMT; Path=/; Secure; HttpOnly\n",
      "header: set-cookie: SRT=TART_SYNC; Domain=www.tripadvisor.co.id; Expires=Fri, 26-May-2023 01:28:23 GMT; Path=/\n",
      "header: set-cookie: TATravelInfo=V2*AY.2023*AM.6*AD.4*DY.2023*DM.6*DD.5*A.2*MG.-1*HP.2*FL.3*DSM.1685062703662*RS.1; Domain=.tripadvisor.co.id; Expires=Fri, 09-Jun-2023 00:58:23 GMT; Path=/\n",
      "header: set-cookie: TAUD=LG-1685062703525-2.1.F.*RDD-2-2023_05_26*HDD-3-2023_06_04.2023_06_05.1; Domain=.tripadvisor.co.id; Expires=Fri, 09-Jun-2023 00:58:23 GMT; Path=/\n",
      "header: set-cookie: TASID=8B715FF054344FED9B6042FA56B6E0F4; Domain=www.tripadvisor.co.id; Expires=Fri, 26-May-2023 01:28:23 GMT; Path=/; Secure\n",
      "header: set-cookie: TAReturnTo=%1%%2FHotel_Review-g608487-d735701-Reviews-or65-Puri_Damai-Legian_Kuta_District_Bali.html; Domain=.tripadvisor.co.id; Path=/\n",
      "header: timing-allow-origin: https://www.tripadvisor.com\n",
      "header: content-type: text/html;charset=UTF-8\n",
      "header: set-cookie: datadome=5bOrLlV8hC44OZ0UW42r1Y4mzipmlB-oFo2R8bjIVxIRmup8gH6fbyewifcCl6S2Zg5SIACv_fTKGOhdkmEPxPItR2s85_ZjaoZY0neB7U~GESc~7DeMe0Kz3TDlYdUm; Max-Age=31104000; Domain=.tripadvisor.co.id; Path=/; Secure; SameSite=Lax\n",
      "header: accept-ch: Sec-CH-UA,Sec-CH-UA-Mobile,Sec-CH-UA-Platform,Sec-CH-UA-Arch,Sec-CH-UA-Full-Version-List,Sec-CH-UA-Model,Sec-CH-Device-Memory\n",
      "header: x-datadome: protected\n",
      "header: content-encoding: gzip\n",
      "header: x-request-id: 7c8ddedd-dec6-4f96-9a5a-98a9e688f4ea\n",
      "header: Accept-Ranges: bytes\n",
      "header: Date: Fri, 26 May 2023 00:58:24 GMT\n",
      "header: Via: 1.1 varnish\n",
      "header: X-Served-By: cache-qpg1275-QPG\n",
      "header: X-Cache: MISS\n",
      "header: X-Cache-Hits: 0\n",
      "header: X-Timer: S1685062703.380886,VS0,VE675\n",
      "header: Vary: Accept-Encoding\n",
      "header: transfer-encoding: chunked\n",
      "Done Scrapping Puri Damai page 13\n",
      "\n",
      "\n"
     ]
    },
    {
     "name": "stderr",
     "output_type": "stream",
     "text": [
      "DEBUG:urllib3.connectionpool:Starting new HTTPS connection (1): www.tripadvisor.co.id:443\n"
     ]
    },
    {
     "name": "stdout",
     "output_type": "stream",
     "text": [
      "send: b'GET /Hotel_Review-g608487-d735701-Reviews-or70-Puri_Damai-Legian_Kuta_District_Bali.html HTTP/1.1\\r\\nHost: www.tripadvisor.co.id\\r\\nUser-Agent: Mozilla/5.0 (X11; CrOS x86_64 12871.102.0) AppleWebKit/537.36 (KHTML, like Gecko) Chrome/81.0.4044.141 Safari/537.36\\r\\nAccept-Encoding: gzip, deflate\\r\\nAccept: */*\\r\\nConnection: keep-alive\\r\\n\\r\\n'\n"
     ]
    },
    {
     "name": "stderr",
     "output_type": "stream",
     "text": [
      "DEBUG:urllib3.connectionpool:https://www.tripadvisor.co.id:443 \"GET /Hotel_Review-g608487-d735701-Reviews-or70-Puri_Damai-Legian_Kuta_District_Bali.html HTTP/1.1\" 200 None\n"
     ]
    },
    {
     "name": "stdout",
     "output_type": "stream",
     "text": [
      "reply: 'HTTP/1.1 200 OK\\r\\n'\n",
      "header: Connection: keep-alive\n",
      "header: server: envoy\n",
      "header: link: <https://media-cdn.tripadvisor.com/media/>;rel=\"preconnect\";crossorigin\n",
      "header: link: <https://media-cdn.tripadvisor.com/media/>;rel=\"dns-prefetch\"\n",
      "header: link: <https://static.tacdn.com>;rel=\"preconnect\";crossorigin\n",
      "header: p3p: CP=\"NOI CURa ADMa DEVa TAIa OUR BUS IND UNI COM NAV INT DSP COR CAO PSA IDC ADM DEVi TAIi PSD IVAi IVDi CONi HIS CNT\"\n",
      "header: pragma: no-cache\n",
      "header: cache-control: no-cache, no-store, must-revalidate\n",
      "header: expires: 0\n",
      "header: content-language: id\n",
      "header: link: <https://static.tacdn.com>;rel=\"dns-prefetch\"\n",
      "header: set-cookie: TADCID=8yT0W2gyNOtwQSYEABQCXdElnkGETRW-Svh01l3nWnXCZ_yuwA7lHZvpGL3x7FY2CCLWY3qB5Gep-8jJhQvVBaD5FWCf9NicWbs; Domain=www.tripadvisor.co.id; Expires=Mon, 23-May-2033 00:58:27 GMT; Path=/; Secure; HttpOnly\n",
      "header: set-cookie: TAUnique=%1%enc%3Ak%2FYNam9JuW3%2B7H78yfwekiHKVVkteNxIUmWo%2FbQpTIY2jHwltRJPGQ%3D%3D; Domain=.tripadvisor.co.id; Expires=Sun, 25-May-2025 00:58:27 GMT; Path=/; HttpOnly\n",
      "header: set-cookie: __vt=gNekhzCSKxWUEp34ABQCwDrKuA05TCmUEEd0_4-PPCWgBzc4s3p00az-GFlpaU6id6nOkBUXs7_3kL3jlVUmiE0_RUAdzWUjNZnMBanOu5HGfd-m6bsBirWEw6A1bECgY5ZwAYdk-cDTK-Vv2JSaksXp; Domain=www.tripadvisor.co.id; Expires=Fri, 26-May-2023 01:58:27 GMT; Path=/; Secure; HttpOnly\n",
      "header: set-cookie: TASSK=enc%3AALykU2VhTAqVt%2BM7SZeI3pvhKNleusV4JgPiRBEVwyrA7SA%2FfOwlLSmrhhrDo33%2FNOVwZjJ1nFy2A17EnwNS%2Fl3n5s78KuTUAZecOF0NSis07OOMh38bGouIQ0f7e2WW2g%3D%3D; Domain=www.tripadvisor.co.id; Expires=Wed, 22-Nov-2023 00:58:28 GMT; Path=/; HttpOnly\n",
      "header: set-cookie: TASession=V2ID.B9A24F78670A48B89E93B4B0998AEE95*SQ.1*HS.recommended*ES.popularity*DS.5*SAS.popularity*FPS.oldFirst*LF.in*FA.1*DF.0*TRA.true*LD.735701*EAU._; Domain=.tripadvisor.co.id; Path=/\n",
      "header: set-cookie: ServerPool=T; Domain=.tripadvisor.co.id; Path=/\n",
      "header: set-cookie: PMC=V2*MS.69*MD.20230525*LD.20230525; Domain=www.tripadvisor.co.id; Expires=Sun, 25-May-2025 00:58:28 GMT; Path=/; Secure; HttpOnly\n",
      "header: set-cookie: TART=%1%enc%3A%2Fux%2B%2FMn8HpITW9LOoPjAnUgAeWLNSMKF1gvWLZezeh19Z4Ny%2BMAb8yBlxEVOrTYzW1JxtpsONWQ%3D; Domain=www.tripadvisor.co.id; Expires=Wed, 31-May-2023 00:58:28 GMT; Path=/; HttpOnly\n",
      "header: set-cookie: CM=%1%PremiumMobSess%2C%2C-1%7Ct4b-pc%2C%2C-1%7CRestAds%2FRPers%2C%2C-1%7CRCPers%2C%2C-1%7CWShadeSeen%2C%2C-1%7CTheForkMCCPers%2C%2C-1%7CHomeASess%2C%2C-1%7CPremiumMCSess%2C%2C-1%7CCrisisSess%2C%2C-1%7CUVOwnersSess%2C%2C-1%7CRestPremRSess%2C%2C-1%7CRepTarMCSess%2C%2C-1%7CCCSess%2C%2C-1%7CCYLSess%2C%2C-1%7CPremRetPers%2C%2C-1%7CViatorMCPers%2C%2C-1%7Csesssticker%2C%2C-1%7C%24%2C%2C-1%7CPremiumORSess%2C%2C-1%7Ct4b-sc%2C%2C-1%7CRestAdsPers%2C%2C-1%7CMC_IB_UPSELL_IB_LOGOS2%2C%2C-1%7CTSMCPers%2C%2C-1%7Cb2bmcpers%2C%2C-1%7CPremMCBtmSess%2C%2C-1%7CMC_IB_UPSELL_IB_LOGOS%2C%2C-1%7CLaFourchette+Banners%2C%2C-1%7Csess_rev%2C%2C-1%7Csessamex%2C%2C-1%7CPremiumRRSess%2C%2C-1%7CTADORSess%2C%2C-1%7CAdsRetPers%2C%2C-1%7CListMCSess%2C%2C-1%7CTARSWBPers%2C%2C-1%7CSPMCSess%2C%2C-1%7CTheForkORSess%2C%2C-1%7CTheForkRRSess%2C%2C-1%7Cpers_rev%2C%2C-1%7CRBAPers%2C%2C-1%7CRestAds%2FRSess%2C%2C-1%7CHomeAPers%2C%2C-1%7CPremiumMobPers%2C%2C-1%7CRCSess%2C%2C-1%7CLaFourchette+MC+Banners%2C%2C-1%7CRestAdsCCSess%2C%2C-1%7CRestPremRPers%2C%2C-1%7CRevHubRMPers%2C%2C-1%7CUVOwnersPers%2C%2C-1%7Cpssamex%2C%2C-1%7CTheForkMCCSess%2C%2C-1%7CCrisisPers%2C%2C-1%7CCYLPers%2C%2C-1%7CCCPers%2C%2C-1%7CRepTarMCPers%2C%2C-1%7Cb2bmcsess%2C%2C-1%7CTSMCSess%2C%2C-1%7CSPMCPers%2C%2C-1%7CRevHubRMSess%2C%2C-1%7CPremRetSess%2C%2C-1%7CViatorMCSess%2C%2C-1%7CPremiumMCPers%2C%2C-1%7CAdsRetSess%2C%2C-1%7CPremiumRRPers%2C%2C-1%7CRestAdsCCPers%2C%2C-1%7CTADORPers%2C%2C-1%7CTheForkORPers%2C%2C-1%7CPremMCBtmPers%2C%2C-1%7CTheForkRRPers%2C%2C-1%7CTARSWBSess%2C%2C-1%7CPremiumORPers%2C%2C-1%7CRestAdsSess%2C%2C-1%7CRBASess%2C%2C-1%7CSPORPers%2C%2C-1%7Cperssticker%2C%2C-1%7CListMCPers%2C%2C-1%7C; Domain=.tripadvisor.co.id; Expires=Mon, 23-May-2033 00:58:28 GMT; Path=/\n",
      "header: set-cookie: BEPIN=%1%18855906a92%3Bweb215a.a.tripadvisor.com%3A30023%3B; Domain=.tripadvisor.co.id; Path=/\n",
      "header: set-cookie: PAC=AC1nQ32-z1YfQg86MKWrRHBFleRHO5Ka5gzvP8WwY4ZzgWt01HL-RIb9RUJCOnlWGMix3Zt_0xzn1epf2L2BbDkcUh5KcVqmPBFyzOiwSPJN4yfbCiI7QKCHbdIzVHBXW9wcTfNNJ_fYidizZCu5bShirIg9oJfr21V8AmWCbUfKKAO6wuLSkun1lDkOkry0u3VIRIWJIGCF6EJoOONs1BU%3D; Domain=www.tripadvisor.co.id; Expires=Sun, 25-May-2025 00:58:28 GMT; Path=/; Secure; HttpOnly\n",
      "header: set-cookie: SRT=TART_SYNC; Domain=www.tripadvisor.co.id; Expires=Fri, 26-May-2023 01:28:28 GMT; Path=/\n",
      "header: set-cookie: TATravelInfo=V2*AY.2023*AM.6*AD.4*DY.2023*DM.6*DD.5*A.2*MG.-1*HP.2*FL.3*DSM.1685062707939*RS.1; Domain=.tripadvisor.co.id; Expires=Fri, 09-Jun-2023 00:58:28 GMT; Path=/\n",
      "header: set-cookie: TAUD=LG-1685062707842-2.1.F.*RDD-2-2023_05_26*HDD-3-2023_06_04.2023_06_05.1; Domain=.tripadvisor.co.id; Expires=Fri, 09-Jun-2023 00:58:28 GMT; Path=/\n",
      "header: set-cookie: TASID=B9A24F78670A48B89E93B4B0998AEE95; Domain=www.tripadvisor.co.id; Expires=Fri, 26-May-2023 01:28:28 GMT; Path=/; Secure\n",
      "header: set-cookie: TAReturnTo=%1%%2FHotel_Review-g608487-d735701-Reviews-or70-Puri_Damai-Legian_Kuta_District_Bali.html; Domain=.tripadvisor.co.id; Path=/\n",
      "header: timing-allow-origin: https://www.tripadvisor.com\n",
      "header: content-type: text/html;charset=UTF-8\n",
      "header: accept-ch: Sec-CH-UA,Sec-CH-UA-Mobile,Sec-CH-UA-Platform,Sec-CH-UA-Arch,Sec-CH-UA-Full-Version-List,Sec-CH-UA-Model,Sec-CH-Device-Memory\n",
      "header: x-datadome: protected\n",
      "header: set-cookie: datadome=25qm7iY28E30ypd7ytKFhdz_1tm0m_PHc9V6rirHo2lQEWlQGwE1na7Qn2rBoUOBwW8m7rO1dfG09AOyFxRcmp~XQWymP1g9HYGvNh5OT7lu5dzoxHjTjt86Kqj~J8ZM; Max-Age=31104000; Domain=.tripadvisor.co.id; Path=/; Secure; SameSite=Lax\n",
      "header: content-encoding: gzip\n",
      "header: x-request-id: 980c45a2-fa32-4e73-a747-314c4534b993\n",
      "header: Accept-Ranges: bytes\n",
      "header: Date: Fri, 26 May 2023 00:58:28 GMT\n",
      "header: Via: 1.1 varnish\n",
      "header: X-Served-By: cache-qpg1264-QPG\n",
      "header: X-Cache: MISS\n",
      "header: X-Cache-Hits: 0\n",
      "header: X-Timer: S1685062708.709871,VS0,VE769\n",
      "header: Vary: Accept-Encoding\n",
      "header: transfer-encoding: chunked\n"
     ]
    },
    {
     "name": "stderr",
     "output_type": "stream",
     "text": [
      "DEBUG:urllib3.connectionpool:Starting new HTTPS connection (1): www.tripadvisor.co.id:443\n"
     ]
    },
    {
     "name": "stdout",
     "output_type": "stream",
     "text": [
      "Start Scrapping: Baruna Sari Villa\n",
      "send: b'GET /Hotel_Review-g297701-d2704057-Reviews-or5-Baruna_Sari_Villa-Ubud_Gianyar_Regency_Bali.html HTTP/1.1\\r\\nHost: www.tripadvisor.co.id\\r\\nUser-Agent: Mozilla/5.0 (X11; CrOS x86_64 12871.102.0) AppleWebKit/537.36 (KHTML, like Gecko) Chrome/81.0.4044.141 Safari/537.36\\r\\nAccept-Encoding: gzip, deflate\\r\\nAccept: */*\\r\\nConnection: keep-alive\\r\\n\\r\\n'\n"
     ]
    },
    {
     "name": "stderr",
     "output_type": "stream",
     "text": [
      "DEBUG:urllib3.connectionpool:https://www.tripadvisor.co.id:443 \"GET /Hotel_Review-g297701-d2704057-Reviews-or5-Baruna_Sari_Villa-Ubud_Gianyar_Regency_Bali.html HTTP/1.1\" 200 None\n"
     ]
    },
    {
     "name": "stdout",
     "output_type": "stream",
     "text": [
      "reply: 'HTTP/1.1 200 OK\\r\\n'\n",
      "header: Connection: keep-alive\n",
      "header: server: envoy\n",
      "header: link: <https://media-cdn.tripadvisor.com/media/>;rel=\"preconnect\";crossorigin\n",
      "header: link: <https://media-cdn.tripadvisor.com/media/>;rel=\"dns-prefetch\"\n",
      "header: link: <https://static.tacdn.com>;rel=\"preconnect\";crossorigin\n",
      "header: p3p: CP=\"NOI CURa ADMa DEVa TAIa OUR BUS IND UNI COM NAV INT DSP COR CAO PSA IDC ADM DEVi TAIi PSD IVAi IVDi CONi HIS CNT\"\n",
      "header: pragma: no-cache\n",
      "header: cache-control: no-cache, no-store, must-revalidate\n",
      "header: expires: 0\n",
      "header: content-language: id\n",
      "header: link: <https://static.tacdn.com>;rel=\"dns-prefetch\"\n",
      "header: set-cookie: TADCID=e9ZytBWRdrrZmc13ABQCXdElnkGETRW-Svh01l3nWnXCZ3Uj0ChXzBJuBjhT9VNkaIfUh6fBCp2OY60lyx1w30PmvR2P2kbGP6A; Domain=www.tripadvisor.co.id; Expires=Mon, 23-May-2033 00:58:29 GMT; Path=/; Secure; HttpOnly\n",
      "header: set-cookie: TAUnique=%1%enc%3Al4P8rN8N4df%2B7H78yfwekiHKVVkteNxI7bxQEDBpHzg2jHwltRJPGQ%3D%3D; Domain=.tripadvisor.co.id; Expires=Sun, 25-May-2025 00:58:29 GMT; Path=/; HttpOnly\n",
      "header: set-cookie: __vt=aPPTOUVApAFlNbI8ABQCwDrKuA05TCmUEEd0_4-PPCWgBxRo44l5Pq4ocZ1mr1Al5u89ncLob1K-DgkDEILPHpEjqjYo4qayJoJyypdadYzspZON0BdcB6u1zsJlqKPnS4elXulzUpuETI8tlyQ5VlpAyA; Domain=www.tripadvisor.co.id; Expires=Fri, 26-May-2023 01:58:29 GMT; Path=/; Secure; HttpOnly\n",
      "header: set-cookie: TASSK=enc%3AAGXwxWznMz84n4bho4XVhrrQ%2Bw64EYQ0VRQbiZXr%2FKfPdvjPkLgw4BQLa0K3eHqd9AGWQaJTZBJgjZX0%2BOQay1YI51AOJzcWe5C72wIACoNbgUg8JymH0yw%2FuRBzaDXdlw%3D%3D; Domain=www.tripadvisor.co.id; Expires=Wed, 22-Nov-2023 00:58:30 GMT; Path=/; HttpOnly\n",
      "header: set-cookie: TASession=V2ID.DEFC42535E4B4B7FA20A1548D639F100*SQ.1*HS.recommended*ES.popularity*DS.5*SAS.popularity*FPS.oldFirst*LF.in*FA.1*DF.0*TRA.true*LD.2704057*EAU._; Domain=.tripadvisor.co.id; Path=/\n",
      "header: set-cookie: ServerPool=X; Domain=.tripadvisor.co.id; Path=/\n",
      "header: set-cookie: PMC=V2*MS.62*MD.20230525*LD.20230525; Domain=www.tripadvisor.co.id; Expires=Sun, 25-May-2025 00:58:30 GMT; Path=/; Secure; HttpOnly\n",
      "header: set-cookie: TART=%1%enc%3A%2Fux%2B%2FMn8HpIazHtstjI%2BqoILsBtPIrdCvSfta%2FS20eO5bgbBC0ZcAxaYD7KxdH3xjcUVV%2FjQ5bY%3D; Domain=www.tripadvisor.co.id; Expires=Wed, 31-May-2023 00:58:30 GMT; Path=/; HttpOnly\n",
      "header: set-cookie: CM=%1%PremiumMobSess%2C%2C-1%7Ct4b-pc%2C%2C-1%7CRestAds%2FRPers%2C%2C-1%7CRCPers%2C%2C-1%7CWShadeSeen%2C%2C-1%7CTheForkMCCPers%2C%2C-1%7CHomeASess%2C%2C-1%7CPremiumMCSess%2C%2C-1%7CCrisisSess%2C%2C-1%7CUVOwnersSess%2C%2C-1%7CRestPremRSess%2C%2C-1%7CRepTarMCSess%2C%2C-1%7CCCSess%2C%2C-1%7CCYLSess%2C%2C-1%7CPremRetPers%2C%2C-1%7CViatorMCPers%2C%2C-1%7Csesssticker%2C%2C-1%7C%24%2C%2C-1%7CPremiumORSess%2C%2C-1%7Ct4b-sc%2C%2C-1%7CRestAdsPers%2C%2C-1%7CMC_IB_UPSELL_IB_LOGOS2%2C%2C-1%7CTSMCPers%2C%2C-1%7Cb2bmcpers%2C%2C-1%7CPremMCBtmSess%2C%2C-1%7CMC_IB_UPSELL_IB_LOGOS%2C%2C-1%7CLaFourchette+Banners%2C%2C-1%7Csess_rev%2C%2C-1%7Csessamex%2C%2C-1%7CPremiumRRSess%2C%2C-1%7CTADORSess%2C%2C-1%7CAdsRetPers%2C%2C-1%7CListMCSess%2C%2C-1%7CTARSWBPers%2C%2C-1%7CSPMCSess%2C%2C-1%7CTheForkORSess%2C%2C-1%7CTheForkRRSess%2C%2C-1%7Cpers_rev%2C%2C-1%7CRBAPers%2C%2C-1%7CRestAds%2FRSess%2C%2C-1%7CHomeAPers%2C%2C-1%7CPremiumMobPers%2C%2C-1%7CRCSess%2C%2C-1%7CLaFourchette+MC+Banners%2C%2C-1%7CRestAdsCCSess%2C%2C-1%7CRestPremRPers%2C%2C-1%7CRevHubRMPers%2C%2C-1%7CUVOwnersPers%2C%2C-1%7Cpssamex%2C%2C-1%7CTheForkMCCSess%2C%2C-1%7CCrisisPers%2C%2C-1%7CCYLPers%2C%2C-1%7CCCPers%2C%2C-1%7CRepTarMCPers%2C%2C-1%7Cb2bmcsess%2C%2C-1%7CTSMCSess%2C%2C-1%7CSPMCPers%2C%2C-1%7CRevHubRMSess%2C%2C-1%7CPremRetSess%2C%2C-1%7CViatorMCSess%2C%2C-1%7CPremiumMCPers%2C%2C-1%7CAdsRetSess%2C%2C-1%7CPremiumRRPers%2C%2C-1%7CRestAdsCCPers%2C%2C-1%7CTADORPers%2C%2C-1%7CTheForkORPers%2C%2C-1%7CPremMCBtmPers%2C%2C-1%7CTheForkRRPers%2C%2C-1%7CTARSWBSess%2C%2C-1%7CPremiumORPers%2C%2C-1%7CRestAdsSess%2C%2C-1%7CRBASess%2C%2C-1%7CSPORPers%2C%2C-1%7Cperssticker%2C%2C-1%7CListMCPers%2C%2C-1%7C; Domain=.tripadvisor.co.id; Expires=Mon, 23-May-2033 00:58:30 GMT; Path=/\n",
      "header: set-cookie: BEPIN=%1%188559070eb%3Bweb243a.a.tripadvisor.com%3A30023%3B; Domain=.tripadvisor.co.id; Path=/\n",
      "header: set-cookie: PAC=AKzRuZ0kNvan1iY66Y3kJakkLvcPeYob3soqOCh__vu0xRWGdtr_SOOCzsrXw9ExD9OJq2yqT7NPqCBdGbgqL80BiRgT-1bVnFDiSJgayKMt-7YYhKNO8CMGFZWGqqpJuzcUWHY1khrH5uvzC22J8FI2FJDT5nRFzlOfLIDJFb8UzIl6JwnL_5xz9jiH2JBQ4RLNNUiuezRCzPxD42AvcPdNnqXlTiIKH3DTqGoz7jC0; Domain=www.tripadvisor.co.id; Expires=Sun, 25-May-2025 00:58:30 GMT; Path=/; Secure; HttpOnly\n",
      "header: set-cookie: SRT=TART_SYNC; Domain=www.tripadvisor.co.id; Expires=Fri, 26-May-2023 01:28:30 GMT; Path=/\n",
      "header: set-cookie: TATravelInfo=V2*AY.2023*AM.6*AD.4*DY.2023*DM.6*DD.5*A.2*MG.-1*HP.2*FL.3*DSM.1685062709574*RS.1; Domain=.tripadvisor.co.id; Expires=Fri, 09-Jun-2023 00:58:30 GMT; Path=/\n",
      "header: set-cookie: TAUD=LG-1685062709467-2.1.F.*RDD-2-2023_05_26*HDD-3-2023_06_04.2023_06_05.1; Domain=.tripadvisor.co.id; Expires=Fri, 09-Jun-2023 00:58:30 GMT; Path=/\n",
      "header: set-cookie: TASID=DEFC42535E4B4B7FA20A1548D639F100; Domain=www.tripadvisor.co.id; Expires=Fri, 26-May-2023 01:28:30 GMT; Path=/; Secure\n",
      "header: set-cookie: TAReturnTo=%1%%2FHotel_Review-g297701-d2704057-Reviews-or5-Baruna_Sari_Villa-Ubud_Gianyar_Regency_Bali.html; Domain=.tripadvisor.co.id; Path=/\n",
      "header: timing-allow-origin: https://www.tripadvisor.com\n",
      "header: content-type: text/html;charset=UTF-8\n",
      "header: accept-ch: Sec-CH-UA,Sec-CH-UA-Mobile,Sec-CH-UA-Platform,Sec-CH-UA-Arch,Sec-CH-UA-Full-Version-List,Sec-CH-UA-Model,Sec-CH-Device-Memory\n",
      "header: set-cookie: datadome=2SVOM_vxYdBgzTBLepQjTEH5ChOnTH9lrkpn694USCdCmdGzWfCz6OEauiJ2KEVHRNw0swZBGtk34ms4gOTLYUz50A5D~5ov6KouSorem1TOuK9~oMGNr-sf2~oSn6fs; Max-Age=31104000; Domain=.tripadvisor.co.id; Path=/; Secure; SameSite=Lax\n",
      "header: x-datadome: protected\n",
      "header: content-encoding: gzip\n",
      "header: x-request-id: cb61fd41-8c1e-4388-85ff-a598bbfb6eef\n",
      "header: Accept-Ranges: bytes\n",
      "header: Date: Fri, 26 May 2023 00:58:30 GMT\n",
      "header: Via: 1.1 varnish\n",
      "header: X-Served-By: cache-qpg1232-QPG\n",
      "header: X-Cache: MISS\n",
      "header: X-Cache-Hits: 0\n",
      "header: X-Timer: S1685062709.266778,VS0,VE1147\n",
      "header: Vary: Accept-Encoding\n",
      "header: transfer-encoding: chunked\n",
      "Done Scrapping Baruna Sari Villa page 1\n",
      "\n",
      "\n"
     ]
    },
    {
     "name": "stderr",
     "output_type": "stream",
     "text": [
      "DEBUG:urllib3.connectionpool:Starting new HTTPS connection (1): www.tripadvisor.co.id:443\n"
     ]
    },
    {
     "name": "stdout",
     "output_type": "stream",
     "text": [
      "send: b'GET /Hotel_Review-g297701-d2704057-Reviews-or10-Baruna_Sari_Villa-Ubud_Gianyar_Regency_Bali.html HTTP/1.1\\r\\nHost: www.tripadvisor.co.id\\r\\nUser-Agent: Mozilla/5.0 (X11; CrOS x86_64 12871.102.0) AppleWebKit/537.36 (KHTML, like Gecko) Chrome/81.0.4044.141 Safari/537.36\\r\\nAccept-Encoding: gzip, deflate\\r\\nAccept: */*\\r\\nConnection: keep-alive\\r\\n\\r\\n'\n"
     ]
    },
    {
     "name": "stderr",
     "output_type": "stream",
     "text": [
      "DEBUG:urllib3.connectionpool:https://www.tripadvisor.co.id:443 \"GET /Hotel_Review-g297701-d2704057-Reviews-or10-Baruna_Sari_Villa-Ubud_Gianyar_Regency_Bali.html HTTP/1.1\" 200 None\n"
     ]
    },
    {
     "name": "stdout",
     "output_type": "stream",
     "text": [
      "reply: 'HTTP/1.1 200 OK\\r\\n'\n",
      "header: Server: envoy\n",
      "header: Link: <https://media-cdn.tripadvisor.com/media/>;rel=\"preconnect\";crossorigin\n",
      "header: Link: <https://media-cdn.tripadvisor.com/media/>;rel=\"dns-prefetch\"\n",
      "header: p3p: CP=\"NOI CURa ADMa DEVa TAIa OUR BUS IND UNI COM NAV INT DSP COR CAO PSA IDC ADM DEVi TAIi PSD IVAi IVDi CONi HIS CNT\"\n",
      "header: Pragma: no-cache\n",
      "header: Cache-Control: no-cache, no-store, must-revalidate\n",
      "header: Expires: 0\n",
      "header: Content-Language: id\n",
      "header: Link: <https://static.tacdn.com>;rel=\"dns-prefetch\"\n",
      "header: Link: <https://static.tacdn.com>;rel=\"preconnect\";crossorigin\n",
      "header: timing-allow-origin: https://www.tripadvisor.com\n",
      "header: Vary: Accept-Encoding\n",
      "header: Content-Type: text/html;charset=UTF-8\n",
      "header: x-datadome: protected\n",
      "header: Accept-CH: Sec-CH-UA,Sec-CH-UA-Mobile,Sec-CH-UA-Platform,Sec-CH-UA-Arch,Sec-CH-UA-Full-Version-List,Sec-CH-UA-Model,Sec-CH-Device-Memory\n",
      "header: Content-Encoding: gzip\n",
      "header: x-request-id: 0101c560-05de-4797-a082-aa2815bdb5bb\n",
      "header: Date: Fri, 26 May 2023 00:58:35 GMT\n",
      "header: Transfer-Encoding: chunked\n",
      "header: Connection: keep-alive\n",
      "header: Connection: Transfer-Encoding\n",
      "header: Set-Cookie: TADCID=47BiT8i9eYSK1ocRABQCXdElnkGETRW-Svh01l3nWnXCZ_I6gj1Rp6pEz2T7zhU3k3uKgmj4_9ovNc2fsxC95vvxtTKE1cXo0WQ; Domain=www.tripadvisor.co.id; Expires=Mon, 23-May-2033 00:58:35 GMT; Path=/; Secure; HttpOnly\n",
      "header: Set-Cookie: TAUnique=%1%enc%3AWtOGVbhzXZr%2B7H78yfwekiHKVVkteNxI3IGMm%2FWpWxg2jHwltRJPGQ%3D%3D; Domain=.tripadvisor.co.id; Expires=Sun, 25-May-2025 00:58:35 GMT; Path=/; HttpOnly\n",
      "header: Set-Cookie: TASSK=enc%3AAHtSfWvlJw3WRACaTODCEpzYYqCEoewWHZ241Z6LsLvRYCNr9Hv4Kr7HUmhir5GzPUb7XA%2B7XtjnHJ4Gzjijp%2FUA%2FuH%2BDzJXhRXn41xdyqmwJxiDBuFnVwQWEoxXv9Qq7g%3D%3D; Domain=www.tripadvisor.co.id; Expires=Wed, 22-Nov-2023 00:58:35 GMT; Path=/; HttpOnly\n",
      "header: Set-Cookie: TASession=V2ID.BF1A8AC6BCC44C5883A7DBB4A4733E88*SQ.1*HS.recommended*ES.popularity*DS.5*SAS.popularity*FPS.oldFirst*LF.in*FA.1*DF.0*TRA.true*LD.2704057; Domain=.tripadvisor.co.id; Path=/\n",
      "header: Set-Cookie: ServerPool=C; Domain=.tripadvisor.co.id; Path=/\n",
      "header: Set-Cookie: PMC=V2*MS.65*MD.20230525*LD.20230525; Domain=www.tripadvisor.co.id; Expires=Sun, 25-May-2025 00:58:35 GMT; Path=/; Secure; HttpOnly\n",
      "header: Set-Cookie: TART=%1%enc%3A%2Fux%2B%2FMn8HpKrZuVbgMFEIuIbrF894gP7L2A5xvQmgi9IVWu9CaLc3bGE9Kqf%2FQxlZQnMIP2Q3mY%3D; Domain=www.tripadvisor.co.id; Expires=Wed, 31-May-2023 00:58:35 GMT; Path=/; HttpOnly\n",
      "header: Set-Cookie: CM=%1%PremiumMobSess%2C%2C-1%7Ct4b-pc%2C%2C-1%7CRestAds%2FRPers%2C%2C-1%7CRCPers%2C%2C-1%7CWShadeSeen%2C%2C-1%7CTheForkMCCPers%2C%2C-1%7CHomeASess%2C%2C-1%7CPremiumMCSess%2C%2C-1%7CCrisisSess%2C%2C-1%7CUVOwnersSess%2C%2C-1%7CRestPremRSess%2C%2C-1%7CRepTarMCSess%2C%2C-1%7CCCSess%2C%2C-1%7CCYLSess%2C%2C-1%7CPremRetPers%2C%2C-1%7CViatorMCPers%2C%2C-1%7Csesssticker%2C%2C-1%7C%24%2C%2C-1%7CPremiumORSess%2C%2C-1%7Ct4b-sc%2C%2C-1%7CRestAdsPers%2C%2C-1%7CMC_IB_UPSELL_IB_LOGOS2%2C%2C-1%7CTSMCPers%2C%2C-1%7Cb2bmcpers%2C%2C-1%7CPremMCBtmSess%2C%2C-1%7CMC_IB_UPSELL_IB_LOGOS%2C%2C-1%7CLaFourchette+Banners%2C%2C-1%7Csess_rev%2C%2C-1%7Csessamex%2C%2C-1%7CPremiumRRSess%2C%2C-1%7CTADORSess%2C%2C-1%7CAdsRetPers%2C%2C-1%7CListMCSess%2C%2C-1%7CTARSWBPers%2C%2C-1%7CSPMCSess%2C%2C-1%7CTheForkORSess%2C%2C-1%7CTheForkRRSess%2C%2C-1%7Cpers_rev%2C%2C-1%7CRBAPers%2C%2C-1%7CRestAds%2FRSess%2C%2C-1%7CHomeAPers%2C%2C-1%7CPremiumMobPers%2C%2C-1%7CRCSess%2C%2C-1%7CLaFourchette+MC+Banners%2C%2C-1%7CRestAdsCCSess%2C%2C-1%7CRestPremRPers%2C%2C-1%7CRevHubRMPers%2C%2C-1%7CUVOwnersPers%2C%2C-1%7Cpssamex%2C%2C-1%7CTheForkMCCSess%2C%2C-1%7CCrisisPers%2C%2C-1%7CCYLPers%2C%2C-1%7CCCPers%2C%2C-1%7CRepTarMCPers%2C%2C-1%7Cb2bmcsess%2C%2C-1%7CTSMCSess%2C%2C-1%7CSPMCPers%2C%2C-1%7CRevHubRMSess%2C%2C-1%7CPremRetSess%2C%2C-1%7CViatorMCSess%2C%2C-1%7CPremiumMCPers%2C%2C-1%7CAdsRetSess%2C%2C-1%7CPremiumRRPers%2C%2C-1%7CRestAdsCCPers%2C%2C-1%7CTADORPers%2C%2C-1%7CTheForkORPers%2C%2C-1%7CPremMCBtmPers%2C%2C-1%7CTheForkRRPers%2C%2C-1%7CTARSWBSess%2C%2C-1%7CPremiumORPers%2C%2C-1%7CRestAdsSess%2C%2C-1%7CRBASess%2C%2C-1%7CSPORPers%2C%2C-1%7Cperssticker%2C%2C-1%7CListMCPers%2C%2C-1%7C; Domain=.tripadvisor.co.id; Expires=Mon, 23-May-2033 00:58:35 GMT; Path=/\n",
      "header: Set-Cookie: BEPIN=%1%188559087ac%3Bweb376a.a.tripadvisor.com%3A30023%3B; Domain=.tripadvisor.co.id; Path=/\n",
      "header: Set-Cookie: PAC=AAQdWJJoia0ZKUlDEP70AmTXwAdynqtMMZYs-dWlN45ARI-3k2LLVV74hIzQCXWrc5gYgR0GQVSQo410EDunGOb0xTxGx5nh_DjI54BA5Vg0q_n7eHOQQi0_8ZuM71726pEwwD1RVCJPwKwpj91CHmMXxjXZj-6VxKtTKw40UR_MWpxTOTeBlutbPskqJp5lkm7rTkTUwIy02wU9W27YtBl1zM-RHvfqy9WAoxaeAlCA; Domain=www.tripadvisor.co.id; Expires=Sun, 25-May-2025 00:58:35 GMT; Path=/; Secure; HttpOnly\n",
      "header: Set-Cookie: SRT=TART_SYNC; Domain=www.tripadvisor.co.id; Expires=Fri, 26-May-2023 01:28:35 GMT; Path=/\n",
      "header: Set-Cookie: TATravelInfo=V2*AY.2023*AM.6*AD.4*DY.2023*DM.6*DD.5*A.2*MG.-1*HP.2*FL.3*DSM.1685062715408*RS.1; Domain=.tripadvisor.co.id; Expires=Fri, 09-Jun-2023 00:58:35 GMT; Path=/\n",
      "header: Set-Cookie: TAUD=LG-1685062715272-2.1.F.*RDD-2-2023_05_26*HDD-3-2023_06_04.2023_06_05.1; Domain=.tripadvisor.co.id; Expires=Fri, 09-Jun-2023 00:58:35 GMT; Path=/\n",
      "header: Set-Cookie: TASID=BF1A8AC6BCC44C5883A7DBB4A4733E88; Domain=www.tripadvisor.co.id; Expires=Fri, 26-May-2023 01:28:35 GMT; Path=/; Secure\n",
      "header: Set-Cookie: TAReturnTo=%1%%2FHotel_Review-g297701-d2704057-Reviews-or10-Baruna_Sari_Villa-Ubud_Gianyar_Regency_Bali.html; Domain=.tripadvisor.co.id; Path=/\n",
      "header: Set-Cookie: datadome=~2iCFltfgwySfSjht~2Al2XORLQE~Otq8GMrs5JM-DOlUlW06s27hmcU8w-qPLAz1EeKXCatSjW2Mfe8~rRWwMwDO1YD8-X0bD2A1gnwXnJSl0nER0_Vs~l2JlxUAGx; Max-Age=31104000; Domain=.tripadvisor.co.id; Path=/; Secure; SameSite=Lax\n",
      "Done Scrapping Baruna Sari Villa page 2\n",
      "\n",
      "\n"
     ]
    },
    {
     "name": "stderr",
     "output_type": "stream",
     "text": [
      "DEBUG:urllib3.connectionpool:Starting new HTTPS connection (1): www.tripadvisor.co.id:443\n"
     ]
    },
    {
     "name": "stdout",
     "output_type": "stream",
     "text": [
      "send: b'GET /Hotel_Review-g297701-d2704057-Reviews-or15-Baruna_Sari_Villa-Ubud_Gianyar_Regency_Bali.html HTTP/1.1\\r\\nHost: www.tripadvisor.co.id\\r\\nUser-Agent: Mozilla/5.0 (X11; CrOS x86_64 12871.102.0) AppleWebKit/537.36 (KHTML, like Gecko) Chrome/81.0.4044.141 Safari/537.36\\r\\nAccept-Encoding: gzip, deflate\\r\\nAccept: */*\\r\\nConnection: keep-alive\\r\\n\\r\\n'\n"
     ]
    },
    {
     "name": "stderr",
     "output_type": "stream",
     "text": [
      "DEBUG:urllib3.connectionpool:https://www.tripadvisor.co.id:443 \"GET /Hotel_Review-g297701-d2704057-Reviews-or15-Baruna_Sari_Villa-Ubud_Gianyar_Regency_Bali.html HTTP/1.1\" 200 None\n"
     ]
    },
    {
     "name": "stdout",
     "output_type": "stream",
     "text": [
      "reply: 'HTTP/1.1 200 OK\\r\\n'\n",
      "header: Server: envoy\n",
      "header: Link: <https://media-cdn.tripadvisor.com/media/>;rel=\"preconnect\";crossorigin\n",
      "header: Link: <https://media-cdn.tripadvisor.com/media/>;rel=\"dns-prefetch\"\n",
      "header: p3p: CP=\"NOI CURa ADMa DEVa TAIa OUR BUS IND UNI COM NAV INT DSP COR CAO PSA IDC ADM DEVi TAIi PSD IVAi IVDi CONi HIS CNT\"\n",
      "header: Pragma: no-cache\n",
      "header: Cache-Control: no-cache, no-store, must-revalidate\n",
      "header: Expires: 0\n",
      "header: Content-Language: id\n",
      "header: Link: <https://static.tacdn.com>;rel=\"dns-prefetch\"\n",
      "header: Link: <https://static.tacdn.com>;rel=\"preconnect\";crossorigin\n",
      "header: timing-allow-origin: https://www.tripadvisor.com\n",
      "header: Vary: Accept-Encoding\n",
      "header: Content-Type: text/html;charset=UTF-8\n",
      "header: x-datadome: protected\n",
      "header: Accept-CH: Sec-CH-UA,Sec-CH-UA-Mobile,Sec-CH-UA-Platform,Sec-CH-UA-Arch,Sec-CH-UA-Full-Version-List,Sec-CH-UA-Model,Sec-CH-Device-Memory\n",
      "header: Content-Encoding: gzip\n",
      "header: x-request-id: 2eb42e81-d665-4150-9e49-51171e747509\n",
      "header: Date: Fri, 26 May 2023 00:58:40 GMT\n",
      "header: Transfer-Encoding: chunked\n",
      "header: Connection: keep-alive\n",
      "header: Connection: Transfer-Encoding\n",
      "header: Set-Cookie: TADCID=UopYRBwcNwZyblDWABQCXdElnkGETRW-Svh01l3nWnXCZxkO2OwGQHx6wefncFlNFDKCwv-eY_eJH3aUs7fqYfvMrJ_y0pMwUfo; Domain=www.tripadvisor.co.id; Expires=Mon, 23-May-2033 00:58:39 GMT; Path=/; Secure; HttpOnly\n",
      "header: Set-Cookie: TAUnique=%1%enc%3AMmnSYK198Zj%2B7H78yfwekiHKVVkteNxIq7gVwbc6U2k2jHwltRJPGQ%3D%3D; Domain=.tripadvisor.co.id; Expires=Sun, 25-May-2025 00:58:39 GMT; Path=/; HttpOnly\n",
      "header: Set-Cookie: TASSK=enc%3AACn2zShlBEC1B0yEqUN2MAKvYtZS5OgoiNCefdnrfs3Pye30njubZTqTVIhFukH5MY%2FC1%2BBg%2Bj%2F1Tcv1sunTJLSssuR3jqgmf%2BRM1TGFFlSO3U%2B%2FFbfClxF%2BwyYMfVoqgA%3D%3D; Domain=www.tripadvisor.co.id; Expires=Wed, 22-Nov-2023 00:58:39 GMT; Path=/; HttpOnly\n",
      "header: Set-Cookie: TASession=V2ID.20B9AB34CDCA4AEBBB76F8DDBFD481F6*SQ.1*HS.recommended*ES.popularity*DS.5*SAS.popularity*FPS.oldFirst*LF.in*FA.1*DF.0*TRA.true*LD.2704057; Domain=.tripadvisor.co.id; Path=/\n",
      "header: Set-Cookie: ServerPool=B; Domain=.tripadvisor.co.id; Path=/\n",
      "header: Set-Cookie: PMC=V2*MS.60*MD.20230525*LD.20230525; Domain=www.tripadvisor.co.id; Expires=Sun, 25-May-2025 00:58:39 GMT; Path=/; Secure; HttpOnly\n",
      "header: Set-Cookie: TART=%1%enc%3A%2Fux%2B%2FMn8HpLiBOzTNPeJ4y18lJOXN9q6x3iIRfmsKB8ZbR8ZJgbenKgq9PWimsXMUHBdG3udNiw%3D; Domain=www.tripadvisor.co.id; Expires=Wed, 31-May-2023 00:58:39 GMT; Path=/; HttpOnly\n",
      "header: Set-Cookie: CM=%1%PremiumMobSess%2C%2C-1%7Ct4b-pc%2C%2C-1%7CRestAds%2FRPers%2C%2C-1%7CRCPers%2C%2C-1%7CWShadeSeen%2C%2C-1%7CTheForkMCCPers%2C%2C-1%7CHomeASess%2C%2C-1%7CPremiumMCSess%2C%2C-1%7CCrisisSess%2C%2C-1%7CUVOwnersSess%2C%2C-1%7CRestPremRSess%2C%2C-1%7CRepTarMCSess%2C%2C-1%7CCCSess%2C%2C-1%7CCYLSess%2C%2C-1%7CPremRetPers%2C%2C-1%7CViatorMCPers%2C%2C-1%7Csesssticker%2C%2C-1%7C%24%2C%2C-1%7CPremiumORSess%2C%2C-1%7Ct4b-sc%2C%2C-1%7CRestAdsPers%2C%2C-1%7CMC_IB_UPSELL_IB_LOGOS2%2C%2C-1%7CTSMCPers%2C%2C-1%7Cb2bmcpers%2C%2C-1%7CPremMCBtmSess%2C%2C-1%7CMC_IB_UPSELL_IB_LOGOS%2C%2C-1%7CLaFourchette+Banners%2C%2C-1%7Csess_rev%2C%2C-1%7Csessamex%2C%2C-1%7CPremiumRRSess%2C%2C-1%7CTADORSess%2C%2C-1%7CAdsRetPers%2C%2C-1%7CListMCSess%2C%2C-1%7CTARSWBPers%2C%2C-1%7CSPMCSess%2C%2C-1%7CTheForkORSess%2C%2C-1%7CTheForkRRSess%2C%2C-1%7Cpers_rev%2C%2C-1%7CRBAPers%2C%2C-1%7CRestAds%2FRSess%2C%2C-1%7CHomeAPers%2C%2C-1%7CPremiumMobPers%2C%2C-1%7CRCSess%2C%2C-1%7CLaFourchette+MC+Banners%2C%2C-1%7CRestAdsCCSess%2C%2C-1%7CRestPremRPers%2C%2C-1%7CRevHubRMPers%2C%2C-1%7CUVOwnersPers%2C%2C-1%7Cpssamex%2C%2C-1%7CTheForkMCCSess%2C%2C-1%7CCrisisPers%2C%2C-1%7CCYLPers%2C%2C-1%7CCCPers%2C%2C-1%7CRepTarMCPers%2C%2C-1%7Cb2bmcsess%2C%2C-1%7CTSMCSess%2C%2C-1%7CSPMCPers%2C%2C-1%7CRevHubRMSess%2C%2C-1%7CPremRetSess%2C%2C-1%7CViatorMCSess%2C%2C-1%7CPremiumMCPers%2C%2C-1%7CAdsRetSess%2C%2C-1%7CPremiumRRPers%2C%2C-1%7CRestAdsCCPers%2C%2C-1%7CTADORPers%2C%2C-1%7CTheForkORPers%2C%2C-1%7CPremMCBtmPers%2C%2C-1%7CTheForkRRPers%2C%2C-1%7CTARSWBSess%2C%2C-1%7CPremiumORPers%2C%2C-1%7CRestAdsSess%2C%2C-1%7CRBASess%2C%2C-1%7CSPORPers%2C%2C-1%7Cperssticker%2C%2C-1%7CListMCPers%2C%2C-1%7C; Domain=.tripadvisor.co.id; Expires=Mon, 23-May-2033 00:58:39 GMT; Path=/\n",
      "header: Set-Cookie: BEPIN=%1%18855909876%3Bweb211a.a.tripadvisor.com%3A30023%3B; Domain=.tripadvisor.co.id; Path=/\n",
      "header: Set-Cookie: PAC=ADMmFykFyHVqz1mq07W978z0QO2yAr1BTnKgJAO9gCh7LdBwV2PrwT9eEuCrZq8PUnN4ISX2CApHlhG_GQ4JTSupYZIRBwj0UuGO9WPaWNCRxmrN5aAxqsqTAhW9rP9zUYFmlpdc1d1QuuqTbZSimcpFVfVBibnW96bH2mKIUscP6h7YdBRw_byOZAB4MxMvfvwTn_-YBPucnlHTtQ0AHsY2assJ5yzF24D63exJorBR; Domain=www.tripadvisor.co.id; Expires=Sun, 25-May-2025 00:58:39 GMT; Path=/; Secure; HttpOnly\n",
      "header: Set-Cookie: SRT=TART_SYNC; Domain=www.tripadvisor.co.id; Expires=Fri, 26-May-2023 01:28:39 GMT; Path=/\n",
      "header: Set-Cookie: TATravelInfo=V2*AY.2023*AM.6*AD.4*DY.2023*DM.6*DD.5*A.2*MG.-1*HP.2*FL.3*DSM.1685062719688*RS.1; Domain=.tripadvisor.co.id; Expires=Fri, 09-Jun-2023 00:58:39 GMT; Path=/\n",
      "header: Set-Cookie: TAUD=LG-1685062719590-2.1.F.*RDD-2-2023_05_26*HDD-3-2023_06_04.2023_06_05.1; Domain=.tripadvisor.co.id; Expires=Fri, 09-Jun-2023 00:58:39 GMT; Path=/\n",
      "header: Set-Cookie: TASID=20B9AB34CDCA4AEBBB76F8DDBFD481F6; Domain=www.tripadvisor.co.id; Expires=Fri, 26-May-2023 01:28:39 GMT; Path=/; Secure\n",
      "header: Set-Cookie: TAReturnTo=%1%%2FHotel_Review-g297701-d2704057-Reviews-or15-Baruna_Sari_Villa-Ubud_Gianyar_Regency_Bali.html; Domain=.tripadvisor.co.id; Path=/\n",
      "header: Set-Cookie: datadome=0CF~FJwwE4WiVMACT9moOBTk3zcB11y90885aDvu6H4WILh~iDu3GpPwf5KDIVssw6rFFiB5lB~VQbwZo99W2B-PKHcujJfEIHDjN-Ei9X_icov0W7-13I7Kj1pI5oaa; Max-Age=31104000; Domain=.tripadvisor.co.id; Path=/; Secure; SameSite=Lax\n",
      "Done Scrapping Baruna Sari Villa page 3\n",
      "\n",
      "\n"
     ]
    },
    {
     "name": "stderr",
     "output_type": "stream",
     "text": [
      "DEBUG:urllib3.connectionpool:Starting new HTTPS connection (1): www.tripadvisor.co.id:443\n"
     ]
    },
    {
     "name": "stdout",
     "output_type": "stream",
     "text": [
      "send: b'GET /Hotel_Review-g297701-d2704057-Reviews-or20-Baruna_Sari_Villa-Ubud_Gianyar_Regency_Bali.html HTTP/1.1\\r\\nHost: www.tripadvisor.co.id\\r\\nUser-Agent: Mozilla/5.0 (X11; CrOS x86_64 12871.102.0) AppleWebKit/537.36 (KHTML, like Gecko) Chrome/81.0.4044.141 Safari/537.36\\r\\nAccept-Encoding: gzip, deflate\\r\\nAccept: */*\\r\\nConnection: keep-alive\\r\\n\\r\\n'\n"
     ]
    },
    {
     "name": "stderr",
     "output_type": "stream",
     "text": [
      "DEBUG:urllib3.connectionpool:https://www.tripadvisor.co.id:443 \"GET /Hotel_Review-g297701-d2704057-Reviews-or20-Baruna_Sari_Villa-Ubud_Gianyar_Regency_Bali.html HTTP/1.1\" 200 None\n"
     ]
    },
    {
     "name": "stdout",
     "output_type": "stream",
     "text": [
      "reply: 'HTTP/1.1 200 OK\\r\\n'\n",
      "header: Server: envoy\n",
      "header: Link: <https://media-cdn.tripadvisor.com/media/>;rel=\"preconnect\";crossorigin\n",
      "header: Link: <https://media-cdn.tripadvisor.com/media/>;rel=\"dns-prefetch\"\n",
      "header: p3p: CP=\"NOI CURa ADMa DEVa TAIa OUR BUS IND UNI COM NAV INT DSP COR CAO PSA IDC ADM DEVi TAIi PSD IVAi IVDi CONi HIS CNT\"\n",
      "header: Pragma: no-cache\n",
      "header: Cache-Control: no-cache, no-store, must-revalidate\n",
      "header: Expires: 0\n",
      "header: Content-Language: id\n",
      "header: Link: <https://static.tacdn.com>;rel=\"dns-prefetch\"\n",
      "header: Link: <https://static.tacdn.com>;rel=\"preconnect\";crossorigin\n",
      "header: timing-allow-origin: https://www.tripadvisor.com\n",
      "header: Vary: Accept-Encoding\n",
      "header: Content-Type: text/html;charset=UTF-8\n",
      "header: x-datadome: protected\n",
      "header: Accept-CH: Sec-CH-UA,Sec-CH-UA-Mobile,Sec-CH-UA-Platform,Sec-CH-UA-Arch,Sec-CH-UA-Full-Version-List,Sec-CH-UA-Model,Sec-CH-Device-Memory\n",
      "header: Content-Encoding: gzip\n",
      "header: x-request-id: 36a82466-0c82-471d-a4fa-b3741c40f141\n",
      "header: Date: Fri, 26 May 2023 00:58:44 GMT\n",
      "header: Transfer-Encoding: chunked\n",
      "header: Connection: keep-alive\n",
      "header: Connection: Transfer-Encoding\n",
      "header: Set-Cookie: TADCID=c0Q-YJ3fSxV4tCdkABQCXdElnkGETRW-Svh01l3nWnXCZ3JDMoKuLlhB9E0nOmUi5ZNh8S5uO-NxkwWoRfPsxxmAMvMopl3EbRc; Domain=www.tripadvisor.co.id; Expires=Mon, 23-May-2033 00:58:43 GMT; Path=/; Secure; HttpOnly\n",
      "header: Set-Cookie: TAUnique=%1%enc%3ATT0OJjZFfNb%2B7H78yfwekiHKVVkteNxIBx7cNU2Xw1s2jHwltRJPGQ%3D%3D; Domain=.tripadvisor.co.id; Expires=Sun, 25-May-2025 00:58:43 GMT; Path=/; HttpOnly\n",
      "header: Set-Cookie: TASSK=enc%3AAHc%2F5vvim6%2BMnRu84IV4prwj8eyy8NkS3AZ%2BXMczKGfqETOdHFrTnLCNc4Lcl0tQbGwPZcLySz8CxNqD47dzK3fXuRfGlG3VZ7A%2FitjmBsvXMeHBmBFCxSuQednWcp6LMA%3D%3D; Domain=www.tripadvisor.co.id; Expires=Wed, 22-Nov-2023 00:58:44 GMT; Path=/; HttpOnly\n",
      "header: Set-Cookie: TASession=V2ID.047C772E31C9418690D9830C39135C0D*SQ.1*HS.recommended*ES.popularity*DS.5*SAS.popularity*FPS.oldFirst*LF.in*FA.1*DF.0*TRA.true*LD.2704057; Domain=.tripadvisor.co.id; Path=/\n",
      "header: Set-Cookie: ServerPool=X; Domain=.tripadvisor.co.id; Path=/\n",
      "header: Set-Cookie: PMC=V2*MS.11*MD.20230525*LD.20230525; Domain=www.tripadvisor.co.id; Expires=Sun, 25-May-2025 00:58:44 GMT; Path=/; Secure; HttpOnly\n",
      "header: Set-Cookie: TART=%1%enc%3A%2Fux%2B%2FMn8HpLiUE2OuaMMaRA0I8zakaMxa4U%2Baovi823mPsIjpGcrSBMMLCCqf9G45jVki%2Fentws%3D; Domain=www.tripadvisor.co.id; Expires=Wed, 31-May-2023 00:58:44 GMT; Path=/; HttpOnly\n",
      "header: Set-Cookie: CM=%1%PremiumMobSess%2C%2C-1%7Ct4b-pc%2C%2C-1%7CRestAds%2FRPers%2C%2C-1%7CRCPers%2C%2C-1%7CWShadeSeen%2C%2C-1%7CTheForkMCCPers%2C%2C-1%7CHomeASess%2C%2C-1%7CPremiumMCSess%2C%2C-1%7CCrisisSess%2C%2C-1%7CUVOwnersSess%2C%2C-1%7CRestPremRSess%2C%2C-1%7CRepTarMCSess%2C%2C-1%7CCCSess%2C%2C-1%7CCYLSess%2C%2C-1%7CPremRetPers%2C%2C-1%7CViatorMCPers%2C%2C-1%7Csesssticker%2C%2C-1%7C%24%2C%2C-1%7CPremiumORSess%2C%2C-1%7Ct4b-sc%2C%2C-1%7CRestAdsPers%2C%2C-1%7CMC_IB_UPSELL_IB_LOGOS2%2C%2C-1%7CTSMCPers%2C%2C-1%7Cb2bmcpers%2C%2C-1%7CPremMCBtmSess%2C%2C-1%7CMC_IB_UPSELL_IB_LOGOS%2C%2C-1%7CLaFourchette+Banners%2C%2C-1%7Csess_rev%2C%2C-1%7Csessamex%2C%2C-1%7CPremiumRRSess%2C%2C-1%7CTADORSess%2C%2C-1%7CAdsRetPers%2C%2C-1%7CListMCSess%2C%2C-1%7CTARSWBPers%2C%2C-1%7CSPMCSess%2C%2C-1%7CTheForkORSess%2C%2C-1%7CTheForkRRSess%2C%2C-1%7Cpers_rev%2C%2C-1%7CRBAPers%2C%2C-1%7CRestAds%2FRSess%2C%2C-1%7CHomeAPers%2C%2C-1%7CPremiumMobPers%2C%2C-1%7CRCSess%2C%2C-1%7CLaFourchette+MC+Banners%2C%2C-1%7CRestAdsCCSess%2C%2C-1%7CRestPremRPers%2C%2C-1%7CRevHubRMPers%2C%2C-1%7CUVOwnersPers%2C%2C-1%7Cpssamex%2C%2C-1%7CTheForkMCCSess%2C%2C-1%7CCrisisPers%2C%2C-1%7CCYLPers%2C%2C-1%7CCCPers%2C%2C-1%7CRepTarMCPers%2C%2C-1%7Cb2bmcsess%2C%2C-1%7CTSMCSess%2C%2C-1%7CSPMCPers%2C%2C-1%7CRevHubRMSess%2C%2C-1%7CPremRetSess%2C%2C-1%7CViatorMCSess%2C%2C-1%7CPremiumMCPers%2C%2C-1%7CAdsRetSess%2C%2C-1%7CPremiumRRPers%2C%2C-1%7CRestAdsCCPers%2C%2C-1%7CTADORPers%2C%2C-1%7CTheForkORPers%2C%2C-1%7CPremMCBtmPers%2C%2C-1%7CTheForkRRPers%2C%2C-1%7CTARSWBSess%2C%2C-1%7CPremiumORPers%2C%2C-1%7CRestAdsSess%2C%2C-1%7CRBASess%2C%2C-1%7CSPORPers%2C%2C-1%7Cperssticker%2C%2C-1%7CListMCPers%2C%2C-1%7C; Domain=.tripadvisor.co.id; Expires=Mon, 23-May-2033 00:58:44 GMT; Path=/\n",
      "header: Set-Cookie: BEPIN=%1%1885590a8ed%3Bweb271a.a.tripadvisor.com%3A30023%3B; Domain=.tripadvisor.co.id; Path=/\n",
      "header: Set-Cookie: PAC=AFObB0pcWK6d4QHp9sDhvq9Bz9e1V9Ao51VuIKYtU6nCLa8nvw9nhxbfrbQQvRLeIljgP_3s5qqXnV7E0skg3KbUCqdHKUXpCqwXmmvLe8afMoPGD5AKS0N-4dY_wV8CExyFjFPxg4l-cHluDjY870digHA_9PyjHGzt0E5ITQRgcaXDsF5AwdbiYhbf4XKTtmd-nXOe5uRBwGYDoDDwhREKN-bbjGbGtlusiGr6DAUj; Domain=www.tripadvisor.co.id; Expires=Sun, 25-May-2025 00:58:44 GMT; Path=/; Secure; HttpOnly\n",
      "header: Set-Cookie: SRT=TART_SYNC; Domain=www.tripadvisor.co.id; Expires=Fri, 26-May-2023 01:28:44 GMT; Path=/\n",
      "header: Set-Cookie: TATravelInfo=V2*AY.2023*AM.6*AD.4*DY.2023*DM.6*DD.5*A.2*MG.-1*HP.2*FL.3*DSM.1685062723908*RS.1; Domain=.tripadvisor.co.id; Expires=Fri, 09-Jun-2023 00:58:44 GMT; Path=/\n",
      "header: Set-Cookie: TAUD=LG-1685062723782-2.1.F.*RDD-2-2023_05_26*HDD-3-2023_06_04.2023_06_05.1; Domain=.tripadvisor.co.id; Expires=Fri, 09-Jun-2023 00:58:44 GMT; Path=/\n",
      "header: Set-Cookie: TASID=047C772E31C9418690D9830C39135C0D; Domain=www.tripadvisor.co.id; Expires=Fri, 26-May-2023 01:28:44 GMT; Path=/; Secure\n",
      "header: Set-Cookie: TAReturnTo=%1%%2FHotel_Review-g297701-d2704057-Reviews-or20-Baruna_Sari_Villa-Ubud_Gianyar_Regency_Bali.html; Domain=.tripadvisor.co.id; Path=/\n",
      "header: Set-Cookie: datadome=6dDnMZcnE4sh07kJ6bM_NIAIiasDEjpwNeDyeqtdIk6GsX9k67V8zJUl9IAAaOCj_OFxMCAmFr18~yNVqyN2_RMSSZl7pVAuV99LnBE9UCCjM1Iew411lyztX3fN29Jf; Max-Age=31104000; Domain=.tripadvisor.co.id; Path=/; Secure; SameSite=Lax\n",
      "Done Scrapping Baruna Sari Villa page 4\n",
      "\n",
      "\n"
     ]
    },
    {
     "name": "stderr",
     "output_type": "stream",
     "text": [
      "DEBUG:urllib3.connectionpool:Starting new HTTPS connection (1): www.tripadvisor.co.id:443\n"
     ]
    },
    {
     "name": "stdout",
     "output_type": "stream",
     "text": [
      "send: b'GET /Hotel_Review-g297701-d2704057-Reviews-or25-Baruna_Sari_Villa-Ubud_Gianyar_Regency_Bali.html HTTP/1.1\\r\\nHost: www.tripadvisor.co.id\\r\\nUser-Agent: Mozilla/5.0 (X11; CrOS x86_64 12871.102.0) AppleWebKit/537.36 (KHTML, like Gecko) Chrome/81.0.4044.141 Safari/537.36\\r\\nAccept-Encoding: gzip, deflate\\r\\nAccept: */*\\r\\nConnection: keep-alive\\r\\n\\r\\n'\n"
     ]
    },
    {
     "name": "stderr",
     "output_type": "stream",
     "text": [
      "DEBUG:urllib3.connectionpool:https://www.tripadvisor.co.id:443 \"GET /Hotel_Review-g297701-d2704057-Reviews-or25-Baruna_Sari_Villa-Ubud_Gianyar_Regency_Bali.html HTTP/1.1\" 200 None\n"
     ]
    },
    {
     "name": "stdout",
     "output_type": "stream",
     "text": [
      "reply: 'HTTP/1.1 200 OK\\r\\n'\n",
      "header: Server: envoy\n",
      "header: Link: <https://media-cdn.tripadvisor.com/media/>;rel=\"preconnect\";crossorigin\n",
      "header: Link: <https://media-cdn.tripadvisor.com/media/>;rel=\"dns-prefetch\"\n",
      "header: p3p: CP=\"NOI CURa ADMa DEVa TAIa OUR BUS IND UNI COM NAV INT DSP COR CAO PSA IDC ADM DEVi TAIi PSD IVAi IVDi CONi HIS CNT\"\n",
      "header: Pragma: no-cache\n",
      "header: Cache-Control: no-cache, no-store, must-revalidate\n",
      "header: Expires: 0\n",
      "header: Content-Language: id\n",
      "header: Link: <https://static.tacdn.com>;rel=\"dns-prefetch\"\n",
      "header: Link: <https://static.tacdn.com>;rel=\"preconnect\";crossorigin\n",
      "header: timing-allow-origin: https://www.tripadvisor.com\n",
      "header: Vary: Accept-Encoding\n",
      "header: Content-Type: text/html;charset=UTF-8\n",
      "header: x-datadome: protected\n",
      "header: Accept-CH: Sec-CH-UA,Sec-CH-UA-Mobile,Sec-CH-UA-Platform,Sec-CH-UA-Arch,Sec-CH-UA-Full-Version-List,Sec-CH-UA-Model,Sec-CH-Device-Memory\n",
      "header: Content-Encoding: gzip\n",
      "header: x-request-id: 1976fcc1-de35-4e10-9797-2cdb72002519\n",
      "header: Date: Fri, 26 May 2023 00:58:49 GMT\n",
      "header: Transfer-Encoding: chunked\n",
      "header: Connection: keep-alive\n",
      "header: Connection: Transfer-Encoding\n",
      "header: Set-Cookie: TADCID=bAsBp_7e0RRpitT6ABQCXdElnkGETRW-Svh01l3nWnXCZyDycTZWWCWYaWiZ2A1vboS_-J-qisOepqbIURvwDM1O4JYgnfR7rmc; Domain=www.tripadvisor.co.id; Expires=Mon, 23-May-2033 00:58:48 GMT; Path=/; Secure; HttpOnly\n",
      "header: Set-Cookie: TAUnique=%1%enc%3AOrn2D62ckVz%2B7H78yfwekiHKVVkteNxINi0IDr44%2BJs2jHwltRJPGQ%3D%3D; Domain=.tripadvisor.co.id; Expires=Sun, 25-May-2025 00:58:48 GMT; Path=/; HttpOnly\n",
      "header: Set-Cookie: TASSK=enc%3AAE6nwq2OWG15mfUwMYdnP5zHNxE7%2BdT6x4gMgcJmcy3URz9gIw4yQ03VKi7HtIcW0yst8JLIMgrsv7mKGEN0QYNEuhy%2FQ4%2BOpa5nkYAHZJVQ9LE9BbqH3BgmyYBz6p3mgw%3D%3D; Domain=www.tripadvisor.co.id; Expires=Wed, 22-Nov-2023 00:58:49 GMT; Path=/; HttpOnly\n",
      "header: Set-Cookie: TASession=V2ID.E7D0A4CCECAE45DB978B4710166CD401*SQ.1*HS.recommended*ES.popularity*DS.5*SAS.popularity*FPS.oldFirst*LF.in*FA.1*DF.0*TRA.true*LD.2704057; Domain=.tripadvisor.co.id; Path=/\n",
      "header: Set-Cookie: ServerPool=A; Domain=.tripadvisor.co.id; Path=/\n",
      "header: Set-Cookie: PMC=V2*MS.26*MD.20230525*LD.20230525; Domain=www.tripadvisor.co.id; Expires=Sun, 25-May-2025 00:58:49 GMT; Path=/; Secure; HttpOnly\n",
      "header: Set-Cookie: TART=%1%enc%3A%2Fux%2B%2FMn8HpKEgiGZur8NWCTcPX%2BbbnZdiNlf2%2BDyB5ApsxhJlri3gHRQFG5XfyRIkagyFvowwb0%3D; Domain=www.tripadvisor.co.id; Expires=Wed, 31-May-2023 00:58:49 GMT; Path=/; HttpOnly\n",
      "header: Set-Cookie: CM=%1%PremiumMobSess%2C%2C-1%7Ct4b-pc%2C%2C-1%7CRestAds%2FRPers%2C%2C-1%7CRCPers%2C%2C-1%7CWShadeSeen%2C%2C-1%7CTheForkMCCPers%2C%2C-1%7CHomeASess%2C%2C-1%7CPremiumMCSess%2C%2C-1%7CCrisisSess%2C%2C-1%7CUVOwnersSess%2C%2C-1%7CRestPremRSess%2C%2C-1%7CRepTarMCSess%2C%2C-1%7CCCSess%2C%2C-1%7CCYLSess%2C%2C-1%7CPremRetPers%2C%2C-1%7CViatorMCPers%2C%2C-1%7Csesssticker%2C%2C-1%7C%24%2C%2C-1%7CPremiumORSess%2C%2C-1%7Ct4b-sc%2C%2C-1%7CRestAdsPers%2C%2C-1%7CMC_IB_UPSELL_IB_LOGOS2%2C%2C-1%7CTSMCPers%2C%2C-1%7Cb2bmcpers%2C%2C-1%7CPremMCBtmSess%2C%2C-1%7CMC_IB_UPSELL_IB_LOGOS%2C%2C-1%7CLaFourchette+Banners%2C%2C-1%7Csess_rev%2C%2C-1%7Csessamex%2C%2C-1%7CPremiumRRSess%2C%2C-1%7CTADORSess%2C%2C-1%7CAdsRetPers%2C%2C-1%7CListMCSess%2C%2C-1%7CTARSWBPers%2C%2C-1%7CSPMCSess%2C%2C-1%7CTheForkORSess%2C%2C-1%7CTheForkRRSess%2C%2C-1%7Cpers_rev%2C%2C-1%7CRBAPers%2C%2C-1%7CRestAds%2FRSess%2C%2C-1%7CHomeAPers%2C%2C-1%7CPremiumMobPers%2C%2C-1%7CRCSess%2C%2C-1%7CLaFourchette+MC+Banners%2C%2C-1%7CRestAdsCCSess%2C%2C-1%7CRestPremRPers%2C%2C-1%7CRevHubRMPers%2C%2C-1%7CUVOwnersPers%2C%2C-1%7Cpssamex%2C%2C-1%7CTheForkMCCSess%2C%2C-1%7CCrisisPers%2C%2C-1%7CCYLPers%2C%2C-1%7CCCPers%2C%2C-1%7CRepTarMCPers%2C%2C-1%7Cb2bmcsess%2C%2C-1%7CTSMCSess%2C%2C-1%7CSPMCPers%2C%2C-1%7CRevHubRMSess%2C%2C-1%7CPremRetSess%2C%2C-1%7CViatorMCSess%2C%2C-1%7CPremiumMCPers%2C%2C-1%7CAdsRetSess%2C%2C-1%7CPremiumRRPers%2C%2C-1%7CRestAdsCCPers%2C%2C-1%7CTADORPers%2C%2C-1%7CTheForkORPers%2C%2C-1%7CPremMCBtmPers%2C%2C-1%7CTheForkRRPers%2C%2C-1%7CTARSWBSess%2C%2C-1%7CPremiumORPers%2C%2C-1%7CRestAdsSess%2C%2C-1%7CRBASess%2C%2C-1%7CSPORPers%2C%2C-1%7Cperssticker%2C%2C-1%7CListMCPers%2C%2C-1%7C; Domain=.tripadvisor.co.id; Expires=Mon, 23-May-2033 00:58:49 GMT; Path=/\n",
      "header: Set-Cookie: BEPIN=%1%1885590bbd5%3Bweb218a.a.tripadvisor.com%3A30023%3B; Domain=.tripadvisor.co.id; Path=/\n",
      "header: Set-Cookie: PAC=AJG4NZdRqLbat9QrTxfxnXY0hRkUGpHc_IINcYwm-nvUqqrg8k3TEHc9A5wJm0O074AXVvLVHh6oyP_obDl5Y-dtjC2tSplK7EngOUY5LqQFRbF3ZocRMg6jC5GNK9fQcBREbqVXZZi7_uVK3SE6nqd2U8wJ8fiYV0QXAhlURlhdexAhwGhKBJDAg3lUY6sMVQJAkfggx4LaJO5ApI_bxC4WXvaPdmCSJT4GvtYJw_Pa; Domain=www.tripadvisor.co.id; Expires=Sun, 25-May-2025 00:58:49 GMT; Path=/; Secure; HttpOnly\n",
      "header: Set-Cookie: SRT=TART_SYNC; Domain=www.tripadvisor.co.id; Expires=Fri, 26-May-2023 01:28:49 GMT; Path=/\n",
      "header: Set-Cookie: TATravelInfo=V2*AY.2023*AM.6*AD.4*DY.2023*DM.6*DD.5*A.2*MG.-1*HP.2*FL.3*DSM.1685062728766*RS.1; Domain=.tripadvisor.co.id; Expires=Fri, 09-Jun-2023 00:58:49 GMT; Path=/\n",
      "header: Set-Cookie: TAUD=LG-1685062728627-2.1.F.*RDD-2-2023_05_26*HDD-3-2023_06_04.2023_06_05.1; Domain=.tripadvisor.co.id; Expires=Fri, 09-Jun-2023 00:58:49 GMT; Path=/\n",
      "header: Set-Cookie: TASID=E7D0A4CCECAE45DB978B4710166CD401; Domain=www.tripadvisor.co.id; Expires=Fri, 26-May-2023 01:28:49 GMT; Path=/; Secure\n",
      "header: Set-Cookie: TAReturnTo=%1%%2FHotel_Review-g297701-d2704057-Reviews-or25-Baruna_Sari_Villa-Ubud_Gianyar_Regency_Bali.html; Domain=.tripadvisor.co.id; Path=/\n",
      "header: Set-Cookie: datadome=d5iOHSMgh1i_Z8obR0-hH0iMcsjfDpPh0Ygzv2jIEtrWFTLRvKDA6a_wlo8F9-RL-JJHyINnZIeRbAsSisPKPLRrceacKhnx0FsWW2ZvFJ9vnTIAfaku3GWMyMVNOuj; Max-Age=31104000; Domain=.tripadvisor.co.id; Path=/; Secure; SameSite=Lax\n",
      "Done Scrapping Baruna Sari Villa page 5\n",
      "\n",
      "\n"
     ]
    },
    {
     "name": "stderr",
     "output_type": "stream",
     "text": [
      "DEBUG:urllib3.connectionpool:Starting new HTTPS connection (1): www.tripadvisor.co.id:443\n"
     ]
    },
    {
     "name": "stdout",
     "output_type": "stream",
     "text": [
      "send: b'GET /Hotel_Review-g297701-d2704057-Reviews-or30-Baruna_Sari_Villa-Ubud_Gianyar_Regency_Bali.html HTTP/1.1\\r\\nHost: www.tripadvisor.co.id\\r\\nUser-Agent: Mozilla/5.0 (X11; CrOS x86_64 12871.102.0) AppleWebKit/537.36 (KHTML, like Gecko) Chrome/81.0.4044.141 Safari/537.36\\r\\nAccept-Encoding: gzip, deflate\\r\\nAccept: */*\\r\\nConnection: keep-alive\\r\\n\\r\\n'\n"
     ]
    },
    {
     "name": "stderr",
     "output_type": "stream",
     "text": [
      "DEBUG:urllib3.connectionpool:https://www.tripadvisor.co.id:443 \"GET /Hotel_Review-g297701-d2704057-Reviews-or30-Baruna_Sari_Villa-Ubud_Gianyar_Regency_Bali.html HTTP/1.1\" 200 None\n"
     ]
    },
    {
     "name": "stdout",
     "output_type": "stream",
     "text": [
      "reply: 'HTTP/1.1 200 OK\\r\\n'\n",
      "header: Server: envoy\n",
      "header: Link: <https://media-cdn.tripadvisor.com/media/>;rel=\"preconnect\";crossorigin\n",
      "header: Link: <https://media-cdn.tripadvisor.com/media/>;rel=\"dns-prefetch\"\n",
      "header: p3p: CP=\"NOI CURa ADMa DEVa TAIa OUR BUS IND UNI COM NAV INT DSP COR CAO PSA IDC ADM DEVi TAIi PSD IVAi IVDi CONi HIS CNT\"\n",
      "header: Pragma: no-cache\n",
      "header: Cache-Control: no-cache, no-store, must-revalidate\n",
      "header: Expires: 0\n",
      "header: Content-Language: id\n",
      "header: Link: <https://static.tacdn.com>;rel=\"dns-prefetch\"\n",
      "header: Link: <https://static.tacdn.com>;rel=\"preconnect\";crossorigin\n",
      "header: timing-allow-origin: https://www.tripadvisor.com\n",
      "header: Vary: Accept-Encoding\n",
      "header: Content-Type: text/html;charset=UTF-8\n",
      "header: x-datadome: protected\n",
      "header: Accept-CH: Sec-CH-UA,Sec-CH-UA-Mobile,Sec-CH-UA-Platform,Sec-CH-UA-Arch,Sec-CH-UA-Full-Version-List,Sec-CH-UA-Model,Sec-CH-Device-Memory\n",
      "header: Content-Encoding: gzip\n",
      "header: x-request-id: 7b4ca3b9-7cd6-40ea-9fe0-ac77223c5c7c\n",
      "header: Date: Fri, 26 May 2023 00:58:54 GMT\n",
      "header: Transfer-Encoding: chunked\n",
      "header: Connection: keep-alive\n",
      "header: Connection: Transfer-Encoding\n",
      "header: Set-Cookie: TADCID=P6MtBMPnTXoG4wYOABQCXdElnkGETRW-Svh01l3nWnXCZ5I7F9uw-lgsMYK3qOXPnCnKinJvitUFesN48JkSNPBboetMls4HJrI; Domain=www.tripadvisor.co.id; Expires=Mon, 23-May-2033 00:58:53 GMT; Path=/; Secure; HttpOnly\n",
      "header: Set-Cookie: TAUnique=%1%enc%3ARqJZljp%2F4Cb%2B7H78yfwekiHKVVkteNxIxeaqy5JHJy82jHwltRJPGQ%3D%3D; Domain=.tripadvisor.co.id; Expires=Sun, 25-May-2025 00:58:53 GMT; Path=/; HttpOnly\n",
      "header: Set-Cookie: TASSK=enc%3AAI1QRM6dUWoWaHNvY8bz4w2CyeJ5Eql%2BvFCw%2FPabOV4we0mAT99DhAumH0mqW0oIQw%2BskBL4xcT2pCoyp195Ma%2B69XjKvQEX1Dh%2FOv%2BkjPSjcGT6CHfCDCDg3aGS0WmqfQ%3D%3D; Domain=www.tripadvisor.co.id; Expires=Wed, 22-Nov-2023 00:58:53 GMT; Path=/; HttpOnly\n",
      "header: Set-Cookie: TASession=V2ID.FC1E517368D3436EB0E098EB058FBD5B*SQ.1*HS.recommended*ES.popularity*DS.5*SAS.popularity*FPS.oldFirst*LF.in*FA.1*DF.0*TRA.true*LD.2704057; Domain=.tripadvisor.co.id; Path=/\n",
      "header: Set-Cookie: ServerPool=C; Domain=.tripadvisor.co.id; Path=/\n",
      "header: Set-Cookie: PMC=V2*MS.69*MD.20230525*LD.20230525; Domain=www.tripadvisor.co.id; Expires=Sun, 25-May-2025 00:58:53 GMT; Path=/; Secure; HttpOnly\n",
      "header: Set-Cookie: TART=%1%enc%3A%2Fux%2B%2FMn8HpJOwLpXEh0g9wzOx2yUTJ%2BJZImPCXum9sI%2FzcHxTTeGudXUpIruPZgqjcUVV%2FjQ5bY%3D; Domain=www.tripadvisor.co.id; Expires=Wed, 31-May-2023 00:58:53 GMT; Path=/; HttpOnly\n",
      "header: Set-Cookie: CM=%1%PremiumMobSess%2C%2C-1%7Ct4b-pc%2C%2C-1%7CRestAds%2FRPers%2C%2C-1%7CRCPers%2C%2C-1%7CWShadeSeen%2C%2C-1%7CTheForkMCCPers%2C%2C-1%7CHomeASess%2C%2C-1%7CPremiumMCSess%2C%2C-1%7CCrisisSess%2C%2C-1%7CUVOwnersSess%2C%2C-1%7CRestPremRSess%2C%2C-1%7CRepTarMCSess%2C%2C-1%7CCCSess%2C%2C-1%7CCYLSess%2C%2C-1%7CPremRetPers%2C%2C-1%7CViatorMCPers%2C%2C-1%7Csesssticker%2C%2C-1%7C%24%2C%2C-1%7CPremiumORSess%2C%2C-1%7Ct4b-sc%2C%2C-1%7CRestAdsPers%2C%2C-1%7CMC_IB_UPSELL_IB_LOGOS2%2C%2C-1%7CTSMCPers%2C%2C-1%7Cb2bmcpers%2C%2C-1%7CPremMCBtmSess%2C%2C-1%7CMC_IB_UPSELL_IB_LOGOS%2C%2C-1%7CLaFourchette+Banners%2C%2C-1%7Csess_rev%2C%2C-1%7Csessamex%2C%2C-1%7CPremiumRRSess%2C%2C-1%7CTADORSess%2C%2C-1%7CAdsRetPers%2C%2C-1%7CListMCSess%2C%2C-1%7CTARSWBPers%2C%2C-1%7CSPMCSess%2C%2C-1%7CTheForkORSess%2C%2C-1%7CTheForkRRSess%2C%2C-1%7Cpers_rev%2C%2C-1%7CRBAPers%2C%2C-1%7CRestAds%2FRSess%2C%2C-1%7CHomeAPers%2C%2C-1%7CPremiumMobPers%2C%2C-1%7CRCSess%2C%2C-1%7CLaFourchette+MC+Banners%2C%2C-1%7CRestAdsCCSess%2C%2C-1%7CRestPremRPers%2C%2C-1%7CRevHubRMPers%2C%2C-1%7CUVOwnersPers%2C%2C-1%7Cpssamex%2C%2C-1%7CTheForkMCCSess%2C%2C-1%7CCrisisPers%2C%2C-1%7CCYLPers%2C%2C-1%7CCCPers%2C%2C-1%7CRepTarMCPers%2C%2C-1%7Cb2bmcsess%2C%2C-1%7CTSMCSess%2C%2C-1%7CSPMCPers%2C%2C-1%7CRevHubRMSess%2C%2C-1%7CPremRetSess%2C%2C-1%7CViatorMCSess%2C%2C-1%7CPremiumMCPers%2C%2C-1%7CAdsRetSess%2C%2C-1%7CPremiumRRPers%2C%2C-1%7CRestAdsCCPers%2C%2C-1%7CTADORPers%2C%2C-1%7CTheForkORPers%2C%2C-1%7CPremMCBtmPers%2C%2C-1%7CTheForkRRPers%2C%2C-1%7CTARSWBSess%2C%2C-1%7CPremiumORPers%2C%2C-1%7CRestAdsSess%2C%2C-1%7CRBASess%2C%2C-1%7CSPORPers%2C%2C-1%7Cperssticker%2C%2C-1%7CListMCPers%2C%2C-1%7C; Domain=.tripadvisor.co.id; Expires=Mon, 23-May-2033 00:58:53 GMT; Path=/\n",
      "header: Set-Cookie: BEPIN=%1%1885590ce87%3Bweb276a.a.tripadvisor.com%3A30023%3B; Domain=.tripadvisor.co.id; Path=/\n",
      "header: Set-Cookie: PAC=AOudFj73Y3Jk8YI8kMeKoCLey3Pk0fpgtHUU4PRKAbEtsGbqZkRdqnYXUyP1kh8Bee_1BfxBIT1pnbRfrv9X4gTR8duu5Q6x-VhahFMJRjO-xEh-PKl-xDNIbtzUg8XN3ofK3P3b50vMjc_GNOVBQOP2zECkmc4PVG5-RWyiPYDfN-PMxTZacQbtKX6nr95xpvsUcofKSQTlkV5OYq_pC8rtVYEU_TFGsnEUjaGMAdlY; Domain=www.tripadvisor.co.id; Expires=Sun, 25-May-2025 00:58:53 GMT; Path=/; Secure; HttpOnly\n",
      "header: Set-Cookie: SRT=TART_SYNC; Domain=www.tripadvisor.co.id; Expires=Fri, 26-May-2023 01:28:53 GMT; Path=/\n",
      "header: Set-Cookie: TATravelInfo=V2*AY.2023*AM.6*AD.4*DY.2023*DM.6*DD.5*A.2*MG.-1*HP.2*FL.3*DSM.1685062733558*RS.1; Domain=.tripadvisor.co.id; Expires=Fri, 09-Jun-2023 00:58:53 GMT; Path=/\n",
      "header: Set-Cookie: TAUD=LG-1685062733414-2.1.F.*RDD-2-2023_05_26*HDD-3-2023_06_04.2023_06_05.1; Domain=.tripadvisor.co.id; Expires=Fri, 09-Jun-2023 00:58:53 GMT; Path=/\n",
      "header: Set-Cookie: TASID=FC1E517368D3436EB0E098EB058FBD5B; Domain=www.tripadvisor.co.id; Expires=Fri, 26-May-2023 01:28:53 GMT; Path=/; Secure\n",
      "header: Set-Cookie: TAReturnTo=%1%%2FHotel_Review-g297701-d2704057-Reviews-or30-Baruna_Sari_Villa-Ubud_Gianyar_Regency_Bali.html; Domain=.tripadvisor.co.id; Path=/\n",
      "header: Set-Cookie: datadome=UBx5pJ_lC2ZWqsjbj-6viBfLHFi275vzsOIoxTvKmBI261XqlKSnKAVcNi8wy1_6uBzdWCPPuB9BUogpOpWViuIIU0YNejqZ8kZ_hlgBf6cAatVshCyZAWFMGM4RZHB; Max-Age=31104000; Domain=.tripadvisor.co.id; Path=/; Secure; SameSite=Lax\n",
      "Done Scrapping Baruna Sari Villa page 6\n",
      "\n",
      "\n"
     ]
    },
    {
     "name": "stderr",
     "output_type": "stream",
     "text": [
      "DEBUG:urllib3.connectionpool:Starting new HTTPS connection (1): www.tripadvisor.co.id:443\n"
     ]
    },
    {
     "name": "stdout",
     "output_type": "stream",
     "text": [
      "send: b'GET /Hotel_Review-g297701-d2704057-Reviews-or35-Baruna_Sari_Villa-Ubud_Gianyar_Regency_Bali.html HTTP/1.1\\r\\nHost: www.tripadvisor.co.id\\r\\nUser-Agent: Mozilla/5.0 (X11; CrOS x86_64 12871.102.0) AppleWebKit/537.36 (KHTML, like Gecko) Chrome/81.0.4044.141 Safari/537.36\\r\\nAccept-Encoding: gzip, deflate\\r\\nAccept: */*\\r\\nConnection: keep-alive\\r\\n\\r\\n'\n"
     ]
    },
    {
     "name": "stderr",
     "output_type": "stream",
     "text": [
      "DEBUG:urllib3.connectionpool:https://www.tripadvisor.co.id:443 \"GET /Hotel_Review-g297701-d2704057-Reviews-or35-Baruna_Sari_Villa-Ubud_Gianyar_Regency_Bali.html HTTP/1.1\" 200 None\n"
     ]
    },
    {
     "name": "stdout",
     "output_type": "stream",
     "text": [
      "reply: 'HTTP/1.1 200 OK\\r\\n'\n",
      "header: Server: envoy\n",
      "header: Link: <https://media-cdn.tripadvisor.com/media/>;rel=\"preconnect\";crossorigin\n",
      "header: Link: <https://media-cdn.tripadvisor.com/media/>;rel=\"dns-prefetch\"\n",
      "header: p3p: CP=\"NOI CURa ADMa DEVa TAIa OUR BUS IND UNI COM NAV INT DSP COR CAO PSA IDC ADM DEVi TAIi PSD IVAi IVDi CONi HIS CNT\"\n",
      "header: Pragma: no-cache\n",
      "header: Cache-Control: no-cache, no-store, must-revalidate\n",
      "header: Expires: 0\n",
      "header: Content-Language: id\n",
      "header: Link: <https://static.tacdn.com>;rel=\"dns-prefetch\"\n",
      "header: Link: <https://static.tacdn.com>;rel=\"preconnect\";crossorigin\n",
      "header: timing-allow-origin: https://www.tripadvisor.com\n",
      "header: Vary: Accept-Encoding\n",
      "header: Content-Type: text/html;charset=UTF-8\n",
      "header: Accept-CH: Sec-CH-UA,Sec-CH-UA-Mobile,Sec-CH-UA-Platform,Sec-CH-UA-Arch,Sec-CH-UA-Full-Version-List,Sec-CH-UA-Model,Sec-CH-Device-Memory\n",
      "header: x-datadome: protected\n",
      "header: Content-Encoding: gzip\n",
      "header: x-request-id: cc38221a-57d3-45b8-8aa7-e853b1d459e0\n",
      "header: Date: Fri, 26 May 2023 00:58:59 GMT\n",
      "header: Transfer-Encoding: chunked\n",
      "header: Connection: keep-alive\n",
      "header: Connection: Transfer-Encoding\n",
      "header: Set-Cookie: TADCID=NVGSoxRAt4ajhTqAABQCXdElnkGETRW-Svh01l3nWnXCZ12MfoeekyAgxv3HmpE5IiAcmruxKmZ38tMedJEQqyig1YD-Klhwcoc; Domain=www.tripadvisor.co.id; Expires=Mon, 23-May-2033 00:58:58 GMT; Path=/; Secure; HttpOnly\n",
      "header: Set-Cookie: TAUnique=%1%enc%3AsJrwCvqNVjf%2B7H78yfwekiHKVVkteNxIZunuaXBJRUM2jHwltRJPGQ%3D%3D; Domain=.tripadvisor.co.id; Expires=Sun, 25-May-2025 00:58:58 GMT; Path=/; HttpOnly\n",
      "header: Set-Cookie: TASSK=enc%3AALQ%2FRC53T0KbYn1e3UyF%2B9SZIg0fPGlzJFQT3%2BEqRlKBXgAmh0tojKlrADAM6B2hNY2xPe0QjNI%2FD8sa11ev36Jxj1Bc2IaqrTwIlCOSt53EZvvsysOGm5sWVdQ7GJxpLw%3D%3D; Domain=www.tripadvisor.co.id; Expires=Wed, 22-Nov-2023 00:58:59 GMT; Path=/; HttpOnly\n",
      "header: Set-Cookie: TASession=V2ID.B4955CBA27114F60838AEDF25C4634F9*SQ.1*HS.recommended*ES.popularity*DS.5*SAS.popularity*FPS.oldFirst*LF.in*FA.1*DF.0*TRA.true*LD.2704057; Domain=.tripadvisor.co.id; Path=/\n",
      "header: Set-Cookie: ServerPool=C; Domain=.tripadvisor.co.id; Path=/\n",
      "header: Set-Cookie: PMC=V2*MS.31*MD.20230525*LD.20230525; Domain=www.tripadvisor.co.id; Expires=Sun, 25-May-2025 00:58:59 GMT; Path=/; Secure; HttpOnly\n",
      "header: Set-Cookie: TART=%1%enc%3A%2Fux%2B%2FMn8HpI1x84WHZ9BtGT72WQSHsZDxRSowNtFDGsRr72JeFY7yuL%2FM9zQdQLvfYtftmnsPgU%3D; Domain=www.tripadvisor.co.id; Expires=Wed, 31-May-2023 00:58:59 GMT; Path=/; HttpOnly\n",
      "header: Set-Cookie: CM=%1%PremiumMobSess%2C%2C-1%7Ct4b-pc%2C%2C-1%7CRestAds%2FRPers%2C%2C-1%7CRCPers%2C%2C-1%7CWShadeSeen%2C%2C-1%7CTheForkMCCPers%2C%2C-1%7CHomeASess%2C%2C-1%7CPremiumMCSess%2C%2C-1%7CCrisisSess%2C%2C-1%7CUVOwnersSess%2C%2C-1%7CRestPremRSess%2C%2C-1%7CRepTarMCSess%2C%2C-1%7CCCSess%2C%2C-1%7CCYLSess%2C%2C-1%7CPremRetPers%2C%2C-1%7CViatorMCPers%2C%2C-1%7Csesssticker%2C%2C-1%7C%24%2C%2C-1%7CPremiumORSess%2C%2C-1%7Ct4b-sc%2C%2C-1%7CRestAdsPers%2C%2C-1%7CMC_IB_UPSELL_IB_LOGOS2%2C%2C-1%7CTSMCPers%2C%2C-1%7Cb2bmcpers%2C%2C-1%7CPremMCBtmSess%2C%2C-1%7CMC_IB_UPSELL_IB_LOGOS%2C%2C-1%7CLaFourchette+Banners%2C%2C-1%7Csess_rev%2C%2C-1%7Csessamex%2C%2C-1%7CPremiumRRSess%2C%2C-1%7CTADORSess%2C%2C-1%7CAdsRetPers%2C%2C-1%7CListMCSess%2C%2C-1%7CTARSWBPers%2C%2C-1%7CSPMCSess%2C%2C-1%7CTheForkORSess%2C%2C-1%7CTheForkRRSess%2C%2C-1%7Cpers_rev%2C%2C-1%7CRBAPers%2C%2C-1%7CRestAds%2FRSess%2C%2C-1%7CHomeAPers%2C%2C-1%7CPremiumMobPers%2C%2C-1%7CRCSess%2C%2C-1%7CLaFourchette+MC+Banners%2C%2C-1%7CRestAdsCCSess%2C%2C-1%7CRestPremRPers%2C%2C-1%7CRevHubRMPers%2C%2C-1%7CUVOwnersPers%2C%2C-1%7Cpssamex%2C%2C-1%7CTheForkMCCSess%2C%2C-1%7CCrisisPers%2C%2C-1%7CCYLPers%2C%2C-1%7CCCPers%2C%2C-1%7CRepTarMCPers%2C%2C-1%7Cb2bmcsess%2C%2C-1%7CTSMCSess%2C%2C-1%7CSPMCPers%2C%2C-1%7CRevHubRMSess%2C%2C-1%7CPremRetSess%2C%2C-1%7CViatorMCSess%2C%2C-1%7CPremiumMCPers%2C%2C-1%7CAdsRetSess%2C%2C-1%7CPremiumRRPers%2C%2C-1%7CRestAdsCCPers%2C%2C-1%7CTADORPers%2C%2C-1%7CTheForkORPers%2C%2C-1%7CPremMCBtmPers%2C%2C-1%7CTheForkRRPers%2C%2C-1%7CTARSWBSess%2C%2C-1%7CPremiumORPers%2C%2C-1%7CRestAdsSess%2C%2C-1%7CRBASess%2C%2C-1%7CSPORPers%2C%2C-1%7Cperssticker%2C%2C-1%7CListMCPers%2C%2C-1%7C; Domain=.tripadvisor.co.id; Expires=Mon, 23-May-2033 00:58:59 GMT; Path=/\n",
      "header: Set-Cookie: BEPIN=%1%1885590e2d3%3Bweb270a.a.tripadvisor.com%3A30023%3B; Domain=.tripadvisor.co.id; Path=/\n",
      "header: Set-Cookie: PAC=AG5m9k4f0rL0rtOfOKWeTAle0G56Q0MEsETsfAizdePUPmbzQJWwlF-uROIoCPK1wvTPeJ8ZIoqmK206Kp-kJSXGvc0S645KrjBxScr214AK7hPnnNIv83lP2ovCP1wI8BFrFKBX-HjXQkoEiDDfnbqk4a6V6a89oRlhVL4M-4TZuY5eCVJQQJbGhazoyb_vjyfw16oIJrn_MPSX1C4Ba_7Bz7oEAWLLEu0lwi4t44Gz; Domain=www.tripadvisor.co.id; Expires=Sun, 25-May-2025 00:58:59 GMT; Path=/; Secure; HttpOnly\n",
      "header: Set-Cookie: SRT=TART_SYNC; Domain=www.tripadvisor.co.id; Expires=Fri, 26-May-2023 01:28:59 GMT; Path=/\n",
      "header: Set-Cookie: TATravelInfo=V2*AY.2023*AM.6*AD.4*DY.2023*DM.6*DD.5*A.2*MG.-1*HP.2*FL.3*DSM.1685062738738*RS.1; Domain=.tripadvisor.co.id; Expires=Fri, 09-Jun-2023 00:58:59 GMT; Path=/\n",
      "header: Set-Cookie: TAUD=LG-1685062738597-2.1.F.*RDD-2-2023_05_26*HDD-3-2023_06_04.2023_06_05.1; Domain=.tripadvisor.co.id; Expires=Fri, 09-Jun-2023 00:58:59 GMT; Path=/\n",
      "header: Set-Cookie: TASID=B4955CBA27114F60838AEDF25C4634F9; Domain=www.tripadvisor.co.id; Expires=Fri, 26-May-2023 01:28:59 GMT; Path=/; Secure\n",
      "header: Set-Cookie: TAReturnTo=%1%%2FHotel_Review-g297701-d2704057-Reviews-or35-Baruna_Sari_Villa-Ubud_Gianyar_Regency_Bali.html; Domain=.tripadvisor.co.id; Path=/\n",
      "header: Set-Cookie: datadome=2njZGnJWlyxEGvOAEEl5-LeUCXtOko8eKgUE5G7o7Cqm_cK4-gMFwZFN-BNL32WVvMnlltbYSlLORwG097qyEJ0_Yix8N4OSkBsvN6HkEzPyPE6d2rjtkHQje_xgJOZj; Max-Age=31104000; Domain=.tripadvisor.co.id; Path=/; Secure; SameSite=Lax\n",
      "Done Scrapping Baruna Sari Villa page 7\n",
      "\n",
      "\n"
     ]
    },
    {
     "name": "stderr",
     "output_type": "stream",
     "text": [
      "DEBUG:urllib3.connectionpool:Starting new HTTPS connection (1): www.tripadvisor.co.id:443\n"
     ]
    },
    {
     "name": "stdout",
     "output_type": "stream",
     "text": [
      "send: b'GET /Hotel_Review-g297701-d2704057-Reviews-or40-Baruna_Sari_Villa-Ubud_Gianyar_Regency_Bali.html HTTP/1.1\\r\\nHost: www.tripadvisor.co.id\\r\\nUser-Agent: Mozilla/5.0 (X11; CrOS x86_64 12871.102.0) AppleWebKit/537.36 (KHTML, like Gecko) Chrome/81.0.4044.141 Safari/537.36\\r\\nAccept-Encoding: gzip, deflate\\r\\nAccept: */*\\r\\nConnection: keep-alive\\r\\n\\r\\n'\n"
     ]
    },
    {
     "name": "stderr",
     "output_type": "stream",
     "text": [
      "DEBUG:urllib3.connectionpool:https://www.tripadvisor.co.id:443 \"GET /Hotel_Review-g297701-d2704057-Reviews-or40-Baruna_Sari_Villa-Ubud_Gianyar_Regency_Bali.html HTTP/1.1\" 200 None\n"
     ]
    },
    {
     "name": "stdout",
     "output_type": "stream",
     "text": [
      "reply: 'HTTP/1.1 200 OK\\r\\n'\n",
      "header: Server: envoy\n",
      "header: Link: <https://media-cdn.tripadvisor.com/media/>;rel=\"preconnect\";crossorigin\n",
      "header: Link: <https://media-cdn.tripadvisor.com/media/>;rel=\"dns-prefetch\"\n",
      "header: p3p: CP=\"NOI CURa ADMa DEVa TAIa OUR BUS IND UNI COM NAV INT DSP COR CAO PSA IDC ADM DEVi TAIi PSD IVAi IVDi CONi HIS CNT\"\n",
      "header: Pragma: no-cache\n",
      "header: Cache-Control: no-cache, no-store, must-revalidate\n",
      "header: Expires: 0\n",
      "header: Content-Language: id\n",
      "header: Link: <https://static.tacdn.com>;rel=\"dns-prefetch\"\n",
      "header: Link: <https://static.tacdn.com>;rel=\"preconnect\";crossorigin\n",
      "header: timing-allow-origin: https://www.tripadvisor.com\n",
      "header: Vary: Accept-Encoding\n",
      "header: Content-Type: text/html;charset=UTF-8\n",
      "header: Content-Encoding: gzip\n",
      "header: x-request-id: f8eead04-396a-4962-bcbe-b246f90ea22b\n",
      "header: Date: Fri, 26 May 2023 00:59:04 GMT\n",
      "header: Transfer-Encoding: chunked\n",
      "header: Connection: keep-alive\n",
      "header: Connection: Transfer-Encoding\n",
      "header: Set-Cookie: TADCID=_fh35OU3_S3SCqxJABQCXdElnkGETRW-Svh01l3nWnXCaEVGy70RRT751sididwDzNkpMuv-uLrsUQInVFjuQPl0NdkNEwYP9TY; Domain=www.tripadvisor.co.id; Expires=Mon, 23-May-2033 00:59:03 GMT; Path=/; Secure; HttpOnly\n",
      "header: Set-Cookie: TAUnique=%1%enc%3AHxtaVtNFDQb%2B7H78yfwekiHKVVkteNxIXeQo5wzmmSY2jHwltRJPGQ%3D%3D; Domain=.tripadvisor.co.id; Expires=Sun, 25-May-2025 00:59:03 GMT; Path=/; HttpOnly\n",
      "header: Set-Cookie: TASSK=enc%3AAFKdWwFbIFkhYG3n55MvMMw%2B2GMLTup%2FgefLsVCWC6CHqKMNjyD1qH7lM9WJxmXgHJEyXeHZWNmy7KySHfrkbK6ClB3wy4QSGfvdfhD4Agw6%2BgZJfreeb4iM9fjPxUXNQA%3D%3D; Domain=www.tripadvisor.co.id; Expires=Wed, 22-Nov-2023 00:59:04 GMT; Path=/; HttpOnly\n",
      "header: Set-Cookie: TASession=V2ID.8260147C3ABF42B2B91C439AFF870669*SQ.1*HS.recommended*ES.popularity*DS.5*SAS.popularity*FPS.oldFirst*LF.in*FA.1*DF.0*TRA.true*LD.2704057; Domain=.tripadvisor.co.id; Path=/\n",
      "header: Set-Cookie: ServerPool=C; Domain=.tripadvisor.co.id; Path=/\n",
      "header: Set-Cookie: PMC=V2*MS.20*MD.20230525*LD.20230525; Domain=www.tripadvisor.co.id; Expires=Sun, 25-May-2025 00:59:04 GMT; Path=/; Secure; HttpOnly\n",
      "header: Set-Cookie: TART=%1%enc%3A%2Fux%2B%2FMn8HpJUtABV%2FT7ldnmeE5EEHKLBvvhxV3HQk6%2FYlfrScWs8iOqhsogvedqyfTM2Cx7kRNA%3D; Domain=www.tripadvisor.co.id; Expires=Wed, 31-May-2023 00:59:04 GMT; Path=/; HttpOnly\n",
      "header: Set-Cookie: CM=%1%PremiumMobSess%2C%2C-1%7Ct4b-pc%2C%2C-1%7CRestAds%2FRPers%2C%2C-1%7CRCPers%2C%2C-1%7CWShadeSeen%2C%2C-1%7CTheForkMCCPers%2C%2C-1%7CHomeASess%2C%2C-1%7CPremiumMCSess%2C%2C-1%7CCrisisSess%2C%2C-1%7CUVOwnersSess%2C%2C-1%7CRestPremRSess%2C%2C-1%7CRepTarMCSess%2C%2C-1%7CCCSess%2C%2C-1%7CCYLSess%2C%2C-1%7CPremRetPers%2C%2C-1%7CViatorMCPers%2C%2C-1%7Csesssticker%2C%2C-1%7C%24%2C%2C-1%7CPremiumORSess%2C%2C-1%7Ct4b-sc%2C%2C-1%7CRestAdsPers%2C%2C-1%7CMC_IB_UPSELL_IB_LOGOS2%2C%2C-1%7CTSMCPers%2C%2C-1%7Cb2bmcpers%2C%2C-1%7CPremMCBtmSess%2C%2C-1%7CMC_IB_UPSELL_IB_LOGOS%2C%2C-1%7CLaFourchette+Banners%2C%2C-1%7Csess_rev%2C%2C-1%7Csessamex%2C%2C-1%7CPremiumRRSess%2C%2C-1%7CTADORSess%2C%2C-1%7CAdsRetPers%2C%2C-1%7CListMCSess%2C%2C-1%7CTARSWBPers%2C%2C-1%7CSPMCSess%2C%2C-1%7CTheForkORSess%2C%2C-1%7CTheForkRRSess%2C%2C-1%7Cpers_rev%2C%2C-1%7CRBAPers%2C%2C-1%7CRestAds%2FRSess%2C%2C-1%7CHomeAPers%2C%2C-1%7CPremiumMobPers%2C%2C-1%7CRCSess%2C%2C-1%7CLaFourchette+MC+Banners%2C%2C-1%7CRestAdsCCSess%2C%2C-1%7CRestPremRPers%2C%2C-1%7CRevHubRMPers%2C%2C-1%7CUVOwnersPers%2C%2C-1%7Cpssamex%2C%2C-1%7CTheForkMCCSess%2C%2C-1%7CCrisisPers%2C%2C-1%7CCYLPers%2C%2C-1%7CCCPers%2C%2C-1%7CRepTarMCPers%2C%2C-1%7Cb2bmcsess%2C%2C-1%7CTSMCSess%2C%2C-1%7CSPMCPers%2C%2C-1%7CRevHubRMSess%2C%2C-1%7CPremRetSess%2C%2C-1%7CViatorMCSess%2C%2C-1%7CPremiumMCPers%2C%2C-1%7CAdsRetSess%2C%2C-1%7CPremiumRRPers%2C%2C-1%7CRestAdsCCPers%2C%2C-1%7CTADORPers%2C%2C-1%7CTheForkORPers%2C%2C-1%7CPremMCBtmPers%2C%2C-1%7CTheForkRRPers%2C%2C-1%7CTARSWBSess%2C%2C-1%7CPremiumORPers%2C%2C-1%7CRestAdsSess%2C%2C-1%7CRBASess%2C%2C-1%7CSPORPers%2C%2C-1%7Cperssticker%2C%2C-1%7CListMCPers%2C%2C-1%7C; Domain=.tripadvisor.co.id; Expires=Mon, 23-May-2033 00:59:04 GMT; Path=/\n",
      "header: Set-Cookie: BEPIN=%1%1885590f650%3Bweb149a.a.tripadvisor.com%3A30023%3B; Domain=.tripadvisor.co.id; Path=/\n",
      "header: Set-Cookie: PAC=AG2xDfoFSrk3nICpMwrbQf71jAxhHZI3XdGJ90Q0LOPE-C6vKsmDHSGD41xAgNaHIGYsWF9l3n4BS3eX_Yr2_fzS0pfCx92qHrZnnnZXsY8_AWR-1lmHKp7SqrWs8hqYFogZRmC-5gxGHxJr6EKWjyN891uJ-HdcHkCut1qAGd14k43PRp0hAxZzzZ-HxezWMH6TV43_KIMmLGaNStODnxdPyyqayKDM0WDz8cA2aZZE; Domain=www.tripadvisor.co.id; Expires=Sun, 25-May-2025 00:59:04 GMT; Path=/; Secure; HttpOnly\n",
      "header: Set-Cookie: SRT=TART_SYNC; Domain=www.tripadvisor.co.id; Expires=Fri, 26-May-2023 01:29:04 GMT; Path=/\n",
      "header: Set-Cookie: TATravelInfo=V2*AY.2023*AM.6*AD.4*DY.2023*DM.6*DD.5*A.2*MG.-1*HP.2*FL.3*DSM.1685062743723*RS.1; Domain=.tripadvisor.co.id; Expires=Fri, 09-Jun-2023 00:59:04 GMT; Path=/\n",
      "header: Set-Cookie: TAUD=LG-1685062743616-2.1.F.*RDD-2-2023_05_26*HDD-3-2023_06_04.2023_06_05.1; Domain=.tripadvisor.co.id; Expires=Fri, 09-Jun-2023 00:59:04 GMT; Path=/\n",
      "header: Set-Cookie: TASID=8260147C3ABF42B2B91C439AFF870669; Domain=www.tripadvisor.co.id; Expires=Fri, 26-May-2023 01:29:04 GMT; Path=/; Secure\n",
      "header: Set-Cookie: TAReturnTo=%1%%2FHotel_Review-g297701-d2704057-Reviews-or40-Baruna_Sari_Villa-Ubud_Gianyar_Regency_Bali.html; Domain=.tripadvisor.co.id; Path=/\n",
      "Done Scrapping Baruna Sari Villa page 8\n",
      "\n",
      "\n"
     ]
    },
    {
     "name": "stderr",
     "output_type": "stream",
     "text": [
      "DEBUG:urllib3.connectionpool:Starting new HTTPS connection (1): www.tripadvisor.co.id:443\n"
     ]
    },
    {
     "name": "stdout",
     "output_type": "stream",
     "text": [
      "send: b'GET /Hotel_Review-g297701-d2704057-Reviews-or45-Baruna_Sari_Villa-Ubud_Gianyar_Regency_Bali.html HTTP/1.1\\r\\nHost: www.tripadvisor.co.id\\r\\nUser-Agent: Mozilla/5.0 (X11; CrOS x86_64 12871.102.0) AppleWebKit/537.36 (KHTML, like Gecko) Chrome/81.0.4044.141 Safari/537.36\\r\\nAccept-Encoding: gzip, deflate\\r\\nAccept: */*\\r\\nConnection: keep-alive\\r\\n\\r\\n'\n"
     ]
    },
    {
     "name": "stderr",
     "output_type": "stream",
     "text": [
      "DEBUG:urllib3.connectionpool:https://www.tripadvisor.co.id:443 \"GET /Hotel_Review-g297701-d2704057-Reviews-or45-Baruna_Sari_Villa-Ubud_Gianyar_Regency_Bali.html HTTP/1.1\" 200 None\n"
     ]
    },
    {
     "name": "stdout",
     "output_type": "stream",
     "text": [
      "reply: 'HTTP/1.1 200 OK\\r\\n'\n",
      "header: Server: envoy\n",
      "header: Link: <https://media-cdn.tripadvisor.com/media/>;rel=\"preconnect\";crossorigin\n",
      "header: Link: <https://media-cdn.tripadvisor.com/media/>;rel=\"dns-prefetch\"\n",
      "header: p3p: CP=\"NOI CURa ADMa DEVa TAIa OUR BUS IND UNI COM NAV INT DSP COR CAO PSA IDC ADM DEVi TAIi PSD IVAi IVDi CONi HIS CNT\"\n",
      "header: Pragma: no-cache\n",
      "header: Cache-Control: no-cache, no-store, must-revalidate\n",
      "header: Expires: 0\n",
      "header: Content-Language: id\n",
      "header: Link: <https://static.tacdn.com>;rel=\"dns-prefetch\"\n",
      "header: Link: <https://static.tacdn.com>;rel=\"preconnect\";crossorigin\n",
      "header: timing-allow-origin: https://www.tripadvisor.com\n",
      "header: Vary: Accept-Encoding\n",
      "header: Content-Type: text/html;charset=UTF-8\n",
      "header: x-datadome: protected\n",
      "header: Accept-CH: Sec-CH-UA,Sec-CH-UA-Mobile,Sec-CH-UA-Platform,Sec-CH-UA-Arch,Sec-CH-UA-Full-Version-List,Sec-CH-UA-Model,Sec-CH-Device-Memory\n",
      "header: Content-Encoding: gzip\n",
      "header: x-request-id: 98dc6d48-3904-43e8-b496-7fb5196625fd\n",
      "header: Date: Fri, 26 May 2023 00:59:08 GMT\n",
      "header: Transfer-Encoding: chunked\n",
      "header: Connection: keep-alive\n",
      "header: Connection: Transfer-Encoding\n",
      "header: Set-Cookie: TADCID=sf4sUyWDdDgK02k_ABQCXdElnkGETRW-Svh01l3nWnXCaAVGYcrnVQSr5NAwjyEnSG6nlEfOqT37GCCIgXxbOUdNRuljqQy-ouE; Domain=www.tripadvisor.co.id; Expires=Mon, 23-May-2033 00:59:08 GMT; Path=/; Secure; HttpOnly\n",
      "header: Set-Cookie: TAUnique=%1%enc%3ALBUidT4OAAj%2B7H78yfwekiHKVVkteNxI4z0P5RlecrI2jHwltRJPGQ%3D%3D; Domain=.tripadvisor.co.id; Expires=Sun, 25-May-2025 00:59:08 GMT; Path=/; HttpOnly\n",
      "header: Set-Cookie: TASSK=enc%3AAKDKjvpsvKh9bF7K7irZSmKoGxY1rXsOyLIsDNlq2SeJU0l6HRQV%2BySS5yPadMvIq4c0%2BaeLNJf8kvO9C8K1beSaqoZqXB4DWXK9UPlwToXSP3gA7vYWdb92czHXjZnmqw%3D%3D; Domain=www.tripadvisor.co.id; Expires=Wed, 22-Nov-2023 00:59:08 GMT; Path=/; HttpOnly\n",
      "header: Set-Cookie: TASession=V2ID.6CF25F12D3A74B48871212C87079F3D9*SQ.1*HS.recommended*ES.popularity*DS.5*SAS.popularity*FPS.oldFirst*LF.in*FA.1*DF.0*TRA.true*LD.2704057; Domain=.tripadvisor.co.id; Path=/\n",
      "header: Set-Cookie: ServerPool=X; Domain=.tripadvisor.co.id; Path=/\n",
      "header: Set-Cookie: PMC=V2*MS.23*MD.20230525*LD.20230525; Domain=www.tripadvisor.co.id; Expires=Sun, 25-May-2025 00:59:08 GMT; Path=/; Secure; HttpOnly\n",
      "header: Set-Cookie: TART=%1%enc%3A%2Fux%2B%2FMn8HpLN5EaV7gkSWiibiBq1Xn%2FuHrNhLQhPBnBNjuMPj8g222%2BuKw1N9oFJfTM2Cx7kRNA%3D; Domain=www.tripadvisor.co.id; Expires=Wed, 31-May-2023 00:59:08 GMT; Path=/; HttpOnly\n",
      "header: Set-Cookie: CM=%1%PremiumMobSess%2C%2C-1%7Ct4b-pc%2C%2C-1%7CRestAds%2FRPers%2C%2C-1%7CRCPers%2C%2C-1%7CWShadeSeen%2C%2C-1%7CTheForkMCCPers%2C%2C-1%7CHomeASess%2C%2C-1%7CPremiumMCSess%2C%2C-1%7CCrisisSess%2C%2C-1%7CUVOwnersSess%2C%2C-1%7CRestPremRSess%2C%2C-1%7CRepTarMCSess%2C%2C-1%7CCCSess%2C%2C-1%7CCYLSess%2C%2C-1%7CPremRetPers%2C%2C-1%7CViatorMCPers%2C%2C-1%7Csesssticker%2C%2C-1%7C%24%2C%2C-1%7CPremiumORSess%2C%2C-1%7Ct4b-sc%2C%2C-1%7CRestAdsPers%2C%2C-1%7CMC_IB_UPSELL_IB_LOGOS2%2C%2C-1%7CTSMCPers%2C%2C-1%7Cb2bmcpers%2C%2C-1%7CPremMCBtmSess%2C%2C-1%7CMC_IB_UPSELL_IB_LOGOS%2C%2C-1%7CLaFourchette+Banners%2C%2C-1%7Csess_rev%2C%2C-1%7Csessamex%2C%2C-1%7CPremiumRRSess%2C%2C-1%7CTADORSess%2C%2C-1%7CAdsRetPers%2C%2C-1%7CListMCSess%2C%2C-1%7CTARSWBPers%2C%2C-1%7CSPMCSess%2C%2C-1%7CTheForkORSess%2C%2C-1%7CTheForkRRSess%2C%2C-1%7Cpers_rev%2C%2C-1%7CRBAPers%2C%2C-1%7CRestAds%2FRSess%2C%2C-1%7CHomeAPers%2C%2C-1%7CPremiumMobPers%2C%2C-1%7CRCSess%2C%2C-1%7CLaFourchette+MC+Banners%2C%2C-1%7CRestAdsCCSess%2C%2C-1%7CRestPremRPers%2C%2C-1%7CRevHubRMPers%2C%2C-1%7CUVOwnersPers%2C%2C-1%7Cpssamex%2C%2C-1%7CTheForkMCCSess%2C%2C-1%7CCrisisPers%2C%2C-1%7CCYLPers%2C%2C-1%7CCCPers%2C%2C-1%7CRepTarMCPers%2C%2C-1%7Cb2bmcsess%2C%2C-1%7CTSMCSess%2C%2C-1%7CSPMCPers%2C%2C-1%7CRevHubRMSess%2C%2C-1%7CPremRetSess%2C%2C-1%7CViatorMCSess%2C%2C-1%7CPremiumMCPers%2C%2C-1%7CAdsRetSess%2C%2C-1%7CPremiumRRPers%2C%2C-1%7CRestAdsCCPers%2C%2C-1%7CTADORPers%2C%2C-1%7CTheForkORPers%2C%2C-1%7CPremMCBtmPers%2C%2C-1%7CTheForkRRPers%2C%2C-1%7CTARSWBSess%2C%2C-1%7CPremiumORPers%2C%2C-1%7CRestAdsSess%2C%2C-1%7CRBASess%2C%2C-1%7CSPORPers%2C%2C-1%7Cperssticker%2C%2C-1%7CListMCPers%2C%2C-1%7C; Domain=.tripadvisor.co.id; Expires=Mon, 23-May-2033 00:59:08 GMT; Path=/\n",
      "header: Set-Cookie: BEPIN=%1%1885591085b%3Bweb276a.a.tripadvisor.com%3A30023%3B; Domain=.tripadvisor.co.id; Path=/\n",
      "header: Set-Cookie: PAC=AG3Entoh3dVH3jczV9Dl-MdffifA2z1jkipi8Dh1yhed_h30-3FARXdKP6SFL8AQqMuMcCpx1hE9unbGV9WrvmK7ahJVM2wd2-CB39zTA0d0hugY3umBsvhRDBAErLrud2sh7yFtyxYVqpCpIF-E6Y-2NEqyFhwrSmxe27Kk2NS7AJmWo7FRC_h4SdEQT7bTVQiCRAKU9epyMjNCjvHNiHl7-jY9qefI4W4KNmzzHpVi; Domain=www.tripadvisor.co.id; Expires=Sun, 25-May-2025 00:59:08 GMT; Path=/; Secure; HttpOnly\n",
      "header: Set-Cookie: SRT=TART_SYNC; Domain=www.tripadvisor.co.id; Expires=Fri, 26-May-2023 01:29:08 GMT; Path=/\n",
      "header: Set-Cookie: TATravelInfo=V2*AY.2023*AM.6*AD.4*DY.2023*DM.6*DD.5*A.2*MG.-1*HP.2*FL.3*DSM.1685062748348*RS.1; Domain=.tripadvisor.co.id; Expires=Fri, 09-Jun-2023 00:59:08 GMT; Path=/\n",
      "header: Set-Cookie: TAUD=LG-1685062748207-2.1.F.*RDD-2-2023_05_26*HDD-3-2023_06_04.2023_06_05.1; Domain=.tripadvisor.co.id; Expires=Fri, 09-Jun-2023 00:59:08 GMT; Path=/\n",
      "header: Set-Cookie: TASID=6CF25F12D3A74B48871212C87079F3D9; Domain=www.tripadvisor.co.id; Expires=Fri, 26-May-2023 01:29:08 GMT; Path=/; Secure\n",
      "header: Set-Cookie: TAReturnTo=%1%%2FHotel_Review-g297701-d2704057-Reviews-or45-Baruna_Sari_Villa-Ubud_Gianyar_Regency_Bali.html; Domain=.tripadvisor.co.id; Path=/\n",
      "header: Set-Cookie: datadome=-ogmP80zB1NIbU~XU8C01UqeLxBE7gvnzGr46NYtAi6JWlKouAqRb36FDg1~Gba81Qi9F5~S0MzPx2tH1DOl0_twHii_~Ae2YOQ7NZtLXgMYvAeBfsoI75gjZRDJa7W; Max-Age=31104000; Domain=.tripadvisor.co.id; Path=/; Secure; SameSite=Lax\n",
      "Done Scrapping Baruna Sari Villa page 9\n",
      "\n",
      "\n"
     ]
    },
    {
     "name": "stderr",
     "output_type": "stream",
     "text": [
      "DEBUG:urllib3.connectionpool:Starting new HTTPS connection (1): www.tripadvisor.co.id:443\n"
     ]
    },
    {
     "name": "stdout",
     "output_type": "stream",
     "text": [
      "send: b'GET /Hotel_Review-g297701-d2704057-Reviews-or50-Baruna_Sari_Villa-Ubud_Gianyar_Regency_Bali.html HTTP/1.1\\r\\nHost: www.tripadvisor.co.id\\r\\nUser-Agent: Mozilla/5.0 (X11; CrOS x86_64 12871.102.0) AppleWebKit/537.36 (KHTML, like Gecko) Chrome/81.0.4044.141 Safari/537.36\\r\\nAccept-Encoding: gzip, deflate\\r\\nAccept: */*\\r\\nConnection: keep-alive\\r\\n\\r\\n'\n"
     ]
    },
    {
     "name": "stderr",
     "output_type": "stream",
     "text": [
      "DEBUG:urllib3.connectionpool:https://www.tripadvisor.co.id:443 \"GET /Hotel_Review-g297701-d2704057-Reviews-or50-Baruna_Sari_Villa-Ubud_Gianyar_Regency_Bali.html HTTP/1.1\" 200 None\n"
     ]
    },
    {
     "name": "stdout",
     "output_type": "stream",
     "text": [
      "reply: 'HTTP/1.1 200 OK\\r\\n'\n",
      "header: Server: envoy\n",
      "header: Link: <https://media-cdn.tripadvisor.com/media/>;rel=\"preconnect\";crossorigin\n",
      "header: Link: <https://media-cdn.tripadvisor.com/media/>;rel=\"dns-prefetch\"\n",
      "header: p3p: CP=\"NOI CURa ADMa DEVa TAIa OUR BUS IND UNI COM NAV INT DSP COR CAO PSA IDC ADM DEVi TAIi PSD IVAi IVDi CONi HIS CNT\"\n",
      "header: Pragma: no-cache\n",
      "header: Cache-Control: no-cache, no-store, must-revalidate\n",
      "header: Expires: 0\n",
      "header: Content-Language: id\n",
      "header: Link: <https://static.tacdn.com>;rel=\"dns-prefetch\"\n",
      "header: Link: <https://static.tacdn.com>;rel=\"preconnect\";crossorigin\n",
      "header: timing-allow-origin: https://www.tripadvisor.com\n",
      "header: Vary: Accept-Encoding\n",
      "header: Content-Type: text/html;charset=UTF-8\n",
      "header: Accept-CH: Sec-CH-UA,Sec-CH-UA-Mobile,Sec-CH-UA-Platform,Sec-CH-UA-Arch,Sec-CH-UA-Full-Version-List,Sec-CH-UA-Model,Sec-CH-Device-Memory\n",
      "header: x-datadome: protected\n",
      "header: Content-Encoding: gzip\n",
      "header: x-request-id: df4197fa-745e-4bbc-bade-ebaba0ea9372\n",
      "header: Date: Fri, 26 May 2023 00:59:14 GMT\n",
      "header: Transfer-Encoding: chunked\n",
      "header: Connection: keep-alive\n",
      "header: Connection: Transfer-Encoding\n",
      "header: Set-Cookie: TADCID=ct99tUW0hSrCJjD7ABQCXdElnkGETRW-Svh01l3nWnXCaKrGCo0fHy0dl_R5eVBAub4Mf1QrBxT75iSYOXxPkhe7avweWj6qo50; Domain=www.tripadvisor.co.id; Expires=Mon, 23-May-2033 00:59:13 GMT; Path=/; Secure; HttpOnly\n",
      "header: Set-Cookie: TAUnique=%1%enc%3AUZ9NL1tzVB7%2B7H78yfwekiHKVVkteNxIgu7rxj7cDZ42jHwltRJPGQ%3D%3D; Domain=.tripadvisor.co.id; Expires=Sun, 25-May-2025 00:59:13 GMT; Path=/; HttpOnly\n",
      "header: Set-Cookie: TASSK=enc%3AAMBYED5QZb0ITFdGYv7KKZucCBipluwz9B5ygoU8wFNW%2F6UPRJq3WYX%2BsZJBVdgMPQlnFoEUxxiroZ1b4WybJV8wRS9cYb41E89hroiI8lXORltHGq9OCaSC136GoXnKNw%3D%3D; Domain=www.tripadvisor.co.id; Expires=Wed, 22-Nov-2023 00:59:13 GMT; Path=/; HttpOnly\n",
      "header: Set-Cookie: TASession=V2ID.D0AB1CC59F814D8594EA15C2065A6983*SQ.1*HS.recommended*ES.popularity*DS.5*SAS.popularity*FPS.oldFirst*LF.in*FA.1*DF.0*TRA.true*LD.2704057; Domain=.tripadvisor.co.id; Path=/\n",
      "header: Set-Cookie: ServerPool=A; Domain=.tripadvisor.co.id; Path=/\n",
      "header: Set-Cookie: PMC=V2*MS.78*MD.20230525*LD.20230525; Domain=www.tripadvisor.co.id; Expires=Sun, 25-May-2025 00:59:13 GMT; Path=/; Secure; HttpOnly\n",
      "header: Set-Cookie: TART=%1%enc%3A%2Fux%2B%2FMn8HpLLW%2FFpSXa6HspGJhoC0Oc84sjMXX%2BKmBQGXcf9Wl18VW8pJ3XKVIRaRsNr41gHGgI%3D; Domain=www.tripadvisor.co.id; Expires=Wed, 31-May-2023 00:59:13 GMT; Path=/; HttpOnly\n",
      "header: Set-Cookie: CM=%1%PremiumMobSess%2C%2C-1%7Ct4b-pc%2C%2C-1%7CRestAds%2FRPers%2C%2C-1%7CRCPers%2C%2C-1%7CWShadeSeen%2C%2C-1%7CTheForkMCCPers%2C%2C-1%7CHomeASess%2C%2C-1%7CPremiumMCSess%2C%2C-1%7CCrisisSess%2C%2C-1%7CUVOwnersSess%2C%2C-1%7CRestPremRSess%2C%2C-1%7CRepTarMCSess%2C%2C-1%7CCCSess%2C%2C-1%7CCYLSess%2C%2C-1%7CPremRetPers%2C%2C-1%7CViatorMCPers%2C%2C-1%7Csesssticker%2C%2C-1%7C%24%2C%2C-1%7CPremiumORSess%2C%2C-1%7Ct4b-sc%2C%2C-1%7CRestAdsPers%2C%2C-1%7CMC_IB_UPSELL_IB_LOGOS2%2C%2C-1%7CTSMCPers%2C%2C-1%7Cb2bmcpers%2C%2C-1%7CPremMCBtmSess%2C%2C-1%7CMC_IB_UPSELL_IB_LOGOS%2C%2C-1%7CLaFourchette+Banners%2C%2C-1%7Csess_rev%2C%2C-1%7Csessamex%2C%2C-1%7CPremiumRRSess%2C%2C-1%7CTADORSess%2C%2C-1%7CAdsRetPers%2C%2C-1%7CListMCSess%2C%2C-1%7CTARSWBPers%2C%2C-1%7CSPMCSess%2C%2C-1%7CTheForkORSess%2C%2C-1%7CTheForkRRSess%2C%2C-1%7Cpers_rev%2C%2C-1%7CRBAPers%2C%2C-1%7CRestAds%2FRSess%2C%2C-1%7CHomeAPers%2C%2C-1%7CPremiumMobPers%2C%2C-1%7CRCSess%2C%2C-1%7CLaFourchette+MC+Banners%2C%2C-1%7CRestAdsCCSess%2C%2C-1%7CRestPremRPers%2C%2C-1%7CRevHubRMPers%2C%2C-1%7CUVOwnersPers%2C%2C-1%7Cpssamex%2C%2C-1%7CTheForkMCCSess%2C%2C-1%7CCrisisPers%2C%2C-1%7CCYLPers%2C%2C-1%7CCCPers%2C%2C-1%7CRepTarMCPers%2C%2C-1%7Cb2bmcsess%2C%2C-1%7CTSMCSess%2C%2C-1%7CSPMCPers%2C%2C-1%7CRevHubRMSess%2C%2C-1%7CPremRetSess%2C%2C-1%7CViatorMCSess%2C%2C-1%7CPremiumMCPers%2C%2C-1%7CAdsRetSess%2C%2C-1%7CPremiumRRPers%2C%2C-1%7CRestAdsCCPers%2C%2C-1%7CTADORPers%2C%2C-1%7CTheForkORPers%2C%2C-1%7CPremMCBtmPers%2C%2C-1%7CTheForkRRPers%2C%2C-1%7CTARSWBSess%2C%2C-1%7CPremiumORPers%2C%2C-1%7CRestAdsSess%2C%2C-1%7CRBASess%2C%2C-1%7CSPORPers%2C%2C-1%7Cperssticker%2C%2C-1%7CListMCPers%2C%2C-1%7C; Domain=.tripadvisor.co.id; Expires=Mon, 23-May-2033 00:59:13 GMT; Path=/\n",
      "header: Set-Cookie: BEPIN=%1%18855911c85%3Bweb251a.a.tripadvisor.com%3A30023%3B; Domain=.tripadvisor.co.id; Path=/\n",
      "header: Set-Cookie: PAC=AMpWS5O6B7jVm4X3bXrWZ4oTnULNw0FkIAmD5dSgyerxo8FUR89QlEOeEtNaeu-JbVmbAvCtnS-a3D2Rj5sM9_t9MA0cBk9mUW8j0ORCY6y4MzZ6hlY4bqtp26vAGW8dXncZ7jUBiat1a0ZzSTVJrBsJPh6VApEkj71yv1SDpgbZoM7Swp3mZU8f_P-Zpkcsx9vm7DqeV-4jm0_tHcnaL0yRo_pWG-09e-8kW2Ds7Oxz; Domain=www.tripadvisor.co.id; Expires=Sun, 25-May-2025 00:59:13 GMT; Path=/; Secure; HttpOnly\n",
      "header: Set-Cookie: SRT=TART_SYNC; Domain=www.tripadvisor.co.id; Expires=Fri, 26-May-2023 01:29:13 GMT; Path=/\n",
      "header: Set-Cookie: TATravelInfo=V2*AY.2023*AM.6*AD.4*DY.2023*DM.6*DD.5*A.2*MG.-1*HP.2*FL.3*DSM.1685062753506*RS.1; Domain=.tripadvisor.co.id; Expires=Fri, 09-Jun-2023 00:59:13 GMT; Path=/\n",
      "header: Set-Cookie: TAUD=LG-1685062753396-2.1.F.*RDD-2-2023_05_26*HDD-3-2023_06_04.2023_06_05.1; Domain=.tripadvisor.co.id; Expires=Fri, 09-Jun-2023 00:59:13 GMT; Path=/\n",
      "header: Set-Cookie: TASID=D0AB1CC59F814D8594EA15C2065A6983; Domain=www.tripadvisor.co.id; Expires=Fri, 26-May-2023 01:29:13 GMT; Path=/; Secure\n",
      "header: Set-Cookie: TAReturnTo=%1%%2FHotel_Review-g297701-d2704057-Reviews-or50-Baruna_Sari_Villa-Ubud_Gianyar_Regency_Bali.html; Domain=.tripadvisor.co.id; Path=/\n",
      "header: Set-Cookie: datadome=0QFy3sBhoBbifw3SazUbR2BDF5_kV5J1lAMBS5zizB9vLfIe~XTg_Dtxg6tsl86lrc2GpI54yXzK7M5n3hQWA4kiqHkeIqX7fGCHKcLYs_rqqU8R8O80y-4xYPsalEOr; Max-Age=31104000; Domain=.tripadvisor.co.id; Path=/; Secure; SameSite=Lax\n",
      "Done Scrapping Baruna Sari Villa page 10\n",
      "\n",
      "\n"
     ]
    },
    {
     "name": "stderr",
     "output_type": "stream",
     "text": [
      "DEBUG:urllib3.connectionpool:Starting new HTTPS connection (1): www.tripadvisor.co.id:443\n"
     ]
    },
    {
     "name": "stdout",
     "output_type": "stream",
     "text": [
      "send: b'GET /Hotel_Review-g297701-d2704057-Reviews-or55-Baruna_Sari_Villa-Ubud_Gianyar_Regency_Bali.html HTTP/1.1\\r\\nHost: www.tripadvisor.co.id\\r\\nUser-Agent: Mozilla/5.0 (X11; CrOS x86_64 12871.102.0) AppleWebKit/537.36 (KHTML, like Gecko) Chrome/81.0.4044.141 Safari/537.36\\r\\nAccept-Encoding: gzip, deflate\\r\\nAccept: */*\\r\\nConnection: keep-alive\\r\\n\\r\\n'\n"
     ]
    },
    {
     "name": "stderr",
     "output_type": "stream",
     "text": [
      "DEBUG:urllib3.connectionpool:https://www.tripadvisor.co.id:443 \"GET /Hotel_Review-g297701-d2704057-Reviews-or55-Baruna_Sari_Villa-Ubud_Gianyar_Regency_Bali.html HTTP/1.1\" 200 None\n"
     ]
    },
    {
     "name": "stdout",
     "output_type": "stream",
     "text": [
      "reply: 'HTTP/1.1 200 OK\\r\\n'\n",
      "header: Server: envoy\n",
      "header: Link: <https://media-cdn.tripadvisor.com/media/>;rel=\"preconnect\";crossorigin\n",
      "header: Link: <https://media-cdn.tripadvisor.com/media/>;rel=\"dns-prefetch\"\n",
      "header: p3p: CP=\"NOI CURa ADMa DEVa TAIa OUR BUS IND UNI COM NAV INT DSP COR CAO PSA IDC ADM DEVi TAIi PSD IVAi IVDi CONi HIS CNT\"\n",
      "header: Pragma: no-cache\n",
      "header: Cache-Control: no-cache, no-store, must-revalidate\n",
      "header: Expires: 0\n",
      "header: Content-Language: id\n",
      "header: Link: <https://static.tacdn.com>;rel=\"dns-prefetch\"\n",
      "header: Link: <https://static.tacdn.com>;rel=\"preconnect\";crossorigin\n",
      "header: timing-allow-origin: https://www.tripadvisor.com\n",
      "header: Vary: Accept-Encoding\n",
      "header: Content-Type: text/html;charset=UTF-8\n",
      "header: Accept-CH: Sec-CH-UA,Sec-CH-UA-Mobile,Sec-CH-UA-Platform,Sec-CH-UA-Arch,Sec-CH-UA-Full-Version-List,Sec-CH-UA-Model,Sec-CH-Device-Memory\n",
      "header: x-datadome: protected\n",
      "header: Content-Encoding: gzip\n",
      "header: x-request-id: eee1f66f-2b42-44e1-956f-e31098eb10b3\n",
      "header: Date: Fri, 26 May 2023 00:59:18 GMT\n",
      "header: Transfer-Encoding: chunked\n",
      "header: Connection: keep-alive\n",
      "header: Connection: Transfer-Encoding\n",
      "header: Set-Cookie: TADCID=1qob5hy-5ri1-mK2ABQCXdElnkGETRW-Svh01l3nWnXCaBX-6TlE70HQHqQKEcKEqZ9Ka2gSFnv1ZwuFLz3BdYhLJ3xtC3IiHlc; Domain=www.tripadvisor.co.id; Expires=Mon, 23-May-2033 00:59:17 GMT; Path=/; Secure; HttpOnly\n",
      "header: Set-Cookie: TAUnique=%1%enc%3Adzoe5sVge0%2F%2B7H78yfwekiHKVVkteNxIV%2BvT1NfUFDY2jHwltRJPGQ%3D%3D; Domain=.tripadvisor.co.id; Expires=Sun, 25-May-2025 00:59:17 GMT; Path=/; HttpOnly\n",
      "header: Set-Cookie: TASSK=enc%3AAOJ2q2sNDjKw0lXKnKBmTLvw37m4Fd44P0RwN6TNH2mcv%2F7d4lbsRac34P9iQOl1s3IxbGsM88dETWrP%2FHD02Obpbzi48ejz5niQXRvRpE1rX3J2DF%2FkZiFbU0OPFduOOQ%3D%3D; Domain=www.tripadvisor.co.id; Expires=Wed, 22-Nov-2023 00:59:18 GMT; Path=/; HttpOnly\n",
      "header: Set-Cookie: TASession=V2ID.296C0515090D46209CC26B90F2676FB9*SQ.1*HS.recommended*ES.popularity*DS.5*SAS.popularity*FPS.oldFirst*LF.in*FA.1*DF.0*TRA.true*LD.2704057; Domain=.tripadvisor.co.id; Path=/\n",
      "header: Set-Cookie: ServerPool=A; Domain=.tripadvisor.co.id; Path=/\n",
      "header: Set-Cookie: PMC=V2*MS.78*MD.20230525*LD.20230525; Domain=www.tripadvisor.co.id; Expires=Sun, 25-May-2025 00:59:18 GMT; Path=/; Secure; HttpOnly\n",
      "header: Set-Cookie: TART=%1%enc%3A%2Fux%2B%2FMn8HpLerG8j6HVUClU2ECE7OMZfFlMes7%2BnrhYp53e6Jp%2FjZ%2BEyOqQoeGB3fTM2Cx7kRNA%3D; Domain=www.tripadvisor.co.id; Expires=Wed, 31-May-2023 00:59:18 GMT; Path=/; HttpOnly\n",
      "header: Set-Cookie: CM=%1%PremiumMobSess%2C%2C-1%7Ct4b-pc%2C%2C-1%7CRestAds%2FRPers%2C%2C-1%7CRCPers%2C%2C-1%7CWShadeSeen%2C%2C-1%7CTheForkMCCPers%2C%2C-1%7CHomeASess%2C%2C-1%7CPremiumMCSess%2C%2C-1%7CCrisisSess%2C%2C-1%7CUVOwnersSess%2C%2C-1%7CRestPremRSess%2C%2C-1%7CRepTarMCSess%2C%2C-1%7CCCSess%2C%2C-1%7CCYLSess%2C%2C-1%7CPremRetPers%2C%2C-1%7CViatorMCPers%2C%2C-1%7Csesssticker%2C%2C-1%7C%24%2C%2C-1%7CPremiumORSess%2C%2C-1%7Ct4b-sc%2C%2C-1%7CRestAdsPers%2C%2C-1%7CMC_IB_UPSELL_IB_LOGOS2%2C%2C-1%7CTSMCPers%2C%2C-1%7Cb2bmcpers%2C%2C-1%7CPremMCBtmSess%2C%2C-1%7CMC_IB_UPSELL_IB_LOGOS%2C%2C-1%7CLaFourchette+Banners%2C%2C-1%7Csess_rev%2C%2C-1%7Csessamex%2C%2C-1%7CPremiumRRSess%2C%2C-1%7CTADORSess%2C%2C-1%7CAdsRetPers%2C%2C-1%7CListMCSess%2C%2C-1%7CTARSWBPers%2C%2C-1%7CSPMCSess%2C%2C-1%7CTheForkORSess%2C%2C-1%7CTheForkRRSess%2C%2C-1%7Cpers_rev%2C%2C-1%7CRBAPers%2C%2C-1%7CRestAds%2FRSess%2C%2C-1%7CHomeAPers%2C%2C-1%7CPremiumMobPers%2C%2C-1%7CRCSess%2C%2C-1%7CLaFourchette+MC+Banners%2C%2C-1%7CRestAdsCCSess%2C%2C-1%7CRestPremRPers%2C%2C-1%7CRevHubRMPers%2C%2C-1%7CUVOwnersPers%2C%2C-1%7Cpssamex%2C%2C-1%7CTheForkMCCSess%2C%2C-1%7CCrisisPers%2C%2C-1%7CCYLPers%2C%2C-1%7CCCPers%2C%2C-1%7CRepTarMCPers%2C%2C-1%7Cb2bmcsess%2C%2C-1%7CTSMCSess%2C%2C-1%7CSPMCPers%2C%2C-1%7CRevHubRMSess%2C%2C-1%7CPremRetSess%2C%2C-1%7CViatorMCSess%2C%2C-1%7CPremiumMCPers%2C%2C-1%7CAdsRetSess%2C%2C-1%7CPremiumRRPers%2C%2C-1%7CRestAdsCCPers%2C%2C-1%7CTADORPers%2C%2C-1%7CTheForkORPers%2C%2C-1%7CPremMCBtmPers%2C%2C-1%7CTheForkRRPers%2C%2C-1%7CTARSWBSess%2C%2C-1%7CPremiumORPers%2C%2C-1%7CRestAdsSess%2C%2C-1%7CRBASess%2C%2C-1%7CSPORPers%2C%2C-1%7Cperssticker%2C%2C-1%7CListMCPers%2C%2C-1%7C; Domain=.tripadvisor.co.id; Expires=Mon, 23-May-2033 00:59:18 GMT; Path=/\n",
      "header: Set-Cookie: BEPIN=%1%18855912da9%3Bweb276a.a.tripadvisor.com%3A30023%3B; Domain=.tripadvisor.co.id; Path=/\n",
      "header: Set-Cookie: PAC=AM4MNzryLfCmSMPk88GxmlPxIipWpca_HdsCDI51qbY5NR-gjWEo8DVTn66jDjx_247_X8m--YkCdKh-1JpxmRWDTfFcy87z38Eha6UK_AptH7mKS_ShMOr3WMWSLYueFqRV1RXbd4L76m_BC8lKfnuYvfCtYT-hLayiqf2ai_caRYZmQWcD4sioLGAqqhedY-gfXATMeEuc3RV2q-RqVeMyxMJiDE2T8QhXHKyV2BIX; Domain=www.tripadvisor.co.id; Expires=Sun, 25-May-2025 00:59:18 GMT; Path=/; Secure; HttpOnly\n",
      "header: Set-Cookie: SRT=TART_SYNC; Domain=www.tripadvisor.co.id; Expires=Fri, 26-May-2023 01:29:18 GMT; Path=/\n",
      "header: Set-Cookie: TATravelInfo=V2*AY.2023*AM.6*AD.4*DY.2023*DM.6*DD.5*A.2*MG.-1*HP.2*FL.3*DSM.1685062757899*RS.1; Domain=.tripadvisor.co.id; Expires=Fri, 09-Jun-2023 00:59:18 GMT; Path=/\n",
      "header: Set-Cookie: TAUD=LG-1685062757769-2.1.F.*RDD-2-2023_05_26*HDD-3-2023_06_04.2023_06_05.1; Domain=.tripadvisor.co.id; Expires=Fri, 09-Jun-2023 00:59:18 GMT; Path=/\n",
      "header: Set-Cookie: TASID=296C0515090D46209CC26B90F2676FB9; Domain=www.tripadvisor.co.id; Expires=Fri, 26-May-2023 01:29:18 GMT; Path=/; Secure\n",
      "header: Set-Cookie: TAReturnTo=%1%%2FHotel_Review-g297701-d2704057-Reviews-or55-Baruna_Sari_Villa-Ubud_Gianyar_Regency_Bali.html; Domain=.tripadvisor.co.id; Path=/\n",
      "header: Set-Cookie: datadome=4l_7XFkWxQOSFdjqFY22N9TzgNQxLPEFEws5P6ZJ4yZIMpC13mJQd8mN59uQoOMR8cZaPn_JI8EoVhlnPtjsqxNDMdp5G~n1iBGLhFIDYLhxAtvSIvxR3bBA-xSHEHS0; Max-Age=31104000; Domain=.tripadvisor.co.id; Path=/; Secure; SameSite=Lax\n",
      "Done Scrapping Baruna Sari Villa page 11\n",
      "\n",
      "\n"
     ]
    },
    {
     "name": "stderr",
     "output_type": "stream",
     "text": [
      "DEBUG:urllib3.connectionpool:Starting new HTTPS connection (1): www.tripadvisor.co.id:443\n"
     ]
    },
    {
     "name": "stdout",
     "output_type": "stream",
     "text": [
      "send: b'GET /Hotel_Review-g297701-d2704057-Reviews-or60-Baruna_Sari_Villa-Ubud_Gianyar_Regency_Bali.html HTTP/1.1\\r\\nHost: www.tripadvisor.co.id\\r\\nUser-Agent: Mozilla/5.0 (X11; CrOS x86_64 12871.102.0) AppleWebKit/537.36 (KHTML, like Gecko) Chrome/81.0.4044.141 Safari/537.36\\r\\nAccept-Encoding: gzip, deflate\\r\\nAccept: */*\\r\\nConnection: keep-alive\\r\\n\\r\\n'\n"
     ]
    },
    {
     "name": "stderr",
     "output_type": "stream",
     "text": [
      "DEBUG:urllib3.connectionpool:https://www.tripadvisor.co.id:443 \"GET /Hotel_Review-g297701-d2704057-Reviews-or60-Baruna_Sari_Villa-Ubud_Gianyar_Regency_Bali.html HTTP/1.1\" 200 None\n"
     ]
    },
    {
     "name": "stdout",
     "output_type": "stream",
     "text": [
      "reply: 'HTTP/1.1 200 OK\\r\\n'\n",
      "header: Server: envoy\n",
      "header: Link: <https://media-cdn.tripadvisor.com/media/>;rel=\"preconnect\";crossorigin\n",
      "header: Link: <https://media-cdn.tripadvisor.com/media/>;rel=\"dns-prefetch\"\n",
      "header: p3p: CP=\"NOI CURa ADMa DEVa TAIa OUR BUS IND UNI COM NAV INT DSP COR CAO PSA IDC ADM DEVi TAIi PSD IVAi IVDi CONi HIS CNT\"\n",
      "header: Pragma: no-cache\n",
      "header: Cache-Control: no-cache, no-store, must-revalidate\n",
      "header: Expires: 0\n",
      "header: Content-Language: id\n",
      "header: Link: <https://static.tacdn.com>;rel=\"dns-prefetch\"\n",
      "header: Link: <https://static.tacdn.com>;rel=\"preconnect\";crossorigin\n",
      "header: timing-allow-origin: https://www.tripadvisor.com\n",
      "header: Vary: Accept-Encoding\n",
      "header: Content-Type: text/html;charset=UTF-8\n",
      "header: x-datadome: protected\n",
      "header: Accept-CH: Sec-CH-UA,Sec-CH-UA-Mobile,Sec-CH-UA-Platform,Sec-CH-UA-Arch,Sec-CH-UA-Full-Version-List,Sec-CH-UA-Model,Sec-CH-Device-Memory\n",
      "header: Content-Encoding: gzip\n",
      "header: x-request-id: d21fe54d-8508-4039-a1f2-f7771fae1347\n",
      "header: Date: Fri, 26 May 2023 00:59:23 GMT\n",
      "header: Transfer-Encoding: chunked\n",
      "header: Connection: keep-alive\n",
      "header: Connection: Transfer-Encoding\n",
      "header: Set-Cookie: TADCID=W6x_FoeGlrmjRKTiABQCXdElnkGETRW-Svh01l3nWnXCaDhm4pyAPEOU3E9GmZEb1j-29Eb2Z5hpkABq8srkGjYIduOL_46LXJI; Domain=www.tripadvisor.co.id; Expires=Mon, 23-May-2033 00:59:22 GMT; Path=/; Secure; HttpOnly\n",
      "header: Set-Cookie: TAUnique=%1%enc%3ACvxMHmlmQED%2B7H78yfwekiHKVVkteNxI7L4Z2wU%2Bs7o2jHwltRJPGQ%3D%3D; Domain=.tripadvisor.co.id; Expires=Sun, 25-May-2025 00:59:22 GMT; Path=/; HttpOnly\n",
      "header: Set-Cookie: TASSK=enc%3AABCLg7E5kIInY9TnLokwxJB%2FfVj5BGyBMeJF9L782ROnulp9ucPld8X5LNVKUDgkTmEE0Ya9Y44O07Id6Y8scrr808VAki247qnJ%2BS8b3QrcYWo706AR2J3aDo7cPJw2zQ%3D%3D; Domain=www.tripadvisor.co.id; Expires=Wed, 22-Nov-2023 00:59:22 GMT; Path=/; HttpOnly\n",
      "header: Set-Cookie: TASession=V2ID.AA43BB05453044C6911FC6EB376EEE04*SQ.1*HS.recommended*ES.popularity*DS.5*SAS.popularity*FPS.oldFirst*LF.in*FA.1*DF.0*TRA.true*LD.2704057; Domain=.tripadvisor.co.id; Path=/\n",
      "header: Set-Cookie: ServerPool=C; Domain=.tripadvisor.co.id; Path=/\n",
      "header: Set-Cookie: PMC=V2*MS.11*MD.20230525*LD.20230525; Domain=www.tripadvisor.co.id; Expires=Sun, 25-May-2025 00:59:22 GMT; Path=/; Secure; HttpOnly\n",
      "header: Set-Cookie: TART=%1%enc%3A%2Fux%2B%2FMn8HpIYqIYFC%2F0pqEb5vzVB8ezccQKNUOVM9AYFg22VomPtXlS%2BDylDBBIEyx9HjuV9fk0%3D; Domain=www.tripadvisor.co.id; Expires=Wed, 31-May-2023 00:59:22 GMT; Path=/; HttpOnly\n",
      "header: Set-Cookie: CM=%1%PremiumMobSess%2C%2C-1%7Ct4b-pc%2C%2C-1%7CRestAds%2FRPers%2C%2C-1%7CRCPers%2C%2C-1%7CWShadeSeen%2C%2C-1%7CTheForkMCCPers%2C%2C-1%7CHomeASess%2C%2C-1%7CPremiumMCSess%2C%2C-1%7CCrisisSess%2C%2C-1%7CUVOwnersSess%2C%2C-1%7CRestPremRSess%2C%2C-1%7CRepTarMCSess%2C%2C-1%7CCCSess%2C%2C-1%7CCYLSess%2C%2C-1%7CPremRetPers%2C%2C-1%7CViatorMCPers%2C%2C-1%7Csesssticker%2C%2C-1%7C%24%2C%2C-1%7CPremiumORSess%2C%2C-1%7Ct4b-sc%2C%2C-1%7CRestAdsPers%2C%2C-1%7CMC_IB_UPSELL_IB_LOGOS2%2C%2C-1%7CTSMCPers%2C%2C-1%7Cb2bmcpers%2C%2C-1%7CPremMCBtmSess%2C%2C-1%7CMC_IB_UPSELL_IB_LOGOS%2C%2C-1%7CLaFourchette+Banners%2C%2C-1%7Csess_rev%2C%2C-1%7Csessamex%2C%2C-1%7CPremiumRRSess%2C%2C-1%7CTADORSess%2C%2C-1%7CAdsRetPers%2C%2C-1%7CListMCSess%2C%2C-1%7CTARSWBPers%2C%2C-1%7CSPMCSess%2C%2C-1%7CTheForkORSess%2C%2C-1%7CTheForkRRSess%2C%2C-1%7Cpers_rev%2C%2C-1%7CRBAPers%2C%2C-1%7CRestAds%2FRSess%2C%2C-1%7CHomeAPers%2C%2C-1%7CPremiumMobPers%2C%2C-1%7CRCSess%2C%2C-1%7CLaFourchette+MC+Banners%2C%2C-1%7CRestAdsCCSess%2C%2C-1%7CRestPremRPers%2C%2C-1%7CRevHubRMPers%2C%2C-1%7CUVOwnersPers%2C%2C-1%7Cpssamex%2C%2C-1%7CTheForkMCCSess%2C%2C-1%7CCrisisPers%2C%2C-1%7CCYLPers%2C%2C-1%7CCCPers%2C%2C-1%7CRepTarMCPers%2C%2C-1%7Cb2bmcsess%2C%2C-1%7CTSMCSess%2C%2C-1%7CSPMCPers%2C%2C-1%7CRevHubRMSess%2C%2C-1%7CPremRetSess%2C%2C-1%7CViatorMCSess%2C%2C-1%7CPremiumMCPers%2C%2C-1%7CAdsRetSess%2C%2C-1%7CPremiumRRPers%2C%2C-1%7CRestAdsCCPers%2C%2C-1%7CTADORPers%2C%2C-1%7CTheForkORPers%2C%2C-1%7CPremMCBtmPers%2C%2C-1%7CTheForkRRPers%2C%2C-1%7CTARSWBSess%2C%2C-1%7CPremiumORPers%2C%2C-1%7CRestAdsSess%2C%2C-1%7CRBASess%2C%2C-1%7CSPORPers%2C%2C-1%7Cperssticker%2C%2C-1%7CListMCPers%2C%2C-1%7C; Domain=.tripadvisor.co.id; Expires=Mon, 23-May-2033 00:59:22 GMT; Path=/\n",
      "header: Set-Cookie: BEPIN=%1%18855914004%3Bweb305a.a.tripadvisor.com%3A30023%3B; Domain=.tripadvisor.co.id; Path=/\n",
      "header: Set-Cookie: PAC=AGZ2t0UleL7qrdey-YgwywY-SdlJV8pOYN7klSN8_8jEuxqhEf7swsdeHBgFJKsywxEFsWhHvG6NnKDgDBJ-xnAGs7b1cU8PUYfxhRAaCA25qXQaxKmPGEAJ5gyWKCC1uF3b5oakm4ARfBjKUNEnqLfjvNmWyC37xlwPC0MNxAlGwH6CnA9uSi5nuMBgvzV_vM6HnkabcrqEwtuPr90nrMjP1fsFK1KvSkst8wSDmNKS; Domain=www.tripadvisor.co.id; Expires=Sun, 25-May-2025 00:59:22 GMT; Path=/; Secure; HttpOnly\n",
      "header: Set-Cookie: SRT=TART_SYNC; Domain=www.tripadvisor.co.id; Expires=Fri, 26-May-2023 01:29:22 GMT; Path=/\n",
      "header: Set-Cookie: TATravelInfo=V2*AY.2023*AM.6*AD.4*DY.2023*DM.6*DD.5*A.2*MG.-1*HP.2*FL.3*DSM.1685062762578*RS.1; Domain=.tripadvisor.co.id; Expires=Fri, 09-Jun-2023 00:59:22 GMT; Path=/\n",
      "header: Set-Cookie: TAUD=LG-1685062762466-2.1.F.*RDD-2-2023_05_26*HDD-3-2023_06_04.2023_06_05.1; Domain=.tripadvisor.co.id; Expires=Fri, 09-Jun-2023 00:59:22 GMT; Path=/\n",
      "header: Set-Cookie: TASID=AA43BB05453044C6911FC6EB376EEE04; Domain=www.tripadvisor.co.id; Expires=Fri, 26-May-2023 01:29:22 GMT; Path=/; Secure\n",
      "header: Set-Cookie: TAReturnTo=%1%%2FHotel_Review-g297701-d2704057-Reviews-or60-Baruna_Sari_Villa-Ubud_Gianyar_Regency_Bali.html; Domain=.tripadvisor.co.id; Path=/\n",
      "header: Set-Cookie: datadome=30TCj3jaJG7mO~MZY4px0m-CmUnUt-Vy3mDkAAMX3RJEh_FYyB6sj0JiZ~sBBdnrnmrQqJi3pZmG~Atg1sxEsTW83d-021izx277tuRjY38AR3~-rHLlj1tAjEr2A7Dd; Max-Age=31104000; Domain=.tripadvisor.co.id; Path=/; Secure; SameSite=Lax\n"
     ]
    },
    {
     "name": "stderr",
     "output_type": "stream",
     "text": [
      "DEBUG:urllib3.connectionpool:Starting new HTTPS connection (1): www.tripadvisor.co.id:443\n"
     ]
    },
    {
     "name": "stdout",
     "output_type": "stream",
     "text": [
      "Start Scrapping: Suara Air Luxury Villa Ubud\n",
      "send: b'GET /Hotel_Review-g1628287-d2097114-Reviews-or5-Suara_Air_Luxury_Villa_Ubud-Melayang_Ubud_Gianyar_Regency_Bali.html HTTP/1.1\\r\\nHost: www.tripadvisor.co.id\\r\\nUser-Agent: Mozilla/5.0 (X11; CrOS x86_64 12871.102.0) AppleWebKit/537.36 (KHTML, like Gecko) Chrome/81.0.4044.141 Safari/537.36\\r\\nAccept-Encoding: gzip, deflate\\r\\nAccept: */*\\r\\nConnection: keep-alive\\r\\n\\r\\n'\n"
     ]
    },
    {
     "name": "stderr",
     "output_type": "stream",
     "text": [
      "DEBUG:urllib3.connectionpool:https://www.tripadvisor.co.id:443 \"GET /Hotel_Review-g1628287-d2097114-Reviews-or5-Suara_Air_Luxury_Villa_Ubud-Melayang_Ubud_Gianyar_Regency_Bali.html HTTP/1.1\" 200 None\n"
     ]
    },
    {
     "name": "stdout",
     "output_type": "stream",
     "text": [
      "reply: 'HTTP/1.1 200 OK\\r\\n'\n",
      "header: Server: envoy\n",
      "header: Link: <https://media-cdn.tripadvisor.com/media/>;rel=\"preconnect\";crossorigin\n",
      "header: Link: <https://media-cdn.tripadvisor.com/media/>;rel=\"dns-prefetch\"\n",
      "header: p3p: CP=\"NOI CURa ADMa DEVa TAIa OUR BUS IND UNI COM NAV INT DSP COR CAO PSA IDC ADM DEVi TAIi PSD IVAi IVDi CONi HIS CNT\"\n",
      "header: Pragma: no-cache\n",
      "header: Cache-Control: no-cache, no-store, must-revalidate\n",
      "header: Expires: 0\n",
      "header: Content-Language: id\n",
      "header: Link: <https://static.tacdn.com>;rel=\"dns-prefetch\"\n",
      "header: Link: <https://static.tacdn.com>;rel=\"preconnect\";crossorigin\n",
      "header: timing-allow-origin: https://www.tripadvisor.com\n",
      "header: Vary: Accept-Encoding\n",
      "header: Content-Type: text/html;charset=UTF-8\n",
      "header: x-datadome: protected\n",
      "header: Accept-CH: Sec-CH-UA,Sec-CH-UA-Mobile,Sec-CH-UA-Platform,Sec-CH-UA-Arch,Sec-CH-UA-Full-Version-List,Sec-CH-UA-Model,Sec-CH-Device-Memory\n",
      "header: Content-Encoding: gzip\n",
      "header: x-request-id: 1c274a5f-9920-4f40-a1e4-9fd9427b072a\n",
      "header: Date: Fri, 26 May 2023 00:59:24 GMT\n",
      "header: Transfer-Encoding: chunked\n",
      "header: Connection: keep-alive\n",
      "header: Connection: Transfer-Encoding\n",
      "header: Set-Cookie: TADCID=4GZiirsNEG5pF5x_ABQCXdElnkGETRW-Svh01l3nWnXCaPnnf4mAXlJyQkthSTZwHRyse0MHZF7QxuRW1t_LL5Q8OFNOKhfGw9E; Domain=www.tripadvisor.co.id; Expires=Mon, 23-May-2033 00:59:23 GMT; Path=/; Secure; HttpOnly\n",
      "header: Set-Cookie: TAUnique=%1%enc%3A5EPBin1ZXG7%2B7H78yfwekiHKVVkteNxI70lTMJMx6Zg2jHwltRJPGQ%3D%3D; Domain=.tripadvisor.co.id; Expires=Sun, 25-May-2025 00:59:23 GMT; Path=/; HttpOnly\n",
      "header: Set-Cookie: TASSK=enc%3AAAaGK32i%2FqLefHfHNliYFt%2B9fKkCKakcTwaC3L2fNXO2RK7Do%2BaNMRF6T4ywAvJFTu%2FS7kjjQnG3DVqVGsCreN2wwuSaHEt6y5RDXH1zd4vMYG%2B6akK%2BnWfGL5m9YDDACQ%3D%3D; Domain=www.tripadvisor.co.id; Expires=Wed, 22-Nov-2023 00:59:24 GMT; Path=/; HttpOnly\n",
      "header: Set-Cookie: TASession=V2ID.5B1639304BBA4A849C5061FD7D56BB46*SQ.1*HS.recommended*ES.popularity*DS.5*SAS.popularity*FPS.oldFirst*LF.in*FA.1*DF.0*TRA.true*LD.2097114; Domain=.tripadvisor.co.id; Path=/\n",
      "header: Set-Cookie: ServerPool=A; Domain=.tripadvisor.co.id; Path=/\n",
      "header: Set-Cookie: PMC=V2*MS.80*MD.20230525*LD.20230525; Domain=www.tripadvisor.co.id; Expires=Sun, 25-May-2025 00:59:24 GMT; Path=/; Secure; HttpOnly\n",
      "header: Set-Cookie: TART=%1%enc%3A%2Fux%2B%2FMn8HpKDqT245HMKFhDgZc4hYMqt9vwbYCFqdr%2FUrmMw%2FllSlpxAvq7isEe5NULCL3ymXx4%3D; Domain=www.tripadvisor.co.id; Expires=Wed, 31-May-2023 00:59:24 GMT; Path=/; HttpOnly\n",
      "header: Set-Cookie: CM=%1%PremiumMobSess%2C%2C-1%7Ct4b-pc%2C%2C-1%7CRestAds%2FRPers%2C%2C-1%7CRCPers%2C%2C-1%7CWShadeSeen%2C%2C-1%7CTheForkMCCPers%2C%2C-1%7CHomeASess%2C%2C-1%7CPremiumMCSess%2C%2C-1%7CCrisisSess%2C%2C-1%7CUVOwnersSess%2C%2C-1%7CRestPremRSess%2C%2C-1%7CRepTarMCSess%2C%2C-1%7CCCSess%2C%2C-1%7CCYLSess%2C%2C-1%7CPremRetPers%2C%2C-1%7CViatorMCPers%2C%2C-1%7Csesssticker%2C%2C-1%7C%24%2C%2C-1%7CPremiumORSess%2C%2C-1%7Ct4b-sc%2C%2C-1%7CRestAdsPers%2C%2C-1%7CMC_IB_UPSELL_IB_LOGOS2%2C%2C-1%7CTSMCPers%2C%2C-1%7Cb2bmcpers%2C%2C-1%7CPremMCBtmSess%2C%2C-1%7CMC_IB_UPSELL_IB_LOGOS%2C%2C-1%7CLaFourchette+Banners%2C%2C-1%7Csess_rev%2C%2C-1%7Csessamex%2C%2C-1%7CPremiumRRSess%2C%2C-1%7CTADORSess%2C%2C-1%7CAdsRetPers%2C%2C-1%7CListMCSess%2C%2C-1%7CTARSWBPers%2C%2C-1%7CSPMCSess%2C%2C-1%7CTheForkORSess%2C%2C-1%7CTheForkRRSess%2C%2C-1%7Cpers_rev%2C%2C-1%7CRBAPers%2C%2C-1%7CRestAds%2FRSess%2C%2C-1%7CHomeAPers%2C%2C-1%7CPremiumMobPers%2C%2C-1%7CRCSess%2C%2C-1%7CLaFourchette+MC+Banners%2C%2C-1%7CRestAdsCCSess%2C%2C-1%7CRestPremRPers%2C%2C-1%7CRevHubRMPers%2C%2C-1%7CUVOwnersPers%2C%2C-1%7Cpssamex%2C%2C-1%7CTheForkMCCSess%2C%2C-1%7CCrisisPers%2C%2C-1%7CCYLPers%2C%2C-1%7CCCPers%2C%2C-1%7CRepTarMCPers%2C%2C-1%7Cb2bmcsess%2C%2C-1%7CTSMCSess%2C%2C-1%7CSPMCPers%2C%2C-1%7CRevHubRMSess%2C%2C-1%7CPremRetSess%2C%2C-1%7CViatorMCSess%2C%2C-1%7CPremiumMCPers%2C%2C-1%7CAdsRetSess%2C%2C-1%7CPremiumRRPers%2C%2C-1%7CRestAdsCCPers%2C%2C-1%7CTADORPers%2C%2C-1%7CTheForkORPers%2C%2C-1%7CPremMCBtmPers%2C%2C-1%7CTheForkRRPers%2C%2C-1%7CTARSWBSess%2C%2C-1%7CPremiumORPers%2C%2C-1%7CRestAdsSess%2C%2C-1%7CRBASess%2C%2C-1%7CSPORPers%2C%2C-1%7Cperssticker%2C%2C-1%7CListMCPers%2C%2C-1%7C; Domain=.tripadvisor.co.id; Expires=Mon, 23-May-2033 00:59:24 GMT; Path=/\n",
      "header: Set-Cookie: BEPIN=%1%18855914544%3Bweb218a.a.tripadvisor.com%3A30023%3B; Domain=.tripadvisor.co.id; Path=/\n",
      "header: Set-Cookie: PAC=AOg5jlvF4IEQ01TriE6wYj2jdZk8gQ1KZFIHVpQp741gGif0KgIWY7y0sLtETNHQ4RgM8PpEBMCOwWmKB_3iIa8mcLkQZ6464t2W4HfUFF2slB4yvk9MqNv4RztiBHqJ4mOeOuzVNoeso6z61A2CVkVxtacfSFBgEPzCNwoFtUu-bB4rtFdwbJ1oohhvVXZKNTN5EYZ5GMs7Px68-9YLXEGcn56tMaajFQYUqypaGQYu09QSTGHcqaWA86IAmyTLjg%3D%3D; Domain=www.tripadvisor.co.id; Expires=Sun, 25-May-2025 00:59:24 GMT; Path=/; Secure; HttpOnly\n",
      "header: Set-Cookie: SRT=TART_SYNC; Domain=www.tripadvisor.co.id; Expires=Fri, 26-May-2023 01:29:24 GMT; Path=/\n",
      "header: Set-Cookie: TATravelInfo=V2*AY.2023*AM.6*AD.4*DY.2023*DM.6*DD.5*A.2*MG.-1*HP.2*FL.3*DSM.1685062763915*RS.1; Domain=.tripadvisor.co.id; Expires=Fri, 09-Jun-2023 00:59:24 GMT; Path=/\n",
      "header: Set-Cookie: TAUD=LG-1685062763813-2.1.F.*RDD-2-2023_05_26*HDD-3-2023_06_04.2023_06_05.1; Domain=.tripadvisor.co.id; Expires=Fri, 09-Jun-2023 00:59:24 GMT; Path=/\n",
      "header: Set-Cookie: TASID=5B1639304BBA4A849C5061FD7D56BB46; Domain=www.tripadvisor.co.id; Expires=Fri, 26-May-2023 01:29:24 GMT; Path=/; Secure\n",
      "header: Set-Cookie: TAReturnTo=%1%%2FHotel_Review-g1628287-d2097114-Reviews-or5-Suara_Air_Luxury_Villa_Ubud-Melayang_Ubud_Gianyar_Regency_Bali.html; Domain=.tripadvisor.co.id; Path=/\n",
      "header: Set-Cookie: datadome=3y82dcauyFEt5PoO75SzhPzJtdSukZGIauvi0S1xFomMvzMYWzW7DytH9fmBRyWEiWEbIIHjVH-4P7~OKVx-UKZOEQOhkZ5T2ssAJP1zKb54mdwUYmKXgHwX-V16HLIk; Max-Age=31104000; Domain=.tripadvisor.co.id; Path=/; Secure; SameSite=Lax\n",
      "Done Scrapping Suara Air Luxury Villa Ubud page 1\n",
      "\n",
      "\n"
     ]
    },
    {
     "name": "stderr",
     "output_type": "stream",
     "text": [
      "DEBUG:urllib3.connectionpool:Starting new HTTPS connection (1): www.tripadvisor.co.id:443\n"
     ]
    },
    {
     "name": "stdout",
     "output_type": "stream",
     "text": [
      "send: b'GET /Hotel_Review-g1628287-d2097114-Reviews-or10-Suara_Air_Luxury_Villa_Ubud-Melayang_Ubud_Gianyar_Regency_Bali.html HTTP/1.1\\r\\nHost: www.tripadvisor.co.id\\r\\nUser-Agent: Mozilla/5.0 (X11; CrOS x86_64 12871.102.0) AppleWebKit/537.36 (KHTML, like Gecko) Chrome/81.0.4044.141 Safari/537.36\\r\\nAccept-Encoding: gzip, deflate\\r\\nAccept: */*\\r\\nConnection: keep-alive\\r\\n\\r\\n'\n"
     ]
    },
    {
     "name": "stderr",
     "output_type": "stream",
     "text": [
      "DEBUG:urllib3.connectionpool:https://www.tripadvisor.co.id:443 \"GET /Hotel_Review-g1628287-d2097114-Reviews-or10-Suara_Air_Luxury_Villa_Ubud-Melayang_Ubud_Gianyar_Regency_Bali.html HTTP/1.1\" 200 None\n"
     ]
    },
    {
     "name": "stdout",
     "output_type": "stream",
     "text": [
      "reply: 'HTTP/1.1 200 OK\\r\\n'\n",
      "header: Server: envoy\n",
      "header: Link: <https://media-cdn.tripadvisor.com/media/>;rel=\"preconnect\";crossorigin\n",
      "header: Link: <https://media-cdn.tripadvisor.com/media/>;rel=\"dns-prefetch\"\n",
      "header: p3p: CP=\"NOI CURa ADMa DEVa TAIa OUR BUS IND UNI COM NAV INT DSP COR CAO PSA IDC ADM DEVi TAIi PSD IVAi IVDi CONi HIS CNT\"\n",
      "header: Pragma: no-cache\n",
      "header: Cache-Control: no-cache, no-store, must-revalidate\n",
      "header: Expires: 0\n",
      "header: Content-Language: id\n",
      "header: Link: <https://static.tacdn.com>;rel=\"dns-prefetch\"\n",
      "header: Link: <https://static.tacdn.com>;rel=\"preconnect\";crossorigin\n",
      "header: timing-allow-origin: https://www.tripadvisor.com\n",
      "header: Vary: Accept-Encoding\n",
      "header: Content-Type: text/html;charset=UTF-8\n",
      "header: x-datadome: protected\n",
      "header: Accept-CH: Sec-CH-UA,Sec-CH-UA-Mobile,Sec-CH-UA-Platform,Sec-CH-UA-Arch,Sec-CH-UA-Full-Version-List,Sec-CH-UA-Model,Sec-CH-Device-Memory\n",
      "header: Content-Encoding: gzip\n",
      "header: x-request-id: 616f8ed9-838c-42e6-8dda-aa3a1b6788e7\n",
      "header: Date: Fri, 26 May 2023 00:59:29 GMT\n",
      "header: Transfer-Encoding: chunked\n",
      "header: Connection: keep-alive\n",
      "header: Connection: Transfer-Encoding\n",
      "header: Set-Cookie: TADCID=C1t51fJoV27Z8rZ7ABQCXdElnkGETRW-Svh01l3nWnXCaAHCQpSXX9X_d4l30Bbu0SBrciHssxE1nv-TmIgRO3GQJHa1UaPJHBM; Domain=www.tripadvisor.co.id; Expires=Mon, 23-May-2033 00:59:28 GMT; Path=/; Secure; HttpOnly\n",
      "header: Set-Cookie: TAUnique=%1%enc%3A%2BiP6Xlgi%2Bz%2F%2B7H78yfwekiHKVVkteNxIVL22aim9N4c2jHwltRJPGQ%3D%3D; Domain=.tripadvisor.co.id; Expires=Sun, 25-May-2025 00:59:28 GMT; Path=/; HttpOnly\n",
      "header: Set-Cookie: TASSK=enc%3AALJG5WkA33A7Gv9K2B%2ByhPHrGwwozG%2FQCPso%2FRfzFwboTSuNqSoHQ%2BH3RESfU9j5jT8%2FYAPUIdJxQTigiJmUwvW%2Ffc7IK%2FsGRT2ezo8rKtynTfa55lEaLjdgAL3bUvyyVg%3D%3D; Domain=www.tripadvisor.co.id; Expires=Wed, 22-Nov-2023 00:59:28 GMT; Path=/; HttpOnly\n",
      "header: Set-Cookie: TASession=V2ID.C27DD6CA9DFA4FB2979DD650B9DB86A4*SQ.1*HS.recommended*ES.popularity*DS.5*SAS.popularity*FPS.oldFirst*LF.in*FA.1*DF.0*TRA.true*LD.2097114; Domain=.tripadvisor.co.id; Path=/\n",
      "header: Set-Cookie: ServerPool=B; Domain=.tripadvisor.co.id; Path=/\n",
      "header: Set-Cookie: PMC=V2*MS.25*MD.20230525*LD.20230525; Domain=www.tripadvisor.co.id; Expires=Sun, 25-May-2025 00:59:28 GMT; Path=/; Secure; HttpOnly\n",
      "header: Set-Cookie: TART=%1%enc%3A%2Fux%2B%2FMn8HpIpG14oxaqTzLTK%2BueqCo%2B6lbm86PCh07hWmKTR8OjOhncxOhvP%2F%2FjKJ7r1iEgl44g%3D; Domain=www.tripadvisor.co.id; Expires=Wed, 31-May-2023 00:59:28 GMT; Path=/; HttpOnly\n",
      "header: Set-Cookie: CM=%1%PremiumMobSess%2C%2C-1%7Ct4b-pc%2C%2C-1%7CRestAds%2FRPers%2C%2C-1%7CRCPers%2C%2C-1%7CWShadeSeen%2C%2C-1%7CTheForkMCCPers%2C%2C-1%7CHomeASess%2C%2C-1%7CPremiumMCSess%2C%2C-1%7CCrisisSess%2C%2C-1%7CUVOwnersSess%2C%2C-1%7CRestPremRSess%2C%2C-1%7CRepTarMCSess%2C%2C-1%7CCCSess%2C%2C-1%7CCYLSess%2C%2C-1%7CPremRetPers%2C%2C-1%7CViatorMCPers%2C%2C-1%7Csesssticker%2C%2C-1%7C%24%2C%2C-1%7CPremiumORSess%2C%2C-1%7Ct4b-sc%2C%2C-1%7CRestAdsPers%2C%2C-1%7CMC_IB_UPSELL_IB_LOGOS2%2C%2C-1%7CTSMCPers%2C%2C-1%7Cb2bmcpers%2C%2C-1%7CPremMCBtmSess%2C%2C-1%7CMC_IB_UPSELL_IB_LOGOS%2C%2C-1%7CLaFourchette+Banners%2C%2C-1%7Csess_rev%2C%2C-1%7Csessamex%2C%2C-1%7CPremiumRRSess%2C%2C-1%7CTADORSess%2C%2C-1%7CAdsRetPers%2C%2C-1%7CListMCSess%2C%2C-1%7CTARSWBPers%2C%2C-1%7CSPMCSess%2C%2C-1%7CTheForkORSess%2C%2C-1%7CTheForkRRSess%2C%2C-1%7Cpers_rev%2C%2C-1%7CRBAPers%2C%2C-1%7CRestAds%2FRSess%2C%2C-1%7CHomeAPers%2C%2C-1%7CPremiumMobPers%2C%2C-1%7CRCSess%2C%2C-1%7CLaFourchette+MC+Banners%2C%2C-1%7CRestAdsCCSess%2C%2C-1%7CRestPremRPers%2C%2C-1%7CRevHubRMPers%2C%2C-1%7CUVOwnersPers%2C%2C-1%7Cpssamex%2C%2C-1%7CTheForkMCCSess%2C%2C-1%7CCrisisPers%2C%2C-1%7CCYLPers%2C%2C-1%7CCCPers%2C%2C-1%7CRepTarMCPers%2C%2C-1%7Cb2bmcsess%2C%2C-1%7CTSMCSess%2C%2C-1%7CSPMCPers%2C%2C-1%7CRevHubRMSess%2C%2C-1%7CPremRetSess%2C%2C-1%7CViatorMCSess%2C%2C-1%7CPremiumMCPers%2C%2C-1%7CAdsRetSess%2C%2C-1%7CPremiumRRPers%2C%2C-1%7CRestAdsCCPers%2C%2C-1%7CTADORPers%2C%2C-1%7CTheForkORPers%2C%2C-1%7CPremMCBtmPers%2C%2C-1%7CTheForkRRPers%2C%2C-1%7CTARSWBSess%2C%2C-1%7CPremiumORPers%2C%2C-1%7CRestAdsSess%2C%2C-1%7CRBASess%2C%2C-1%7CSPORPers%2C%2C-1%7Cperssticker%2C%2C-1%7CListMCPers%2C%2C-1%7C; Domain=.tripadvisor.co.id; Expires=Mon, 23-May-2033 00:59:28 GMT; Path=/\n",
      "header: Set-Cookie: BEPIN=%1%1885591562f%3Bweb218a.a.tripadvisor.com%3A30023%3B; Domain=.tripadvisor.co.id; Path=/\n",
      "header: Set-Cookie: PAC=ADvkVHxvu-2koa7rdJ2rDSZsXTS9Eth-MO5LiJ-ymNMr-KtO5HRHCCZZHYIBul53eI0UNTbwzsfKNqulcDBStl0aKS2KRSI-fCBSi1MWuARa8m3W6m__ntRcfvuztNMrGF7BFbBqitDroMerda_qxG9cuOTGvSjfIGrVYqHnUJ0gE2qdtdBOOqw72DDdkeQe2Ph7Evls41I7_NEy153B4lDDAbpU0yZPCHFRZsL-OwxgD2i8MfL-BoS0RbTssx_Ehw%3D%3D; Domain=www.tripadvisor.co.id; Expires=Sun, 25-May-2025 00:59:28 GMT; Path=/; Secure; HttpOnly\n",
      "header: Set-Cookie: SRT=TART_SYNC; Domain=www.tripadvisor.co.id; Expires=Fri, 26-May-2023 01:29:28 GMT; Path=/\n",
      "header: Set-Cookie: TATravelInfo=V2*AY.2023*AM.6*AD.4*DY.2023*DM.6*DD.5*A.2*MG.-1*HP.2*FL.3*DSM.1685062768244*RS.1; Domain=.tripadvisor.co.id; Expires=Fri, 09-Jun-2023 00:59:28 GMT; Path=/\n",
      "header: Set-Cookie: TAUD=LG-1685062768141-2.1.F.*RDD-2-2023_05_26*HDD-3-2023_06_04.2023_06_05.1; Domain=.tripadvisor.co.id; Expires=Fri, 09-Jun-2023 00:59:28 GMT; Path=/\n",
      "header: Set-Cookie: TASID=C27DD6CA9DFA4FB2979DD650B9DB86A4; Domain=www.tripadvisor.co.id; Expires=Fri, 26-May-2023 01:29:28 GMT; Path=/; Secure\n",
      "header: Set-Cookie: TAReturnTo=%1%%2FHotel_Review-g1628287-d2097114-Reviews-or10-Suara_Air_Luxury_Villa_Ubud-Melayang_Ubud_Gianyar_Regency_Bali.html; Domain=.tripadvisor.co.id; Path=/\n",
      "header: Set-Cookie: datadome=1Fmj2PzOpiQW16ywHrwqEirxEWJ9c_6QmEEKHECPxm_o4MDtyUl~_uT~Rstb7ahgNOnA9tRn-iE1rdfrO263MB6zGMBdK6JtcB27Z~IjeTCu1vc4PKjc2f0Ye9bfi2CI; Max-Age=31104000; Domain=.tripadvisor.co.id; Path=/; Secure; SameSite=Lax\n",
      "Done Scrapping Suara Air Luxury Villa Ubud page 2\n",
      "\n",
      "\n"
     ]
    },
    {
     "name": "stderr",
     "output_type": "stream",
     "text": [
      "DEBUG:urllib3.connectionpool:Starting new HTTPS connection (1): www.tripadvisor.co.id:443\n"
     ]
    },
    {
     "name": "stdout",
     "output_type": "stream",
     "text": [
      "send: b'GET /Hotel_Review-g1628287-d2097114-Reviews-or15-Suara_Air_Luxury_Villa_Ubud-Melayang_Ubud_Gianyar_Regency_Bali.html HTTP/1.1\\r\\nHost: www.tripadvisor.co.id\\r\\nUser-Agent: Mozilla/5.0 (X11; CrOS x86_64 12871.102.0) AppleWebKit/537.36 (KHTML, like Gecko) Chrome/81.0.4044.141 Safari/537.36\\r\\nAccept-Encoding: gzip, deflate\\r\\nAccept: */*\\r\\nConnection: keep-alive\\r\\n\\r\\n'\n"
     ]
    },
    {
     "name": "stderr",
     "output_type": "stream",
     "text": [
      "DEBUG:urllib3.connectionpool:https://www.tripadvisor.co.id:443 \"GET /Hotel_Review-g1628287-d2097114-Reviews-or15-Suara_Air_Luxury_Villa_Ubud-Melayang_Ubud_Gianyar_Regency_Bali.html HTTP/1.1\" 200 None\n"
     ]
    },
    {
     "name": "stdout",
     "output_type": "stream",
     "text": [
      "reply: 'HTTP/1.1 200 OK\\r\\n'\n",
      "header: Server: envoy\n",
      "header: Link: <https://media-cdn.tripadvisor.com/media/>;rel=\"preconnect\";crossorigin\n",
      "header: Link: <https://media-cdn.tripadvisor.com/media/>;rel=\"dns-prefetch\"\n",
      "header: p3p: CP=\"NOI CURa ADMa DEVa TAIa OUR BUS IND UNI COM NAV INT DSP COR CAO PSA IDC ADM DEVi TAIi PSD IVAi IVDi CONi HIS CNT\"\n",
      "header: Pragma: no-cache\n",
      "header: Cache-Control: no-cache, no-store, must-revalidate\n",
      "header: Expires: 0\n",
      "header: Content-Language: id\n",
      "header: Link: <https://static.tacdn.com>;rel=\"dns-prefetch\"\n",
      "header: Link: <https://static.tacdn.com>;rel=\"preconnect\";crossorigin\n",
      "header: timing-allow-origin: https://www.tripadvisor.com\n",
      "header: Vary: Accept-Encoding\n",
      "header: Content-Type: text/html;charset=UTF-8\n",
      "header: Accept-CH: Sec-CH-UA,Sec-CH-UA-Mobile,Sec-CH-UA-Platform,Sec-CH-UA-Arch,Sec-CH-UA-Full-Version-List,Sec-CH-UA-Model,Sec-CH-Device-Memory\n",
      "header: x-datadome: protected\n",
      "header: Content-Encoding: gzip\n",
      "header: x-request-id: aa365079-a638-4551-80a0-76ea5e21b311\n",
      "header: Date: Fri, 26 May 2023 00:59:34 GMT\n",
      "header: Transfer-Encoding: chunked\n",
      "header: Connection: keep-alive\n",
      "header: Connection: Transfer-Encoding\n",
      "header: Set-Cookie: TADCID=IHVKxkUL20hOej0qABQCXdElnkGETRW-Svh01l3nWnXCaMpyAeJ51naxUyh6TWYl-xa38q6Kw_qd-e3p-fu-LY5FFkH0tDq80ss; Domain=www.tripadvisor.co.id; Expires=Mon, 23-May-2033 00:59:33 GMT; Path=/; Secure; HttpOnly\n",
      "header: Set-Cookie: TAUnique=%1%enc%3AuiwQP9Jn%2BeH%2B7H78yfwekiHKVVkteNxIpEQySvQb52A2jHwltRJPGQ%3D%3D; Domain=.tripadvisor.co.id; Expires=Sun, 25-May-2025 00:59:33 GMT; Path=/; HttpOnly\n",
      "header: Set-Cookie: TASSK=enc%3AADF5QK3gqUFKx%2FBeTdW5OBB4yOTr2YwItfUDzyP0Qq%2FQIWIXBGxNZ2dklibuBan2rnmo9V2SNAGWMnX2nPrLfZQm34SS7btxz3XEkMc%2Bn0sNjqGse3uXrgX4nc1sWs4eHg%3D%3D; Domain=www.tripadvisor.co.id; Expires=Wed, 22-Nov-2023 00:59:34 GMT; Path=/; HttpOnly\n",
      "header: Set-Cookie: TASession=V2ID.A8750B3D823D40198B50BED9B4771753*SQ.1*HS.recommended*ES.popularity*DS.5*SAS.popularity*FPS.oldFirst*LF.in*FA.1*DF.0*TRA.true*LD.2097114; Domain=.tripadvisor.co.id; Path=/\n",
      "header: Set-Cookie: ServerPool=X; Domain=.tripadvisor.co.id; Path=/\n",
      "header: Set-Cookie: PMC=V2*MS.61*MD.20230525*LD.20230525; Domain=www.tripadvisor.co.id; Expires=Sun, 25-May-2025 00:59:34 GMT; Path=/; Secure; HttpOnly\n",
      "header: Set-Cookie: TART=%1%enc%3A%2Fux%2B%2FMn8HpIIQ9uL4mIidwILyXvzWTbW3SQN5jEeE9hY4nXp%2FFd4AeAT2J%2Bx0%2FaLkagyFvowwb0%3D; Domain=www.tripadvisor.co.id; Expires=Wed, 31-May-2023 00:59:34 GMT; Path=/; HttpOnly\n",
      "header: Set-Cookie: CM=%1%PremiumMobSess%2C%2C-1%7Ct4b-pc%2C%2C-1%7CRestAds%2FRPers%2C%2C-1%7CRCPers%2C%2C-1%7CWShadeSeen%2C%2C-1%7CTheForkMCCPers%2C%2C-1%7CHomeASess%2C%2C-1%7CPremiumMCSess%2C%2C-1%7CCrisisSess%2C%2C-1%7CUVOwnersSess%2C%2C-1%7CRestPremRSess%2C%2C-1%7CRepTarMCSess%2C%2C-1%7CCCSess%2C%2C-1%7CCYLSess%2C%2C-1%7CPremRetPers%2C%2C-1%7CViatorMCPers%2C%2C-1%7Csesssticker%2C%2C-1%7C%24%2C%2C-1%7CPremiumORSess%2C%2C-1%7Ct4b-sc%2C%2C-1%7CRestAdsPers%2C%2C-1%7CMC_IB_UPSELL_IB_LOGOS2%2C%2C-1%7CTSMCPers%2C%2C-1%7Cb2bmcpers%2C%2C-1%7CPremMCBtmSess%2C%2C-1%7CMC_IB_UPSELL_IB_LOGOS%2C%2C-1%7CLaFourchette+Banners%2C%2C-1%7Csess_rev%2C%2C-1%7Csessamex%2C%2C-1%7CPremiumRRSess%2C%2C-1%7CTADORSess%2C%2C-1%7CAdsRetPers%2C%2C-1%7CListMCSess%2C%2C-1%7CTARSWBPers%2C%2C-1%7CSPMCSess%2C%2C-1%7CTheForkORSess%2C%2C-1%7CTheForkRRSess%2C%2C-1%7Cpers_rev%2C%2C-1%7CRBAPers%2C%2C-1%7CRestAds%2FRSess%2C%2C-1%7CHomeAPers%2C%2C-1%7CPremiumMobPers%2C%2C-1%7CRCSess%2C%2C-1%7CLaFourchette+MC+Banners%2C%2C-1%7CRestAdsCCSess%2C%2C-1%7CRestPremRPers%2C%2C-1%7CRevHubRMPers%2C%2C-1%7CUVOwnersPers%2C%2C-1%7Cpssamex%2C%2C-1%7CTheForkMCCSess%2C%2C-1%7CCrisisPers%2C%2C-1%7CCYLPers%2C%2C-1%7CCCPers%2C%2C-1%7CRepTarMCPers%2C%2C-1%7Cb2bmcsess%2C%2C-1%7CTSMCSess%2C%2C-1%7CSPMCPers%2C%2C-1%7CRevHubRMSess%2C%2C-1%7CPremRetSess%2C%2C-1%7CViatorMCSess%2C%2C-1%7CPremiumMCPers%2C%2C-1%7CAdsRetSess%2C%2C-1%7CPremiumRRPers%2C%2C-1%7CRestAdsCCPers%2C%2C-1%7CTADORPers%2C%2C-1%7CTheForkORPers%2C%2C-1%7CPremMCBtmPers%2C%2C-1%7CTheForkRRPers%2C%2C-1%7CTARSWBSess%2C%2C-1%7CPremiumORPers%2C%2C-1%7CRestAdsSess%2C%2C-1%7CRBASess%2C%2C-1%7CSPORPers%2C%2C-1%7Cperssticker%2C%2C-1%7CListMCPers%2C%2C-1%7C; Domain=.tripadvisor.co.id; Expires=Mon, 23-May-2033 00:59:34 GMT; Path=/\n",
      "header: Set-Cookie: BEPIN=%1%18855916bae%3Bweb376a.a.tripadvisor.com%3A30023%3B; Domain=.tripadvisor.co.id; Path=/\n",
      "header: Set-Cookie: PAC=AJFHDgIaTqupCjDwAeQw8bF5wha5LZ8EF1qzu1lo-t27YqBHGLEmek0-bnd4TSpnUGRzDJKEFRZNoZn5BeKDemZU2SIlhMvqYwaih_TUYv6IZvxnGaBssu8zKBwzImDokwmb0x8bsyzfTYWw3XZQHUXUeuWqRDxFv6UyZoMg54Peo7Z4U2B1IB0U9UAlsYI5T1VmbUFmqXUAoR41YoUhbDG0LsDsQ7isD03cx7LRLATKHyAJ32B93Jr6F3eMAIIDwA%3D%3D; Domain=www.tripadvisor.co.id; Expires=Sun, 25-May-2025 00:59:34 GMT; Path=/; Secure; HttpOnly\n",
      "header: Set-Cookie: SRT=TART_SYNC; Domain=www.tripadvisor.co.id; Expires=Fri, 26-May-2023 01:29:34 GMT; Path=/\n",
      "header: Set-Cookie: TATravelInfo=V2*AY.2023*AM.6*AD.4*DY.2023*DM.6*DD.5*A.2*MG.-1*HP.2*FL.3*DSM.1685062773748*RS.1; Domain=.tripadvisor.co.id; Expires=Fri, 09-Jun-2023 00:59:34 GMT; Path=/\n",
      "header: Set-Cookie: TAUD=LG-1685062773659-2.1.F.*RDD-2-2023_05_26*HDD-3-2023_06_04.2023_06_05.1; Domain=.tripadvisor.co.id; Expires=Fri, 09-Jun-2023 00:59:34 GMT; Path=/\n",
      "header: Set-Cookie: TASID=A8750B3D823D40198B50BED9B4771753; Domain=www.tripadvisor.co.id; Expires=Fri, 26-May-2023 01:29:34 GMT; Path=/; Secure\n",
      "header: Set-Cookie: TAReturnTo=%1%%2FHotel_Review-g1628287-d2097114-Reviews-or15-Suara_Air_Luxury_Villa_Ubud-Melayang_Ubud_Gianyar_Regency_Bali.html; Domain=.tripadvisor.co.id; Path=/\n",
      "header: Set-Cookie: datadome=7AFvYClqpbDkegJtRLYM4GC0pUvA_I8W_0yvBIIeyUSAwmAQqpsmaw~81RoL1es~7wsn9Xqhn4DOonXVUEd7BveLh7yce3DOZFt7aEypDg9q2T6Im3i3XB_dh-nIaTbo; Max-Age=31104000; Domain=.tripadvisor.co.id; Path=/; Secure; SameSite=Lax\n",
      "Done Scrapping Suara Air Luxury Villa Ubud page 3\n",
      "\n",
      "\n"
     ]
    },
    {
     "name": "stderr",
     "output_type": "stream",
     "text": [
      "DEBUG:urllib3.connectionpool:Starting new HTTPS connection (1): www.tripadvisor.co.id:443\n"
     ]
    },
    {
     "name": "stdout",
     "output_type": "stream",
     "text": [
      "send: b'GET /Hotel_Review-g1628287-d2097114-Reviews-or20-Suara_Air_Luxury_Villa_Ubud-Melayang_Ubud_Gianyar_Regency_Bali.html HTTP/1.1\\r\\nHost: www.tripadvisor.co.id\\r\\nUser-Agent: Mozilla/5.0 (X11; CrOS x86_64 12871.102.0) AppleWebKit/537.36 (KHTML, like Gecko) Chrome/81.0.4044.141 Safari/537.36\\r\\nAccept-Encoding: gzip, deflate\\r\\nAccept: */*\\r\\nConnection: keep-alive\\r\\n\\r\\n'\n"
     ]
    },
    {
     "name": "stderr",
     "output_type": "stream",
     "text": [
      "DEBUG:urllib3.connectionpool:https://www.tripadvisor.co.id:443 \"GET /Hotel_Review-g1628287-d2097114-Reviews-or20-Suara_Air_Luxury_Villa_Ubud-Melayang_Ubud_Gianyar_Regency_Bali.html HTTP/1.1\" 200 None\n"
     ]
    },
    {
     "name": "stdout",
     "output_type": "stream",
     "text": [
      "reply: 'HTTP/1.1 200 OK\\r\\n'\n",
      "header: Server: envoy\n",
      "header: Link: <https://media-cdn.tripadvisor.com/media/>;rel=\"preconnect\";crossorigin\n",
      "header: Link: <https://media-cdn.tripadvisor.com/media/>;rel=\"dns-prefetch\"\n",
      "header: p3p: CP=\"NOI CURa ADMa DEVa TAIa OUR BUS IND UNI COM NAV INT DSP COR CAO PSA IDC ADM DEVi TAIi PSD IVAi IVDi CONi HIS CNT\"\n",
      "header: Pragma: no-cache\n",
      "header: Cache-Control: no-cache, no-store, must-revalidate\n",
      "header: Expires: 0\n",
      "header: Content-Language: id\n",
      "header: Link: <https://static.tacdn.com>;rel=\"dns-prefetch\"\n",
      "header: Link: <https://static.tacdn.com>;rel=\"preconnect\";crossorigin\n",
      "header: timing-allow-origin: https://www.tripadvisor.com\n",
      "header: Vary: Accept-Encoding\n",
      "header: Content-Type: text/html;charset=UTF-8\n",
      "header: x-datadome: protected\n",
      "header: Accept-CH: Sec-CH-UA,Sec-CH-UA-Mobile,Sec-CH-UA-Platform,Sec-CH-UA-Arch,Sec-CH-UA-Full-Version-List,Sec-CH-UA-Model,Sec-CH-Device-Memory\n",
      "header: Content-Encoding: gzip\n",
      "header: x-request-id: 0a31832d-9c90-4cb9-9a8f-1c06531b0125\n",
      "header: Date: Fri, 26 May 2023 00:59:38 GMT\n",
      "header: Transfer-Encoding: chunked\n",
      "header: Connection: keep-alive\n",
      "header: Connection: Transfer-Encoding\n",
      "header: Set-Cookie: TADCID=7s-OTsrgWpRuuXe8ABQCXdElnkGETRW-Svh01l3nWnXCaMkt8dj59-fg_a_15G36sxXt4Bsy40vMnR5XCRbUqTq3rqZW9G0Haj0; Domain=www.tripadvisor.co.id; Expires=Mon, 23-May-2033 00:59:37 GMT; Path=/; Secure; HttpOnly\n",
      "header: Set-Cookie: TAUnique=%1%enc%3AE1V%2FkyQN09j%2B7H78yfwekiHKVVkteNxIXdjg%2B1UAklw2jHwltRJPGQ%3D%3D; Domain=.tripadvisor.co.id; Expires=Sun, 25-May-2025 00:59:37 GMT; Path=/; HttpOnly\n",
      "header: Set-Cookie: TASSK=enc%3AAIhrkY1Io3M7OPkkpoYfMufgy2x16krCpGo9FOVn5v3Ok3ng22hwDUV86vBkGeQ7WfDiRjfrn61VsoViJCdfs4GYFsfFraywVex%2F0FUGC4uUf3bc8j%2Bm4qpzxvmYb%2BYQEg%3D%3D; Domain=www.tripadvisor.co.id; Expires=Wed, 22-Nov-2023 00:59:38 GMT; Path=/; HttpOnly\n",
      "header: Set-Cookie: TASession=V2ID.C82C1D39083B4598AE3F2413404A4E2A*SQ.1*HS.recommended*ES.popularity*DS.5*SAS.popularity*FPS.oldFirst*LF.in*FA.1*DF.0*TRA.true*LD.2097114; Domain=.tripadvisor.co.id; Path=/\n",
      "header: Set-Cookie: ServerPool=B; Domain=.tripadvisor.co.id; Path=/\n",
      "header: Set-Cookie: PMC=V2*MS.35*MD.20230525*LD.20230525; Domain=www.tripadvisor.co.id; Expires=Sun, 25-May-2025 00:59:38 GMT; Path=/; Secure; HttpOnly\n",
      "header: Set-Cookie: TART=%1%enc%3A%2Fux%2B%2FMn8HpKgiSrLQ2oekk7QpR5bTMgf7xd2aqpcdotAFpdI%2BAecGoiTzjhZA1YAfYtftmnsPgU%3D; Domain=www.tripadvisor.co.id; Expires=Wed, 31-May-2023 00:59:38 GMT; Path=/; HttpOnly\n",
      "header: Set-Cookie: CM=%1%PremiumMobSess%2C%2C-1%7Ct4b-pc%2C%2C-1%7CRestAds%2FRPers%2C%2C-1%7CRCPers%2C%2C-1%7CWShadeSeen%2C%2C-1%7CTheForkMCCPers%2C%2C-1%7CHomeASess%2C%2C-1%7CPremiumMCSess%2C%2C-1%7CCrisisSess%2C%2C-1%7CUVOwnersSess%2C%2C-1%7CRestPremRSess%2C%2C-1%7CRepTarMCSess%2C%2C-1%7CCCSess%2C%2C-1%7CCYLSess%2C%2C-1%7CPremRetPers%2C%2C-1%7CViatorMCPers%2C%2C-1%7Csesssticker%2C%2C-1%7C%24%2C%2C-1%7CPremiumORSess%2C%2C-1%7Ct4b-sc%2C%2C-1%7CRestAdsPers%2C%2C-1%7CMC_IB_UPSELL_IB_LOGOS2%2C%2C-1%7CTSMCPers%2C%2C-1%7Cb2bmcpers%2C%2C-1%7CPremMCBtmSess%2C%2C-1%7CMC_IB_UPSELL_IB_LOGOS%2C%2C-1%7CLaFourchette+Banners%2C%2C-1%7Csess_rev%2C%2C-1%7Csessamex%2C%2C-1%7CPremiumRRSess%2C%2C-1%7CTADORSess%2C%2C-1%7CAdsRetPers%2C%2C-1%7CListMCSess%2C%2C-1%7CTARSWBPers%2C%2C-1%7CSPMCSess%2C%2C-1%7CTheForkORSess%2C%2C-1%7CTheForkRRSess%2C%2C-1%7Cpers_rev%2C%2C-1%7CRBAPers%2C%2C-1%7CRestAds%2FRSess%2C%2C-1%7CHomeAPers%2C%2C-1%7CPremiumMobPers%2C%2C-1%7CRCSess%2C%2C-1%7CLaFourchette+MC+Banners%2C%2C-1%7CRestAdsCCSess%2C%2C-1%7CRestPremRPers%2C%2C-1%7CRevHubRMPers%2C%2C-1%7CUVOwnersPers%2C%2C-1%7Cpssamex%2C%2C-1%7CTheForkMCCSess%2C%2C-1%7CCrisisPers%2C%2C-1%7CCYLPers%2C%2C-1%7CCCPers%2C%2C-1%7CRepTarMCPers%2C%2C-1%7Cb2bmcsess%2C%2C-1%7CTSMCSess%2C%2C-1%7CSPMCPers%2C%2C-1%7CRevHubRMSess%2C%2C-1%7CPremRetSess%2C%2C-1%7CViatorMCSess%2C%2C-1%7CPremiumMCPers%2C%2C-1%7CAdsRetSess%2C%2C-1%7CPremiumRRPers%2C%2C-1%7CRestAdsCCPers%2C%2C-1%7CTADORPers%2C%2C-1%7CTheForkORPers%2C%2C-1%7CPremMCBtmPers%2C%2C-1%7CTheForkRRPers%2C%2C-1%7CTARSWBSess%2C%2C-1%7CPremiumORPers%2C%2C-1%7CRestAdsSess%2C%2C-1%7CRBASess%2C%2C-1%7CSPORPers%2C%2C-1%7Cperssticker%2C%2C-1%7CListMCPers%2C%2C-1%7C; Domain=.tripadvisor.co.id; Expires=Mon, 23-May-2033 00:59:38 GMT; Path=/\n",
      "header: Set-Cookie: BEPIN=%1%18855917c72%3Bweb123a.a.tripadvisor.com%3A30023%3B; Domain=.tripadvisor.co.id; Path=/\n",
      "header: Set-Cookie: PAC=AMqoCQ2HNgOa0AL2i4Wbx1w5uezPq8EkiF-HMwHKDznslnVZ7Gv3cELPPj2UgZ9tsH9jgRozqcCdgsJmx9_rIRyqzgDreiUqUhXV8o7Rim_tsjmxquha24lcS_dGP-k2d5K4WT9mkXwGL1l6tjp1EGJd6jwd2mbtBPz05uZh2-8i4srFwUv42uy3FOZ7Oc5sqr2WigriWaTwdPjcj-o3GE318PPYP7k7DrcPuDYLdCHRUlQ1IE2o_CSR9I9dGCoaXw%3D%3D; Domain=www.tripadvisor.co.id; Expires=Sun, 25-May-2025 00:59:38 GMT; Path=/; Secure; HttpOnly\n",
      "header: Set-Cookie: SRT=TART_SYNC; Domain=www.tripadvisor.co.id; Expires=Fri, 26-May-2023 01:29:38 GMT; Path=/\n",
      "header: Set-Cookie: TATravelInfo=V2*AY.2023*AM.6*AD.4*DY.2023*DM.6*DD.5*A.2*MG.-1*HP.2*FL.3*DSM.1685062778044*RS.1; Domain=.tripadvisor.co.id; Expires=Fri, 09-Jun-2023 00:59:38 GMT; Path=/\n",
      "header: Set-Cookie: TAUD=LG-1685062777937-2.1.F.*RDD-2-2023_05_26*HDD-3-2023_06_04.2023_06_05.1; Domain=.tripadvisor.co.id; Expires=Fri, 09-Jun-2023 00:59:38 GMT; Path=/\n",
      "header: Set-Cookie: TASID=C82C1D39083B4598AE3F2413404A4E2A; Domain=www.tripadvisor.co.id; Expires=Fri, 26-May-2023 01:29:38 GMT; Path=/; Secure\n",
      "header: Set-Cookie: TAReturnTo=%1%%2FHotel_Review-g1628287-d2097114-Reviews-or20-Suara_Air_Luxury_Villa_Ubud-Melayang_Ubud_Gianyar_Regency_Bali.html; Domain=.tripadvisor.co.id; Path=/\n",
      "header: Set-Cookie: datadome=6TylJQJMpePeruhZ8XOtfMkKGsQisvcM5EAxOPkSY_aELZN6_Mr_uahXSyTWh07Pr~AS75vBM0rhu9bWO4kGtYln8Xj9X3i2L_fx5mVff1mt4wZVRnSXsaQc1nJGrWgq; Max-Age=31104000; Domain=.tripadvisor.co.id; Path=/; Secure; SameSite=Lax\n",
      "Done Scrapping Suara Air Luxury Villa Ubud page 4\n",
      "\n",
      "\n"
     ]
    },
    {
     "name": "stderr",
     "output_type": "stream",
     "text": [
      "DEBUG:urllib3.connectionpool:Starting new HTTPS connection (1): www.tripadvisor.co.id:443\n"
     ]
    },
    {
     "name": "stdout",
     "output_type": "stream",
     "text": [
      "send: b'GET /Hotel_Review-g1628287-d2097114-Reviews-or25-Suara_Air_Luxury_Villa_Ubud-Melayang_Ubud_Gianyar_Regency_Bali.html HTTP/1.1\\r\\nHost: www.tripadvisor.co.id\\r\\nUser-Agent: Mozilla/5.0 (X11; CrOS x86_64 12871.102.0) AppleWebKit/537.36 (KHTML, like Gecko) Chrome/81.0.4044.141 Safari/537.36\\r\\nAccept-Encoding: gzip, deflate\\r\\nAccept: */*\\r\\nConnection: keep-alive\\r\\n\\r\\n'\n"
     ]
    },
    {
     "name": "stderr",
     "output_type": "stream",
     "text": [
      "DEBUG:urllib3.connectionpool:https://www.tripadvisor.co.id:443 \"GET /Hotel_Review-g1628287-d2097114-Reviews-or25-Suara_Air_Luxury_Villa_Ubud-Melayang_Ubud_Gianyar_Regency_Bali.html HTTP/1.1\" 200 None\n"
     ]
    },
    {
     "name": "stdout",
     "output_type": "stream",
     "text": [
      "reply: 'HTTP/1.1 200 OK\\r\\n'\n",
      "header: Server: envoy\n",
      "header: Link: <https://media-cdn.tripadvisor.com/media/>;rel=\"preconnect\";crossorigin\n",
      "header: Link: <https://media-cdn.tripadvisor.com/media/>;rel=\"dns-prefetch\"\n",
      "header: p3p: CP=\"NOI CURa ADMa DEVa TAIa OUR BUS IND UNI COM NAV INT DSP COR CAO PSA IDC ADM DEVi TAIi PSD IVAi IVDi CONi HIS CNT\"\n",
      "header: Pragma: no-cache\n",
      "header: Cache-Control: no-cache, no-store, must-revalidate\n",
      "header: Expires: 0\n",
      "header: Content-Language: id\n",
      "header: Link: <https://static.tacdn.com>;rel=\"dns-prefetch\"\n",
      "header: Link: <https://static.tacdn.com>;rel=\"preconnect\";crossorigin\n",
      "header: timing-allow-origin: https://www.tripadvisor.com\n",
      "header: Vary: Accept-Encoding\n",
      "header: Content-Type: text/html;charset=UTF-8\n",
      "header: x-datadome: protected\n",
      "header: Accept-CH: Sec-CH-UA,Sec-CH-UA-Mobile,Sec-CH-UA-Platform,Sec-CH-UA-Arch,Sec-CH-UA-Full-Version-List,Sec-CH-UA-Model,Sec-CH-Device-Memory\n",
      "header: Content-Encoding: gzip\n",
      "header: x-request-id: ee72d4fb-2438-4cb2-ae94-51132d521671\n",
      "header: Date: Fri, 26 May 2023 00:59:43 GMT\n",
      "header: Transfer-Encoding: chunked\n",
      "header: Connection: keep-alive\n",
      "header: Connection: Transfer-Encoding\n",
      "header: Set-Cookie: TADCID=QkYY9TvrDY8bQQVfABQCXdElnkGETRW-Svh01l3nWnXCaPwFT5NpX9irFDRvcUSFAkRljktVfDrvGEBGPMJ8Qb-e-6zbxsF6BkU; Domain=www.tripadvisor.co.id; Expires=Mon, 23-May-2033 00:59:42 GMT; Path=/; Secure; HttpOnly\n",
      "header: Set-Cookie: TAUnique=%1%enc%3AJD1l2SeBZdX%2B7H78yfwekiHKVVkteNxIl5oUvF%2FGNjY2jHwltRJPGQ%3D%3D; Domain=.tripadvisor.co.id; Expires=Sun, 25-May-2025 00:59:42 GMT; Path=/; HttpOnly\n",
      "header: Set-Cookie: TASSK=enc%3AAC1x7R4HbyT7jak5wgHKtVTkJeo%2Bar9jLoGMh2PuELuSL0LzRgqLoIxs7d2ZhIDhtXH24tItaKVRvPWi4BCtOmmVdBYQOgGHqVdqDtHvI%2Fk%2F89C1LAW2AJvxUp%2F4icaj7Q%3D%3D; Domain=www.tripadvisor.co.id; Expires=Wed, 22-Nov-2023 00:59:43 GMT; Path=/; HttpOnly\n",
      "header: Set-Cookie: TASession=V2ID.7A955500EC4D4123BCF72A754A3A76BF*SQ.1*HS.recommended*ES.popularity*DS.5*SAS.popularity*FPS.oldFirst*LF.in*FA.1*DF.0*TRA.true*LD.2097114; Domain=.tripadvisor.co.id; Path=/\n",
      "header: Set-Cookie: ServerPool=A; Domain=.tripadvisor.co.id; Path=/\n",
      "header: Set-Cookie: PMC=V2*MS.51*MD.20230525*LD.20230525; Domain=www.tripadvisor.co.id; Expires=Sun, 25-May-2025 00:59:43 GMT; Path=/; Secure; HttpOnly\n",
      "header: Set-Cookie: TART=%1%enc%3A%2Fux%2B%2FMn8HpKO%2F54l%2FwdSgVRP1YckTFFX0uC5J%2FDKoJ5AvMU%2BXXNmgf3KDlJzESMX4ieoPdYMDDY%3D; Domain=www.tripadvisor.co.id; Expires=Wed, 31-May-2023 00:59:43 GMT; Path=/; HttpOnly\n",
      "header: Set-Cookie: CM=%1%PremiumMobSess%2C%2C-1%7Ct4b-pc%2C%2C-1%7CRestAds%2FRPers%2C%2C-1%7CRCPers%2C%2C-1%7CWShadeSeen%2C%2C-1%7CTheForkMCCPers%2C%2C-1%7CHomeASess%2C%2C-1%7CPremiumMCSess%2C%2C-1%7CCrisisSess%2C%2C-1%7CUVOwnersSess%2C%2C-1%7CRestPremRSess%2C%2C-1%7CRepTarMCSess%2C%2C-1%7CCCSess%2C%2C-1%7CCYLSess%2C%2C-1%7CPremRetPers%2C%2C-1%7CViatorMCPers%2C%2C-1%7Csesssticker%2C%2C-1%7C%24%2C%2C-1%7CPremiumORSess%2C%2C-1%7Ct4b-sc%2C%2C-1%7CRestAdsPers%2C%2C-1%7CMC_IB_UPSELL_IB_LOGOS2%2C%2C-1%7CTSMCPers%2C%2C-1%7Cb2bmcpers%2C%2C-1%7CPremMCBtmSess%2C%2C-1%7CMC_IB_UPSELL_IB_LOGOS%2C%2C-1%7CLaFourchette+Banners%2C%2C-1%7Csess_rev%2C%2C-1%7Csessamex%2C%2C-1%7CPremiumRRSess%2C%2C-1%7CTADORSess%2C%2C-1%7CAdsRetPers%2C%2C-1%7CListMCSess%2C%2C-1%7CTARSWBPers%2C%2C-1%7CSPMCSess%2C%2C-1%7CTheForkORSess%2C%2C-1%7CTheForkRRSess%2C%2C-1%7Cpers_rev%2C%2C-1%7CRBAPers%2C%2C-1%7CRestAds%2FRSess%2C%2C-1%7CHomeAPers%2C%2C-1%7CPremiumMobPers%2C%2C-1%7CRCSess%2C%2C-1%7CLaFourchette+MC+Banners%2C%2C-1%7CRestAdsCCSess%2C%2C-1%7CRestPremRPers%2C%2C-1%7CRevHubRMPers%2C%2C-1%7CUVOwnersPers%2C%2C-1%7Cpssamex%2C%2C-1%7CTheForkMCCSess%2C%2C-1%7CCrisisPers%2C%2C-1%7CCYLPers%2C%2C-1%7CCCPers%2C%2C-1%7CRepTarMCPers%2C%2C-1%7Cb2bmcsess%2C%2C-1%7CTSMCSess%2C%2C-1%7CSPMCPers%2C%2C-1%7CRevHubRMSess%2C%2C-1%7CPremRetSess%2C%2C-1%7CViatorMCSess%2C%2C-1%7CPremiumMCPers%2C%2C-1%7CAdsRetSess%2C%2C-1%7CPremiumRRPers%2C%2C-1%7CRestAdsCCPers%2C%2C-1%7CTADORPers%2C%2C-1%7CTheForkORPers%2C%2C-1%7CPremMCBtmPers%2C%2C-1%7CTheForkRRPers%2C%2C-1%7CTARSWBSess%2C%2C-1%7CPremiumORPers%2C%2C-1%7CRestAdsSess%2C%2C-1%7CRBASess%2C%2C-1%7CSPORPers%2C%2C-1%7Cperssticker%2C%2C-1%7CListMCPers%2C%2C-1%7C; Domain=.tripadvisor.co.id; Expires=Mon, 23-May-2033 00:59:43 GMT; Path=/\n",
      "header: Set-Cookie: BEPIN=%1%18855918e96%3Bweb191a.a.tripadvisor.com%3A30023%3B; Domain=.tripadvisor.co.id; Path=/\n",
      "header: Set-Cookie: PAC=AJ4Mnyr4yCyP5to8vXKfMCFDM7scsFHMa9FRtMz0xb7I1ydX7k02lHd1-3O6zCBsV3nxZFOrH04eESx4tfF_gdf9DvR1DV6_Evtf2nQOsZdIl4ibXQc7IOPZPuYgWYFvzdhr1-HW0C1UwHcmNd8qWy4524xuqs0B92eMIlCTE2TjAV1ml6yDPG9qY1kTWQMKt6lryTfu9qBAxZZidteij_ZG3bAWoTCP9Gel194xIqZKlY14M82vZzwuWsTpwR-qhw%3D%3D; Domain=www.tripadvisor.co.id; Expires=Sun, 25-May-2025 00:59:43 GMT; Path=/; Secure; HttpOnly\n",
      "header: Set-Cookie: SRT=TART_SYNC; Domain=www.tripadvisor.co.id; Expires=Fri, 26-May-2023 01:29:43 GMT; Path=/\n",
      "header: Set-Cookie: TATravelInfo=V2*AY.2023*AM.6*AD.4*DY.2023*DM.6*DD.5*A.2*MG.-1*HP.2*FL.3*DSM.1685062782701*RS.1; Domain=.tripadvisor.co.id; Expires=Fri, 09-Jun-2023 00:59:43 GMT; Path=/\n",
      "header: Set-Cookie: TAUD=LG-1685062782579-2.1.F.*RDD-2-2023_05_26*HDD-3-2023_06_04.2023_06_05.1; Domain=.tripadvisor.co.id; Expires=Fri, 09-Jun-2023 00:59:43 GMT; Path=/\n",
      "header: Set-Cookie: TASID=7A955500EC4D4123BCF72A754A3A76BF; Domain=www.tripadvisor.co.id; Expires=Fri, 26-May-2023 01:29:43 GMT; Path=/; Secure\n",
      "header: Set-Cookie: TAReturnTo=%1%%2FHotel_Review-g1628287-d2097114-Reviews-or25-Suara_Air_Luxury_Villa_Ubud-Melayang_Ubud_Gianyar_Regency_Bali.html; Domain=.tripadvisor.co.id; Path=/\n",
      "header: Set-Cookie: datadome=69w3rjBD_sEWwK2sVhdpnBrk7RjNCX-sautmbcohZI177y91WPBFeORGV_nP-mwXdmXPorMQP_Dcump25s5_mxPNFg1i-i0-WbxZ_Prgjb_uAefvQ-pCjgXvrzEHRDPi; Max-Age=31104000; Domain=.tripadvisor.co.id; Path=/; Secure; SameSite=Lax\n",
      "Done Scrapping Suara Air Luxury Villa Ubud page 5\n",
      "\n",
      "\n"
     ]
    },
    {
     "name": "stderr",
     "output_type": "stream",
     "text": [
      "DEBUG:urllib3.connectionpool:Starting new HTTPS connection (1): www.tripadvisor.co.id:443\n"
     ]
    },
    {
     "name": "stdout",
     "output_type": "stream",
     "text": [
      "send: b'GET /Hotel_Review-g1628287-d2097114-Reviews-or30-Suara_Air_Luxury_Villa_Ubud-Melayang_Ubud_Gianyar_Regency_Bali.html HTTP/1.1\\r\\nHost: www.tripadvisor.co.id\\r\\nUser-Agent: Mozilla/5.0 (X11; CrOS x86_64 12871.102.0) AppleWebKit/537.36 (KHTML, like Gecko) Chrome/81.0.4044.141 Safari/537.36\\r\\nAccept-Encoding: gzip, deflate\\r\\nAccept: */*\\r\\nConnection: keep-alive\\r\\n\\r\\n'\n"
     ]
    },
    {
     "name": "stderr",
     "output_type": "stream",
     "text": [
      "DEBUG:urllib3.connectionpool:https://www.tripadvisor.co.id:443 \"GET /Hotel_Review-g1628287-d2097114-Reviews-or30-Suara_Air_Luxury_Villa_Ubud-Melayang_Ubud_Gianyar_Regency_Bali.html HTTP/1.1\" 200 None\n"
     ]
    },
    {
     "name": "stdout",
     "output_type": "stream",
     "text": [
      "reply: 'HTTP/1.1 200 OK\\r\\n'\n",
      "header: Server: envoy\n",
      "header: Link: <https://media-cdn.tripadvisor.com/media/>;rel=\"preconnect\";crossorigin\n",
      "header: Link: <https://media-cdn.tripadvisor.com/media/>;rel=\"dns-prefetch\"\n",
      "header: p3p: CP=\"NOI CURa ADMa DEVa TAIa OUR BUS IND UNI COM NAV INT DSP COR CAO PSA IDC ADM DEVi TAIi PSD IVAi IVDi CONi HIS CNT\"\n",
      "header: Pragma: no-cache\n",
      "header: Cache-Control: no-cache, no-store, must-revalidate\n",
      "header: Expires: 0\n",
      "header: Content-Language: id\n",
      "header: Link: <https://static.tacdn.com>;rel=\"dns-prefetch\"\n",
      "header: Link: <https://static.tacdn.com>;rel=\"preconnect\";crossorigin\n",
      "header: timing-allow-origin: https://www.tripadvisor.com\n",
      "header: Vary: Accept-Encoding\n",
      "header: Content-Type: text/html;charset=UTF-8\n",
      "header: x-datadome: protected\n",
      "header: Accept-CH: Sec-CH-UA,Sec-CH-UA-Mobile,Sec-CH-UA-Platform,Sec-CH-UA-Arch,Sec-CH-UA-Full-Version-List,Sec-CH-UA-Model,Sec-CH-Device-Memory\n",
      "header: Content-Encoding: gzip\n",
      "header: x-request-id: 226e8b44-7a23-4438-8dc2-8b54ffa1ef06\n",
      "header: Date: Fri, 26 May 2023 00:59:47 GMT\n",
      "header: Transfer-Encoding: chunked\n",
      "header: Connection: keep-alive\n",
      "header: Connection: Transfer-Encoding\n",
      "header: Set-Cookie: TADCID=eHGygD7TneX8IgjYABQCXdElnkGETRW-Svh01l3nWnXCaGg5iMyl2igSo_HYft8CcII0MgPWRtSxZmMY47gKt5cARBJCGnuNx_4; Domain=www.tripadvisor.co.id; Expires=Mon, 23-May-2033 00:59:47 GMT; Path=/; Secure; HttpOnly\n",
      "header: Set-Cookie: TAUnique=%1%enc%3A9BffKJVF1O7%2B7H78yfwekiHKVVkteNxIb3P0GpgVeTs2jHwltRJPGQ%3D%3D; Domain=.tripadvisor.co.id; Expires=Sun, 25-May-2025 00:59:47 GMT; Path=/; HttpOnly\n",
      "header: Set-Cookie: TASSK=enc%3AAMrBcloackVHutj1xM3oxGvrA9lUyMU%2FSJZwqy0JH%2BukdyOhBJMIMiOpEH1x8DvcC8VGaBpDGijhAsnnDRUknz7SxgcLiUmAk3UTCZqEGhnlAVq64p13TuFRbIoonLz39Q%3D%3D; Domain=www.tripadvisor.co.id; Expires=Wed, 22-Nov-2023 00:59:47 GMT; Path=/; HttpOnly\n",
      "header: Set-Cookie: TASession=V2ID.0935C1540B4944B287903891DCE1343C*SQ.1*HS.recommended*ES.popularity*DS.5*SAS.popularity*FPS.oldFirst*LF.in*FA.1*DF.0*TRA.true*LD.2097114; Domain=.tripadvisor.co.id; Path=/\n",
      "header: Set-Cookie: ServerPool=X; Domain=.tripadvisor.co.id; Path=/\n",
      "header: Set-Cookie: PMC=V2*MS.98*MD.20230525*LD.20230525; Domain=www.tripadvisor.co.id; Expires=Sun, 25-May-2025 00:59:47 GMT; Path=/; Secure; HttpOnly\n",
      "header: Set-Cookie: TART=%1%enc%3A%2Fux%2B%2FMn8HpI%2BUnGXjHtfNHlC3tteM%2F%2Bcgkk8R6v2JD%2BXtfo5dBKW0iga0XHo7FajAUtuxWemFUE%3D; Domain=www.tripadvisor.co.id; Expires=Wed, 31-May-2023 00:59:47 GMT; Path=/; HttpOnly\n",
      "header: Set-Cookie: CM=%1%PremiumMobSess%2C%2C-1%7Ct4b-pc%2C%2C-1%7CRestAds%2FRPers%2C%2C-1%7CRCPers%2C%2C-1%7CWShadeSeen%2C%2C-1%7CTheForkMCCPers%2C%2C-1%7CHomeASess%2C%2C-1%7CPremiumMCSess%2C%2C-1%7CCrisisSess%2C%2C-1%7CUVOwnersSess%2C%2C-1%7CRestPremRSess%2C%2C-1%7CRepTarMCSess%2C%2C-1%7CCCSess%2C%2C-1%7CCYLSess%2C%2C-1%7CPremRetPers%2C%2C-1%7CViatorMCPers%2C%2C-1%7Csesssticker%2C%2C-1%7C%24%2C%2C-1%7CPremiumORSess%2C%2C-1%7Ct4b-sc%2C%2C-1%7CRestAdsPers%2C%2C-1%7CMC_IB_UPSELL_IB_LOGOS2%2C%2C-1%7CTSMCPers%2C%2C-1%7Cb2bmcpers%2C%2C-1%7CPremMCBtmSess%2C%2C-1%7CMC_IB_UPSELL_IB_LOGOS%2C%2C-1%7CLaFourchette+Banners%2C%2C-1%7Csess_rev%2C%2C-1%7Csessamex%2C%2C-1%7CPremiumRRSess%2C%2C-1%7CTADORSess%2C%2C-1%7CAdsRetPers%2C%2C-1%7CListMCSess%2C%2C-1%7CTARSWBPers%2C%2C-1%7CSPMCSess%2C%2C-1%7CTheForkORSess%2C%2C-1%7CTheForkRRSess%2C%2C-1%7Cpers_rev%2C%2C-1%7CRBAPers%2C%2C-1%7CRestAds%2FRSess%2C%2C-1%7CHomeAPers%2C%2C-1%7CPremiumMobPers%2C%2C-1%7CRCSess%2C%2C-1%7CLaFourchette+MC+Banners%2C%2C-1%7CRestAdsCCSess%2C%2C-1%7CRestPremRPers%2C%2C-1%7CRevHubRMPers%2C%2C-1%7CUVOwnersPers%2C%2C-1%7Cpssamex%2C%2C-1%7CTheForkMCCSess%2C%2C-1%7CCrisisPers%2C%2C-1%7CCYLPers%2C%2C-1%7CCCPers%2C%2C-1%7CRepTarMCPers%2C%2C-1%7Cb2bmcsess%2C%2C-1%7CTSMCSess%2C%2C-1%7CSPMCPers%2C%2C-1%7CRevHubRMSess%2C%2C-1%7CPremRetSess%2C%2C-1%7CViatorMCSess%2C%2C-1%7CPremiumMCPers%2C%2C-1%7CAdsRetSess%2C%2C-1%7CPremiumRRPers%2C%2C-1%7CRestAdsCCPers%2C%2C-1%7CTADORPers%2C%2C-1%7CTheForkORPers%2C%2C-1%7CPremMCBtmPers%2C%2C-1%7CTheForkRRPers%2C%2C-1%7CTARSWBSess%2C%2C-1%7CPremiumORPers%2C%2C-1%7CRestAdsSess%2C%2C-1%7CRBASess%2C%2C-1%7CSPORPers%2C%2C-1%7Cperssticker%2C%2C-1%7CListMCPers%2C%2C-1%7C; Domain=.tripadvisor.co.id; Expires=Mon, 23-May-2033 00:59:47 GMT; Path=/\n",
      "header: Set-Cookie: BEPIN=%1%1885591a09f%3Bweb218a.a.tripadvisor.com%3A30023%3B; Domain=.tripadvisor.co.id; Path=/\n",
      "header: Set-Cookie: PAC=ADnxs7cAB3d51yTtbK8aqhaKJqQhEQhxC5pWnItgqXHPhkWon9dJCkSp-2-MkDtUh-kwPsjafocLvuZgw_dtKA4qi_I-55Mv6eTolqA8tC7Q0rNHLCBCmA7gFpwwde6eYhFVKOXokMIaC0RAxfzNbj-2V5q9ef3nh2hpL_8Dg7RjQWyFZMMKGfEw8c9_b91KU7xizSK5TRpzb5zUIw1UH6zYdWhzByIPVYvUTfgpcxCycm5IEHaeiCI4my3pnFa7hg%3D%3D; Domain=www.tripadvisor.co.id; Expires=Sun, 25-May-2025 00:59:47 GMT; Path=/; Secure; HttpOnly\n",
      "header: Set-Cookie: SRT=TART_SYNC; Domain=www.tripadvisor.co.id; Expires=Fri, 26-May-2023 01:29:47 GMT; Path=/\n",
      "header: Set-Cookie: TATravelInfo=V2*AY.2023*AM.6*AD.4*DY.2023*DM.6*DD.5*A.2*MG.-1*HP.2*FL.3*DSM.1685062787302*RS.1; Domain=.tripadvisor.co.id; Expires=Fri, 09-Jun-2023 00:59:47 GMT; Path=/\n",
      "header: Set-Cookie: TAUD=LG-1685062787199-2.1.F.*RDD-2-2023_05_26*HDD-3-2023_06_04.2023_06_05.1; Domain=.tripadvisor.co.id; Expires=Fri, 09-Jun-2023 00:59:47 GMT; Path=/\n",
      "header: Set-Cookie: TASID=0935C1540B4944B287903891DCE1343C; Domain=www.tripadvisor.co.id; Expires=Fri, 26-May-2023 01:29:47 GMT; Path=/; Secure\n",
      "header: Set-Cookie: TAReturnTo=%1%%2FHotel_Review-g1628287-d2097114-Reviews-or30-Suara_Air_Luxury_Villa_Ubud-Melayang_Ubud_Gianyar_Regency_Bali.html; Domain=.tripadvisor.co.id; Path=/\n",
      "header: Set-Cookie: datadome=6Ex_wkjZM1GOYo0d0BJno5bNS6ChG8dk0KZ_qXzxbaHfnWIm3qcu2brBYuaCfIgnFu9WBJ7y4EA8oFgxlvV-XfEdSkw2Lc97oXAI6-V3Ifa3k3z7MksE2MMFsG4kFL12; Max-Age=31104000; Domain=.tripadvisor.co.id; Path=/; Secure; SameSite=Lax\n",
      "Done Scrapping Suara Air Luxury Villa Ubud page 6\n",
      "\n",
      "\n"
     ]
    },
    {
     "name": "stderr",
     "output_type": "stream",
     "text": [
      "DEBUG:urllib3.connectionpool:Starting new HTTPS connection (1): www.tripadvisor.co.id:443\n"
     ]
    },
    {
     "name": "stdout",
     "output_type": "stream",
     "text": [
      "send: b'GET /Hotel_Review-g1628287-d2097114-Reviews-or35-Suara_Air_Luxury_Villa_Ubud-Melayang_Ubud_Gianyar_Regency_Bali.html HTTP/1.1\\r\\nHost: www.tripadvisor.co.id\\r\\nUser-Agent: Mozilla/5.0 (X11; CrOS x86_64 12871.102.0) AppleWebKit/537.36 (KHTML, like Gecko) Chrome/81.0.4044.141 Safari/537.36\\r\\nAccept-Encoding: gzip, deflate\\r\\nAccept: */*\\r\\nConnection: keep-alive\\r\\n\\r\\n'\n"
     ]
    },
    {
     "name": "stderr",
     "output_type": "stream",
     "text": [
      "DEBUG:urllib3.connectionpool:https://www.tripadvisor.co.id:443 \"GET /Hotel_Review-g1628287-d2097114-Reviews-or35-Suara_Air_Luxury_Villa_Ubud-Melayang_Ubud_Gianyar_Regency_Bali.html HTTP/1.1\" 200 None\n"
     ]
    },
    {
     "name": "stdout",
     "output_type": "stream",
     "text": [
      "reply: 'HTTP/1.1 200 OK\\r\\n'\n",
      "header: Server: envoy\n",
      "header: Link: <https://media-cdn.tripadvisor.com/media/>;rel=\"preconnect\";crossorigin\n",
      "header: Link: <https://media-cdn.tripadvisor.com/media/>;rel=\"dns-prefetch\"\n",
      "header: p3p: CP=\"NOI CURa ADMa DEVa TAIa OUR BUS IND UNI COM NAV INT DSP COR CAO PSA IDC ADM DEVi TAIi PSD IVAi IVDi CONi HIS CNT\"\n",
      "header: Pragma: no-cache\n",
      "header: Cache-Control: no-cache, no-store, must-revalidate\n",
      "header: Expires: 0\n",
      "header: Content-Language: id\n",
      "header: Link: <https://static.tacdn.com>;rel=\"dns-prefetch\"\n",
      "header: Link: <https://static.tacdn.com>;rel=\"preconnect\";crossorigin\n",
      "header: timing-allow-origin: https://www.tripadvisor.com\n",
      "header: Vary: Accept-Encoding\n",
      "header: Content-Type: text/html;charset=UTF-8\n",
      "header: x-datadome: protected\n",
      "header: Accept-CH: Sec-CH-UA,Sec-CH-UA-Mobile,Sec-CH-UA-Platform,Sec-CH-UA-Arch,Sec-CH-UA-Full-Version-List,Sec-CH-UA-Model,Sec-CH-Device-Memory\n",
      "header: Content-Encoding: gzip\n",
      "header: x-request-id: d8638e01-568f-4a45-987b-c7c40c71face\n",
      "header: Date: Fri, 26 May 2023 00:59:52 GMT\n",
      "header: Transfer-Encoding: chunked\n",
      "header: Connection: keep-alive\n",
      "header: Connection: Transfer-Encoding\n",
      "header: Set-Cookie: TADCID=N8x7BMjOOmeGeg_hABQCXdElnkGETRW-Svh01l3nWnXCaLyf6bugoMOha829EVZmAomw_Rr9v_jsDxdcgmNMdJ510jkOem9-7dQ; Domain=www.tripadvisor.co.id; Expires=Mon, 23-May-2033 00:59:51 GMT; Path=/; Secure; HttpOnly\n",
      "header: Set-Cookie: TAUnique=%1%enc%3AROFSSK9s9rr%2B7H78yfwekiHKVVkteNxIP7q%2FvlapuJQ2jHwltRJPGQ%3D%3D; Domain=.tripadvisor.co.id; Expires=Sun, 25-May-2025 00:59:51 GMT; Path=/; HttpOnly\n",
      "header: Set-Cookie: TASSK=enc%3AAPCDyRZWqXnycvtWDBgPQiAYhCoOrkln8cz41j16ugI%2Fe6TSbLHIj%2FO1n%2FhPwnMGyAM7xnhC1axc6IhxPwYK8XlRVywiaZuRC7XqtoVUyGLP0w2f%2Fdc4TeWzdwvYFE2Teg%3D%3D; Domain=www.tripadvisor.co.id; Expires=Wed, 22-Nov-2023 00:59:52 GMT; Path=/; HttpOnly\n",
      "header: Set-Cookie: TASession=V2ID.041F5572E32F476383718656A8027C17*SQ.1*HS.recommended*ES.popularity*DS.5*SAS.popularity*FPS.oldFirst*LF.in*FA.1*DF.0*TRA.true*LD.2097114; Domain=.tripadvisor.co.id; Path=/\n",
      "header: Set-Cookie: ServerPool=C; Domain=.tripadvisor.co.id; Path=/\n",
      "header: Set-Cookie: PMC=V2*MS.13*MD.20230525*LD.20230525; Domain=www.tripadvisor.co.id; Expires=Sun, 25-May-2025 00:59:52 GMT; Path=/; Secure; HttpOnly\n",
      "header: Set-Cookie: TART=%1%enc%3A%2Fux%2B%2FMn8HpITbaUrSvHk9den879NYBCGzNdEyzjaklsRiBrcoAo94oJxSgj218cs4ieoPdYMDDY%3D; Domain=www.tripadvisor.co.id; Expires=Wed, 31-May-2023 00:59:52 GMT; Path=/; HttpOnly\n",
      "header: Set-Cookie: CM=%1%PremiumMobSess%2C%2C-1%7Ct4b-pc%2C%2C-1%7CRestAds%2FRPers%2C%2C-1%7CRCPers%2C%2C-1%7CWShadeSeen%2C%2C-1%7CTheForkMCCPers%2C%2C-1%7CHomeASess%2C%2C-1%7CPremiumMCSess%2C%2C-1%7CCrisisSess%2C%2C-1%7CUVOwnersSess%2C%2C-1%7CRestPremRSess%2C%2C-1%7CRepTarMCSess%2C%2C-1%7CCCSess%2C%2C-1%7CCYLSess%2C%2C-1%7CPremRetPers%2C%2C-1%7CViatorMCPers%2C%2C-1%7Csesssticker%2C%2C-1%7C%24%2C%2C-1%7CPremiumORSess%2C%2C-1%7Ct4b-sc%2C%2C-1%7CRestAdsPers%2C%2C-1%7CMC_IB_UPSELL_IB_LOGOS2%2C%2C-1%7CTSMCPers%2C%2C-1%7Cb2bmcpers%2C%2C-1%7CPremMCBtmSess%2C%2C-1%7CMC_IB_UPSELL_IB_LOGOS%2C%2C-1%7CLaFourchette+Banners%2C%2C-1%7Csess_rev%2C%2C-1%7Csessamex%2C%2C-1%7CPremiumRRSess%2C%2C-1%7CTADORSess%2C%2C-1%7CAdsRetPers%2C%2C-1%7CListMCSess%2C%2C-1%7CTARSWBPers%2C%2C-1%7CSPMCSess%2C%2C-1%7CTheForkORSess%2C%2C-1%7CTheForkRRSess%2C%2C-1%7Cpers_rev%2C%2C-1%7CRBAPers%2C%2C-1%7CRestAds%2FRSess%2C%2C-1%7CHomeAPers%2C%2C-1%7CPremiumMobPers%2C%2C-1%7CRCSess%2C%2C-1%7CLaFourchette+MC+Banners%2C%2C-1%7CRestAdsCCSess%2C%2C-1%7CRestPremRPers%2C%2C-1%7CRevHubRMPers%2C%2C-1%7CUVOwnersPers%2C%2C-1%7Cpssamex%2C%2C-1%7CTheForkMCCSess%2C%2C-1%7CCrisisPers%2C%2C-1%7CCYLPers%2C%2C-1%7CCCPers%2C%2C-1%7CRepTarMCPers%2C%2C-1%7Cb2bmcsess%2C%2C-1%7CTSMCSess%2C%2C-1%7CSPMCPers%2C%2C-1%7CRevHubRMSess%2C%2C-1%7CPremRetSess%2C%2C-1%7CViatorMCSess%2C%2C-1%7CPremiumMCPers%2C%2C-1%7CAdsRetSess%2C%2C-1%7CPremiumRRPers%2C%2C-1%7CRestAdsCCPers%2C%2C-1%7CTADORPers%2C%2C-1%7CTheForkORPers%2C%2C-1%7CPremMCBtmPers%2C%2C-1%7CTheForkRRPers%2C%2C-1%7CTARSWBSess%2C%2C-1%7CPremiumORPers%2C%2C-1%7CRestAdsSess%2C%2C-1%7CRBASess%2C%2C-1%7CSPORPers%2C%2C-1%7Cperssticker%2C%2C-1%7CListMCPers%2C%2C-1%7C; Domain=.tripadvisor.co.id; Expires=Mon, 23-May-2033 00:59:52 GMT; Path=/\n",
      "header: Set-Cookie: BEPIN=%1%1885591b23e%3Bweb376a.a.tripadvisor.com%3A30023%3B; Domain=.tripadvisor.co.id; Path=/\n",
      "header: Set-Cookie: PAC=AISLvjEdAuh-Mu81xiXWMuKfACUbGAstq-CDJNwpFqljwm7OqKWrjRHffFK2Y88jDo7RDIE5gX5Ppjn252AP_3cOkS2zn0LbZm7_EHBcBtAvdqn4Y5oc80_Fze6Xa1TQVwsYQQ59I5_ZdR7mJ1DAGl6z2AAeGtJeLcgnFY3Uuwt4Ge76Nn9xSq4BKOpI-dx_mMidqY3nVxH2IykJP6HBd1AmeF4I27uJ2Xc9F-2W_1Q-2Of49ps8HSL-EPvVFh37tg%3D%3D; Domain=www.tripadvisor.co.id; Expires=Sun, 25-May-2025 00:59:52 GMT; Path=/; Secure; HttpOnly\n",
      "header: Set-Cookie: SRT=TART_SYNC; Domain=www.tripadvisor.co.id; Expires=Fri, 26-May-2023 01:29:52 GMT; Path=/\n",
      "header: Set-Cookie: TATravelInfo=V2*AY.2023*AM.6*AD.4*DY.2023*DM.6*DD.5*A.2*MG.-1*HP.2*FL.3*DSM.1685062791811*RS.1; Domain=.tripadvisor.co.id; Expires=Fri, 09-Jun-2023 00:59:52 GMT; Path=/\n",
      "header: Set-Cookie: TAUD=LG-1685062791724-2.1.F.*RDD-2-2023_05_26*HDD-3-2023_06_04.2023_06_05.1; Domain=.tripadvisor.co.id; Expires=Fri, 09-Jun-2023 00:59:52 GMT; Path=/\n",
      "header: Set-Cookie: TASID=041F5572E32F476383718656A8027C17; Domain=www.tripadvisor.co.id; Expires=Fri, 26-May-2023 01:29:52 GMT; Path=/; Secure\n",
      "header: Set-Cookie: TAReturnTo=%1%%2FHotel_Review-g1628287-d2097114-Reviews-or35-Suara_Air_Luxury_Villa_Ubud-Melayang_Ubud_Gianyar_Regency_Bali.html; Domain=.tripadvisor.co.id; Path=/\n",
      "header: Set-Cookie: datadome=1TY7uF0AyNRAzIRP1E-NLGpVLfciZzOUUcopUXZxNXmGvEj08H_4yccSUB7Q8t9Sdwe7YwGhh7k-wDnsSe6BDZa3xofeBryRxqASCzcNS5NHW1Spc6TlygVgP0MrybKF; Max-Age=31104000; Domain=.tripadvisor.co.id; Path=/; Secure; SameSite=Lax\n"
     ]
    },
    {
     "name": "stderr",
     "output_type": "stream",
     "text": [
      "DEBUG:urllib3.connectionpool:Starting new HTTPS connection (1): www.tripadvisor.co.id:443\n"
     ]
    },
    {
     "name": "stdout",
     "output_type": "stream",
     "text": [
      "Start Scrapping: Villa 8\n",
      "send: b'GET /Hotel_Review-g469404-d663712-Reviews-or5-Villa_8-Seminyak_Kuta_District_Bali.html HTTP/1.1\\r\\nHost: www.tripadvisor.co.id\\r\\nUser-Agent: Mozilla/5.0 (X11; CrOS x86_64 12871.102.0) AppleWebKit/537.36 (KHTML, like Gecko) Chrome/81.0.4044.141 Safari/537.36\\r\\nAccept-Encoding: gzip, deflate\\r\\nAccept: */*\\r\\nConnection: keep-alive\\r\\n\\r\\n'\n"
     ]
    },
    {
     "name": "stderr",
     "output_type": "stream",
     "text": [
      "DEBUG:urllib3.connectionpool:https://www.tripadvisor.co.id:443 \"GET /Hotel_Review-g469404-d663712-Reviews-or5-Villa_8-Seminyak_Kuta_District_Bali.html HTTP/1.1\" 200 None\n"
     ]
    },
    {
     "name": "stdout",
     "output_type": "stream",
     "text": [
      "reply: 'HTTP/1.1 200 OK\\r\\n'\n",
      "header: Server: envoy\n",
      "header: Link: <https://media-cdn.tripadvisor.com/media/>;rel=\"preconnect\";crossorigin\n",
      "header: Link: <https://media-cdn.tripadvisor.com/media/>;rel=\"dns-prefetch\"\n",
      "header: p3p: CP=\"NOI CURa ADMa DEVa TAIa OUR BUS IND UNI COM NAV INT DSP COR CAO PSA IDC ADM DEVi TAIi PSD IVAi IVDi CONi HIS CNT\"\n",
      "header: Pragma: no-cache\n",
      "header: Cache-Control: no-cache, no-store, must-revalidate\n",
      "header: Expires: 0\n",
      "header: Content-Language: id\n",
      "header: Link: <https://static.tacdn.com>;rel=\"dns-prefetch\"\n",
      "header: Link: <https://static.tacdn.com>;rel=\"preconnect\";crossorigin\n",
      "header: timing-allow-origin: https://www.tripadvisor.com\n",
      "header: Vary: Accept-Encoding\n",
      "header: Content-Type: text/html;charset=UTF-8\n",
      "header: x-datadome: protected\n",
      "header: Accept-CH: Sec-CH-UA,Sec-CH-UA-Mobile,Sec-CH-UA-Platform,Sec-CH-UA-Arch,Sec-CH-UA-Full-Version-List,Sec-CH-UA-Model,Sec-CH-Device-Memory\n",
      "header: Content-Encoding: gzip\n",
      "header: x-request-id: 30dbe935-ef52-4dc5-a44b-08fd5e38587d\n",
      "header: Date: Fri, 26 May 2023 00:59:54 GMT\n",
      "header: Transfer-Encoding: chunked\n",
      "header: Connection: keep-alive\n",
      "header: Connection: Transfer-Encoding\n",
      "header: Set-Cookie: TADCID=czxuuUqCS9WOu2zCABQCXdElnkGETRW-Svh01l3nWnXCaKn5R3l7mH8fhDkjXGoSS7BosnCysazOTbdl5p5_JwnMVfTCHGMp2Oo; Domain=www.tripadvisor.co.id; Expires=Mon, 23-May-2033 00:59:53 GMT; Path=/; Secure; HttpOnly\n",
      "header: Set-Cookie: TAUnique=%1%enc%3ALBUidT4OAAj%2B7H78yfwekiHKVVkteNxIQZMZGmaEvVw2jHwltRJPGQ%3D%3D; Domain=.tripadvisor.co.id; Expires=Sun, 25-May-2025 00:59:53 GMT; Path=/; HttpOnly\n",
      "header: Set-Cookie: TASSK=enc%3AAB8wOvmfMaYcIlp9F05msIahfZdDoahymW2MN2GMCzDNmUFq3NgXy8r0uds%2F%2FSg%2Fz7k5Uv%2BQ721pldAKfoYupgZfXHGX4Cw9FLPq5%2BoDK36Z9J8%2BFAmfPa3MABHFfTqaTw%3D%3D; Domain=www.tripadvisor.co.id; Expires=Wed, 22-Nov-2023 00:59:54 GMT; Path=/; HttpOnly\n",
      "header: Set-Cookie: TASession=V2ID.B2FDB53A384C415997EF47AE5E972A5C*SQ.1*HS.recommended*ES.popularity*DS.5*SAS.popularity*FPS.oldFirst*LF.in*FA.1*DF.0*TRA.true*LD.663712; Domain=.tripadvisor.co.id; Path=/\n",
      "header: Set-Cookie: ServerPool=X; Domain=.tripadvisor.co.id; Path=/\n",
      "header: Set-Cookie: PMC=V2*MS.80*MD.20230525*LD.20230525; Domain=www.tripadvisor.co.id; Expires=Sun, 25-May-2025 00:59:54 GMT; Path=/; Secure; HttpOnly\n",
      "header: Set-Cookie: TART=%1%enc%3A%2Fux%2B%2FMn8HpKK0%2FB4psc8gfPJNcVqs1wGZZ0UeWVmIBROdU463dQKQCQphlONYK3t5jVki%2Fentws%3D; Domain=www.tripadvisor.co.id; Expires=Wed, 31-May-2023 00:59:54 GMT; Path=/; HttpOnly\n",
      "header: Set-Cookie: CM=%1%PremiumMobSess%2C%2C-1%7Ct4b-pc%2C%2C-1%7CRestAds%2FRPers%2C%2C-1%7CRCPers%2C%2C-1%7CWShadeSeen%2C%2C-1%7CTheForkMCCPers%2C%2C-1%7CHomeASess%2C%2C-1%7CPremiumMCSess%2C%2C-1%7CCrisisSess%2C%2C-1%7CUVOwnersSess%2C%2C-1%7CRestPremRSess%2C%2C-1%7CRepTarMCSess%2C%2C-1%7CCCSess%2C%2C-1%7CCYLSess%2C%2C-1%7CPremRetPers%2C%2C-1%7CViatorMCPers%2C%2C-1%7Csesssticker%2C%2C-1%7C%24%2C%2C-1%7CPremiumORSess%2C%2C-1%7Ct4b-sc%2C%2C-1%7CRestAdsPers%2C%2C-1%7CMC_IB_UPSELL_IB_LOGOS2%2C%2C-1%7CTSMCPers%2C%2C-1%7Cb2bmcpers%2C%2C-1%7CPremMCBtmSess%2C%2C-1%7CMC_IB_UPSELL_IB_LOGOS%2C%2C-1%7CLaFourchette+Banners%2C%2C-1%7Csess_rev%2C%2C-1%7Csessamex%2C%2C-1%7CPremiumRRSess%2C%2C-1%7CTADORSess%2C%2C-1%7CAdsRetPers%2C%2C-1%7CListMCSess%2C%2C-1%7CTARSWBPers%2C%2C-1%7CSPMCSess%2C%2C-1%7CTheForkORSess%2C%2C-1%7CTheForkRRSess%2C%2C-1%7Cpers_rev%2C%2C-1%7CRBAPers%2C%2C-1%7CRestAds%2FRSess%2C%2C-1%7CHomeAPers%2C%2C-1%7CPremiumMobPers%2C%2C-1%7CRCSess%2C%2C-1%7CLaFourchette+MC+Banners%2C%2C-1%7CRestAdsCCSess%2C%2C-1%7CRestPremRPers%2C%2C-1%7CRevHubRMPers%2C%2C-1%7CUVOwnersPers%2C%2C-1%7Cpssamex%2C%2C-1%7CTheForkMCCSess%2C%2C-1%7CCrisisPers%2C%2C-1%7CCYLPers%2C%2C-1%7CCCPers%2C%2C-1%7CRepTarMCPers%2C%2C-1%7Cb2bmcsess%2C%2C-1%7CTSMCSess%2C%2C-1%7CSPMCPers%2C%2C-1%7CRevHubRMSess%2C%2C-1%7CPremRetSess%2C%2C-1%7CViatorMCSess%2C%2C-1%7CPremiumMCPers%2C%2C-1%7CAdsRetSess%2C%2C-1%7CPremiumRRPers%2C%2C-1%7CRestAdsCCPers%2C%2C-1%7CTADORPers%2C%2C-1%7CTheForkORPers%2C%2C-1%7CPremMCBtmPers%2C%2C-1%7CTheForkRRPers%2C%2C-1%7CTARSWBSess%2C%2C-1%7CPremiumORPers%2C%2C-1%7CRestAdsSess%2C%2C-1%7CRBASess%2C%2C-1%7CSPORPers%2C%2C-1%7Cperssticker%2C%2C-1%7CListMCPers%2C%2C-1%7C; Domain=.tripadvisor.co.id; Expires=Mon, 23-May-2033 00:59:54 GMT; Path=/\n",
      "header: Set-Cookie: BEPIN=%1%1885591b925%3Bweb276a.a.tripadvisor.com%3A30023%3B; Domain=.tripadvisor.co.id; Path=/\n",
      "header: Set-Cookie: PAC=AP5o9_m9z3qjgg83xT8TEyuJYnUR9bb7nP-L9SkWKgjChCbW57RlOBAE16W6xeFGbHKF1JFO31GMmDYnqF5wRPqeSNT4FkMDN59QQyFLsxL8_Mmsw_NM_Auy5BcWuk6Pg7qq2XPPncL76JTwEZRSICghOoPdNDT2VtiZA_jdLxgy83HdSZ7_PnihssTtINYoGS4d_yktZ1OZiA4oqgn5p9M%3D; Domain=www.tripadvisor.co.id; Expires=Sun, 25-May-2025 00:59:54 GMT; Path=/; Secure; HttpOnly\n",
      "header: Set-Cookie: SRT=TART_SYNC; Domain=www.tripadvisor.co.id; Expires=Fri, 26-May-2023 01:29:54 GMT; Path=/\n",
      "header: Set-Cookie: TATravelInfo=V2*AY.2023*AM.6*AD.4*DY.2023*DM.6*DD.5*A.2*MG.-1*HP.2*FL.3*DSM.1685062793630*RS.1; Domain=.tripadvisor.co.id; Expires=Fri, 09-Jun-2023 00:59:54 GMT; Path=/\n",
      "header: Set-Cookie: TAUD=LG-1685062793488-2.1.F.*RDD-2-2023_05_26*HDD-3-2023_06_04.2023_06_05.1; Domain=.tripadvisor.co.id; Expires=Fri, 09-Jun-2023 00:59:54 GMT; Path=/\n",
      "header: Set-Cookie: TASID=B2FDB53A384C415997EF47AE5E972A5C; Domain=www.tripadvisor.co.id; Expires=Fri, 26-May-2023 01:29:54 GMT; Path=/; Secure\n",
      "header: Set-Cookie: TAReturnTo=%1%%2FHotel_Review-g469404-d663712-Reviews-or5-Villa_8-Seminyak_Kuta_District_Bali.html; Domain=.tripadvisor.co.id; Path=/\n",
      "header: Set-Cookie: datadome=51M1RZVVF0sNHFMzwlaLEev~j9WX3yzDPLnuKCJWq9an2GDaoc7LsHFyQ2dUt3CRHoW-CzeZfI8M50~2c4Un2EtL3jRFzlsYl5VxdXoWwvnYGsDlAXXZz1lTMWFubqQU; Max-Age=31104000; Domain=.tripadvisor.co.id; Path=/; Secure; SameSite=Lax\n",
      "Done Scrapping Villa 8 page 1\n",
      "\n",
      "\n"
     ]
    },
    {
     "name": "stderr",
     "output_type": "stream",
     "text": [
      "DEBUG:urllib3.connectionpool:Starting new HTTPS connection (1): www.tripadvisor.co.id:443\n"
     ]
    },
    {
     "name": "stdout",
     "output_type": "stream",
     "text": [
      "send: b'GET /Hotel_Review-g469404-d663712-Reviews-or10-Villa_8-Seminyak_Kuta_District_Bali.html HTTP/1.1\\r\\nHost: www.tripadvisor.co.id\\r\\nUser-Agent: Mozilla/5.0 (X11; CrOS x86_64 12871.102.0) AppleWebKit/537.36 (KHTML, like Gecko) Chrome/81.0.4044.141 Safari/537.36\\r\\nAccept-Encoding: gzip, deflate\\r\\nAccept: */*\\r\\nConnection: keep-alive\\r\\n\\r\\n'\n"
     ]
    },
    {
     "name": "stderr",
     "output_type": "stream",
     "text": [
      "DEBUG:urllib3.connectionpool:https://www.tripadvisor.co.id:443 \"GET /Hotel_Review-g469404-d663712-Reviews-or10-Villa_8-Seminyak_Kuta_District_Bali.html HTTP/1.1\" 200 None\n"
     ]
    },
    {
     "name": "stdout",
     "output_type": "stream",
     "text": [
      "reply: 'HTTP/1.1 200 OK\\r\\n'\n",
      "header: Server: envoy\n",
      "header: Link: <https://media-cdn.tripadvisor.com/media/>;rel=\"preconnect\";crossorigin\n",
      "header: Link: <https://media-cdn.tripadvisor.com/media/>;rel=\"dns-prefetch\"\n",
      "header: p3p: CP=\"NOI CURa ADMa DEVa TAIa OUR BUS IND UNI COM NAV INT DSP COR CAO PSA IDC ADM DEVi TAIi PSD IVAi IVDi CONi HIS CNT\"\n",
      "header: Pragma: no-cache\n",
      "header: Cache-Control: no-cache, no-store, must-revalidate\n",
      "header: Expires: 0\n",
      "header: Content-Language: id\n",
      "header: Link: <https://static.tacdn.com>;rel=\"dns-prefetch\"\n",
      "header: Link: <https://static.tacdn.com>;rel=\"preconnect\";crossorigin\n",
      "header: timing-allow-origin: https://www.tripadvisor.com\n",
      "header: Vary: Accept-Encoding\n",
      "header: Content-Type: text/html;charset=UTF-8\n",
      "header: Accept-CH: Sec-CH-UA,Sec-CH-UA-Mobile,Sec-CH-UA-Platform,Sec-CH-UA-Arch,Sec-CH-UA-Full-Version-List,Sec-CH-UA-Model,Sec-CH-Device-Memory\n",
      "header: x-datadome: protected\n",
      "header: Content-Encoding: gzip\n",
      "header: x-request-id: 5f655c6e-4a0f-45d1-8459-6f8ad0c1e9ec\n",
      "header: Date: Fri, 26 May 2023 01:00:04 GMT\n",
      "header: Transfer-Encoding: chunked\n",
      "header: Connection: keep-alive\n",
      "header: Connection: Transfer-Encoding\n",
      "header: Set-Cookie: TADCID=_WOTI9wENB19t4fxABQCXdElnkGETRW-Svh01l3nWnXCaeAD6kCg0wC_PWwUxkNaib4PWH3sOcPh9xtze0uFObcfGUS9IJRQz_E; Domain=www.tripadvisor.co.id; Expires=Mon, 23-May-2033 01:00:03 GMT; Path=/; Secure; HttpOnly\n",
      "header: Set-Cookie: TAUnique=%1%enc%3A7zweuZcTl2f%2B7H78yfwekiHKVVkteNxIz0VIVwGIiwk2jHwltRJPGQ%3D%3D; Domain=.tripadvisor.co.id; Expires=Sun, 25-May-2025 01:00:03 GMT; Path=/; HttpOnly\n",
      "header: Set-Cookie: TASSK=enc%3AACubYiKkfk2zcVNYwO1XAtJPIw3m5vDu2Eqd2Z4mUzswZNujkT8B8PXVSaKUW33iffMlDsPuQYq5R62zYMymcQ09NzeGtg5rl%2BjiwNXLavVXj0vManrrfXVtuz5OkNSUbA%3D%3D; Domain=www.tripadvisor.co.id; Expires=Wed, 22-Nov-2023 01:00:04 GMT; Path=/; HttpOnly\n",
      "header: Set-Cookie: TASession=V2ID.D8E2FA12BCD64C00BBD49260E758F1F0*SQ.1*HS.recommended*ES.popularity*DS.5*SAS.popularity*FPS.oldFirst*LF.in*FA.1*DF.0*TRA.true*LD.663712; Domain=.tripadvisor.co.id; Path=/\n",
      "header: Set-Cookie: ServerPool=T; Domain=.tripadvisor.co.id; Path=/\n",
      "header: Set-Cookie: PMC=V2*MS.90*MD.20230525*LD.20230525; Domain=www.tripadvisor.co.id; Expires=Sun, 25-May-2025 01:00:04 GMT; Path=/; Secure; HttpOnly\n",
      "header: Set-Cookie: TART=%1%enc%3A%2Fux%2B%2FMn8HpJyF9CqvanUco7fAUkZdrfWkPUfcnKH6Iy642McCiKnHl6WFL97%2BhJGUHBdG3udNiw%3D; Domain=www.tripadvisor.co.id; Expires=Wed, 31-May-2023 01:00:04 GMT; Path=/; HttpOnly\n",
      "header: Set-Cookie: CM=%1%PremiumMobSess%2C%2C-1%7Ct4b-pc%2C%2C-1%7CRestAds%2FRPers%2C%2C-1%7CRCPers%2C%2C-1%7CWShadeSeen%2C%2C-1%7CTheForkMCCPers%2C%2C-1%7CHomeASess%2C%2C-1%7CPremiumMCSess%2C%2C-1%7CCrisisSess%2C%2C-1%7CUVOwnersSess%2C%2C-1%7CRestPremRSess%2C%2C-1%7CRepTarMCSess%2C%2C-1%7CCCSess%2C%2C-1%7CCYLSess%2C%2C-1%7CPremRetPers%2C%2C-1%7CViatorMCPers%2C%2C-1%7Csesssticker%2C%2C-1%7C%24%2C%2C-1%7CPremiumORSess%2C%2C-1%7Ct4b-sc%2C%2C-1%7CRestAdsPers%2C%2C-1%7CMC_IB_UPSELL_IB_LOGOS2%2C%2C-1%7CTSMCPers%2C%2C-1%7Cb2bmcpers%2C%2C-1%7CPremMCBtmSess%2C%2C-1%7CMC_IB_UPSELL_IB_LOGOS%2C%2C-1%7CLaFourchette+Banners%2C%2C-1%7Csess_rev%2C%2C-1%7Csessamex%2C%2C-1%7CPremiumRRSess%2C%2C-1%7CTADORSess%2C%2C-1%7CAdsRetPers%2C%2C-1%7CListMCSess%2C%2C-1%7CTARSWBPers%2C%2C-1%7CSPMCSess%2C%2C-1%7CTheForkORSess%2C%2C-1%7CTheForkRRSess%2C%2C-1%7Cpers_rev%2C%2C-1%7CRBAPers%2C%2C-1%7CRestAds%2FRSess%2C%2C-1%7CHomeAPers%2C%2C-1%7CPremiumMobPers%2C%2C-1%7CRCSess%2C%2C-1%7CLaFourchette+MC+Banners%2C%2C-1%7CRestAdsCCSess%2C%2C-1%7CRestPremRPers%2C%2C-1%7CRevHubRMPers%2C%2C-1%7CUVOwnersPers%2C%2C-1%7Cpssamex%2C%2C-1%7CTheForkMCCSess%2C%2C-1%7CCrisisPers%2C%2C-1%7CCYLPers%2C%2C-1%7CCCPers%2C%2C-1%7CRepTarMCPers%2C%2C-1%7Cb2bmcsess%2C%2C-1%7CTSMCSess%2C%2C-1%7CSPMCPers%2C%2C-1%7CRevHubRMSess%2C%2C-1%7CPremRetSess%2C%2C-1%7CViatorMCSess%2C%2C-1%7CPremiumMCPers%2C%2C-1%7CAdsRetSess%2C%2C-1%7CPremiumRRPers%2C%2C-1%7CRestAdsCCPers%2C%2C-1%7CTADORPers%2C%2C-1%7CTheForkORPers%2C%2C-1%7CPremMCBtmPers%2C%2C-1%7CTheForkRRPers%2C%2C-1%7CTARSWBSess%2C%2C-1%7CPremiumORPers%2C%2C-1%7CRestAdsSess%2C%2C-1%7CRBASess%2C%2C-1%7CSPORPers%2C%2C-1%7Cperssticker%2C%2C-1%7CListMCPers%2C%2C-1%7C; Domain=.tripadvisor.co.id; Expires=Mon, 23-May-2033 01:00:04 GMT; Path=/\n",
      "header: Set-Cookie: BEPIN=%1%1885591e18c%3Bweb379a.a.tripadvisor.com%3A30023%3B; Domain=.tripadvisor.co.id; Path=/\n",
      "header: Set-Cookie: PAC=AKZbOqvCoxy_EgYD6bvf1Wn5GJ8lOHYzd8lEKqLFDt_t1jYee7GfstaIcWvlqNtgmCM7qb8SVej-xyZhcmF_jT2ApJCEEcxCWrqgPLMije1fSP61wNFxlgutM_rxEWVbFIkQo0bKQwtjYhzF39LN_mfn-g0rEC1fNfnImITJiiF0sbyfaDbJoJbopeEWJBAXdJEHSR9Mhh9JBHRnvtuu1v4%3D; Domain=www.tripadvisor.co.id; Expires=Sun, 25-May-2025 01:00:04 GMT; Path=/; Secure; HttpOnly\n",
      "header: Set-Cookie: SRT=TART_SYNC; Domain=www.tripadvisor.co.id; Expires=Fri, 26-May-2023 01:30:04 GMT; Path=/\n",
      "header: Set-Cookie: TATravelInfo=V2*AY.2023*AM.6*AD.4*DY.2023*DM.6*DD.5*A.2*MG.-1*HP.2*FL.3*DSM.1685062803939*RS.1; Domain=.tripadvisor.co.id; Expires=Fri, 09-Jun-2023 01:00:04 GMT; Path=/\n",
      "header: Set-Cookie: TAUD=LG-1685062803835-2.1.F.*RDD-2-2023_05_26*HDD-3-2023_06_04.2023_06_05.1; Domain=.tripadvisor.co.id; Expires=Fri, 09-Jun-2023 01:00:04 GMT; Path=/\n",
      "header: Set-Cookie: TASID=D8E2FA12BCD64C00BBD49260E758F1F0; Domain=www.tripadvisor.co.id; Expires=Fri, 26-May-2023 01:30:04 GMT; Path=/; Secure\n",
      "header: Set-Cookie: TAReturnTo=%1%%2FHotel_Review-g469404-d663712-Reviews-or10-Villa_8-Seminyak_Kuta_District_Bali.html; Domain=.tripadvisor.co.id; Path=/\n",
      "header: Set-Cookie: datadome=5xMOvZ9snvoCdsbwXRZ8zUmAbb0Ga0vmuGM1ED6GMUraLkdFKsKgjv8_bqmPXCQPNP_jFDG~~GITVQBLmaoOi_m-WdxBDK0cuNRcEmu21sfgdLxXVqQre9LE-lOUu9sb; Max-Age=31104000; Domain=.tripadvisor.co.id; Path=/; Secure; SameSite=Lax\n",
      "Done Scrapping Villa 8 page 2\n",
      "\n",
      "\n"
     ]
    },
    {
     "name": "stderr",
     "output_type": "stream",
     "text": [
      "DEBUG:urllib3.connectionpool:Starting new HTTPS connection (1): www.tripadvisor.co.id:443\n"
     ]
    },
    {
     "name": "stdout",
     "output_type": "stream",
     "text": [
      "send: b'GET /Hotel_Review-g469404-d663712-Reviews-or15-Villa_8-Seminyak_Kuta_District_Bali.html HTTP/1.1\\r\\nHost: www.tripadvisor.co.id\\r\\nUser-Agent: Mozilla/5.0 (X11; CrOS x86_64 12871.102.0) AppleWebKit/537.36 (KHTML, like Gecko) Chrome/81.0.4044.141 Safari/537.36\\r\\nAccept-Encoding: gzip, deflate\\r\\nAccept: */*\\r\\nConnection: keep-alive\\r\\n\\r\\n'\n"
     ]
    },
    {
     "name": "stderr",
     "output_type": "stream",
     "text": [
      "DEBUG:urllib3.connectionpool:https://www.tripadvisor.co.id:443 \"GET /Hotel_Review-g469404-d663712-Reviews-or15-Villa_8-Seminyak_Kuta_District_Bali.html HTTP/1.1\" 200 None\n"
     ]
    },
    {
     "name": "stdout",
     "output_type": "stream",
     "text": [
      "reply: 'HTTP/1.1 200 OK\\r\\n'\n",
      "header: Server: envoy\n",
      "header: Link: <https://media-cdn.tripadvisor.com/media/>;rel=\"preconnect\";crossorigin\n",
      "header: Link: <https://media-cdn.tripadvisor.com/media/>;rel=\"dns-prefetch\"\n",
      "header: p3p: CP=\"NOI CURa ADMa DEVa TAIa OUR BUS IND UNI COM NAV INT DSP COR CAO PSA IDC ADM DEVi TAIi PSD IVAi IVDi CONi HIS CNT\"\n",
      "header: Pragma: no-cache\n",
      "header: Cache-Control: no-cache, no-store, must-revalidate\n",
      "header: Expires: 0\n",
      "header: Content-Language: id\n",
      "header: Link: <https://static.tacdn.com>;rel=\"dns-prefetch\"\n",
      "header: Link: <https://static.tacdn.com>;rel=\"preconnect\";crossorigin\n",
      "header: timing-allow-origin: https://www.tripadvisor.com\n",
      "header: Vary: Accept-Encoding\n",
      "header: Content-Type: text/html;charset=UTF-8\n",
      "header: Content-Encoding: gzip\n",
      "header: x-request-id: 9df052d6-2468-446f-bb8d-4a3c2a0a96c0\n",
      "header: Date: Fri, 26 May 2023 01:00:09 GMT\n",
      "header: Transfer-Encoding: chunked\n",
      "header: Connection: keep-alive\n",
      "header: Connection: Transfer-Encoding\n",
      "header: Set-Cookie: TADCID=GqlSXC15jjx2J3rhABQCXdElnkGETRW-Svh01l3nWnXCaV3PC05FYDQ_jRPS644wcXh6a1fp8Y0C56KHz7ZKh2GeiTk9-tmBt9I; Domain=www.tripadvisor.co.id; Expires=Mon, 23-May-2033 01:00:08 GMT; Path=/; Secure; HttpOnly\n",
      "header: Set-Cookie: TAUnique=%1%enc%3AMmnSYK198Zj%2B7H78yfwekiHKVVkteNxIul0saHlQtlc2jHwltRJPGQ%3D%3D; Domain=.tripadvisor.co.id; Expires=Sun, 25-May-2025 01:00:08 GMT; Path=/; HttpOnly\n",
      "header: Set-Cookie: TASSK=enc%3AAKOcgVdRUR7U8yW6sNZ153dQP1atNDj9Skij5KKO%2Fd6oHtgylLejFZFBIsAYxIYImu7Ue8vIG0AHTdNqAQ4lYjtYaiBEG4p%2F7tlvdhAZIGRtgdmXo%2Bj6IVvtOy9IR1Yhng%3D%3D; Domain=www.tripadvisor.co.id; Expires=Wed, 22-Nov-2023 01:00:09 GMT; Path=/; HttpOnly\n",
      "header: Set-Cookie: TASession=V2ID.29B8BF6FAF7C4C64A47671D127E28438*SQ.1*HS.recommended*ES.popularity*DS.5*SAS.popularity*FPS.oldFirst*LF.in*FA.1*DF.0*TRA.true*LD.663712; Domain=.tripadvisor.co.id; Path=/\n",
      "header: Set-Cookie: ServerPool=B; Domain=.tripadvisor.co.id; Path=/\n",
      "header: Set-Cookie: PMC=V2*MS.36*MD.20230525*LD.20230525; Domain=www.tripadvisor.co.id; Expires=Sun, 25-May-2025 01:00:09 GMT; Path=/; Secure; HttpOnly\n",
      "header: Set-Cookie: TART=%1%enc%3A%2Fux%2B%2FMn8HpJEQwyXUN06Phxx0X7qlkj0jdpS6uLT6y8YQSbc8gQBIhNri6I6%2FdKvJ7r1iEgl44g%3D; Domain=www.tripadvisor.co.id; Expires=Wed, 31-May-2023 01:00:09 GMT; Path=/; HttpOnly\n",
      "header: Set-Cookie: CM=%1%PremiumMobSess%2C%2C-1%7Ct4b-pc%2C%2C-1%7CRestAds%2FRPers%2C%2C-1%7CRCPers%2C%2C-1%7CWShadeSeen%2C%2C-1%7CTheForkMCCPers%2C%2C-1%7CHomeASess%2C%2C-1%7CPremiumMCSess%2C%2C-1%7CCrisisSess%2C%2C-1%7CUVOwnersSess%2C%2C-1%7CRestPremRSess%2C%2C-1%7CRepTarMCSess%2C%2C-1%7CCCSess%2C%2C-1%7CCYLSess%2C%2C-1%7CPremRetPers%2C%2C-1%7CViatorMCPers%2C%2C-1%7Csesssticker%2C%2C-1%7C%24%2C%2C-1%7CPremiumORSess%2C%2C-1%7Ct4b-sc%2C%2C-1%7CRestAdsPers%2C%2C-1%7CMC_IB_UPSELL_IB_LOGOS2%2C%2C-1%7CTSMCPers%2C%2C-1%7Cb2bmcpers%2C%2C-1%7CPremMCBtmSess%2C%2C-1%7CMC_IB_UPSELL_IB_LOGOS%2C%2C-1%7CLaFourchette+Banners%2C%2C-1%7Csess_rev%2C%2C-1%7Csessamex%2C%2C-1%7CPremiumRRSess%2C%2C-1%7CTADORSess%2C%2C-1%7CAdsRetPers%2C%2C-1%7CListMCSess%2C%2C-1%7CTARSWBPers%2C%2C-1%7CSPMCSess%2C%2C-1%7CTheForkORSess%2C%2C-1%7CTheForkRRSess%2C%2C-1%7Cpers_rev%2C%2C-1%7CRBAPers%2C%2C-1%7CRestAds%2FRSess%2C%2C-1%7CHomeAPers%2C%2C-1%7CPremiumMobPers%2C%2C-1%7CRCSess%2C%2C-1%7CLaFourchette+MC+Banners%2C%2C-1%7CRestAdsCCSess%2C%2C-1%7CRestPremRPers%2C%2C-1%7CRevHubRMPers%2C%2C-1%7CUVOwnersPers%2C%2C-1%7Cpssamex%2C%2C-1%7CTheForkMCCSess%2C%2C-1%7CCrisisPers%2C%2C-1%7CCYLPers%2C%2C-1%7CCCPers%2C%2C-1%7CRepTarMCPers%2C%2C-1%7Cb2bmcsess%2C%2C-1%7CTSMCSess%2C%2C-1%7CSPMCPers%2C%2C-1%7CRevHubRMSess%2C%2C-1%7CPremRetSess%2C%2C-1%7CViatorMCSess%2C%2C-1%7CPremiumMCPers%2C%2C-1%7CAdsRetSess%2C%2C-1%7CPremiumRRPers%2C%2C-1%7CRestAdsCCPers%2C%2C-1%7CTADORPers%2C%2C-1%7CTheForkORPers%2C%2C-1%7CPremMCBtmPers%2C%2C-1%7CTheForkRRPers%2C%2C-1%7CTARSWBSess%2C%2C-1%7CPremiumORPers%2C%2C-1%7CRestAdsSess%2C%2C-1%7CRBASess%2C%2C-1%7CSPORPers%2C%2C-1%7Cperssticker%2C%2C-1%7CListMCPers%2C%2C-1%7C; Domain=.tripadvisor.co.id; Expires=Mon, 23-May-2033 01:00:09 GMT; Path=/\n",
      "header: Set-Cookie: BEPIN=%1%1885591f4d2%3Bweb211a.a.tripadvisor.com%3A30023%3B; Domain=.tripadvisor.co.id; Path=/\n",
      "header: Set-Cookie: PAC=AOqf5En4LkxshTYkYrhZjwmL-ZLad1t4-QXNtQk61P1_qolAV0MqHpDhYfhFYx1qe09p3odd2ElntKy9eMLRU64CXO5aH5P6ZlivxLUba9M5NOeCxQtZuUAFtLuLXi5ZLPTD2vFcmKnp3BHfWn0JJZYpF48MhHmRKvICD6dJoCBnIpl1R0DLp145zx8GCeQYGBjueQ_VhU9t5tOykxRtRSA%3D; Domain=www.tripadvisor.co.id; Expires=Sun, 25-May-2025 01:00:09 GMT; Path=/; Secure; HttpOnly\n",
      "header: Set-Cookie: SRT=TART_SYNC; Domain=www.tripadvisor.co.id; Expires=Fri, 26-May-2023 01:30:09 GMT; Path=/\n",
      "header: Set-Cookie: TATravelInfo=V2*AY.2023*AM.6*AD.4*DY.2023*DM.6*DD.5*A.2*MG.-1*HP.2*FL.3*DSM.1685062808874*RS.1; Domain=.tripadvisor.co.id; Expires=Fri, 09-Jun-2023 01:00:09 GMT; Path=/\n",
      "header: Set-Cookie: TAUD=LG-1685062808755-2.1.F.*RDD-2-2023_05_26*HDD-3-2023_06_04.2023_06_05.1; Domain=.tripadvisor.co.id; Expires=Fri, 09-Jun-2023 01:00:09 GMT; Path=/\n",
      "header: Set-Cookie: TASID=29B8BF6FAF7C4C64A47671D127E28438; Domain=www.tripadvisor.co.id; Expires=Fri, 26-May-2023 01:30:09 GMT; Path=/; Secure\n",
      "header: Set-Cookie: TAReturnTo=%1%%2FHotel_Review-g469404-d663712-Reviews-or15-Villa_8-Seminyak_Kuta_District_Bali.html; Domain=.tripadvisor.co.id; Path=/\n",
      "Done Scrapping Villa 8 page 3\n",
      "\n",
      "\n"
     ]
    },
    {
     "name": "stderr",
     "output_type": "stream",
     "text": [
      "DEBUG:urllib3.connectionpool:Starting new HTTPS connection (1): www.tripadvisor.co.id:443\n"
     ]
    },
    {
     "name": "stdout",
     "output_type": "stream",
     "text": [
      "send: b'GET /Hotel_Review-g469404-d663712-Reviews-or20-Villa_8-Seminyak_Kuta_District_Bali.html HTTP/1.1\\r\\nHost: www.tripadvisor.co.id\\r\\nUser-Agent: Mozilla/5.0 (X11; CrOS x86_64 12871.102.0) AppleWebKit/537.36 (KHTML, like Gecko) Chrome/81.0.4044.141 Safari/537.36\\r\\nAccept-Encoding: gzip, deflate\\r\\nAccept: */*\\r\\nConnection: keep-alive\\r\\n\\r\\n'\n"
     ]
    },
    {
     "name": "stderr",
     "output_type": "stream",
     "text": [
      "DEBUG:urllib3.connectionpool:https://www.tripadvisor.co.id:443 \"GET /Hotel_Review-g469404-d663712-Reviews-or20-Villa_8-Seminyak_Kuta_District_Bali.html HTTP/1.1\" 200 None\n"
     ]
    },
    {
     "name": "stdout",
     "output_type": "stream",
     "text": [
      "reply: 'HTTP/1.1 200 OK\\r\\n'\n",
      "header: Server: envoy\n",
      "header: Link: <https://media-cdn.tripadvisor.com/media/>;rel=\"preconnect\";crossorigin\n",
      "header: Link: <https://media-cdn.tripadvisor.com/media/>;rel=\"dns-prefetch\"\n",
      "header: p3p: CP=\"NOI CURa ADMa DEVa TAIa OUR BUS IND UNI COM NAV INT DSP COR CAO PSA IDC ADM DEVi TAIi PSD IVAi IVDi CONi HIS CNT\"\n",
      "header: Pragma: no-cache\n",
      "header: Cache-Control: no-cache, no-store, must-revalidate\n",
      "header: Expires: 0\n",
      "header: Content-Language: id\n",
      "header: Link: <https://static.tacdn.com>;rel=\"dns-prefetch\"\n",
      "header: Link: <https://static.tacdn.com>;rel=\"preconnect\";crossorigin\n",
      "header: timing-allow-origin: https://www.tripadvisor.com\n",
      "header: Vary: Accept-Encoding\n",
      "header: Content-Type: text/html;charset=UTF-8\n",
      "header: x-datadome: protected\n",
      "header: Accept-CH: Sec-CH-UA,Sec-CH-UA-Mobile,Sec-CH-UA-Platform,Sec-CH-UA-Arch,Sec-CH-UA-Full-Version-List,Sec-CH-UA-Model,Sec-CH-Device-Memory\n",
      "header: Content-Encoding: gzip\n",
      "header: x-request-id: ecad1de3-2294-4786-ae48-57808ffc396e\n",
      "header: Date: Fri, 26 May 2023 01:00:13 GMT\n",
      "header: Transfer-Encoding: chunked\n",
      "header: Connection: keep-alive\n",
      "header: Connection: Transfer-Encoding\n",
      "header: Set-Cookie: TADCID=yXOLyhpNCqu01BVvABQCXdElnkGETRW-Svh01l3nWnXCafnIsI8SjWhQ6C-bvrXMRJrLHZZDxvwWtg87nuHUPb17yLAnGp4fcL0; Domain=www.tripadvisor.co.id; Expires=Mon, 23-May-2033 01:00:13 GMT; Path=/; Secure; HttpOnly\n",
      "header: Set-Cookie: TAUnique=%1%enc%3AayfAkwbJJef%2B7H78yfwekiHKVVkteNxI%2FkdhkopmXeY2jHwltRJPGQ%3D%3D; Domain=.tripadvisor.co.id; Expires=Sun, 25-May-2025 01:00:13 GMT; Path=/; HttpOnly\n",
      "header: Set-Cookie: TASSK=enc%3AANZVNpe3zwFYld8pVEdzRPAM5lZmlvJqRWVAxcYirOgkKjg8dtx13ccFmmGs8cnz6LE7qq4BgyOnNHRVcT5qQ12%2FbnpRA1YnMkD%2FAO1iJyqUjY33N%2B0PB89vB2iZVZ4orw%3D%3D; Domain=www.tripadvisor.co.id; Expires=Wed, 22-Nov-2023 01:00:13 GMT; Path=/; HttpOnly\n",
      "header: Set-Cookie: TASession=V2ID.358C7FAB647A4C1CB459B4B89E2C128A*SQ.1*HS.recommended*ES.popularity*DS.5*SAS.popularity*FPS.oldFirst*LF.in*FA.1*DF.0*TRA.true*LD.663712; Domain=.tripadvisor.co.id; Path=/\n",
      "header: Set-Cookie: ServerPool=C; Domain=.tripadvisor.co.id; Path=/\n",
      "header: Set-Cookie: PMC=V2*MS.10*MD.20230525*LD.20230525; Domain=www.tripadvisor.co.id; Expires=Sun, 25-May-2025 01:00:13 GMT; Path=/; Secure; HttpOnly\n",
      "header: Set-Cookie: TART=%1%enc%3A%2Fux%2B%2FMn8HpLMAsfwhDbFEFhE4838GaAi7OPKBCzi80OSQN8mihlhgPYxmbZomiiXRsNr41gHGgI%3D; Domain=www.tripadvisor.co.id; Expires=Wed, 31-May-2023 01:00:13 GMT; Path=/; HttpOnly\n",
      "header: Set-Cookie: CM=%1%PremiumMobSess%2C%2C-1%7Ct4b-pc%2C%2C-1%7CRestAds%2FRPers%2C%2C-1%7CRCPers%2C%2C-1%7CWShadeSeen%2C%2C-1%7CTheForkMCCPers%2C%2C-1%7CHomeASess%2C%2C-1%7CPremiumMCSess%2C%2C-1%7CCrisisSess%2C%2C-1%7CUVOwnersSess%2C%2C-1%7CRestPremRSess%2C%2C-1%7CRepTarMCSess%2C%2C-1%7CCCSess%2C%2C-1%7CCYLSess%2C%2C-1%7CPremRetPers%2C%2C-1%7CViatorMCPers%2C%2C-1%7Csesssticker%2C%2C-1%7C%24%2C%2C-1%7CPremiumORSess%2C%2C-1%7Ct4b-sc%2C%2C-1%7CRestAdsPers%2C%2C-1%7CMC_IB_UPSELL_IB_LOGOS2%2C%2C-1%7CTSMCPers%2C%2C-1%7Cb2bmcpers%2C%2C-1%7CPremMCBtmSess%2C%2C-1%7CMC_IB_UPSELL_IB_LOGOS%2C%2C-1%7CLaFourchette+Banners%2C%2C-1%7Csess_rev%2C%2C-1%7Csessamex%2C%2C-1%7CPremiumRRSess%2C%2C-1%7CTADORSess%2C%2C-1%7CAdsRetPers%2C%2C-1%7CListMCSess%2C%2C-1%7CTARSWBPers%2C%2C-1%7CSPMCSess%2C%2C-1%7CTheForkORSess%2C%2C-1%7CTheForkRRSess%2C%2C-1%7Cpers_rev%2C%2C-1%7CRBAPers%2C%2C-1%7CRestAds%2FRSess%2C%2C-1%7CHomeAPers%2C%2C-1%7CPremiumMobPers%2C%2C-1%7CRCSess%2C%2C-1%7CLaFourchette+MC+Banners%2C%2C-1%7CRestAdsCCSess%2C%2C-1%7CRestPremRPers%2C%2C-1%7CRevHubRMPers%2C%2C-1%7CUVOwnersPers%2C%2C-1%7Cpssamex%2C%2C-1%7CTheForkMCCSess%2C%2C-1%7CCrisisPers%2C%2C-1%7CCYLPers%2C%2C-1%7CCCPers%2C%2C-1%7CRepTarMCPers%2C%2C-1%7Cb2bmcsess%2C%2C-1%7CTSMCSess%2C%2C-1%7CSPMCPers%2C%2C-1%7CRevHubRMSess%2C%2C-1%7CPremRetSess%2C%2C-1%7CViatorMCSess%2C%2C-1%7CPremiumMCPers%2C%2C-1%7CAdsRetSess%2C%2C-1%7CPremiumRRPers%2C%2C-1%7CRestAdsCCPers%2C%2C-1%7CTADORPers%2C%2C-1%7CTheForkORPers%2C%2C-1%7CPremMCBtmPers%2C%2C-1%7CTheForkRRPers%2C%2C-1%7CTARSWBSess%2C%2C-1%7CPremiumORPers%2C%2C-1%7CRestAdsSess%2C%2C-1%7CRBASess%2C%2C-1%7CSPORPers%2C%2C-1%7Cperssticker%2C%2C-1%7CListMCPers%2C%2C-1%7C; Domain=.tripadvisor.co.id; Expires=Mon, 23-May-2033 01:00:13 GMT; Path=/\n",
      "header: Set-Cookie: BEPIN=%1%18855920681%3Bweb271a.a.tripadvisor.com%3A30023%3B; Domain=.tripadvisor.co.id; Path=/\n",
      "header: Set-Cookie: PAC=AAwsSaUxV9zA9oLRyWChMey8cgqoOXHZssXxHfsLVkJAA5cEzrSdbgbguhClNXoPEph9ITAYZw0M2oK1rHQa9k2TNqxJYFvrbzIiGXNHhjBlALyR3BAGvmvern_FvCvTalBKWWlC12m7X6aNeJrknDi0oiv3-KdjsN0uW3KWA9ec399XO3uI7H1uLFEy2MTDhhyOJpFV_PgXvgZjvYFp_mQ%3D; Domain=www.tripadvisor.co.id; Expires=Sun, 25-May-2025 01:00:13 GMT; Path=/; Secure; HttpOnly\n",
      "header: Set-Cookie: SRT=TART_SYNC; Domain=www.tripadvisor.co.id; Expires=Fri, 26-May-2023 01:30:13 GMT; Path=/\n",
      "header: Set-Cookie: TATravelInfo=V2*AY.2023*AM.6*AD.4*DY.2023*DM.6*DD.5*A.2*MG.-1*HP.2*FL.3*DSM.1685062813415*RS.1; Domain=.tripadvisor.co.id; Expires=Fri, 09-Jun-2023 01:00:13 GMT; Path=/\n",
      "header: Set-Cookie: TAUD=LG-1685062813280-2.1.F.*RDD-2-2023_05_26*HDD-3-2023_06_04.2023_06_05.1; Domain=.tripadvisor.co.id; Expires=Fri, 09-Jun-2023 01:00:13 GMT; Path=/\n",
      "header: Set-Cookie: TASID=358C7FAB647A4C1CB459B4B89E2C128A; Domain=www.tripadvisor.co.id; Expires=Fri, 26-May-2023 01:30:13 GMT; Path=/; Secure\n",
      "header: Set-Cookie: TAReturnTo=%1%%2FHotel_Review-g469404-d663712-Reviews-or20-Villa_8-Seminyak_Kuta_District_Bali.html; Domain=.tripadvisor.co.id; Path=/\n",
      "header: Set-Cookie: datadome=3ykJqQQOivHyzYUdugvryPbyx9yXQJOJSJ2qmkNJGvT_c-GtVI-7RCAL~ApNBgmvBwVPLtDbIECU5Pab0sNpXqTUQuyodMuh2SFv4C0Rt_G6Spx4qoPRY2Frh8RvBHDp; Max-Age=31104000; Domain=.tripadvisor.co.id; Path=/; Secure; SameSite=Lax\n",
      "Done Scrapping Villa 8 page 4\n",
      "\n",
      "\n"
     ]
    },
    {
     "name": "stderr",
     "output_type": "stream",
     "text": [
      "DEBUG:urllib3.connectionpool:Starting new HTTPS connection (1): www.tripadvisor.co.id:443\n"
     ]
    },
    {
     "name": "stdout",
     "output_type": "stream",
     "text": [
      "send: b'GET /Hotel_Review-g469404-d663712-Reviews-or25-Villa_8-Seminyak_Kuta_District_Bali.html HTTP/1.1\\r\\nHost: www.tripadvisor.co.id\\r\\nUser-Agent: Mozilla/5.0 (X11; CrOS x86_64 12871.102.0) AppleWebKit/537.36 (KHTML, like Gecko) Chrome/81.0.4044.141 Safari/537.36\\r\\nAccept-Encoding: gzip, deflate\\r\\nAccept: */*\\r\\nConnection: keep-alive\\r\\n\\r\\n'\n"
     ]
    },
    {
     "name": "stderr",
     "output_type": "stream",
     "text": [
      "DEBUG:urllib3.connectionpool:https://www.tripadvisor.co.id:443 \"GET /Hotel_Review-g469404-d663712-Reviews-or25-Villa_8-Seminyak_Kuta_District_Bali.html HTTP/1.1\" 200 None\n"
     ]
    },
    {
     "name": "stdout",
     "output_type": "stream",
     "text": [
      "reply: 'HTTP/1.1 200 OK\\r\\n'\n",
      "header: Server: envoy\n",
      "header: Link: <https://media-cdn.tripadvisor.com/media/>;rel=\"preconnect\";crossorigin\n",
      "header: Link: <https://media-cdn.tripadvisor.com/media/>;rel=\"dns-prefetch\"\n",
      "header: p3p: CP=\"NOI CURa ADMa DEVa TAIa OUR BUS IND UNI COM NAV INT DSP COR CAO PSA IDC ADM DEVi TAIi PSD IVAi IVDi CONi HIS CNT\"\n",
      "header: Pragma: no-cache\n",
      "header: Cache-Control: no-cache, no-store, must-revalidate\n",
      "header: Expires: 0\n",
      "header: Content-Language: id\n",
      "header: Link: <https://static.tacdn.com>;rel=\"dns-prefetch\"\n",
      "header: Link: <https://static.tacdn.com>;rel=\"preconnect\";crossorigin\n",
      "header: timing-allow-origin: https://www.tripadvisor.com\n",
      "header: Vary: Accept-Encoding\n",
      "header: Content-Type: text/html;charset=UTF-8\n",
      "header: Accept-CH: Sec-CH-UA,Sec-CH-UA-Mobile,Sec-CH-UA-Platform,Sec-CH-UA-Arch,Sec-CH-UA-Full-Version-List,Sec-CH-UA-Model,Sec-CH-Device-Memory\n",
      "header: x-datadome: protected\n",
      "header: Content-Encoding: gzip\n",
      "header: x-request-id: 14706e4c-d482-4f02-abb2-32bd1504d5f9\n",
      "header: Date: Fri, 26 May 2023 01:00:18 GMT\n",
      "header: Transfer-Encoding: chunked\n",
      "header: Connection: keep-alive\n",
      "header: Connection: Transfer-Encoding\n",
      "header: Set-Cookie: TADCID=a_rzr4RXp_eh7Nd6ABQCXdElnkGETRW-Svh01l3nWnXCaSg53SUriunrwUjtEjDZw6RjCyZ7Dsl2Ut2x3InkSuZQms5sBfwzxxA; Domain=www.tripadvisor.co.id; Expires=Mon, 23-May-2033 01:00:17 GMT; Path=/; Secure; HttpOnly\n",
      "header: Set-Cookie: TAUnique=%1%enc%3AZPIqSwLBkkL%2B7H78yfwekiHKVVkteNxI0%2Fl5d%2FE5p402jHwltRJPGQ%3D%3D; Domain=.tripadvisor.co.id; Expires=Sun, 25-May-2025 01:00:17 GMT; Path=/; HttpOnly\n",
      "header: Set-Cookie: TASSK=enc%3AAM%2B84z4HgD%2FPEuO06KEIyO4HY0GbWuy3%2FVJE7Flpke4oS%2Fk4jTxNV1UrjhqUAEgFUTNdyUd7ITo1JvVGEufxzqJbDxeSViytPqfW%2FrJMBbiB%2Fg8S5b84aj6EcntI3EHi4g%3D%3D; Domain=www.tripadvisor.co.id; Expires=Wed, 22-Nov-2023 01:00:17 GMT; Path=/; HttpOnly\n",
      "header: Set-Cookie: TASession=V2ID.ABF45A58972C46EA97CBBBB973F5B7E2*SQ.1*HS.recommended*ES.popularity*DS.5*SAS.popularity*FPS.oldFirst*LF.in*FA.1*DF.0*TRA.true*LD.663712; Domain=.tripadvisor.co.id; Path=/\n",
      "header: Set-Cookie: ServerPool=R; Domain=.tripadvisor.co.id; Path=/\n",
      "header: Set-Cookie: PMC=V2*MS.47*MD.20230525*LD.20230525; Domain=www.tripadvisor.co.id; Expires=Sun, 25-May-2025 01:00:17 GMT; Path=/; Secure; HttpOnly\n",
      "header: Set-Cookie: TART=%1%enc%3A%2Fux%2B%2FMn8HpI5gKySMHkE7t0h8BXXeqVgXaHPmysnQnLXKbDyvNkZUpndA2MbGtVvCeyaC1LeImE%3D; Domain=www.tripadvisor.co.id; Expires=Wed, 31-May-2023 01:00:17 GMT; Path=/; HttpOnly\n",
      "header: Set-Cookie: CM=%1%PremiumMobSess%2C%2C-1%7Ct4b-pc%2C%2C-1%7CRestAds%2FRPers%2C%2C-1%7CRCPers%2C%2C-1%7CWShadeSeen%2C%2C-1%7CTheForkMCCPers%2C%2C-1%7CHomeASess%2C%2C-1%7CPremiumMCSess%2C%2C-1%7CCrisisSess%2C%2C-1%7CUVOwnersSess%2C%2C-1%7CRestPremRSess%2C%2C-1%7CRepTarMCSess%2C%2C-1%7CCCSess%2C%2C-1%7CCYLSess%2C%2C-1%7CPremRetPers%2C%2C-1%7CViatorMCPers%2C%2C-1%7Csesssticker%2C%2C-1%7C%24%2C%2C-1%7CPremiumORSess%2C%2C-1%7Ct4b-sc%2C%2C-1%7CRestAdsPers%2C%2C-1%7CMC_IB_UPSELL_IB_LOGOS2%2C%2C-1%7CTSMCPers%2C%2C-1%7Cb2bmcpers%2C%2C-1%7CPremMCBtmSess%2C%2C-1%7CMC_IB_UPSELL_IB_LOGOS%2C%2C-1%7CLaFourchette+Banners%2C%2C-1%7Csess_rev%2C%2C-1%7Csessamex%2C%2C-1%7CPremiumRRSess%2C%2C-1%7CTADORSess%2C%2C-1%7CAdsRetPers%2C%2C-1%7CListMCSess%2C%2C-1%7CTARSWBPers%2C%2C-1%7CSPMCSess%2C%2C-1%7CTheForkORSess%2C%2C-1%7CTheForkRRSess%2C%2C-1%7Cpers_rev%2C%2C-1%7CRBAPers%2C%2C-1%7CRestAds%2FRSess%2C%2C-1%7CHomeAPers%2C%2C-1%7CPremiumMobPers%2C%2C-1%7CRCSess%2C%2C-1%7CLaFourchette+MC+Banners%2C%2C-1%7CRestAdsCCSess%2C%2C-1%7CRestPremRPers%2C%2C-1%7CRevHubRMPers%2C%2C-1%7CUVOwnersPers%2C%2C-1%7Cpssamex%2C%2C-1%7CTheForkMCCSess%2C%2C-1%7CCrisisPers%2C%2C-1%7CCYLPers%2C%2C-1%7CCCPers%2C%2C-1%7CRepTarMCPers%2C%2C-1%7Cb2bmcsess%2C%2C-1%7CTSMCSess%2C%2C-1%7CSPMCPers%2C%2C-1%7CRevHubRMSess%2C%2C-1%7CPremRetSess%2C%2C-1%7CViatorMCSess%2C%2C-1%7CPremiumMCPers%2C%2C-1%7CAdsRetSess%2C%2C-1%7CPremiumRRPers%2C%2C-1%7CRestAdsCCPers%2C%2C-1%7CTADORPers%2C%2C-1%7CTheForkORPers%2C%2C-1%7CPremMCBtmPers%2C%2C-1%7CTheForkRRPers%2C%2C-1%7CTARSWBSess%2C%2C-1%7CPremiumORPers%2C%2C-1%7CRestAdsSess%2C%2C-1%7CRBASess%2C%2C-1%7CSPORPers%2C%2C-1%7Cperssticker%2C%2C-1%7CListMCPers%2C%2C-1%7C; Domain=.tripadvisor.co.id; Expires=Mon, 23-May-2033 01:00:17 GMT; Path=/\n",
      "header: Set-Cookie: BEPIN=%1%1885592171e%3Bweb379a.a.tripadvisor.com%3A30023%3B; Domain=.tripadvisor.co.id; Path=/\n",
      "header: Set-Cookie: PAC=AKVEZjJRHfqvHZm4JdcUkAN_PdDtCtzD6ejhOz9tkuiIU5-mj17xIQOhcBkN6Wtcqq0fRuOh1AxnolafczeQrhAWTa1B-aUTsDGtIiVdxLBx2jLhTAZcn2eHmIIC8xkorQKUnB1XeeCt0wq--edj0jxyhd584bIFSZX0fzLd1e_e7Ipt6cmicSYNwbLD1LyKKsYWK4gwgUaaqY82cTbxzbY%3D; Domain=www.tripadvisor.co.id; Expires=Sun, 25-May-2025 01:00:17 GMT; Path=/; Secure; HttpOnly\n",
      "header: Set-Cookie: SRT=TART_SYNC; Domain=www.tripadvisor.co.id; Expires=Fri, 26-May-2023 01:30:17 GMT; Path=/\n",
      "header: Set-Cookie: TATravelInfo=V2*AY.2023*AM.6*AD.4*DY.2023*DM.6*DD.5*A.2*MG.-1*HP.2*FL.3*DSM.1685062817656*RS.1; Domain=.tripadvisor.co.id; Expires=Fri, 09-Jun-2023 01:00:17 GMT; Path=/\n",
      "header: Set-Cookie: TAUD=LG-1685062817553-2.1.F.*RDD-2-2023_05_26*HDD-3-2023_06_04.2023_06_05.1; Domain=.tripadvisor.co.id; Expires=Fri, 09-Jun-2023 01:00:17 GMT; Path=/\n",
      "header: Set-Cookie: TASID=ABF45A58972C46EA97CBBBB973F5B7E2; Domain=www.tripadvisor.co.id; Expires=Fri, 26-May-2023 01:30:17 GMT; Path=/; Secure\n",
      "header: Set-Cookie: TAReturnTo=%1%%2FHotel_Review-g469404-d663712-Reviews-or25-Villa_8-Seminyak_Kuta_District_Bali.html; Domain=.tripadvisor.co.id; Path=/\n",
      "header: Set-Cookie: datadome=6P2V~8F49YrlwCIIc~5XVu4vx67AHPoe~8hFjIs6WFAjazbzeXjo~Dl7hPRlef7~hbCK7-g6pCarvsDlhhgSj1IG9Hxez5aopjKmthB6yaJPWF-mDKqT8Mo9k2T1Ti2Z; Max-Age=31104000; Domain=.tripadvisor.co.id; Path=/; Secure; SameSite=Lax\n",
      "Done Scrapping Villa 8 page 5\n",
      "\n",
      "\n"
     ]
    },
    {
     "name": "stderr",
     "output_type": "stream",
     "text": [
      "DEBUG:urllib3.connectionpool:Starting new HTTPS connection (1): www.tripadvisor.co.id:443\n"
     ]
    },
    {
     "name": "stdout",
     "output_type": "stream",
     "text": [
      "send: b'GET /Hotel_Review-g469404-d663712-Reviews-or30-Villa_8-Seminyak_Kuta_District_Bali.html HTTP/1.1\\r\\nHost: www.tripadvisor.co.id\\r\\nUser-Agent: Mozilla/5.0 (X11; CrOS x86_64 12871.102.0) AppleWebKit/537.36 (KHTML, like Gecko) Chrome/81.0.4044.141 Safari/537.36\\r\\nAccept-Encoding: gzip, deflate\\r\\nAccept: */*\\r\\nConnection: keep-alive\\r\\n\\r\\n'\n"
     ]
    },
    {
     "name": "stderr",
     "output_type": "stream",
     "text": [
      "DEBUG:urllib3.connectionpool:https://www.tripadvisor.co.id:443 \"GET /Hotel_Review-g469404-d663712-Reviews-or30-Villa_8-Seminyak_Kuta_District_Bali.html HTTP/1.1\" 200 None\n"
     ]
    },
    {
     "name": "stdout",
     "output_type": "stream",
     "text": [
      "reply: 'HTTP/1.1 200 OK\\r\\n'\n",
      "header: Server: envoy\n",
      "header: Link: <https://media-cdn.tripadvisor.com/media/>;rel=\"preconnect\";crossorigin\n",
      "header: Link: <https://media-cdn.tripadvisor.com/media/>;rel=\"dns-prefetch\"\n",
      "header: p3p: CP=\"NOI CURa ADMa DEVa TAIa OUR BUS IND UNI COM NAV INT DSP COR CAO PSA IDC ADM DEVi TAIi PSD IVAi IVDi CONi HIS CNT\"\n",
      "header: Pragma: no-cache\n",
      "header: Cache-Control: no-cache, no-store, must-revalidate\n",
      "header: Expires: 0\n",
      "header: Content-Language: id\n",
      "header: Link: <https://static.tacdn.com>;rel=\"dns-prefetch\"\n",
      "header: Link: <https://static.tacdn.com>;rel=\"preconnect\";crossorigin\n",
      "header: timing-allow-origin: https://www.tripadvisor.com\n",
      "header: Vary: Accept-Encoding\n",
      "header: Content-Type: text/html;charset=UTF-8\n",
      "header: x-datadome: protected\n",
      "header: Accept-CH: Sec-CH-UA,Sec-CH-UA-Mobile,Sec-CH-UA-Platform,Sec-CH-UA-Arch,Sec-CH-UA-Full-Version-List,Sec-CH-UA-Model,Sec-CH-Device-Memory\n",
      "header: Content-Encoding: gzip\n",
      "header: x-request-id: bc9de9a3-8d78-4df5-8f26-6c42e4c47b1f\n",
      "header: Date: Fri, 26 May 2023 01:00:22 GMT\n",
      "header: Transfer-Encoding: chunked\n",
      "header: Connection: keep-alive\n",
      "header: Connection: Transfer-Encoding\n",
      "header: Set-Cookie: TADCID=yz0owrBE7HVBP6cfABQCXdElnkGETRW-Svh01l3nWnXCaeB0vstbLUQQhbT7DnPcFhVjoPgfz4plULSwVHReBayXMb7kEjJaruQ; Domain=www.tripadvisor.co.id; Expires=Mon, 23-May-2033 01:00:22 GMT; Path=/; Secure; HttpOnly\n",
      "header: Set-Cookie: TAUnique=%1%enc%3AsJrwCvqNVjf%2B7H78yfwekiHKVVkteNxIvECinKCq%2FI02jHwltRJPGQ%3D%3D; Domain=.tripadvisor.co.id; Expires=Sun, 25-May-2025 01:00:22 GMT; Path=/; HttpOnly\n",
      "header: Set-Cookie: TASSK=enc%3AACyGCMKONNr0IHT7kplShrDVvhmJmPaIdw3pPM2XUtq%2BKXDzU0aG5Fos6tnFYi8%2BNNEvaKe28dYW1YX7HtZFTyy5MzsCzf%2Fr1lOdP9DvvhqD9rozHddQZjaz5W4nAzMpwA%3D%3D; Domain=www.tripadvisor.co.id; Expires=Wed, 22-Nov-2023 01:00:22 GMT; Path=/; HttpOnly\n",
      "header: Set-Cookie: TASession=V2ID.1E821F91CCF2422681177BF7B83DD143*SQ.1*HS.recommended*ES.popularity*DS.5*SAS.popularity*FPS.oldFirst*LF.in*FA.1*DF.0*TRA.true*LD.663712; Domain=.tripadvisor.co.id; Path=/\n",
      "header: Set-Cookie: ServerPool=C; Domain=.tripadvisor.co.id; Path=/\n",
      "header: Set-Cookie: PMC=V2*MS.1*MD.20230525*LD.20230525; Domain=www.tripadvisor.co.id; Expires=Sun, 25-May-2025 01:00:22 GMT; Path=/; Secure; HttpOnly\n",
      "header: Set-Cookie: TART=%1%enc%3A%2Fux%2B%2FMn8HpJEP8XOVQhFezC1KyshYXKfHit9%2FAQpEyiziPl3OldYJG8yp7HlXEbPNULCL3ymXx4%3D; Domain=www.tripadvisor.co.id; Expires=Wed, 31-May-2023 01:00:22 GMT; Path=/; HttpOnly\n",
      "header: Set-Cookie: CM=%1%PremiumMobSess%2C%2C-1%7Ct4b-pc%2C%2C-1%7CRestAds%2FRPers%2C%2C-1%7CRCPers%2C%2C-1%7CWShadeSeen%2C%2C-1%7CTheForkMCCPers%2C%2C-1%7CHomeASess%2C%2C-1%7CPremiumMCSess%2C%2C-1%7CCrisisSess%2C%2C-1%7CUVOwnersSess%2C%2C-1%7CRestPremRSess%2C%2C-1%7CRepTarMCSess%2C%2C-1%7CCCSess%2C%2C-1%7CCYLSess%2C%2C-1%7CPremRetPers%2C%2C-1%7CViatorMCPers%2C%2C-1%7Csesssticker%2C%2C-1%7C%24%2C%2C-1%7CPremiumORSess%2C%2C-1%7Ct4b-sc%2C%2C-1%7CRestAdsPers%2C%2C-1%7CMC_IB_UPSELL_IB_LOGOS2%2C%2C-1%7CTSMCPers%2C%2C-1%7Cb2bmcpers%2C%2C-1%7CPremMCBtmSess%2C%2C-1%7CMC_IB_UPSELL_IB_LOGOS%2C%2C-1%7CLaFourchette+Banners%2C%2C-1%7Csess_rev%2C%2C-1%7Csessamex%2C%2C-1%7CPremiumRRSess%2C%2C-1%7CTADORSess%2C%2C-1%7CAdsRetPers%2C%2C-1%7CListMCSess%2C%2C-1%7CTARSWBPers%2C%2C-1%7CSPMCSess%2C%2C-1%7CTheForkORSess%2C%2C-1%7CTheForkRRSess%2C%2C-1%7Cpers_rev%2C%2C-1%7CRBAPers%2C%2C-1%7CRestAds%2FRSess%2C%2C-1%7CHomeAPers%2C%2C-1%7CPremiumMobPers%2C%2C-1%7CRCSess%2C%2C-1%7CLaFourchette+MC+Banners%2C%2C-1%7CRestAdsCCSess%2C%2C-1%7CRestPremRPers%2C%2C-1%7CRevHubRMPers%2C%2C-1%7CUVOwnersPers%2C%2C-1%7Cpssamex%2C%2C-1%7CTheForkMCCSess%2C%2C-1%7CCrisisPers%2C%2C-1%7CCYLPers%2C%2C-1%7CCCPers%2C%2C-1%7CRepTarMCPers%2C%2C-1%7Cb2bmcsess%2C%2C-1%7CTSMCSess%2C%2C-1%7CSPMCPers%2C%2C-1%7CRevHubRMSess%2C%2C-1%7CPremRetSess%2C%2C-1%7CViatorMCSess%2C%2C-1%7CPremiumMCPers%2C%2C-1%7CAdsRetSess%2C%2C-1%7CPremiumRRPers%2C%2C-1%7CRestAdsCCPers%2C%2C-1%7CTADORPers%2C%2C-1%7CTheForkORPers%2C%2C-1%7CPremMCBtmPers%2C%2C-1%7CTheForkRRPers%2C%2C-1%7CTARSWBSess%2C%2C-1%7CPremiumORPers%2C%2C-1%7CRestAdsSess%2C%2C-1%7CRBASess%2C%2C-1%7CSPORPers%2C%2C-1%7Cperssticker%2C%2C-1%7CListMCPers%2C%2C-1%7C; Domain=.tripadvisor.co.id; Expires=Mon, 23-May-2033 01:00:22 GMT; Path=/\n",
      "header: Set-Cookie: BEPIN=%1%1885592295b%3Bweb270a.a.tripadvisor.com%3A30023%3B; Domain=.tripadvisor.co.id; Path=/\n",
      "header: Set-Cookie: PAC=ADc8XfKbfRC77q3VWgv96YDdmkRAQpkZXiR996Dmp93NfCaUvfEoHG5oFiTa7FFTvmgaYf4kbrXnXCCjnASeOeOHVdc8a6yEQdgjjD0UldLaNUXqbpG4Qw-3XFOis9nYQA4jaVfzsIp2pqQyRim8siCvhhi9eV2o7goeJxIPKGoONEX92ccj_IqEOduJQRlCb1X84JZCv56AbMt9Vbfv_c8%3D; Domain=www.tripadvisor.co.id; Expires=Sun, 25-May-2025 01:00:22 GMT; Path=/; Secure; HttpOnly\n",
      "header: Set-Cookie: SRT=TART_SYNC; Domain=www.tripadvisor.co.id; Expires=Fri, 26-May-2023 01:30:22 GMT; Path=/\n",
      "header: Set-Cookie: TATravelInfo=V2*AY.2023*AM.6*AD.4*DY.2023*DM.6*DD.5*A.2*MG.-1*HP.2*FL.3*DSM.1685062822353*RS.1; Domain=.tripadvisor.co.id; Expires=Fri, 09-Jun-2023 01:00:22 GMT; Path=/\n",
      "header: Set-Cookie: TAUD=LG-1685062822202-2.1.F.*RDD-2-2023_05_26*HDD-3-2023_06_04.2023_06_05.1; Domain=.tripadvisor.co.id; Expires=Fri, 09-Jun-2023 01:00:22 GMT; Path=/\n",
      "header: Set-Cookie: TASID=1E821F91CCF2422681177BF7B83DD143; Domain=www.tripadvisor.co.id; Expires=Fri, 26-May-2023 01:30:22 GMT; Path=/; Secure\n",
      "header: Set-Cookie: TAReturnTo=%1%%2FHotel_Review-g469404-d663712-Reviews-or30-Villa_8-Seminyak_Kuta_District_Bali.html; Domain=.tripadvisor.co.id; Path=/\n",
      "header: Set-Cookie: datadome=6HyEfsXY_HS6VJWslV4xiYqonCqVOC834d08vFwnGGlosuvncVgirjwPd9~Ik4mkzAhdpcg~mQZkKKyYm3VjnWI0BIMZq7htAu4Exo26gbdazrZRxDKIHG_sFFk8SmD_; Max-Age=31104000; Domain=.tripadvisor.co.id; Path=/; Secure; SameSite=Lax\n",
      "Done Scrapping Villa 8 page 6\n",
      "\n",
      "\n"
     ]
    },
    {
     "name": "stderr",
     "output_type": "stream",
     "text": [
      "DEBUG:urllib3.connectionpool:Starting new HTTPS connection (1): www.tripadvisor.co.id:443\n"
     ]
    },
    {
     "name": "stdout",
     "output_type": "stream",
     "text": [
      "send: b'GET /Hotel_Review-g469404-d663712-Reviews-or35-Villa_8-Seminyak_Kuta_District_Bali.html HTTP/1.1\\r\\nHost: www.tripadvisor.co.id\\r\\nUser-Agent: Mozilla/5.0 (X11; CrOS x86_64 12871.102.0) AppleWebKit/537.36 (KHTML, like Gecko) Chrome/81.0.4044.141 Safari/537.36\\r\\nAccept-Encoding: gzip, deflate\\r\\nAccept: */*\\r\\nConnection: keep-alive\\r\\n\\r\\n'\n"
     ]
    },
    {
     "name": "stderr",
     "output_type": "stream",
     "text": [
      "DEBUG:urllib3.connectionpool:https://www.tripadvisor.co.id:443 \"GET /Hotel_Review-g469404-d663712-Reviews-or35-Villa_8-Seminyak_Kuta_District_Bali.html HTTP/1.1\" 200 None\n"
     ]
    },
    {
     "name": "stdout",
     "output_type": "stream",
     "text": [
      "reply: 'HTTP/1.1 200 OK\\r\\n'\n",
      "header: Server: envoy\n",
      "header: Link: <https://media-cdn.tripadvisor.com/media/>;rel=\"preconnect\";crossorigin\n",
      "header: Link: <https://media-cdn.tripadvisor.com/media/>;rel=\"dns-prefetch\"\n",
      "header: p3p: CP=\"NOI CURa ADMa DEVa TAIa OUR BUS IND UNI COM NAV INT DSP COR CAO PSA IDC ADM DEVi TAIi PSD IVAi IVDi CONi HIS CNT\"\n",
      "header: Pragma: no-cache\n",
      "header: Cache-Control: no-cache, no-store, must-revalidate\n",
      "header: Expires: 0\n",
      "header: Content-Language: id\n",
      "header: Link: <https://static.tacdn.com>;rel=\"dns-prefetch\"\n",
      "header: Link: <https://static.tacdn.com>;rel=\"preconnect\";crossorigin\n",
      "header: timing-allow-origin: https://www.tripadvisor.com\n",
      "header: Vary: Accept-Encoding\n",
      "header: Content-Type: text/html;charset=UTF-8\n",
      "header: Accept-CH: Sec-CH-UA,Sec-CH-UA-Mobile,Sec-CH-UA-Platform,Sec-CH-UA-Arch,Sec-CH-UA-Full-Version-List,Sec-CH-UA-Model,Sec-CH-Device-Memory\n",
      "header: x-datadome: protected\n",
      "header: Content-Encoding: gzip\n",
      "header: x-request-id: 6f64de88-3773-437b-9383-eed3dd26c2f7\n",
      "header: Date: Fri, 26 May 2023 01:00:28 GMT\n",
      "header: Transfer-Encoding: chunked\n",
      "header: Connection: keep-alive\n",
      "header: Connection: Transfer-Encoding\n",
      "header: Set-Cookie: TADCID=9kc9Mxk52UGhoJc5ABQCXdElnkGETRW-Svh01l3nWnXCaaOPwcSklGGuFzQ9ID7_vMAfSgI-lsscpuKpRByve7fIZe6gbVAB5WM; Domain=www.tripadvisor.co.id; Expires=Mon, 23-May-2033 01:00:27 GMT; Path=/; Secure; HttpOnly\n",
      "header: Set-Cookie: TAUnique=%1%enc%3AQdV7w8ASnEb%2B7H78yfwekiHKVVkteNxIm2eNCUlSrdQ2jHwltRJPGQ%3D%3D; Domain=.tripadvisor.co.id; Expires=Sun, 25-May-2025 01:00:27 GMT; Path=/; HttpOnly\n",
      "header: Set-Cookie: TASSK=enc%3AAIL4ZzXs1gRHF0yOlOX6b%2FLOrRNEGpS%2BOCF9C%2BhCKez%2FxYz21qkAEyjyLI4cQEaQr7IriKQKF8SjjCpu5HyCvAvsGFSJFHV7x7yTOE3k6zR5rqGO14NzKLVsQXOZrjN%2Fig%3D%3D; Domain=www.tripadvisor.co.id; Expires=Wed, 22-Nov-2023 01:00:27 GMT; Path=/; HttpOnly\n",
      "header: Set-Cookie: TASession=V2ID.956FBC2E654C4379ADD1CC45DD63517F*SQ.1*HS.recommended*ES.popularity*DS.5*SAS.popularity*FPS.oldFirst*LF.in*FA.1*DF.0*TRA.true*LD.663712; Domain=.tripadvisor.co.id; Path=/\n",
      "header: Set-Cookie: ServerPool=B; Domain=.tripadvisor.co.id; Path=/\n",
      "header: Set-Cookie: PMC=V2*MS.48*MD.20230525*LD.20230525; Domain=www.tripadvisor.co.id; Expires=Sun, 25-May-2025 01:00:27 GMT; Path=/; Secure; HttpOnly\n",
      "header: Set-Cookie: TART=%1%enc%3A%2Fux%2B%2FMn8HpLgYv8hIdqQIcIRcFYblMHNGNmq6tA330MzOf5XuST%2FP5JShczK04iQ4ieoPdYMDDY%3D; Domain=www.tripadvisor.co.id; Expires=Wed, 31-May-2023 01:00:27 GMT; Path=/; HttpOnly\n",
      "header: Set-Cookie: CM=%1%PremiumMobSess%2C%2C-1%7Ct4b-pc%2C%2C-1%7CRestAds%2FRPers%2C%2C-1%7CRCPers%2C%2C-1%7CWShadeSeen%2C%2C-1%7CTheForkMCCPers%2C%2C-1%7CHomeASess%2C%2C-1%7CPremiumMCSess%2C%2C-1%7CCrisisSess%2C%2C-1%7CUVOwnersSess%2C%2C-1%7CRestPremRSess%2C%2C-1%7CRepTarMCSess%2C%2C-1%7CCCSess%2C%2C-1%7CCYLSess%2C%2C-1%7CPremRetPers%2C%2C-1%7CViatorMCPers%2C%2C-1%7Csesssticker%2C%2C-1%7C%24%2C%2C-1%7CPremiumORSess%2C%2C-1%7Ct4b-sc%2C%2C-1%7CRestAdsPers%2C%2C-1%7CMC_IB_UPSELL_IB_LOGOS2%2C%2C-1%7CTSMCPers%2C%2C-1%7Cb2bmcpers%2C%2C-1%7CPremMCBtmSess%2C%2C-1%7CMC_IB_UPSELL_IB_LOGOS%2C%2C-1%7CLaFourchette+Banners%2C%2C-1%7Csess_rev%2C%2C-1%7Csessamex%2C%2C-1%7CPremiumRRSess%2C%2C-1%7CTADORSess%2C%2C-1%7CAdsRetPers%2C%2C-1%7CListMCSess%2C%2C-1%7CTARSWBPers%2C%2C-1%7CSPMCSess%2C%2C-1%7CTheForkORSess%2C%2C-1%7CTheForkRRSess%2C%2C-1%7Cpers_rev%2C%2C-1%7CRBAPers%2C%2C-1%7CRestAds%2FRSess%2C%2C-1%7CHomeAPers%2C%2C-1%7CPremiumMobPers%2C%2C-1%7CRCSess%2C%2C-1%7CLaFourchette+MC+Banners%2C%2C-1%7CRestAdsCCSess%2C%2C-1%7CRestPremRPers%2C%2C-1%7CRevHubRMPers%2C%2C-1%7CUVOwnersPers%2C%2C-1%7Cpssamex%2C%2C-1%7CTheForkMCCSess%2C%2C-1%7CCrisisPers%2C%2C-1%7CCYLPers%2C%2C-1%7CCCPers%2C%2C-1%7CRepTarMCPers%2C%2C-1%7Cb2bmcsess%2C%2C-1%7CTSMCSess%2C%2C-1%7CSPMCPers%2C%2C-1%7CRevHubRMSess%2C%2C-1%7CPremRetSess%2C%2C-1%7CViatorMCSess%2C%2C-1%7CPremiumMCPers%2C%2C-1%7CAdsRetSess%2C%2C-1%7CPremiumRRPers%2C%2C-1%7CRestAdsCCPers%2C%2C-1%7CTADORPers%2C%2C-1%7CTheForkORPers%2C%2C-1%7CPremMCBtmPers%2C%2C-1%7CTheForkRRPers%2C%2C-1%7CTARSWBSess%2C%2C-1%7CPremiumORPers%2C%2C-1%7CRestAdsSess%2C%2C-1%7CRBASess%2C%2C-1%7CSPORPers%2C%2C-1%7Cperssticker%2C%2C-1%7CListMCPers%2C%2C-1%7C; Domain=.tripadvisor.co.id; Expires=Mon, 23-May-2033 01:00:27 GMT; Path=/\n",
      "header: Set-Cookie: BEPIN=%1%18855923e36%3Bweb251a.a.tripadvisor.com%3A30023%3B; Domain=.tripadvisor.co.id; Path=/\n",
      "header: Set-Cookie: PAC=AII-DmnlDahoz2u5iP6cHGsU-ZqWZXpaW74LXSHZQHQpQdB9TAn1la3NRehgUVJDpO6I61kXMTSEo43Gd8eVNefW-iyaSMzV7zvz1KqcBMeo8QyElQU4mMw_D_s3Yj5lAcG30A8-lqpPO5UzWi7JOsSMxirRpjdZTkc7wlGE0rzpYbtkTFWEn4ATs89f7JOfRTRvRi_mkK1lpJhGRddVTCI%3D; Domain=www.tripadvisor.co.id; Expires=Sun, 25-May-2025 01:00:27 GMT; Path=/; Secure; HttpOnly\n",
      "header: Set-Cookie: SRT=TART_SYNC; Domain=www.tripadvisor.co.id; Expires=Fri, 26-May-2023 01:30:27 GMT; Path=/\n",
      "header: Set-Cookie: TATravelInfo=V2*AY.2023*AM.6*AD.4*DY.2023*DM.6*DD.5*A.2*MG.-1*HP.2*FL.3*DSM.1685062827658*RS.1; Domain=.tripadvisor.co.id; Expires=Fri, 09-Jun-2023 01:00:27 GMT; Path=/\n",
      "header: Set-Cookie: TAUD=LG-1685062827543-2.1.F.*RDD-2-2023_05_26*HDD-3-2023_06_04.2023_06_05.1; Domain=.tripadvisor.co.id; Expires=Fri, 09-Jun-2023 01:00:27 GMT; Path=/\n",
      "header: Set-Cookie: TASID=956FBC2E654C4379ADD1CC45DD63517F; Domain=www.tripadvisor.co.id; Expires=Fri, 26-May-2023 01:30:27 GMT; Path=/; Secure\n",
      "header: Set-Cookie: TAReturnTo=%1%%2FHotel_Review-g469404-d663712-Reviews-or35-Villa_8-Seminyak_Kuta_District_Bali.html; Domain=.tripadvisor.co.id; Path=/\n",
      "header: Set-Cookie: datadome=5OakPinhDwmksKWrVQa7rxg7-p1DS-plN5p9uiQRSyCAXL-0PYINlmOomfQ~Gp2Nb0YknPBMYyvEJy7OceC1AfabABJxSE6jV-tEI94kyhptjGb_ISQ758-AYdbcTf33; Max-Age=31104000; Domain=.tripadvisor.co.id; Path=/; Secure; SameSite=Lax\n",
      "Done Scrapping Villa 8 page 7\n",
      "\n",
      "\n"
     ]
    },
    {
     "name": "stderr",
     "output_type": "stream",
     "text": [
      "DEBUG:urllib3.connectionpool:Starting new HTTPS connection (1): www.tripadvisor.co.id:443\n"
     ]
    },
    {
     "name": "stdout",
     "output_type": "stream",
     "text": [
      "send: b'GET /Hotel_Review-g469404-d663712-Reviews-or40-Villa_8-Seminyak_Kuta_District_Bali.html HTTP/1.1\\r\\nHost: www.tripadvisor.co.id\\r\\nUser-Agent: Mozilla/5.0 (X11; CrOS x86_64 12871.102.0) AppleWebKit/537.36 (KHTML, like Gecko) Chrome/81.0.4044.141 Safari/537.36\\r\\nAccept-Encoding: gzip, deflate\\r\\nAccept: */*\\r\\nConnection: keep-alive\\r\\n\\r\\n'\n"
     ]
    },
    {
     "name": "stderr",
     "output_type": "stream",
     "text": [
      "DEBUG:urllib3.connectionpool:https://www.tripadvisor.co.id:443 \"GET /Hotel_Review-g469404-d663712-Reviews-or40-Villa_8-Seminyak_Kuta_District_Bali.html HTTP/1.1\" 200 None\n"
     ]
    },
    {
     "name": "stdout",
     "output_type": "stream",
     "text": [
      "reply: 'HTTP/1.1 200 OK\\r\\n'\n",
      "header: Server: envoy\n",
      "header: Link: <https://media-cdn.tripadvisor.com/media/>;rel=\"preconnect\";crossorigin\n",
      "header: Link: <https://media-cdn.tripadvisor.com/media/>;rel=\"dns-prefetch\"\n",
      "header: p3p: CP=\"NOI CURa ADMa DEVa TAIa OUR BUS IND UNI COM NAV INT DSP COR CAO PSA IDC ADM DEVi TAIi PSD IVAi IVDi CONi HIS CNT\"\n",
      "header: Pragma: no-cache\n",
      "header: Cache-Control: no-cache, no-store, must-revalidate\n",
      "header: Expires: 0\n",
      "header: Content-Language: id\n",
      "header: Link: <https://static.tacdn.com>;rel=\"dns-prefetch\"\n",
      "header: Link: <https://static.tacdn.com>;rel=\"preconnect\";crossorigin\n",
      "header: timing-allow-origin: https://www.tripadvisor.com\n",
      "header: Vary: Accept-Encoding\n",
      "header: Content-Type: text/html;charset=UTF-8\n",
      "header: Accept-CH: Sec-CH-UA,Sec-CH-UA-Mobile,Sec-CH-UA-Platform,Sec-CH-UA-Arch,Sec-CH-UA-Full-Version-List,Sec-CH-UA-Model,Sec-CH-Device-Memory\n",
      "header: x-datadome: protected\n",
      "header: Content-Encoding: gzip\n",
      "header: x-request-id: 017df443-0c40-40f8-b5b4-4769e5e5463b\n",
      "header: Date: Fri, 26 May 2023 01:00:32 GMT\n",
      "header: Transfer-Encoding: chunked\n",
      "header: Connection: keep-alive\n",
      "header: Connection: Transfer-Encoding\n",
      "header: Set-Cookie: TADCID=mF7EBYlZ6fpsKUMNABQCXdElnkGETRW-Svh01l3nWnXCaRL6tGA_9EeumUEvMl_K4KHtcWUapy0gx_E5ig5hxfiA26MX95XqZoM; Domain=www.tripadvisor.co.id; Expires=Mon, 23-May-2033 01:00:31 GMT; Path=/; Secure; HttpOnly\n",
      "header: Set-Cookie: TAUnique=%1%enc%3AuDVedQjmD2%2F%2B7H78yfwekiHKVVkteNxIAOPByH7xV5w2jHwltRJPGQ%3D%3D; Domain=.tripadvisor.co.id; Expires=Sun, 25-May-2025 01:00:31 GMT; Path=/; HttpOnly\n",
      "header: Set-Cookie: TASSK=enc%3AAJb7Oz6Swq0wlQH0kGUchW2UpMvFNk3IQfu11NLzkYS1zS5mQsMewfPYdJmIOcej2ndaov%2FE%2BKBqR1vBLswsdQxOEDiifp26Rz6Oxs1IGpYe47B207Wg54HALDS2B6MqGQ%3D%3D; Domain=www.tripadvisor.co.id; Expires=Wed, 22-Nov-2023 01:00:32 GMT; Path=/; HttpOnly\n",
      "header: Set-Cookie: TASession=V2ID.81C88207D26B4FF19981166DEC4F7931*SQ.1*HS.recommended*ES.popularity*DS.5*SAS.popularity*FPS.oldFirst*LF.in*FA.1*DF.0*TRA.true*LD.663712; Domain=.tripadvisor.co.id; Path=/\n",
      "header: Set-Cookie: ServerPool=X; Domain=.tripadvisor.co.id; Path=/\n",
      "header: Set-Cookie: PMC=V2*MS.19*MD.20230525*LD.20230525; Domain=www.tripadvisor.co.id; Expires=Sun, 25-May-2025 01:00:32 GMT; Path=/; Secure; HttpOnly\n",
      "header: Set-Cookie: TART=%1%enc%3A%2Fux%2B%2FMn8HpI05J%2BP8MBDJBZ9thBO3n8AQfb7ksoVkBbvi%2BIt8T68QLw9m0C4dW96NULCL3ymXx4%3D; Domain=www.tripadvisor.co.id; Expires=Wed, 31-May-2023 01:00:32 GMT; Path=/; HttpOnly\n",
      "header: Set-Cookie: CM=%1%PremiumMobSess%2C%2C-1%7Ct4b-pc%2C%2C-1%7CRestAds%2FRPers%2C%2C-1%7CRCPers%2C%2C-1%7CWShadeSeen%2C%2C-1%7CTheForkMCCPers%2C%2C-1%7CHomeASess%2C%2C-1%7CPremiumMCSess%2C%2C-1%7CCrisisSess%2C%2C-1%7CUVOwnersSess%2C%2C-1%7CRestPremRSess%2C%2C-1%7CRepTarMCSess%2C%2C-1%7CCCSess%2C%2C-1%7CCYLSess%2C%2C-1%7CPremRetPers%2C%2C-1%7CViatorMCPers%2C%2C-1%7Csesssticker%2C%2C-1%7C%24%2C%2C-1%7CPremiumORSess%2C%2C-1%7Ct4b-sc%2C%2C-1%7CRestAdsPers%2C%2C-1%7CMC_IB_UPSELL_IB_LOGOS2%2C%2C-1%7CTSMCPers%2C%2C-1%7Cb2bmcpers%2C%2C-1%7CPremMCBtmSess%2C%2C-1%7CMC_IB_UPSELL_IB_LOGOS%2C%2C-1%7CLaFourchette+Banners%2C%2C-1%7Csess_rev%2C%2C-1%7Csessamex%2C%2C-1%7CPremiumRRSess%2C%2C-1%7CTADORSess%2C%2C-1%7CAdsRetPers%2C%2C-1%7CListMCSess%2C%2C-1%7CTARSWBPers%2C%2C-1%7CSPMCSess%2C%2C-1%7CTheForkORSess%2C%2C-1%7CTheForkRRSess%2C%2C-1%7Cpers_rev%2C%2C-1%7CRBAPers%2C%2C-1%7CRestAds%2FRSess%2C%2C-1%7CHomeAPers%2C%2C-1%7CPremiumMobPers%2C%2C-1%7CRCSess%2C%2C-1%7CLaFourchette+MC+Banners%2C%2C-1%7CRestAdsCCSess%2C%2C-1%7CRestPremRPers%2C%2C-1%7CRevHubRMPers%2C%2C-1%7CUVOwnersPers%2C%2C-1%7Cpssamex%2C%2C-1%7CTheForkMCCSess%2C%2C-1%7CCrisisPers%2C%2C-1%7CCYLPers%2C%2C-1%7CCCPers%2C%2C-1%7CRepTarMCPers%2C%2C-1%7Cb2bmcsess%2C%2C-1%7CTSMCSess%2C%2C-1%7CSPMCPers%2C%2C-1%7CRevHubRMSess%2C%2C-1%7CPremRetSess%2C%2C-1%7CViatorMCSess%2C%2C-1%7CPremiumMCPers%2C%2C-1%7CAdsRetSess%2C%2C-1%7CPremiumRRPers%2C%2C-1%7CRestAdsCCPers%2C%2C-1%7CTADORPers%2C%2C-1%7CTheForkORPers%2C%2C-1%7CPremMCBtmPers%2C%2C-1%7CTheForkRRPers%2C%2C-1%7CTARSWBSess%2C%2C-1%7CPremiumORPers%2C%2C-1%7CRestAdsSess%2C%2C-1%7CRBASess%2C%2C-1%7CSPORPers%2C%2C-1%7Cperssticker%2C%2C-1%7CListMCPers%2C%2C-1%7C; Domain=.tripadvisor.co.id; Expires=Mon, 23-May-2033 01:00:32 GMT; Path=/\n",
      "header: Set-Cookie: BEPIN=%1%18855924f76%3Bweb225a.a.tripadvisor.com%3A30023%3B; Domain=.tripadvisor.co.id; Path=/\n",
      "header: Set-Cookie: PAC=AA0czdbBXW8mUmonMRSN5mkabZYt_1mU3yxIOxaVvkrIHyK3Z2-Rpc_kZ2HYyeR0TKrvwCxi6eYVR1w3Ef7gP0evkH6P_tv09O-Opa_CJ2iFIFpq4byhwipQVHutV6XYW6QobTXB4FES0PRHtjHxSBqNt8dq7UbpXGM_CwL8iwqWsxwSttZHSnCFHj4qHsQjHJ-gWqQT7-zAa-wnb4mxaAw%3D; Domain=www.tripadvisor.co.id; Expires=Sun, 25-May-2025 01:00:32 GMT; Path=/; Secure; HttpOnly\n",
      "header: Set-Cookie: SRT=TART_SYNC; Domain=www.tripadvisor.co.id; Expires=Fri, 26-May-2023 01:30:32 GMT; Path=/\n",
      "header: Set-Cookie: TATravelInfo=V2*AY.2023*AM.6*AD.4*DY.2023*DM.6*DD.5*A.2*MG.-1*HP.2*FL.3*DSM.1685062832082*RS.1; Domain=.tripadvisor.co.id; Expires=Fri, 09-Jun-2023 01:00:32 GMT; Path=/\n",
      "header: Set-Cookie: TAUD=LG-1685062831958-2.1.F.*RDD-2-2023_05_26*HDD-3-2023_06_04.2023_06_05.1; Domain=.tripadvisor.co.id; Expires=Fri, 09-Jun-2023 01:00:32 GMT; Path=/\n",
      "header: Set-Cookie: TASID=81C88207D26B4FF19981166DEC4F7931; Domain=www.tripadvisor.co.id; Expires=Fri, 26-May-2023 01:30:32 GMT; Path=/; Secure\n",
      "header: Set-Cookie: TAReturnTo=%1%%2FHotel_Review-g469404-d663712-Reviews-or40-Villa_8-Seminyak_Kuta_District_Bali.html; Domain=.tripadvisor.co.id; Path=/\n",
      "header: Set-Cookie: datadome=3eq3zJKaziEGmSo8vBF11TnFog5HbOPrN11hAb4SkI0fWAXmtZMWB~lD5GkgoSkUdEp-3a3X9uhULibUwBAaYGUgSbRUy4aHVoJH2Tx13cvX-3LV5pgbS9kWCLIGJk3; Max-Age=31104000; Domain=.tripadvisor.co.id; Path=/; Secure; SameSite=Lax\n",
      "Done Scrapping Villa 8 page 8\n",
      "\n",
      "\n"
     ]
    },
    {
     "name": "stderr",
     "output_type": "stream",
     "text": [
      "DEBUG:urllib3.connectionpool:Starting new HTTPS connection (1): www.tripadvisor.co.id:443\n"
     ]
    },
    {
     "name": "stdout",
     "output_type": "stream",
     "text": [
      "send: b'GET /Hotel_Review-g469404-d663712-Reviews-or45-Villa_8-Seminyak_Kuta_District_Bali.html HTTP/1.1\\r\\nHost: www.tripadvisor.co.id\\r\\nUser-Agent: Mozilla/5.0 (X11; CrOS x86_64 12871.102.0) AppleWebKit/537.36 (KHTML, like Gecko) Chrome/81.0.4044.141 Safari/537.36\\r\\nAccept-Encoding: gzip, deflate\\r\\nAccept: */*\\r\\nConnection: keep-alive\\r\\n\\r\\n'\n"
     ]
    },
    {
     "name": "stderr",
     "output_type": "stream",
     "text": [
      "DEBUG:urllib3.connectionpool:https://www.tripadvisor.co.id:443 \"GET /Hotel_Review-g469404-d663712-Reviews-or45-Villa_8-Seminyak_Kuta_District_Bali.html HTTP/1.1\" 200 None\n"
     ]
    },
    {
     "name": "stdout",
     "output_type": "stream",
     "text": [
      "reply: 'HTTP/1.1 200 OK\\r\\n'\n",
      "header: Server: envoy\n",
      "header: Link: <https://media-cdn.tripadvisor.com/media/>;rel=\"preconnect\";crossorigin\n",
      "header: Link: <https://media-cdn.tripadvisor.com/media/>;rel=\"dns-prefetch\"\n",
      "header: p3p: CP=\"NOI CURa ADMa DEVa TAIa OUR BUS IND UNI COM NAV INT DSP COR CAO PSA IDC ADM DEVi TAIi PSD IVAi IVDi CONi HIS CNT\"\n",
      "header: Pragma: no-cache\n",
      "header: Cache-Control: no-cache, no-store, must-revalidate\n",
      "header: Expires: 0\n",
      "header: Content-Language: id\n",
      "header: Link: <https://static.tacdn.com>;rel=\"dns-prefetch\"\n",
      "header: Link: <https://static.tacdn.com>;rel=\"preconnect\";crossorigin\n",
      "header: timing-allow-origin: https://www.tripadvisor.com\n",
      "header: Vary: Accept-Encoding\n",
      "header: Content-Type: text/html;charset=UTF-8\n",
      "header: x-datadome: protected\n",
      "header: Accept-CH: Sec-CH-UA,Sec-CH-UA-Mobile,Sec-CH-UA-Platform,Sec-CH-UA-Arch,Sec-CH-UA-Full-Version-List,Sec-CH-UA-Model,Sec-CH-Device-Memory\n",
      "header: Content-Encoding: gzip\n",
      "header: x-request-id: a4bed638-00df-4c99-8c7d-22dc444f3d00\n",
      "header: Date: Fri, 26 May 2023 01:00:37 GMT\n",
      "header: Transfer-Encoding: chunked\n",
      "header: Connection: keep-alive\n",
      "header: Connection: Transfer-Encoding\n",
      "header: Set-Cookie: TADCID=Xrwlezipa1NXTXd8ABQCXdElnkGETRW-Svh01l3nWnXCaUr71j3U4EzeoW_OVHQzEp5_4PpYHYcDJxolhCPQYxFtDfmGPt6170k; Domain=www.tripadvisor.co.id; Expires=Mon, 23-May-2033 01:00:37 GMT; Path=/; Secure; HttpOnly\n",
      "header: Set-Cookie: TAUnique=%1%enc%3A7ugV2uNn8oj%2B7H78yfwekiHKVVkteNxIeEqmm66QxDU2jHwltRJPGQ%3D%3D; Domain=.tripadvisor.co.id; Expires=Sun, 25-May-2025 01:00:37 GMT; Path=/; HttpOnly\n",
      "header: Set-Cookie: TASSK=enc%3AAI5yhWIDG3yXxYnNTemQRnOyWu6n1e1zZUTBF6nfDlmyshpHbtaHRDNKtkRzcRRgPLcqwIx9GoMoGn50GdUlSdoeDWNjGBfthkEEluDcq3xGiJtt9L%2BWfWCrNcJrLK4few%3D%3D; Domain=www.tripadvisor.co.id; Expires=Wed, 22-Nov-2023 01:00:37 GMT; Path=/; HttpOnly\n",
      "header: Set-Cookie: TASession=V2ID.5DAF987550BC4CC2B54418E459FE4201*SQ.1*HS.recommended*ES.popularity*DS.5*SAS.popularity*FPS.oldFirst*LF.in*FA.1*DF.0*TRA.true*LD.663712; Domain=.tripadvisor.co.id; Path=/\n",
      "header: Set-Cookie: ServerPool=R; Domain=.tripadvisor.co.id; Path=/\n",
      "header: Set-Cookie: PMC=V2*MS.76*MD.20230525*LD.20230525; Domain=www.tripadvisor.co.id; Expires=Sun, 25-May-2025 01:00:37 GMT; Path=/; Secure; HttpOnly\n",
      "header: Set-Cookie: TART=%1%enc%3A%2Fux%2B%2FMn8HpJP2h6GPB6W2YvSJ%2FsKl63aU3z4Anrw7zeCYhxsCBcnyGf07OKg9mAykagyFvowwb0%3D; Domain=www.tripadvisor.co.id; Expires=Wed, 31-May-2023 01:00:37 GMT; Path=/; HttpOnly\n",
      "header: Set-Cookie: CM=%1%PremiumMobSess%2C%2C-1%7Ct4b-pc%2C%2C-1%7CRestAds%2FRPers%2C%2C-1%7CRCPers%2C%2C-1%7CWShadeSeen%2C%2C-1%7CTheForkMCCPers%2C%2C-1%7CHomeASess%2C%2C-1%7CPremiumMCSess%2C%2C-1%7CCrisisSess%2C%2C-1%7CUVOwnersSess%2C%2C-1%7CRestPremRSess%2C%2C-1%7CRepTarMCSess%2C%2C-1%7CCCSess%2C%2C-1%7CCYLSess%2C%2C-1%7CPremRetPers%2C%2C-1%7CViatorMCPers%2C%2C-1%7Csesssticker%2C%2C-1%7C%24%2C%2C-1%7CPremiumORSess%2C%2C-1%7Ct4b-sc%2C%2C-1%7CRestAdsPers%2C%2C-1%7CMC_IB_UPSELL_IB_LOGOS2%2C%2C-1%7CTSMCPers%2C%2C-1%7Cb2bmcpers%2C%2C-1%7CPremMCBtmSess%2C%2C-1%7CMC_IB_UPSELL_IB_LOGOS%2C%2C-1%7CLaFourchette+Banners%2C%2C-1%7Csess_rev%2C%2C-1%7Csessamex%2C%2C-1%7CPremiumRRSess%2C%2C-1%7CTADORSess%2C%2C-1%7CAdsRetPers%2C%2C-1%7CListMCSess%2C%2C-1%7CTARSWBPers%2C%2C-1%7CSPMCSess%2C%2C-1%7CTheForkORSess%2C%2C-1%7CTheForkRRSess%2C%2C-1%7Cpers_rev%2C%2C-1%7CRBAPers%2C%2C-1%7CRestAds%2FRSess%2C%2C-1%7CHomeAPers%2C%2C-1%7CPremiumMobPers%2C%2C-1%7CRCSess%2C%2C-1%7CLaFourchette+MC+Banners%2C%2C-1%7CRestAdsCCSess%2C%2C-1%7CRestPremRPers%2C%2C-1%7CRevHubRMPers%2C%2C-1%7CUVOwnersPers%2C%2C-1%7Cpssamex%2C%2C-1%7CTheForkMCCSess%2C%2C-1%7CCrisisPers%2C%2C-1%7CCYLPers%2C%2C-1%7CCCPers%2C%2C-1%7CRepTarMCPers%2C%2C-1%7Cb2bmcsess%2C%2C-1%7CTSMCSess%2C%2C-1%7CSPMCPers%2C%2C-1%7CRevHubRMSess%2C%2C-1%7CPremRetSess%2C%2C-1%7CViatorMCSess%2C%2C-1%7CPremiumMCPers%2C%2C-1%7CAdsRetSess%2C%2C-1%7CPremiumRRPers%2C%2C-1%7CRestAdsCCPers%2C%2C-1%7CTADORPers%2C%2C-1%7CTheForkORPers%2C%2C-1%7CPremMCBtmPers%2C%2C-1%7CTheForkRRPers%2C%2C-1%7CTARSWBSess%2C%2C-1%7CPremiumORPers%2C%2C-1%7CRestAdsSess%2C%2C-1%7CRBASess%2C%2C-1%7CSPORPers%2C%2C-1%7Cperssticker%2C%2C-1%7CListMCPers%2C%2C-1%7C; Domain=.tripadvisor.co.id; Expires=Mon, 23-May-2033 01:00:37 GMT; Path=/\n",
      "header: Set-Cookie: BEPIN=%1%188559263f6%3Bweb215a.a.tripadvisor.com%3A30023%3B; Domain=.tripadvisor.co.id; Path=/\n",
      "header: Set-Cookie: PAC=ACMRyrEWY8kay8Lc5WzPhi4abyp2xx6qjLfgn1QwZcTzpH0J_5tZcT91-cMAeIRuB0sNqSZ97uCPv_8yO383iwRGHsw2lM-Yn4OlsKoHOtK9FuBqaRAis4OX2t3JzXK93_NmJSnYJNjkGKgSh1P9kuUA34NLjvQHBcExSaU5m6uaPG0xpxTiKIslPZCg_AN2sfyrlLSuT1ZLqgKjp8QaByM%3D; Domain=www.tripadvisor.co.id; Expires=Sun, 25-May-2025 01:00:37 GMT; Path=/; Secure; HttpOnly\n",
      "header: Set-Cookie: SRT=TART_SYNC; Domain=www.tripadvisor.co.id; Expires=Fri, 26-May-2023 01:30:37 GMT; Path=/\n",
      "header: Set-Cookie: TATravelInfo=V2*AY.2023*AM.6*AD.4*DY.2023*DM.6*DD.5*A.2*MG.-1*HP.2*FL.3*DSM.1685062837331*RS.1; Domain=.tripadvisor.co.id; Expires=Fri, 09-Jun-2023 01:00:37 GMT; Path=/\n",
      "header: Set-Cookie: TAUD=LG-1685062837220-2.1.F.*RDD-2-2023_05_26*HDD-3-2023_06_04.2023_06_05.1; Domain=.tripadvisor.co.id; Expires=Fri, 09-Jun-2023 01:00:37 GMT; Path=/\n",
      "header: Set-Cookie: TASID=5DAF987550BC4CC2B54418E459FE4201; Domain=www.tripadvisor.co.id; Expires=Fri, 26-May-2023 01:30:37 GMT; Path=/; Secure\n",
      "header: Set-Cookie: TAReturnTo=%1%%2FHotel_Review-g469404-d663712-Reviews-or45-Villa_8-Seminyak_Kuta_District_Bali.html; Domain=.tripadvisor.co.id; Path=/\n",
      "header: Set-Cookie: datadome=7DpCnaOsGyWH0aYjjq5AqDzztDXauDl2oykm7bqKfC_BlayWG~Q~uXTaNLbkfywSOYd5chN3Um_3dTi~p88joYsGqhEbCZu4LIph8YSN3Y9dOeVs0mMKCUsy4UPfLEkI; Max-Age=31104000; Domain=.tripadvisor.co.id; Path=/; Secure; SameSite=Lax\n",
      "Done Scrapping Villa 8 page 9\n",
      "\n",
      "\n"
     ]
    },
    {
     "name": "stderr",
     "output_type": "stream",
     "text": [
      "DEBUG:urllib3.connectionpool:Starting new HTTPS connection (1): www.tripadvisor.co.id:443\n"
     ]
    },
    {
     "name": "stdout",
     "output_type": "stream",
     "text": [
      "send: b'GET /Hotel_Review-g469404-d663712-Reviews-or50-Villa_8-Seminyak_Kuta_District_Bali.html HTTP/1.1\\r\\nHost: www.tripadvisor.co.id\\r\\nUser-Agent: Mozilla/5.0 (X11; CrOS x86_64 12871.102.0) AppleWebKit/537.36 (KHTML, like Gecko) Chrome/81.0.4044.141 Safari/537.36\\r\\nAccept-Encoding: gzip, deflate\\r\\nAccept: */*\\r\\nConnection: keep-alive\\r\\n\\r\\n'\n"
     ]
    },
    {
     "name": "stderr",
     "output_type": "stream",
     "text": [
      "DEBUG:urllib3.connectionpool:https://www.tripadvisor.co.id:443 \"GET /Hotel_Review-g469404-d663712-Reviews-or50-Villa_8-Seminyak_Kuta_District_Bali.html HTTP/1.1\" 200 None\n"
     ]
    },
    {
     "name": "stdout",
     "output_type": "stream",
     "text": [
      "reply: 'HTTP/1.1 200 OK\\r\\n'\n",
      "header: Server: envoy\n",
      "header: Link: <https://media-cdn.tripadvisor.com/media/>;rel=\"preconnect\";crossorigin\n",
      "header: Link: <https://media-cdn.tripadvisor.com/media/>;rel=\"dns-prefetch\"\n",
      "header: p3p: CP=\"NOI CURa ADMa DEVa TAIa OUR BUS IND UNI COM NAV INT DSP COR CAO PSA IDC ADM DEVi TAIi PSD IVAi IVDi CONi HIS CNT\"\n",
      "header: Pragma: no-cache\n",
      "header: Cache-Control: no-cache, no-store, must-revalidate\n",
      "header: Expires: 0\n",
      "header: Content-Language: id\n",
      "header: Link: <https://static.tacdn.com>;rel=\"dns-prefetch\"\n",
      "header: Link: <https://static.tacdn.com>;rel=\"preconnect\";crossorigin\n",
      "header: timing-allow-origin: https://www.tripadvisor.com\n",
      "header: Vary: Accept-Encoding\n",
      "header: Content-Type: text/html;charset=UTF-8\n",
      "header: x-datadome: protected\n",
      "header: Accept-CH: Sec-CH-UA,Sec-CH-UA-Mobile,Sec-CH-UA-Platform,Sec-CH-UA-Arch,Sec-CH-UA-Full-Version-List,Sec-CH-UA-Model,Sec-CH-Device-Memory\n",
      "header: Content-Encoding: gzip\n",
      "header: x-request-id: 0a2d7d0f-d135-47d9-8a80-4897ac73f5bf\n",
      "header: Date: Fri, 26 May 2023 01:00:42 GMT\n",
      "header: Transfer-Encoding: chunked\n",
      "header: Connection: keep-alive\n",
      "header: Connection: Transfer-Encoding\n",
      "header: Set-Cookie: TADCID=BWYoXHXbAi6K-rEAABQCXdElnkGETRW-Svh01l3nWnXCaYrXNG258mmANr7YcgdfPrukjhM4eFZSq_7xM1ivliijLgrTeeypP4U; Domain=www.tripadvisor.co.id; Expires=Mon, 23-May-2033 01:00:41 GMT; Path=/; Secure; HttpOnly\n",
      "header: Set-Cookie: TAUnique=%1%enc%3AeHVMXz6hVrf%2B7H78yfwekiHKVVkteNxICfPmcPNHV1w2jHwltRJPGQ%3D%3D; Domain=.tripadvisor.co.id; Expires=Sun, 25-May-2025 01:00:41 GMT; Path=/; HttpOnly\n",
      "header: Set-Cookie: TASSK=enc%3AALVfME7lihtEbb0O6lYO5a03PJ%2FWRD4FwGb0pTBF6oXkf8safA7XMqSC8fZ%2BAvps09sfG%2BDyctMgPqpqv0Xipqwnrl4x40cMvip%2B2YTNCvffTupQ66zuB7Oc4o2kkCzpVQ%3D%3D; Domain=www.tripadvisor.co.id; Expires=Wed, 22-Nov-2023 01:00:42 GMT; Path=/; HttpOnly\n",
      "header: Set-Cookie: TASession=V2ID.CD0610B50A224A9AB24AB39D2C2DD04B*SQ.1*HS.recommended*ES.popularity*DS.5*SAS.popularity*FPS.oldFirst*LF.in*FA.1*DF.0*TRA.true*LD.663712; Domain=.tripadvisor.co.id; Path=/\n",
      "header: Set-Cookie: ServerPool=A; Domain=.tripadvisor.co.id; Path=/\n",
      "header: Set-Cookie: PMC=V2*MS.40*MD.20230525*LD.20230525; Domain=www.tripadvisor.co.id; Expires=Sun, 25-May-2025 01:00:42 GMT; Path=/; Secure; HttpOnly\n",
      "header: Set-Cookie: TART=%1%enc%3A%2Fux%2B%2FMn8HpJSGYiliK0R%2FLuW0vNeYKI%2BpzIG%2FfKfhf1YOY659EabxkXMO8tb%2B4IByx9HjuV9fk0%3D; Domain=www.tripadvisor.co.id; Expires=Wed, 31-May-2023 01:00:42 GMT; Path=/; HttpOnly\n",
      "header: Set-Cookie: CM=%1%PremiumMobSess%2C%2C-1%7Ct4b-pc%2C%2C-1%7CRestAds%2FRPers%2C%2C-1%7CRCPers%2C%2C-1%7CWShadeSeen%2C%2C-1%7CTheForkMCCPers%2C%2C-1%7CHomeASess%2C%2C-1%7CPremiumMCSess%2C%2C-1%7CCrisisSess%2C%2C-1%7CUVOwnersSess%2C%2C-1%7CRestPremRSess%2C%2C-1%7CRepTarMCSess%2C%2C-1%7CCCSess%2C%2C-1%7CCYLSess%2C%2C-1%7CPremRetPers%2C%2C-1%7CViatorMCPers%2C%2C-1%7Csesssticker%2C%2C-1%7C%24%2C%2C-1%7CPremiumORSess%2C%2C-1%7Ct4b-sc%2C%2C-1%7CRestAdsPers%2C%2C-1%7CMC_IB_UPSELL_IB_LOGOS2%2C%2C-1%7CTSMCPers%2C%2C-1%7Cb2bmcpers%2C%2C-1%7CPremMCBtmSess%2C%2C-1%7CMC_IB_UPSELL_IB_LOGOS%2C%2C-1%7CLaFourchette+Banners%2C%2C-1%7Csess_rev%2C%2C-1%7Csessamex%2C%2C-1%7CPremiumRRSess%2C%2C-1%7CTADORSess%2C%2C-1%7CAdsRetPers%2C%2C-1%7CListMCSess%2C%2C-1%7CTARSWBPers%2C%2C-1%7CSPMCSess%2C%2C-1%7CTheForkORSess%2C%2C-1%7CTheForkRRSess%2C%2C-1%7Cpers_rev%2C%2C-1%7CRBAPers%2C%2C-1%7CRestAds%2FRSess%2C%2C-1%7CHomeAPers%2C%2C-1%7CPremiumMobPers%2C%2C-1%7CRCSess%2C%2C-1%7CLaFourchette+MC+Banners%2C%2C-1%7CRestAdsCCSess%2C%2C-1%7CRestPremRPers%2C%2C-1%7CRevHubRMPers%2C%2C-1%7CUVOwnersPers%2C%2C-1%7Cpssamex%2C%2C-1%7CTheForkMCCSess%2C%2C-1%7CCrisisPers%2C%2C-1%7CCYLPers%2C%2C-1%7CCCPers%2C%2C-1%7CRepTarMCPers%2C%2C-1%7Cb2bmcsess%2C%2C-1%7CTSMCSess%2C%2C-1%7CSPMCPers%2C%2C-1%7CRevHubRMSess%2C%2C-1%7CPremRetSess%2C%2C-1%7CViatorMCSess%2C%2C-1%7CPremiumMCPers%2C%2C-1%7CAdsRetSess%2C%2C-1%7CPremiumRRPers%2C%2C-1%7CRestAdsCCPers%2C%2C-1%7CTADORPers%2C%2C-1%7CTheForkORPers%2C%2C-1%7CPremMCBtmPers%2C%2C-1%7CTheForkRRPers%2C%2C-1%7CTARSWBSess%2C%2C-1%7CPremiumORPers%2C%2C-1%7CRestAdsSess%2C%2C-1%7CRBASess%2C%2C-1%7CSPORPers%2C%2C-1%7Cperssticker%2C%2C-1%7CListMCPers%2C%2C-1%7C; Domain=.tripadvisor.co.id; Expires=Mon, 23-May-2033 01:00:42 GMT; Path=/\n",
      "header: Set-Cookie: BEPIN=%1%18855927548%3Bweb251a.a.tripadvisor.com%3A30023%3B; Domain=.tripadvisor.co.id; Path=/\n",
      "header: Set-Cookie: PAC=AHbVtrtiMc65-QU7KPMKPkNNHiG66669dtZnXuiSmQMTE5wRF3n29wznHDw_7jPDo9p31jt6s74DE-ptOFpjGHXOrp2QUVytoJIftAwOquLNFCv306nP-Igak66BaGJSMPaoh7uH1RQRoyZjbvQZFUX2uqPM3oylRPfcJwf1BY_xNiKtyTqbrS1OYiNRR-kTv_l-gwwxeQ2KD_18sVkBowo%3D; Domain=www.tripadvisor.co.id; Expires=Sun, 25-May-2025 01:00:42 GMT; Path=/; Secure; HttpOnly\n",
      "header: Set-Cookie: SRT=TART_SYNC; Domain=www.tripadvisor.co.id; Expires=Fri, 26-May-2023 01:30:42 GMT; Path=/\n",
      "header: Set-Cookie: TATravelInfo=V2*AY.2023*AM.6*AD.4*DY.2023*DM.6*DD.5*A.2*MG.-1*HP.2*FL.3*DSM.1685062841779*RS.1; Domain=.tripadvisor.co.id; Expires=Fri, 09-Jun-2023 01:00:42 GMT; Path=/\n",
      "header: Set-Cookie: TAUD=LG-1685062841657-2.1.F.*RDD-2-2023_05_26*HDD-3-2023_06_04.2023_06_05.1; Domain=.tripadvisor.co.id; Expires=Fri, 09-Jun-2023 01:00:42 GMT; Path=/\n",
      "header: Set-Cookie: TASID=CD0610B50A224A9AB24AB39D2C2DD04B; Domain=www.tripadvisor.co.id; Expires=Fri, 26-May-2023 01:30:42 GMT; Path=/; Secure\n",
      "header: Set-Cookie: TAReturnTo=%1%%2FHotel_Review-g469404-d663712-Reviews-or50-Villa_8-Seminyak_Kuta_District_Bali.html; Domain=.tripadvisor.co.id; Path=/\n",
      "header: Set-Cookie: datadome=3Mu390HXThG~8Yfw39pdnB74Q1PQoO_T8J2E2yajheNEhE0tQt6EkcnVReFAI-ce2IgtifkaATky0PlWbOgsgkEQ-shj4xt2bsYPjhXOkg69mSVSxofF4~SeH~Cg1k5r; Max-Age=31104000; Domain=.tripadvisor.co.id; Path=/; Secure; SameSite=Lax\n",
      "Done Scrapping Villa 8 page 10\n",
      "\n",
      "\n"
     ]
    },
    {
     "name": "stderr",
     "output_type": "stream",
     "text": [
      "DEBUG:urllib3.connectionpool:Starting new HTTPS connection (1): www.tripadvisor.co.id:443\n"
     ]
    },
    {
     "name": "stdout",
     "output_type": "stream",
     "text": [
      "send: b'GET /Hotel_Review-g469404-d663712-Reviews-or55-Villa_8-Seminyak_Kuta_District_Bali.html HTTP/1.1\\r\\nHost: www.tripadvisor.co.id\\r\\nUser-Agent: Mozilla/5.0 (X11; CrOS x86_64 12871.102.0) AppleWebKit/537.36 (KHTML, like Gecko) Chrome/81.0.4044.141 Safari/537.36\\r\\nAccept-Encoding: gzip, deflate\\r\\nAccept: */*\\r\\nConnection: keep-alive\\r\\n\\r\\n'\n"
     ]
    },
    {
     "name": "stderr",
     "output_type": "stream",
     "text": [
      "DEBUG:urllib3.connectionpool:https://www.tripadvisor.co.id:443 \"GET /Hotel_Review-g469404-d663712-Reviews-or55-Villa_8-Seminyak_Kuta_District_Bali.html HTTP/1.1\" 200 None\n"
     ]
    },
    {
     "name": "stdout",
     "output_type": "stream",
     "text": [
      "reply: 'HTTP/1.1 200 OK\\r\\n'\n",
      "header: Server: envoy\n",
      "header: Link: <https://media-cdn.tripadvisor.com/media/>;rel=\"preconnect\";crossorigin\n",
      "header: Link: <https://media-cdn.tripadvisor.com/media/>;rel=\"dns-prefetch\"\n",
      "header: p3p: CP=\"NOI CURa ADMa DEVa TAIa OUR BUS IND UNI COM NAV INT DSP COR CAO PSA IDC ADM DEVi TAIi PSD IVAi IVDi CONi HIS CNT\"\n",
      "header: Pragma: no-cache\n",
      "header: Cache-Control: no-cache, no-store, must-revalidate\n",
      "header: Expires: 0\n",
      "header: Content-Language: id\n",
      "header: Link: <https://static.tacdn.com>;rel=\"dns-prefetch\"\n",
      "header: Link: <https://static.tacdn.com>;rel=\"preconnect\";crossorigin\n",
      "header: timing-allow-origin: https://www.tripadvisor.com\n",
      "header: Vary: Accept-Encoding\n",
      "header: Content-Type: text/html;charset=UTF-8\n",
      "header: Accept-CH: Sec-CH-UA,Sec-CH-UA-Mobile,Sec-CH-UA-Platform,Sec-CH-UA-Arch,Sec-CH-UA-Full-Version-List,Sec-CH-UA-Model,Sec-CH-Device-Memory\n",
      "header: x-datadome: protected\n",
      "header: Content-Encoding: gzip\n",
      "header: x-request-id: 6b56114e-c655-414b-8292-3721dc6e11e2\n",
      "header: Date: Fri, 26 May 2023 01:00:46 GMT\n",
      "header: Transfer-Encoding: chunked\n",
      "header: Connection: keep-alive\n",
      "header: Connection: Transfer-Encoding\n",
      "header: Set-Cookie: TADCID=YCBj1OBBfu8K0EGrABQCXdElnkGETRW-Svh01l3nWnXCaSJzMHa2ibRyzvxa5D64aDLmE12Z-g39Ht-5ycSM8irGzUvzyGmhOFE; Domain=www.tripadvisor.co.id; Expires=Mon, 23-May-2033 01:00:46 GMT; Path=/; Secure; HttpOnly\n",
      "header: Set-Cookie: TAUnique=%1%enc%3AayfAkwbJJef%2B7H78yfwekiHKVVkteNxIHnpG8Z6lh6U2jHwltRJPGQ%3D%3D; Domain=.tripadvisor.co.id; Expires=Sun, 25-May-2025 01:00:46 GMT; Path=/; HttpOnly\n",
      "header: Set-Cookie: TASSK=enc%3AAD7t6lLWGpkxC3UYZtFBzZC6M1xwk9XgJWwS858gCyVWMqyvprCr%2BPdKW%2FUb3PA0Rr%2FyEATH5XRewSug4CBDl8efhUWVwJ9AM7IfVd%2BsUELTpzjZn9eeQaCSwkaln%2BZQ%2BA%3D%3D; Domain=www.tripadvisor.co.id; Expires=Wed, 22-Nov-2023 01:00:46 GMT; Path=/; HttpOnly\n",
      "header: Set-Cookie: TASession=V2ID.4CB2812FAD45453B9A43F14E00A5FCE9*SQ.1*HS.recommended*ES.popularity*DS.5*SAS.popularity*FPS.oldFirst*LF.in*FA.1*DF.0*TRA.true*LD.663712; Domain=.tripadvisor.co.id; Path=/\n",
      "header: Set-Cookie: ServerPool=C; Domain=.tripadvisor.co.id; Path=/\n",
      "header: Set-Cookie: PMC=V2*MS.18*MD.20230525*LD.20230525; Domain=www.tripadvisor.co.id; Expires=Sun, 25-May-2025 01:00:46 GMT; Path=/; Secure; HttpOnly\n",
      "header: Set-Cookie: TART=%1%enc%3A%2Fux%2B%2FMn8HpI%2FlBbrn4XZmxU3bHDz1wR3sw8iT2sDstGJ2VLP3kL0CgwGaEP%2FNX3okagyFvowwb0%3D; Domain=www.tripadvisor.co.id; Expires=Wed, 31-May-2023 01:00:46 GMT; Path=/; HttpOnly\n",
      "header: Set-Cookie: CM=%1%PremiumMobSess%2C%2C-1%7Ct4b-pc%2C%2C-1%7CRestAds%2FRPers%2C%2C-1%7CRCPers%2C%2C-1%7CWShadeSeen%2C%2C-1%7CTheForkMCCPers%2C%2C-1%7CHomeASess%2C%2C-1%7CPremiumMCSess%2C%2C-1%7CCrisisSess%2C%2C-1%7CUVOwnersSess%2C%2C-1%7CRestPremRSess%2C%2C-1%7CRepTarMCSess%2C%2C-1%7CCCSess%2C%2C-1%7CCYLSess%2C%2C-1%7CPremRetPers%2C%2C-1%7CViatorMCPers%2C%2C-1%7Csesssticker%2C%2C-1%7C%24%2C%2C-1%7CPremiumORSess%2C%2C-1%7Ct4b-sc%2C%2C-1%7CRestAdsPers%2C%2C-1%7CMC_IB_UPSELL_IB_LOGOS2%2C%2C-1%7CTSMCPers%2C%2C-1%7Cb2bmcpers%2C%2C-1%7CPremMCBtmSess%2C%2C-1%7CMC_IB_UPSELL_IB_LOGOS%2C%2C-1%7CLaFourchette+Banners%2C%2C-1%7Csess_rev%2C%2C-1%7Csessamex%2C%2C-1%7CPremiumRRSess%2C%2C-1%7CTADORSess%2C%2C-1%7CAdsRetPers%2C%2C-1%7CListMCSess%2C%2C-1%7CTARSWBPers%2C%2C-1%7CSPMCSess%2C%2C-1%7CTheForkORSess%2C%2C-1%7CTheForkRRSess%2C%2C-1%7Cpers_rev%2C%2C-1%7CRBAPers%2C%2C-1%7CRestAds%2FRSess%2C%2C-1%7CHomeAPers%2C%2C-1%7CPremiumMobPers%2C%2C-1%7CRCSess%2C%2C-1%7CLaFourchette+MC+Banners%2C%2C-1%7CRestAdsCCSess%2C%2C-1%7CRestPremRPers%2C%2C-1%7CRevHubRMPers%2C%2C-1%7CUVOwnersPers%2C%2C-1%7Cpssamex%2C%2C-1%7CTheForkMCCSess%2C%2C-1%7CCrisisPers%2C%2C-1%7CCYLPers%2C%2C-1%7CCCPers%2C%2C-1%7CRepTarMCPers%2C%2C-1%7Cb2bmcsess%2C%2C-1%7CTSMCSess%2C%2C-1%7CSPMCPers%2C%2C-1%7CRevHubRMSess%2C%2C-1%7CPremRetSess%2C%2C-1%7CViatorMCSess%2C%2C-1%7CPremiumMCPers%2C%2C-1%7CAdsRetSess%2C%2C-1%7CPremiumRRPers%2C%2C-1%7CRestAdsCCPers%2C%2C-1%7CTADORPers%2C%2C-1%7CTheForkORPers%2C%2C-1%7CPremMCBtmPers%2C%2C-1%7CTheForkRRPers%2C%2C-1%7CTARSWBSess%2C%2C-1%7CPremiumORPers%2C%2C-1%7CRestAdsSess%2C%2C-1%7CRBASess%2C%2C-1%7CSPORPers%2C%2C-1%7Cperssticker%2C%2C-1%7CListMCPers%2C%2C-1%7C; Domain=.tripadvisor.co.id; Expires=Mon, 23-May-2033 01:00:46 GMT; Path=/\n",
      "header: Set-Cookie: BEPIN=%1%18855928701%3Bweb271a.a.tripadvisor.com%3A30023%3B; Domain=.tripadvisor.co.id; Path=/\n",
      "header: Set-Cookie: PAC=AAFSlRlwiHTV_kcKvyC8-CPByTZi7_0UJX_ptAaufJ1NFBkGA_W5vPkGnsGFe6CbNrsMbsCclGHDwOsFycwpKsMf8f62kaB6NRQBeAeKcH3aJ1uaOKWYFu7GcgU38diEXkOu3fM_shC28-Xtkn6wemu4hMzatHDa_Wo-ti418zPfSdiiVAmcqlOy7qc3FpnhDliCCC8zKwKd0esnVh79LOA%3D; Domain=www.tripadvisor.co.id; Expires=Sun, 25-May-2025 01:00:46 GMT; Path=/; Secure; HttpOnly\n",
      "header: Set-Cookie: SRT=TART_SYNC; Domain=www.tripadvisor.co.id; Expires=Fri, 26-May-2023 01:30:46 GMT; Path=/\n",
      "header: Set-Cookie: TATravelInfo=V2*AY.2023*AM.6*AD.4*DY.2023*DM.6*DD.5*A.2*MG.-1*HP.2*FL.3*DSM.1685062846308*RS.1; Domain=.tripadvisor.co.id; Expires=Fri, 09-Jun-2023 01:00:46 GMT; Path=/\n",
      "header: Set-Cookie: TAUD=LG-1685062846193-2.1.F.*RDD-2-2023_05_26*HDD-3-2023_06_04.2023_06_05.1; Domain=.tripadvisor.co.id; Expires=Fri, 09-Jun-2023 01:00:46 GMT; Path=/\n",
      "header: Set-Cookie: TASID=4CB2812FAD45453B9A43F14E00A5FCE9; Domain=www.tripadvisor.co.id; Expires=Fri, 26-May-2023 01:30:46 GMT; Path=/; Secure\n",
      "header: Set-Cookie: TAReturnTo=%1%%2FHotel_Review-g469404-d663712-Reviews-or55-Villa_8-Seminyak_Kuta_District_Bali.html; Domain=.tripadvisor.co.id; Path=/\n",
      "header: Set-Cookie: datadome=3~a~EQsY6Y7A_QMLKfGUZ-NJ1IgjVjHqnBlUNPnxAfFPa3Upp1UPgVhiktD_TI~OoZM8ye61Ajztyx~US~pUQ6TYqSDh1HIH4Nx8WzNwdFg5S5RV7NtEjJgTIEYVMB0e; Max-Age=31104000; Domain=.tripadvisor.co.id; Path=/; Secure; SameSite=Lax\n",
      "Done Scrapping Villa 8 page 11\n",
      "\n",
      "\n"
     ]
    },
    {
     "name": "stderr",
     "output_type": "stream",
     "text": [
      "DEBUG:urllib3.connectionpool:Starting new HTTPS connection (1): www.tripadvisor.co.id:443\n"
     ]
    },
    {
     "name": "stdout",
     "output_type": "stream",
     "text": [
      "send: b'GET /Hotel_Review-g469404-d663712-Reviews-or60-Villa_8-Seminyak_Kuta_District_Bali.html HTTP/1.1\\r\\nHost: www.tripadvisor.co.id\\r\\nUser-Agent: Mozilla/5.0 (X11; CrOS x86_64 12871.102.0) AppleWebKit/537.36 (KHTML, like Gecko) Chrome/81.0.4044.141 Safari/537.36\\r\\nAccept-Encoding: gzip, deflate\\r\\nAccept: */*\\r\\nConnection: keep-alive\\r\\n\\r\\n'\n"
     ]
    },
    {
     "name": "stderr",
     "output_type": "stream",
     "text": [
      "DEBUG:urllib3.connectionpool:https://www.tripadvisor.co.id:443 \"GET /Hotel_Review-g469404-d663712-Reviews-or60-Villa_8-Seminyak_Kuta_District_Bali.html HTTP/1.1\" 200 None\n"
     ]
    },
    {
     "name": "stdout",
     "output_type": "stream",
     "text": [
      "reply: 'HTTP/1.1 200 OK\\r\\n'\n",
      "header: Server: envoy\n",
      "header: Link: <https://media-cdn.tripadvisor.com/media/>;rel=\"preconnect\";crossorigin\n",
      "header: Link: <https://media-cdn.tripadvisor.com/media/>;rel=\"dns-prefetch\"\n",
      "header: p3p: CP=\"NOI CURa ADMa DEVa TAIa OUR BUS IND UNI COM NAV INT DSP COR CAO PSA IDC ADM DEVi TAIi PSD IVAi IVDi CONi HIS CNT\"\n",
      "header: Pragma: no-cache\n",
      "header: Cache-Control: no-cache, no-store, must-revalidate\n",
      "header: Expires: 0\n",
      "header: Content-Language: id\n",
      "header: Link: <https://static.tacdn.com>;rel=\"dns-prefetch\"\n",
      "header: Link: <https://static.tacdn.com>;rel=\"preconnect\";crossorigin\n",
      "header: timing-allow-origin: https://www.tripadvisor.com\n",
      "header: Vary: Accept-Encoding\n",
      "header: Content-Type: text/html;charset=UTF-8\n",
      "header: x-datadome: protected\n",
      "header: Accept-CH: Sec-CH-UA,Sec-CH-UA-Mobile,Sec-CH-UA-Platform,Sec-CH-UA-Arch,Sec-CH-UA-Full-Version-List,Sec-CH-UA-Model,Sec-CH-Device-Memory\n",
      "header: Content-Encoding: gzip\n",
      "header: x-request-id: 50c4099b-bf6b-437a-8b3c-82be132036d4\n",
      "header: Date: Fri, 26 May 2023 01:00:52 GMT\n",
      "header: Transfer-Encoding: chunked\n",
      "header: Connection: keep-alive\n",
      "header: Connection: Transfer-Encoding\n",
      "header: Set-Cookie: TADCID=kqUqkMQg0bwWOP8LABQCXdElnkGETRW-Svh01l3nWnXCaYXFh2UDvTGpeZFHddDMCEPSNobtxmpa5-3EMO3gRiVHitrEctE2Pko; Domain=www.tripadvisor.co.id; Expires=Mon, 23-May-2033 01:00:51 GMT; Path=/; Secure; HttpOnly\n",
      "header: Set-Cookie: TAUnique=%1%enc%3AZPIqSwLBkkL%2B7H78yfwekiHKVVkteNxIfxJKwfuDuKY2jHwltRJPGQ%3D%3D; Domain=.tripadvisor.co.id; Expires=Sun, 25-May-2025 01:00:51 GMT; Path=/; HttpOnly\n",
      "header: Set-Cookie: TASSK=enc%3AAKIJ7CdBv1kwgb4%2Fbqok2nhjGH%2B96gosbg0MKAYj07WhkDdEvG%2BXucx3HyRjaDMBOFFzfOti9gEtHOQXpOIpXV1BHWBwbtaOpX%2BKEzqAFtqazVAxNiDI7Mh8tTeq90NxvQ%3D%3D; Domain=www.tripadvisor.co.id; Expires=Wed, 22-Nov-2023 01:00:51 GMT; Path=/; HttpOnly\n",
      "header: Set-Cookie: TASession=V2ID.82510B4FEF574D3D83F3824DBA7543A3*SQ.1*HS.recommended*ES.popularity*DS.5*SAS.popularity*FPS.oldFirst*LF.in*FA.1*DF.0*TRA.true*LD.663712; Domain=.tripadvisor.co.id; Path=/\n",
      "header: Set-Cookie: ServerPool=R; Domain=.tripadvisor.co.id; Path=/\n",
      "header: Set-Cookie: PMC=V2*MS.10*MD.20230525*LD.20230525; Domain=www.tripadvisor.co.id; Expires=Sun, 25-May-2025 01:00:51 GMT; Path=/; Secure; HttpOnly\n",
      "header: Set-Cookie: TART=%1%enc%3A%2Fux%2B%2FMn8HpIR9FEC7ghoARQ3Pe3I01jfIHjM7aMt7o4lJxritqZm2poIjgQFXoUxRsNr41gHGgI%3D; Domain=www.tripadvisor.co.id; Expires=Wed, 31-May-2023 01:00:51 GMT; Path=/; HttpOnly\n",
      "header: Set-Cookie: CM=%1%PremiumMobSess%2C%2C-1%7Ct4b-pc%2C%2C-1%7CRestAds%2FRPers%2C%2C-1%7CRCPers%2C%2C-1%7CWShadeSeen%2C%2C-1%7CTheForkMCCPers%2C%2C-1%7CHomeASess%2C%2C-1%7CPremiumMCSess%2C%2C-1%7CCrisisSess%2C%2C-1%7CUVOwnersSess%2C%2C-1%7CRestPremRSess%2C%2C-1%7CRepTarMCSess%2C%2C-1%7CCCSess%2C%2C-1%7CCYLSess%2C%2C-1%7CPremRetPers%2C%2C-1%7CViatorMCPers%2C%2C-1%7Csesssticker%2C%2C-1%7C%24%2C%2C-1%7CPremiumORSess%2C%2C-1%7Ct4b-sc%2C%2C-1%7CRestAdsPers%2C%2C-1%7CMC_IB_UPSELL_IB_LOGOS2%2C%2C-1%7CTSMCPers%2C%2C-1%7Cb2bmcpers%2C%2C-1%7CPremMCBtmSess%2C%2C-1%7CMC_IB_UPSELL_IB_LOGOS%2C%2C-1%7CLaFourchette+Banners%2C%2C-1%7Csess_rev%2C%2C-1%7Csessamex%2C%2C-1%7CPremiumRRSess%2C%2C-1%7CTADORSess%2C%2C-1%7CAdsRetPers%2C%2C-1%7CListMCSess%2C%2C-1%7CTARSWBPers%2C%2C-1%7CSPMCSess%2C%2C-1%7CTheForkORSess%2C%2C-1%7CTheForkRRSess%2C%2C-1%7Cpers_rev%2C%2C-1%7CRBAPers%2C%2C-1%7CRestAds%2FRSess%2C%2C-1%7CHomeAPers%2C%2C-1%7CPremiumMobPers%2C%2C-1%7CRCSess%2C%2C-1%7CLaFourchette+MC+Banners%2C%2C-1%7CRestAdsCCSess%2C%2C-1%7CRestPremRPers%2C%2C-1%7CRevHubRMPers%2C%2C-1%7CUVOwnersPers%2C%2C-1%7Cpssamex%2C%2C-1%7CTheForkMCCSess%2C%2C-1%7CCrisisPers%2C%2C-1%7CCYLPers%2C%2C-1%7CCCPers%2C%2C-1%7CRepTarMCPers%2C%2C-1%7Cb2bmcsess%2C%2C-1%7CTSMCSess%2C%2C-1%7CSPMCPers%2C%2C-1%7CRevHubRMSess%2C%2C-1%7CPremRetSess%2C%2C-1%7CViatorMCSess%2C%2C-1%7CPremiumMCPers%2C%2C-1%7CAdsRetSess%2C%2C-1%7CPremiumRRPers%2C%2C-1%7CRestAdsCCPers%2C%2C-1%7CTADORPers%2C%2C-1%7CTheForkORPers%2C%2C-1%7CPremMCBtmPers%2C%2C-1%7CTheForkRRPers%2C%2C-1%7CTARSWBSess%2C%2C-1%7CPremiumORPers%2C%2C-1%7CRestAdsSess%2C%2C-1%7CRBASess%2C%2C-1%7CSPORPers%2C%2C-1%7Cperssticker%2C%2C-1%7CListMCPers%2C%2C-1%7C; Domain=.tripadvisor.co.id; Expires=Mon, 23-May-2033 01:00:51 GMT; Path=/\n",
      "header: Set-Cookie: BEPIN=%1%18855929b85%3Bweb379a.a.tripadvisor.com%3A30023%3B; Domain=.tripadvisor.co.id; Path=/\n",
      "header: Set-Cookie: PAC=AOe2HMfhv1nFCXa4xy7ePoG3MArO6yAGTd8LuFEhH1h6pC6wyVfa3maan1CPVbTHndFvLNj4Yjl9xNiczaQwhry7aP_vlIdT0RgxCQ5F_PL4y9ZwLWF9YLTF2kZJVXnQSkUHtylz04_0S1732g9fLttjAAtqoDuXBIiYNUid0M9htfK-tPsMWqfmHl-7bvjbrg_paCaEiuMI2f6ED8Jw8hk%3D; Domain=www.tripadvisor.co.id; Expires=Sun, 25-May-2025 01:00:51 GMT; Path=/; Secure; HttpOnly\n",
      "header: Set-Cookie: SRT=TART_SYNC; Domain=www.tripadvisor.co.id; Expires=Fri, 26-May-2023 01:30:51 GMT; Path=/\n",
      "header: Set-Cookie: TATravelInfo=V2*AY.2023*AM.6*AD.4*DY.2023*DM.6*DD.5*A.2*MG.-1*HP.2*FL.3*DSM.1685062851557*RS.1; Domain=.tripadvisor.co.id; Expires=Fri, 09-Jun-2023 01:00:51 GMT; Path=/\n",
      "header: Set-Cookie: TAUD=LG-1685062851443-2.1.F.*RDD-2-2023_05_26*HDD-3-2023_06_04.2023_06_05.1; Domain=.tripadvisor.co.id; Expires=Fri, 09-Jun-2023 01:00:51 GMT; Path=/\n",
      "header: Set-Cookie: TASID=82510B4FEF574D3D83F3824DBA7543A3; Domain=www.tripadvisor.co.id; Expires=Fri, 26-May-2023 01:30:51 GMT; Path=/; Secure\n",
      "header: Set-Cookie: TAReturnTo=%1%%2FHotel_Review-g469404-d663712-Reviews-or60-Villa_8-Seminyak_Kuta_District_Bali.html; Domain=.tripadvisor.co.id; Path=/\n",
      "header: Set-Cookie: datadome=1m9c4itJhSiHIZXm2uAMLO2EOOPH_c_98CVaHKco9zQBLeWVSJAtF_ICS0EjT0W1khz9ECv2ewWB8HOgWbgFcXPf13z6s0A1QYDMpj0ylgzO7Qn8cb9geEMQ-fR0KywP; Max-Age=31104000; Domain=.tripadvisor.co.id; Path=/; Secure; SameSite=Lax\n",
      "Done Scrapping Villa 8 page 12\n",
      "\n",
      "\n"
     ]
    },
    {
     "name": "stderr",
     "output_type": "stream",
     "text": [
      "DEBUG:urllib3.connectionpool:Starting new HTTPS connection (1): www.tripadvisor.co.id:443\n"
     ]
    },
    {
     "name": "stdout",
     "output_type": "stream",
     "text": [
      "send: b'GET /Hotel_Review-g469404-d663712-Reviews-or65-Villa_8-Seminyak_Kuta_District_Bali.html HTTP/1.1\\r\\nHost: www.tripadvisor.co.id\\r\\nUser-Agent: Mozilla/5.0 (X11; CrOS x86_64 12871.102.0) AppleWebKit/537.36 (KHTML, like Gecko) Chrome/81.0.4044.141 Safari/537.36\\r\\nAccept-Encoding: gzip, deflate\\r\\nAccept: */*\\r\\nConnection: keep-alive\\r\\n\\r\\n'\n"
     ]
    },
    {
     "name": "stderr",
     "output_type": "stream",
     "text": [
      "DEBUG:urllib3.connectionpool:https://www.tripadvisor.co.id:443 \"GET /Hotel_Review-g469404-d663712-Reviews-or65-Villa_8-Seminyak_Kuta_District_Bali.html HTTP/1.1\" 200 None\n"
     ]
    },
    {
     "name": "stdout",
     "output_type": "stream",
     "text": [
      "reply: 'HTTP/1.1 200 OK\\r\\n'\n",
      "header: Server: envoy\n",
      "header: Link: <https://media-cdn.tripadvisor.com/media/>;rel=\"preconnect\";crossorigin\n",
      "header: Link: <https://media-cdn.tripadvisor.com/media/>;rel=\"dns-prefetch\"\n",
      "header: p3p: CP=\"NOI CURa ADMa DEVa TAIa OUR BUS IND UNI COM NAV INT DSP COR CAO PSA IDC ADM DEVi TAIi PSD IVAi IVDi CONi HIS CNT\"\n",
      "header: Pragma: no-cache\n",
      "header: Cache-Control: no-cache, no-store, must-revalidate\n",
      "header: Expires: 0\n",
      "header: Content-Language: id\n",
      "header: Link: <https://static.tacdn.com>;rel=\"dns-prefetch\"\n",
      "header: Link: <https://static.tacdn.com>;rel=\"preconnect\";crossorigin\n",
      "header: timing-allow-origin: https://www.tripadvisor.com\n",
      "header: Vary: Accept-Encoding\n",
      "header: Content-Type: text/html;charset=UTF-8\n",
      "header: Accept-CH: Sec-CH-UA,Sec-CH-UA-Mobile,Sec-CH-UA-Platform,Sec-CH-UA-Arch,Sec-CH-UA-Full-Version-List,Sec-CH-UA-Model,Sec-CH-Device-Memory\n",
      "header: x-datadome: protected\n",
      "header: Content-Encoding: gzip\n",
      "header: x-request-id: 924471ea-d6f8-4910-9187-12e283c7fbe2\n",
      "header: Date: Fri, 26 May 2023 01:00:56 GMT\n",
      "header: Transfer-Encoding: chunked\n",
      "header: Connection: keep-alive\n",
      "header: Connection: Transfer-Encoding\n",
      "header: Set-Cookie: TADCID=3Tk3V3kzq2-1eV3mABQCXdElnkGETRW-Svh01l3nWnXCaZ8ohVU2qv9jI-oXkuWjabh9_-5dkgQ-mDXYTf0He9WeeB6clNoNWOk; Domain=www.tripadvisor.co.id; Expires=Mon, 23-May-2033 01:00:55 GMT; Path=/; Secure; HttpOnly\n",
      "header: Set-Cookie: TAUnique=%1%enc%3ATT0OJjZFfNb%2B7H78yfwekiHKVVkteNxI%2BBywu1oKlwQ2jHwltRJPGQ%3D%3D; Domain=.tripadvisor.co.id; Expires=Sun, 25-May-2025 01:00:55 GMT; Path=/; HttpOnly\n",
      "header: Set-Cookie: TASSK=enc%3AAD7iZia0uzmdSxWWy5brmU7r%2Fruvy2JCXToQ9pc4VnRHelei6xTdr7AIhhXEZ9SjHysVFYHYdc6Kj2gJ3xFYV1tEBzOHXLsE8sG%2BUj3igXhMoPuJM2OioPtjcHtu%2BLOJAg%3D%3D; Domain=www.tripadvisor.co.id; Expires=Wed, 22-Nov-2023 01:00:56 GMT; Path=/; HttpOnly\n",
      "header: Set-Cookie: TASession=V2ID.8010FB24CE434DAC87447868B70EACF3*SQ.1*HS.recommended*ES.popularity*DS.5*SAS.popularity*FPS.oldFirst*LF.in*FA.1*DF.0*TRA.true*LD.663712; Domain=.tripadvisor.co.id; Path=/\n",
      "header: Set-Cookie: ServerPool=X; Domain=.tripadvisor.co.id; Path=/\n",
      "header: Set-Cookie: PMC=V2*MS.87*MD.20230525*LD.20230525; Domain=www.tripadvisor.co.id; Expires=Sun, 25-May-2025 01:00:56 GMT; Path=/; Secure; HttpOnly\n",
      "header: Set-Cookie: TART=%1%enc%3A%2Fux%2B%2FMn8HpLU7013G5U6wtpg%2FaUsPzl0Dc81gnZh91kYCMHFd%2BKgDuGfhMdi7Oth4ieoPdYMDDY%3D; Domain=www.tripadvisor.co.id; Expires=Wed, 31-May-2023 01:00:56 GMT; Path=/; HttpOnly\n",
      "header: Set-Cookie: CM=%1%PremiumMobSess%2C%2C-1%7Ct4b-pc%2C%2C-1%7CRestAds%2FRPers%2C%2C-1%7CRCPers%2C%2C-1%7CWShadeSeen%2C%2C-1%7CTheForkMCCPers%2C%2C-1%7CHomeASess%2C%2C-1%7CPremiumMCSess%2C%2C-1%7CCrisisSess%2C%2C-1%7CUVOwnersSess%2C%2C-1%7CRestPremRSess%2C%2C-1%7CRepTarMCSess%2C%2C-1%7CCCSess%2C%2C-1%7CCYLSess%2C%2C-1%7CPremRetPers%2C%2C-1%7CViatorMCPers%2C%2C-1%7Csesssticker%2C%2C-1%7C%24%2C%2C-1%7CPremiumORSess%2C%2C-1%7Ct4b-sc%2C%2C-1%7CRestAdsPers%2C%2C-1%7CMC_IB_UPSELL_IB_LOGOS2%2C%2C-1%7CTSMCPers%2C%2C-1%7Cb2bmcpers%2C%2C-1%7CPremMCBtmSess%2C%2C-1%7CMC_IB_UPSELL_IB_LOGOS%2C%2C-1%7CLaFourchette+Banners%2C%2C-1%7Csess_rev%2C%2C-1%7Csessamex%2C%2C-1%7CPremiumRRSess%2C%2C-1%7CTADORSess%2C%2C-1%7CAdsRetPers%2C%2C-1%7CListMCSess%2C%2C-1%7CTARSWBPers%2C%2C-1%7CSPMCSess%2C%2C-1%7CTheForkORSess%2C%2C-1%7CTheForkRRSess%2C%2C-1%7Cpers_rev%2C%2C-1%7CRBAPers%2C%2C-1%7CRestAds%2FRSess%2C%2C-1%7CHomeAPers%2C%2C-1%7CPremiumMobPers%2C%2C-1%7CRCSess%2C%2C-1%7CLaFourchette+MC+Banners%2C%2C-1%7CRestAdsCCSess%2C%2C-1%7CRestPremRPers%2C%2C-1%7CRevHubRMPers%2C%2C-1%7CUVOwnersPers%2C%2C-1%7Cpssamex%2C%2C-1%7CTheForkMCCSess%2C%2C-1%7CCrisisPers%2C%2C-1%7CCYLPers%2C%2C-1%7CCCPers%2C%2C-1%7CRepTarMCPers%2C%2C-1%7Cb2bmcsess%2C%2C-1%7CTSMCSess%2C%2C-1%7CSPMCPers%2C%2C-1%7CRevHubRMSess%2C%2C-1%7CPremRetSess%2C%2C-1%7CViatorMCSess%2C%2C-1%7CPremiumMCPers%2C%2C-1%7CAdsRetSess%2C%2C-1%7CPremiumRRPers%2C%2C-1%7CRestAdsCCPers%2C%2C-1%7CTADORPers%2C%2C-1%7CTheForkORPers%2C%2C-1%7CPremMCBtmPers%2C%2C-1%7CTheForkRRPers%2C%2C-1%7CTARSWBSess%2C%2C-1%7CPremiumORPers%2C%2C-1%7CRestAdsSess%2C%2C-1%7CRBASess%2C%2C-1%7CSPORPers%2C%2C-1%7Cperssticker%2C%2C-1%7CListMCPers%2C%2C-1%7C; Domain=.tripadvisor.co.id; Expires=Mon, 23-May-2033 01:00:56 GMT; Path=/\n",
      "header: Set-Cookie: BEPIN=%1%1885592acec%3Bweb271a.a.tripadvisor.com%3A30023%3B; Domain=.tripadvisor.co.id; Path=/\n",
      "header: Set-Cookie: PAC=ACbA0zI2E8XkGVgwOjKx8Zw7-DugLWme1JkLfrZ9UeAnl1bFQd87XRMGjSCi8fTQdfVSpmy-hnbOmCA8YhUIWPmWBm91k3D2tFLif3yH6_-Gf0eXXNBxfWe-zhLWmWtAz3d29LwBUfbZZA7zjBq383rLCkwnwlx2-ZxHzVWOYvii8IxMUdom_W3qkHlHUfJg1s4w_3XoJzN7wIJpsZUNayk%3D; Domain=www.tripadvisor.co.id; Expires=Sun, 25-May-2025 01:00:56 GMT; Path=/; Secure; HttpOnly\n",
      "header: Set-Cookie: SRT=TART_SYNC; Domain=www.tripadvisor.co.id; Expires=Fri, 26-May-2023 01:30:56 GMT; Path=/\n",
      "header: Set-Cookie: TATravelInfo=V2*AY.2023*AM.6*AD.4*DY.2023*DM.6*DD.5*A.2*MG.-1*HP.2*FL.3*DSM.1685062856000*RS.1; Domain=.tripadvisor.co.id; Expires=Fri, 09-Jun-2023 01:00:56 GMT; Path=/\n",
      "header: Set-Cookie: TAUD=LG-1685062855880-2.1.F.*RDD-2-2023_05_26*HDD-3-2023_06_04.2023_06_05.1; Domain=.tripadvisor.co.id; Expires=Fri, 09-Jun-2023 01:00:56 GMT; Path=/\n",
      "header: Set-Cookie: TASID=8010FB24CE434DAC87447868B70EACF3; Domain=www.tripadvisor.co.id; Expires=Fri, 26-May-2023 01:30:56 GMT; Path=/; Secure\n",
      "header: Set-Cookie: TAReturnTo=%1%%2FHotel_Review-g469404-d663712-Reviews-or65-Villa_8-Seminyak_Kuta_District_Bali.html; Domain=.tripadvisor.co.id; Path=/\n",
      "header: Set-Cookie: datadome=518cAeQDgiHUXQX4MTomABW_NoItefgP8UoMkpQTydWkcNYPeNV6J_BUsdyFyNwXi2c8HEenVtPzF8w7_9muULkt8eRn2fdFldDUzkuJVy_J8oSpeXCM0Gk~ftHzsJa_; Max-Age=31104000; Domain=.tripadvisor.co.id; Path=/; Secure; SameSite=Lax\n"
     ]
    },
    {
     "name": "stderr",
     "output_type": "stream",
     "text": [
      "DEBUG:urllib3.connectionpool:Starting new HTTPS connection (1): www.tripadvisor.co.id:443\n"
     ]
    },
    {
     "name": "stdout",
     "output_type": "stream",
     "text": [
      "Start Scrapping: B&B Home Stay Griya Jungutan\n",
      "send: b'GET /Hotel_Review-g297701-d3440268-Reviews-or5-B_B_Home_Stay_Griya_Jungutan-Ubud_Gianyar_Regency_Bali.html HTTP/1.1\\r\\nHost: www.tripadvisor.co.id\\r\\nUser-Agent: Mozilla/5.0 (X11; CrOS x86_64 12871.102.0) AppleWebKit/537.36 (KHTML, like Gecko) Chrome/81.0.4044.141 Safari/537.36\\r\\nAccept-Encoding: gzip, deflate\\r\\nAccept: */*\\r\\nConnection: keep-alive\\r\\n\\r\\n'\n"
     ]
    },
    {
     "name": "stderr",
     "output_type": "stream",
     "text": [
      "DEBUG:urllib3.connectionpool:https://www.tripadvisor.co.id:443 \"GET /Hotel_Review-g297701-d3440268-Reviews-or5-B_B_Home_Stay_Griya_Jungutan-Ubud_Gianyar_Regency_Bali.html HTTP/1.1\" 200 None\n"
     ]
    },
    {
     "name": "stdout",
     "output_type": "stream",
     "text": [
      "reply: 'HTTP/1.1 200 OK\\r\\n'\n",
      "header: Server: envoy\n",
      "header: Link: <https://media-cdn.tripadvisor.com/media/>;rel=\"preconnect\";crossorigin\n",
      "header: Link: <https://media-cdn.tripadvisor.com/media/>;rel=\"dns-prefetch\"\n",
      "header: p3p: CP=\"NOI CURa ADMa DEVa TAIa OUR BUS IND UNI COM NAV INT DSP COR CAO PSA IDC ADM DEVi TAIi PSD IVAi IVDi CONi HIS CNT\"\n",
      "header: Pragma: no-cache\n",
      "header: Cache-Control: no-cache, no-store, must-revalidate\n",
      "header: Expires: 0\n",
      "header: Content-Language: id\n",
      "header: Link: <https://static.tacdn.com>;rel=\"dns-prefetch\"\n",
      "header: Link: <https://static.tacdn.com>;rel=\"preconnect\";crossorigin\n",
      "header: timing-allow-origin: https://www.tripadvisor.com\n",
      "header: Vary: Accept-Encoding\n",
      "header: Content-Type: text/html;charset=UTF-8\n",
      "header: x-datadome: protected\n",
      "header: Accept-CH: Sec-CH-UA,Sec-CH-UA-Mobile,Sec-CH-UA-Platform,Sec-CH-UA-Arch,Sec-CH-UA-Full-Version-List,Sec-CH-UA-Model,Sec-CH-Device-Memory\n",
      "header: Content-Encoding: gzip\n",
      "header: x-request-id: 36e0f980-c0c3-4da7-9715-b6ac78253168\n",
      "header: Date: Fri, 26 May 2023 01:00:58 GMT\n",
      "header: Transfer-Encoding: chunked\n",
      "header: Connection: keep-alive\n",
      "header: Connection: Transfer-Encoding\n",
      "header: Set-Cookie: TADCID=SC6QqLPqet--zapNABQCXdElnkGETRW-Svh01l3nWnXCaXQiMrR_W04eafXEH7AMBuieKxDXV8ei7ke8lslEgcyA4vC9_ECxZ6M; Domain=www.tripadvisor.co.id; Expires=Mon, 23-May-2033 01:00:57 GMT; Path=/; Secure; HttpOnly\n",
      "header: Set-Cookie: TAUnique=%1%enc%3AJ8iJUzKUtPj%2B7H78yfwekiHKVVkteNxIwqn%2F4IDTzXA2jHwltRJPGQ%3D%3D; Domain=.tripadvisor.co.id; Expires=Sun, 25-May-2025 01:00:57 GMT; Path=/; HttpOnly\n",
      "header: Set-Cookie: TASSK=enc%3AAGxDrxxwWk8rPa1OVc3EM0nRj0K5sgwPGNkPbh6281m7tpo2N8zt0R%2B9DQKnl%2F5au4mX1d9hEKD5KivgcUdo9DJYhgYDho71KItkN3CtnN3ItQn6OwYKb1RrtUzaaOw%2Byg%3D%3D; Domain=www.tripadvisor.co.id; Expires=Wed, 22-Nov-2023 01:00:58 GMT; Path=/; HttpOnly\n",
      "header: Set-Cookie: TASession=V2ID.03A16A0F26CC4738A2F6C0354F7D7F44*SQ.1*HS.recommended*ES.popularity*DS.5*SAS.popularity*FPS.oldFirst*LF.in*FA.1*DF.0*TRA.true*LD.3440268; Domain=.tripadvisor.co.id; Path=/\n",
      "header: Set-Cookie: ServerPool=C; Domain=.tripadvisor.co.id; Path=/\n",
      "header: Set-Cookie: PMC=V2*MS.1*MD.20230525*LD.20230525; Domain=www.tripadvisor.co.id; Expires=Sun, 25-May-2025 01:00:58 GMT; Path=/; Secure; HttpOnly\n",
      "header: Set-Cookie: TART=%1%enc%3A%2Fux%2B%2FMn8HpLe%2Bx1nCvUQlpInjMAsOuk%2F5F428DFuuCpHES3fp9%2BwURRLXNYPqtmlZQnMIP2Q3mY%3D; Domain=www.tripadvisor.co.id; Expires=Wed, 31-May-2023 01:00:58 GMT; Path=/; HttpOnly\n",
      "header: Set-Cookie: CM=%1%PremiumMobSess%2C%2C-1%7Ct4b-pc%2C%2C-1%7CRestAds%2FRPers%2C%2C-1%7CRCPers%2C%2C-1%7CWShadeSeen%2C%2C-1%7CTheForkMCCPers%2C%2C-1%7CHomeASess%2C%2C-1%7CPremiumMCSess%2C%2C-1%7CCrisisSess%2C%2C-1%7CUVOwnersSess%2C%2C-1%7CRestPremRSess%2C%2C-1%7CRepTarMCSess%2C%2C-1%7CCCSess%2C%2C-1%7CCYLSess%2C%2C-1%7CPremRetPers%2C%2C-1%7CViatorMCPers%2C%2C-1%7Csesssticker%2C%2C-1%7C%24%2C%2C-1%7CPremiumORSess%2C%2C-1%7Ct4b-sc%2C%2C-1%7CRestAdsPers%2C%2C-1%7CMC_IB_UPSELL_IB_LOGOS2%2C%2C-1%7CTSMCPers%2C%2C-1%7Cb2bmcpers%2C%2C-1%7CPremMCBtmSess%2C%2C-1%7CMC_IB_UPSELL_IB_LOGOS%2C%2C-1%7CLaFourchette+Banners%2C%2C-1%7Csess_rev%2C%2C-1%7Csessamex%2C%2C-1%7CPremiumRRSess%2C%2C-1%7CTADORSess%2C%2C-1%7CAdsRetPers%2C%2C-1%7CListMCSess%2C%2C-1%7CTARSWBPers%2C%2C-1%7CSPMCSess%2C%2C-1%7CTheForkORSess%2C%2C-1%7CTheForkRRSess%2C%2C-1%7Cpers_rev%2C%2C-1%7CRBAPers%2C%2C-1%7CRestAds%2FRSess%2C%2C-1%7CHomeAPers%2C%2C-1%7CPremiumMobPers%2C%2C-1%7CRCSess%2C%2C-1%7CLaFourchette+MC+Banners%2C%2C-1%7CRestAdsCCSess%2C%2C-1%7CRestPremRPers%2C%2C-1%7CRevHubRMPers%2C%2C-1%7CUVOwnersPers%2C%2C-1%7Cpssamex%2C%2C-1%7CTheForkMCCSess%2C%2C-1%7CCrisisPers%2C%2C-1%7CCYLPers%2C%2C-1%7CCCPers%2C%2C-1%7CRepTarMCPers%2C%2C-1%7Cb2bmcsess%2C%2C-1%7CTSMCSess%2C%2C-1%7CSPMCPers%2C%2C-1%7CRevHubRMSess%2C%2C-1%7CPremRetSess%2C%2C-1%7CViatorMCSess%2C%2C-1%7CPremiumMCPers%2C%2C-1%7CAdsRetSess%2C%2C-1%7CPremiumRRPers%2C%2C-1%7CRestAdsCCPers%2C%2C-1%7CTADORPers%2C%2C-1%7CTheForkORPers%2C%2C-1%7CPremMCBtmPers%2C%2C-1%7CTheForkRRPers%2C%2C-1%7CTARSWBSess%2C%2C-1%7CPremiumORPers%2C%2C-1%7CRestAdsSess%2C%2C-1%7CRBASess%2C%2C-1%7CSPORPers%2C%2C-1%7Cperssticker%2C%2C-1%7CListMCPers%2C%2C-1%7C; Domain=.tripadvisor.co.id; Expires=Mon, 23-May-2033 01:00:58 GMT; Path=/\n",
      "header: Set-Cookie: BEPIN=%1%1885592b39d%3Bweb197a.a.tripadvisor.com%3A30023%3B; Domain=.tripadvisor.co.id; Path=/\n",
      "header: Set-Cookie: PAC=APLT1SOL4_sDfm7ftJX5cc6v4CWg7Te0h3dLFEVEXblPbQYei9XX_nbG8UNy7U88PLZUOjO_IHdwX16b5FHk2lVgC7gjK9REMC_RyXjImIkbDUIGwWiT34QHzollDiiqW34ZcxIuvZXQVSh49j_dO_MTgOGYCu5HnDlVDw2ec2yjAQfqO2nTHG4Qu9G5d9f19U2YKrXN_jCdiTuugcy9nPQ1-CyWRYxN6u6L7OY338wx; Domain=www.tripadvisor.co.id; Expires=Sun, 25-May-2025 01:00:58 GMT; Path=/; Secure; HttpOnly\n",
      "header: Set-Cookie: SRT=TART_SYNC; Domain=www.tripadvisor.co.id; Expires=Fri, 26-May-2023 01:30:58 GMT; Path=/\n",
      "header: Set-Cookie: TATravelInfo=V2*AY.2023*AM.6*AD.4*DY.2023*DM.6*DD.5*A.2*MG.-1*HP.2*FL.3*DSM.1685062857747*RS.1; Domain=.tripadvisor.co.id; Expires=Fri, 09-Jun-2023 01:00:58 GMT; Path=/\n",
      "header: Set-Cookie: TAUD=LG-1685062857593-2.1.F.*RDD-2-2023_05_26*HDD-3-2023_06_04.2023_06_05.1; Domain=.tripadvisor.co.id; Expires=Fri, 09-Jun-2023 01:00:58 GMT; Path=/\n",
      "header: Set-Cookie: TASID=03A16A0F26CC4738A2F6C0354F7D7F44; Domain=www.tripadvisor.co.id; Expires=Fri, 26-May-2023 01:30:58 GMT; Path=/; Secure\n",
      "header: Set-Cookie: TAReturnTo=%1%%2FHotel_Review-g297701-d3440268-Reviews-or5-B_B_Home_Stay_Griya_Jungutan-Ubud_Gianyar_Regency_Bali.html; Domain=.tripadvisor.co.id; Path=/\n",
      "header: Set-Cookie: datadome=7szGAHdecRJEEwMny2n0nQs~zOCJTjiyXQUOWyJ_qnmqNQo0w7947l_TEevnvDYPihBxdsOH-5z27H-DC0Af2-ZULfgU-aP5Vrmc8gzf8IJNQZ9mbRFItl40adGcDVnQ; Max-Age=31104000; Domain=.tripadvisor.co.id; Path=/; Secure; SameSite=Lax\n",
      "Done Scrapping B&B Home Stay Griya Jungutan page 1\n",
      "\n",
      "\n"
     ]
    },
    {
     "name": "stderr",
     "output_type": "stream",
     "text": [
      "DEBUG:urllib3.connectionpool:Starting new HTTPS connection (1): www.tripadvisor.co.id:443\n"
     ]
    },
    {
     "name": "stdout",
     "output_type": "stream",
     "text": [
      "send: b'GET /Hotel_Review-g297701-d3440268-Reviews-or10-B_B_Home_Stay_Griya_Jungutan-Ubud_Gianyar_Regency_Bali.html HTTP/1.1\\r\\nHost: www.tripadvisor.co.id\\r\\nUser-Agent: Mozilla/5.0 (X11; CrOS x86_64 12871.102.0) AppleWebKit/537.36 (KHTML, like Gecko) Chrome/81.0.4044.141 Safari/537.36\\r\\nAccept-Encoding: gzip, deflate\\r\\nAccept: */*\\r\\nConnection: keep-alive\\r\\n\\r\\n'\n"
     ]
    },
    {
     "name": "stderr",
     "output_type": "stream",
     "text": [
      "DEBUG:urllib3.connectionpool:https://www.tripadvisor.co.id:443 \"GET /Hotel_Review-g297701-d3440268-Reviews-or10-B_B_Home_Stay_Griya_Jungutan-Ubud_Gianyar_Regency_Bali.html HTTP/1.1\" 200 None\n"
     ]
    },
    {
     "name": "stdout",
     "output_type": "stream",
     "text": [
      "reply: 'HTTP/1.1 200 OK\\r\\n'\n",
      "header: Server: envoy\n",
      "header: Link: <https://media-cdn.tripadvisor.com/media/>;rel=\"preconnect\";crossorigin\n",
      "header: Link: <https://media-cdn.tripadvisor.com/media/>;rel=\"dns-prefetch\"\n",
      "header: p3p: CP=\"NOI CURa ADMa DEVa TAIa OUR BUS IND UNI COM NAV INT DSP COR CAO PSA IDC ADM DEVi TAIi PSD IVAi IVDi CONi HIS CNT\"\n",
      "header: Pragma: no-cache\n",
      "header: Cache-Control: no-cache, no-store, must-revalidate\n",
      "header: Expires: 0\n",
      "header: Content-Language: id\n",
      "header: Link: <https://static.tacdn.com>;rel=\"dns-prefetch\"\n",
      "header: Link: <https://static.tacdn.com>;rel=\"preconnect\";crossorigin\n",
      "header: timing-allow-origin: https://www.tripadvisor.com\n",
      "header: Vary: Accept-Encoding\n",
      "header: Content-Type: text/html;charset=UTF-8\n",
      "header: x-datadome: protected\n",
      "header: Accept-CH: Sec-CH-UA,Sec-CH-UA-Mobile,Sec-CH-UA-Platform,Sec-CH-UA-Arch,Sec-CH-UA-Full-Version-List,Sec-CH-UA-Model,Sec-CH-Device-Memory\n",
      "header: Content-Encoding: gzip\n",
      "header: x-request-id: dfcb4c41-518f-4475-9d65-1d1cdd413bd2\n",
      "header: Date: Fri, 26 May 2023 01:01:02 GMT\n",
      "header: Transfer-Encoding: chunked\n",
      "header: Connection: keep-alive\n",
      "header: Connection: Transfer-Encoding\n",
      "header: Set-Cookie: TADCID=iPoG4FBdm0z91kUQABQCXdElnkGETRW-Svh01l3nWnXCaqYBCZQ0nXRebU0TSzYyN5G87M_uQaXePvCBaoU2Q6QZIjYqfAq1aO8; Domain=www.tripadvisor.co.id; Expires=Mon, 23-May-2033 01:01:02 GMT; Path=/; Secure; HttpOnly\n",
      "header: Set-Cookie: TAUnique=%1%enc%3AcxtveK0ifVn%2B7H78yfwekiHKVVkteNxIwtVvfIJlhOw2jHwltRJPGQ%3D%3D; Domain=.tripadvisor.co.id; Expires=Sun, 25-May-2025 01:01:02 GMT; Path=/; HttpOnly\n",
      "header: Set-Cookie: TASSK=enc%3AAG6%2BHaawExarCu4OAFMJBD1Jyx3f2k2rTn7uhzNaSfd4iyAQxu20CjwOQp6acVCdX6PE6wUvMJY7iwFhswiyLwJ3gQYSuu%2BNdL1a3W2UNa1twU41oruL4ebdCXZ5LqvLkw%3D%3D; Domain=www.tripadvisor.co.id; Expires=Wed, 22-Nov-2023 01:01:02 GMT; Path=/; HttpOnly\n",
      "header: Set-Cookie: TASession=V2ID.1E3FEBB629A442DE9FD5FFDE901C0F63*SQ.1*HS.recommended*ES.popularity*DS.5*SAS.popularity*FPS.oldFirst*LF.in*FA.1*DF.0*TRA.true*LD.3440268; Domain=.tripadvisor.co.id; Path=/\n",
      "header: Set-Cookie: ServerPool=A; Domain=.tripadvisor.co.id; Path=/\n",
      "header: Set-Cookie: PMC=V2*MS.53*MD.20230525*LD.20230525; Domain=www.tripadvisor.co.id; Expires=Sun, 25-May-2025 01:01:02 GMT; Path=/; Secure; HttpOnly\n",
      "header: Set-Cookie: TART=%1%enc%3A%2Fux%2B%2FMn8HpJzqwIk0n3Vr1JXHksL8xlhBS9MK2HESqcSPxkBqpOFpC%2Few64%2BnOkZW1JxtpsONWQ%3D; Domain=www.tripadvisor.co.id; Expires=Wed, 31-May-2023 01:01:02 GMT; Path=/; HttpOnly\n",
      "header: Set-Cookie: CM=%1%PremiumMobSess%2C%2C-1%7Ct4b-pc%2C%2C-1%7CRestAds%2FRPers%2C%2C-1%7CRCPers%2C%2C-1%7CWShadeSeen%2C%2C-1%7CTheForkMCCPers%2C%2C-1%7CHomeASess%2C%2C-1%7CPremiumMCSess%2C%2C-1%7CCrisisSess%2C%2C-1%7CUVOwnersSess%2C%2C-1%7CRestPremRSess%2C%2C-1%7CRepTarMCSess%2C%2C-1%7CCCSess%2C%2C-1%7CCYLSess%2C%2C-1%7CPremRetPers%2C%2C-1%7CViatorMCPers%2C%2C-1%7Csesssticker%2C%2C-1%7C%24%2C%2C-1%7CPremiumORSess%2C%2C-1%7Ct4b-sc%2C%2C-1%7CRestAdsPers%2C%2C-1%7CMC_IB_UPSELL_IB_LOGOS2%2C%2C-1%7CTSMCPers%2C%2C-1%7Cb2bmcpers%2C%2C-1%7CPremMCBtmSess%2C%2C-1%7CMC_IB_UPSELL_IB_LOGOS%2C%2C-1%7CLaFourchette+Banners%2C%2C-1%7Csess_rev%2C%2C-1%7Csessamex%2C%2C-1%7CPremiumRRSess%2C%2C-1%7CTADORSess%2C%2C-1%7CAdsRetPers%2C%2C-1%7CListMCSess%2C%2C-1%7CTARSWBPers%2C%2C-1%7CSPMCSess%2C%2C-1%7CTheForkORSess%2C%2C-1%7CTheForkRRSess%2C%2C-1%7Cpers_rev%2C%2C-1%7CRBAPers%2C%2C-1%7CRestAds%2FRSess%2C%2C-1%7CHomeAPers%2C%2C-1%7CPremiumMobPers%2C%2C-1%7CRCSess%2C%2C-1%7CLaFourchette+MC+Banners%2C%2C-1%7CRestAdsCCSess%2C%2C-1%7CRestPremRPers%2C%2C-1%7CRevHubRMPers%2C%2C-1%7CUVOwnersPers%2C%2C-1%7Cpssamex%2C%2C-1%7CTheForkMCCSess%2C%2C-1%7CCrisisPers%2C%2C-1%7CCYLPers%2C%2C-1%7CCCPers%2C%2C-1%7CRepTarMCPers%2C%2C-1%7Cb2bmcsess%2C%2C-1%7CTSMCSess%2C%2C-1%7CSPMCPers%2C%2C-1%7CRevHubRMSess%2C%2C-1%7CPremRetSess%2C%2C-1%7CViatorMCSess%2C%2C-1%7CPremiumMCPers%2C%2C-1%7CAdsRetSess%2C%2C-1%7CPremiumRRPers%2C%2C-1%7CRestAdsCCPers%2C%2C-1%7CTADORPers%2C%2C-1%7CTheForkORPers%2C%2C-1%7CPremMCBtmPers%2C%2C-1%7CTheForkRRPers%2C%2C-1%7CTARSWBSess%2C%2C-1%7CPremiumORPers%2C%2C-1%7CRestAdsSess%2C%2C-1%7CRBASess%2C%2C-1%7CSPORPers%2C%2C-1%7Cperssticker%2C%2C-1%7CListMCPers%2C%2C-1%7C; Domain=.tripadvisor.co.id; Expires=Mon, 23-May-2033 01:01:02 GMT; Path=/\n",
      "header: Set-Cookie: BEPIN=%1%1885592c60a%3Bweb221a.a.tripadvisor.com%3A30023%3B; Domain=.tripadvisor.co.id; Path=/\n",
      "header: Set-Cookie: PAC=ABhGZghcEyiihGEScHElYeUuBhlsRB9-GXeUPGSJZj57KNEZ5MIeuWYXlYjTy_mXL5xGyF8iRVD-qdyQfxeVmHoPzLt70jUz2LmZ3_cm38r8UBWaZMIqgfPiug6tS_RpBcSkjwqiYzQkadpuDlRyx_Az2dZqFyV4Ayv1qbr8aPfSVWz9tSVqmBrJHyjdEdjB0nDH6klN4Bz0x8Pz3WUVTc5L_PNoMx4ISz5en1nMM9e9; Domain=www.tripadvisor.co.id; Expires=Sun, 25-May-2025 01:01:02 GMT; Path=/; Secure; HttpOnly\n",
      "header: Set-Cookie: SRT=TART_SYNC; Domain=www.tripadvisor.co.id; Expires=Fri, 26-May-2023 01:31:02 GMT; Path=/\n",
      "header: Set-Cookie: TATravelInfo=V2*AY.2023*AM.6*AD.4*DY.2023*DM.6*DD.5*A.2*MG.-1*HP.2*FL.3*DSM.1685062862443*RS.1; Domain=.tripadvisor.co.id; Expires=Fri, 09-Jun-2023 01:01:02 GMT; Path=/\n",
      "header: Set-Cookie: TAUD=LG-1685062862311-2.1.F.*RDD-2-2023_05_26*HDD-3-2023_06_04.2023_06_05.1; Domain=.tripadvisor.co.id; Expires=Fri, 09-Jun-2023 01:01:02 GMT; Path=/\n",
      "header: Set-Cookie: TASID=1E3FEBB629A442DE9FD5FFDE901C0F63; Domain=www.tripadvisor.co.id; Expires=Fri, 26-May-2023 01:31:02 GMT; Path=/; Secure\n",
      "header: Set-Cookie: TAReturnTo=%1%%2FHotel_Review-g297701-d3440268-Reviews-or10-B_B_Home_Stay_Griya_Jungutan-Ubud_Gianyar_Regency_Bali.html; Domain=.tripadvisor.co.id; Path=/\n",
      "header: Set-Cookie: datadome=6qIuMqv2jDmuR32c-fhuwSo3SaFrHlgSJNTl8hIetPZ6I3cHft5jcTVKxFB2gngoYnWx1dmT4o4ky22gObuHLzRKZdvsYxl-ksDWQsRF9lWgMQ91AGQWn7oc7ItMPwFc; Max-Age=31104000; Domain=.tripadvisor.co.id; Path=/; Secure; SameSite=Lax\n",
      "Done Scrapping B&B Home Stay Griya Jungutan page 2\n",
      "\n",
      "\n"
     ]
    },
    {
     "name": "stderr",
     "output_type": "stream",
     "text": [
      "DEBUG:urllib3.connectionpool:Starting new HTTPS connection (1): www.tripadvisor.co.id:443\n"
     ]
    },
    {
     "name": "stdout",
     "output_type": "stream",
     "text": [
      "send: b'GET /Hotel_Review-g297701-d3440268-Reviews-or15-B_B_Home_Stay_Griya_Jungutan-Ubud_Gianyar_Regency_Bali.html HTTP/1.1\\r\\nHost: www.tripadvisor.co.id\\r\\nUser-Agent: Mozilla/5.0 (X11; CrOS x86_64 12871.102.0) AppleWebKit/537.36 (KHTML, like Gecko) Chrome/81.0.4044.141 Safari/537.36\\r\\nAccept-Encoding: gzip, deflate\\r\\nAccept: */*\\r\\nConnection: keep-alive\\r\\n\\r\\n'\n"
     ]
    },
    {
     "name": "stderr",
     "output_type": "stream",
     "text": [
      "DEBUG:urllib3.connectionpool:https://www.tripadvisor.co.id:443 \"GET /Hotel_Review-g297701-d3440268-Reviews-or15-B_B_Home_Stay_Griya_Jungutan-Ubud_Gianyar_Regency_Bali.html HTTP/1.1\" 200 None\n"
     ]
    },
    {
     "name": "stdout",
     "output_type": "stream",
     "text": [
      "reply: 'HTTP/1.1 200 OK\\r\\n'\n",
      "header: Server: envoy\n",
      "header: Link: <https://media-cdn.tripadvisor.com/media/>;rel=\"preconnect\";crossorigin\n",
      "header: Link: <https://media-cdn.tripadvisor.com/media/>;rel=\"dns-prefetch\"\n",
      "header: p3p: CP=\"NOI CURa ADMa DEVa TAIa OUR BUS IND UNI COM NAV INT DSP COR CAO PSA IDC ADM DEVi TAIi PSD IVAi IVDi CONi HIS CNT\"\n",
      "header: Pragma: no-cache\n",
      "header: Cache-Control: no-cache, no-store, must-revalidate\n",
      "header: Expires: 0\n",
      "header: Content-Language: id\n",
      "header: Link: <https://static.tacdn.com>;rel=\"dns-prefetch\"\n",
      "header: Link: <https://static.tacdn.com>;rel=\"preconnect\";crossorigin\n",
      "header: timing-allow-origin: https://www.tripadvisor.com\n",
      "header: Vary: Accept-Encoding\n",
      "header: Content-Type: text/html;charset=UTF-8\n",
      "header: x-datadome: protected\n",
      "header: Accept-CH: Sec-CH-UA,Sec-CH-UA-Mobile,Sec-CH-UA-Platform,Sec-CH-UA-Arch,Sec-CH-UA-Full-Version-List,Sec-CH-UA-Model,Sec-CH-Device-Memory\n",
      "header: Content-Encoding: gzip\n",
      "header: x-request-id: 7326b6eb-4cda-411c-bd99-2e01283ce253\n",
      "header: Date: Fri, 26 May 2023 01:01:07 GMT\n",
      "header: Transfer-Encoding: chunked\n",
      "header: Connection: keep-alive\n",
      "header: Connection: Transfer-Encoding\n",
      "header: Set-Cookie: TADCID=4a-GoG48eJiffSZcABQCXdElnkGETRW-Svh01l3nWnXCaiRBbs1M1SdQxpgfdyipL1Axmo18GfQ0AlHU-kQNYzKWco8gl517fO0; Domain=www.tripadvisor.co.id; Expires=Mon, 23-May-2033 01:01:06 GMT; Path=/; Secure; HttpOnly\n",
      "header: Set-Cookie: TAUnique=%1%enc%3AiaRSkOpNxdH%2B7H78yfwekiHKVVkteNxIQw4r1jXR%2F8g2jHwltRJPGQ%3D%3D; Domain=.tripadvisor.co.id; Expires=Sun, 25-May-2025 01:01:06 GMT; Path=/; HttpOnly\n",
      "header: Set-Cookie: TASSK=enc%3AAIo21ZX4bFC333PNZK%2F2wBLM%2BG%2BXjli%2FqoiByojJL%2BeqZvM1B3IshZuKfGQ7qMAVKHGjzwnlLZUVzR39YVxCe1zJwXKhGwBzzWzWCKMYWfTpa0ljvLgGYRqDpAnKkOh8Gg%3D%3D; Domain=www.tripadvisor.co.id; Expires=Wed, 22-Nov-2023 01:01:07 GMT; Path=/; HttpOnly\n",
      "header: Set-Cookie: TASession=V2ID.B00AD2C990B94BB8971A1536BD8724AD*SQ.1*HS.recommended*ES.popularity*DS.5*SAS.popularity*FPS.oldFirst*LF.in*FA.1*DF.0*TRA.true*LD.3440268; Domain=.tripadvisor.co.id; Path=/\n",
      "header: Set-Cookie: ServerPool=X; Domain=.tripadvisor.co.id; Path=/\n",
      "header: Set-Cookie: PMC=V2*MS.32*MD.20230525*LD.20230525; Domain=www.tripadvisor.co.id; Expires=Sun, 25-May-2025 01:01:07 GMT; Path=/; Secure; HttpOnly\n",
      "header: Set-Cookie: TART=%1%enc%3A%2Fux%2B%2FMn8HpJzH5ysuB%2F37ADfTFp44%2Benz6ZR6sfXnQJWFvc4YCmKxT3OtEGYaWTTCeyaC1LeImE%3D; Domain=www.tripadvisor.co.id; Expires=Wed, 31-May-2023 01:01:07 GMT; Path=/; HttpOnly\n",
      "header: Set-Cookie: CM=%1%PremiumMobSess%2C%2C-1%7Ct4b-pc%2C%2C-1%7CRestAds%2FRPers%2C%2C-1%7CRCPers%2C%2C-1%7CWShadeSeen%2C%2C-1%7CTheForkMCCPers%2C%2C-1%7CHomeASess%2C%2C-1%7CPremiumMCSess%2C%2C-1%7CCrisisSess%2C%2C-1%7CUVOwnersSess%2C%2C-1%7CRestPremRSess%2C%2C-1%7CRepTarMCSess%2C%2C-1%7CCCSess%2C%2C-1%7CCYLSess%2C%2C-1%7CPremRetPers%2C%2C-1%7CViatorMCPers%2C%2C-1%7Csesssticker%2C%2C-1%7C%24%2C%2C-1%7CPremiumORSess%2C%2C-1%7Ct4b-sc%2C%2C-1%7CRestAdsPers%2C%2C-1%7CMC_IB_UPSELL_IB_LOGOS2%2C%2C-1%7CTSMCPers%2C%2C-1%7Cb2bmcpers%2C%2C-1%7CPremMCBtmSess%2C%2C-1%7CMC_IB_UPSELL_IB_LOGOS%2C%2C-1%7CLaFourchette+Banners%2C%2C-1%7Csess_rev%2C%2C-1%7Csessamex%2C%2C-1%7CPremiumRRSess%2C%2C-1%7CTADORSess%2C%2C-1%7CAdsRetPers%2C%2C-1%7CListMCSess%2C%2C-1%7CTARSWBPers%2C%2C-1%7CSPMCSess%2C%2C-1%7CTheForkORSess%2C%2C-1%7CTheForkRRSess%2C%2C-1%7Cpers_rev%2C%2C-1%7CRBAPers%2C%2C-1%7CRestAds%2FRSess%2C%2C-1%7CHomeAPers%2C%2C-1%7CPremiumMobPers%2C%2C-1%7CRCSess%2C%2C-1%7CLaFourchette+MC+Banners%2C%2C-1%7CRestAdsCCSess%2C%2C-1%7CRestPremRPers%2C%2C-1%7CRevHubRMPers%2C%2C-1%7CUVOwnersPers%2C%2C-1%7Cpssamex%2C%2C-1%7CTheForkMCCSess%2C%2C-1%7CCrisisPers%2C%2C-1%7CCYLPers%2C%2C-1%7CCCPers%2C%2C-1%7CRepTarMCPers%2C%2C-1%7Cb2bmcsess%2C%2C-1%7CTSMCSess%2C%2C-1%7CSPMCPers%2C%2C-1%7CRevHubRMSess%2C%2C-1%7CPremRetSess%2C%2C-1%7CViatorMCSess%2C%2C-1%7CPremiumMCPers%2C%2C-1%7CAdsRetSess%2C%2C-1%7CPremiumRRPers%2C%2C-1%7CRestAdsCCPers%2C%2C-1%7CTADORPers%2C%2C-1%7CTheForkORPers%2C%2C-1%7CPremMCBtmPers%2C%2C-1%7CTheForkRRPers%2C%2C-1%7CTARSWBSess%2C%2C-1%7CPremiumORPers%2C%2C-1%7CRestAdsSess%2C%2C-1%7CRBASess%2C%2C-1%7CSPORPers%2C%2C-1%7Cperssticker%2C%2C-1%7CListMCPers%2C%2C-1%7C; Domain=.tripadvisor.co.id; Expires=Mon, 23-May-2033 01:01:07 GMT; Path=/\n",
      "header: Set-Cookie: BEPIN=%1%1885592d787%3Bweb271a.a.tripadvisor.com%3A30023%3B; Domain=.tripadvisor.co.id; Path=/\n",
      "header: Set-Cookie: PAC=ACVVgH5iqZE7O9pY-YJNVKMPLA23UTnLA5iSZbZ01RWLO2nfTIRwTMh0kLLZqNgbsDDdD8bQWvYCOJwV7Z_54ls-J3ajm4vRzN7wujkyNqkk5eSnA5bmlxi1q13YEkQaB9CZ61DFjFNU09QuZciYIUrVSsZ0T29Z0tFI3xIj9TpUfKQW18Mhgd9AfIiVwHdD373zrNj-PCzE-Lxi64ICAlbL7-Em6CPyRMkpecxQPcVS; Domain=www.tripadvisor.co.id; Expires=Sun, 25-May-2025 01:01:07 GMT; Path=/; Secure; HttpOnly\n",
      "header: Set-Cookie: SRT=TART_SYNC; Domain=www.tripadvisor.co.id; Expires=Fri, 26-May-2023 01:31:07 GMT; Path=/\n",
      "header: Set-Cookie: TATravelInfo=V2*AY.2023*AM.6*AD.4*DY.2023*DM.6*DD.5*A.2*MG.-1*HP.2*FL.3*DSM.1685062866913*RS.1; Domain=.tripadvisor.co.id; Expires=Fri, 09-Jun-2023 01:01:07 GMT; Path=/\n",
      "header: Set-Cookie: TAUD=LG-1685062866787-2.1.F.*RDD-2-2023_05_26*HDD-3-2023_06_04.2023_06_05.1; Domain=.tripadvisor.co.id; Expires=Fri, 09-Jun-2023 01:01:07 GMT; Path=/\n",
      "header: Set-Cookie: TASID=B00AD2C990B94BB8971A1536BD8724AD; Domain=www.tripadvisor.co.id; Expires=Fri, 26-May-2023 01:31:07 GMT; Path=/; Secure\n",
      "header: Set-Cookie: TAReturnTo=%1%%2FHotel_Review-g297701-d3440268-Reviews-or15-B_B_Home_Stay_Griya_Jungutan-Ubud_Gianyar_Regency_Bali.html; Domain=.tripadvisor.co.id; Path=/\n",
      "header: Set-Cookie: datadome=5Ru_-jIOn2BttmrQMO1mOT8-jQlT1PKL~7sJFJFec87pQEVaHcxLxNV073Zit7TmW4kZMWM8W_IyW-1Q9SbXGJ~sGBYrMixdYJeEHR9RKv7aYhimP8VSC3jllAB3TTQ~; Max-Age=31104000; Domain=.tripadvisor.co.id; Path=/; Secure; SameSite=Lax\n",
      "Done Scrapping B&B Home Stay Griya Jungutan page 3\n",
      "\n",
      "\n"
     ]
    },
    {
     "name": "stderr",
     "output_type": "stream",
     "text": [
      "DEBUG:urllib3.connectionpool:Starting new HTTPS connection (1): www.tripadvisor.co.id:443\n"
     ]
    },
    {
     "name": "stdout",
     "output_type": "stream",
     "text": [
      "send: b'GET /Hotel_Review-g297701-d3440268-Reviews-or20-B_B_Home_Stay_Griya_Jungutan-Ubud_Gianyar_Regency_Bali.html HTTP/1.1\\r\\nHost: www.tripadvisor.co.id\\r\\nUser-Agent: Mozilla/5.0 (X11; CrOS x86_64 12871.102.0) AppleWebKit/537.36 (KHTML, like Gecko) Chrome/81.0.4044.141 Safari/537.36\\r\\nAccept-Encoding: gzip, deflate\\r\\nAccept: */*\\r\\nConnection: keep-alive\\r\\n\\r\\n'\n"
     ]
    },
    {
     "name": "stderr",
     "output_type": "stream",
     "text": [
      "DEBUG:urllib3.connectionpool:https://www.tripadvisor.co.id:443 \"GET /Hotel_Review-g297701-d3440268-Reviews-or20-B_B_Home_Stay_Griya_Jungutan-Ubud_Gianyar_Regency_Bali.html HTTP/1.1\" 200 None\n"
     ]
    },
    {
     "name": "stdout",
     "output_type": "stream",
     "text": [
      "reply: 'HTTP/1.1 200 OK\\r\\n'\n",
      "header: Server: envoy\n",
      "header: Link: <https://media-cdn.tripadvisor.com/media/>;rel=\"preconnect\";crossorigin\n",
      "header: Link: <https://media-cdn.tripadvisor.com/media/>;rel=\"dns-prefetch\"\n",
      "header: p3p: CP=\"NOI CURa ADMa DEVa TAIa OUR BUS IND UNI COM NAV INT DSP COR CAO PSA IDC ADM DEVi TAIi PSD IVAi IVDi CONi HIS CNT\"\n",
      "header: Pragma: no-cache\n",
      "header: Cache-Control: no-cache, no-store, must-revalidate\n",
      "header: Expires: 0\n",
      "header: Content-Language: id\n",
      "header: Link: <https://static.tacdn.com>;rel=\"dns-prefetch\"\n",
      "header: Link: <https://static.tacdn.com>;rel=\"preconnect\";crossorigin\n",
      "header: timing-allow-origin: https://www.tripadvisor.com\n",
      "header: Vary: Accept-Encoding\n",
      "header: Content-Type: text/html;charset=UTF-8\n",
      "header: x-datadome: protected\n",
      "header: Accept-CH: Sec-CH-UA,Sec-CH-UA-Mobile,Sec-CH-UA-Platform,Sec-CH-UA-Arch,Sec-CH-UA-Full-Version-List,Sec-CH-UA-Model,Sec-CH-Device-Memory\n",
      "header: Content-Encoding: gzip\n",
      "header: x-request-id: 1962a676-4521-4298-9370-d7a28d601093\n",
      "header: Date: Fri, 26 May 2023 01:01:11 GMT\n",
      "header: Transfer-Encoding: chunked\n",
      "header: Connection: keep-alive\n",
      "header: Connection: Transfer-Encoding\n",
      "header: Set-Cookie: TADCID=3F5FkXPfFkSWoOgVABQCXdElnkGETRW-Svh01l3nWnXCarl8NIZ95WhYnBXJtrv7wfkkKVL_T8wXBuCZPY5DszAQp3L6Oj8w0Is; Domain=www.tripadvisor.co.id; Expires=Mon, 23-May-2033 01:01:11 GMT; Path=/; Secure; HttpOnly\n",
      "header: Set-Cookie: TAUnique=%1%enc%3A7TlWNpsqMp%2F%2B7H78yfwekiHKVVkteNxIxPeqJ%2FB4CSk2jHwltRJPGQ%3D%3D; Domain=.tripadvisor.co.id; Expires=Sun, 25-May-2025 01:01:11 GMT; Path=/; HttpOnly\n",
      "header: Set-Cookie: TASSK=enc%3AALJl7W2kQfEKh6vFOlbEK9oywHXjhSX0JYlQ5VKUQX%2FbQ2csFi%2FfJQTIbBokdrCNpePuFmwm3hgE9AzYkLiPZ9%2BWsyegYkpGTINmeSq5E%2F0OJUTsziT6uiiVtDo%2FqUkNNg%3D%3D; Domain=www.tripadvisor.co.id; Expires=Wed, 22-Nov-2023 01:01:11 GMT; Path=/; HttpOnly\n",
      "header: Set-Cookie: TASession=V2ID.A50E66A482DD401F94616AE7E1810252*SQ.1*HS.recommended*ES.popularity*DS.5*SAS.popularity*FPS.oldFirst*LF.in*FA.1*DF.0*TRA.true*LD.3440268; Domain=.tripadvisor.co.id; Path=/\n",
      "header: Set-Cookie: ServerPool=A; Domain=.tripadvisor.co.id; Path=/\n",
      "header: Set-Cookie: PMC=V2*MS.77*MD.20230525*LD.20230525; Domain=www.tripadvisor.co.id; Expires=Sun, 25-May-2025 01:01:11 GMT; Path=/; Secure; HttpOnly\n",
      "header: Set-Cookie: TART=%1%enc%3A%2Fux%2B%2FMn8HpLpS8HdJPB8OQjLwXpib%2FhxUhnNSmw4%2BEQJ1bwySuRlWAnlKaTQbb5lNULCL3ymXx4%3D; Domain=www.tripadvisor.co.id; Expires=Wed, 31-May-2023 01:01:11 GMT; Path=/; HttpOnly\n",
      "header: Set-Cookie: CM=%1%PremiumMobSess%2C%2C-1%7Ct4b-pc%2C%2C-1%7CRestAds%2FRPers%2C%2C-1%7CRCPers%2C%2C-1%7CWShadeSeen%2C%2C-1%7CTheForkMCCPers%2C%2C-1%7CHomeASess%2C%2C-1%7CPremiumMCSess%2C%2C-1%7CCrisisSess%2C%2C-1%7CUVOwnersSess%2C%2C-1%7CRestPremRSess%2C%2C-1%7CRepTarMCSess%2C%2C-1%7CCCSess%2C%2C-1%7CCYLSess%2C%2C-1%7CPremRetPers%2C%2C-1%7CViatorMCPers%2C%2C-1%7Csesssticker%2C%2C-1%7C%24%2C%2C-1%7CPremiumORSess%2C%2C-1%7Ct4b-sc%2C%2C-1%7CRestAdsPers%2C%2C-1%7CMC_IB_UPSELL_IB_LOGOS2%2C%2C-1%7CTSMCPers%2C%2C-1%7Cb2bmcpers%2C%2C-1%7CPremMCBtmSess%2C%2C-1%7CMC_IB_UPSELL_IB_LOGOS%2C%2C-1%7CLaFourchette+Banners%2C%2C-1%7Csess_rev%2C%2C-1%7Csessamex%2C%2C-1%7CPremiumRRSess%2C%2C-1%7CTADORSess%2C%2C-1%7CAdsRetPers%2C%2C-1%7CListMCSess%2C%2C-1%7CTARSWBPers%2C%2C-1%7CSPMCSess%2C%2C-1%7CTheForkORSess%2C%2C-1%7CTheForkRRSess%2C%2C-1%7Cpers_rev%2C%2C-1%7CRBAPers%2C%2C-1%7CRestAds%2FRSess%2C%2C-1%7CHomeAPers%2C%2C-1%7CPremiumMobPers%2C%2C-1%7CRCSess%2C%2C-1%7CLaFourchette+MC+Banners%2C%2C-1%7CRestAdsCCSess%2C%2C-1%7CRestPremRPers%2C%2C-1%7CRevHubRMPers%2C%2C-1%7CUVOwnersPers%2C%2C-1%7Cpssamex%2C%2C-1%7CTheForkMCCSess%2C%2C-1%7CCrisisPers%2C%2C-1%7CCYLPers%2C%2C-1%7CCCPers%2C%2C-1%7CRepTarMCPers%2C%2C-1%7Cb2bmcsess%2C%2C-1%7CTSMCSess%2C%2C-1%7CSPMCPers%2C%2C-1%7CRevHubRMSess%2C%2C-1%7CPremRetSess%2C%2C-1%7CViatorMCSess%2C%2C-1%7CPremiumMCPers%2C%2C-1%7CAdsRetSess%2C%2C-1%7CPremiumRRPers%2C%2C-1%7CRestAdsCCPers%2C%2C-1%7CTADORPers%2C%2C-1%7CTheForkORPers%2C%2C-1%7CPremMCBtmPers%2C%2C-1%7CTheForkRRPers%2C%2C-1%7CTARSWBSess%2C%2C-1%7CPremiumORPers%2C%2C-1%7CRestAdsSess%2C%2C-1%7CRBASess%2C%2C-1%7CSPORPers%2C%2C-1%7Cperssticker%2C%2C-1%7CListMCPers%2C%2C-1%7C; Domain=.tripadvisor.co.id; Expires=Mon, 23-May-2033 01:01:11 GMT; Path=/\n",
      "header: Set-Cookie: BEPIN=%1%1885592e8b4%3Bweb788a.a.tripadvisor.com%3A30023%3B; Domain=.tripadvisor.co.id; Path=/\n",
      "header: Set-Cookie: PAC=AAlhwaLpoOGeMLZoX-CRU9r1jmfIbQg1F7JaPXeQEjlf3mxT0lhX4Lm3twERQviAIrDmHUIzWLkroRQvfYp9NVOcZVeaekOvA7r7izZTsd5dXukwcTrOlooQ4dm-R_0qR0kmZxLUnkXfffqk3EbD5oxWgTUQ6gQFZJKYq9Q2sHHUWRIxw4eDatt1I-dr3xvBMd_h9mkUGF3m5Sc0OaHU3d20FQn0CNWqbzn0SHHGqO6M; Domain=www.tripadvisor.co.id; Expires=Sun, 25-May-2025 01:01:11 GMT; Path=/; Secure; HttpOnly\n",
      "header: Set-Cookie: SRT=TART_SYNC; Domain=www.tripadvisor.co.id; Expires=Fri, 26-May-2023 01:31:11 GMT; Path=/\n",
      "header: Set-Cookie: TATravelInfo=V2*AY.2023*AM.6*AD.4*DY.2023*DM.6*DD.5*A.2*MG.-1*HP.2*FL.3*DSM.1685062871317*RS.1; Domain=.tripadvisor.co.id; Expires=Fri, 09-Jun-2023 01:01:11 GMT; Path=/\n",
      "header: Set-Cookie: TAUD=LG-1685062871187-2.1.F.*RDD-2-2023_05_26*HDD-3-2023_06_04.2023_06_05.1; Domain=.tripadvisor.co.id; Expires=Fri, 09-Jun-2023 01:01:11 GMT; Path=/\n",
      "header: Set-Cookie: TASID=A50E66A482DD401F94616AE7E1810252; Domain=www.tripadvisor.co.id; Expires=Fri, 26-May-2023 01:31:11 GMT; Path=/; Secure\n",
      "header: Set-Cookie: TAReturnTo=%1%%2FHotel_Review-g297701-d3440268-Reviews-or20-B_B_Home_Stay_Griya_Jungutan-Ubud_Gianyar_Regency_Bali.html; Domain=.tripadvisor.co.id; Path=/\n",
      "header: Set-Cookie: datadome=F9oHy3iNbpPv6h9_E0BRJCjEzNygrCTYJBYxDsXR9L8u3Fe2SvqtyIqGJlGjdB5IbCDmgSzncwcHD_YTn33RX86NJ-maXtFoGe4OH5mNroQvXC8kz9pLLt-yy3lVRYe; Max-Age=31104000; Domain=.tripadvisor.co.id; Path=/; Secure; SameSite=Lax\n",
      "Done Scrapping B&B Home Stay Griya Jungutan page 4\n",
      "\n",
      "\n"
     ]
    },
    {
     "name": "stderr",
     "output_type": "stream",
     "text": [
      "DEBUG:urllib3.connectionpool:Starting new HTTPS connection (1): www.tripadvisor.co.id:443\n"
     ]
    },
    {
     "name": "stdout",
     "output_type": "stream",
     "text": [
      "send: b'GET /Hotel_Review-g297701-d3440268-Reviews-or25-B_B_Home_Stay_Griya_Jungutan-Ubud_Gianyar_Regency_Bali.html HTTP/1.1\\r\\nHost: www.tripadvisor.co.id\\r\\nUser-Agent: Mozilla/5.0 (X11; CrOS x86_64 12871.102.0) AppleWebKit/537.36 (KHTML, like Gecko) Chrome/81.0.4044.141 Safari/537.36\\r\\nAccept-Encoding: gzip, deflate\\r\\nAccept: */*\\r\\nConnection: keep-alive\\r\\n\\r\\n'\n"
     ]
    },
    {
     "name": "stderr",
     "output_type": "stream",
     "text": [
      "DEBUG:urllib3.connectionpool:https://www.tripadvisor.co.id:443 \"GET /Hotel_Review-g297701-d3440268-Reviews-or25-B_B_Home_Stay_Griya_Jungutan-Ubud_Gianyar_Regency_Bali.html HTTP/1.1\" 200 None\n"
     ]
    },
    {
     "name": "stdout",
     "output_type": "stream",
     "text": [
      "reply: 'HTTP/1.1 200 OK\\r\\n'\n",
      "header: Server: envoy\n",
      "header: Link: <https://media-cdn.tripadvisor.com/media/>;rel=\"preconnect\";crossorigin\n",
      "header: Link: <https://media-cdn.tripadvisor.com/media/>;rel=\"dns-prefetch\"\n",
      "header: p3p: CP=\"NOI CURa ADMa DEVa TAIa OUR BUS IND UNI COM NAV INT DSP COR CAO PSA IDC ADM DEVi TAIi PSD IVAi IVDi CONi HIS CNT\"\n",
      "header: Pragma: no-cache\n",
      "header: Cache-Control: no-cache, no-store, must-revalidate\n",
      "header: Expires: 0\n",
      "header: Content-Language: id\n",
      "header: Link: <https://static.tacdn.com>;rel=\"dns-prefetch\"\n",
      "header: Link: <https://static.tacdn.com>;rel=\"preconnect\";crossorigin\n",
      "header: timing-allow-origin: https://www.tripadvisor.com\n",
      "header: Vary: Accept-Encoding\n",
      "header: Content-Type: text/html;charset=UTF-8\n",
      "header: x-datadome: protected\n",
      "header: Accept-CH: Sec-CH-UA,Sec-CH-UA-Mobile,Sec-CH-UA-Platform,Sec-CH-UA-Arch,Sec-CH-UA-Full-Version-List,Sec-CH-UA-Model,Sec-CH-Device-Memory\n",
      "header: Content-Encoding: gzip\n",
      "header: x-request-id: fa403ea8-c47f-4652-bfa7-450f462c6d2f\n",
      "header: Date: Fri, 26 May 2023 01:01:16 GMT\n",
      "header: Transfer-Encoding: chunked\n",
      "header: Connection: keep-alive\n",
      "header: Connection: Transfer-Encoding\n",
      "header: Set-Cookie: TADCID=t5xHpgliD4OMazeGABQCXdElnkGETRW-Svh01l3nWnXCaj-nMXeCl-Au1VHL3lHKjJxxbRfuL6BK0OD2Pl3AwS3PhhcwScHjfJ4; Domain=www.tripadvisor.co.id; Expires=Mon, 23-May-2033 01:01:15 GMT; Path=/; Secure; HttpOnly\n",
      "header: Set-Cookie: TAUnique=%1%enc%3AJ9RgscebvWv%2B7H78yfwekiHKVVkteNxIHsOZ0jmlnHk2jHwltRJPGQ%3D%3D; Domain=.tripadvisor.co.id; Expires=Sun, 25-May-2025 01:01:15 GMT; Path=/; HttpOnly\n",
      "header: Set-Cookie: TASSK=enc%3AAAiEi59%2BroVvTfzX190%2BnexjTV0nrY11UhSDvOAxQURvTwnn7OVrWhl%2FW64akxKyBdMcxwNRRH2eGM0nyZDn3VhIb2LjQdj5YJZknkW5GLUd8Y2K7hzw9A5zCF6HmyPidg%3D%3D; Domain=www.tripadvisor.co.id; Expires=Wed, 22-Nov-2023 01:01:16 GMT; Path=/; HttpOnly\n",
      "header: Set-Cookie: TASession=V2ID.591A84BA9CA64584A67BC58384F9238F*SQ.1*HS.recommended*ES.popularity*DS.5*SAS.popularity*FPS.oldFirst*LF.in*FA.1*DF.0*TRA.true*LD.3440268; Domain=.tripadvisor.co.id; Path=/\n",
      "header: Set-Cookie: ServerPool=X; Domain=.tripadvisor.co.id; Path=/\n",
      "header: Set-Cookie: PMC=V2*MS.51*MD.20230525*LD.20230525; Domain=www.tripadvisor.co.id; Expires=Sun, 25-May-2025 01:01:16 GMT; Path=/; Secure; HttpOnly\n",
      "header: Set-Cookie: TART=%1%enc%3A%2Fux%2B%2FMn8HpLlFr0NVYtEAyWaLpzcIS51MAzIf1WQlrvAbBPrpTjOutCsUBPaTvzqZQnMIP2Q3mY%3D; Domain=www.tripadvisor.co.id; Expires=Wed, 31-May-2023 01:01:16 GMT; Path=/; HttpOnly\n",
      "header: Set-Cookie: CM=%1%PremiumMobSess%2C%2C-1%7Ct4b-pc%2C%2C-1%7CRestAds%2FRPers%2C%2C-1%7CRCPers%2C%2C-1%7CWShadeSeen%2C%2C-1%7CTheForkMCCPers%2C%2C-1%7CHomeASess%2C%2C-1%7CPremiumMCSess%2C%2C-1%7CCrisisSess%2C%2C-1%7CUVOwnersSess%2C%2C-1%7CRestPremRSess%2C%2C-1%7CRepTarMCSess%2C%2C-1%7CCCSess%2C%2C-1%7CCYLSess%2C%2C-1%7CPremRetPers%2C%2C-1%7CViatorMCPers%2C%2C-1%7Csesssticker%2C%2C-1%7C%24%2C%2C-1%7CPremiumORSess%2C%2C-1%7Ct4b-sc%2C%2C-1%7CRestAdsPers%2C%2C-1%7CMC_IB_UPSELL_IB_LOGOS2%2C%2C-1%7CTSMCPers%2C%2C-1%7Cb2bmcpers%2C%2C-1%7CPremMCBtmSess%2C%2C-1%7CMC_IB_UPSELL_IB_LOGOS%2C%2C-1%7CLaFourchette+Banners%2C%2C-1%7Csess_rev%2C%2C-1%7Csessamex%2C%2C-1%7CPremiumRRSess%2C%2C-1%7CTADORSess%2C%2C-1%7CAdsRetPers%2C%2C-1%7CListMCSess%2C%2C-1%7CTARSWBPers%2C%2C-1%7CSPMCSess%2C%2C-1%7CTheForkORSess%2C%2C-1%7CTheForkRRSess%2C%2C-1%7Cpers_rev%2C%2C-1%7CRBAPers%2C%2C-1%7CRestAds%2FRSess%2C%2C-1%7CHomeAPers%2C%2C-1%7CPremiumMobPers%2C%2C-1%7CRCSess%2C%2C-1%7CLaFourchette+MC+Banners%2C%2C-1%7CRestAdsCCSess%2C%2C-1%7CRestPremRPers%2C%2C-1%7CRevHubRMPers%2C%2C-1%7CUVOwnersPers%2C%2C-1%7Cpssamex%2C%2C-1%7CTheForkMCCSess%2C%2C-1%7CCrisisPers%2C%2C-1%7CCYLPers%2C%2C-1%7CCCPers%2C%2C-1%7CRepTarMCPers%2C%2C-1%7Cb2bmcsess%2C%2C-1%7CTSMCSess%2C%2C-1%7CSPMCPers%2C%2C-1%7CRevHubRMSess%2C%2C-1%7CPremRetSess%2C%2C-1%7CViatorMCSess%2C%2C-1%7CPremiumMCPers%2C%2C-1%7CAdsRetSess%2C%2C-1%7CPremiumRRPers%2C%2C-1%7CRestAdsCCPers%2C%2C-1%7CTADORPers%2C%2C-1%7CTheForkORPers%2C%2C-1%7CPremMCBtmPers%2C%2C-1%7CTheForkRRPers%2C%2C-1%7CTARSWBSess%2C%2C-1%7CPremiumORPers%2C%2C-1%7CRestAdsSess%2C%2C-1%7CRBASess%2C%2C-1%7CSPORPers%2C%2C-1%7Cperssticker%2C%2C-1%7CListMCPers%2C%2C-1%7C; Domain=.tripadvisor.co.id; Expires=Mon, 23-May-2033 01:01:16 GMT; Path=/\n",
      "header: Set-Cookie: BEPIN=%1%1885592f9ef%3Bweb225a.a.tripadvisor.com%3A30023%3B; Domain=.tripadvisor.co.id; Path=/\n",
      "header: Set-Cookie: PAC=ALREf1KBD1x7tBidVCvX4eY0Zir9n_uj583LhvvfS5bfLdbvExjL4jPtqMrq7KSGeb8uwBjFdrOcZNDmOyQjVVHlCNjZRm1F9_tmTHp41wHvRRAml99yzxhQYL1i9QCpYBRm4s3t7oIbMUIb3mQBvEu1zXtE2xaW-iwPNuXWicDAvxNRc3rt4rn0HrvcTfjs1K3wYxR2Wo3HtAwekasqTxOKYInXo7jd1gE8XX-YqR0p; Domain=www.tripadvisor.co.id; Expires=Sun, 25-May-2025 01:01:16 GMT; Path=/; Secure; HttpOnly\n",
      "header: Set-Cookie: SRT=TART_SYNC; Domain=www.tripadvisor.co.id; Expires=Fri, 26-May-2023 01:31:16 GMT; Path=/\n",
      "header: Set-Cookie: TATravelInfo=V2*AY.2023*AM.6*AD.4*DY.2023*DM.6*DD.5*A.2*MG.-1*HP.2*FL.3*DSM.1685062875727*RS.1; Domain=.tripadvisor.co.id; Expires=Fri, 09-Jun-2023 01:01:16 GMT; Path=/\n",
      "header: Set-Cookie: TAUD=LG-1685062875598-2.1.F.*RDD-2-2023_05_26*HDD-3-2023_06_04.2023_06_05.1; Domain=.tripadvisor.co.id; Expires=Fri, 09-Jun-2023 01:01:16 GMT; Path=/\n",
      "header: Set-Cookie: TASID=591A84BA9CA64584A67BC58384F9238F; Domain=www.tripadvisor.co.id; Expires=Fri, 26-May-2023 01:31:16 GMT; Path=/; Secure\n",
      "header: Set-Cookie: TAReturnTo=%1%%2FHotel_Review-g297701-d3440268-Reviews-or25-B_B_Home_Stay_Griya_Jungutan-Ubud_Gianyar_Regency_Bali.html; Domain=.tripadvisor.co.id; Path=/\n",
      "header: Set-Cookie: datadome=74OxRLqw3F6I6IgXw09F2_EY2Q1y7~mvPTKClRaOs4KErxmotAF1SsPCBYPyYMWlCrbVQ6GLopjFqXL6v5RRN3PwTrWtqhvUuzDXBxzRM8nUYUZBl2V1X1eVZzZY_Sxm; Max-Age=31104000; Domain=.tripadvisor.co.id; Path=/; Secure; SameSite=Lax\n",
      "Done Scrapping B&B Home Stay Griya Jungutan page 5\n",
      "\n",
      "\n"
     ]
    },
    {
     "name": "stderr",
     "output_type": "stream",
     "text": [
      "DEBUG:urllib3.connectionpool:Starting new HTTPS connection (1): www.tripadvisor.co.id:443\n"
     ]
    },
    {
     "name": "stdout",
     "output_type": "stream",
     "text": [
      "send: b'GET /Hotel_Review-g297701-d3440268-Reviews-or30-B_B_Home_Stay_Griya_Jungutan-Ubud_Gianyar_Regency_Bali.html HTTP/1.1\\r\\nHost: www.tripadvisor.co.id\\r\\nUser-Agent: Mozilla/5.0 (X11; CrOS x86_64 12871.102.0) AppleWebKit/537.36 (KHTML, like Gecko) Chrome/81.0.4044.141 Safari/537.36\\r\\nAccept-Encoding: gzip, deflate\\r\\nAccept: */*\\r\\nConnection: keep-alive\\r\\n\\r\\n'\n"
     ]
    },
    {
     "name": "stderr",
     "output_type": "stream",
     "text": [
      "DEBUG:urllib3.connectionpool:https://www.tripadvisor.co.id:443 \"GET /Hotel_Review-g297701-d3440268-Reviews-or30-B_B_Home_Stay_Griya_Jungutan-Ubud_Gianyar_Regency_Bali.html HTTP/1.1\" 200 None\n"
     ]
    },
    {
     "name": "stdout",
     "output_type": "stream",
     "text": [
      "reply: 'HTTP/1.1 200 OK\\r\\n'\n",
      "header: Server: envoy\n",
      "header: Link: <https://media-cdn.tripadvisor.com/media/>;rel=\"preconnect\";crossorigin\n",
      "header: Link: <https://media-cdn.tripadvisor.com/media/>;rel=\"dns-prefetch\"\n",
      "header: p3p: CP=\"NOI CURa ADMa DEVa TAIa OUR BUS IND UNI COM NAV INT DSP COR CAO PSA IDC ADM DEVi TAIi PSD IVAi IVDi CONi HIS CNT\"\n",
      "header: Pragma: no-cache\n",
      "header: Cache-Control: no-cache, no-store, must-revalidate\n",
      "header: Expires: 0\n",
      "header: Content-Language: id\n",
      "header: Link: <https://static.tacdn.com>;rel=\"dns-prefetch\"\n",
      "header: Link: <https://static.tacdn.com>;rel=\"preconnect\";crossorigin\n",
      "header: timing-allow-origin: https://www.tripadvisor.com\n",
      "header: Vary: Accept-Encoding\n",
      "header: Content-Type: text/html;charset=UTF-8\n",
      "header: Accept-CH: Sec-CH-UA,Sec-CH-UA-Mobile,Sec-CH-UA-Platform,Sec-CH-UA-Arch,Sec-CH-UA-Full-Version-List,Sec-CH-UA-Model,Sec-CH-Device-Memory\n",
      "header: x-datadome: protected\n",
      "header: Content-Encoding: gzip\n",
      "header: x-request-id: 7a37b400-6c1f-4316-b10b-431e9b38af66\n",
      "header: Date: Fri, 26 May 2023 01:01:20 GMT\n",
      "header: Transfer-Encoding: chunked\n",
      "header: Connection: keep-alive\n",
      "header: Connection: Transfer-Encoding\n",
      "header: Set-Cookie: TADCID=_mZ_EnFSBSN0IBcKABQCXdElnkGETRW-Svh01l3nWnXCakV4x_Yi5Va1zBji1ov84Ojf1Y9v3YBomVVY7FQ2DL2I_Q8Zi0Y77vw; Domain=www.tripadvisor.co.id; Expires=Mon, 23-May-2033 01:01:20 GMT; Path=/; Secure; HttpOnly\n",
      "header: Set-Cookie: TAUnique=%1%enc%3AiaRSkOpNxdH%2B7H78yfwekiHKVVkteNxIdLV4SAyzhuY2jHwltRJPGQ%3D%3D; Domain=.tripadvisor.co.id; Expires=Sun, 25-May-2025 01:01:20 GMT; Path=/; HttpOnly\n",
      "header: Set-Cookie: TASSK=enc%3AAErMVF8Q50uDrG7TQwbVRebu4DlD8DkWJYoyziJXiBxrdUqMpfpF2s66ekdLTs0%2FGBAz8VBAaSdNE1svm%2F0LanW%2FtabslDhpOAhKkarIehiRUxKptz2blC3laSOmiAlPww%3D%3D; Domain=www.tripadvisor.co.id; Expires=Wed, 22-Nov-2023 01:01:20 GMT; Path=/; HttpOnly\n",
      "header: Set-Cookie: TASession=V2ID.F78CB00F1671474EB091EB86BD8064DC*SQ.1*HS.recommended*ES.popularity*DS.5*SAS.popularity*FPS.oldFirst*LF.in*FA.1*DF.0*TRA.true*LD.3440268; Domain=.tripadvisor.co.id; Path=/\n",
      "header: Set-Cookie: ServerPool=X; Domain=.tripadvisor.co.id; Path=/\n",
      "header: Set-Cookie: PMC=V2*MS.87*MD.20230525*LD.20230525; Domain=www.tripadvisor.co.id; Expires=Sun, 25-May-2025 01:01:20 GMT; Path=/; Secure; HttpOnly\n",
      "header: Set-Cookie: TART=%1%enc%3A%2Fux%2B%2FMn8HpJ%2BbW9KR3mIGJOfepvjUjH%2Fr0INCePs7w06lH3mPOuXjhyD7AEVlg3JGLyefJQymeo%3D; Domain=www.tripadvisor.co.id; Expires=Wed, 31-May-2023 01:01:20 GMT; Path=/; HttpOnly\n",
      "header: Set-Cookie: CM=%1%PremiumMobSess%2C%2C-1%7Ct4b-pc%2C%2C-1%7CRestAds%2FRPers%2C%2C-1%7CRCPers%2C%2C-1%7CWShadeSeen%2C%2C-1%7CTheForkMCCPers%2C%2C-1%7CHomeASess%2C%2C-1%7CPremiumMCSess%2C%2C-1%7CCrisisSess%2C%2C-1%7CUVOwnersSess%2C%2C-1%7CRestPremRSess%2C%2C-1%7CRepTarMCSess%2C%2C-1%7CCCSess%2C%2C-1%7CCYLSess%2C%2C-1%7CPremRetPers%2C%2C-1%7CViatorMCPers%2C%2C-1%7Csesssticker%2C%2C-1%7C%24%2C%2C-1%7CPremiumORSess%2C%2C-1%7Ct4b-sc%2C%2C-1%7CRestAdsPers%2C%2C-1%7CMC_IB_UPSELL_IB_LOGOS2%2C%2C-1%7CTSMCPers%2C%2C-1%7Cb2bmcpers%2C%2C-1%7CPremMCBtmSess%2C%2C-1%7CMC_IB_UPSELL_IB_LOGOS%2C%2C-1%7CLaFourchette+Banners%2C%2C-1%7Csess_rev%2C%2C-1%7Csessamex%2C%2C-1%7CPremiumRRSess%2C%2C-1%7CTADORSess%2C%2C-1%7CAdsRetPers%2C%2C-1%7CListMCSess%2C%2C-1%7CTARSWBPers%2C%2C-1%7CSPMCSess%2C%2C-1%7CTheForkORSess%2C%2C-1%7CTheForkRRSess%2C%2C-1%7Cpers_rev%2C%2C-1%7CRBAPers%2C%2C-1%7CRestAds%2FRSess%2C%2C-1%7CHomeAPers%2C%2C-1%7CPremiumMobPers%2C%2C-1%7CRCSess%2C%2C-1%7CLaFourchette+MC+Banners%2C%2C-1%7CRestAdsCCSess%2C%2C-1%7CRestPremRPers%2C%2C-1%7CRevHubRMPers%2C%2C-1%7CUVOwnersPers%2C%2C-1%7Cpssamex%2C%2C-1%7CTheForkMCCSess%2C%2C-1%7CCrisisPers%2C%2C-1%7CCYLPers%2C%2C-1%7CCCPers%2C%2C-1%7CRepTarMCPers%2C%2C-1%7Cb2bmcsess%2C%2C-1%7CTSMCSess%2C%2C-1%7CSPMCPers%2C%2C-1%7CRevHubRMSess%2C%2C-1%7CPremRetSess%2C%2C-1%7CViatorMCSess%2C%2C-1%7CPremiumMCPers%2C%2C-1%7CAdsRetSess%2C%2C-1%7CPremiumRRPers%2C%2C-1%7CRestAdsCCPers%2C%2C-1%7CTADORPers%2C%2C-1%7CTheForkORPers%2C%2C-1%7CPremMCBtmPers%2C%2C-1%7CTheForkRRPers%2C%2C-1%7CTARSWBSess%2C%2C-1%7CPremiumORPers%2C%2C-1%7CRestAdsSess%2C%2C-1%7CRBASess%2C%2C-1%7CSPORPers%2C%2C-1%7Cperssticker%2C%2C-1%7CListMCPers%2C%2C-1%7C; Domain=.tripadvisor.co.id; Expires=Mon, 23-May-2033 01:01:20 GMT; Path=/\n",
      "header: Set-Cookie: BEPIN=%1%18855930b2b%3Bweb271a.a.tripadvisor.com%3A30023%3B; Domain=.tripadvisor.co.id; Path=/\n",
      "header: Set-Cookie: PAC=AD9FQguasGnn4HsTDZalpiM931ctj5LpBhlXvP0xfk5bl0tocAKEm24omnX_QaIIZdfWfKm9A6gPYcRAQ1e_p_VVqabkPEg8a2IVPOath-6GSq6BkNlC3IA_d45VPN_3W0A8VhBib0DcFk-TqDfGUxgnQFnZV5TDfWd4wPyFSIpB-KNEuNmI1w7He71vImBOfJ3BXdBXtrvsbWe6FNWAcTRZ8r7BzX0hlz_fiHGeIieq; Domain=www.tripadvisor.co.id; Expires=Sun, 25-May-2025 01:01:20 GMT; Path=/; Secure; HttpOnly\n",
      "header: Set-Cookie: SRT=TART_SYNC; Domain=www.tripadvisor.co.id; Expires=Fri, 26-May-2023 01:31:20 GMT; Path=/\n",
      "header: Set-Cookie: TATravelInfo=V2*AY.2023*AM.6*AD.4*DY.2023*DM.6*DD.5*A.2*MG.-1*HP.2*FL.3*DSM.1685062880131*RS.1; Domain=.tripadvisor.co.id; Expires=Fri, 09-Jun-2023 01:01:20 GMT; Path=/\n",
      "header: Set-Cookie: TAUD=LG-1685062880009-2.1.F.*RDD-2-2023_05_26*HDD-3-2023_06_04.2023_06_05.1; Domain=.tripadvisor.co.id; Expires=Fri, 09-Jun-2023 01:01:20 GMT; Path=/\n",
      "header: Set-Cookie: TASID=F78CB00F1671474EB091EB86BD8064DC; Domain=www.tripadvisor.co.id; Expires=Fri, 26-May-2023 01:31:20 GMT; Path=/; Secure\n",
      "header: Set-Cookie: TAReturnTo=%1%%2FHotel_Review-g297701-d3440268-Reviews-or30-B_B_Home_Stay_Griya_Jungutan-Ubud_Gianyar_Regency_Bali.html; Domain=.tripadvisor.co.id; Path=/\n",
      "header: Set-Cookie: datadome=59XC2iLJ_WvrbDc2-LlEGJlUNYi6WU4t-AWQLVOl-1qpVve418PdkUKyM36e8tTybHRmAmACqcYF2odQn8Y3V88I4-UmIYc6nqCgXQYLAHT1~BwWg6Pge2Ucx2ERWQap; Max-Age=31104000; Domain=.tripadvisor.co.id; Path=/; Secure; SameSite=Lax\n",
      "Done Scrapping B&B Home Stay Griya Jungutan page 6\n",
      "\n",
      "\n"
     ]
    },
    {
     "name": "stderr",
     "output_type": "stream",
     "text": [
      "DEBUG:urllib3.connectionpool:Starting new HTTPS connection (1): www.tripadvisor.co.id:443\n"
     ]
    },
    {
     "name": "stdout",
     "output_type": "stream",
     "text": [
      "send: b'GET /Hotel_Review-g297701-d3440268-Reviews-or35-B_B_Home_Stay_Griya_Jungutan-Ubud_Gianyar_Regency_Bali.html HTTP/1.1\\r\\nHost: www.tripadvisor.co.id\\r\\nUser-Agent: Mozilla/5.0 (X11; CrOS x86_64 12871.102.0) AppleWebKit/537.36 (KHTML, like Gecko) Chrome/81.0.4044.141 Safari/537.36\\r\\nAccept-Encoding: gzip, deflate\\r\\nAccept: */*\\r\\nConnection: keep-alive\\r\\n\\r\\n'\n"
     ]
    },
    {
     "name": "stderr",
     "output_type": "stream",
     "text": [
      "DEBUG:urllib3.connectionpool:https://www.tripadvisor.co.id:443 \"GET /Hotel_Review-g297701-d3440268-Reviews-or35-B_B_Home_Stay_Griya_Jungutan-Ubud_Gianyar_Regency_Bali.html HTTP/1.1\" 200 None\n"
     ]
    },
    {
     "name": "stdout",
     "output_type": "stream",
     "text": [
      "reply: 'HTTP/1.1 200 OK\\r\\n'\n",
      "header: Server: envoy\n",
      "header: Link: <https://media-cdn.tripadvisor.com/media/>;rel=\"preconnect\";crossorigin\n",
      "header: Link: <https://media-cdn.tripadvisor.com/media/>;rel=\"dns-prefetch\"\n",
      "header: p3p: CP=\"NOI CURa ADMa DEVa TAIa OUR BUS IND UNI COM NAV INT DSP COR CAO PSA IDC ADM DEVi TAIi PSD IVAi IVDi CONi HIS CNT\"\n",
      "header: Pragma: no-cache\n",
      "header: Cache-Control: no-cache, no-store, must-revalidate\n",
      "header: Expires: 0\n",
      "header: Content-Language: id\n",
      "header: Link: <https://static.tacdn.com>;rel=\"dns-prefetch\"\n",
      "header: Link: <https://static.tacdn.com>;rel=\"preconnect\";crossorigin\n",
      "header: timing-allow-origin: https://www.tripadvisor.com\n",
      "header: Vary: Accept-Encoding\n",
      "header: Content-Type: text/html;charset=UTF-8\n",
      "header: Accept-CH: Sec-CH-UA,Sec-CH-UA-Mobile,Sec-CH-UA-Platform,Sec-CH-UA-Arch,Sec-CH-UA-Full-Version-List,Sec-CH-UA-Model,Sec-CH-Device-Memory\n",
      "header: x-datadome: protected\n",
      "header: Content-Encoding: gzip\n",
      "header: x-request-id: ddcdd54a-264c-4540-a8f6-706a9da8b02d\n",
      "header: Date: Fri, 26 May 2023 01:01:25 GMT\n",
      "header: Transfer-Encoding: chunked\n",
      "header: Connection: keep-alive\n",
      "header: Connection: Transfer-Encoding\n",
      "header: Set-Cookie: TADCID=FhUeFree_kOW12yKABQCXdElnkGETRW-Svh01l3nWnXCagmgXfafXN4p8_KaeYTsoZWsl8XVfqRqY42W7S6P_8d-ZxgUEei5B7Y; Domain=www.tripadvisor.co.id; Expires=Mon, 23-May-2033 01:01:24 GMT; Path=/; Secure; HttpOnly\n",
      "header: Set-Cookie: TAUnique=%1%enc%3AWtOGVbhzXZr%2B7H78yfwekiHKVVkteNxIrSAid8orjsk2jHwltRJPGQ%3D%3D; Domain=.tripadvisor.co.id; Expires=Sun, 25-May-2025 01:01:24 GMT; Path=/; HttpOnly\n",
      "header: Set-Cookie: TASSK=enc%3AALI0j1ANOZ%2B4E5k3wJaQTTeAUhpOMle4eFLn4Y3fOC2fj%2F5l5RckmUGVWnkO9YHmYJkqIuC7r0%2BQ%2FEDbxu5dJKyoF5y5nIsWNToTxoJexpxyCJZkBL%2F45jz1h0DFHF9%2FwQ%3D%3D; Domain=www.tripadvisor.co.id; Expires=Wed, 22-Nov-2023 01:01:25 GMT; Path=/; HttpOnly\n",
      "header: Set-Cookie: TASession=V2ID.60BF0F2928BA438C9E23D4D69B15EF19*SQ.1*HS.recommended*ES.popularity*DS.5*SAS.popularity*FPS.oldFirst*LF.in*FA.1*DF.0*TRA.true*LD.3440268; Domain=.tripadvisor.co.id; Path=/\n",
      "header: Set-Cookie: ServerPool=C; Domain=.tripadvisor.co.id; Path=/\n",
      "header: Set-Cookie: PMC=V2*MS.72*MD.20230525*LD.20230525; Domain=www.tripadvisor.co.id; Expires=Sun, 25-May-2025 01:01:25 GMT; Path=/; Secure; HttpOnly\n",
      "header: Set-Cookie: TART=%1%enc%3A%2Fux%2B%2FMn8HpJpcxfDojcK0G8QFng9uZErFQfy%2FNzkuDrbZrbVWSFssZKdU%2FC3j14PRsNr41gHGgI%3D; Domain=www.tripadvisor.co.id; Expires=Wed, 31-May-2023 01:01:25 GMT; Path=/; HttpOnly\n",
      "header: Set-Cookie: CM=%1%PremiumMobSess%2C%2C-1%7Ct4b-pc%2C%2C-1%7CRestAds%2FRPers%2C%2C-1%7CRCPers%2C%2C-1%7CWShadeSeen%2C%2C-1%7CTheForkMCCPers%2C%2C-1%7CHomeASess%2C%2C-1%7CPremiumMCSess%2C%2C-1%7CCrisisSess%2C%2C-1%7CUVOwnersSess%2C%2C-1%7CRestPremRSess%2C%2C-1%7CRepTarMCSess%2C%2C-1%7CCCSess%2C%2C-1%7CCYLSess%2C%2C-1%7CPremRetPers%2C%2C-1%7CViatorMCPers%2C%2C-1%7Csesssticker%2C%2C-1%7C%24%2C%2C-1%7CPremiumORSess%2C%2C-1%7Ct4b-sc%2C%2C-1%7CRestAdsPers%2C%2C-1%7CMC_IB_UPSELL_IB_LOGOS2%2C%2C-1%7CTSMCPers%2C%2C-1%7Cb2bmcpers%2C%2C-1%7CPremMCBtmSess%2C%2C-1%7CMC_IB_UPSELL_IB_LOGOS%2C%2C-1%7CLaFourchette+Banners%2C%2C-1%7Csess_rev%2C%2C-1%7Csessamex%2C%2C-1%7CPremiumRRSess%2C%2C-1%7CTADORSess%2C%2C-1%7CAdsRetPers%2C%2C-1%7CListMCSess%2C%2C-1%7CTARSWBPers%2C%2C-1%7CSPMCSess%2C%2C-1%7CTheForkORSess%2C%2C-1%7CTheForkRRSess%2C%2C-1%7Cpers_rev%2C%2C-1%7CRBAPers%2C%2C-1%7CRestAds%2FRSess%2C%2C-1%7CHomeAPers%2C%2C-1%7CPremiumMobPers%2C%2C-1%7CRCSess%2C%2C-1%7CLaFourchette+MC+Banners%2C%2C-1%7CRestAdsCCSess%2C%2C-1%7CRestPremRPers%2C%2C-1%7CRevHubRMPers%2C%2C-1%7CUVOwnersPers%2C%2C-1%7Cpssamex%2C%2C-1%7CTheForkMCCSess%2C%2C-1%7CCrisisPers%2C%2C-1%7CCYLPers%2C%2C-1%7CCCPers%2C%2C-1%7CRepTarMCPers%2C%2C-1%7Cb2bmcsess%2C%2C-1%7CTSMCSess%2C%2C-1%7CSPMCPers%2C%2C-1%7CRevHubRMSess%2C%2C-1%7CPremRetSess%2C%2C-1%7CViatorMCSess%2C%2C-1%7CPremiumMCPers%2C%2C-1%7CAdsRetSess%2C%2C-1%7CPremiumRRPers%2C%2C-1%7CRestAdsCCPers%2C%2C-1%7CTADORPers%2C%2C-1%7CTheForkORPers%2C%2C-1%7CPremMCBtmPers%2C%2C-1%7CTheForkRRPers%2C%2C-1%7CTARSWBSess%2C%2C-1%7CPremiumORPers%2C%2C-1%7CRestAdsSess%2C%2C-1%7CRBASess%2C%2C-1%7CSPORPers%2C%2C-1%7Cperssticker%2C%2C-1%7CListMCPers%2C%2C-1%7C; Domain=.tripadvisor.co.id; Expires=Mon, 23-May-2033 01:01:25 GMT; Path=/\n",
      "header: Set-Cookie: BEPIN=%1%18855931e29%3Bweb376a.a.tripadvisor.com%3A30023%3B; Domain=.tripadvisor.co.id; Path=/\n",
      "header: Set-Cookie: PAC=ADcUD4Tg8C-YXyKJyfVwi4H7dAfL3l8HseGnWfF_7JRe_w1HTd6sSYAA-WOzQj7uPBdzYJWawVEmgOdiS1mjCb9WiDKo5zdPiKdJ5UsdASCOwriiNorWeG0AFGMqmbDjlvNtZ2u2N6jK9LwBfEIluIn3pR_8xy2UFLybG89OAv8ggF85uOCVE8y1HUR_NIfEIjgAtBAw5EIIHBgmaLXbc7-7-lfPzkV_Orza1ck3HN3M; Domain=www.tripadvisor.co.id; Expires=Sun, 25-May-2025 01:01:25 GMT; Path=/; Secure; HttpOnly\n",
      "header: Set-Cookie: SRT=TART_SYNC; Domain=www.tripadvisor.co.id; Expires=Fri, 26-May-2023 01:31:25 GMT; Path=/\n",
      "header: Set-Cookie: TATravelInfo=V2*AY.2023*AM.6*AD.4*DY.2023*DM.6*DD.5*A.2*MG.-1*HP.2*FL.3*DSM.1685062884978*RS.1; Domain=.tripadvisor.co.id; Expires=Fri, 09-Jun-2023 01:01:25 GMT; Path=/\n",
      "header: Set-Cookie: TAUD=LG-1685062884864-2.1.F.*RDD-2-2023_05_26*HDD-3-2023_06_04.2023_06_05.1; Domain=.tripadvisor.co.id; Expires=Fri, 09-Jun-2023 01:01:25 GMT; Path=/\n",
      "header: Set-Cookie: TASID=60BF0F2928BA438C9E23D4D69B15EF19; Domain=www.tripadvisor.co.id; Expires=Fri, 26-May-2023 01:31:25 GMT; Path=/; Secure\n",
      "header: Set-Cookie: TAReturnTo=%1%%2FHotel_Review-g297701-d3440268-Reviews-or35-B_B_Home_Stay_Griya_Jungutan-Ubud_Gianyar_Regency_Bali.html; Domain=.tripadvisor.co.id; Path=/\n",
      "header: Set-Cookie: datadome=6N3AHFj8Ah4v97NLG7u9MozudD8idJQ8JhwhoDfybYbDLTeU_LaE9x_BiBry24UIGubm25mn6tLO7tiyL3ZjmWZHwcBOemRQy4JPvai1KN0ixb3ofvbnedCbvbJbT1Jc; Max-Age=31104000; Domain=.tripadvisor.co.id; Path=/; Secure; SameSite=Lax\n"
     ]
    },
    {
     "name": "stderr",
     "output_type": "stream",
     "text": [
      "DEBUG:urllib3.connectionpool:Starting new HTTPS connection (1): www.tripadvisor.co.id:443\n"
     ]
    },
    {
     "name": "stdout",
     "output_type": "stream",
     "text": [
      "Start Scrapping: Segara Beach Inn\n",
      "send: b'GET /Hotel_Review-g1137831-d3394217-Reviews-or5-Segara_Beach_Inn-Nusa_Lembongan_Bali.html HTTP/1.1\\r\\nHost: www.tripadvisor.co.id\\r\\nUser-Agent: Mozilla/5.0 (X11; CrOS x86_64 12871.102.0) AppleWebKit/537.36 (KHTML, like Gecko) Chrome/81.0.4044.141 Safari/537.36\\r\\nAccept-Encoding: gzip, deflate\\r\\nAccept: */*\\r\\nConnection: keep-alive\\r\\n\\r\\n'\n"
     ]
    },
    {
     "name": "stderr",
     "output_type": "stream",
     "text": [
      "DEBUG:urllib3.connectionpool:https://www.tripadvisor.co.id:443 \"GET /Hotel_Review-g1137831-d3394217-Reviews-or5-Segara_Beach_Inn-Nusa_Lembongan_Bali.html HTTP/1.1\" 200 None\n"
     ]
    },
    {
     "name": "stdout",
     "output_type": "stream",
     "text": [
      "reply: 'HTTP/1.1 200 OK\\r\\n'\n",
      "header: Server: envoy\n",
      "header: Link: <https://media-cdn.tripadvisor.com/media/>;rel=\"preconnect\";crossorigin\n",
      "header: Link: <https://media-cdn.tripadvisor.com/media/>;rel=\"dns-prefetch\"\n",
      "header: p3p: CP=\"NOI CURa ADMa DEVa TAIa OUR BUS IND UNI COM NAV INT DSP COR CAO PSA IDC ADM DEVi TAIi PSD IVAi IVDi CONi HIS CNT\"\n",
      "header: Pragma: no-cache\n",
      "header: Cache-Control: no-cache, no-store, must-revalidate\n",
      "header: Expires: 0\n",
      "header: Content-Language: id\n",
      "header: Link: <https://static.tacdn.com>;rel=\"dns-prefetch\"\n",
      "header: Link: <https://static.tacdn.com>;rel=\"preconnect\";crossorigin\n",
      "header: timing-allow-origin: https://www.tripadvisor.com\n",
      "header: Vary: Accept-Encoding\n",
      "header: Content-Type: text/html;charset=UTF-8\n",
      "header: x-datadome: protected\n",
      "header: Accept-CH: Sec-CH-UA,Sec-CH-UA-Mobile,Sec-CH-UA-Platform,Sec-CH-UA-Arch,Sec-CH-UA-Full-Version-List,Sec-CH-UA-Model,Sec-CH-Device-Memory\n",
      "header: Content-Encoding: gzip\n",
      "header: x-request-id: 55e18da5-44f6-475b-89ad-0b165b3cdc14\n",
      "header: Date: Fri, 26 May 2023 01:01:27 GMT\n",
      "header: Transfer-Encoding: chunked\n",
      "header: Connection: keep-alive\n",
      "header: Connection: Transfer-Encoding\n",
      "header: Set-Cookie: TADCID=A_IH0nywiZWb2tsNABQCXdElnkGETRW-Svh01l3nWnXCaiVTP30rL6hTY-4gNPi4ldKXA_CqR19aue_WpuLI2SRQTUkD7RKVgKE; Domain=www.tripadvisor.co.id; Expires=Mon, 23-May-2033 01:01:26 GMT; Path=/; Secure; HttpOnly\n",
      "header: Set-Cookie: TAUnique=%1%enc%3Ayg68kAIEKTL%2B7H78yfwekiHKVVkteNxI5NzbDkvxVsU2jHwltRJPGQ%3D%3D; Domain=.tripadvisor.co.id; Expires=Sun, 25-May-2025 01:01:26 GMT; Path=/; HttpOnly\n",
      "header: Set-Cookie: TASSK=enc%3AAPt5U7jBfPMNnp0Vmv8xbyL0duP%2FKjTDyij%2BbBqUVFplebGdAZqkuWwGW1fk8IHGGQPNIelGzIJGYlNfLU9PQZPfFeqcmV0gUGxA7MtoZeE2rAuWbClkcL%2FpRf5jULebPQ%3D%3D; Domain=www.tripadvisor.co.id; Expires=Wed, 22-Nov-2023 01:01:26 GMT; Path=/; HttpOnly\n",
      "header: Set-Cookie: TASession=V2ID.72BC233EA7D246B7AE0E3ACEAABA4F5B*SQ.1*HS.recommended*ES.popularity*DS.5*SAS.popularity*FPS.oldFirst*LF.in*FA.1*DF.0*TRA.true*LD.3394217; Domain=.tripadvisor.co.id; Path=/\n",
      "header: Set-Cookie: ServerPool=B; Domain=.tripadvisor.co.id; Path=/\n",
      "header: Set-Cookie: PMC=V2*MS.83*MD.20230525*LD.20230525; Domain=www.tripadvisor.co.id; Expires=Sun, 25-May-2025 01:01:26 GMT; Path=/; Secure; HttpOnly\n",
      "header: Set-Cookie: TART=%1%enc%3A%2Fux%2B%2FMn8HpLNfClBxAj%2B3JKw6vOjgWMD%2F80%2BCcRGGVNfmiq4DmEbDHMCd%2FplCnfaZQnMIP2Q3mY%3D; Domain=www.tripadvisor.co.id; Expires=Wed, 31-May-2023 01:01:26 GMT; Path=/; HttpOnly\n",
      "header: Set-Cookie: CM=%1%PremiumMobSess%2C%2C-1%7Ct4b-pc%2C%2C-1%7CRestAds%2FRPers%2C%2C-1%7CRCPers%2C%2C-1%7CWShadeSeen%2C%2C-1%7CTheForkMCCPers%2C%2C-1%7CHomeASess%2C%2C-1%7CPremiumMCSess%2C%2C-1%7CCrisisSess%2C%2C-1%7CUVOwnersSess%2C%2C-1%7CRestPremRSess%2C%2C-1%7CRepTarMCSess%2C%2C-1%7CCCSess%2C%2C-1%7CCYLSess%2C%2C-1%7CPremRetPers%2C%2C-1%7CViatorMCPers%2C%2C-1%7Csesssticker%2C%2C-1%7C%24%2C%2C-1%7CPremiumORSess%2C%2C-1%7Ct4b-sc%2C%2C-1%7CRestAdsPers%2C%2C-1%7CMC_IB_UPSELL_IB_LOGOS2%2C%2C-1%7CTSMCPers%2C%2C-1%7Cb2bmcpers%2C%2C-1%7CPremMCBtmSess%2C%2C-1%7CMC_IB_UPSELL_IB_LOGOS%2C%2C-1%7CLaFourchette+Banners%2C%2C-1%7Csess_rev%2C%2C-1%7Csessamex%2C%2C-1%7CPremiumRRSess%2C%2C-1%7CTADORSess%2C%2C-1%7CAdsRetPers%2C%2C-1%7CListMCSess%2C%2C-1%7CTARSWBPers%2C%2C-1%7CSPMCSess%2C%2C-1%7CTheForkORSess%2C%2C-1%7CTheForkRRSess%2C%2C-1%7Cpers_rev%2C%2C-1%7CRBAPers%2C%2C-1%7CRestAds%2FRSess%2C%2C-1%7CHomeAPers%2C%2C-1%7CPremiumMobPers%2C%2C-1%7CRCSess%2C%2C-1%7CLaFourchette+MC+Banners%2C%2C-1%7CRestAdsCCSess%2C%2C-1%7CRestPremRPers%2C%2C-1%7CRevHubRMPers%2C%2C-1%7CUVOwnersPers%2C%2C-1%7Cpssamex%2C%2C-1%7CTheForkMCCSess%2C%2C-1%7CCrisisPers%2C%2C-1%7CCYLPers%2C%2C-1%7CCCPers%2C%2C-1%7CRepTarMCPers%2C%2C-1%7Cb2bmcsess%2C%2C-1%7CTSMCSess%2C%2C-1%7CSPMCPers%2C%2C-1%7CRevHubRMSess%2C%2C-1%7CPremRetSess%2C%2C-1%7CViatorMCSess%2C%2C-1%7CPremiumMCPers%2C%2C-1%7CAdsRetSess%2C%2C-1%7CPremiumRRPers%2C%2C-1%7CRestAdsCCPers%2C%2C-1%7CTADORPers%2C%2C-1%7CTheForkORPers%2C%2C-1%7CPremMCBtmPers%2C%2C-1%7CTheForkRRPers%2C%2C-1%7CTARSWBSess%2C%2C-1%7CPremiumORPers%2C%2C-1%7CRestAdsSess%2C%2C-1%7CRBASess%2C%2C-1%7CSPORPers%2C%2C-1%7Cperssticker%2C%2C-1%7CListMCPers%2C%2C-1%7C; Domain=.tripadvisor.co.id; Expires=Mon, 23-May-2033 01:01:26 GMT; Path=/\n",
      "header: Set-Cookie: BEPIN=%1%1885593240e%3Bweb376a.a.tripadvisor.com%3A30023%3B; Domain=.tripadvisor.co.id; Path=/\n",
      "header: Set-Cookie: PAC=AI0RjosCOWNQUiJSYZb88H-jip_53VKfqj39rLivlR3IgDwhGAZgcqRDnpQkMCOFftjmiPpbrIKUVTtP7LoAju_8K7O0SRaq-KlvZmOGBG6bUPOS-DEK1ukvVBzMJEAA111NwLahwrWezFBwhnLoLt9n7Ug90xBcmtaCLGUe2SWESv2GH4TN0TBIvHnA08bWSjw107sLxBNCCI1Gbjp-K5Q%3D; Domain=www.tripadvisor.co.id; Expires=Sun, 25-May-2025 01:01:26 GMT; Path=/; Secure; HttpOnly\n",
      "header: Set-Cookie: SRT=TART_SYNC; Domain=www.tripadvisor.co.id; Expires=Fri, 26-May-2023 01:31:26 GMT; Path=/\n",
      "header: Set-Cookie: TATravelInfo=V2*AY.2023*AM.6*AD.4*DY.2023*DM.6*DD.5*A.2*MG.-1*HP.2*FL.3*DSM.1685062886477*RS.1; Domain=.tripadvisor.co.id; Expires=Fri, 09-Jun-2023 01:01:26 GMT; Path=/\n",
      "header: Set-Cookie: TAUD=LG-1685062886379-2.1.F.*RDD-2-2023_05_26*HDD-3-2023_06_04.2023_06_05.1; Domain=.tripadvisor.co.id; Expires=Fri, 09-Jun-2023 01:01:26 GMT; Path=/\n",
      "header: Set-Cookie: TASID=72BC233EA7D246B7AE0E3ACEAABA4F5B; Domain=www.tripadvisor.co.id; Expires=Fri, 26-May-2023 01:31:26 GMT; Path=/; Secure\n",
      "header: Set-Cookie: TAReturnTo=%1%%2FHotel_Review-g1137831-d3394217-Reviews-or5-Segara_Beach_Inn-Nusa_Lembongan_Bali.html; Domain=.tripadvisor.co.id; Path=/\n",
      "header: Set-Cookie: datadome=2larkgXNPgPv0ZGgX4UjJ~O5XpEw1iLlUnrCaU0bT4BupljH6_YykfXJUk_dzKk_jYUH9wTYTT~ii1NnMuIbwbRMH1MvPKXRlb0weB_8OhGwD6OLbmCST_oQFnbuJ1tZ; Max-Age=31104000; Domain=.tripadvisor.co.id; Path=/; Secure; SameSite=Lax\n",
      "Done Scrapping Segara Beach Inn page 1\n",
      "\n",
      "\n"
     ]
    },
    {
     "name": "stderr",
     "output_type": "stream",
     "text": [
      "DEBUG:urllib3.connectionpool:Starting new HTTPS connection (1): www.tripadvisor.co.id:443\n"
     ]
    },
    {
     "name": "stdout",
     "output_type": "stream",
     "text": [
      "send: b'GET /Hotel_Review-g1137831-d3394217-Reviews-or10-Segara_Beach_Inn-Nusa_Lembongan_Bali.html HTTP/1.1\\r\\nHost: www.tripadvisor.co.id\\r\\nUser-Agent: Mozilla/5.0 (X11; CrOS x86_64 12871.102.0) AppleWebKit/537.36 (KHTML, like Gecko) Chrome/81.0.4044.141 Safari/537.36\\r\\nAccept-Encoding: gzip, deflate\\r\\nAccept: */*\\r\\nConnection: keep-alive\\r\\n\\r\\n'\n"
     ]
    },
    {
     "name": "stderr",
     "output_type": "stream",
     "text": [
      "DEBUG:urllib3.connectionpool:https://www.tripadvisor.co.id:443 \"GET /Hotel_Review-g1137831-d3394217-Reviews-or10-Segara_Beach_Inn-Nusa_Lembongan_Bali.html HTTP/1.1\" 200 None\n"
     ]
    },
    {
     "name": "stdout",
     "output_type": "stream",
     "text": [
      "reply: 'HTTP/1.1 200 OK\\r\\n'\n",
      "header: Server: envoy\n",
      "header: Link: <https://media-cdn.tripadvisor.com/media/>;rel=\"preconnect\";crossorigin\n",
      "header: Link: <https://media-cdn.tripadvisor.com/media/>;rel=\"dns-prefetch\"\n",
      "header: p3p: CP=\"NOI CURa ADMa DEVa TAIa OUR BUS IND UNI COM NAV INT DSP COR CAO PSA IDC ADM DEVi TAIi PSD IVAi IVDi CONi HIS CNT\"\n",
      "header: Pragma: no-cache\n",
      "header: Cache-Control: no-cache, no-store, must-revalidate\n",
      "header: Expires: 0\n",
      "header: Content-Language: id\n",
      "header: Link: <https://static.tacdn.com>;rel=\"dns-prefetch\"\n",
      "header: Link: <https://static.tacdn.com>;rel=\"preconnect\";crossorigin\n",
      "header: timing-allow-origin: https://www.tripadvisor.com\n",
      "header: Vary: Accept-Encoding\n",
      "header: Content-Type: text/html;charset=UTF-8\n",
      "header: Accept-CH: Sec-CH-UA,Sec-CH-UA-Mobile,Sec-CH-UA-Platform,Sec-CH-UA-Arch,Sec-CH-UA-Full-Version-List,Sec-CH-UA-Model,Sec-CH-Device-Memory\n",
      "header: x-datadome: protected\n",
      "header: Content-Encoding: gzip\n",
      "header: x-request-id: 712ebe0e-d368-4256-995c-7facaed31ae2\n",
      "header: Date: Fri, 26 May 2023 01:01:31 GMT\n",
      "header: Transfer-Encoding: chunked\n",
      "header: Connection: keep-alive\n",
      "header: Connection: Transfer-Encoding\n",
      "header: Set-Cookie: TADCID=PAkYMHpadOkXavGfABQCXdElnkGETRW-Svh01l3nWnXCam35SkR1Zd4TcGq-KfSIq7UDT_Z1GH0xMa7950pwdqCE9hHr6yHeBOY; Domain=www.tripadvisor.co.id; Expires=Mon, 23-May-2033 01:01:30 GMT; Path=/; Secure; HttpOnly\n",
      "header: Set-Cookie: TAUnique=%1%enc%3AOrn2D62ckVz%2B7H78yfwekiHKVVkteNxI4kbzqp0PB6o2jHwltRJPGQ%3D%3D; Domain=.tripadvisor.co.id; Expires=Sun, 25-May-2025 01:01:30 GMT; Path=/; HttpOnly\n",
      "header: Set-Cookie: TASSK=enc%3AABpvWgy3IayreXq4skAChuVexaVN6inJ1rPOuWtvgJfJrsrZ7velUAdjsjzhx%2BiFDPe9LTA3RA22VlFZiPjwF1g50H4PnhINeTDhf%2BlvzTNqgsBZ8rsaybVuXRllidoJPg%3D%3D; Domain=www.tripadvisor.co.id; Expires=Wed, 22-Nov-2023 01:01:31 GMT; Path=/; HttpOnly\n",
      "header: Set-Cookie: TASession=V2ID.9B69E62404B74CD6A463F7B00A4B12CD*SQ.1*HS.recommended*ES.popularity*DS.5*SAS.popularity*FPS.oldFirst*LF.in*FA.1*DF.0*TRA.true*LD.3394217; Domain=.tripadvisor.co.id; Path=/\n",
      "header: Set-Cookie: ServerPool=A; Domain=.tripadvisor.co.id; Path=/\n",
      "header: Set-Cookie: PMC=V2*MS.22*MD.20230525*LD.20230525; Domain=www.tripadvisor.co.id; Expires=Sun, 25-May-2025 01:01:31 GMT; Path=/; Secure; HttpOnly\n",
      "header: Set-Cookie: TART=%1%enc%3A%2Fux%2B%2FMn8HpIWN8fBBPvX3SDAMgPRCAemCdH25YmI7BKrOW5uy8BUqGaf6z8o9D4vCeyaC1LeImE%3D; Domain=www.tripadvisor.co.id; Expires=Wed, 31-May-2023 01:01:31 GMT; Path=/; HttpOnly\n",
      "header: Set-Cookie: CM=%1%PremiumMobSess%2C%2C-1%7Ct4b-pc%2C%2C-1%7CRestAds%2FRPers%2C%2C-1%7CRCPers%2C%2C-1%7CWShadeSeen%2C%2C-1%7CTheForkMCCPers%2C%2C-1%7CHomeASess%2C%2C-1%7CPremiumMCSess%2C%2C-1%7CCrisisSess%2C%2C-1%7CUVOwnersSess%2C%2C-1%7CRestPremRSess%2C%2C-1%7CRepTarMCSess%2C%2C-1%7CCCSess%2C%2C-1%7CCYLSess%2C%2C-1%7CPremRetPers%2C%2C-1%7CViatorMCPers%2C%2C-1%7Csesssticker%2C%2C-1%7C%24%2C%2C-1%7CPremiumORSess%2C%2C-1%7Ct4b-sc%2C%2C-1%7CRestAdsPers%2C%2C-1%7CMC_IB_UPSELL_IB_LOGOS2%2C%2C-1%7CTSMCPers%2C%2C-1%7Cb2bmcpers%2C%2C-1%7CPremMCBtmSess%2C%2C-1%7CMC_IB_UPSELL_IB_LOGOS%2C%2C-1%7CLaFourchette+Banners%2C%2C-1%7Csess_rev%2C%2C-1%7Csessamex%2C%2C-1%7CPremiumRRSess%2C%2C-1%7CTADORSess%2C%2C-1%7CAdsRetPers%2C%2C-1%7CListMCSess%2C%2C-1%7CTARSWBPers%2C%2C-1%7CSPMCSess%2C%2C-1%7CTheForkORSess%2C%2C-1%7CTheForkRRSess%2C%2C-1%7Cpers_rev%2C%2C-1%7CRBAPers%2C%2C-1%7CRestAds%2FRSess%2C%2C-1%7CHomeAPers%2C%2C-1%7CPremiumMobPers%2C%2C-1%7CRCSess%2C%2C-1%7CLaFourchette+MC+Banners%2C%2C-1%7CRestAdsCCSess%2C%2C-1%7CRestPremRPers%2C%2C-1%7CRevHubRMPers%2C%2C-1%7CUVOwnersPers%2C%2C-1%7Cpssamex%2C%2C-1%7CTheForkMCCSess%2C%2C-1%7CCrisisPers%2C%2C-1%7CCYLPers%2C%2C-1%7CCCPers%2C%2C-1%7CRepTarMCPers%2C%2C-1%7Cb2bmcsess%2C%2C-1%7CTSMCSess%2C%2C-1%7CSPMCPers%2C%2C-1%7CRevHubRMSess%2C%2C-1%7CPremRetSess%2C%2C-1%7CViatorMCSess%2C%2C-1%7CPremiumMCPers%2C%2C-1%7CAdsRetSess%2C%2C-1%7CPremiumRRPers%2C%2C-1%7CRestAdsCCPers%2C%2C-1%7CTADORPers%2C%2C-1%7CTheForkORPers%2C%2C-1%7CPremMCBtmPers%2C%2C-1%7CTheForkRRPers%2C%2C-1%7CTARSWBSess%2C%2C-1%7CPremiumORPers%2C%2C-1%7CRestAdsSess%2C%2C-1%7CRBASess%2C%2C-1%7CSPORPers%2C%2C-1%7Cperssticker%2C%2C-1%7CListMCPers%2C%2C-1%7C; Domain=.tripadvisor.co.id; Expires=Mon, 23-May-2033 01:01:31 GMT; Path=/\n",
      "header: Set-Cookie: BEPIN=%1%188559335d2%3Bweb218a.a.tripadvisor.com%3A30023%3B; Domain=.tripadvisor.co.id; Path=/\n",
      "header: Set-Cookie: PAC=APb-lmFEfnKf102EIPrZKqt1nE-cHOYT24DMKsl060yXcgF3kdm5iq1Vob5wa_ZCY-S61-C4HavZnOq1BQoSz9ERvD0WEC0gYTIxnOaEb-LLxJh9OyKXDmSNZUPfdywU8ySvP8Ia69jtZ_l2uT17cRoHIZ_toIQI_z4yUJG50KtnowD5pvbwzL8gsRMHihiY9Y4vDHUh0R5kcLL8FOcr9SM%3D; Domain=www.tripadvisor.co.id; Expires=Sun, 25-May-2025 01:01:31 GMT; Path=/; Secure; HttpOnly\n",
      "header: Set-Cookie: SRT=TART_SYNC; Domain=www.tripadvisor.co.id; Expires=Fri, 26-May-2023 01:31:31 GMT; Path=/\n",
      "header: Set-Cookie: TATravelInfo=V2*AY.2023*AM.6*AD.4*DY.2023*DM.6*DD.5*A.2*MG.-1*HP.2*FL.3*DSM.1685062891041*RS.1; Domain=.tripadvisor.co.id; Expires=Fri, 09-Jun-2023 01:01:31 GMT; Path=/\n",
      "header: Set-Cookie: TAUD=LG-1685062890924-2.1.F.*RDD-2-2023_05_26*HDD-3-2023_06_04.2023_06_05.1; Domain=.tripadvisor.co.id; Expires=Fri, 09-Jun-2023 01:01:31 GMT; Path=/\n",
      "header: Set-Cookie: TASID=9B69E62404B74CD6A463F7B00A4B12CD; Domain=www.tripadvisor.co.id; Expires=Fri, 26-May-2023 01:31:31 GMT; Path=/; Secure\n",
      "header: Set-Cookie: TAReturnTo=%1%%2FHotel_Review-g1137831-d3394217-Reviews-or10-Segara_Beach_Inn-Nusa_Lembongan_Bali.html; Domain=.tripadvisor.co.id; Path=/\n",
      "header: Set-Cookie: datadome=45ISprcq5w5bpO3s~IR6Fj9-fqPSik5HfW7Yj4VsnmxTAS7ZlV8Isn2YGkph~~aaWNYSTPy2rq6g7hcqIpgn_NB0i5s2OEE1vRPxijUSQ1G9fZyZZkGb-8Fk_~ILYWnP; Max-Age=31104000; Domain=.tripadvisor.co.id; Path=/; Secure; SameSite=Lax\n",
      "Done Scrapping Segara Beach Inn page 2\n",
      "\n",
      "\n"
     ]
    },
    {
     "name": "stderr",
     "output_type": "stream",
     "text": [
      "DEBUG:urllib3.connectionpool:Starting new HTTPS connection (1): www.tripadvisor.co.id:443\n"
     ]
    },
    {
     "name": "stdout",
     "output_type": "stream",
     "text": [
      "send: b'GET /Hotel_Review-g1137831-d3394217-Reviews-or15-Segara_Beach_Inn-Nusa_Lembongan_Bali.html HTTP/1.1\\r\\nHost: www.tripadvisor.co.id\\r\\nUser-Agent: Mozilla/5.0 (X11; CrOS x86_64 12871.102.0) AppleWebKit/537.36 (KHTML, like Gecko) Chrome/81.0.4044.141 Safari/537.36\\r\\nAccept-Encoding: gzip, deflate\\r\\nAccept: */*\\r\\nConnection: keep-alive\\r\\n\\r\\n'\n"
     ]
    },
    {
     "name": "stderr",
     "output_type": "stream",
     "text": [
      "DEBUG:urllib3.connectionpool:https://www.tripadvisor.co.id:443 \"GET /Hotel_Review-g1137831-d3394217-Reviews-or15-Segara_Beach_Inn-Nusa_Lembongan_Bali.html HTTP/1.1\" 200 None\n"
     ]
    },
    {
     "name": "stdout",
     "output_type": "stream",
     "text": [
      "reply: 'HTTP/1.1 200 OK\\r\\n'\n",
      "header: Server: envoy\n",
      "header: Link: <https://media-cdn.tripadvisor.com/media/>;rel=\"preconnect\";crossorigin\n",
      "header: Link: <https://media-cdn.tripadvisor.com/media/>;rel=\"dns-prefetch\"\n",
      "header: p3p: CP=\"NOI CURa ADMa DEVa TAIa OUR BUS IND UNI COM NAV INT DSP COR CAO PSA IDC ADM DEVi TAIi PSD IVAi IVDi CONi HIS CNT\"\n",
      "header: Pragma: no-cache\n",
      "header: Cache-Control: no-cache, no-store, must-revalidate\n",
      "header: Expires: 0\n",
      "header: Content-Language: id\n",
      "header: Link: <https://static.tacdn.com>;rel=\"dns-prefetch\"\n",
      "header: Link: <https://static.tacdn.com>;rel=\"preconnect\";crossorigin\n",
      "header: timing-allow-origin: https://www.tripadvisor.com\n",
      "header: Vary: Accept-Encoding\n",
      "header: Content-Type: text/html;charset=UTF-8\n",
      "header: Accept-CH: Sec-CH-UA,Sec-CH-UA-Mobile,Sec-CH-UA-Platform,Sec-CH-UA-Arch,Sec-CH-UA-Full-Version-List,Sec-CH-UA-Model,Sec-CH-Device-Memory\n",
      "header: x-datadome: protected\n",
      "header: Content-Encoding: gzip\n",
      "header: x-request-id: a1facf6c-217f-4202-83fd-099c7a0d7a07\n",
      "header: Date: Fri, 26 May 2023 01:01:36 GMT\n",
      "header: Transfer-Encoding: chunked\n",
      "header: Connection: keep-alive\n",
      "header: Connection: Transfer-Encoding\n",
      "header: Set-Cookie: TADCID=XIOsNPUlvKuPqa3kABQCXdElnkGETRW-Svh01l3nWnXCarrY5PTjP_U2yvhGnXGLwzXSBKxSV0eL9Vo4LkmL8HIqn_ohk2kXnKk; Domain=www.tripadvisor.co.id; Expires=Mon, 23-May-2033 01:01:35 GMT; Path=/; Secure; HttpOnly\n",
      "header: Set-Cookie: TAUnique=%1%enc%3AnfhaBIyx5qj%2B7H78yfwekiHKVVkteNxIZ%2FbRq4DdPws2jHwltRJPGQ%3D%3D; Domain=.tripadvisor.co.id; Expires=Sun, 25-May-2025 01:01:35 GMT; Path=/; HttpOnly\n",
      "header: Set-Cookie: TASSK=enc%3AAPQmO1wpIboUa1KK4c3dRGAdvMT5VEf2MxKC1pR87KSQF1QaJqUI8BEdFndWaj%2BAh%2BQrap4e95wa2rsbH0ANGtQBTDOwSfPQlx2uFVpvvrki1i4ktajoRhlPWySwiI4rsA%3D%3D; Domain=www.tripadvisor.co.id; Expires=Wed, 22-Nov-2023 01:01:35 GMT; Path=/; HttpOnly\n",
      "header: Set-Cookie: TASession=V2ID.16460FF218D54686A246BE26051E55C8*SQ.1*HS.recommended*ES.popularity*DS.5*SAS.popularity*FPS.oldFirst*LF.in*FA.1*DF.0*TRA.true*LD.3394217; Domain=.tripadvisor.co.id; Path=/\n",
      "header: Set-Cookie: ServerPool=A; Domain=.tripadvisor.co.id; Path=/\n",
      "header: Set-Cookie: PMC=V2*MS.13*MD.20230525*LD.20230525; Domain=www.tripadvisor.co.id; Expires=Sun, 25-May-2025 01:01:35 GMT; Path=/; Secure; HttpOnly\n",
      "header: Set-Cookie: TART=%1%enc%3A%2Fux%2B%2FMn8HpKMlVim6ucRYaVvqbCPWOvFh3aFMkh8QaQEW0ZXxSt1NS3faMNmadmqZQnMIP2Q3mY%3D; Domain=www.tripadvisor.co.id; Expires=Wed, 31-May-2023 01:01:35 GMT; Path=/; HttpOnly\n",
      "header: Set-Cookie: CM=%1%PremiumMobSess%2C%2C-1%7Ct4b-pc%2C%2C-1%7CRestAds%2FRPers%2C%2C-1%7CRCPers%2C%2C-1%7CWShadeSeen%2C%2C-1%7CTheForkMCCPers%2C%2C-1%7CHomeASess%2C%2C-1%7CPremiumMCSess%2C%2C-1%7CCrisisSess%2C%2C-1%7CUVOwnersSess%2C%2C-1%7CRestPremRSess%2C%2C-1%7CRepTarMCSess%2C%2C-1%7CCCSess%2C%2C-1%7CCYLSess%2C%2C-1%7CPremRetPers%2C%2C-1%7CViatorMCPers%2C%2C-1%7Csesssticker%2C%2C-1%7C%24%2C%2C-1%7CPremiumORSess%2C%2C-1%7Ct4b-sc%2C%2C-1%7CRestAdsPers%2C%2C-1%7CMC_IB_UPSELL_IB_LOGOS2%2C%2C-1%7CTSMCPers%2C%2C-1%7Cb2bmcpers%2C%2C-1%7CPremMCBtmSess%2C%2C-1%7CMC_IB_UPSELL_IB_LOGOS%2C%2C-1%7CLaFourchette+Banners%2C%2C-1%7Csess_rev%2C%2C-1%7Csessamex%2C%2C-1%7CPremiumRRSess%2C%2C-1%7CTADORSess%2C%2C-1%7CAdsRetPers%2C%2C-1%7CListMCSess%2C%2C-1%7CTARSWBPers%2C%2C-1%7CSPMCSess%2C%2C-1%7CTheForkORSess%2C%2C-1%7CTheForkRRSess%2C%2C-1%7Cpers_rev%2C%2C-1%7CRBAPers%2C%2C-1%7CRestAds%2FRSess%2C%2C-1%7CHomeAPers%2C%2C-1%7CPremiumMobPers%2C%2C-1%7CRCSess%2C%2C-1%7CLaFourchette+MC+Banners%2C%2C-1%7CRestAdsCCSess%2C%2C-1%7CRestPremRPers%2C%2C-1%7CRevHubRMPers%2C%2C-1%7CUVOwnersPers%2C%2C-1%7Cpssamex%2C%2C-1%7CTheForkMCCSess%2C%2C-1%7CCrisisPers%2C%2C-1%7CCYLPers%2C%2C-1%7CCCPers%2C%2C-1%7CRepTarMCPers%2C%2C-1%7Cb2bmcsess%2C%2C-1%7CTSMCSess%2C%2C-1%7CSPMCPers%2C%2C-1%7CRevHubRMSess%2C%2C-1%7CPremRetSess%2C%2C-1%7CViatorMCSess%2C%2C-1%7CPremiumMCPers%2C%2C-1%7CAdsRetSess%2C%2C-1%7CPremiumRRPers%2C%2C-1%7CRestAdsCCPers%2C%2C-1%7CTADORPers%2C%2C-1%7CTheForkORPers%2C%2C-1%7CPremMCBtmPers%2C%2C-1%7CTheForkRRPers%2C%2C-1%7CTARSWBSess%2C%2C-1%7CPremiumORPers%2C%2C-1%7CRestAdsSess%2C%2C-1%7CRBASess%2C%2C-1%7CSPORPers%2C%2C-1%7Cperssticker%2C%2C-1%7CListMCPers%2C%2C-1%7C; Domain=.tripadvisor.co.id; Expires=Mon, 23-May-2033 01:01:35 GMT; Path=/\n",
      "header: Set-Cookie: BEPIN=%1%18855934699%3Bweb376a.a.tripadvisor.com%3A30023%3B; Domain=.tripadvisor.co.id; Path=/\n",
      "header: Set-Cookie: PAC=AKkz4wzE0VAE08kF3IYdkfPY671klFr3weWPjO7ubLYm4yoGtbnCRHl9VtQTxd-hn7EjdJQfxzijCGEsiw0vWJ_I9l1O7qcy3wTcwd6Tx8J5XQOFpLZyGIVC3KC3bkFnV8wRGWkZC806zgwjlQsdcT-K08s0NVaUWVfT8RsF1vLLEjLehwhrHUyDb9XrE5t5s9kqxK-BfwZCVxirQfE7GKo%3D; Domain=www.tripadvisor.co.id; Expires=Sun, 25-May-2025 01:01:35 GMT; Path=/; Secure; HttpOnly\n",
      "header: Set-Cookie: SRT=TART_SYNC; Domain=www.tripadvisor.co.id; Expires=Fri, 26-May-2023 01:31:35 GMT; Path=/\n",
      "header: Set-Cookie: TATravelInfo=V2*AY.2023*AM.6*AD.4*DY.2023*DM.6*DD.5*A.2*MG.-1*HP.2*FL.3*DSM.1685062895332*RS.1; Domain=.tripadvisor.co.id; Expires=Fri, 09-Jun-2023 01:01:35 GMT; Path=/\n",
      "header: Set-Cookie: TAUD=LG-1685062895221-2.1.F.*RDD-2-2023_05_26*HDD-3-2023_06_04.2023_06_05.1; Domain=.tripadvisor.co.id; Expires=Fri, 09-Jun-2023 01:01:35 GMT; Path=/\n",
      "header: Set-Cookie: TASID=16460FF218D54686A246BE26051E55C8; Domain=www.tripadvisor.co.id; Expires=Fri, 26-May-2023 01:31:35 GMT; Path=/; Secure\n",
      "header: Set-Cookie: TAReturnTo=%1%%2FHotel_Review-g1137831-d3394217-Reviews-or15-Segara_Beach_Inn-Nusa_Lembongan_Bali.html; Domain=.tripadvisor.co.id; Path=/\n",
      "header: Set-Cookie: datadome=3eZDbt_my_fLJOBTJGx6VYSP~nYgoyBTjk19Os_M6tp_IIPsILYmpGbL91T2qYPSSVmHm1lsUjIbJjt7MUGle2i9~rl~mOURCW8lY6rb3Z0un~fPWj1VZliEtS75YoXf; Max-Age=31104000; Domain=.tripadvisor.co.id; Path=/; Secure; SameSite=Lax\n",
      "Done Scrapping Segara Beach Inn page 3\n",
      "\n",
      "\n"
     ]
    },
    {
     "name": "stderr",
     "output_type": "stream",
     "text": [
      "DEBUG:urllib3.connectionpool:Starting new HTTPS connection (1): www.tripadvisor.co.id:443\n"
     ]
    },
    {
     "name": "stdout",
     "output_type": "stream",
     "text": [
      "send: b'GET /Hotel_Review-g1137831-d3394217-Reviews-or20-Segara_Beach_Inn-Nusa_Lembongan_Bali.html HTTP/1.1\\r\\nHost: www.tripadvisor.co.id\\r\\nUser-Agent: Mozilla/5.0 (X11; CrOS x86_64 12871.102.0) AppleWebKit/537.36 (KHTML, like Gecko) Chrome/81.0.4044.141 Safari/537.36\\r\\nAccept-Encoding: gzip, deflate\\r\\nAccept: */*\\r\\nConnection: keep-alive\\r\\n\\r\\n'\n"
     ]
    },
    {
     "name": "stderr",
     "output_type": "stream",
     "text": [
      "DEBUG:urllib3.connectionpool:https://www.tripadvisor.co.id:443 \"GET /Hotel_Review-g1137831-d3394217-Reviews-or20-Segara_Beach_Inn-Nusa_Lembongan_Bali.html HTTP/1.1\" 200 None\n"
     ]
    },
    {
     "name": "stdout",
     "output_type": "stream",
     "text": [
      "reply: 'HTTP/1.1 200 OK\\r\\n'\n",
      "header: Server: envoy\n",
      "header: Link: <https://media-cdn.tripadvisor.com/media/>;rel=\"preconnect\";crossorigin\n",
      "header: Link: <https://media-cdn.tripadvisor.com/media/>;rel=\"dns-prefetch\"\n",
      "header: p3p: CP=\"NOI CURa ADMa DEVa TAIa OUR BUS IND UNI COM NAV INT DSP COR CAO PSA IDC ADM DEVi TAIi PSD IVAi IVDi CONi HIS CNT\"\n",
      "header: Pragma: no-cache\n",
      "header: Cache-Control: no-cache, no-store, must-revalidate\n",
      "header: Expires: 0\n",
      "header: Content-Language: id\n",
      "header: Link: <https://static.tacdn.com>;rel=\"dns-prefetch\"\n",
      "header: Link: <https://static.tacdn.com>;rel=\"preconnect\";crossorigin\n",
      "header: timing-allow-origin: https://www.tripadvisor.com\n",
      "header: Vary: Accept-Encoding\n",
      "header: Content-Type: text/html;charset=UTF-8\n",
      "header: x-datadome: protected\n",
      "header: Accept-CH: Sec-CH-UA,Sec-CH-UA-Mobile,Sec-CH-UA-Platform,Sec-CH-UA-Arch,Sec-CH-UA-Full-Version-List,Sec-CH-UA-Model,Sec-CH-Device-Memory\n",
      "header: Content-Encoding: gzip\n",
      "header: x-request-id: 5064d997-b210-431a-a6f3-67d1ea07bc6a\n",
      "header: Date: Fri, 26 May 2023 01:01:40 GMT\n",
      "header: Transfer-Encoding: chunked\n",
      "header: Connection: keep-alive\n",
      "header: Connection: Transfer-Encoding\n",
      "header: Set-Cookie: TADCID=YGmmYh0ZYpZKQRmaABQCXdElnkGETRW-Svh01l3nWnXCapOVy-Pmk83bQXZ-0V5KWx7ZQRW6962vCyhL4TM9Ajhz3d8BkGXOq4c; Domain=www.tripadvisor.co.id; Expires=Mon, 23-May-2033 01:01:39 GMT; Path=/; Secure; HttpOnly\n",
      "header: Set-Cookie: TAUnique=%1%enc%3AbmR9itff7Tb%2B7H78yfwekiHKVVkteNxIPeHn6X0sSnM2jHwltRJPGQ%3D%3D; Domain=.tripadvisor.co.id; Expires=Sun, 25-May-2025 01:01:39 GMT; Path=/; HttpOnly\n",
      "header: Set-Cookie: TASSK=enc%3AAMJdCvXGAQTlC5Nxdo4G0mDwWKfN%2FJKmotm%2FEFvXwR8aqp2aBC58ei0p9U8jo2IFnQSjnbCdoPAypSJOvOp8ctSds4TTe%2FSlzd3%2B%2BqNwM1%2F9Ubb8PtHZmimilw%2F6U2W5sw%3D%3D; Domain=www.tripadvisor.co.id; Expires=Wed, 22-Nov-2023 01:01:40 GMT; Path=/; HttpOnly\n",
      "header: Set-Cookie: TASession=V2ID.270DC319D12E4EC2AC64C176101F520F*SQ.1*HS.recommended*ES.popularity*DS.5*SAS.popularity*FPS.oldFirst*LF.in*FA.1*DF.0*TRA.true*LD.3394217; Domain=.tripadvisor.co.id; Path=/\n",
      "header: Set-Cookie: ServerPool=X; Domain=.tripadvisor.co.id; Path=/\n",
      "header: Set-Cookie: PMC=V2*MS.42*MD.20230525*LD.20230525; Domain=www.tripadvisor.co.id; Expires=Sun, 25-May-2025 01:01:40 GMT; Path=/; Secure; HttpOnly\n",
      "header: Set-Cookie: TART=%1%enc%3A%2Fux%2B%2FMn8HpIAVnuVCtGUqiCcpZenqqiU0wXuwdAjvSAhT5OIXreEwIOjfaDk9Dv05jVki%2Fentws%3D; Domain=www.tripadvisor.co.id; Expires=Wed, 31-May-2023 01:01:40 GMT; Path=/; HttpOnly\n",
      "header: Set-Cookie: CM=%1%PremiumMobSess%2C%2C-1%7Ct4b-pc%2C%2C-1%7CRestAds%2FRPers%2C%2C-1%7CRCPers%2C%2C-1%7CWShadeSeen%2C%2C-1%7CTheForkMCCPers%2C%2C-1%7CHomeASess%2C%2C-1%7CPremiumMCSess%2C%2C-1%7CCrisisSess%2C%2C-1%7CUVOwnersSess%2C%2C-1%7CRestPremRSess%2C%2C-1%7CRepTarMCSess%2C%2C-1%7CCCSess%2C%2C-1%7CCYLSess%2C%2C-1%7CPremRetPers%2C%2C-1%7CViatorMCPers%2C%2C-1%7Csesssticker%2C%2C-1%7C%24%2C%2C-1%7CPremiumORSess%2C%2C-1%7Ct4b-sc%2C%2C-1%7CRestAdsPers%2C%2C-1%7CMC_IB_UPSELL_IB_LOGOS2%2C%2C-1%7CTSMCPers%2C%2C-1%7Cb2bmcpers%2C%2C-1%7CPremMCBtmSess%2C%2C-1%7CMC_IB_UPSELL_IB_LOGOS%2C%2C-1%7CLaFourchette+Banners%2C%2C-1%7Csess_rev%2C%2C-1%7Csessamex%2C%2C-1%7CPremiumRRSess%2C%2C-1%7CTADORSess%2C%2C-1%7CAdsRetPers%2C%2C-1%7CListMCSess%2C%2C-1%7CTARSWBPers%2C%2C-1%7CSPMCSess%2C%2C-1%7CTheForkORSess%2C%2C-1%7CTheForkRRSess%2C%2C-1%7Cpers_rev%2C%2C-1%7CRBAPers%2C%2C-1%7CRestAds%2FRSess%2C%2C-1%7CHomeAPers%2C%2C-1%7CPremiumMobPers%2C%2C-1%7CRCSess%2C%2C-1%7CLaFourchette+MC+Banners%2C%2C-1%7CRestAdsCCSess%2C%2C-1%7CRestPremRPers%2C%2C-1%7CRevHubRMPers%2C%2C-1%7CUVOwnersPers%2C%2C-1%7Cpssamex%2C%2C-1%7CTheForkMCCSess%2C%2C-1%7CCrisisPers%2C%2C-1%7CCYLPers%2C%2C-1%7CCCPers%2C%2C-1%7CRepTarMCPers%2C%2C-1%7Cb2bmcsess%2C%2C-1%7CTSMCSess%2C%2C-1%7CSPMCPers%2C%2C-1%7CRevHubRMSess%2C%2C-1%7CPremRetSess%2C%2C-1%7CViatorMCSess%2C%2C-1%7CPremiumMCPers%2C%2C-1%7CAdsRetSess%2C%2C-1%7CPremiumRRPers%2C%2C-1%7CRestAdsCCPers%2C%2C-1%7CTADORPers%2C%2C-1%7CTheForkORPers%2C%2C-1%7CPremMCBtmPers%2C%2C-1%7CTheForkRRPers%2C%2C-1%7CTARSWBSess%2C%2C-1%7CPremiumORPers%2C%2C-1%7CRestAdsSess%2C%2C-1%7CRBASess%2C%2C-1%7CSPORPers%2C%2C-1%7Cperssticker%2C%2C-1%7CListMCPers%2C%2C-1%7C; Domain=.tripadvisor.co.id; Expires=Mon, 23-May-2033 01:01:40 GMT; Path=/\n",
      "header: Set-Cookie: BEPIN=%1%1885593582a%3Bweb225a.a.tripadvisor.com%3A30023%3B; Domain=.tripadvisor.co.id; Path=/\n",
      "header: Set-Cookie: PAC=ABZ9IcwDuQUMJ--ZydJO8OJmHSdHgXkjz5Ft6NVzST4svotknVQTfkq9XhafkQIkAMqmQ93LtpFFAae2U9yUJ-LT09D3PqWsrYs4CFsy-2dVLHNiPeP3Wu0wZJpjuGHrHXCLjMJKiZ9MqSO4JLQLY1Zcp5OvwNlJQOAT2EBXMGexyBuDP56JKmMFDOxX0ZMoL6rn7El6bpG6RPM8wfRAadA%3D; Domain=www.tripadvisor.co.id; Expires=Sun, 25-May-2025 01:01:40 GMT; Path=/; Secure; HttpOnly\n",
      "header: Set-Cookie: SRT=TART_SYNC; Domain=www.tripadvisor.co.id; Expires=Fri, 26-May-2023 01:31:40 GMT; Path=/\n",
      "header: Set-Cookie: TATravelInfo=V2*AY.2023*AM.6*AD.4*DY.2023*DM.6*DD.5*A.2*MG.-1*HP.2*FL.3*DSM.1685062899826*RS.1; Domain=.tripadvisor.co.id; Expires=Fri, 09-Jun-2023 01:01:40 GMT; Path=/\n",
      "header: Set-Cookie: TAUD=LG-1685062899701-2.1.F.*RDD-2-2023_05_26*HDD-3-2023_06_04.2023_06_05.1; Domain=.tripadvisor.co.id; Expires=Fri, 09-Jun-2023 01:01:40 GMT; Path=/\n",
      "header: Set-Cookie: TASID=270DC319D12E4EC2AC64C176101F520F; Domain=www.tripadvisor.co.id; Expires=Fri, 26-May-2023 01:31:40 GMT; Path=/; Secure\n",
      "header: Set-Cookie: TAReturnTo=%1%%2FHotel_Review-g1137831-d3394217-Reviews-or20-Segara_Beach_Inn-Nusa_Lembongan_Bali.html; Domain=.tripadvisor.co.id; Path=/\n",
      "header: Set-Cookie: datadome=4cKT23Bl9hG_qZNZr834qWl8Hyt1zi5gVi4dXILOk2cqDwGnzih3q4TyVu88lSQboENOk00A01j7P~gRKR-37-oHPqAPYTpANj-yeQIdf8WlybWVumi6CDevpRmJe~mF; Max-Age=31104000; Domain=.tripadvisor.co.id; Path=/; Secure; SameSite=Lax\n",
      "Done Scrapping Segara Beach Inn page 4\n",
      "\n",
      "\n"
     ]
    },
    {
     "name": "stderr",
     "output_type": "stream",
     "text": [
      "DEBUG:urllib3.connectionpool:Starting new HTTPS connection (1): www.tripadvisor.co.id:443\n"
     ]
    },
    {
     "name": "stdout",
     "output_type": "stream",
     "text": [
      "send: b'GET /Hotel_Review-g1137831-d3394217-Reviews-or25-Segara_Beach_Inn-Nusa_Lembongan_Bali.html HTTP/1.1\\r\\nHost: www.tripadvisor.co.id\\r\\nUser-Agent: Mozilla/5.0 (X11; CrOS x86_64 12871.102.0) AppleWebKit/537.36 (KHTML, like Gecko) Chrome/81.0.4044.141 Safari/537.36\\r\\nAccept-Encoding: gzip, deflate\\r\\nAccept: */*\\r\\nConnection: keep-alive\\r\\n\\r\\n'\n"
     ]
    },
    {
     "name": "stderr",
     "output_type": "stream",
     "text": [
      "DEBUG:urllib3.connectionpool:https://www.tripadvisor.co.id:443 \"GET /Hotel_Review-g1137831-d3394217-Reviews-or25-Segara_Beach_Inn-Nusa_Lembongan_Bali.html HTTP/1.1\" 200 None\n"
     ]
    },
    {
     "name": "stdout",
     "output_type": "stream",
     "text": [
      "reply: 'HTTP/1.1 200 OK\\r\\n'\n",
      "header: Server: envoy\n",
      "header: Link: <https://media-cdn.tripadvisor.com/media/>;rel=\"preconnect\";crossorigin\n",
      "header: Link: <https://media-cdn.tripadvisor.com/media/>;rel=\"dns-prefetch\"\n",
      "header: p3p: CP=\"NOI CURa ADMa DEVa TAIa OUR BUS IND UNI COM NAV INT DSP COR CAO PSA IDC ADM DEVi TAIi PSD IVAi IVDi CONi HIS CNT\"\n",
      "header: Pragma: no-cache\n",
      "header: Cache-Control: no-cache, no-store, must-revalidate\n",
      "header: Expires: 0\n",
      "header: Content-Language: id\n",
      "header: Link: <https://static.tacdn.com>;rel=\"dns-prefetch\"\n",
      "header: Link: <https://static.tacdn.com>;rel=\"preconnect\";crossorigin\n",
      "header: timing-allow-origin: https://www.tripadvisor.com\n",
      "header: Vary: Accept-Encoding\n",
      "header: Content-Type: text/html;charset=UTF-8\n",
      "header: Accept-CH: Sec-CH-UA,Sec-CH-UA-Mobile,Sec-CH-UA-Platform,Sec-CH-UA-Arch,Sec-CH-UA-Full-Version-List,Sec-CH-UA-Model,Sec-CH-Device-Memory\n",
      "header: x-datadome: protected\n",
      "header: Content-Encoding: gzip\n",
      "header: x-request-id: 6fc9608b-642c-49ed-95e3-4ac3de77ec59\n",
      "header: Date: Fri, 26 May 2023 01:01:45 GMT\n",
      "header: Transfer-Encoding: chunked\n",
      "header: Connection: keep-alive\n",
      "header: Connection: Transfer-Encoding\n",
      "header: Set-Cookie: TADCID=dL39tveGuGiCLL_1ABQCXdElnkGETRW-Svh01l3nWnXCapI7xH2EKs-UsreIaVEDtrtkMNvvNTi33L6pQIbqi5-lmvV3klEpoH8; Domain=www.tripadvisor.co.id; Expires=Mon, 23-May-2033 01:01:44 GMT; Path=/; Secure; HttpOnly\n",
      "header: Set-Cookie: TAUnique=%1%enc%3AlhNrw2ubFUv%2B7H78yfwekiHKVVkteNxI8J1%2B%2F4VDtfA2jHwltRJPGQ%3D%3D; Domain=.tripadvisor.co.id; Expires=Sun, 25-May-2025 01:01:44 GMT; Path=/; HttpOnly\n",
      "header: Set-Cookie: TASSK=enc%3AAPMRWO1%2BzXJkMo8ad8RErqq2wPCBHPYwYZfqjJWtxpw0BdJXkDd2NhNxeoxcb3o64DOJDYj10Dpk48I5Cs8KQpC2zher3Dz20c3EyMr1t6kGAPUi%2F9laGtCZl00s4vTjhw%3D%3D; Domain=www.tripadvisor.co.id; Expires=Wed, 22-Nov-2023 01:01:45 GMT; Path=/; HttpOnly\n",
      "header: Set-Cookie: TASession=V2ID.AA301ACF7A834F0696F39B1E619C487A*SQ.1*HS.recommended*ES.popularity*DS.5*SAS.popularity*FPS.oldFirst*LF.in*FA.1*DF.0*TRA.true*LD.3394217; Domain=.tripadvisor.co.id; Path=/\n",
      "header: Set-Cookie: ServerPool=A; Domain=.tripadvisor.co.id; Path=/\n",
      "header: Set-Cookie: PMC=V2*MS.31*MD.20230525*LD.20230525; Domain=www.tripadvisor.co.id; Expires=Sun, 25-May-2025 01:01:45 GMT; Path=/; Secure; HttpOnly\n",
      "header: Set-Cookie: TART=%1%enc%3A%2Fux%2B%2FMn8HpJmctMvUiDRceLEhPBUXQN6CjOvve68gMFevX9ePVTgUlTm0iRTKeTgkagyFvowwb0%3D; Domain=www.tripadvisor.co.id; Expires=Wed, 31-May-2023 01:01:45 GMT; Path=/; HttpOnly\n",
      "header: Set-Cookie: CM=%1%PremiumMobSess%2C%2C-1%7Ct4b-pc%2C%2C-1%7CRestAds%2FRPers%2C%2C-1%7CRCPers%2C%2C-1%7CWShadeSeen%2C%2C-1%7CTheForkMCCPers%2C%2C-1%7CHomeASess%2C%2C-1%7CPremiumMCSess%2C%2C-1%7CCrisisSess%2C%2C-1%7CUVOwnersSess%2C%2C-1%7CRestPremRSess%2C%2C-1%7CRepTarMCSess%2C%2C-1%7CCCSess%2C%2C-1%7CCYLSess%2C%2C-1%7CPremRetPers%2C%2C-1%7CViatorMCPers%2C%2C-1%7Csesssticker%2C%2C-1%7C%24%2C%2C-1%7CPremiumORSess%2C%2C-1%7Ct4b-sc%2C%2C-1%7CRestAdsPers%2C%2C-1%7CMC_IB_UPSELL_IB_LOGOS2%2C%2C-1%7CTSMCPers%2C%2C-1%7Cb2bmcpers%2C%2C-1%7CPremMCBtmSess%2C%2C-1%7CMC_IB_UPSELL_IB_LOGOS%2C%2C-1%7CLaFourchette+Banners%2C%2C-1%7Csess_rev%2C%2C-1%7Csessamex%2C%2C-1%7CPremiumRRSess%2C%2C-1%7CTADORSess%2C%2C-1%7CAdsRetPers%2C%2C-1%7CListMCSess%2C%2C-1%7CTARSWBPers%2C%2C-1%7CSPMCSess%2C%2C-1%7CTheForkORSess%2C%2C-1%7CTheForkRRSess%2C%2C-1%7Cpers_rev%2C%2C-1%7CRBAPers%2C%2C-1%7CRestAds%2FRSess%2C%2C-1%7CHomeAPers%2C%2C-1%7CPremiumMobPers%2C%2C-1%7CRCSess%2C%2C-1%7CLaFourchette+MC+Banners%2C%2C-1%7CRestAdsCCSess%2C%2C-1%7CRestPremRPers%2C%2C-1%7CRevHubRMPers%2C%2C-1%7CUVOwnersPers%2C%2C-1%7Cpssamex%2C%2C-1%7CTheForkMCCSess%2C%2C-1%7CCrisisPers%2C%2C-1%7CCYLPers%2C%2C-1%7CCCPers%2C%2C-1%7CRepTarMCPers%2C%2C-1%7Cb2bmcsess%2C%2C-1%7CTSMCSess%2C%2C-1%7CSPMCPers%2C%2C-1%7CRevHubRMSess%2C%2C-1%7CPremRetSess%2C%2C-1%7CViatorMCSess%2C%2C-1%7CPremiumMCPers%2C%2C-1%7CAdsRetSess%2C%2C-1%7CPremiumRRPers%2C%2C-1%7CRestAdsCCPers%2C%2C-1%7CTADORPers%2C%2C-1%7CTheForkORPers%2C%2C-1%7CPremMCBtmPers%2C%2C-1%7CTheForkRRPers%2C%2C-1%7CTARSWBSess%2C%2C-1%7CPremiumORPers%2C%2C-1%7CRestAdsSess%2C%2C-1%7CRBASess%2C%2C-1%7CSPORPers%2C%2C-1%7Cperssticker%2C%2C-1%7CListMCPers%2C%2C-1%7C; Domain=.tripadvisor.co.id; Expires=Mon, 23-May-2033 01:01:45 GMT; Path=/\n",
      "header: Set-Cookie: BEPIN=%1%18855936b70%3Bweb270a.a.tripadvisor.com%3A30023%3B; Domain=.tripadvisor.co.id; Path=/\n",
      "header: Set-Cookie: PAC=AO0Ynl1nTYY-giycI-r4irOBEbFbIkBnxGeHUEPN4zURbHElc2YmTD0QFor7lM3O0CPuWsqHKS8IYNiShSn5GErP_iIE1otPgr3bzXpSGZ5bt0l5XjLrqmaoeUWFuCatE-HxxZHKOtPOd5uCUhqc1xXPEtlYCo8iHBRZFgbgNQvUvP5k56JuJMhtNcjRf9ecyZSCnaknfWTCfcSF5klcE0E%3D; Domain=www.tripadvisor.co.id; Expires=Sun, 25-May-2025 01:01:45 GMT; Path=/; Secure; HttpOnly\n",
      "header: Set-Cookie: SRT=TART_SYNC; Domain=www.tripadvisor.co.id; Expires=Fri, 26-May-2023 01:31:45 GMT; Path=/\n",
      "header: Set-Cookie: TATravelInfo=V2*AY.2023*AM.6*AD.4*DY.2023*DM.6*DD.5*A.2*MG.-1*HP.2*FL.3*DSM.1685062904761*RS.1; Domain=.tripadvisor.co.id; Expires=Fri, 09-Jun-2023 01:01:45 GMT; Path=/\n",
      "header: Set-Cookie: TAUD=LG-1685062904653-2.1.F.*RDD-2-2023_05_26*HDD-3-2023_06_04.2023_06_05.1; Domain=.tripadvisor.co.id; Expires=Fri, 09-Jun-2023 01:01:45 GMT; Path=/\n",
      "header: Set-Cookie: TASID=AA301ACF7A834F0696F39B1E619C487A; Domain=www.tripadvisor.co.id; Expires=Fri, 26-May-2023 01:31:45 GMT; Path=/; Secure\n",
      "header: Set-Cookie: TAReturnTo=%1%%2FHotel_Review-g1137831-d3394217-Reviews-or25-Segara_Beach_Inn-Nusa_Lembongan_Bali.html; Domain=.tripadvisor.co.id; Path=/\n",
      "header: Set-Cookie: datadome=4RJ7PbRPA9yLHZjYAVJAkkOxDTIOhMwDPC7loSF2j0O26JS0BQH4in5zL7TjFC3BuMFwQ0sxHdrGkBej-OvWlQagKaerUVQ_PzkCBiZk3C9abh-U94BmZlS7n7xOfRw4; Max-Age=31104000; Domain=.tripadvisor.co.id; Path=/; Secure; SameSite=Lax\n",
      "Done Scrapping Segara Beach Inn page 5\n",
      "\n",
      "\n"
     ]
    },
    {
     "name": "stderr",
     "output_type": "stream",
     "text": [
      "DEBUG:urllib3.connectionpool:Starting new HTTPS connection (1): www.tripadvisor.co.id:443\n"
     ]
    },
    {
     "name": "stdout",
     "output_type": "stream",
     "text": [
      "send: b'GET /Hotel_Review-g1137831-d3394217-Reviews-or30-Segara_Beach_Inn-Nusa_Lembongan_Bali.html HTTP/1.1\\r\\nHost: www.tripadvisor.co.id\\r\\nUser-Agent: Mozilla/5.0 (X11; CrOS x86_64 12871.102.0) AppleWebKit/537.36 (KHTML, like Gecko) Chrome/81.0.4044.141 Safari/537.36\\r\\nAccept-Encoding: gzip, deflate\\r\\nAccept: */*\\r\\nConnection: keep-alive\\r\\n\\r\\n'\n"
     ]
    },
    {
     "name": "stderr",
     "output_type": "stream",
     "text": [
      "DEBUG:urllib3.connectionpool:https://www.tripadvisor.co.id:443 \"GET /Hotel_Review-g1137831-d3394217-Reviews-or30-Segara_Beach_Inn-Nusa_Lembongan_Bali.html HTTP/1.1\" 200 None\n"
     ]
    },
    {
     "name": "stdout",
     "output_type": "stream",
     "text": [
      "reply: 'HTTP/1.1 200 OK\\r\\n'\n",
      "header: Server: envoy\n",
      "header: Link: <https://media-cdn.tripadvisor.com/media/>;rel=\"preconnect\";crossorigin\n",
      "header: Link: <https://media-cdn.tripadvisor.com/media/>;rel=\"dns-prefetch\"\n",
      "header: p3p: CP=\"NOI CURa ADMa DEVa TAIa OUR BUS IND UNI COM NAV INT DSP COR CAO PSA IDC ADM DEVi TAIi PSD IVAi IVDi CONi HIS CNT\"\n",
      "header: Pragma: no-cache\n",
      "header: Cache-Control: no-cache, no-store, must-revalidate\n",
      "header: Expires: 0\n",
      "header: Content-Language: id\n",
      "header: Link: <https://static.tacdn.com>;rel=\"dns-prefetch\"\n",
      "header: Link: <https://static.tacdn.com>;rel=\"preconnect\";crossorigin\n",
      "header: timing-allow-origin: https://www.tripadvisor.com\n",
      "header: Vary: Accept-Encoding\n",
      "header: Content-Type: text/html;charset=UTF-8\n",
      "header: Accept-CH: Sec-CH-UA,Sec-CH-UA-Mobile,Sec-CH-UA-Platform,Sec-CH-UA-Arch,Sec-CH-UA-Full-Version-List,Sec-CH-UA-Model,Sec-CH-Device-Memory\n",
      "header: x-datadome: protected\n",
      "header: Content-Encoding: gzip\n",
      "header: x-request-id: c1cfa66d-29ae-4066-8c18-70939f8cf04c\n",
      "header: Date: Fri, 26 May 2023 01:01:49 GMT\n",
      "header: Transfer-Encoding: chunked\n",
      "header: Connection: keep-alive\n",
      "header: Connection: Transfer-Encoding\n",
      "header: Set-Cookie: TADCID=-RhfILA2txPQ_s2YABQCXdElnkGETRW-Svh01l3nWnXCam0UnnQZ3NqoWSiZwsi2lVICSTip04U1e6UlL4jrOZVuGeQErJex4k0; Domain=www.tripadvisor.co.id; Expires=Mon, 23-May-2033 01:01:49 GMT; Path=/; Secure; HttpOnly\n",
      "header: Set-Cookie: TAUnique=%1%enc%3AHARC1EMLan7%2B7H78yfwekiHKVVkteNxIFDTzIGnN6jI2jHwltRJPGQ%3D%3D; Domain=.tripadvisor.co.id; Expires=Sun, 25-May-2025 01:01:49 GMT; Path=/; HttpOnly\n",
      "header: Set-Cookie: TASSK=enc%3AACTcKYSeARDM5y5bBeYpDF8sjrm%2F70Ol0G2Q7hKHueC13Elluwyj2rjRKyiBTDHSfIcJQBLiX7BuswT3GtgQFr1OraeJV2%2FcZLoHtbTnXnN9BKqBDuZwJN94rlLUqOhZmw%3D%3D; Domain=www.tripadvisor.co.id; Expires=Wed, 22-Nov-2023 01:01:49 GMT; Path=/; HttpOnly\n",
      "header: Set-Cookie: TASession=V2ID.8D4B0217A4D54B999DF42C0CC2880C76*SQ.1*HS.recommended*ES.popularity*DS.5*SAS.popularity*FPS.oldFirst*LF.in*FA.1*DF.0*TRA.true*LD.3394217; Domain=.tripadvisor.co.id; Path=/\n",
      "header: Set-Cookie: ServerPool=A; Domain=.tripadvisor.co.id; Path=/\n",
      "header: Set-Cookie: PMC=V2*MS.27*MD.20230525*LD.20230525; Domain=www.tripadvisor.co.id; Expires=Sun, 25-May-2025 01:01:49 GMT; Path=/; Secure; HttpOnly\n",
      "header: Set-Cookie: TART=%1%enc%3A%2Fux%2B%2FMn8HpK3jDzB%2FLb6rXaevmLl0aZ5wkJxrCAvkO5M4VYyfNOSlGLVd%2Bx%2BZ4NkfTM2Cx7kRNA%3D; Domain=www.tripadvisor.co.id; Expires=Wed, 31-May-2023 01:01:49 GMT; Path=/; HttpOnly\n",
      "header: Set-Cookie: CM=%1%PremiumMobSess%2C%2C-1%7Ct4b-pc%2C%2C-1%7CRestAds%2FRPers%2C%2C-1%7CRCPers%2C%2C-1%7CWShadeSeen%2C%2C-1%7CTheForkMCCPers%2C%2C-1%7CHomeASess%2C%2C-1%7CPremiumMCSess%2C%2C-1%7CCrisisSess%2C%2C-1%7CUVOwnersSess%2C%2C-1%7CRestPremRSess%2C%2C-1%7CRepTarMCSess%2C%2C-1%7CCCSess%2C%2C-1%7CCYLSess%2C%2C-1%7CPremRetPers%2C%2C-1%7CViatorMCPers%2C%2C-1%7Csesssticker%2C%2C-1%7C%24%2C%2C-1%7CPremiumORSess%2C%2C-1%7Ct4b-sc%2C%2C-1%7CRestAdsPers%2C%2C-1%7CMC_IB_UPSELL_IB_LOGOS2%2C%2C-1%7CTSMCPers%2C%2C-1%7Cb2bmcpers%2C%2C-1%7CPremMCBtmSess%2C%2C-1%7CMC_IB_UPSELL_IB_LOGOS%2C%2C-1%7CLaFourchette+Banners%2C%2C-1%7Csess_rev%2C%2C-1%7Csessamex%2C%2C-1%7CPremiumRRSess%2C%2C-1%7CTADORSess%2C%2C-1%7CAdsRetPers%2C%2C-1%7CListMCSess%2C%2C-1%7CTARSWBPers%2C%2C-1%7CSPMCSess%2C%2C-1%7CTheForkORSess%2C%2C-1%7CTheForkRRSess%2C%2C-1%7Cpers_rev%2C%2C-1%7CRBAPers%2C%2C-1%7CRestAds%2FRSess%2C%2C-1%7CHomeAPers%2C%2C-1%7CPremiumMobPers%2C%2C-1%7CRCSess%2C%2C-1%7CLaFourchette+MC+Banners%2C%2C-1%7CRestAdsCCSess%2C%2C-1%7CRestPremRPers%2C%2C-1%7CRevHubRMPers%2C%2C-1%7CUVOwnersPers%2C%2C-1%7Cpssamex%2C%2C-1%7CTheForkMCCSess%2C%2C-1%7CCrisisPers%2C%2C-1%7CCYLPers%2C%2C-1%7CCCPers%2C%2C-1%7CRepTarMCPers%2C%2C-1%7Cb2bmcsess%2C%2C-1%7CTSMCSess%2C%2C-1%7CSPMCPers%2C%2C-1%7CRevHubRMSess%2C%2C-1%7CPremRetSess%2C%2C-1%7CViatorMCSess%2C%2C-1%7CPremiumMCPers%2C%2C-1%7CAdsRetSess%2C%2C-1%7CPremiumRRPers%2C%2C-1%7CRestAdsCCPers%2C%2C-1%7CTADORPers%2C%2C-1%7CTheForkORPers%2C%2C-1%7CPremMCBtmPers%2C%2C-1%7CTheForkRRPers%2C%2C-1%7CTARSWBSess%2C%2C-1%7CPremiumORPers%2C%2C-1%7CRestAdsSess%2C%2C-1%7CRBASess%2C%2C-1%7CSPORPers%2C%2C-1%7Cperssticker%2C%2C-1%7CListMCPers%2C%2C-1%7C; Domain=.tripadvisor.co.id; Expires=Mon, 23-May-2033 01:01:49 GMT; Path=/\n",
      "header: Set-Cookie: BEPIN=%1%18855937d61%3Bweb271a.a.tripadvisor.com%3A30023%3B; Domain=.tripadvisor.co.id; Path=/\n",
      "header: Set-Cookie: PAC=ADelIkfKr3J68Q-u68bWADJYF_vAm6BVtLpB-t7nd3QA1C7b1CXDcTt6GSLQa1LwEPLs0HRoAQlPA7JZbW8v0kqpoN9ojidl6A--DkUh76-xarY9U1S4SpI9KA-2r1jMqPp3sTAnys0KR-uZXsvjiC6lbnLb1VkcM3AuVi08S2ykkNF1IBLyX_3C_FaTVa3XspB7FV-AEuSmKQTjTTbsBCI%3D; Domain=www.tripadvisor.co.id; Expires=Sun, 25-May-2025 01:01:49 GMT; Path=/; Secure; HttpOnly\n",
      "header: Set-Cookie: SRT=TART_SYNC; Domain=www.tripadvisor.co.id; Expires=Fri, 26-May-2023 01:31:49 GMT; Path=/\n",
      "header: Set-Cookie: TATravelInfo=V2*AY.2023*AM.6*AD.4*DY.2023*DM.6*DD.5*A.2*MG.-1*HP.2*FL.3*DSM.1685062909347*RS.1; Domain=.tripadvisor.co.id; Expires=Fri, 09-Jun-2023 01:01:49 GMT; Path=/\n",
      "header: Set-Cookie: TAUD=LG-1685062909247-2.1.F.*RDD-2-2023_05_26*HDD-3-2023_06_04.2023_06_05.1; Domain=.tripadvisor.co.id; Expires=Fri, 09-Jun-2023 01:01:49 GMT; Path=/\n",
      "header: Set-Cookie: TASID=8D4B0217A4D54B999DF42C0CC2880C76; Domain=www.tripadvisor.co.id; Expires=Fri, 26-May-2023 01:31:49 GMT; Path=/; Secure\n",
      "header: Set-Cookie: TAReturnTo=%1%%2FHotel_Review-g1137831-d3394217-Reviews-or30-Segara_Beach_Inn-Nusa_Lembongan_Bali.html; Domain=.tripadvisor.co.id; Path=/\n",
      "header: Set-Cookie: datadome=ZS2jPQYYhip38-oGH7zkxa9cYb9pAIEkVF3meE0FRMQXzZIH9ajYJjJO9E8YmlmX2ILLznWSJ_w5Us5KYbfC3pbSrMLj6-e1yPlFz9nTpmmuWVYE7VGSrwG3Vet_wS3; Max-Age=31104000; Domain=.tripadvisor.co.id; Path=/; Secure; SameSite=Lax\n",
      "Done Scrapping Segara Beach Inn page 6\n",
      "\n",
      "\n"
     ]
    },
    {
     "name": "stderr",
     "output_type": "stream",
     "text": [
      "DEBUG:urllib3.connectionpool:Starting new HTTPS connection (1): www.tripadvisor.co.id:443\n"
     ]
    },
    {
     "name": "stdout",
     "output_type": "stream",
     "text": [
      "send: b'GET /Hotel_Review-g1137831-d3394217-Reviews-or35-Segara_Beach_Inn-Nusa_Lembongan_Bali.html HTTP/1.1\\r\\nHost: www.tripadvisor.co.id\\r\\nUser-Agent: Mozilla/5.0 (X11; CrOS x86_64 12871.102.0) AppleWebKit/537.36 (KHTML, like Gecko) Chrome/81.0.4044.141 Safari/537.36\\r\\nAccept-Encoding: gzip, deflate\\r\\nAccept: */*\\r\\nConnection: keep-alive\\r\\n\\r\\n'\n"
     ]
    },
    {
     "name": "stderr",
     "output_type": "stream",
     "text": [
      "DEBUG:urllib3.connectionpool:https://www.tripadvisor.co.id:443 \"GET /Hotel_Review-g1137831-d3394217-Reviews-or35-Segara_Beach_Inn-Nusa_Lembongan_Bali.html HTTP/1.1\" 200 None\n"
     ]
    },
    {
     "name": "stdout",
     "output_type": "stream",
     "text": [
      "reply: 'HTTP/1.1 200 OK\\r\\n'\n",
      "header: Server: envoy\n",
      "header: Link: <https://media-cdn.tripadvisor.com/media/>;rel=\"preconnect\";crossorigin\n",
      "header: Link: <https://media-cdn.tripadvisor.com/media/>;rel=\"dns-prefetch\"\n",
      "header: p3p: CP=\"NOI CURa ADMa DEVa TAIa OUR BUS IND UNI COM NAV INT DSP COR CAO PSA IDC ADM DEVi TAIi PSD IVAi IVDi CONi HIS CNT\"\n",
      "header: Pragma: no-cache\n",
      "header: Cache-Control: no-cache, no-store, must-revalidate\n",
      "header: Expires: 0\n",
      "header: Content-Language: id\n",
      "header: Link: <https://static.tacdn.com>;rel=\"dns-prefetch\"\n",
      "header: Link: <https://static.tacdn.com>;rel=\"preconnect\";crossorigin\n",
      "header: timing-allow-origin: https://www.tripadvisor.com\n",
      "header: Vary: Accept-Encoding\n",
      "header: Content-Type: text/html;charset=UTF-8\n",
      "header: Accept-CH: Sec-CH-UA,Sec-CH-UA-Mobile,Sec-CH-UA-Platform,Sec-CH-UA-Arch,Sec-CH-UA-Full-Version-List,Sec-CH-UA-Model,Sec-CH-Device-Memory\n",
      "header: x-datadome: protected\n",
      "header: Content-Encoding: gzip\n",
      "header: x-request-id: fd363f57-3067-4c3c-946f-ab372ebe206d\n",
      "header: Date: Fri, 26 May 2023 01:01:57 GMT\n",
      "header: Transfer-Encoding: chunked\n",
      "header: Connection: keep-alive\n",
      "header: Connection: Transfer-Encoding\n",
      "header: Set-Cookie: TADCID=Ifv1PuFhVTEEXmM3ABQCXdElnkGETRW-Svh01l3nWnXCahtR5TZbqCbGqGAO2BZue4o8X_-Wga7e_9tM3TkBHNDVBdbThJCNfMI; Domain=www.tripadvisor.co.id; Expires=Mon, 23-May-2033 01:01:57 GMT; Path=/; Secure; HttpOnly\n",
      "header: Set-Cookie: TAUnique=%1%enc%3A6X%2FDI9bs5tb%2B7H78yfwekiHKVVkteNxIzPK%2FmxmCPvs2jHwltRJPGQ%3D%3D; Domain=.tripadvisor.co.id; Expires=Sun, 25-May-2025 01:01:57 GMT; Path=/; HttpOnly\n",
      "header: Set-Cookie: TASSK=enc%3AALpPheQAyJq%2B9SQMgAKdWKSVaHDSzep8fjARj7dSHL4gYG6u4d7iLtigT0bFRaGH2vQ7DvmfzWOv2pD%2FcgBaon44uh4AergtoQKAdH1E0UQU3WFRqXTjhm8S6TjXDB0UMA%3D%3D; Domain=www.tripadvisor.co.id; Expires=Wed, 22-Nov-2023 01:01:57 GMT; Path=/; HttpOnly\n",
      "header: Set-Cookie: TASession=V2ID.A5AA2BC6E87F4E02A2D6B595F43C64B8*SQ.1*HS.recommended*ES.popularity*DS.5*SAS.popularity*FPS.oldFirst*LF.in*FA.1*DF.0*TRA.true*LD.3394217; Domain=.tripadvisor.co.id; Path=/\n",
      "header: Set-Cookie: ServerPool=X; Domain=.tripadvisor.co.id; Path=/\n",
      "header: Set-Cookie: PMC=V2*MS.82*MD.20230525*LD.20230525; Domain=www.tripadvisor.co.id; Expires=Sun, 25-May-2025 01:01:57 GMT; Path=/; Secure; HttpOnly\n",
      "header: Set-Cookie: TART=%1%enc%3A%2Fux%2B%2FMn8HpLtSD0efMZh4ZBwGtgqnyPpdrGqXHaWhGMWV0Xmss6gWGxdt8WgfzbAfYtftmnsPgU%3D; Domain=www.tripadvisor.co.id; Expires=Wed, 31-May-2023 01:01:57 GMT; Path=/; HttpOnly\n",
      "header: Set-Cookie: CM=%1%PremiumMobSess%2C%2C-1%7Ct4b-pc%2C%2C-1%7CRestAds%2FRPers%2C%2C-1%7CRCPers%2C%2C-1%7CWShadeSeen%2C%2C-1%7CTheForkMCCPers%2C%2C-1%7CHomeASess%2C%2C-1%7CPremiumMCSess%2C%2C-1%7CCrisisSess%2C%2C-1%7CUVOwnersSess%2C%2C-1%7CRestPremRSess%2C%2C-1%7CRepTarMCSess%2C%2C-1%7CCCSess%2C%2C-1%7CCYLSess%2C%2C-1%7CPremRetPers%2C%2C-1%7CViatorMCPers%2C%2C-1%7Csesssticker%2C%2C-1%7C%24%2C%2C-1%7CPremiumORSess%2C%2C-1%7Ct4b-sc%2C%2C-1%7CRestAdsPers%2C%2C-1%7CMC_IB_UPSELL_IB_LOGOS2%2C%2C-1%7CTSMCPers%2C%2C-1%7Cb2bmcpers%2C%2C-1%7CPremMCBtmSess%2C%2C-1%7CMC_IB_UPSELL_IB_LOGOS%2C%2C-1%7CLaFourchette+Banners%2C%2C-1%7Csess_rev%2C%2C-1%7Csessamex%2C%2C-1%7CPremiumRRSess%2C%2C-1%7CTADORSess%2C%2C-1%7CAdsRetPers%2C%2C-1%7CListMCSess%2C%2C-1%7CTARSWBPers%2C%2C-1%7CSPMCSess%2C%2C-1%7CTheForkORSess%2C%2C-1%7CTheForkRRSess%2C%2C-1%7Cpers_rev%2C%2C-1%7CRBAPers%2C%2C-1%7CRestAds%2FRSess%2C%2C-1%7CHomeAPers%2C%2C-1%7CPremiumMobPers%2C%2C-1%7CRCSess%2C%2C-1%7CLaFourchette+MC+Banners%2C%2C-1%7CRestAdsCCSess%2C%2C-1%7CRestPremRPers%2C%2C-1%7CRevHubRMPers%2C%2C-1%7CUVOwnersPers%2C%2C-1%7Cpssamex%2C%2C-1%7CTheForkMCCSess%2C%2C-1%7CCrisisPers%2C%2C-1%7CCYLPers%2C%2C-1%7CCCPers%2C%2C-1%7CRepTarMCPers%2C%2C-1%7Cb2bmcsess%2C%2C-1%7CTSMCSess%2C%2C-1%7CSPMCPers%2C%2C-1%7CRevHubRMSess%2C%2C-1%7CPremRetSess%2C%2C-1%7CViatorMCSess%2C%2C-1%7CPremiumMCPers%2C%2C-1%7CAdsRetSess%2C%2C-1%7CPremiumRRPers%2C%2C-1%7CRestAdsCCPers%2C%2C-1%7CTADORPers%2C%2C-1%7CTheForkORPers%2C%2C-1%7CPremMCBtmPers%2C%2C-1%7CTheForkRRPers%2C%2C-1%7CTARSWBSess%2C%2C-1%7CPremiumORPers%2C%2C-1%7CRestAdsSess%2C%2C-1%7CRBASess%2C%2C-1%7CSPORPers%2C%2C-1%7Cperssticker%2C%2C-1%7CListMCPers%2C%2C-1%7C; Domain=.tripadvisor.co.id; Expires=Mon, 23-May-2033 01:01:57 GMT; Path=/\n",
      "header: Set-Cookie: BEPIN=%1%18855939c55%3Bweb191a.a.tripadvisor.com%3A30023%3B; Domain=.tripadvisor.co.id; Path=/\n",
      "header: Set-Cookie: PAC=ANhLTF3GMl82cVf7yPeU-DIlXzdau7PxGQDqNGXIlHqKp0eh2VOSkhi84XtKB_sNXfLt2lVDEV_OOY1yz1VXhLCfOC5sIIwJ6WvxmPWuhoY62rwEO4w8VLWkF48gg5adISMvuESNImoWWOKLdE3YG4InBmkEIEm0TbXY6B87_HkOK1Nx14LLbrhEiEnPU3IgksaLR8uo6Kp5RBNrMA-F-04%3D; Domain=www.tripadvisor.co.id; Expires=Sun, 25-May-2025 01:01:57 GMT; Path=/; Secure; HttpOnly\n",
      "header: Set-Cookie: SRT=TART_SYNC; Domain=www.tripadvisor.co.id; Expires=Fri, 26-May-2023 01:31:57 GMT; Path=/\n",
      "header: Set-Cookie: TATravelInfo=V2*AY.2023*AM.6*AD.4*DY.2023*DM.6*DD.5*A.2*MG.-1*HP.2*FL.3*DSM.1685062917271*RS.1; Domain=.tripadvisor.co.id; Expires=Fri, 09-Jun-2023 01:01:57 GMT; Path=/\n",
      "header: Set-Cookie: TAUD=LG-1685062917173-2.1.F.*RDD-2-2023_05_26*HDD-3-2023_06_04.2023_06_05.1; Domain=.tripadvisor.co.id; Expires=Fri, 09-Jun-2023 01:01:57 GMT; Path=/\n",
      "header: Set-Cookie: TASID=A5AA2BC6E87F4E02A2D6B595F43C64B8; Domain=www.tripadvisor.co.id; Expires=Fri, 26-May-2023 01:31:57 GMT; Path=/; Secure\n",
      "header: Set-Cookie: TAReturnTo=%1%%2FHotel_Review-g1137831-d3394217-Reviews-or35-Segara_Beach_Inn-Nusa_Lembongan_Bali.html; Domain=.tripadvisor.co.id; Path=/\n",
      "header: Set-Cookie: datadome=6MBsft1sIPIjN4Fg2NsvxTcMvQV0spmpaUEZ_KIyv~HmhGwgWxixLFIoas1djufjHiC~_fLsxffOzynih9cXQDP1jTn3LBsDMjVTk8~fUf88C7QcWJ9necwHythEUWap; Max-Age=31104000; Domain=.tripadvisor.co.id; Path=/; Secure; SameSite=Lax\n",
      "Done Scrapping Segara Beach Inn page 7\n",
      "\n",
      "\n"
     ]
    },
    {
     "name": "stderr",
     "output_type": "stream",
     "text": [
      "DEBUG:urllib3.connectionpool:Starting new HTTPS connection (1): www.tripadvisor.co.id:443\n"
     ]
    },
    {
     "name": "stdout",
     "output_type": "stream",
     "text": [
      "send: b'GET /Hotel_Review-g1137831-d3394217-Reviews-or40-Segara_Beach_Inn-Nusa_Lembongan_Bali.html HTTP/1.1\\r\\nHost: www.tripadvisor.co.id\\r\\nUser-Agent: Mozilla/5.0 (X11; CrOS x86_64 12871.102.0) AppleWebKit/537.36 (KHTML, like Gecko) Chrome/81.0.4044.141 Safari/537.36\\r\\nAccept-Encoding: gzip, deflate\\r\\nAccept: */*\\r\\nConnection: keep-alive\\r\\n\\r\\n'\n"
     ]
    },
    {
     "name": "stderr",
     "output_type": "stream",
     "text": [
      "DEBUG:urllib3.connectionpool:https://www.tripadvisor.co.id:443 \"GET /Hotel_Review-g1137831-d3394217-Reviews-or40-Segara_Beach_Inn-Nusa_Lembongan_Bali.html HTTP/1.1\" 200 None\n"
     ]
    },
    {
     "name": "stdout",
     "output_type": "stream",
     "text": [
      "reply: 'HTTP/1.1 200 OK\\r\\n'\n",
      "header: Server: envoy\n",
      "header: Link: <https://media-cdn.tripadvisor.com/media/>;rel=\"preconnect\";crossorigin\n",
      "header: Link: <https://media-cdn.tripadvisor.com/media/>;rel=\"dns-prefetch\"\n",
      "header: p3p: CP=\"NOI CURa ADMa DEVa TAIa OUR BUS IND UNI COM NAV INT DSP COR CAO PSA IDC ADM DEVi TAIi PSD IVAi IVDi CONi HIS CNT\"\n",
      "header: Pragma: no-cache\n",
      "header: Cache-Control: no-cache, no-store, must-revalidate\n",
      "header: Expires: 0\n",
      "header: Content-Language: id\n",
      "header: Link: <https://static.tacdn.com>;rel=\"dns-prefetch\"\n",
      "header: Link: <https://static.tacdn.com>;rel=\"preconnect\";crossorigin\n",
      "header: timing-allow-origin: https://www.tripadvisor.com\n",
      "header: Vary: Accept-Encoding\n",
      "header: Content-Type: text/html;charset=UTF-8\n",
      "header: Accept-CH: Sec-CH-UA,Sec-CH-UA-Mobile,Sec-CH-UA-Platform,Sec-CH-UA-Arch,Sec-CH-UA-Full-Version-List,Sec-CH-UA-Model,Sec-CH-Device-Memory\n",
      "header: x-datadome: protected\n",
      "header: Content-Encoding: gzip\n",
      "header: x-request-id: 0ad85eaf-1dc6-4662-8a8a-0ff148853158\n",
      "header: Date: Fri, 26 May 2023 01:02:02 GMT\n",
      "header: Transfer-Encoding: chunked\n",
      "header: Connection: keep-alive\n",
      "header: Connection: Transfer-Encoding\n",
      "header: Set-Cookie: TADCID=x97asnCyoan4mamGABQCXdElnkGETRW-Svh01l3nWnXCa_OumUp7KYxpoqIXUl1Ky3TFRUXgwCu1-LASD6OyMpZ4cy28Nfj4S_8; Domain=www.tripadvisor.co.id; Expires=Mon, 23-May-2033 01:02:01 GMT; Path=/; Secure; HttpOnly\n",
      "header: Set-Cookie: TAUnique=%1%enc%3AUZ9NL1tzVB7%2B7H78yfwekiHKVVkteNxIIcKMIOXDDi02jHwltRJPGQ%3D%3D; Domain=.tripadvisor.co.id; Expires=Sun, 25-May-2025 01:02:01 GMT; Path=/; HttpOnly\n",
      "header: Set-Cookie: TASSK=enc%3AAA4vmBC60WDg0cgHQh90Vh9k1W33uB3X3lb5Cr5dvZa2p3AV18XzUgnfTnDyQZ%2BDvgAl6nMq9Q69mYDMJepKMJ%2BkXI0TEvI2FHwPhbUlTiryL3BOqlOLXzEvJmvQRwPaMg%3D%3D; Domain=www.tripadvisor.co.id; Expires=Wed, 22-Nov-2023 01:02:02 GMT; Path=/; HttpOnly\n",
      "header: Set-Cookie: TASession=V2ID.FE2ECEE3D2234B34A65608AB99EB62BB*SQ.1*HS.recommended*ES.popularity*DS.5*SAS.popularity*FPS.oldFirst*LF.in*FA.1*DF.0*TRA.true*LD.3394217; Domain=.tripadvisor.co.id; Path=/\n",
      "header: Set-Cookie: ServerPool=A; Domain=.tripadvisor.co.id; Path=/\n",
      "header: Set-Cookie: PMC=V2*MS.73*MD.20230525*LD.20230525; Domain=www.tripadvisor.co.id; Expires=Sun, 25-May-2025 01:02:02 GMT; Path=/; Secure; HttpOnly\n",
      "header: Set-Cookie: TART=%1%enc%3A%2Fux%2B%2FMn8HpIcx5WaBEfma97Nh%2FuawJbjVECSEI3fnDQqe9aPdPWMewWzuY%2B58jQ3W1JxtpsONWQ%3D; Domain=www.tripadvisor.co.id; Expires=Wed, 31-May-2023 01:02:02 GMT; Path=/; HttpOnly\n",
      "header: Set-Cookie: CM=%1%PremiumMobSess%2C%2C-1%7Ct4b-pc%2C%2C-1%7CRestAds%2FRPers%2C%2C-1%7CRCPers%2C%2C-1%7CWShadeSeen%2C%2C-1%7CTheForkMCCPers%2C%2C-1%7CHomeASess%2C%2C-1%7CPremiumMCSess%2C%2C-1%7CCrisisSess%2C%2C-1%7CUVOwnersSess%2C%2C-1%7CRestPremRSess%2C%2C-1%7CRepTarMCSess%2C%2C-1%7CCCSess%2C%2C-1%7CCYLSess%2C%2C-1%7CPremRetPers%2C%2C-1%7CViatorMCPers%2C%2C-1%7Csesssticker%2C%2C-1%7C%24%2C%2C-1%7CPremiumORSess%2C%2C-1%7Ct4b-sc%2C%2C-1%7CRestAdsPers%2C%2C-1%7CMC_IB_UPSELL_IB_LOGOS2%2C%2C-1%7CTSMCPers%2C%2C-1%7Cb2bmcpers%2C%2C-1%7CPremMCBtmSess%2C%2C-1%7CMC_IB_UPSELL_IB_LOGOS%2C%2C-1%7CLaFourchette+Banners%2C%2C-1%7Csess_rev%2C%2C-1%7Csessamex%2C%2C-1%7CPremiumRRSess%2C%2C-1%7CTADORSess%2C%2C-1%7CAdsRetPers%2C%2C-1%7CListMCSess%2C%2C-1%7CTARSWBPers%2C%2C-1%7CSPMCSess%2C%2C-1%7CTheForkORSess%2C%2C-1%7CTheForkRRSess%2C%2C-1%7Cpers_rev%2C%2C-1%7CRBAPers%2C%2C-1%7CRestAds%2FRSess%2C%2C-1%7CHomeAPers%2C%2C-1%7CPremiumMobPers%2C%2C-1%7CRCSess%2C%2C-1%7CLaFourchette+MC+Banners%2C%2C-1%7CRestAdsCCSess%2C%2C-1%7CRestPremRPers%2C%2C-1%7CRevHubRMPers%2C%2C-1%7CUVOwnersPers%2C%2C-1%7Cpssamex%2C%2C-1%7CTheForkMCCSess%2C%2C-1%7CCrisisPers%2C%2C-1%7CCYLPers%2C%2C-1%7CCCPers%2C%2C-1%7CRepTarMCPers%2C%2C-1%7Cb2bmcsess%2C%2C-1%7CTSMCSess%2C%2C-1%7CSPMCPers%2C%2C-1%7CRevHubRMSess%2C%2C-1%7CPremRetSess%2C%2C-1%7CViatorMCSess%2C%2C-1%7CPremiumMCPers%2C%2C-1%7CAdsRetSess%2C%2C-1%7CPremiumRRPers%2C%2C-1%7CRestAdsCCPers%2C%2C-1%7CTADORPers%2C%2C-1%7CTheForkORPers%2C%2C-1%7CPremMCBtmPers%2C%2C-1%7CTheForkRRPers%2C%2C-1%7CTARSWBSess%2C%2C-1%7CPremiumORPers%2C%2C-1%7CRestAdsSess%2C%2C-1%7CRBASess%2C%2C-1%7CSPORPers%2C%2C-1%7Cperssticker%2C%2C-1%7CListMCPers%2C%2C-1%7C; Domain=.tripadvisor.co.id; Expires=Mon, 23-May-2033 01:02:02 GMT; Path=/\n",
      "header: Set-Cookie: BEPIN=%1%1885593aec7%3Bweb303a.a.tripadvisor.com%3A30023%3B; Domain=.tripadvisor.co.id; Path=/\n",
      "header: Set-Cookie: PAC=AAhrPygFHo2h9rkq2QJ_Ai0zNphAHQtpXmmQCsz6X1k_1nd8QJgBOC17VH0ycxpG0KrGvJyguL0C4A5Zsxd1rYf2jVIgJl7xaxRDhk6e-KmhrTKTXS8fwGjjmCsG2TVR4OcO5zG4iEGkqPSkOJjsxOgqlCDaTQ1m-e_Y9CHsjxLLHxoHJPjplyeSDttSgiotUxnck2i0ahP-YMOIYQz89Xc%3D; Domain=www.tripadvisor.co.id; Expires=Sun, 25-May-2025 01:02:02 GMT; Path=/; Secure; HttpOnly\n",
      "header: Set-Cookie: SRT=TART_SYNC; Domain=www.tripadvisor.co.id; Expires=Fri, 26-May-2023 01:32:02 GMT; Path=/\n",
      "header: Set-Cookie: TATravelInfo=V2*AY.2023*AM.6*AD.4*DY.2023*DM.6*DD.5*A.2*MG.-1*HP.2*FL.3*DSM.1685062921981*RS.1; Domain=.tripadvisor.co.id; Expires=Fri, 09-Jun-2023 01:02:02 GMT; Path=/\n",
      "header: Set-Cookie: TAUD=LG-1685062921892-2.1.F.*RDD-2-2023_05_26*HDD-3-2023_06_04.2023_06_05.1; Domain=.tripadvisor.co.id; Expires=Fri, 09-Jun-2023 01:02:02 GMT; Path=/\n",
      "header: Set-Cookie: TASID=FE2ECEE3D2234B34A65608AB99EB62BB; Domain=www.tripadvisor.co.id; Expires=Fri, 26-May-2023 01:32:02 GMT; Path=/; Secure\n",
      "header: Set-Cookie: TAReturnTo=%1%%2FHotel_Review-g1137831-d3394217-Reviews-or40-Segara_Beach_Inn-Nusa_Lembongan_Bali.html; Domain=.tripadvisor.co.id; Path=/\n",
      "header: Set-Cookie: datadome=1aEz-h-oY9nxmBFyWQVivYKhuXQ4MxUXAAJt9rI3ajf4Rr-y2-4RYchwwwN5xKbaZE0bx_8VYzIR8b6ZL5OKvc6QfONdR8IeuQlOKytwyXnVcsHi2eecHxbp3j7KEWcE; Max-Age=31104000; Domain=.tripadvisor.co.id; Path=/; Secure; SameSite=Lax\n"
     ]
    },
    {
     "name": "stderr",
     "output_type": "stream",
     "text": [
      "DEBUG:urllib3.connectionpool:Starting new HTTPS connection (1): www.tripadvisor.co.id:443\n"
     ]
    },
    {
     "name": "stdout",
     "output_type": "stream",
     "text": [
      "Start Scrapping: La House\n",
      "send: b'GET /Hotel_Review-g469404-d4875851-Reviews-or5-La_House-Seminyak_Kuta_District_Bali.html HTTP/1.1\\r\\nHost: www.tripadvisor.co.id\\r\\nUser-Agent: Mozilla/5.0 (X11; CrOS x86_64 12871.102.0) AppleWebKit/537.36 (KHTML, like Gecko) Chrome/81.0.4044.141 Safari/537.36\\r\\nAccept-Encoding: gzip, deflate\\r\\nAccept: */*\\r\\nConnection: keep-alive\\r\\n\\r\\n'\n"
     ]
    },
    {
     "name": "stderr",
     "output_type": "stream",
     "text": [
      "DEBUG:urllib3.connectionpool:https://www.tripadvisor.co.id:443 \"GET /Hotel_Review-g469404-d4875851-Reviews-or5-La_House-Seminyak_Kuta_District_Bali.html HTTP/1.1\" 200 None\n"
     ]
    },
    {
     "name": "stdout",
     "output_type": "stream",
     "text": [
      "reply: 'HTTP/1.1 200 OK\\r\\n'\n",
      "header: Server: envoy\n",
      "header: Link: <https://media-cdn.tripadvisor.com/media/>;rel=\"preconnect\";crossorigin\n",
      "header: Link: <https://media-cdn.tripadvisor.com/media/>;rel=\"dns-prefetch\"\n",
      "header: p3p: CP=\"NOI CURa ADMa DEVa TAIa OUR BUS IND UNI COM NAV INT DSP COR CAO PSA IDC ADM DEVi TAIi PSD IVAi IVDi CONi HIS CNT\"\n",
      "header: Pragma: no-cache\n",
      "header: Cache-Control: no-cache, no-store, must-revalidate\n",
      "header: Expires: 0\n",
      "header: Content-Language: id\n",
      "header: Link: <https://static.tacdn.com>;rel=\"dns-prefetch\"\n",
      "header: Link: <https://static.tacdn.com>;rel=\"preconnect\";crossorigin\n",
      "header: timing-allow-origin: https://www.tripadvisor.com\n",
      "header: Vary: Accept-Encoding\n",
      "header: Content-Type: text/html;charset=UTF-8\n",
      "header: Accept-CH: Sec-CH-UA,Sec-CH-UA-Mobile,Sec-CH-UA-Platform,Sec-CH-UA-Arch,Sec-CH-UA-Full-Version-List,Sec-CH-UA-Model,Sec-CH-Device-Memory\n",
      "header: x-datadome: protected\n",
      "header: Content-Encoding: gzip\n",
      "header: x-request-id: 84dbd1be-4bd4-4580-bca2-e1a48006a2aa\n",
      "header: Date: Fri, 26 May 2023 01:02:04 GMT\n",
      "header: Transfer-Encoding: chunked\n",
      "header: Connection: keep-alive\n",
      "header: Connection: Transfer-Encoding\n",
      "header: Set-Cookie: TADCID=HZK4IaaylCO85fKOABQCXdElnkGETRW-Svh01l3nWnXCayhPGcXWCChOSTM9KKCYl85vZNjZj8i5FJ6SftZUHsF0dgKIsqDUJiM; Domain=www.tripadvisor.co.id; Expires=Mon, 23-May-2033 01:02:03 GMT; Path=/; Secure; HttpOnly\n",
      "header: Set-Cookie: TAUnique=%1%enc%3Au%2FKH8yQEGOT%2B7H78yfwekiHKVVkteNxIv2uDSzO5%2BKA2jHwltRJPGQ%3D%3D; Domain=.tripadvisor.co.id; Expires=Sun, 25-May-2025 01:02:03 GMT; Path=/; HttpOnly\n",
      "header: Set-Cookie: TASSK=enc%3AAAqqVgk8nxD7gevfzUFmAOHICKRPhccusvie2omh%2F1agqFGFM7UE4QIF6tU%2Bi61O%2F1SHzH%2FZXrlGFM%2FGtJSthWDmCyhwhOzz8yuq8bheXm7wxeH%2FC4I1BbSJB8ss%2Fkza5g%3D%3D; Domain=www.tripadvisor.co.id; Expires=Wed, 22-Nov-2023 01:02:03 GMT; Path=/; HttpOnly\n",
      "header: Set-Cookie: TASession=V2ID.A75A71E9ED43406092C96CF3698113D1*SQ.1*HS.recommended*ES.popularity*DS.5*SAS.popularity*FPS.oldFirst*LF.in*FA.1*DF.0*TRA.true*LD.4875851; Domain=.tripadvisor.co.id; Path=/\n",
      "header: Set-Cookie: ServerPool=B; Domain=.tripadvisor.co.id; Path=/\n",
      "header: Set-Cookie: PMC=V2*MS.16*MD.20230525*LD.20230525; Domain=www.tripadvisor.co.id; Expires=Sun, 25-May-2025 01:02:03 GMT; Path=/; Secure; HttpOnly\n",
      "header: Set-Cookie: TART=%1%enc%3A%2Fux%2B%2FMn8HpJ8vZolJ%2F18SdvYr5WAiinGeT0P846qKOjwwvLnCcZ5v%2Fl2eigbGfdnCeyaC1LeImE%3D; Domain=www.tripadvisor.co.id; Expires=Wed, 31-May-2023 01:02:03 GMT; Path=/; HttpOnly\n",
      "header: Set-Cookie: CM=%1%PremiumMobSess%2C%2C-1%7Ct4b-pc%2C%2C-1%7CRestAds%2FRPers%2C%2C-1%7CRCPers%2C%2C-1%7CWShadeSeen%2C%2C-1%7CTheForkMCCPers%2C%2C-1%7CHomeASess%2C%2C-1%7CPremiumMCSess%2C%2C-1%7CCrisisSess%2C%2C-1%7CUVOwnersSess%2C%2C-1%7CRestPremRSess%2C%2C-1%7CRepTarMCSess%2C%2C-1%7CCCSess%2C%2C-1%7CCYLSess%2C%2C-1%7CPremRetPers%2C%2C-1%7CViatorMCPers%2C%2C-1%7Csesssticker%2C%2C-1%7C%24%2C%2C-1%7CPremiumORSess%2C%2C-1%7Ct4b-sc%2C%2C-1%7CRestAdsPers%2C%2C-1%7CMC_IB_UPSELL_IB_LOGOS2%2C%2C-1%7CTSMCPers%2C%2C-1%7Cb2bmcpers%2C%2C-1%7CPremMCBtmSess%2C%2C-1%7CMC_IB_UPSELL_IB_LOGOS%2C%2C-1%7CLaFourchette+Banners%2C%2C-1%7Csess_rev%2C%2C-1%7Csessamex%2C%2C-1%7CPremiumRRSess%2C%2C-1%7CTADORSess%2C%2C-1%7CAdsRetPers%2C%2C-1%7CListMCSess%2C%2C-1%7CTARSWBPers%2C%2C-1%7CSPMCSess%2C%2C-1%7CTheForkORSess%2C%2C-1%7CTheForkRRSess%2C%2C-1%7Cpers_rev%2C%2C-1%7CRBAPers%2C%2C-1%7CRestAds%2FRSess%2C%2C-1%7CHomeAPers%2C%2C-1%7CPremiumMobPers%2C%2C-1%7CRCSess%2C%2C-1%7CLaFourchette+MC+Banners%2C%2C-1%7CRestAdsCCSess%2C%2C-1%7CRestPremRPers%2C%2C-1%7CRevHubRMPers%2C%2C-1%7CUVOwnersPers%2C%2C-1%7Cpssamex%2C%2C-1%7CTheForkMCCSess%2C%2C-1%7CCrisisPers%2C%2C-1%7CCYLPers%2C%2C-1%7CCCPers%2C%2C-1%7CRepTarMCPers%2C%2C-1%7Cb2bmcsess%2C%2C-1%7CTSMCSess%2C%2C-1%7CSPMCPers%2C%2C-1%7CRevHubRMSess%2C%2C-1%7CPremRetSess%2C%2C-1%7CViatorMCSess%2C%2C-1%7CPremiumMCPers%2C%2C-1%7CAdsRetSess%2C%2C-1%7CPremiumRRPers%2C%2C-1%7CRestAdsCCPers%2C%2C-1%7CTADORPers%2C%2C-1%7CTheForkORPers%2C%2C-1%7CPremMCBtmPers%2C%2C-1%7CTheForkRRPers%2C%2C-1%7CTARSWBSess%2C%2C-1%7CPremiumORPers%2C%2C-1%7CRestAdsSess%2C%2C-1%7CRBASess%2C%2C-1%7CSPORPers%2C%2C-1%7Cperssticker%2C%2C-1%7CListMCPers%2C%2C-1%7C; Domain=.tripadvisor.co.id; Expires=Mon, 23-May-2033 01:02:03 GMT; Path=/\n",
      "header: Set-Cookie: BEPIN=%1%1885593b467%3Bweb218a.a.tripadvisor.com%3A30023%3B; Domain=.tripadvisor.co.id; Path=/\n",
      "header: Set-Cookie: PAC=AHT7TMQMWXqOvnR9gPpc1gWca_44WXe_2b2DZ6hXhvVuTXMvMD_KS_08Bk7ER05u8NEzd3sOaYe7CAqXuO0aO6j-pR6Z1aVmpaXcQbHOzMoz5x5JApGAP4y1iS3F0YEyONQWdIGNwsYx9WlFffm9AojVH7XnpZvE_NUY4EFHgsM10KP-8k83SYtwv2b3_ITn57goqodZAIT_Q5PcwudsdRs%3D; Domain=www.tripadvisor.co.id; Expires=Sun, 25-May-2025 01:02:03 GMT; Path=/; Secure; HttpOnly\n",
      "header: Set-Cookie: SRT=TART_SYNC; Domain=www.tripadvisor.co.id; Expires=Fri, 26-May-2023 01:32:03 GMT; Path=/\n",
      "header: Set-Cookie: TATravelInfo=V2*AY.2023*AM.6*AD.4*DY.2023*DM.6*DD.5*A.2*MG.-1*HP.2*FL.3*DSM.1685062923461*RS.1; Domain=.tripadvisor.co.id; Expires=Fri, 09-Jun-2023 01:02:03 GMT; Path=/\n",
      "header: Set-Cookie: TAUD=LG-1685062923335-2.1.F.*RDD-2-2023_05_26*HDD-3-2023_06_04.2023_06_05.1; Domain=.tripadvisor.co.id; Expires=Fri, 09-Jun-2023 01:02:03 GMT; Path=/\n",
      "header: Set-Cookie: TASID=A75A71E9ED43406092C96CF3698113D1; Domain=www.tripadvisor.co.id; Expires=Fri, 26-May-2023 01:32:03 GMT; Path=/; Secure\n",
      "header: Set-Cookie: TAReturnTo=%1%%2FHotel_Review-g469404-d4875851-Reviews-or5-La_House-Seminyak_Kuta_District_Bali.html; Domain=.tripadvisor.co.id; Path=/\n",
      "header: Set-Cookie: datadome=2z9ORB_KruLhkOH_9K1mMFmQ8mIQOP3APDu7SjfJ0Tdl5wF8q3X9KLRLcgNFBC6oufj79ClmKU4azkFJajhn1AB7g9XslqJXwslzjLShuiqjTxxU8CGv5Z3hoV6hx9ZL; Max-Age=31104000; Domain=.tripadvisor.co.id; Path=/; Secure; SameSite=Lax\n",
      "Done Scrapping La House page 1\n",
      "\n",
      "\n"
     ]
    },
    {
     "name": "stderr",
     "output_type": "stream",
     "text": [
      "DEBUG:urllib3.connectionpool:Starting new HTTPS connection (1): www.tripadvisor.co.id:443\n"
     ]
    },
    {
     "name": "stdout",
     "output_type": "stream",
     "text": [
      "send: b'GET /Hotel_Review-g469404-d4875851-Reviews-or10-La_House-Seminyak_Kuta_District_Bali.html HTTP/1.1\\r\\nHost: www.tripadvisor.co.id\\r\\nUser-Agent: Mozilla/5.0 (X11; CrOS x86_64 12871.102.0) AppleWebKit/537.36 (KHTML, like Gecko) Chrome/81.0.4044.141 Safari/537.36\\r\\nAccept-Encoding: gzip, deflate\\r\\nAccept: */*\\r\\nConnection: keep-alive\\r\\n\\r\\n'\n"
     ]
    },
    {
     "name": "stderr",
     "output_type": "stream",
     "text": [
      "DEBUG:urllib3.connectionpool:https://www.tripadvisor.co.id:443 \"GET /Hotel_Review-g469404-d4875851-Reviews-or10-La_House-Seminyak_Kuta_District_Bali.html HTTP/1.1\" 200 None\n"
     ]
    },
    {
     "name": "stdout",
     "output_type": "stream",
     "text": [
      "reply: 'HTTP/1.1 200 OK\\r\\n'\n",
      "header: Server: envoy\n",
      "header: Link: <https://media-cdn.tripadvisor.com/media/>;rel=\"preconnect\";crossorigin\n",
      "header: Link: <https://media-cdn.tripadvisor.com/media/>;rel=\"dns-prefetch\"\n",
      "header: p3p: CP=\"NOI CURa ADMa DEVa TAIa OUR BUS IND UNI COM NAV INT DSP COR CAO PSA IDC ADM DEVi TAIi PSD IVAi IVDi CONi HIS CNT\"\n",
      "header: Pragma: no-cache\n",
      "header: Cache-Control: no-cache, no-store, must-revalidate\n",
      "header: Expires: 0\n",
      "header: Content-Language: id\n",
      "header: Link: <https://static.tacdn.com>;rel=\"dns-prefetch\"\n",
      "header: Link: <https://static.tacdn.com>;rel=\"preconnect\";crossorigin\n",
      "header: timing-allow-origin: https://www.tripadvisor.com\n",
      "header: Vary: Accept-Encoding\n",
      "header: Content-Type: text/html;charset=UTF-8\n",
      "header: Accept-CH: Sec-CH-UA,Sec-CH-UA-Mobile,Sec-CH-UA-Platform,Sec-CH-UA-Arch,Sec-CH-UA-Full-Version-List,Sec-CH-UA-Model,Sec-CH-Device-Memory\n",
      "header: x-datadome: protected\n",
      "header: Content-Encoding: gzip\n",
      "header: x-request-id: aec18998-2c9e-4a57-9a54-513e00b7a930\n",
      "header: Date: Fri, 26 May 2023 01:02:08 GMT\n",
      "header: Transfer-Encoding: chunked\n",
      "header: Connection: keep-alive\n",
      "header: Connection: Transfer-Encoding\n",
      "header: Set-Cookie: TADCID=17t9PZYd9JoPEKOVABQCXdElnkGETRW-Svh01l3nWnXCa3VwWJ725exgwyPcmip0ZpU3wq22ve_TmVEH47LJtHWBuG4h0bl9byw; Domain=www.tripadvisor.co.id; Expires=Mon, 23-May-2033 01:02:08 GMT; Path=/; Secure; HttpOnly\n",
      "header: Set-Cookie: TAUnique=%1%enc%3A5yOE8aPgi9P%2B7H78yfwekiHKVVkteNxIF9V28Emsgvg2jHwltRJPGQ%3D%3D; Domain=.tripadvisor.co.id; Expires=Sun, 25-May-2025 01:02:08 GMT; Path=/; HttpOnly\n",
      "header: Set-Cookie: TASSK=enc%3AAN92RlsQ0NRyrY32RPC5yoXkByp6qq8nLfBxMxyxYSxma3Byl8Qeexu7GJtXR72%2BxV0Vx2gwwR2m9wBRszelMF%2FrlOTGYP%2BEc64WxQrY8r%2FutiOvMuNIDyGfqbG%2FBGcKZg%3D%3D; Domain=www.tripadvisor.co.id; Expires=Wed, 22-Nov-2023 01:02:08 GMT; Path=/; HttpOnly\n",
      "header: Set-Cookie: TASession=V2ID.A400DF4C8F5D4B2A8A745DDC782889D6*SQ.1*HS.recommended*ES.popularity*DS.5*SAS.popularity*FPS.oldFirst*LF.in*FA.1*DF.0*TRA.true*LD.4875851; Domain=.tripadvisor.co.id; Path=/\n",
      "header: Set-Cookie: ServerPool=C; Domain=.tripadvisor.co.id; Path=/\n",
      "header: Set-Cookie: PMC=V2*MS.29*MD.20230525*LD.20230525; Domain=www.tripadvisor.co.id; Expires=Sun, 25-May-2025 01:02:08 GMT; Path=/; Secure; HttpOnly\n",
      "header: Set-Cookie: TART=%1%enc%3A%2Fux%2B%2FMn8HpJEEr3R8W81QJA7ENop7gxTG%2Fn4YGJGw3ltddl9c7VlVSOlcYOGvs2%2BRsNr41gHGgI%3D; Domain=www.tripadvisor.co.id; Expires=Wed, 31-May-2023 01:02:08 GMT; Path=/; HttpOnly\n",
      "header: Set-Cookie: CM=%1%PremiumMobSess%2C%2C-1%7Ct4b-pc%2C%2C-1%7CRestAds%2FRPers%2C%2C-1%7CRCPers%2C%2C-1%7CWShadeSeen%2C%2C-1%7CTheForkMCCPers%2C%2C-1%7CHomeASess%2C%2C-1%7CPremiumMCSess%2C%2C-1%7CCrisisSess%2C%2C-1%7CUVOwnersSess%2C%2C-1%7CRestPremRSess%2C%2C-1%7CRepTarMCSess%2C%2C-1%7CCCSess%2C%2C-1%7CCYLSess%2C%2C-1%7CPremRetPers%2C%2C-1%7CViatorMCPers%2C%2C-1%7Csesssticker%2C%2C-1%7C%24%2C%2C-1%7CPremiumORSess%2C%2C-1%7Ct4b-sc%2C%2C-1%7CRestAdsPers%2C%2C-1%7CMC_IB_UPSELL_IB_LOGOS2%2C%2C-1%7CTSMCPers%2C%2C-1%7Cb2bmcpers%2C%2C-1%7CPremMCBtmSess%2C%2C-1%7CMC_IB_UPSELL_IB_LOGOS%2C%2C-1%7CLaFourchette+Banners%2C%2C-1%7Csess_rev%2C%2C-1%7Csessamex%2C%2C-1%7CPremiumRRSess%2C%2C-1%7CTADORSess%2C%2C-1%7CAdsRetPers%2C%2C-1%7CListMCSess%2C%2C-1%7CTARSWBPers%2C%2C-1%7CSPMCSess%2C%2C-1%7CTheForkORSess%2C%2C-1%7CTheForkRRSess%2C%2C-1%7Cpers_rev%2C%2C-1%7CRBAPers%2C%2C-1%7CRestAds%2FRSess%2C%2C-1%7CHomeAPers%2C%2C-1%7CPremiumMobPers%2C%2C-1%7CRCSess%2C%2C-1%7CLaFourchette+MC+Banners%2C%2C-1%7CRestAdsCCSess%2C%2C-1%7CRestPremRPers%2C%2C-1%7CRevHubRMPers%2C%2C-1%7CUVOwnersPers%2C%2C-1%7Cpssamex%2C%2C-1%7CTheForkMCCSess%2C%2C-1%7CCrisisPers%2C%2C-1%7CCYLPers%2C%2C-1%7CCCPers%2C%2C-1%7CRepTarMCPers%2C%2C-1%7Cb2bmcsess%2C%2C-1%7CTSMCSess%2C%2C-1%7CSPMCPers%2C%2C-1%7CRevHubRMSess%2C%2C-1%7CPremRetSess%2C%2C-1%7CViatorMCSess%2C%2C-1%7CPremiumMCPers%2C%2C-1%7CAdsRetSess%2C%2C-1%7CPremiumRRPers%2C%2C-1%7CRestAdsCCPers%2C%2C-1%7CTADORPers%2C%2C-1%7CTheForkORPers%2C%2C-1%7CPremMCBtmPers%2C%2C-1%7CTheForkRRPers%2C%2C-1%7CTARSWBSess%2C%2C-1%7CPremiumORPers%2C%2C-1%7CRestAdsSess%2C%2C-1%7CRBASess%2C%2C-1%7CSPORPers%2C%2C-1%7Cperssticker%2C%2C-1%7CListMCPers%2C%2C-1%7C; Domain=.tripadvisor.co.id; Expires=Mon, 23-May-2033 01:02:08 GMT; Path=/\n",
      "header: Set-Cookie: BEPIN=%1%1885593c6df%3Bweb303a.a.tripadvisor.com%3A30023%3B; Domain=.tripadvisor.co.id; Path=/\n",
      "header: Set-Cookie: PAC=AFcd2pZGo5KjYkL5T51M88mvKd-cdj3154eYOay3ra0LiBA2GrnJdsnQsSIXWEVrrRCNJsHSrZbVf_17jI4yo9l_gU-8DFtEej5zW4IP1ve8oQwUgzoHTQzUUxxEswFitIywyD52uzBS5nTXRWsj3clUgbK4TQcoS-C7o4ILksDPFBLwBJ5LEJosfRpDc-PhyiPG2TmYZWrZ8dhn_EWt0v8%3D; Domain=www.tripadvisor.co.id; Expires=Sun, 25-May-2025 01:02:08 GMT; Path=/; Secure; HttpOnly\n",
      "header: Set-Cookie: SRT=TART_SYNC; Domain=www.tripadvisor.co.id; Expires=Fri, 26-May-2023 01:32:08 GMT; Path=/\n",
      "header: Set-Cookie: TATravelInfo=V2*AY.2023*AM.6*AD.4*DY.2023*DM.6*DD.5*A.2*MG.-1*HP.2*FL.3*DSM.1685062928190*RS.1; Domain=.tripadvisor.co.id; Expires=Fri, 09-Jun-2023 01:02:08 GMT; Path=/\n",
      "header: Set-Cookie: TAUD=LG-1685062928061-2.1.F.*RDD-2-2023_05_26*HDD-3-2023_06_04.2023_06_05.1; Domain=.tripadvisor.co.id; Expires=Fri, 09-Jun-2023 01:02:08 GMT; Path=/\n",
      "header: Set-Cookie: TASID=A400DF4C8F5D4B2A8A745DDC782889D6; Domain=www.tripadvisor.co.id; Expires=Fri, 26-May-2023 01:32:08 GMT; Path=/; Secure\n",
      "header: Set-Cookie: TAReturnTo=%1%%2FHotel_Review-g469404-d4875851-Reviews-or10-La_House-Seminyak_Kuta_District_Bali.html; Domain=.tripadvisor.co.id; Path=/\n",
      "header: Set-Cookie: datadome=77Z7TYVNGiR6WFpCpYEdQ5V44gct7x5Mzur5Tq7wx8JZpvrJZOLAyUzBpF_my-6H7jzbMcG1au10zuQgzCyZgZSCwNfATQKSHTPY0~tFErsUFOE8FgRXQ5P1VnQHQSUh; Max-Age=31104000; Domain=.tripadvisor.co.id; Path=/; Secure; SameSite=Lax\n",
      "Done Scrapping La House page 2\n",
      "\n",
      "\n"
     ]
    },
    {
     "name": "stderr",
     "output_type": "stream",
     "text": [
      "DEBUG:urllib3.connectionpool:Starting new HTTPS connection (1): www.tripadvisor.co.id:443\n"
     ]
    },
    {
     "name": "stdout",
     "output_type": "stream",
     "text": [
      "send: b'GET /Hotel_Review-g469404-d4875851-Reviews-or15-La_House-Seminyak_Kuta_District_Bali.html HTTP/1.1\\r\\nHost: www.tripadvisor.co.id\\r\\nUser-Agent: Mozilla/5.0 (X11; CrOS x86_64 12871.102.0) AppleWebKit/537.36 (KHTML, like Gecko) Chrome/81.0.4044.141 Safari/537.36\\r\\nAccept-Encoding: gzip, deflate\\r\\nAccept: */*\\r\\nConnection: keep-alive\\r\\n\\r\\n'\n"
     ]
    },
    {
     "name": "stderr",
     "output_type": "stream",
     "text": [
      "DEBUG:urllib3.connectionpool:https://www.tripadvisor.co.id:443 \"GET /Hotel_Review-g469404-d4875851-Reviews-or15-La_House-Seminyak_Kuta_District_Bali.html HTTP/1.1\" 200 None\n"
     ]
    },
    {
     "name": "stdout",
     "output_type": "stream",
     "text": [
      "reply: 'HTTP/1.1 200 OK\\r\\n'\n",
      "header: Server: envoy\n",
      "header: Link: <https://media-cdn.tripadvisor.com/media/>;rel=\"preconnect\";crossorigin\n",
      "header: Link: <https://media-cdn.tripadvisor.com/media/>;rel=\"dns-prefetch\"\n",
      "header: p3p: CP=\"NOI CURa ADMa DEVa TAIa OUR BUS IND UNI COM NAV INT DSP COR CAO PSA IDC ADM DEVi TAIi PSD IVAi IVDi CONi HIS CNT\"\n",
      "header: Pragma: no-cache\n",
      "header: Cache-Control: no-cache, no-store, must-revalidate\n",
      "header: Expires: 0\n",
      "header: Content-Language: id\n",
      "header: Link: <https://static.tacdn.com>;rel=\"dns-prefetch\"\n",
      "header: Link: <https://static.tacdn.com>;rel=\"preconnect\";crossorigin\n",
      "header: timing-allow-origin: https://www.tripadvisor.com\n",
      "header: Vary: Accept-Encoding\n",
      "header: Content-Type: text/html;charset=UTF-8\n",
      "header: x-datadome: protected\n",
      "header: Accept-CH: Sec-CH-UA,Sec-CH-UA-Mobile,Sec-CH-UA-Platform,Sec-CH-UA-Arch,Sec-CH-UA-Full-Version-List,Sec-CH-UA-Model,Sec-CH-Device-Memory\n",
      "header: Content-Encoding: gzip\n",
      "header: x-request-id: cd789f22-30b2-4ec2-8e62-44c3ed0a85e8\n",
      "header: Date: Fri, 26 May 2023 01:02:13 GMT\n",
      "header: Transfer-Encoding: chunked\n",
      "header: Connection: keep-alive\n",
      "header: Connection: Transfer-Encoding\n",
      "header: Set-Cookie: TADCID=_2aJVLJ4mpINvJiXABQCXdElnkGETRW-Svh01l3nWnXCa2OgKHCcW6ugJmdNKK_t0oZUJB90mxfNC_PtGPMAye9S2BF2hik4Dfg; Domain=www.tripadvisor.co.id; Expires=Mon, 23-May-2033 01:02:13 GMT; Path=/; Secure; HttpOnly\n",
      "header: Set-Cookie: TAUnique=%1%enc%3AQdV7w8ASnEb%2B7H78yfwekiHKVVkteNxI1npt3QtjFHg2jHwltRJPGQ%3D%3D; Domain=.tripadvisor.co.id; Expires=Sun, 25-May-2025 01:02:13 GMT; Path=/; HttpOnly\n",
      "header: Set-Cookie: TASSK=enc%3AAJCXBvhwB5Prv70pRLYfzoo%2FhcsvAKwbryoaQKCpUsIbwdtKDAHjPMHholVHmrS7jOHzfgFV4MuuTuBANtYGlH4BkoLDmOYzH%2Bt4UQx9Qe9YCja8ciSUmbEhZL3ufNoDdw%3D%3D; Domain=www.tripadvisor.co.id; Expires=Wed, 22-Nov-2023 01:02:13 GMT; Path=/; HttpOnly\n",
      "header: Set-Cookie: TASession=V2ID.EDA80F5219BA4F17803E29B70607A5D0*SQ.1*HS.recommended*ES.popularity*DS.5*SAS.popularity*FPS.oldFirst*LF.in*FA.1*DF.0*TRA.true*LD.4875851; Domain=.tripadvisor.co.id; Path=/\n",
      "header: Set-Cookie: ServerPool=B; Domain=.tripadvisor.co.id; Path=/\n",
      "header: Set-Cookie: PMC=V2*MS.57*MD.20230525*LD.20230525; Domain=www.tripadvisor.co.id; Expires=Sun, 25-May-2025 01:02:13 GMT; Path=/; Secure; HttpOnly\n",
      "header: Set-Cookie: TART=%1%enc%3A%2Fux%2B%2FMn8HpK3wB0AF8oRMBFtteqxdwhzEWYzppWTTMX4CjxEjyG9p6r%2FhdQQRw9XRsNr41gHGgI%3D; Domain=www.tripadvisor.co.id; Expires=Wed, 31-May-2023 01:02:13 GMT; Path=/; HttpOnly\n",
      "header: Set-Cookie: CM=%1%PremiumMobSess%2C%2C-1%7Ct4b-pc%2C%2C-1%7CRestAds%2FRPers%2C%2C-1%7CRCPers%2C%2C-1%7CWShadeSeen%2C%2C-1%7CTheForkMCCPers%2C%2C-1%7CHomeASess%2C%2C-1%7CPremiumMCSess%2C%2C-1%7CCrisisSess%2C%2C-1%7CUVOwnersSess%2C%2C-1%7CRestPremRSess%2C%2C-1%7CRepTarMCSess%2C%2C-1%7CCCSess%2C%2C-1%7CCYLSess%2C%2C-1%7CPremRetPers%2C%2C-1%7CViatorMCPers%2C%2C-1%7Csesssticker%2C%2C-1%7C%24%2C%2C-1%7CPremiumORSess%2C%2C-1%7Ct4b-sc%2C%2C-1%7CRestAdsPers%2C%2C-1%7CMC_IB_UPSELL_IB_LOGOS2%2C%2C-1%7CTSMCPers%2C%2C-1%7Cb2bmcpers%2C%2C-1%7CPremMCBtmSess%2C%2C-1%7CMC_IB_UPSELL_IB_LOGOS%2C%2C-1%7CLaFourchette+Banners%2C%2C-1%7Csess_rev%2C%2C-1%7Csessamex%2C%2C-1%7CPremiumRRSess%2C%2C-1%7CTADORSess%2C%2C-1%7CAdsRetPers%2C%2C-1%7CListMCSess%2C%2C-1%7CTARSWBPers%2C%2C-1%7CSPMCSess%2C%2C-1%7CTheForkORSess%2C%2C-1%7CTheForkRRSess%2C%2C-1%7Cpers_rev%2C%2C-1%7CRBAPers%2C%2C-1%7CRestAds%2FRSess%2C%2C-1%7CHomeAPers%2C%2C-1%7CPremiumMobPers%2C%2C-1%7CRCSess%2C%2C-1%7CLaFourchette+MC+Banners%2C%2C-1%7CRestAdsCCSess%2C%2C-1%7CRestPremRPers%2C%2C-1%7CRevHubRMPers%2C%2C-1%7CUVOwnersPers%2C%2C-1%7Cpssamex%2C%2C-1%7CTheForkMCCSess%2C%2C-1%7CCrisisPers%2C%2C-1%7CCYLPers%2C%2C-1%7CCCPers%2C%2C-1%7CRepTarMCPers%2C%2C-1%7Cb2bmcsess%2C%2C-1%7CTSMCSess%2C%2C-1%7CSPMCPers%2C%2C-1%7CRevHubRMSess%2C%2C-1%7CPremRetSess%2C%2C-1%7CViatorMCSess%2C%2C-1%7CPremiumMCPers%2C%2C-1%7CAdsRetSess%2C%2C-1%7CPremiumRRPers%2C%2C-1%7CRestAdsCCPers%2C%2C-1%7CTADORPers%2C%2C-1%7CTheForkORPers%2C%2C-1%7CPremMCBtmPers%2C%2C-1%7CTheForkRRPers%2C%2C-1%7CTARSWBSess%2C%2C-1%7CPremiumORPers%2C%2C-1%7CRestAdsSess%2C%2C-1%7CRBASess%2C%2C-1%7CSPORPers%2C%2C-1%7Cperssticker%2C%2C-1%7CListMCPers%2C%2C-1%7C; Domain=.tripadvisor.co.id; Expires=Mon, 23-May-2033 01:02:13 GMT; Path=/\n",
      "header: Set-Cookie: BEPIN=%1%1885593da72%3Bweb251a.a.tripadvisor.com%3A30023%3B; Domain=.tripadvisor.co.id; Path=/\n",
      "header: Set-Cookie: PAC=AGxUjl3VbSbGUvUoDcT5dEn05Yeud54SD9xpCGCYLaMDJwwU1YXCcWbQekdojIO_jQqUeRMEzkWkl5j9vsedUKboJ36NmRCtTvC-bACXDMQ-fMw217ApYHxahoMzDFOvmGCWwd6T3oiUkP2jFk4n1T70YR7FIExvv_3IAf_wx43QwOhCglnXLMcO5TUHSaMMoMsxV4KZhDNSVpwjfFbFBmg%3D; Domain=www.tripadvisor.co.id; Expires=Sun, 25-May-2025 01:02:13 GMT; Path=/; Secure; HttpOnly\n",
      "header: Set-Cookie: SRT=TART_SYNC; Domain=www.tripadvisor.co.id; Expires=Fri, 26-May-2023 01:32:13 GMT; Path=/\n",
      "header: Set-Cookie: TATravelInfo=V2*AY.2023*AM.6*AD.4*DY.2023*DM.6*DD.5*A.2*MG.-1*HP.2*FL.3*DSM.1685062933205*RS.1; Domain=.tripadvisor.co.id; Expires=Fri, 09-Jun-2023 01:02:13 GMT; Path=/\n",
      "header: Set-Cookie: TAUD=LG-1685062933075-2.1.F.*RDD-2-2023_05_26*HDD-3-2023_06_04.2023_06_05.1; Domain=.tripadvisor.co.id; Expires=Fri, 09-Jun-2023 01:02:13 GMT; Path=/\n",
      "header: Set-Cookie: TASID=EDA80F5219BA4F17803E29B70607A5D0; Domain=www.tripadvisor.co.id; Expires=Fri, 26-May-2023 01:32:13 GMT; Path=/; Secure\n",
      "header: Set-Cookie: TAReturnTo=%1%%2FHotel_Review-g469404-d4875851-Reviews-or15-La_House-Seminyak_Kuta_District_Bali.html; Domain=.tripadvisor.co.id; Path=/\n",
      "header: Set-Cookie: datadome=LIMkjiRPCK4iLcQA_ywaGmHm-MhiFPfeV5zVeiwayuiEkPaMRRXqrR-2UNXRXw4ujXQWFNiVzVjckPAu0tnE4MB7VixsMpC03MN-U12kdgSbf0qzRwahTiZm-jUki~R; Max-Age=31104000; Domain=.tripadvisor.co.id; Path=/; Secure; SameSite=Lax\n",
      "Done Scrapping La House page 3\n",
      "\n",
      "\n"
     ]
    },
    {
     "name": "stderr",
     "output_type": "stream",
     "text": [
      "DEBUG:urllib3.connectionpool:Starting new HTTPS connection (1): www.tripadvisor.co.id:443\n"
     ]
    },
    {
     "name": "stdout",
     "output_type": "stream",
     "text": [
      "send: b'GET /Hotel_Review-g469404-d4875851-Reviews-or20-La_House-Seminyak_Kuta_District_Bali.html HTTP/1.1\\r\\nHost: www.tripadvisor.co.id\\r\\nUser-Agent: Mozilla/5.0 (X11; CrOS x86_64 12871.102.0) AppleWebKit/537.36 (KHTML, like Gecko) Chrome/81.0.4044.141 Safari/537.36\\r\\nAccept-Encoding: gzip, deflate\\r\\nAccept: */*\\r\\nConnection: keep-alive\\r\\n\\r\\n'\n"
     ]
    },
    {
     "name": "stderr",
     "output_type": "stream",
     "text": [
      "DEBUG:urllib3.connectionpool:https://www.tripadvisor.co.id:443 \"GET /Hotel_Review-g469404-d4875851-Reviews-or20-La_House-Seminyak_Kuta_District_Bali.html HTTP/1.1\" 200 None\n"
     ]
    },
    {
     "name": "stdout",
     "output_type": "stream",
     "text": [
      "reply: 'HTTP/1.1 200 OK\\r\\n'\n",
      "header: Server: envoy\n",
      "header: Link: <https://media-cdn.tripadvisor.com/media/>;rel=\"preconnect\";crossorigin\n",
      "header: Link: <https://media-cdn.tripadvisor.com/media/>;rel=\"dns-prefetch\"\n",
      "header: p3p: CP=\"NOI CURa ADMa DEVa TAIa OUR BUS IND UNI COM NAV INT DSP COR CAO PSA IDC ADM DEVi TAIi PSD IVAi IVDi CONi HIS CNT\"\n",
      "header: Pragma: no-cache\n",
      "header: Cache-Control: no-cache, no-store, must-revalidate\n",
      "header: Expires: 0\n",
      "header: Content-Language: id\n",
      "header: Link: <https://static.tacdn.com>;rel=\"dns-prefetch\"\n",
      "header: Link: <https://static.tacdn.com>;rel=\"preconnect\";crossorigin\n",
      "header: timing-allow-origin: https://www.tripadvisor.com\n",
      "header: Vary: Accept-Encoding\n",
      "header: Content-Type: text/html;charset=UTF-8\n",
      "header: x-datadome: protected\n",
      "header: Accept-CH: Sec-CH-UA,Sec-CH-UA-Mobile,Sec-CH-UA-Platform,Sec-CH-UA-Arch,Sec-CH-UA-Full-Version-List,Sec-CH-UA-Model,Sec-CH-Device-Memory\n",
      "header: Content-Encoding: gzip\n",
      "header: x-request-id: 0a39aaa9-37c6-4198-8657-77495f6c35d2\n",
      "header: Date: Fri, 26 May 2023 01:02:19 GMT\n",
      "header: Transfer-Encoding: chunked\n",
      "header: Connection: keep-alive\n",
      "header: Connection: Transfer-Encoding\n",
      "header: Set-Cookie: TADCID=G4nphruW_3nxDadfABQCXdElnkGETRW-Svh01l3nWnXCa0CmOci_Hka7addTGYVnLekuugP02losFbKgmyJPe8z5f-D_qOdaUjk; Domain=www.tripadvisor.co.id; Expires=Mon, 23-May-2033 01:02:18 GMT; Path=/; Secure; HttpOnly\n",
      "header: Set-Cookie: TAUnique=%1%enc%3ATT0OJjZFfNb%2B7H78yfwekiHKVVkteNxIpRlyIU9GW302jHwltRJPGQ%3D%3D; Domain=.tripadvisor.co.id; Expires=Sun, 25-May-2025 01:02:18 GMT; Path=/; HttpOnly\n",
      "header: Set-Cookie: TASSK=enc%3AAJVvhFFJYnj7xGAapOQvCzM8mrt%2FSomByJUKc47dvPt%2FOAv72aE3NJ4%2B4FmJnWsUDjzFHJxJxQpBlPl4l4P4cVlVAgf25UlwvQIuQ3L3F0GnmPey%2FeP%2FUVxOrtAXhkaEmw%3D%3D; Domain=www.tripadvisor.co.id; Expires=Wed, 22-Nov-2023 01:02:19 GMT; Path=/; HttpOnly\n",
      "header: Set-Cookie: TASession=V2ID.0EF2528717C24B949FCBA8E67A4963CF*SQ.1*HS.recommended*ES.popularity*DS.5*SAS.popularity*FPS.oldFirst*LF.in*FA.1*DF.0*TRA.true*LD.4875851; Domain=.tripadvisor.co.id; Path=/\n",
      "header: Set-Cookie: ServerPool=X; Domain=.tripadvisor.co.id; Path=/\n",
      "header: Set-Cookie: PMC=V2*MS.67*MD.20230525*LD.20230525; Domain=www.tripadvisor.co.id; Expires=Sun, 25-May-2025 01:02:19 GMT; Path=/; Secure; HttpOnly\n",
      "header: Set-Cookie: TART=%1%enc%3A%2Fux%2B%2FMn8HpK6ScsHRK7%2FRvi9hnVamhrFkPRrrsyh4t2KNUNvMyHOnw3RWoYGGkmn4ieoPdYMDDY%3D; Domain=www.tripadvisor.co.id; Expires=Wed, 31-May-2023 01:02:19 GMT; Path=/; HttpOnly\n",
      "header: Set-Cookie: CM=%1%PremiumMobSess%2C%2C-1%7Ct4b-pc%2C%2C-1%7CRestAds%2FRPers%2C%2C-1%7CRCPers%2C%2C-1%7CWShadeSeen%2C%2C-1%7CTheForkMCCPers%2C%2C-1%7CHomeASess%2C%2C-1%7CPremiumMCSess%2C%2C-1%7CCrisisSess%2C%2C-1%7CUVOwnersSess%2C%2C-1%7CRestPremRSess%2C%2C-1%7CRepTarMCSess%2C%2C-1%7CCCSess%2C%2C-1%7CCYLSess%2C%2C-1%7CPremRetPers%2C%2C-1%7CViatorMCPers%2C%2C-1%7Csesssticker%2C%2C-1%7C%24%2C%2C-1%7CPremiumORSess%2C%2C-1%7Ct4b-sc%2C%2C-1%7CRestAdsPers%2C%2C-1%7CMC_IB_UPSELL_IB_LOGOS2%2C%2C-1%7CTSMCPers%2C%2C-1%7Cb2bmcpers%2C%2C-1%7CPremMCBtmSess%2C%2C-1%7CMC_IB_UPSELL_IB_LOGOS%2C%2C-1%7CLaFourchette+Banners%2C%2C-1%7Csess_rev%2C%2C-1%7Csessamex%2C%2C-1%7CPremiumRRSess%2C%2C-1%7CTADORSess%2C%2C-1%7CAdsRetPers%2C%2C-1%7CListMCSess%2C%2C-1%7CTARSWBPers%2C%2C-1%7CSPMCSess%2C%2C-1%7CTheForkORSess%2C%2C-1%7CTheForkRRSess%2C%2C-1%7Cpers_rev%2C%2C-1%7CRBAPers%2C%2C-1%7CRestAds%2FRSess%2C%2C-1%7CHomeAPers%2C%2C-1%7CPremiumMobPers%2C%2C-1%7CRCSess%2C%2C-1%7CLaFourchette+MC+Banners%2C%2C-1%7CRestAdsCCSess%2C%2C-1%7CRestPremRPers%2C%2C-1%7CRevHubRMPers%2C%2C-1%7CUVOwnersPers%2C%2C-1%7Cpssamex%2C%2C-1%7CTheForkMCCSess%2C%2C-1%7CCrisisPers%2C%2C-1%7CCYLPers%2C%2C-1%7CCCPers%2C%2C-1%7CRepTarMCPers%2C%2C-1%7Cb2bmcsess%2C%2C-1%7CTSMCSess%2C%2C-1%7CSPMCPers%2C%2C-1%7CRevHubRMSess%2C%2C-1%7CPremRetSess%2C%2C-1%7CViatorMCSess%2C%2C-1%7CPremiumMCPers%2C%2C-1%7CAdsRetSess%2C%2C-1%7CPremiumRRPers%2C%2C-1%7CRestAdsCCPers%2C%2C-1%7CTADORPers%2C%2C-1%7CTheForkORPers%2C%2C-1%7CPremMCBtmPers%2C%2C-1%7CTheForkRRPers%2C%2C-1%7CTARSWBSess%2C%2C-1%7CPremiumORPers%2C%2C-1%7CRestAdsSess%2C%2C-1%7CRBASess%2C%2C-1%7CSPORPers%2C%2C-1%7Cperssticker%2C%2C-1%7CListMCPers%2C%2C-1%7C; Domain=.tripadvisor.co.id; Expires=Mon, 23-May-2033 01:02:19 GMT; Path=/\n",
      "header: Set-Cookie: BEPIN=%1%1885593f0e3%3Bweb271a.a.tripadvisor.com%3A30023%3B; Domain=.tripadvisor.co.id; Path=/\n",
      "header: Set-Cookie: PAC=AHwgn0hsYYCGwJxnBtb5P8iq3p9YbPEyJPIZre0XM7flPOt5HicZV3_FvS5pYp1U-RqHmBMJrXRMWsxIxlwWFFL3fZr9_qvaS048ApIdlwnT8pN3VKjgyKIUTwBFxv3Oxnmm6tTSAUXJdEpVqB27Ef8bDDVmyqqjVtxt7H-_WYli-3YW1jX2eeyebVFcTQbZTrYbCKQf9uI1YtmLhuSNPSg%3D; Domain=www.tripadvisor.co.id; Expires=Sun, 25-May-2025 01:02:19 GMT; Path=/; Secure; HttpOnly\n",
      "header: Set-Cookie: SRT=TART_SYNC; Domain=www.tripadvisor.co.id; Expires=Fri, 26-May-2023 01:32:19 GMT; Path=/\n",
      "header: Set-Cookie: TATravelInfo=V2*AY.2023*AM.6*AD.4*DY.2023*DM.6*DD.5*A.2*MG.-1*HP.2*FL.3*DSM.1685062938947*RS.1; Domain=.tripadvisor.co.id; Expires=Fri, 09-Jun-2023 01:02:19 GMT; Path=/\n",
      "header: Set-Cookie: TAUD=LG-1685062938819-2.1.F.*RDD-2-2023_05_26*HDD-3-2023_06_04.2023_06_05.1; Domain=.tripadvisor.co.id; Expires=Fri, 09-Jun-2023 01:02:19 GMT; Path=/\n",
      "header: Set-Cookie: TASID=0EF2528717C24B949FCBA8E67A4963CF; Domain=www.tripadvisor.co.id; Expires=Fri, 26-May-2023 01:32:19 GMT; Path=/; Secure\n",
      "header: Set-Cookie: TAReturnTo=%1%%2FHotel_Review-g469404-d4875851-Reviews-or20-La_House-Seminyak_Kuta_District_Bali.html; Domain=.tripadvisor.co.id; Path=/\n",
      "header: Set-Cookie: datadome=2IbPqId1H5jQz6N6SlyXOYZ-qckyBY6Co6I52FshFTtbMyPoFqQGEs4h8spJIjc7a49hK1~_OKwPOFeVJDnQyAUP9~QS9WPutEA85CuiEE5Jpq~-S67QvPHT5RTWc9uA; Max-Age=31104000; Domain=.tripadvisor.co.id; Path=/; Secure; SameSite=Lax\n",
      "Done Scrapping La House page 4\n",
      "\n",
      "\n"
     ]
    },
    {
     "name": "stderr",
     "output_type": "stream",
     "text": [
      "DEBUG:urllib3.connectionpool:Starting new HTTPS connection (1): www.tripadvisor.co.id:443\n"
     ]
    },
    {
     "name": "stdout",
     "output_type": "stream",
     "text": [
      "send: b'GET /Hotel_Review-g469404-d4875851-Reviews-or25-La_House-Seminyak_Kuta_District_Bali.html HTTP/1.1\\r\\nHost: www.tripadvisor.co.id\\r\\nUser-Agent: Mozilla/5.0 (X11; CrOS x86_64 12871.102.0) AppleWebKit/537.36 (KHTML, like Gecko) Chrome/81.0.4044.141 Safari/537.36\\r\\nAccept-Encoding: gzip, deflate\\r\\nAccept: */*\\r\\nConnection: keep-alive\\r\\n\\r\\n'\n"
     ]
    },
    {
     "name": "stderr",
     "output_type": "stream",
     "text": [
      "DEBUG:urllib3.connectionpool:https://www.tripadvisor.co.id:443 \"GET /Hotel_Review-g469404-d4875851-Reviews-or25-La_House-Seminyak_Kuta_District_Bali.html HTTP/1.1\" 200 None\n"
     ]
    },
    {
     "name": "stdout",
     "output_type": "stream",
     "text": [
      "reply: 'HTTP/1.1 200 OK\\r\\n'\n",
      "header: Server: envoy\n",
      "header: Link: <https://media-cdn.tripadvisor.com/media/>;rel=\"preconnect\";crossorigin\n",
      "header: Link: <https://media-cdn.tripadvisor.com/media/>;rel=\"dns-prefetch\"\n",
      "header: p3p: CP=\"NOI CURa ADMa DEVa TAIa OUR BUS IND UNI COM NAV INT DSP COR CAO PSA IDC ADM DEVi TAIi PSD IVAi IVDi CONi HIS CNT\"\n",
      "header: Pragma: no-cache\n",
      "header: Cache-Control: no-cache, no-store, must-revalidate\n",
      "header: Expires: 0\n",
      "header: Content-Language: id\n",
      "header: Link: <https://static.tacdn.com>;rel=\"dns-prefetch\"\n",
      "header: Link: <https://static.tacdn.com>;rel=\"preconnect\";crossorigin\n",
      "header: timing-allow-origin: https://www.tripadvisor.com\n",
      "header: Vary: Accept-Encoding\n",
      "header: Content-Type: text/html;charset=UTF-8\n",
      "header: x-datadome: protected\n",
      "header: Accept-CH: Sec-CH-UA,Sec-CH-UA-Mobile,Sec-CH-UA-Platform,Sec-CH-UA-Arch,Sec-CH-UA-Full-Version-List,Sec-CH-UA-Model,Sec-CH-Device-Memory\n",
      "header: Content-Encoding: gzip\n",
      "header: x-request-id: a6e89efc-611c-42ca-aa1b-628fe56e2eda\n",
      "header: Date: Fri, 26 May 2023 01:02:23 GMT\n",
      "header: Transfer-Encoding: chunked\n",
      "header: Connection: keep-alive\n",
      "header: Connection: Transfer-Encoding\n",
      "header: Set-Cookie: TADCID=YLJGJQDnJzkXRLEwABQCXdElnkGETRW-Svh01l3nWnXCa4AYERuY0DlimHxXunJPiJkUou6h6smzWRhf7FTfzTWh8NZBLRTEQUs; Domain=www.tripadvisor.co.id; Expires=Mon, 23-May-2033 01:02:23 GMT; Path=/; Secure; HttpOnly\n",
      "header: Set-Cookie: TAUnique=%1%enc%3A3z0L%2FHaaMiL%2B7H78yfwekiHKVVkteNxIxVcRMTpjY8E2jHwltRJPGQ%3D%3D; Domain=.tripadvisor.co.id; Expires=Sun, 25-May-2025 01:02:23 GMT; Path=/; HttpOnly\n",
      "header: Set-Cookie: TASSK=enc%3AAPQz1lpxaNuNOYmEfhtgb4KZ733eqPxdbPcSSOdddB%2BBRwBAqwpU8uOZ2HBMfv6TbsF%2Bg%2BeNjOy4ute4taCEkgE84IBof7A%2F0%2FUz032e49%2FlJtFHMqtiNGpCrQWWuj%2FIuQ%3D%3D; Domain=www.tripadvisor.co.id; Expires=Wed, 22-Nov-2023 01:02:23 GMT; Path=/; HttpOnly\n",
      "header: Set-Cookie: TASession=V2ID.7F3E636A509547439EF8D60DAFEB3C73*SQ.1*HS.recommended*ES.popularity*DS.5*SAS.popularity*FPS.oldFirst*LF.in*FA.1*DF.0*TRA.true*LD.4875851; Domain=.tripadvisor.co.id; Path=/\n",
      "header: Set-Cookie: ServerPool=C; Domain=.tripadvisor.co.id; Path=/\n",
      "header: Set-Cookie: PMC=V2*MS.50*MD.20230525*LD.20230525; Domain=www.tripadvisor.co.id; Expires=Sun, 25-May-2025 01:02:23 GMT; Path=/; Secure; HttpOnly\n",
      "header: Set-Cookie: TART=%1%enc%3A%2Fux%2B%2FMn8HpKhwfHyuQ10pjBMnwcB0Kzsl9U13H16UFGxIYf1PrN9Bor5slwXGr%2Bk5jVki%2Fentws%3D; Domain=www.tripadvisor.co.id; Expires=Wed, 31-May-2023 01:02:23 GMT; Path=/; HttpOnly\n",
      "header: Set-Cookie: CM=%1%PremiumMobSess%2C%2C-1%7Ct4b-pc%2C%2C-1%7CRestAds%2FRPers%2C%2C-1%7CRCPers%2C%2C-1%7CWShadeSeen%2C%2C-1%7CTheForkMCCPers%2C%2C-1%7CHomeASess%2C%2C-1%7CPremiumMCSess%2C%2C-1%7CCrisisSess%2C%2C-1%7CUVOwnersSess%2C%2C-1%7CRestPremRSess%2C%2C-1%7CRepTarMCSess%2C%2C-1%7CCCSess%2C%2C-1%7CCYLSess%2C%2C-1%7CPremRetPers%2C%2C-1%7CViatorMCPers%2C%2C-1%7Csesssticker%2C%2C-1%7C%24%2C%2C-1%7CPremiumORSess%2C%2C-1%7Ct4b-sc%2C%2C-1%7CRestAdsPers%2C%2C-1%7CMC_IB_UPSELL_IB_LOGOS2%2C%2C-1%7CTSMCPers%2C%2C-1%7Cb2bmcpers%2C%2C-1%7CPremMCBtmSess%2C%2C-1%7CMC_IB_UPSELL_IB_LOGOS%2C%2C-1%7CLaFourchette+Banners%2C%2C-1%7Csess_rev%2C%2C-1%7Csessamex%2C%2C-1%7CPremiumRRSess%2C%2C-1%7CTADORSess%2C%2C-1%7CAdsRetPers%2C%2C-1%7CListMCSess%2C%2C-1%7CTARSWBPers%2C%2C-1%7CSPMCSess%2C%2C-1%7CTheForkORSess%2C%2C-1%7CTheForkRRSess%2C%2C-1%7Cpers_rev%2C%2C-1%7CRBAPers%2C%2C-1%7CRestAds%2FRSess%2C%2C-1%7CHomeAPers%2C%2C-1%7CPremiumMobPers%2C%2C-1%7CRCSess%2C%2C-1%7CLaFourchette+MC+Banners%2C%2C-1%7CRestAdsCCSess%2C%2C-1%7CRestPremRPers%2C%2C-1%7CRevHubRMPers%2C%2C-1%7CUVOwnersPers%2C%2C-1%7Cpssamex%2C%2C-1%7CTheForkMCCSess%2C%2C-1%7CCrisisPers%2C%2C-1%7CCYLPers%2C%2C-1%7CCCPers%2C%2C-1%7CRepTarMCPers%2C%2C-1%7Cb2bmcsess%2C%2C-1%7CTSMCSess%2C%2C-1%7CSPMCPers%2C%2C-1%7CRevHubRMSess%2C%2C-1%7CPremRetSess%2C%2C-1%7CViatorMCSess%2C%2C-1%7CPremiumMCPers%2C%2C-1%7CAdsRetSess%2C%2C-1%7CPremiumRRPers%2C%2C-1%7CRestAdsCCPers%2C%2C-1%7CTADORPers%2C%2C-1%7CTheForkORPers%2C%2C-1%7CPremMCBtmPers%2C%2C-1%7CTheForkRRPers%2C%2C-1%7CTARSWBSess%2C%2C-1%7CPremiumORPers%2C%2C-1%7CRestAdsSess%2C%2C-1%7CRBASess%2C%2C-1%7CSPORPers%2C%2C-1%7Cperssticker%2C%2C-1%7CListMCPers%2C%2C-1%7C; Domain=.tripadvisor.co.id; Expires=Mon, 23-May-2033 01:02:23 GMT; Path=/\n",
      "header: Set-Cookie: BEPIN=%1%18855940228%3Bweb271a.a.tripadvisor.com%3A30023%3B; Domain=.tripadvisor.co.id; Path=/\n",
      "header: Set-Cookie: PAC=AKtxls3a1ute1TH-mraZjN0I23gV9ZDh5Y_Jnq1iDK_bP8y9agY45QG5EapukL9RbNocoM2tHXRaVihVs3PSp9C2khNJJtsPMNsNKzK3drB-GG5ja87LUPG6UCAIzpi65ACH8PopBU2gzEE1udcI48jdkIuAw2_sgPS85i5obItGjxk7ZTMQlH45OLejQJEQKKCtPZq2KJemImnxjNxQpQU%3D; Domain=www.tripadvisor.co.id; Expires=Sun, 25-May-2025 01:02:23 GMT; Path=/; Secure; HttpOnly\n",
      "header: Set-Cookie: SRT=TART_SYNC; Domain=www.tripadvisor.co.id; Expires=Fri, 26-May-2023 01:32:23 GMT; Path=/\n",
      "header: Set-Cookie: TATravelInfo=V2*AY.2023*AM.6*AD.4*DY.2023*DM.6*DD.5*A.2*MG.-1*HP.2*FL.3*DSM.1685062943360*RS.1; Domain=.tripadvisor.co.id; Expires=Fri, 09-Jun-2023 01:02:23 GMT; Path=/\n",
      "header: Set-Cookie: TAUD=LG-1685062943236-2.1.F.*RDD-2-2023_05_26*HDD-3-2023_06_04.2023_06_05.1; Domain=.tripadvisor.co.id; Expires=Fri, 09-Jun-2023 01:02:23 GMT; Path=/\n",
      "header: Set-Cookie: TASID=7F3E636A509547439EF8D60DAFEB3C73; Domain=www.tripadvisor.co.id; Expires=Fri, 26-May-2023 01:32:23 GMT; Path=/; Secure\n",
      "header: Set-Cookie: TAReturnTo=%1%%2FHotel_Review-g469404-d4875851-Reviews-or25-La_House-Seminyak_Kuta_District_Bali.html; Domain=.tripadvisor.co.id; Path=/\n",
      "header: Set-Cookie: datadome=3uDYPSQD3FNGGg~ZD~EAv7RgA8hvNUYFOnevDq7D11irWbPyEjqd8uZXkKoZUnknBwHb1JNY~4mRtQUTghKwmD1RnCsxPdFs0ugoemDR~9ykg-DyleWAEBIcBTR~U5M2; Max-Age=31104000; Domain=.tripadvisor.co.id; Path=/; Secure; SameSite=Lax\n",
      "Done Scrapping La House page 5\n",
      "\n",
      "\n"
     ]
    },
    {
     "name": "stderr",
     "output_type": "stream",
     "text": [
      "DEBUG:urllib3.connectionpool:Starting new HTTPS connection (1): www.tripadvisor.co.id:443\n"
     ]
    },
    {
     "name": "stdout",
     "output_type": "stream",
     "text": [
      "send: b'GET /Hotel_Review-g469404-d4875851-Reviews-or30-La_House-Seminyak_Kuta_District_Bali.html HTTP/1.1\\r\\nHost: www.tripadvisor.co.id\\r\\nUser-Agent: Mozilla/5.0 (X11; CrOS x86_64 12871.102.0) AppleWebKit/537.36 (KHTML, like Gecko) Chrome/81.0.4044.141 Safari/537.36\\r\\nAccept-Encoding: gzip, deflate\\r\\nAccept: */*\\r\\nConnection: keep-alive\\r\\n\\r\\n'\n"
     ]
    },
    {
     "name": "stderr",
     "output_type": "stream",
     "text": [
      "DEBUG:urllib3.connectionpool:https://www.tripadvisor.co.id:443 \"GET /Hotel_Review-g469404-d4875851-Reviews-or30-La_House-Seminyak_Kuta_District_Bali.html HTTP/1.1\" 200 None\n"
     ]
    },
    {
     "name": "stdout",
     "output_type": "stream",
     "text": [
      "reply: 'HTTP/1.1 200 OK\\r\\n'\n",
      "header: Server: envoy\n",
      "header: Link: <https://media-cdn.tripadvisor.com/media/>;rel=\"preconnect\";crossorigin\n",
      "header: Link: <https://media-cdn.tripadvisor.com/media/>;rel=\"dns-prefetch\"\n",
      "header: p3p: CP=\"NOI CURa ADMa DEVa TAIa OUR BUS IND UNI COM NAV INT DSP COR CAO PSA IDC ADM DEVi TAIi PSD IVAi IVDi CONi HIS CNT\"\n",
      "header: Pragma: no-cache\n",
      "header: Cache-Control: no-cache, no-store, must-revalidate\n",
      "header: Expires: 0\n",
      "header: Content-Language: id\n",
      "header: Link: <https://static.tacdn.com>;rel=\"dns-prefetch\"\n",
      "header: Link: <https://static.tacdn.com>;rel=\"preconnect\";crossorigin\n",
      "header: timing-allow-origin: https://www.tripadvisor.com\n",
      "header: Vary: Accept-Encoding\n",
      "header: Content-Type: text/html;charset=UTF-8\n",
      "header: x-datadome: protected\n",
      "header: Accept-CH: Sec-CH-UA,Sec-CH-UA-Mobile,Sec-CH-UA-Platform,Sec-CH-UA-Arch,Sec-CH-UA-Full-Version-List,Sec-CH-UA-Model,Sec-CH-Device-Memory\n",
      "header: Content-Encoding: gzip\n",
      "header: x-request-id: 3c6dff96-8179-4f7d-9682-da9f8400e95f\n",
      "header: Date: Fri, 26 May 2023 01:02:28 GMT\n",
      "header: Transfer-Encoding: chunked\n",
      "header: Connection: keep-alive\n",
      "header: Connection: Transfer-Encoding\n",
      "header: Set-Cookie: TADCID=6g6ZahIhzmyPrJkMABQCXdElnkGETRW-Svh01l3nWnXCa-kxxo2KU2WU6Gst9QaBk8gEeTT7wcA4l-rH176ZpiqzOiTho9fPWag; Domain=www.tripadvisor.co.id; Expires=Mon, 23-May-2033 01:02:27 GMT; Path=/; Secure; HttpOnly\n",
      "header: Set-Cookie: TAUnique=%1%enc%3AuiwQP9Jn%2BeH%2B7H78yfwekiHKVVkteNxIJLUUaFriGqU2jHwltRJPGQ%3D%3D; Domain=.tripadvisor.co.id; Expires=Sun, 25-May-2025 01:02:27 GMT; Path=/; HttpOnly\n",
      "header: Set-Cookie: TASSK=enc%3AAA8DKM5CmEmdScTukpf3kAeyW6Hikrh2r1qQBAnkphRs9%2FTXINe2rlrZfMYvaAdIhtPbE5OzNIV9R6Kf82BL%2FE4%2BUE4Q6C1XHDl2WJ9THM5oe3XKdw7vxdP4mIgCNLGyfA%3D%3D; Domain=www.tripadvisor.co.id; Expires=Wed, 22-Nov-2023 01:02:28 GMT; Path=/; HttpOnly\n",
      "header: Set-Cookie: TASession=V2ID.0962F7874FF045808E2059D0AAB97BA4*SQ.1*HS.recommended*ES.popularity*DS.5*SAS.popularity*FPS.oldFirst*LF.in*FA.1*DF.0*TRA.true*LD.4875851; Domain=.tripadvisor.co.id; Path=/\n",
      "header: Set-Cookie: ServerPool=X; Domain=.tripadvisor.co.id; Path=/\n",
      "header: Set-Cookie: PMC=V2*MS.57*MD.20230525*LD.20230525; Domain=www.tripadvisor.co.id; Expires=Sun, 25-May-2025 01:02:28 GMT; Path=/; Secure; HttpOnly\n",
      "header: Set-Cookie: TART=%1%enc%3A%2Fux%2B%2FMn8HpJ%2B867yFQi1DRDbJmEkvbT2WS4M%2FrBaFIpSEB1mYfgewdTQo8VkUp7mAUtuxWemFUE%3D; Domain=www.tripadvisor.co.id; Expires=Wed, 31-May-2023 01:02:28 GMT; Path=/; HttpOnly\n",
      "header: Set-Cookie: CM=%1%PremiumMobSess%2C%2C-1%7Ct4b-pc%2C%2C-1%7CRestAds%2FRPers%2C%2C-1%7CRCPers%2C%2C-1%7CWShadeSeen%2C%2C-1%7CTheForkMCCPers%2C%2C-1%7CHomeASess%2C%2C-1%7CPremiumMCSess%2C%2C-1%7CCrisisSess%2C%2C-1%7CUVOwnersSess%2C%2C-1%7CRestPremRSess%2C%2C-1%7CRepTarMCSess%2C%2C-1%7CCCSess%2C%2C-1%7CCYLSess%2C%2C-1%7CPremRetPers%2C%2C-1%7CViatorMCPers%2C%2C-1%7Csesssticker%2C%2C-1%7C%24%2C%2C-1%7CPremiumORSess%2C%2C-1%7Ct4b-sc%2C%2C-1%7CRestAdsPers%2C%2C-1%7CMC_IB_UPSELL_IB_LOGOS2%2C%2C-1%7CTSMCPers%2C%2C-1%7Cb2bmcpers%2C%2C-1%7CPremMCBtmSess%2C%2C-1%7CMC_IB_UPSELL_IB_LOGOS%2C%2C-1%7CLaFourchette+Banners%2C%2C-1%7Csess_rev%2C%2C-1%7Csessamex%2C%2C-1%7CPremiumRRSess%2C%2C-1%7CTADORSess%2C%2C-1%7CAdsRetPers%2C%2C-1%7CListMCSess%2C%2C-1%7CTARSWBPers%2C%2C-1%7CSPMCSess%2C%2C-1%7CTheForkORSess%2C%2C-1%7CTheForkRRSess%2C%2C-1%7Cpers_rev%2C%2C-1%7CRBAPers%2C%2C-1%7CRestAds%2FRSess%2C%2C-1%7CHomeAPers%2C%2C-1%7CPremiumMobPers%2C%2C-1%7CRCSess%2C%2C-1%7CLaFourchette+MC+Banners%2C%2C-1%7CRestAdsCCSess%2C%2C-1%7CRestPremRPers%2C%2C-1%7CRevHubRMPers%2C%2C-1%7CUVOwnersPers%2C%2C-1%7Cpssamex%2C%2C-1%7CTheForkMCCSess%2C%2C-1%7CCrisisPers%2C%2C-1%7CCYLPers%2C%2C-1%7CCCPers%2C%2C-1%7CRepTarMCPers%2C%2C-1%7Cb2bmcsess%2C%2C-1%7CTSMCSess%2C%2C-1%7CSPMCPers%2C%2C-1%7CRevHubRMSess%2C%2C-1%7CPremRetSess%2C%2C-1%7CViatorMCSess%2C%2C-1%7CPremiumMCPers%2C%2C-1%7CAdsRetSess%2C%2C-1%7CPremiumRRPers%2C%2C-1%7CRestAdsCCPers%2C%2C-1%7CTADORPers%2C%2C-1%7CTheForkORPers%2C%2C-1%7CPremMCBtmPers%2C%2C-1%7CTheForkRRPers%2C%2C-1%7CTARSWBSess%2C%2C-1%7CPremiumORPers%2C%2C-1%7CRestAdsSess%2C%2C-1%7CRBASess%2C%2C-1%7CSPORPers%2C%2C-1%7Cperssticker%2C%2C-1%7CListMCPers%2C%2C-1%7C; Domain=.tripadvisor.co.id; Expires=Mon, 23-May-2033 01:02:28 GMT; Path=/\n",
      "header: Set-Cookie: BEPIN=%1%18855941443%3Bweb472a.a.tripadvisor.com%3A30023%3B; Domain=.tripadvisor.co.id; Path=/\n",
      "header: Set-Cookie: PAC=AP1MXIw1MTXWd3VIDYH-DJojRGCW-JPTVKUKoB2k_YWZawHnvEG2nJ2ASzGct3tlmdQRygLtL311EkdcYw4F_k4QxyDD5Zm50VF2jii0dw0bVEkA_yf8Ujn0IUIxNgyHXZN6UhBtxCzvnBrpsAlSLm-M8nMvvD6KpeKrqSo7Caa-FR4LAVnmn8FuKl-Q0AqTXFOtOoBdUg6dpOjvdvSddXE%3D; Domain=www.tripadvisor.co.id; Expires=Sun, 25-May-2025 01:02:28 GMT; Path=/; Secure; HttpOnly\n",
      "header: Set-Cookie: SRT=TART_SYNC; Domain=www.tripadvisor.co.id; Expires=Fri, 26-May-2023 01:32:28 GMT; Path=/\n",
      "header: Set-Cookie: TATravelInfo=V2*AY.2023*AM.6*AD.4*DY.2023*DM.6*DD.5*A.2*MG.-1*HP.2*FL.3*DSM.1685062948017*RS.1; Domain=.tripadvisor.co.id; Expires=Fri, 09-Jun-2023 01:02:28 GMT; Path=/\n",
      "header: Set-Cookie: TAUD=LG-1685062947874-2.1.F.*RDD-2-2023_05_26*HDD-3-2023_06_04.2023_06_05.1; Domain=.tripadvisor.co.id; Expires=Fri, 09-Jun-2023 01:02:28 GMT; Path=/\n",
      "header: Set-Cookie: TASID=0962F7874FF045808E2059D0AAB97BA4; Domain=www.tripadvisor.co.id; Expires=Fri, 26-May-2023 01:32:28 GMT; Path=/; Secure\n",
      "header: Set-Cookie: TAReturnTo=%1%%2FHotel_Review-g469404-d4875851-Reviews-or30-La_House-Seminyak_Kuta_District_Bali.html; Domain=.tripadvisor.co.id; Path=/\n",
      "header: Set-Cookie: datadome=3WPtIUF07WdlZE_KHOX7eY2FZBz0SM3ak-ZISSiMZRzYK~wJDb6_U7bzJwmuo6zcV24E61jQxVkEuz~WIZdObPyInGeI2b9ZvEM_FJ--q7EHBxOlvu_SyapSAaldhcj~; Max-Age=31104000; Domain=.tripadvisor.co.id; Path=/; Secure; SameSite=Lax\n",
      "Done Scrapping La House page 6\n",
      "\n",
      "\n"
     ]
    },
    {
     "name": "stderr",
     "output_type": "stream",
     "text": [
      "DEBUG:urllib3.connectionpool:Starting new HTTPS connection (1): www.tripadvisor.co.id:443\n"
     ]
    },
    {
     "name": "stdout",
     "output_type": "stream",
     "text": [
      "send: b'GET /Hotel_Review-g469404-d4875851-Reviews-or35-La_House-Seminyak_Kuta_District_Bali.html HTTP/1.1\\r\\nHost: www.tripadvisor.co.id\\r\\nUser-Agent: Mozilla/5.0 (X11; CrOS x86_64 12871.102.0) AppleWebKit/537.36 (KHTML, like Gecko) Chrome/81.0.4044.141 Safari/537.36\\r\\nAccept-Encoding: gzip, deflate\\r\\nAccept: */*\\r\\nConnection: keep-alive\\r\\n\\r\\n'\n"
     ]
    },
    {
     "name": "stderr",
     "output_type": "stream",
     "text": [
      "DEBUG:urllib3.connectionpool:https://www.tripadvisor.co.id:443 \"GET /Hotel_Review-g469404-d4875851-Reviews-or35-La_House-Seminyak_Kuta_District_Bali.html HTTP/1.1\" 200 None\n"
     ]
    },
    {
     "name": "stdout",
     "output_type": "stream",
     "text": [
      "reply: 'HTTP/1.1 200 OK\\r\\n'\n",
      "header: Server: envoy\n",
      "header: Link: <https://media-cdn.tripadvisor.com/media/>;rel=\"preconnect\";crossorigin\n",
      "header: Link: <https://media-cdn.tripadvisor.com/media/>;rel=\"dns-prefetch\"\n",
      "header: p3p: CP=\"NOI CURa ADMa DEVa TAIa OUR BUS IND UNI COM NAV INT DSP COR CAO PSA IDC ADM DEVi TAIi PSD IVAi IVDi CONi HIS CNT\"\n",
      "header: Pragma: no-cache\n",
      "header: Cache-Control: no-cache, no-store, must-revalidate\n",
      "header: Expires: 0\n",
      "header: Content-Language: id\n",
      "header: Link: <https://static.tacdn.com>;rel=\"dns-prefetch\"\n",
      "header: Link: <https://static.tacdn.com>;rel=\"preconnect\";crossorigin\n",
      "header: timing-allow-origin: https://www.tripadvisor.com\n",
      "header: Vary: Accept-Encoding\n",
      "header: Content-Type: text/html;charset=UTF-8\n",
      "header: Accept-CH: Sec-CH-UA,Sec-CH-UA-Mobile,Sec-CH-UA-Platform,Sec-CH-UA-Arch,Sec-CH-UA-Full-Version-List,Sec-CH-UA-Model,Sec-CH-Device-Memory\n",
      "header: x-datadome: protected\n",
      "header: Content-Encoding: gzip\n",
      "header: x-request-id: 160334f7-83a9-4b8e-a77f-4982363e5fa0\n",
      "header: Date: Fri, 26 May 2023 01:02:33 GMT\n",
      "header: Transfer-Encoding: chunked\n",
      "header: Connection: keep-alive\n",
      "header: Connection: Transfer-Encoding\n",
      "header: Set-Cookie: TADCID=zMizaHQDbVD9mnGKABQCXdElnkGETRW-Svh01l3nWnXCawlE1ugoqzNO4IHTcsH-wU7bWetfwC5t_2-Zv0ErilC6SOZY03cFBIg; Domain=www.tripadvisor.co.id; Expires=Mon, 23-May-2033 01:02:32 GMT; Path=/; Secure; HttpOnly\n",
      "header: Set-Cookie: TAUnique=%1%enc%3AlhNrw2ubFUv%2B7H78yfwekiHKVVkteNxIoS2iwFljjDY2jHwltRJPGQ%3D%3D; Domain=.tripadvisor.co.id; Expires=Sun, 25-May-2025 01:02:32 GMT; Path=/; HttpOnly\n",
      "header: Set-Cookie: TASSK=enc%3AAOxLguMre6o8hGm1mCVmwKyFvF3QKT6VO8uEryEji4oVxJDXpHW70pJFHQuly88TeIfgJM7O7kzTtGj0hhQwaNUXb0UE9%2FiGWRtz5Ys6Px6niKYnTpJ3ULFEnrQ%2FveowgQ%3D%3D; Domain=www.tripadvisor.co.id; Expires=Wed, 22-Nov-2023 01:02:33 GMT; Path=/; HttpOnly\n",
      "header: Set-Cookie: TASession=V2ID.DF3FF4FDD3A640F7B494F9B8B63EC755*SQ.1*HS.recommended*ES.popularity*DS.5*SAS.popularity*FPS.oldFirst*LF.in*FA.1*DF.0*TRA.true*LD.4875851; Domain=.tripadvisor.co.id; Path=/\n",
      "header: Set-Cookie: ServerPool=A; Domain=.tripadvisor.co.id; Path=/\n",
      "header: Set-Cookie: PMC=V2*MS.58*MD.20230525*LD.20230525; Domain=www.tripadvisor.co.id; Expires=Sun, 25-May-2025 01:02:33 GMT; Path=/; Secure; HttpOnly\n",
      "header: Set-Cookie: TART=%1%enc%3A%2Fux%2B%2FMn8HpJn9baspMGZipaN2p0B1cX2sELoMiyEyM1R4o%2BrZUCLEWzcNV0xhnh8RsNr41gHGgI%3D; Domain=www.tripadvisor.co.id; Expires=Wed, 31-May-2023 01:02:33 GMT; Path=/; HttpOnly\n",
      "header: Set-Cookie: CM=%1%PremiumMobSess%2C%2C-1%7Ct4b-pc%2C%2C-1%7CRestAds%2FRPers%2C%2C-1%7CRCPers%2C%2C-1%7CWShadeSeen%2C%2C-1%7CTheForkMCCPers%2C%2C-1%7CHomeASess%2C%2C-1%7CPremiumMCSess%2C%2C-1%7CCrisisSess%2C%2C-1%7CUVOwnersSess%2C%2C-1%7CRestPremRSess%2C%2C-1%7CRepTarMCSess%2C%2C-1%7CCCSess%2C%2C-1%7CCYLSess%2C%2C-1%7CPremRetPers%2C%2C-1%7CViatorMCPers%2C%2C-1%7Csesssticker%2C%2C-1%7C%24%2C%2C-1%7CPremiumORSess%2C%2C-1%7Ct4b-sc%2C%2C-1%7CRestAdsPers%2C%2C-1%7CMC_IB_UPSELL_IB_LOGOS2%2C%2C-1%7CTSMCPers%2C%2C-1%7Cb2bmcpers%2C%2C-1%7CPremMCBtmSess%2C%2C-1%7CMC_IB_UPSELL_IB_LOGOS%2C%2C-1%7CLaFourchette+Banners%2C%2C-1%7Csess_rev%2C%2C-1%7Csessamex%2C%2C-1%7CPremiumRRSess%2C%2C-1%7CTADORSess%2C%2C-1%7CAdsRetPers%2C%2C-1%7CListMCSess%2C%2C-1%7CTARSWBPers%2C%2C-1%7CSPMCSess%2C%2C-1%7CTheForkORSess%2C%2C-1%7CTheForkRRSess%2C%2C-1%7Cpers_rev%2C%2C-1%7CRBAPers%2C%2C-1%7CRestAds%2FRSess%2C%2C-1%7CHomeAPers%2C%2C-1%7CPremiumMobPers%2C%2C-1%7CRCSess%2C%2C-1%7CLaFourchette+MC+Banners%2C%2C-1%7CRestAdsCCSess%2C%2C-1%7CRestPremRPers%2C%2C-1%7CRevHubRMPers%2C%2C-1%7CUVOwnersPers%2C%2C-1%7Cpssamex%2C%2C-1%7CTheForkMCCSess%2C%2C-1%7CCrisisPers%2C%2C-1%7CCYLPers%2C%2C-1%7CCCPers%2C%2C-1%7CRepTarMCPers%2C%2C-1%7Cb2bmcsess%2C%2C-1%7CTSMCSess%2C%2C-1%7CSPMCPers%2C%2C-1%7CRevHubRMSess%2C%2C-1%7CPremRetSess%2C%2C-1%7CViatorMCSess%2C%2C-1%7CPremiumMCPers%2C%2C-1%7CAdsRetSess%2C%2C-1%7CPremiumRRPers%2C%2C-1%7CRestAdsCCPers%2C%2C-1%7CTADORPers%2C%2C-1%7CTheForkORPers%2C%2C-1%7CPremMCBtmPers%2C%2C-1%7CTheForkRRPers%2C%2C-1%7CTARSWBSess%2C%2C-1%7CPremiumORPers%2C%2C-1%7CRestAdsSess%2C%2C-1%7CRBASess%2C%2C-1%7CSPORPers%2C%2C-1%7Cperssticker%2C%2C-1%7CListMCPers%2C%2C-1%7C; Domain=.tripadvisor.co.id; Expires=Mon, 23-May-2033 01:02:33 GMT; Path=/\n",
      "header: Set-Cookie: BEPIN=%1%1885594269f%3Bweb270a.a.tripadvisor.com%3A30023%3B; Domain=.tripadvisor.co.id; Path=/\n",
      "header: Set-Cookie: PAC=AMvhDde43lL3d1_e_L46pAYqAwacQ0wiO906sW8VZXc6H5nFQAirFrNALJr1r2UnTnS23TS2gav0boL4xJxOvk6zZi5AZIgZfvmzkx6lNijiRNnp9BJkqTlxK5ufEpxG-EJGwpmVPLCm8SOLVQbATv-KkDPbqMmSkyq3G21cgvZvLHIMMXH3RatZ8FDeQrykgq3TSA3uYjxy1LgtfBB9KiM%3D; Domain=www.tripadvisor.co.id; Expires=Sun, 25-May-2025 01:02:33 GMT; Path=/; Secure; HttpOnly\n",
      "header: Set-Cookie: SRT=TART_SYNC; Domain=www.tripadvisor.co.id; Expires=Fri, 26-May-2023 01:32:33 GMT; Path=/\n",
      "header: Set-Cookie: TATravelInfo=V2*AY.2023*AM.6*AD.4*DY.2023*DM.6*DD.5*A.2*MG.-1*HP.2*FL.3*DSM.1685062952703*RS.1; Domain=.tripadvisor.co.id; Expires=Fri, 09-Jun-2023 01:02:33 GMT; Path=/\n",
      "header: Set-Cookie: TAUD=LG-1685062952573-2.1.F.*RDD-2-2023_05_26*HDD-3-2023_06_04.2023_06_05.1; Domain=.tripadvisor.co.id; Expires=Fri, 09-Jun-2023 01:02:33 GMT; Path=/\n",
      "header: Set-Cookie: TASID=DF3FF4FDD3A640F7B494F9B8B63EC755; Domain=www.tripadvisor.co.id; Expires=Fri, 26-May-2023 01:32:33 GMT; Path=/; Secure\n",
      "header: Set-Cookie: TAReturnTo=%1%%2FHotel_Review-g469404-d4875851-Reviews-or35-La_House-Seminyak_Kuta_District_Bali.html; Domain=.tripadvisor.co.id; Path=/\n",
      "header: Set-Cookie: datadome=3fgb0k5xbytDfpc7NX9IhH_IN740q4SzRmePAVGLuBZBrZhf-9b7nMDFWPK_otCbDEtCPexWErABJC2kW8yST22CJEpUXLIRnh7DP2NXRh-KWDx_HfnrMTqbiAUFaKfl; Max-Age=31104000; Domain=.tripadvisor.co.id; Path=/; Secure; SameSite=Lax\n",
      "Done Scrapping La House page 7\n",
      "\n",
      "\n"
     ]
    },
    {
     "name": "stderr",
     "output_type": "stream",
     "text": [
      "DEBUG:urllib3.connectionpool:Starting new HTTPS connection (1): www.tripadvisor.co.id:443\n"
     ]
    },
    {
     "name": "stdout",
     "output_type": "stream",
     "text": [
      "send: b'GET /Hotel_Review-g469404-d4875851-Reviews-or40-La_House-Seminyak_Kuta_District_Bali.html HTTP/1.1\\r\\nHost: www.tripadvisor.co.id\\r\\nUser-Agent: Mozilla/5.0 (X11; CrOS x86_64 12871.102.0) AppleWebKit/537.36 (KHTML, like Gecko) Chrome/81.0.4044.141 Safari/537.36\\r\\nAccept-Encoding: gzip, deflate\\r\\nAccept: */*\\r\\nConnection: keep-alive\\r\\n\\r\\n'\n"
     ]
    },
    {
     "name": "stderr",
     "output_type": "stream",
     "text": [
      "DEBUG:urllib3.connectionpool:https://www.tripadvisor.co.id:443 \"GET /Hotel_Review-g469404-d4875851-Reviews-or40-La_House-Seminyak_Kuta_District_Bali.html HTTP/1.1\" 200 None\n"
     ]
    },
    {
     "name": "stdout",
     "output_type": "stream",
     "text": [
      "reply: 'HTTP/1.1 200 OK\\r\\n'\n",
      "header: Server: envoy\n",
      "header: Link: <https://media-cdn.tripadvisor.com/media/>;rel=\"preconnect\";crossorigin\n",
      "header: Link: <https://media-cdn.tripadvisor.com/media/>;rel=\"dns-prefetch\"\n",
      "header: p3p: CP=\"NOI CURa ADMa DEVa TAIa OUR BUS IND UNI COM NAV INT DSP COR CAO PSA IDC ADM DEVi TAIi PSD IVAi IVDi CONi HIS CNT\"\n",
      "header: Pragma: no-cache\n",
      "header: Cache-Control: no-cache, no-store, must-revalidate\n",
      "header: Expires: 0\n",
      "header: Content-Language: id\n",
      "header: Link: <https://static.tacdn.com>;rel=\"dns-prefetch\"\n",
      "header: Link: <https://static.tacdn.com>;rel=\"preconnect\";crossorigin\n",
      "header: timing-allow-origin: https://www.tripadvisor.com\n",
      "header: Vary: Accept-Encoding\n",
      "header: Content-Type: text/html;charset=UTF-8\n",
      "header: Accept-CH: Sec-CH-UA,Sec-CH-UA-Mobile,Sec-CH-UA-Platform,Sec-CH-UA-Arch,Sec-CH-UA-Full-Version-List,Sec-CH-UA-Model,Sec-CH-Device-Memory\n",
      "header: x-datadome: protected\n",
      "header: Content-Encoding: gzip\n",
      "header: x-request-id: d7f67e7e-e4ab-4307-b3b5-31cdaf0b2032\n",
      "header: Date: Fri, 26 May 2023 01:02:37 GMT\n",
      "header: Transfer-Encoding: chunked\n",
      "header: Connection: keep-alive\n",
      "header: Connection: Transfer-Encoding\n",
      "header: Set-Cookie: TADCID=AuXdFgj2jqpS3mQPABQCXdElnkGETRW-Svh01l3nWnXCa3VSu-oJxG38MiAN5gCaiehtABSKTHtb0cRyy1nHxFdQdCrFebyq1II; Domain=www.tripadvisor.co.id; Expires=Mon, 23-May-2033 01:02:37 GMT; Path=/; Secure; HttpOnly\n",
      "header: Set-Cookie: TAUnique=%1%enc%3AJD1l2SeBZdX%2B7H78yfwekiHKVVkteNxIqVz4jtbsIkY2jHwltRJPGQ%3D%3D; Domain=.tripadvisor.co.id; Expires=Sun, 25-May-2025 01:02:37 GMT; Path=/; HttpOnly\n",
      "header: Set-Cookie: TASSK=enc%3AAMskoJS%2F5mPGrUmAmr8GYLS35V8lUk5DG8WE5Ipx0YcH3lwHxmNQBf9zLk0hOrq4JxW6zE%2FrNex1DOAivgE0c3Lq2NSy6elyTYvc8KRuumWJ%2B7uRC3cv4oX1SodUlGsd2A%3D%3D; Domain=www.tripadvisor.co.id; Expires=Wed, 22-Nov-2023 01:02:37 GMT; Path=/; HttpOnly\n",
      "header: Set-Cookie: TASession=V2ID.2EE106DC349646719006CE50132D6CB7*SQ.1*HS.recommended*ES.popularity*DS.5*SAS.popularity*FPS.oldFirst*LF.in*FA.1*DF.0*TRA.true*LD.4875851; Domain=.tripadvisor.co.id; Path=/\n",
      "header: Set-Cookie: ServerPool=A; Domain=.tripadvisor.co.id; Path=/\n",
      "header: Set-Cookie: PMC=V2*MS.76*MD.20230525*LD.20230525; Domain=www.tripadvisor.co.id; Expires=Sun, 25-May-2025 01:02:37 GMT; Path=/; Secure; HttpOnly\n",
      "header: Set-Cookie: TART=%1%enc%3A%2Fux%2B%2FMn8HpLUlcasLC%2BeZNeG4mcAoCwR8mLO39QVFPg5v7q0nCd8XsaEUORwB0dXNULCL3ymXx4%3D; Domain=www.tripadvisor.co.id; Expires=Wed, 31-May-2023 01:02:37 GMT; Path=/; HttpOnly\n",
      "header: Set-Cookie: CM=%1%PremiumMobSess%2C%2C-1%7Ct4b-pc%2C%2C-1%7CRestAds%2FRPers%2C%2C-1%7CRCPers%2C%2C-1%7CWShadeSeen%2C%2C-1%7CTheForkMCCPers%2C%2C-1%7CHomeASess%2C%2C-1%7CPremiumMCSess%2C%2C-1%7CCrisisSess%2C%2C-1%7CUVOwnersSess%2C%2C-1%7CRestPremRSess%2C%2C-1%7CRepTarMCSess%2C%2C-1%7CCCSess%2C%2C-1%7CCYLSess%2C%2C-1%7CPremRetPers%2C%2C-1%7CViatorMCPers%2C%2C-1%7Csesssticker%2C%2C-1%7C%24%2C%2C-1%7CPremiumORSess%2C%2C-1%7Ct4b-sc%2C%2C-1%7CRestAdsPers%2C%2C-1%7CMC_IB_UPSELL_IB_LOGOS2%2C%2C-1%7CTSMCPers%2C%2C-1%7Cb2bmcpers%2C%2C-1%7CPremMCBtmSess%2C%2C-1%7CMC_IB_UPSELL_IB_LOGOS%2C%2C-1%7CLaFourchette+Banners%2C%2C-1%7Csess_rev%2C%2C-1%7Csessamex%2C%2C-1%7CPremiumRRSess%2C%2C-1%7CTADORSess%2C%2C-1%7CAdsRetPers%2C%2C-1%7CListMCSess%2C%2C-1%7CTARSWBPers%2C%2C-1%7CSPMCSess%2C%2C-1%7CTheForkORSess%2C%2C-1%7CTheForkRRSess%2C%2C-1%7Cpers_rev%2C%2C-1%7CRBAPers%2C%2C-1%7CRestAds%2FRSess%2C%2C-1%7CHomeAPers%2C%2C-1%7CPremiumMobPers%2C%2C-1%7CRCSess%2C%2C-1%7CLaFourchette+MC+Banners%2C%2C-1%7CRestAdsCCSess%2C%2C-1%7CRestPremRPers%2C%2C-1%7CRevHubRMPers%2C%2C-1%7CUVOwnersPers%2C%2C-1%7Cpssamex%2C%2C-1%7CTheForkMCCSess%2C%2C-1%7CCrisisPers%2C%2C-1%7CCYLPers%2C%2C-1%7CCCPers%2C%2C-1%7CRepTarMCPers%2C%2C-1%7Cb2bmcsess%2C%2C-1%7CTSMCSess%2C%2C-1%7CSPMCPers%2C%2C-1%7CRevHubRMSess%2C%2C-1%7CPremRetSess%2C%2C-1%7CViatorMCSess%2C%2C-1%7CPremiumMCPers%2C%2C-1%7CAdsRetSess%2C%2C-1%7CPremiumRRPers%2C%2C-1%7CRestAdsCCPers%2C%2C-1%7CTADORPers%2C%2C-1%7CTheForkORPers%2C%2C-1%7CPremMCBtmPers%2C%2C-1%7CTheForkRRPers%2C%2C-1%7CTARSWBSess%2C%2C-1%7CPremiumORPers%2C%2C-1%7CRestAdsSess%2C%2C-1%7CRBASess%2C%2C-1%7CSPORPers%2C%2C-1%7Cperssticker%2C%2C-1%7CListMCPers%2C%2C-1%7C; Domain=.tripadvisor.co.id; Expires=Mon, 23-May-2033 01:02:37 GMT; Path=/\n",
      "header: Set-Cookie: BEPIN=%1%188559438b6%3Bweb191a.a.tripadvisor.com%3A30023%3B; Domain=.tripadvisor.co.id; Path=/\n",
      "header: Set-Cookie: PAC=AAz1EC2dyzFbshvlKlDwzWQr8pTIE19L2-V8SHqe2QjGuZ8IRqM37wW5NOG0ZKMp18mRpw4MJlk5yGyGIdDhMfR9wQNBPJSYImRsf-Et3jl3D8NJoTrz946zzU6H1P0e4YTjx5zhlk5DQkx88t51UiJrtnbJJLu5lmD3HfpDc-DfcHsf0Ice_bqUcaJt09Q344qCnhNTueLg38DEzCv2zcA%3D; Domain=www.tripadvisor.co.id; Expires=Sun, 25-May-2025 01:02:37 GMT; Path=/; Secure; HttpOnly\n",
      "header: Set-Cookie: SRT=TART_SYNC; Domain=www.tripadvisor.co.id; Expires=Fri, 26-May-2023 01:32:37 GMT; Path=/\n",
      "header: Set-Cookie: TATravelInfo=V2*AY.2023*AM.6*AD.4*DY.2023*DM.6*DD.5*A.2*MG.-1*HP.2*FL.3*DSM.1685062957331*RS.1; Domain=.tripadvisor.co.id; Expires=Fri, 09-Jun-2023 01:02:37 GMT; Path=/\n",
      "header: Set-Cookie: TAUD=LG-1685062957200-2.1.F.*RDD-2-2023_05_26*HDD-3-2023_06_04.2023_06_05.1; Domain=.tripadvisor.co.id; Expires=Fri, 09-Jun-2023 01:02:37 GMT; Path=/\n",
      "header: Set-Cookie: TASID=2EE106DC349646719006CE50132D6CB7; Domain=www.tripadvisor.co.id; Expires=Fri, 26-May-2023 01:32:37 GMT; Path=/; Secure\n",
      "header: Set-Cookie: TAReturnTo=%1%%2FHotel_Review-g469404-d4875851-Reviews-or40-La_House-Seminyak_Kuta_District_Bali.html; Domain=.tripadvisor.co.id; Path=/\n",
      "header: Set-Cookie: datadome=5PDiJaB7yDtNmXQRigv~93-Y37-AQil6WpeCcJJhH~ecYMbbRjkgvOr-LiZ1SLv4wkprGdAW7bGdxTJJ8VlCMjsOmVldsebRJXHw2Q6GtrOqjlKKQmhrve2TSKihsFz0; Max-Age=31104000; Domain=.tripadvisor.co.id; Path=/; Secure; SameSite=Lax\n",
      "Done Scrapping La House page 8\n",
      "\n",
      "\n"
     ]
    },
    {
     "name": "stderr",
     "output_type": "stream",
     "text": [
      "DEBUG:urllib3.connectionpool:Starting new HTTPS connection (1): www.tripadvisor.co.id:443\n"
     ]
    },
    {
     "name": "stdout",
     "output_type": "stream",
     "text": [
      "send: b'GET /Hotel_Review-g469404-d4875851-Reviews-or45-La_House-Seminyak_Kuta_District_Bali.html HTTP/1.1\\r\\nHost: www.tripadvisor.co.id\\r\\nUser-Agent: Mozilla/5.0 (X11; CrOS x86_64 12871.102.0) AppleWebKit/537.36 (KHTML, like Gecko) Chrome/81.0.4044.141 Safari/537.36\\r\\nAccept-Encoding: gzip, deflate\\r\\nAccept: */*\\r\\nConnection: keep-alive\\r\\n\\r\\n'\n"
     ]
    },
    {
     "name": "stderr",
     "output_type": "stream",
     "text": [
      "DEBUG:urllib3.connectionpool:https://www.tripadvisor.co.id:443 \"GET /Hotel_Review-g469404-d4875851-Reviews-or45-La_House-Seminyak_Kuta_District_Bali.html HTTP/1.1\" 200 None\n"
     ]
    },
    {
     "name": "stdout",
     "output_type": "stream",
     "text": [
      "reply: 'HTTP/1.1 200 OK\\r\\n'\n",
      "header: Server: envoy\n",
      "header: Link: <https://media-cdn.tripadvisor.com/media/>;rel=\"preconnect\";crossorigin\n",
      "header: Link: <https://media-cdn.tripadvisor.com/media/>;rel=\"dns-prefetch\"\n",
      "header: p3p: CP=\"NOI CURa ADMa DEVa TAIa OUR BUS IND UNI COM NAV INT DSP COR CAO PSA IDC ADM DEVi TAIi PSD IVAi IVDi CONi HIS CNT\"\n",
      "header: Pragma: no-cache\n",
      "header: Cache-Control: no-cache, no-store, must-revalidate\n",
      "header: Expires: 0\n",
      "header: Content-Language: id\n",
      "header: Link: <https://static.tacdn.com>;rel=\"dns-prefetch\"\n",
      "header: Link: <https://static.tacdn.com>;rel=\"preconnect\";crossorigin\n",
      "header: timing-allow-origin: https://www.tripadvisor.com\n",
      "header: Vary: Accept-Encoding\n",
      "header: Content-Type: text/html;charset=UTF-8\n",
      "header: x-datadome: protected\n",
      "header: Accept-CH: Sec-CH-UA,Sec-CH-UA-Mobile,Sec-CH-UA-Platform,Sec-CH-UA-Arch,Sec-CH-UA-Full-Version-List,Sec-CH-UA-Model,Sec-CH-Device-Memory\n",
      "header: Content-Encoding: gzip\n",
      "header: x-request-id: 38910481-6538-4787-bbce-fc2411ba56ac\n",
      "header: Date: Fri, 26 May 2023 01:02:42 GMT\n",
      "header: Transfer-Encoding: chunked\n",
      "header: Connection: keep-alive\n",
      "header: Connection: Transfer-Encoding\n",
      "header: Set-Cookie: TADCID=TR3XmLEHvzKMYZ-SABQCXdElnkGETRW-Svh01l3nWnXCaw3oAzy3eewTejQgL4CpVPSHC039-QFnhUqLzCAt0EHv51F6d7Ugi5I; Domain=www.tripadvisor.co.id; Expires=Mon, 23-May-2033 01:02:42 GMT; Path=/; Secure; HttpOnly\n",
      "header: Set-Cookie: TAUnique=%1%enc%3AHomNDJ68eYX%2B7H78yfwekiHKVVkteNxIUttP8e0jCyE2jHwltRJPGQ%3D%3D; Domain=.tripadvisor.co.id; Expires=Sun, 25-May-2025 01:02:42 GMT; Path=/; HttpOnly\n",
      "header: Set-Cookie: TASSK=enc%3AAD6yeiYsqmOXquwJLPWQ8Ae%2FAIzpJlzwK1nMKn8ryTcZQOPhF1%2BiziPFZCBwbrzRXwHUvLFiqt9uRuo0e3%2BoHOA2Cr7aE7dKbKXOujmLnBWMIf0etZ%2FWu2XkUvWKyOWs3A%3D%3D; Domain=www.tripadvisor.co.id; Expires=Wed, 22-Nov-2023 01:02:42 GMT; Path=/; HttpOnly\n",
      "header: Set-Cookie: TASession=V2ID.34804D8151E1405C8A13CB5BB155F747*SQ.1*HS.recommended*ES.popularity*DS.5*SAS.popularity*FPS.oldFirst*LF.in*FA.1*DF.0*TRA.true*LD.4875851; Domain=.tripadvisor.co.id; Path=/\n",
      "header: Set-Cookie: ServerPool=T; Domain=.tripadvisor.co.id; Path=/\n",
      "header: Set-Cookie: PMC=V2*MS.2*MD.20230525*LD.20230525; Domain=www.tripadvisor.co.id; Expires=Sun, 25-May-2025 01:02:42 GMT; Path=/; Secure; HttpOnly\n",
      "header: Set-Cookie: TART=%1%enc%3A%2Fux%2B%2FMn8HpIR9FEC7ghoAd8g%2BmQEl1uhi1PvG8ZKpMyFGElQD4V8nvHgqiTugnoIJ7r1iEgl44g%3D; Domain=www.tripadvisor.co.id; Expires=Wed, 31-May-2023 01:02:42 GMT; Path=/; HttpOnly\n",
      "header: Set-Cookie: CM=%1%PremiumMobSess%2C%2C-1%7Ct4b-pc%2C%2C-1%7CRestAds%2FRPers%2C%2C-1%7CRCPers%2C%2C-1%7CWShadeSeen%2C%2C-1%7CTheForkMCCPers%2C%2C-1%7CHomeASess%2C%2C-1%7CPremiumMCSess%2C%2C-1%7CCrisisSess%2C%2C-1%7CUVOwnersSess%2C%2C-1%7CRestPremRSess%2C%2C-1%7CRepTarMCSess%2C%2C-1%7CCCSess%2C%2C-1%7CCYLSess%2C%2C-1%7CPremRetPers%2C%2C-1%7CViatorMCPers%2C%2C-1%7Csesssticker%2C%2C-1%7C%24%2C%2C-1%7CPremiumORSess%2C%2C-1%7Ct4b-sc%2C%2C-1%7CRestAdsPers%2C%2C-1%7CMC_IB_UPSELL_IB_LOGOS2%2C%2C-1%7CTSMCPers%2C%2C-1%7Cb2bmcpers%2C%2C-1%7CPremMCBtmSess%2C%2C-1%7CMC_IB_UPSELL_IB_LOGOS%2C%2C-1%7CLaFourchette+Banners%2C%2C-1%7Csess_rev%2C%2C-1%7Csessamex%2C%2C-1%7CPremiumRRSess%2C%2C-1%7CTADORSess%2C%2C-1%7CAdsRetPers%2C%2C-1%7CListMCSess%2C%2C-1%7CTARSWBPers%2C%2C-1%7CSPMCSess%2C%2C-1%7CTheForkORSess%2C%2C-1%7CTheForkRRSess%2C%2C-1%7Cpers_rev%2C%2C-1%7CRBAPers%2C%2C-1%7CRestAds%2FRSess%2C%2C-1%7CHomeAPers%2C%2C-1%7CPremiumMobPers%2C%2C-1%7CRCSess%2C%2C-1%7CLaFourchette+MC+Banners%2C%2C-1%7CRestAdsCCSess%2C%2C-1%7CRestPremRPers%2C%2C-1%7CRevHubRMPers%2C%2C-1%7CUVOwnersPers%2C%2C-1%7Cpssamex%2C%2C-1%7CTheForkMCCSess%2C%2C-1%7CCrisisPers%2C%2C-1%7CCYLPers%2C%2C-1%7CCCPers%2C%2C-1%7CRepTarMCPers%2C%2C-1%7Cb2bmcsess%2C%2C-1%7CTSMCSess%2C%2C-1%7CSPMCPers%2C%2C-1%7CRevHubRMSess%2C%2C-1%7CPremRetSess%2C%2C-1%7CViatorMCSess%2C%2C-1%7CPremiumMCPers%2C%2C-1%7CAdsRetSess%2C%2C-1%7CPremiumRRPers%2C%2C-1%7CRestAdsCCPers%2C%2C-1%7CTADORPers%2C%2C-1%7CTheForkORPers%2C%2C-1%7CPremMCBtmPers%2C%2C-1%7CTheForkRRPers%2C%2C-1%7CTARSWBSess%2C%2C-1%7CPremiumORPers%2C%2C-1%7CRestAdsSess%2C%2C-1%7CRBASess%2C%2C-1%7CSPORPers%2C%2C-1%7Cperssticker%2C%2C-1%7CListMCPers%2C%2C-1%7C; Domain=.tripadvisor.co.id; Expires=Mon, 23-May-2033 01:02:42 GMT; Path=/\n",
      "header: Set-Cookie: BEPIN=%1%18855944b9f%3Bweb272a.a.tripadvisor.com%3A30023%3B; Domain=.tripadvisor.co.id; Path=/\n",
      "header: Set-Cookie: PAC=AEwxbbt2RpygMadmow5D3XZjpIkLUI5AIiqH-RO9NpCvlOTOQIr8LHVRkaXm8a2nBPz60lXDgUc7S51jfvaIMXqzYvHgOZJu-xVZVJMCpv6Xqk6BYBZCEuZONo2gCXYOfF5Kct3SWateQPeDW7aIRxWTEou0ts1OsybWGNW8gv3aWu7o9RVG9knaZhB649PzYPyo7zL9XxLLozeVhuWtS_U%3D; Domain=www.tripadvisor.co.id; Expires=Sun, 25-May-2025 01:02:42 GMT; Path=/; Secure; HttpOnly\n",
      "header: Set-Cookie: SRT=TART_SYNC; Domain=www.tripadvisor.co.id; Expires=Fri, 26-May-2023 01:32:42 GMT; Path=/\n",
      "header: Set-Cookie: TATravelInfo=V2*AY.2023*AM.6*AD.4*DY.2023*DM.6*DD.5*A.2*MG.-1*HP.2*FL.3*DSM.1685062962171*RS.1; Domain=.tripadvisor.co.id; Expires=Fri, 09-Jun-2023 01:02:42 GMT; Path=/\n",
      "header: Set-Cookie: TAUD=LG-1685062962062-2.1.F.*RDD-2-2023_05_26*HDD-3-2023_06_04.2023_06_05.1; Domain=.tripadvisor.co.id; Expires=Fri, 09-Jun-2023 01:02:42 GMT; Path=/\n",
      "header: Set-Cookie: TASID=34804D8151E1405C8A13CB5BB155F747; Domain=www.tripadvisor.co.id; Expires=Fri, 26-May-2023 01:32:42 GMT; Path=/; Secure\n",
      "header: Set-Cookie: TAReturnTo=%1%%2FHotel_Review-g469404-d4875851-Reviews-or45-La_House-Seminyak_Kuta_District_Bali.html; Domain=.tripadvisor.co.id; Path=/\n",
      "header: Set-Cookie: datadome=2~nWkQrIvHPMi8J1p1HA-sGkQYXDSLoLgPKpt4XvLImJCzPUz-3ZbO4VD67ya0hEhTKYKOpMo3CTzm4Hok52e8mmI1yCyQ3iwZHdc2BD_wpZKVt4v0nVpNQgru2s2_wK; Max-Age=31104000; Domain=.tripadvisor.co.id; Path=/; Secure; SameSite=Lax\n",
      "Done Scrapping La House page 9\n",
      "\n",
      "\n"
     ]
    },
    {
     "name": "stderr",
     "output_type": "stream",
     "text": [
      "DEBUG:urllib3.connectionpool:Starting new HTTPS connection (1): www.tripadvisor.co.id:443\n"
     ]
    },
    {
     "name": "stdout",
     "output_type": "stream",
     "text": [
      "send: b'GET /Hotel_Review-g469404-d4875851-Reviews-or50-La_House-Seminyak_Kuta_District_Bali.html HTTP/1.1\\r\\nHost: www.tripadvisor.co.id\\r\\nUser-Agent: Mozilla/5.0 (X11; CrOS x86_64 12871.102.0) AppleWebKit/537.36 (KHTML, like Gecko) Chrome/81.0.4044.141 Safari/537.36\\r\\nAccept-Encoding: gzip, deflate\\r\\nAccept: */*\\r\\nConnection: keep-alive\\r\\n\\r\\n'\n"
     ]
    },
    {
     "name": "stderr",
     "output_type": "stream",
     "text": [
      "DEBUG:urllib3.connectionpool:https://www.tripadvisor.co.id:443 \"GET /Hotel_Review-g469404-d4875851-Reviews-or50-La_House-Seminyak_Kuta_District_Bali.html HTTP/1.1\" 200 None\n"
     ]
    },
    {
     "name": "stdout",
     "output_type": "stream",
     "text": [
      "reply: 'HTTP/1.1 200 OK\\r\\n'\n",
      "header: Server: envoy\n",
      "header: Link: <https://media-cdn.tripadvisor.com/media/>;rel=\"preconnect\";crossorigin\n",
      "header: Link: <https://media-cdn.tripadvisor.com/media/>;rel=\"dns-prefetch\"\n",
      "header: p3p: CP=\"NOI CURa ADMa DEVa TAIa OUR BUS IND UNI COM NAV INT DSP COR CAO PSA IDC ADM DEVi TAIi PSD IVAi IVDi CONi HIS CNT\"\n",
      "header: Pragma: no-cache\n",
      "header: Cache-Control: no-cache, no-store, must-revalidate\n",
      "header: Expires: 0\n",
      "header: Content-Language: id\n",
      "header: Link: <https://static.tacdn.com>;rel=\"dns-prefetch\"\n",
      "header: Link: <https://static.tacdn.com>;rel=\"preconnect\";crossorigin\n",
      "header: timing-allow-origin: https://www.tripadvisor.com\n",
      "header: Vary: Accept-Encoding\n",
      "header: Content-Type: text/html;charset=UTF-8\n",
      "header: Accept-CH: Sec-CH-UA,Sec-CH-UA-Mobile,Sec-CH-UA-Platform,Sec-CH-UA-Arch,Sec-CH-UA-Full-Version-List,Sec-CH-UA-Model,Sec-CH-Device-Memory\n",
      "header: x-datadome: protected\n",
      "header: Content-Encoding: gzip\n",
      "header: x-request-id: 63fd6d6b-f839-40ae-89be-4809b0f73ea0\n",
      "header: Date: Fri, 26 May 2023 01:02:47 GMT\n",
      "header: Transfer-Encoding: chunked\n",
      "header: Connection: keep-alive\n",
      "header: Connection: Transfer-Encoding\n",
      "header: Set-Cookie: TADCID=Ddo9pVDl-WvqQ2CnABQCXdElnkGETRW-Svh01l3nWnXCa-yIc3MeyvmeKRNWJeNM9pAGWVfAB_gRyAlOHluyEseoYgEUnJ88w4A; Domain=www.tripadvisor.co.id; Expires=Mon, 23-May-2033 01:02:46 GMT; Path=/; Secure; HttpOnly\n",
      "header: Set-Cookie: TAUnique=%1%enc%3ACMMOKLDtJ3v%2B7H78yfwekiHKVVkteNxI1BW%2BrjIBc2Q2jHwltRJPGQ%3D%3D; Domain=.tripadvisor.co.id; Expires=Sun, 25-May-2025 01:02:46 GMT; Path=/; HttpOnly\n",
      "header: Set-Cookie: TASSK=enc%3AAAgjd8ulM3Rs1IUGOcwVnKq6pJmYm9DNiEq0oih7OcLv%2BHjehgfXfVxPGmksN%2Bru2yFjR0Z3vsOHnaabQ2HBXxk%2F52MPTAMm0tVbq6sUadZyhOCytL0rEOBaT800FrbrHA%3D%3D; Domain=www.tripadvisor.co.id; Expires=Wed, 22-Nov-2023 01:02:47 GMT; Path=/; HttpOnly\n",
      "header: Set-Cookie: TASession=V2ID.5DC421201C5B45CCA05F203138184451*SQ.1*HS.recommended*ES.popularity*DS.5*SAS.popularity*FPS.oldFirst*LF.in*FA.1*DF.0*TRA.true*LD.4875851; Domain=.tripadvisor.co.id; Path=/\n",
      "header: Set-Cookie: ServerPool=B; Domain=.tripadvisor.co.id; Path=/\n",
      "header: Set-Cookie: PMC=V2*MS.86*MD.20230525*LD.20230525; Domain=www.tripadvisor.co.id; Expires=Sun, 25-May-2025 01:02:47 GMT; Path=/; Secure; HttpOnly\n",
      "header: Set-Cookie: TART=%1%enc%3A%2Fux%2B%2FMn8HpLfnkBY1qRzM6tc9hTHdIFlReAP1FM9jo9Te8HfazfmeTtOSdJbJfAHfYtftmnsPgU%3D; Domain=www.tripadvisor.co.id; Expires=Wed, 31-May-2023 01:02:47 GMT; Path=/; HttpOnly\n",
      "header: Set-Cookie: CM=%1%PremiumMobSess%2C%2C-1%7Ct4b-pc%2C%2C-1%7CRestAds%2FRPers%2C%2C-1%7CRCPers%2C%2C-1%7CWShadeSeen%2C%2C-1%7CTheForkMCCPers%2C%2C-1%7CHomeASess%2C%2C-1%7CPremiumMCSess%2C%2C-1%7CCrisisSess%2C%2C-1%7CUVOwnersSess%2C%2C-1%7CRestPremRSess%2C%2C-1%7CRepTarMCSess%2C%2C-1%7CCCSess%2C%2C-1%7CCYLSess%2C%2C-1%7CPremRetPers%2C%2C-1%7CViatorMCPers%2C%2C-1%7Csesssticker%2C%2C-1%7C%24%2C%2C-1%7CPremiumORSess%2C%2C-1%7Ct4b-sc%2C%2C-1%7CRestAdsPers%2C%2C-1%7CMC_IB_UPSELL_IB_LOGOS2%2C%2C-1%7CTSMCPers%2C%2C-1%7Cb2bmcpers%2C%2C-1%7CPremMCBtmSess%2C%2C-1%7CMC_IB_UPSELL_IB_LOGOS%2C%2C-1%7CLaFourchette+Banners%2C%2C-1%7Csess_rev%2C%2C-1%7Csessamex%2C%2C-1%7CPremiumRRSess%2C%2C-1%7CTADORSess%2C%2C-1%7CAdsRetPers%2C%2C-1%7CListMCSess%2C%2C-1%7CTARSWBPers%2C%2C-1%7CSPMCSess%2C%2C-1%7CTheForkORSess%2C%2C-1%7CTheForkRRSess%2C%2C-1%7Cpers_rev%2C%2C-1%7CRBAPers%2C%2C-1%7CRestAds%2FRSess%2C%2C-1%7CHomeAPers%2C%2C-1%7CPremiumMobPers%2C%2C-1%7CRCSess%2C%2C-1%7CLaFourchette+MC+Banners%2C%2C-1%7CRestAdsCCSess%2C%2C-1%7CRestPremRPers%2C%2C-1%7CRevHubRMPers%2C%2C-1%7CUVOwnersPers%2C%2C-1%7Cpssamex%2C%2C-1%7CTheForkMCCSess%2C%2C-1%7CCrisisPers%2C%2C-1%7CCYLPers%2C%2C-1%7CCCPers%2C%2C-1%7CRepTarMCPers%2C%2C-1%7Cb2bmcsess%2C%2C-1%7CTSMCSess%2C%2C-1%7CSPMCPers%2C%2C-1%7CRevHubRMSess%2C%2C-1%7CPremRetSess%2C%2C-1%7CViatorMCSess%2C%2C-1%7CPremiumMCPers%2C%2C-1%7CAdsRetSess%2C%2C-1%7CPremiumRRPers%2C%2C-1%7CRestAdsCCPers%2C%2C-1%7CTADORPers%2C%2C-1%7CTheForkORPers%2C%2C-1%7CPremMCBtmPers%2C%2C-1%7CTheForkRRPers%2C%2C-1%7CTARSWBSess%2C%2C-1%7CPremiumORPers%2C%2C-1%7CRestAdsSess%2C%2C-1%7CRBASess%2C%2C-1%7CSPORPers%2C%2C-1%7Cperssticker%2C%2C-1%7CListMCPers%2C%2C-1%7C; Domain=.tripadvisor.co.id; Expires=Mon, 23-May-2033 01:02:47 GMT; Path=/\n",
      "header: Set-Cookie: BEPIN=%1%18855945d77%3Bweb218a.a.tripadvisor.com%3A30023%3B; Domain=.tripadvisor.co.id; Path=/\n",
      "header: Set-Cookie: PAC=AFLv5zZEEzUlXeQl3bS7F5wIwVlx-1YoMC2ikcIDrLsCxOCpWLqOReE25LWz7bCNbXl8prX83_ArKu2ElVrfyqqoihmOap2o1-Muwx481-FI3EteuL8HSTtpCnJGXg-iXJxQ-EbvzX71xPxBKKVc1FsJEM8SzMlFORY8qMOoxEbMyZafjEyPrHWPR6eruku-9KIARzwcvOFlQ9h5SknUQRc%3D; Domain=www.tripadvisor.co.id; Expires=Sun, 25-May-2025 01:02:47 GMT; Path=/; Secure; HttpOnly\n",
      "header: Set-Cookie: SRT=TART_SYNC; Domain=www.tripadvisor.co.id; Expires=Fri, 26-May-2023 01:32:47 GMT; Path=/\n",
      "header: Set-Cookie: TATravelInfo=V2*AY.2023*AM.6*AD.4*DY.2023*DM.6*DD.5*A.2*MG.-1*HP.2*FL.3*DSM.1685062966736*RS.1; Domain=.tripadvisor.co.id; Expires=Fri, 09-Jun-2023 01:02:47 GMT; Path=/\n",
      "header: Set-Cookie: TAUD=LG-1685062966617-2.1.F.*RDD-2-2023_05_26*HDD-3-2023_06_04.2023_06_05.1; Domain=.tripadvisor.co.id; Expires=Fri, 09-Jun-2023 01:02:47 GMT; Path=/\n",
      "header: Set-Cookie: TASID=5DC421201C5B45CCA05F203138184451; Domain=www.tripadvisor.co.id; Expires=Fri, 26-May-2023 01:32:47 GMT; Path=/; Secure\n",
      "header: Set-Cookie: TAReturnTo=%1%%2FHotel_Review-g469404-d4875851-Reviews-or50-La_House-Seminyak_Kuta_District_Bali.html; Domain=.tripadvisor.co.id; Path=/\n",
      "header: Set-Cookie: datadome=3TJu4Qvjzc4uH6dkaAoqdw7xHZr9Ham05bXNTrN6qVUTg799~aR~k6wflKFVRk6~7wCf-1tFev7tskaHtdzIDU855Eg8hV0Uq7ez0yBthtsE90FShKOtGoyFVBFwvT3V; Max-Age=31104000; Domain=.tripadvisor.co.id; Path=/; Secure; SameSite=Lax\n",
      "Done Scrapping La House page 10\n",
      "\n",
      "\n"
     ]
    },
    {
     "name": "stderr",
     "output_type": "stream",
     "text": [
      "DEBUG:urllib3.connectionpool:Starting new HTTPS connection (1): www.tripadvisor.co.id:443\n"
     ]
    },
    {
     "name": "stdout",
     "output_type": "stream",
     "text": [
      "send: b'GET /Hotel_Review-g469404-d4875851-Reviews-or55-La_House-Seminyak_Kuta_District_Bali.html HTTP/1.1\\r\\nHost: www.tripadvisor.co.id\\r\\nUser-Agent: Mozilla/5.0 (X11; CrOS x86_64 12871.102.0) AppleWebKit/537.36 (KHTML, like Gecko) Chrome/81.0.4044.141 Safari/537.36\\r\\nAccept-Encoding: gzip, deflate\\r\\nAccept: */*\\r\\nConnection: keep-alive\\r\\n\\r\\n'\n"
     ]
    },
    {
     "name": "stderr",
     "output_type": "stream",
     "text": [
      "DEBUG:urllib3.connectionpool:https://www.tripadvisor.co.id:443 \"GET /Hotel_Review-g469404-d4875851-Reviews-or55-La_House-Seminyak_Kuta_District_Bali.html HTTP/1.1\" 200 None\n"
     ]
    },
    {
     "name": "stdout",
     "output_type": "stream",
     "text": [
      "reply: 'HTTP/1.1 200 OK\\r\\n'\n",
      "header: Server: envoy\n",
      "header: Link: <https://media-cdn.tripadvisor.com/media/>;rel=\"preconnect\";crossorigin\n",
      "header: Link: <https://media-cdn.tripadvisor.com/media/>;rel=\"dns-prefetch\"\n",
      "header: p3p: CP=\"NOI CURa ADMa DEVa TAIa OUR BUS IND UNI COM NAV INT DSP COR CAO PSA IDC ADM DEVi TAIi PSD IVAi IVDi CONi HIS CNT\"\n",
      "header: Pragma: no-cache\n",
      "header: Cache-Control: no-cache, no-store, must-revalidate\n",
      "header: Expires: 0\n",
      "header: Content-Language: id\n",
      "header: Link: <https://static.tacdn.com>;rel=\"dns-prefetch\"\n",
      "header: Link: <https://static.tacdn.com>;rel=\"preconnect\";crossorigin\n",
      "header: timing-allow-origin: https://www.tripadvisor.com\n",
      "header: Vary: Accept-Encoding\n",
      "header: Content-Type: text/html;charset=UTF-8\n",
      "header: x-datadome: protected\n",
      "header: Accept-CH: Sec-CH-UA,Sec-CH-UA-Mobile,Sec-CH-UA-Platform,Sec-CH-UA-Arch,Sec-CH-UA-Full-Version-List,Sec-CH-UA-Model,Sec-CH-Device-Memory\n",
      "header: Content-Encoding: gzip\n",
      "header: x-request-id: 99637e59-ea81-4766-aa2d-436b0e60e467\n",
      "header: Date: Fri, 26 May 2023 01:02:51 GMT\n",
      "header: Transfer-Encoding: chunked\n",
      "header: Connection: keep-alive\n",
      "header: Connection: Transfer-Encoding\n",
      "header: Set-Cookie: TADCID=rtTewikEMKWB8xsUABQCXdElnkGETRW-Svh01l3nWnXCa52Ct5oC1gBRobqxmqldS3YIT17WA5qyMksLQunXAwil6x9aVOoA9tY; Domain=www.tripadvisor.co.id; Expires=Mon, 23-May-2033 01:02:50 GMT; Path=/; Secure; HttpOnly\n",
      "header: Set-Cookie: TAUnique=%1%enc%3AeHVMXz6hVrf%2B7H78yfwekiHKVVkteNxIpbzPD02jV%2B82jHwltRJPGQ%3D%3D; Domain=.tripadvisor.co.id; Expires=Sun, 25-May-2025 01:02:50 GMT; Path=/; HttpOnly\n",
      "header: Set-Cookie: TASSK=enc%3AAFFfkbhErMDHDnE%2FsvJaaamghM0HdL%2B1cJhr1dGKJQGPHDAJanW%2F9stsxJMhaXVtVWCHpz2mqJgmCaSKyz68RWQmP324EiHbcXzEQvn0l97CIs3YzA2818D0n2GI3Wt3oA%3D%3D; Domain=www.tripadvisor.co.id; Expires=Wed, 22-Nov-2023 01:02:51 GMT; Path=/; HttpOnly\n",
      "header: Set-Cookie: TASession=V2ID.FE4A77206A73409AA6B7DF06D9BBA598*SQ.1*HS.recommended*ES.popularity*DS.5*SAS.popularity*FPS.oldFirst*LF.in*FA.1*DF.0*TRA.true*LD.4875851; Domain=.tripadvisor.co.id; Path=/\n",
      "header: Set-Cookie: ServerPool=A; Domain=.tripadvisor.co.id; Path=/\n",
      "header: Set-Cookie: PMC=V2*MS.13*MD.20230525*LD.20230525; Domain=www.tripadvisor.co.id; Expires=Sun, 25-May-2025 01:02:51 GMT; Path=/; Secure; HttpOnly\n",
      "header: Set-Cookie: TART=%1%enc%3A%2Fux%2B%2FMn8HpKaKi%2FE6c%2FYtsh0%2F530i75yY7gHOwO3pq7pFg5aObrROtvHH5LdX%2BiPNULCL3ymXx4%3D; Domain=www.tripadvisor.co.id; Expires=Wed, 31-May-2023 01:02:51 GMT; Path=/; HttpOnly\n",
      "header: Set-Cookie: CM=%1%PremiumMobSess%2C%2C-1%7Ct4b-pc%2C%2C-1%7CRestAds%2FRPers%2C%2C-1%7CRCPers%2C%2C-1%7CWShadeSeen%2C%2C-1%7CTheForkMCCPers%2C%2C-1%7CHomeASess%2C%2C-1%7CPremiumMCSess%2C%2C-1%7CCrisisSess%2C%2C-1%7CUVOwnersSess%2C%2C-1%7CRestPremRSess%2C%2C-1%7CRepTarMCSess%2C%2C-1%7CCCSess%2C%2C-1%7CCYLSess%2C%2C-1%7CPremRetPers%2C%2C-1%7CViatorMCPers%2C%2C-1%7Csesssticker%2C%2C-1%7C%24%2C%2C-1%7CPremiumORSess%2C%2C-1%7Ct4b-sc%2C%2C-1%7CRestAdsPers%2C%2C-1%7CMC_IB_UPSELL_IB_LOGOS2%2C%2C-1%7CTSMCPers%2C%2C-1%7Cb2bmcpers%2C%2C-1%7CPremMCBtmSess%2C%2C-1%7CMC_IB_UPSELL_IB_LOGOS%2C%2C-1%7CLaFourchette+Banners%2C%2C-1%7Csess_rev%2C%2C-1%7Csessamex%2C%2C-1%7CPremiumRRSess%2C%2C-1%7CTADORSess%2C%2C-1%7CAdsRetPers%2C%2C-1%7CListMCSess%2C%2C-1%7CTARSWBPers%2C%2C-1%7CSPMCSess%2C%2C-1%7CTheForkORSess%2C%2C-1%7CTheForkRRSess%2C%2C-1%7Cpers_rev%2C%2C-1%7CRBAPers%2C%2C-1%7CRestAds%2FRSess%2C%2C-1%7CHomeAPers%2C%2C-1%7CPremiumMobPers%2C%2C-1%7CRCSess%2C%2C-1%7CLaFourchette+MC+Banners%2C%2C-1%7CRestAdsCCSess%2C%2C-1%7CRestPremRPers%2C%2C-1%7CRevHubRMPers%2C%2C-1%7CUVOwnersPers%2C%2C-1%7Cpssamex%2C%2C-1%7CTheForkMCCSess%2C%2C-1%7CCrisisPers%2C%2C-1%7CCYLPers%2C%2C-1%7CCCPers%2C%2C-1%7CRepTarMCPers%2C%2C-1%7Cb2bmcsess%2C%2C-1%7CTSMCSess%2C%2C-1%7CSPMCPers%2C%2C-1%7CRevHubRMSess%2C%2C-1%7CPremRetSess%2C%2C-1%7CViatorMCSess%2C%2C-1%7CPremiumMCPers%2C%2C-1%7CAdsRetSess%2C%2C-1%7CPremiumRRPers%2C%2C-1%7CRestAdsCCPers%2C%2C-1%7CTADORPers%2C%2C-1%7CTheForkORPers%2C%2C-1%7CPremMCBtmPers%2C%2C-1%7CTheForkRRPers%2C%2C-1%7CTARSWBSess%2C%2C-1%7CPremiumORPers%2C%2C-1%7CRestAdsSess%2C%2C-1%7CRBASess%2C%2C-1%7CSPORPers%2C%2C-1%7Cperssticker%2C%2C-1%7CListMCPers%2C%2C-1%7C; Domain=.tripadvisor.co.id; Expires=Mon, 23-May-2033 01:02:51 GMT; Path=/\n",
      "header: Set-Cookie: BEPIN=%1%18855946e6a%3Bweb251a.a.tripadvisor.com%3A30023%3B; Domain=.tripadvisor.co.id; Path=/\n",
      "header: Set-Cookie: PAC=AEw8Z9E9RhIeRxbHuALxNX6hCD72PdvpYOW5HUI9D7nN6gLMMcSuNn-3C2QAKnM5ngLAYUUnYCIK9-q6wyD6p_Pc5QAWwFIQrLuiBzIbxwZPAuRx_mO501fFZdaxY0IyRy0xs2ijFqDU20TGQ2g1JtGE1-hlkpEQptOovGiDpTeUfJWMepIoQIVewsCjEsZsZMwcwATNnBkpNwWEk1Ni4RI%3D; Domain=www.tripadvisor.co.id; Expires=Sun, 25-May-2025 01:02:51 GMT; Path=/; Secure; HttpOnly\n",
      "header: Set-Cookie: SRT=TART_SYNC; Domain=www.tripadvisor.co.id; Expires=Fri, 26-May-2023 01:32:51 GMT; Path=/\n",
      "header: Set-Cookie: TATravelInfo=V2*AY.2023*AM.6*AD.4*DY.2023*DM.6*DD.5*A.2*MG.-1*HP.2*FL.3*DSM.1685062971093*RS.1; Domain=.tripadvisor.co.id; Expires=Fri, 09-Jun-2023 01:02:51 GMT; Path=/\n",
      "header: Set-Cookie: TAUD=LG-1685062970968-2.1.F.*RDD-2-2023_05_26*HDD-3-2023_06_04.2023_06_05.1; Domain=.tripadvisor.co.id; Expires=Fri, 09-Jun-2023 01:02:51 GMT; Path=/\n",
      "header: Set-Cookie: TASID=FE4A77206A73409AA6B7DF06D9BBA598; Domain=www.tripadvisor.co.id; Expires=Fri, 26-May-2023 01:32:51 GMT; Path=/; Secure\n",
      "header: Set-Cookie: TAReturnTo=%1%%2FHotel_Review-g469404-d4875851-Reviews-or55-La_House-Seminyak_Kuta_District_Bali.html; Domain=.tripadvisor.co.id; Path=/\n",
      "header: Set-Cookie: datadome=0MpNuTnv4QROHsXahKtuez0BTVft-2Z02seBEuPaAeMJNNtzIOs-o~ePkAzR6fxiI9m-kykSs2_9XIalZcoBOQzgfyLw986aYvR7smglQvoXShnvyc0iKtW48ZN1y9vt; Max-Age=31104000; Domain=.tripadvisor.co.id; Path=/; Secure; SameSite=Lax\n",
      "Done Scrapping La House page 11\n",
      "\n",
      "\n"
     ]
    },
    {
     "name": "stderr",
     "output_type": "stream",
     "text": [
      "DEBUG:urllib3.connectionpool:Starting new HTTPS connection (1): www.tripadvisor.co.id:443\n"
     ]
    },
    {
     "name": "stdout",
     "output_type": "stream",
     "text": [
      "send: b'GET /Hotel_Review-g469404-d4875851-Reviews-or60-La_House-Seminyak_Kuta_District_Bali.html HTTP/1.1\\r\\nHost: www.tripadvisor.co.id\\r\\nUser-Agent: Mozilla/5.0 (X11; CrOS x86_64 12871.102.0) AppleWebKit/537.36 (KHTML, like Gecko) Chrome/81.0.4044.141 Safari/537.36\\r\\nAccept-Encoding: gzip, deflate\\r\\nAccept: */*\\r\\nConnection: keep-alive\\r\\n\\r\\n'\n"
     ]
    },
    {
     "name": "stderr",
     "output_type": "stream",
     "text": [
      "DEBUG:urllib3.connectionpool:https://www.tripadvisor.co.id:443 \"GET /Hotel_Review-g469404-d4875851-Reviews-or60-La_House-Seminyak_Kuta_District_Bali.html HTTP/1.1\" 200 None\n"
     ]
    },
    {
     "name": "stdout",
     "output_type": "stream",
     "text": [
      "reply: 'HTTP/1.1 200 OK\\r\\n'\n",
      "header: Server: envoy\n",
      "header: Link: <https://media-cdn.tripadvisor.com/media/>;rel=\"preconnect\";crossorigin\n",
      "header: Link: <https://media-cdn.tripadvisor.com/media/>;rel=\"dns-prefetch\"\n",
      "header: p3p: CP=\"NOI CURa ADMa DEVa TAIa OUR BUS IND UNI COM NAV INT DSP COR CAO PSA IDC ADM DEVi TAIi PSD IVAi IVDi CONi HIS CNT\"\n",
      "header: Pragma: no-cache\n",
      "header: Cache-Control: no-cache, no-store, must-revalidate\n",
      "header: Expires: 0\n",
      "header: Content-Language: id\n",
      "header: Link: <https://static.tacdn.com>;rel=\"dns-prefetch\"\n",
      "header: Link: <https://static.tacdn.com>;rel=\"preconnect\";crossorigin\n",
      "header: timing-allow-origin: https://www.tripadvisor.com\n",
      "header: Vary: Accept-Encoding\n",
      "header: Content-Type: text/html;charset=UTF-8\n",
      "header: x-datadome: protected\n",
      "header: Accept-CH: Sec-CH-UA,Sec-CH-UA-Mobile,Sec-CH-UA-Platform,Sec-CH-UA-Arch,Sec-CH-UA-Full-Version-List,Sec-CH-UA-Model,Sec-CH-Device-Memory\n",
      "header: Content-Encoding: gzip\n",
      "header: x-request-id: 39f7a70a-d3e2-45f6-8405-555bd8a9414f\n",
      "header: Date: Fri, 26 May 2023 01:02:56 GMT\n",
      "header: Transfer-Encoding: chunked\n",
      "header: Connection: keep-alive\n",
      "header: Connection: Transfer-Encoding\n",
      "header: Set-Cookie: TADCID=xeQVSzuB7Qa-E5ESABQCXdElnkGETRW-Svh01l3nWnXCa_92DF5-p0fzW4YZZ5NXM9rIafpOdIp83xZ80uDde-QOms_A70YUtsw; Domain=www.tripadvisor.co.id; Expires=Mon, 23-May-2033 01:02:55 GMT; Path=/; Secure; HttpOnly\n",
      "header: Set-Cookie: TAUnique=%1%enc%3AbmR9itff7Tb%2B7H78yfwekiHKVVkteNxIGExalvhNJL42jHwltRJPGQ%3D%3D; Domain=.tripadvisor.co.id; Expires=Sun, 25-May-2025 01:02:55 GMT; Path=/; HttpOnly\n",
      "header: Set-Cookie: TASSK=enc%3AAGrV0CpcHoT3U1yodqRGy6p%2BIcGJ7PDA0N55v5g74Qdr58BUSRAkY%2FrQZA%2Fp%2FTnTgx%2Bxy%2BmvLPQQkHB0ki9KX2cKMnfgVUCD0yXvV0%2FPbB9ImqpHV%2BbqktDIKGCtwwc44g%3D%3D; Domain=www.tripadvisor.co.id; Expires=Wed, 22-Nov-2023 01:02:55 GMT; Path=/; HttpOnly\n",
      "header: Set-Cookie: TASession=V2ID.C91984FE5A0A492F8A964456671BFFC5*SQ.1*HS.recommended*ES.popularity*DS.5*SAS.popularity*FPS.oldFirst*LF.in*FA.1*DF.0*TRA.true*LD.4875851; Domain=.tripadvisor.co.id; Path=/\n",
      "header: Set-Cookie: ServerPool=X; Domain=.tripadvisor.co.id; Path=/\n",
      "header: Set-Cookie: PMC=V2*MS.99*MD.20230525*LD.20230525; Domain=www.tripadvisor.co.id; Expires=Sun, 25-May-2025 01:02:55 GMT; Path=/; Secure; HttpOnly\n",
      "header: Set-Cookie: TART=%1%enc%3A%2Fux%2B%2FMn8HpL%2BbXgkm5U9%2Bsxt6X9Rp2Qkb%2BFv4cH%2BAouWZO2r0RY1Eww%2Fb27XetnnUHBdG3udNiw%3D; Domain=www.tripadvisor.co.id; Expires=Wed, 31-May-2023 01:02:55 GMT; Path=/; HttpOnly\n",
      "header: Set-Cookie: CM=%1%PremiumMobSess%2C%2C-1%7Ct4b-pc%2C%2C-1%7CRestAds%2FRPers%2C%2C-1%7CRCPers%2C%2C-1%7CWShadeSeen%2C%2C-1%7CTheForkMCCPers%2C%2C-1%7CHomeASess%2C%2C-1%7CPremiumMCSess%2C%2C-1%7CCrisisSess%2C%2C-1%7CUVOwnersSess%2C%2C-1%7CRestPremRSess%2C%2C-1%7CRepTarMCSess%2C%2C-1%7CCCSess%2C%2C-1%7CCYLSess%2C%2C-1%7CPremRetPers%2C%2C-1%7CViatorMCPers%2C%2C-1%7Csesssticker%2C%2C-1%7C%24%2C%2C-1%7CPremiumORSess%2C%2C-1%7Ct4b-sc%2C%2C-1%7CRestAdsPers%2C%2C-1%7CMC_IB_UPSELL_IB_LOGOS2%2C%2C-1%7CTSMCPers%2C%2C-1%7Cb2bmcpers%2C%2C-1%7CPremMCBtmSess%2C%2C-1%7CMC_IB_UPSELL_IB_LOGOS%2C%2C-1%7CLaFourchette+Banners%2C%2C-1%7Csess_rev%2C%2C-1%7Csessamex%2C%2C-1%7CPremiumRRSess%2C%2C-1%7CTADORSess%2C%2C-1%7CAdsRetPers%2C%2C-1%7CListMCSess%2C%2C-1%7CTARSWBPers%2C%2C-1%7CSPMCSess%2C%2C-1%7CTheForkORSess%2C%2C-1%7CTheForkRRSess%2C%2C-1%7Cpers_rev%2C%2C-1%7CRBAPers%2C%2C-1%7CRestAds%2FRSess%2C%2C-1%7CHomeAPers%2C%2C-1%7CPremiumMobPers%2C%2C-1%7CRCSess%2C%2C-1%7CLaFourchette+MC+Banners%2C%2C-1%7CRestAdsCCSess%2C%2C-1%7CRestPremRPers%2C%2C-1%7CRevHubRMPers%2C%2C-1%7CUVOwnersPers%2C%2C-1%7Cpssamex%2C%2C-1%7CTheForkMCCSess%2C%2C-1%7CCrisisPers%2C%2C-1%7CCYLPers%2C%2C-1%7CCCPers%2C%2C-1%7CRepTarMCPers%2C%2C-1%7Cb2bmcsess%2C%2C-1%7CTSMCSess%2C%2C-1%7CSPMCPers%2C%2C-1%7CRevHubRMSess%2C%2C-1%7CPremRetSess%2C%2C-1%7CViatorMCSess%2C%2C-1%7CPremiumMCPers%2C%2C-1%7CAdsRetSess%2C%2C-1%7CPremiumRRPers%2C%2C-1%7CRestAdsCCPers%2C%2C-1%7CTADORPers%2C%2C-1%7CTheForkORPers%2C%2C-1%7CPremMCBtmPers%2C%2C-1%7CTheForkRRPers%2C%2C-1%7CTARSWBSess%2C%2C-1%7CPremiumORPers%2C%2C-1%7CRestAdsSess%2C%2C-1%7CRBASess%2C%2C-1%7CSPORPers%2C%2C-1%7Cperssticker%2C%2C-1%7CListMCPers%2C%2C-1%7C; Domain=.tripadvisor.co.id; Expires=Mon, 23-May-2033 01:02:55 GMT; Path=/\n",
      "header: Set-Cookie: BEPIN=%1%18855947fa0%3Bweb225a.a.tripadvisor.com%3A30023%3B; Domain=.tripadvisor.co.id; Path=/\n",
      "header: Set-Cookie: PAC=ALRhNcoGVCX6e0AmRUD6hd_VJzbbj-STDnCud7srPCYqZWh4j4as5cmDcGkD4XQt4hKAMSpPp70HF_yf3fxPjrdHnv9Mt0evLdvT74XHI2q2CyG3okxxCa8bqkAdkvet14MZRgzc51PYs3uW5IA_8FgM4sNDc9cM5n-qM0jETe4BCdcGEib2uDwSGd4TdbUflNHyGOZ3rQSH1BLrssN6Uf0%3D; Domain=www.tripadvisor.co.id; Expires=Sun, 25-May-2025 01:02:55 GMT; Path=/; Secure; HttpOnly\n",
      "header: Set-Cookie: SRT=TART_SYNC; Domain=www.tripadvisor.co.id; Expires=Fri, 26-May-2023 01:32:55 GMT; Path=/\n",
      "header: Set-Cookie: TATravelInfo=V2*AY.2023*AM.6*AD.4*DY.2023*DM.6*DD.5*A.2*MG.-1*HP.2*FL.3*DSM.1685062975482*RS.1; Domain=.tripadvisor.co.id; Expires=Fri, 09-Jun-2023 01:02:55 GMT; Path=/\n",
      "header: Set-Cookie: TAUD=LG-1685062975370-2.1.F.*RDD-2-2023_05_26*HDD-3-2023_06_04.2023_06_05.1; Domain=.tripadvisor.co.id; Expires=Fri, 09-Jun-2023 01:02:55 GMT; Path=/\n",
      "header: Set-Cookie: TASID=C91984FE5A0A492F8A964456671BFFC5; Domain=www.tripadvisor.co.id; Expires=Fri, 26-May-2023 01:32:55 GMT; Path=/; Secure\n",
      "header: Set-Cookie: TAReturnTo=%1%%2FHotel_Review-g469404-d4875851-Reviews-or60-La_House-Seminyak_Kuta_District_Bali.html; Domain=.tripadvisor.co.id; Path=/\n",
      "header: Set-Cookie: datadome=7CFnKe7lYW0_8auaNjPOFb_Ix14cOpgb30tDR~avqTI0Y4WoRLKHxDBUtSflyKn4e0f2i7OMXC9Io1obLdJVBblXiHlH5utbMgTTGGCIWpqyFTc5c96qywhgSyLGDmoM; Max-Age=31104000; Domain=.tripadvisor.co.id; Path=/; Secure; SameSite=Lax\n"
     ]
    },
    {
     "name": "stderr",
     "output_type": "stream",
     "text": [
      "DEBUG:urllib3.connectionpool:Starting new HTTPS connection (1): www.tripadvisor.co.id:443\n"
     ]
    },
    {
     "name": "stdout",
     "output_type": "stream",
     "text": [
      "Start Scrapping:  Cloud Nine Estate\n",
      "send: b'GET /Hotel_Review-g297701-d9839093-Reviews-or5-Cloud_Nine_Estate-Ubud_Gianyar_Regency_Bali.html HTTP/1.1\\r\\nHost: www.tripadvisor.co.id\\r\\nUser-Agent: Mozilla/5.0 (X11; CrOS x86_64 12871.102.0) AppleWebKit/537.36 (KHTML, like Gecko) Chrome/81.0.4044.141 Safari/537.36\\r\\nAccept-Encoding: gzip, deflate\\r\\nAccept: */*\\r\\nConnection: keep-alive\\r\\n\\r\\n'\n"
     ]
    },
    {
     "name": "stderr",
     "output_type": "stream",
     "text": [
      "DEBUG:urllib3.connectionpool:https://www.tripadvisor.co.id:443 \"GET /Hotel_Review-g297701-d9839093-Reviews-or5-Cloud_Nine_Estate-Ubud_Gianyar_Regency_Bali.html HTTP/1.1\" 200 None\n"
     ]
    },
    {
     "name": "stdout",
     "output_type": "stream",
     "text": [
      "reply: 'HTTP/1.1 200 OK\\r\\n'\n",
      "header: Server: envoy\n",
      "header: Link: <https://media-cdn.tripadvisor.com/media/>;rel=\"preconnect\";crossorigin\n",
      "header: Link: <https://media-cdn.tripadvisor.com/media/>;rel=\"dns-prefetch\"\n",
      "header: p3p: CP=\"NOI CURa ADMa DEVa TAIa OUR BUS IND UNI COM NAV INT DSP COR CAO PSA IDC ADM DEVi TAIi PSD IVAi IVDi CONi HIS CNT\"\n",
      "header: Pragma: no-cache\n",
      "header: Cache-Control: no-cache, no-store, must-revalidate\n",
      "header: Expires: 0\n",
      "header: Content-Language: id\n",
      "header: Link: <https://static.tacdn.com>;rel=\"dns-prefetch\"\n",
      "header: Link: <https://static.tacdn.com>;rel=\"preconnect\";crossorigin\n",
      "header: timing-allow-origin: https://www.tripadvisor.com\n",
      "header: Vary: Accept-Encoding\n",
      "header: Content-Type: text/html;charset=UTF-8\n",
      "header: x-datadome: protected\n",
      "header: Accept-CH: Sec-CH-UA,Sec-CH-UA-Mobile,Sec-CH-UA-Platform,Sec-CH-UA-Arch,Sec-CH-UA-Full-Version-List,Sec-CH-UA-Model,Sec-CH-Device-Memory\n",
      "header: Content-Encoding: gzip\n",
      "header: x-request-id: 285cb8c9-8cda-43b6-bdb1-d4e50f9f7b76\n",
      "header: Date: Fri, 26 May 2023 01:02:57 GMT\n",
      "header: Transfer-Encoding: chunked\n",
      "header: Connection: keep-alive\n",
      "header: Connection: Transfer-Encoding\n",
      "header: Set-Cookie: TADCID=D4_bfBgYxknQuUwRABQCXdElnkGETRW-Svh01l3nWnXCazZE2hmf8Bx6GLNWpGLGFlw-GRup4xhov3Q8WvOezKRfKJ-q3RrFrS4; Domain=www.tripadvisor.co.id; Expires=Mon, 23-May-2033 01:02:56 GMT; Path=/; Secure; HttpOnly\n",
      "header: Set-Cookie: TAUnique=%1%enc%3Abq0FCgIn0Wf%2B7H78yfwekiHKVVkteNxIgkIKHyqG99A2jHwltRJPGQ%3D%3D; Domain=.tripadvisor.co.id; Expires=Sun, 25-May-2025 01:02:56 GMT; Path=/; HttpOnly\n",
      "header: Set-Cookie: TASSK=enc%3AANe5O35sZniqqKC%2F6PiZ6wrX4tDHZs7agQNglxGMyWXKZ3VmXcsZfmXhs8T0aE4Q02z5ohxRtXhPDSnMCCGcRVuCtfnVb7J5E4AubngA6kDcsrXaJ%2BsPXs%2F5ioMbXxZSmg%3D%3D; Domain=www.tripadvisor.co.id; Expires=Wed, 22-Nov-2023 01:02:57 GMT; Path=/; HttpOnly\n",
      "header: Set-Cookie: TASession=V2ID.F5C709EAB4E049CDAA937D5106830CFC*SQ.1*HS.recommended*ES.popularity*DS.5*SAS.popularity*FPS.oldFirst*LF.in*FA.1*DF.0*TRA.true*LD.9839093; Domain=.tripadvisor.co.id; Path=/\n",
      "header: Set-Cookie: ServerPool=T; Domain=.tripadvisor.co.id; Path=/\n",
      "header: Set-Cookie: PMC=V2*MS.52*MD.20230525*LD.20230525; Domain=www.tripadvisor.co.id; Expires=Sun, 25-May-2025 01:02:57 GMT; Path=/; Secure; HttpOnly\n",
      "header: Set-Cookie: TART=%1%enc%3A%2Fux%2B%2FMn8HpKtxrmpGBKSYfomfVAEO5BJ8nuQoMuG5ecwKaol6o8KU2gAhy50MP0IJ7r1iEgl44g%3D; Domain=www.tripadvisor.co.id; Expires=Wed, 31-May-2023 01:02:57 GMT; Path=/; HttpOnly\n",
      "header: Set-Cookie: CM=%1%PremiumMobSess%2C%2C-1%7Ct4b-pc%2C%2C-1%7CRestAds%2FRPers%2C%2C-1%7CRCPers%2C%2C-1%7CWShadeSeen%2C%2C-1%7CTheForkMCCPers%2C%2C-1%7CHomeASess%2C%2C-1%7CPremiumMCSess%2C%2C-1%7CCrisisSess%2C%2C-1%7CUVOwnersSess%2C%2C-1%7CRestPremRSess%2C%2C-1%7CRepTarMCSess%2C%2C-1%7CCCSess%2C%2C-1%7CCYLSess%2C%2C-1%7CPremRetPers%2C%2C-1%7CViatorMCPers%2C%2C-1%7Csesssticker%2C%2C-1%7C%24%2C%2C-1%7CPremiumORSess%2C%2C-1%7Ct4b-sc%2C%2C-1%7CRestAdsPers%2C%2C-1%7CMC_IB_UPSELL_IB_LOGOS2%2C%2C-1%7CTSMCPers%2C%2C-1%7Cb2bmcpers%2C%2C-1%7CPremMCBtmSess%2C%2C-1%7CMC_IB_UPSELL_IB_LOGOS%2C%2C-1%7CLaFourchette+Banners%2C%2C-1%7Csess_rev%2C%2C-1%7Csessamex%2C%2C-1%7CPremiumRRSess%2C%2C-1%7CTADORSess%2C%2C-1%7CAdsRetPers%2C%2C-1%7CListMCSess%2C%2C-1%7CTARSWBPers%2C%2C-1%7CSPMCSess%2C%2C-1%7CTheForkORSess%2C%2C-1%7CTheForkRRSess%2C%2C-1%7Cpers_rev%2C%2C-1%7CRBAPers%2C%2C-1%7CRestAds%2FRSess%2C%2C-1%7CHomeAPers%2C%2C-1%7CPremiumMobPers%2C%2C-1%7CRCSess%2C%2C-1%7CLaFourchette+MC+Banners%2C%2C-1%7CRestAdsCCSess%2C%2C-1%7CRestPremRPers%2C%2C-1%7CRevHubRMPers%2C%2C-1%7CUVOwnersPers%2C%2C-1%7Cpssamex%2C%2C-1%7CTheForkMCCSess%2C%2C-1%7CCrisisPers%2C%2C-1%7CCYLPers%2C%2C-1%7CCCPers%2C%2C-1%7CRepTarMCPers%2C%2C-1%7Cb2bmcsess%2C%2C-1%7CTSMCSess%2C%2C-1%7CSPMCPers%2C%2C-1%7CRevHubRMSess%2C%2C-1%7CPremRetSess%2C%2C-1%7CViatorMCSess%2C%2C-1%7CPremiumMCPers%2C%2C-1%7CAdsRetSess%2C%2C-1%7CPremiumRRPers%2C%2C-1%7CRestAdsCCPers%2C%2C-1%7CTADORPers%2C%2C-1%7CTheForkORPers%2C%2C-1%7CPremMCBtmPers%2C%2C-1%7CTheForkRRPers%2C%2C-1%7CTARSWBSess%2C%2C-1%7CPremiumORPers%2C%2C-1%7CRestAdsSess%2C%2C-1%7CRBASess%2C%2C-1%7CSPORPers%2C%2C-1%7Cperssticker%2C%2C-1%7CListMCPers%2C%2C-1%7C; Domain=.tripadvisor.co.id; Expires=Mon, 23-May-2033 01:02:57 GMT; Path=/\n",
      "header: Set-Cookie: BEPIN=%1%188559485a0%3Bweb379a.a.tripadvisor.com%3A30023%3B; Domain=.tripadvisor.co.id; Path=/\n",
      "header: Set-Cookie: PAC=AJWW0_nVoBKbm7SQ_czYptvWzxPeFRzI76tRiW0DhSymCMSSU63gqD9_Z7FRFkouTjBa7ZYDQ9hCw_kKmFvnjn5dof9QncxMGMY_OqgKomiz4aXvXDSyv81iKNAukzb4DrNuFI65SoYCyLVyROph2gPefgVtQ8D6fO5oxfYXS1ONO3jZlEzAPUGCn_T9JIq2pkDuvhfG5P2arWlFc6QztuShqJvSrSM9C9AWWOXlXsJZ; Domain=www.tripadvisor.co.id; Expires=Sun, 25-May-2025 01:02:57 GMT; Path=/; Secure; HttpOnly\n",
      "header: Set-Cookie: SRT=TART_SYNC; Domain=www.tripadvisor.co.id; Expires=Fri, 26-May-2023 01:32:57 GMT; Path=/\n",
      "header: Set-Cookie: TATravelInfo=V2*AY.2023*AM.6*AD.4*DY.2023*DM.6*DD.5*A.2*MG.-1*HP.2*FL.3*DSM.1685062977029*RS.1; Domain=.tripadvisor.co.id; Expires=Fri, 09-Jun-2023 01:02:57 GMT; Path=/\n",
      "header: Set-Cookie: TAUD=LG-1685062976910-2.1.F.*RDD-2-2023_05_26*HDD-3-2023_06_04.2023_06_05.1; Domain=.tripadvisor.co.id; Expires=Fri, 09-Jun-2023 01:02:57 GMT; Path=/\n",
      "header: Set-Cookie: TASID=F5C709EAB4E049CDAA937D5106830CFC; Domain=www.tripadvisor.co.id; Expires=Fri, 26-May-2023 01:32:57 GMT; Path=/; Secure\n",
      "header: Set-Cookie: TAReturnTo=%1%%2FHotel_Review-g297701-d9839093-Reviews-or5-Cloud_Nine_Estate-Ubud_Gianyar_Regency_Bali.html; Domain=.tripadvisor.co.id; Path=/\n",
      "header: Set-Cookie: datadome=6AIdV2uEypiK81mZtfAeaRUgOGDHUECckCar0LQHi0ABXNFwsFJS_q0afH5fBFZto1X0xLFfzFbxpwxDvaq_68axa67FinYlLE3BLE_15UXWba7a2X4z48NPj9bPMRCL; Max-Age=31104000; Domain=.tripadvisor.co.id; Path=/; Secure; SameSite=Lax\n",
      "Done Scrapping  Cloud Nine Estate page 1\n",
      "\n",
      "\n"
     ]
    },
    {
     "name": "stderr",
     "output_type": "stream",
     "text": [
      "DEBUG:urllib3.connectionpool:Starting new HTTPS connection (1): www.tripadvisor.co.id:443\n"
     ]
    },
    {
     "name": "stdout",
     "output_type": "stream",
     "text": [
      "send: b'GET /Hotel_Review-g297701-d9839093-Reviews-or10-Cloud_Nine_Estate-Ubud_Gianyar_Regency_Bali.html HTTP/1.1\\r\\nHost: www.tripadvisor.co.id\\r\\nUser-Agent: Mozilla/5.0 (X11; CrOS x86_64 12871.102.0) AppleWebKit/537.36 (KHTML, like Gecko) Chrome/81.0.4044.141 Safari/537.36\\r\\nAccept-Encoding: gzip, deflate\\r\\nAccept: */*\\r\\nConnection: keep-alive\\r\\n\\r\\n'\n"
     ]
    },
    {
     "name": "stderr",
     "output_type": "stream",
     "text": [
      "DEBUG:urllib3.connectionpool:https://www.tripadvisor.co.id:443 \"GET /Hotel_Review-g297701-d9839093-Reviews-or10-Cloud_Nine_Estate-Ubud_Gianyar_Regency_Bali.html HTTP/1.1\" 200 None\n"
     ]
    },
    {
     "name": "stdout",
     "output_type": "stream",
     "text": [
      "reply: 'HTTP/1.1 200 OK\\r\\n'\n",
      "header: Server: envoy\n",
      "header: Link: <https://media-cdn.tripadvisor.com/media/>;rel=\"preconnect\";crossorigin\n",
      "header: Link: <https://media-cdn.tripadvisor.com/media/>;rel=\"dns-prefetch\"\n",
      "header: p3p: CP=\"NOI CURa ADMa DEVa TAIa OUR BUS IND UNI COM NAV INT DSP COR CAO PSA IDC ADM DEVi TAIi PSD IVAi IVDi CONi HIS CNT\"\n",
      "header: Pragma: no-cache\n",
      "header: Cache-Control: no-cache, no-store, must-revalidate\n",
      "header: Expires: 0\n",
      "header: Content-Language: id\n",
      "header: Link: <https://static.tacdn.com>;rel=\"dns-prefetch\"\n",
      "header: Link: <https://static.tacdn.com>;rel=\"preconnect\";crossorigin\n",
      "header: timing-allow-origin: https://www.tripadvisor.com\n",
      "header: Vary: Accept-Encoding\n",
      "header: Content-Type: text/html;charset=UTF-8\n",
      "header: x-datadome: protected\n",
      "header: Accept-CH: Sec-CH-UA,Sec-CH-UA-Mobile,Sec-CH-UA-Platform,Sec-CH-UA-Arch,Sec-CH-UA-Full-Version-List,Sec-CH-UA-Model,Sec-CH-Device-Memory\n",
      "header: Content-Encoding: gzip\n",
      "header: x-request-id: a8a639af-432c-403d-9927-57e545c8d8bf\n",
      "header: Date: Fri, 26 May 2023 01:03:01 GMT\n",
      "header: Transfer-Encoding: chunked\n",
      "header: Connection: keep-alive\n",
      "header: Connection: Transfer-Encoding\n",
      "header: Set-Cookie: TADCID=-BoFFTGOCqDO7ZufABQCXdElnkGETRW-Svh01l3nWnXCbFm615bsU5mUMokVKgqGYpDPEh1OJWAJcF-GRfKxa6ufjGpn3lf0Uto; Domain=www.tripadvisor.co.id; Expires=Mon, 23-May-2033 01:03:01 GMT; Path=/; Secure; HttpOnly\n",
      "header: Set-Cookie: TAUnique=%1%enc%3AWgnoXZqSLJj%2B7H78yfwekiHKVVkteNxIo3fXu65truI2jHwltRJPGQ%3D%3D; Domain=.tripadvisor.co.id; Expires=Sun, 25-May-2025 01:03:01 GMT; Path=/; HttpOnly\n",
      "header: Set-Cookie: TASSK=enc%3AACBGLDtGtWkto7ejO6xFJJQgs88X%2FpoQK%2BLYsHe3fvTKuzU%2FKzWFqsmJwHfD9tBM7eRcx3OzZFsGhPAm6u6MTzOXzJxt%2Fg02%2FnCZA1wUda90qJHwkF3bjxvB%2BKbxARf8QA%3D%3D; Domain=www.tripadvisor.co.id; Expires=Wed, 22-Nov-2023 01:03:01 GMT; Path=/; HttpOnly\n",
      "header: Set-Cookie: TASession=V2ID.0449D29F808D4F19998323FBB930F114*SQ.1*HS.recommended*ES.popularity*DS.5*SAS.popularity*FPS.oldFirst*LF.in*FA.1*DF.0*TRA.true*LD.9839093; Domain=.tripadvisor.co.id; Path=/\n",
      "header: Set-Cookie: ServerPool=A; Domain=.tripadvisor.co.id; Path=/\n",
      "header: Set-Cookie: PMC=V2*MS.21*MD.20230525*LD.20230525; Domain=www.tripadvisor.co.id; Expires=Sun, 25-May-2025 01:03:01 GMT; Path=/; Secure; HttpOnly\n",
      "header: Set-Cookie: TART=%1%enc%3A%2Fux%2B%2FMn8HpKdVyZRZQfpJ9kzMKnsgdO49HMDwResRpTsAEGo%2BpVClg8CGWOLcp%2Bn5jVki%2Fentws%3D; Domain=www.tripadvisor.co.id; Expires=Wed, 31-May-2023 01:03:01 GMT; Path=/; HttpOnly\n",
      "header: Set-Cookie: CM=%1%PremiumMobSess%2C%2C-1%7Ct4b-pc%2C%2C-1%7CRestAds%2FRPers%2C%2C-1%7CRCPers%2C%2C-1%7CWShadeSeen%2C%2C-1%7CTheForkMCCPers%2C%2C-1%7CHomeASess%2C%2C-1%7CPremiumMCSess%2C%2C-1%7CCrisisSess%2C%2C-1%7CUVOwnersSess%2C%2C-1%7CRestPremRSess%2C%2C-1%7CRepTarMCSess%2C%2C-1%7CCCSess%2C%2C-1%7CCYLSess%2C%2C-1%7CPremRetPers%2C%2C-1%7CViatorMCPers%2C%2C-1%7Csesssticker%2C%2C-1%7C%24%2C%2C-1%7CPremiumORSess%2C%2C-1%7Ct4b-sc%2C%2C-1%7CRestAdsPers%2C%2C-1%7CMC_IB_UPSELL_IB_LOGOS2%2C%2C-1%7CTSMCPers%2C%2C-1%7Cb2bmcpers%2C%2C-1%7CPremMCBtmSess%2C%2C-1%7CMC_IB_UPSELL_IB_LOGOS%2C%2C-1%7CLaFourchette+Banners%2C%2C-1%7Csess_rev%2C%2C-1%7Csessamex%2C%2C-1%7CPremiumRRSess%2C%2C-1%7CTADORSess%2C%2C-1%7CAdsRetPers%2C%2C-1%7CListMCSess%2C%2C-1%7CTARSWBPers%2C%2C-1%7CSPMCSess%2C%2C-1%7CTheForkORSess%2C%2C-1%7CTheForkRRSess%2C%2C-1%7Cpers_rev%2C%2C-1%7CRBAPers%2C%2C-1%7CRestAds%2FRSess%2C%2C-1%7CHomeAPers%2C%2C-1%7CPremiumMobPers%2C%2C-1%7CRCSess%2C%2C-1%7CLaFourchette+MC+Banners%2C%2C-1%7CRestAdsCCSess%2C%2C-1%7CRestPremRPers%2C%2C-1%7CRevHubRMPers%2C%2C-1%7CUVOwnersPers%2C%2C-1%7Cpssamex%2C%2C-1%7CTheForkMCCSess%2C%2C-1%7CCrisisPers%2C%2C-1%7CCYLPers%2C%2C-1%7CCCPers%2C%2C-1%7CRepTarMCPers%2C%2C-1%7Cb2bmcsess%2C%2C-1%7CTSMCSess%2C%2C-1%7CSPMCPers%2C%2C-1%7CRevHubRMSess%2C%2C-1%7CPremRetSess%2C%2C-1%7CViatorMCSess%2C%2C-1%7CPremiumMCPers%2C%2C-1%7CAdsRetSess%2C%2C-1%7CPremiumRRPers%2C%2C-1%7CRestAdsCCPers%2C%2C-1%7CTADORPers%2C%2C-1%7CTheForkORPers%2C%2C-1%7CPremMCBtmPers%2C%2C-1%7CTheForkRRPers%2C%2C-1%7CTARSWBSess%2C%2C-1%7CPremiumORPers%2C%2C-1%7CRestAdsSess%2C%2C-1%7CRBASess%2C%2C-1%7CSPORPers%2C%2C-1%7Cperssticker%2C%2C-1%7CListMCPers%2C%2C-1%7C; Domain=.tripadvisor.co.id; Expires=Mon, 23-May-2033 01:03:01 GMT; Path=/\n",
      "header: Set-Cookie: BEPIN=%1%188559496eb%3Bweb270a.a.tripadvisor.com%3A30023%3B; Domain=.tripadvisor.co.id; Path=/\n",
      "header: Set-Cookie: PAC=ABGtvXsJuP3hprdc8XyBEpYYyrm9eqjwaAv81pdKwSjsQopYOeL1C929DSeR92OW3Q7AqpARkrrtpSVv7epdjH2l1HF-7ZD7Z21N4eCsRFwiwBSOePohtw2zEXYaYQcB93a1IbLDqc_Ych9r-elzae0D0RmrI3n-pgU6Wb5YqEUh03t2nDVKhCNZBbupiSqZv4esA9l-x3ZasS8WLbw0FT5yJ2cpaZu9MVpZWdzt9yAf; Domain=www.tripadvisor.co.id; Expires=Sun, 25-May-2025 01:03:01 GMT; Path=/; Secure; HttpOnly\n",
      "header: Set-Cookie: SRT=TART_SYNC; Domain=www.tripadvisor.co.id; Expires=Fri, 26-May-2023 01:33:01 GMT; Path=/\n",
      "header: Set-Cookie: TATravelInfo=V2*AY.2023*AM.6*AD.4*DY.2023*DM.6*DD.5*A.2*MG.-1*HP.2*FL.3*DSM.1685062981445*RS.1; Domain=.tripadvisor.co.id; Expires=Fri, 09-Jun-2023 01:03:01 GMT; Path=/\n",
      "header: Set-Cookie: TAUD=LG-1685062981315-2.1.F.*RDD-2-2023_05_26*HDD-3-2023_06_04.2023_06_05.1; Domain=.tripadvisor.co.id; Expires=Fri, 09-Jun-2023 01:03:01 GMT; Path=/\n",
      "header: Set-Cookie: TASID=0449D29F808D4F19998323FBB930F114; Domain=www.tripadvisor.co.id; Expires=Fri, 26-May-2023 01:33:01 GMT; Path=/; Secure\n",
      "header: Set-Cookie: TAReturnTo=%1%%2FHotel_Review-g297701-d9839093-Reviews-or10-Cloud_Nine_Estate-Ubud_Gianyar_Regency_Bali.html; Domain=.tripadvisor.co.id; Path=/\n",
      "header: Set-Cookie: datadome=6fLchR~mQjP9f8Xd3MFxSAr9-cBmPiidjhEn8yuyuooaZvoHxh-2zcuqf61o3W9OJSf7ftEMwUSJBWfpAyETFZXjRlFx3Zn4dBBdyi1hYoQYCoqY4oTelFovdjl77lT3; Max-Age=31104000; Domain=.tripadvisor.co.id; Path=/; Secure; SameSite=Lax\n",
      "Done Scrapping  Cloud Nine Estate page 2\n",
      "\n",
      "\n"
     ]
    },
    {
     "name": "stderr",
     "output_type": "stream",
     "text": [
      "DEBUG:urllib3.connectionpool:Starting new HTTPS connection (1): www.tripadvisor.co.id:443\n"
     ]
    },
    {
     "name": "stdout",
     "output_type": "stream",
     "text": [
      "send: b'GET /Hotel_Review-g297701-d9839093-Reviews-or15-Cloud_Nine_Estate-Ubud_Gianyar_Regency_Bali.html HTTP/1.1\\r\\nHost: www.tripadvisor.co.id\\r\\nUser-Agent: Mozilla/5.0 (X11; CrOS x86_64 12871.102.0) AppleWebKit/537.36 (KHTML, like Gecko) Chrome/81.0.4044.141 Safari/537.36\\r\\nAccept-Encoding: gzip, deflate\\r\\nAccept: */*\\r\\nConnection: keep-alive\\r\\n\\r\\n'\n"
     ]
    },
    {
     "name": "stderr",
     "output_type": "stream",
     "text": [
      "DEBUG:urllib3.connectionpool:https://www.tripadvisor.co.id:443 \"GET /Hotel_Review-g297701-d9839093-Reviews-or15-Cloud_Nine_Estate-Ubud_Gianyar_Regency_Bali.html HTTP/1.1\" 200 None\n"
     ]
    },
    {
     "name": "stdout",
     "output_type": "stream",
     "text": [
      "reply: 'HTTP/1.1 200 OK\\r\\n'\n",
      "header: Server: envoy\n",
      "header: Link: <https://media-cdn.tripadvisor.com/media/>;rel=\"preconnect\";crossorigin\n",
      "header: Link: <https://media-cdn.tripadvisor.com/media/>;rel=\"dns-prefetch\"\n",
      "header: p3p: CP=\"NOI CURa ADMa DEVa TAIa OUR BUS IND UNI COM NAV INT DSP COR CAO PSA IDC ADM DEVi TAIi PSD IVAi IVDi CONi HIS CNT\"\n",
      "header: Pragma: no-cache\n",
      "header: Cache-Control: no-cache, no-store, must-revalidate\n",
      "header: Expires: 0\n",
      "header: Content-Language: id\n",
      "header: Link: <https://static.tacdn.com>;rel=\"dns-prefetch\"\n",
      "header: Link: <https://static.tacdn.com>;rel=\"preconnect\";crossorigin\n",
      "header: timing-allow-origin: https://www.tripadvisor.com\n",
      "header: Vary: Accept-Encoding\n",
      "header: Content-Type: text/html;charset=UTF-8\n",
      "header: x-datadome: protected\n",
      "header: Accept-CH: Sec-CH-UA,Sec-CH-UA-Mobile,Sec-CH-UA-Platform,Sec-CH-UA-Arch,Sec-CH-UA-Full-Version-List,Sec-CH-UA-Model,Sec-CH-Device-Memory\n",
      "header: Content-Encoding: gzip\n",
      "header: x-request-id: b9cda9d1-32cc-4f07-baa0-d7ee4708e42f\n",
      "header: Date: Fri, 26 May 2023 01:03:06 GMT\n",
      "header: Transfer-Encoding: chunked\n",
      "header: Connection: keep-alive\n",
      "header: Connection: Transfer-Encoding\n",
      "header: Set-Cookie: TADCID=7EJwoHrlQbMEG8QGABQCXdElnkGETRW-Svh01l3nWnXCbMmi6R0LCHkg3szqFfk61cAQtWUqrJVGj0VJ_pUFfN4tx0YQS2swAtk; Domain=www.tripadvisor.co.id; Expires=Mon, 23-May-2033 01:03:05 GMT; Path=/; Secure; HttpOnly\n",
      "header: Set-Cookie: TAUnique=%1%enc%3AExKJ9ZJ7qQL%2B7H78yfwekiHKVVkteNxI1x%2F1zjphjKc2jHwltRJPGQ%3D%3D; Domain=.tripadvisor.co.id; Expires=Sun, 25-May-2025 01:03:05 GMT; Path=/; HttpOnly\n",
      "header: Set-Cookie: TASSK=enc%3AAOavSQ6Ew%2Ffl54CEqHfMciS8IbkVHR7iTwLOPbX536iLK5CryjuyctXq4z2edBBlMzjnpmaio27urIoKRfU%2FLlecxYgwleUXP6GQS67seOZvipdj%2FUBaTrWuL9Kxs8nBNw%3D%3D; Domain=www.tripadvisor.co.id; Expires=Wed, 22-Nov-2023 01:03:06 GMT; Path=/; HttpOnly\n",
      "header: Set-Cookie: TASession=V2ID.097B1DD2CB0145C8AD551B9E5A1888D6*SQ.1*HS.recommended*ES.popularity*DS.5*SAS.popularity*FPS.oldFirst*LF.in*FA.1*DF.0*TRA.true*LD.9839093; Domain=.tripadvisor.co.id; Path=/\n",
      "header: Set-Cookie: ServerPool=A; Domain=.tripadvisor.co.id; Path=/\n",
      "header: Set-Cookie: PMC=V2*MS.43*MD.20230525*LD.20230525; Domain=www.tripadvisor.co.id; Expires=Sun, 25-May-2025 01:03:06 GMT; Path=/; Secure; HttpOnly\n",
      "header: Set-Cookie: TART=%1%enc%3A%2Fux%2B%2FMn8HpKqtiHevMIntdn7ODvdf7BwEkmTSa8R8PPcUB%2BhM0cjF5cO1V5527LZkagyFvowwb0%3D; Domain=www.tripadvisor.co.id; Expires=Wed, 31-May-2023 01:03:06 GMT; Path=/; HttpOnly\n",
      "header: Set-Cookie: CM=%1%PremiumMobSess%2C%2C-1%7Ct4b-pc%2C%2C-1%7CRestAds%2FRPers%2C%2C-1%7CRCPers%2C%2C-1%7CWShadeSeen%2C%2C-1%7CTheForkMCCPers%2C%2C-1%7CHomeASess%2C%2C-1%7CPremiumMCSess%2C%2C-1%7CCrisisSess%2C%2C-1%7CUVOwnersSess%2C%2C-1%7CRestPremRSess%2C%2C-1%7CRepTarMCSess%2C%2C-1%7CCCSess%2C%2C-1%7CCYLSess%2C%2C-1%7CPremRetPers%2C%2C-1%7CViatorMCPers%2C%2C-1%7Csesssticker%2C%2C-1%7C%24%2C%2C-1%7CPremiumORSess%2C%2C-1%7Ct4b-sc%2C%2C-1%7CRestAdsPers%2C%2C-1%7CMC_IB_UPSELL_IB_LOGOS2%2C%2C-1%7CTSMCPers%2C%2C-1%7Cb2bmcpers%2C%2C-1%7CPremMCBtmSess%2C%2C-1%7CMC_IB_UPSELL_IB_LOGOS%2C%2C-1%7CLaFourchette+Banners%2C%2C-1%7Csess_rev%2C%2C-1%7Csessamex%2C%2C-1%7CPremiumRRSess%2C%2C-1%7CTADORSess%2C%2C-1%7CAdsRetPers%2C%2C-1%7CListMCSess%2C%2C-1%7CTARSWBPers%2C%2C-1%7CSPMCSess%2C%2C-1%7CTheForkORSess%2C%2C-1%7CTheForkRRSess%2C%2C-1%7Cpers_rev%2C%2C-1%7CRBAPers%2C%2C-1%7CRestAds%2FRSess%2C%2C-1%7CHomeAPers%2C%2C-1%7CPremiumMobPers%2C%2C-1%7CRCSess%2C%2C-1%7CLaFourchette+MC+Banners%2C%2C-1%7CRestAdsCCSess%2C%2C-1%7CRestPremRPers%2C%2C-1%7CRevHubRMPers%2C%2C-1%7CUVOwnersPers%2C%2C-1%7Cpssamex%2C%2C-1%7CTheForkMCCSess%2C%2C-1%7CCrisisPers%2C%2C-1%7CCYLPers%2C%2C-1%7CCCPers%2C%2C-1%7CRepTarMCPers%2C%2C-1%7Cb2bmcsess%2C%2C-1%7CTSMCSess%2C%2C-1%7CSPMCPers%2C%2C-1%7CRevHubRMSess%2C%2C-1%7CPremRetSess%2C%2C-1%7CViatorMCSess%2C%2C-1%7CPremiumMCPers%2C%2C-1%7CAdsRetSess%2C%2C-1%7CPremiumRRPers%2C%2C-1%7CRestAdsCCPers%2C%2C-1%7CTADORPers%2C%2C-1%7CTheForkORPers%2C%2C-1%7CPremMCBtmPers%2C%2C-1%7CTheForkRRPers%2C%2C-1%7CTARSWBSess%2C%2C-1%7CPremiumORPers%2C%2C-1%7CRestAdsSess%2C%2C-1%7CRBASess%2C%2C-1%7CSPORPers%2C%2C-1%7Cperssticker%2C%2C-1%7CListMCPers%2C%2C-1%7C; Domain=.tripadvisor.co.id; Expires=Mon, 23-May-2033 01:03:06 GMT; Path=/\n",
      "header: Set-Cookie: BEPIN=%1%1885594a7ea%3Bweb221a.a.tripadvisor.com%3A30023%3B; Domain=.tripadvisor.co.id; Path=/\n",
      "header: Set-Cookie: PAC=AGXRitjjYsNxemvbrps21AXwYRwMaQHPakX_eJi6V_r0OFHkU2PxM2SMJKZeifLsNlwgXwftgShkLYufnIHEEqTo4N0jC71VU5JsJEcs-iAfuhmVhTdedwOtWaOzias0cntOKxkmf36ZWJMqyLxxT6cQzOAodm5cl4wKWtRaEk8VqJKPnHVWtkJnqkfMs6MYAoT1eFeqg6AruHiACubDupnqpaSCPqf4vkMd58EZnvZH; Domain=www.tripadvisor.co.id; Expires=Sun, 25-May-2025 01:03:06 GMT; Path=/; Secure; HttpOnly\n",
      "header: Set-Cookie: SRT=TART_SYNC; Domain=www.tripadvisor.co.id; Expires=Fri, 26-May-2023 01:33:06 GMT; Path=/\n",
      "header: Set-Cookie: TATravelInfo=V2*AY.2023*AM.6*AD.4*DY.2023*DM.6*DD.5*A.2*MG.-1*HP.2*FL.3*DSM.1685062985788*RS.1; Domain=.tripadvisor.co.id; Expires=Fri, 09-Jun-2023 01:03:06 GMT; Path=/\n",
      "header: Set-Cookie: TAUD=LG-1685062985668-2.1.F.*RDD-2-2023_05_26*HDD-3-2023_06_04.2023_06_05.1; Domain=.tripadvisor.co.id; Expires=Fri, 09-Jun-2023 01:03:06 GMT; Path=/\n",
      "header: Set-Cookie: TASID=097B1DD2CB0145C8AD551B9E5A1888D6; Domain=www.tripadvisor.co.id; Expires=Fri, 26-May-2023 01:33:06 GMT; Path=/; Secure\n",
      "header: Set-Cookie: TAReturnTo=%1%%2FHotel_Review-g297701-d9839093-Reviews-or15-Cloud_Nine_Estate-Ubud_Gianyar_Regency_Bali.html; Domain=.tripadvisor.co.id; Path=/\n",
      "header: Set-Cookie: datadome=0Aalgc4DSDqyX4amRib37Vl7Y0aH3ly5W0rECT1ErkFuZ6epnJyWPn91asG1104oNOWEutlGTdqWstWzxRGY-ibA7uNvgugSMMMJYFWX8_u_oSb_ne8aNNMgflBluOxx; Max-Age=31104000; Domain=.tripadvisor.co.id; Path=/; Secure; SameSite=Lax\n",
      "Done Scrapping  Cloud Nine Estate page 3\n",
      "\n",
      "\n"
     ]
    },
    {
     "name": "stderr",
     "output_type": "stream",
     "text": [
      "DEBUG:urllib3.connectionpool:Starting new HTTPS connection (1): www.tripadvisor.co.id:443\n"
     ]
    },
    {
     "name": "stdout",
     "output_type": "stream",
     "text": [
      "send: b'GET /Hotel_Review-g297701-d9839093-Reviews-or20-Cloud_Nine_Estate-Ubud_Gianyar_Regency_Bali.html HTTP/1.1\\r\\nHost: www.tripadvisor.co.id\\r\\nUser-Agent: Mozilla/5.0 (X11; CrOS x86_64 12871.102.0) AppleWebKit/537.36 (KHTML, like Gecko) Chrome/81.0.4044.141 Safari/537.36\\r\\nAccept-Encoding: gzip, deflate\\r\\nAccept: */*\\r\\nConnection: keep-alive\\r\\n\\r\\n'\n"
     ]
    },
    {
     "name": "stderr",
     "output_type": "stream",
     "text": [
      "DEBUG:urllib3.connectionpool:https://www.tripadvisor.co.id:443 \"GET /Hotel_Review-g297701-d9839093-Reviews-or20-Cloud_Nine_Estate-Ubud_Gianyar_Regency_Bali.html HTTP/1.1\" 200 None\n"
     ]
    },
    {
     "name": "stdout",
     "output_type": "stream",
     "text": [
      "reply: 'HTTP/1.1 200 OK\\r\\n'\n",
      "header: Server: envoy\n",
      "header: Link: <https://media-cdn.tripadvisor.com/media/>;rel=\"preconnect\";crossorigin\n",
      "header: Link: <https://media-cdn.tripadvisor.com/media/>;rel=\"dns-prefetch\"\n",
      "header: p3p: CP=\"NOI CURa ADMa DEVa TAIa OUR BUS IND UNI COM NAV INT DSP COR CAO PSA IDC ADM DEVi TAIi PSD IVAi IVDi CONi HIS CNT\"\n",
      "header: Pragma: no-cache\n",
      "header: Cache-Control: no-cache, no-store, must-revalidate\n",
      "header: Expires: 0\n",
      "header: Content-Language: id\n",
      "header: Link: <https://static.tacdn.com>;rel=\"dns-prefetch\"\n",
      "header: Link: <https://static.tacdn.com>;rel=\"preconnect\";crossorigin\n",
      "header: timing-allow-origin: https://www.tripadvisor.com\n",
      "header: Vary: Accept-Encoding\n",
      "header: Content-Type: text/html;charset=UTF-8\n",
      "header: Accept-CH: Sec-CH-UA,Sec-CH-UA-Mobile,Sec-CH-UA-Platform,Sec-CH-UA-Arch,Sec-CH-UA-Full-Version-List,Sec-CH-UA-Model,Sec-CH-Device-Memory\n",
      "header: x-datadome: protected\n",
      "header: Content-Encoding: gzip\n",
      "header: x-request-id: 9ab8d3fc-b617-4c42-86e6-85f5fe148956\n",
      "header: Date: Fri, 26 May 2023 01:03:11 GMT\n",
      "header: Transfer-Encoding: chunked\n",
      "header: Connection: keep-alive\n",
      "header: Connection: Transfer-Encoding\n",
      "header: Set-Cookie: TADCID=rg9yuxVb9gzUOZOUABQCXdElnkGETRW-Svh01l3nWnXCbC9x6-d_Va6MxdcX3L9USj_ObZXx6SNGTWOawOPv8R4TFZrErZTd3_s; Domain=www.tripadvisor.co.id; Expires=Mon, 23-May-2033 01:03:10 GMT; Path=/; Secure; HttpOnly\n",
      "header: Set-Cookie: TAUnique=%1%enc%3ANQ%2Fal2Wic5P%2B7H78yfwekiHKVVkteNxIZ4oV5yxqSWU2jHwltRJPGQ%3D%3D; Domain=.tripadvisor.co.id; Expires=Sun, 25-May-2025 01:03:10 GMT; Path=/; HttpOnly\n",
      "header: Set-Cookie: TASSK=enc%3AAEyFljkI0qJwaO1rpiOc9DOEAKrZu0ULrt4cv3q1StR%2FAHO8GSliRU7heAXezmeB9m05PCv3cXwrdZLE0Q6EUIaQSmQTbUpc1MokEE9qwZsSi2yn%2FLv%2Bmc2uOl86YbL7KA%3D%3D; Domain=www.tripadvisor.co.id; Expires=Wed, 22-Nov-2023 01:03:10 GMT; Path=/; HttpOnly\n",
      "header: Set-Cookie: TASession=V2ID.A3B545E587D4436DADD32A12D52C0FF3*SQ.1*HS.recommended*ES.popularity*DS.5*SAS.popularity*FPS.oldFirst*LF.in*FA.1*DF.0*TRA.true*LD.9839093; Domain=.tripadvisor.co.id; Path=/\n",
      "header: Set-Cookie: ServerPool=B; Domain=.tripadvisor.co.id; Path=/\n",
      "header: Set-Cookie: PMC=V2*MS.5*MD.20230525*LD.20230525; Domain=www.tripadvisor.co.id; Expires=Sun, 25-May-2025 01:03:10 GMT; Path=/; Secure; HttpOnly\n",
      "header: Set-Cookie: TART=%1%enc%3A%2Fux%2B%2FMn8HpKuwEi51qm8tRg8%2FB9F75VO606fauVqgScCuz%2BlXgLTyHgR5BDOl1k0jcUVV%2FjQ5bY%3D; Domain=www.tripadvisor.co.id; Expires=Wed, 31-May-2023 01:03:10 GMT; Path=/; HttpOnly\n",
      "header: Set-Cookie: CM=%1%PremiumMobSess%2C%2C-1%7Ct4b-pc%2C%2C-1%7CRestAds%2FRPers%2C%2C-1%7CRCPers%2C%2C-1%7CWShadeSeen%2C%2C-1%7CTheForkMCCPers%2C%2C-1%7CHomeASess%2C%2C-1%7CPremiumMCSess%2C%2C-1%7CCrisisSess%2C%2C-1%7CUVOwnersSess%2C%2C-1%7CRestPremRSess%2C%2C-1%7CRepTarMCSess%2C%2C-1%7CCCSess%2C%2C-1%7CCYLSess%2C%2C-1%7CPremRetPers%2C%2C-1%7CViatorMCPers%2C%2C-1%7Csesssticker%2C%2C-1%7C%24%2C%2C-1%7CPremiumORSess%2C%2C-1%7Ct4b-sc%2C%2C-1%7CRestAdsPers%2C%2C-1%7CMC_IB_UPSELL_IB_LOGOS2%2C%2C-1%7CTSMCPers%2C%2C-1%7Cb2bmcpers%2C%2C-1%7CPremMCBtmSess%2C%2C-1%7CMC_IB_UPSELL_IB_LOGOS%2C%2C-1%7CLaFourchette+Banners%2C%2C-1%7Csess_rev%2C%2C-1%7Csessamex%2C%2C-1%7CPremiumRRSess%2C%2C-1%7CTADORSess%2C%2C-1%7CAdsRetPers%2C%2C-1%7CListMCSess%2C%2C-1%7CTARSWBPers%2C%2C-1%7CSPMCSess%2C%2C-1%7CTheForkORSess%2C%2C-1%7CTheForkRRSess%2C%2C-1%7Cpers_rev%2C%2C-1%7CRBAPers%2C%2C-1%7CRestAds%2FRSess%2C%2C-1%7CHomeAPers%2C%2C-1%7CPremiumMobPers%2C%2C-1%7CRCSess%2C%2C-1%7CLaFourchette+MC+Banners%2C%2C-1%7CRestAdsCCSess%2C%2C-1%7CRestPremRPers%2C%2C-1%7CRevHubRMPers%2C%2C-1%7CUVOwnersPers%2C%2C-1%7Cpssamex%2C%2C-1%7CTheForkMCCSess%2C%2C-1%7CCrisisPers%2C%2C-1%7CCYLPers%2C%2C-1%7CCCPers%2C%2C-1%7CRepTarMCPers%2C%2C-1%7Cb2bmcsess%2C%2C-1%7CTSMCSess%2C%2C-1%7CSPMCPers%2C%2C-1%7CRevHubRMSess%2C%2C-1%7CPremRetSess%2C%2C-1%7CViatorMCSess%2C%2C-1%7CPremiumMCPers%2C%2C-1%7CAdsRetSess%2C%2C-1%7CPremiumRRPers%2C%2C-1%7CRestAdsCCPers%2C%2C-1%7CTADORPers%2C%2C-1%7CTheForkORPers%2C%2C-1%7CPremMCBtmPers%2C%2C-1%7CTheForkRRPers%2C%2C-1%7CTARSWBSess%2C%2C-1%7CPremiumORPers%2C%2C-1%7CRestAdsSess%2C%2C-1%7CRBASess%2C%2C-1%7CSPORPers%2C%2C-1%7Cperssticker%2C%2C-1%7CListMCPers%2C%2C-1%7C; Domain=.tripadvisor.co.id; Expires=Mon, 23-May-2033 01:03:10 GMT; Path=/\n",
      "header: Set-Cookie: BEPIN=%1%1885594b96a%3Bweb218a.a.tripadvisor.com%3A30023%3B; Domain=.tripadvisor.co.id; Path=/\n",
      "header: Set-Cookie: PAC=AOzyqqdS8kUyerWj6vOhUorlrUHPZfhImmP4xPbozkE-LpjKG5lGgAqqGWkQhR9N3uo4rzt1cGytBV5P0FyXVexME7RfBwGChjhqEjLau4yU_exCIyuiGfrgcMUnyTUOiQZR9cuyhM1d_pK0cQck0W0dls1vNh-AAYoAraBVAwXBFAG_4VI_QjaapGgFfbTK636Y9ZeAFbzrxmqIdQ8XZ7y13BhE3eA0_09XMu6LqPmF; Domain=www.tripadvisor.co.id; Expires=Sun, 25-May-2025 01:03:10 GMT; Path=/; Secure; HttpOnly\n",
      "header: Set-Cookie: SRT=TART_SYNC; Domain=www.tripadvisor.co.id; Expires=Fri, 26-May-2023 01:33:10 GMT; Path=/\n",
      "header: Set-Cookie: TATravelInfo=V2*AY.2023*AM.6*AD.4*DY.2023*DM.6*DD.5*A.2*MG.-1*HP.2*FL.3*DSM.1685062990257*RS.1; Domain=.tripadvisor.co.id; Expires=Fri, 09-Jun-2023 01:03:10 GMT; Path=/\n",
      "header: Set-Cookie: TAUD=LG-1685062990154-2.1.F.*RDD-2-2023_05_26*HDD-3-2023_06_04.2023_06_05.1; Domain=.tripadvisor.co.id; Expires=Fri, 09-Jun-2023 01:03:10 GMT; Path=/\n",
      "header: Set-Cookie: TASID=A3B545E587D4436DADD32A12D52C0FF3; Domain=www.tripadvisor.co.id; Expires=Fri, 26-May-2023 01:33:10 GMT; Path=/; Secure\n",
      "header: Set-Cookie: TAReturnTo=%1%%2FHotel_Review-g297701-d9839093-Reviews-or20-Cloud_Nine_Estate-Ubud_Gianyar_Regency_Bali.html; Domain=.tripadvisor.co.id; Path=/\n",
      "header: Set-Cookie: datadome=1mn7Q7I13R1V5Kvkpw65xDEJm9qYbnj-aEhIb9lPiJaEUKLQjAeylzLU1U8pwQAudrCYyEu_z4VNBzZRxIPSrOgNu7d~b3Iidbn6yheDs8hBuYFJCRM6D2YaO5wr0A-R; Max-Age=31104000; Domain=.tripadvisor.co.id; Path=/; Secure; SameSite=Lax\n",
      "Done Scrapping  Cloud Nine Estate page 4\n",
      "\n",
      "\n"
     ]
    },
    {
     "name": "stderr",
     "output_type": "stream",
     "text": [
      "DEBUG:urllib3.connectionpool:Starting new HTTPS connection (1): www.tripadvisor.co.id:443\n"
     ]
    },
    {
     "name": "stdout",
     "output_type": "stream",
     "text": [
      "send: b'GET /Hotel_Review-g297701-d9839093-Reviews-or25-Cloud_Nine_Estate-Ubud_Gianyar_Regency_Bali.html HTTP/1.1\\r\\nHost: www.tripadvisor.co.id\\r\\nUser-Agent: Mozilla/5.0 (X11; CrOS x86_64 12871.102.0) AppleWebKit/537.36 (KHTML, like Gecko) Chrome/81.0.4044.141 Safari/537.36\\r\\nAccept-Encoding: gzip, deflate\\r\\nAccept: */*\\r\\nConnection: keep-alive\\r\\n\\r\\n'\n"
     ]
    },
    {
     "name": "stderr",
     "output_type": "stream",
     "text": [
      "DEBUG:urllib3.connectionpool:https://www.tripadvisor.co.id:443 \"GET /Hotel_Review-g297701-d9839093-Reviews-or25-Cloud_Nine_Estate-Ubud_Gianyar_Regency_Bali.html HTTP/1.1\" 200 None\n"
     ]
    },
    {
     "name": "stdout",
     "output_type": "stream",
     "text": [
      "reply: 'HTTP/1.1 200 OK\\r\\n'\n",
      "header: Server: envoy\n",
      "header: Link: <https://media-cdn.tripadvisor.com/media/>;rel=\"preconnect\";crossorigin\n",
      "header: Link: <https://media-cdn.tripadvisor.com/media/>;rel=\"dns-prefetch\"\n",
      "header: p3p: CP=\"NOI CURa ADMa DEVa TAIa OUR BUS IND UNI COM NAV INT DSP COR CAO PSA IDC ADM DEVi TAIi PSD IVAi IVDi CONi HIS CNT\"\n",
      "header: Pragma: no-cache\n",
      "header: Cache-Control: no-cache, no-store, must-revalidate\n",
      "header: Expires: 0\n",
      "header: Content-Language: id\n",
      "header: Link: <https://static.tacdn.com>;rel=\"dns-prefetch\"\n",
      "header: Link: <https://static.tacdn.com>;rel=\"preconnect\";crossorigin\n",
      "header: timing-allow-origin: https://www.tripadvisor.com\n",
      "header: Vary: Accept-Encoding\n",
      "header: Content-Type: text/html;charset=UTF-8\n",
      "header: Accept-CH: Sec-CH-UA,Sec-CH-UA-Mobile,Sec-CH-UA-Platform,Sec-CH-UA-Arch,Sec-CH-UA-Full-Version-List,Sec-CH-UA-Model,Sec-CH-Device-Memory\n",
      "header: x-datadome: protected\n",
      "header: Content-Encoding: gzip\n",
      "header: x-request-id: 9a09d531-5261-4e3e-adc8-a887e6715446\n",
      "header: Date: Fri, 26 May 2023 01:03:15 GMT\n",
      "header: Transfer-Encoding: chunked\n",
      "header: Connection: keep-alive\n",
      "header: Connection: Transfer-Encoding\n",
      "header: Set-Cookie: TADCID=kXXy2s9CbvFIkyDlABQCXdElnkGETRW-Svh01l3nWnXCbLi_M4DWfSVMDpY-q-eZ4jAV1Vo75_s__QmTHGkKu-x6RPYcGIVZb98; Domain=www.tripadvisor.co.id; Expires=Mon, 23-May-2033 01:03:14 GMT; Path=/; Secure; HttpOnly\n",
      "header: Set-Cookie: TAUnique=%1%enc%3AwKqxFrOQIPD%2B7H78yfwekiHKVVkteNxIUaXdQ7v3Keo2jHwltRJPGQ%3D%3D; Domain=.tripadvisor.co.id; Expires=Sun, 25-May-2025 01:03:14 GMT; Path=/; HttpOnly\n",
      "header: Set-Cookie: TASSK=enc%3AANn5KQJS%2FU1P6BALPYd5OizAX%2FmyvyZKISMMffHtN%2BDzXp2PLR2SVXC30G848TSEpbN6vKf0ulIrqaAnox1%2BI1UyZfK7st7JJNcwqNboqm3hQrZBgV3Dt9JPAZnJcKKP1A%3D%3D; Domain=www.tripadvisor.co.id; Expires=Wed, 22-Nov-2023 01:03:15 GMT; Path=/; HttpOnly\n",
      "header: Set-Cookie: TASession=V2ID.C34B943831DF4208843514CCC8D89CE4*SQ.1*HS.recommended*ES.popularity*DS.5*SAS.popularity*FPS.oldFirst*LF.in*FA.1*DF.0*TRA.true*LD.9839093; Domain=.tripadvisor.co.id; Path=/\n",
      "header: Set-Cookie: ServerPool=X; Domain=.tripadvisor.co.id; Path=/\n",
      "header: Set-Cookie: PMC=V2*MS.39*MD.20230525*LD.20230525; Domain=www.tripadvisor.co.id; Expires=Sun, 25-May-2025 01:03:15 GMT; Path=/; Secure; HttpOnly\n",
      "header: Set-Cookie: TART=%1%enc%3A%2Fux%2B%2FMn8HpIxnzxtkxWk0O2yTt2eeBuiLT%2FkxT7Bxi9Sbgr7Bo0FhupKd%2F1TmHwt4ieoPdYMDDY%3D; Domain=www.tripadvisor.co.id; Expires=Wed, 31-May-2023 01:03:15 GMT; Path=/; HttpOnly\n",
      "header: Set-Cookie: CM=%1%PremiumMobSess%2C%2C-1%7Ct4b-pc%2C%2C-1%7CRestAds%2FRPers%2C%2C-1%7CRCPers%2C%2C-1%7CWShadeSeen%2C%2C-1%7CTheForkMCCPers%2C%2C-1%7CHomeASess%2C%2C-1%7CPremiumMCSess%2C%2C-1%7CCrisisSess%2C%2C-1%7CUVOwnersSess%2C%2C-1%7CRestPremRSess%2C%2C-1%7CRepTarMCSess%2C%2C-1%7CCCSess%2C%2C-1%7CCYLSess%2C%2C-1%7CPremRetPers%2C%2C-1%7CViatorMCPers%2C%2C-1%7Csesssticker%2C%2C-1%7C%24%2C%2C-1%7CPremiumORSess%2C%2C-1%7Ct4b-sc%2C%2C-1%7CRestAdsPers%2C%2C-1%7CMC_IB_UPSELL_IB_LOGOS2%2C%2C-1%7CTSMCPers%2C%2C-1%7Cb2bmcpers%2C%2C-1%7CPremMCBtmSess%2C%2C-1%7CMC_IB_UPSELL_IB_LOGOS%2C%2C-1%7CLaFourchette+Banners%2C%2C-1%7Csess_rev%2C%2C-1%7Csessamex%2C%2C-1%7CPremiumRRSess%2C%2C-1%7CTADORSess%2C%2C-1%7CAdsRetPers%2C%2C-1%7CListMCSess%2C%2C-1%7CTARSWBPers%2C%2C-1%7CSPMCSess%2C%2C-1%7CTheForkORSess%2C%2C-1%7CTheForkRRSess%2C%2C-1%7Cpers_rev%2C%2C-1%7CRBAPers%2C%2C-1%7CRestAds%2FRSess%2C%2C-1%7CHomeAPers%2C%2C-1%7CPremiumMobPers%2C%2C-1%7CRCSess%2C%2C-1%7CLaFourchette+MC+Banners%2C%2C-1%7CRestAdsCCSess%2C%2C-1%7CRestPremRPers%2C%2C-1%7CRevHubRMPers%2C%2C-1%7CUVOwnersPers%2C%2C-1%7Cpssamex%2C%2C-1%7CTheForkMCCSess%2C%2C-1%7CCrisisPers%2C%2C-1%7CCYLPers%2C%2C-1%7CCCPers%2C%2C-1%7CRepTarMCPers%2C%2C-1%7Cb2bmcsess%2C%2C-1%7CTSMCSess%2C%2C-1%7CSPMCPers%2C%2C-1%7CRevHubRMSess%2C%2C-1%7CPremRetSess%2C%2C-1%7CViatorMCSess%2C%2C-1%7CPremiumMCPers%2C%2C-1%7CAdsRetSess%2C%2C-1%7CPremiumRRPers%2C%2C-1%7CRestAdsCCPers%2C%2C-1%7CTADORPers%2C%2C-1%7CTheForkORPers%2C%2C-1%7CPremMCBtmPers%2C%2C-1%7CTheForkRRPers%2C%2C-1%7CTARSWBSess%2C%2C-1%7CPremiumORPers%2C%2C-1%7CRestAdsSess%2C%2C-1%7CRBASess%2C%2C-1%7CSPORPers%2C%2C-1%7Cperssticker%2C%2C-1%7CListMCPers%2C%2C-1%7C; Domain=.tripadvisor.co.id; Expires=Mon, 23-May-2033 01:03:15 GMT; Path=/\n",
      "header: Set-Cookie: BEPIN=%1%1885594cc13%3Bweb788a.a.tripadvisor.com%3A30023%3B; Domain=.tripadvisor.co.id; Path=/\n",
      "header: Set-Cookie: PAC=AC_eEApc8KJHDPz6cEvt-I2mhwoVfKxSpOgmhBBh2jRmGG4Tslz2QOw3J47J1R3RUYb06ZbyIx9LhKrmV46KIdTnZg5D-iQSw3Mwu5wys1cYidyk1SBBxcpSKxA20Vxsn6NMF3HHflTEsqom8IQq2iqK3RQLYng92H4jAjR5dZTF_AMwAwxtIp_9K13vJs_gfm4BJOw3gYa1BjGjIFYZYOXthY970h64SVRb7KtpKpsH; Domain=www.tripadvisor.co.id; Expires=Sun, 25-May-2025 01:03:15 GMT; Path=/; Secure; HttpOnly\n",
      "header: Set-Cookie: SRT=TART_SYNC; Domain=www.tripadvisor.co.id; Expires=Fri, 26-May-2023 01:33:15 GMT; Path=/\n",
      "header: Set-Cookie: TATravelInfo=V2*AY.2023*AM.6*AD.4*DY.2023*DM.6*DD.5*A.2*MG.-1*HP.2*FL.3*DSM.1685062995039*RS.1; Domain=.tripadvisor.co.id; Expires=Fri, 09-Jun-2023 01:03:15 GMT; Path=/\n",
      "header: Set-Cookie: TAUD=LG-1685062994930-2.1.F.*RDD-2-2023_05_26*HDD-3-2023_06_04.2023_06_05.1; Domain=.tripadvisor.co.id; Expires=Fri, 09-Jun-2023 01:03:15 GMT; Path=/\n",
      "header: Set-Cookie: TASID=C34B943831DF4208843514CCC8D89CE4; Domain=www.tripadvisor.co.id; Expires=Fri, 26-May-2023 01:33:15 GMT; Path=/; Secure\n",
      "header: Set-Cookie: TAReturnTo=%1%%2FHotel_Review-g297701-d9839093-Reviews-or25-Cloud_Nine_Estate-Ubud_Gianyar_Regency_Bali.html; Domain=.tripadvisor.co.id; Path=/\n",
      "header: Set-Cookie: datadome=62dw-hHZwc0L5T62G0OqgmW3zrsSeoIhdm_UVkvoC2HlkoAAUc_vE0~l2EO2acjv50fFcwcb3s5BAM_dcapGp_j8JxP~SCRW2x89fSAaq2UaGTjEBsKIB7ncJNpkl4lO; Max-Age=31104000; Domain=.tripadvisor.co.id; Path=/; Secure; SameSite=Lax\n",
      "Done Scrapping  Cloud Nine Estate page 5\n",
      "\n",
      "\n"
     ]
    },
    {
     "name": "stderr",
     "output_type": "stream",
     "text": [
      "DEBUG:urllib3.connectionpool:Starting new HTTPS connection (1): www.tripadvisor.co.id:443\n"
     ]
    },
    {
     "name": "stdout",
     "output_type": "stream",
     "text": [
      "send: b'GET /Hotel_Review-g297701-d9839093-Reviews-or30-Cloud_Nine_Estate-Ubud_Gianyar_Regency_Bali.html HTTP/1.1\\r\\nHost: www.tripadvisor.co.id\\r\\nUser-Agent: Mozilla/5.0 (X11; CrOS x86_64 12871.102.0) AppleWebKit/537.36 (KHTML, like Gecko) Chrome/81.0.4044.141 Safari/537.36\\r\\nAccept-Encoding: gzip, deflate\\r\\nAccept: */*\\r\\nConnection: keep-alive\\r\\n\\r\\n'\n"
     ]
    },
    {
     "name": "stderr",
     "output_type": "stream",
     "text": [
      "DEBUG:urllib3.connectionpool:https://www.tripadvisor.co.id:443 \"GET /Hotel_Review-g297701-d9839093-Reviews-or30-Cloud_Nine_Estate-Ubud_Gianyar_Regency_Bali.html HTTP/1.1\" 200 None\n"
     ]
    },
    {
     "name": "stdout",
     "output_type": "stream",
     "text": [
      "reply: 'HTTP/1.1 200 OK\\r\\n'\n",
      "header: Server: envoy\n",
      "header: Link: <https://media-cdn.tripadvisor.com/media/>;rel=\"preconnect\";crossorigin\n",
      "header: Link: <https://media-cdn.tripadvisor.com/media/>;rel=\"dns-prefetch\"\n",
      "header: p3p: CP=\"NOI CURa ADMa DEVa TAIa OUR BUS IND UNI COM NAV INT DSP COR CAO PSA IDC ADM DEVi TAIi PSD IVAi IVDi CONi HIS CNT\"\n",
      "header: Pragma: no-cache\n",
      "header: Cache-Control: no-cache, no-store, must-revalidate\n",
      "header: Expires: 0\n",
      "header: Content-Language: id\n",
      "header: Link: <https://static.tacdn.com>;rel=\"dns-prefetch\"\n",
      "header: Link: <https://static.tacdn.com>;rel=\"preconnect\";crossorigin\n",
      "header: timing-allow-origin: https://www.tripadvisor.com\n",
      "header: Vary: Accept-Encoding\n",
      "header: Content-Type: text/html;charset=UTF-8\n",
      "header: Accept-CH: Sec-CH-UA,Sec-CH-UA-Mobile,Sec-CH-UA-Platform,Sec-CH-UA-Arch,Sec-CH-UA-Full-Version-List,Sec-CH-UA-Model,Sec-CH-Device-Memory\n",
      "header: x-datadome: protected\n",
      "header: Content-Encoding: gzip\n",
      "header: x-request-id: aebc9f34-cefd-4763-9063-cbdb48cd11f7\n",
      "header: Date: Fri, 26 May 2023 01:03:19 GMT\n",
      "header: Transfer-Encoding: chunked\n",
      "header: Connection: keep-alive\n",
      "header: Connection: Transfer-Encoding\n",
      "header: Set-Cookie: TADCID=aTSmQOE5Mnft4NbAABQCXdElnkGETRW-Svh01l3nWnXCbPueXjboJxdyvdpqpmn08r6kWdUj5DUKVtCpnuYI6ek-xkQXWZqhz7s; Domain=www.tripadvisor.co.id; Expires=Mon, 23-May-2033 01:03:19 GMT; Path=/; Secure; HttpOnly\n",
      "header: Set-Cookie: TAUnique=%1%enc%3AuDVedQjmD2%2F%2B7H78yfwekiHKVVkteNxIc3OwE8XCyeU2jHwltRJPGQ%3D%3D; Domain=.tripadvisor.co.id; Expires=Sun, 25-May-2025 01:03:19 GMT; Path=/; HttpOnly\n",
      "header: Set-Cookie: TASSK=enc%3AAF6LNIuuyS3eNPwLdg%2FaRTfwP9NXkqWWC%2B1CRDryjIharEtEwpfh8K2R7CvJ6T0KpAjYWdfZJPBv%2BUBGYit7WbjaWQKrZ%2FqQZEenTF6Vwy1976E7hH%2FkMrmr5LcuLobU6Q%3D%3D; Domain=www.tripadvisor.co.id; Expires=Wed, 22-Nov-2023 01:03:19 GMT; Path=/; HttpOnly\n",
      "header: Set-Cookie: TASession=V2ID.58FA3107CA1B4A04AB852578BC758D86*SQ.1*HS.recommended*ES.popularity*DS.5*SAS.popularity*FPS.oldFirst*LF.in*FA.1*DF.0*TRA.true*LD.9839093; Domain=.tripadvisor.co.id; Path=/\n",
      "header: Set-Cookie: ServerPool=X; Domain=.tripadvisor.co.id; Path=/\n",
      "header: Set-Cookie: PMC=V2*MS.87*MD.20230525*LD.20230525; Domain=www.tripadvisor.co.id; Expires=Sun, 25-May-2025 01:03:19 GMT; Path=/; Secure; HttpOnly\n",
      "header: Set-Cookie: TART=%1%enc%3A%2Fux%2B%2FMn8HpLqyNofUc3%2Fy3qOMg%2F1dwiDzc1oYOM7GyhUR9hQFY%2Bty15pHLVf3XeI5jVki%2Fentws%3D; Domain=www.tripadvisor.co.id; Expires=Wed, 31-May-2023 01:03:19 GMT; Path=/; HttpOnly\n",
      "header: Set-Cookie: CM=%1%PremiumMobSess%2C%2C-1%7Ct4b-pc%2C%2C-1%7CRestAds%2FRPers%2C%2C-1%7CRCPers%2C%2C-1%7CWShadeSeen%2C%2C-1%7CTheForkMCCPers%2C%2C-1%7CHomeASess%2C%2C-1%7CPremiumMCSess%2C%2C-1%7CCrisisSess%2C%2C-1%7CUVOwnersSess%2C%2C-1%7CRestPremRSess%2C%2C-1%7CRepTarMCSess%2C%2C-1%7CCCSess%2C%2C-1%7CCYLSess%2C%2C-1%7CPremRetPers%2C%2C-1%7CViatorMCPers%2C%2C-1%7Csesssticker%2C%2C-1%7C%24%2C%2C-1%7CPremiumORSess%2C%2C-1%7Ct4b-sc%2C%2C-1%7CRestAdsPers%2C%2C-1%7CMC_IB_UPSELL_IB_LOGOS2%2C%2C-1%7CTSMCPers%2C%2C-1%7Cb2bmcpers%2C%2C-1%7CPremMCBtmSess%2C%2C-1%7CMC_IB_UPSELL_IB_LOGOS%2C%2C-1%7CLaFourchette+Banners%2C%2C-1%7Csess_rev%2C%2C-1%7Csessamex%2C%2C-1%7CPremiumRRSess%2C%2C-1%7CTADORSess%2C%2C-1%7CAdsRetPers%2C%2C-1%7CListMCSess%2C%2C-1%7CTARSWBPers%2C%2C-1%7CSPMCSess%2C%2C-1%7CTheForkORSess%2C%2C-1%7CTheForkRRSess%2C%2C-1%7Cpers_rev%2C%2C-1%7CRBAPers%2C%2C-1%7CRestAds%2FRSess%2C%2C-1%7CHomeAPers%2C%2C-1%7CPremiumMobPers%2C%2C-1%7CRCSess%2C%2C-1%7CLaFourchette+MC+Banners%2C%2C-1%7CRestAdsCCSess%2C%2C-1%7CRestPremRPers%2C%2C-1%7CRevHubRMPers%2C%2C-1%7CUVOwnersPers%2C%2C-1%7Cpssamex%2C%2C-1%7CTheForkMCCSess%2C%2C-1%7CCrisisPers%2C%2C-1%7CCYLPers%2C%2C-1%7CCCPers%2C%2C-1%7CRepTarMCPers%2C%2C-1%7Cb2bmcsess%2C%2C-1%7CTSMCSess%2C%2C-1%7CSPMCPers%2C%2C-1%7CRevHubRMSess%2C%2C-1%7CPremRetSess%2C%2C-1%7CViatorMCSess%2C%2C-1%7CPremiumMCPers%2C%2C-1%7CAdsRetSess%2C%2C-1%7CPremiumRRPers%2C%2C-1%7CRestAdsCCPers%2C%2C-1%7CTADORPers%2C%2C-1%7CTheForkORPers%2C%2C-1%7CPremMCBtmPers%2C%2C-1%7CTheForkRRPers%2C%2C-1%7CTARSWBSess%2C%2C-1%7CPremiumORPers%2C%2C-1%7CRestAdsSess%2C%2C-1%7CRBASess%2C%2C-1%7CSPORPers%2C%2C-1%7Cperssticker%2C%2C-1%7CListMCPers%2C%2C-1%7C; Domain=.tripadvisor.co.id; Expires=Mon, 23-May-2033 01:03:19 GMT; Path=/\n",
      "header: Set-Cookie: BEPIN=%1%1885594dc9b%3Bweb225a.a.tripadvisor.com%3A30023%3B; Domain=.tripadvisor.co.id; Path=/\n",
      "header: Set-Cookie: PAC=AD9UkaQfd1ar9N4nfCGURF91t8fQFTR1871RMtOPSg1-KcNuHppPu2fB9v487m43-PVhBEaVop1DYMuK_GAegqb0l3dh_OTpkILD-BdapOlskAXuh-nTbF-o0QLSOB6xo7nnK2lGcRNdwgltmwN7u9ba0AIEYiB0Ko4fu_LyR0DVwo6OI-33KMEJgUBrx0PYkjgmrX53R1D9lZS3hFvxOygiR-eIuJWf0T5nB31g_4jj; Domain=www.tripadvisor.co.id; Expires=Sun, 25-May-2025 01:03:19 GMT; Path=/; Secure; HttpOnly\n",
      "header: Set-Cookie: SRT=TART_SYNC; Domain=www.tripadvisor.co.id; Expires=Fri, 26-May-2023 01:33:19 GMT; Path=/\n",
      "header: Set-Cookie: TATravelInfo=V2*AY.2023*AM.6*AD.4*DY.2023*DM.6*DD.5*A.2*MG.-1*HP.2*FL.3*DSM.1685062999276*RS.1; Domain=.tripadvisor.co.id; Expires=Fri, 09-Jun-2023 01:03:19 GMT; Path=/\n",
      "header: Set-Cookie: TAUD=LG-1685062999166-2.1.F.*RDD-2-2023_05_26*HDD-3-2023_06_04.2023_06_05.1; Domain=.tripadvisor.co.id; Expires=Fri, 09-Jun-2023 01:03:19 GMT; Path=/\n",
      "header: Set-Cookie: TASID=58FA3107CA1B4A04AB852578BC758D86; Domain=www.tripadvisor.co.id; Expires=Fri, 26-May-2023 01:33:19 GMT; Path=/; Secure\n",
      "header: Set-Cookie: TAReturnTo=%1%%2FHotel_Review-g297701-d9839093-Reviews-or30-Cloud_Nine_Estate-Ubud_Gianyar_Regency_Bali.html; Domain=.tripadvisor.co.id; Path=/\n",
      "header: Set-Cookie: datadome=1ZCwi4vOgB2CnPHZFu-RYF5HnBJ0MLSLMxcRwqRozYyODtxKjqITdvOTNq5BRB4cJiU5vTunn8s8RzIBgdAVHW2JvtALRzvxRfo7SpXA_KEzjji26HikG6Ohpv6SfL9F; Max-Age=31104000; Domain=.tripadvisor.co.id; Path=/; Secure; SameSite=Lax\n",
      "Done Scrapping  Cloud Nine Estate page 6\n",
      "\n",
      "\n"
     ]
    },
    {
     "name": "stderr",
     "output_type": "stream",
     "text": [
      "DEBUG:urllib3.connectionpool:Starting new HTTPS connection (1): www.tripadvisor.co.id:443\n"
     ]
    },
    {
     "name": "stdout",
     "output_type": "stream",
     "text": [
      "send: b'GET /Hotel_Review-g297701-d9839093-Reviews-or35-Cloud_Nine_Estate-Ubud_Gianyar_Regency_Bali.html HTTP/1.1\\r\\nHost: www.tripadvisor.co.id\\r\\nUser-Agent: Mozilla/5.0 (X11; CrOS x86_64 12871.102.0) AppleWebKit/537.36 (KHTML, like Gecko) Chrome/81.0.4044.141 Safari/537.36\\r\\nAccept-Encoding: gzip, deflate\\r\\nAccept: */*\\r\\nConnection: keep-alive\\r\\n\\r\\n'\n"
     ]
    },
    {
     "name": "stderr",
     "output_type": "stream",
     "text": [
      "DEBUG:urllib3.connectionpool:https://www.tripadvisor.co.id:443 \"GET /Hotel_Review-g297701-d9839093-Reviews-or35-Cloud_Nine_Estate-Ubud_Gianyar_Regency_Bali.html HTTP/1.1\" 200 None\n"
     ]
    },
    {
     "name": "stdout",
     "output_type": "stream",
     "text": [
      "reply: 'HTTP/1.1 200 OK\\r\\n'\n",
      "header: Server: envoy\n",
      "header: Link: <https://media-cdn.tripadvisor.com/media/>;rel=\"preconnect\";crossorigin\n",
      "header: Link: <https://media-cdn.tripadvisor.com/media/>;rel=\"dns-prefetch\"\n",
      "header: p3p: CP=\"NOI CURa ADMa DEVa TAIa OUR BUS IND UNI COM NAV INT DSP COR CAO PSA IDC ADM DEVi TAIi PSD IVAi IVDi CONi HIS CNT\"\n",
      "header: Pragma: no-cache\n",
      "header: Cache-Control: no-cache, no-store, must-revalidate\n",
      "header: Expires: 0\n",
      "header: Content-Language: id\n",
      "header: Link: <https://static.tacdn.com>;rel=\"dns-prefetch\"\n",
      "header: Link: <https://static.tacdn.com>;rel=\"preconnect\";crossorigin\n",
      "header: timing-allow-origin: https://www.tripadvisor.com\n",
      "header: Vary: Accept-Encoding\n",
      "header: Content-Type: text/html;charset=UTF-8\n",
      "header: x-datadome: protected\n",
      "header: Accept-CH: Sec-CH-UA,Sec-CH-UA-Mobile,Sec-CH-UA-Platform,Sec-CH-UA-Arch,Sec-CH-UA-Full-Version-List,Sec-CH-UA-Model,Sec-CH-Device-Memory\n",
      "header: Content-Encoding: gzip\n",
      "header: x-request-id: cb23f65b-a2ae-43e6-92e4-225f76567e82\n",
      "header: Date: Fri, 26 May 2023 01:03:25 GMT\n",
      "header: Transfer-Encoding: chunked\n",
      "header: Connection: keep-alive\n",
      "header: Connection: Transfer-Encoding\n",
      "header: Set-Cookie: TADCID=-yBU6QVT85pEAc3-ABQCXdElnkGETRW-Svh01l3nWnXCbD-bteBurt_L3JfeY3LB7jYE-5MD1_kN2uLCLE-f-k-_SaQwCdPcLEE; Domain=www.tripadvisor.co.id; Expires=Mon, 23-May-2033 01:03:25 GMT; Path=/; Secure; HttpOnly\n",
      "header: Set-Cookie: TAUnique=%1%enc%3A%2BiP6Xlgi%2Bz%2F%2B7H78yfwekiHKVVkteNxIBVsMZ8RwKa42jHwltRJPGQ%3D%3D; Domain=.tripadvisor.co.id; Expires=Sun, 25-May-2025 01:03:25 GMT; Path=/; HttpOnly\n",
      "header: Set-Cookie: TASSK=enc%3AADiatTC2ASq07kgimkX9OEhcYFBZlpLz3W620b6wTQFfh8CG4qM6qE7e4VuKvqKVIBsoApEFAwnu0odhEtaaeX5g%2F2YNGKjvYFfhq9jUkCIkzNR2MjoiB4XJFHNTZpZKOg%3D%3D; Domain=www.tripadvisor.co.id; Expires=Wed, 22-Nov-2023 01:03:25 GMT; Path=/; HttpOnly\n",
      "header: Set-Cookie: TASession=V2ID.B5EAC6A150074F53B15EB3F1FC80412F*SQ.1*HS.recommended*ES.popularity*DS.5*SAS.popularity*FPS.oldFirst*LF.in*FA.1*DF.0*TRA.true*LD.9839093; Domain=.tripadvisor.co.id; Path=/\n",
      "header: Set-Cookie: ServerPool=B; Domain=.tripadvisor.co.id; Path=/\n",
      "header: Set-Cookie: PMC=V2*MS.9*MD.20230525*LD.20230525; Domain=www.tripadvisor.co.id; Expires=Sun, 25-May-2025 01:03:25 GMT; Path=/; Secure; HttpOnly\n",
      "header: Set-Cookie: TART=%1%enc%3A%2Fux%2B%2FMn8HpIw7XyrZaSpNHWyiLt%2FIjbSTUMf32gIB3lNvEDwRqexadEjh0%2BswQDFyx9HjuV9fk0%3D; Domain=www.tripadvisor.co.id; Expires=Wed, 31-May-2023 01:03:25 GMT; Path=/; HttpOnly\n",
      "header: Set-Cookie: CM=%1%PremiumMobSess%2C%2C-1%7Ct4b-pc%2C%2C-1%7CRestAds%2FRPers%2C%2C-1%7CRCPers%2C%2C-1%7CWShadeSeen%2C%2C-1%7CTheForkMCCPers%2C%2C-1%7CHomeASess%2C%2C-1%7CPremiumMCSess%2C%2C-1%7CCrisisSess%2C%2C-1%7CUVOwnersSess%2C%2C-1%7CRestPremRSess%2C%2C-1%7CRepTarMCSess%2C%2C-1%7CCCSess%2C%2C-1%7CCYLSess%2C%2C-1%7CPremRetPers%2C%2C-1%7CViatorMCPers%2C%2C-1%7Csesssticker%2C%2C-1%7C%24%2C%2C-1%7CPremiumORSess%2C%2C-1%7Ct4b-sc%2C%2C-1%7CRestAdsPers%2C%2C-1%7CMC_IB_UPSELL_IB_LOGOS2%2C%2C-1%7CTSMCPers%2C%2C-1%7Cb2bmcpers%2C%2C-1%7CPremMCBtmSess%2C%2C-1%7CMC_IB_UPSELL_IB_LOGOS%2C%2C-1%7CLaFourchette+Banners%2C%2C-1%7Csess_rev%2C%2C-1%7Csessamex%2C%2C-1%7CPremiumRRSess%2C%2C-1%7CTADORSess%2C%2C-1%7CAdsRetPers%2C%2C-1%7CListMCSess%2C%2C-1%7CTARSWBPers%2C%2C-1%7CSPMCSess%2C%2C-1%7CTheForkORSess%2C%2C-1%7CTheForkRRSess%2C%2C-1%7Cpers_rev%2C%2C-1%7CRBAPers%2C%2C-1%7CRestAds%2FRSess%2C%2C-1%7CHomeAPers%2C%2C-1%7CPremiumMobPers%2C%2C-1%7CRCSess%2C%2C-1%7CLaFourchette+MC+Banners%2C%2C-1%7CRestAdsCCSess%2C%2C-1%7CRestPremRPers%2C%2C-1%7CRevHubRMPers%2C%2C-1%7CUVOwnersPers%2C%2C-1%7Cpssamex%2C%2C-1%7CTheForkMCCSess%2C%2C-1%7CCrisisPers%2C%2C-1%7CCYLPers%2C%2C-1%7CCCPers%2C%2C-1%7CRepTarMCPers%2C%2C-1%7Cb2bmcsess%2C%2C-1%7CTSMCSess%2C%2C-1%7CSPMCPers%2C%2C-1%7CRevHubRMSess%2C%2C-1%7CPremRetSess%2C%2C-1%7CViatorMCSess%2C%2C-1%7CPremiumMCPers%2C%2C-1%7CAdsRetSess%2C%2C-1%7CPremiumRRPers%2C%2C-1%7CRestAdsCCPers%2C%2C-1%7CTADORPers%2C%2C-1%7CTheForkORPers%2C%2C-1%7CPremMCBtmPers%2C%2C-1%7CTheForkRRPers%2C%2C-1%7CTARSWBSess%2C%2C-1%7CPremiumORPers%2C%2C-1%7CRestAdsSess%2C%2C-1%7CRBASess%2C%2C-1%7CSPORPers%2C%2C-1%7Cperssticker%2C%2C-1%7CListMCPers%2C%2C-1%7C; Domain=.tripadvisor.co.id; Expires=Mon, 23-May-2033 01:03:25 GMT; Path=/\n",
      "header: Set-Cookie: BEPIN=%1%1885594f44c%3Bweb607a.a.tripadvisor.com%3A30023%3B; Domain=.tripadvisor.co.id; Path=/\n",
      "header: Set-Cookie: PAC=AJwJ8v7VFfWiWS5PYZOyx-PrGle10vPLDb-JAqk4PLwwVZ3pK45cStSM9j0M4o1BBR_L8RIXlD-vjC8hMV5Jh67I2_TSNGZOk56DDlKOSTZNHMp_ZrTyl2ez1UcHWNvEb806__AY0-Jt15pMgEOw84m2iCn_aYqJFMoNTt9m3iQhyPRZ2XVJMusOhlOukp-PJuA6Ho-T_69Huj73jp4_9LAy7ATSTBWq9Kp2l8xMqBgz; Domain=www.tripadvisor.co.id; Expires=Sun, 25-May-2025 01:03:25 GMT; Path=/; Secure; HttpOnly\n",
      "header: Set-Cookie: SRT=TART_SYNC; Domain=www.tripadvisor.co.id; Expires=Fri, 26-May-2023 01:33:25 GMT; Path=/\n",
      "header: Set-Cookie: TATravelInfo=V2*AY.2023*AM.6*AD.4*DY.2023*DM.6*DD.5*A.2*MG.-1*HP.2*FL.3*DSM.1685063005348*RS.1; Domain=.tripadvisor.co.id; Expires=Fri, 09-Jun-2023 01:03:25 GMT; Path=/\n",
      "header: Set-Cookie: TAUD=LG-1685063005220-2.1.F.*RDD-2-2023_05_26*HDD-3-2023_06_04.2023_06_05.1; Domain=.tripadvisor.co.id; Expires=Fri, 09-Jun-2023 01:03:25 GMT; Path=/\n",
      "header: Set-Cookie: TASID=B5EAC6A150074F53B15EB3F1FC80412F; Domain=www.tripadvisor.co.id; Expires=Fri, 26-May-2023 01:33:25 GMT; Path=/; Secure\n",
      "header: Set-Cookie: TAReturnTo=%1%%2FHotel_Review-g297701-d9839093-Reviews-or35-Cloud_Nine_Estate-Ubud_Gianyar_Regency_Bali.html; Domain=.tripadvisor.co.id; Path=/\n",
      "header: Set-Cookie: datadome=6eValY_9ixWgz2~BgY6RJwyk1j~qwwrDaU6D4Kzayxtx_X_BRdqBhVjYeVW9kDUsw~mcLB23~JtiZASzn6ySmfth5Au4BybVKNQjkRFgAuViLmkRkNgcWxm_lMqy4Dw4; Max-Age=31104000; Domain=.tripadvisor.co.id; Path=/; Secure; SameSite=Lax\n",
      "Done Scrapping  Cloud Nine Estate page 7\n",
      "\n",
      "\n"
     ]
    },
    {
     "name": "stderr",
     "output_type": "stream",
     "text": [
      "DEBUG:urllib3.connectionpool:Starting new HTTPS connection (1): www.tripadvisor.co.id:443\n"
     ]
    },
    {
     "name": "stdout",
     "output_type": "stream",
     "text": [
      "send: b'GET /Hotel_Review-g297701-d9839093-Reviews-or40-Cloud_Nine_Estate-Ubud_Gianyar_Regency_Bali.html HTTP/1.1\\r\\nHost: www.tripadvisor.co.id\\r\\nUser-Agent: Mozilla/5.0 (X11; CrOS x86_64 12871.102.0) AppleWebKit/537.36 (KHTML, like Gecko) Chrome/81.0.4044.141 Safari/537.36\\r\\nAccept-Encoding: gzip, deflate\\r\\nAccept: */*\\r\\nConnection: keep-alive\\r\\n\\r\\n'\n"
     ]
    },
    {
     "name": "stderr",
     "output_type": "stream",
     "text": [
      "DEBUG:urllib3.connectionpool:https://www.tripadvisor.co.id:443 \"GET /Hotel_Review-g297701-d9839093-Reviews-or40-Cloud_Nine_Estate-Ubud_Gianyar_Regency_Bali.html HTTP/1.1\" 200 None\n"
     ]
    },
    {
     "name": "stdout",
     "output_type": "stream",
     "text": [
      "reply: 'HTTP/1.1 200 OK\\r\\n'\n",
      "header: Server: envoy\n",
      "header: Link: <https://media-cdn.tripadvisor.com/media/>;rel=\"preconnect\";crossorigin\n",
      "header: Link: <https://media-cdn.tripadvisor.com/media/>;rel=\"dns-prefetch\"\n",
      "header: p3p: CP=\"NOI CURa ADMa DEVa TAIa OUR BUS IND UNI COM NAV INT DSP COR CAO PSA IDC ADM DEVi TAIi PSD IVAi IVDi CONi HIS CNT\"\n",
      "header: Pragma: no-cache\n",
      "header: Cache-Control: no-cache, no-store, must-revalidate\n",
      "header: Expires: 0\n",
      "header: Content-Language: id\n",
      "header: Link: <https://static.tacdn.com>;rel=\"dns-prefetch\"\n",
      "header: Link: <https://static.tacdn.com>;rel=\"preconnect\";crossorigin\n",
      "header: timing-allow-origin: https://www.tripadvisor.com\n",
      "header: Vary: Accept-Encoding\n",
      "header: Content-Type: text/html;charset=UTF-8\n",
      "header: x-datadome: protected\n",
      "header: Accept-CH: Sec-CH-UA,Sec-CH-UA-Mobile,Sec-CH-UA-Platform,Sec-CH-UA-Arch,Sec-CH-UA-Full-Version-List,Sec-CH-UA-Model,Sec-CH-Device-Memory\n",
      "header: Content-Encoding: gzip\n",
      "header: x-request-id: 0dc9bcdf-336d-476d-babf-93a10fbf7700\n",
      "header: Date: Fri, 26 May 2023 01:03:30 GMT\n",
      "header: Transfer-Encoding: chunked\n",
      "header: Connection: keep-alive\n",
      "header: Connection: Transfer-Encoding\n",
      "header: Set-Cookie: TADCID=GFdJl8eFFPrZi-wmABQCXdElnkGETRW-Svh01l3nWnXCbKaNQPkZQ6UmkgOnxL87fZLL2nTeXC4P3_oYMeTbahBzEGqEPC-Bzkw; Domain=www.tripadvisor.co.id; Expires=Mon, 23-May-2033 01:03:29 GMT; Path=/; Secure; HttpOnly\n",
      "header: Set-Cookie: TAUnique=%1%enc%3A7EZKNwcZtQf%2B7H78yfwekiHKVVkteNxI5s6Lo%2F9SlHY2jHwltRJPGQ%3D%3D; Domain=.tripadvisor.co.id; Expires=Sun, 25-May-2025 01:03:29 GMT; Path=/; HttpOnly\n",
      "header: Set-Cookie: TASSK=enc%3AAHnUSYKGtVVe2UBdr56uVM88Qd2RyVG8vgO5SzO9vtzbJkPXb%2Bhold4oSLDkgGFWeZtQwPymsX8YSpsbP6jK%2BZ8esaIps3LzKhQsiJ%2BTOd%2FdLjtGxZZyinYkuadB%2FnxBpw%3D%3D; Domain=www.tripadvisor.co.id; Expires=Wed, 22-Nov-2023 01:03:29 GMT; Path=/; HttpOnly\n",
      "header: Set-Cookie: TASession=V2ID.F50CA8A67A564D0FA1384890EF354F24*SQ.1*HS.recommended*ES.popularity*DS.5*SAS.popularity*FPS.oldFirst*LF.in*FA.1*DF.0*TRA.true*LD.9839093; Domain=.tripadvisor.co.id; Path=/\n",
      "header: Set-Cookie: ServerPool=B; Domain=.tripadvisor.co.id; Path=/\n",
      "header: Set-Cookie: PMC=V2*MS.70*MD.20230525*LD.20230525; Domain=www.tripadvisor.co.id; Expires=Sun, 25-May-2025 01:03:29 GMT; Path=/; Secure; HttpOnly\n",
      "header: Set-Cookie: TART=%1%enc%3A%2Fux%2B%2FMn8HpLi61zfovMEI3lkWw%2BcWOEc%2FmS%2BwZIQvdqPQz9BnkAdzms3d90O%2BqNvCeyaC1LeImE%3D; Domain=www.tripadvisor.co.id; Expires=Wed, 31-May-2023 01:03:29 GMT; Path=/; HttpOnly\n",
      "header: Set-Cookie: CM=%1%PremiumMobSess%2C%2C-1%7Ct4b-pc%2C%2C-1%7CRestAds%2FRPers%2C%2C-1%7CRCPers%2C%2C-1%7CWShadeSeen%2C%2C-1%7CTheForkMCCPers%2C%2C-1%7CHomeASess%2C%2C-1%7CPremiumMCSess%2C%2C-1%7CCrisisSess%2C%2C-1%7CUVOwnersSess%2C%2C-1%7CRestPremRSess%2C%2C-1%7CRepTarMCSess%2C%2C-1%7CCCSess%2C%2C-1%7CCYLSess%2C%2C-1%7CPremRetPers%2C%2C-1%7CViatorMCPers%2C%2C-1%7Csesssticker%2C%2C-1%7C%24%2C%2C-1%7CPremiumORSess%2C%2C-1%7Ct4b-sc%2C%2C-1%7CRestAdsPers%2C%2C-1%7CMC_IB_UPSELL_IB_LOGOS2%2C%2C-1%7CTSMCPers%2C%2C-1%7Cb2bmcpers%2C%2C-1%7CPremMCBtmSess%2C%2C-1%7CMC_IB_UPSELL_IB_LOGOS%2C%2C-1%7CLaFourchette+Banners%2C%2C-1%7Csess_rev%2C%2C-1%7Csessamex%2C%2C-1%7CPremiumRRSess%2C%2C-1%7CTADORSess%2C%2C-1%7CAdsRetPers%2C%2C-1%7CListMCSess%2C%2C-1%7CTARSWBPers%2C%2C-1%7CSPMCSess%2C%2C-1%7CTheForkORSess%2C%2C-1%7CTheForkRRSess%2C%2C-1%7Cpers_rev%2C%2C-1%7CRBAPers%2C%2C-1%7CRestAds%2FRSess%2C%2C-1%7CHomeAPers%2C%2C-1%7CPremiumMobPers%2C%2C-1%7CRCSess%2C%2C-1%7CLaFourchette+MC+Banners%2C%2C-1%7CRestAdsCCSess%2C%2C-1%7CRestPremRPers%2C%2C-1%7CRevHubRMPers%2C%2C-1%7CUVOwnersPers%2C%2C-1%7Cpssamex%2C%2C-1%7CTheForkMCCSess%2C%2C-1%7CCrisisPers%2C%2C-1%7CCYLPers%2C%2C-1%7CCCPers%2C%2C-1%7CRepTarMCPers%2C%2C-1%7Cb2bmcsess%2C%2C-1%7CTSMCSess%2C%2C-1%7CSPMCPers%2C%2C-1%7CRevHubRMSess%2C%2C-1%7CPremRetSess%2C%2C-1%7CViatorMCSess%2C%2C-1%7CPremiumMCPers%2C%2C-1%7CAdsRetSess%2C%2C-1%7CPremiumRRPers%2C%2C-1%7CRestAdsCCPers%2C%2C-1%7CTADORPers%2C%2C-1%7CTheForkORPers%2C%2C-1%7CPremMCBtmPers%2C%2C-1%7CTheForkRRPers%2C%2C-1%7CTARSWBSess%2C%2C-1%7CPremiumORPers%2C%2C-1%7CRestAdsSess%2C%2C-1%7CRBASess%2C%2C-1%7CSPORPers%2C%2C-1%7Cperssticker%2C%2C-1%7CListMCPers%2C%2C-1%7C; Domain=.tripadvisor.co.id; Expires=Mon, 23-May-2033 01:03:29 GMT; Path=/\n",
      "header: Set-Cookie: BEPIN=%1%18855950524%3Bweb251a.a.tripadvisor.com%3A30023%3B; Domain=.tripadvisor.co.id; Path=/\n",
      "header: Set-Cookie: PAC=AMIgad30AOUp8KwuaGloiSWeZArF_EiQTxwss6gj5s-VBuxOaMsCv6suOgsRvsWyZAPX7I8ki1tX6koDGR2KZ8gSxbuL5sy5_-u2MkLyGoFa4SW2i1ChotipaElFKJzp1DtSq5zKbeUKWM857yEcnMv_Drp3QFGCh3N5fV-gfk8mJavbXPg7kdlM3vSPgPuPWKRJ6m_MdBA6RHhzeaWfyb2PVgLDf88PWG7qfPJbPuYs; Domain=www.tripadvisor.co.id; Expires=Sun, 25-May-2025 01:03:29 GMT; Path=/; Secure; HttpOnly\n",
      "header: Set-Cookie: SRT=TART_SYNC; Domain=www.tripadvisor.co.id; Expires=Fri, 26-May-2023 01:33:29 GMT; Path=/\n",
      "header: Set-Cookie: TATravelInfo=V2*AY.2023*AM.6*AD.4*DY.2023*DM.6*DD.5*A.2*MG.-1*HP.2*FL.3*DSM.1685063009653*RS.1; Domain=.tripadvisor.co.id; Expires=Fri, 09-Jun-2023 01:03:29 GMT; Path=/\n",
      "header: Set-Cookie: TAUD=LG-1685063009542-2.1.F.*RDD-2-2023_05_26*HDD-3-2023_06_04.2023_06_05.1; Domain=.tripadvisor.co.id; Expires=Fri, 09-Jun-2023 01:03:29 GMT; Path=/\n",
      "header: Set-Cookie: TASID=F50CA8A67A564D0FA1384890EF354F24; Domain=www.tripadvisor.co.id; Expires=Fri, 26-May-2023 01:33:29 GMT; Path=/; Secure\n",
      "header: Set-Cookie: TAReturnTo=%1%%2FHotel_Review-g297701-d9839093-Reviews-or40-Cloud_Nine_Estate-Ubud_Gianyar_Regency_Bali.html; Domain=.tripadvisor.co.id; Path=/\n",
      "header: Set-Cookie: datadome=3frHm1ZewzVj3iK-IospRK6zu6UERE~YJ~7NNFiGgBBQd5BQObI_K9aywIRsc2tQhFnS3JBB0sJUexZThrKrt5d7tTGA7waCm7yZ~FAl_nf2_ITwOydihpYZoDM438Ss; Max-Age=31104000; Domain=.tripadvisor.co.id; Path=/; Secure; SameSite=Lax\n",
      "Done Scrapping  Cloud Nine Estate page 8\n",
      "\n",
      "\n"
     ]
    },
    {
     "name": "stderr",
     "output_type": "stream",
     "text": [
      "DEBUG:urllib3.connectionpool:Starting new HTTPS connection (1): www.tripadvisor.co.id:443\n"
     ]
    },
    {
     "name": "stdout",
     "output_type": "stream",
     "text": [
      "send: b'GET /Hotel_Review-g297701-d9839093-Reviews-or45-Cloud_Nine_Estate-Ubud_Gianyar_Regency_Bali.html HTTP/1.1\\r\\nHost: www.tripadvisor.co.id\\r\\nUser-Agent: Mozilla/5.0 (X11; CrOS x86_64 12871.102.0) AppleWebKit/537.36 (KHTML, like Gecko) Chrome/81.0.4044.141 Safari/537.36\\r\\nAccept-Encoding: gzip, deflate\\r\\nAccept: */*\\r\\nConnection: keep-alive\\r\\n\\r\\n'\n"
     ]
    },
    {
     "name": "stderr",
     "output_type": "stream",
     "text": [
      "DEBUG:urllib3.connectionpool:https://www.tripadvisor.co.id:443 \"GET /Hotel_Review-g297701-d9839093-Reviews-or45-Cloud_Nine_Estate-Ubud_Gianyar_Regency_Bali.html HTTP/1.1\" 200 None\n"
     ]
    },
    {
     "name": "stdout",
     "output_type": "stream",
     "text": [
      "reply: 'HTTP/1.1 200 OK\\r\\n'\n",
      "header: Server: envoy\n",
      "header: Link: <https://media-cdn.tripadvisor.com/media/>;rel=\"preconnect\";crossorigin\n",
      "header: Link: <https://media-cdn.tripadvisor.com/media/>;rel=\"dns-prefetch\"\n",
      "header: p3p: CP=\"NOI CURa ADMa DEVa TAIa OUR BUS IND UNI COM NAV INT DSP COR CAO PSA IDC ADM DEVi TAIi PSD IVAi IVDi CONi HIS CNT\"\n",
      "header: Pragma: no-cache\n",
      "header: Cache-Control: no-cache, no-store, must-revalidate\n",
      "header: Expires: 0\n",
      "header: Content-Language: id\n",
      "header: Link: <https://static.tacdn.com>;rel=\"dns-prefetch\"\n",
      "header: Link: <https://static.tacdn.com>;rel=\"preconnect\";crossorigin\n",
      "header: timing-allow-origin: https://www.tripadvisor.com\n",
      "header: Vary: Accept-Encoding\n",
      "header: Content-Type: text/html;charset=UTF-8\n",
      "header: Accept-CH: Sec-CH-UA,Sec-CH-UA-Mobile,Sec-CH-UA-Platform,Sec-CH-UA-Arch,Sec-CH-UA-Full-Version-List,Sec-CH-UA-Model,Sec-CH-Device-Memory\n",
      "header: x-datadome: protected\n",
      "header: Content-Encoding: gzip\n",
      "header: x-request-id: f39d5edb-b103-4bba-a740-be67d1da200f\n",
      "header: Date: Fri, 26 May 2023 01:03:35 GMT\n",
      "header: Transfer-Encoding: chunked\n",
      "header: Connection: keep-alive\n",
      "header: Connection: Transfer-Encoding\n",
      "header: Set-Cookie: TADCID=DETwgPdFABB6zYVNABQCXdElnkGETRW-Svh01l3nWnXCbLsIqzphpyvOLaIr0bCPoKUO8Ar2LJvanvhN1hSB7hbcu1fHGPi7bvA; Domain=www.tripadvisor.co.id; Expires=Mon, 23-May-2033 01:03:34 GMT; Path=/; Secure; HttpOnly\n",
      "header: Set-Cookie: TAUnique=%1%enc%3AE1V%2FkyQN09j%2B7H78yfwekiHKVVkteNxIC1qLIrL8sjA2jHwltRJPGQ%3D%3D; Domain=.tripadvisor.co.id; Expires=Sun, 25-May-2025 01:03:34 GMT; Path=/; HttpOnly\n",
      "header: Set-Cookie: TASSK=enc%3AAOeeC1KTcY2%2FCw7LBzkWeuaQjAkNw86UXWXShSzNTLkaQTVkUvyaYPvxTj%2FO5Mjn%2Fal9g7YN0GgCQHCOHDyUa9nOBAqdw4qz0cJY0Uv%2FTJy2fL1B8y82zs2pD4zSuYqXJA%3D%3D; Domain=www.tripadvisor.co.id; Expires=Wed, 22-Nov-2023 01:03:35 GMT; Path=/; HttpOnly\n",
      "header: Set-Cookie: TASession=V2ID.DE8962CD18604647A98C594F80346C8F*SQ.1*HS.recommended*ES.popularity*DS.5*SAS.popularity*FPS.oldFirst*LF.in*FA.1*DF.0*TRA.true*LD.9839093; Domain=.tripadvisor.co.id; Path=/\n",
      "header: Set-Cookie: ServerPool=B; Domain=.tripadvisor.co.id; Path=/\n",
      "header: Set-Cookie: PMC=V2*MS.68*MD.20230525*LD.20230525; Domain=www.tripadvisor.co.id; Expires=Sun, 25-May-2025 01:03:35 GMT; Path=/; Secure; HttpOnly\n",
      "header: Set-Cookie: TART=%1%enc%3A%2Fux%2B%2FMn8HpINZmgiOO%2FdyS974qF%2F6kPYRuRhoZy4EP0HELOngeIcVENbjWEs%2Bak%2Fyx9HjuV9fk0%3D; Domain=www.tripadvisor.co.id; Expires=Wed, 31-May-2023 01:03:35 GMT; Path=/; HttpOnly\n",
      "header: Set-Cookie: CM=%1%PremiumMobSess%2C%2C-1%7Ct4b-pc%2C%2C-1%7CRestAds%2FRPers%2C%2C-1%7CRCPers%2C%2C-1%7CWShadeSeen%2C%2C-1%7CTheForkMCCPers%2C%2C-1%7CHomeASess%2C%2C-1%7CPremiumMCSess%2C%2C-1%7CCrisisSess%2C%2C-1%7CUVOwnersSess%2C%2C-1%7CRestPremRSess%2C%2C-1%7CRepTarMCSess%2C%2C-1%7CCCSess%2C%2C-1%7CCYLSess%2C%2C-1%7CPremRetPers%2C%2C-1%7CViatorMCPers%2C%2C-1%7Csesssticker%2C%2C-1%7C%24%2C%2C-1%7CPremiumORSess%2C%2C-1%7Ct4b-sc%2C%2C-1%7CRestAdsPers%2C%2C-1%7CMC_IB_UPSELL_IB_LOGOS2%2C%2C-1%7CTSMCPers%2C%2C-1%7Cb2bmcpers%2C%2C-1%7CPremMCBtmSess%2C%2C-1%7CMC_IB_UPSELL_IB_LOGOS%2C%2C-1%7CLaFourchette+Banners%2C%2C-1%7Csess_rev%2C%2C-1%7Csessamex%2C%2C-1%7CPremiumRRSess%2C%2C-1%7CTADORSess%2C%2C-1%7CAdsRetPers%2C%2C-1%7CListMCSess%2C%2C-1%7CTARSWBPers%2C%2C-1%7CSPMCSess%2C%2C-1%7CTheForkORSess%2C%2C-1%7CTheForkRRSess%2C%2C-1%7Cpers_rev%2C%2C-1%7CRBAPers%2C%2C-1%7CRestAds%2FRSess%2C%2C-1%7CHomeAPers%2C%2C-1%7CPremiumMobPers%2C%2C-1%7CRCSess%2C%2C-1%7CLaFourchette+MC+Banners%2C%2C-1%7CRestAdsCCSess%2C%2C-1%7CRestPremRPers%2C%2C-1%7CRevHubRMPers%2C%2C-1%7CUVOwnersPers%2C%2C-1%7Cpssamex%2C%2C-1%7CTheForkMCCSess%2C%2C-1%7CCrisisPers%2C%2C-1%7CCYLPers%2C%2C-1%7CCCPers%2C%2C-1%7CRepTarMCPers%2C%2C-1%7Cb2bmcsess%2C%2C-1%7CTSMCSess%2C%2C-1%7CSPMCPers%2C%2C-1%7CRevHubRMSess%2C%2C-1%7CPremRetSess%2C%2C-1%7CViatorMCSess%2C%2C-1%7CPremiumMCPers%2C%2C-1%7CAdsRetSess%2C%2C-1%7CPremiumRRPers%2C%2C-1%7CRestAdsCCPers%2C%2C-1%7CTADORPers%2C%2C-1%7CTheForkORPers%2C%2C-1%7CPremMCBtmPers%2C%2C-1%7CTheForkRRPers%2C%2C-1%7CTARSWBSess%2C%2C-1%7CPremiumORPers%2C%2C-1%7CRestAdsSess%2C%2C-1%7CRBASess%2C%2C-1%7CSPORPers%2C%2C-1%7Cperssticker%2C%2C-1%7CListMCPers%2C%2C-1%7C; Domain=.tripadvisor.co.id; Expires=Mon, 23-May-2033 01:03:35 GMT; Path=/\n",
      "header: Set-Cookie: BEPIN=%1%18855951945%3Bweb123a.a.tripadvisor.com%3A30023%3B; Domain=.tripadvisor.co.id; Path=/\n",
      "header: Set-Cookie: PAC=AKyjBBiZghY8obB6zy6e3rpe_CrW4eF6aDBy6r5FbxKzlESzbu1qYdxyfD_ts1pFvcbCt7MOe3VthQrTnQrYGlosrddBWAo5zFBUlMwtMva10YSDmaRd3ifk--tLqJxC7nNS4fq5b83SlLAujO4mtX4uydDFcdUDfPX6cpiacXVFtolhXmwQeyF6TcwFKmveQ_FE91ZhfIkp0MltTdT0CXXGtmHs8kllzhRfo9Z4jbKQ; Domain=www.tripadvisor.co.id; Expires=Sun, 25-May-2025 01:03:35 GMT; Path=/; Secure; HttpOnly\n",
      "header: Set-Cookie: SRT=TART_SYNC; Domain=www.tripadvisor.co.id; Expires=Fri, 26-May-2023 01:33:35 GMT; Path=/\n",
      "header: Set-Cookie: TATravelInfo=V2*AY.2023*AM.6*AD.4*DY.2023*DM.6*DD.5*A.2*MG.-1*HP.2*FL.3*DSM.1685063014813*RS.1; Domain=.tripadvisor.co.id; Expires=Fri, 09-Jun-2023 01:03:35 GMT; Path=/\n",
      "header: Set-Cookie: TAUD=LG-1685063014693-2.1.F.*RDD-2-2023_05_26*HDD-3-2023_06_04.2023_06_05.1; Domain=.tripadvisor.co.id; Expires=Fri, 09-Jun-2023 01:03:35 GMT; Path=/\n",
      "header: Set-Cookie: TASID=DE8962CD18604647A98C594F80346C8F; Domain=www.tripadvisor.co.id; Expires=Fri, 26-May-2023 01:33:35 GMT; Path=/; Secure\n",
      "header: Set-Cookie: TAReturnTo=%1%%2FHotel_Review-g297701-d9839093-Reviews-or45-Cloud_Nine_Estate-Ubud_Gianyar_Regency_Bali.html; Domain=.tripadvisor.co.id; Path=/\n",
      "header: Set-Cookie: datadome=3Im~XVqg0~tv_tY-fm6~bb6NFla65sl-0woQYNq1QT8k6qFBjDkt8lnywdrVnBUX1KjsqzhhFimS7qqkeh8oXyoqks6si88KJ-VJohVL_4jQQp_12_WvG-A0Kc_DQ2Rn; Max-Age=31104000; Domain=.tripadvisor.co.id; Path=/; Secure; SameSite=Lax\n",
      "Done Scrapping  Cloud Nine Estate page 9\n",
      "\n",
      "\n"
     ]
    },
    {
     "name": "stderr",
     "output_type": "stream",
     "text": [
      "DEBUG:urllib3.connectionpool:Starting new HTTPS connection (1): www.tripadvisor.co.id:443\n"
     ]
    },
    {
     "name": "stdout",
     "output_type": "stream",
     "text": [
      "send: b'GET /Hotel_Review-g297701-d9839093-Reviews-or50-Cloud_Nine_Estate-Ubud_Gianyar_Regency_Bali.html HTTP/1.1\\r\\nHost: www.tripadvisor.co.id\\r\\nUser-Agent: Mozilla/5.0 (X11; CrOS x86_64 12871.102.0) AppleWebKit/537.36 (KHTML, like Gecko) Chrome/81.0.4044.141 Safari/537.36\\r\\nAccept-Encoding: gzip, deflate\\r\\nAccept: */*\\r\\nConnection: keep-alive\\r\\n\\r\\n'\n"
     ]
    },
    {
     "name": "stderr",
     "output_type": "stream",
     "text": [
      "DEBUG:urllib3.connectionpool:https://www.tripadvisor.co.id:443 \"GET /Hotel_Review-g297701-d9839093-Reviews-or50-Cloud_Nine_Estate-Ubud_Gianyar_Regency_Bali.html HTTP/1.1\" 200 None\n"
     ]
    },
    {
     "name": "stdout",
     "output_type": "stream",
     "text": [
      "reply: 'HTTP/1.1 200 OK\\r\\n'\n",
      "header: Server: envoy\n",
      "header: Link: <https://media-cdn.tripadvisor.com/media/>;rel=\"preconnect\";crossorigin\n",
      "header: Link: <https://media-cdn.tripadvisor.com/media/>;rel=\"dns-prefetch\"\n",
      "header: p3p: CP=\"NOI CURa ADMa DEVa TAIa OUR BUS IND UNI COM NAV INT DSP COR CAO PSA IDC ADM DEVi TAIi PSD IVAi IVDi CONi HIS CNT\"\n",
      "header: Pragma: no-cache\n",
      "header: Cache-Control: no-cache, no-store, must-revalidate\n",
      "header: Expires: 0\n",
      "header: Content-Language: id\n",
      "header: Link: <https://static.tacdn.com>;rel=\"dns-prefetch\"\n",
      "header: Link: <https://static.tacdn.com>;rel=\"preconnect\";crossorigin\n",
      "header: timing-allow-origin: https://www.tripadvisor.com\n",
      "header: Vary: Accept-Encoding\n",
      "header: Content-Type: text/html;charset=UTF-8\n",
      "header: x-datadome: protected\n",
      "header: Accept-CH: Sec-CH-UA,Sec-CH-UA-Mobile,Sec-CH-UA-Platform,Sec-CH-UA-Arch,Sec-CH-UA-Full-Version-List,Sec-CH-UA-Model,Sec-CH-Device-Memory\n",
      "header: Content-Encoding: gzip\n",
      "header: x-request-id: a7c8e43e-7536-4ce2-a0a3-fedac2b96541\n",
      "header: Date: Fri, 26 May 2023 01:03:40 GMT\n",
      "header: Transfer-Encoding: chunked\n",
      "header: Connection: keep-alive\n",
      "header: Connection: Transfer-Encoding\n",
      "header: Set-Cookie: TADCID=tU0faHf4lce6-_9WABQCXdElnkGETRW-Svh01l3nWnXCbCR_u8tcqh1wl6QkOskAtsuDI6f5WX-MsGCcU87G8tape08Nv9TmMxA; Domain=www.tripadvisor.co.id; Expires=Mon, 23-May-2033 01:03:40 GMT; Path=/; Secure; HttpOnly\n",
      "header: Set-Cookie: TAUnique=%1%enc%3A2So9wtYnBk%2F%2B7H78yfwekiHKVVkteNxIbe2LtBDePhk2jHwltRJPGQ%3D%3D; Domain=.tripadvisor.co.id; Expires=Sun, 25-May-2025 01:03:40 GMT; Path=/; HttpOnly\n",
      "header: Set-Cookie: TASSK=enc%3AAEyax8F42N07eHnxaJxH6S5o8W0Fak4H%2BUVMNuAm7Iaghww8nqzrm%2FnqsnMB8v9vUT0xdNYufvC%2FDzB3tUmV3eHFDHifOFel%2BnHOmfcQpmpC%2BC%2FGnrfoJM7hW9OjtPfcKg%3D%3D; Domain=www.tripadvisor.co.id; Expires=Wed, 22-Nov-2023 01:03:40 GMT; Path=/; HttpOnly\n",
      "header: Set-Cookie: TASession=V2ID.7044D29C8AA74012A8F3D2F4F00DBD70*SQ.1*HS.recommended*ES.popularity*DS.5*SAS.popularity*FPS.oldFirst*LF.in*FA.1*DF.0*TRA.true*LD.9839093; Domain=.tripadvisor.co.id; Path=/\n",
      "header: Set-Cookie: ServerPool=X; Domain=.tripadvisor.co.id; Path=/\n",
      "header: Set-Cookie: PMC=V2*MS.50*MD.20230525*LD.20230525; Domain=www.tripadvisor.co.id; Expires=Sun, 25-May-2025 01:03:40 GMT; Path=/; Secure; HttpOnly\n",
      "header: Set-Cookie: TART=%1%enc%3A%2Fux%2B%2FMn8HpJWZNyhEFjT9diC1%2F%2BbzEZ20LemfdPfkNgP4F5h%2Fm8xBiKCZ92KjpWjRsNr41gHGgI%3D; Domain=www.tripadvisor.co.id; Expires=Wed, 31-May-2023 01:03:40 GMT; Path=/; HttpOnly\n",
      "header: Set-Cookie: CM=%1%PremiumMobSess%2C%2C-1%7Ct4b-pc%2C%2C-1%7CRestAds%2FRPers%2C%2C-1%7CRCPers%2C%2C-1%7CWShadeSeen%2C%2C-1%7CTheForkMCCPers%2C%2C-1%7CHomeASess%2C%2C-1%7CPremiumMCSess%2C%2C-1%7CCrisisSess%2C%2C-1%7CUVOwnersSess%2C%2C-1%7CRestPremRSess%2C%2C-1%7CRepTarMCSess%2C%2C-1%7CCCSess%2C%2C-1%7CCYLSess%2C%2C-1%7CPremRetPers%2C%2C-1%7CViatorMCPers%2C%2C-1%7Csesssticker%2C%2C-1%7C%24%2C%2C-1%7CPremiumORSess%2C%2C-1%7Ct4b-sc%2C%2C-1%7CRestAdsPers%2C%2C-1%7CMC_IB_UPSELL_IB_LOGOS2%2C%2C-1%7CTSMCPers%2C%2C-1%7Cb2bmcpers%2C%2C-1%7CPremMCBtmSess%2C%2C-1%7CMC_IB_UPSELL_IB_LOGOS%2C%2C-1%7CLaFourchette+Banners%2C%2C-1%7Csess_rev%2C%2C-1%7Csessamex%2C%2C-1%7CPremiumRRSess%2C%2C-1%7CTADORSess%2C%2C-1%7CAdsRetPers%2C%2C-1%7CListMCSess%2C%2C-1%7CTARSWBPers%2C%2C-1%7CSPMCSess%2C%2C-1%7CTheForkORSess%2C%2C-1%7CTheForkRRSess%2C%2C-1%7Cpers_rev%2C%2C-1%7CRBAPers%2C%2C-1%7CRestAds%2FRSess%2C%2C-1%7CHomeAPers%2C%2C-1%7CPremiumMobPers%2C%2C-1%7CRCSess%2C%2C-1%7CLaFourchette+MC+Banners%2C%2C-1%7CRestAdsCCSess%2C%2C-1%7CRestPremRPers%2C%2C-1%7CRevHubRMPers%2C%2C-1%7CUVOwnersPers%2C%2C-1%7Cpssamex%2C%2C-1%7CTheForkMCCSess%2C%2C-1%7CCrisisPers%2C%2C-1%7CCYLPers%2C%2C-1%7CCCPers%2C%2C-1%7CRepTarMCPers%2C%2C-1%7Cb2bmcsess%2C%2C-1%7CTSMCSess%2C%2C-1%7CSPMCPers%2C%2C-1%7CRevHubRMSess%2C%2C-1%7CPremRetSess%2C%2C-1%7CViatorMCSess%2C%2C-1%7CPremiumMCPers%2C%2C-1%7CAdsRetSess%2C%2C-1%7CPremiumRRPers%2C%2C-1%7CRestAdsCCPers%2C%2C-1%7CTADORPers%2C%2C-1%7CTheForkORPers%2C%2C-1%7CPremMCBtmPers%2C%2C-1%7CTheForkRRPers%2C%2C-1%7CTARSWBSess%2C%2C-1%7CPremiumORPers%2C%2C-1%7CRestAdsSess%2C%2C-1%7CRBASess%2C%2C-1%7CSPORPers%2C%2C-1%7Cperssticker%2C%2C-1%7CListMCPers%2C%2C-1%7C; Domain=.tripadvisor.co.id; Expires=Mon, 23-May-2033 01:03:40 GMT; Path=/\n",
      "header: Set-Cookie: BEPIN=%1%18855952eab%3Bweb789a.a.tripadvisor.com%3A30023%3B; Domain=.tripadvisor.co.id; Path=/\n",
      "header: Set-Cookie: PAC=AMvkWvlN6B1Z0KAcKTGEUyaFiekBnM17KT2RbWmZjfH4HQVVBaJUv531yS267Hbhghm5hFEFs_ZwiJFJYILkhONGwgAOQxgbLvCef5RsHQ7z5W9wmb7d7TO87v90g98P2iwgv3YMpmEHqoc3f0MEqgIcTS3a2RFkWFQUfM43Lb7IySJac1WLjKn0LLK2VhFJ9WFklCiJLY5I8nylgPbIWHJZAsnLedmMRugYFRgPoES7; Domain=www.tripadvisor.co.id; Expires=Sun, 25-May-2025 01:03:40 GMT; Path=/; Secure; HttpOnly\n",
      "header: Set-Cookie: SRT=TART_SYNC; Domain=www.tripadvisor.co.id; Expires=Fri, 26-May-2023 01:33:40 GMT; Path=/\n",
      "header: Set-Cookie: TATravelInfo=V2*AY.2023*AM.6*AD.4*DY.2023*DM.6*DD.5*A.2*MG.-1*HP.2*FL.3*DSM.1685063020280*RS.1; Domain=.tripadvisor.co.id; Expires=Fri, 09-Jun-2023 01:03:40 GMT; Path=/\n",
      "header: Set-Cookie: TAUD=LG-1685063020168-2.1.F.*RDD-2-2023_05_26*HDD-3-2023_06_04.2023_06_05.1; Domain=.tripadvisor.co.id; Expires=Fri, 09-Jun-2023 01:03:40 GMT; Path=/\n",
      "header: Set-Cookie: TASID=7044D29C8AA74012A8F3D2F4F00DBD70; Domain=www.tripadvisor.co.id; Expires=Fri, 26-May-2023 01:33:40 GMT; Path=/; Secure\n",
      "header: Set-Cookie: TAReturnTo=%1%%2FHotel_Review-g297701-d9839093-Reviews-or50-Cloud_Nine_Estate-Ubud_Gianyar_Regency_Bali.html; Domain=.tripadvisor.co.id; Path=/\n",
      "header: Set-Cookie: datadome=341AXs24tZlx8qsQgy9m0dGNCFrANxKHzsIk~f5QLYZtG3DO4PR4aPHYJBiacHQlasdAzLkkV2_5334eyG5VouyuhkRsHptJKjgD6ST21rQso0ZZcISynfBVVp027d6q; Max-Age=31104000; Domain=.tripadvisor.co.id; Path=/; Secure; SameSite=Lax\n",
      "Done Scrapping  Cloud Nine Estate page 10\n",
      "\n",
      "\n"
     ]
    },
    {
     "name": "stderr",
     "output_type": "stream",
     "text": [
      "DEBUG:urllib3.connectionpool:Starting new HTTPS connection (1): www.tripadvisor.co.id:443\n"
     ]
    },
    {
     "name": "stdout",
     "output_type": "stream",
     "text": [
      "send: b'GET /Hotel_Review-g297701-d9839093-Reviews-or55-Cloud_Nine_Estate-Ubud_Gianyar_Regency_Bali.html HTTP/1.1\\r\\nHost: www.tripadvisor.co.id\\r\\nUser-Agent: Mozilla/5.0 (X11; CrOS x86_64 12871.102.0) AppleWebKit/537.36 (KHTML, like Gecko) Chrome/81.0.4044.141 Safari/537.36\\r\\nAccept-Encoding: gzip, deflate\\r\\nAccept: */*\\r\\nConnection: keep-alive\\r\\n\\r\\n'\n"
     ]
    },
    {
     "name": "stderr",
     "output_type": "stream",
     "text": [
      "DEBUG:urllib3.connectionpool:https://www.tripadvisor.co.id:443 \"GET /Hotel_Review-g297701-d9839093-Reviews-or55-Cloud_Nine_Estate-Ubud_Gianyar_Regency_Bali.html HTTP/1.1\" 200 None\n"
     ]
    },
    {
     "name": "stdout",
     "output_type": "stream",
     "text": [
      "reply: 'HTTP/1.1 200 OK\\r\\n'\n",
      "header: Server: envoy\n",
      "header: Link: <https://media-cdn.tripadvisor.com/media/>;rel=\"preconnect\";crossorigin\n",
      "header: Link: <https://media-cdn.tripadvisor.com/media/>;rel=\"dns-prefetch\"\n",
      "header: p3p: CP=\"NOI CURa ADMa DEVa TAIa OUR BUS IND UNI COM NAV INT DSP COR CAO PSA IDC ADM DEVi TAIi PSD IVAi IVDi CONi HIS CNT\"\n",
      "header: Pragma: no-cache\n",
      "header: Cache-Control: no-cache, no-store, must-revalidate\n",
      "header: Expires: 0\n",
      "header: Content-Language: id\n",
      "header: Link: <https://static.tacdn.com>;rel=\"dns-prefetch\"\n",
      "header: Link: <https://static.tacdn.com>;rel=\"preconnect\";crossorigin\n",
      "header: timing-allow-origin: https://www.tripadvisor.com\n",
      "header: Vary: Accept-Encoding\n",
      "header: Content-Type: text/html;charset=UTF-8\n",
      "header: x-datadome: protected\n",
      "header: Accept-CH: Sec-CH-UA,Sec-CH-UA-Mobile,Sec-CH-UA-Platform,Sec-CH-UA-Arch,Sec-CH-UA-Full-Version-List,Sec-CH-UA-Model,Sec-CH-Device-Memory\n",
      "header: Content-Encoding: gzip\n",
      "header: x-request-id: 0671559f-7f7d-4722-8b6a-f0e18288d54d\n",
      "header: Date: Fri, 26 May 2023 01:03:46 GMT\n",
      "header: Transfer-Encoding: chunked\n",
      "header: Connection: keep-alive\n",
      "header: Connection: Transfer-Encoding\n",
      "header: Set-Cookie: TADCID=_10Sh2DcjEE2xFEUABQCXdElnkGETRW-Svh01l3nWnXCbBviOEllo-mM9oFfE0S6veba1JxTuwXRSQ9pJJurNDs6JmkFBcKg-lI; Domain=www.tripadvisor.co.id; Expires=Mon, 23-May-2033 01:03:46 GMT; Path=/; Secure; HttpOnly\n",
      "header: Set-Cookie: TAUnique=%1%enc%3AE1V%2FkyQN09j%2B7H78yfwekiHKVVkteNxIHpWsPped0sQ2jHwltRJPGQ%3D%3D; Domain=.tripadvisor.co.id; Expires=Sun, 25-May-2025 01:03:46 GMT; Path=/; HttpOnly\n",
      "header: Set-Cookie: TASSK=enc%3AAGHiW5UlC%2BhywRtjU7UyVBbMja4jpO9g5k9eb7j9c86vSv%2FycfIcuyxmzXaLp2v7VkC2bcWGjUoT5EtcxmQFSqmUH3bhfknfzvX6mheWD3GeAYPB53%2FW9A22vdS6OgJ%2Flw%3D%3D; Domain=www.tripadvisor.co.id; Expires=Wed, 22-Nov-2023 01:03:46 GMT; Path=/; HttpOnly\n",
      "header: Set-Cookie: TASession=V2ID.61E4EF1C153147AAA91121B40D7660A9*SQ.1*HS.recommended*ES.popularity*DS.5*SAS.popularity*FPS.oldFirst*LF.in*FA.1*DF.0*TRA.true*LD.9839093; Domain=.tripadvisor.co.id; Path=/\n",
      "header: Set-Cookie: ServerPool=B; Domain=.tripadvisor.co.id; Path=/\n",
      "header: Set-Cookie: PMC=V2*MS.31*MD.20230525*LD.20230525; Domain=www.tripadvisor.co.id; Expires=Sun, 25-May-2025 01:03:46 GMT; Path=/; Secure; HttpOnly\n",
      "header: Set-Cookie: TART=%1%enc%3A%2Fux%2B%2FMn8HpK%2Fx8e6OruNiYbpDs2q2ozWQuxB4SYfkrk3hE4gfKV17kWfZinxvIKURsNr41gHGgI%3D; Domain=www.tripadvisor.co.id; Expires=Wed, 31-May-2023 01:03:46 GMT; Path=/; HttpOnly\n",
      "header: Set-Cookie: CM=%1%PremiumMobSess%2C%2C-1%7Ct4b-pc%2C%2C-1%7CRestAds%2FRPers%2C%2C-1%7CRCPers%2C%2C-1%7CWShadeSeen%2C%2C-1%7CTheForkMCCPers%2C%2C-1%7CHomeASess%2C%2C-1%7CPremiumMCSess%2C%2C-1%7CCrisisSess%2C%2C-1%7CUVOwnersSess%2C%2C-1%7CRestPremRSess%2C%2C-1%7CRepTarMCSess%2C%2C-1%7CCCSess%2C%2C-1%7CCYLSess%2C%2C-1%7CPremRetPers%2C%2C-1%7CViatorMCPers%2C%2C-1%7Csesssticker%2C%2C-1%7C%24%2C%2C-1%7CPremiumORSess%2C%2C-1%7Ct4b-sc%2C%2C-1%7CRestAdsPers%2C%2C-1%7CMC_IB_UPSELL_IB_LOGOS2%2C%2C-1%7CTSMCPers%2C%2C-1%7Cb2bmcpers%2C%2C-1%7CPremMCBtmSess%2C%2C-1%7CMC_IB_UPSELL_IB_LOGOS%2C%2C-1%7CLaFourchette+Banners%2C%2C-1%7Csess_rev%2C%2C-1%7Csessamex%2C%2C-1%7CPremiumRRSess%2C%2C-1%7CTADORSess%2C%2C-1%7CAdsRetPers%2C%2C-1%7CListMCSess%2C%2C-1%7CTARSWBPers%2C%2C-1%7CSPMCSess%2C%2C-1%7CTheForkORSess%2C%2C-1%7CTheForkRRSess%2C%2C-1%7Cpers_rev%2C%2C-1%7CRBAPers%2C%2C-1%7CRestAds%2FRSess%2C%2C-1%7CHomeAPers%2C%2C-1%7CPremiumMobPers%2C%2C-1%7CRCSess%2C%2C-1%7CLaFourchette+MC+Banners%2C%2C-1%7CRestAdsCCSess%2C%2C-1%7CRestPremRPers%2C%2C-1%7CRevHubRMPers%2C%2C-1%7CUVOwnersPers%2C%2C-1%7Cpssamex%2C%2C-1%7CTheForkMCCSess%2C%2C-1%7CCrisisPers%2C%2C-1%7CCYLPers%2C%2C-1%7CCCPers%2C%2C-1%7CRepTarMCPers%2C%2C-1%7Cb2bmcsess%2C%2C-1%7CTSMCSess%2C%2C-1%7CSPMCPers%2C%2C-1%7CRevHubRMSess%2C%2C-1%7CPremRetSess%2C%2C-1%7CViatorMCSess%2C%2C-1%7CPremiumMCPers%2C%2C-1%7CAdsRetSess%2C%2C-1%7CPremiumRRPers%2C%2C-1%7CRestAdsCCPers%2C%2C-1%7CTADORPers%2C%2C-1%7CTheForkORPers%2C%2C-1%7CPremMCBtmPers%2C%2C-1%7CTheForkRRPers%2C%2C-1%7CTARSWBSess%2C%2C-1%7CPremiumORPers%2C%2C-1%7CRestAdsSess%2C%2C-1%7CRBASess%2C%2C-1%7CSPORPers%2C%2C-1%7Cperssticker%2C%2C-1%7CListMCPers%2C%2C-1%7C; Domain=.tripadvisor.co.id; Expires=Mon, 23-May-2033 01:03:46 GMT; Path=/\n",
      "header: Set-Cookie: BEPIN=%1%1885595463f%3Bweb376a.a.tripadvisor.com%3A30023%3B; Domain=.tripadvisor.co.id; Path=/\n",
      "header: Set-Cookie: PAC=AJG-bkwJaV1CTfS1kuE_G4PczT24pB4bGne-hc8alw7m0JpqeSLSxQ-OoFw6HGDZmrwnf1ZYTcVkA9fApKhGAMs7s8U6nnGLhiQU5vww1kQ_khdm2v2bYaM6_0wB99SBDtK5D-wC3navnJTsyy2EsPnwBFv3QXSv6AwgjypPKavuBLANNXeXwLltVL84giz8zZYQ29Q05JeIztLQCuP2bCryBr03uPBL2dRog-wYWrG-; Domain=www.tripadvisor.co.id; Expires=Sun, 25-May-2025 01:03:46 GMT; Path=/; Secure; HttpOnly\n",
      "header: Set-Cookie: SRT=TART_SYNC; Domain=www.tripadvisor.co.id; Expires=Fri, 26-May-2023 01:33:46 GMT; Path=/\n",
      "header: Set-Cookie: TATravelInfo=V2*AY.2023*AM.6*AD.4*DY.2023*DM.6*DD.5*A.2*MG.-1*HP.2*FL.3*DSM.1685063026323*RS.1; Domain=.tripadvisor.co.id; Expires=Fri, 09-Jun-2023 01:03:46 GMT; Path=/\n",
      "header: Set-Cookie: TAUD=LG-1685063026222-2.1.F.*RDD-2-2023_05_26*HDD-3-2023_06_04.2023_06_05.1; Domain=.tripadvisor.co.id; Expires=Fri, 09-Jun-2023 01:03:46 GMT; Path=/\n",
      "header: Set-Cookie: TASID=61E4EF1C153147AAA91121B40D7660A9; Domain=www.tripadvisor.co.id; Expires=Fri, 26-May-2023 01:33:46 GMT; Path=/; Secure\n",
      "header: Set-Cookie: TAReturnTo=%1%%2FHotel_Review-g297701-d9839093-Reviews-or55-Cloud_Nine_Estate-Ubud_Gianyar_Regency_Bali.html; Domain=.tripadvisor.co.id; Path=/\n",
      "header: Set-Cookie: datadome=0BczbJuhkTlmTd~KQlTCY1DA~yDURykVznB2OpBRtZv1yQwEfHMQd029MLc2PTw9V37b3GsisKUHKO~xpsl1peVOJ04KH8UwytBwXxFBXpJkxllDm0lYtWIQdifVKd_b; Max-Age=31104000; Domain=.tripadvisor.co.id; Path=/; Secure; SameSite=Lax\n",
      "Done Scrapping  Cloud Nine Estate page 11\n",
      "\n",
      "\n"
     ]
    },
    {
     "name": "stderr",
     "output_type": "stream",
     "text": [
      "DEBUG:urllib3.connectionpool:Starting new HTTPS connection (1): www.tripadvisor.co.id:443\n"
     ]
    },
    {
     "name": "stdout",
     "output_type": "stream",
     "text": [
      "send: b'GET /Hotel_Review-g297701-d9839093-Reviews-or60-Cloud_Nine_Estate-Ubud_Gianyar_Regency_Bali.html HTTP/1.1\\r\\nHost: www.tripadvisor.co.id\\r\\nUser-Agent: Mozilla/5.0 (X11; CrOS x86_64 12871.102.0) AppleWebKit/537.36 (KHTML, like Gecko) Chrome/81.0.4044.141 Safari/537.36\\r\\nAccept-Encoding: gzip, deflate\\r\\nAccept: */*\\r\\nConnection: keep-alive\\r\\n\\r\\n'\n"
     ]
    },
    {
     "name": "stderr",
     "output_type": "stream",
     "text": [
      "DEBUG:urllib3.connectionpool:https://www.tripadvisor.co.id:443 \"GET /Hotel_Review-g297701-d9839093-Reviews-or60-Cloud_Nine_Estate-Ubud_Gianyar_Regency_Bali.html HTTP/1.1\" 200 None\n"
     ]
    },
    {
     "name": "stdout",
     "output_type": "stream",
     "text": [
      "reply: 'HTTP/1.1 200 OK\\r\\n'\n",
      "header: Server: envoy\n",
      "header: Link: <https://media-cdn.tripadvisor.com/media/>;rel=\"preconnect\";crossorigin\n",
      "header: Link: <https://media-cdn.tripadvisor.com/media/>;rel=\"dns-prefetch\"\n",
      "header: p3p: CP=\"NOI CURa ADMa DEVa TAIa OUR BUS IND UNI COM NAV INT DSP COR CAO PSA IDC ADM DEVi TAIi PSD IVAi IVDi CONi HIS CNT\"\n",
      "header: Pragma: no-cache\n",
      "header: Cache-Control: no-cache, no-store, must-revalidate\n",
      "header: Expires: 0\n",
      "header: Content-Language: id\n",
      "header: Link: <https://static.tacdn.com>;rel=\"dns-prefetch\"\n",
      "header: Link: <https://static.tacdn.com>;rel=\"preconnect\";crossorigin\n",
      "header: timing-allow-origin: https://www.tripadvisor.com\n",
      "header: Vary: Accept-Encoding\n",
      "header: Content-Type: text/html;charset=UTF-8\n",
      "header: x-datadome: protected\n",
      "header: Accept-CH: Sec-CH-UA,Sec-CH-UA-Mobile,Sec-CH-UA-Platform,Sec-CH-UA-Arch,Sec-CH-UA-Full-Version-List,Sec-CH-UA-Model,Sec-CH-Device-Memory\n",
      "header: Content-Encoding: gzip\n",
      "header: x-request-id: 6ae4a1f2-8a53-4297-af80-310021cb3712\n",
      "header: Date: Fri, 26 May 2023 01:03:51 GMT\n",
      "header: Transfer-Encoding: chunked\n",
      "header: Connection: keep-alive\n",
      "header: Connection: Transfer-Encoding\n",
      "header: Set-Cookie: TADCID=ZGxI0Ptxx7MTaeOSABQCXdElnkGETRW-Svh01l3nWnXCbBHZGkV6pABveTXfQ6-4V1es0x1zo2z4BB0cU6r_feVFf9MCVZlWr_Y; Domain=www.tripadvisor.co.id; Expires=Mon, 23-May-2033 01:03:50 GMT; Path=/; Secure; HttpOnly\n",
      "header: Set-Cookie: TAUnique=%1%enc%3Ao%2F0Rdgdi9R%2F%2B7H78yfwekiHKVVkteNxI%2FVH4q%2FlPvwI2jHwltRJPGQ%3D%3D; Domain=.tripadvisor.co.id; Expires=Sun, 25-May-2025 01:03:50 GMT; Path=/; HttpOnly\n",
      "header: Set-Cookie: TASSK=enc%3AAKP6C3nWxIKDeeLpQKoLsF%2FsdZD7G4VZLeOT1aVbMIb4w4RhDHuuwq0CWsknZE9eZdPteYWLZ4xm%2Bs2lnFZpHAkOTZJP6PaIW%2B32lJGX75cU4gyGWDrwKdPRP%2BkL%2BOhFcw%3D%3D; Domain=www.tripadvisor.co.id; Expires=Wed, 22-Nov-2023 01:03:51 GMT; Path=/; HttpOnly\n",
      "header: Set-Cookie: TASession=V2ID.BD9D676E19A346DD8AFB79AE88DFDBF3*SQ.1*HS.recommended*ES.popularity*DS.5*SAS.popularity*FPS.oldFirst*LF.in*FA.1*DF.0*TRA.true*LD.9839093; Domain=.tripadvisor.co.id; Path=/\n",
      "header: Set-Cookie: ServerPool=C; Domain=.tripadvisor.co.id; Path=/\n",
      "header: Set-Cookie: PMC=V2*MS.72*MD.20230525*LD.20230525; Domain=www.tripadvisor.co.id; Expires=Sun, 25-May-2025 01:03:51 GMT; Path=/; Secure; HttpOnly\n",
      "header: Set-Cookie: TART=%1%enc%3A%2Fux%2B%2FMn8HpLo4XTAvUm8lB0VcmpQKr4L%2Bio2i8gIcHapk2NZkcs%2BUQccoUIucCiiyx9HjuV9fk0%3D; Domain=www.tripadvisor.co.id; Expires=Wed, 31-May-2023 01:03:51 GMT; Path=/; HttpOnly\n",
      "header: Set-Cookie: CM=%1%PremiumMobSess%2C%2C-1%7Ct4b-pc%2C%2C-1%7CRestAds%2FRPers%2C%2C-1%7CRCPers%2C%2C-1%7CWShadeSeen%2C%2C-1%7CTheForkMCCPers%2C%2C-1%7CHomeASess%2C%2C-1%7CPremiumMCSess%2C%2C-1%7CCrisisSess%2C%2C-1%7CUVOwnersSess%2C%2C-1%7CRestPremRSess%2C%2C-1%7CRepTarMCSess%2C%2C-1%7CCCSess%2C%2C-1%7CCYLSess%2C%2C-1%7CPremRetPers%2C%2C-1%7CViatorMCPers%2C%2C-1%7Csesssticker%2C%2C-1%7C%24%2C%2C-1%7CPremiumORSess%2C%2C-1%7Ct4b-sc%2C%2C-1%7CRestAdsPers%2C%2C-1%7CMC_IB_UPSELL_IB_LOGOS2%2C%2C-1%7CTSMCPers%2C%2C-1%7Cb2bmcpers%2C%2C-1%7CPremMCBtmSess%2C%2C-1%7CMC_IB_UPSELL_IB_LOGOS%2C%2C-1%7CLaFourchette+Banners%2C%2C-1%7Csess_rev%2C%2C-1%7Csessamex%2C%2C-1%7CPremiumRRSess%2C%2C-1%7CTADORSess%2C%2C-1%7CAdsRetPers%2C%2C-1%7CListMCSess%2C%2C-1%7CTARSWBPers%2C%2C-1%7CSPMCSess%2C%2C-1%7CTheForkORSess%2C%2C-1%7CTheForkRRSess%2C%2C-1%7Cpers_rev%2C%2C-1%7CRBAPers%2C%2C-1%7CRestAds%2FRSess%2C%2C-1%7CHomeAPers%2C%2C-1%7CPremiumMobPers%2C%2C-1%7CRCSess%2C%2C-1%7CLaFourchette+MC+Banners%2C%2C-1%7CRestAdsCCSess%2C%2C-1%7CRestPremRPers%2C%2C-1%7CRevHubRMPers%2C%2C-1%7CUVOwnersPers%2C%2C-1%7Cpssamex%2C%2C-1%7CTheForkMCCSess%2C%2C-1%7CCrisisPers%2C%2C-1%7CCYLPers%2C%2C-1%7CCCPers%2C%2C-1%7CRepTarMCPers%2C%2C-1%7Cb2bmcsess%2C%2C-1%7CTSMCSess%2C%2C-1%7CSPMCPers%2C%2C-1%7CRevHubRMSess%2C%2C-1%7CPremRetSess%2C%2C-1%7CViatorMCSess%2C%2C-1%7CPremiumMCPers%2C%2C-1%7CAdsRetSess%2C%2C-1%7CPremiumRRPers%2C%2C-1%7CRestAdsCCPers%2C%2C-1%7CTADORPers%2C%2C-1%7CTheForkORPers%2C%2C-1%7CPremMCBtmPers%2C%2C-1%7CTheForkRRPers%2C%2C-1%7CTARSWBSess%2C%2C-1%7CPremiumORPers%2C%2C-1%7CRestAdsSess%2C%2C-1%7CRBASess%2C%2C-1%7CSPORPers%2C%2C-1%7Cperssticker%2C%2C-1%7CListMCPers%2C%2C-1%7C; Domain=.tripadvisor.co.id; Expires=Mon, 23-May-2033 01:03:51 GMT; Path=/\n",
      "header: Set-Cookie: BEPIN=%1%1885595583f%3Bweb376a.a.tripadvisor.com%3A30023%3B; Domain=.tripadvisor.co.id; Path=/\n",
      "header: Set-Cookie: PAC=AP6OoYYZCmKchZXgu9x63lUw9oruMaVOPJi8iAscL9lI25Mzhfi2J4ha8_zWnF4wpj3saq0P0697A8RYdUTa6fnXiri5Vv_Nz6-Va4L3zZ2_Jl_iuc1yvBAO5WausaXDtlVtgwHEAJ7yQonnmrm4hUYh9hlFxhZCFOftqrEIzeLdNEyhG93LoKXPgq2WbluyKp-VwQL_0coJcyclw8Z477EXVyHzJPnQQK1H4nOqbyhR; Domain=www.tripadvisor.co.id; Expires=Sun, 25-May-2025 01:03:51 GMT; Path=/; Secure; HttpOnly\n",
      "header: Set-Cookie: SRT=TART_SYNC; Domain=www.tripadvisor.co.id; Expires=Fri, 26-May-2023 01:33:51 GMT; Path=/\n",
      "header: Set-Cookie: TATravelInfo=V2*AY.2023*AM.6*AD.4*DY.2023*DM.6*DD.5*A.2*MG.-1*HP.2*FL.3*DSM.1685063030934*RS.1; Domain=.tripadvisor.co.id; Expires=Fri, 09-Jun-2023 01:03:51 GMT; Path=/\n",
      "header: Set-Cookie: TAUD=LG-1685063030831-2.1.F.*RDD-2-2023_05_26*HDD-3-2023_06_04.2023_06_05.1; Domain=.tripadvisor.co.id; Expires=Fri, 09-Jun-2023 01:03:51 GMT; Path=/\n",
      "header: Set-Cookie: TASID=BD9D676E19A346DD8AFB79AE88DFDBF3; Domain=www.tripadvisor.co.id; Expires=Fri, 26-May-2023 01:33:51 GMT; Path=/; Secure\n",
      "header: Set-Cookie: TAReturnTo=%1%%2FHotel_Review-g297701-d9839093-Reviews-or60-Cloud_Nine_Estate-Ubud_Gianyar_Regency_Bali.html; Domain=.tripadvisor.co.id; Path=/\n",
      "header: Set-Cookie: datadome=6awb4B2hw53~c6dAkIPZyvBwcy_tDw355UVnMhiSeBhEM61Msxpx8p4wXvfc9rt8APoUuFWAgNy4~p35mb3snn~YWhsrQ8sf4k8BT~uAHC~n80mnvbZmvibeBT1k4i8V; Max-Age=31104000; Domain=.tripadvisor.co.id; Path=/; Secure; SameSite=Lax\n",
      "Done Scrapping  Cloud Nine Estate page 12\n",
      "\n",
      "\n"
     ]
    },
    {
     "name": "stderr",
     "output_type": "stream",
     "text": [
      "DEBUG:urllib3.connectionpool:Starting new HTTPS connection (1): www.tripadvisor.co.id:443\n"
     ]
    },
    {
     "name": "stdout",
     "output_type": "stream",
     "text": [
      "send: b'GET /Hotel_Review-g297701-d9839093-Reviews-or65-Cloud_Nine_Estate-Ubud_Gianyar_Regency_Bali.html HTTP/1.1\\r\\nHost: www.tripadvisor.co.id\\r\\nUser-Agent: Mozilla/5.0 (X11; CrOS x86_64 12871.102.0) AppleWebKit/537.36 (KHTML, like Gecko) Chrome/81.0.4044.141 Safari/537.36\\r\\nAccept-Encoding: gzip, deflate\\r\\nAccept: */*\\r\\nConnection: keep-alive\\r\\n\\r\\n'\n"
     ]
    },
    {
     "name": "stderr",
     "output_type": "stream",
     "text": [
      "DEBUG:urllib3.connectionpool:https://www.tripadvisor.co.id:443 \"GET /Hotel_Review-g297701-d9839093-Reviews-or65-Cloud_Nine_Estate-Ubud_Gianyar_Regency_Bali.html HTTP/1.1\" 200 None\n"
     ]
    },
    {
     "name": "stdout",
     "output_type": "stream",
     "text": [
      "reply: 'HTTP/1.1 200 OK\\r\\n'\n",
      "header: Server: envoy\n",
      "header: Link: <https://media-cdn.tripadvisor.com/media/>;rel=\"preconnect\";crossorigin\n",
      "header: Link: <https://media-cdn.tripadvisor.com/media/>;rel=\"dns-prefetch\"\n",
      "header: p3p: CP=\"NOI CURa ADMa DEVa TAIa OUR BUS IND UNI COM NAV INT DSP COR CAO PSA IDC ADM DEVi TAIi PSD IVAi IVDi CONi HIS CNT\"\n",
      "header: Pragma: no-cache\n",
      "header: Cache-Control: no-cache, no-store, must-revalidate\n",
      "header: Expires: 0\n",
      "header: Content-Language: id\n",
      "header: Link: <https://static.tacdn.com>;rel=\"dns-prefetch\"\n",
      "header: Link: <https://static.tacdn.com>;rel=\"preconnect\";crossorigin\n",
      "header: timing-allow-origin: https://www.tripadvisor.com\n",
      "header: Vary: Accept-Encoding\n",
      "header: Content-Type: text/html;charset=UTF-8\n",
      "header: x-datadome: protected\n",
      "header: Accept-CH: Sec-CH-UA,Sec-CH-UA-Mobile,Sec-CH-UA-Platform,Sec-CH-UA-Arch,Sec-CH-UA-Full-Version-List,Sec-CH-UA-Model,Sec-CH-Device-Memory\n",
      "header: Content-Encoding: gzip\n",
      "header: x-request-id: fe265497-6374-49e1-8c7d-44dc43a1d1a5\n",
      "header: Date: Fri, 26 May 2023 01:03:55 GMT\n",
      "header: Transfer-Encoding: chunked\n",
      "header: Connection: keep-alive\n",
      "header: Connection: Transfer-Encoding\n",
      "header: Set-Cookie: TADCID=vqMEf_PkzwCIa0eKABQCXdElnkGETRW-Svh01l3nWnXCbOBAuNad7hlt6HWOBoWKAoPibwPzPZl8cTox9U30Y-6BBp0qw23eyT8; Domain=www.tripadvisor.co.id; Expires=Mon, 23-May-2033 01:03:55 GMT; Path=/; Secure; HttpOnly\n",
      "header: Set-Cookie: TAUnique=%1%enc%3AROFSSK9s9rr%2B7H78yfwekiHKVVkteNxIupZ6EpurP%2FY2jHwltRJPGQ%3D%3D; Domain=.tripadvisor.co.id; Expires=Sun, 25-May-2025 01:03:55 GMT; Path=/; HttpOnly\n",
      "header: Set-Cookie: TASSK=enc%3AAO5Yox1J0vnXwyyPb2FOnbPkxkBy561r6jOcAedadFvtdmuXzuxIRJ9BAdEc0h6HCLJm2csVTm3lG5tCUU8ozClRuWw4WZT7SHYoJOX2QLgm0OvKY3cXeWGig9ozlQCsrA%3D%3D; Domain=www.tripadvisor.co.id; Expires=Wed, 22-Nov-2023 01:03:55 GMT; Path=/; HttpOnly\n",
      "header: Set-Cookie: TASession=V2ID.8EF68138A3534493A7A7D228CEE8B667*SQ.1*HS.recommended*ES.popularity*DS.5*SAS.popularity*FPS.oldFirst*LF.in*FA.1*DF.0*TRA.true*LD.9839093; Domain=.tripadvisor.co.id; Path=/\n",
      "header: Set-Cookie: ServerPool=C; Domain=.tripadvisor.co.id; Path=/\n",
      "header: Set-Cookie: PMC=V2*MS.33*MD.20230525*LD.20230525; Domain=www.tripadvisor.co.id; Expires=Sun, 25-May-2025 01:03:55 GMT; Path=/; Secure; HttpOnly\n",
      "header: Set-Cookie: TART=%1%enc%3A%2Fux%2B%2FMn8HpLMREZ2qMAiZMF0VRJJ9wRPE7BuP3aTvfBwyNB3Q5RppzJaFUFnc%2FhoGLyefJQymeo%3D; Domain=www.tripadvisor.co.id; Expires=Wed, 31-May-2023 01:03:55 GMT; Path=/; HttpOnly\n",
      "header: Set-Cookie: CM=%1%PremiumMobSess%2C%2C-1%7Ct4b-pc%2C%2C-1%7CRestAds%2FRPers%2C%2C-1%7CRCPers%2C%2C-1%7CWShadeSeen%2C%2C-1%7CTheForkMCCPers%2C%2C-1%7CHomeASess%2C%2C-1%7CPremiumMCSess%2C%2C-1%7CCrisisSess%2C%2C-1%7CUVOwnersSess%2C%2C-1%7CRestPremRSess%2C%2C-1%7CRepTarMCSess%2C%2C-1%7CCCSess%2C%2C-1%7CCYLSess%2C%2C-1%7CPremRetPers%2C%2C-1%7CViatorMCPers%2C%2C-1%7Csesssticker%2C%2C-1%7C%24%2C%2C-1%7CPremiumORSess%2C%2C-1%7Ct4b-sc%2C%2C-1%7CRestAdsPers%2C%2C-1%7CMC_IB_UPSELL_IB_LOGOS2%2C%2C-1%7CTSMCPers%2C%2C-1%7Cb2bmcpers%2C%2C-1%7CPremMCBtmSess%2C%2C-1%7CMC_IB_UPSELL_IB_LOGOS%2C%2C-1%7CLaFourchette+Banners%2C%2C-1%7Csess_rev%2C%2C-1%7Csessamex%2C%2C-1%7CPremiumRRSess%2C%2C-1%7CTADORSess%2C%2C-1%7CAdsRetPers%2C%2C-1%7CListMCSess%2C%2C-1%7CTARSWBPers%2C%2C-1%7CSPMCSess%2C%2C-1%7CTheForkORSess%2C%2C-1%7CTheForkRRSess%2C%2C-1%7Cpers_rev%2C%2C-1%7CRBAPers%2C%2C-1%7CRestAds%2FRSess%2C%2C-1%7CHomeAPers%2C%2C-1%7CPremiumMobPers%2C%2C-1%7CRCSess%2C%2C-1%7CLaFourchette+MC+Banners%2C%2C-1%7CRestAdsCCSess%2C%2C-1%7CRestPremRPers%2C%2C-1%7CRevHubRMPers%2C%2C-1%7CUVOwnersPers%2C%2C-1%7Cpssamex%2C%2C-1%7CTheForkMCCSess%2C%2C-1%7CCrisisPers%2C%2C-1%7CCYLPers%2C%2C-1%7CCCPers%2C%2C-1%7CRepTarMCPers%2C%2C-1%7Cb2bmcsess%2C%2C-1%7CTSMCSess%2C%2C-1%7CSPMCPers%2C%2C-1%7CRevHubRMSess%2C%2C-1%7CPremRetSess%2C%2C-1%7CViatorMCSess%2C%2C-1%7CPremiumMCPers%2C%2C-1%7CAdsRetSess%2C%2C-1%7CPremiumRRPers%2C%2C-1%7CRestAdsCCPers%2C%2C-1%7CTADORPers%2C%2C-1%7CTheForkORPers%2C%2C-1%7CPremMCBtmPers%2C%2C-1%7CTheForkRRPers%2C%2C-1%7CTARSWBSess%2C%2C-1%7CPremiumORPers%2C%2C-1%7CRestAdsSess%2C%2C-1%7CRBASess%2C%2C-1%7CSPORPers%2C%2C-1%7Cperssticker%2C%2C-1%7CListMCPers%2C%2C-1%7C; Domain=.tripadvisor.co.id; Expires=Mon, 23-May-2033 01:03:55 GMT; Path=/\n",
      "header: Set-Cookie: BEPIN=%1%1885595692a%3Bweb376a.a.tripadvisor.com%3A30023%3B; Domain=.tripadvisor.co.id; Path=/\n",
      "header: Set-Cookie: PAC=ACcWcMFVBJebHEV5xj-r7l1IuKpRPfHHj-SKNMhSBf_QbUEHbkG03GaijJ0F9ovf-Igf2E9T43lZ8VQDSdEAozzdSCOc2i0F6YAYavDE1DGzfLmHe1U0sdCABPrdYLuqOa4eWYgfaKN-lQKi0geBnwHPb5fcT9Z6ttoIWJogSuNESasLsHIoB5bFyklYz8jYLlsxRaDSqjZa2JsdC2TrY6eytxmsaH8kXwfEwddBTpN7; Domain=www.tripadvisor.co.id; Expires=Sun, 25-May-2025 01:03:55 GMT; Path=/; Secure; HttpOnly\n",
      "header: Set-Cookie: SRT=TART_SYNC; Domain=www.tripadvisor.co.id; Expires=Fri, 26-May-2023 01:33:55 GMT; Path=/\n",
      "header: Set-Cookie: TATravelInfo=V2*AY.2023*AM.6*AD.4*DY.2023*DM.6*DD.5*A.2*MG.-1*HP.2*FL.3*DSM.1685063035251*RS.1; Domain=.tripadvisor.co.id; Expires=Fri, 09-Jun-2023 01:03:55 GMT; Path=/\n",
      "header: Set-Cookie: TAUD=LG-1685063035130-2.1.F.*RDD-2-2023_05_26*HDD-3-2023_06_04.2023_06_05.1; Domain=.tripadvisor.co.id; Expires=Fri, 09-Jun-2023 01:03:55 GMT; Path=/\n",
      "header: Set-Cookie: TASID=8EF68138A3534493A7A7D228CEE8B667; Domain=www.tripadvisor.co.id; Expires=Fri, 26-May-2023 01:33:55 GMT; Path=/; Secure\n",
      "header: Set-Cookie: TAReturnTo=%1%%2FHotel_Review-g297701-d9839093-Reviews-or65-Cloud_Nine_Estate-Ubud_Gianyar_Regency_Bali.html; Domain=.tripadvisor.co.id; Path=/\n",
      "header: Set-Cookie: datadome=3cpp8JB11Gw6SLVah-Q370WmlzhjlghX0RkheomWluRDKHZ4RE8NSSJdQFIB-trqhwNhG41SDoNHZQm5xFv1n6rh68qFJx7jqiO8Pw-hIdfFY52UpafLTBYMmyGXv2PA; Max-Age=31104000; Domain=.tripadvisor.co.id; Path=/; Secure; SameSite=Lax\n"
     ]
    },
    {
     "name": "stderr",
     "output_type": "stream",
     "text": [
      "DEBUG:urllib3.connectionpool:Starting new HTTPS connection (1): www.tripadvisor.co.id:443\n"
     ]
    },
    {
     "name": "stdout",
     "output_type": "stream",
     "text": [
      "Start Scrapping: Kubudiuma Villas Bali\n",
      "send: b'GET /Hotel_Review-g311298-d2041913-Reviews-or5-Kubudiuma_Villas_Bali-Canggu_North_Kuta_Bali.html HTTP/1.1\\r\\nHost: www.tripadvisor.co.id\\r\\nUser-Agent: Mozilla/5.0 (X11; CrOS x86_64 12871.102.0) AppleWebKit/537.36 (KHTML, like Gecko) Chrome/81.0.4044.141 Safari/537.36\\r\\nAccept-Encoding: gzip, deflate\\r\\nAccept: */*\\r\\nConnection: keep-alive\\r\\n\\r\\n'\n"
     ]
    },
    {
     "name": "stderr",
     "output_type": "stream",
     "text": [
      "DEBUG:urllib3.connectionpool:https://www.tripadvisor.co.id:443 \"GET /Hotel_Review-g311298-d2041913-Reviews-or5-Kubudiuma_Villas_Bali-Canggu_North_Kuta_Bali.html HTTP/1.1\" 200 None\n"
     ]
    },
    {
     "name": "stdout",
     "output_type": "stream",
     "text": [
      "reply: 'HTTP/1.1 200 OK\\r\\n'\n",
      "header: Server: envoy\n",
      "header: Link: <https://media-cdn.tripadvisor.com/media/>;rel=\"preconnect\";crossorigin\n",
      "header: Link: <https://media-cdn.tripadvisor.com/media/>;rel=\"dns-prefetch\"\n",
      "header: p3p: CP=\"NOI CURa ADMa DEVa TAIa OUR BUS IND UNI COM NAV INT DSP COR CAO PSA IDC ADM DEVi TAIi PSD IVAi IVDi CONi HIS CNT\"\n",
      "header: Pragma: no-cache\n",
      "header: Cache-Control: no-cache, no-store, must-revalidate\n",
      "header: Expires: 0\n",
      "header: Content-Language: id\n",
      "header: Link: <https://static.tacdn.com>;rel=\"dns-prefetch\"\n",
      "header: Link: <https://static.tacdn.com>;rel=\"preconnect\";crossorigin\n",
      "header: timing-allow-origin: https://www.tripadvisor.com\n",
      "header: Vary: Accept-Encoding\n",
      "header: Content-Type: text/html;charset=UTF-8\n",
      "header: Accept-CH: Sec-CH-UA,Sec-CH-UA-Mobile,Sec-CH-UA-Platform,Sec-CH-UA-Arch,Sec-CH-UA-Full-Version-List,Sec-CH-UA-Model,Sec-CH-Device-Memory\n",
      "header: x-datadome: protected\n",
      "header: Content-Encoding: gzip\n",
      "header: x-request-id: 7e70eee2-88df-4aee-9004-d1718d49ca7e\n",
      "header: Date: Fri, 26 May 2023 01:03:57 GMT\n",
      "header: Transfer-Encoding: chunked\n",
      "header: Connection: keep-alive\n",
      "header: Connection: Transfer-Encoding\n",
      "header: Set-Cookie: TADCID=qh7d956lcnDnoBEHABQCXdElnkGETRW-Svh01l3nWnXCbAiC-lKZ-Ha0gMTXoEHAsWT3G18QSHWXN26_7VB8kZU0gNX3RGX9cvY; Domain=www.tripadvisor.co.id; Expires=Mon, 23-May-2033 01:03:56 GMT; Path=/; Secure; HttpOnly\n",
      "header: Set-Cookie: TAUnique=%1%enc%3AM9L9MRFu9TH%2B7H78yfwekiHKVVkteNxInmDQdp7YkmA2jHwltRJPGQ%3D%3D; Domain=.tripadvisor.co.id; Expires=Sun, 25-May-2025 01:03:56 GMT; Path=/; HttpOnly\n",
      "header: Set-Cookie: TASSK=enc%3AAAcod%2FbQe%2BExn1%2BDY%2BsVZY4AsbBSrRbBYUXgaYTWW3TwCQY86AeTOfYWjH6GgquMn2m04cDLpFtQnsCT6jjpIj9Gs%2BSlYfNc%2Fj6qBFlpltf9pSWSv7dxgUtKwLKLIbrPow%3D%3D; Domain=www.tripadvisor.co.id; Expires=Wed, 22-Nov-2023 01:03:57 GMT; Path=/; HttpOnly\n",
      "header: Set-Cookie: TASession=V2ID.9C313D6874C443D597DA5D12C9D159AF*SQ.1*HS.recommended*ES.popularity*DS.5*SAS.popularity*FPS.oldFirst*LF.in*FA.1*DF.0*TRA.true*LD.2041913; Domain=.tripadvisor.co.id; Path=/\n",
      "header: Set-Cookie: ServerPool=B; Domain=.tripadvisor.co.id; Path=/\n",
      "header: Set-Cookie: PMC=V2*MS.60*MD.20230525*LD.20230525; Domain=www.tripadvisor.co.id; Expires=Sun, 25-May-2025 01:03:57 GMT; Path=/; Secure; HttpOnly\n",
      "header: Set-Cookie: TART=%1%enc%3A%2Fux%2B%2FMn8HpL5EgXqDUVDZkGl%2B1MYZ4bDAZkGnNodpl%2F2V6Mkq4V%2B%2F%2F%2FmU2COAdoxfYtftmnsPgU%3D; Domain=www.tripadvisor.co.id; Expires=Wed, 31-May-2023 01:03:57 GMT; Path=/; HttpOnly\n",
      "header: Set-Cookie: CM=%1%PremiumMobSess%2C%2C-1%7Ct4b-pc%2C%2C-1%7CRestAds%2FRPers%2C%2C-1%7CRCPers%2C%2C-1%7CWShadeSeen%2C%2C-1%7CTheForkMCCPers%2C%2C-1%7CHomeASess%2C%2C-1%7CPremiumMCSess%2C%2C-1%7CCrisisSess%2C%2C-1%7CUVOwnersSess%2C%2C-1%7CRestPremRSess%2C%2C-1%7CRepTarMCSess%2C%2C-1%7CCCSess%2C%2C-1%7CCYLSess%2C%2C-1%7CPremRetPers%2C%2C-1%7CViatorMCPers%2C%2C-1%7Csesssticker%2C%2C-1%7C%24%2C%2C-1%7CPremiumORSess%2C%2C-1%7Ct4b-sc%2C%2C-1%7CRestAdsPers%2C%2C-1%7CMC_IB_UPSELL_IB_LOGOS2%2C%2C-1%7CTSMCPers%2C%2C-1%7Cb2bmcpers%2C%2C-1%7CPremMCBtmSess%2C%2C-1%7CMC_IB_UPSELL_IB_LOGOS%2C%2C-1%7CLaFourchette+Banners%2C%2C-1%7Csess_rev%2C%2C-1%7Csessamex%2C%2C-1%7CPremiumRRSess%2C%2C-1%7CTADORSess%2C%2C-1%7CAdsRetPers%2C%2C-1%7CListMCSess%2C%2C-1%7CTARSWBPers%2C%2C-1%7CSPMCSess%2C%2C-1%7CTheForkORSess%2C%2C-1%7CTheForkRRSess%2C%2C-1%7Cpers_rev%2C%2C-1%7CRBAPers%2C%2C-1%7CRestAds%2FRSess%2C%2C-1%7CHomeAPers%2C%2C-1%7CPremiumMobPers%2C%2C-1%7CRCSess%2C%2C-1%7CLaFourchette+MC+Banners%2C%2C-1%7CRestAdsCCSess%2C%2C-1%7CRestPremRPers%2C%2C-1%7CRevHubRMPers%2C%2C-1%7CUVOwnersPers%2C%2C-1%7Cpssamex%2C%2C-1%7CTheForkMCCSess%2C%2C-1%7CCrisisPers%2C%2C-1%7CCYLPers%2C%2C-1%7CCCPers%2C%2C-1%7CRepTarMCPers%2C%2C-1%7Cb2bmcsess%2C%2C-1%7CTSMCSess%2C%2C-1%7CSPMCPers%2C%2C-1%7CRevHubRMSess%2C%2C-1%7CPremRetSess%2C%2C-1%7CViatorMCSess%2C%2C-1%7CPremiumMCPers%2C%2C-1%7CAdsRetSess%2C%2C-1%7CPremiumRRPers%2C%2C-1%7CRestAdsCCPers%2C%2C-1%7CTADORPers%2C%2C-1%7CTheForkORPers%2C%2C-1%7CPremMCBtmPers%2C%2C-1%7CTheForkRRPers%2C%2C-1%7CTARSWBSess%2C%2C-1%7CPremiumORPers%2C%2C-1%7CRestAdsSess%2C%2C-1%7CRBASess%2C%2C-1%7CSPORPers%2C%2C-1%7Cperssticker%2C%2C-1%7CListMCPers%2C%2C-1%7C; Domain=.tripadvisor.co.id; Expires=Mon, 23-May-2033 01:03:57 GMT; Path=/\n",
      "header: Set-Cookie: BEPIN=%1%1885595701f%3Bweb225a.a.tripadvisor.com%3A30023%3B; Domain=.tripadvisor.co.id; Path=/\n",
      "header: Set-Cookie: PAC=AMBFg-jIl0JyxNUiNKlSSHZcjCfMYjWUZyzR-MNlLPsvYrmef2p9ziWqNKMyb1KFSrTMWmIrDDuFypmk2n2wsJcRMbEqKBeO1juE3HqFSi25TybRNegMlpHQSQhyz7_JHOCg-dctR-USKpra3lwMEcy8r--jFzdboCmcKjP2sG0YcosuKbfNDykbi0pD6ckJKn2OgFc5lUtCrmr81hrAjQd0cSUknQsVNFu1GZTiJctY; Domain=www.tripadvisor.co.id; Expires=Sun, 25-May-2025 01:03:57 GMT; Path=/; Secure; HttpOnly\n",
      "header: Set-Cookie: SRT=TART_SYNC; Domain=www.tripadvisor.co.id; Expires=Fri, 26-May-2023 01:33:57 GMT; Path=/\n",
      "header: Set-Cookie: TATravelInfo=V2*AY.2023*AM.6*AD.4*DY.2023*DM.6*DD.5*A.2*MG.-1*HP.2*FL.3*DSM.1685063037077*RS.1; Domain=.tripadvisor.co.id; Expires=Fri, 09-Jun-2023 01:03:57 GMT; Path=/\n",
      "header: Set-Cookie: TAUD=LG-1685063036906-2.1.F.*RDD-2-2023_05_26*HDD-3-2023_06_04.2023_06_05.1; Domain=.tripadvisor.co.id; Expires=Fri, 09-Jun-2023 01:03:57 GMT; Path=/\n",
      "header: Set-Cookie: TASID=9C313D6874C443D597DA5D12C9D159AF; Domain=www.tripadvisor.co.id; Expires=Fri, 26-May-2023 01:33:57 GMT; Path=/; Secure\n",
      "header: Set-Cookie: TAReturnTo=%1%%2FHotel_Review-g311298-d2041913-Reviews-or5-Kubudiuma_Villas_Bali-Canggu_North_Kuta_Bali.html; Domain=.tripadvisor.co.id; Path=/\n",
      "header: Set-Cookie: datadome=24727e~xF4vqMj54wqHTNcUWhfJR62jq7Xef4GdQdCw32x-xDkKVCgsNF0vcISKcRHo_-AYD0ZTsQMURayPLRzns0ZWxpMRnUZE-npdh6-MvBPJeUTwKb0M190cGxTOO; Max-Age=31104000; Domain=.tripadvisor.co.id; Path=/; Secure; SameSite=Lax\n",
      "Done Scrapping Kubudiuma Villas Bali page 1\n",
      "\n",
      "\n"
     ]
    },
    {
     "name": "stderr",
     "output_type": "stream",
     "text": [
      "DEBUG:urllib3.connectionpool:Starting new HTTPS connection (1): www.tripadvisor.co.id:443\n"
     ]
    },
    {
     "name": "stdout",
     "output_type": "stream",
     "text": [
      "send: b'GET /Hotel_Review-g311298-d2041913-Reviews-or10-Kubudiuma_Villas_Bali-Canggu_North_Kuta_Bali.html HTTP/1.1\\r\\nHost: www.tripadvisor.co.id\\r\\nUser-Agent: Mozilla/5.0 (X11; CrOS x86_64 12871.102.0) AppleWebKit/537.36 (KHTML, like Gecko) Chrome/81.0.4044.141 Safari/537.36\\r\\nAccept-Encoding: gzip, deflate\\r\\nAccept: */*\\r\\nConnection: keep-alive\\r\\n\\r\\n'\n"
     ]
    },
    {
     "name": "stderr",
     "output_type": "stream",
     "text": [
      "DEBUG:urllib3.connectionpool:https://www.tripadvisor.co.id:443 \"GET /Hotel_Review-g311298-d2041913-Reviews-or10-Kubudiuma_Villas_Bali-Canggu_North_Kuta_Bali.html HTTP/1.1\" 200 None\n"
     ]
    },
    {
     "name": "stdout",
     "output_type": "stream",
     "text": [
      "reply: 'HTTP/1.1 200 OK\\r\\n'\n",
      "header: Server: envoy\n",
      "header: Link: <https://media-cdn.tripadvisor.com/media/>;rel=\"preconnect\";crossorigin\n",
      "header: Link: <https://media-cdn.tripadvisor.com/media/>;rel=\"dns-prefetch\"\n",
      "header: p3p: CP=\"NOI CURa ADMa DEVa TAIa OUR BUS IND UNI COM NAV INT DSP COR CAO PSA IDC ADM DEVi TAIi PSD IVAi IVDi CONi HIS CNT\"\n",
      "header: Pragma: no-cache\n",
      "header: Cache-Control: no-cache, no-store, must-revalidate\n",
      "header: Expires: 0\n",
      "header: Content-Language: id\n",
      "header: Link: <https://static.tacdn.com>;rel=\"dns-prefetch\"\n",
      "header: Link: <https://static.tacdn.com>;rel=\"preconnect\";crossorigin\n",
      "header: timing-allow-origin: https://www.tripadvisor.com\n",
      "header: Vary: Accept-Encoding\n",
      "header: Content-Type: text/html;charset=UTF-8\n",
      "header: Accept-CH: Sec-CH-UA,Sec-CH-UA-Mobile,Sec-CH-UA-Platform,Sec-CH-UA-Arch,Sec-CH-UA-Full-Version-List,Sec-CH-UA-Model,Sec-CH-Device-Memory\n",
      "header: x-datadome: protected\n",
      "header: Content-Encoding: gzip\n",
      "header: x-request-id: 7735cc03-3c0e-46af-8a4c-89fc5f2e5667\n",
      "header: Date: Fri, 26 May 2023 01:04:02 GMT\n",
      "header: Transfer-Encoding: chunked\n",
      "header: Connection: keep-alive\n",
      "header: Connection: Transfer-Encoding\n",
      "header: Set-Cookie: TADCID=oizcKex9qOwr-JRPABQCXdElnkGETRW-Svh01l3nWnXCbX-pd1Y-zSeL4AK4dG6YNngZ73pWurMGJpmpjDFdEauTCoufTXEYsno; Domain=www.tripadvisor.co.id; Expires=Mon, 23-May-2033 01:04:01 GMT; Path=/; Secure; HttpOnly\n",
      "header: Set-Cookie: TAUnique=%1%enc%3AhZfZr2KWSOz%2B7H78yfwekiHKVVkteNxIfIIXg6CxAq82jHwltRJPGQ%3D%3D; Domain=.tripadvisor.co.id; Expires=Sun, 25-May-2025 01:04:01 GMT; Path=/; HttpOnly\n",
      "header: Set-Cookie: TASSK=enc%3AADPCKTIQH1ww6wkJM8ykDluw9ZP2wydzofQpvpZ6YPxWOQ545eVuxitm448ym5JegG4thYcOjmEpXwTOEd1ClKbOwcJO%2F9EY%2FICLQY%2Fy9zO9bSL1NA4vXRtzGmVp8mbMhQ%3D%3D; Domain=www.tripadvisor.co.id; Expires=Wed, 22-Nov-2023 01:04:02 GMT; Path=/; HttpOnly\n",
      "header: Set-Cookie: TASession=V2ID.15F85609B04B46FCBD1AB128247D89ED*SQ.1*HS.recommended*ES.popularity*DS.5*SAS.popularity*FPS.oldFirst*LF.in*FA.1*DF.0*TRA.true*LD.2041913; Domain=.tripadvisor.co.id; Path=/\n",
      "header: Set-Cookie: ServerPool=A; Domain=.tripadvisor.co.id; Path=/\n",
      "header: Set-Cookie: PMC=V2*MS.80*MD.20230525*LD.20230525; Domain=www.tripadvisor.co.id; Expires=Sun, 25-May-2025 01:04:02 GMT; Path=/; Secure; HttpOnly\n",
      "header: Set-Cookie: TART=%1%enc%3A%2Fux%2B%2FMn8HpIh7F5nFfZ0Di7%2BnCtvlO5QW7xVivsksKB6O%2FBjnsH4igsQl9WCC2s1kagyFvowwb0%3D; Domain=www.tripadvisor.co.id; Expires=Wed, 31-May-2023 01:04:02 GMT; Path=/; HttpOnly\n",
      "header: Set-Cookie: CM=%1%PremiumMobSess%2C%2C-1%7Ct4b-pc%2C%2C-1%7CRestAds%2FRPers%2C%2C-1%7CRCPers%2C%2C-1%7CWShadeSeen%2C%2C-1%7CTheForkMCCPers%2C%2C-1%7CHomeASess%2C%2C-1%7CPremiumMCSess%2C%2C-1%7CCrisisSess%2C%2C-1%7CUVOwnersSess%2C%2C-1%7CRestPremRSess%2C%2C-1%7CRepTarMCSess%2C%2C-1%7CCCSess%2C%2C-1%7CCYLSess%2C%2C-1%7CPremRetPers%2C%2C-1%7CViatorMCPers%2C%2C-1%7Csesssticker%2C%2C-1%7C%24%2C%2C-1%7CPremiumORSess%2C%2C-1%7Ct4b-sc%2C%2C-1%7CRestAdsPers%2C%2C-1%7CMC_IB_UPSELL_IB_LOGOS2%2C%2C-1%7CTSMCPers%2C%2C-1%7Cb2bmcpers%2C%2C-1%7CPremMCBtmSess%2C%2C-1%7CMC_IB_UPSELL_IB_LOGOS%2C%2C-1%7CLaFourchette+Banners%2C%2C-1%7Csess_rev%2C%2C-1%7Csessamex%2C%2C-1%7CPremiumRRSess%2C%2C-1%7CTADORSess%2C%2C-1%7CAdsRetPers%2C%2C-1%7CListMCSess%2C%2C-1%7CTARSWBPers%2C%2C-1%7CSPMCSess%2C%2C-1%7CTheForkORSess%2C%2C-1%7CTheForkRRSess%2C%2C-1%7Cpers_rev%2C%2C-1%7CRBAPers%2C%2C-1%7CRestAds%2FRSess%2C%2C-1%7CHomeAPers%2C%2C-1%7CPremiumMobPers%2C%2C-1%7CRCSess%2C%2C-1%7CLaFourchette+MC+Banners%2C%2C-1%7CRestAdsCCSess%2C%2C-1%7CRestPremRPers%2C%2C-1%7CRevHubRMPers%2C%2C-1%7CUVOwnersPers%2C%2C-1%7Cpssamex%2C%2C-1%7CTheForkMCCSess%2C%2C-1%7CCrisisPers%2C%2C-1%7CCYLPers%2C%2C-1%7CCCPers%2C%2C-1%7CRepTarMCPers%2C%2C-1%7Cb2bmcsess%2C%2C-1%7CTSMCSess%2C%2C-1%7CSPMCPers%2C%2C-1%7CRevHubRMSess%2C%2C-1%7CPremRetSess%2C%2C-1%7CViatorMCSess%2C%2C-1%7CPremiumMCPers%2C%2C-1%7CAdsRetSess%2C%2C-1%7CPremiumRRPers%2C%2C-1%7CRestAdsCCPers%2C%2C-1%7CTADORPers%2C%2C-1%7CTheForkORPers%2C%2C-1%7CPremMCBtmPers%2C%2C-1%7CTheForkRRPers%2C%2C-1%7CTARSWBSess%2C%2C-1%7CPremiumORPers%2C%2C-1%7CRestAdsSess%2C%2C-1%7CRBASess%2C%2C-1%7CSPORPers%2C%2C-1%7Cperssticker%2C%2C-1%7CListMCPers%2C%2C-1%7C; Domain=.tripadvisor.co.id; Expires=Mon, 23-May-2033 01:04:02 GMT; Path=/\n",
      "header: Set-Cookie: BEPIN=%1%18855958269%3Bweb225a.a.tripadvisor.com%3A30023%3B; Domain=.tripadvisor.co.id; Path=/\n",
      "header: Set-Cookie: PAC=AJlc1GAbRsE_V74TRAmpwcB-33iw-p9ravE04fYfrMa7m09RWzcTc6cb_u9Gp4hlnj4HpQLqDKQFOC8yrzoJxMi4cSyxkiKcC3VTSbmZQzueh9S7D91YG5XS9Ij1D4Rl5xLiV0gc18tfM0FO3B7wMTzJq-W1HKIOX1cuE5KjAxEEewBTaabpb-MqoocZdCH87ghqEcrSPLjnjo1SPN3e0dahdbbaOT-vXNL_whYcaw4b; Domain=www.tripadvisor.co.id; Expires=Sun, 25-May-2025 01:04:02 GMT; Path=/; Secure; HttpOnly\n",
      "header: Set-Cookie: SRT=TART_SYNC; Domain=www.tripadvisor.co.id; Expires=Fri, 26-May-2023 01:34:02 GMT; Path=/\n",
      "header: Set-Cookie: TATravelInfo=V2*AY.2023*AM.6*AD.4*DY.2023*DM.6*DD.5*A.2*MG.-1*HP.2*FL.3*DSM.1685063041736*RS.1; Domain=.tripadvisor.co.id; Expires=Fri, 09-Jun-2023 01:04:02 GMT; Path=/\n",
      "header: Set-Cookie: TAUD=LG-1685063041607-2.1.F.*RDD-2-2023_05_26*HDD-3-2023_06_04.2023_06_05.1; Domain=.tripadvisor.co.id; Expires=Fri, 09-Jun-2023 01:04:02 GMT; Path=/\n",
      "header: Set-Cookie: TASID=15F85609B04B46FCBD1AB128247D89ED; Domain=www.tripadvisor.co.id; Expires=Fri, 26-May-2023 01:34:02 GMT; Path=/; Secure\n",
      "header: Set-Cookie: TAReturnTo=%1%%2FHotel_Review-g311298-d2041913-Reviews-or10-Kubudiuma_Villas_Bali-Canggu_North_Kuta_Bali.html; Domain=.tripadvisor.co.id; Path=/\n",
      "header: Set-Cookie: datadome=45qsVfnCM_DqDIeKSdNQuaANU3n11-qgtLqJJoU~U8fKsFQDPLXQOPp7dLb~Djx3ejO8clwpYJYKrLV7y-Qb3q8yMislgcICvMRcTgM67SQSXy1hNzl28Wtr_PR1wCVT; Max-Age=31104000; Domain=.tripadvisor.co.id; Path=/; Secure; SameSite=Lax\n",
      "Done Scrapping Kubudiuma Villas Bali page 2\n",
      "\n",
      "\n"
     ]
    },
    {
     "name": "stderr",
     "output_type": "stream",
     "text": [
      "DEBUG:urllib3.connectionpool:Starting new HTTPS connection (1): www.tripadvisor.co.id:443\n"
     ]
    },
    {
     "name": "stdout",
     "output_type": "stream",
     "text": [
      "send: b'GET /Hotel_Review-g311298-d2041913-Reviews-or15-Kubudiuma_Villas_Bali-Canggu_North_Kuta_Bali.html HTTP/1.1\\r\\nHost: www.tripadvisor.co.id\\r\\nUser-Agent: Mozilla/5.0 (X11; CrOS x86_64 12871.102.0) AppleWebKit/537.36 (KHTML, like Gecko) Chrome/81.0.4044.141 Safari/537.36\\r\\nAccept-Encoding: gzip, deflate\\r\\nAccept: */*\\r\\nConnection: keep-alive\\r\\n\\r\\n'\n"
     ]
    },
    {
     "name": "stderr",
     "output_type": "stream",
     "text": [
      "DEBUG:urllib3.connectionpool:https://www.tripadvisor.co.id:443 \"GET /Hotel_Review-g311298-d2041913-Reviews-or15-Kubudiuma_Villas_Bali-Canggu_North_Kuta_Bali.html HTTP/1.1\" 200 None\n"
     ]
    },
    {
     "name": "stdout",
     "output_type": "stream",
     "text": [
      "reply: 'HTTP/1.1 200 OK\\r\\n'\n",
      "header: Server: envoy\n",
      "header: Link: <https://media-cdn.tripadvisor.com/media/>;rel=\"preconnect\";crossorigin\n",
      "header: Link: <https://media-cdn.tripadvisor.com/media/>;rel=\"dns-prefetch\"\n",
      "header: p3p: CP=\"NOI CURa ADMa DEVa TAIa OUR BUS IND UNI COM NAV INT DSP COR CAO PSA IDC ADM DEVi TAIi PSD IVAi IVDi CONi HIS CNT\"\n",
      "header: Pragma: no-cache\n",
      "header: Cache-Control: no-cache, no-store, must-revalidate\n",
      "header: Expires: 0\n",
      "header: Content-Language: id\n",
      "header: Link: <https://static.tacdn.com>;rel=\"dns-prefetch\"\n",
      "header: Link: <https://static.tacdn.com>;rel=\"preconnect\";crossorigin\n",
      "header: timing-allow-origin: https://www.tripadvisor.com\n",
      "header: Vary: Accept-Encoding\n",
      "header: Content-Type: text/html;charset=UTF-8\n",
      "header: Accept-CH: Sec-CH-UA,Sec-CH-UA-Mobile,Sec-CH-UA-Platform,Sec-CH-UA-Arch,Sec-CH-UA-Full-Version-List,Sec-CH-UA-Model,Sec-CH-Device-Memory\n",
      "header: x-datadome: protected\n",
      "header: Content-Encoding: gzip\n",
      "header: x-request-id: ca0c6cda-6df4-45b4-8013-6a7ca122cca2\n",
      "header: Date: Fri, 26 May 2023 01:04:06 GMT\n",
      "header: Transfer-Encoding: chunked\n",
      "header: Connection: keep-alive\n",
      "header: Connection: Transfer-Encoding\n",
      "header: Set-Cookie: TADCID=FZQUK-_WVatWycxzABQCXdElnkGETRW-Svh01l3nWnXCbZjQzGmwHgKFzAoFrTOZdRd8noF-HzgsFFVWJ2WGmOTwWeOnfIoVJp4; Domain=www.tripadvisor.co.id; Expires=Mon, 23-May-2033 01:04:05 GMT; Path=/; Secure; HttpOnly\n",
      "header: Set-Cookie: TAUnique=%1%enc%3AUZ9NL1tzVB7%2B7H78yfwekiHKVVkteNxIslTli4wrW%2FY2jHwltRJPGQ%3D%3D; Domain=.tripadvisor.co.id; Expires=Sun, 25-May-2025 01:04:05 GMT; Path=/; HttpOnly\n",
      "header: Set-Cookie: TASSK=enc%3AAOjN8p9ZuAlpLF7Wc3ndygpuzf%2F%2BQrfv7%2FHmo2cMiQQ1%2FKOPCR5k5Hw3uRcT77xxVjLe%2FBrwTMpCZ0580IAMSEvyz9Nc0EXlXq4epL54PAb9fGc9KbZ04gCz%2BU7THigzcw%3D%3D; Domain=www.tripadvisor.co.id; Expires=Wed, 22-Nov-2023 01:04:06 GMT; Path=/; HttpOnly\n",
      "header: Set-Cookie: TASession=V2ID.5D79F2BFAE8F4FC69E8200E002FFF843*SQ.1*HS.recommended*ES.popularity*DS.5*SAS.popularity*FPS.oldFirst*LF.in*FA.1*DF.0*TRA.true*LD.2041913; Domain=.tripadvisor.co.id; Path=/\n",
      "header: Set-Cookie: ServerPool=A; Domain=.tripadvisor.co.id; Path=/\n",
      "header: Set-Cookie: PMC=V2*MS.12*MD.20230525*LD.20230525; Domain=www.tripadvisor.co.id; Expires=Sun, 25-May-2025 01:04:06 GMT; Path=/; Secure; HttpOnly\n",
      "header: Set-Cookie: TART=%1%enc%3A%2Fux%2B%2FMn8HpLSMGbWD10%2BXzHTOhjHQD9oVUY5a8%2FIkhX6qnlQOUzJmhixZEynxB3nRsNr41gHGgI%3D; Domain=www.tripadvisor.co.id; Expires=Wed, 31-May-2023 01:04:06 GMT; Path=/; HttpOnly\n",
      "header: Set-Cookie: CM=%1%PremiumMobSess%2C%2C-1%7Ct4b-pc%2C%2C-1%7CRestAds%2FRPers%2C%2C-1%7CRCPers%2C%2C-1%7CWShadeSeen%2C%2C-1%7CTheForkMCCPers%2C%2C-1%7CHomeASess%2C%2C-1%7CPremiumMCSess%2C%2C-1%7CCrisisSess%2C%2C-1%7CUVOwnersSess%2C%2C-1%7CRestPremRSess%2C%2C-1%7CRepTarMCSess%2C%2C-1%7CCCSess%2C%2C-1%7CCYLSess%2C%2C-1%7CPremRetPers%2C%2C-1%7CViatorMCPers%2C%2C-1%7Csesssticker%2C%2C-1%7C%24%2C%2C-1%7CPremiumORSess%2C%2C-1%7Ct4b-sc%2C%2C-1%7CRestAdsPers%2C%2C-1%7CMC_IB_UPSELL_IB_LOGOS2%2C%2C-1%7CTSMCPers%2C%2C-1%7Cb2bmcpers%2C%2C-1%7CPremMCBtmSess%2C%2C-1%7CMC_IB_UPSELL_IB_LOGOS%2C%2C-1%7CLaFourchette+Banners%2C%2C-1%7Csess_rev%2C%2C-1%7Csessamex%2C%2C-1%7CPremiumRRSess%2C%2C-1%7CTADORSess%2C%2C-1%7CAdsRetPers%2C%2C-1%7CListMCSess%2C%2C-1%7CTARSWBPers%2C%2C-1%7CSPMCSess%2C%2C-1%7CTheForkORSess%2C%2C-1%7CTheForkRRSess%2C%2C-1%7Cpers_rev%2C%2C-1%7CRBAPers%2C%2C-1%7CRestAds%2FRSess%2C%2C-1%7CHomeAPers%2C%2C-1%7CPremiumMobPers%2C%2C-1%7CRCSess%2C%2C-1%7CLaFourchette+MC+Banners%2C%2C-1%7CRestAdsCCSess%2C%2C-1%7CRestPremRPers%2C%2C-1%7CRevHubRMPers%2C%2C-1%7CUVOwnersPers%2C%2C-1%7Cpssamex%2C%2C-1%7CTheForkMCCSess%2C%2C-1%7CCrisisPers%2C%2C-1%7CCYLPers%2C%2C-1%7CCCPers%2C%2C-1%7CRepTarMCPers%2C%2C-1%7Cb2bmcsess%2C%2C-1%7CTSMCSess%2C%2C-1%7CSPMCPers%2C%2C-1%7CRevHubRMSess%2C%2C-1%7CPremRetSess%2C%2C-1%7CViatorMCSess%2C%2C-1%7CPremiumMCPers%2C%2C-1%7CAdsRetSess%2C%2C-1%7CPremiumRRPers%2C%2C-1%7CRestAdsCCPers%2C%2C-1%7CTADORPers%2C%2C-1%7CTheForkORPers%2C%2C-1%7CPremMCBtmPers%2C%2C-1%7CTheForkRRPers%2C%2C-1%7CTARSWBSess%2C%2C-1%7CPremiumORPers%2C%2C-1%7CRestAdsSess%2C%2C-1%7CRBASess%2C%2C-1%7CSPORPers%2C%2C-1%7Cperssticker%2C%2C-1%7CListMCPers%2C%2C-1%7C; Domain=.tripadvisor.co.id; Expires=Mon, 23-May-2033 01:04:06 GMT; Path=/\n",
      "header: Set-Cookie: BEPIN=%1%1885595934b%3Bweb303a.a.tripadvisor.com%3A30023%3B; Domain=.tripadvisor.co.id; Path=/\n",
      "header: Set-Cookie: PAC=ANG86s6yGJ9pFGnXM2lUybiuwz7MxakBCdkk1NqR2tIrFjLbQ0NpxOtJpsl8-VpPZzFLY4DM6fuXJyW9jDJd0berzC-RRlDZBER26JPTkJURretKbN2AKshBKTQIqzssN7sdY2E4EBURfNdBRY0WgFcJtFb_6H6e2kHLabIasVo943bYMWCrHNe8bRWJbhNEuEVCH-4qrDwp1Wd2YW1RjzuTDwcav11-4UeJdZIZArFF; Domain=www.tripadvisor.co.id; Expires=Sun, 25-May-2025 01:04:06 GMT; Path=/; Secure; HttpOnly\n",
      "header: Set-Cookie: SRT=TART_SYNC; Domain=www.tripadvisor.co.id; Expires=Fri, 26-May-2023 01:34:06 GMT; Path=/\n",
      "header: Set-Cookie: TATravelInfo=V2*AY.2023*AM.6*AD.4*DY.2023*DM.6*DD.5*A.2*MG.-1*HP.2*FL.3*DSM.1685063046052*RS.1; Domain=.tripadvisor.co.id; Expires=Fri, 09-Jun-2023 01:04:06 GMT; Path=/\n",
      "header: Set-Cookie: TAUD=LG-1685063045930-2.1.F.*RDD-2-2023_05_26*HDD-3-2023_06_04.2023_06_05.1; Domain=.tripadvisor.co.id; Expires=Fri, 09-Jun-2023 01:04:06 GMT; Path=/\n",
      "header: Set-Cookie: TASID=5D79F2BFAE8F4FC69E8200E002FFF843; Domain=www.tripadvisor.co.id; Expires=Fri, 26-May-2023 01:34:06 GMT; Path=/; Secure\n",
      "header: Set-Cookie: TAReturnTo=%1%%2FHotel_Review-g311298-d2041913-Reviews-or15-Kubudiuma_Villas_Bali-Canggu_North_Kuta_Bali.html; Domain=.tripadvisor.co.id; Path=/\n",
      "header: Set-Cookie: datadome=DxfJWeTYgj4klR9Uz1JV2mmZtOwg7Cg7Cx_RZ28xqOSw7k8XP0qUI4da4IDHGpRHfo4kM_lqjdW-D7mIZhVQza2herahDr~0yhpSqtUtASnFScAG0MUQCp-mc-ot55l; Max-Age=31104000; Domain=.tripadvisor.co.id; Path=/; Secure; SameSite=Lax\n",
      "Done Scrapping Kubudiuma Villas Bali page 3\n",
      "\n",
      "\n"
     ]
    },
    {
     "name": "stderr",
     "output_type": "stream",
     "text": [
      "DEBUG:urllib3.connectionpool:Starting new HTTPS connection (1): www.tripadvisor.co.id:443\n"
     ]
    },
    {
     "name": "stdout",
     "output_type": "stream",
     "text": [
      "send: b'GET /Hotel_Review-g311298-d2041913-Reviews-or20-Kubudiuma_Villas_Bali-Canggu_North_Kuta_Bali.html HTTP/1.1\\r\\nHost: www.tripadvisor.co.id\\r\\nUser-Agent: Mozilla/5.0 (X11; CrOS x86_64 12871.102.0) AppleWebKit/537.36 (KHTML, like Gecko) Chrome/81.0.4044.141 Safari/537.36\\r\\nAccept-Encoding: gzip, deflate\\r\\nAccept: */*\\r\\nConnection: keep-alive\\r\\n\\r\\n'\n"
     ]
    },
    {
     "name": "stderr",
     "output_type": "stream",
     "text": [
      "DEBUG:urllib3.connectionpool:https://www.tripadvisor.co.id:443 \"GET /Hotel_Review-g311298-d2041913-Reviews-or20-Kubudiuma_Villas_Bali-Canggu_North_Kuta_Bali.html HTTP/1.1\" 200 None\n"
     ]
    },
    {
     "name": "stdout",
     "output_type": "stream",
     "text": [
      "reply: 'HTTP/1.1 200 OK\\r\\n'\n",
      "header: Server: envoy\n",
      "header: Link: <https://media-cdn.tripadvisor.com/media/>;rel=\"preconnect\";crossorigin\n",
      "header: Link: <https://media-cdn.tripadvisor.com/media/>;rel=\"dns-prefetch\"\n",
      "header: p3p: CP=\"NOI CURa ADMa DEVa TAIa OUR BUS IND UNI COM NAV INT DSP COR CAO PSA IDC ADM DEVi TAIi PSD IVAi IVDi CONi HIS CNT\"\n",
      "header: Pragma: no-cache\n",
      "header: Cache-Control: no-cache, no-store, must-revalidate\n",
      "header: Expires: 0\n",
      "header: Content-Language: id\n",
      "header: Link: <https://static.tacdn.com>;rel=\"dns-prefetch\"\n",
      "header: Link: <https://static.tacdn.com>;rel=\"preconnect\";crossorigin\n",
      "header: timing-allow-origin: https://www.tripadvisor.com\n",
      "header: Vary: Accept-Encoding\n",
      "header: Content-Type: text/html;charset=UTF-8\n",
      "header: Accept-CH: Sec-CH-UA,Sec-CH-UA-Mobile,Sec-CH-UA-Platform,Sec-CH-UA-Arch,Sec-CH-UA-Full-Version-List,Sec-CH-UA-Model,Sec-CH-Device-Memory\n",
      "header: x-datadome: protected\n",
      "header: Content-Encoding: gzip\n",
      "header: x-request-id: 43833522-43e8-463a-a604-aa47ebc51960\n",
      "header: Date: Fri, 26 May 2023 01:04:11 GMT\n",
      "header: Transfer-Encoding: chunked\n",
      "header: Connection: keep-alive\n",
      "header: Connection: Transfer-Encoding\n",
      "header: Set-Cookie: TADCID=dd_hp2rNBIZj_u9KABQCXdElnkGETRW-Svh01l3nWnXCbSgRQDcg59vNyrxpobP0A8UrI3VqzLh5H8VKeLhUKJT9ccxHB_OvFkU; Domain=www.tripadvisor.co.id; Expires=Mon, 23-May-2033 01:04:10 GMT; Path=/; Secure; HttpOnly\n",
      "header: Set-Cookie: TAUnique=%1%enc%3AnfhaBIyx5qj%2B7H78yfwekiHKVVkteNxIaTvlmR%2Bipvs2jHwltRJPGQ%3D%3D; Domain=.tripadvisor.co.id; Expires=Sun, 25-May-2025 01:04:10 GMT; Path=/; HttpOnly\n",
      "header: Set-Cookie: TASSK=enc%3AAPiqtlDfFQ3EOuFMUAC2VPuUXtfsv46oLSZiY7jDlrbovtmJHiFhPI4fe0Hmon7ijyiK8mP%2Bzyjdj%2BrgcadQio1UVka6K51aPszpRM%2BiLAVB4t9dqxJ2rqJr1ctwKWkf2w%3D%3D; Domain=www.tripadvisor.co.id; Expires=Wed, 22-Nov-2023 01:04:11 GMT; Path=/; HttpOnly\n",
      "header: Set-Cookie: TASession=V2ID.707DE5099B9F458FB7B64F889BE01ECE*SQ.1*HS.recommended*ES.popularity*DS.5*SAS.popularity*FPS.oldFirst*LF.in*FA.1*DF.0*TRA.true*LD.2041913; Domain=.tripadvisor.co.id; Path=/\n",
      "header: Set-Cookie: ServerPool=A; Domain=.tripadvisor.co.id; Path=/\n",
      "header: Set-Cookie: PMC=V2*MS.8*MD.20230525*LD.20230525; Domain=www.tripadvisor.co.id; Expires=Sun, 25-May-2025 01:04:11 GMT; Path=/; Secure; HttpOnly\n",
      "header: Set-Cookie: TART=%1%enc%3A%2Fux%2B%2FMn8HpJuru6B9bnVqy50lK7qtg4vYQQy6BNbU4L7eaxOcwfBXjvVWyBMeUK24ieoPdYMDDY%3D; Domain=www.tripadvisor.co.id; Expires=Wed, 31-May-2023 01:04:11 GMT; Path=/; HttpOnly\n",
      "header: Set-Cookie: CM=%1%PremiumMobSess%2C%2C-1%7Ct4b-pc%2C%2C-1%7CRestAds%2FRPers%2C%2C-1%7CRCPers%2C%2C-1%7CWShadeSeen%2C%2C-1%7CTheForkMCCPers%2C%2C-1%7CHomeASess%2C%2C-1%7CPremiumMCSess%2C%2C-1%7CCrisisSess%2C%2C-1%7CUVOwnersSess%2C%2C-1%7CRestPremRSess%2C%2C-1%7CRepTarMCSess%2C%2C-1%7CCCSess%2C%2C-1%7CCYLSess%2C%2C-1%7CPremRetPers%2C%2C-1%7CViatorMCPers%2C%2C-1%7Csesssticker%2C%2C-1%7C%24%2C%2C-1%7CPremiumORSess%2C%2C-1%7Ct4b-sc%2C%2C-1%7CRestAdsPers%2C%2C-1%7CMC_IB_UPSELL_IB_LOGOS2%2C%2C-1%7CTSMCPers%2C%2C-1%7Cb2bmcpers%2C%2C-1%7CPremMCBtmSess%2C%2C-1%7CMC_IB_UPSELL_IB_LOGOS%2C%2C-1%7CLaFourchette+Banners%2C%2C-1%7Csess_rev%2C%2C-1%7Csessamex%2C%2C-1%7CPremiumRRSess%2C%2C-1%7CTADORSess%2C%2C-1%7CAdsRetPers%2C%2C-1%7CListMCSess%2C%2C-1%7CTARSWBPers%2C%2C-1%7CSPMCSess%2C%2C-1%7CTheForkORSess%2C%2C-1%7CTheForkRRSess%2C%2C-1%7Cpers_rev%2C%2C-1%7CRBAPers%2C%2C-1%7CRestAds%2FRSess%2C%2C-1%7CHomeAPers%2C%2C-1%7CPremiumMobPers%2C%2C-1%7CRCSess%2C%2C-1%7CLaFourchette+MC+Banners%2C%2C-1%7CRestAdsCCSess%2C%2C-1%7CRestPremRPers%2C%2C-1%7CRevHubRMPers%2C%2C-1%7CUVOwnersPers%2C%2C-1%7Cpssamex%2C%2C-1%7CTheForkMCCSess%2C%2C-1%7CCrisisPers%2C%2C-1%7CCYLPers%2C%2C-1%7CCCPers%2C%2C-1%7CRepTarMCPers%2C%2C-1%7Cb2bmcsess%2C%2C-1%7CTSMCSess%2C%2C-1%7CSPMCPers%2C%2C-1%7CRevHubRMSess%2C%2C-1%7CPremRetSess%2C%2C-1%7CViatorMCSess%2C%2C-1%7CPremiumMCPers%2C%2C-1%7CAdsRetSess%2C%2C-1%7CPremiumRRPers%2C%2C-1%7CRestAdsCCPers%2C%2C-1%7CTADORPers%2C%2C-1%7CTheForkORPers%2C%2C-1%7CPremMCBtmPers%2C%2C-1%7CTheForkRRPers%2C%2C-1%7CTARSWBSess%2C%2C-1%7CPremiumORPers%2C%2C-1%7CRestAdsSess%2C%2C-1%7CRBASess%2C%2C-1%7CSPORPers%2C%2C-1%7Cperssticker%2C%2C-1%7CListMCPers%2C%2C-1%7C; Domain=.tripadvisor.co.id; Expires=Mon, 23-May-2033 01:04:11 GMT; Path=/\n",
      "header: Set-Cookie: BEPIN=%1%1885595a687%3Bweb376a.a.tripadvisor.com%3A30023%3B; Domain=.tripadvisor.co.id; Path=/\n",
      "header: Set-Cookie: PAC=AMzdY1Q70T5SJNZOUytLWWXyRtq6YrlGgIqUWtb1QJAXQpoSYyRBBMP19hM71nEuZBTdyy9n0iSqvQ1T9Yju9xfv0_RRcnjSb6DxzYjv3aOz49Nv3zIdCyi91kMtOUZ3pI1G7NUNCgu5vwVz_h2syWGWFAQ9jfkwHZcRH4ggYXGjLO0gTq5rkxEaoyov6x0Z--fWAGJyWK9bCuoj0RCCyXDpdD3japJE3tJ6p-lp44hB; Domain=www.tripadvisor.co.id; Expires=Sun, 25-May-2025 01:04:11 GMT; Path=/; Secure; HttpOnly\n",
      "header: Set-Cookie: SRT=TART_SYNC; Domain=www.tripadvisor.co.id; Expires=Fri, 26-May-2023 01:34:11 GMT; Path=/\n",
      "header: Set-Cookie: TATravelInfo=V2*AY.2023*AM.6*AD.4*DY.2023*DM.6*DD.5*A.2*MG.-1*HP.2*FL.3*DSM.1685063050978*RS.1; Domain=.tripadvisor.co.id; Expires=Fri, 09-Jun-2023 01:04:11 GMT; Path=/\n",
      "header: Set-Cookie: TAUD=LG-1685063050872-2.1.F.*RDD-2-2023_05_26*HDD-3-2023_06_04.2023_06_05.1; Domain=.tripadvisor.co.id; Expires=Fri, 09-Jun-2023 01:04:11 GMT; Path=/\n",
      "header: Set-Cookie: TASID=707DE5099B9F458FB7B64F889BE01ECE; Domain=www.tripadvisor.co.id; Expires=Fri, 26-May-2023 01:34:11 GMT; Path=/; Secure\n",
      "header: Set-Cookie: TAReturnTo=%1%%2FHotel_Review-g311298-d2041913-Reviews-or20-Kubudiuma_Villas_Bali-Canggu_North_Kuta_Bali.html; Domain=.tripadvisor.co.id; Path=/\n",
      "header: Set-Cookie: datadome=1ukhLI-jdLwZJUWlQlVy36X_U3XA2tbXfDwoatC3r4-C4dg9Dt9~_YGTv_ll0JQceWuaj2kDFn9eaV~KtoZbrkO7FPUHtRFTPQb_8WQJn1mH7Q-IGHngzSjFhQo1Ua4g; Max-Age=31104000; Domain=.tripadvisor.co.id; Path=/; Secure; SameSite=Lax\n",
      "Done Scrapping Kubudiuma Villas Bali page 4\n",
      "\n",
      "\n"
     ]
    },
    {
     "name": "stderr",
     "output_type": "stream",
     "text": [
      "DEBUG:urllib3.connectionpool:Starting new HTTPS connection (1): www.tripadvisor.co.id:443\n"
     ]
    },
    {
     "name": "stdout",
     "output_type": "stream",
     "text": [
      "send: b'GET /Hotel_Review-g311298-d2041913-Reviews-or25-Kubudiuma_Villas_Bali-Canggu_North_Kuta_Bali.html HTTP/1.1\\r\\nHost: www.tripadvisor.co.id\\r\\nUser-Agent: Mozilla/5.0 (X11; CrOS x86_64 12871.102.0) AppleWebKit/537.36 (KHTML, like Gecko) Chrome/81.0.4044.141 Safari/537.36\\r\\nAccept-Encoding: gzip, deflate\\r\\nAccept: */*\\r\\nConnection: keep-alive\\r\\n\\r\\n'\n"
     ]
    },
    {
     "name": "stderr",
     "output_type": "stream",
     "text": [
      "DEBUG:urllib3.connectionpool:https://www.tripadvisor.co.id:443 \"GET /Hotel_Review-g311298-d2041913-Reviews-or25-Kubudiuma_Villas_Bali-Canggu_North_Kuta_Bali.html HTTP/1.1\" 200 None\n"
     ]
    },
    {
     "name": "stdout",
     "output_type": "stream",
     "text": [
      "reply: 'HTTP/1.1 200 OK\\r\\n'\n",
      "header: Server: envoy\n",
      "header: Link: <https://media-cdn.tripadvisor.com/media/>;rel=\"preconnect\";crossorigin\n",
      "header: Link: <https://media-cdn.tripadvisor.com/media/>;rel=\"dns-prefetch\"\n",
      "header: p3p: CP=\"NOI CURa ADMa DEVa TAIa OUR BUS IND UNI COM NAV INT DSP COR CAO PSA IDC ADM DEVi TAIi PSD IVAi IVDi CONi HIS CNT\"\n",
      "header: Pragma: no-cache\n",
      "header: Cache-Control: no-cache, no-store, must-revalidate\n",
      "header: Expires: 0\n",
      "header: Content-Language: id\n",
      "header: Link: <https://static.tacdn.com>;rel=\"dns-prefetch\"\n",
      "header: Link: <https://static.tacdn.com>;rel=\"preconnect\";crossorigin\n",
      "header: timing-allow-origin: https://www.tripadvisor.com\n",
      "header: Vary: Accept-Encoding\n",
      "header: Content-Type: text/html;charset=UTF-8\n",
      "header: Accept-CH: Sec-CH-UA,Sec-CH-UA-Mobile,Sec-CH-UA-Platform,Sec-CH-UA-Arch,Sec-CH-UA-Full-Version-List,Sec-CH-UA-Model,Sec-CH-Device-Memory\n",
      "header: x-datadome: protected\n",
      "header: Content-Encoding: gzip\n",
      "header: x-request-id: 4368d965-c135-4501-92cf-df43b9e4b239\n",
      "header: Date: Fri, 26 May 2023 01:04:16 GMT\n",
      "header: Transfer-Encoding: chunked\n",
      "header: Connection: keep-alive\n",
      "header: Connection: Transfer-Encoding\n",
      "header: Set-Cookie: TADCID=VpitNsc18TK93kduABQCXdElnkGETRW-Svh01l3nWnXCbZDWlO574MkYzlVoCDBWsjlEgrXpaYhOoq4GA08d9bBQ9kDb5X6eKMA; Domain=www.tripadvisor.co.id; Expires=Mon, 23-May-2033 01:04:15 GMT; Path=/; Secure; HttpOnly\n",
      "header: Set-Cookie: TAUnique=%1%enc%3A1kPry8eFFZL%2B7H78yfwekiHKVVkteNxINcUmtTcopPk2jHwltRJPGQ%3D%3D; Domain=.tripadvisor.co.id; Expires=Sun, 25-May-2025 01:04:15 GMT; Path=/; HttpOnly\n",
      "header: Set-Cookie: TASSK=enc%3AAA%2FoUQT2%2Bc7X9tiRoUKtmOKyCo%2BYF5eHi6Dc0izNbHr3H0AtDO28oWqMDSHkuoSWJwhoD4KP17y%2BBrbBjgM8Zm1wYyjf2UuHfIfdpubcwsHBmxdz1vN3HdutwNZ0yzWU6w%3D%3D; Domain=www.tripadvisor.co.id; Expires=Wed, 22-Nov-2023 01:04:16 GMT; Path=/; HttpOnly\n",
      "header: Set-Cookie: TASession=V2ID.F1268CFCD4A140A1839047E0F4346D2C*SQ.1*HS.recommended*ES.popularity*DS.5*SAS.popularity*FPS.oldFirst*LF.in*FA.1*DF.0*TRA.true*LD.2041913; Domain=.tripadvisor.co.id; Path=/\n",
      "header: Set-Cookie: ServerPool=X; Domain=.tripadvisor.co.id; Path=/\n",
      "header: Set-Cookie: PMC=V2*MS.9*MD.20230525*LD.20230525; Domain=www.tripadvisor.co.id; Expires=Sun, 25-May-2025 01:04:16 GMT; Path=/; Secure; HttpOnly\n",
      "header: Set-Cookie: TART=%1%enc%3A%2Fux%2B%2FMn8HpIa0ooLKT%2BU6%2BdHRZtx6C5rpDQTJKpRKs7sLSl%2FXOCDQgvcUzWfLAS2NULCL3ymXx4%3D; Domain=www.tripadvisor.co.id; Expires=Wed, 31-May-2023 01:04:16 GMT; Path=/; HttpOnly\n",
      "header: Set-Cookie: CM=%1%PremiumMobSess%2C%2C-1%7Ct4b-pc%2C%2C-1%7CRestAds%2FRPers%2C%2C-1%7CRCPers%2C%2C-1%7CWShadeSeen%2C%2C-1%7CTheForkMCCPers%2C%2C-1%7CHomeASess%2C%2C-1%7CPremiumMCSess%2C%2C-1%7CCrisisSess%2C%2C-1%7CUVOwnersSess%2C%2C-1%7CRestPremRSess%2C%2C-1%7CRepTarMCSess%2C%2C-1%7CCCSess%2C%2C-1%7CCYLSess%2C%2C-1%7CPremRetPers%2C%2C-1%7CViatorMCPers%2C%2C-1%7Csesssticker%2C%2C-1%7C%24%2C%2C-1%7CPremiumORSess%2C%2C-1%7Ct4b-sc%2C%2C-1%7CRestAdsPers%2C%2C-1%7CMC_IB_UPSELL_IB_LOGOS2%2C%2C-1%7CTSMCPers%2C%2C-1%7Cb2bmcpers%2C%2C-1%7CPremMCBtmSess%2C%2C-1%7CMC_IB_UPSELL_IB_LOGOS%2C%2C-1%7CLaFourchette+Banners%2C%2C-1%7Csess_rev%2C%2C-1%7Csessamex%2C%2C-1%7CPremiumRRSess%2C%2C-1%7CTADORSess%2C%2C-1%7CAdsRetPers%2C%2C-1%7CListMCSess%2C%2C-1%7CTARSWBPers%2C%2C-1%7CSPMCSess%2C%2C-1%7CTheForkORSess%2C%2C-1%7CTheForkRRSess%2C%2C-1%7Cpers_rev%2C%2C-1%7CRBAPers%2C%2C-1%7CRestAds%2FRSess%2C%2C-1%7CHomeAPers%2C%2C-1%7CPremiumMobPers%2C%2C-1%7CRCSess%2C%2C-1%7CLaFourchette+MC+Banners%2C%2C-1%7CRestAdsCCSess%2C%2C-1%7CRestPremRPers%2C%2C-1%7CRevHubRMPers%2C%2C-1%7CUVOwnersPers%2C%2C-1%7Cpssamex%2C%2C-1%7CTheForkMCCSess%2C%2C-1%7CCrisisPers%2C%2C-1%7CCYLPers%2C%2C-1%7CCCPers%2C%2C-1%7CRepTarMCPers%2C%2C-1%7Cb2bmcsess%2C%2C-1%7CTSMCSess%2C%2C-1%7CSPMCPers%2C%2C-1%7CRevHubRMSess%2C%2C-1%7CPremRetSess%2C%2C-1%7CViatorMCSess%2C%2C-1%7CPremiumMCPers%2C%2C-1%7CAdsRetSess%2C%2C-1%7CPremiumRRPers%2C%2C-1%7CRestAdsCCPers%2C%2C-1%7CTADORPers%2C%2C-1%7CTheForkORPers%2C%2C-1%7CPremMCBtmPers%2C%2C-1%7CTheForkRRPers%2C%2C-1%7CTARSWBSess%2C%2C-1%7CPremiumORPers%2C%2C-1%7CRestAdsSess%2C%2C-1%7CRBASess%2C%2C-1%7CSPORPers%2C%2C-1%7Cperssticker%2C%2C-1%7CListMCPers%2C%2C-1%7C; Domain=.tripadvisor.co.id; Expires=Mon, 23-May-2033 01:04:16 GMT; Path=/\n",
      "header: Set-Cookie: BEPIN=%1%1885595b91f%3Bweb271a.a.tripadvisor.com%3A30023%3B; Domain=.tripadvisor.co.id; Path=/\n",
      "header: Set-Cookie: PAC=ADzUB8e9VxGQwFmsWNbAuUcHEkjv6YB6YR5YdR98CgpIJ-uSh-mxS_58itpg327F_T37lRsyn9jrXdSKVWiiIxwl3Qpf465gYwwdjsYCpBJFPrtJR8ikKUJqHUpjJRZ1Y7ajfu9hlbKif_nTWTmQmd_xmZ1LWEaQ7RJbV7f2EcfB47FycnwlCWkKG_VuqaXVzrQr55hhDgetZeyFjEE2c-12FezPO8tjM_vQPEt9PViq; Domain=www.tripadvisor.co.id; Expires=Sun, 25-May-2025 01:04:16 GMT; Path=/; Secure; HttpOnly\n",
      "header: Set-Cookie: SRT=TART_SYNC; Domain=www.tripadvisor.co.id; Expires=Fri, 26-May-2023 01:34:16 GMT; Path=/\n",
      "header: Set-Cookie: TATravelInfo=V2*AY.2023*AM.6*AD.4*DY.2023*DM.6*DD.5*A.2*MG.-1*HP.2*FL.3*DSM.1685063055746*RS.1; Domain=.tripadvisor.co.id; Expires=Fri, 09-Jun-2023 01:04:16 GMT; Path=/\n",
      "header: Set-Cookie: TAUD=LG-1685063055613-2.1.F.*RDD-2-2023_05_26*HDD-3-2023_06_04.2023_06_05.1; Domain=.tripadvisor.co.id; Expires=Fri, 09-Jun-2023 01:04:16 GMT; Path=/\n",
      "header: Set-Cookie: TASID=F1268CFCD4A140A1839047E0F4346D2C; Domain=www.tripadvisor.co.id; Expires=Fri, 26-May-2023 01:34:16 GMT; Path=/; Secure\n",
      "header: Set-Cookie: TAReturnTo=%1%%2FHotel_Review-g311298-d2041913-Reviews-or25-Kubudiuma_Villas_Bali-Canggu_North_Kuta_Bali.html; Domain=.tripadvisor.co.id; Path=/\n",
      "header: Set-Cookie: datadome=69Q_k8zhZ0xmq4CZffoNcTfxqf4~G16uu5koK91cWpGkqMXvXfPz4WckiKJPdMmUeiWHbJ2UueL7Yif1SXNE8wkTfygZ0Jsn7EUXmhqv0gYNknl0aWFPO6y4uVBJ-p7K; Max-Age=31104000; Domain=.tripadvisor.co.id; Path=/; Secure; SameSite=Lax\n",
      "Done Scrapping Kubudiuma Villas Bali page 5\n",
      "\n",
      "\n"
     ]
    },
    {
     "name": "stderr",
     "output_type": "stream",
     "text": [
      "DEBUG:urllib3.connectionpool:Starting new HTTPS connection (1): www.tripadvisor.co.id:443\n"
     ]
    },
    {
     "name": "stdout",
     "output_type": "stream",
     "text": [
      "send: b'GET /Hotel_Review-g311298-d2041913-Reviews-or30-Kubudiuma_Villas_Bali-Canggu_North_Kuta_Bali.html HTTP/1.1\\r\\nHost: www.tripadvisor.co.id\\r\\nUser-Agent: Mozilla/5.0 (X11; CrOS x86_64 12871.102.0) AppleWebKit/537.36 (KHTML, like Gecko) Chrome/81.0.4044.141 Safari/537.36\\r\\nAccept-Encoding: gzip, deflate\\r\\nAccept: */*\\r\\nConnection: keep-alive\\r\\n\\r\\n'\n"
     ]
    },
    {
     "name": "stderr",
     "output_type": "stream",
     "text": [
      "DEBUG:urllib3.connectionpool:https://www.tripadvisor.co.id:443 \"GET /Hotel_Review-g311298-d2041913-Reviews-or30-Kubudiuma_Villas_Bali-Canggu_North_Kuta_Bali.html HTTP/1.1\" 200 None\n"
     ]
    },
    {
     "name": "stdout",
     "output_type": "stream",
     "text": [
      "reply: 'HTTP/1.1 200 OK\\r\\n'\n",
      "header: Server: envoy\n",
      "header: Link: <https://media-cdn.tripadvisor.com/media/>;rel=\"preconnect\";crossorigin\n",
      "header: Link: <https://media-cdn.tripadvisor.com/media/>;rel=\"dns-prefetch\"\n",
      "header: p3p: CP=\"NOI CURa ADMa DEVa TAIa OUR BUS IND UNI COM NAV INT DSP COR CAO PSA IDC ADM DEVi TAIi PSD IVAi IVDi CONi HIS CNT\"\n",
      "header: Pragma: no-cache\n",
      "header: Cache-Control: no-cache, no-store, must-revalidate\n",
      "header: Expires: 0\n",
      "header: Content-Language: id\n",
      "header: Link: <https://static.tacdn.com>;rel=\"dns-prefetch\"\n",
      "header: Link: <https://static.tacdn.com>;rel=\"preconnect\";crossorigin\n",
      "header: timing-allow-origin: https://www.tripadvisor.com\n",
      "header: Vary: Accept-Encoding\n",
      "header: Content-Type: text/html;charset=UTF-8\n",
      "header: x-datadome: protected\n",
      "header: Accept-CH: Sec-CH-UA,Sec-CH-UA-Mobile,Sec-CH-UA-Platform,Sec-CH-UA-Arch,Sec-CH-UA-Full-Version-List,Sec-CH-UA-Model,Sec-CH-Device-Memory\n",
      "header: Content-Encoding: gzip\n",
      "header: x-request-id: a64a4767-a92f-4373-9f45-ae5fcdc54525\n",
      "header: Date: Fri, 26 May 2023 01:04:20 GMT\n",
      "header: Transfer-Encoding: chunked\n",
      "header: Connection: keep-alive\n",
      "header: Connection: Transfer-Encoding\n",
      "header: Set-Cookie: TADCID=b37CBvvi-wnPo5q9ABQCXdElnkGETRW-Svh01l3nWnXCbYe0Njps3tcCMplpaFqw0jNkrQZaf55W0mC8j_VL2pn3-19RtMP8a84; Domain=www.tripadvisor.co.id; Expires=Mon, 23-May-2033 01:04:19 GMT; Path=/; Secure; HttpOnly\n",
      "header: Set-Cookie: TAUnique=%1%enc%3AXWPY91XvAYH%2B7H78yfwekiHKVVkteNxI2uR3%2FikN5MQ2jHwltRJPGQ%3D%3D; Domain=.tripadvisor.co.id; Expires=Sun, 25-May-2025 01:04:19 GMT; Path=/; HttpOnly\n",
      "header: Set-Cookie: TASSK=enc%3AAJS26VMpB%2F6Wzjjh1AZ9F6Mlkw%2Ffs2CpOKiGoHueawdkrkRmvmE24LJMGvcHKgXCDSMZUnSoOTdh7hIL4hHuQFbJoWFkhC75E3YbzOsOt%2FIfTwilkcigFcUJrmj36%2FyYSA%3D%3D; Domain=www.tripadvisor.co.id; Expires=Wed, 22-Nov-2023 01:04:20 GMT; Path=/; HttpOnly\n",
      "header: Set-Cookie: TASession=V2ID.76861E8AC2384A299BBE1FC8809227C3*SQ.1*HS.recommended*ES.popularity*DS.5*SAS.popularity*FPS.oldFirst*LF.in*FA.1*DF.0*TRA.true*LD.2041913; Domain=.tripadvisor.co.id; Path=/\n",
      "header: Set-Cookie: ServerPool=C; Domain=.tripadvisor.co.id; Path=/\n",
      "header: Set-Cookie: PMC=V2*MS.83*MD.20230525*LD.20230525; Domain=www.tripadvisor.co.id; Expires=Sun, 25-May-2025 01:04:20 GMT; Path=/; Secure; HttpOnly\n",
      "header: Set-Cookie: TART=%1%enc%3A%2Fux%2B%2FMn8HpJbc9cnndh29mvQNMnhDoLwFTSdH%2BU5o0KtbRKnoui2EQsMuog9fXl34ieoPdYMDDY%3D; Domain=www.tripadvisor.co.id; Expires=Wed, 31-May-2023 01:04:20 GMT; Path=/; HttpOnly\n",
      "header: Set-Cookie: CM=%1%PremiumMobSess%2C%2C-1%7Ct4b-pc%2C%2C-1%7CRestAds%2FRPers%2C%2C-1%7CRCPers%2C%2C-1%7CWShadeSeen%2C%2C-1%7CTheForkMCCPers%2C%2C-1%7CHomeASess%2C%2C-1%7CPremiumMCSess%2C%2C-1%7CCrisisSess%2C%2C-1%7CUVOwnersSess%2C%2C-1%7CRestPremRSess%2C%2C-1%7CRepTarMCSess%2C%2C-1%7CCCSess%2C%2C-1%7CCYLSess%2C%2C-1%7CPremRetPers%2C%2C-1%7CViatorMCPers%2C%2C-1%7Csesssticker%2C%2C-1%7C%24%2C%2C-1%7CPremiumORSess%2C%2C-1%7Ct4b-sc%2C%2C-1%7CRestAdsPers%2C%2C-1%7CMC_IB_UPSELL_IB_LOGOS2%2C%2C-1%7CTSMCPers%2C%2C-1%7Cb2bmcpers%2C%2C-1%7CPremMCBtmSess%2C%2C-1%7CMC_IB_UPSELL_IB_LOGOS%2C%2C-1%7CLaFourchette+Banners%2C%2C-1%7Csess_rev%2C%2C-1%7Csessamex%2C%2C-1%7CPremiumRRSess%2C%2C-1%7CTADORSess%2C%2C-1%7CAdsRetPers%2C%2C-1%7CListMCSess%2C%2C-1%7CTARSWBPers%2C%2C-1%7CSPMCSess%2C%2C-1%7CTheForkORSess%2C%2C-1%7CTheForkRRSess%2C%2C-1%7Cpers_rev%2C%2C-1%7CRBAPers%2C%2C-1%7CRestAds%2FRSess%2C%2C-1%7CHomeAPers%2C%2C-1%7CPremiumMobPers%2C%2C-1%7CRCSess%2C%2C-1%7CLaFourchette+MC+Banners%2C%2C-1%7CRestAdsCCSess%2C%2C-1%7CRestPremRPers%2C%2C-1%7CRevHubRMPers%2C%2C-1%7CUVOwnersPers%2C%2C-1%7Cpssamex%2C%2C-1%7CTheForkMCCSess%2C%2C-1%7CCrisisPers%2C%2C-1%7CCYLPers%2C%2C-1%7CCCPers%2C%2C-1%7CRepTarMCPers%2C%2C-1%7Cb2bmcsess%2C%2C-1%7CTSMCSess%2C%2C-1%7CSPMCPers%2C%2C-1%7CRevHubRMSess%2C%2C-1%7CPremRetSess%2C%2C-1%7CViatorMCSess%2C%2C-1%7CPremiumMCPers%2C%2C-1%7CAdsRetSess%2C%2C-1%7CPremiumRRPers%2C%2C-1%7CRestAdsCCPers%2C%2C-1%7CTADORPers%2C%2C-1%7CTheForkORPers%2C%2C-1%7CPremMCBtmPers%2C%2C-1%7CTheForkRRPers%2C%2C-1%7CTARSWBSess%2C%2C-1%7CPremiumORPers%2C%2C-1%7CRestAdsSess%2C%2C-1%7CRBASess%2C%2C-1%7CSPORPers%2C%2C-1%7Cperssticker%2C%2C-1%7CListMCPers%2C%2C-1%7C; Domain=.tripadvisor.co.id; Expires=Mon, 23-May-2033 01:04:20 GMT; Path=/\n",
      "header: Set-Cookie: BEPIN=%1%1885595ca15%3Bweb303a.a.tripadvisor.com%3A30023%3B; Domain=.tripadvisor.co.id; Path=/\n",
      "header: Set-Cookie: PAC=ALbDCx_x5OsKTxWghDp9ydGDyaZ0oKtP7bCh6HlJNDjpQHzUgTPvAEFj2O0VhigOSpKIhOvHG38Bk9bdYgmr-WqztGvXezKOG-V8KdU5f1FuXcFmWN5pELWRlVbW6ey-v7E_4igpQlWmF_bLWyodq4RIdZAc6Tx6Z5ocfsDQXyihJNy7Gx92f3sFbLs2hvz4P4_LxHEA56GzPpX95HynqTevCGMduK5M8itmO6a4E8oC; Domain=www.tripadvisor.co.id; Expires=Sun, 25-May-2025 01:04:20 GMT; Path=/; Secure; HttpOnly\n",
      "header: Set-Cookie: SRT=TART_SYNC; Domain=www.tripadvisor.co.id; Expires=Fri, 26-May-2023 01:34:20 GMT; Path=/\n",
      "header: Set-Cookie: TATravelInfo=V2*AY.2023*AM.6*AD.4*DY.2023*DM.6*DD.5*A.2*MG.-1*HP.2*FL.3*DSM.1685063060084*RS.1; Domain=.tripadvisor.co.id; Expires=Fri, 09-Jun-2023 01:04:20 GMT; Path=/\n",
      "header: Set-Cookie: TAUD=LG-1685063059951-2.1.F.*RDD-2-2023_05_26*HDD-3-2023_06_04.2023_06_05.1; Domain=.tripadvisor.co.id; Expires=Fri, 09-Jun-2023 01:04:20 GMT; Path=/\n",
      "header: Set-Cookie: TASID=76861E8AC2384A299BBE1FC8809227C3; Domain=www.tripadvisor.co.id; Expires=Fri, 26-May-2023 01:34:20 GMT; Path=/; Secure\n",
      "header: Set-Cookie: TAReturnTo=%1%%2FHotel_Review-g311298-d2041913-Reviews-or30-Kubudiuma_Villas_Bali-Canggu_North_Kuta_Bali.html; Domain=.tripadvisor.co.id; Path=/\n",
      "header: Set-Cookie: datadome=2ud_7nmVJ7cFvt28tAf6xCVFFqSmAxzYUzQDqGoMtvLiE9DIosUCjfdSjfDa~elLxxBgnLkn7l3JVXuFMFCS7IlG2jjZ8QWWORNPWhc3yktTtKNHf7EqiPnVvfwaaY9; Max-Age=31104000; Domain=.tripadvisor.co.id; Path=/; Secure; SameSite=Lax\n",
      "Done Scrapping Kubudiuma Villas Bali page 6\n",
      "\n",
      "\n"
     ]
    },
    {
     "name": "stderr",
     "output_type": "stream",
     "text": [
      "DEBUG:urllib3.connectionpool:Starting new HTTPS connection (1): www.tripadvisor.co.id:443\n"
     ]
    },
    {
     "name": "stdout",
     "output_type": "stream",
     "text": [
      "send: b'GET /Hotel_Review-g311298-d2041913-Reviews-or35-Kubudiuma_Villas_Bali-Canggu_North_Kuta_Bali.html HTTP/1.1\\r\\nHost: www.tripadvisor.co.id\\r\\nUser-Agent: Mozilla/5.0 (X11; CrOS x86_64 12871.102.0) AppleWebKit/537.36 (KHTML, like Gecko) Chrome/81.0.4044.141 Safari/537.36\\r\\nAccept-Encoding: gzip, deflate\\r\\nAccept: */*\\r\\nConnection: keep-alive\\r\\n\\r\\n'\n"
     ]
    },
    {
     "name": "stderr",
     "output_type": "stream",
     "text": [
      "DEBUG:urllib3.connectionpool:https://www.tripadvisor.co.id:443 \"GET /Hotel_Review-g311298-d2041913-Reviews-or35-Kubudiuma_Villas_Bali-Canggu_North_Kuta_Bali.html HTTP/1.1\" 200 None\n"
     ]
    },
    {
     "name": "stdout",
     "output_type": "stream",
     "text": [
      "reply: 'HTTP/1.1 200 OK\\r\\n'\n",
      "header: Server: envoy\n",
      "header: Link: <https://media-cdn.tripadvisor.com/media/>;rel=\"preconnect\";crossorigin\n",
      "header: Link: <https://media-cdn.tripadvisor.com/media/>;rel=\"dns-prefetch\"\n",
      "header: p3p: CP=\"NOI CURa ADMa DEVa TAIa OUR BUS IND UNI COM NAV INT DSP COR CAO PSA IDC ADM DEVi TAIi PSD IVAi IVDi CONi HIS CNT\"\n",
      "header: Pragma: no-cache\n",
      "header: Cache-Control: no-cache, no-store, must-revalidate\n",
      "header: Expires: 0\n",
      "header: Content-Language: id\n",
      "header: Link: <https://static.tacdn.com>;rel=\"dns-prefetch\"\n",
      "header: Link: <https://static.tacdn.com>;rel=\"preconnect\";crossorigin\n",
      "header: timing-allow-origin: https://www.tripadvisor.com\n",
      "header: Vary: Accept-Encoding\n",
      "header: Content-Type: text/html;charset=UTF-8\n",
      "header: x-datadome: protected\n",
      "header: Accept-CH: Sec-CH-UA,Sec-CH-UA-Mobile,Sec-CH-UA-Platform,Sec-CH-UA-Arch,Sec-CH-UA-Full-Version-List,Sec-CH-UA-Model,Sec-CH-Device-Memory\n",
      "header: Content-Encoding: gzip\n",
      "header: x-request-id: e52a4abc-4360-451d-ba9f-3ea71c62f9c8\n",
      "header: Date: Fri, 26 May 2023 01:04:25 GMT\n",
      "header: Transfer-Encoding: chunked\n",
      "header: Connection: keep-alive\n",
      "header: Connection: Transfer-Encoding\n",
      "header: Set-Cookie: TADCID=PItn_xHMWYcrUqziABQCXdElnkGETRW-Svh01l3nWnXCbcXm-4Opzqhw6aOm5XiCkbC1fZe3D5TAImVxILK79ImXITCGWRBHJYg; Domain=www.tripadvisor.co.id; Expires=Mon, 23-May-2033 01:04:24 GMT; Path=/; Secure; HttpOnly\n",
      "header: Set-Cookie: TAUnique=%1%enc%3AbmvRnY7Q4tL%2B7H78yfwekiHKVVkteNxImAzyJnfvOXY2jHwltRJPGQ%3D%3D; Domain=.tripadvisor.co.id; Expires=Sun, 25-May-2025 01:04:24 GMT; Path=/; HttpOnly\n",
      "header: Set-Cookie: TASSK=enc%3AAB4Cac4jtAyeZeppVs7lQ2bqy7rWuqBCrcHfbcs%2FNQ%2BH66Eti61E3J39W%2BsRIehBjJcIF90TpR%2Fn%2FLBJ2%2FVq4Riwjfr7OoPCPFk0QBU%2FRKQKAW8G7DByCKsO1DNWfMW9WQ%3D%3D; Domain=www.tripadvisor.co.id; Expires=Wed, 22-Nov-2023 01:04:25 GMT; Path=/; HttpOnly\n",
      "header: Set-Cookie: TASession=V2ID.B7E75DB728D14B8CA4BEDFA2AE09EE09*SQ.1*HS.recommended*ES.popularity*DS.5*SAS.popularity*FPS.oldFirst*LF.in*FA.1*DF.0*TRA.true*LD.2041913; Domain=.tripadvisor.co.id; Path=/\n",
      "header: Set-Cookie: ServerPool=X; Domain=.tripadvisor.co.id; Path=/\n",
      "header: Set-Cookie: PMC=V2*MS.58*MD.20230525*LD.20230525; Domain=www.tripadvisor.co.id; Expires=Sun, 25-May-2025 01:04:25 GMT; Path=/; Secure; HttpOnly\n",
      "header: Set-Cookie: TART=%1%enc%3A%2Fux%2B%2FMn8HpKbmHoU0pzReawNcRrqT4nUQQbT8MWfnePETF12NDtrVefVsSI4EL0mRsNr41gHGgI%3D; Domain=www.tripadvisor.co.id; Expires=Wed, 31-May-2023 01:04:25 GMT; Path=/; HttpOnly\n",
      "header: Set-Cookie: CM=%1%PremiumMobSess%2C%2C-1%7Ct4b-pc%2C%2C-1%7CRestAds%2FRPers%2C%2C-1%7CRCPers%2C%2C-1%7CWShadeSeen%2C%2C-1%7CTheForkMCCPers%2C%2C-1%7CHomeASess%2C%2C-1%7CPremiumMCSess%2C%2C-1%7CCrisisSess%2C%2C-1%7CUVOwnersSess%2C%2C-1%7CRestPremRSess%2C%2C-1%7CRepTarMCSess%2C%2C-1%7CCCSess%2C%2C-1%7CCYLSess%2C%2C-1%7CPremRetPers%2C%2C-1%7CViatorMCPers%2C%2C-1%7Csesssticker%2C%2C-1%7C%24%2C%2C-1%7CPremiumORSess%2C%2C-1%7Ct4b-sc%2C%2C-1%7CRestAdsPers%2C%2C-1%7CMC_IB_UPSELL_IB_LOGOS2%2C%2C-1%7CTSMCPers%2C%2C-1%7Cb2bmcpers%2C%2C-1%7CPremMCBtmSess%2C%2C-1%7CMC_IB_UPSELL_IB_LOGOS%2C%2C-1%7CLaFourchette+Banners%2C%2C-1%7Csess_rev%2C%2C-1%7Csessamex%2C%2C-1%7CPremiumRRSess%2C%2C-1%7CTADORSess%2C%2C-1%7CAdsRetPers%2C%2C-1%7CListMCSess%2C%2C-1%7CTARSWBPers%2C%2C-1%7CSPMCSess%2C%2C-1%7CTheForkORSess%2C%2C-1%7CTheForkRRSess%2C%2C-1%7Cpers_rev%2C%2C-1%7CRBAPers%2C%2C-1%7CRestAds%2FRSess%2C%2C-1%7CHomeAPers%2C%2C-1%7CPremiumMobPers%2C%2C-1%7CRCSess%2C%2C-1%7CLaFourchette+MC+Banners%2C%2C-1%7CRestAdsCCSess%2C%2C-1%7CRestPremRPers%2C%2C-1%7CRevHubRMPers%2C%2C-1%7CUVOwnersPers%2C%2C-1%7Cpssamex%2C%2C-1%7CTheForkMCCSess%2C%2C-1%7CCrisisPers%2C%2C-1%7CCYLPers%2C%2C-1%7CCCPers%2C%2C-1%7CRepTarMCPers%2C%2C-1%7Cb2bmcsess%2C%2C-1%7CTSMCSess%2C%2C-1%7CSPMCPers%2C%2C-1%7CRevHubRMSess%2C%2C-1%7CPremRetSess%2C%2C-1%7CViatorMCSess%2C%2C-1%7CPremiumMCPers%2C%2C-1%7CAdsRetSess%2C%2C-1%7CPremiumRRPers%2C%2C-1%7CRestAdsCCPers%2C%2C-1%7CTADORPers%2C%2C-1%7CTheForkORPers%2C%2C-1%7CPremMCBtmPers%2C%2C-1%7CTheForkRRPers%2C%2C-1%7CTARSWBSess%2C%2C-1%7CPremiumORPers%2C%2C-1%7CRestAdsSess%2C%2C-1%7CRBASess%2C%2C-1%7CSPORPers%2C%2C-1%7Cperssticker%2C%2C-1%7CListMCPers%2C%2C-1%7C; Domain=.tripadvisor.co.id; Expires=Mon, 23-May-2033 01:04:25 GMT; Path=/\n",
      "header: Set-Cookie: BEPIN=%1%1885595dcc1%3Bweb788a.a.tripadvisor.com%3A30023%3B; Domain=.tripadvisor.co.id; Path=/\n",
      "header: Set-Cookie: PAC=AOv2O8QF7xFApw7sT9Pg43RpmAT-E_T7zJSJ_odoo2s9rJUmCCd0lkJCue_j6Iz35MT6mVUCdaqQHbwKkoaVkPtqrJnqWLs3URVSe5otp6mQF_KH0dWgr9b_bFMItc2ozMOvNEYidpYeHPzCQ_l-G_NBd7CKU1JjwdGpJgrgRfiyL2yfvGI0HVt48JCePSy-aGh73UZGO47Q4BegUo6kDB3bMIRyjbN68tZvhcHZ33gE; Domain=www.tripadvisor.co.id; Expires=Sun, 25-May-2025 01:04:25 GMT; Path=/; Secure; HttpOnly\n",
      "header: Set-Cookie: SRT=TART_SYNC; Domain=www.tripadvisor.co.id; Expires=Fri, 26-May-2023 01:34:25 GMT; Path=/\n",
      "header: Set-Cookie: TATravelInfo=V2*AY.2023*AM.6*AD.4*DY.2023*DM.6*DD.5*A.2*MG.-1*HP.2*FL.3*DSM.1685063064873*RS.1; Domain=.tripadvisor.co.id; Expires=Fri, 09-Jun-2023 01:04:25 GMT; Path=/\n",
      "header: Set-Cookie: TAUD=LG-1685063064691-2.1.F.*RDD-2-2023_05_26*HDD-3-2023_06_04.2023_06_05.1; Domain=.tripadvisor.co.id; Expires=Fri, 09-Jun-2023 01:04:25 GMT; Path=/\n",
      "header: Set-Cookie: TASID=B7E75DB728D14B8CA4BEDFA2AE09EE09; Domain=www.tripadvisor.co.id; Expires=Fri, 26-May-2023 01:34:25 GMT; Path=/; Secure\n",
      "header: Set-Cookie: TAReturnTo=%1%%2FHotel_Review-g311298-d2041913-Reviews-or35-Kubudiuma_Villas_Bali-Canggu_North_Kuta_Bali.html; Domain=.tripadvisor.co.id; Path=/\n",
      "header: Set-Cookie: datadome=72VI8brqa2qONFfKd-7sBk8LUA1b_FKj~pDev-0CcJ1bfjIN5kjO~jLTcXsIMpa5hckOkO2NquQDx3CEJwyp4dmsGm_Hd8NKGvBydy00EYYmpRKrT~VRBo1uH0mUW64B; Max-Age=31104000; Domain=.tripadvisor.co.id; Path=/; Secure; SameSite=Lax\n",
      "Done Scrapping Kubudiuma Villas Bali page 7\n",
      "\n",
      "\n"
     ]
    },
    {
     "name": "stderr",
     "output_type": "stream",
     "text": [
      "DEBUG:urllib3.connectionpool:Starting new HTTPS connection (1): www.tripadvisor.co.id:443\n"
     ]
    },
    {
     "name": "stdout",
     "output_type": "stream",
     "text": [
      "send: b'GET /Hotel_Review-g311298-d2041913-Reviews-or40-Kubudiuma_Villas_Bali-Canggu_North_Kuta_Bali.html HTTP/1.1\\r\\nHost: www.tripadvisor.co.id\\r\\nUser-Agent: Mozilla/5.0 (X11; CrOS x86_64 12871.102.0) AppleWebKit/537.36 (KHTML, like Gecko) Chrome/81.0.4044.141 Safari/537.36\\r\\nAccept-Encoding: gzip, deflate\\r\\nAccept: */*\\r\\nConnection: keep-alive\\r\\n\\r\\n'\n"
     ]
    },
    {
     "name": "stderr",
     "output_type": "stream",
     "text": [
      "DEBUG:urllib3.connectionpool:https://www.tripadvisor.co.id:443 \"GET /Hotel_Review-g311298-d2041913-Reviews-or40-Kubudiuma_Villas_Bali-Canggu_North_Kuta_Bali.html HTTP/1.1\" 200 None\n"
     ]
    },
    {
     "name": "stdout",
     "output_type": "stream",
     "text": [
      "reply: 'HTTP/1.1 200 OK\\r\\n'\n",
      "header: Server: envoy\n",
      "header: Link: <https://media-cdn.tripadvisor.com/media/>;rel=\"preconnect\";crossorigin\n",
      "header: Link: <https://media-cdn.tripadvisor.com/media/>;rel=\"dns-prefetch\"\n",
      "header: p3p: CP=\"NOI CURa ADMa DEVa TAIa OUR BUS IND UNI COM NAV INT DSP COR CAO PSA IDC ADM DEVi TAIi PSD IVAi IVDi CONi HIS CNT\"\n",
      "header: Pragma: no-cache\n",
      "header: Cache-Control: no-cache, no-store, must-revalidate\n",
      "header: Expires: 0\n",
      "header: Content-Language: id\n",
      "header: Link: <https://static.tacdn.com>;rel=\"dns-prefetch\"\n",
      "header: Link: <https://static.tacdn.com>;rel=\"preconnect\";crossorigin\n",
      "header: timing-allow-origin: https://www.tripadvisor.com\n",
      "header: Vary: Accept-Encoding\n",
      "header: Content-Type: text/html;charset=UTF-8\n",
      "header: Accept-CH: Sec-CH-UA,Sec-CH-UA-Mobile,Sec-CH-UA-Platform,Sec-CH-UA-Arch,Sec-CH-UA-Full-Version-List,Sec-CH-UA-Model,Sec-CH-Device-Memory\n",
      "header: x-datadome: protected\n",
      "header: Content-Encoding: gzip\n",
      "header: x-request-id: 1d13b9a5-33ef-4a7f-9d63-10e9ae178fde\n",
      "header: Date: Fri, 26 May 2023 01:04:31 GMT\n",
      "header: Transfer-Encoding: chunked\n",
      "header: Connection: keep-alive\n",
      "header: Connection: Transfer-Encoding\n",
      "header: Set-Cookie: TADCID=k59VRvUZ9fjcplxYABQCXdElnkGETRW-Svh01l3nWnXCbTWGkeLh8dmtziMcPyn4jDp3frYhx0me93_WbLGdvtw4ZAqJhD3jQ-A; Domain=www.tripadvisor.co.id; Expires=Mon, 23-May-2033 01:04:30 GMT; Path=/; Secure; HttpOnly\n",
      "header: Set-Cookie: TAUnique=%1%enc%3ANQ%2Fal2Wic5P%2B7H78yfwekiHKVVkteNxIO1pxkTbpblw2jHwltRJPGQ%3D%3D; Domain=.tripadvisor.co.id; Expires=Sun, 25-May-2025 01:04:30 GMT; Path=/; HttpOnly\n",
      "header: Set-Cookie: TASSK=enc%3AALEroMNplM4n6DcZLzIsj%2FJHMHP9La%2BtqloNXXEz5%2FryIxamgYTimY2wna0N4AcLrwOtyhXE%2BcOdvilKOJgfNKtCo7rIN3R%2BZOGuyCm5YQQ%2BTSZSUhrAqDbPI9NYmlHL5Q%3D%3D; Domain=www.tripadvisor.co.id; Expires=Wed, 22-Nov-2023 01:04:31 GMT; Path=/; HttpOnly\n",
      "header: Set-Cookie: TASession=V2ID.38CE577EBDB64F6BBA192E89F121D7B0*SQ.1*HS.recommended*ES.popularity*DS.5*SAS.popularity*FPS.oldFirst*LF.in*FA.1*DF.0*TRA.true*LD.2041913; Domain=.tripadvisor.co.id; Path=/\n",
      "header: Set-Cookie: ServerPool=B; Domain=.tripadvisor.co.id; Path=/\n",
      "header: Set-Cookie: PMC=V2*MS.21*MD.20230525*LD.20230525; Domain=www.tripadvisor.co.id; Expires=Sun, 25-May-2025 01:04:31 GMT; Path=/; Secure; HttpOnly\n",
      "header: Set-Cookie: TART=%1%enc%3A%2Fux%2B%2FMn8HpLDOYNm4GMPPvq5b7HCG%2FjdfGuQlOrTIGvBJv3ohkIZs%2FG9zuT43QSTRsNr41gHGgI%3D; Domain=www.tripadvisor.co.id; Expires=Wed, 31-May-2023 01:04:31 GMT; Path=/; HttpOnly\n",
      "header: Set-Cookie: CM=%1%PremiumMobSess%2C%2C-1%7Ct4b-pc%2C%2C-1%7CRestAds%2FRPers%2C%2C-1%7CRCPers%2C%2C-1%7CWShadeSeen%2C%2C-1%7CTheForkMCCPers%2C%2C-1%7CHomeASess%2C%2C-1%7CPremiumMCSess%2C%2C-1%7CCrisisSess%2C%2C-1%7CUVOwnersSess%2C%2C-1%7CRestPremRSess%2C%2C-1%7CRepTarMCSess%2C%2C-1%7CCCSess%2C%2C-1%7CCYLSess%2C%2C-1%7CPremRetPers%2C%2C-1%7CViatorMCPers%2C%2C-1%7Csesssticker%2C%2C-1%7C%24%2C%2C-1%7CPremiumORSess%2C%2C-1%7Ct4b-sc%2C%2C-1%7CRestAdsPers%2C%2C-1%7CMC_IB_UPSELL_IB_LOGOS2%2C%2C-1%7CTSMCPers%2C%2C-1%7Cb2bmcpers%2C%2C-1%7CPremMCBtmSess%2C%2C-1%7CMC_IB_UPSELL_IB_LOGOS%2C%2C-1%7CLaFourchette+Banners%2C%2C-1%7Csess_rev%2C%2C-1%7Csessamex%2C%2C-1%7CPremiumRRSess%2C%2C-1%7CTADORSess%2C%2C-1%7CAdsRetPers%2C%2C-1%7CListMCSess%2C%2C-1%7CTARSWBPers%2C%2C-1%7CSPMCSess%2C%2C-1%7CTheForkORSess%2C%2C-1%7CTheForkRRSess%2C%2C-1%7Cpers_rev%2C%2C-1%7CRBAPers%2C%2C-1%7CRestAds%2FRSess%2C%2C-1%7CHomeAPers%2C%2C-1%7CPremiumMobPers%2C%2C-1%7CRCSess%2C%2C-1%7CLaFourchette+MC+Banners%2C%2C-1%7CRestAdsCCSess%2C%2C-1%7CRestPremRPers%2C%2C-1%7CRevHubRMPers%2C%2C-1%7CUVOwnersPers%2C%2C-1%7Cpssamex%2C%2C-1%7CTheForkMCCSess%2C%2C-1%7CCrisisPers%2C%2C-1%7CCYLPers%2C%2C-1%7CCCPers%2C%2C-1%7CRepTarMCPers%2C%2C-1%7Cb2bmcsess%2C%2C-1%7CTSMCSess%2C%2C-1%7CSPMCPers%2C%2C-1%7CRevHubRMSess%2C%2C-1%7CPremRetSess%2C%2C-1%7CViatorMCSess%2C%2C-1%7CPremiumMCPers%2C%2C-1%7CAdsRetSess%2C%2C-1%7CPremiumRRPers%2C%2C-1%7CRestAdsCCPers%2C%2C-1%7CTADORPers%2C%2C-1%7CTheForkORPers%2C%2C-1%7CPremMCBtmPers%2C%2C-1%7CTheForkRRPers%2C%2C-1%7CTARSWBSess%2C%2C-1%7CPremiumORPers%2C%2C-1%7CRestAdsSess%2C%2C-1%7CRBASess%2C%2C-1%7CSPORPers%2C%2C-1%7Cperssticker%2C%2C-1%7CListMCPers%2C%2C-1%7C; Domain=.tripadvisor.co.id; Expires=Mon, 23-May-2033 01:04:31 GMT; Path=/\n",
      "header: Set-Cookie: BEPIN=%1%1885595f3fd%3Bweb218a.a.tripadvisor.com%3A30023%3B; Domain=.tripadvisor.co.id; Path=/\n",
      "header: Set-Cookie: PAC=AN-o2eNS_nbivmuoOMszAD54HI9dmAiCqnytPgWXN69Pk5wJ1yuVtCID2lUH_cE5h-VLhxv9f8qFpZuT0_43WhDW2_NUazX9ePBEOOz3FVWawbR1v9DiBFp_BDZCtyL75WGgs2J7gP5jEA5SpWUtt_eO9uT2RDNlMRWKj_oosTWabpPllokVHnBePDWJelp5ILAZkmUuX4KWFlCFHNimISf0MstjkQZntsiBZ6JwPSG8; Domain=www.tripadvisor.co.id; Expires=Sun, 25-May-2025 01:04:31 GMT; Path=/; Secure; HttpOnly\n",
      "header: Set-Cookie: SRT=TART_SYNC; Domain=www.tripadvisor.co.id; Expires=Fri, 26-May-2023 01:34:31 GMT; Path=/\n",
      "header: Set-Cookie: TATravelInfo=V2*AY.2023*AM.6*AD.4*DY.2023*DM.6*DD.5*A.2*MG.-1*HP.2*FL.3*DSM.1685063070826*RS.1; Domain=.tripadvisor.co.id; Expires=Fri, 09-Jun-2023 01:04:31 GMT; Path=/\n",
      "header: Set-Cookie: TAUD=LG-1685063070686-2.1.F.*RDD-2-2023_05_26*HDD-3-2023_06_04.2023_06_05.1; Domain=.tripadvisor.co.id; Expires=Fri, 09-Jun-2023 01:04:31 GMT; Path=/\n",
      "header: Set-Cookie: TASID=38CE577EBDB64F6BBA192E89F121D7B0; Domain=www.tripadvisor.co.id; Expires=Fri, 26-May-2023 01:34:31 GMT; Path=/; Secure\n",
      "header: Set-Cookie: TAReturnTo=%1%%2FHotel_Review-g311298-d2041913-Reviews-or40-Kubudiuma_Villas_Bali-Canggu_North_Kuta_Bali.html; Domain=.tripadvisor.co.id; Path=/\n",
      "header: Set-Cookie: datadome=7NUQQEO9_7JFQkaqpcIyBVkZR-hFfCHI-FCeS-jXpsGgfV8YoxjIIsrSEhhrPgr5h2c4uKotRuBvRSNCj_BlSs7tc_uktNZJDZ6TSeOjh~kI9viUbjZZeNz9Vk87qaZW; Max-Age=31104000; Domain=.tripadvisor.co.id; Path=/; Secure; SameSite=Lax\n",
      "Done Scrapping Kubudiuma Villas Bali page 8\n",
      "\n",
      "\n"
     ]
    },
    {
     "name": "stderr",
     "output_type": "stream",
     "text": [
      "DEBUG:urllib3.connectionpool:Starting new HTTPS connection (1): www.tripadvisor.co.id:443\n"
     ]
    },
    {
     "name": "stdout",
     "output_type": "stream",
     "text": [
      "send: b'GET /Hotel_Review-g311298-d2041913-Reviews-or45-Kubudiuma_Villas_Bali-Canggu_North_Kuta_Bali.html HTTP/1.1\\r\\nHost: www.tripadvisor.co.id\\r\\nUser-Agent: Mozilla/5.0 (X11; CrOS x86_64 12871.102.0) AppleWebKit/537.36 (KHTML, like Gecko) Chrome/81.0.4044.141 Safari/537.36\\r\\nAccept-Encoding: gzip, deflate\\r\\nAccept: */*\\r\\nConnection: keep-alive\\r\\n\\r\\n'\n"
     ]
    },
    {
     "name": "stderr",
     "output_type": "stream",
     "text": [
      "DEBUG:urllib3.connectionpool:https://www.tripadvisor.co.id:443 \"GET /Hotel_Review-g311298-d2041913-Reviews-or45-Kubudiuma_Villas_Bali-Canggu_North_Kuta_Bali.html HTTP/1.1\" 200 None\n"
     ]
    },
    {
     "name": "stdout",
     "output_type": "stream",
     "text": [
      "reply: 'HTTP/1.1 200 OK\\r\\n'\n",
      "header: Server: envoy\n",
      "header: Link: <https://media-cdn.tripadvisor.com/media/>;rel=\"preconnect\";crossorigin\n",
      "header: Link: <https://media-cdn.tripadvisor.com/media/>;rel=\"dns-prefetch\"\n",
      "header: p3p: CP=\"NOI CURa ADMa DEVa TAIa OUR BUS IND UNI COM NAV INT DSP COR CAO PSA IDC ADM DEVi TAIi PSD IVAi IVDi CONi HIS CNT\"\n",
      "header: Pragma: no-cache\n",
      "header: Cache-Control: no-cache, no-store, must-revalidate\n",
      "header: Expires: 0\n",
      "header: Content-Language: id\n",
      "header: Link: <https://static.tacdn.com>;rel=\"dns-prefetch\"\n",
      "header: Link: <https://static.tacdn.com>;rel=\"preconnect\";crossorigin\n",
      "header: timing-allow-origin: https://www.tripadvisor.com\n",
      "header: Vary: Accept-Encoding\n",
      "header: Content-Type: text/html;charset=UTF-8\n",
      "header: x-datadome: protected\n",
      "header: Accept-CH: Sec-CH-UA,Sec-CH-UA-Mobile,Sec-CH-UA-Platform,Sec-CH-UA-Arch,Sec-CH-UA-Full-Version-List,Sec-CH-UA-Model,Sec-CH-Device-Memory\n",
      "header: Content-Encoding: gzip\n",
      "header: x-request-id: 4f97d423-bafb-4ca3-b936-59bdd429146b\n",
      "header: Date: Fri, 26 May 2023 01:04:35 GMT\n",
      "header: Transfer-Encoding: chunked\n",
      "header: Connection: keep-alive\n",
      "header: Connection: Transfer-Encoding\n",
      "header: Set-Cookie: TADCID=W2u8VfyovATlVY3RABQCXdElnkGETRW-Svh01l3nWnXCbbfTVe1oHX8pCTywUhMVDrD7OdoX044ulDXj_EAiKzXOHbmxCmdTjbk; Domain=www.tripadvisor.co.id; Expires=Mon, 23-May-2033 01:04:35 GMT; Path=/; Secure; HttpOnly\n",
      "header: Set-Cookie: TAUnique=%1%enc%3AiyVYLMthAw7%2B7H78yfwekiHKVVkteNxIETUch2jTfuE2jHwltRJPGQ%3D%3D; Domain=.tripadvisor.co.id; Expires=Sun, 25-May-2025 01:04:35 GMT; Path=/; HttpOnly\n",
      "header: Set-Cookie: TASSK=enc%3AAKgYsixVEXwQkP29DJqhmbreCNr3Lf4GrEYkm0ArmN7E7Nd3JARl8gcFhRJxIBf3DaI9i40Gkf16%2B0DhxqbIp4RQ5%2B9u0dafdXjc6t%2FxgKlEqjIckdTx499SJmt2p3eOWw%3D%3D; Domain=www.tripadvisor.co.id; Expires=Wed, 22-Nov-2023 01:04:35 GMT; Path=/; HttpOnly\n",
      "header: Set-Cookie: TASession=V2ID.B362E30310C043218CE7E3B314756705*SQ.1*HS.recommended*ES.popularity*DS.5*SAS.popularity*FPS.oldFirst*LF.in*FA.1*DF.0*TRA.true*LD.2041913; Domain=.tripadvisor.co.id; Path=/\n",
      "header: Set-Cookie: ServerPool=A; Domain=.tripadvisor.co.id; Path=/\n",
      "header: Set-Cookie: PMC=V2*MS.58*MD.20230525*LD.20230525; Domain=www.tripadvisor.co.id; Expires=Sun, 25-May-2025 01:04:35 GMT; Path=/; Secure; HttpOnly\n",
      "header: Set-Cookie: TART=%1%enc%3A%2Fux%2B%2FMn8HpKkh9AlEyU4TC1%2FSxIQ2Oz60gpxjrSjo0sDMzV9OFwq7kF8%2B8Ykb2cHJ7r1iEgl44g%3D; Domain=www.tripadvisor.co.id; Expires=Wed, 31-May-2023 01:04:35 GMT; Path=/; HttpOnly\n",
      "header: Set-Cookie: CM=%1%PremiumMobSess%2C%2C-1%7Ct4b-pc%2C%2C-1%7CRestAds%2FRPers%2C%2C-1%7CRCPers%2C%2C-1%7CWShadeSeen%2C%2C-1%7CTheForkMCCPers%2C%2C-1%7CHomeASess%2C%2C-1%7CPremiumMCSess%2C%2C-1%7CCrisisSess%2C%2C-1%7CUVOwnersSess%2C%2C-1%7CRestPremRSess%2C%2C-1%7CRepTarMCSess%2C%2C-1%7CCCSess%2C%2C-1%7CCYLSess%2C%2C-1%7CPremRetPers%2C%2C-1%7CViatorMCPers%2C%2C-1%7Csesssticker%2C%2C-1%7C%24%2C%2C-1%7CPremiumORSess%2C%2C-1%7Ct4b-sc%2C%2C-1%7CRestAdsPers%2C%2C-1%7CMC_IB_UPSELL_IB_LOGOS2%2C%2C-1%7CTSMCPers%2C%2C-1%7Cb2bmcpers%2C%2C-1%7CPremMCBtmSess%2C%2C-1%7CMC_IB_UPSELL_IB_LOGOS%2C%2C-1%7CLaFourchette+Banners%2C%2C-1%7Csess_rev%2C%2C-1%7Csessamex%2C%2C-1%7CPremiumRRSess%2C%2C-1%7CTADORSess%2C%2C-1%7CAdsRetPers%2C%2C-1%7CListMCSess%2C%2C-1%7CTARSWBPers%2C%2C-1%7CSPMCSess%2C%2C-1%7CTheForkORSess%2C%2C-1%7CTheForkRRSess%2C%2C-1%7Cpers_rev%2C%2C-1%7CRBAPers%2C%2C-1%7CRestAds%2FRSess%2C%2C-1%7CHomeAPers%2C%2C-1%7CPremiumMobPers%2C%2C-1%7CRCSess%2C%2C-1%7CLaFourchette+MC+Banners%2C%2C-1%7CRestAdsCCSess%2C%2C-1%7CRestPremRPers%2C%2C-1%7CRevHubRMPers%2C%2C-1%7CUVOwnersPers%2C%2C-1%7Cpssamex%2C%2C-1%7CTheForkMCCSess%2C%2C-1%7CCrisisPers%2C%2C-1%7CCYLPers%2C%2C-1%7CCCPers%2C%2C-1%7CRepTarMCPers%2C%2C-1%7Cb2bmcsess%2C%2C-1%7CTSMCSess%2C%2C-1%7CSPMCPers%2C%2C-1%7CRevHubRMSess%2C%2C-1%7CPremRetSess%2C%2C-1%7CViatorMCSess%2C%2C-1%7CPremiumMCPers%2C%2C-1%7CAdsRetSess%2C%2C-1%7CPremiumRRPers%2C%2C-1%7CRestAdsCCPers%2C%2C-1%7CTADORPers%2C%2C-1%7CTheForkORPers%2C%2C-1%7CPremMCBtmPers%2C%2C-1%7CTheForkRRPers%2C%2C-1%7CTARSWBSess%2C%2C-1%7CPremiumORPers%2C%2C-1%7CRestAdsSess%2C%2C-1%7CRBASess%2C%2C-1%7CSPORPers%2C%2C-1%7Cperssticker%2C%2C-1%7CListMCPers%2C%2C-1%7C; Domain=.tripadvisor.co.id; Expires=Mon, 23-May-2033 01:04:35 GMT; Path=/\n",
      "header: Set-Cookie: BEPIN=%1%18855960630%3Bweb271a.a.tripadvisor.com%3A30023%3B; Domain=.tripadvisor.co.id; Path=/\n",
      "header: Set-Cookie: PAC=AJ-E2fh7xt8LKWrsvg1qhPx1oYLixWSi6gw5eAXOyr8fLi5hYmsbQTl16QHDeJbcnioMgxAAc49H8Da3VkQR5wywRaaLzeOEpS-808UIqB-1SoCncrXO3ZrD_BwKkX2q4dg4G2wUkeICTwJEkdb3NwmAIIIwKXmxMYVKKPiNUAjmYT3wtixFj_I7ok2oKKFCZGv3UienzacBWJo0qvec5vr4frboVHnW4insoGJPJm2i; Domain=www.tripadvisor.co.id; Expires=Sun, 25-May-2025 01:04:35 GMT; Path=/; Secure; HttpOnly\n",
      "header: Set-Cookie: SRT=TART_SYNC; Domain=www.tripadvisor.co.id; Expires=Fri, 26-May-2023 01:34:35 GMT; Path=/\n",
      "header: Set-Cookie: TATravelInfo=V2*AY.2023*AM.6*AD.4*DY.2023*DM.6*DD.5*A.2*MG.-1*HP.2*FL.3*DSM.1685063075472*RS.1; Domain=.tripadvisor.co.id; Expires=Fri, 09-Jun-2023 01:04:35 GMT; Path=/\n",
      "header: Set-Cookie: TAUD=LG-1685063075343-2.1.F.*RDD-2-2023_05_26*HDD-3-2023_06_04.2023_06_05.1; Domain=.tripadvisor.co.id; Expires=Fri, 09-Jun-2023 01:04:35 GMT; Path=/\n",
      "header: Set-Cookie: TASID=B362E30310C043218CE7E3B314756705; Domain=www.tripadvisor.co.id; Expires=Fri, 26-May-2023 01:34:35 GMT; Path=/; Secure\n",
      "header: Set-Cookie: TAReturnTo=%1%%2FHotel_Review-g311298-d2041913-Reviews-or45-Kubudiuma_Villas_Bali-Canggu_North_Kuta_Bali.html; Domain=.tripadvisor.co.id; Path=/\n",
      "header: Set-Cookie: datadome=2z4KvyfuSSvz3mjSImlTmkgcccdAlYGO~rZb7kIhLtrd8Yx_xRNAgtLeKYDM6y_B13Gt0Tv6_QBXz~o7JP9RvoglQMPk6UzHK08NPxUTgK37dQZhtuq7f~GEP9-Et62y; Max-Age=31104000; Domain=.tripadvisor.co.id; Path=/; Secure; SameSite=Lax\n",
      "Done Scrapping Kubudiuma Villas Bali page 9\n",
      "\n",
      "\n"
     ]
    },
    {
     "name": "stderr",
     "output_type": "stream",
     "text": [
      "DEBUG:urllib3.connectionpool:Starting new HTTPS connection (1): www.tripadvisor.co.id:443\n"
     ]
    },
    {
     "name": "stdout",
     "output_type": "stream",
     "text": [
      "send: b'GET /Hotel_Review-g311298-d2041913-Reviews-or50-Kubudiuma_Villas_Bali-Canggu_North_Kuta_Bali.html HTTP/1.1\\r\\nHost: www.tripadvisor.co.id\\r\\nUser-Agent: Mozilla/5.0 (X11; CrOS x86_64 12871.102.0) AppleWebKit/537.36 (KHTML, like Gecko) Chrome/81.0.4044.141 Safari/537.36\\r\\nAccept-Encoding: gzip, deflate\\r\\nAccept: */*\\r\\nConnection: keep-alive\\r\\n\\r\\n'\n"
     ]
    },
    {
     "name": "stderr",
     "output_type": "stream",
     "text": [
      "DEBUG:urllib3.connectionpool:https://www.tripadvisor.co.id:443 \"GET /Hotel_Review-g311298-d2041913-Reviews-or50-Kubudiuma_Villas_Bali-Canggu_North_Kuta_Bali.html HTTP/1.1\" 200 None\n"
     ]
    },
    {
     "name": "stdout",
     "output_type": "stream",
     "text": [
      "reply: 'HTTP/1.1 200 OK\\r\\n'\n",
      "header: Server: envoy\n",
      "header: Link: <https://media-cdn.tripadvisor.com/media/>;rel=\"preconnect\";crossorigin\n",
      "header: Link: <https://media-cdn.tripadvisor.com/media/>;rel=\"dns-prefetch\"\n",
      "header: p3p: CP=\"NOI CURa ADMa DEVa TAIa OUR BUS IND UNI COM NAV INT DSP COR CAO PSA IDC ADM DEVi TAIi PSD IVAi IVDi CONi HIS CNT\"\n",
      "header: Pragma: no-cache\n",
      "header: Cache-Control: no-cache, no-store, must-revalidate\n",
      "header: Expires: 0\n",
      "header: Content-Language: id\n",
      "header: Link: <https://static.tacdn.com>;rel=\"dns-prefetch\"\n",
      "header: Link: <https://static.tacdn.com>;rel=\"preconnect\";crossorigin\n",
      "header: timing-allow-origin: https://www.tripadvisor.com\n",
      "header: Vary: Accept-Encoding\n",
      "header: Content-Type: text/html;charset=UTF-8\n",
      "header: Accept-CH: Sec-CH-UA,Sec-CH-UA-Mobile,Sec-CH-UA-Platform,Sec-CH-UA-Arch,Sec-CH-UA-Full-Version-List,Sec-CH-UA-Model,Sec-CH-Device-Memory\n",
      "header: x-datadome: protected\n",
      "header: Content-Encoding: gzip\n",
      "header: x-request-id: ad5307f7-864f-4bf0-98bc-8e75a7cae6c7\n",
      "header: Date: Fri, 26 May 2023 01:04:40 GMT\n",
      "header: Transfer-Encoding: chunked\n",
      "header: Connection: keep-alive\n",
      "header: Connection: Transfer-Encoding\n",
      "header: Set-Cookie: TADCID=-7D81k8Bf_oqGGdhABQCXdElnkGETRW-Svh01l3nWnXCbYSRIelnVmbSVZDNPobFqFlVtQBv1ye2fQobHifFspN8FFTakgAyVEM; Domain=www.tripadvisor.co.id; Expires=Mon, 23-May-2033 01:04:39 GMT; Path=/; Secure; HttpOnly\n",
      "header: Set-Cookie: TAUnique=%1%enc%3A%2FU%2B%2Bpz28r5X%2B7H78yfwekiHKVVkteNxIb35UHQS8al02jHwltRJPGQ%3D%3D; Domain=.tripadvisor.co.id; Expires=Sun, 25-May-2025 01:04:39 GMT; Path=/; HttpOnly\n",
      "header: Set-Cookie: TASSK=enc%3AAEu%2FKCGWmlKrFX7C5%2BsfIG7Pz7Q6XMcB7YHlpAOq8axYAgZLHs%2F0pyUXjaFORPU8Zf9V5uv3HvhMxY0ugbacjvOcntm9JzejOvK01Jr3uZae1KCXqVwAQsq%2BORY7P2hMgg%3D%3D; Domain=www.tripadvisor.co.id; Expires=Wed, 22-Nov-2023 01:04:40 GMT; Path=/; HttpOnly\n",
      "header: Set-Cookie: TASession=V2ID.A52FCEBED7A14C519D42E2A4A5395B06*SQ.1*HS.recommended*ES.popularity*DS.5*SAS.popularity*FPS.oldFirst*LF.in*FA.1*DF.0*TRA.true*LD.2041913; Domain=.tripadvisor.co.id; Path=/\n",
      "header: Set-Cookie: ServerPool=B; Domain=.tripadvisor.co.id; Path=/\n",
      "header: Set-Cookie: PMC=V2*MS.5*MD.20230525*LD.20230525; Domain=www.tripadvisor.co.id; Expires=Sun, 25-May-2025 01:04:40 GMT; Path=/; Secure; HttpOnly\n",
      "header: Set-Cookie: TART=%1%enc%3A%2Fux%2B%2FMn8HpK1zGUHV7Mo3Jo7A7dpLXc1ZPuLcw%2FvAUxwKXjTBzJop4yMMc%2FMDe5qW1JxtpsONWQ%3D; Domain=www.tripadvisor.co.id; Expires=Wed, 31-May-2023 01:04:40 GMT; Path=/; HttpOnly\n",
      "header: Set-Cookie: CM=%1%PremiumMobSess%2C%2C-1%7Ct4b-pc%2C%2C-1%7CRestAds%2FRPers%2C%2C-1%7CRCPers%2C%2C-1%7CWShadeSeen%2C%2C-1%7CTheForkMCCPers%2C%2C-1%7CHomeASess%2C%2C-1%7CPremiumMCSess%2C%2C-1%7CCrisisSess%2C%2C-1%7CUVOwnersSess%2C%2C-1%7CRestPremRSess%2C%2C-1%7CRepTarMCSess%2C%2C-1%7CCCSess%2C%2C-1%7CCYLSess%2C%2C-1%7CPremRetPers%2C%2C-1%7CViatorMCPers%2C%2C-1%7Csesssticker%2C%2C-1%7C%24%2C%2C-1%7CPremiumORSess%2C%2C-1%7Ct4b-sc%2C%2C-1%7CRestAdsPers%2C%2C-1%7CMC_IB_UPSELL_IB_LOGOS2%2C%2C-1%7CTSMCPers%2C%2C-1%7Cb2bmcpers%2C%2C-1%7CPremMCBtmSess%2C%2C-1%7CMC_IB_UPSELL_IB_LOGOS%2C%2C-1%7CLaFourchette+Banners%2C%2C-1%7Csess_rev%2C%2C-1%7Csessamex%2C%2C-1%7CPremiumRRSess%2C%2C-1%7CTADORSess%2C%2C-1%7CAdsRetPers%2C%2C-1%7CListMCSess%2C%2C-1%7CTARSWBPers%2C%2C-1%7CSPMCSess%2C%2C-1%7CTheForkORSess%2C%2C-1%7CTheForkRRSess%2C%2C-1%7Cpers_rev%2C%2C-1%7CRBAPers%2C%2C-1%7CRestAds%2FRSess%2C%2C-1%7CHomeAPers%2C%2C-1%7CPremiumMobPers%2C%2C-1%7CRCSess%2C%2C-1%7CLaFourchette+MC+Banners%2C%2C-1%7CRestAdsCCSess%2C%2C-1%7CRestPremRPers%2C%2C-1%7CRevHubRMPers%2C%2C-1%7CUVOwnersPers%2C%2C-1%7Cpssamex%2C%2C-1%7CTheForkMCCSess%2C%2C-1%7CCrisisPers%2C%2C-1%7CCYLPers%2C%2C-1%7CCCPers%2C%2C-1%7CRepTarMCPers%2C%2C-1%7Cb2bmcsess%2C%2C-1%7CTSMCSess%2C%2C-1%7CSPMCPers%2C%2C-1%7CRevHubRMSess%2C%2C-1%7CPremRetSess%2C%2C-1%7CViatorMCSess%2C%2C-1%7CPremiumMCPers%2C%2C-1%7CAdsRetSess%2C%2C-1%7CPremiumRRPers%2C%2C-1%7CRestAdsCCPers%2C%2C-1%7CTADORPers%2C%2C-1%7CTheForkORPers%2C%2C-1%7CPremMCBtmPers%2C%2C-1%7CTheForkRRPers%2C%2C-1%7CTARSWBSess%2C%2C-1%7CPremiumORPers%2C%2C-1%7CRestAdsSess%2C%2C-1%7CRBASess%2C%2C-1%7CSPORPers%2C%2C-1%7Cperssticker%2C%2C-1%7CListMCPers%2C%2C-1%7C; Domain=.tripadvisor.co.id; Expires=Mon, 23-May-2033 01:04:40 GMT; Path=/\n",
      "header: Set-Cookie: BEPIN=%1%18855961764%3Bweb270a.a.tripadvisor.com%3A30023%3B; Domain=.tripadvisor.co.id; Path=/\n",
      "header: Set-Cookie: PAC=ALBKDvJL3cVfFi8rZK-kqAwq3cFaLtKLe9gVL428lc6O3epB-6gHFFgs2GY1nqrcc0lH-QC0duXN-nJUmzcGvfgtJtjrPGy9xA4B9LXvTHTrpy-g5ZAicqKej6vyB0K3elUfIRySS4Kwy_6_MzKaEIAFdeYMyBhAwXYLWuXzDrOpKgiStBfLTJeHcM-C9Vf0c6TmKa8awsZ_QhWg2IpGZKz3VjbVO0UUEeRPbWxIGhZi; Domain=www.tripadvisor.co.id; Expires=Sun, 25-May-2025 01:04:40 GMT; Path=/; Secure; HttpOnly\n",
      "header: Set-Cookie: SRT=TART_SYNC; Domain=www.tripadvisor.co.id; Expires=Fri, 26-May-2023 01:34:40 GMT; Path=/\n",
      "header: Set-Cookie: TATravelInfo=V2*AY.2023*AM.6*AD.4*DY.2023*DM.6*DD.5*A.2*MG.-1*HP.2*FL.3*DSM.1685063079872*RS.1; Domain=.tripadvisor.co.id; Expires=Fri, 09-Jun-2023 01:04:40 GMT; Path=/\n",
      "header: Set-Cookie: TAUD=LG-1685063079747-2.1.F.*RDD-2-2023_05_26*HDD-3-2023_06_04.2023_06_05.1; Domain=.tripadvisor.co.id; Expires=Fri, 09-Jun-2023 01:04:40 GMT; Path=/\n",
      "header: Set-Cookie: TASID=A52FCEBED7A14C519D42E2A4A5395B06; Domain=www.tripadvisor.co.id; Expires=Fri, 26-May-2023 01:34:40 GMT; Path=/; Secure\n",
      "header: Set-Cookie: TAReturnTo=%1%%2FHotel_Review-g311298-d2041913-Reviews-or50-Kubudiuma_Villas_Bali-Canggu_North_Kuta_Bali.html; Domain=.tripadvisor.co.id; Path=/\n",
      "header: Set-Cookie: datadome=1JTR5zBG56~YQH_qIB7Mf03NsTewnHw4gaYQL5sKskbAVeGdUgP310kj6eRpcW6UdiwmLjjKm2iSBZZYxQM5Q1aBpUxAxH9~jLWsMvwsI723KskGrT1tgzxtGODyHljO; Max-Age=31104000; Domain=.tripadvisor.co.id; Path=/; Secure; SameSite=Lax\n",
      "Done Scrapping Kubudiuma Villas Bali page 10\n",
      "\n",
      "\n"
     ]
    },
    {
     "name": "stderr",
     "output_type": "stream",
     "text": [
      "DEBUG:urllib3.connectionpool:Starting new HTTPS connection (1): www.tripadvisor.co.id:443\n"
     ]
    },
    {
     "name": "stdout",
     "output_type": "stream",
     "text": [
      "send: b'GET /Hotel_Review-g311298-d2041913-Reviews-or55-Kubudiuma_Villas_Bali-Canggu_North_Kuta_Bali.html HTTP/1.1\\r\\nHost: www.tripadvisor.co.id\\r\\nUser-Agent: Mozilla/5.0 (X11; CrOS x86_64 12871.102.0) AppleWebKit/537.36 (KHTML, like Gecko) Chrome/81.0.4044.141 Safari/537.36\\r\\nAccept-Encoding: gzip, deflate\\r\\nAccept: */*\\r\\nConnection: keep-alive\\r\\n\\r\\n'\n"
     ]
    },
    {
     "name": "stderr",
     "output_type": "stream",
     "text": [
      "DEBUG:urllib3.connectionpool:https://www.tripadvisor.co.id:443 \"GET /Hotel_Review-g311298-d2041913-Reviews-or55-Kubudiuma_Villas_Bali-Canggu_North_Kuta_Bali.html HTTP/1.1\" 200 None\n"
     ]
    },
    {
     "name": "stdout",
     "output_type": "stream",
     "text": [
      "reply: 'HTTP/1.1 200 OK\\r\\n'\n",
      "header: Server: envoy\n",
      "header: Link: <https://media-cdn.tripadvisor.com/media/>;rel=\"preconnect\";crossorigin\n",
      "header: Link: <https://media-cdn.tripadvisor.com/media/>;rel=\"dns-prefetch\"\n",
      "header: p3p: CP=\"NOI CURa ADMa DEVa TAIa OUR BUS IND UNI COM NAV INT DSP COR CAO PSA IDC ADM DEVi TAIi PSD IVAi IVDi CONi HIS CNT\"\n",
      "header: Pragma: no-cache\n",
      "header: Cache-Control: no-cache, no-store, must-revalidate\n",
      "header: Expires: 0\n",
      "header: Content-Language: id\n",
      "header: Link: <https://static.tacdn.com>;rel=\"dns-prefetch\"\n",
      "header: Link: <https://static.tacdn.com>;rel=\"preconnect\";crossorigin\n",
      "header: timing-allow-origin: https://www.tripadvisor.com\n",
      "header: Vary: Accept-Encoding\n",
      "header: Content-Type: text/html;charset=UTF-8\n",
      "header: x-datadome: protected\n",
      "header: Accept-CH: Sec-CH-UA,Sec-CH-UA-Mobile,Sec-CH-UA-Platform,Sec-CH-UA-Arch,Sec-CH-UA-Full-Version-List,Sec-CH-UA-Model,Sec-CH-Device-Memory\n",
      "header: Content-Encoding: gzip\n",
      "header: x-request-id: ff03ac81-7ac9-4ae9-b2a9-9bdb4c24a16b\n",
      "header: Date: Fri, 26 May 2023 01:04:44 GMT\n",
      "header: Transfer-Encoding: chunked\n",
      "header: Connection: keep-alive\n",
      "header: Connection: Transfer-Encoding\n",
      "header: Set-Cookie: TADCID=uVA10uSBg2_hgh9nABQCXdElnkGETRW-Svh01l3nWnXCbQ32aaYSoUqDwjQi0tlg31JcWEnsbzWeN5Dox2TdKWHa9e9tprB32FY; Domain=www.tripadvisor.co.id; Expires=Mon, 23-May-2033 01:04:43 GMT; Path=/; Secure; HttpOnly\n",
      "header: Set-Cookie: TAUnique=%1%enc%3AuiwQP9Jn%2BeH%2B7H78yfwekiHKVVkteNxIl1%2BJs0%2FBmn02jHwltRJPGQ%3D%3D; Domain=.tripadvisor.co.id; Expires=Sun, 25-May-2025 01:04:43 GMT; Path=/; HttpOnly\n",
      "header: Set-Cookie: TASSK=enc%3AALeHiCPqsdDkHNe9508XLqEwzR1jaSv74qyUFU0y1xbwwr8BIjgRuHs0dCeRL%2BpJOIuMg%2BIMObdup02YUcBX5P1xuXgbXQJG8v%2BbTs4S5xTosrnqxGvU%2BxDfleXI%2FBMxgA%3D%3D; Domain=www.tripadvisor.co.id; Expires=Wed, 22-Nov-2023 01:04:44 GMT; Path=/; HttpOnly\n",
      "header: Set-Cookie: TASession=V2ID.CBBA5FA8A24C41D4B5AD4D3684B68BB4*SQ.1*HS.recommended*ES.popularity*DS.5*SAS.popularity*FPS.oldFirst*LF.in*FA.1*DF.0*TRA.true*LD.2041913; Domain=.tripadvisor.co.id; Path=/\n",
      "header: Set-Cookie: ServerPool=X; Domain=.tripadvisor.co.id; Path=/\n",
      "header: Set-Cookie: PMC=V2*MS.20*MD.20230525*LD.20230525; Domain=www.tripadvisor.co.id; Expires=Sun, 25-May-2025 01:04:44 GMT; Path=/; Secure; HttpOnly\n",
      "header: Set-Cookie: TART=%1%enc%3A%2Fux%2B%2FMn8HpLQnYBvGHXrHQwGC8CmTFqGhnh%2Be529MH1LinErRNlcqA9WqCGJB%2FnLyx9HjuV9fk0%3D; Domain=www.tripadvisor.co.id; Expires=Wed, 31-May-2023 01:04:44 GMT; Path=/; HttpOnly\n",
      "header: Set-Cookie: CM=%1%PremiumMobSess%2C%2C-1%7Ct4b-pc%2C%2C-1%7CRestAds%2FRPers%2C%2C-1%7CRCPers%2C%2C-1%7CWShadeSeen%2C%2C-1%7CTheForkMCCPers%2C%2C-1%7CHomeASess%2C%2C-1%7CPremiumMCSess%2C%2C-1%7CCrisisSess%2C%2C-1%7CUVOwnersSess%2C%2C-1%7CRestPremRSess%2C%2C-1%7CRepTarMCSess%2C%2C-1%7CCCSess%2C%2C-1%7CCYLSess%2C%2C-1%7CPremRetPers%2C%2C-1%7CViatorMCPers%2C%2C-1%7Csesssticker%2C%2C-1%7C%24%2C%2C-1%7CPremiumORSess%2C%2C-1%7Ct4b-sc%2C%2C-1%7CRestAdsPers%2C%2C-1%7CMC_IB_UPSELL_IB_LOGOS2%2C%2C-1%7CTSMCPers%2C%2C-1%7Cb2bmcpers%2C%2C-1%7CPremMCBtmSess%2C%2C-1%7CMC_IB_UPSELL_IB_LOGOS%2C%2C-1%7CLaFourchette+Banners%2C%2C-1%7Csess_rev%2C%2C-1%7Csessamex%2C%2C-1%7CPremiumRRSess%2C%2C-1%7CTADORSess%2C%2C-1%7CAdsRetPers%2C%2C-1%7CListMCSess%2C%2C-1%7CTARSWBPers%2C%2C-1%7CSPMCSess%2C%2C-1%7CTheForkORSess%2C%2C-1%7CTheForkRRSess%2C%2C-1%7Cpers_rev%2C%2C-1%7CRBAPers%2C%2C-1%7CRestAds%2FRSess%2C%2C-1%7CHomeAPers%2C%2C-1%7CPremiumMobPers%2C%2C-1%7CRCSess%2C%2C-1%7CLaFourchette+MC+Banners%2C%2C-1%7CRestAdsCCSess%2C%2C-1%7CRestPremRPers%2C%2C-1%7CRevHubRMPers%2C%2C-1%7CUVOwnersPers%2C%2C-1%7Cpssamex%2C%2C-1%7CTheForkMCCSess%2C%2C-1%7CCrisisPers%2C%2C-1%7CCYLPers%2C%2C-1%7CCCPers%2C%2C-1%7CRepTarMCPers%2C%2C-1%7Cb2bmcsess%2C%2C-1%7CTSMCSess%2C%2C-1%7CSPMCPers%2C%2C-1%7CRevHubRMSess%2C%2C-1%7CPremRetSess%2C%2C-1%7CViatorMCSess%2C%2C-1%7CPremiumMCPers%2C%2C-1%7CAdsRetSess%2C%2C-1%7CPremiumRRPers%2C%2C-1%7CRestAdsCCPers%2C%2C-1%7CTADORPers%2C%2C-1%7CTheForkORPers%2C%2C-1%7CPremMCBtmPers%2C%2C-1%7CTheForkRRPers%2C%2C-1%7CTARSWBSess%2C%2C-1%7CPremiumORPers%2C%2C-1%7CRestAdsSess%2C%2C-1%7CRBASess%2C%2C-1%7CSPORPers%2C%2C-1%7Cperssticker%2C%2C-1%7CListMCPers%2C%2C-1%7C; Domain=.tripadvisor.co.id; Expires=Mon, 23-May-2033 01:04:44 GMT; Path=/\n",
      "header: Set-Cookie: BEPIN=%1%188559627db%3Bweb472a.a.tripadvisor.com%3A30023%3B; Domain=.tripadvisor.co.id; Path=/\n",
      "header: Set-Cookie: PAC=AFsr0pQHWCO0gewiie_IiCv8t__OLAb6CMS7muhAX_o3ObhRxWn00-E0A6lT3AgOq97JltpQH-YDAw7cVZ-ujRwy6pirVlzlRbapPeBHGmH8UfJgnR07p7QXRPGtyvzW2a-fqhuLcJkzUk9TKzDxD4CcZwiOWk4ZM6b0goVGE6u8yt68QGad0KEAcHnSwOdTch1fyFIhwvfSkVPk-sjmFeMK7ilq9Srfayym3TTsAwd9; Domain=www.tripadvisor.co.id; Expires=Sun, 25-May-2025 01:04:44 GMT; Path=/; Secure; HttpOnly\n",
      "header: Set-Cookie: SRT=TART_SYNC; Domain=www.tripadvisor.co.id; Expires=Fri, 26-May-2023 01:34:44 GMT; Path=/\n",
      "header: Set-Cookie: TATravelInfo=V2*AY.2023*AM.6*AD.4*DY.2023*DM.6*DD.5*A.2*MG.-1*HP.2*FL.3*DSM.1685063084139*RS.1; Domain=.tripadvisor.co.id; Expires=Fri, 09-Jun-2023 01:04:44 GMT; Path=/\n",
      "header: Set-Cookie: TAUD=LG-1685063083961-2.1.F.*RDD-2-2023_05_26*HDD-3-2023_06_04.2023_06_05.1; Domain=.tripadvisor.co.id; Expires=Fri, 09-Jun-2023 01:04:44 GMT; Path=/\n",
      "header: Set-Cookie: TASID=CBBA5FA8A24C41D4B5AD4D3684B68BB4; Domain=www.tripadvisor.co.id; Expires=Fri, 26-May-2023 01:34:44 GMT; Path=/; Secure\n",
      "header: Set-Cookie: TAReturnTo=%1%%2FHotel_Review-g311298-d2041913-Reviews-or55-Kubudiuma_Villas_Bali-Canggu_North_Kuta_Bali.html; Domain=.tripadvisor.co.id; Path=/\n",
      "header: Set-Cookie: datadome=6cBPzXh0x6z8g9f21gn1jwZE6xqvArByMKv9ikGEuo071HeibZwD~L_lbB8nmZVkd3U9NmA9A5feR4-2QGhB6qWU9_5tuIARUMTINqko2YVeuEw~whYv0kJhvlzenkWL; Max-Age=31104000; Domain=.tripadvisor.co.id; Path=/; Secure; SameSite=Lax\n",
      "Done Scrapping Kubudiuma Villas Bali page 11\n",
      "\n",
      "\n"
     ]
    },
    {
     "name": "stderr",
     "output_type": "stream",
     "text": [
      "DEBUG:urllib3.connectionpool:Starting new HTTPS connection (1): www.tripadvisor.co.id:443\n"
     ]
    },
    {
     "name": "stdout",
     "output_type": "stream",
     "text": [
      "send: b'GET /Hotel_Review-g311298-d2041913-Reviews-or60-Kubudiuma_Villas_Bali-Canggu_North_Kuta_Bali.html HTTP/1.1\\r\\nHost: www.tripadvisor.co.id\\r\\nUser-Agent: Mozilla/5.0 (X11; CrOS x86_64 12871.102.0) AppleWebKit/537.36 (KHTML, like Gecko) Chrome/81.0.4044.141 Safari/537.36\\r\\nAccept-Encoding: gzip, deflate\\r\\nAccept: */*\\r\\nConnection: keep-alive\\r\\n\\r\\n'\n"
     ]
    },
    {
     "name": "stderr",
     "output_type": "stream",
     "text": [
      "DEBUG:urllib3.connectionpool:https://www.tripadvisor.co.id:443 \"GET /Hotel_Review-g311298-d2041913-Reviews-or60-Kubudiuma_Villas_Bali-Canggu_North_Kuta_Bali.html HTTP/1.1\" 200 None\n"
     ]
    },
    {
     "name": "stdout",
     "output_type": "stream",
     "text": [
      "reply: 'HTTP/1.1 200 OK\\r\\n'\n",
      "header: Server: envoy\n",
      "header: Link: <https://media-cdn.tripadvisor.com/media/>;rel=\"preconnect\";crossorigin\n",
      "header: Link: <https://media-cdn.tripadvisor.com/media/>;rel=\"dns-prefetch\"\n",
      "header: p3p: CP=\"NOI CURa ADMa DEVa TAIa OUR BUS IND UNI COM NAV INT DSP COR CAO PSA IDC ADM DEVi TAIi PSD IVAi IVDi CONi HIS CNT\"\n",
      "header: Pragma: no-cache\n",
      "header: Cache-Control: no-cache, no-store, must-revalidate\n",
      "header: Expires: 0\n",
      "header: Content-Language: id\n",
      "header: Link: <https://static.tacdn.com>;rel=\"dns-prefetch\"\n",
      "header: Link: <https://static.tacdn.com>;rel=\"preconnect\";crossorigin\n",
      "header: timing-allow-origin: https://www.tripadvisor.com\n",
      "header: Vary: Accept-Encoding\n",
      "header: Content-Type: text/html;charset=UTF-8\n",
      "header: Accept-CH: Sec-CH-UA,Sec-CH-UA-Mobile,Sec-CH-UA-Platform,Sec-CH-UA-Arch,Sec-CH-UA-Full-Version-List,Sec-CH-UA-Model,Sec-CH-Device-Memory\n",
      "header: x-datadome: protected\n",
      "header: Content-Encoding: gzip\n",
      "header: x-request-id: ca08c652-7da4-42d6-9de2-b787eb64441b\n",
      "header: Date: Fri, 26 May 2023 01:04:49 GMT\n",
      "header: Transfer-Encoding: chunked\n",
      "header: Connection: keep-alive\n",
      "header: Connection: Transfer-Encoding\n",
      "header: Set-Cookie: TADCID=wLqQaw_okaJUbI7qABQCXdElnkGETRW-Svh01l3nWnXCbeUzwo0kbyyL4O8HA9MDjNRwtIAimM0ESs30Ve0GZE7ypg4bsd1TQiY; Domain=www.tripadvisor.co.id; Expires=Mon, 23-May-2033 01:04:48 GMT; Path=/; Secure; HttpOnly\n",
      "header: Set-Cookie: TAUnique=%1%enc%3Ayg68kAIEKTL%2B7H78yfwekiHKVVkteNxIY5n7TxZsUVo2jHwltRJPGQ%3D%3D; Domain=.tripadvisor.co.id; Expires=Sun, 25-May-2025 01:04:48 GMT; Path=/; HttpOnly\n",
      "header: Set-Cookie: TASSK=enc%3AAHXKFRneW%2Bm5kAe7zgWlGjIqiDlR7NmsESm%2FKuBNnEZIktbTYPAXaIFnoCHC%2FVIr4XhA03nDB0vxhzAYRvzhfZZ9zaXDWE43kyPuJSnLpDwGON5SnL7pZnSOeiZP8RY8Dg%3D%3D; Domain=www.tripadvisor.co.id; Expires=Wed, 22-Nov-2023 01:04:48 GMT; Path=/; HttpOnly\n",
      "header: Set-Cookie: TASession=V2ID.3B643317BB084069B3E2C8F083161A08*SQ.1*HS.recommended*ES.popularity*DS.5*SAS.popularity*FPS.oldFirst*LF.in*FA.1*DF.0*TRA.true*LD.2041913; Domain=.tripadvisor.co.id; Path=/\n",
      "header: Set-Cookie: ServerPool=B; Domain=.tripadvisor.co.id; Path=/\n",
      "header: Set-Cookie: PMC=V2*MS.83*MD.20230525*LD.20230525; Domain=www.tripadvisor.co.id; Expires=Sun, 25-May-2025 01:04:48 GMT; Path=/; Secure; HttpOnly\n",
      "header: Set-Cookie: TART=%1%enc%3A%2Fux%2B%2FMn8HpLSO1CdvTTgKvVMDDeI00wGI02is0ZkfvhxhQHA3lYJv1BWSnkfgYcPNULCL3ymXx4%3D; Domain=www.tripadvisor.co.id; Expires=Wed, 31-May-2023 01:04:48 GMT; Path=/; HttpOnly\n",
      "header: Set-Cookie: CM=%1%PremiumMobSess%2C%2C-1%7Ct4b-pc%2C%2C-1%7CRestAds%2FRPers%2C%2C-1%7CRCPers%2C%2C-1%7CWShadeSeen%2C%2C-1%7CTheForkMCCPers%2C%2C-1%7CHomeASess%2C%2C-1%7CPremiumMCSess%2C%2C-1%7CCrisisSess%2C%2C-1%7CUVOwnersSess%2C%2C-1%7CRestPremRSess%2C%2C-1%7CRepTarMCSess%2C%2C-1%7CCCSess%2C%2C-1%7CCYLSess%2C%2C-1%7CPremRetPers%2C%2C-1%7CViatorMCPers%2C%2C-1%7Csesssticker%2C%2C-1%7C%24%2C%2C-1%7CPremiumORSess%2C%2C-1%7Ct4b-sc%2C%2C-1%7CRestAdsPers%2C%2C-1%7CMC_IB_UPSELL_IB_LOGOS2%2C%2C-1%7CTSMCPers%2C%2C-1%7Cb2bmcpers%2C%2C-1%7CPremMCBtmSess%2C%2C-1%7CMC_IB_UPSELL_IB_LOGOS%2C%2C-1%7CLaFourchette+Banners%2C%2C-1%7Csess_rev%2C%2C-1%7Csessamex%2C%2C-1%7CPremiumRRSess%2C%2C-1%7CTADORSess%2C%2C-1%7CAdsRetPers%2C%2C-1%7CListMCSess%2C%2C-1%7CTARSWBPers%2C%2C-1%7CSPMCSess%2C%2C-1%7CTheForkORSess%2C%2C-1%7CTheForkRRSess%2C%2C-1%7Cpers_rev%2C%2C-1%7CRBAPers%2C%2C-1%7CRestAds%2FRSess%2C%2C-1%7CHomeAPers%2C%2C-1%7CPremiumMobPers%2C%2C-1%7CRCSess%2C%2C-1%7CLaFourchette+MC+Banners%2C%2C-1%7CRestAdsCCSess%2C%2C-1%7CRestPremRPers%2C%2C-1%7CRevHubRMPers%2C%2C-1%7CUVOwnersPers%2C%2C-1%7Cpssamex%2C%2C-1%7CTheForkMCCSess%2C%2C-1%7CCrisisPers%2C%2C-1%7CCYLPers%2C%2C-1%7CCCPers%2C%2C-1%7CRepTarMCPers%2C%2C-1%7Cb2bmcsess%2C%2C-1%7CTSMCSess%2C%2C-1%7CSPMCPers%2C%2C-1%7CRevHubRMSess%2C%2C-1%7CPremRetSess%2C%2C-1%7CViatorMCSess%2C%2C-1%7CPremiumMCPers%2C%2C-1%7CAdsRetSess%2C%2C-1%7CPremiumRRPers%2C%2C-1%7CRestAdsCCPers%2C%2C-1%7CTADORPers%2C%2C-1%7CTheForkORPers%2C%2C-1%7CPremMCBtmPers%2C%2C-1%7CTheForkRRPers%2C%2C-1%7CTARSWBSess%2C%2C-1%7CPremiumORPers%2C%2C-1%7CRestAdsSess%2C%2C-1%7CRBASess%2C%2C-1%7CSPORPers%2C%2C-1%7Cperssticker%2C%2C-1%7CListMCPers%2C%2C-1%7C; Domain=.tripadvisor.co.id; Expires=Mon, 23-May-2033 01:04:48 GMT; Path=/\n",
      "header: Set-Cookie: BEPIN=%1%1885596390d%3Bweb376a.a.tripadvisor.com%3A30023%3B; Domain=.tripadvisor.co.id; Path=/\n",
      "header: Set-Cookie: PAC=AAiSxflneSzQzPFtoFq97ABj3seV1xYC9RbKWkh_gMlMMU0LO1DfM7Qr7re_ifMvmk10LepIqdkP_YrsCIpetuqrbhhZz7uiijLKDyg0wja9jlw9aCdjY6csQFsSWiJGCKngYPJOsQmLCg1XSyzh9HDDzq2etcITx2EMfFulPOQedgfna8_j0cgLsZfUSe58ZRLD_hLJ7_FTnXyZKFds9bLRGumgkoGRtj7-iiU0iOBr; Domain=www.tripadvisor.co.id; Expires=Sun, 25-May-2025 01:04:48 GMT; Path=/; Secure; HttpOnly\n",
      "header: Set-Cookie: SRT=TART_SYNC; Domain=www.tripadvisor.co.id; Expires=Fri, 26-May-2023 01:34:48 GMT; Path=/\n",
      "header: Set-Cookie: TATravelInfo=V2*AY.2023*AM.6*AD.4*DY.2023*DM.6*DD.5*A.2*MG.-1*HP.2*FL.3*DSM.1685063088500*RS.1; Domain=.tripadvisor.co.id; Expires=Fri, 09-Jun-2023 01:04:48 GMT; Path=/\n",
      "header: Set-Cookie: TAUD=LG-1685063088365-2.1.F.*RDD-2-2023_05_26*HDD-3-2023_06_04.2023_06_05.1; Domain=.tripadvisor.co.id; Expires=Fri, 09-Jun-2023 01:04:48 GMT; Path=/\n",
      "header: Set-Cookie: TASID=3B643317BB084069B3E2C8F083161A08; Domain=www.tripadvisor.co.id; Expires=Fri, 26-May-2023 01:34:48 GMT; Path=/; Secure\n",
      "header: Set-Cookie: TAReturnTo=%1%%2FHotel_Review-g311298-d2041913-Reviews-or60-Kubudiuma_Villas_Bali-Canggu_North_Kuta_Bali.html; Domain=.tripadvisor.co.id; Path=/\n",
      "header: Set-Cookie: datadome=aunqKZWb_qRCWE55X81cb3sxafT_nKo3zmVMczsgWsbCcEGLZLMqWHze~Ytohsq5FQB40oGBLnTxAmAz-9N6O6rEV0i51omJ9MJH6yqe-suguZMS6lxWthA_IfsV4jp; Max-Age=31104000; Domain=.tripadvisor.co.id; Path=/; Secure; SameSite=Lax\n"
     ]
    },
    {
     "name": "stderr",
     "output_type": "stream",
     "text": [
      "DEBUG:urllib3.connectionpool:Starting new HTTPS connection (1): www.tripadvisor.co.id:443\n"
     ]
    },
    {
     "name": "stdout",
     "output_type": "stream",
     "text": [
      "Start Scrapping: Kadiga Villas Ubud\n",
      "send: b'GET /Hotel_Review-g297701-d7725623-Reviews-or5-Kadiga_Villas_Ubud-Ubud_Gianyar_Regency_Bali.html HTTP/1.1\\r\\nHost: www.tripadvisor.co.id\\r\\nUser-Agent: Mozilla/5.0 (X11; CrOS x86_64 12871.102.0) AppleWebKit/537.36 (KHTML, like Gecko) Chrome/81.0.4044.141 Safari/537.36\\r\\nAccept-Encoding: gzip, deflate\\r\\nAccept: */*\\r\\nConnection: keep-alive\\r\\n\\r\\n'\n"
     ]
    },
    {
     "name": "stderr",
     "output_type": "stream",
     "text": [
      "DEBUG:urllib3.connectionpool:https://www.tripadvisor.co.id:443 \"GET /Hotel_Review-g297701-d7725623-Reviews-or5-Kadiga_Villas_Ubud-Ubud_Gianyar_Regency_Bali.html HTTP/1.1\" 200 None\n"
     ]
    },
    {
     "name": "stdout",
     "output_type": "stream",
     "text": [
      "reply: 'HTTP/1.1 200 OK\\r\\n'\n",
      "header: Server: envoy\n",
      "header: Link: <https://media-cdn.tripadvisor.com/media/>;rel=\"preconnect\";crossorigin\n",
      "header: Link: <https://media-cdn.tripadvisor.com/media/>;rel=\"dns-prefetch\"\n",
      "header: p3p: CP=\"NOI CURa ADMa DEVa TAIa OUR BUS IND UNI COM NAV INT DSP COR CAO PSA IDC ADM DEVi TAIi PSD IVAi IVDi CONi HIS CNT\"\n",
      "header: Pragma: no-cache\n",
      "header: Cache-Control: no-cache, no-store, must-revalidate\n",
      "header: Expires: 0\n",
      "header: Content-Language: id\n",
      "header: Link: <https://static.tacdn.com>;rel=\"dns-prefetch\"\n",
      "header: Link: <https://static.tacdn.com>;rel=\"preconnect\";crossorigin\n",
      "header: timing-allow-origin: https://www.tripadvisor.com\n",
      "header: Vary: Accept-Encoding\n",
      "header: Content-Type: text/html;charset=UTF-8\n",
      "header: x-datadome: protected\n",
      "header: Accept-CH: Sec-CH-UA,Sec-CH-UA-Mobile,Sec-CH-UA-Platform,Sec-CH-UA-Arch,Sec-CH-UA-Full-Version-List,Sec-CH-UA-Model,Sec-CH-Device-Memory\n",
      "header: Content-Encoding: gzip\n",
      "header: x-request-id: 0d845af1-76e4-4ce2-b416-751ddd5643b2\n",
      "header: Date: Fri, 26 May 2023 01:04:50 GMT\n",
      "header: Transfer-Encoding: chunked\n",
      "header: Connection: keep-alive\n",
      "header: Connection: Transfer-Encoding\n",
      "header: Set-Cookie: TADCID=swWy6ttnSTsNl3eDABQCXdElnkGETRW-Svh01l3nWnXCbSZISbaOHWg2Ai8fkt1tvOHi7VkSY33ZS1GpBej0-nZZNSMdFKpf1bk; Domain=www.tripadvisor.co.id; Expires=Mon, 23-May-2033 01:04:49 GMT; Path=/; Secure; HttpOnly\n",
      "header: Set-Cookie: TAUnique=%1%enc%3AlhNrw2ubFUv%2B7H78yfwekiHKVVkteNxId6P1zPoWMj42jHwltRJPGQ%3D%3D; Domain=.tripadvisor.co.id; Expires=Sun, 25-May-2025 01:04:49 GMT; Path=/; HttpOnly\n",
      "header: Set-Cookie: TASSK=enc%3AANlVK0fCz83legeJNWRfMF69WGxpVOEnTwB7JFKiyapbO7cTtu7V5kkCrRGqBTQe5vCAulvv2JAfwJVOcfDI6IJ0cfUyfgOwx%2B%2BbaOsF0yS5WO7KBfP2oyIuZR%2F22scEJQ%3D%3D; Domain=www.tripadvisor.co.id; Expires=Wed, 22-Nov-2023 01:04:50 GMT; Path=/; HttpOnly\n",
      "header: Set-Cookie: TASession=V2ID.F7FB3263968C4A4FB3097C490D0057EB*SQ.1*HS.recommended*ES.popularity*DS.5*SAS.popularity*FPS.oldFirst*LF.in*FA.1*DF.0*TRA.true*LD.7725623; Domain=.tripadvisor.co.id; Path=/\n",
      "header: Set-Cookie: ServerPool=A; Domain=.tripadvisor.co.id; Path=/\n",
      "header: Set-Cookie: PMC=V2*MS.96*MD.20230525*LD.20230525; Domain=www.tripadvisor.co.id; Expires=Sun, 25-May-2025 01:04:50 GMT; Path=/; Secure; HttpOnly\n",
      "header: Set-Cookie: TART=%1%enc%3A%2Fux%2B%2FMn8HpKxeqjQ7BXv%2FmMuvCCLGwvhzk%2BNf68dY6bSJCkiDPD1Rz869n1L0q47GLyefJQymeo%3D; Domain=www.tripadvisor.co.id; Expires=Wed, 31-May-2023 01:04:50 GMT; Path=/; HttpOnly\n",
      "header: Set-Cookie: CM=%1%PremiumMobSess%2C%2C-1%7Ct4b-pc%2C%2C-1%7CRestAds%2FRPers%2C%2C-1%7CRCPers%2C%2C-1%7CWShadeSeen%2C%2C-1%7CTheForkMCCPers%2C%2C-1%7CHomeASess%2C%2C-1%7CPremiumMCSess%2C%2C-1%7CCrisisSess%2C%2C-1%7CUVOwnersSess%2C%2C-1%7CRestPremRSess%2C%2C-1%7CRepTarMCSess%2C%2C-1%7CCCSess%2C%2C-1%7CCYLSess%2C%2C-1%7CPremRetPers%2C%2C-1%7CViatorMCPers%2C%2C-1%7Csesssticker%2C%2C-1%7C%24%2C%2C-1%7CPremiumORSess%2C%2C-1%7Ct4b-sc%2C%2C-1%7CRestAdsPers%2C%2C-1%7CMC_IB_UPSELL_IB_LOGOS2%2C%2C-1%7CTSMCPers%2C%2C-1%7Cb2bmcpers%2C%2C-1%7CPremMCBtmSess%2C%2C-1%7CMC_IB_UPSELL_IB_LOGOS%2C%2C-1%7CLaFourchette+Banners%2C%2C-1%7Csess_rev%2C%2C-1%7Csessamex%2C%2C-1%7CPremiumRRSess%2C%2C-1%7CTADORSess%2C%2C-1%7CAdsRetPers%2C%2C-1%7CListMCSess%2C%2C-1%7CTARSWBPers%2C%2C-1%7CSPMCSess%2C%2C-1%7CTheForkORSess%2C%2C-1%7CTheForkRRSess%2C%2C-1%7Cpers_rev%2C%2C-1%7CRBAPers%2C%2C-1%7CRestAds%2FRSess%2C%2C-1%7CHomeAPers%2C%2C-1%7CPremiumMobPers%2C%2C-1%7CRCSess%2C%2C-1%7CLaFourchette+MC+Banners%2C%2C-1%7CRestAdsCCSess%2C%2C-1%7CRestPremRPers%2C%2C-1%7CRevHubRMPers%2C%2C-1%7CUVOwnersPers%2C%2C-1%7Cpssamex%2C%2C-1%7CTheForkMCCSess%2C%2C-1%7CCrisisPers%2C%2C-1%7CCYLPers%2C%2C-1%7CCCPers%2C%2C-1%7CRepTarMCPers%2C%2C-1%7Cb2bmcsess%2C%2C-1%7CTSMCSess%2C%2C-1%7CSPMCPers%2C%2C-1%7CRevHubRMSess%2C%2C-1%7CPremRetSess%2C%2C-1%7CViatorMCSess%2C%2C-1%7CPremiumMCPers%2C%2C-1%7CAdsRetSess%2C%2C-1%7CPremiumRRPers%2C%2C-1%7CRestAdsCCPers%2C%2C-1%7CTADORPers%2C%2C-1%7CTheForkORPers%2C%2C-1%7CPremMCBtmPers%2C%2C-1%7CTheForkRRPers%2C%2C-1%7CTARSWBSess%2C%2C-1%7CPremiumORPers%2C%2C-1%7CRestAdsSess%2C%2C-1%7CRBASess%2C%2C-1%7CSPORPers%2C%2C-1%7Cperssticker%2C%2C-1%7CListMCPers%2C%2C-1%7C; Domain=.tripadvisor.co.id; Expires=Mon, 23-May-2033 01:04:50 GMT; Path=/\n",
      "header: Set-Cookie: BEPIN=%1%18855963e1d%3Bweb270a.a.tripadvisor.com%3A30023%3B; Domain=.tripadvisor.co.id; Path=/\n",
      "header: Set-Cookie: PAC=AMRwKG_6f1oUSXxZolWPwV-_NXFj6fkNUhIvFAxpeksoTLc-pkT0uimpK9vSvdHkAMW53k_3kcs6qs8JPFKmo_Q2vuUUR7PTnK5Kaq5OTjziy2T1i1jSEaUgc0aM8LIf5txtRZMKQiPxiT7V7PGdi-FiUHmQKMskqd4fiBGRTZD8xws9OD0aO4QIW3qgoIJ6a5nhiD5FM8gdPsrQvZWkegI7n3izDMR1xknRXkDKsxLl; Domain=www.tripadvisor.co.id; Expires=Sun, 25-May-2025 01:04:50 GMT; Path=/; Secure; HttpOnly\n",
      "header: Set-Cookie: SRT=TART_SYNC; Domain=www.tripadvisor.co.id; Expires=Fri, 26-May-2023 01:34:50 GMT; Path=/\n",
      "header: Set-Cookie: TATravelInfo=V2*AY.2023*AM.6*AD.4*DY.2023*DM.6*DD.5*A.2*MG.-1*HP.2*FL.3*DSM.1685063089802*RS.1; Domain=.tripadvisor.co.id; Expires=Fri, 09-Jun-2023 01:04:50 GMT; Path=/\n",
      "header: Set-Cookie: TAUD=LG-1685063089673-2.1.F.*RDD-2-2023_05_26*HDD-3-2023_06_04.2023_06_05.1; Domain=.tripadvisor.co.id; Expires=Fri, 09-Jun-2023 01:04:50 GMT; Path=/\n",
      "header: Set-Cookie: TASID=F7FB3263968C4A4FB3097C490D0057EB; Domain=www.tripadvisor.co.id; Expires=Fri, 26-May-2023 01:34:50 GMT; Path=/; Secure\n",
      "header: Set-Cookie: TAReturnTo=%1%%2FHotel_Review-g297701-d7725623-Reviews-or5-Kadiga_Villas_Ubud-Ubud_Gianyar_Regency_Bali.html; Domain=.tripadvisor.co.id; Path=/\n",
      "header: Set-Cookie: datadome=kgfUcrRT~Ca7-Nl8NYJPk2TsE-ltIjHqfzmQNXL2K~ITNGS~yuH3XU99CEaMSDfoGFDmporo8TurJBzmwC3ZQr7dfmtQFuwZjk133_vDdDhVAe_cf-MkOa4dlMGQQUu; Max-Age=31104000; Domain=.tripadvisor.co.id; Path=/; Secure; SameSite=Lax\n",
      "Done Scrapping Kadiga Villas Ubud page 1\n",
      "\n",
      "\n"
     ]
    },
    {
     "name": "stderr",
     "output_type": "stream",
     "text": [
      "DEBUG:urllib3.connectionpool:Starting new HTTPS connection (1): www.tripadvisor.co.id:443\n"
     ]
    },
    {
     "ename": "ConnectionError",
     "evalue": "HTTPSConnectionPool(host='www.tripadvisor.co.id', port=443): Max retries exceeded with url: /Hotel_Review-g297701-d7725623-Reviews-or10-Kadiga_Villas_Ubud-Ubud_Gianyar_Regency_Bali.html (Caused by NameResolutionError(\"<urllib3.connection.HTTPSConnection object at 0x000001F8024F4EC8>: Failed to resolve 'www.tripadvisor.co.id' ([Errno 11002] getaddrinfo failed)\"))",
     "output_type": "error",
     "traceback": [
      "\u001b[1;31m---------------------------------------------------------------------------\u001b[0m",
      "\u001b[1;31mgaierror\u001b[0m                                  Traceback (most recent call last)",
      "\u001b[1;32m~\\anaconda3\\envs\\tf_env\\lib\\site-packages\\urllib3\\connection.py\u001b[0m in \u001b[0;36m_new_conn\u001b[1;34m(self)\u001b[0m\n\u001b[0;32m    203\u001b[0m                 \u001b[0msource_address\u001b[0m\u001b[1;33m=\u001b[0m\u001b[0mself\u001b[0m\u001b[1;33m.\u001b[0m\u001b[0msource_address\u001b[0m\u001b[1;33m,\u001b[0m\u001b[1;33m\u001b[0m\u001b[1;33m\u001b[0m\u001b[0m\n\u001b[1;32m--> 204\u001b[1;33m                 \u001b[0msocket_options\u001b[0m\u001b[1;33m=\u001b[0m\u001b[0mself\u001b[0m\u001b[1;33m.\u001b[0m\u001b[0msocket_options\u001b[0m\u001b[1;33m,\u001b[0m\u001b[1;33m\u001b[0m\u001b[1;33m\u001b[0m\u001b[0m\n\u001b[0m\u001b[0;32m    205\u001b[0m             )\n",
      "\u001b[1;32m~\\anaconda3\\envs\\tf_env\\lib\\site-packages\\urllib3\\util\\connection.py\u001b[0m in \u001b[0;36mcreate_connection\u001b[1;34m(address, timeout, source_address, socket_options)\u001b[0m\n\u001b[0;32m     59\u001b[0m \u001b[1;33m\u001b[0m\u001b[0m\n\u001b[1;32m---> 60\u001b[1;33m     \u001b[1;32mfor\u001b[0m \u001b[0mres\u001b[0m \u001b[1;32min\u001b[0m \u001b[0msocket\u001b[0m\u001b[1;33m.\u001b[0m\u001b[0mgetaddrinfo\u001b[0m\u001b[1;33m(\u001b[0m\u001b[0mhost\u001b[0m\u001b[1;33m,\u001b[0m \u001b[0mport\u001b[0m\u001b[1;33m,\u001b[0m \u001b[0mfamily\u001b[0m\u001b[1;33m,\u001b[0m \u001b[0msocket\u001b[0m\u001b[1;33m.\u001b[0m\u001b[0mSOCK_STREAM\u001b[0m\u001b[1;33m)\u001b[0m\u001b[1;33m:\u001b[0m\u001b[1;33m\u001b[0m\u001b[1;33m\u001b[0m\u001b[0m\n\u001b[0m\u001b[0;32m     61\u001b[0m         \u001b[0maf\u001b[0m\u001b[1;33m,\u001b[0m \u001b[0msocktype\u001b[0m\u001b[1;33m,\u001b[0m \u001b[0mproto\u001b[0m\u001b[1;33m,\u001b[0m \u001b[0mcanonname\u001b[0m\u001b[1;33m,\u001b[0m \u001b[0msa\u001b[0m \u001b[1;33m=\u001b[0m \u001b[0mres\u001b[0m\u001b[1;33m\u001b[0m\u001b[1;33m\u001b[0m\u001b[0m\n",
      "\u001b[1;32m~\\anaconda3\\envs\\tf_env\\lib\\socket.py\u001b[0m in \u001b[0;36mgetaddrinfo\u001b[1;34m(host, port, family, type, proto, flags)\u001b[0m\n\u001b[0;32m    751\u001b[0m     \u001b[0maddrlist\u001b[0m \u001b[1;33m=\u001b[0m \u001b[1;33m[\u001b[0m\u001b[1;33m]\u001b[0m\u001b[1;33m\u001b[0m\u001b[1;33m\u001b[0m\u001b[0m\n\u001b[1;32m--> 752\u001b[1;33m     \u001b[1;32mfor\u001b[0m \u001b[0mres\u001b[0m \u001b[1;32min\u001b[0m \u001b[0m_socket\u001b[0m\u001b[1;33m.\u001b[0m\u001b[0mgetaddrinfo\u001b[0m\u001b[1;33m(\u001b[0m\u001b[0mhost\u001b[0m\u001b[1;33m,\u001b[0m \u001b[0mport\u001b[0m\u001b[1;33m,\u001b[0m \u001b[0mfamily\u001b[0m\u001b[1;33m,\u001b[0m \u001b[0mtype\u001b[0m\u001b[1;33m,\u001b[0m \u001b[0mproto\u001b[0m\u001b[1;33m,\u001b[0m \u001b[0mflags\u001b[0m\u001b[1;33m)\u001b[0m\u001b[1;33m:\u001b[0m\u001b[1;33m\u001b[0m\u001b[1;33m\u001b[0m\u001b[0m\n\u001b[0m\u001b[0;32m    753\u001b[0m         \u001b[0maf\u001b[0m\u001b[1;33m,\u001b[0m \u001b[0msocktype\u001b[0m\u001b[1;33m,\u001b[0m \u001b[0mproto\u001b[0m\u001b[1;33m,\u001b[0m \u001b[0mcanonname\u001b[0m\u001b[1;33m,\u001b[0m \u001b[0msa\u001b[0m \u001b[1;33m=\u001b[0m \u001b[0mres\u001b[0m\u001b[1;33m\u001b[0m\u001b[1;33m\u001b[0m\u001b[0m\n",
      "\u001b[1;31mgaierror\u001b[0m: [Errno 11002] getaddrinfo failed",
      "\nThe above exception was the direct cause of the following exception:\n",
      "\u001b[1;31mNameResolutionError\u001b[0m                       Traceback (most recent call last)",
      "\u001b[1;32m~\\anaconda3\\envs\\tf_env\\lib\\site-packages\\urllib3\\connectionpool.py\u001b[0m in \u001b[0;36murlopen\u001b[1;34m(self, method, url, body, headers, retries, redirect, assert_same_host, timeout, pool_timeout, release_conn, chunked, body_pos, preload_content, decode_content, **response_kw)\u001b[0m\n\u001b[0;32m    801\u001b[0m                 \u001b[0mdecode_content\u001b[0m\u001b[1;33m=\u001b[0m\u001b[0mdecode_content\u001b[0m\u001b[1;33m,\u001b[0m\u001b[1;33m\u001b[0m\u001b[1;33m\u001b[0m\u001b[0m\n\u001b[1;32m--> 802\u001b[1;33m                 \u001b[1;33m**\u001b[0m\u001b[0mresponse_kw\u001b[0m\u001b[1;33m,\u001b[0m\u001b[1;33m\u001b[0m\u001b[1;33m\u001b[0m\u001b[0m\n\u001b[0m\u001b[0;32m    803\u001b[0m             )\n",
      "\u001b[1;32m~\\anaconda3\\envs\\tf_env\\lib\\site-packages\\urllib3\\connectionpool.py\u001b[0m in \u001b[0;36m_make_request\u001b[1;34m(self, conn, method, url, body, headers, retries, timeout, chunked, response_conn, preload_content, decode_content, enforce_content_length)\u001b[0m\n\u001b[0;32m    490\u001b[0m                 \u001b[0mnew_e\u001b[0m \u001b[1;33m=\u001b[0m \u001b[0m_wrap_proxy_error\u001b[0m\u001b[1;33m(\u001b[0m\u001b[0mnew_e\u001b[0m\u001b[1;33m,\u001b[0m \u001b[0mconn\u001b[0m\u001b[1;33m.\u001b[0m\u001b[0mproxy\u001b[0m\u001b[1;33m.\u001b[0m\u001b[0mscheme\u001b[0m\u001b[1;33m)\u001b[0m\u001b[1;33m\u001b[0m\u001b[1;33m\u001b[0m\u001b[0m\n\u001b[1;32m--> 491\u001b[1;33m             \u001b[1;32mraise\u001b[0m \u001b[0mnew_e\u001b[0m\u001b[1;33m\u001b[0m\u001b[1;33m\u001b[0m\u001b[0m\n\u001b[0m\u001b[0;32m    492\u001b[0m \u001b[1;33m\u001b[0m\u001b[0m\n",
      "\u001b[1;32m~\\anaconda3\\envs\\tf_env\\lib\\site-packages\\urllib3\\connectionpool.py\u001b[0m in \u001b[0;36m_make_request\u001b[1;34m(self, conn, method, url, body, headers, retries, timeout, chunked, response_conn, preload_content, decode_content, enforce_content_length)\u001b[0m\n\u001b[0;32m    466\u001b[0m             \u001b[1;32mtry\u001b[0m\u001b[1;33m:\u001b[0m\u001b[1;33m\u001b[0m\u001b[1;33m\u001b[0m\u001b[0m\n\u001b[1;32m--> 467\u001b[1;33m                 \u001b[0mself\u001b[0m\u001b[1;33m.\u001b[0m\u001b[0m_validate_conn\u001b[0m\u001b[1;33m(\u001b[0m\u001b[0mconn\u001b[0m\u001b[1;33m)\u001b[0m\u001b[1;33m\u001b[0m\u001b[1;33m\u001b[0m\u001b[0m\n\u001b[0m\u001b[0;32m    468\u001b[0m             \u001b[1;32mexcept\u001b[0m \u001b[1;33m(\u001b[0m\u001b[0mSocketTimeout\u001b[0m\u001b[1;33m,\u001b[0m \u001b[0mBaseSSLError\u001b[0m\u001b[1;33m)\u001b[0m \u001b[1;32mas\u001b[0m \u001b[0me\u001b[0m\u001b[1;33m:\u001b[0m\u001b[1;33m\u001b[0m\u001b[1;33m\u001b[0m\u001b[0m\n",
      "\u001b[1;32m~\\anaconda3\\envs\\tf_env\\lib\\site-packages\\urllib3\\connectionpool.py\u001b[0m in \u001b[0;36m_validate_conn\u001b[1;34m(self, conn)\u001b[0m\n\u001b[0;32m   1091\u001b[0m         \u001b[1;32mif\u001b[0m \u001b[0mconn\u001b[0m\u001b[1;33m.\u001b[0m\u001b[0mis_closed\u001b[0m\u001b[1;33m:\u001b[0m\u001b[1;33m\u001b[0m\u001b[1;33m\u001b[0m\u001b[0m\n\u001b[1;32m-> 1092\u001b[1;33m             \u001b[0mconn\u001b[0m\u001b[1;33m.\u001b[0m\u001b[0mconnect\u001b[0m\u001b[1;33m(\u001b[0m\u001b[1;33m)\u001b[0m\u001b[1;33m\u001b[0m\u001b[1;33m\u001b[0m\u001b[0m\n\u001b[0m\u001b[0;32m   1093\u001b[0m \u001b[1;33m\u001b[0m\u001b[0m\n",
      "\u001b[1;32m~\\anaconda3\\envs\\tf_env\\lib\\site-packages\\urllib3\\connection.py\u001b[0m in \u001b[0;36mconnect\u001b[1;34m(self)\u001b[0m\n\u001b[0;32m    603\u001b[0m         \u001b[0msock\u001b[0m\u001b[1;33m:\u001b[0m \u001b[0msocket\u001b[0m\u001b[1;33m.\u001b[0m\u001b[0msocket\u001b[0m \u001b[1;33m|\u001b[0m \u001b[0mssl\u001b[0m\u001b[1;33m.\u001b[0m\u001b[0mSSLSocket\u001b[0m\u001b[1;33m\u001b[0m\u001b[1;33m\u001b[0m\u001b[0m\n\u001b[1;32m--> 604\u001b[1;33m         \u001b[0mself\u001b[0m\u001b[1;33m.\u001b[0m\u001b[0msock\u001b[0m \u001b[1;33m=\u001b[0m \u001b[0msock\u001b[0m \u001b[1;33m=\u001b[0m \u001b[0mself\u001b[0m\u001b[1;33m.\u001b[0m\u001b[0m_new_conn\u001b[0m\u001b[1;33m(\u001b[0m\u001b[1;33m)\u001b[0m\u001b[1;33m\u001b[0m\u001b[1;33m\u001b[0m\u001b[0m\n\u001b[0m\u001b[0;32m    605\u001b[0m         \u001b[0mserver_hostname\u001b[0m\u001b[1;33m:\u001b[0m \u001b[0mstr\u001b[0m \u001b[1;33m=\u001b[0m \u001b[0mself\u001b[0m\u001b[1;33m.\u001b[0m\u001b[0mhost\u001b[0m\u001b[1;33m\u001b[0m\u001b[1;33m\u001b[0m\u001b[0m\n",
      "\u001b[1;32m~\\anaconda3\\envs\\tf_env\\lib\\site-packages\\urllib3\\connection.py\u001b[0m in \u001b[0;36m_new_conn\u001b[1;34m(self)\u001b[0m\n\u001b[0;32m    206\u001b[0m         \u001b[1;32mexcept\u001b[0m \u001b[0msocket\u001b[0m\u001b[1;33m.\u001b[0m\u001b[0mgaierror\u001b[0m \u001b[1;32mas\u001b[0m \u001b[0me\u001b[0m\u001b[1;33m:\u001b[0m\u001b[1;33m\u001b[0m\u001b[1;33m\u001b[0m\u001b[0m\n\u001b[1;32m--> 207\u001b[1;33m             \u001b[1;32mraise\u001b[0m \u001b[0mNameResolutionError\u001b[0m\u001b[1;33m(\u001b[0m\u001b[0mself\u001b[0m\u001b[1;33m.\u001b[0m\u001b[0mhost\u001b[0m\u001b[1;33m,\u001b[0m \u001b[0mself\u001b[0m\u001b[1;33m,\u001b[0m \u001b[0me\u001b[0m\u001b[1;33m)\u001b[0m \u001b[1;32mfrom\u001b[0m \u001b[0me\u001b[0m\u001b[1;33m\u001b[0m\u001b[1;33m\u001b[0m\u001b[0m\n\u001b[0m\u001b[0;32m    208\u001b[0m         \u001b[1;32mexcept\u001b[0m \u001b[0mSocketTimeout\u001b[0m \u001b[1;32mas\u001b[0m \u001b[0me\u001b[0m\u001b[1;33m:\u001b[0m\u001b[1;33m\u001b[0m\u001b[1;33m\u001b[0m\u001b[0m\n",
      "\u001b[1;31mNameResolutionError\u001b[0m: <urllib3.connection.HTTPSConnection object at 0x000001F8024F4EC8>: Failed to resolve 'www.tripadvisor.co.id' ([Errno 11002] getaddrinfo failed)",
      "\nThe above exception was the direct cause of the following exception:\n",
      "\u001b[1;31mMaxRetryError\u001b[0m                             Traceback (most recent call last)",
      "\u001b[1;32m~\\anaconda3\\envs\\tf_env\\lib\\site-packages\\requests\\adapters.py\u001b[0m in \u001b[0;36msend\u001b[1;34m(self, request, stream, timeout, verify, cert, proxies)\u001b[0m\n\u001b[0;32m    496\u001b[0m                 \u001b[0mtimeout\u001b[0m\u001b[1;33m=\u001b[0m\u001b[0mtimeout\u001b[0m\u001b[1;33m,\u001b[0m\u001b[1;33m\u001b[0m\u001b[1;33m\u001b[0m\u001b[0m\n\u001b[1;32m--> 497\u001b[1;33m                 \u001b[0mchunked\u001b[0m\u001b[1;33m=\u001b[0m\u001b[0mchunked\u001b[0m\u001b[1;33m,\u001b[0m\u001b[1;33m\u001b[0m\u001b[1;33m\u001b[0m\u001b[0m\n\u001b[0m\u001b[0;32m    498\u001b[0m             )\n",
      "\u001b[1;32m~\\anaconda3\\envs\\tf_env\\lib\\site-packages\\urllib3\\connectionpool.py\u001b[0m in \u001b[0;36murlopen\u001b[1;34m(self, method, url, body, headers, retries, redirect, assert_same_host, timeout, pool_timeout, release_conn, chunked, body_pos, preload_content, decode_content, **response_kw)\u001b[0m\n\u001b[0;32m    844\u001b[0m             retries = retries.increment(\n\u001b[1;32m--> 845\u001b[1;33m                 \u001b[0mmethod\u001b[0m\u001b[1;33m,\u001b[0m \u001b[0murl\u001b[0m\u001b[1;33m,\u001b[0m \u001b[0merror\u001b[0m\u001b[1;33m=\u001b[0m\u001b[0mnew_e\u001b[0m\u001b[1;33m,\u001b[0m \u001b[0m_pool\u001b[0m\u001b[1;33m=\u001b[0m\u001b[0mself\u001b[0m\u001b[1;33m,\u001b[0m \u001b[0m_stacktrace\u001b[0m\u001b[1;33m=\u001b[0m\u001b[0msys\u001b[0m\u001b[1;33m.\u001b[0m\u001b[0mexc_info\u001b[0m\u001b[1;33m(\u001b[0m\u001b[1;33m)\u001b[0m\u001b[1;33m[\u001b[0m\u001b[1;36m2\u001b[0m\u001b[1;33m]\u001b[0m\u001b[1;33m\u001b[0m\u001b[1;33m\u001b[0m\u001b[0m\n\u001b[0m\u001b[0;32m    846\u001b[0m             )\n",
      "\u001b[1;32m~\\anaconda3\\envs\\tf_env\\lib\\site-packages\\urllib3\\util\\retry.py\u001b[0m in \u001b[0;36mincrement\u001b[1;34m(self, method, url, response, error, _pool, _stacktrace)\u001b[0m\n\u001b[0;32m    514\u001b[0m             \u001b[0mreason\u001b[0m \u001b[1;33m=\u001b[0m \u001b[0merror\u001b[0m \u001b[1;32mor\u001b[0m \u001b[0mResponseError\u001b[0m\u001b[1;33m(\u001b[0m\u001b[0mcause\u001b[0m\u001b[1;33m)\u001b[0m\u001b[1;33m\u001b[0m\u001b[1;33m\u001b[0m\u001b[0m\n\u001b[1;32m--> 515\u001b[1;33m             \u001b[1;32mraise\u001b[0m \u001b[0mMaxRetryError\u001b[0m\u001b[1;33m(\u001b[0m\u001b[0m_pool\u001b[0m\u001b[1;33m,\u001b[0m \u001b[0murl\u001b[0m\u001b[1;33m,\u001b[0m \u001b[0mreason\u001b[0m\u001b[1;33m)\u001b[0m \u001b[1;32mfrom\u001b[0m \u001b[0mreason\u001b[0m  \u001b[1;31m# type: ignore[arg-type]\u001b[0m\u001b[1;33m\u001b[0m\u001b[1;33m\u001b[0m\u001b[0m\n\u001b[0m\u001b[0;32m    516\u001b[0m \u001b[1;33m\u001b[0m\u001b[0m\n",
      "\u001b[1;31mMaxRetryError\u001b[0m: HTTPSConnectionPool(host='www.tripadvisor.co.id', port=443): Max retries exceeded with url: /Hotel_Review-g297701-d7725623-Reviews-or10-Kadiga_Villas_Ubud-Ubud_Gianyar_Regency_Bali.html (Caused by NameResolutionError(\"<urllib3.connection.HTTPSConnection object at 0x000001F8024F4EC8>: Failed to resolve 'www.tripadvisor.co.id' ([Errno 11002] getaddrinfo failed)\"))",
      "\nDuring handling of the above exception, another exception occurred:\n",
      "\u001b[1;31mConnectionError\u001b[0m                           Traceback (most recent call last)",
      "\u001b[1;32m~\\AppData\\Local\\Temp\\ipykernel_12728\\501579487.py\u001b[0m in \u001b[0;36m<module>\u001b[1;34m\u001b[0m\n\u001b[1;32m----> 1\u001b[1;33m \u001b[0mhotelScraper\u001b[0m\u001b[1;33m(\u001b[0m\u001b[1;33m)\u001b[0m\u001b[1;33m\u001b[0m\u001b[1;33m\u001b[0m\u001b[0m\n\u001b[0m",
      "\u001b[1;32m~\\AppData\\Local\\Temp\\ipykernel_12728\\3043381865.py\u001b[0m in \u001b[0;36mhotelScraper\u001b[1;34m()\u001b[0m\n\u001b[0;32m     18\u001b[0m         \u001b[1;32mfor\u001b[0m \u001b[0mi\u001b[0m \u001b[1;32min\u001b[0m \u001b[0mrange\u001b[0m\u001b[1;33m(\u001b[0m\u001b[1;36m5\u001b[0m\u001b[1;33m,\u001b[0m \u001b[0mpages\u001b[0m\u001b[1;33m,\u001b[0m \u001b[1;36m5\u001b[0m\u001b[1;33m)\u001b[0m\u001b[1;33m:\u001b[0m\u001b[1;33m\u001b[0m\u001b[1;33m\u001b[0m\u001b[0m\n\u001b[0;32m     19\u001b[0m             \u001b[0mnew_url\u001b[0m \u001b[1;33m=\u001b[0m \u001b[0mre\u001b[0m\u001b[1;33m.\u001b[0m\u001b[0msub\u001b[0m\u001b[1;33m(\u001b[0m\u001b[1;34m'or5'\u001b[0m\u001b[1;33m,\u001b[0m \u001b[1;34m'or'\u001b[0m\u001b[1;33m+\u001b[0m\u001b[0mstr\u001b[0m\u001b[1;33m(\u001b[0m\u001b[0mi\u001b[0m\u001b[1;33m)\u001b[0m\u001b[1;33m,\u001b[0m \u001b[0mstr\u001b[0m\u001b[1;33m(\u001b[0m\u001b[0mhotel_url\u001b[0m\u001b[1;33m)\u001b[0m\u001b[1;33m)\u001b[0m\u001b[1;33m\u001b[0m\u001b[1;33m\u001b[0m\u001b[0m\n\u001b[1;32m---> 20\u001b[1;33m             \u001b[0murl\u001b[0m \u001b[1;33m=\u001b[0m \u001b[0mrequests\u001b[0m\u001b[1;33m.\u001b[0m\u001b[0mget\u001b[0m\u001b[1;33m(\u001b[0m\u001b[0mnew_url\u001b[0m\u001b[1;33m,\u001b[0m \u001b[0mheaders\u001b[0m\u001b[1;33m=\u001b[0m\u001b[0mheaders\u001b[0m\u001b[1;33m)\u001b[0m\u001b[1;33m\u001b[0m\u001b[1;33m\u001b[0m\u001b[0m\n\u001b[0m\u001b[0;32m     21\u001b[0m \u001b[1;33m\u001b[0m\u001b[0m\n\u001b[0;32m     22\u001b[0m             \u001b[0msoup\u001b[0m \u001b[1;33m=\u001b[0m \u001b[0mBeautifulSoup\u001b[0m\u001b[1;33m(\u001b[0m\u001b[0murl\u001b[0m\u001b[1;33m.\u001b[0m\u001b[0mtext\u001b[0m\u001b[1;33m,\u001b[0m \u001b[1;34m'lxml'\u001b[0m\u001b[1;33m)\u001b[0m\u001b[1;33m\u001b[0m\u001b[1;33m\u001b[0m\u001b[0m\n",
      "\u001b[1;32m~\\anaconda3\\envs\\tf_env\\lib\\site-packages\\requests\\api.py\u001b[0m in \u001b[0;36mget\u001b[1;34m(url, params, **kwargs)\u001b[0m\n\u001b[0;32m     71\u001b[0m     \"\"\"\n\u001b[0;32m     72\u001b[0m \u001b[1;33m\u001b[0m\u001b[0m\n\u001b[1;32m---> 73\u001b[1;33m     \u001b[1;32mreturn\u001b[0m \u001b[0mrequest\u001b[0m\u001b[1;33m(\u001b[0m\u001b[1;34m\"get\"\u001b[0m\u001b[1;33m,\u001b[0m \u001b[0murl\u001b[0m\u001b[1;33m,\u001b[0m \u001b[0mparams\u001b[0m\u001b[1;33m=\u001b[0m\u001b[0mparams\u001b[0m\u001b[1;33m,\u001b[0m \u001b[1;33m**\u001b[0m\u001b[0mkwargs\u001b[0m\u001b[1;33m)\u001b[0m\u001b[1;33m\u001b[0m\u001b[1;33m\u001b[0m\u001b[0m\n\u001b[0m\u001b[0;32m     74\u001b[0m \u001b[1;33m\u001b[0m\u001b[0m\n\u001b[0;32m     75\u001b[0m \u001b[1;33m\u001b[0m\u001b[0m\n",
      "\u001b[1;32m~\\anaconda3\\envs\\tf_env\\lib\\site-packages\\requests\\api.py\u001b[0m in \u001b[0;36mrequest\u001b[1;34m(method, url, **kwargs)\u001b[0m\n\u001b[0;32m     57\u001b[0m     \u001b[1;31m# cases, and look like a memory leak in others.\u001b[0m\u001b[1;33m\u001b[0m\u001b[1;33m\u001b[0m\u001b[1;33m\u001b[0m\u001b[0m\n\u001b[0;32m     58\u001b[0m     \u001b[1;32mwith\u001b[0m \u001b[0msessions\u001b[0m\u001b[1;33m.\u001b[0m\u001b[0mSession\u001b[0m\u001b[1;33m(\u001b[0m\u001b[1;33m)\u001b[0m \u001b[1;32mas\u001b[0m \u001b[0msession\u001b[0m\u001b[1;33m:\u001b[0m\u001b[1;33m\u001b[0m\u001b[1;33m\u001b[0m\u001b[0m\n\u001b[1;32m---> 59\u001b[1;33m         \u001b[1;32mreturn\u001b[0m \u001b[0msession\u001b[0m\u001b[1;33m.\u001b[0m\u001b[0mrequest\u001b[0m\u001b[1;33m(\u001b[0m\u001b[0mmethod\u001b[0m\u001b[1;33m=\u001b[0m\u001b[0mmethod\u001b[0m\u001b[1;33m,\u001b[0m \u001b[0murl\u001b[0m\u001b[1;33m=\u001b[0m\u001b[0murl\u001b[0m\u001b[1;33m,\u001b[0m \u001b[1;33m**\u001b[0m\u001b[0mkwargs\u001b[0m\u001b[1;33m)\u001b[0m\u001b[1;33m\u001b[0m\u001b[1;33m\u001b[0m\u001b[0m\n\u001b[0m\u001b[0;32m     60\u001b[0m \u001b[1;33m\u001b[0m\u001b[0m\n\u001b[0;32m     61\u001b[0m \u001b[1;33m\u001b[0m\u001b[0m\n",
      "\u001b[1;32m~\\anaconda3\\envs\\tf_env\\lib\\site-packages\\requests\\sessions.py\u001b[0m in \u001b[0;36mrequest\u001b[1;34m(self, method, url, params, data, headers, cookies, files, auth, timeout, allow_redirects, proxies, hooks, stream, verify, cert, json)\u001b[0m\n\u001b[0;32m    585\u001b[0m         }\n\u001b[0;32m    586\u001b[0m         \u001b[0msend_kwargs\u001b[0m\u001b[1;33m.\u001b[0m\u001b[0mupdate\u001b[0m\u001b[1;33m(\u001b[0m\u001b[0msettings\u001b[0m\u001b[1;33m)\u001b[0m\u001b[1;33m\u001b[0m\u001b[1;33m\u001b[0m\u001b[0m\n\u001b[1;32m--> 587\u001b[1;33m         \u001b[0mresp\u001b[0m \u001b[1;33m=\u001b[0m \u001b[0mself\u001b[0m\u001b[1;33m.\u001b[0m\u001b[0msend\u001b[0m\u001b[1;33m(\u001b[0m\u001b[0mprep\u001b[0m\u001b[1;33m,\u001b[0m \u001b[1;33m**\u001b[0m\u001b[0msend_kwargs\u001b[0m\u001b[1;33m)\u001b[0m\u001b[1;33m\u001b[0m\u001b[1;33m\u001b[0m\u001b[0m\n\u001b[0m\u001b[0;32m    588\u001b[0m \u001b[1;33m\u001b[0m\u001b[0m\n\u001b[0;32m    589\u001b[0m         \u001b[1;32mreturn\u001b[0m \u001b[0mresp\u001b[0m\u001b[1;33m\u001b[0m\u001b[1;33m\u001b[0m\u001b[0m\n",
      "\u001b[1;32m~\\anaconda3\\envs\\tf_env\\lib\\site-packages\\requests\\sessions.py\u001b[0m in \u001b[0;36msend\u001b[1;34m(self, request, **kwargs)\u001b[0m\n\u001b[0;32m    699\u001b[0m \u001b[1;33m\u001b[0m\u001b[0m\n\u001b[0;32m    700\u001b[0m         \u001b[1;31m# Send the request\u001b[0m\u001b[1;33m\u001b[0m\u001b[1;33m\u001b[0m\u001b[1;33m\u001b[0m\u001b[0m\n\u001b[1;32m--> 701\u001b[1;33m         \u001b[0mr\u001b[0m \u001b[1;33m=\u001b[0m \u001b[0madapter\u001b[0m\u001b[1;33m.\u001b[0m\u001b[0msend\u001b[0m\u001b[1;33m(\u001b[0m\u001b[0mrequest\u001b[0m\u001b[1;33m,\u001b[0m \u001b[1;33m**\u001b[0m\u001b[0mkwargs\u001b[0m\u001b[1;33m)\u001b[0m\u001b[1;33m\u001b[0m\u001b[1;33m\u001b[0m\u001b[0m\n\u001b[0m\u001b[0;32m    702\u001b[0m \u001b[1;33m\u001b[0m\u001b[0m\n\u001b[0;32m    703\u001b[0m         \u001b[1;31m# Total elapsed time of the request (approximately)\u001b[0m\u001b[1;33m\u001b[0m\u001b[1;33m\u001b[0m\u001b[1;33m\u001b[0m\u001b[0m\n",
      "\u001b[1;32m~\\anaconda3\\envs\\tf_env\\lib\\site-packages\\requests\\adapters.py\u001b[0m in \u001b[0;36msend\u001b[1;34m(self, request, stream, timeout, verify, cert, proxies)\u001b[0m\n\u001b[0;32m    517\u001b[0m                 \u001b[1;32mraise\u001b[0m \u001b[0mSSLError\u001b[0m\u001b[1;33m(\u001b[0m\u001b[0me\u001b[0m\u001b[1;33m,\u001b[0m \u001b[0mrequest\u001b[0m\u001b[1;33m=\u001b[0m\u001b[0mrequest\u001b[0m\u001b[1;33m)\u001b[0m\u001b[1;33m\u001b[0m\u001b[1;33m\u001b[0m\u001b[0m\n\u001b[0;32m    518\u001b[0m \u001b[1;33m\u001b[0m\u001b[0m\n\u001b[1;32m--> 519\u001b[1;33m             \u001b[1;32mraise\u001b[0m \u001b[0mConnectionError\u001b[0m\u001b[1;33m(\u001b[0m\u001b[0me\u001b[0m\u001b[1;33m,\u001b[0m \u001b[0mrequest\u001b[0m\u001b[1;33m=\u001b[0m\u001b[0mrequest\u001b[0m\u001b[1;33m)\u001b[0m\u001b[1;33m\u001b[0m\u001b[1;33m\u001b[0m\u001b[0m\n\u001b[0m\u001b[0;32m    520\u001b[0m \u001b[1;33m\u001b[0m\u001b[0m\n\u001b[0;32m    521\u001b[0m         \u001b[1;32mexcept\u001b[0m \u001b[0mClosedPoolError\u001b[0m \u001b[1;32mas\u001b[0m \u001b[0me\u001b[0m\u001b[1;33m:\u001b[0m\u001b[1;33m\u001b[0m\u001b[1;33m\u001b[0m\u001b[0m\n",
      "\u001b[1;31mConnectionError\u001b[0m: HTTPSConnectionPool(host='www.tripadvisor.co.id', port=443): Max retries exceeded with url: /Hotel_Review-g297701-d7725623-Reviews-or10-Kadiga_Villas_Ubud-Ubud_Gianyar_Regency_Bali.html (Caused by NameResolutionError(\"<urllib3.connection.HTTPSConnection object at 0x000001F8024F4EC8>: Failed to resolve 'www.tripadvisor.co.id' ([Errno 11002] getaddrinfo failed)\"))"
     ]
    }
   ],
   "source": [
    "hotelScraper()"
   ]
  },
  {
   "cell_type": "code",
   "execution_count": null,
   "metadata": {},
   "outputs": [],
   "source": []
  }
 ],
 "metadata": {
  "colab": {
   "authorship_tag": "ABX9TyOv9x4QZrku5vhfQSMhcBl6",
   "name": "",
   "version": ""
  },
  "kernelspec": {
   "display_name": "Python 3 (ipykernel)",
   "language": "python",
   "name": "python3"
  },
  "language_info": {
   "codemirror_mode": {
    "name": "ipython",
    "version": 3
   },
   "file_extension": ".py",
   "mimetype": "text/x-python",
   "name": "python",
   "nbconvert_exporter": "python",
   "pygments_lexer": "ipython3",
   "version": "3.7.16"
  }
 },
 "nbformat": 4,
 "nbformat_minor": 4
}
