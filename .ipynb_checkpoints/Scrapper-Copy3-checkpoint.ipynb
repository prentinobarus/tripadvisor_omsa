{
 "cells": [
  {
   "cell_type": "code",
   "execution_count": 1,
   "metadata": {
    "ExecuteTime": {
     "end_time": "2023-05-24T01:25:37.429094Z",
     "start_time": "2023-05-24T01:25:29.292171Z"
    },
    "colab": {
     "base_uri": "https://localhost:8080/"
    },
    "executionInfo": {
     "elapsed": 21074,
     "status": "ok",
     "timestamp": 1683074904984,
     "user": {
      "displayName": "Prentino Barus",
      "userId": "03956176104375021641"
     },
     "user_tz": -420
    },
    "id": "HF5KEFLikY5J",
    "outputId": "96859593-c037-4c33-d42d-e3d94620004d",
    "scrolled": true,
    "tags": []
   },
   "outputs": [
    {
     "name": "stdout",
     "output_type": "stream",
     "text": [
      "Requirement already satisfied: beautifulsoup4 in c:\\users\\tinob\\anaconda3\\envs\\tf_env\\lib\\site-packages (4.12.2)\n",
      "Requirement already satisfied: soupsieve>1.2 in c:\\users\\tinob\\anaconda3\\envs\\tf_env\\lib\\site-packages (from beautifulsoup4) (2.4.1)\n",
      "Requirement already satisfied: lxml in c:\\users\\tinob\\anaconda3\\envs\\tf_env\\lib\\site-packages (4.9.2)\n",
      "Requirement already satisfied: requests in c:\\users\\tinob\\anaconda3\\envs\\tf_env\\lib\\site-packages (2.30.0)\n",
      "Requirement already satisfied: charset-normalizer<4,>=2 in c:\\users\\tinob\\anaconda3\\envs\\tf_env\\lib\\site-packages (from requests) (3.1.0)\n",
      "Requirement already satisfied: idna<4,>=2.5 in c:\\users\\tinob\\anaconda3\\envs\\tf_env\\lib\\site-packages (from requests) (3.4)\n",
      "Requirement already satisfied: urllib3<3,>=1.21.1 in c:\\users\\tinob\\anaconda3\\envs\\tf_env\\lib\\site-packages (from requests) (2.0.2)\n",
      "Requirement already satisfied: certifi>=2017.4.17 in c:\\users\\tinob\\anaconda3\\envs\\tf_env\\lib\\site-packages (from requests) (2022.12.7)\n"
     ]
    }
   ],
   "source": [
    "!pip install beautifulsoup4\n",
    "!pip install lxml\n",
    "!pip install requests"
   ]
  },
  {
   "cell_type": "code",
   "execution_count": 2,
   "metadata": {
    "ExecuteTime": {
     "end_time": "2023-05-24T22:54:08.477235Z",
     "start_time": "2023-05-24T22:54:07.668232Z"
    },
    "executionInfo": {
     "elapsed": 1114,
     "status": "ok",
     "timestamp": 1683074906091,
     "user": {
      "displayName": "Prentino Barus",
      "userId": "03956176104375021641"
     },
     "user_tz": -420
    },
    "id": "p_Uym38LlEtc",
    "tags": []
   },
   "outputs": [],
   "source": [
    "from bs4 import BeautifulSoup\n",
    "import requests\n",
    "import logging\n",
    "import http.client\n",
    "http.client.HTTPConnection.debuglevel = 1\n",
    "import pandas as pd\n",
    "import time\n",
    "import re\n",
    "import os"
   ]
  },
  {
   "cell_type": "code",
   "execution_count": 3,
   "metadata": {
    "ExecuteTime": {
     "end_time": "2023-05-24T22:54:08.921796Z",
     "start_time": "2023-05-24T22:54:08.480954Z"
    },
    "id": "pHfGE1c4GQc1",
    "tags": []
   },
   "outputs": [
    {
     "name": "stdout",
     "output_type": "stream",
     "text": [
      "<class 'pandas.core.frame.DataFrame'>\n",
      "RangeIndex: 50 entries, 0 to 49\n",
      "Data columns (total 4 columns):\n",
      " #   Column        Non-Null Count  Dtype \n",
      "---  ------        --------------  ----- \n",
      " 0   hotel         50 non-null     object\n",
      " 1   hotel_link    50 non-null     object\n",
      " 2   review_count  50 non-null     int64 \n",
      " 3   hotel_name    50 non-null     object\n",
      "dtypes: int64(1), object(3)\n",
      "memory usage: 1.7+ KB\n"
     ]
    }
   ],
   "source": [
    "# List of Hotel's URL\n",
    "list_hotel = pd.read_excel('fix_hotel.xlsx', sheet_name='Sheet2')\n",
    "list_hotel.info()"
   ]
  },
  {
   "cell_type": "code",
   "execution_count": 4,
   "metadata": {
    "ExecuteTime": {
     "end_time": "2023-05-24T22:54:28.342611Z",
     "start_time": "2023-05-24T22:54:28.327618Z"
    },
    "id": "Cobs6LkqsajP",
    "tags": []
   },
   "outputs": [],
   "source": [
    "logging.basicConfig()\n",
    "logging.getLogger().setLevel(logging.DEBUG)\n",
    "requests_log = logging.getLogger(\"requests.packages.urllib3\")\n",
    "requests_log.setLevel(logging.DEBUG)\n",
    "requests_log.propagate = True"
   ]
  },
  {
   "cell_type": "code",
   "execution_count": 6,
   "metadata": {
    "ExecuteTime": {
     "end_time": "2023-05-24T22:54:45.334254Z",
     "start_time": "2023-05-24T22:54:45.319296Z"
    },
    "colab": {
     "base_uri": "https://localhost:8080/"
    },
    "executionInfo": {
     "elapsed": 820969,
     "status": "ok",
     "timestamp": 1682988686775,
     "user": {
      "displayName": "Prentino Barus",
      "userId": "03956176104375021641"
     },
     "user_tz": -420
    },
    "id": "DZJwf3R5wQxs",
    "outputId": "18bd06bf-5d97-40d6-c933-250f589fab16",
    "scrolled": true,
    "tags": []
   },
   "outputs": [],
   "source": [
    "def hotelScraper():\n",
    "    for hotel in list_hotel.index:\n",
    "        hotel_name = list_hotel['hotel'][hotel]\n",
    "        hotel_url = list_hotel['hotel_link'][hotel]\n",
    "        filename = list_hotel['hotel_name'][hotel]\n",
    "        filepath = 'Dataset_1/' + filename + '.csv'\n",
    "\n",
    "        if os.path.exists(filepath):\n",
    "            continue\n",
    "        \n",
    "        \n",
    "        print(f\"Start Scrapping: {hotel_name}\")\n",
    "        \n",
    "        gathered_review = []\n",
    "        headers = {\"User-Agent\": \"Mozilla/5.0 (X11; CrOS x86_64 12871.102.0) AppleWebKit/537.36 (KHTML, like Gecko) Chrome/81.0.4044.141 Safari/537.36\"}\n",
    "        pages = 200\n",
    "        pages = (pages * 5) + 5\n",
    "        for i in range(5, pages, 5):\n",
    "            new_url = re.sub('or5', 'or'+str(i), str(hotel_url))\n",
    "            url = requests.get(new_url, headers=headers)\n",
    "\n",
    "            soup = BeautifulSoup(url.text, 'lxml')\n",
    "            reviews = soup.find_all('div', class_= 'YibKl MC R2 Gi z Z BB pBbQr')\n",
    "            \n",
    "            if reviews:\n",
    "                for review in reviews:\n",
    "                    user_text = review.find('span', class_= 'QewHA H4 _a').text\n",
    "                    user_rating = review.find('span', class_= 'ui_bubble_rating')['class'][1][7]\n",
    "                    gathered_review.append([hotel_name, user_text, user_rating])\n",
    "\n",
    "                #Pages Processed\n",
    "                cpages = int(i/5)\n",
    "                print(f\"Done Scrapping {hotel_name} page {cpages}\")\n",
    "                print('\\n')\n",
    "                time.sleep(3)\n",
    "\n",
    "                # Make csv file\n",
    "                df = pd.DataFrame(gathered_review, columns=['hotel', 'review', 'stars'])\n",
    "                df.to_csv('Dataset_1/'+filename+'.csv')\n",
    "            else:\n",
    "                if os.path.exists(filepath):\n",
    "                    break\n",
    "                else:\n",
    "                    hotelScraper()\n",
    "    \n",
    "        "
   ]
  },
  {
   "cell_type": "code",
   "execution_count": null,
   "metadata": {
    "ExecuteTime": {
     "start_time": "2023-05-24T22:54:46.122Z"
    },
    "scrolled": true
   },
   "outputs": [
    {
     "name": "stderr",
     "output_type": "stream",
     "text": [
      "DEBUG:urllib3.connectionpool:Starting new HTTPS connection (1): www.tripadvisor.co.id:443\n"
     ]
    },
    {
     "name": "stdout",
     "output_type": "stream",
     "text": [
      "Start Scrapping: Melati Cottages\n",
      "send: b'GET /Hotel_Review-g297701-d633802-Reviews-or5-Melati_Cottages-Ubud_Gianyar_Regency_Bali.html HTTP/1.1\\r\\nHost: www.tripadvisor.co.id\\r\\nUser-Agent: Mozilla/5.0 (X11; CrOS x86_64 12871.102.0) AppleWebKit/537.36 (KHTML, like Gecko) Chrome/81.0.4044.141 Safari/537.36\\r\\nAccept-Encoding: gzip, deflate\\r\\nAccept: */*\\r\\nConnection: keep-alive\\r\\n\\r\\n'\n"
     ]
    },
    {
     "name": "stderr",
     "output_type": "stream",
     "text": [
      "DEBUG:urllib3.connectionpool:https://www.tripadvisor.co.id:443 \"GET /Hotel_Review-g297701-d633802-Reviews-or5-Melati_Cottages-Ubud_Gianyar_Regency_Bali.html HTTP/1.1\" 200 None\n"
     ]
    },
    {
     "name": "stdout",
     "output_type": "stream",
     "text": [
      "reply: 'HTTP/1.1 200 OK\\r\\n'\n",
      "header: Server: envoy\n",
      "header: Link: <https://media-cdn.tripadvisor.com/media/>;rel=\"preconnect\";crossorigin\n",
      "header: Link: <https://media-cdn.tripadvisor.com/media/>;rel=\"dns-prefetch\"\n",
      "header: p3p: CP=\"NOI CURa ADMa DEVa TAIa OUR BUS IND UNI COM NAV INT DSP COR CAO PSA IDC ADM DEVi TAIi PSD IVAi IVDi CONi HIS CNT\"\n",
      "header: Pragma: no-cache\n",
      "header: Cache-Control: no-cache, no-store, must-revalidate\n",
      "header: Expires: 0\n",
      "header: Content-Language: id\n",
      "header: Link: <https://static.tacdn.com>;rel=\"dns-prefetch\"\n",
      "header: Link: <https://static.tacdn.com>;rel=\"preconnect\";crossorigin\n",
      "header: timing-allow-origin: https://www.tripadvisor.com\n",
      "header: Vary: Accept-Encoding\n",
      "header: Content-Type: text/html;charset=UTF-8\n",
      "header: x-datadome: protected\n",
      "header: Accept-CH: Sec-CH-UA,Sec-CH-UA-Mobile,Sec-CH-UA-Platform,Sec-CH-UA-Arch,Sec-CH-UA-Full-Version-List,Sec-CH-UA-Model,Sec-CH-Device-Memory\n",
      "header: Content-Encoding: gzip\n",
      "header: x-request-id: 03f8fba9-2697-492b-b24d-e56840106c26\n",
      "header: Date: Wed, 24 May 2023 22:54:48 GMT\n",
      "header: Transfer-Encoding: chunked\n",
      "header: Connection: keep-alive\n",
      "header: Connection: Transfer-Encoding\n",
      "header: Set-Cookie: TADCID=j9XsMNHLI_FCppdOABQCXdElnkGETRW-Svh01l3nWnW8Swa9Krp31ccC6X7EVFuq-yG4hQf7rxu6AzeQZTtGGRp2AHC3v8J07d8; Domain=www.tripadvisor.co.id; Expires=Sat, 21-May-2033 22:54:47 GMT; Path=/; Secure; HttpOnly\n",
      "header: Set-Cookie: TAUnique=%1%enc%3A7TlWNpsqMp%2BCNtgs%2BCN3NnGfQMMEYPnqXsknSYba0rF5IItGagUPfA%3D%3D; Domain=.tripadvisor.co.id; Expires=Fri, 23-May-2025 22:54:47 GMT; Path=/; HttpOnly\n",
      "header: Set-Cookie: TASSK=enc%3AAEMsHg6hnD7E%2BZf3NOV%2BlRVlMjJhy3dt%2BX9Frz6S1C0aG3KYxxRKPpfwqvA5FfLwsdYWB2%2FJ50czraDrv%2BrCTi%2Fj6vUDMQfrFIksfHAjf9uziLN6%2FODKX8ctPKAwcIwQBA%3D%3D; Domain=www.tripadvisor.co.id; Expires=Mon, 20-Nov-2023 22:54:48 GMT; Path=/; HttpOnly\n",
      "header: Set-Cookie: TASession=V2ID.C9D61CF32B594616B72A3F9CCF28E053*SQ.1*HS.recommended*ES.popularity*DS.5*SAS.popularity*FPS.oldFirst*LF.in*FA.1*DF.0*TRA.true*LD.633802; Domain=.tripadvisor.co.id; Path=/\n",
      "header: Set-Cookie: ServerPool=A; Domain=.tripadvisor.co.id; Path=/\n",
      "header: Set-Cookie: PMC=V2*MS.17*MD.20230524*LD.20230524; Domain=www.tripadvisor.co.id; Expires=Fri, 23-May-2025 22:54:48 GMT; Path=/; Secure; HttpOnly\n",
      "header: Set-Cookie: TART=%1%enc%3AgjbYLPgjdzaxS15%2BRWc46pzs%2BinYeu0bMH%2BRG%2FflTe97Klb3iabwmPr8CaHGnq56M%2FgCNnxa6O8%3D; Domain=www.tripadvisor.co.id; Expires=Mon, 29-May-2023 22:54:48 GMT; Path=/; HttpOnly\n",
      "header: Set-Cookie: CM=%1%PremiumMobSess%2C%2C-1%7Ct4b-pc%2C%2C-1%7CRestAds%2FRPers%2C%2C-1%7CRCPers%2C%2C-1%7CWShadeSeen%2C%2C-1%7CTheForkMCCPers%2C%2C-1%7CHomeASess%2C%2C-1%7CPremiumMCSess%2C%2C-1%7CCrisisSess%2C%2C-1%7CUVOwnersSess%2C%2C-1%7CRestPremRSess%2C%2C-1%7CRepTarMCSess%2C%2C-1%7CCCSess%2C%2C-1%7CCYLSess%2C%2C-1%7CPremRetPers%2C%2C-1%7CViatorMCPers%2C%2C-1%7Csesssticker%2C%2C-1%7C%24%2C%2C-1%7CPremiumORSess%2C%2C-1%7Ct4b-sc%2C%2C-1%7CRestAdsPers%2C%2C-1%7CMC_IB_UPSELL_IB_LOGOS2%2C%2C-1%7CTSMCPers%2C%2C-1%7Cb2bmcpers%2C%2C-1%7CPremMCBtmSess%2C%2C-1%7CMC_IB_UPSELL_IB_LOGOS%2C%2C-1%7CLaFourchette+Banners%2C%2C-1%7Csess_rev%2C%2C-1%7Csessamex%2C%2C-1%7CPremiumRRSess%2C%2C-1%7CTADORSess%2C%2C-1%7CAdsRetPers%2C%2C-1%7CListMCSess%2C%2C-1%7CTARSWBPers%2C%2C-1%7CSPMCSess%2C%2C-1%7CTheForkORSess%2C%2C-1%7CTheForkRRSess%2C%2C-1%7Cpers_rev%2C%2C-1%7CRBAPers%2C%2C-1%7CRestAds%2FRSess%2C%2C-1%7CHomeAPers%2C%2C-1%7CPremiumMobPers%2C%2C-1%7CRCSess%2C%2C-1%7CLaFourchette+MC+Banners%2C%2C-1%7CRestAdsCCSess%2C%2C-1%7CRestPremRPers%2C%2C-1%7CRevHubRMPers%2C%2C-1%7CUVOwnersPers%2C%2C-1%7Cpssamex%2C%2C-1%7CTheForkMCCSess%2C%2C-1%7CCrisisPers%2C%2C-1%7CCYLPers%2C%2C-1%7CCCPers%2C%2C-1%7CRepTarMCPers%2C%2C-1%7Cb2bmcsess%2C%2C-1%7CTSMCSess%2C%2C-1%7CSPMCPers%2C%2C-1%7CRevHubRMSess%2C%2C-1%7CPremRetSess%2C%2C-1%7CViatorMCSess%2C%2C-1%7CPremiumMCPers%2C%2C-1%7CAdsRetSess%2C%2C-1%7CPremiumRRPers%2C%2C-1%7CRestAdsCCPers%2C%2C-1%7CTADORPers%2C%2C-1%7CTheForkORPers%2C%2C-1%7CPremMCBtmPers%2C%2C-1%7CTheForkRRPers%2C%2C-1%7CTARSWBSess%2C%2C-1%7CPremiumORPers%2C%2C-1%7CRestAdsSess%2C%2C-1%7CRBASess%2C%2C-1%7CSPORPers%2C%2C-1%7Cperssticker%2C%2C-1%7CListMCPers%2C%2C-1%7C; Domain=.tripadvisor.co.id; Expires=Sat, 21-May-2033 22:54:48 GMT; Path=/\n",
      "header: Set-Cookie: BEPIN=%1%1884ff8d5c3%3Bweb788a.a.tripadvisor.com%3A30023%3B; Domain=.tripadvisor.co.id; Path=/\n",
      "header: Set-Cookie: PAC=AKgyYK7zLs15GWTG9CZ6nzMruAbhYDfF4kCGKA6WrEOvSOYHvB2AlBgp7HehMrsVNWv3O6WDtz7TLvddgMN7GD5AhrFBZWSUU4487gMmelH_Kw8XNxWgci_nsITr05w-o4FbMPAg84nxNz3mvxRiTptN988Vp22zOT8PSu2ari1nZbGHDyU66Sy02uoPhvf9ASawTnHtg5qdN1ssVZIUvkQ%3D; Domain=www.tripadvisor.co.id; Expires=Fri, 23-May-2025 22:54:48 GMT; Path=/; Secure; HttpOnly\n",
      "header: Set-Cookie: SRT=TART_SYNC; Domain=www.tripadvisor.co.id; Expires=Wed, 24-May-2023 23:24:48 GMT; Path=/\n",
      "header: Set-Cookie: TATravelInfo=V2*AY.2023*AM.6*AD.4*DY.2023*DM.6*DD.5*A.2*MG.-1*HP.2*FL.3*DSM.1684968887836*RS.1; Domain=.tripadvisor.co.id; Expires=Wed, 07-Jun-2023 22:54:48 GMT; Path=/\n",
      "header: Set-Cookie: TAUD=LG-1684968887711-2.1.F.*RDD-2-2023_05_25*HDD-3-2023_06_04.2023_06_05.1; Domain=.tripadvisor.co.id; Expires=Wed, 07-Jun-2023 22:54:48 GMT; Path=/\n",
      "header: Set-Cookie: TASID=C9D61CF32B594616B72A3F9CCF28E053; Domain=www.tripadvisor.co.id; Expires=Wed, 24-May-2023 23:24:48 GMT; Path=/; Secure\n",
      "header: Set-Cookie: TAReturnTo=%1%%2FHotel_Review-g297701-d633802-Reviews-or5-Melati_Cottages-Ubud_Gianyar_Regency_Bali.html; Domain=.tripadvisor.co.id; Path=/\n",
      "header: Set-Cookie: datadome=60Zxcq-ASRUOWSHGu8f1X~uZLJ_SaFXpUq0y3qSlbPLeRACY5GragSUAr8HSXI8lFUfOt9HpJD5LdjKsrAOxWilO_rYmSGo7Eam~mbq1EGyyoxCKejrg3HXPwZVIjpI0; Max-Age=31104000; Domain=.tripadvisor.co.id; Path=/; Secure; SameSite=Lax\n",
      "Done Scrapping Melati Cottages page 1\n",
      "\n",
      "\n"
     ]
    }
   ],
   "source": [
    "hotelScraper()"
   ]
  },
  {
   "cell_type": "code",
   "execution_count": 46,
   "metadata": {
    "ExecuteTime": {
     "end_time": "2023-05-24T21:30:10.268873Z",
     "start_time": "2023-05-24T21:30:10.259901Z"
    },
    "colab": {
     "base_uri": "https://localhost:8080/"
    },
    "executionInfo": {
     "elapsed": 9,
     "status": "ok",
     "timestamp": 1682988686776,
     "user": {
      "displayName": "Prentino Barus",
      "userId": "03956176104375021641"
     },
     "user_tz": -420
    },
    "id": "qt5L-N2O2tz4",
    "outputId": "7bff15ee-8b14-4c2d-e5b7-78ce5bd877d9",
    "scrolled": true
   },
   "outputs": [
    {
     "name": "stdout",
     "output_type": "stream",
     "text": [
      "All done.\n"
     ]
    }
   ],
   "source": [
    "print(\"All done.\")"
   ]
  },
  {
   "cell_type": "code",
   "execution_count": null,
   "metadata": {},
   "outputs": [],
   "source": []
  }
 ],
 "metadata": {
  "colab": {
   "authorship_tag": "ABX9TyOv9x4QZrku5vhfQSMhcBl6",
   "name": "",
   "version": ""
  },
  "kernelspec": {
   "display_name": "Python 3 (ipykernel)",
   "language": "python",
   "name": "python3"
  },
  "language_info": {
   "codemirror_mode": {
    "name": "ipython",
    "version": 3
   },
   "file_extension": ".py",
   "mimetype": "text/x-python",
   "name": "python",
   "nbconvert_exporter": "python",
   "pygments_lexer": "ipython3",
   "version": "3.7.16"
  }
 },
 "nbformat": 4,
 "nbformat_minor": 4
}
