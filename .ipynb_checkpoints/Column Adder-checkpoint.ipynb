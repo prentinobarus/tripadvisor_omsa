{
 "cells": [
  {
   "cell_type": "code",
   "execution_count": 81,
   "id": "8963572b",
   "metadata": {
    "ExecuteTime": {
     "end_time": "2023-05-21T21:51:35.696448Z",
     "start_time": "2023-05-21T21:51:35.688499Z"
    }
   },
   "outputs": [],
   "source": [
    "import pandas as pd\n",
    "import os\n",
    "import glob"
   ]
  },
  {
   "cell_type": "code",
   "execution_count": 83,
   "id": "600e05eb",
   "metadata": {
    "ExecuteTime": {
     "end_time": "2023-05-21T21:53:39.210465Z",
     "start_time": "2023-05-21T21:53:39.191634Z"
    }
   },
   "outputs": [],
   "source": [
    "path = os.getcwd() + '/Dataset_new/'"
   ]
  },
  {
   "cell_type": "code",
   "execution_count": 79,
   "id": "13409ae5",
   "metadata": {
    "ExecuteTime": {
     "end_time": "2023-05-21T21:50:41.658791Z",
     "start_time": "2023-05-21T21:50:41.650122Z"
    }
   },
   "outputs": [],
   "source": [
    "filename = 'udaya_resort.csv'\n",
    "hotelname = 'The Udaya Resort & Spa'"
   ]
  },
  {
   "cell_type": "code",
   "execution_count": 82,
   "id": "408a22b6",
   "metadata": {
    "ExecuteTime": {
     "end_time": "2023-05-21T21:53:17.835577Z",
     "start_time": "2023-05-21T21:53:17.637584Z"
    }
   },
   "outputs": [
    {
     "data": {
      "text/html": [
       "<div>\n",
       "<style scoped>\n",
       "    .dataframe tbody tr th:only-of-type {\n",
       "        vertical-align: middle;\n",
       "    }\n",
       "\n",
       "    .dataframe tbody tr th {\n",
       "        vertical-align: top;\n",
       "    }\n",
       "\n",
       "    .dataframe thead th {\n",
       "        text-align: right;\n",
       "    }\n",
       "</style>\n",
       "<table border=\"1\" class=\"dataframe\">\n",
       "  <thead>\n",
       "    <tr style=\"text-align: right;\">\n",
       "      <th></th>\n",
       "      <th>hotel</th>\n",
       "      <th>review</th>\n",
       "      <th>stars</th>\n",
       "    </tr>\n",
       "  </thead>\n",
       "  <tbody>\n",
       "    <tr>\n",
       "      <th>0</th>\n",
       "      <td>The Udaya Resort &amp; Spa</td>\n",
       "      <td>Stafnya sangat ramah, pegawainya semuanya mene...</td>\n",
       "      <td>5</td>\n",
       "    </tr>\n",
       "    <tr>\n",
       "      <th>1</th>\n",
       "      <td>The Udaya Resort &amp; Spa</td>\n",
       "      <td>Stafnya ramah, semua yg diminta segera disiapk...</td>\n",
       "      <td>5</td>\n",
       "    </tr>\n",
       "    <tr>\n",
       "      <th>2</th>\n",
       "      <td>The Udaya Resort &amp; Spa</td>\n",
       "      <td>Sangat mengesankan nginap di the udaya resort,...</td>\n",
       "      <td>5</td>\n",
       "    </tr>\n",
       "    <tr>\n",
       "      <th>3</th>\n",
       "      <td>The Udaya Resort &amp; Spa</td>\n",
       "      <td>Villa yang sangat luar biasa dari segi pelayan...</td>\n",
       "      <td>5</td>\n",
       "    </tr>\n",
       "    <tr>\n",
       "      <th>4</th>\n",
       "      <td>The Udaya Resort &amp; Spa</td>\n",
       "      <td>Kamar dan pelayanan sangat baik, cocok untuk p...</td>\n",
       "      <td>5</td>\n",
       "    </tr>\n",
       "    <tr>\n",
       "      <th>...</th>\n",
       "      <td>...</td>\n",
       "      <td>...</td>\n",
       "      <td>...</td>\n",
       "    </tr>\n",
       "    <tr>\n",
       "      <th>268</th>\n",
       "      <td>The Udaya Resort &amp; Spa</td>\n",
       "      <td>Villa pribadi yang menakjubkan dengan kolam re...</td>\n",
       "      <td>5</td>\n",
       "    </tr>\n",
       "    <tr>\n",
       "      <th>269</th>\n",
       "      <td>The Udaya Resort &amp; Spa</td>\n",
       "      <td>Hotel Terbaik di Bali untuk bulan madu Anda, c...</td>\n",
       "      <td>5</td>\n",
       "    </tr>\n",
       "    <tr>\n",
       "      <th>270</th>\n",
       "      <td>The Udaya Resort &amp; Spa</td>\n",
       "      <td>Udaya Resort and Spa adalah tempat yang cocok ...</td>\n",
       "      <td>4</td>\n",
       "    </tr>\n",
       "    <tr>\n",
       "      <th>271</th>\n",
       "      <td>The Udaya Resort &amp; Spa</td>\n",
       "      <td>Resort yang luar biasa dengan Layanan Premium ...</td>\n",
       "      <td>5</td>\n",
       "    </tr>\n",
       "    <tr>\n",
       "      <th>272</th>\n",
       "      <td>The Udaya Resort &amp; Spa</td>\n",
       "      <td>Ini adalah pertama kalinya saya datang ke Ubud...</td>\n",
       "      <td>5</td>\n",
       "    </tr>\n",
       "  </tbody>\n",
       "</table>\n",
       "<p>273 rows × 3 columns</p>\n",
       "</div>"
      ],
      "text/plain": [
       "                      hotel  \\\n",
       "0    The Udaya Resort & Spa   \n",
       "1    The Udaya Resort & Spa   \n",
       "2    The Udaya Resort & Spa   \n",
       "3    The Udaya Resort & Spa   \n",
       "4    The Udaya Resort & Spa   \n",
       "..                      ...   \n",
       "268  The Udaya Resort & Spa   \n",
       "269  The Udaya Resort & Spa   \n",
       "270  The Udaya Resort & Spa   \n",
       "271  The Udaya Resort & Spa   \n",
       "272  The Udaya Resort & Spa   \n",
       "\n",
       "                                                review  stars  \n",
       "0    Stafnya sangat ramah, pegawainya semuanya mene...      5  \n",
       "1    Stafnya ramah, semua yg diminta segera disiapk...      5  \n",
       "2    Sangat mengesankan nginap di the udaya resort,...      5  \n",
       "3    Villa yang sangat luar biasa dari segi pelayan...      5  \n",
       "4    Kamar dan pelayanan sangat baik, cocok untuk p...      5  \n",
       "..                                                 ...    ...  \n",
       "268  Villa pribadi yang menakjubkan dengan kolam re...      5  \n",
       "269  Hotel Terbaik di Bali untuk bulan madu Anda, c...      5  \n",
       "270  Udaya Resort and Spa adalah tempat yang cocok ...      4  \n",
       "271  Resort yang luar biasa dengan Layanan Premium ...      5  \n",
       "272  Ini adalah pertama kalinya saya datang ke Ubud...      5  \n",
       "\n",
       "[273 rows x 3 columns]"
      ]
     },
     "execution_count": 82,
     "metadata": {},
     "output_type": "execute_result"
    }
   ],
   "source": [
    "df = pd.read_csv(path+filename)\n",
    "df = df.drop(columns='Unnamed: 0')\n",
    "df.insert(loc=0, column='hotel', value=hotelname)\n",
    "df.to_csv('Dataset_new/'+filename)\n",
    "df"
   ]
  },
  {
   "cell_type": "code",
   "execution_count": 84,
   "id": "2507fc0e",
   "metadata": {
    "ExecuteTime": {
     "end_time": "2023-05-21T21:53:42.780213Z",
     "start_time": "2023-05-21T21:53:42.214420Z"
    }
   },
   "outputs": [],
   "source": [
    "# Combine\n",
    "\n",
    "hotel_csv = os.path.join(path, '*.csv')\n",
    "joined_review = glob.glob(hotel_csv)\n",
    "\n",
    "hotel_df = pd.concat(map(pd.read_csv, joined_review), ignore_index=True)"
   ]
  },
  {
   "cell_type": "code",
   "execution_count": 86,
   "id": "dd527cde",
   "metadata": {
    "ExecuteTime": {
     "end_time": "2023-05-21T21:54:48.713962Z",
     "start_time": "2023-05-21T21:54:47.571802Z"
    }
   },
   "outputs": [],
   "source": [
    "stemed = pd.read_csv('stemmed_review.csv')"
   ]
  },
  {
   "cell_type": "code",
   "execution_count": null,
   "id": "8319b0dd",
   "metadata": {},
   "outputs": [],
   "source": []
  }
 ],
 "metadata": {
  "kernelspec": {
   "display_name": "Python 3 (ipykernel)",
   "language": "python",
   "name": "python3"
  },
  "language_info": {
   "codemirror_mode": {
    "name": "ipython",
    "version": 3
   },
   "file_extension": ".py",
   "mimetype": "text/x-python",
   "name": "python",
   "nbconvert_exporter": "python",
   "pygments_lexer": "ipython3",
   "version": "3.7.16"
  }
 },
 "nbformat": 4,
 "nbformat_minor": 5
}
