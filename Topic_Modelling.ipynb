{
 "cells": [
  {
   "cell_type": "markdown",
   "metadata": {
    "id": "mLuE50dbTxn4"
   },
   "source": [
    "# **Knowledge Based Topic Retrieval for Recommendations and Tourism Promotions**\n",
    "\n",
    "Technical Steps\n",
    "1. Get data from Tripadvisor✅\n",
    "2. Preparing Environment✅\n",
    "3. Data pre-processing✅\n",
    "<ul>\n",
    "  <li>Case Folding✅</li>\n",
    "  <li>Tokenization✅</li>\n",
    "  <li>Remove Slang✅</li>\n",
    "  <li>Stem✅</li>\n",
    "  <li>Stopword Removal✅</li>\n",
    "  <li>Rejoin✅</li>\n",
    "</ul>\n",
    "4. Feature Engineering\n",
    "<ul>\n",
    "  <li>Vectorization✅</li>\n",
    "  <li>Normalization Using MinMaxScaler✅</li>\n",
    "  <li>Balancing with SMOTE✅</li>\n",
    "</ul>\n",
    "5. Review Stars Classification\n",
    "<ul>\n",
    "  <li>Random Forest✅</li>\n",
    "  <li>Decision Tree✅</li>\n",
    "  <li>Logistic Regression✅</li>\n",
    "  <li>K-NN</li>\n",
    "  <li>Support Vector Machine✅</li>\n",
    "</ul>\n",
    "6. Clustering and Elbow Method\n",
    "7. Modeling with LDA, NMF, K-Means Clustering"
   ]
  },
  {
   "cell_type": "markdown",
   "metadata": {
    "id": "AXaUFLSgdGbX"
   },
   "source": [
    "## 1. Get Data from Tripadvisor\n",
    "\n",
    "Data gathered by using Webscapper.io from top 30 Hotel in Tripadvisor"
   ]
  },
  {
   "cell_type": "markdown",
   "metadata": {
    "id": "rYH0CbMfZOtg"
   },
   "source": [
    "## 2. Preparing Environment\n",
    "\n",
    "\n"
   ]
  },
  {
   "cell_type": "code",
   "execution_count": null,
   "metadata": {
    "colab": {
     "base_uri": "https://localhost:8080/"
    },
    "executionInfo": {
     "elapsed": 3904,
     "status": "ok",
     "timestamp": 1682993651127,
     "user": {
      "displayName": "Prentino Barus",
      "userId": "03956176104375021641"
     },
     "user_tz": -420
    },
    "id": "yaYVV11wTrXr",
    "outputId": "64ee0071-b79c-4944-ef03-9ffcd08ddad8"
   },
   "outputs": [],
   "source": [
    "# 2.1. Mount Google Drive and default dataset path\n",
    "from google.colab import drive\n",
    "drive.mount('/content/drive')\n",
    "\n",
    "path = '/content/drive/My Drive/Python/Dataset/'"
   ]
  },
  {
   "cell_type": "code",
   "execution_count": null,
   "metadata": {
    "colab": {
     "base_uri": "https://localhost:8080/"
    },
    "executionInfo": {
     "elapsed": 7596,
     "status": "ok",
     "timestamp": 1682993658718,
     "user": {
      "displayName": "Prentino Barus",
      "userId": "03956176104375021641"
     },
     "user_tz": -420
    },
    "id": "p8qHklCOZuM2",
    "outputId": "d6a8a85a-5da0-4f01-fc1b-e0c996c774c6",
    "scrolled": false
   },
   "outputs": [],
   "source": [
    "# 2.2. Install Sastrawi\n",
    "!pip install Sastrawi\n",
    "!pip install pandas\n",
    "!pip install numpy\n",
    "!pip install matplotlib\n",
    "!pip install nltk\n",
    "!pip install glob\n",
    "!pip install os\n",
    "!pip install sys\n",
    "!pip install wordcloud\n",
    "!pip install --upgrade pillow\n",
    "!pip install sklearn\n",
    "!pip install imblearn"
   ]
  },
  {
   "cell_type": "code",
   "execution_count": 2,
   "metadata": {
    "ExecuteTime": {
     "end_time": "2023-05-16T17:47:41.413169Z",
     "start_time": "2023-05-16T17:47:38.017297Z"
    },
    "colab": {
     "base_uri": "https://localhost:8080/"
    },
    "executionInfo": {
     "elapsed": 2947,
     "status": "ok",
     "timestamp": 1682993661659,
     "user": {
      "displayName": "Prentino Barus",
      "userId": "03956176104375021641"
     },
     "user_tz": -420
    },
    "id": "QgxFqXCzaPVg",
    "outputId": "08739239-0e8e-45cb-ff6e-3f051e914009"
   },
   "outputs": [
    {
     "name": "stderr",
     "output_type": "stream",
     "text": [
      "[nltk_data] Downloading package punkt to\n",
      "[nltk_data]     C:\\Users\\tinob\\AppData\\Roaming\\nltk_data...\n",
      "[nltk_data]   Package punkt is already up-to-date!\n",
      "[nltk_data] Downloading package stopwords to\n",
      "[nltk_data]     C:\\Users\\tinob\\AppData\\Roaming\\nltk_data...\n",
      "[nltk_data]   Package stopwords is already up-to-date!\n"
     ]
    }
   ],
   "source": [
    "# 2.3. Import Installed Library\n",
    "import time\n",
    "import pandas as pd\n",
    "import numpy as np\n",
    "import matplotlib.pyplot as plt\n",
    "import re\n",
    "import nltk\n",
    "import glob\n",
    "import os\n",
    "import sys\n",
    "from ast import literal_eval\n",
    "from nltk.tokenize import RegexpTokenizer\n",
    "from nltk.corpus import stopwords\n",
    "nltk.download('punkt')\n",
    "nltk.download('stopwords')\n",
    "\n",
    "from Sastrawi.StopWordRemover.StopWordRemoverFactory import StopWordRemoverFactory\n",
    "from Sastrawi.Stemmer.StemmerFactory import StemmerFactory\n",
    "\n",
    "import wordcloud\n",
    "from wordcloud import WordCloud"
   ]
  },
  {
   "cell_type": "code",
   "execution_count": null,
   "metadata": {},
   "outputs": [],
   "source": [
    "path = os.getcwd()+'/Dataset/'"
   ]
  },
  {
   "cell_type": "code",
   "execution_count": null,
   "metadata": {
    "executionInfo": {
     "elapsed": 909,
     "status": "ok",
     "timestamp": 1682993662563,
     "user": {
      "displayName": "Prentino Barus",
      "userId": "03956176104375021641"
     },
     "user_tz": -420
    },
    "id": "xZNYsNGwbgLH"
   },
   "outputs": [],
   "source": [
    "# 2.4. Import Data\n",
    "slang_df = pd.read_csv('https://raw.githubusercontent.com/nasalsabila/kamus-alay/master/colloquial-indonesian-lexicon.csv')\n",
    "\n",
    "\n",
    "# Combine All Hotel CSV from Google Drive 'Dataset' folder\n",
    "hotel_csv = os.path.join(path, '*.csv')\n",
    "joined_review = glob.glob(hotel_csv)\n",
    "\n",
    "hotel_df = pd.concat(map(pd.read_csv, joined_review), ignore_index=True)"
   ]
  },
  {
   "cell_type": "code",
   "execution_count": null,
   "metadata": {
    "colab": {
     "base_uri": "https://localhost:8080/"
    },
    "executionInfo": {
     "elapsed": 532,
     "status": "ok",
     "timestamp": 1682994000072,
     "user": {
      "displayName": "Prentino Barus",
      "userId": "03956176104375021641"
     },
     "user_tz": -420
    },
    "id": "B8ZM8gmxFUUV",
    "outputId": "77a94880-555c-4a86-e219-7b8e02da40d1"
   },
   "outputs": [],
   "source": [
    "hotel_df.info()"
   ]
  },
  {
   "cell_type": "code",
   "execution_count": null,
   "metadata": {
    "executionInfo": {
     "elapsed": 604,
     "status": "ok",
     "timestamp": 1682994003133,
     "user": {
      "displayName": "Prentino Barus",
      "userId": "03956176104375021641"
     },
     "user_tz": -420
    },
    "id": "xS0B_X3ma1sa"
   },
   "outputs": [],
   "source": [
    "# Drop Unnecessary Column\n",
    "hotel_df = hotel_df.drop(hotel_df.columns[0], axis = 1)"
   ]
  },
  {
   "cell_type": "code",
   "execution_count": null,
   "metadata": {
    "colab": {
     "background_save": true,
     "base_uri": "https://localhost:8080/",
     "height": 206
    },
    "executionInfo": {
     "elapsed": 9,
     "status": "ok",
     "timestamp": 1682994004776,
     "user": {
      "displayName": "Prentino Barus",
      "userId": "03956176104375021641"
     },
     "user_tz": -420
    },
    "id": "LtVEd6B0JD_d"
   },
   "outputs": [],
   "source": [
    "hotel_df.head()"
   ]
  },
  {
   "cell_type": "code",
   "execution_count": null,
   "metadata": {},
   "outputs": [],
   "source": [
    "slang_df.head()"
   ]
  },
  {
   "cell_type": "markdown",
   "metadata": {
    "id": "ORR8Exl4cO7Y"
   },
   "source": [
    "## 3. Data Preprocessing"
   ]
  },
  {
   "cell_type": "code",
   "execution_count": null,
   "metadata": {
    "executionInfo": {
     "elapsed": 476,
     "status": "ok",
     "timestamp": 1682995614121,
     "user": {
      "displayName": "Prentino Barus",
      "userId": "03956176104375021641"
     },
     "user_tz": -420
    },
    "id": "xhejBMCpcfvP"
   },
   "outputs": [],
   "source": [
    "# 3.1. Case Folding\n",
    "hotel_df['review'] = hotel_df['review'].str.lower()"
   ]
  },
  {
   "cell_type": "code",
   "execution_count": null,
   "metadata": {
    "executionInfo": {
     "elapsed": 1196,
     "status": "ok",
     "timestamp": 1682995775973,
     "user": {
      "displayName": "Prentino Barus",
      "userId": "03956176104375021641"
     },
     "user_tz": -420
    },
    "id": "VXx4YKGncHHC"
   },
   "outputs": [],
   "source": [
    "# 3.2. Tokenization\n",
    "def tokenizeWords(s, remove_punctuation=True):\n",
    "  if remove_punctuation == True:\n",
    "    tokenizer = RegexpTokenizer('\\w+|\\$[\\d\\.]+|S+')\n",
    "    clean_words = tokenizer.tokenize(s)\n",
    "  else:\n",
    "    clean_words = nltk.word_tokenize(s)\n",
    "  return clean_words\n",
    "\n",
    "hotel_df['tokenized'] = hotel_df['review'].apply(tokenizeWords)\n",
    "tokenized = pd.DataFrame({'review' : hotel_df['review'], 'tokenized' : hotel_df['review'].apply(tokenizeWords)})"
   ]
  },
  {
   "cell_type": "code",
   "execution_count": null,
   "metadata": {
    "colab": {
     "background_save": true
    },
    "executionInfo": {
     "elapsed": 646,
     "status": "ok",
     "timestamp": 1682995326085,
     "user": {
      "displayName": "Prentino Barus",
      "userId": "03956176104375021641"
     },
     "user_tz": -420
    },
    "id": "HlBIvg4Kc3iH"
   },
   "outputs": [],
   "source": [
    "# 3.3. Remove Slang\n",
    "# Remove trailing whitespace\n",
    "slang_df['slang'] = slang_df['slang'].apply(lambda x:x.strip())\n",
    "slang_df['formal'] = slang_df['formal'].apply(lambda x:x.strip())"
   ]
  },
  {
   "cell_type": "code",
   "execution_count": null,
   "metadata": {
    "colab": {
     "background_save": true,
     "base_uri": "https://localhost:8080/",
     "height": 345
    },
    "executionInfo": {
     "elapsed": 3093,
     "status": "error",
     "timestamp": 1682995350175,
     "user": {
      "displayName": "Prentino Barus",
      "userId": "03956176104375021641"
     },
     "user_tz": -420
    },
    "id": "CHcjWMAeRVtz"
   },
   "outputs": [],
   "source": [
    "# Transform into key value pairs in a dict\n",
    "slang_dict = {}\n",
    "for idx, row in slang_df.iterrows():\n",
    "  slang_dict.update({row['slang']: row['formal']})\n",
    "\n",
    "def replaceSlang(tokens):\n",
    "  for i, word in enumerate(tokens):\n",
    "    try:\n",
    "      tokens[i] = slang_dict[word]\n",
    "    except:\n",
    "      KeyError\n",
    "  return tokens\n",
    "\n",
    "no_slang = pd.DataFrame({'review' : hotel_df['review'], 'no_slang' : tokenized['tokenized'].apply(replaceSlang)})\n",
    "hotel_df = pd.merge(hotel_df, no_slang, on='review')"
   ]
  },
  {
   "cell_type": "code",
   "execution_count": null,
   "metadata": {},
   "outputs": [],
   "source": [
    "hotel_df.head(20)"
   ]
  },
  {
   "cell_type": "code",
   "execution_count": null,
   "metadata": {
    "id": "o5kyDwgcKuc7"
   },
   "outputs": [],
   "source": [
    "# 3.4. Stem\n",
    "def stemWords(tokens):\n",
    "    factory = StemmerFactory()\n",
    "    stemmer = factory.create_stemmer()\n",
    "    \n",
    "    return [stemmer.stem(t) for t in tokens]\n",
    "\n",
    "hotel_df['stemmed'] = hotel_df['no_slang'].apply(stemWords)"
   ]
  },
  {
   "cell_type": "markdown",
   "metadata": {},
   "source": [
    "**Proses Stem memakan waktu yang sangat lama. Untuk memangkas waktu, peneliti sudah membuat dataset dimana proses stem telah selesai.**"
   ]
  },
  {
   "cell_type": "code",
   "execution_count": 8,
   "metadata": {
    "ExecuteTime": {
     "end_time": "2023-05-16T17:47:51.384107Z",
     "start_time": "2023-05-16T17:47:50.514285Z"
    }
   },
   "outputs": [
    {
     "name": "stdout",
     "output_type": "stream",
     "text": [
      "<class 'pandas.core.frame.DataFrame'>\n",
      "RangeIndex: 21683 entries, 0 to 21682\n",
      "Data columns (total 5 columns):\n",
      " #   Column     Non-Null Count  Dtype \n",
      "---  ------     --------------  ----- \n",
      " 0   review     21683 non-null  object\n",
      " 1   stars      21683 non-null  int64 \n",
      " 2   tokenized  21683 non-null  object\n",
      " 3   no_slang   21683 non-null  object\n",
      " 4   stemmed    21683 non-null  object\n",
      "dtypes: int64(1), object(4)\n",
      "memory usage: 847.1+ KB\n"
     ]
    }
   ],
   "source": [
    "hotel_df = pd.read_csv('stemmed_review.csv')\n",
    "hotel_df = hotel_df.drop(hotel_df.columns[0], axis = 1)\n",
    "hotel_df.info()"
   ]
  },
  {
   "cell_type": "code",
   "execution_count": 9,
   "metadata": {
    "ExecuteTime": {
     "end_time": "2023-05-16T17:47:51.415047Z",
     "start_time": "2023-05-16T17:47:51.387098Z"
    }
   },
   "outputs": [
    {
     "data": {
      "text/html": [
       "<div>\n",
       "<style scoped>\n",
       "    .dataframe tbody tr th:only-of-type {\n",
       "        vertical-align: middle;\n",
       "    }\n",
       "\n",
       "    .dataframe tbody tr th {\n",
       "        vertical-align: top;\n",
       "    }\n",
       "\n",
       "    .dataframe thead th {\n",
       "        text-align: right;\n",
       "    }\n",
       "</style>\n",
       "<table border=\"1\" class=\"dataframe\">\n",
       "  <thead>\n",
       "    <tr style=\"text-align: right;\">\n",
       "      <th></th>\n",
       "      <th>review</th>\n",
       "      <th>stars</th>\n",
       "      <th>tokenized</th>\n",
       "      <th>no_slang</th>\n",
       "      <th>stemmed</th>\n",
       "    </tr>\n",
       "  </thead>\n",
       "  <tbody>\n",
       "    <tr>\n",
       "      <th>0</th>\n",
       "      <td>liburan keluarga yg nyaman, kolam renang yg ba...</td>\n",
       "      <td>5</td>\n",
       "      <td>['liburan', 'keluarga', 'yg', 'nyaman', 'kolam...</td>\n",
       "      <td>['liburan', 'keluarga', 'yang', 'nyaman', 'kol...</td>\n",
       "      <td>['libur', 'keluarga', 'yang', 'nyaman', 'kolam...</td>\n",
       "    </tr>\n",
       "    <tr>\n",
       "      <th>1</th>\n",
       "      <td>hotelnya bagus banget dan pelayanannya sangat ...</td>\n",
       "      <td>5</td>\n",
       "      <td>['hotelnya', 'bagus', 'banget', 'dan', 'pelaya...</td>\n",
       "      <td>['hotelnya', 'bagus', 'banget', 'dan', 'pelaya...</td>\n",
       "      <td>['hotel', 'bagus', 'banget', 'dan', 'layan', '...</td>\n",
       "    </tr>\n",
       "    <tr>\n",
       "      <th>2</th>\n",
       "      <td>saya menginap di adiwana bisma bersama pasanga...</td>\n",
       "      <td>5</td>\n",
       "      <td>['saya', 'menginap', 'di', 'adiwana', 'bisma',...</td>\n",
       "      <td>['saya', 'menginap', 'di', 'adiwana', 'bisma',...</td>\n",
       "      <td>['saya', 'inap', 'di', 'adiwana', 'bisma', 'sa...</td>\n",
       "    </tr>\n",
       "    <tr>\n",
       "      <th>3</th>\n",
       "      <td>hotelnya bagus banget, bersih dan lengkap fasi...</td>\n",
       "      <td>5</td>\n",
       "      <td>['hotelnya', 'bagus', 'banget', 'bersih', 'dan...</td>\n",
       "      <td>['hotelnya', 'bagus', 'banget', 'bersih', 'dan...</td>\n",
       "      <td>['hotel', 'bagus', 'banget', 'bersih', 'dan', ...</td>\n",
       "    </tr>\n",
       "    <tr>\n",
       "      <th>4</th>\n",
       "      <td>weekend di adiwana bisma stay selama two night...</td>\n",
       "      <td>5</td>\n",
       "      <td>['weekend', 'di', 'adiwana', 'bisma', 'stay', ...</td>\n",
       "      <td>['weekend', 'di', 'adiwana', 'bisma', 'stay', ...</td>\n",
       "      <td>['weekend', 'di', 'adiwana', 'bisma', 'stay', ...</td>\n",
       "    </tr>\n",
       "    <tr>\n",
       "      <th>5</th>\n",
       "      <td>stay one night bareng keluarga sangat menyenan...</td>\n",
       "      <td>5</td>\n",
       "      <td>['stay', 'one', 'night', 'bareng', 'keluarga',...</td>\n",
       "      <td>['stay', 'one', 'night', 'bareng', 'keluarga',...</td>\n",
       "      <td>['stay', 'one', 'night', 'bareng', 'keluarga',...</td>\n",
       "    </tr>\n",
       "    <tr>\n",
       "      <th>6</th>\n",
       "      <td>daycation di adiwana bisma sangat menyenangkan...</td>\n",
       "      <td>5</td>\n",
       "      <td>['daycation', 'di', 'adiwana', 'bisma', 'sanga...</td>\n",
       "      <td>['daycation', 'di', 'adiwana', 'bisma', 'sanga...</td>\n",
       "      <td>['daycation', 'di', 'adiwana', 'bisma', 'sanga...</td>\n",
       "    </tr>\n",
       "    <tr>\n",
       "      <th>7</th>\n",
       "      <td>hotelnya masih terbilang baru, ada restaurantn...</td>\n",
       "      <td>5</td>\n",
       "      <td>['hotelnya', 'masih', 'terbilang', 'baru', 'ad...</td>\n",
       "      <td>['hotelnya', 'masih', 'terbilang', 'baru', 'ad...</td>\n",
       "      <td>['hotel', 'masih', 'bilang', 'baru', 'ada', 'r...</td>\n",
       "    </tr>\n",
       "    <tr>\n",
       "      <th>8</th>\n",
       "      <td>thank you so much buat pelayanan yang ramah da...</td>\n",
       "      <td>5</td>\n",
       "      <td>['thank', 'you', 'so', 'much', 'buat', 'pelaya...</td>\n",
       "      <td>['thank', 'you', 'sok', 'much', 'buat', 'pelay...</td>\n",
       "      <td>['thank', 'you', 'sok', 'much', 'buat', 'layan...</td>\n",
       "    </tr>\n",
       "    <tr>\n",
       "      <th>9</th>\n",
       "      <td>kamar hotel yang besar, bersih dan mewah, ling...</td>\n",
       "      <td>5</td>\n",
       "      <td>['kamar', 'hotel', 'yang', 'besar', 'bersih', ...</td>\n",
       "      <td>['kamar', 'hotel', 'yang', 'besar', 'bersih', ...</td>\n",
       "      <td>['kamar', 'hotel', 'yang', 'besar', 'bersih', ...</td>\n",
       "    </tr>\n",
       "  </tbody>\n",
       "</table>\n",
       "</div>"
      ],
      "text/plain": [
       "                                              review  stars  \\\n",
       "0  liburan keluarga yg nyaman, kolam renang yg ba...      5   \n",
       "1  hotelnya bagus banget dan pelayanannya sangat ...      5   \n",
       "2  saya menginap di adiwana bisma bersama pasanga...      5   \n",
       "3  hotelnya bagus banget, bersih dan lengkap fasi...      5   \n",
       "4  weekend di adiwana bisma stay selama two night...      5   \n",
       "5  stay one night bareng keluarga sangat menyenan...      5   \n",
       "6  daycation di adiwana bisma sangat menyenangkan...      5   \n",
       "7  hotelnya masih terbilang baru, ada restaurantn...      5   \n",
       "8  thank you so much buat pelayanan yang ramah da...      5   \n",
       "9  kamar hotel yang besar, bersih dan mewah, ling...      5   \n",
       "\n",
       "                                           tokenized  \\\n",
       "0  ['liburan', 'keluarga', 'yg', 'nyaman', 'kolam...   \n",
       "1  ['hotelnya', 'bagus', 'banget', 'dan', 'pelaya...   \n",
       "2  ['saya', 'menginap', 'di', 'adiwana', 'bisma',...   \n",
       "3  ['hotelnya', 'bagus', 'banget', 'bersih', 'dan...   \n",
       "4  ['weekend', 'di', 'adiwana', 'bisma', 'stay', ...   \n",
       "5  ['stay', 'one', 'night', 'bareng', 'keluarga',...   \n",
       "6  ['daycation', 'di', 'adiwana', 'bisma', 'sanga...   \n",
       "7  ['hotelnya', 'masih', 'terbilang', 'baru', 'ad...   \n",
       "8  ['thank', 'you', 'so', 'much', 'buat', 'pelaya...   \n",
       "9  ['kamar', 'hotel', 'yang', 'besar', 'bersih', ...   \n",
       "\n",
       "                                            no_slang  \\\n",
       "0  ['liburan', 'keluarga', 'yang', 'nyaman', 'kol...   \n",
       "1  ['hotelnya', 'bagus', 'banget', 'dan', 'pelaya...   \n",
       "2  ['saya', 'menginap', 'di', 'adiwana', 'bisma',...   \n",
       "3  ['hotelnya', 'bagus', 'banget', 'bersih', 'dan...   \n",
       "4  ['weekend', 'di', 'adiwana', 'bisma', 'stay', ...   \n",
       "5  ['stay', 'one', 'night', 'bareng', 'keluarga',...   \n",
       "6  ['daycation', 'di', 'adiwana', 'bisma', 'sanga...   \n",
       "7  ['hotelnya', 'masih', 'terbilang', 'baru', 'ad...   \n",
       "8  ['thank', 'you', 'sok', 'much', 'buat', 'pelay...   \n",
       "9  ['kamar', 'hotel', 'yang', 'besar', 'bersih', ...   \n",
       "\n",
       "                                             stemmed  \n",
       "0  ['libur', 'keluarga', 'yang', 'nyaman', 'kolam...  \n",
       "1  ['hotel', 'bagus', 'banget', 'dan', 'layan', '...  \n",
       "2  ['saya', 'inap', 'di', 'adiwana', 'bisma', 'sa...  \n",
       "3  ['hotel', 'bagus', 'banget', 'bersih', 'dan', ...  \n",
       "4  ['weekend', 'di', 'adiwana', 'bisma', 'stay', ...  \n",
       "5  ['stay', 'one', 'night', 'bareng', 'keluarga',...  \n",
       "6  ['daycation', 'di', 'adiwana', 'bisma', 'sanga...  \n",
       "7  ['hotel', 'masih', 'bilang', 'baru', 'ada', 'r...  \n",
       "8  ['thank', 'you', 'sok', 'much', 'buat', 'layan...  \n",
       "9  ['kamar', 'hotel', 'yang', 'besar', 'bersih', ...  "
      ]
     },
     "execution_count": 9,
     "metadata": {},
     "output_type": "execute_result"
    }
   ],
   "source": [
    "hotel_df.head(10)"
   ]
  },
  {
   "cell_type": "code",
   "execution_count": 10,
   "metadata": {
    "ExecuteTime": {
     "end_time": "2023-05-16T17:47:54.682691Z",
     "start_time": "2023-05-16T17:47:51.418040Z"
    }
   },
   "outputs": [],
   "source": [
    "# Fixing 'stemmed' column structure after converting to CSV file\n",
    "hotel_df['stemmed'] = hotel_df['stemmed'].apply(literal_eval)"
   ]
  },
  {
   "cell_type": "code",
   "execution_count": 11,
   "metadata": {
    "ExecuteTime": {
     "end_time": "2023-05-16T17:47:54.714005Z",
     "start_time": "2023-05-16T17:47:54.686504Z"
    },
    "id": "x7Vgf_wAKwxi"
   },
   "outputs": [],
   "source": [
    "# 3.5. Stopword Removal\n",
    "nltk_lib = stopwords.words('indonesian')\n",
    "\n",
    "# Additional words from GitHub for NLTK Stopwords \n",
    "add_words = open('add_stopwords.txt', 'r')\n",
    "data = add_words.read()\n",
    "list_add_words = data.split('\\n')\n",
    "add_words.close()\n",
    "\n",
    "custom_words = [\n",
    "    'hotel',\n",
    "    'resort',\n",
    "    'hotel',\n",
    "    'inap',\n",
    "    'stay',\n",
    "    'villa',\n",
    "    'resor',\n",
    "    'banget',\n",
    "    'night',\n",
    "    'bal',\n",
    "    'n',\n",
    "    'ju',\n",
    "    'two',\n",
    "    'libur',\n",
    "    'staff',\n",
    "    'staf',\n",
    "    'dtype',\n",
    "    'Name',\n",
    "    'object',\n",
    "    'Length',\n",
    "    'bagus',\n",
    "    'udaya',\n",
    "    'nya',\n",
    "    'final',\n",
    "    'nginep',\n",
    "    'kalo',\n",
    "    'mulaidari',\n",
    "    'istri'\n",
    "    \n",
    "]\n",
    "\n",
    "stops = nltk_lib + list_add_words + custom_words"
   ]
  },
  {
   "cell_type": "code",
   "execution_count": 12,
   "metadata": {
    "ExecuteTime": {
     "end_time": "2023-05-16T17:47:54.822176Z",
     "start_time": "2023-05-16T17:47:54.719900Z"
    }
   },
   "outputs": [],
   "source": [
    "def removeStopWords(tokens):\n",
    "    return [t for t in tokens if t not in stops]"
   ]
  },
  {
   "cell_type": "code",
   "execution_count": 13,
   "metadata": {
    "ExecuteTime": {
     "end_time": "2023-05-16T17:48:14.548254Z",
     "start_time": "2023-05-16T17:47:54.827167Z"
    }
   },
   "outputs": [],
   "source": [
    "hotel_df['cleaned'] = hotel_df['stemmed'].apply(removeStopWords)"
   ]
  },
  {
   "cell_type": "code",
   "execution_count": 14,
   "metadata": {
    "ExecuteTime": {
     "end_time": "2023-05-16T17:48:14.611030Z",
     "start_time": "2023-05-16T17:48:14.551156Z"
    }
   },
   "outputs": [
    {
     "data": {
      "text/html": [
       "<div>\n",
       "<style scoped>\n",
       "    .dataframe tbody tr th:only-of-type {\n",
       "        vertical-align: middle;\n",
       "    }\n",
       "\n",
       "    .dataframe tbody tr th {\n",
       "        vertical-align: top;\n",
       "    }\n",
       "\n",
       "    .dataframe thead th {\n",
       "        text-align: right;\n",
       "    }\n",
       "</style>\n",
       "<table border=\"1\" class=\"dataframe\">\n",
       "  <thead>\n",
       "    <tr style=\"text-align: right;\">\n",
       "      <th></th>\n",
       "      <th>review</th>\n",
       "      <th>stars</th>\n",
       "      <th>tokenized</th>\n",
       "      <th>no_slang</th>\n",
       "      <th>stemmed</th>\n",
       "      <th>cleaned</th>\n",
       "    </tr>\n",
       "  </thead>\n",
       "  <tbody>\n",
       "    <tr>\n",
       "      <th>0</th>\n",
       "      <td>liburan keluarga yg nyaman, kolam renang yg ba...</td>\n",
       "      <td>5</td>\n",
       "      <td>['liburan', 'keluarga', 'yg', 'nyaman', 'kolam...</td>\n",
       "      <td>['liburan', 'keluarga', 'yang', 'nyaman', 'kol...</td>\n",
       "      <td>[libur, keluarga, yang, nyaman, kolam, renang,...</td>\n",
       "      <td>[keluarga, nyaman, kolam, renang, kamar, bersi...</td>\n",
       "    </tr>\n",
       "    <tr>\n",
       "      <th>1</th>\n",
       "      <td>hotelnya bagus banget dan pelayanannya sangat ...</td>\n",
       "      <td>5</td>\n",
       "      <td>['hotelnya', 'bagus', 'banget', 'dan', 'pelaya...</td>\n",
       "      <td>['hotelnya', 'bagus', 'banget', 'dan', 'pelaya...</td>\n",
       "      <td>[hotel, bagus, banget, dan, layan, sangat, bai...</td>\n",
       "      <td>[layan, suka, tingkat, layan, unjung]</td>\n",
       "    </tr>\n",
       "    <tr>\n",
       "      <th>2</th>\n",
       "      <td>saya menginap di adiwana bisma bersama pasanga...</td>\n",
       "      <td>5</td>\n",
       "      <td>['saya', 'menginap', 'di', 'adiwana', 'bisma',...</td>\n",
       "      <td>['saya', 'menginap', 'di', 'adiwana', 'bisma',...</td>\n",
       "      <td>[saya, inap, di, adiwana, bisma, sama, pasang,...</td>\n",
       "      <td>[adiwana, bisma, pasang, kamar, bersih, luas, ...</td>\n",
       "    </tr>\n",
       "    <tr>\n",
       "      <th>3</th>\n",
       "      <td>hotelnya bagus banget, bersih dan lengkap fasi...</td>\n",
       "      <td>5</td>\n",
       "      <td>['hotelnya', 'bagus', 'banget', 'bersih', 'dan...</td>\n",
       "      <td>['hotelnya', 'bagus', 'banget', 'bersih', 'dan...</td>\n",
       "      <td>[hotel, bagus, banget, bersih, dan, lengkap, f...</td>\n",
       "      <td>[bersih, lengkap, fasilitas, poolnya, cantik, ...</td>\n",
       "    </tr>\n",
       "    <tr>\n",
       "      <th>4</th>\n",
       "      <td>weekend di adiwana bisma stay selama two night...</td>\n",
       "      <td>5</td>\n",
       "      <td>['weekend', 'di', 'adiwana', 'bisma', 'stay', ...</td>\n",
       "      <td>['weekend', 'di', 'adiwana', 'bisma', 'stay', ...</td>\n",
       "      <td>[weekend, di, adiwana, bisma, stay, lama, two,...</td>\n",
       "      <td>[weekend, adiwana, bisma, senang, puas, layan,...</td>\n",
       "    </tr>\n",
       "    <tr>\n",
       "      <th>5</th>\n",
       "      <td>stay one night bareng keluarga sangat menyenan...</td>\n",
       "      <td>5</td>\n",
       "      <td>['stay', 'one', 'night', 'bareng', 'keluarga',...</td>\n",
       "      <td>['stay', 'one', 'night', 'bareng', 'keluarga',...</td>\n",
       "      <td>[stay, one, night, bareng, keluarga, sangat, s...</td>\n",
       "      <td>[one, bareng, keluarga, senang, kamar, luas, v...</td>\n",
       "    </tr>\n",
       "    <tr>\n",
       "      <th>6</th>\n",
       "      <td>daycation di adiwana bisma sangat menyenangkan...</td>\n",
       "      <td>5</td>\n",
       "      <td>['daycation', 'di', 'adiwana', 'bisma', 'sanga...</td>\n",
       "      <td>['daycation', 'di', 'adiwana', 'bisma', 'sanga...</td>\n",
       "      <td>[daycation, di, adiwana, bisma, sangat, senang...</td>\n",
       "      <td>[daycation, adiwana, bisma, senang, staffnya, ...</td>\n",
       "    </tr>\n",
       "    <tr>\n",
       "      <th>7</th>\n",
       "      <td>hotelnya masih terbilang baru, ada restaurantn...</td>\n",
       "      <td>5</td>\n",
       "      <td>['hotelnya', 'masih', 'terbilang', 'baru', 'ad...</td>\n",
       "      <td>['hotelnya', 'masih', 'terbilang', 'baru', 'ad...</td>\n",
       "      <td>[hotel, masih, bilang, baru, ada, restaurantny...</td>\n",
       "      <td>[bilang, restaurantnya, roomnya, luas, bersih,...</td>\n",
       "    </tr>\n",
       "    <tr>\n",
       "      <th>8</th>\n",
       "      <td>thank you so much buat pelayanan yang ramah da...</td>\n",
       "      <td>5</td>\n",
       "      <td>['thank', 'you', 'so', 'much', 'buat', 'pelaya...</td>\n",
       "      <td>['thank', 'you', 'sok', 'much', 'buat', 'pelay...</td>\n",
       "      <td>[thank, you, sok, much, buat, layan, yang, ram...</td>\n",
       "      <td>[thank, you, sok, much, layan, ramah, kamar, b...</td>\n",
       "    </tr>\n",
       "    <tr>\n",
       "      <th>9</th>\n",
       "      <td>kamar hotel yang besar, bersih dan mewah, ling...</td>\n",
       "      <td>5</td>\n",
       "      <td>['kamar', 'hotel', 'yang', 'besar', 'bersih', ...</td>\n",
       "      <td>['kamar', 'hotel', 'yang', 'besar', 'bersih', ...</td>\n",
       "      <td>[kamar, hotel, yang, besar, bersih, dan, mewah...</td>\n",
       "      <td>[kamar, bersih, mewah, lingkung, desa, asri, s...</td>\n",
       "    </tr>\n",
       "    <tr>\n",
       "      <th>10</th>\n",
       "      <td>hotel yang nyaman,  bersih ,makanannya enak, s...</td>\n",
       "      <td>5</td>\n",
       "      <td>['hotel', 'yang', 'nyaman', 'bersih', 'makanan...</td>\n",
       "      <td>['hotel', 'yang', 'nyaman', 'bersih', 'makanan...</td>\n",
       "      <td>[hotel, yang, nyaman, bersih, makan, enak, sta...</td>\n",
       "      <td>[nyaman, bersih, makan, enak, staffnya, ramah,...</td>\n",
       "    </tr>\n",
       "    <tr>\n",
       "      <th>11</th>\n",
       "      <td>pelayanannya sangat ramah dan fasilitasnya jug...</td>\n",
       "      <td>5</td>\n",
       "      <td>['pelayanannya', 'sangat', 'ramah', 'dan', 'fa...</td>\n",
       "      <td>['pelayanannya', 'sangat', 'ramah', 'dan', 'fa...</td>\n",
       "      <td>[layan, sangat, ramah, dan, fasilitas, juga, b...</td>\n",
       "      <td>[layan, ramah, fasilitas, paket, nyepi, tawar,...</td>\n",
       "    </tr>\n",
       "    <tr>\n",
       "      <th>12</th>\n",
       "      <td>nice experienced ,semua perfect dari segi pela...</td>\n",
       "      <td>5</td>\n",
       "      <td>['nice', 'experienced', 'semua', 'perfect', 'd...</td>\n",
       "      <td>['nice', 'experienced', 'semua', 'perfect', 'd...</td>\n",
       "      <td>[nice, experienced, semua, perfect, dari, segi...</td>\n",
       "      <td>[nice, experienced, perfect, segi, layan, fasi...</td>\n",
       "    </tr>\n",
       "    <tr>\n",
       "      <th>13</th>\n",
       "      <td>pengalaman menyenangkan, moments yang berharga...</td>\n",
       "      <td>5</td>\n",
       "      <td>['pengalaman', 'menyenangkan', 'moments', 'yan...</td>\n",
       "      <td>['pengalaman', 'menyenangkan', 'moments', 'yan...</td>\n",
       "      <td>[alam, senang, moments, yang, harga, dapat, ke...</td>\n",
       "      <td>[alam, senang, moments, harga, kejut, view, sa...</td>\n",
       "    </tr>\n",
       "    <tr>\n",
       "      <th>14</th>\n",
       "      <td>good room, makanannya enak, kamar nyaman, pela...</td>\n",
       "      <td>5</td>\n",
       "      <td>['good', 'room', 'makanannya', 'enak', 'kamar'...</td>\n",
       "      <td>['good', 'room', 'makanannya', 'enak', 'kamar'...</td>\n",
       "      <td>[good, room, makan, enak, kamar, nyaman, layan...</td>\n",
       "      <td>[good, room, makan, enak, kamar, nyaman, layan...</td>\n",
       "    </tr>\n",
       "    <tr>\n",
       "      <th>15</th>\n",
       "      <td>amazing room, space &amp; vibes...  mau lagi balik...</td>\n",
       "      <td>5</td>\n",
       "      <td>['amazing', 'room', 'space', 'vibes', 'mau', '...</td>\n",
       "      <td>['amazing', 'room', 'space', 'vibes', 'mau', '...</td>\n",
       "      <td>[amazing, room, space, vibes, mau, lagi, balik...</td>\n",
       "      <td>[amazing, room, space, vibes, kesini, longer, ...</td>\n",
       "    </tr>\n",
       "    <tr>\n",
       "      <th>16</th>\n",
       "      <td>pelayanannya super ramah, fasilitasnya lengkap...</td>\n",
       "      <td>5</td>\n",
       "      <td>['pelayanannya', 'super', 'ramah', 'fasilitasn...</td>\n",
       "      <td>['pelayanannya', 'super', 'ramah', 'fasilitasn...</td>\n",
       "      <td>[layan, super, ramah, fasilitas, lengkap, bers...</td>\n",
       "      <td>[layan, super, ramah, fasilitas, lengkap, bers...</td>\n",
       "    </tr>\n",
       "    <tr>\n",
       "      <th>17</th>\n",
       "      <td>saya sudah cukup sering menginap di adiwana bi...</td>\n",
       "      <td>5</td>\n",
       "      <td>['saya', 'sudah', 'cukup', 'sering', 'menginap...</td>\n",
       "      <td>['saya', 'sudah', 'cukup', 'sering', 'menginap...</td>\n",
       "      <td>[saya, sudah, cukup, sering, inap, di, adiwana...</td>\n",
       "      <td>[adiwana, bisma, kecewa, senang, layan, adiwan...</td>\n",
       "    </tr>\n",
       "    <tr>\n",
       "      <th>18</th>\n",
       "      <td>pengalaman menginap di adiwana bisma sangat me...</td>\n",
       "      <td>5</td>\n",
       "      <td>['pengalaman', 'menginap', 'di', 'adiwana', 'b...</td>\n",
       "      <td>['pengalaman', 'menginap', 'di', 'adiwana', 'b...</td>\n",
       "      <td>[alam, inap, di, adiwana, bisma, sangat, kesan...</td>\n",
       "      <td>[alam, adiwana, bisma, kesan, staycasion, reco...</td>\n",
       "    </tr>\n",
       "    <tr>\n",
       "      <th>19</th>\n",
       "      <td>view sekeliling hotel bagus sekali, sawah yg h...</td>\n",
       "      <td>4</td>\n",
       "      <td>['view', 'sekeliling', 'hotel', 'bagus', 'seka...</td>\n",
       "      <td>['view', 'sekeliling', 'hotel', 'bagus', 'seka...</td>\n",
       "      <td>[view, keliling, hotel, bagus, sekali, sawah, ...</td>\n",
       "      <td>[view, keliling, sawah, hijau, lokasi, tenang,...</td>\n",
       "    </tr>\n",
       "    <tr>\n",
       "      <th>20</th>\n",
       "      <td>hotelnya bagus. staffnya jg baik dan ramah.  h...</td>\n",
       "      <td>5</td>\n",
       "      <td>['hotelnya', 'bagus', 'staffnya', 'jg', 'baik'...</td>\n",
       "      <td>['hotelnya', 'bagus', 'staffnya', 'juga', 'bai...</td>\n",
       "      <td>[hotel, bagus, staffnya, juga, baik, dan, rama...</td>\n",
       "      <td>[staffnya, ramah, bersih, breakfast, menu, ena...</td>\n",
       "    </tr>\n",
       "    <tr>\n",
       "      <th>21</th>\n",
       "      <td>bagus banget view dan kamarnya, kamar mandinya...</td>\n",
       "      <td>5</td>\n",
       "      <td>['bagus', 'banget', 'view', 'dan', 'kamarnya',...</td>\n",
       "      <td>['bagus', 'banget', 'view', 'dan', 'kamarnya',...</td>\n",
       "      <td>[bagus, banget, view, dan, kamar, kamar, mandi...</td>\n",
       "      <td>[view, kamar, kamar, mandi, bersih, kolam, ren...</td>\n",
       "    </tr>\n",
       "    <tr>\n",
       "      <th>22</th>\n",
       "      <td>pelayanan nya ramah banget , kamar luas bgt da...</td>\n",
       "      <td>5</td>\n",
       "      <td>['pelayanan', 'nya', 'ramah', 'banget', 'kamar...</td>\n",
       "      <td>['pelayanan', 'nya', 'ramah', 'banget', 'kamar...</td>\n",
       "      <td>[layan, nya, ramah, banget, kamar, luas, bange...</td>\n",
       "      <td>[layan, ramah, kamar, luas, super, nyaman, sun...</td>\n",
       "    </tr>\n",
       "    <tr>\n",
       "      <th>23</th>\n",
       "      <td>kamarnya  bersih dan nyaman banget, breakfastb...</td>\n",
       "      <td>5</td>\n",
       "      <td>['kamarnya', 'bersih', 'dan', 'nyaman', 'bange...</td>\n",
       "      <td>['kamarnya', 'bersih', 'dan', 'nyaman', 'bange...</td>\n",
       "      <td>[kamar, bersih, dan, nyaman, banget, breakfast...</td>\n",
       "      <td>[kamar, bersih, nyaman, breakfastbya, enak, th...</td>\n",
       "    </tr>\n",
       "    <tr>\n",
       "      <th>24</th>\n",
       "      <td>terimakasih atas service nya yang sangat memua...</td>\n",
       "      <td>5</td>\n",
       "      <td>['terimakasih', 'atas', 'service', 'nya', 'yan...</td>\n",
       "      <td>['terimakasih', 'atas', 'service', 'nya', 'yan...</td>\n",
       "      <td>[terimakasih, atas, service, nya, yang, sangat...</td>\n",
       "      <td>[terimakasih, service, muas, pulang, next, tri...</td>\n",
       "    </tr>\n",
       "    <tr>\n",
       "      <th>25</th>\n",
       "      <td>hotel sangat baik. dan bersih. kekurangan hany...</td>\n",
       "      <td>5</td>\n",
       "      <td>['hotel', 'sangat', 'baik', 'dan', 'bersih', '...</td>\n",
       "      <td>['hotel', 'sangat', 'baik', 'dan', 'bersih', '...</td>\n",
       "      <td>[hotel, sangat, baik, dan, bersih, kurang, han...</td>\n",
       "      <td>[bersih, serangga, sok, far, harap, makan, pil...</td>\n",
       "    </tr>\n",
       "    <tr>\n",
       "      <th>26</th>\n",
       "      <td>hotel dan pelayanannya sangat baik dengan petu...</td>\n",
       "      <td>4</td>\n",
       "      <td>['hotel', 'dan', 'pelayanannya', 'sangat', 'ba...</td>\n",
       "      <td>['hotel', 'dan', 'pelayanannya', 'sangat', 'ba...</td>\n",
       "      <td>[hotel, dan, layan, sangat, baik, dengan, tuga...</td>\n",
       "      <td>[layan, tugas, sigap, cepat, harap, daja, bers...</td>\n",
       "    </tr>\n",
       "    <tr>\n",
       "      <th>27</th>\n",
       "      <td>2malam disini super memuaskan.. pemandangan ba...</td>\n",
       "      <td>5</td>\n",
       "      <td>['2malam', 'disini', 'super', 'memuaskan', 'pe...</td>\n",
       "      <td>['2malam', 'disini', 'super', 'memuaskan', 'pe...</td>\n",
       "      <td>[2malam, sini, super, muas, pandang, bagus, ba...</td>\n",
       "      <td>[2malam, super, muas, pandang, kamar, super, b...</td>\n",
       "    </tr>\n",
       "    <tr>\n",
       "      <th>28</th>\n",
       "      <td>nemu tempat ini dari google dan langsung cobai...</td>\n",
       "      <td>5</td>\n",
       "      <td>['nemu', 'tempat', 'ini', 'dari', 'google', 'd...</td>\n",
       "      <td>['nemu', 'tempat', 'ini', 'dari', 'google', 'd...</td>\n",
       "      <td>[nemu, tempat, ini, dari, google, dan, langsun...</td>\n",
       "      <td>[nemu, google, langsung, coba, golong, suasana...</td>\n",
       "    </tr>\n",
       "    <tr>\n",
       "      <th>29</th>\n",
       "      <td>hotel nya oke &amp; service keren &amp; bagus banget ,...</td>\n",
       "      <td>5</td>\n",
       "      <td>['hotel', 'nya', 'oke', 'service', 'keren', 'b...</td>\n",
       "      <td>['hotel', 'nya', 'oke', 'service', 'keren', 'b...</td>\n",
       "      <td>[hotel, nya, oke, service, keren, bagus, bange...</td>\n",
       "      <td>[oke, service, keren, terimakasih, arya, suppo...</td>\n",
       "    </tr>\n",
       "  </tbody>\n",
       "</table>\n",
       "</div>"
      ],
      "text/plain": [
       "                                               review  stars  \\\n",
       "0   liburan keluarga yg nyaman, kolam renang yg ba...      5   \n",
       "1   hotelnya bagus banget dan pelayanannya sangat ...      5   \n",
       "2   saya menginap di adiwana bisma bersama pasanga...      5   \n",
       "3   hotelnya bagus banget, bersih dan lengkap fasi...      5   \n",
       "4   weekend di adiwana bisma stay selama two night...      5   \n",
       "5   stay one night bareng keluarga sangat menyenan...      5   \n",
       "6   daycation di adiwana bisma sangat menyenangkan...      5   \n",
       "7   hotelnya masih terbilang baru, ada restaurantn...      5   \n",
       "8   thank you so much buat pelayanan yang ramah da...      5   \n",
       "9   kamar hotel yang besar, bersih dan mewah, ling...      5   \n",
       "10  hotel yang nyaman,  bersih ,makanannya enak, s...      5   \n",
       "11  pelayanannya sangat ramah dan fasilitasnya jug...      5   \n",
       "12  nice experienced ,semua perfect dari segi pela...      5   \n",
       "13  pengalaman menyenangkan, moments yang berharga...      5   \n",
       "14  good room, makanannya enak, kamar nyaman, pela...      5   \n",
       "15  amazing room, space & vibes...  mau lagi balik...      5   \n",
       "16  pelayanannya super ramah, fasilitasnya lengkap...      5   \n",
       "17  saya sudah cukup sering menginap di adiwana bi...      5   \n",
       "18  pengalaman menginap di adiwana bisma sangat me...      5   \n",
       "19  view sekeliling hotel bagus sekali, sawah yg h...      4   \n",
       "20  hotelnya bagus. staffnya jg baik dan ramah.  h...      5   \n",
       "21  bagus banget view dan kamarnya, kamar mandinya...      5   \n",
       "22  pelayanan nya ramah banget , kamar luas bgt da...      5   \n",
       "23  kamarnya  bersih dan nyaman banget, breakfastb...      5   \n",
       "24  terimakasih atas service nya yang sangat memua...      5   \n",
       "25  hotel sangat baik. dan bersih. kekurangan hany...      5   \n",
       "26  hotel dan pelayanannya sangat baik dengan petu...      4   \n",
       "27  2malam disini super memuaskan.. pemandangan ba...      5   \n",
       "28  nemu tempat ini dari google dan langsung cobai...      5   \n",
       "29  hotel nya oke & service keren & bagus banget ,...      5   \n",
       "\n",
       "                                            tokenized  \\\n",
       "0   ['liburan', 'keluarga', 'yg', 'nyaman', 'kolam...   \n",
       "1   ['hotelnya', 'bagus', 'banget', 'dan', 'pelaya...   \n",
       "2   ['saya', 'menginap', 'di', 'adiwana', 'bisma',...   \n",
       "3   ['hotelnya', 'bagus', 'banget', 'bersih', 'dan...   \n",
       "4   ['weekend', 'di', 'adiwana', 'bisma', 'stay', ...   \n",
       "5   ['stay', 'one', 'night', 'bareng', 'keluarga',...   \n",
       "6   ['daycation', 'di', 'adiwana', 'bisma', 'sanga...   \n",
       "7   ['hotelnya', 'masih', 'terbilang', 'baru', 'ad...   \n",
       "8   ['thank', 'you', 'so', 'much', 'buat', 'pelaya...   \n",
       "9   ['kamar', 'hotel', 'yang', 'besar', 'bersih', ...   \n",
       "10  ['hotel', 'yang', 'nyaman', 'bersih', 'makanan...   \n",
       "11  ['pelayanannya', 'sangat', 'ramah', 'dan', 'fa...   \n",
       "12  ['nice', 'experienced', 'semua', 'perfect', 'd...   \n",
       "13  ['pengalaman', 'menyenangkan', 'moments', 'yan...   \n",
       "14  ['good', 'room', 'makanannya', 'enak', 'kamar'...   \n",
       "15  ['amazing', 'room', 'space', 'vibes', 'mau', '...   \n",
       "16  ['pelayanannya', 'super', 'ramah', 'fasilitasn...   \n",
       "17  ['saya', 'sudah', 'cukup', 'sering', 'menginap...   \n",
       "18  ['pengalaman', 'menginap', 'di', 'adiwana', 'b...   \n",
       "19  ['view', 'sekeliling', 'hotel', 'bagus', 'seka...   \n",
       "20  ['hotelnya', 'bagus', 'staffnya', 'jg', 'baik'...   \n",
       "21  ['bagus', 'banget', 'view', 'dan', 'kamarnya',...   \n",
       "22  ['pelayanan', 'nya', 'ramah', 'banget', 'kamar...   \n",
       "23  ['kamarnya', 'bersih', 'dan', 'nyaman', 'bange...   \n",
       "24  ['terimakasih', 'atas', 'service', 'nya', 'yan...   \n",
       "25  ['hotel', 'sangat', 'baik', 'dan', 'bersih', '...   \n",
       "26  ['hotel', 'dan', 'pelayanannya', 'sangat', 'ba...   \n",
       "27  ['2malam', 'disini', 'super', 'memuaskan', 'pe...   \n",
       "28  ['nemu', 'tempat', 'ini', 'dari', 'google', 'd...   \n",
       "29  ['hotel', 'nya', 'oke', 'service', 'keren', 'b...   \n",
       "\n",
       "                                             no_slang  \\\n",
       "0   ['liburan', 'keluarga', 'yang', 'nyaman', 'kol...   \n",
       "1   ['hotelnya', 'bagus', 'banget', 'dan', 'pelaya...   \n",
       "2   ['saya', 'menginap', 'di', 'adiwana', 'bisma',...   \n",
       "3   ['hotelnya', 'bagus', 'banget', 'bersih', 'dan...   \n",
       "4   ['weekend', 'di', 'adiwana', 'bisma', 'stay', ...   \n",
       "5   ['stay', 'one', 'night', 'bareng', 'keluarga',...   \n",
       "6   ['daycation', 'di', 'adiwana', 'bisma', 'sanga...   \n",
       "7   ['hotelnya', 'masih', 'terbilang', 'baru', 'ad...   \n",
       "8   ['thank', 'you', 'sok', 'much', 'buat', 'pelay...   \n",
       "9   ['kamar', 'hotel', 'yang', 'besar', 'bersih', ...   \n",
       "10  ['hotel', 'yang', 'nyaman', 'bersih', 'makanan...   \n",
       "11  ['pelayanannya', 'sangat', 'ramah', 'dan', 'fa...   \n",
       "12  ['nice', 'experienced', 'semua', 'perfect', 'd...   \n",
       "13  ['pengalaman', 'menyenangkan', 'moments', 'yan...   \n",
       "14  ['good', 'room', 'makanannya', 'enak', 'kamar'...   \n",
       "15  ['amazing', 'room', 'space', 'vibes', 'mau', '...   \n",
       "16  ['pelayanannya', 'super', 'ramah', 'fasilitasn...   \n",
       "17  ['saya', 'sudah', 'cukup', 'sering', 'menginap...   \n",
       "18  ['pengalaman', 'menginap', 'di', 'adiwana', 'b...   \n",
       "19  ['view', 'sekeliling', 'hotel', 'bagus', 'seka...   \n",
       "20  ['hotelnya', 'bagus', 'staffnya', 'juga', 'bai...   \n",
       "21  ['bagus', 'banget', 'view', 'dan', 'kamarnya',...   \n",
       "22  ['pelayanan', 'nya', 'ramah', 'banget', 'kamar...   \n",
       "23  ['kamarnya', 'bersih', 'dan', 'nyaman', 'bange...   \n",
       "24  ['terimakasih', 'atas', 'service', 'nya', 'yan...   \n",
       "25  ['hotel', 'sangat', 'baik', 'dan', 'bersih', '...   \n",
       "26  ['hotel', 'dan', 'pelayanannya', 'sangat', 'ba...   \n",
       "27  ['2malam', 'disini', 'super', 'memuaskan', 'pe...   \n",
       "28  ['nemu', 'tempat', 'ini', 'dari', 'google', 'd...   \n",
       "29  ['hotel', 'nya', 'oke', 'service', 'keren', 'b...   \n",
       "\n",
       "                                              stemmed  \\\n",
       "0   [libur, keluarga, yang, nyaman, kolam, renang,...   \n",
       "1   [hotel, bagus, banget, dan, layan, sangat, bai...   \n",
       "2   [saya, inap, di, adiwana, bisma, sama, pasang,...   \n",
       "3   [hotel, bagus, banget, bersih, dan, lengkap, f...   \n",
       "4   [weekend, di, adiwana, bisma, stay, lama, two,...   \n",
       "5   [stay, one, night, bareng, keluarga, sangat, s...   \n",
       "6   [daycation, di, adiwana, bisma, sangat, senang...   \n",
       "7   [hotel, masih, bilang, baru, ada, restaurantny...   \n",
       "8   [thank, you, sok, much, buat, layan, yang, ram...   \n",
       "9   [kamar, hotel, yang, besar, bersih, dan, mewah...   \n",
       "10  [hotel, yang, nyaman, bersih, makan, enak, sta...   \n",
       "11  [layan, sangat, ramah, dan, fasilitas, juga, b...   \n",
       "12  [nice, experienced, semua, perfect, dari, segi...   \n",
       "13  [alam, senang, moments, yang, harga, dapat, ke...   \n",
       "14  [good, room, makan, enak, kamar, nyaman, layan...   \n",
       "15  [amazing, room, space, vibes, mau, lagi, balik...   \n",
       "16  [layan, super, ramah, fasilitas, lengkap, bers...   \n",
       "17  [saya, sudah, cukup, sering, inap, di, adiwana...   \n",
       "18  [alam, inap, di, adiwana, bisma, sangat, kesan...   \n",
       "19  [view, keliling, hotel, bagus, sekali, sawah, ...   \n",
       "20  [hotel, bagus, staffnya, juga, baik, dan, rama...   \n",
       "21  [bagus, banget, view, dan, kamar, kamar, mandi...   \n",
       "22  [layan, nya, ramah, banget, kamar, luas, bange...   \n",
       "23  [kamar, bersih, dan, nyaman, banget, breakfast...   \n",
       "24  [terimakasih, atas, service, nya, yang, sangat...   \n",
       "25  [hotel, sangat, baik, dan, bersih, kurang, han...   \n",
       "26  [hotel, dan, layan, sangat, baik, dengan, tuga...   \n",
       "27  [2malam, sini, super, muas, pandang, bagus, ba...   \n",
       "28  [nemu, tempat, ini, dari, google, dan, langsun...   \n",
       "29  [hotel, nya, oke, service, keren, bagus, bange...   \n",
       "\n",
       "                                              cleaned  \n",
       "0   [keluarga, nyaman, kolam, renang, kamar, bersi...  \n",
       "1               [layan, suka, tingkat, layan, unjung]  \n",
       "2   [adiwana, bisma, pasang, kamar, bersih, luas, ...  \n",
       "3   [bersih, lengkap, fasilitas, poolnya, cantik, ...  \n",
       "4   [weekend, adiwana, bisma, senang, puas, layan,...  \n",
       "5   [one, bareng, keluarga, senang, kamar, luas, v...  \n",
       "6   [daycation, adiwana, bisma, senang, staffnya, ...  \n",
       "7   [bilang, restaurantnya, roomnya, luas, bersih,...  \n",
       "8   [thank, you, sok, much, layan, ramah, kamar, b...  \n",
       "9   [kamar, bersih, mewah, lingkung, desa, asri, s...  \n",
       "10  [nyaman, bersih, makan, enak, staffnya, ramah,...  \n",
       "11  [layan, ramah, fasilitas, paket, nyepi, tawar,...  \n",
       "12  [nice, experienced, perfect, segi, layan, fasi...  \n",
       "13  [alam, senang, moments, harga, kejut, view, sa...  \n",
       "14  [good, room, makan, enak, kamar, nyaman, layan...  \n",
       "15  [amazing, room, space, vibes, kesini, longer, ...  \n",
       "16  [layan, super, ramah, fasilitas, lengkap, bers...  \n",
       "17  [adiwana, bisma, kecewa, senang, layan, adiwan...  \n",
       "18  [alam, adiwana, bisma, kesan, staycasion, reco...  \n",
       "19  [view, keliling, sawah, hijau, lokasi, tenang,...  \n",
       "20  [staffnya, ramah, bersih, breakfast, menu, ena...  \n",
       "21  [view, kamar, kamar, mandi, bersih, kolam, ren...  \n",
       "22  [layan, ramah, kamar, luas, super, nyaman, sun...  \n",
       "23  [kamar, bersih, nyaman, breakfastbya, enak, th...  \n",
       "24  [terimakasih, service, muas, pulang, next, tri...  \n",
       "25  [bersih, serangga, sok, far, harap, makan, pil...  \n",
       "26  [layan, tugas, sigap, cepat, harap, daja, bers...  \n",
       "27  [2malam, super, muas, pandang, kamar, super, b...  \n",
       "28  [nemu, google, langsung, coba, golong, suasana...  \n",
       "29  [oke, service, keren, terimakasih, arya, suppo...  "
      ]
     },
     "execution_count": 14,
     "metadata": {},
     "output_type": "execute_result"
    }
   ],
   "source": [
    "hotel_df.head(30)"
   ]
  },
  {
   "cell_type": "code",
   "execution_count": 15,
   "metadata": {
    "ExecuteTime": {
     "end_time": "2023-05-16T17:48:14.815247Z",
     "start_time": "2023-05-16T17:48:14.613990Z"
    }
   },
   "outputs": [],
   "source": [
    "# 3.6. Rejoin Token\n",
    "\n",
    "def rejoinToken(token):\n",
    "    return (' '.join(t for t in token))\n",
    "\n",
    "\n",
    "hotel_df['final'] = hotel_df['cleaned'].apply(rejoinToken)"
   ]
  },
  {
   "cell_type": "code",
   "execution_count": 16,
   "metadata": {
    "ExecuteTime": {
     "end_time": "2023-05-16T17:48:14.862638Z",
     "start_time": "2023-05-16T17:48:14.820149Z"
    },
    "scrolled": true
   },
   "outputs": [
    {
     "data": {
      "text/html": [
       "<div>\n",
       "<style scoped>\n",
       "    .dataframe tbody tr th:only-of-type {\n",
       "        vertical-align: middle;\n",
       "    }\n",
       "\n",
       "    .dataframe tbody tr th {\n",
       "        vertical-align: top;\n",
       "    }\n",
       "\n",
       "    .dataframe thead th {\n",
       "        text-align: right;\n",
       "    }\n",
       "</style>\n",
       "<table border=\"1\" class=\"dataframe\">\n",
       "  <thead>\n",
       "    <tr style=\"text-align: right;\">\n",
       "      <th></th>\n",
       "      <th>review</th>\n",
       "      <th>stars</th>\n",
       "      <th>tokenized</th>\n",
       "      <th>no_slang</th>\n",
       "      <th>stemmed</th>\n",
       "      <th>cleaned</th>\n",
       "      <th>final</th>\n",
       "    </tr>\n",
       "  </thead>\n",
       "  <tbody>\n",
       "    <tr>\n",
       "      <th>0</th>\n",
       "      <td>liburan keluarga yg nyaman, kolam renang yg ba...</td>\n",
       "      <td>5</td>\n",
       "      <td>['liburan', 'keluarga', 'yg', 'nyaman', 'kolam...</td>\n",
       "      <td>['liburan', 'keluarga', 'yang', 'nyaman', 'kol...</td>\n",
       "      <td>[libur, keluarga, yang, nyaman, kolam, renang,...</td>\n",
       "      <td>[keluarga, nyaman, kolam, renang, kamar, bersi...</td>\n",
       "      <td>keluarga nyaman kolam renang kamar bersih pand...</td>\n",
       "    </tr>\n",
       "    <tr>\n",
       "      <th>1</th>\n",
       "      <td>hotelnya bagus banget dan pelayanannya sangat ...</td>\n",
       "      <td>5</td>\n",
       "      <td>['hotelnya', 'bagus', 'banget', 'dan', 'pelaya...</td>\n",
       "      <td>['hotelnya', 'bagus', 'banget', 'dan', 'pelaya...</td>\n",
       "      <td>[hotel, bagus, banget, dan, layan, sangat, bai...</td>\n",
       "      <td>[layan, suka, tingkat, layan, unjung]</td>\n",
       "      <td>layan suka tingkat layan unjung</td>\n",
       "    </tr>\n",
       "    <tr>\n",
       "      <th>2</th>\n",
       "      <td>saya menginap di adiwana bisma bersama pasanga...</td>\n",
       "      <td>5</td>\n",
       "      <td>['saya', 'menginap', 'di', 'adiwana', 'bisma',...</td>\n",
       "      <td>['saya', 'menginap', 'di', 'adiwana', 'bisma',...</td>\n",
       "      <td>[saya, inap, di, adiwana, bisma, sama, pasang,...</td>\n",
       "      <td>[adiwana, bisma, pasang, kamar, bersih, luas, ...</td>\n",
       "      <td>adiwana bisma pasang kamar bersih luas kasih f...</td>\n",
       "    </tr>\n",
       "    <tr>\n",
       "      <th>3</th>\n",
       "      <td>hotelnya bagus banget, bersih dan lengkap fasi...</td>\n",
       "      <td>5</td>\n",
       "      <td>['hotelnya', 'bagus', 'banget', 'bersih', 'dan...</td>\n",
       "      <td>['hotelnya', 'bagus', 'banget', 'bersih', 'dan...</td>\n",
       "      <td>[hotel, bagus, banget, bersih, dan, lengkap, f...</td>\n",
       "      <td>[bersih, lengkap, fasilitas, poolnya, cantik, ...</td>\n",
       "      <td>bersih lengkap fasilitas poolnya cantik pandan...</td>\n",
       "    </tr>\n",
       "    <tr>\n",
       "      <th>4</th>\n",
       "      <td>weekend di adiwana bisma stay selama two night...</td>\n",
       "      <td>5</td>\n",
       "      <td>['weekend', 'di', 'adiwana', 'bisma', 'stay', ...</td>\n",
       "      <td>['weekend', 'di', 'adiwana', 'bisma', 'stay', ...</td>\n",
       "      <td>[weekend, di, adiwana, bisma, stay, lama, two,...</td>\n",
       "      <td>[weekend, adiwana, bisma, senang, puas, layan,...</td>\n",
       "      <td>weekend adiwana bisma senang puas layan recept...</td>\n",
       "    </tr>\n",
       "    <tr>\n",
       "      <th>...</th>\n",
       "      <td>...</td>\n",
       "      <td>...</td>\n",
       "      <td>...</td>\n",
       "      <td>...</td>\n",
       "      <td>...</td>\n",
       "      <td>...</td>\n",
       "      <td>...</td>\n",
       "    </tr>\n",
       "    <tr>\n",
       "      <th>21678</th>\n",
       "      <td>villa pribadi yang menakjubkan dengan kolam re...</td>\n",
       "      <td>5</td>\n",
       "      <td>['villa', 'pribadi', 'yang', 'menakjubkan', 'd...</td>\n",
       "      <td>['villa', 'pribadi', 'yang', 'menakjubkan', 'd...</td>\n",
       "      <td>[villa, pribadi, yang, takjub, dengan, kolam, ...</td>\n",
       "      <td>[pribadi, takjub, kolam, renang, ubud, damai, ...</td>\n",
       "      <td>pribadi takjub kolam renang ubud damai layak t...</td>\n",
       "    </tr>\n",
       "    <tr>\n",
       "      <th>21679</th>\n",
       "      <td>hotel terbaik di bali untuk bulan madu anda, c...</td>\n",
       "      <td>5</td>\n",
       "      <td>['hotel', 'terbaik', 'di', 'bali', 'untuk', 'b...</td>\n",
       "      <td>['hotel', 'terbaik', 'di', 'bali', 'untuk', 'b...</td>\n",
       "      <td>[hotel, baik, di, bal, untuk, bulan, madu, and...</td>\n",
       "      <td>[madu, cuaca, sempurna, fasilitas, pandang, in...</td>\n",
       "      <td>madu cuaca sempurna fasilitas pandang indah ko...</td>\n",
       "    </tr>\n",
       "    <tr>\n",
       "      <th>21680</th>\n",
       "      <td>udaya resort and spa adalah tempat yang cocok ...</td>\n",
       "      <td>4</td>\n",
       "      <td>['udaya', 'resort', 'and', 'spa', 'adalah', 't...</td>\n",
       "      <td>['udaya', 'resort', 'and', 'spa', 'adalah', 't...</td>\n",
       "      <td>[udaya, resort, and, spa, adalah, tempat, yang...</td>\n",
       "      <td>[and, spa, cocok, santa, keluarga, buah, kolam...</td>\n",
       "      <td>and spa cocok santa keluarga buah kolam renang...</td>\n",
       "    </tr>\n",
       "    <tr>\n",
       "      <th>21681</th>\n",
       "      <td>resort yang luar biasa dengan layanan premium ...</td>\n",
       "      <td>5</td>\n",
       "      <td>['resort', 'yang', 'luar', 'biasa', 'dengan', ...</td>\n",
       "      <td>['resort', 'yang', 'luar', 'biasa', 'dengan', ...</td>\n",
       "      <td>[resort, yang, luar, biasa, dengan, layan, pre...</td>\n",
       "      <td>[layan, premium, properti, bisnis, temu, kulin...</td>\n",
       "      <td>layan premium properti bisnis temu kuliner lez...</td>\n",
       "    </tr>\n",
       "    <tr>\n",
       "      <th>21682</th>\n",
       "      <td>ini adalah pertama kalinya saya datang ke ubud...</td>\n",
       "      <td>5</td>\n",
       "      <td>['ini', 'adalah', 'pertama', 'kalinya', 'saya'...</td>\n",
       "      <td>['ini', 'adalah', 'pertama', 'kalinya', 'saya'...</td>\n",
       "      <td>[ini, adalah, pertama, kali, saya, datang, ke,...</td>\n",
       "      <td>[kali, ubud, spa, suka, bantu, fasilitas, teri...</td>\n",
       "      <td>kali ubud spa suka bantu fasilitas terima kasi...</td>\n",
       "    </tr>\n",
       "  </tbody>\n",
       "</table>\n",
       "<p>21683 rows × 7 columns</p>\n",
       "</div>"
      ],
      "text/plain": [
       "                                                  review  stars  \\\n",
       "0      liburan keluarga yg nyaman, kolam renang yg ba...      5   \n",
       "1      hotelnya bagus banget dan pelayanannya sangat ...      5   \n",
       "2      saya menginap di adiwana bisma bersama pasanga...      5   \n",
       "3      hotelnya bagus banget, bersih dan lengkap fasi...      5   \n",
       "4      weekend di adiwana bisma stay selama two night...      5   \n",
       "...                                                  ...    ...   \n",
       "21678  villa pribadi yang menakjubkan dengan kolam re...      5   \n",
       "21679  hotel terbaik di bali untuk bulan madu anda, c...      5   \n",
       "21680  udaya resort and spa adalah tempat yang cocok ...      4   \n",
       "21681  resort yang luar biasa dengan layanan premium ...      5   \n",
       "21682  ini adalah pertama kalinya saya datang ke ubud...      5   \n",
       "\n",
       "                                               tokenized  \\\n",
       "0      ['liburan', 'keluarga', 'yg', 'nyaman', 'kolam...   \n",
       "1      ['hotelnya', 'bagus', 'banget', 'dan', 'pelaya...   \n",
       "2      ['saya', 'menginap', 'di', 'adiwana', 'bisma',...   \n",
       "3      ['hotelnya', 'bagus', 'banget', 'bersih', 'dan...   \n",
       "4      ['weekend', 'di', 'adiwana', 'bisma', 'stay', ...   \n",
       "...                                                  ...   \n",
       "21678  ['villa', 'pribadi', 'yang', 'menakjubkan', 'd...   \n",
       "21679  ['hotel', 'terbaik', 'di', 'bali', 'untuk', 'b...   \n",
       "21680  ['udaya', 'resort', 'and', 'spa', 'adalah', 't...   \n",
       "21681  ['resort', 'yang', 'luar', 'biasa', 'dengan', ...   \n",
       "21682  ['ini', 'adalah', 'pertama', 'kalinya', 'saya'...   \n",
       "\n",
       "                                                no_slang  \\\n",
       "0      ['liburan', 'keluarga', 'yang', 'nyaman', 'kol...   \n",
       "1      ['hotelnya', 'bagus', 'banget', 'dan', 'pelaya...   \n",
       "2      ['saya', 'menginap', 'di', 'adiwana', 'bisma',...   \n",
       "3      ['hotelnya', 'bagus', 'banget', 'bersih', 'dan...   \n",
       "4      ['weekend', 'di', 'adiwana', 'bisma', 'stay', ...   \n",
       "...                                                  ...   \n",
       "21678  ['villa', 'pribadi', 'yang', 'menakjubkan', 'd...   \n",
       "21679  ['hotel', 'terbaik', 'di', 'bali', 'untuk', 'b...   \n",
       "21680  ['udaya', 'resort', 'and', 'spa', 'adalah', 't...   \n",
       "21681  ['resort', 'yang', 'luar', 'biasa', 'dengan', ...   \n",
       "21682  ['ini', 'adalah', 'pertama', 'kalinya', 'saya'...   \n",
       "\n",
       "                                                 stemmed  \\\n",
       "0      [libur, keluarga, yang, nyaman, kolam, renang,...   \n",
       "1      [hotel, bagus, banget, dan, layan, sangat, bai...   \n",
       "2      [saya, inap, di, adiwana, bisma, sama, pasang,...   \n",
       "3      [hotel, bagus, banget, bersih, dan, lengkap, f...   \n",
       "4      [weekend, di, adiwana, bisma, stay, lama, two,...   \n",
       "...                                                  ...   \n",
       "21678  [villa, pribadi, yang, takjub, dengan, kolam, ...   \n",
       "21679  [hotel, baik, di, bal, untuk, bulan, madu, and...   \n",
       "21680  [udaya, resort, and, spa, adalah, tempat, yang...   \n",
       "21681  [resort, yang, luar, biasa, dengan, layan, pre...   \n",
       "21682  [ini, adalah, pertama, kali, saya, datang, ke,...   \n",
       "\n",
       "                                                 cleaned  \\\n",
       "0      [keluarga, nyaman, kolam, renang, kamar, bersi...   \n",
       "1                  [layan, suka, tingkat, layan, unjung]   \n",
       "2      [adiwana, bisma, pasang, kamar, bersih, luas, ...   \n",
       "3      [bersih, lengkap, fasilitas, poolnya, cantik, ...   \n",
       "4      [weekend, adiwana, bisma, senang, puas, layan,...   \n",
       "...                                                  ...   \n",
       "21678  [pribadi, takjub, kolam, renang, ubud, damai, ...   \n",
       "21679  [madu, cuaca, sempurna, fasilitas, pandang, in...   \n",
       "21680  [and, spa, cocok, santa, keluarga, buah, kolam...   \n",
       "21681  [layan, premium, properti, bisnis, temu, kulin...   \n",
       "21682  [kali, ubud, spa, suka, bantu, fasilitas, teri...   \n",
       "\n",
       "                                                   final  \n",
       "0      keluarga nyaman kolam renang kamar bersih pand...  \n",
       "1                        layan suka tingkat layan unjung  \n",
       "2      adiwana bisma pasang kamar bersih luas kasih f...  \n",
       "3      bersih lengkap fasilitas poolnya cantik pandan...  \n",
       "4      weekend adiwana bisma senang puas layan recept...  \n",
       "...                                                  ...  \n",
       "21678  pribadi takjub kolam renang ubud damai layak t...  \n",
       "21679  madu cuaca sempurna fasilitas pandang indah ko...  \n",
       "21680  and spa cocok santa keluarga buah kolam renang...  \n",
       "21681  layan premium properti bisnis temu kuliner lez...  \n",
       "21682  kali ubud spa suka bantu fasilitas terima kasi...  \n",
       "\n",
       "[21683 rows x 7 columns]"
      ]
     },
     "execution_count": 16,
     "metadata": {},
     "output_type": "execute_result"
    }
   ],
   "source": [
    "hotel_df"
   ]
  },
  {
   "cell_type": "markdown",
   "metadata": {},
   "source": [
    "## Word Cloud Viz"
   ]
  },
  {
   "cell_type": "code",
   "execution_count": 17,
   "metadata": {
    "ExecuteTime": {
     "end_time": "2023-05-16T17:48:15.990969Z",
     "start_time": "2023-05-16T17:48:14.869616Z"
    }
   },
   "outputs": [
    {
     "data": {
      "image/png": "[encoded data removed]",
      "text/plain": [
       "<Figure size 800x800 with 1 Axes>"
      ]
     },
     "metadata": {},
     "output_type": "display_data"
    }
   ],
   "source": [
    "wordcloud = WordCloud(width = 800, height = 800,\n",
    "                background_color ='white',\n",
    "                stopwords = stops,\n",
    "                min_font_size = 10).generate(str(hotel_df['final']))\n",
    " \n",
    "# plot the WordCloud image                      \n",
    "plt.figure(figsize = (8, 8), facecolor = None)\n",
    "plt.imshow(wordcloud)\n",
    "plt.axis(\"off\")\n",
    "plt.tight_layout(pad = 0)"
   ]
  },
  {
   "cell_type": "code",
   "execution_count": 12,
   "metadata": {
    "scrolled": true
   },
   "outputs": [
    {
     "name": "stdout",
     "output_type": "stream",
     "text": [
      "Empty DataFrame\n",
      "Columns: [review, stars, tokenized, no_slang, stemmed, cleaned, final]\n",
      "Index: []\n"
     ]
    }
   ],
   "source": [
    "contain_values = hotel_df[hotel_df['final'].str.contains('mulaidari')]\n",
    "print(contain_values)"
   ]
  },
  {
   "cell_type": "markdown",
   "metadata": {},
   "source": [
    "## 4. Feature Engineering\n"
   ]
  },
  {
   "cell_type": "code",
   "execution_count": 18,
   "metadata": {
    "ExecuteTime": {
     "end_time": "2023-05-16T17:48:16.006927Z",
     "start_time": "2023-05-16T17:48:15.993929Z"
    }
   },
   "outputs": [],
   "source": [
    "## 4.1. Vectorization\n",
    "from sklearn.feature_extraction.text import TfidfVectorizer"
   ]
  },
  {
   "cell_type": "code",
   "execution_count": 47,
   "metadata": {
    "ExecuteTime": {
     "end_time": "2023-05-16T18:09:59.946428Z",
     "start_time": "2023-05-16T18:09:59.918503Z"
    }
   },
   "outputs": [],
   "source": [
    "final_text = hotel_df.copy()\n",
    "final_text = final_text[['final', 'stars']]"
   ]
  },
  {
   "cell_type": "code",
   "execution_count": 48,
   "metadata": {
    "ExecuteTime": {
     "end_time": "2023-05-16T18:10:03.417723Z",
     "start_time": "2023-05-16T18:10:03.393787Z"
    }
   },
   "outputs": [
    {
     "name": "stdout",
     "output_type": "stream",
     "text": [
      "<class 'pandas.core.frame.DataFrame'>\n",
      "RangeIndex: 21683 entries, 0 to 21682\n",
      "Data columns (total 2 columns):\n",
      " #   Column  Non-Null Count  Dtype \n",
      "---  ------  --------------  ----- \n",
      " 0   final   21683 non-null  object\n",
      " 1   stars   21683 non-null  int64 \n",
      "dtypes: int64(1), object(1)\n",
      "memory usage: 338.9+ KB\n"
     ]
    }
   ],
   "source": [
    "final_text.info()"
   ]
  },
  {
   "cell_type": "code",
   "execution_count": 49,
   "metadata": {
    "ExecuteTime": {
     "end_time": "2023-05-16T18:10:04.905011Z",
     "start_time": "2023-05-16T18:10:04.179864Z"
    }
   },
   "outputs": [],
   "source": [
    "vectorizer = TfidfVectorizer()\n",
    "features = vectorizer.fit_transform(final_text['final'])"
   ]
  },
  {
   "cell_type": "code",
   "execution_count": 50,
   "metadata": {
    "ExecuteTime": {
     "end_time": "2023-05-16T18:10:04.951613Z",
     "start_time": "2023-05-16T18:10:04.909144Z"
    }
   },
   "outputs": [],
   "source": [
    "## 4.2. Normalization\n",
    "from sklearn.preprocessing import MaxAbsScaler\n",
    "scaling = MaxAbsScaler()\n",
    "\n",
    "features_scaled = scaling.fit_transform(features)"
   ]
  },
  {
   "cell_type": "code",
   "execution_count": 51,
   "metadata": {
    "ExecuteTime": {
     "end_time": "2023-05-16T18:10:05.326532Z",
     "start_time": "2023-05-16T18:10:04.955607Z"
    }
   },
   "outputs": [
    {
     "data": {
      "text/plain": [
       "<matplotlib.collections.PathCollection at 0x23fc1afbdc8>"
      ]
     },
     "execution_count": 51,
     "metadata": {},
     "output_type": "execute_result"
    },
    {
     "data": {
      "image/png": "[encoded data removed]",
      "text/plain": [
       "<Figure size 640x480 with 1 Axes>"
      ]
     },
     "metadata": {},
     "output_type": "display_data"
    }
   ],
   "source": [
    "plt.scatter(features_scaled[:, 0].toarray(), final_text['stars'])"
   ]
  },
  {
   "cell_type": "code",
   "execution_count": 52,
   "metadata": {
    "ExecuteTime": {
     "end_time": "2023-05-16T18:10:05.356656Z",
     "start_time": "2023-05-16T18:10:05.331524Z"
    }
   },
   "outputs": [
    {
     "data": {
      "text/plain": [
       "stars\n",
       "1      204\n",
       "2      369\n",
       "3     1193\n",
       "4     4625\n",
       "5    15292\n",
       "Name: stars, dtype: int64"
      ]
     },
     "execution_count": 52,
     "metadata": {},
     "output_type": "execute_result"
    }
   ],
   "source": [
    "## 4.3. Balancing with SMOTE\n",
    "final_text.groupby(['stars'])['stars'].count()"
   ]
  },
  {
   "cell_type": "code",
   "execution_count": 53,
   "metadata": {
    "ExecuteTime": {
     "end_time": "2023-05-16T18:10:05.559014Z",
     "start_time": "2023-05-16T18:10:05.547045Z"
    }
   },
   "outputs": [],
   "source": [
    "x = final_text['stars'].sort_values().unique()\n",
    "y = final_text.groupby(['stars'])['stars'].count()"
   ]
  },
  {
   "cell_type": "code",
   "execution_count": 54,
   "metadata": {
    "ExecuteTime": {
     "end_time": "2023-05-16T18:10:06.466303Z",
     "start_time": "2023-05-16T18:10:06.306566Z"
    }
   },
   "outputs": [
    {
     "data": {
      "image/png": "[encoded data removed]",
      "text/plain": [
       "<Figure size 640x480 with 1 Axes>"
      ]
     },
     "metadata": {},
     "output_type": "display_data"
    }
   ],
   "source": [
    "plt.bar(x, y)\n",
    "plt.ylabel('Jumlah Review')\n",
    "plt.xlabel('Star Review')\n",
    "\n",
    "plt.show()"
   ]
  },
  {
   "cell_type": "code",
   "execution_count": 55,
   "metadata": {
    "ExecuteTime": {
     "end_time": "2023-05-16T18:10:07.266501Z",
     "start_time": "2023-05-16T18:10:07.249547Z"
    }
   },
   "outputs": [],
   "source": [
    "# Spliting Data\n",
    "from sklearn.model_selection import train_test_split\n",
    "from sklearn.metrics import confusion_matrix, recall_score, f1_score, accuracy_score, precision_score, balanced_accuracy_score\n",
    "from sklearn.datasets import make_classification\n",
    "\n",
    "X = features_scaled\n",
    "y = final_text['stars']\n",
    "\n",
    "X_train, X_test, y_train, y_test = train_test_split(X, y, test_size=0.2, random_state=42)"
   ]
  },
  {
   "cell_type": "code",
   "execution_count": 56,
   "metadata": {
    "ExecuteTime": {
     "end_time": "2023-05-16T18:10:07.940152Z",
     "start_time": "2023-05-16T18:10:07.926152Z"
    }
   },
   "outputs": [
    {
     "data": {
      "text/plain": [
       "5    12235\n",
       "4     3675\n",
       "3      975\n",
       "2      298\n",
       "1      163\n",
       "Name: stars, dtype: int64"
      ]
     },
     "execution_count": 56,
     "metadata": {},
     "output_type": "execute_result"
    }
   ],
   "source": [
    "y_train.value_counts()"
   ]
  },
  {
   "cell_type": "code",
   "execution_count": 59,
   "metadata": {
    "ExecuteTime": {
     "end_time": "2023-05-16T18:11:32.072442Z",
     "start_time": "2023-05-16T18:11:29.923535Z"
    }
   },
   "outputs": [],
   "source": [
    "from imblearn.over_sampling import SMOTE\n",
    "sm = SMOTE()\n",
    "\n",
    "X_res, y_res = sm.fit_resample(X_train, y_train)"
   ]
  },
  {
   "cell_type": "code",
   "execution_count": 60,
   "metadata": {
    "ExecuteTime": {
     "end_time": "2023-05-16T18:11:39.064999Z",
     "start_time": "2023-05-16T18:11:38.446874Z"
    }
   },
   "outputs": [
    {
     "data": {
      "text/plain": [
       "4    12235\n",
       "5    12235\n",
       "3    12235\n",
       "2    12235\n",
       "1    12235\n",
       "Name: stars, dtype: int64"
      ]
     },
     "execution_count": 60,
     "metadata": {},
     "output_type": "execute_result"
    }
   ],
   "source": [
    "y_res.value_counts()"
   ]
  },
  {
   "cell_type": "code",
   "execution_count": 61,
   "metadata": {
    "ExecuteTime": {
     "end_time": "2023-05-16T18:11:47.170701Z",
     "start_time": "2023-05-16T18:11:42.759523Z"
    }
   },
   "outputs": [
    {
     "data": {
      "text/plain": [
       "<matplotlib.collections.PathCollection at 0x23fc1564988>"
      ]
     },
     "execution_count": 61,
     "metadata": {},
     "output_type": "execute_result"
    },
    {
     "data": {
      "image/png": "[encoded data removed]",
      "text/plain": [
       "<Figure size 640x480 with 1 Axes>"
      ]
     },
     "metadata": {},
     "output_type": "display_data"
    }
   ],
   "source": [
    "plt.scatter(X_res[:, 0].toarray(), y_res)"
   ]
  },
  {
   "cell_type": "markdown",
   "metadata": {},
   "source": [
    "## 5. Review Stars Classification"
   ]
  },
  {
   "cell_type": "code",
   "execution_count": 62,
   "metadata": {
    "ExecuteTime": {
     "end_time": "2023-05-16T18:11:57.088691Z",
     "start_time": "2023-05-16T18:11:57.005132Z"
    }
   },
   "outputs": [],
   "source": [
    "# Import Classification Algorithm\n",
    "from sklearn.ensemble import RandomForestClassifier\n",
    "from sklearn import tree\n",
    "from sklearn.linear_model import LogisticRegression\n",
    "from sklearn.neighbors import KNeighborsClassifier\n",
    "from sklearn.svm import SVC\n",
    "\n",
    "import tensorflow as tf\n",
    "from sklearn.model_selection import RandomizedSearchCV"
   ]
  },
  {
   "cell_type": "code",
   "execution_count": 63,
   "metadata": {
    "ExecuteTime": {
     "end_time": "2023-05-16T18:11:57.338539Z",
     "start_time": "2023-05-16T18:11:57.187463Z"
    }
   },
   "outputs": [],
   "source": [
    "clf_model = {\n",
    "    'rfc' : RandomForestClassifier(),\n",
    "    'dts' : tree.DecisionTreeClassifier(),\n",
    "    'lor' : LogisticRegression(),\n",
    "    'knn' : KNeighborsClassifier(),\n",
    "    'svm' : SVC(),\n",
    "}"
   ]
  },
  {
   "cell_type": "code",
   "execution_count": null,
   "metadata": {
    "ExecuteTime": {
     "start_time": "2023-05-16T18:24:49.243Z"
    }
   },
   "outputs": [],
   "source": [
    "scores = []\n",
    "for model_name in clf_model:\n",
    "    clf = clf_model[model_name]\n",
    "    clf.fit(X_res, y_res)\n",
    "    \n",
    "    y_pred = clf.predict(X_test)\n",
    "    \n",
    "    scores.append({\n",
    "        'model' : model_name,\n",
    "        'accuracy' : round(accuracy_score(y_test, y_pred), 3),\n",
    "    })"
   ]
  },
  {
   "cell_type": "code",
   "execution_count": null,
   "metadata": {
    "ExecuteTime": {
     "start_time": "2023-05-16T18:24:50.277Z"
    },
    "scrolled": false
   },
   "outputs": [],
   "source": [
    "df_without_tuning = pd.DataFrame(scores)\n",
    "df_without_tuning"
   ]
  },
  {
   "cell_type": "code",
   "execution_count": 28,
   "metadata": {
    "ExecuteTime": {
     "end_time": "2023-05-16T16:07:48.834295Z",
     "start_time": "2023-05-16T16:06:19.404398Z"
    }
   },
   "outputs": [
    {
     "name": "stderr",
     "output_type": "stream",
     "text": [
      "C:\\Users\\tinob\\anaconda3\\envs\\tf_env\\lib\\site-packages\\sklearn\\linear_model\\_sag.py:354: ConvergenceWarning: The max_iter was reached which means the coef_ did not converge\n",
      "  ConvergenceWarning,\n",
      "C:\\Users\\tinob\\anaconda3\\envs\\tf_env\\lib\\site-packages\\sklearn\\linear_model\\_sag.py:354: ConvergenceWarning: The max_iter was reached which means the coef_ did not converge\n",
      "  ConvergenceWarning,\n",
      "C:\\Users\\tinob\\anaconda3\\envs\\tf_env\\lib\\site-packages\\sklearn\\linear_model\\_sag.py:354: ConvergenceWarning: The max_iter was reached which means the coef_ did not converge\n",
      "  ConvergenceWarning,\n",
      "C:\\Users\\tinob\\anaconda3\\envs\\tf_env\\lib\\site-packages\\sklearn\\linear_model\\_sag.py:354: ConvergenceWarning: The max_iter was reached which means the coef_ did not converge\n",
      "  ConvergenceWarning,\n",
      "C:\\Users\\tinob\\anaconda3\\envs\\tf_env\\lib\\site-packages\\sklearn\\linear_model\\_sag.py:354: ConvergenceWarning: The max_iter was reached which means the coef_ did not converge\n",
      "  ConvergenceWarning,\n",
      "C:\\Users\\tinob\\anaconda3\\envs\\tf_env\\lib\\site-packages\\sklearn\\model_selection\\_validation.py:372: FitFailedWarning: \n",
      "10 fits failed out of a total of 50.\n",
      "The score on these train-test partitions for these parameters will be set to nan.\n",
      "If these failures are not expected, you can try to debug them by setting error_score='raise'.\n",
      "\n",
      "Below are more details about the failures:\n",
      "--------------------------------------------------------------------------------\n",
      "10 fits failed with the following error:\n",
      "Traceback (most recent call last):\n",
      "  File \"C:\\Users\\tinob\\anaconda3\\envs\\tf_env\\lib\\site-packages\\sklearn\\model_selection\\_validation.py\", line 680, in _fit_and_score\n",
      "    estimator.fit(X_train, y_train, **fit_params)\n",
      "  File \"C:\\Users\\tinob\\anaconda3\\envs\\tf_env\\lib\\site-packages\\sklearn\\linear_model\\_logistic.py\", line 1461, in fit\n",
      "    solver = _check_solver(self.solver, self.penalty, self.dual)\n",
      "  File \"C:\\Users\\tinob\\anaconda3\\envs\\tf_env\\lib\\site-packages\\sklearn\\linear_model\\_logistic.py\", line 436, in _check_solver\n",
      "    % (all_solvers, solver)\n",
      "ValueError: Logistic Regression supports only solvers in ['liblinear', 'newton-cg', 'lbfgs', 'sag', 'saga'], got newton_cg.\n",
      "\n",
      "  warnings.warn(some_fits_failed_message, FitFailedWarning)\n",
      "C:\\Users\\tinob\\anaconda3\\envs\\tf_env\\lib\\site-packages\\sklearn\\model_selection\\_search.py:972: UserWarning: One or more of the test scores are non-finite: [0.72287568 0.72287568 0.72293333        nan        nan 0.72287568\n",
      " 0.73060065 0.72506646 0.73060065 0.72495117]\n",
      "  category=UserWarning,\n"
     ]
    },
    {
     "data": {
      "text/plain": [
       "RandomizedSearchCV(estimator=LogisticRegression(),\n",
       "                   param_distributions={'C': [1e-09, 0.25000000075,\n",
       "                                              0.5000000005, 0.75000000025,\n",
       "                                              1.0],\n",
       "                                        'max_iter': [100, 200, 300, 400, 500,\n",
       "                                                     600, 700, 800, 900],\n",
       "                                        'random_state': [1, 8, 15, 22, 29, 36],\n",
       "                                        'solver': ['lbfgs', 'saga', 'newton_cg',\n",
       "                                                   'sag']})"
      ]
     },
     "execution_count": 28,
     "metadata": {},
     "output_type": "execute_result"
    }
   ],
   "source": [
    "lor_tuned = RandomizedSearchCV(LogisticRegression(), {\n",
    "    'C' : [x for x in np.linspace(1e-9, 1, 5)],\n",
    "    'random_state' : [x for x in range(1, 43, 7)],\n",
    "    'solver' : ['lbfgs', 'saga', 'newton_cg','sag'],\n",
    "    'max_iter' : [x for x in range(100, 1000, 100)]\n",
    "})\n",
    "\n",
    "lor_tuned.fit(X_train, y_train)"
   ]
  },
  {
   "cell_type": "code",
   "execution_count": 29,
   "metadata": {
    "ExecuteTime": {
     "end_time": "2023-05-16T16:07:48.882320Z",
     "start_time": "2023-05-16T16:07:48.839284Z"
    }
   },
   "outputs": [
    {
     "data": {
      "text/html": [
       "<div>\n",
       "<style scoped>\n",
       "    .dataframe tbody tr th:only-of-type {\n",
       "        vertical-align: middle;\n",
       "    }\n",
       "\n",
       "    .dataframe tbody tr th {\n",
       "        vertical-align: top;\n",
       "    }\n",
       "\n",
       "    .dataframe thead th {\n",
       "        text-align: right;\n",
       "    }\n",
       "</style>\n",
       "<table border=\"1\" class=\"dataframe\">\n",
       "  <thead>\n",
       "    <tr style=\"text-align: right;\">\n",
       "      <th></th>\n",
       "      <th>mean_fit_time</th>\n",
       "      <th>std_fit_time</th>\n",
       "      <th>mean_score_time</th>\n",
       "      <th>std_score_time</th>\n",
       "      <th>param_solver</th>\n",
       "      <th>param_random_state</th>\n",
       "      <th>param_max_iter</th>\n",
       "      <th>param_C</th>\n",
       "      <th>params</th>\n",
       "      <th>split0_test_score</th>\n",
       "      <th>split1_test_score</th>\n",
       "      <th>split2_test_score</th>\n",
       "      <th>split3_test_score</th>\n",
       "      <th>split4_test_score</th>\n",
       "      <th>mean_test_score</th>\n",
       "      <th>std_test_score</th>\n",
       "      <th>rank_test_score</th>\n",
       "    </tr>\n",
       "  </thead>\n",
       "  <tbody>\n",
       "    <tr>\n",
       "      <th>6</th>\n",
       "      <td>1.623355</td>\n",
       "      <td>0.086494</td>\n",
       "      <td>0.001796</td>\n",
       "      <td>0.000399</td>\n",
       "      <td>lbfgs</td>\n",
       "      <td>29</td>\n",
       "      <td>600</td>\n",
       "      <td>0.25</td>\n",
       "      <td>{'solver': 'lbfgs', 'random_state': 29, 'max_i...</td>\n",
       "      <td>0.731700</td>\n",
       "      <td>0.729029</td>\n",
       "      <td>0.731911</td>\n",
       "      <td>0.731911</td>\n",
       "      <td>0.728452</td>\n",
       "      <td>0.730601</td>\n",
       "      <td>0.001532</td>\n",
       "      <td>1</td>\n",
       "    </tr>\n",
       "    <tr>\n",
       "      <th>8</th>\n",
       "      <td>1.310776</td>\n",
       "      <td>0.047486</td>\n",
       "      <td>0.001392</td>\n",
       "      <td>0.000483</td>\n",
       "      <td>sag</td>\n",
       "      <td>1</td>\n",
       "      <td>600</td>\n",
       "      <td>0.25</td>\n",
       "      <td>{'solver': 'sag', 'random_state': 1, 'max_iter...</td>\n",
       "      <td>0.731700</td>\n",
       "      <td>0.729029</td>\n",
       "      <td>0.731911</td>\n",
       "      <td>0.731911</td>\n",
       "      <td>0.728452</td>\n",
       "      <td>0.730601</td>\n",
       "      <td>0.001532</td>\n",
       "      <td>1</td>\n",
       "    </tr>\n",
       "    <tr>\n",
       "      <th>7</th>\n",
       "      <td>2.204395</td>\n",
       "      <td>0.076996</td>\n",
       "      <td>0.001780</td>\n",
       "      <td>0.000393</td>\n",
       "      <td>sag</td>\n",
       "      <td>1</td>\n",
       "      <td>900</td>\n",
       "      <td>0.75</td>\n",
       "      <td>{'solver': 'sag', 'random_state': 1, 'max_iter...</td>\n",
       "      <td>0.722190</td>\n",
       "      <td>0.725281</td>\n",
       "      <td>0.727875</td>\n",
       "      <td>0.724416</td>\n",
       "      <td>0.725569</td>\n",
       "      <td>0.725066</td>\n",
       "      <td>0.001838</td>\n",
       "      <td>3</td>\n",
       "    </tr>\n",
       "    <tr>\n",
       "      <th>9</th>\n",
       "      <td>2.563185</td>\n",
       "      <td>0.125296</td>\n",
       "      <td>0.002193</td>\n",
       "      <td>0.000400</td>\n",
       "      <td>lbfgs</td>\n",
       "      <td>8</td>\n",
       "      <td>200</td>\n",
       "      <td>0.75</td>\n",
       "      <td>{'solver': 'lbfgs', 'random_state': 8, 'max_it...</td>\n",
       "      <td>0.721902</td>\n",
       "      <td>0.724993</td>\n",
       "      <td>0.727875</td>\n",
       "      <td>0.724416</td>\n",
       "      <td>0.725569</td>\n",
       "      <td>0.724951</td>\n",
       "      <td>0.001925</td>\n",
       "      <td>4</td>\n",
       "    </tr>\n",
       "    <tr>\n",
       "      <th>2</th>\n",
       "      <td>2.819910</td>\n",
       "      <td>0.129168</td>\n",
       "      <td>0.001802</td>\n",
       "      <td>0.000755</td>\n",
       "      <td>lbfgs</td>\n",
       "      <td>15</td>\n",
       "      <td>200</td>\n",
       "      <td>1.0</td>\n",
       "      <td>{'solver': 'lbfgs', 'random_state': 15, 'max_i...</td>\n",
       "      <td>0.721326</td>\n",
       "      <td>0.724416</td>\n",
       "      <td>0.722687</td>\n",
       "      <td>0.723840</td>\n",
       "      <td>0.722398</td>\n",
       "      <td>0.722933</td>\n",
       "      <td>0.001091</td>\n",
       "      <td>5</td>\n",
       "    </tr>\n",
       "    <tr>\n",
       "      <th>0</th>\n",
       "      <td>1.785790</td>\n",
       "      <td>0.040578</td>\n",
       "      <td>0.001994</td>\n",
       "      <td>0.000002</td>\n",
       "      <td>sag</td>\n",
       "      <td>1</td>\n",
       "      <td>100</td>\n",
       "      <td>1.0</td>\n",
       "      <td>{'solver': 'sag', 'random_state': 1, 'max_iter...</td>\n",
       "      <td>0.721326</td>\n",
       "      <td>0.724416</td>\n",
       "      <td>0.722687</td>\n",
       "      <td>0.723840</td>\n",
       "      <td>0.722110</td>\n",
       "      <td>0.722876</td>\n",
       "      <td>0.001125</td>\n",
       "      <td>6</td>\n",
       "    </tr>\n",
       "    <tr>\n",
       "      <th>1</th>\n",
       "      <td>2.544968</td>\n",
       "      <td>0.121525</td>\n",
       "      <td>0.001797</td>\n",
       "      <td>0.000400</td>\n",
       "      <td>sag</td>\n",
       "      <td>29</td>\n",
       "      <td>200</td>\n",
       "      <td>1.0</td>\n",
       "      <td>{'solver': 'sag', 'random_state': 29, 'max_ite...</td>\n",
       "      <td>0.721326</td>\n",
       "      <td>0.724416</td>\n",
       "      <td>0.722687</td>\n",
       "      <td>0.723840</td>\n",
       "      <td>0.722110</td>\n",
       "      <td>0.722876</td>\n",
       "      <td>0.001125</td>\n",
       "      <td>6</td>\n",
       "    </tr>\n",
       "    <tr>\n",
       "      <th>5</th>\n",
       "      <td>2.578806</td>\n",
       "      <td>0.148636</td>\n",
       "      <td>0.001797</td>\n",
       "      <td>0.000400</td>\n",
       "      <td>sag</td>\n",
       "      <td>15</td>\n",
       "      <td>300</td>\n",
       "      <td>1.0</td>\n",
       "      <td>{'solver': 'sag', 'random_state': 15, 'max_ite...</td>\n",
       "      <td>0.721326</td>\n",
       "      <td>0.724416</td>\n",
       "      <td>0.722687</td>\n",
       "      <td>0.723840</td>\n",
       "      <td>0.722110</td>\n",
       "      <td>0.722876</td>\n",
       "      <td>0.001125</td>\n",
       "      <td>6</td>\n",
       "    </tr>\n",
       "    <tr>\n",
       "      <th>3</th>\n",
       "      <td>0.002579</td>\n",
       "      <td>0.000478</td>\n",
       "      <td>0.000000</td>\n",
       "      <td>0.000000</td>\n",
       "      <td>newton_cg</td>\n",
       "      <td>22</td>\n",
       "      <td>100</td>\n",
       "      <td>1.0</td>\n",
       "      <td>{'solver': 'newton_cg', 'random_state': 22, 'm...</td>\n",
       "      <td>NaN</td>\n",
       "      <td>NaN</td>\n",
       "      <td>NaN</td>\n",
       "      <td>NaN</td>\n",
       "      <td>NaN</td>\n",
       "      <td>NaN</td>\n",
       "      <td>NaN</td>\n",
       "      <td>9</td>\n",
       "    </tr>\n",
       "    <tr>\n",
       "      <th>4</th>\n",
       "      <td>0.002594</td>\n",
       "      <td>0.000489</td>\n",
       "      <td>0.000000</td>\n",
       "      <td>0.000000</td>\n",
       "      <td>newton_cg</td>\n",
       "      <td>36</td>\n",
       "      <td>400</td>\n",
       "      <td>0.0</td>\n",
       "      <td>{'solver': 'newton_cg', 'random_state': 36, 'm...</td>\n",
       "      <td>NaN</td>\n",
       "      <td>NaN</td>\n",
       "      <td>NaN</td>\n",
       "      <td>NaN</td>\n",
       "      <td>NaN</td>\n",
       "      <td>NaN</td>\n",
       "      <td>NaN</td>\n",
       "      <td>10</td>\n",
       "    </tr>\n",
       "  </tbody>\n",
       "</table>\n",
       "</div>"
      ],
      "text/plain": [
       "   mean_fit_time  std_fit_time  mean_score_time  std_score_time param_solver  \\\n",
       "6       1.623355      0.086494         0.001796        0.000399        lbfgs   \n",
       "8       1.310776      0.047486         0.001392        0.000483          sag   \n",
       "7       2.204395      0.076996         0.001780        0.000393          sag   \n",
       "9       2.563185      0.125296         0.002193        0.000400        lbfgs   \n",
       "2       2.819910      0.129168         0.001802        0.000755        lbfgs   \n",
       "0       1.785790      0.040578         0.001994        0.000002          sag   \n",
       "1       2.544968      0.121525         0.001797        0.000400          sag   \n",
       "5       2.578806      0.148636         0.001797        0.000400          sag   \n",
       "3       0.002579      0.000478         0.000000        0.000000    newton_cg   \n",
       "4       0.002594      0.000489         0.000000        0.000000    newton_cg   \n",
       "\n",
       "  param_random_state param_max_iter param_C  \\\n",
       "6                 29            600    0.25   \n",
       "8                  1            600    0.25   \n",
       "7                  1            900    0.75   \n",
       "9                  8            200    0.75   \n",
       "2                 15            200     1.0   \n",
       "0                  1            100     1.0   \n",
       "1                 29            200     1.0   \n",
       "5                 15            300     1.0   \n",
       "3                 22            100     1.0   \n",
       "4                 36            400     0.0   \n",
       "\n",
       "                                              params  split0_test_score  \\\n",
       "6  {'solver': 'lbfgs', 'random_state': 29, 'max_i...           0.731700   \n",
       "8  {'solver': 'sag', 'random_state': 1, 'max_iter...           0.731700   \n",
       "7  {'solver': 'sag', 'random_state': 1, 'max_iter...           0.722190   \n",
       "9  {'solver': 'lbfgs', 'random_state': 8, 'max_it...           0.721902   \n",
       "2  {'solver': 'lbfgs', 'random_state': 15, 'max_i...           0.721326   \n",
       "0  {'solver': 'sag', 'random_state': 1, 'max_iter...           0.721326   \n",
       "1  {'solver': 'sag', 'random_state': 29, 'max_ite...           0.721326   \n",
       "5  {'solver': 'sag', 'random_state': 15, 'max_ite...           0.721326   \n",
       "3  {'solver': 'newton_cg', 'random_state': 22, 'm...                NaN   \n",
       "4  {'solver': 'newton_cg', 'random_state': 36, 'm...                NaN   \n",
       "\n",
       "   split1_test_score  split2_test_score  split3_test_score  split4_test_score  \\\n",
       "6           0.729029           0.731911           0.731911           0.728452   \n",
       "8           0.729029           0.731911           0.731911           0.728452   \n",
       "7           0.725281           0.727875           0.724416           0.725569   \n",
       "9           0.724993           0.727875           0.724416           0.725569   \n",
       "2           0.724416           0.722687           0.723840           0.722398   \n",
       "0           0.724416           0.722687           0.723840           0.722110   \n",
       "1           0.724416           0.722687           0.723840           0.722110   \n",
       "5           0.724416           0.722687           0.723840           0.722110   \n",
       "3                NaN                NaN                NaN                NaN   \n",
       "4                NaN                NaN                NaN                NaN   \n",
       "\n",
       "   mean_test_score  std_test_score  rank_test_score  \n",
       "6         0.730601        0.001532                1  \n",
       "8         0.730601        0.001532                1  \n",
       "7         0.725066        0.001838                3  \n",
       "9         0.724951        0.001925                4  \n",
       "2         0.722933        0.001091                5  \n",
       "0         0.722876        0.001125                6  \n",
       "1         0.722876        0.001125                6  \n",
       "5         0.722876        0.001125                6  \n",
       "3              NaN             NaN                9  \n",
       "4              NaN             NaN               10  "
      ]
     },
     "execution_count": 29,
     "metadata": {},
     "output_type": "execute_result"
    }
   ],
   "source": [
    "lor_df = pd.DataFrame(lor_tuned.cv_results_)\n",
    "lor_df.sort_values(by='rank_test_score')"
   ]
  },
  {
   "cell_type": "code",
   "execution_count": 30,
   "metadata": {
    "ExecuteTime": {
     "end_time": "2023-05-16T17:48:38.975501Z",
     "start_time": "2023-05-16T17:48:36.712623Z"
    }
   },
   "outputs": [
    {
     "name": "stdout",
     "output_type": "stream",
     "text": [
      "Model Accuracy after Tuning: 0.73 \n"
     ]
    }
   ],
   "source": [
    "lor = LogisticRegression(solver='lbfgs', random_state=29, max_iter=600, C=0.25)\n",
    "lor.fit(X_train, y_train)\n",
    "\n",
    "y_pred = lor.predict(X_test)\n",
    "\n",
    "print('Model Accuracy after Tuning: %.2f ' % round(accuracy_score(y_test, y_pred), 2))"
   ]
  },
  {
   "cell_type": "code",
   "execution_count": 31,
   "metadata": {
    "ExecuteTime": {
     "end_time": "2023-05-16T17:48:43.709888Z",
     "start_time": "2023-05-16T17:48:43.458054Z"
    }
   },
   "outputs": [
    {
     "data": {
      "image/png": "[encoded data removed]",
      "text/plain": [
       "<Figure size 640x480 with 2 Axes>"
      ]
     },
     "metadata": {},
     "output_type": "display_data"
    }
   ],
   "source": [
    "from sklearn.metrics import ConfusionMatrixDisplay\n",
    "ConfusionMatrixDisplay.from_estimator(lor, X_train, y_train)\n",
    "plt.show()"
   ]
  },
  {
   "cell_type": "code",
   "execution_count": 32,
   "metadata": {
    "ExecuteTime": {
     "end_time": "2023-05-16T17:48:56.233038Z",
     "start_time": "2023-05-16T17:48:56.217045Z"
    }
   },
   "outputs": [
    {
     "data": {
      "text/plain": [
       "(21683,)"
      ]
     },
     "execution_count": 32,
     "metadata": {},
     "output_type": "execute_result"
    }
   ],
   "source": [
    "all_result = lor.predict(X)\n",
    "\n",
    "all_result.shape"
   ]
  },
  {
   "cell_type": "code",
   "execution_count": 33,
   "metadata": {
    "ExecuteTime": {
     "end_time": "2023-05-16T17:48:56.484254Z",
     "start_time": "2023-05-16T17:48:56.469293Z"
    }
   },
   "outputs": [],
   "source": [
    "final_text['pred'] = all_result"
   ]
  },
  {
   "cell_type": "code",
   "execution_count": 34,
   "metadata": {
    "ExecuteTime": {
     "end_time": "2023-05-16T17:49:00.115086Z",
     "start_time": "2023-05-16T17:49:00.102121Z"
    }
   },
   "outputs": [],
   "source": [
    "pd.set_option('display.max_colwidth', None)"
   ]
  },
  {
   "cell_type": "code",
   "execution_count": 46,
   "metadata": {
    "ExecuteTime": {
     "end_time": "2023-05-16T17:57:53.871692Z",
     "start_time": "2023-05-16T17:57:53.818833Z"
    },
    "scrolled": true
   },
   "outputs": [
    {
     "data": {
      "text/html": [
       "<div>\n",
       "<style scoped>\n",
       "    .dataframe tbody tr th:only-of-type {\n",
       "        vertical-align: middle;\n",
       "    }\n",
       "\n",
       "    .dataframe tbody tr th {\n",
       "        vertical-align: top;\n",
       "    }\n",
       "\n",
       "    .dataframe thead th {\n",
       "        text-align: right;\n",
       "    }\n",
       "</style>\n",
       "<table border=\"1\" class=\"dataframe\">\n",
       "  <thead>\n",
       "    <tr style=\"text-align: right;\">\n",
       "      <th></th>\n",
       "      <th>review</th>\n",
       "      <th>stars</th>\n",
       "      <th>tokenized</th>\n",
       "      <th>no_slang</th>\n",
       "      <th>stemmed</th>\n",
       "      <th>cleaned</th>\n",
       "      <th>final</th>\n",
       "    </tr>\n",
       "  </thead>\n",
       "  <tbody>\n",
       "    <tr>\n",
       "      <th>678</th>\n",
       "      <td>kami sangat kecewa dengan empat malam kami menginap di resort ubud. alaya kami mengharapkan pelayanan namun service logam yang kami alami jauh dari tempat ini. kamar pertama kami berbau dan lembab dan foisty jadi kami pindah kamar - kami harus menunggu setengah jam lebih untuk mengganti untuk datang yang tersedia. 4:00 oleh kami di kamar kami yang baru. kami memesan layanan kamar yang mengambil satu jam untuk tiba dan ketika itu, dingin. kami mengirim makanan kembali dan penggantian sekali lagi mengambil satu jam untuk tiba dan dingin. makanan pengganti memiliki cukup jelas sudah diolah dengan microwave seperti keju pada pizza kami telah pergi runny dan pad thai memiliki titik panas. saya memesan minuman di kolam renang yang tidak pernah datang dan jadi saya harus memesan lagi.…</td>\n",
       "      <td>2</td>\n",
       "      <td>['kami', 'sangat', 'kecewa', 'dengan', 'empat', 'malam', 'kami', 'menginap', 'di', 'resort', 'ubud', 'alaya', 'kami', 'mengharapkan', 'pelayanan', 'namun', 'service', 'logam', 'yang', 'kami', 'alami', 'jauh', 'dari', 'tempat', 'ini', 'kamar', 'pertama', 'kami', 'berbau', 'dan', 'lembab', 'dan', 'foisty', 'jadi', 'kami', 'pindah', 'kamar', 'kami', 'harus', 'menunggu', 'setengah', 'jam', 'lebih', 'untuk', 'mengganti', 'untuk', 'datang', 'yang', 'tersedia', '4', '00', 'oleh', 'kami', 'di', 'kamar', 'kami', 'yang', 'baru', 'kami', 'memesan', 'layanan', 'kamar', 'yang', 'mengambil', 'satu', 'jam', 'untuk', 'tiba', 'dan', 'ketika', 'itu', 'dingin', 'kami', 'mengirim', 'makanan', 'kembali', 'dan', 'penggantian', 'sekali', 'lagi', 'mengambil', 'satu', 'jam', 'untuk', 'tiba', 'dan', 'dingin', 'makanan', 'pengganti', 'memiliki', 'cukup', 'jelas', 'sudah', 'diolah', 'dengan', 'microwave', 'seperti', 'keju', 'pada', 'pizza', 'kami', 'telah', 'pergi', 'runny', 'dan', 'pad', 'thai', 'memiliki', 'titik', 'panas', 'saya', 'memesan', 'minuman', 'di', 'kolam', 'renang', 'yang', 'tidak', 'pernah', 'datang', 'dan', 'jadi', 'saya', 'harus', 'memesan', 'lagi']</td>\n",
       "      <td>['kami', 'sangat', 'kecewa', 'dengan', 'empat', 'malam', 'kami', 'menginap', 'di', 'resort', 'ubud', 'alaya', 'kami', 'mengharapkan', 'pelayanan', 'namun', 'service', 'logam', 'yang', 'kami', 'alami', 'jauh', 'dari', 'tempat', 'ini', 'kamar', 'pertama', 'kami', 'berbau', 'dan', 'lembab', 'dan', 'foisty', 'jadi', 'kami', 'pindah', 'kamar', 'kami', 'harus', 'menunggu', 'setengah', 'jam', 'lebih', 'untuk', 'mengganti', 'untuk', 'datang', 'yang', 'tersedia', '4', '00', 'oleh', 'kami', 'di', 'kamar', 'kami', 'yang', 'baru', 'kami', 'memesan', 'layanan', 'kamar', 'yang', 'mengambil', 'satu', 'jam', 'untuk', 'tiba', 'dan', 'ketika', 'itu', 'dingin', 'kami', 'mengirim', 'makanan', 'kembali', 'dan', 'penggantian', 'sekali', 'lagi', 'mengambil', 'satu', 'jam', 'untuk', 'tiba', 'dan', 'dingin', 'makanan', 'pengganti', 'memiliki', 'cukup', 'jelas', 'sudah', 'diolah', 'dengan', 'microwave', 'seperti', 'keju', 'pada', 'pizza', 'kami', 'telah', 'pergi', 'runny', 'dan', 'pad', 'thai', 'memiliki', 'titik', 'panas', 'saya', 'memesan', 'minuman', 'di', 'kolam', 'renang', 'yang', 'tidak', 'pernah', 'datang', 'dan', 'jadi', 'saya', 'harus', 'memesan', 'lagi']</td>\n",
       "      <td>[kami, sangat, kecewa, dengan, empat, malam, kami, inap, di, resort, ubud, alaya, kami, harap, layan, namun, service, logam, yang, kami, alami, jauh, dari, tempat, ini, kamar, pertama, kami, bau, dan, lembab, dan, foisty, jadi, kami, pindah, kamar, kami, harus, tunggu, tengah, jam, lebih, untuk, ganti, untuk, datang, yang, sedia, 4, 00, oleh, kami, di, kamar, kami, yang, baru, kami, mes, layan, kamar, yang, ambil, satu, jam, untuk, tiba, dan, ketika, itu, dingin, kami, kirim, makan, kembali, dan, ganti, sekali, lagi, ambil, satu, jam, untuk, tiba, dan, dingin, makan, ganti, milik, cukup, jelas, sudah, olah, dengan, microwave, seperti, keju, pada, pizza, ...]</td>\n",
       "      <td>[kecewa, malam, ubud, alaya, harap, layan, service, logam, alami, kamar, bau, lembab, foisty, pindah, kamar, tunggu, jam, ganti, sedia, 4, 00, kamar, mes, layan, kamar, ambil, jam, dingin, kirim, makan, ganti, ambil, jam, dingin, makan, ganti, milik, olah, microwave, keju, pizza, pergi, runny, pad, thai, milik, titik, panas, mes, minum, kolam, renang, mes]</td>\n",
       "      <td>kecewa malam ubud alaya harap layan service logam alami kamar bau lembab foisty pindah kamar tunggu jam ganti sedia 4 00 kamar mes layan kamar ambil jam dingin kirim makan ganti ambil jam dingin makan ganti milik olah microwave keju pizza pergi runny pad thai milik titik panas mes minum kolam renang mes</td>\n",
       "    </tr>\n",
       "    <tr>\n",
       "      <th>695</th>\n",
       "      <td>saya dan suami saya menginap selama 5 hari dan malam di alaya resort selama perjalanan bersama pasangan di ubud. ketika kami memesan tempat ini terlihat sangat bagus dan mewah, dan kami telah banyak harapan. meskipun tempat ini tidak benar-benar buruk, kami akan merekomendasikan untuk mencari tempat yang berbeda dan pasti tidak akan kembali ke sini untuk beberapa alasan. pertama keluar dari poin plus adalah lokasi tempat ini cukup bagus dan dapat berjalan kaki dari monkey forest dan ubud pusat pasar. nilai untuk uang - nilai untuk uang untuk ukuran kamar dan harga yang paling layak tidak khususnya dibandingkan dengan banyak resor lain di bali yang menawarkan lebih jauh. kami mendapat kamar deluxe dan ukuran kamarnya cukup kecil dengan bak mandi khusus yang ditanam tepat di…</td>\n",
       "      <td>2</td>\n",
       "      <td>['saya', 'dan', 'suami', 'saya', 'menginap', 'selama', '5', 'hari', 'dan', 'malam', 'di', 'alaya', 'resort', 'selama', 'perjalanan', 'bersama', 'pasangan', 'di', 'ubud', 'ketika', 'kami', 'memesan', 'tempat', 'ini', 'terlihat', 'sangat', 'bagus', 'dan', 'mewah', 'dan', 'kami', 'telah', 'banyak', 'harapan', 'meskipun', 'tempat', 'ini', 'tidak', 'benar', 'benar', 'buruk', 'kami', 'akan', 'merekomendasikan', 'untuk', 'mencari', 'tempat', 'yang', 'berbeda', 'dan', 'pasti', 'tidak', 'akan', 'kembali', 'ke', 'sini', 'untuk', 'beberapa', 'alasan', 'pertama', 'keluar', 'dari', 'poin', 'plus', 'adalah', 'lokasi', 'tempat', 'ini', 'cukup', 'bagus', 'dan', 'dapat', 'berjalan', 'kaki', 'dari', 'monkey', 'forest', 'dan', 'ubud', 'pusat', 'pasar', 'nilai', 'untuk', 'uang', 'nilai', 'untuk', 'uang', 'untuk', 'ukuran', 'kamar', 'dan', 'harga', 'yang', 'paling', 'layak', 'tidak', 'khususnya', 'dibandingkan', 'dengan', 'banyak', 'resor', 'lain', 'di', 'bali', 'yang', 'menawarkan', 'lebih', 'jauh', 'kami', 'mendapat', 'kamar', 'deluxe', 'dan', 'ukuran', 'kamarnya', 'cukup', 'kecil', 'dengan', 'bak', 'mandi', 'khusus', 'yang', 'ditanam', 'tepat', 'di']</td>\n",
       "      <td>['saya', 'dan', 'suami', 'saya', 'menginap', 'selama', '5', 'hari', 'dan', 'malam', 'di', 'alaya', 'resort', 'selama', 'perjalanan', 'bersama', 'pasangan', 'di', 'ubud', 'ketika', 'kami', 'memesan', 'tempat', 'ini', 'terlihat', 'sangat', 'bagus', 'dan', 'mewah', 'dan', 'kami', 'telah', 'banyak', 'harapan', 'meskipun', 'tempat', 'ini', 'tidak', 'benar', 'benar', 'buruk', 'kami', 'akan', 'merekomendasikan', 'untuk', 'mencari', 'tempat', 'yang', 'berbeda', 'dan', 'pasti', 'tidak', 'akan', 'kembali', 'ke', 'sini', 'untuk', 'beberapa', 'alasan', 'pertama', 'keluar', 'dari', 'poin', 'plus', 'adalah', 'lokasi', 'tempat', 'ini', 'cukup', 'bagus', 'dan', 'dapat', 'berjalan', 'kaki', 'dari', 'monkey', 'forest', 'dan', 'ubud', 'pusat', 'pasar', 'nilai', 'untuk', 'uang', 'nilai', 'untuk', 'uang', 'untuk', 'ukuran', 'kamar', 'dan', 'harga', 'yang', 'paling', 'layak', 'tidak', 'khususnya', 'dibandingkan', 'dengan', 'banyak', 'resor', 'lain', 'di', 'bali', 'yang', 'menawarkan', 'lebih', 'jauh', 'kami', 'mendapat', 'kamar', 'deluxe', 'dan', 'ukuran', 'kamarnya', 'cukup', 'kecil', 'dengan', 'bak', 'mandi', 'khusus', 'yang', 'ditanam', 'tepat', 'di']</td>\n",
       "      <td>[saya, dan, suami, saya, inap, lama, 5, hari, dan, malam, di, alaya, resort, lama, jalan, sama, pasang, di, ubud, ketika, kami, mes, tempat, ini, lihat, sangat, bagus, dan, mewah, dan, kami, telah, banyak, harap, meski, tempat, ini, tidak, benar, benar, buruk, kami, akan, rekomendasi, untuk, cari, tempat, yang, beda, dan, pasti, tidak, akan, kembali, ke, sini, untuk, beberapa, alas, pertama, keluar, dari, poin, plus, adalah, lokasi, tempat, ini, cukup, bagus, dan, dapat, jalan, kaki, dari, monkey, forest, dan, ubud, pusat, pasar, nilai, untuk, uang, nilai, untuk, uang, untuk, ukur, kamar, dan, harga, yang, paling, layak, tidak, khusus, banding, dengan, banyak, ...]</td>\n",
       "      <td>[suami, 5, malam, alaya, jalan, pasang, ubud, mes, lihat, mewah, harap, buruk, rekomendasi, cari, beda, alas, poin, plus, lokasi, jalan, kaki, monkey, forest, ubud, pusat, pasar, nilai, uang, nilai, uang, ukur, kamar, harga, layak, khusus, banding, tawar, kamar, deluxe, ukur, kamar, mandi, khusus, tanam]</td>\n",
       "      <td>suami 5 malam alaya jalan pasang ubud mes lihat mewah harap buruk rekomendasi cari beda alas poin plus lokasi jalan kaki monkey forest ubud pusat pasar nilai uang nilai uang ukur kamar harga layak khusus banding tawar kamar deluxe ukur kamar mandi khusus tanam</td>\n",
       "    </tr>\n",
       "    <tr>\n",
       "      <th>922</th>\n",
       "      <td>kami memesan melalui expedia di alaya ubud november 2016. kamar kami telah dikonfirmasi dan dijamin untuk kedatangan akhir. sayangnya, di alaya tidak merasa terdorong untuk memberikan jaminan ini karena tiba di 2 april di sekitar 3 jam di pagi hari kami telah belajar bahwa reservasi hotel telah dimodifikasi untuk kemudian check in tanggal 4 april dan bahwa ada tidak ada kamar yang tersedia untuk mengakomodasi kami. pada awalnya petugas memberitahu kami mengubah tanggal kami kemudian pindah ke berasumsi menyalahkan expedia. untungnya dengan bantuan sopir shuttle kami, petugas dapat mencari ketersediaan di hotel lain di dekatnya. kami meminta untuk menghubungi alaya ubud setelah 9 jam untuk melihat jika bisa mengatasi situasi. namun, setelah tiba di hotel baru dan layanan…</td>\n",
       "      <td>2</td>\n",
       "      <td>['kami', 'memesan', 'melalui', 'expedia', 'di', 'alaya', 'ubud', 'november', '2016', 'kamar', 'kami', 'telah', 'dikonfirmasi', 'dan', 'dijamin', 'untuk', 'kedatangan', 'akhir', 'sayangnya', 'di', 'alaya', 'tidak', 'merasa', 'terdorong', 'untuk', 'memberikan', 'jaminan', 'ini', 'karena', 'tiba', 'di', '2', 'april', 'di', 'sekitar', '3', 'jam', 'di', 'pagi', 'hari', 'kami', 'telah', 'belajar', 'bahwa', 'reservasi', 'hotel', 'telah', 'dimodifikasi', 'untuk', 'kemudian', 'check', 'in', 'tanggal', '4', 'april', 'dan', 'bahwa', 'ada', 'tidak', 'ada', 'kamar', 'yang', 'tersedia', 'untuk', 'mengakomodasi', 'kami', 'pada', 'awalnya', 'petugas', 'memberitahu', 'kami', 'mengubah', 'tanggal', 'kami', 'kemudian', 'pindah', 'ke', 'berasumsi', 'menyalahkan', 'expedia', 'untungnya', 'dengan', 'bantuan', 'sopir', 'shuttle', 'kami', 'petugas', 'dapat', 'mencari', 'ketersediaan', 'di', 'hotel', 'lain', 'di', 'dekatnya', 'kami', 'meminta', 'untuk', 'menghubungi', 'alaya', 'ubud', 'setelah', '9', 'jam', 'untuk', 'melihat', 'jika', 'bisa', 'mengatasi', 'situasi', 'namun', 'setelah', 'tiba', 'di', 'hotel', 'baru', 'dan', 'layanan']</td>\n",
       "      <td>['kami', 'memesan', 'melalui', 'expedia', 'di', 'alaya', 'ubud', 'november', '2016', 'kamar', 'kami', 'telah', 'dikonfirmasi', 'dan', 'dijamin', 'untuk', 'kedatangan', 'akhir', 'sayangnya', 'di', 'alaya', 'tidak', 'merasa', 'terdorong', 'untuk', 'memberikan', 'jaminan', 'ini', 'karena', 'tiba', 'di', '2', 'april', 'di', 'sekitar', '3', 'jam', 'di', 'pagi', 'hari', 'kami', 'telah', 'belajar', 'bahwa', 'reservasi', 'hotel', 'telah', 'dimodifikasi', 'untuk', 'kemudian', 'check', 'ini', 'tanggal', '4', 'april', 'dan', 'bahwa', 'ada', 'tidak', 'ada', 'kamar', 'yang', 'tersedia', 'untuk', 'mengakomodasi', 'kami', 'pada', 'awalnya', 'petugas', 'memberitahu', 'kami', 'mengubah', 'tanggal', 'kami', 'kemudian', 'pindah', 'ke', 'berasumsi', 'menyalahkan', 'expedia', 'untungnya', 'dengan', 'bantuan', 'sopir', 'shuttle', 'kami', 'petugas', 'dapat', 'mencari', 'ketersediaan', 'di', 'hotel', 'lain', 'di', 'dekatnya', 'kami', 'meminta', 'untuk', 'menghubungi', 'alaya', 'ubud', 'setelah', '9', 'jam', 'untuk', 'melihat', 'jika', 'bisa', 'mengatasi', 'situasi', 'namun', 'setelah', 'tiba', 'di', 'hotel', 'baru', 'dan', 'layanan']</td>\n",
       "      <td>[kami, mes, lalu, expedia, di, alaya, ubud, november, 2016, kamar, kami, telah, konfirmasi, dan, jamin, untuk, datang, akhir, sayang, di, alaya, tidak, rasa, dorong, untuk, beri, jamin, ini, karena, tiba, di, 2, april, di, sekitar, 3, jam, di, pagi, hari, kami, telah, ajar, bahwa, reservasi, hotel, telah, modifikasi, untuk, kemudian, check, ini, tanggal, 4, april, dan, bahwa, ada, tidak, ada, kamar, yang, sedia, untuk, akomodasi, kami, pada, awal, tugas, memberitahu, kami, ubah, tanggal, kami, kemudian, pindah, ke, asumsi, salah, expedia, untung, dengan, bantu, sopir, shuttle, kami, tugas, dapat, cari, sedia, di, hotel, lain, di, dekat, kami, minta, untuk, hubung, alaya, ...]</td>\n",
       "      <td>[mes, expedia, alaya, ubud, november, 2016, kamar, konfirmasi, jamin, sayang, alaya, dorong, jamin, 2, april, 3, jam, pagi, ajar, reservasi, modifikasi, check, tanggal, 4, april, kamar, sedia, akomodasi, tugas, memberitahu, ubah, tanggal, pindah, asumsi, salah, expedia, untung, bantu, sopir, shuttle, tugas, cari, sedia, hubung, alaya, ubud, 9, jam, lihat, situasi, layan]</td>\n",
       "      <td>mes expedia alaya ubud november 2016 kamar konfirmasi jamin sayang alaya dorong jamin 2 april 3 jam pagi ajar reservasi modifikasi check tanggal 4 april kamar sedia akomodasi tugas memberitahu ubah tanggal pindah asumsi salah expedia untung bantu sopir shuttle tugas cari sedia hubung alaya ubud 9 jam lihat situasi layan</td>\n",
       "    </tr>\n",
       "    <tr>\n",
       "      <th>942</th>\n",
       "      <td>alasan hotel dan kamar yang indah. orang-orang yang bekerja di hotel juga sangat indah. itu berhenti di sana. komunikasi dengan hotel sebelum untuk kedatangan kami sangat lambat dan lalai menyebutkan bahwa kami tinggal akan menjadi tenang selama hari berarti bahwa semua jalan ke ubud dari bandara diblokir, membawa kami 3.5 jam untuk tiba.   juga, kami terpaksa tinggal di hotel untuk seluruh hari, yang adalah baik-baik saja dengan kami tapi mereka tidak berencana untuk itu. yang berarti tidak ada cukup tempat untuk orang-orang untuk meninggalkan orang-orang yang tiduran di rumput. sekelompok 20 tamu yang sangat keras dengan anak-anak mengambil alih kolam renang. resepsionis hotel mengatakan kepada kami setidaknya 12 orang lain telah mengeluh sebelum kami. tidak ada yang…</td>\n",
       "      <td>2</td>\n",
       "      <td>['alasan', 'hotel', 'dan', 'kamar', 'yang', 'indah', 'orang', 'orang', 'yang', 'bekerja', 'di', 'hotel', 'juga', 'sangat', 'indah', 'itu', 'berhenti', 'di', 'sana', 'komunikasi', 'dengan', 'hotel', 'sebelum', 'untuk', 'kedatangan', 'kami', 'sangat', 'lambat', 'dan', 'lalai', 'menyebutkan', 'bahwa', 'kami', 'tinggal', 'akan', 'menjadi', 'tenang', 'selama', 'hari', 'berarti', 'bahwa', 'semua', 'jalan', 'ke', 'ubud', 'dari', 'bandara', 'diblokir', 'membawa', 'kami', '3', '5', 'jam', 'untuk', 'tiba', 'juga', 'kami', 'terpaksa', 'tinggal', 'di', 'hotel', 'untuk', 'seluruh', 'hari', 'yang', 'adalah', 'baik', 'baik', 'saja', 'dengan', 'kami', 'tapi', 'mereka', 'tidak', 'berencana', 'untuk', 'itu', 'yang', 'berarti', 'tidak', 'ada', 'cukup', 'tempat', 'untuk', 'orang', 'orang', 'untuk', 'meninggalkan', 'orang', 'orang', 'yang', 'tiduran', 'di', 'rumput', 'sekelompok', '20', 'tamu', 'yang', 'sangat', 'keras', 'dengan', 'anak', 'anak', 'mengambil', 'alih', 'kolam', 'renang', 'resepsionis', 'hotel', 'mengatakan', 'kepada', 'kami', 'setidaknya', '12', 'orang', 'lain', 'telah', 'mengeluh', 'sebelum', 'kami', 'tidak', 'ada', 'yang']</td>\n",
       "      <td>['alasan', 'hotel', 'dan', 'kamar', 'yang', 'indah', 'orang', 'orang', 'yang', 'bekerja', 'di', 'hotel', 'juga', 'sangat', 'indah', 'itu', 'berhenti', 'di', 'sana', 'komunikasi', 'dengan', 'hotel', 'sebelum', 'untuk', 'kedatangan', 'kami', 'sangat', 'lambat', 'dan', 'lalai', 'menyebutkan', 'bahwa', 'kami', 'tinggal', 'akan', 'menjadi', 'tenang', 'selama', 'hari', 'berarti', 'bahwa', 'semua', 'jalan', 'ke', 'ubud', 'dari', 'bandara', 'diblokir', 'membawa', 'kami', '3', '5', 'jam', 'untuk', 'tiba', 'juga', 'kami', 'terpaksa', 'tinggal', 'di', 'hotel', 'untuk', 'seluruh', 'hari', 'yang', 'adalah', 'baik', 'baik', 'saja', 'dengan', 'kami', 'tapi', 'mereka', 'tidak', 'berencana', 'untuk', 'itu', 'yang', 'berarti', 'tidak', 'ada', 'cukup', 'tempat', 'untuk', 'orang', 'orang', 'untuk', 'meninggalkan', 'orang', 'orang', 'yang', 'tiduran', 'di', 'rumput', 'sekelompok', '20', 'tamu', 'yang', 'sangat', 'keras', 'dengan', 'anak', 'anak', 'mengambil', 'alih', 'kolam', 'renang', 'resepsionis', 'hotel', 'mengatakan', 'kepada', 'kami', 'setidaknya', '12', 'orang', 'lain', 'telah', 'mengeluh', 'sebelum', 'kami', 'tidak', 'ada', 'yang']</td>\n",
       "      <td>[alas, hotel, dan, kamar, yang, indah, orang, orang, yang, kerja, di, hotel, juga, sangat, indah, itu, henti, di, sana, komunikasi, dengan, hotel, belum, untuk, datang, kami, sangat, lambat, dan, lalai, sebut, bahwa, kami, tinggal, akan, jadi, tenang, lama, hari, arti, bahwa, semua, jalan, ke, ubud, dari, bandara, blokir, bawa, kami, 3, 5, jam, untuk, tiba, juga, kami, paksa, tinggal, di, hotel, untuk, seluruh, hari, yang, adalah, baik, baik, saja, dengan, kami, tapi, mereka, tidak, rencana, untuk, itu, yang, arti, tidak, ada, cukup, tempat, untuk, orang, orang, untuk, tinggal, orang, orang, yang, tidur, di, rumput, kelompok, 20, tamu, yang, sangat, keras, ...]</td>\n",
       "      <td>[alas, kamar, indah, orang, orang, kerja, indah, henti, komunikasi, lambat, lalai, tinggal, tenang, arti, jalan, ubud, bandara, blokir, bawa, 3, 5, jam, paksa, tinggal, rencana, arti, orang, orang, tinggal, orang, orang, tidur, rumput, kelompok, 20, tamu, keras, anak, anak, ambil, alih, kolam, renang, resepsionis, 12, orang, keluh]</td>\n",
       "      <td>alas kamar indah orang orang kerja indah henti komunikasi lambat lalai tinggal tenang arti jalan ubud bandara blokir bawa 3 5 jam paksa tinggal rencana arti orang orang tinggal orang orang tidur rumput kelompok 20 tamu keras anak anak ambil alih kolam renang resepsionis 12 orang keluh</td>\n",
       "    </tr>\n",
       "    <tr>\n",
       "      <th>1121</th>\n",
       "      <td>alaya resort adalah baik disajikan di pusat kota sibuk ubud. mereka sedang melakukan pemeliharaan pada kolam renang dengan konyol sampai 2 november nd dan tim berkebun telah whipper - snipppering seluruh resor sepanjang pagi. ada benar-benar tidak ada kedamaian dapat ditemukan di sini jadi saya ingin pindah ke hotel sesegera mungkin.</td>\n",
       "      <td>2</td>\n",
       "      <td>['alaya', 'resort', 'adalah', 'baik', 'disajikan', 'di', 'pusat', 'kota', 'sibuk', 'ubud', 'mereka', 'sedang', 'melakukan', 'pemeliharaan', 'pada', 'kolam', 'renang', 'dengan', 'konyol', 'sampai', '2', 'november', 'nd', 'dan', 'tim', 'berkebun', 'telah', 'whipper', 'snipppering', 'seluruh', 'resor', 'sepanjang', 'pagi', 'ada', 'benar', 'benar', 'tidak', 'ada', 'kedamaian', 'dapat', 'ditemukan', 'di', 'sini', 'jadi', 'saya', 'ingin', 'pindah', 'ke', 'hotel', 'sesegera', 'mungkin']</td>\n",
       "      <td>['alaya', 'resort', 'adalah', 'baik', 'disajikan', 'di', 'pusat', 'kota', 'sibuk', 'ubud', 'mereka', 'sedang', 'melakukan', 'pemeliharaan', 'pada', 'kolam', 'renang', 'dengan', 'konyol', 'sampai', '2', 'november', 'indak', 'dan', 'tim', 'berkebun', 'telah', 'whipper', 'snipppering', 'seluruh', 'resor', 'sepanjang', 'pagi', 'ada', 'benar', 'benar', 'tidak', 'ada', 'kedamaian', 'dapat', 'ditemukan', 'di', 'sini', 'jadi', 'saya', 'ingin', 'pindah', 'ke', 'hotel', 'sesegera', 'mungkin']</td>\n",
       "      <td>[alaya, resort, adalah, baik, saji, di, pusat, kota, sibuk, ubud, mereka, sedang, laku, pelihara, pada, kolam, renang, dengan, konyol, sampai, 2, november, indak, dan, tim, kebun, telah, whipper, snipppering, seluruh, resor, panjang, pagi, ada, benar, benar, tidak, ada, damai, dapat, temu, di, sini, jadi, saya, ingin, pindah, ke, hotel, segera, mungkin]</td>\n",
       "      <td>[alaya, saji, pusat, kota, sibuk, ubud, laku, pelihara, kolam, renang, konyol, 2, november, indak, tim, kebun, whipper, snipppering, pagi, damai, temu, pindah]</td>\n",
       "      <td>alaya saji pusat kota sibuk ubud laku pelihara kolam renang konyol 2 november indak tim kebun whipper snipppering pagi damai temu pindah</td>\n",
       "    </tr>\n",
       "    <tr>\n",
       "      <th>...</th>\n",
       "      <td>...</td>\n",
       "      <td>...</td>\n",
       "      <td>...</td>\n",
       "      <td>...</td>\n",
       "      <td>...</td>\n",
       "      <td>...</td>\n",
       "      <td>...</td>\n",
       "    </tr>\n",
       "    <tr>\n",
       "      <th>21117</th>\n",
       "      <td>saya harus mengatakan bahwa staf yang sangat baik. layanan pelanggan adalah luar biasa, terlepas dari kami harus menunggu selama satu jam di bawah sinar matahari untuk masuk ke kamar kami. saya suka ketika anda datang kembali ke kamar di malam hari ada botol dari teh herbal dan sedikit manis. kamar mandi yang indah produk di kamar mandi. hotel ini tepat di pantai dan kolam renang, yang anda dapat duduk dan menonton semua pergi oleh pedagang dan orang-orang menonton. sarapan adalah bagus karena dapat memesan makanan dari menu yang paling panas dan itu membuat untuk anda. resor ini memiliki taman yang menakjubkan, terima kasih untuk tukang kebun yang ramah. itu adalah hari ulang tahun saya dan mereka membuat saya kue luar biasa saat sarapan dan menyanyikan lagu selamat ulang…</td>\n",
       "      <td>2</td>\n",
       "      <td>['saya', 'harus', 'mengatakan', 'bahwa', 'staf', 'yang', 'sangat', 'baik', 'layanan', 'pelanggan', 'adalah', 'luar', 'biasa', 'terlepas', 'dari', 'kami', 'harus', 'menunggu', 'selama', 'satu', 'jam', 'di', 'bawah', 'sinar', 'matahari', 'untuk', 'masuk', 'ke', 'kamar', 'kami', 'saya', 'suka', 'ketika', 'anda', 'datang', 'kembali', 'ke', 'kamar', 'di', 'malam', 'hari', 'ada', 'botol', 'dari', 'teh', 'herbal', 'dan', 'sedikit', 'manis', 'kamar', 'mandi', 'yang', 'indah', 'produk', 'di', 'kamar', 'mandi', 'hotel', 'ini', 'tepat', 'di', 'pantai', 'dan', 'kolam', 'renang', 'yang', 'anda', 'dapat', 'duduk', 'dan', 'menonton', 'semua', 'pergi', 'oleh', 'pedagang', 'dan', 'orang', 'orang', 'menonton', 'sarapan', 'adalah', 'bagus', 'karena', 'dapat', 'memesan', 'makanan', 'dari', 'menu', 'yang', 'paling', 'panas', 'dan', 'itu', 'membuat', 'untuk', 'anda', 'resor', 'ini', 'memiliki', 'taman', 'yang', 'menakjubkan', 'terima', 'kasih', 'untuk', 'tukang', 'kebun', 'yang', 'ramah', 'itu', 'adalah', 'hari', 'ulang', 'tahun', 'saya', 'dan', 'mereka', 'membuat', 'saya', 'kue', 'luar', 'biasa', 'saat', 'sarapan', 'dan', 'menyanyikan', 'lagu', 'selamat', 'ulang']</td>\n",
       "      <td>['saya', 'harus', 'mengatakan', 'bahwa', 'staf', 'yang', 'sangat', 'baik', 'layanan', 'pelanggan', 'adalah', 'luar', 'biasa', 'terlepas', 'dari', 'kami', 'harus', 'menunggu', 'selama', 'satu', 'jam', 'di', 'bawah', 'sinar', 'matahari', 'untuk', 'masuk', 'ke', 'kamar', 'kami', 'saya', 'suka', 'ketika', 'anda', 'datang', 'kembali', 'ke', 'kamar', 'di', 'malam', 'hari', 'ada', 'botol', 'dari', 'teh', 'herbal', 'dan', 'sedikit', 'manis', 'kamar', 'mandi', 'yang', 'indah', 'produk', 'di', 'kamar', 'mandi', 'hotel', 'ini', 'tepat', 'di', 'pantai', 'dan', 'kolam', 'renang', 'yang', 'anda', 'dapat', 'duduk', 'dan', 'menonton', 'semua', 'pergi', 'oleh', 'pedagang', 'dan', 'orang', 'orang', 'menonton', 'sarapan', 'adalah', 'bagus', 'karena', 'dapat', 'memesan', 'makanan', 'dari', 'menu', 'yang', 'paling', 'panas', 'dan', 'itu', 'membuat', 'untuk', 'anda', 'resor', 'ini', 'memiliki', 'taman', 'yang', 'menakjubkan', 'terima', 'kasih', 'untuk', 'tukang', 'kebun', 'yang', 'ramah', 'itu', 'adalah', 'hari', 'ulang', 'tahun', 'saya', 'dan', 'mereka', 'membuat', 'saya', 'kue', 'luar', 'biasa', 'saat', 'sarapan', 'dan', 'menyanyikan', 'lagu', 'selamat', 'ulang']</td>\n",
       "      <td>[saya, harus, kata, bahwa, staf, yang, sangat, baik, layan, langgan, adalah, luar, biasa, lepas, dari, kami, harus, tunggu, lama, satu, jam, di, bawah, sinar, matahari, untuk, masuk, ke, kamar, kami, saya, suka, ketika, anda, datang, kembali, ke, kamar, di, malam, hari, ada, botol, dari, teh, herbal, dan, sedikit, manis, kamar, mandi, yang, indah, produk, di, kamar, mandi, hotel, ini, tepat, di, pantai, dan, kolam, renang, yang, anda, dapat, duduk, dan, tonton, semua, pergi, oleh, dagang, dan, orang, orang, tonton, sarap, adalah, bagus, karena, dapat, mes, makan, dari, menu, yang, paling, panas, dan, itu, buat, untuk, anda, resor, ini, milik, taman, ...]</td>\n",
       "      <td>[layan, langgan, lepas, tunggu, jam, sinar, matahari, masuk, kamar, suka, kamar, malam, botol, teh, herbal, manis, kamar, mandi, indah, produk, kamar, mandi, pantai, kolam, renang, duduk, tonton, pergi, dagang, orang, orang, tonton, sarap, mes, makan, menu, panas, milik, taman, takjub, terima, kasih, tukang, kebun, ramah, ulang, kue, sarap, nyanyi, lagu, selamat, ulang]</td>\n",
       "      <td>layan langgan lepas tunggu jam sinar matahari masuk kamar suka kamar malam botol teh herbal manis kamar mandi indah produk kamar mandi pantai kolam renang duduk tonton pergi dagang orang orang tonton sarap mes makan menu panas milik taman takjub terima kasih tukang kebun ramah ulang kue sarap nyanyi lagu selamat ulang</td>\n",
       "    </tr>\n",
       "    <tr>\n",
       "      <th>21167</th>\n",
       "      <td>saya benar-benar mencoba untuk lebih suka hotel ini tapi aku mencoba seperti itu lebih aku tidak suka itu. kami tiba sekitar 10pm dan diberi tur singkat dari daerah sarapan dan lobi daerah di mana mesin atm. namun selama kami tinggal kami melihat orang lain mendapatkan penuh tur hotel dan lokasi. kami tinggal di garden wing yang kami mengambil untuk di kereta golf di seberang jalan yang bisa sangat sibuk di kali, kemudian melewati keamanan pintu masuk berdinding terbuka. kamar kami terletak di lantai dasar dan memiliki balkon, tapi di seberang dari kamar adalah sebuah paviliun yang meninggalkan banyak cahaya alami yang sudah kamar yang gelap. tidak ada lampu utama di kamar hanya dinding lampu dan beberapa lampu yang tidak memberikan cukup cahaya untuk menerangi dari kamar yang…</td>\n",
       "      <td>2</td>\n",
       "      <td>['saya', 'benar', 'benar', 'mencoba', 'untuk', 'lebih', 'suka', 'hotel', 'ini', 'tapi', 'aku', 'mencoba', 'seperti', 'itu', 'lebih', 'aku', 'tidak', 'suka', 'itu', 'kami', 'tiba', 'sekitar', '10pm', 'dan', 'diberi', 'tur', 'singkat', 'dari', 'daerah', 'sarapan', 'dan', 'lobi', 'daerah', 'di', 'mana', 'mesin', 'atm', 'namun', 'selama', 'kami', 'tinggal', 'kami', 'melihat', 'orang', 'lain', 'mendapatkan', 'penuh', 'tur', 'hotel', 'dan', 'lokasi', 'kami', 'tinggal', 'di', 'garden', 'wing', 'yang', 'kami', 'mengambil', 'untuk', 'di', 'kereta', 'golf', 'di', 'seberang', 'jalan', 'yang', 'bisa', 'sangat', 'sibuk', 'di', 'kali', 'kemudian', 'melewati', 'keamanan', 'pintu', 'masuk', 'berdinding', 'terbuka', 'kamar', 'kami', 'terletak', 'di', 'lantai', 'dasar', 'dan', 'memiliki', 'balkon', 'tapi', 'di', 'seberang', 'dari', 'kamar', 'adalah', 'sebuah', 'paviliun', 'yang', 'meninggalkan', 'banyak', 'cahaya', 'alami', 'yang', 'sudah', 'kamar', 'yang', 'gelap', 'tidak', 'ada', 'lampu', 'utama', 'di', 'kamar', 'hanya', 'dinding', 'lampu', 'dan', 'beberapa', 'lampu', 'yang', 'tidak', 'memberikan', 'cukup', 'cahaya', 'untuk', 'menerangi', 'dari', 'kamar', 'yang']</td>\n",
       "      <td>['saya', 'benar', 'benar', 'mencoba', 'untuk', 'lebih', 'suka', 'hotel', 'ini', 'tapi', 'aku', 'mencoba', 'seperti', 'itu', 'lebih', 'aku', 'tidak', 'suka', 'itu', 'kami', 'tiba', 'sekitar', '10pm', 'dan', 'diberi', 'tur', 'singkat', 'dari', 'daerah', 'sarapan', 'dan', 'lobi', 'daerah', 'di', 'mana', 'mesin', 'atm', 'namun', 'selama', 'kami', 'tinggal', 'kami', 'melihat', 'orang', 'lain', 'mendapatkan', 'penuh', 'tur', 'hotel', 'dan', 'lokasi', 'kami', 'tinggal', 'di', 'garden', 'wing', 'yang', 'kami', 'mengambil', 'untuk', 'di', 'kereta', 'golf', 'di', 'seberang', 'jalan', 'yang', 'bisa', 'sangat', 'sibuk', 'di', 'kali', 'kemudian', 'melewati', 'keamanan', 'pintu', 'masuk', 'berdinding', 'terbuka', 'kamar', 'kami', 'terletak', 'di', 'lantai', 'dasar', 'dan', 'memiliki', 'balkon', 'tapi', 'di', 'seberang', 'dari', 'kamar', 'adalah', 'sebuah', 'paviliun', 'yang', 'meninggalkan', 'banyak', 'cahaya', 'alami', 'yang', 'sudah', 'kamar', 'yang', 'gelap', 'tidak', 'ada', 'lampu', 'utama', 'di', 'kamar', 'hanya', 'dinding', 'lampu', 'dan', 'beberapa', 'lampu', 'yang', 'tidak', 'memberikan', 'cukup', 'cahaya', 'untuk', 'menerangi', 'dari', 'kamar', 'yang']</td>\n",
       "      <td>[saya, benar, benar, coba, untuk, lebih, suka, hotel, ini, tapi, aku, coba, seperti, itu, lebih, aku, tidak, suka, itu, kami, tiba, sekitar, 10pm, dan, beri, tur, singkat, dari, daerah, sarap, dan, lobi, daerah, di, mana, mesin, atm, namun, lama, kami, tinggal, kami, lihat, orang, lain, dapat, penuh, tur, hotel, dan, lokasi, kami, tinggal, di, garden, wing, yang, kami, ambil, untuk, di, kereta, golf, di, seberang, jalan, yang, bisa, sangat, sibuk, di, kali, kemudian, lewat, aman, pintu, masuk, dinding, buka, kamar, kami, letak, di, lantai, dasar, dan, milik, balkon, tapi, di, seberang, dari, kamar, adalah, buah, paviliun, yang, tinggal, banyak, cahaya, ...]</td>\n",
       "      <td>[coba, suka, coba, suka, 10pm, tur, singkat, daerah, sarap, lobi, daerah, mesin, atm, tinggal, lihat, orang, penuh, tur, lokasi, tinggal, garden, wing, ambil, kereta, golf, seberang, jalan, sibuk, kali, aman, pintu, masuk, dinding, buka, kamar, letak, lantai, dasar, milik, balkon, seberang, kamar, buah, paviliun, tinggal, cahaya, alami, kamar, gelap, lampu, utama, kamar, dinding, lampu, lampu, cahaya, rang, kamar]</td>\n",
       "      <td>coba suka coba suka 10pm tur singkat daerah sarap lobi daerah mesin atm tinggal lihat orang penuh tur lokasi tinggal garden wing ambil kereta golf seberang jalan sibuk kali aman pintu masuk dinding buka kamar letak lantai dasar milik balkon seberang kamar buah paviliun tinggal cahaya alami kamar gelap lampu utama kamar dinding lampu lampu cahaya rang kamar</td>\n",
       "    </tr>\n",
       "    <tr>\n",
       "      <th>21281</th>\n",
       "      <td>kami memesan salah satu kamar beach wing sebagai muka pembayaran. tapi setiba kami diberitahu bahwa tidak ada ruang yang tersedia sehingga mereka upgrade kita untuk suite. sekarang ini tidak ada besar suite. kami tiba cukup terlambat di malam hari jadi. pagi hari berikutnya, kami melihat hanya satu keranjang buah-buah yang kita jejak dimaem. kami meminta mereka untuk mengubah ini tapi itu tidak boleh berubah adalah jawaban yang kita punya. lalu di kamar mandi jacuzzi tidak bekerja. kami mendaftar untuk makan dan pergi. insinyur datang dan di malam hari kami diberitahu bahwa itu telah diperbaiki. namun jejak kerja pagi hari berikutnya juga. kami adalah keputusan harus check-out sehingga kami memilih untuk mengabaikan dan meninggalkan.  secara keseluruhan suasana yang membosankan,…</td>\n",
       "      <td>2</td>\n",
       "      <td>['kami', 'memesan', 'salah', 'satu', 'kamar', 'beach', 'wing', 'sebagai', 'muka', 'pembayaran', 'tapi', 'setiba', 'kami', 'diberitahu', 'bahwa', 'tidak', 'ada', 'ruang', 'yang', 'tersedia', 'sehingga', 'mereka', 'upgrade', 'kita', 'untuk', 'suite', 'sekarang', 'ini', 'tidak', 'ada', 'besar', 'suite', 'kami', 'tiba', 'cukup', 'terlambat', 'di', 'malam', 'hari', 'jadi', 'pagi', 'hari', 'berikutnya', 'kami', 'melihat', 'hanya', 'satu', 'keranjang', 'buah', 'buah', 'yang', 'kita', 'jejak', 'dimaem', 'kami', 'meminta', 'mereka', 'untuk', 'mengubah', 'ini', 'tapi', 'itu', 'tidak', 'boleh', 'berubah', 'adalah', 'jawaban', 'yang', 'kita', 'punya', 'lalu', 'di', 'kamar', 'mandi', 'jacuzzi', 'tidak', 'bekerja', 'kami', 'mendaftar', 'untuk', 'makan', 'dan', 'pergi', 'insinyur', 'datang', 'dan', 'di', 'malam', 'hari', 'kami', 'diberitahu', 'bahwa', 'itu', 'telah', 'diperbaiki', 'namun', 'jejak', 'kerja', 'pagi', 'hari', 'berikutnya', 'juga', 'kami', 'adalah', 'keputusan', 'harus', 'check', 'out', 'sehingga', 'kami', 'memilih', 'untuk', 'mengabaikan', 'dan', 'meninggalkan', 'secara', 'keseluruhan', 'suasana', 'yang', 'membosankan']</td>\n",
       "      <td>['kami', 'memesan', 'salah', 'satu', 'kamar', 'beach', 'wing', 'sebagai', 'muka', 'pembayaran', 'tapi', 'setiba', 'kami', 'diberitahu', 'bahwa', 'tidak', 'ada', 'ruang', 'yang', 'tersedia', 'sehingga', 'mereka', 'upgrade', 'kita', 'untuk', 'suite', 'sekarang', 'ini', 'tidak', 'ada', 'besar', 'suite', 'kami', 'tiba', 'cukup', 'terlambat', 'di', 'malam', 'hari', 'jadi', 'pagi', 'hari', 'berikutnya', 'kami', 'melihat', 'hanya', 'satu', 'keranjang', 'buah', 'buah', 'yang', 'kita', 'jejak', 'dimaem', 'kami', 'meminta', 'mereka', 'untuk', 'mengubah', 'ini', 'tapi', 'itu', 'tidak', 'boleh', 'berubah', 'adalah', 'jawaban', 'yang', 'kita', 'punya', 'lalu', 'di', 'kamar', 'mandi', 'jacuzzi', 'tidak', 'bekerja', 'kami', 'mendaftar', 'untuk', 'makan', 'dan', 'pergi', 'insinyur', 'datang', 'dan', 'di', 'malam', 'hari', 'kami', 'diberitahu', 'bahwa', 'itu', 'telah', 'diperbaiki', 'namun', 'jejak', 'kerja', 'pagi', 'hari', 'berikutnya', 'juga', 'kami', 'adalah', 'keputusan', 'harus', 'check', 'out', 'sehingga', 'kami', 'memilih', 'untuk', 'mengabaikan', 'dan', 'meninggalkan', 'secara', 'keseluruhan', 'suasana', 'yang', 'membosankan']</td>\n",
       "      <td>[kami, mes, salah, satu, kamar, beach, wing, bagai, muka, bayar, tapi, tiba, kami, diberitahu, bahwa, tidak, ada, ruang, yang, sedia, sehingga, mereka, upgrade, kita, untuk, suite, sekarang, ini, tidak, ada, besar, suite, kami, tiba, cukup, lambat, di, malam, hari, jadi, pagi, hari, ikut, kami, lihat, hanya, satu, keranjang, buah, buah, yang, kita, jejak, dimaem, kami, minta, mereka, untuk, ubah, ini, tapi, itu, tidak, boleh, ubah, adalah, jawab, yang, kita, punya, lalu, di, kamar, mandi, jacuzzi, tidak, kerja, kami, daftar, untuk, makan, dan, pergi, insinyur, datang, dan, di, malam, hari, kami, diberitahu, bahwa, itu, telah, baik, namun, jejak, kerja, pagi, hari, ...]</td>\n",
       "      <td>[mes, salah, kamar, beach, wing, muka, bayar, diberitahu, ruang, sedia, upgrade, suite, suite, lambat, malam, pagi, lihat, keranjang, buah, buah, jejak, dimaem, ubah, ubah, kamar, mandi, jacuzzi, kerja, daftar, makan, pergi, insinyur, malam, diberitahu, jejak, kerja, pagi, putus, check, out, pilih, abai, tinggal, suasana, bosan]</td>\n",
       "      <td>mes salah kamar beach wing muka bayar diberitahu ruang sedia upgrade suite suite lambat malam pagi lihat keranjang buah buah jejak dimaem ubah ubah kamar mandi jacuzzi kerja daftar makan pergi insinyur malam diberitahu jejak kerja pagi putus check out pilih abai tinggal suasana bosan</td>\n",
       "    </tr>\n",
       "    <tr>\n",
       "      <th>21315</th>\n",
       "      <td>aku selalu tinggal di seminyak ketika bepergian ke bali. aku tidak pernah begitu kecewa dalam layanan mereka. harus ada perubahan kepemilikan, karena itu benar-benar ramai dan tidak akan tinggal di sana lagi. kamar tidak dibersihkan atau siap ketika tiba (kami mengubah kamar dua kali, dan ini tidak siap bahkan setelah check in di 2pm) namun mereka akan mengganggu anda sebelum waktu check out untuk meninggalkan. mereka cukup banyak biaya anda untuk bernapa di tempat ini sekarang yang juga mengecewakan. terlambat check-out tidak boleh ditarik terutama saat anda sebagai pelanggan tetap. aku yakin hotel legian akan mencintai bisnis saya dari sekarang (saya di sana 5 - 6 kali setahun)</td>\n",
       "      <td>2</td>\n",
       "      <td>['aku', 'selalu', 'tinggal', 'di', 'seminyak', 'ketika', 'bepergian', 'ke', 'bali', 'aku', 'tidak', 'pernah', 'begitu', 'kecewa', 'dalam', 'layanan', 'mereka', 'harus', 'ada', 'perubahan', 'kepemilikan', 'karena', 'itu', 'benar', 'benar', 'ramai', 'dan', 'tidak', 'akan', 'tinggal', 'di', 'sana', 'lagi', 'kamar', 'tidak', 'dibersihkan', 'atau', 'siap', 'ketika', 'tiba', 'kami', 'mengubah', 'kamar', 'dua', 'kali', 'dan', 'ini', 'tidak', 'siap', 'bahkan', 'setelah', 'check', 'in', 'di', '2pm', 'namun', 'mereka', 'akan', 'mengganggu', 'anda', 'sebelum', 'waktu', 'check', 'out', 'untuk', 'meninggalkan', 'mereka', 'cukup', 'banyak', 'biaya', 'anda', 'untuk', 'bernapa', 'di', 'tempat', 'ini', 'sekarang', 'yang', 'juga', 'mengecewakan', 'terlambat', 'check', 'out', 'tidak', 'boleh', 'ditarik', 'terutama', 'saat', 'anda', 'sebagai', 'pelanggan', 'tetap', 'aku', 'yakin', 'hotel', 'legian', 'akan', 'mencintai', 'bisnis', 'saya', 'dari', 'sekarang', 'saya', 'di', 'sana', '5', '6', 'kali', 'setahun']</td>\n",
       "      <td>['aku', 'selalu', 'tinggal', 'di', 'seminyak', 'ketika', 'bepergian', 'ke', 'bali', 'aku', 'tidak', 'pernah', 'begitu', 'kecewa', 'dalam', 'layanan', 'mereka', 'harus', 'ada', 'perubahan', 'kepemilikan', 'karena', 'itu', 'benar', 'benar', 'ramai', 'dan', 'tidak', 'akan', 'tinggal', 'di', 'sana', 'lagi', 'kamar', 'tidak', 'dibersihkan', 'atau', 'siap', 'ketika', 'tiba', 'kami', 'mengubah', 'kamar', 'dua', 'kali', 'dan', 'ini', 'tidak', 'siap', 'bahkan', 'setelah', 'check', 'ini', 'di', '2pm', 'namun', 'mereka', 'akan', 'mengganggu', 'anda', 'sebelum', 'waktu', 'check', 'out', 'untuk', 'meninggalkan', 'mereka', 'cukup', 'banyak', 'biaya', 'anda', 'untuk', 'bernapa', 'di', 'tempat', 'ini', 'sekarang', 'yang', 'juga', 'mengecewakan', 'terlambat', 'check', 'out', 'tidak', 'boleh', 'ditarik', 'terutama', 'saat', 'anda', 'sebagai', 'pelanggan', 'tetap', 'aku', 'yakin', 'hotel', 'legian', 'akan', 'mencintai', 'bisnis', 'saya', 'dari', 'sekarang', 'saya', 'di', 'sana', '5', '6', 'kali', 'setahun']</td>\n",
       "      <td>[aku, selalu, tinggal, di, minyak, ketika, pergi, ke, bal, aku, tidak, pernah, begitu, kecewa, dalam, layan, mereka, harus, ada, ubah, milik, karena, itu, benar, benar, ramai, dan, tidak, akan, tinggal, di, sana, lagi, kamar, tidak, bersih, atau, siap, ketika, tiba, kami, ubah, kamar, dua, kali, dan, ini, tidak, siap, bahkan, telah, check, ini, di, 2pm, namun, mereka, akan, ganggu, anda, belum, waktu, check, out, untuk, tinggal, mereka, cukup, banyak, biaya, anda, untuk, bernapa, di, tempat, ini, sekarang, yang, juga, kecewa, lambat, check, out, tidak, boleh, tarik, utama, saat, anda, bagai, langgan, tetap, aku, yakin, hotel, legi, akan, cinta, bisnis, saya, ...]</td>\n",
       "      <td>[tinggal, minyak, pergi, kecewa, layan, ubah, milik, ramai, tinggal, kamar, bersih, ubah, kamar, kali, check, 2pm, ganggu, check, out, tinggal, biaya, bernapa, kecewa, lambat, check, out, tarik, utama, langgan, legi, cinta, bisnis, 5, 6, kali]</td>\n",
       "      <td>tinggal minyak pergi kecewa layan ubah milik ramai tinggal kamar bersih ubah kamar kali check 2pm ganggu check out tinggal biaya bernapa kecewa lambat check out tarik utama langgan legi cinta bisnis 5 6 kali</td>\n",
       "    </tr>\n",
       "    <tr>\n",
       "      <th>21509</th>\n",
       "      <td>tidak senang dengan saya tinggal sama sekali. sangat menantikan untuk tinggal di sini selama ulang tahun saya, dan itu dimanjakan oleh layanan yang buruk. dari memeriksa semuanya adalah tentang uang. kami makan di restoran pada malam hari dan saudara perempuan saya melihat salah satu pria menyentuh makanannya dengan tangan kotor, ketika dia melihat dia melihat dia, dia dengan cepat mencuci mereka, kita mengeluh pada waktu itu tetapi sudah membayar makanannya . hari berikutnya saudara perempuan saya terbangun karena sakit perut, dan saat check out saya mengeluh lagi, manajer sepertinya tidak terganggu, walaupun biaya makan kami hampir mencapai satu juta rp, dia hanya akan mengambil sarapan terapung dengan harga 200.000 dari tagihan. dia kemudian bertanya kepada saya apa yang saya…</td>\n",
       "      <td>2</td>\n",
       "      <td>['tidak', 'senang', 'dengan', 'saya', 'tinggal', 'sama', 'sekali', 'sangat', 'menantikan', 'untuk', 'tinggal', 'di', 'sini', 'selama', 'ulang', 'tahun', 'saya', 'dan', 'itu', 'dimanjakan', 'oleh', 'layanan', 'yang', 'buruk', 'dari', 'memeriksa', 'semuanya', 'adalah', 'tentang', 'uang', 'kami', 'makan', 'di', 'restoran', 'pada', 'malam', 'hari', 'dan', 'saudara', 'perempuan', 'saya', 'melihat', 'salah', 'satu', 'pria', 'menyentuh', 'makanannya', 'dengan', 'tangan', 'kotor', 'ketika', 'dia', 'melihat', 'dia', 'melihat', 'dia', 'dia', 'dengan', 'cepat', 'mencuci', 'mereka', 'kita', 'mengeluh', 'pada', 'waktu', 'itu', 'tetapi', 'sudah', 'membayar', 'makanannya', 'hari', 'berikutnya', 'saudara', 'perempuan', 'saya', 'terbangun', 'karena', 'sakit', 'perut', 'dan', 'saat', 'check', 'out', 'saya', 'mengeluh', 'lagi', 'manajer', 'sepertinya', 'tidak', 'terganggu', 'walaupun', 'biaya', 'makan', 'kami', 'hampir', 'mencapai', 'satu', 'juta', 'rp', 'dia', 'hanya', 'akan', 'mengambil', 'sarapan', 'terapung', 'dengan', 'harga', '200', '000', 'dari', 'tagihan', 'dia', 'kemudian', 'bertanya', 'kepada', 'saya', 'apa', 'yang', 'saya']</td>\n",
       "      <td>['tidak', 'senang', 'dengan', 'saya', 'tinggal', 'sama', 'sekali', 'sangat', 'menantikan', 'untuk', 'tinggal', 'di', 'sini', 'selama', 'ulang', 'tahun', 'saya', 'dan', 'itu', 'dimanjakan', 'oleh', 'layanan', 'yang', 'buruk', 'dari', 'memeriksa', 'semuanya', 'adalah', 'tentang', 'uang', 'kami', 'makan', 'di', 'restoran', 'pada', 'malam', 'hari', 'dan', 'saudara', 'perempuan', 'saya', 'melihat', 'salah', 'satu', 'pria', 'menyentuh', 'makanannya', 'dengan', 'tangan', 'kotor', 'ketika', 'dia', 'melihat', 'dia', 'melihat', 'dia', 'dia', 'dengan', 'cepat', 'mencuci', 'mereka', 'kita', 'mengeluh', 'pada', 'waktu', 'itu', 'tetapi', 'sudah', 'membayar', 'makanannya', 'hari', 'berikutnya', 'saudara', 'perempuan', 'saya', 'terbangun', 'karena', 'sakit', 'perut', 'dan', 'saat', 'check', 'out', 'saya', 'mengeluh', 'lagi', 'manajer', 'sepertinya', 'tidak', 'terganggu', 'walaupun', 'biaya', 'makan', 'kami', 'hampir', 'mencapai', 'satu', 'juta', 'rp', 'dia', 'hanya', 'akan', 'mengambil', 'sarapan', 'terapung', 'dengan', 'harga', '200', '000', 'dari', 'tagihan', 'dia', 'kemudian', 'bertanya', 'kepada', 'saya', 'apa', 'yang', 'saya']</td>\n",
       "      <td>[tidak, senang, dengan, saya, tinggal, sama, sekali, sangat, nanti, untuk, tinggal, di, sini, lama, ulang, tahun, saya, dan, itu, manja, oleh, layan, yang, buruk, dari, periksa, semua, adalah, tentang, uang, kami, makan, di, restoran, pada, malam, hari, dan, saudara, perempuan, saya, lihat, salah, satu, pria, sentuh, makan, dengan, tangan, kotor, ketika, dia, lihat, dia, lihat, dia, dia, dengan, cepat, cuci, mereka, kita, keluh, pada, waktu, itu, tetapi, sudah, bayar, makan, hari, ikut, saudara, perempuan, saya, bangun, karena, sakit, perut, dan, saat, check, out, saya, keluh, lagi, manajer, seperti, tidak, ganggu, walaupun, biaya, makan, kami, hampir, capai, satu, juta, rp, dia, ...]</td>\n",
       "      <td>[senang, tinggal, tinggal, ulang, manja, layan, buruk, periksa, uang, makan, restoran, malam, saudara, perempuan, lihat, salah, pria, sentuh, makan, tangan, kotor, lihat, lihat, cepat, cuci, keluh, bayar, makan, saudara, perempuan, bangun, sakit, perut, check, out, keluh, manajer, ganggu, biaya, makan, capai, juta, rp, ambil, sarap, apung, harga, 200, 000, tagih]</td>\n",
       "      <td>senang tinggal tinggal ulang manja layan buruk periksa uang makan restoran malam saudara perempuan lihat salah pria sentuh makan tangan kotor lihat lihat cepat cuci keluh bayar makan saudara perempuan bangun sakit perut check out keluh manajer ganggu biaya makan capai juta rp ambil sarap apung harga 200 000 tagih</td>\n",
       "    </tr>\n",
       "  </tbody>\n",
       "</table>\n",
       "<p>369 rows × 7 columns</p>\n",
       "</div>"
      ],
      "text/plain": [
       "                                                                                                                                                                                                                                                                                                                                                                                                                                                                                                                                                                                                                                                                                                                                                                                                                       review  \\\n",
       "678     kami sangat kecewa dengan empat malam kami menginap di resort ubud. alaya kami mengharapkan pelayanan namun service logam yang kami alami jauh dari tempat ini. kamar pertama kami berbau dan lembab dan foisty jadi kami pindah kamar - kami harus menunggu setengah jam lebih untuk mengganti untuk datang yang tersedia. 4:00 oleh kami di kamar kami yang baru. kami memesan layanan kamar yang mengambil satu jam untuk tiba dan ketika itu, dingin. kami mengirim makanan kembali dan penggantian sekali lagi mengambil satu jam untuk tiba dan dingin. makanan pengganti memiliki cukup jelas sudah diolah dengan microwave seperti keju pada pizza kami telah pergi runny dan pad thai memiliki titik panas. saya memesan minuman di kolam renang yang tidak pernah datang dan jadi saya harus memesan lagi.…   \n",
       "695          saya dan suami saya menginap selama 5 hari dan malam di alaya resort selama perjalanan bersama pasangan di ubud. ketika kami memesan tempat ini terlihat sangat bagus dan mewah, dan kami telah banyak harapan. meskipun tempat ini tidak benar-benar buruk, kami akan merekomendasikan untuk mencari tempat yang berbeda dan pasti tidak akan kembali ke sini untuk beberapa alasan. pertama keluar dari poin plus adalah lokasi tempat ini cukup bagus dan dapat berjalan kaki dari monkey forest dan ubud pusat pasar. nilai untuk uang - nilai untuk uang untuk ukuran kamar dan harga yang paling layak tidak khususnya dibandingkan dengan banyak resor lain di bali yang menawarkan lebih jauh. kami mendapat kamar deluxe dan ukuran kamarnya cukup kecil dengan bak mandi khusus yang ditanam tepat di…   \n",
       "922             kami memesan melalui expedia di alaya ubud november 2016. kamar kami telah dikonfirmasi dan dijamin untuk kedatangan akhir. sayangnya, di alaya tidak merasa terdorong untuk memberikan jaminan ini karena tiba di 2 april di sekitar 3 jam di pagi hari kami telah belajar bahwa reservasi hotel telah dimodifikasi untuk kemudian check in tanggal 4 april dan bahwa ada tidak ada kamar yang tersedia untuk mengakomodasi kami. pada awalnya petugas memberitahu kami mengubah tanggal kami kemudian pindah ke berasumsi menyalahkan expedia. untungnya dengan bantuan sopir shuttle kami, petugas dapat mencari ketersediaan di hotel lain di dekatnya. kami meminta untuk menghubungi alaya ubud setelah 9 jam untuk melihat jika bisa mengatasi situasi. namun, setelah tiba di hotel baru dan layanan…   \n",
       "942              alasan hotel dan kamar yang indah. orang-orang yang bekerja di hotel juga sangat indah. itu berhenti di sana. komunikasi dengan hotel sebelum untuk kedatangan kami sangat lambat dan lalai menyebutkan bahwa kami tinggal akan menjadi tenang selama hari berarti bahwa semua jalan ke ubud dari bandara diblokir, membawa kami 3.5 jam untuk tiba.   juga, kami terpaksa tinggal di hotel untuk seluruh hari, yang adalah baik-baik saja dengan kami tapi mereka tidak berencana untuk itu. yang berarti tidak ada cukup tempat untuk orang-orang untuk meninggalkan orang-orang yang tiduran di rumput. sekelompok 20 tamu yang sangat keras dengan anak-anak mengambil alih kolam renang. resepsionis hotel mengatakan kepada kami setidaknya 12 orang lain telah mengeluh sebelum kami. tidak ada yang…   \n",
       "1121                                                                                                                                                                                                                                                                                                                                                                                                                                                                          alaya resort adalah baik disajikan di pusat kota sibuk ubud. mereka sedang melakukan pemeliharaan pada kolam renang dengan konyol sampai 2 november nd dan tim berkebun telah whipper - snipppering seluruh resor sepanjang pagi. ada benar-benar tidak ada kedamaian dapat ditemukan di sini jadi saya ingin pindah ke hotel sesegera mungkin.   \n",
       "...                                                                                                                                                                                                                                                                                                                                                                                                                                                                                                                                                                                                                                                                                                                                                                                                                       ...   \n",
       "21117        saya harus mengatakan bahwa staf yang sangat baik. layanan pelanggan adalah luar biasa, terlepas dari kami harus menunggu selama satu jam di bawah sinar matahari untuk masuk ke kamar kami. saya suka ketika anda datang kembali ke kamar di malam hari ada botol dari teh herbal dan sedikit manis. kamar mandi yang indah produk di kamar mandi. hotel ini tepat di pantai dan kolam renang, yang anda dapat duduk dan menonton semua pergi oleh pedagang dan orang-orang menonton. sarapan adalah bagus karena dapat memesan makanan dari menu yang paling panas dan itu membuat untuk anda. resor ini memiliki taman yang menakjubkan, terima kasih untuk tukang kebun yang ramah. itu adalah hari ulang tahun saya dan mereka membuat saya kue luar biasa saat sarapan dan menyanyikan lagu selamat ulang…   \n",
       "21167    saya benar-benar mencoba untuk lebih suka hotel ini tapi aku mencoba seperti itu lebih aku tidak suka itu. kami tiba sekitar 10pm dan diberi tur singkat dari daerah sarapan dan lobi daerah di mana mesin atm. namun selama kami tinggal kami melihat orang lain mendapatkan penuh tur hotel dan lokasi. kami tinggal di garden wing yang kami mengambil untuk di kereta golf di seberang jalan yang bisa sangat sibuk di kali, kemudian melewati keamanan pintu masuk berdinding terbuka. kamar kami terletak di lantai dasar dan memiliki balkon, tapi di seberang dari kamar adalah sebuah paviliun yang meninggalkan banyak cahaya alami yang sudah kamar yang gelap. tidak ada lampu utama di kamar hanya dinding lampu dan beberapa lampu yang tidak memberikan cukup cahaya untuk menerangi dari kamar yang…   \n",
       "21281  kami memesan salah satu kamar beach wing sebagai muka pembayaran. tapi setiba kami diberitahu bahwa tidak ada ruang yang tersedia sehingga mereka upgrade kita untuk suite. sekarang ini tidak ada besar suite. kami tiba cukup terlambat di malam hari jadi. pagi hari berikutnya, kami melihat hanya satu keranjang buah-buah yang kita jejak dimaem. kami meminta mereka untuk mengubah ini tapi itu tidak boleh berubah adalah jawaban yang kita punya. lalu di kamar mandi jacuzzi tidak bekerja. kami mendaftar untuk makan dan pergi. insinyur datang dan di malam hari kami diberitahu bahwa itu telah diperbaiki. namun jejak kerja pagi hari berikutnya juga. kami adalah keputusan harus check-out sehingga kami memilih untuk mengabaikan dan meninggalkan.  secara keseluruhan suasana yang membosankan,…   \n",
       "21315                                                                                                       aku selalu tinggal di seminyak ketika bepergian ke bali. aku tidak pernah begitu kecewa dalam layanan mereka. harus ada perubahan kepemilikan, karena itu benar-benar ramai dan tidak akan tinggal di sana lagi. kamar tidak dibersihkan atau siap ketika tiba (kami mengubah kamar dua kali, dan ini tidak siap bahkan setelah check in di 2pm) namun mereka akan mengganggu anda sebelum waktu check out untuk meninggalkan. mereka cukup banyak biaya anda untuk bernapa di tempat ini sekarang yang juga mengecewakan. terlambat check-out tidak boleh ditarik terutama saat anda sebagai pelanggan tetap. aku yakin hotel legian akan mencintai bisnis saya dari sekarang (saya di sana 5 - 6 kali setahun)    \n",
       "21509  tidak senang dengan saya tinggal sama sekali. sangat menantikan untuk tinggal di sini selama ulang tahun saya, dan itu dimanjakan oleh layanan yang buruk. dari memeriksa semuanya adalah tentang uang. kami makan di restoran pada malam hari dan saudara perempuan saya melihat salah satu pria menyentuh makanannya dengan tangan kotor, ketika dia melihat dia melihat dia, dia dengan cepat mencuci mereka, kita mengeluh pada waktu itu tetapi sudah membayar makanannya . hari berikutnya saudara perempuan saya terbangun karena sakit perut, dan saat check out saya mengeluh lagi, manajer sepertinya tidak terganggu, walaupun biaya makan kami hampir mencapai satu juta rp, dia hanya akan mengambil sarapan terapung dengan harga 200.000 dari tagihan. dia kemudian bertanya kepada saya apa yang saya…   \n",
       "\n",
       "       stars  \\\n",
       "678        2   \n",
       "695        2   \n",
       "922        2   \n",
       "942        2   \n",
       "1121       2   \n",
       "...      ...   \n",
       "21117      2   \n",
       "21167      2   \n",
       "21281      2   \n",
       "21315      2   \n",
       "21509      2   \n",
       "\n",
       "                                                                                                                                                                                                                                                                                                                                                                                                                                                                                                                                                                                                                                                                                                                                                                                                                                                                                                                                                                                                                                                                                                                                                                                                           tokenized  \\\n",
       "678             ['kami', 'sangat', 'kecewa', 'dengan', 'empat', 'malam', 'kami', 'menginap', 'di', 'resort', 'ubud', 'alaya', 'kami', 'mengharapkan', 'pelayanan', 'namun', 'service', 'logam', 'yang', 'kami', 'alami', 'jauh', 'dari', 'tempat', 'ini', 'kamar', 'pertama', 'kami', 'berbau', 'dan', 'lembab', 'dan', 'foisty', 'jadi', 'kami', 'pindah', 'kamar', 'kami', 'harus', 'menunggu', 'setengah', 'jam', 'lebih', 'untuk', 'mengganti', 'untuk', 'datang', 'yang', 'tersedia', '4', '00', 'oleh', 'kami', 'di', 'kamar', 'kami', 'yang', 'baru', 'kami', 'memesan', 'layanan', 'kamar', 'yang', 'mengambil', 'satu', 'jam', 'untuk', 'tiba', 'dan', 'ketika', 'itu', 'dingin', 'kami', 'mengirim', 'makanan', 'kembali', 'dan', 'penggantian', 'sekali', 'lagi', 'mengambil', 'satu', 'jam', 'untuk', 'tiba', 'dan', 'dingin', 'makanan', 'pengganti', 'memiliki', 'cukup', 'jelas', 'sudah', 'diolah', 'dengan', 'microwave', 'seperti', 'keju', 'pada', 'pizza', 'kami', 'telah', 'pergi', 'runny', 'dan', 'pad', 'thai', 'memiliki', 'titik', 'panas', 'saya', 'memesan', 'minuman', 'di', 'kolam', 'renang', 'yang', 'tidak', 'pernah', 'datang', 'dan', 'jadi', 'saya', 'harus', 'memesan', 'lagi']   \n",
       "695                   ['saya', 'dan', 'suami', 'saya', 'menginap', 'selama', '5', 'hari', 'dan', 'malam', 'di', 'alaya', 'resort', 'selama', 'perjalanan', 'bersama', 'pasangan', 'di', 'ubud', 'ketika', 'kami', 'memesan', 'tempat', 'ini', 'terlihat', 'sangat', 'bagus', 'dan', 'mewah', 'dan', 'kami', 'telah', 'banyak', 'harapan', 'meskipun', 'tempat', 'ini', 'tidak', 'benar', 'benar', 'buruk', 'kami', 'akan', 'merekomendasikan', 'untuk', 'mencari', 'tempat', 'yang', 'berbeda', 'dan', 'pasti', 'tidak', 'akan', 'kembali', 'ke', 'sini', 'untuk', 'beberapa', 'alasan', 'pertama', 'keluar', 'dari', 'poin', 'plus', 'adalah', 'lokasi', 'tempat', 'ini', 'cukup', 'bagus', 'dan', 'dapat', 'berjalan', 'kaki', 'dari', 'monkey', 'forest', 'dan', 'ubud', 'pusat', 'pasar', 'nilai', 'untuk', 'uang', 'nilai', 'untuk', 'uang', 'untuk', 'ukuran', 'kamar', 'dan', 'harga', 'yang', 'paling', 'layak', 'tidak', 'khususnya', 'dibandingkan', 'dengan', 'banyak', 'resor', 'lain', 'di', 'bali', 'yang', 'menawarkan', 'lebih', 'jauh', 'kami', 'mendapat', 'kamar', 'deluxe', 'dan', 'ukuran', 'kamarnya', 'cukup', 'kecil', 'dengan', 'bak', 'mandi', 'khusus', 'yang', 'ditanam', 'tepat', 'di']   \n",
       "922                                           ['kami', 'memesan', 'melalui', 'expedia', 'di', 'alaya', 'ubud', 'november', '2016', 'kamar', 'kami', 'telah', 'dikonfirmasi', 'dan', 'dijamin', 'untuk', 'kedatangan', 'akhir', 'sayangnya', 'di', 'alaya', 'tidak', 'merasa', 'terdorong', 'untuk', 'memberikan', 'jaminan', 'ini', 'karena', 'tiba', 'di', '2', 'april', 'di', 'sekitar', '3', 'jam', 'di', 'pagi', 'hari', 'kami', 'telah', 'belajar', 'bahwa', 'reservasi', 'hotel', 'telah', 'dimodifikasi', 'untuk', 'kemudian', 'check', 'in', 'tanggal', '4', 'april', 'dan', 'bahwa', 'ada', 'tidak', 'ada', 'kamar', 'yang', 'tersedia', 'untuk', 'mengakomodasi', 'kami', 'pada', 'awalnya', 'petugas', 'memberitahu', 'kami', 'mengubah', 'tanggal', 'kami', 'kemudian', 'pindah', 'ke', 'berasumsi', 'menyalahkan', 'expedia', 'untungnya', 'dengan', 'bantuan', 'sopir', 'shuttle', 'kami', 'petugas', 'dapat', 'mencari', 'ketersediaan', 'di', 'hotel', 'lain', 'di', 'dekatnya', 'kami', 'meminta', 'untuk', 'menghubungi', 'alaya', 'ubud', 'setelah', '9', 'jam', 'untuk', 'melihat', 'jika', 'bisa', 'mengatasi', 'situasi', 'namun', 'setelah', 'tiba', 'di', 'hotel', 'baru', 'dan', 'layanan']   \n",
       "942                                 ['alasan', 'hotel', 'dan', 'kamar', 'yang', 'indah', 'orang', 'orang', 'yang', 'bekerja', 'di', 'hotel', 'juga', 'sangat', 'indah', 'itu', 'berhenti', 'di', 'sana', 'komunikasi', 'dengan', 'hotel', 'sebelum', 'untuk', 'kedatangan', 'kami', 'sangat', 'lambat', 'dan', 'lalai', 'menyebutkan', 'bahwa', 'kami', 'tinggal', 'akan', 'menjadi', 'tenang', 'selama', 'hari', 'berarti', 'bahwa', 'semua', 'jalan', 'ke', 'ubud', 'dari', 'bandara', 'diblokir', 'membawa', 'kami', '3', '5', 'jam', 'untuk', 'tiba', 'juga', 'kami', 'terpaksa', 'tinggal', 'di', 'hotel', 'untuk', 'seluruh', 'hari', 'yang', 'adalah', 'baik', 'baik', 'saja', 'dengan', 'kami', 'tapi', 'mereka', 'tidak', 'berencana', 'untuk', 'itu', 'yang', 'berarti', 'tidak', 'ada', 'cukup', 'tempat', 'untuk', 'orang', 'orang', 'untuk', 'meninggalkan', 'orang', 'orang', 'yang', 'tiduran', 'di', 'rumput', 'sekelompok', '20', 'tamu', 'yang', 'sangat', 'keras', 'dengan', 'anak', 'anak', 'mengambil', 'alih', 'kolam', 'renang', 'resepsionis', 'hotel', 'mengatakan', 'kepada', 'kami', 'setidaknya', '12', 'orang', 'lain', 'telah', 'mengeluh', 'sebelum', 'kami', 'tidak', 'ada', 'yang']   \n",
       "1121                                                                                                                                                                                                                                                                                                                                                                                                                                                                                                                                                                                                                                                                                                            ['alaya', 'resort', 'adalah', 'baik', 'disajikan', 'di', 'pusat', 'kota', 'sibuk', 'ubud', 'mereka', 'sedang', 'melakukan', 'pemeliharaan', 'pada', 'kolam', 'renang', 'dengan', 'konyol', 'sampai', '2', 'november', 'nd', 'dan', 'tim', 'berkebun', 'telah', 'whipper', 'snipppering', 'seluruh', 'resor', 'sepanjang', 'pagi', 'ada', 'benar', 'benar', 'tidak', 'ada', 'kedamaian', 'dapat', 'ditemukan', 'di', 'sini', 'jadi', 'saya', 'ingin', 'pindah', 'ke', 'hotel', 'sesegera', 'mungkin']   \n",
       "...                                                                                                                                                                                                                                                                                                                                                                                                                                                                                                                                                                                                                                                                                                                                                                                                                                                                                                                                                                                                                                                                                                                                                                                                              ...   \n",
       "21117      ['saya', 'harus', 'mengatakan', 'bahwa', 'staf', 'yang', 'sangat', 'baik', 'layanan', 'pelanggan', 'adalah', 'luar', 'biasa', 'terlepas', 'dari', 'kami', 'harus', 'menunggu', 'selama', 'satu', 'jam', 'di', 'bawah', 'sinar', 'matahari', 'untuk', 'masuk', 'ke', 'kamar', 'kami', 'saya', 'suka', 'ketika', 'anda', 'datang', 'kembali', 'ke', 'kamar', 'di', 'malam', 'hari', 'ada', 'botol', 'dari', 'teh', 'herbal', 'dan', 'sedikit', 'manis', 'kamar', 'mandi', 'yang', 'indah', 'produk', 'di', 'kamar', 'mandi', 'hotel', 'ini', 'tepat', 'di', 'pantai', 'dan', 'kolam', 'renang', 'yang', 'anda', 'dapat', 'duduk', 'dan', 'menonton', 'semua', 'pergi', 'oleh', 'pedagang', 'dan', 'orang', 'orang', 'menonton', 'sarapan', 'adalah', 'bagus', 'karena', 'dapat', 'memesan', 'makanan', 'dari', 'menu', 'yang', 'paling', 'panas', 'dan', 'itu', 'membuat', 'untuk', 'anda', 'resor', 'ini', 'memiliki', 'taman', 'yang', 'menakjubkan', 'terima', 'kasih', 'untuk', 'tukang', 'kebun', 'yang', 'ramah', 'itu', 'adalah', 'hari', 'ulang', 'tahun', 'saya', 'dan', 'mereka', 'membuat', 'saya', 'kue', 'luar', 'biasa', 'saat', 'sarapan', 'dan', 'menyanyikan', 'lagu', 'selamat', 'ulang']   \n",
       "21167  ['saya', 'benar', 'benar', 'mencoba', 'untuk', 'lebih', 'suka', 'hotel', 'ini', 'tapi', 'aku', 'mencoba', 'seperti', 'itu', 'lebih', 'aku', 'tidak', 'suka', 'itu', 'kami', 'tiba', 'sekitar', '10pm', 'dan', 'diberi', 'tur', 'singkat', 'dari', 'daerah', 'sarapan', 'dan', 'lobi', 'daerah', 'di', 'mana', 'mesin', 'atm', 'namun', 'selama', 'kami', 'tinggal', 'kami', 'melihat', 'orang', 'lain', 'mendapatkan', 'penuh', 'tur', 'hotel', 'dan', 'lokasi', 'kami', 'tinggal', 'di', 'garden', 'wing', 'yang', 'kami', 'mengambil', 'untuk', 'di', 'kereta', 'golf', 'di', 'seberang', 'jalan', 'yang', 'bisa', 'sangat', 'sibuk', 'di', 'kali', 'kemudian', 'melewati', 'keamanan', 'pintu', 'masuk', 'berdinding', 'terbuka', 'kamar', 'kami', 'terletak', 'di', 'lantai', 'dasar', 'dan', 'memiliki', 'balkon', 'tapi', 'di', 'seberang', 'dari', 'kamar', 'adalah', 'sebuah', 'paviliun', 'yang', 'meninggalkan', 'banyak', 'cahaya', 'alami', 'yang', 'sudah', 'kamar', 'yang', 'gelap', 'tidak', 'ada', 'lampu', 'utama', 'di', 'kamar', 'hanya', 'dinding', 'lampu', 'dan', 'beberapa', 'lampu', 'yang', 'tidak', 'memberikan', 'cukup', 'cahaya', 'untuk', 'menerangi', 'dari', 'kamar', 'yang']   \n",
       "21281                               ['kami', 'memesan', 'salah', 'satu', 'kamar', 'beach', 'wing', 'sebagai', 'muka', 'pembayaran', 'tapi', 'setiba', 'kami', 'diberitahu', 'bahwa', 'tidak', 'ada', 'ruang', 'yang', 'tersedia', 'sehingga', 'mereka', 'upgrade', 'kita', 'untuk', 'suite', 'sekarang', 'ini', 'tidak', 'ada', 'besar', 'suite', 'kami', 'tiba', 'cukup', 'terlambat', 'di', 'malam', 'hari', 'jadi', 'pagi', 'hari', 'berikutnya', 'kami', 'melihat', 'hanya', 'satu', 'keranjang', 'buah', 'buah', 'yang', 'kita', 'jejak', 'dimaem', 'kami', 'meminta', 'mereka', 'untuk', 'mengubah', 'ini', 'tapi', 'itu', 'tidak', 'boleh', 'berubah', 'adalah', 'jawaban', 'yang', 'kita', 'punya', 'lalu', 'di', 'kamar', 'mandi', 'jacuzzi', 'tidak', 'bekerja', 'kami', 'mendaftar', 'untuk', 'makan', 'dan', 'pergi', 'insinyur', 'datang', 'dan', 'di', 'malam', 'hari', 'kami', 'diberitahu', 'bahwa', 'itu', 'telah', 'diperbaiki', 'namun', 'jejak', 'kerja', 'pagi', 'hari', 'berikutnya', 'juga', 'kami', 'adalah', 'keputusan', 'harus', 'check', 'out', 'sehingga', 'kami', 'memilih', 'untuk', 'mengabaikan', 'dan', 'meninggalkan', 'secara', 'keseluruhan', 'suasana', 'yang', 'membosankan']   \n",
       "21315                                                                                                                                                                     ['aku', 'selalu', 'tinggal', 'di', 'seminyak', 'ketika', 'bepergian', 'ke', 'bali', 'aku', 'tidak', 'pernah', 'begitu', 'kecewa', 'dalam', 'layanan', 'mereka', 'harus', 'ada', 'perubahan', 'kepemilikan', 'karena', 'itu', 'benar', 'benar', 'ramai', 'dan', 'tidak', 'akan', 'tinggal', 'di', 'sana', 'lagi', 'kamar', 'tidak', 'dibersihkan', 'atau', 'siap', 'ketika', 'tiba', 'kami', 'mengubah', 'kamar', 'dua', 'kali', 'dan', 'ini', 'tidak', 'siap', 'bahkan', 'setelah', 'check', 'in', 'di', '2pm', 'namun', 'mereka', 'akan', 'mengganggu', 'anda', 'sebelum', 'waktu', 'check', 'out', 'untuk', 'meninggalkan', 'mereka', 'cukup', 'banyak', 'biaya', 'anda', 'untuk', 'bernapa', 'di', 'tempat', 'ini', 'sekarang', 'yang', 'juga', 'mengecewakan', 'terlambat', 'check', 'out', 'tidak', 'boleh', 'ditarik', 'terutama', 'saat', 'anda', 'sebagai', 'pelanggan', 'tetap', 'aku', 'yakin', 'hotel', 'legian', 'akan', 'mencintai', 'bisnis', 'saya', 'dari', 'sekarang', 'saya', 'di', 'sana', '5', '6', 'kali', 'setahun']   \n",
       "21509                                  ['tidak', 'senang', 'dengan', 'saya', 'tinggal', 'sama', 'sekali', 'sangat', 'menantikan', 'untuk', 'tinggal', 'di', 'sini', 'selama', 'ulang', 'tahun', 'saya', 'dan', 'itu', 'dimanjakan', 'oleh', 'layanan', 'yang', 'buruk', 'dari', 'memeriksa', 'semuanya', 'adalah', 'tentang', 'uang', 'kami', 'makan', 'di', 'restoran', 'pada', 'malam', 'hari', 'dan', 'saudara', 'perempuan', 'saya', 'melihat', 'salah', 'satu', 'pria', 'menyentuh', 'makanannya', 'dengan', 'tangan', 'kotor', 'ketika', 'dia', 'melihat', 'dia', 'melihat', 'dia', 'dia', 'dengan', 'cepat', 'mencuci', 'mereka', 'kita', 'mengeluh', 'pada', 'waktu', 'itu', 'tetapi', 'sudah', 'membayar', 'makanannya', 'hari', 'berikutnya', 'saudara', 'perempuan', 'saya', 'terbangun', 'karena', 'sakit', 'perut', 'dan', 'saat', 'check', 'out', 'saya', 'mengeluh', 'lagi', 'manajer', 'sepertinya', 'tidak', 'terganggu', 'walaupun', 'biaya', 'makan', 'kami', 'hampir', 'mencapai', 'satu', 'juta', 'rp', 'dia', 'hanya', 'akan', 'mengambil', 'sarapan', 'terapung', 'dengan', 'harga', '200', '000', 'dari', 'tagihan', 'dia', 'kemudian', 'bertanya', 'kepada', 'saya', 'apa', 'yang', 'saya']   \n",
       "\n",
       "                                                                                                                                                                                                                                                                                                                                                                                                                                                                                                                                                                                                                                                                                                                                                                                                                                                                                                                                                                                                                                                                                                                                                                                                            no_slang  \\\n",
       "678             ['kami', 'sangat', 'kecewa', 'dengan', 'empat', 'malam', 'kami', 'menginap', 'di', 'resort', 'ubud', 'alaya', 'kami', 'mengharapkan', 'pelayanan', 'namun', 'service', 'logam', 'yang', 'kami', 'alami', 'jauh', 'dari', 'tempat', 'ini', 'kamar', 'pertama', 'kami', 'berbau', 'dan', 'lembab', 'dan', 'foisty', 'jadi', 'kami', 'pindah', 'kamar', 'kami', 'harus', 'menunggu', 'setengah', 'jam', 'lebih', 'untuk', 'mengganti', 'untuk', 'datang', 'yang', 'tersedia', '4', '00', 'oleh', 'kami', 'di', 'kamar', 'kami', 'yang', 'baru', 'kami', 'memesan', 'layanan', 'kamar', 'yang', 'mengambil', 'satu', 'jam', 'untuk', 'tiba', 'dan', 'ketika', 'itu', 'dingin', 'kami', 'mengirim', 'makanan', 'kembali', 'dan', 'penggantian', 'sekali', 'lagi', 'mengambil', 'satu', 'jam', 'untuk', 'tiba', 'dan', 'dingin', 'makanan', 'pengganti', 'memiliki', 'cukup', 'jelas', 'sudah', 'diolah', 'dengan', 'microwave', 'seperti', 'keju', 'pada', 'pizza', 'kami', 'telah', 'pergi', 'runny', 'dan', 'pad', 'thai', 'memiliki', 'titik', 'panas', 'saya', 'memesan', 'minuman', 'di', 'kolam', 'renang', 'yang', 'tidak', 'pernah', 'datang', 'dan', 'jadi', 'saya', 'harus', 'memesan', 'lagi']   \n",
       "695                   ['saya', 'dan', 'suami', 'saya', 'menginap', 'selama', '5', 'hari', 'dan', 'malam', 'di', 'alaya', 'resort', 'selama', 'perjalanan', 'bersama', 'pasangan', 'di', 'ubud', 'ketika', 'kami', 'memesan', 'tempat', 'ini', 'terlihat', 'sangat', 'bagus', 'dan', 'mewah', 'dan', 'kami', 'telah', 'banyak', 'harapan', 'meskipun', 'tempat', 'ini', 'tidak', 'benar', 'benar', 'buruk', 'kami', 'akan', 'merekomendasikan', 'untuk', 'mencari', 'tempat', 'yang', 'berbeda', 'dan', 'pasti', 'tidak', 'akan', 'kembali', 'ke', 'sini', 'untuk', 'beberapa', 'alasan', 'pertama', 'keluar', 'dari', 'poin', 'plus', 'adalah', 'lokasi', 'tempat', 'ini', 'cukup', 'bagus', 'dan', 'dapat', 'berjalan', 'kaki', 'dari', 'monkey', 'forest', 'dan', 'ubud', 'pusat', 'pasar', 'nilai', 'untuk', 'uang', 'nilai', 'untuk', 'uang', 'untuk', 'ukuran', 'kamar', 'dan', 'harga', 'yang', 'paling', 'layak', 'tidak', 'khususnya', 'dibandingkan', 'dengan', 'banyak', 'resor', 'lain', 'di', 'bali', 'yang', 'menawarkan', 'lebih', 'jauh', 'kami', 'mendapat', 'kamar', 'deluxe', 'dan', 'ukuran', 'kamarnya', 'cukup', 'kecil', 'dengan', 'bak', 'mandi', 'khusus', 'yang', 'ditanam', 'tepat', 'di']   \n",
       "922                                          ['kami', 'memesan', 'melalui', 'expedia', 'di', 'alaya', 'ubud', 'november', '2016', 'kamar', 'kami', 'telah', 'dikonfirmasi', 'dan', 'dijamin', 'untuk', 'kedatangan', 'akhir', 'sayangnya', 'di', 'alaya', 'tidak', 'merasa', 'terdorong', 'untuk', 'memberikan', 'jaminan', 'ini', 'karena', 'tiba', 'di', '2', 'april', 'di', 'sekitar', '3', 'jam', 'di', 'pagi', 'hari', 'kami', 'telah', 'belajar', 'bahwa', 'reservasi', 'hotel', 'telah', 'dimodifikasi', 'untuk', 'kemudian', 'check', 'ini', 'tanggal', '4', 'april', 'dan', 'bahwa', 'ada', 'tidak', 'ada', 'kamar', 'yang', 'tersedia', 'untuk', 'mengakomodasi', 'kami', 'pada', 'awalnya', 'petugas', 'memberitahu', 'kami', 'mengubah', 'tanggal', 'kami', 'kemudian', 'pindah', 'ke', 'berasumsi', 'menyalahkan', 'expedia', 'untungnya', 'dengan', 'bantuan', 'sopir', 'shuttle', 'kami', 'petugas', 'dapat', 'mencari', 'ketersediaan', 'di', 'hotel', 'lain', 'di', 'dekatnya', 'kami', 'meminta', 'untuk', 'menghubungi', 'alaya', 'ubud', 'setelah', '9', 'jam', 'untuk', 'melihat', 'jika', 'bisa', 'mengatasi', 'situasi', 'namun', 'setelah', 'tiba', 'di', 'hotel', 'baru', 'dan', 'layanan']   \n",
       "942                                 ['alasan', 'hotel', 'dan', 'kamar', 'yang', 'indah', 'orang', 'orang', 'yang', 'bekerja', 'di', 'hotel', 'juga', 'sangat', 'indah', 'itu', 'berhenti', 'di', 'sana', 'komunikasi', 'dengan', 'hotel', 'sebelum', 'untuk', 'kedatangan', 'kami', 'sangat', 'lambat', 'dan', 'lalai', 'menyebutkan', 'bahwa', 'kami', 'tinggal', 'akan', 'menjadi', 'tenang', 'selama', 'hari', 'berarti', 'bahwa', 'semua', 'jalan', 'ke', 'ubud', 'dari', 'bandara', 'diblokir', 'membawa', 'kami', '3', '5', 'jam', 'untuk', 'tiba', 'juga', 'kami', 'terpaksa', 'tinggal', 'di', 'hotel', 'untuk', 'seluruh', 'hari', 'yang', 'adalah', 'baik', 'baik', 'saja', 'dengan', 'kami', 'tapi', 'mereka', 'tidak', 'berencana', 'untuk', 'itu', 'yang', 'berarti', 'tidak', 'ada', 'cukup', 'tempat', 'untuk', 'orang', 'orang', 'untuk', 'meninggalkan', 'orang', 'orang', 'yang', 'tiduran', 'di', 'rumput', 'sekelompok', '20', 'tamu', 'yang', 'sangat', 'keras', 'dengan', 'anak', 'anak', 'mengambil', 'alih', 'kolam', 'renang', 'resepsionis', 'hotel', 'mengatakan', 'kepada', 'kami', 'setidaknya', '12', 'orang', 'lain', 'telah', 'mengeluh', 'sebelum', 'kami', 'tidak', 'ada', 'yang']   \n",
       "1121                                                                                                                                                                                                                                                                                                                                                                                                                                                                                                                                                                                                                                                                                                         ['alaya', 'resort', 'adalah', 'baik', 'disajikan', 'di', 'pusat', 'kota', 'sibuk', 'ubud', 'mereka', 'sedang', 'melakukan', 'pemeliharaan', 'pada', 'kolam', 'renang', 'dengan', 'konyol', 'sampai', '2', 'november', 'indak', 'dan', 'tim', 'berkebun', 'telah', 'whipper', 'snipppering', 'seluruh', 'resor', 'sepanjang', 'pagi', 'ada', 'benar', 'benar', 'tidak', 'ada', 'kedamaian', 'dapat', 'ditemukan', 'di', 'sini', 'jadi', 'saya', 'ingin', 'pindah', 'ke', 'hotel', 'sesegera', 'mungkin']   \n",
       "...                                                                                                                                                                                                                                                                                                                                                                                                                                                                                                                                                                                                                                                                                                                                                                                                                                                                                                                                                                                                                                                                                                                                                                                                              ...   \n",
       "21117      ['saya', 'harus', 'mengatakan', 'bahwa', 'staf', 'yang', 'sangat', 'baik', 'layanan', 'pelanggan', 'adalah', 'luar', 'biasa', 'terlepas', 'dari', 'kami', 'harus', 'menunggu', 'selama', 'satu', 'jam', 'di', 'bawah', 'sinar', 'matahari', 'untuk', 'masuk', 'ke', 'kamar', 'kami', 'saya', 'suka', 'ketika', 'anda', 'datang', 'kembali', 'ke', 'kamar', 'di', 'malam', 'hari', 'ada', 'botol', 'dari', 'teh', 'herbal', 'dan', 'sedikit', 'manis', 'kamar', 'mandi', 'yang', 'indah', 'produk', 'di', 'kamar', 'mandi', 'hotel', 'ini', 'tepat', 'di', 'pantai', 'dan', 'kolam', 'renang', 'yang', 'anda', 'dapat', 'duduk', 'dan', 'menonton', 'semua', 'pergi', 'oleh', 'pedagang', 'dan', 'orang', 'orang', 'menonton', 'sarapan', 'adalah', 'bagus', 'karena', 'dapat', 'memesan', 'makanan', 'dari', 'menu', 'yang', 'paling', 'panas', 'dan', 'itu', 'membuat', 'untuk', 'anda', 'resor', 'ini', 'memiliki', 'taman', 'yang', 'menakjubkan', 'terima', 'kasih', 'untuk', 'tukang', 'kebun', 'yang', 'ramah', 'itu', 'adalah', 'hari', 'ulang', 'tahun', 'saya', 'dan', 'mereka', 'membuat', 'saya', 'kue', 'luar', 'biasa', 'saat', 'sarapan', 'dan', 'menyanyikan', 'lagu', 'selamat', 'ulang']   \n",
       "21167  ['saya', 'benar', 'benar', 'mencoba', 'untuk', 'lebih', 'suka', 'hotel', 'ini', 'tapi', 'aku', 'mencoba', 'seperti', 'itu', 'lebih', 'aku', 'tidak', 'suka', 'itu', 'kami', 'tiba', 'sekitar', '10pm', 'dan', 'diberi', 'tur', 'singkat', 'dari', 'daerah', 'sarapan', 'dan', 'lobi', 'daerah', 'di', 'mana', 'mesin', 'atm', 'namun', 'selama', 'kami', 'tinggal', 'kami', 'melihat', 'orang', 'lain', 'mendapatkan', 'penuh', 'tur', 'hotel', 'dan', 'lokasi', 'kami', 'tinggal', 'di', 'garden', 'wing', 'yang', 'kami', 'mengambil', 'untuk', 'di', 'kereta', 'golf', 'di', 'seberang', 'jalan', 'yang', 'bisa', 'sangat', 'sibuk', 'di', 'kali', 'kemudian', 'melewati', 'keamanan', 'pintu', 'masuk', 'berdinding', 'terbuka', 'kamar', 'kami', 'terletak', 'di', 'lantai', 'dasar', 'dan', 'memiliki', 'balkon', 'tapi', 'di', 'seberang', 'dari', 'kamar', 'adalah', 'sebuah', 'paviliun', 'yang', 'meninggalkan', 'banyak', 'cahaya', 'alami', 'yang', 'sudah', 'kamar', 'yang', 'gelap', 'tidak', 'ada', 'lampu', 'utama', 'di', 'kamar', 'hanya', 'dinding', 'lampu', 'dan', 'beberapa', 'lampu', 'yang', 'tidak', 'memberikan', 'cukup', 'cahaya', 'untuk', 'menerangi', 'dari', 'kamar', 'yang']   \n",
       "21281                               ['kami', 'memesan', 'salah', 'satu', 'kamar', 'beach', 'wing', 'sebagai', 'muka', 'pembayaran', 'tapi', 'setiba', 'kami', 'diberitahu', 'bahwa', 'tidak', 'ada', 'ruang', 'yang', 'tersedia', 'sehingga', 'mereka', 'upgrade', 'kita', 'untuk', 'suite', 'sekarang', 'ini', 'tidak', 'ada', 'besar', 'suite', 'kami', 'tiba', 'cukup', 'terlambat', 'di', 'malam', 'hari', 'jadi', 'pagi', 'hari', 'berikutnya', 'kami', 'melihat', 'hanya', 'satu', 'keranjang', 'buah', 'buah', 'yang', 'kita', 'jejak', 'dimaem', 'kami', 'meminta', 'mereka', 'untuk', 'mengubah', 'ini', 'tapi', 'itu', 'tidak', 'boleh', 'berubah', 'adalah', 'jawaban', 'yang', 'kita', 'punya', 'lalu', 'di', 'kamar', 'mandi', 'jacuzzi', 'tidak', 'bekerja', 'kami', 'mendaftar', 'untuk', 'makan', 'dan', 'pergi', 'insinyur', 'datang', 'dan', 'di', 'malam', 'hari', 'kami', 'diberitahu', 'bahwa', 'itu', 'telah', 'diperbaiki', 'namun', 'jejak', 'kerja', 'pagi', 'hari', 'berikutnya', 'juga', 'kami', 'adalah', 'keputusan', 'harus', 'check', 'out', 'sehingga', 'kami', 'memilih', 'untuk', 'mengabaikan', 'dan', 'meninggalkan', 'secara', 'keseluruhan', 'suasana', 'yang', 'membosankan']   \n",
       "21315                                                                                                                                                                    ['aku', 'selalu', 'tinggal', 'di', 'seminyak', 'ketika', 'bepergian', 'ke', 'bali', 'aku', 'tidak', 'pernah', 'begitu', 'kecewa', 'dalam', 'layanan', 'mereka', 'harus', 'ada', 'perubahan', 'kepemilikan', 'karena', 'itu', 'benar', 'benar', 'ramai', 'dan', 'tidak', 'akan', 'tinggal', 'di', 'sana', 'lagi', 'kamar', 'tidak', 'dibersihkan', 'atau', 'siap', 'ketika', 'tiba', 'kami', 'mengubah', 'kamar', 'dua', 'kali', 'dan', 'ini', 'tidak', 'siap', 'bahkan', 'setelah', 'check', 'ini', 'di', '2pm', 'namun', 'mereka', 'akan', 'mengganggu', 'anda', 'sebelum', 'waktu', 'check', 'out', 'untuk', 'meninggalkan', 'mereka', 'cukup', 'banyak', 'biaya', 'anda', 'untuk', 'bernapa', 'di', 'tempat', 'ini', 'sekarang', 'yang', 'juga', 'mengecewakan', 'terlambat', 'check', 'out', 'tidak', 'boleh', 'ditarik', 'terutama', 'saat', 'anda', 'sebagai', 'pelanggan', 'tetap', 'aku', 'yakin', 'hotel', 'legian', 'akan', 'mencintai', 'bisnis', 'saya', 'dari', 'sekarang', 'saya', 'di', 'sana', '5', '6', 'kali', 'setahun']   \n",
       "21509                                  ['tidak', 'senang', 'dengan', 'saya', 'tinggal', 'sama', 'sekali', 'sangat', 'menantikan', 'untuk', 'tinggal', 'di', 'sini', 'selama', 'ulang', 'tahun', 'saya', 'dan', 'itu', 'dimanjakan', 'oleh', 'layanan', 'yang', 'buruk', 'dari', 'memeriksa', 'semuanya', 'adalah', 'tentang', 'uang', 'kami', 'makan', 'di', 'restoran', 'pada', 'malam', 'hari', 'dan', 'saudara', 'perempuan', 'saya', 'melihat', 'salah', 'satu', 'pria', 'menyentuh', 'makanannya', 'dengan', 'tangan', 'kotor', 'ketika', 'dia', 'melihat', 'dia', 'melihat', 'dia', 'dia', 'dengan', 'cepat', 'mencuci', 'mereka', 'kita', 'mengeluh', 'pada', 'waktu', 'itu', 'tetapi', 'sudah', 'membayar', 'makanannya', 'hari', 'berikutnya', 'saudara', 'perempuan', 'saya', 'terbangun', 'karena', 'sakit', 'perut', 'dan', 'saat', 'check', 'out', 'saya', 'mengeluh', 'lagi', 'manajer', 'sepertinya', 'tidak', 'terganggu', 'walaupun', 'biaya', 'makan', 'kami', 'hampir', 'mencapai', 'satu', 'juta', 'rp', 'dia', 'hanya', 'akan', 'mengambil', 'sarapan', 'terapung', 'dengan', 'harga', '200', '000', 'dari', 'tagihan', 'dia', 'kemudian', 'bertanya', 'kepada', 'saya', 'apa', 'yang', 'saya']   \n",
       "\n",
       "                                                                                                                                                                                                                                                                                                                                                                                                                                                                                                                                                                                                                                                                                                                     stemmed  \\\n",
       "678                               [kami, sangat, kecewa, dengan, empat, malam, kami, inap, di, resort, ubud, alaya, kami, harap, layan, namun, service, logam, yang, kami, alami, jauh, dari, tempat, ini, kamar, pertama, kami, bau, dan, lembab, dan, foisty, jadi, kami, pindah, kamar, kami, harus, tunggu, tengah, jam, lebih, untuk, ganti, untuk, datang, yang, sedia, 4, 00, oleh, kami, di, kamar, kami, yang, baru, kami, mes, layan, kamar, yang, ambil, satu, jam, untuk, tiba, dan, ketika, itu, dingin, kami, kirim, makan, kembali, dan, ganti, sekali, lagi, ambil, satu, jam, untuk, tiba, dan, dingin, makan, ganti, milik, cukup, jelas, sudah, olah, dengan, microwave, seperti, keju, pada, pizza, ...]   \n",
       "695                        [saya, dan, suami, saya, inap, lama, 5, hari, dan, malam, di, alaya, resort, lama, jalan, sama, pasang, di, ubud, ketika, kami, mes, tempat, ini, lihat, sangat, bagus, dan, mewah, dan, kami, telah, banyak, harap, meski, tempat, ini, tidak, benar, benar, buruk, kami, akan, rekomendasi, untuk, cari, tempat, yang, beda, dan, pasti, tidak, akan, kembali, ke, sini, untuk, beberapa, alas, pertama, keluar, dari, poin, plus, adalah, lokasi, tempat, ini, cukup, bagus, dan, dapat, jalan, kaki, dari, monkey, forest, dan, ubud, pusat, pasar, nilai, untuk, uang, nilai, untuk, uang, untuk, ukur, kamar, dan, harga, yang, paling, layak, tidak, khusus, banding, dengan, banyak, ...]   \n",
       "922             [kami, mes, lalu, expedia, di, alaya, ubud, november, 2016, kamar, kami, telah, konfirmasi, dan, jamin, untuk, datang, akhir, sayang, di, alaya, tidak, rasa, dorong, untuk, beri, jamin, ini, karena, tiba, di, 2, april, di, sekitar, 3, jam, di, pagi, hari, kami, telah, ajar, bahwa, reservasi, hotel, telah, modifikasi, untuk, kemudian, check, ini, tanggal, 4, april, dan, bahwa, ada, tidak, ada, kamar, yang, sedia, untuk, akomodasi, kami, pada, awal, tugas, memberitahu, kami, ubah, tanggal, kami, kemudian, pindah, ke, asumsi, salah, expedia, untung, dengan, bantu, sopir, shuttle, kami, tugas, dapat, cari, sedia, di, hotel, lain, di, dekat, kami, minta, untuk, hubung, alaya, ...]   \n",
       "942                            [alas, hotel, dan, kamar, yang, indah, orang, orang, yang, kerja, di, hotel, juga, sangat, indah, itu, henti, di, sana, komunikasi, dengan, hotel, belum, untuk, datang, kami, sangat, lambat, dan, lalai, sebut, bahwa, kami, tinggal, akan, jadi, tenang, lama, hari, arti, bahwa, semua, jalan, ke, ubud, dari, bandara, blokir, bawa, kami, 3, 5, jam, untuk, tiba, juga, kami, paksa, tinggal, di, hotel, untuk, seluruh, hari, yang, adalah, baik, baik, saja, dengan, kami, tapi, mereka, tidak, rencana, untuk, itu, yang, arti, tidak, ada, cukup, tempat, untuk, orang, orang, untuk, tinggal, orang, orang, yang, tidur, di, rumput, kelompok, 20, tamu, yang, sangat, keras, ...]   \n",
       "1121                                                                                                                                                                                                                                                                                                                                                     [alaya, resort, adalah, baik, saji, di, pusat, kota, sibuk, ubud, mereka, sedang, laku, pelihara, pada, kolam, renang, dengan, konyol, sampai, 2, november, indak, dan, tim, kebun, telah, whipper, snipppering, seluruh, resor, panjang, pagi, ada, benar, benar, tidak, ada, damai, dapat, temu, di, sini, jadi, saya, ingin, pindah, ke, hotel, segera, mungkin]   \n",
       "...                                                                                                                                                                                                                                                                                                                                                                                                                                                                                                                                                                                                                                                                                                                      ...   \n",
       "21117                                 [saya, harus, kata, bahwa, staf, yang, sangat, baik, layan, langgan, adalah, luar, biasa, lepas, dari, kami, harus, tunggu, lama, satu, jam, di, bawah, sinar, matahari, untuk, masuk, ke, kamar, kami, saya, suka, ketika, anda, datang, kembali, ke, kamar, di, malam, hari, ada, botol, dari, teh, herbal, dan, sedikit, manis, kamar, mandi, yang, indah, produk, di, kamar, mandi, hotel, ini, tepat, di, pantai, dan, kolam, renang, yang, anda, dapat, duduk, dan, tonton, semua, pergi, oleh, dagang, dan, orang, orang, tonton, sarap, adalah, bagus, karena, dapat, mes, makan, dari, menu, yang, paling, panas, dan, itu, buat, untuk, anda, resor, ini, milik, taman, ...]   \n",
       "21167                              [saya, benar, benar, coba, untuk, lebih, suka, hotel, ini, tapi, aku, coba, seperti, itu, lebih, aku, tidak, suka, itu, kami, tiba, sekitar, 10pm, dan, beri, tur, singkat, dari, daerah, sarap, dan, lobi, daerah, di, mana, mesin, atm, namun, lama, kami, tinggal, kami, lihat, orang, lain, dapat, penuh, tur, hotel, dan, lokasi, kami, tinggal, di, garden, wing, yang, kami, ambil, untuk, di, kereta, golf, di, seberang, jalan, yang, bisa, sangat, sibuk, di, kali, kemudian, lewat, aman, pintu, masuk, dinding, buka, kamar, kami, letak, di, lantai, dasar, dan, milik, balkon, tapi, di, seberang, dari, kamar, adalah, buah, paviliun, yang, tinggal, banyak, cahaya, ...]   \n",
       "21281                  [kami, mes, salah, satu, kamar, beach, wing, bagai, muka, bayar, tapi, tiba, kami, diberitahu, bahwa, tidak, ada, ruang, yang, sedia, sehingga, mereka, upgrade, kita, untuk, suite, sekarang, ini, tidak, ada, besar, suite, kami, tiba, cukup, lambat, di, malam, hari, jadi, pagi, hari, ikut, kami, lihat, hanya, satu, keranjang, buah, buah, yang, kita, jejak, dimaem, kami, minta, mereka, untuk, ubah, ini, tapi, itu, tidak, boleh, ubah, adalah, jawab, yang, kita, punya, lalu, di, kamar, mandi, jacuzzi, tidak, kerja, kami, daftar, untuk, makan, dan, pergi, insinyur, datang, dan, di, malam, hari, kami, diberitahu, bahwa, itu, telah, baik, namun, jejak, kerja, pagi, hari, ...]   \n",
       "21315                        [aku, selalu, tinggal, di, minyak, ketika, pergi, ke, bal, aku, tidak, pernah, begitu, kecewa, dalam, layan, mereka, harus, ada, ubah, milik, karena, itu, benar, benar, ramai, dan, tidak, akan, tinggal, di, sana, lagi, kamar, tidak, bersih, atau, siap, ketika, tiba, kami, ubah, kamar, dua, kali, dan, ini, tidak, siap, bahkan, telah, check, ini, di, 2pm, namun, mereka, akan, ganggu, anda, belum, waktu, check, out, untuk, tinggal, mereka, cukup, banyak, biaya, anda, untuk, bernapa, di, tempat, ini, sekarang, yang, juga, kecewa, lambat, check, out, tidak, boleh, tarik, utama, saat, anda, bagai, langgan, tetap, aku, yakin, hotel, legi, akan, cinta, bisnis, saya, ...]   \n",
       "21509  [tidak, senang, dengan, saya, tinggal, sama, sekali, sangat, nanti, untuk, tinggal, di, sini, lama, ulang, tahun, saya, dan, itu, manja, oleh, layan, yang, buruk, dari, periksa, semua, adalah, tentang, uang, kami, makan, di, restoran, pada, malam, hari, dan, saudara, perempuan, saya, lihat, salah, satu, pria, sentuh, makan, dengan, tangan, kotor, ketika, dia, lihat, dia, lihat, dia, dia, dengan, cepat, cuci, mereka, kita, keluh, pada, waktu, itu, tetapi, sudah, bayar, makan, hari, ikut, saudara, perempuan, saya, bangun, karena, sakit, perut, dan, saat, check, out, saya, keluh, lagi, manajer, seperti, tidak, ganggu, walaupun, biaya, makan, kami, hampir, capai, satu, juta, rp, dia, ...]   \n",
       "\n",
       "                                                                                                                                                                                                                                                                                                                                                                                                                                 cleaned  \\\n",
       "678                                                               [kecewa, malam, ubud, alaya, harap, layan, service, logam, alami, kamar, bau, lembab, foisty, pindah, kamar, tunggu, jam, ganti, sedia, 4, 00, kamar, mes, layan, kamar, ambil, jam, dingin, kirim, makan, ganti, ambil, jam, dingin, makan, ganti, milik, olah, microwave, keju, pizza, pergi, runny, pad, thai, milik, titik, panas, mes, minum, kolam, renang, mes]   \n",
       "695                                                                                                                    [suami, 5, malam, alaya, jalan, pasang, ubud, mes, lihat, mewah, harap, buruk, rekomendasi, cari, beda, alas, poin, plus, lokasi, jalan, kaki, monkey, forest, ubud, pusat, pasar, nilai, uang, nilai, uang, ukur, kamar, harga, layak, khusus, banding, tawar, kamar, deluxe, ukur, kamar, mandi, khusus, tanam]   \n",
       "922                                                [mes, expedia, alaya, ubud, november, 2016, kamar, konfirmasi, jamin, sayang, alaya, dorong, jamin, 2, april, 3, jam, pagi, ajar, reservasi, modifikasi, check, tanggal, 4, april, kamar, sedia, akomodasi, tugas, memberitahu, ubah, tanggal, pindah, asumsi, salah, expedia, untung, bantu, sopir, shuttle, tugas, cari, sedia, hubung, alaya, ubud, 9, jam, lihat, situasi, layan]   \n",
       "942                                                                                        [alas, kamar, indah, orang, orang, kerja, indah, henti, komunikasi, lambat, lalai, tinggal, tenang, arti, jalan, ubud, bandara, blokir, bawa, 3, 5, jam, paksa, tinggal, rencana, arti, orang, orang, tinggal, orang, orang, tidur, rumput, kelompok, 20, tamu, keras, anak, anak, ambil, alih, kolam, renang, resepsionis, 12, orang, keluh]   \n",
       "1121                                                                                                                                                                                                                                                                     [alaya, saji, pusat, kota, sibuk, ubud, laku, pelihara, kolam, renang, konyol, 2, november, indak, tim, kebun, whipper, snipppering, pagi, damai, temu, pindah]   \n",
       "...                                                                                                                                                                                                                                                                                                                                                                                                                                  ...   \n",
       "21117                                               [layan, langgan, lepas, tunggu, jam, sinar, matahari, masuk, kamar, suka, kamar, malam, botol, teh, herbal, manis, kamar, mandi, indah, produk, kamar, mandi, pantai, kolam, renang, duduk, tonton, pergi, dagang, orang, orang, tonton, sarap, mes, makan, menu, panas, milik, taman, takjub, terima, kasih, tukang, kebun, ramah, ulang, kue, sarap, nyanyi, lagu, selamat, ulang]   \n",
       "21167  [coba, suka, coba, suka, 10pm, tur, singkat, daerah, sarap, lobi, daerah, mesin, atm, tinggal, lihat, orang, penuh, tur, lokasi, tinggal, garden, wing, ambil, kereta, golf, seberang, jalan, sibuk, kali, aman, pintu, masuk, dinding, buka, kamar, letak, lantai, dasar, milik, balkon, seberang, kamar, buah, paviliun, tinggal, cahaya, alami, kamar, gelap, lampu, utama, kamar, dinding, lampu, lampu, cahaya, rang, kamar]   \n",
       "21281                                                                                         [mes, salah, kamar, beach, wing, muka, bayar, diberitahu, ruang, sedia, upgrade, suite, suite, lambat, malam, pagi, lihat, keranjang, buah, buah, jejak, dimaem, ubah, ubah, kamar, mandi, jacuzzi, kerja, daftar, makan, pergi, insinyur, malam, diberitahu, jejak, kerja, pagi, putus, check, out, pilih, abai, tinggal, suasana, bosan]   \n",
       "21315                                                                                                                                                                                [tinggal, minyak, pergi, kecewa, layan, ubah, milik, ramai, tinggal, kamar, bersih, ubah, kamar, kali, check, 2pm, ganggu, check, out, tinggal, biaya, bernapa, kecewa, lambat, check, out, tarik, utama, langgan, legi, cinta, bisnis, 5, 6, kali]   \n",
       "21509                                                      [senang, tinggal, tinggal, ulang, manja, layan, buruk, periksa, uang, makan, restoran, malam, saudara, perempuan, lihat, salah, pria, sentuh, makan, tangan, kotor, lihat, lihat, cepat, cuci, keluh, bayar, makan, saudara, perempuan, bangun, sakit, perut, check, out, keluh, manajer, ganggu, biaya, makan, capai, juta, rp, ambil, sarap, apung, harga, 200, 000, tagih]   \n",
       "\n",
       "                                                                                                                                                                                                                                                                                                                                                                        final  \n",
       "678                                                          kecewa malam ubud alaya harap layan service logam alami kamar bau lembab foisty pindah kamar tunggu jam ganti sedia 4 00 kamar mes layan kamar ambil jam dingin kirim makan ganti ambil jam dingin makan ganti milik olah microwave keju pizza pergi runny pad thai milik titik panas mes minum kolam renang mes  \n",
       "695                                                                                                      suami 5 malam alaya jalan pasang ubud mes lihat mewah harap buruk rekomendasi cari beda alas poin plus lokasi jalan kaki monkey forest ubud pusat pasar nilai uang nilai uang ukur kamar harga layak khusus banding tawar kamar deluxe ukur kamar mandi khusus tanam  \n",
       "922                                         mes expedia alaya ubud november 2016 kamar konfirmasi jamin sayang alaya dorong jamin 2 april 3 jam pagi ajar reservasi modifikasi check tanggal 4 april kamar sedia akomodasi tugas memberitahu ubah tanggal pindah asumsi salah expedia untung bantu sopir shuttle tugas cari sedia hubung alaya ubud 9 jam lihat situasi layan  \n",
       "942                                                                             alas kamar indah orang orang kerja indah henti komunikasi lambat lalai tinggal tenang arti jalan ubud bandara blokir bawa 3 5 jam paksa tinggal rencana arti orang orang tinggal orang orang tidur rumput kelompok 20 tamu keras anak anak ambil alih kolam renang resepsionis 12 orang keluh  \n",
       "1121                                                                                                                                                                                                                                 alaya saji pusat kota sibuk ubud laku pelihara kolam renang konyol 2 november indak tim kebun whipper snipppering pagi damai temu pindah  \n",
       "...                                                                                                                                                                                                                                                                                                                                                                       ...  \n",
       "21117                                         layan langgan lepas tunggu jam sinar matahari masuk kamar suka kamar malam botol teh herbal manis kamar mandi indah produk kamar mandi pantai kolam renang duduk tonton pergi dagang orang orang tonton sarap mes makan menu panas milik taman takjub terima kasih tukang kebun ramah ulang kue sarap nyanyi lagu selamat ulang  \n",
       "21167  coba suka coba suka 10pm tur singkat daerah sarap lobi daerah mesin atm tinggal lihat orang penuh tur lokasi tinggal garden wing ambil kereta golf seberang jalan sibuk kali aman pintu masuk dinding buka kamar letak lantai dasar milik balkon seberang kamar buah paviliun tinggal cahaya alami kamar gelap lampu utama kamar dinding lampu lampu cahaya rang kamar  \n",
       "21281                                                                            mes salah kamar beach wing muka bayar diberitahu ruang sedia upgrade suite suite lambat malam pagi lihat keranjang buah buah jejak dimaem ubah ubah kamar mandi jacuzzi kerja daftar makan pergi insinyur malam diberitahu jejak kerja pagi putus check out pilih abai tinggal suasana bosan  \n",
       "21315                                                                                                                                                         tinggal minyak pergi kecewa layan ubah milik ramai tinggal kamar bersih ubah kamar kali check 2pm ganggu check out tinggal biaya bernapa kecewa lambat check out tarik utama langgan legi cinta bisnis 5 6 kali  \n",
       "21509                                              senang tinggal tinggal ulang manja layan buruk periksa uang makan restoran malam saudara perempuan lihat salah pria sentuh makan tangan kotor lihat lihat cepat cuci keluh bayar makan saudara perempuan bangun sakit perut check out keluh manajer ganggu biaya makan capai juta rp ambil sarap apung harga 200 000 tagih  \n",
       "\n",
       "[369 rows x 7 columns]"
      ]
     },
     "execution_count": 46,
     "metadata": {},
     "output_type": "execute_result"
    }
   ],
   "source": [
    "hotel_df.loc[final_text['stars'] == 2]"
   ]
  },
  {
   "cell_type": "markdown",
   "metadata": {},
   "source": [
    "## 6. Clustering & Elbow Method"
   ]
  },
  {
   "cell_type": "markdown",
   "metadata": {},
   "source": [
    "## 7. Topic Modeling with NMF, LDA, K-Means Clustering"
   ]
  }
 ],
 "metadata": {
  "colab": {
   "authorship_tag": "ABX9TyPDs9WmfCyEQOD8C2O9ZmAQ",
   "name": "",
   "version": ""
  },
  "kernelspec": {
   "display_name": "Python 3 (ipykernel)",
   "language": "python",
   "name": "python3"
  },
  "language_info": {
   "codemirror_mode": {
    "name": "ipython",
    "version": 3
   },
   "file_extension": ".py",
   "mimetype": "text/x-python",
   "name": "python",
   "nbconvert_exporter": "python",
   "pygments_lexer": "ipython3",
   "version": "3.7.16"
  }
 },
 "nbformat": 4,
 "nbformat_minor": 1
}
