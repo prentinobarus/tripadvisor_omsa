{
 "cells": [
  {
   "cell_type": "code",
   "execution_count": 171,
   "id": "c5083450",
   "metadata": {
    "ExecuteTime": {
     "end_time": "2023-05-24T05:04:31.695893Z",
     "start_time": "2023-05-24T05:04:31.676491Z"
    }
   },
   "outputs": [],
   "source": [
    "import pandas as pd\n",
    "import re"
   ]
  },
  {
   "cell_type": "code",
   "execution_count": 172,
   "id": "437c01eb",
   "metadata": {
    "ExecuteTime": {
     "end_time": "2023-05-24T05:04:31.837004Z",
     "start_time": "2023-05-24T05:04:31.828990Z"
    }
   },
   "outputs": [],
   "source": [
    "pd.set_option('display.max_colwidth', None)"
   ]
  },
  {
   "cell_type": "code",
   "execution_count": 213,
   "id": "c59a6716",
   "metadata": {
    "ExecuteTime": {
     "end_time": "2023-05-24T05:05:40.661400Z",
     "start_time": "2023-05-24T05:05:40.623566Z"
    }
   },
   "outputs": [],
   "source": [
    "df = pd.read_csv('tripadvisor_hotel.csv')"
   ]
  },
  {
   "cell_type": "code",
   "execution_count": 214,
   "id": "de619a44",
   "metadata": {
    "ExecuteTime": {
     "end_time": "2023-05-24T05:05:40.785580Z",
     "start_time": "2023-05-24T05:05:40.742436Z"
    }
   },
   "outputs": [],
   "source": [
    "df = df.drop(columns=['web-scraper-order', 'web-scraper-start-url', 'pagination'])"
   ]
  },
  {
   "cell_type": "code",
   "execution_count": 215,
   "id": "a2f9c336",
   "metadata": {
    "ExecuteTime": {
     "end_time": "2023-05-24T05:05:40.926667Z",
     "start_time": "2023-05-24T05:05:40.906715Z"
    }
   },
   "outputs": [
    {
     "data": {
      "text/html": [
       "<div>\n",
       "<style scoped>\n",
       "    .dataframe tbody tr th:only-of-type {\n",
       "        vertical-align: middle;\n",
       "    }\n",
       "\n",
       "    .dataframe tbody tr th {\n",
       "        vertical-align: top;\n",
       "    }\n",
       "\n",
       "    .dataframe thead th {\n",
       "        text-align: right;\n",
       "    }\n",
       "</style>\n",
       "<table border=\"1\" class=\"dataframe\">\n",
       "  <thead>\n",
       "    <tr style=\"text-align: right;\">\n",
       "      <th></th>\n",
       "      <th>hotel_link</th>\n",
       "      <th>hotel_link-href</th>\n",
       "      <th>review_count</th>\n",
       "    </tr>\n",
       "  </thead>\n",
       "  <tbody>\n",
       "    <tr>\n",
       "      <th>0</th>\n",
       "      <td>3001. New Ubud Hostel</td>\n",
       "      <td>https://www.tripadvisor.co.id/Hotel_Review-g297701-d12075158-Reviews-New_Ubud_Hostel-Ubud_Gianyar_Regency_Bali.html</td>\n",
       "      <td>18 ulasan</td>\n",
       "    </tr>\n",
       "    <tr>\n",
       "      <th>1</th>\n",
       "      <td>3002. Bali Jungle Huts</td>\n",
       "      <td>https://www.tripadvisor.co.id/Hotel_Review-g608497-d12383462-Reviews-Bali_Jungle_Huts-Tegalalang_Gianyar_Regency_Bali.html</td>\n",
       "      <td>23 ulasan</td>\n",
       "    </tr>\n",
       "    <tr>\n",
       "      <th>2</th>\n",
       "      <td>3003. Lushy Hostel</td>\n",
       "      <td>https://www.tripadvisor.co.id/Hotel_Review-g5323528-d23380073-Reviews-Lushy_Hostel-Pererenan_Canggu_North_Kuta_Bali.html</td>\n",
       "      <td>8 ulasan</td>\n",
       "    </tr>\n",
       "    <tr>\n",
       "      <th>3</th>\n",
       "      <td>3004. Villa Del Mar Canggu</td>\n",
       "      <td>https://www.tripadvisor.co.id/Hotel_Review-g311298-d17564121-Reviews-Villa_Del_Mar_Canggu-Canggu_North_Kuta_Bali.html</td>\n",
       "      <td>9 ulasan</td>\n",
       "    </tr>\n",
       "    <tr>\n",
       "      <th>4</th>\n",
       "      <td>3005. Ode Hostel</td>\n",
       "      <td>https://www.tripadvisor.co.id/Hotel_Review-g297701-d8706824-Reviews-Ode_Hostel-Ubud_Gianyar_Regency_Bali.html</td>\n",
       "      <td>37 ulasan</td>\n",
       "    </tr>\n",
       "    <tr>\n",
       "      <th>...</th>\n",
       "      <td>...</td>\n",
       "      <td>...</td>\n",
       "      <td>...</td>\n",
       "    </tr>\n",
       "    <tr>\n",
       "      <th>3025</th>\n",
       "      <td>56. Hideaway Villas Bali Uluwatu</td>\n",
       "      <td>https://www.tripadvisor.co.id/Hotel_Review-g1380108-d9459085-Reviews-Hideaway_Villas_Bali_Uluwatu-Pecatu_Bukit_Peninsula_Bali.html</td>\n",
       "      <td>491 ulasan</td>\n",
       "    </tr>\n",
       "    <tr>\n",
       "      <th>3026</th>\n",
       "      <td>57. Atanaya Hotel</td>\n",
       "      <td>https://www.tripadvisor.co.id/Hotel_Review-g297697-d3535072-Reviews-Atanaya_Hotel-Kuta_Kuta_District_Bali.html</td>\n",
       "      <td>1.056 ulasan</td>\n",
       "    </tr>\n",
       "    <tr>\n",
       "      <th>3027</th>\n",
       "      <td>58. The Garcia Ubud</td>\n",
       "      <td>https://www.tripadvisor.co.id/Hotel_Review-g3388764-d19717565-Reviews-The_Garcia_Ubud-Lodtunduh_Ubud_Gianyar_Regency_Bali.html</td>\n",
       "      <td>97 ulasan</td>\n",
       "    </tr>\n",
       "    <tr>\n",
       "      <th>3028</th>\n",
       "      <td>59. Hilton Garden Inn Bali Ngurah Rai Airport</td>\n",
       "      <td>https://www.tripadvisor.co.id/Hotel_Review-g562690-d6937596-Reviews-Hilton_Garden_Inn_Bali_Ngurah_Rai_Airport-Tuban_Kuta_Kuta_District_Bali.html</td>\n",
       "      <td>1.276 ulasan</td>\n",
       "    </tr>\n",
       "    <tr>\n",
       "      <th>3029</th>\n",
       "      <td>60. EDEN Hotel Kuta Bali</td>\n",
       "      <td>https://www.tripadvisor.co.id/Hotel_Review-g297697-d4107186-Reviews-EDEN_Hotel_Kuta_Bali-Kuta_Kuta_District_Bali.html</td>\n",
       "      <td>1.913 ulasan</td>\n",
       "    </tr>\n",
       "  </tbody>\n",
       "</table>\n",
       "<p>3030 rows × 3 columns</p>\n",
       "</div>"
      ],
      "text/plain": [
       "                                         hotel_link  \\\n",
       "0                             3001. New Ubud Hostel   \n",
       "1                            3002. Bali Jungle Huts   \n",
       "2                                3003. Lushy Hostel   \n",
       "3                        3004. Villa Del Mar Canggu   \n",
       "4                                  3005. Ode Hostel   \n",
       "...                                             ...   \n",
       "3025               56. Hideaway Villas Bali Uluwatu   \n",
       "3026                              57. Atanaya Hotel   \n",
       "3027                            58. The Garcia Ubud   \n",
       "3028  59. Hilton Garden Inn Bali Ngurah Rai Airport   \n",
       "3029                       60. EDEN Hotel Kuta Bali   \n",
       "\n",
       "                                                                                                                                       hotel_link-href  \\\n",
       "0                                  https://www.tripadvisor.co.id/Hotel_Review-g297701-d12075158-Reviews-New_Ubud_Hostel-Ubud_Gianyar_Regency_Bali.html   \n",
       "1                           https://www.tripadvisor.co.id/Hotel_Review-g608497-d12383462-Reviews-Bali_Jungle_Huts-Tegalalang_Gianyar_Regency_Bali.html   \n",
       "2                             https://www.tripadvisor.co.id/Hotel_Review-g5323528-d23380073-Reviews-Lushy_Hostel-Pererenan_Canggu_North_Kuta_Bali.html   \n",
       "3                                https://www.tripadvisor.co.id/Hotel_Review-g311298-d17564121-Reviews-Villa_Del_Mar_Canggu-Canggu_North_Kuta_Bali.html   \n",
       "4                                        https://www.tripadvisor.co.id/Hotel_Review-g297701-d8706824-Reviews-Ode_Hostel-Ubud_Gianyar_Regency_Bali.html   \n",
       "...                                                                                                                                                ...   \n",
       "3025                https://www.tripadvisor.co.id/Hotel_Review-g1380108-d9459085-Reviews-Hideaway_Villas_Bali_Uluwatu-Pecatu_Bukit_Peninsula_Bali.html   \n",
       "3026                                    https://www.tripadvisor.co.id/Hotel_Review-g297697-d3535072-Reviews-Atanaya_Hotel-Kuta_Kuta_District_Bali.html   \n",
       "3027                    https://www.tripadvisor.co.id/Hotel_Review-g3388764-d19717565-Reviews-The_Garcia_Ubud-Lodtunduh_Ubud_Gianyar_Regency_Bali.html   \n",
       "3028  https://www.tripadvisor.co.id/Hotel_Review-g562690-d6937596-Reviews-Hilton_Garden_Inn_Bali_Ngurah_Rai_Airport-Tuban_Kuta_Kuta_District_Bali.html   \n",
       "3029                             https://www.tripadvisor.co.id/Hotel_Review-g297697-d4107186-Reviews-EDEN_Hotel_Kuta_Bali-Kuta_Kuta_District_Bali.html   \n",
       "\n",
       "      review_count  \n",
       "0        18 ulasan  \n",
       "1        23 ulasan  \n",
       "2         8 ulasan  \n",
       "3         9 ulasan  \n",
       "4        37 ulasan  \n",
       "...            ...  \n",
       "3025    491 ulasan  \n",
       "3026  1.056 ulasan  \n",
       "3027     97 ulasan  \n",
       "3028  1.276 ulasan  \n",
       "3029  1.913 ulasan  \n",
       "\n",
       "[3030 rows x 3 columns]"
      ]
     },
     "execution_count": 215,
     "metadata": {},
     "output_type": "execute_result"
    }
   ],
   "source": [
    "df"
   ]
  },
  {
   "cell_type": "code",
   "execution_count": 216,
   "id": "272106bb",
   "metadata": {
    "ExecuteTime": {
     "end_time": "2023-05-24T05:05:41.068231Z",
     "start_time": "2023-05-24T05:05:41.056264Z"
    },
    "scrolled": false
   },
   "outputs": [],
   "source": [
    "def toInt(number):\n",
    "    x = re.findall(\"\\d\", number)\n",
    "    return ''.join(x)"
   ]
  },
  {
   "cell_type": "code",
   "execution_count": 217,
   "id": "9ffa6d5f",
   "metadata": {
    "ExecuteTime": {
     "end_time": "2023-05-24T05:05:41.224113Z",
     "start_time": "2023-05-24T05:05:41.205168Z"
    }
   },
   "outputs": [],
   "source": [
    "def removeNumber(hotel_name):\n",
    "    x = re.sub('[0-99][0-99]', '', hotel_name)\n",
    "    return x[2:]"
   ]
  },
  {
   "cell_type": "code",
   "execution_count": 218,
   "id": "d164743d",
   "metadata": {
    "ExecuteTime": {
     "end_time": "2023-05-24T05:05:41.364616Z",
     "start_time": "2023-05-24T05:05:41.346950Z"
    }
   },
   "outputs": [],
   "source": [
    "def makeFilename(hotel_name):\n",
    "    x = re.sub('&', '', hotel_name)\n",
    "    return re.sub(\"\\s\", \"_\", x.lower())[:15]"
   ]
  },
  {
   "cell_type": "code",
   "execution_count": 219,
   "id": "04a2ff98",
   "metadata": {
    "ExecuteTime": {
     "end_time": "2023-05-24T05:05:41.519764Z",
     "start_time": "2023-05-24T05:05:41.503806Z"
    }
   },
   "outputs": [],
   "source": [
    "def startLink(hotel_link):\n",
    "    x = re.sub('Reviews', 'Reviews-or5', hotel_link)\n",
    "    return x"
   ]
  },
  {
   "cell_type": "code",
   "execution_count": 220,
   "id": "213aa239",
   "metadata": {
    "ExecuteTime": {
     "end_time": "2023-05-24T05:05:41.676009Z",
     "start_time": "2023-05-24T05:05:41.657095Z"
    }
   },
   "outputs": [],
   "source": [
    "df['hotel_link'] = df['hotel_link'].apply(removeNumber)"
   ]
  },
  {
   "cell_type": "code",
   "execution_count": 221,
   "id": "3af18ba3",
   "metadata": {
    "ExecuteTime": {
     "end_time": "2023-05-24T05:05:41.832855Z",
     "start_time": "2023-05-24T05:05:41.811793Z"
    }
   },
   "outputs": [],
   "source": [
    "df['hotel_name'] = df['hotel_link'].apply(makeFilename)"
   ]
  },
  {
   "cell_type": "code",
   "execution_count": 222,
   "id": "d08b9502",
   "metadata": {
    "ExecuteTime": {
     "end_time": "2023-05-24T05:05:41.987931Z",
     "start_time": "2023-05-24T05:05:41.970973Z"
    }
   },
   "outputs": [],
   "source": [
    "df['review_count'] = df['review_count'].apply(toInt).astype(int)"
   ]
  },
  {
   "cell_type": "code",
   "execution_count": 223,
   "id": "0a0de06f",
   "metadata": {
    "ExecuteTime": {
     "end_time": "2023-05-24T05:05:42.453074Z",
     "start_time": "2023-05-24T05:05:42.427939Z"
    }
   },
   "outputs": [],
   "source": [
    "df['hotel_link-href'] = df['hotel_link-href'].apply(startLink)"
   ]
  },
  {
   "cell_type": "code",
   "execution_count": 224,
   "id": "b5cf6792",
   "metadata": {
    "ExecuteTime": {
     "end_time": "2023-05-24T05:05:42.793583Z",
     "start_time": "2023-05-24T05:05:42.772953Z"
    }
   },
   "outputs": [
    {
     "data": {
      "text/html": [
       "<div>\n",
       "<style scoped>\n",
       "    .dataframe tbody tr th:only-of-type {\n",
       "        vertical-align: middle;\n",
       "    }\n",
       "\n",
       "    .dataframe tbody tr th {\n",
       "        vertical-align: top;\n",
       "    }\n",
       "\n",
       "    .dataframe thead th {\n",
       "        text-align: right;\n",
       "    }\n",
       "</style>\n",
       "<table border=\"1\" class=\"dataframe\">\n",
       "  <thead>\n",
       "    <tr style=\"text-align: right;\">\n",
       "      <th></th>\n",
       "      <th>hotel_link</th>\n",
       "      <th>hotel_link-href</th>\n",
       "      <th>review_count</th>\n",
       "      <th>hotel_name</th>\n",
       "    </tr>\n",
       "  </thead>\n",
       "  <tbody>\n",
       "    <tr>\n",
       "      <th>0</th>\n",
       "      <td>New Ubud Hostel</td>\n",
       "      <td>https://www.tripadvisor.co.id/Hotel_Review-g297701-d12075158-Reviews-or5-New_Ubud_Hostel-Ubud_Gianyar_Regency_Bali.html</td>\n",
       "      <td>18</td>\n",
       "      <td>new_ubud_hostel</td>\n",
       "    </tr>\n",
       "    <tr>\n",
       "      <th>1</th>\n",
       "      <td>Bali Jungle Huts</td>\n",
       "      <td>https://www.tripadvisor.co.id/Hotel_Review-g608497-d12383462-Reviews-or5-Bali_Jungle_Huts-Tegalalang_Gianyar_Regency_Bali.html</td>\n",
       "      <td>23</td>\n",
       "      <td>bali_jungle_hut</td>\n",
       "    </tr>\n",
       "    <tr>\n",
       "      <th>2</th>\n",
       "      <td>Lushy Hostel</td>\n",
       "      <td>https://www.tripadvisor.co.id/Hotel_Review-g5323528-d23380073-Reviews-or5-Lushy_Hostel-Pererenan_Canggu_North_Kuta_Bali.html</td>\n",
       "      <td>8</td>\n",
       "      <td>lushy_hostel</td>\n",
       "    </tr>\n",
       "    <tr>\n",
       "      <th>3</th>\n",
       "      <td>Villa Del Mar Canggu</td>\n",
       "      <td>https://www.tripadvisor.co.id/Hotel_Review-g311298-d17564121-Reviews-or5-Villa_Del_Mar_Canggu-Canggu_North_Kuta_Bali.html</td>\n",
       "      <td>9</td>\n",
       "      <td>villa_del_mar_c</td>\n",
       "    </tr>\n",
       "    <tr>\n",
       "      <th>4</th>\n",
       "      <td>Ode Hostel</td>\n",
       "      <td>https://www.tripadvisor.co.id/Hotel_Review-g297701-d8706824-Reviews-or5-Ode_Hostel-Ubud_Gianyar_Regency_Bali.html</td>\n",
       "      <td>37</td>\n",
       "      <td>ode_hostel</td>\n",
       "    </tr>\n",
       "    <tr>\n",
       "      <th>...</th>\n",
       "      <td>...</td>\n",
       "      <td>...</td>\n",
       "      <td>...</td>\n",
       "      <td>...</td>\n",
       "    </tr>\n",
       "    <tr>\n",
       "      <th>3025</th>\n",
       "      <td>Hideaway Villas Bali Uluwatu</td>\n",
       "      <td>https://www.tripadvisor.co.id/Hotel_Review-g1380108-d9459085-Reviews-or5-Hideaway_Villas_Bali_Uluwatu-Pecatu_Bukit_Peninsula_Bali.html</td>\n",
       "      <td>491</td>\n",
       "      <td>hideaway_villas</td>\n",
       "    </tr>\n",
       "    <tr>\n",
       "      <th>3026</th>\n",
       "      <td>Atanaya Hotel</td>\n",
       "      <td>https://www.tripadvisor.co.id/Hotel_Review-g297697-d3535072-Reviews-or5-Atanaya_Hotel-Kuta_Kuta_District_Bali.html</td>\n",
       "      <td>1056</td>\n",
       "      <td>atanaya_hotel</td>\n",
       "    </tr>\n",
       "    <tr>\n",
       "      <th>3027</th>\n",
       "      <td>The Garcia Ubud</td>\n",
       "      <td>https://www.tripadvisor.co.id/Hotel_Review-g3388764-d19717565-Reviews-or5-The_Garcia_Ubud-Lodtunduh_Ubud_Gianyar_Regency_Bali.html</td>\n",
       "      <td>97</td>\n",
       "      <td>the_garcia_ubud</td>\n",
       "    </tr>\n",
       "    <tr>\n",
       "      <th>3028</th>\n",
       "      <td>Hilton Garden Inn Bali Ngurah Rai Airport</td>\n",
       "      <td>https://www.tripadvisor.co.id/Hotel_Review-g562690-d6937596-Reviews-or5-Hilton_Garden_Inn_Bali_Ngurah_Rai_Airport-Tuban_Kuta_Kuta_District_Bali.html</td>\n",
       "      <td>1276</td>\n",
       "      <td>hilton_garden_i</td>\n",
       "    </tr>\n",
       "    <tr>\n",
       "      <th>3029</th>\n",
       "      <td>EDEN Hotel Kuta Bali</td>\n",
       "      <td>https://www.tripadvisor.co.id/Hotel_Review-g297697-d4107186-Reviews-or5-EDEN_Hotel_Kuta_Bali-Kuta_Kuta_District_Bali.html</td>\n",
       "      <td>1913</td>\n",
       "      <td>eden_hotel_kuta</td>\n",
       "    </tr>\n",
       "  </tbody>\n",
       "</table>\n",
       "<p>3030 rows × 4 columns</p>\n",
       "</div>"
      ],
      "text/plain": [
       "                                     hotel_link  \\\n",
       "0                               New Ubud Hostel   \n",
       "1                              Bali Jungle Huts   \n",
       "2                                  Lushy Hostel   \n",
       "3                          Villa Del Mar Canggu   \n",
       "4                                    Ode Hostel   \n",
       "...                                         ...   \n",
       "3025               Hideaway Villas Bali Uluwatu   \n",
       "3026                              Atanaya Hotel   \n",
       "3027                            The Garcia Ubud   \n",
       "3028  Hilton Garden Inn Bali Ngurah Rai Airport   \n",
       "3029                       EDEN Hotel Kuta Bali   \n",
       "\n",
       "                                                                                                                                           hotel_link-href  \\\n",
       "0                                  https://www.tripadvisor.co.id/Hotel_Review-g297701-d12075158-Reviews-or5-New_Ubud_Hostel-Ubud_Gianyar_Regency_Bali.html   \n",
       "1                           https://www.tripadvisor.co.id/Hotel_Review-g608497-d12383462-Reviews-or5-Bali_Jungle_Huts-Tegalalang_Gianyar_Regency_Bali.html   \n",
       "2                             https://www.tripadvisor.co.id/Hotel_Review-g5323528-d23380073-Reviews-or5-Lushy_Hostel-Pererenan_Canggu_North_Kuta_Bali.html   \n",
       "3                                https://www.tripadvisor.co.id/Hotel_Review-g311298-d17564121-Reviews-or5-Villa_Del_Mar_Canggu-Canggu_North_Kuta_Bali.html   \n",
       "4                                        https://www.tripadvisor.co.id/Hotel_Review-g297701-d8706824-Reviews-or5-Ode_Hostel-Ubud_Gianyar_Regency_Bali.html   \n",
       "...                                                                                                                                                    ...   \n",
       "3025                https://www.tripadvisor.co.id/Hotel_Review-g1380108-d9459085-Reviews-or5-Hideaway_Villas_Bali_Uluwatu-Pecatu_Bukit_Peninsula_Bali.html   \n",
       "3026                                    https://www.tripadvisor.co.id/Hotel_Review-g297697-d3535072-Reviews-or5-Atanaya_Hotel-Kuta_Kuta_District_Bali.html   \n",
       "3027                    https://www.tripadvisor.co.id/Hotel_Review-g3388764-d19717565-Reviews-or5-The_Garcia_Ubud-Lodtunduh_Ubud_Gianyar_Regency_Bali.html   \n",
       "3028  https://www.tripadvisor.co.id/Hotel_Review-g562690-d6937596-Reviews-or5-Hilton_Garden_Inn_Bali_Ngurah_Rai_Airport-Tuban_Kuta_Kuta_District_Bali.html   \n",
       "3029                             https://www.tripadvisor.co.id/Hotel_Review-g297697-d4107186-Reviews-or5-EDEN_Hotel_Kuta_Bali-Kuta_Kuta_District_Bali.html   \n",
       "\n",
       "      review_count       hotel_name  \n",
       "0               18  new_ubud_hostel  \n",
       "1               23  bali_jungle_hut  \n",
       "2                8     lushy_hostel  \n",
       "3                9  villa_del_mar_c  \n",
       "4               37       ode_hostel  \n",
       "...            ...              ...  \n",
       "3025           491  hideaway_villas  \n",
       "3026          1056    atanaya_hotel  \n",
       "3027            97  the_garcia_ubud  \n",
       "3028          1276  hilton_garden_i  \n",
       "3029          1913  eden_hotel_kuta  \n",
       "\n",
       "[3030 rows x 4 columns]"
      ]
     },
     "execution_count": 224,
     "metadata": {},
     "output_type": "execute_result"
    }
   ],
   "source": [
    "df"
   ]
  },
  {
   "cell_type": "code",
   "execution_count": 231,
   "id": "4b95cb45",
   "metadata": {
    "ExecuteTime": {
     "end_time": "2023-05-24T05:23:45.424303Z",
     "start_time": "2023-05-24T05:23:45.415328Z"
    }
   },
   "outputs": [],
   "source": [
    "df = df[df['review_count'] >= 100]"
   ]
  },
  {
   "cell_type": "code",
   "execution_count": 232,
   "id": "e0a9b6aa",
   "metadata": {
    "ExecuteTime": {
     "end_time": "2023-05-24T05:24:52.175755Z",
     "start_time": "2023-05-24T05:24:52.153814Z"
    }
   },
   "outputs": [
    {
     "data": {
      "text/html": [
       "<div>\n",
       "<style scoped>\n",
       "    .dataframe tbody tr th:only-of-type {\n",
       "        vertical-align: middle;\n",
       "    }\n",
       "\n",
       "    .dataframe tbody tr th {\n",
       "        vertical-align: top;\n",
       "    }\n",
       "\n",
       "    .dataframe thead th {\n",
       "        text-align: right;\n",
       "    }\n",
       "</style>\n",
       "<table border=\"1\" class=\"dataframe\">\n",
       "  <thead>\n",
       "    <tr style=\"text-align: right;\">\n",
       "      <th></th>\n",
       "      <th>hotel_link</th>\n",
       "      <th>hotel_link-href</th>\n",
       "      <th>review_count</th>\n",
       "      <th>hotel_name</th>\n",
       "    </tr>\n",
       "  </thead>\n",
       "  <tbody>\n",
       "    <tr>\n",
       "      <th>43</th>\n",
       "      <td>Munduk Sari Nature &amp; Garden Villa</td>\n",
       "      <td>https://www.tripadvisor.co.id/Hotel_Review-g608490-d1163439-Reviews-or5-Munduk_Sari_Nature_Garden_Villa-Munduk_Banjar_Buleleng_Regency_Bali.html</td>\n",
       "      <td>129</td>\n",
       "      <td>munduk_sari_nat</td>\n",
       "    </tr>\n",
       "    <tr>\n",
       "      <th>45</th>\n",
       "      <td>Bayad Ubud Bali Villa</td>\n",
       "      <td>https://www.tripadvisor.co.id/Hotel_Review-g608492-d2309358-Reviews-or5-Bayad_Ubud_Bali_Villa-Payangan_Gianyar_Regency_Bali.html</td>\n",
       "      <td>136</td>\n",
       "      <td>bayad_ubud_bali</td>\n",
       "    </tr>\n",
       "    <tr>\n",
       "      <th>62</th>\n",
       "      <td>Batur Mountain View</td>\n",
       "      <td>https://www.tripadvisor.co.id/Hotel_Review-g303952-d3586078-Reviews-or5-Batur_Mountain_View-Kintamani_Bangli_Bali.html</td>\n",
       "      <td>133</td>\n",
       "      <td>batur_mountain_</td>\n",
       "    </tr>\n",
       "    <tr>\n",
       "      <th>106</th>\n",
       "      <td>Argasoka Bungalows</td>\n",
       "      <td>https://www.tripadvisor.co.id/Hotel_Review-g297701-d2076497-Reviews-or5-Argasoka_Bungalows-Ubud_Gianyar_Regency_Bali.html</td>\n",
       "      <td>107</td>\n",
       "      <td>argasoka_bungal</td>\n",
       "    </tr>\n",
       "    <tr>\n",
       "      <th>151</th>\n",
       "      <td>Restu Bali Hotel</td>\n",
       "      <td>https://www.tripadvisor.co.id/Hotel_Review-g297697-d656543-Reviews-or5-Restu_Bali_Hotel-Kuta_Kuta_District_Bali.html</td>\n",
       "      <td>128</td>\n",
       "      <td>restu_bali_hote</td>\n",
       "    </tr>\n",
       "    <tr>\n",
       "      <th>...</th>\n",
       "      <td>...</td>\n",
       "      <td>...</td>\n",
       "      <td>...</td>\n",
       "      <td>...</td>\n",
       "    </tr>\n",
       "    <tr>\n",
       "      <th>3024</th>\n",
       "      <td>Bali Garden Beach Resort</td>\n",
       "      <td>https://www.tripadvisor.co.id/Hotel_Review-g297697-d1197452-Reviews-or5-Bali_Garden_Beach_Resort-Kuta_Kuta_District_Bali.html</td>\n",
       "      <td>1999</td>\n",
       "      <td>bali_garden_bea</td>\n",
       "    </tr>\n",
       "    <tr>\n",
       "      <th>3025</th>\n",
       "      <td>Hideaway Villas Bali Uluwatu</td>\n",
       "      <td>https://www.tripadvisor.co.id/Hotel_Review-g1380108-d9459085-Reviews-or5-Hideaway_Villas_Bali_Uluwatu-Pecatu_Bukit_Peninsula_Bali.html</td>\n",
       "      <td>491</td>\n",
       "      <td>hideaway_villas</td>\n",
       "    </tr>\n",
       "    <tr>\n",
       "      <th>3026</th>\n",
       "      <td>Atanaya Hotel</td>\n",
       "      <td>https://www.tripadvisor.co.id/Hotel_Review-g297697-d3535072-Reviews-or5-Atanaya_Hotel-Kuta_Kuta_District_Bali.html</td>\n",
       "      <td>1056</td>\n",
       "      <td>atanaya_hotel</td>\n",
       "    </tr>\n",
       "    <tr>\n",
       "      <th>3028</th>\n",
       "      <td>Hilton Garden Inn Bali Ngurah Rai Airport</td>\n",
       "      <td>https://www.tripadvisor.co.id/Hotel_Review-g562690-d6937596-Reviews-or5-Hilton_Garden_Inn_Bali_Ngurah_Rai_Airport-Tuban_Kuta_Kuta_District_Bali.html</td>\n",
       "      <td>1276</td>\n",
       "      <td>hilton_garden_i</td>\n",
       "    </tr>\n",
       "    <tr>\n",
       "      <th>3029</th>\n",
       "      <td>EDEN Hotel Kuta Bali</td>\n",
       "      <td>https://www.tripadvisor.co.id/Hotel_Review-g297697-d4107186-Reviews-or5-EDEN_Hotel_Kuta_Bali-Kuta_Kuta_District_Bali.html</td>\n",
       "      <td>1913</td>\n",
       "      <td>eden_hotel_kuta</td>\n",
       "    </tr>\n",
       "  </tbody>\n",
       "</table>\n",
       "<p>1299 rows × 4 columns</p>\n",
       "</div>"
      ],
      "text/plain": [
       "                                     hotel_link  \\\n",
       "43            Munduk Sari Nature & Garden Villa   \n",
       "45                        Bayad Ubud Bali Villa   \n",
       "62                          Batur Mountain View   \n",
       "106                          Argasoka Bungalows   \n",
       "151                            Restu Bali Hotel   \n",
       "...                                         ...   \n",
       "3024                   Bali Garden Beach Resort   \n",
       "3025               Hideaway Villas Bali Uluwatu   \n",
       "3026                              Atanaya Hotel   \n",
       "3028  Hilton Garden Inn Bali Ngurah Rai Airport   \n",
       "3029                       EDEN Hotel Kuta Bali   \n",
       "\n",
       "                                                                                                                                           hotel_link-href  \\\n",
       "43        https://www.tripadvisor.co.id/Hotel_Review-g608490-d1163439-Reviews-or5-Munduk_Sari_Nature_Garden_Villa-Munduk_Banjar_Buleleng_Regency_Bali.html   \n",
       "45                        https://www.tripadvisor.co.id/Hotel_Review-g608492-d2309358-Reviews-or5-Bayad_Ubud_Bali_Villa-Payangan_Gianyar_Regency_Bali.html   \n",
       "62                                  https://www.tripadvisor.co.id/Hotel_Review-g303952-d3586078-Reviews-or5-Batur_Mountain_View-Kintamani_Bangli_Bali.html   \n",
       "106                              https://www.tripadvisor.co.id/Hotel_Review-g297701-d2076497-Reviews-or5-Argasoka_Bungalows-Ubud_Gianyar_Regency_Bali.html   \n",
       "151                                   https://www.tripadvisor.co.id/Hotel_Review-g297697-d656543-Reviews-or5-Restu_Bali_Hotel-Kuta_Kuta_District_Bali.html   \n",
       "...                                                                                                                                                    ...   \n",
       "3024                         https://www.tripadvisor.co.id/Hotel_Review-g297697-d1197452-Reviews-or5-Bali_Garden_Beach_Resort-Kuta_Kuta_District_Bali.html   \n",
       "3025                https://www.tripadvisor.co.id/Hotel_Review-g1380108-d9459085-Reviews-or5-Hideaway_Villas_Bali_Uluwatu-Pecatu_Bukit_Peninsula_Bali.html   \n",
       "3026                                    https://www.tripadvisor.co.id/Hotel_Review-g297697-d3535072-Reviews-or5-Atanaya_Hotel-Kuta_Kuta_District_Bali.html   \n",
       "3028  https://www.tripadvisor.co.id/Hotel_Review-g562690-d6937596-Reviews-or5-Hilton_Garden_Inn_Bali_Ngurah_Rai_Airport-Tuban_Kuta_Kuta_District_Bali.html   \n",
       "3029                             https://www.tripadvisor.co.id/Hotel_Review-g297697-d4107186-Reviews-or5-EDEN_Hotel_Kuta_Bali-Kuta_Kuta_District_Bali.html   \n",
       "\n",
       "      review_count       hotel_name  \n",
       "43             129  munduk_sari_nat  \n",
       "45             136  bayad_ubud_bali  \n",
       "62             133  batur_mountain_  \n",
       "106            107  argasoka_bungal  \n",
       "151            128  restu_bali_hote  \n",
       "...            ...              ...  \n",
       "3024          1999  bali_garden_bea  \n",
       "3025           491  hideaway_villas  \n",
       "3026          1056    atanaya_hotel  \n",
       "3028          1276  hilton_garden_i  \n",
       "3029          1913  eden_hotel_kuta  \n",
       "\n",
       "[1299 rows x 4 columns]"
      ]
     },
     "execution_count": 232,
     "metadata": {},
     "output_type": "execute_result"
    }
   ],
   "source": [
    "df"
   ]
  },
  {
   "cell_type": "code",
   "execution_count": 227,
   "id": "533aa6ff",
   "metadata": {
    "ExecuteTime": {
     "end_time": "2023-05-24T05:05:44.683255Z",
     "start_time": "2023-05-24T05:05:44.670290Z"
    }
   },
   "outputs": [],
   "source": [
    "df = df.drop_duplicates()"
   ]
  },
  {
   "cell_type": "code",
   "execution_count": 233,
   "id": "d0468077",
   "metadata": {
    "ExecuteTime": {
     "end_time": "2023-05-24T05:26:54.686177Z",
     "start_time": "2023-05-24T05:26:54.579155Z"
    }
   },
   "outputs": [],
   "source": [
    "df.to_csv('fix_hotel.csv')"
   ]
  },
  {
   "cell_type": "code",
   "execution_count": null,
   "id": "b88c8f9d",
   "metadata": {},
   "outputs": [],
   "source": []
  }
 ],
 "metadata": {
  "kernelspec": {
   "display_name": "Python 3 (ipykernel)",
   "language": "python",
   "name": "python3"
  },
  "language_info": {
   "codemirror_mode": {
    "name": "ipython",
    "version": 3
   },
   "file_extension": ".py",
   "mimetype": "text/x-python",
   "name": "python",
   "nbconvert_exporter": "python",
   "pygments_lexer": "ipython3",
   "version": "3.7.16"
  }
 },
 "nbformat": 4,
 "nbformat_minor": 5
}
