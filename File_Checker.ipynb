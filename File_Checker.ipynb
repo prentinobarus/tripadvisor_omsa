{
 "cells": [
  {
   "cell_type": "code",
   "execution_count": 20,
   "id": "a99674ca",
   "metadata": {
    "ExecuteTime": {
     "end_time": "2023-05-24T19:05:25.609349Z",
     "start_time": "2023-05-24T19:05:24.654667Z"
    },
    "execution": {
     "iopub.execute_input": "2023-05-30T09:32:43.586873Z",
     "iopub.status.busy": "2023-05-30T09:32:43.586873Z",
     "iopub.status.idle": "2023-05-30T09:32:43.602864Z",
     "shell.execute_reply": "2023-05-30T09:32:43.602864Z",
     "shell.execute_reply.started": "2023-05-30T09:32:43.586873Z"
    },
    "tags": []
   },
   "outputs": [],
   "source": [
    "import os\n",
    "import pandas as pd"
   ]
  },
  {
   "cell_type": "code",
   "execution_count": 26,
   "id": "2d5e20ab",
   "metadata": {
    "ExecuteTime": {
     "end_time": "2023-05-24T19:05:26.488121Z",
     "start_time": "2023-05-24T19:05:25.616450Z"
    },
    "execution": {
     "iopub.execute_input": "2023-05-30T09:40:06.248764Z",
     "iopub.status.busy": "2023-05-30T09:40:06.248764Z",
     "iopub.status.idle": "2023-05-30T09:40:06.491959Z",
     "shell.execute_reply": "2023-05-30T09:40:06.491959Z",
     "shell.execute_reply.started": "2023-05-30T09:40:06.248764Z"
    },
    "tags": []
   },
   "outputs": [
    {
     "data": {
      "text/html": [
       "<div>\n",
       "<style scoped>\n",
       "    .dataframe tbody tr th:only-of-type {\n",
       "        vertical-align: middle;\n",
       "    }\n",
       "\n",
       "    .dataframe tbody tr th {\n",
       "        vertical-align: top;\n",
       "    }\n",
       "\n",
       "    .dataframe thead th {\n",
       "        text-align: right;\n",
       "    }\n",
       "</style>\n",
       "<table border=\"1\" class=\"dataframe\">\n",
       "  <thead>\n",
       "    <tr style=\"text-align: right;\">\n",
       "      <th></th>\n",
       "      <th>hotel</th>\n",
       "      <th>hotel_link</th>\n",
       "      <th>review_count</th>\n",
       "      <th>hotel_name</th>\n",
       "    </tr>\n",
       "  </thead>\n",
       "  <tbody>\n",
       "    <tr>\n",
       "      <th>0</th>\n",
       "      <td>The Kampung Ubud Villa</td>\n",
       "      <td>https://www.tripadvisor.co.id/Hotel_Review-g29...</td>\n",
       "      <td>100</td>\n",
       "      <td>the_kampung_ubu</td>\n",
       "    </tr>\n",
       "    <tr>\n",
       "      <th>1</th>\n",
       "      <td>Puri Padi Hotel</td>\n",
       "      <td>https://www.tripadvisor.co.id/Hotel_Review-g29...</td>\n",
       "      <td>100</td>\n",
       "      <td>puri_padi_hotel</td>\n",
       "    </tr>\n",
       "    <tr>\n",
       "      <th>2</th>\n",
       "      <td>Melati Cottages</td>\n",
       "      <td>https://www.tripadvisor.co.id/Hotel_Review-g29...</td>\n",
       "      <td>100</td>\n",
       "      <td>melati_cottages</td>\n",
       "    </tr>\n",
       "    <tr>\n",
       "      <th>3</th>\n",
       "      <td>Gunung Merta Bungalows</td>\n",
       "      <td>https://www.tripadvisor.co.id/Hotel_Review-g29...</td>\n",
       "      <td>100</td>\n",
       "      <td>gunung_merta_bu</td>\n",
       "    </tr>\n",
       "    <tr>\n",
       "      <th>4</th>\n",
       "      <td>The Peacock Inn</td>\n",
       "      <td>https://www.tripadvisor.co.id/Hotel_Review-g29...</td>\n",
       "      <td>100</td>\n",
       "      <td>the_peacock_inn</td>\n",
       "    </tr>\n",
       "    <tr>\n",
       "      <th>...</th>\n",
       "      <td>...</td>\n",
       "      <td>...</td>\n",
       "      <td>...</td>\n",
       "      <td>...</td>\n",
       "    </tr>\n",
       "    <tr>\n",
       "      <th>1284</th>\n",
       "      <td>Bali Mandira Beach Resort &amp; Spa</td>\n",
       "      <td>https://www.tripadvisor.co.id/Hotel_Review-g60...</td>\n",
       "      <td>3919</td>\n",
       "      <td>bali_mandira_be</td>\n",
       "    </tr>\n",
       "    <tr>\n",
       "      <th>1285</th>\n",
       "      <td>Courtyard Bali Seminyak Resort</td>\n",
       "      <td>https://www.tripadvisor.co.id/Hotel_Review-g46...</td>\n",
       "      <td>4110</td>\n",
       "      <td>courtyard_bali_</td>\n",
       "    </tr>\n",
       "    <tr>\n",
       "      <th>1286</th>\n",
       "      <td>W Bali - Seminyak</td>\n",
       "      <td>https://www.tripadvisor.co.id/Hotel_Review-g13...</td>\n",
       "      <td>4803</td>\n",
       "      <td>_w_bali_-_semin</td>\n",
       "    </tr>\n",
       "    <tr>\n",
       "      <th>1287</th>\n",
       "      <td>InterContinental Bali Resort, an IHG Hotel</td>\n",
       "      <td>https://www.tripadvisor.co.id/Hotel_Review-g29...</td>\n",
       "      <td>5105</td>\n",
       "      <td>intercontinenta</td>\n",
       "    </tr>\n",
       "    <tr>\n",
       "      <th>1288</th>\n",
       "      <td>Pullman Bali Legian Beach</td>\n",
       "      <td>https://www.tripadvisor.co.id/Hotel_Review-g60...</td>\n",
       "      <td>5345</td>\n",
       "      <td>_pullman_bali_l</td>\n",
       "    </tr>\n",
       "  </tbody>\n",
       "</table>\n",
       "<p>1289 rows × 4 columns</p>\n",
       "</div>"
      ],
      "text/plain": [
       "                                           hotel  \\\n",
       "0                         The Kampung Ubud Villa   \n",
       "1                                Puri Padi Hotel   \n",
       "2                                Melati Cottages   \n",
       "3                         Gunung Merta Bungalows   \n",
       "4                                The Peacock Inn   \n",
       "...                                          ...   \n",
       "1284             Bali Mandira Beach Resort & Spa   \n",
       "1285              Courtyard Bali Seminyak Resort   \n",
       "1286                           W Bali - Seminyak   \n",
       "1287  InterContinental Bali Resort, an IHG Hotel   \n",
       "1288                   Pullman Bali Legian Beach   \n",
       "\n",
       "                                             hotel_link  review_count  \\\n",
       "0     https://www.tripadvisor.co.id/Hotel_Review-g29...           100   \n",
       "1     https://www.tripadvisor.co.id/Hotel_Review-g29...           100   \n",
       "2     https://www.tripadvisor.co.id/Hotel_Review-g29...           100   \n",
       "3     https://www.tripadvisor.co.id/Hotel_Review-g29...           100   \n",
       "4     https://www.tripadvisor.co.id/Hotel_Review-g29...           100   \n",
       "...                                                 ...           ...   \n",
       "1284  https://www.tripadvisor.co.id/Hotel_Review-g60...          3919   \n",
       "1285  https://www.tripadvisor.co.id/Hotel_Review-g46...          4110   \n",
       "1286  https://www.tripadvisor.co.id/Hotel_Review-g13...          4803   \n",
       "1287  https://www.tripadvisor.co.id/Hotel_Review-g29...          5105   \n",
       "1288  https://www.tripadvisor.co.id/Hotel_Review-g60...          5345   \n",
       "\n",
       "           hotel_name  \n",
       "0     the_kampung_ubu  \n",
       "1     puri_padi_hotel  \n",
       "2     melati_cottages  \n",
       "3     gunung_merta_bu  \n",
       "4     the_peacock_inn  \n",
       "...               ...  \n",
       "1284  bali_mandira_be  \n",
       "1285  courtyard_bali_  \n",
       "1286  _w_bali_-_semin  \n",
       "1287  intercontinenta  \n",
       "1288  _pullman_bali_l  \n",
       "\n",
       "[1289 rows x 4 columns]"
      ]
     },
     "execution_count": 26,
     "metadata": {},
     "output_type": "execute_result"
    }
   ],
   "source": [
    "df = pd.read_excel('fix_hotel.xlsx', sheet_name='fix_hotel')\n",
    "df"
   ]
  },
  {
   "cell_type": "code",
   "execution_count": 27,
   "id": "1a0d240b",
   "metadata": {
    "ExecuteTime": {
     "end_time": "2023-05-24T21:40:38.622569Z",
     "start_time": "2023-05-24T21:40:38.605229Z"
    },
    "execution": {
     "iopub.execute_input": "2023-05-30T09:40:06.667843Z",
     "iopub.status.busy": "2023-05-30T09:40:06.667843Z",
     "iopub.status.idle": "2023-05-30T09:40:06.747786Z",
     "shell.execute_reply": "2023-05-30T09:40:06.747786Z",
     "shell.execute_reply.started": "2023-05-30T09:40:06.667843Z"
    },
    "scrolled": true,
    "tags": []
   },
   "outputs": [
    {
     "name": "stdout",
     "output_type": "stream",
     "text": [
      "0\n"
     ]
    }
   ],
   "source": [
    "count = 0\n",
    "for ind in df.index:\n",
    "    filepath = 'Dataset_1/' + df['hotel_name'][ind]+'.csv'\n",
    "    if not os.path.exists(filepath):\n",
    "        count += 1\n",
    "        print(filepath)\n",
    "        continue\n",
    "print(count)"
   ]
  },
  {
   "cell_type": "code",
   "execution_count": 23,
   "id": "492aeceb-d26d-4fdf-9fbd-ba2d45cb9db1",
   "metadata": {
    "execution": {
     "iopub.execute_input": "2023-05-30T09:38:05.274949Z",
     "iopub.status.busy": "2023-05-30T09:38:05.274949Z",
     "iopub.status.idle": "2023-05-30T09:38:05.402960Z",
     "shell.execute_reply": "2023-05-30T09:38:05.402960Z",
     "shell.execute_reply.started": "2023-05-30T09:38:05.274949Z"
    },
    "tags": []
   },
   "outputs": [
    {
     "data": {
      "text/html": [
       "<div>\n",
       "<style scoped>\n",
       "    .dataframe tbody tr th:only-of-type {\n",
       "        vertical-align: middle;\n",
       "    }\n",
       "\n",
       "    .dataframe tbody tr th {\n",
       "        vertical-align: top;\n",
       "    }\n",
       "\n",
       "    .dataframe thead th {\n",
       "        text-align: right;\n",
       "    }\n",
       "</style>\n",
       "<table border=\"1\" class=\"dataframe\">\n",
       "  <thead>\n",
       "    <tr style=\"text-align: right;\">\n",
       "      <th></th>\n",
       "      <th>hotel</th>\n",
       "      <th>hotel_link</th>\n",
       "      <th>review_count</th>\n",
       "      <th>hotel_name</th>\n",
       "    </tr>\n",
       "  </thead>\n",
       "  <tbody>\n",
       "    <tr>\n",
       "      <th>215</th>\n",
       "      <td>Komodo Garden Bungalow</td>\n",
       "      <td>https://www.tripadvisor.co.id/Hotel_Review-g11...</td>\n",
       "      <td>138</td>\n",
       "      <td>_komodo_garden_</td>\n",
       "    </tr>\n",
       "    <tr>\n",
       "      <th>216</th>\n",
       "      <td>Komodo Garden Bungalow</td>\n",
       "      <td>https://www.tripadvisor.co.id/Hotel_Review-g11...</td>\n",
       "      <td>138</td>\n",
       "      <td>_komodo_garden_</td>\n",
       "    </tr>\n",
       "  </tbody>\n",
       "</table>\n",
       "</div>"
      ],
      "text/plain": [
       "                       hotel  \\\n",
       "215   Komodo Garden Bungalow   \n",
       "216   Komodo Garden Bungalow   \n",
       "\n",
       "                                            hotel_link  review_count  \\\n",
       "215  https://www.tripadvisor.co.id/Hotel_Review-g11...           138   \n",
       "216  https://www.tripadvisor.co.id/Hotel_Review-g11...           138   \n",
       "\n",
       "          hotel_name  \n",
       "215  _komodo_garden_  \n",
       "216  _komodo_garden_  "
      ]
     },
     "execution_count": 23,
     "metadata": {},
     "output_type": "execute_result"
    }
   ],
   "source": [
    "pd.concat(g for _, g in df.groupby(\"hotel\") if len(g) > 1)"
   ]
  },
  {
   "cell_type": "code",
   "execution_count": null,
   "id": "6db0c905-a720-49ba-853f-6d81f1da3bc0",
   "metadata": {},
   "outputs": [],
   "source": []
  }
 ],
 "metadata": {
  "kernelspec": {
   "display_name": "Python 3 (ipykernel)",
   "language": "python",
   "name": "python3"
  },
  "language_info": {
   "codemirror_mode": {
    "name": "ipython",
    "version": 3
   },
   "file_extension": ".py",
   "mimetype": "text/x-python",
   "name": "python",
   "nbconvert_exporter": "python",
   "pygments_lexer": "ipython3",
   "version": "3.7.16"
  }
 },
 "nbformat": 4,
 "nbformat_minor": 5
}
